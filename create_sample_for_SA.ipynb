{
 "cells": [
  {
   "cell_type": "code",
   "execution_count": 3,
   "metadata": {
    "collapsed": true
   },
   "outputs": [],
   "source": [
    "import json\n",
    "from tqdm import tqdm\n",
    "import pandas as pd\n",
    "import re\n",
    "import numpy as np"
   ]
  },
  {
   "cell_type": "code",
   "execution_count": 4,
   "outputs": [],
   "source": [
    "# Load intersection"
   ],
   "metadata": {
    "collapsed": false
   }
  },
  {
   "cell_type": "code",
   "execution_count": 5,
   "outputs": [],
   "source": [
    "path = \"data/dataframes/full_pubs.pkl\"\n",
    "df = pd.read_pickle(path)\n"
   ],
   "metadata": {
    "collapsed": false
   }
  },
  {
   "cell_type": "code",
   "execution_count": 6,
   "outputs": [
    {
     "data": {
      "text/plain": "        PT                                                 AU  \\\n6        J                        Kao, CH; Wang, CC; Wang, HY   \n28       C  Nugra, H; Abad, A; Fuertes, W; Galarraga, F; A...   \n90       J  Peng, YQ; Xiao, YX; Fu, ZT; Dong, YH; Zheng, Y...   \n101      J  Alvarez-de-los-Mozos, E; Renteria-Bilbao, A; D...   \n218      J  Laskurain-Iturbe, I; Arana-Landin, G; Landeta-...   \n...     ..                                                ...   \n1244072  J                          Strengers, Y; Nicholls, L   \n1244214  J                  Kan, MY; Sullivan, O; Gershuny, J   \n1244296  S              Cornwell, B; Gershuny, J; Sullivan, O   \n1244855  J  Abdulcadir, J; Dewaele, R; Firmenich, N; Remui...   \n1245197  J  Raj, A; Dehingia, N; Singh, A; McDougal, L; Mc...   \n\n                                                        AF  \\\n6         Kao, Chih-Han; Wang, Chien-Chih; Wang, Her -Yung   \n28       Nugra, Hugo; Abad, Alejandra; Fuertes, Walter;...   \n90       Peng, Yaoqi; Xiao, Yingxin; Fu, Zetian; Dong, ...   \n101      Alvarez-de-los-Mozos, Esther; Renteria-Bilbao,...   \n218      Laskurain-Iturbe, Iker; Arana-Landin, German; ...   \n...                                                    ...   \n1244072              Strengers, Yolande; Nicholls, Larissa   \n1244214  Kan, Man Yee; Sullivan, Oriel; Gershuny, Jonathan   \n1244296  Cornwell, Benjamin; Gershuny, Jonathan; Sulliv...   \n1244855  Abdulcadir, Jasmine; Dewaele, Romain; Firmenic...   \n1245197  Raj, Anita; Dehingia, Nabamallika; Singh, Abhi...   \n\n                                                        TI  \\\n6        A neural-based predictive model of the compres...   \n28       A Low-cost IoT Application for the Urban Traff...   \n90       Precision irrigation perspectives on the susta...   \n101      WEEE Recycling and Circular Economy Assisted b...   \n218      Exploring the influence of industry 4.0 techno...   \n...                                                    ...   \n1244072  Aesthetic pleasures and gendered tech-work in ...   \n1244214  Gender Convergence in Domestic Work: Discernin...   \n1244296  The Social Structure of Time: Emerging Trends ...   \n1244855  In Vivo Imaging-Based 3-Dimensional Pelvic Pro...   \n1245197  Application of machine learning to understand ...   \n\n                                                        SO  \\\n6                                   COMPUTERS AND CONCRETE   \n28       2016 IEEE/ACM 20TH INTERNATIONAL SYMPOSIUM ON ...   \n90                           JOURNAL OF CLEANER PRODUCTION   \n101                                 APPLIED SCIENCES-BASEL   \n218                          JOURNAL OF CLEANER PRODUCTION   \n...                                                    ...   \n1244072                      MEDIA INTERNATIONAL AUSTRALIA   \n1244214  SOCIOLOGY-THE JOURNAL OF THE BRITISH SOCIOLOGI...   \n1244296                 ANNUAL REVIEW OF SOCIOLOGY, VOL 45   \n1244855                         JOURNAL OF SEXUAL MEDICINE   \n1245197                              SSM-POPULATION HEALTH   \n\n                            DT  \\\n6                      Article   \n28           Proceedings Paper   \n90                     Article   \n101                    Article   \n218                    Article   \n...                        ...   \n1244072                Article   \n1244214                Article   \n1244296  Article; Book Chapter   \n1244855                Article   \n1245197                Article   \n\n                                                        DE  \\\n6        waste LCD concrete; compressive strength; back...   \n28       Congestion of vehicular traffic; Wireless Sens...   \n90       Field crop; Water demand prediction; Irrigatio...   \n101      human-robot collaboration; collaborative robot...   \n218      Industry 4; 0; Circular economy; Literature re...   \n...                                                    ...   \n1244072  aesthetics; digital housekeeping; gender; hous...   \n1244214        domestic work; gender convergence; time use   \n1244296  time use; time allocation; gender division of ...   \n1244855  Clitoris; Penis; Female Genital Mutilation; Se...   \n1245197            Child marriage; Machine learning; India   \n\n                                                        ID  \\\n6                        MECHANICAL-PROPERTIES; REGRESSION   \n28                                INTERNET; SYSTEM; THINGS   \n90       REGRESSION-MODEL; DRIP IRRIGATION; NEURAL-NETW...   \n101                              ELECTRONIC EQUIPMENT WEEE   \n218      SMART PRODUCTION; SUSTAINABILITY; CHALLENGES; ...   \n...                                                    ...   \n1244072                                                NaN   \n1244214           WELFARE-STATE; TIME-USE; CONTEXT; EQUITY   \n1244296  PARENTS INVESTING LESS; DIVISION-OF-LABOR; CHI...   \n1244855  ANI MUSCLE SUBDIVISIONS; GENITAL MUTILATION; F...   \n1245197  HEALTH; ASSOCIATION; INTERVENTIONS; MORTALITY;...   \n\n                                                        AB  \\\n6        The Taiwanese liquid crystal display (LCD) ind...   \n28       Congestion of vehicular traffic in the cities ...   \n90       There is a global shortage of fresh water to m...   \n101      Considering the amount of waste of electrical ...   \n218      In the last decade, both Industry 4.0 technolo...   \n...                                                    ...   \n1244072  This article analyses visions of everyday life...   \n1244214  Cross-national trends in paid and unpaid work ...   \n1244296  Research on time use has seen several major de...   \n1244855  Background: Myths, misconceptions, and taboos ...   \n1245197  Background: Prior research documents that Indi...   \n\n                                                        C1  ...  SDG15  SDG16  \\\n6        [Kao, Chih-Han] Natl Quemoy Univ, Dept Civil E...  ...   True  False   \n28       [Nugra, Hugo; Abad, Alejandra; Fuertes, Walter...  ...  False  False   \n90       [Peng, Yaoqi; Xiao, Yingxin; Fu, Zetian; Dong,...  ...  False  False   \n101      [Alvarez-de-los-Mozos, Esther; Diaz-Martin, Fe...  ...  False  False   \n218      [Laskurain-Iturbe, Iker; Arana-Landin, German]...  ...  False  False   \n...                                                    ...  ...    ...    ...   \n1244072  [Strengers, Yolande; Nicholls, Larissa] RMIT U...  ...  False  False   \n1244214  [Kan, Man Yee; Sullivan, Oriel] Univ Oxford, D...  ...  False  False   \n1244296  [Cornwell, Benjamin] Cornell Univ, Dept Sociol...  ...  False  False   \n1244855  [Abdulcadir, Jasmine; Petignat, Patrick] Genev...  ...  False  False   \n1245197  [Raj, Anita; Dehingia, Nabamallika; McDougal, ...  ...  False  False   \n\n         SDG17  additive_manufacturing     AI  big_data blockchain  \\\n6        False                   False   True     False      False   \n28       False                   False   True     False      False   \n90       False                   False   True     False      False   \n101      False                   False  False     False      False   \n218      False                    True   True      True      False   \n...        ...                     ...    ...       ...        ...   \n1244072  False                   False  False     False      False   \n1244214  False                   False  False      True      False   \n1244296  False                   False  False     False      False   \n1244855  False                    True  False     False      False   \n1245197  False                   False   True     False      False   \n\n        computing_infrastructure    IOT robotics  \n6                          False  False    False  \n28                         False  False    False  \n90                         False  False    False  \n101                        False  False     True  \n218                        False   True     True  \n...                          ...    ...      ...  \n1244072                    False   True    False  \n1244214                    False  False    False  \n1244296                    False   True    False  \n1244855                    False  False    False  \n1245197                    False  False    False  \n\n[53494 rows x 52 columns]",
      "text/html": "<div>\n<style scoped>\n    .dataframe tbody tr th:only-of-type {\n        vertical-align: middle;\n    }\n\n    .dataframe tbody tr th {\n        vertical-align: top;\n    }\n\n    .dataframe thead th {\n        text-align: right;\n    }\n</style>\n<table border=\"1\" class=\"dataframe\">\n  <thead>\n    <tr style=\"text-align: right;\">\n      <th></th>\n      <th>PT</th>\n      <th>AU</th>\n      <th>AF</th>\n      <th>TI</th>\n      <th>SO</th>\n      <th>DT</th>\n      <th>DE</th>\n      <th>ID</th>\n      <th>AB</th>\n      <th>C1</th>\n      <th>...</th>\n      <th>SDG15</th>\n      <th>SDG16</th>\n      <th>SDG17</th>\n      <th>additive_manufacturing</th>\n      <th>AI</th>\n      <th>big_data</th>\n      <th>blockchain</th>\n      <th>computing_infrastructure</th>\n      <th>IOT</th>\n      <th>robotics</th>\n    </tr>\n  </thead>\n  <tbody>\n    <tr>\n      <th>6</th>\n      <td>J</td>\n      <td>Kao, CH; Wang, CC; Wang, HY</td>\n      <td>Kao, Chih-Han; Wang, Chien-Chih; Wang, Her -Yung</td>\n      <td>A neural-based predictive model of the compres...</td>\n      <td>COMPUTERS AND CONCRETE</td>\n      <td>Article</td>\n      <td>waste LCD concrete; compressive strength; back...</td>\n      <td>MECHANICAL-PROPERTIES; REGRESSION</td>\n      <td>The Taiwanese liquid crystal display (LCD) ind...</td>\n      <td>[Kao, Chih-Han] Natl Quemoy Univ, Dept Civil E...</td>\n      <td>...</td>\n      <td>True</td>\n      <td>False</td>\n      <td>False</td>\n      <td>False</td>\n      <td>True</td>\n      <td>False</td>\n      <td>False</td>\n      <td>False</td>\n      <td>False</td>\n      <td>False</td>\n    </tr>\n    <tr>\n      <th>28</th>\n      <td>C</td>\n      <td>Nugra, H; Abad, A; Fuertes, W; Galarraga, F; A...</td>\n      <td>Nugra, Hugo; Abad, Alejandra; Fuertes, Walter;...</td>\n      <td>A Low-cost IoT Application for the Urban Traff...</td>\n      <td>2016 IEEE/ACM 20TH INTERNATIONAL SYMPOSIUM ON ...</td>\n      <td>Proceedings Paper</td>\n      <td>Congestion of vehicular traffic; Wireless Sens...</td>\n      <td>INTERNET; SYSTEM; THINGS</td>\n      <td>Congestion of vehicular traffic in the cities ...</td>\n      <td>[Nugra, Hugo; Abad, Alejandra; Fuertes, Walter...</td>\n      <td>...</td>\n      <td>False</td>\n      <td>False</td>\n      <td>False</td>\n      <td>False</td>\n      <td>True</td>\n      <td>False</td>\n      <td>False</td>\n      <td>False</td>\n      <td>False</td>\n      <td>False</td>\n    </tr>\n    <tr>\n      <th>90</th>\n      <td>J</td>\n      <td>Peng, YQ; Xiao, YX; Fu, ZT; Dong, YH; Zheng, Y...</td>\n      <td>Peng, Yaoqi; Xiao, Yingxin; Fu, Zetian; Dong, ...</td>\n      <td>Precision irrigation perspectives on the susta...</td>\n      <td>JOURNAL OF CLEANER PRODUCTION</td>\n      <td>Article</td>\n      <td>Field crop; Water demand prediction; Irrigatio...</td>\n      <td>REGRESSION-MODEL; DRIP IRRIGATION; NEURAL-NETW...</td>\n      <td>There is a global shortage of fresh water to m...</td>\n      <td>[Peng, Yaoqi; Xiao, Yingxin; Fu, Zetian; Dong,...</td>\n      <td>...</td>\n      <td>False</td>\n      <td>False</td>\n      <td>False</td>\n      <td>False</td>\n      <td>True</td>\n      <td>False</td>\n      <td>False</td>\n      <td>False</td>\n      <td>False</td>\n      <td>False</td>\n    </tr>\n    <tr>\n      <th>101</th>\n      <td>J</td>\n      <td>Alvarez-de-los-Mozos, E; Renteria-Bilbao, A; D...</td>\n      <td>Alvarez-de-los-Mozos, Esther; Renteria-Bilbao,...</td>\n      <td>WEEE Recycling and Circular Economy Assisted b...</td>\n      <td>APPLIED SCIENCES-BASEL</td>\n      <td>Article</td>\n      <td>human-robot collaboration; collaborative robot...</td>\n      <td>ELECTRONIC EQUIPMENT WEEE</td>\n      <td>Considering the amount of waste of electrical ...</td>\n      <td>[Alvarez-de-los-Mozos, Esther; Diaz-Martin, Fe...</td>\n      <td>...</td>\n      <td>False</td>\n      <td>False</td>\n      <td>False</td>\n      <td>False</td>\n      <td>False</td>\n      <td>False</td>\n      <td>False</td>\n      <td>False</td>\n      <td>False</td>\n      <td>True</td>\n    </tr>\n    <tr>\n      <th>218</th>\n      <td>J</td>\n      <td>Laskurain-Iturbe, I; Arana-Landin, G; Landeta-...</td>\n      <td>Laskurain-Iturbe, Iker; Arana-Landin, German; ...</td>\n      <td>Exploring the influence of industry 4.0 techno...</td>\n      <td>JOURNAL OF CLEANER PRODUCTION</td>\n      <td>Article</td>\n      <td>Industry 4; 0; Circular economy; Literature re...</td>\n      <td>SMART PRODUCTION; SUSTAINABILITY; CHALLENGES; ...</td>\n      <td>In the last decade, both Industry 4.0 technolo...</td>\n      <td>[Laskurain-Iturbe, Iker; Arana-Landin, German]...</td>\n      <td>...</td>\n      <td>False</td>\n      <td>False</td>\n      <td>False</td>\n      <td>True</td>\n      <td>True</td>\n      <td>True</td>\n      <td>False</td>\n      <td>False</td>\n      <td>True</td>\n      <td>True</td>\n    </tr>\n    <tr>\n      <th>...</th>\n      <td>...</td>\n      <td>...</td>\n      <td>...</td>\n      <td>...</td>\n      <td>...</td>\n      <td>...</td>\n      <td>...</td>\n      <td>...</td>\n      <td>...</td>\n      <td>...</td>\n      <td>...</td>\n      <td>...</td>\n      <td>...</td>\n      <td>...</td>\n      <td>...</td>\n      <td>...</td>\n      <td>...</td>\n      <td>...</td>\n      <td>...</td>\n      <td>...</td>\n      <td>...</td>\n    </tr>\n    <tr>\n      <th>1244072</th>\n      <td>J</td>\n      <td>Strengers, Y; Nicholls, L</td>\n      <td>Strengers, Yolande; Nicholls, Larissa</td>\n      <td>Aesthetic pleasures and gendered tech-work in ...</td>\n      <td>MEDIA INTERNATIONAL AUSTRALIA</td>\n      <td>Article</td>\n      <td>aesthetics; digital housekeeping; gender; hous...</td>\n      <td>NaN</td>\n      <td>This article analyses visions of everyday life...</td>\n      <td>[Strengers, Yolande; Nicholls, Larissa] RMIT U...</td>\n      <td>...</td>\n      <td>False</td>\n      <td>False</td>\n      <td>False</td>\n      <td>False</td>\n      <td>False</td>\n      <td>False</td>\n      <td>False</td>\n      <td>False</td>\n      <td>True</td>\n      <td>False</td>\n    </tr>\n    <tr>\n      <th>1244214</th>\n      <td>J</td>\n      <td>Kan, MY; Sullivan, O; Gershuny, J</td>\n      <td>Kan, Man Yee; Sullivan, Oriel; Gershuny, Jonathan</td>\n      <td>Gender Convergence in Domestic Work: Discernin...</td>\n      <td>SOCIOLOGY-THE JOURNAL OF THE BRITISH SOCIOLOGI...</td>\n      <td>Article</td>\n      <td>domestic work; gender convergence; time use</td>\n      <td>WELFARE-STATE; TIME-USE; CONTEXT; EQUITY</td>\n      <td>Cross-national trends in paid and unpaid work ...</td>\n      <td>[Kan, Man Yee; Sullivan, Oriel] Univ Oxford, D...</td>\n      <td>...</td>\n      <td>False</td>\n      <td>False</td>\n      <td>False</td>\n      <td>False</td>\n      <td>False</td>\n      <td>True</td>\n      <td>False</td>\n      <td>False</td>\n      <td>False</td>\n      <td>False</td>\n    </tr>\n    <tr>\n      <th>1244296</th>\n      <td>S</td>\n      <td>Cornwell, B; Gershuny, J; Sullivan, O</td>\n      <td>Cornwell, Benjamin; Gershuny, Jonathan; Sulliv...</td>\n      <td>The Social Structure of Time: Emerging Trends ...</td>\n      <td>ANNUAL REVIEW OF SOCIOLOGY, VOL 45</td>\n      <td>Article; Book Chapter</td>\n      <td>time use; time allocation; gender division of ...</td>\n      <td>PARENTS INVESTING LESS; DIVISION-OF-LABOR; CHI...</td>\n      <td>Research on time use has seen several major de...</td>\n      <td>[Cornwell, Benjamin] Cornell Univ, Dept Sociol...</td>\n      <td>...</td>\n      <td>False</td>\n      <td>False</td>\n      <td>False</td>\n      <td>False</td>\n      <td>False</td>\n      <td>False</td>\n      <td>False</td>\n      <td>False</td>\n      <td>True</td>\n      <td>False</td>\n    </tr>\n    <tr>\n      <th>1244855</th>\n      <td>J</td>\n      <td>Abdulcadir, J; Dewaele, R; Firmenich, N; Remui...</td>\n      <td>Abdulcadir, Jasmine; Dewaele, Romain; Firmenic...</td>\n      <td>In Vivo Imaging-Based 3-Dimensional Pelvic Pro...</td>\n      <td>JOURNAL OF SEXUAL MEDICINE</td>\n      <td>Article</td>\n      <td>Clitoris; Penis; Female Genital Mutilation; Se...</td>\n      <td>ANI MUSCLE SUBDIVISIONS; GENITAL MUTILATION; F...</td>\n      <td>Background: Myths, misconceptions, and taboos ...</td>\n      <td>[Abdulcadir, Jasmine; Petignat, Patrick] Genev...</td>\n      <td>...</td>\n      <td>False</td>\n      <td>False</td>\n      <td>False</td>\n      <td>True</td>\n      <td>False</td>\n      <td>False</td>\n      <td>False</td>\n      <td>False</td>\n      <td>False</td>\n      <td>False</td>\n    </tr>\n    <tr>\n      <th>1245197</th>\n      <td>J</td>\n      <td>Raj, A; Dehingia, N; Singh, A; McDougal, L; Mc...</td>\n      <td>Raj, Anita; Dehingia, Nabamallika; Singh, Abhi...</td>\n      <td>Application of machine learning to understand ...</td>\n      <td>SSM-POPULATION HEALTH</td>\n      <td>Article</td>\n      <td>Child marriage; Machine learning; India</td>\n      <td>HEALTH; ASSOCIATION; INTERVENTIONS; MORTALITY;...</td>\n      <td>Background: Prior research documents that Indi...</td>\n      <td>[Raj, Anita; Dehingia, Nabamallika; McDougal, ...</td>\n      <td>...</td>\n      <td>False</td>\n      <td>False</td>\n      <td>False</td>\n      <td>False</td>\n      <td>True</td>\n      <td>False</td>\n      <td>False</td>\n      <td>False</td>\n      <td>False</td>\n      <td>False</td>\n    </tr>\n  </tbody>\n</table>\n<p>53494 rows × 52 columns</p>\n</div>"
     },
     "execution_count": 6,
     "metadata": {},
     "output_type": "execute_result"
    }
   ],
   "source": [
    "inter = df[df['Intersection']]\n",
    "inter"
   ],
   "metadata": {
    "collapsed": false
   }
  },
  {
   "cell_type": "code",
   "execution_count": 7,
   "outputs": [],
   "source": [
    "import json\n",
    "df_query = pd.read_pickle(\"/home/kevin-desktop/PycharmProjects/SDG/query/query.pkl\")\n",
    "\n",
    "\n",
    "def to_raw(string):\n",
    "    return fr\"{string.strip()}\"\n",
    "\n",
    "\n",
    "def check_for_sdg(txt, how='dic'):\n",
    "    if how == \"dic\":\n",
    "        res = {\"SDG\"+str(i): [] for i in range(1,18)}\n",
    "        for sdg, target, query, not_query in df_query.itertuples(index=False, name=None):\n",
    "            if not not_query:\n",
    "                try:\n",
    "                    m = re.search(to_raw(query), txt, re.IGNORECASE)\n",
    "                    if m:\n",
    "                        # res.append((sdg, target, m.group()))\n",
    "                        res[sdg].append((target, m.group()))\n",
    "                except:\n",
    "                    print(\"error, weird query\")\n",
    "            else:\n",
    "                m = re.search(to_raw(query), txt, re.IGNORECASE)\n",
    "                m_not = re.search(to_raw(not_query), txt, re.IGNORECASE)\n",
    "                if m and not m_not:\n",
    "                    # res.append((sdg, target, m.group()))\n",
    "                    res[sdg].append((target, m.group()))\n",
    "        if how == \"dic\":\n",
    "            return {sdg:lst for sdg,lst in res.items() if lst}\n",
    "    if how == \"keywords\":\n",
    "        res = []\n",
    "        for sdg, target, query, not_query in df_query.itertuples(index=False, name=None):\n",
    "            if not not_query:\n",
    "                try:\n",
    "                    m = re.search(to_raw(query), txt, re.IGNORECASE)\n",
    "                    if m:\n",
    "                        # res.append((sdg, target, m.group()))\n",
    "                        res.append(m.group())\n",
    "                except:\n",
    "                    print(\"error, weird query\")\n",
    "            else:\n",
    "                m = re.search(to_raw(query), txt, re.IGNORECASE)\n",
    "                m_not = re.search(to_raw(not_query), txt, re.IGNORECASE)\n",
    "                if m and not m_not:\n",
    "                    # res.append((sdg, target, m.group()))\n",
    "                    res.append(m.group())\n",
    "        return \", \".join(res)\n",
    "    else:\n",
    "        print(\"wrong argument\")\n",
    "    # return json.dumps({sdg:lst for sdg,lst in res.items() if lst}, indent=4)"
   ],
   "metadata": {
    "collapsed": false
   }
  },
  {
   "cell_type": "code",
   "execution_count": 8,
   "outputs": [
    {
     "data": {
      "text/plain": "'Waste glass recycling can reduce , Waste glass recycling can reduce,  placed in landfills. Waste glass recycling can reduce, sustainable environmental ,  concrete and promote sustainable environmental'"
     },
     "execution_count": 8,
     "metadata": {},
     "output_type": "execute_result"
    }
   ],
   "source": [
    "check_for_sdg(inter.AB.values[0], how=\"keywords\")"
   ],
   "metadata": {
    "collapsed": false
   }
  },
  {
   "cell_type": "code",
   "execution_count": 8,
   "outputs": [],
   "source": [
    "\n"
   ],
   "metadata": {
    "collapsed": false
   }
  },
  {
   "cell_type": "code",
   "execution_count": 9,
   "outputs": [],
   "source": [
    "df_digi_keywords = pd.read_csv(\"data/keyword_digital_simplified.csv\").transpose()\n",
    "dic_digi = {}\n",
    "set_cat = set()\n",
    "for digi_cat, *digi_keywords in df_digi_keywords.itertuples(name=None):\n",
    "    set_cat.add(digi_cat)\n",
    "    for keyword in digi_keywords:\n",
    "        try:\n",
    "            dic_digi[keyword.replace(\"*\", \"\\w*\")] = digi_cat\n",
    "        except:\n",
    "            pass\n",
    "def check_for_dt(txt:str, how=\"dic\"):\n",
    "    if how==\"dic\":\n",
    "        res = {cat:[] for cat in set_cat}\n",
    "        for key, cat in dic_digi.items():\n",
    "             key = to_raw(key.replace(\" \", \"[\\s-]\"))\n",
    "             m = re.search(key, txt, re.IGNORECASE)\n",
    "             if m:\n",
    "                 res[cat].append(m.group())\n",
    "        return {dt:lst for dt,lst in res.items() if lst}\n",
    "    elif how == \"keywords\":\n",
    "        res = []\n",
    "        for key, cat in dic_digi.items():\n",
    "             key = to_raw(key.replace(\" \", \"[\\s-]\"))\n",
    "             m = re.search(key, txt, re.IGNORECASE)\n",
    "             if m:\n",
    "                 res.append(m.group())\n",
    "        return \", \".join(res)\n",
    "    else:\n",
    "        print(\"wrong argument\")\n"
   ],
   "metadata": {
    "collapsed": false
   }
  },
  {
   "cell_type": "code",
   "execution_count": 10,
   "outputs": [
    {
     "data": {
      "text/plain": "'Neural networks, supervised learning'"
     },
     "execution_count": 10,
     "metadata": {},
     "output_type": "execute_result"
    }
   ],
   "source": [
    "check_for_dt(inter.AB.values[0], how=\"keywords\")"
   ],
   "metadata": {
    "collapsed": false
   }
  },
  {
   "cell_type": "code",
   "execution_count": 11,
   "outputs": [],
   "source": [
    "cond = inter['SDG3'] | inter['SDG5'] | inter['SDG7'] | inter['SDG10'] | inter['SDG11'] | inter['SDG13']\n",
    "smaller_inter = inter[cond]"
   ],
   "metadata": {
    "collapsed": false
   }
  },
  {
   "cell_type": "code",
   "execution_count": 12,
   "outputs": [],
   "source": [
    "def target_to_sdg(s:set):\n",
    "    new_s = set()\n",
    "    accepted_vals = [3,5,7,8,10,11,13]\n",
    "    for elem in s:\n",
    "        new_val = int(elem.split(\".\")[0])\n",
    "        if new_val in accepted_vals:\n",
    "            new_s.add(new_val)\n",
    "\n",
    "    return new_s.pop()\n"
   ],
   "metadata": {
    "collapsed": false
   }
  },
  {
   "cell_type": "code",
   "execution_count": 13,
   "outputs": [
    {
     "name": "stderr",
     "output_type": "stream",
     "text": [
      "/tmp/ipykernel_33473/2218458147.py:3: SettingWithCopyWarning: \n",
      "A value is trying to be set on a copy of a slice from a DataFrame.\n",
      "Try using .loc[row_indexer,col_indexer] = value instead\n",
      "\n",
      "See the caveats in the documentation: https://pandas.pydata.org/pandas-docs/stable/user_guide/indexing.html#returning-a-view-versus-a-copy\n",
      "  smaller_inter.loc[:, 'SDG'] = np.vectorize(target_to_sdg)(smaller_inter.loc[:, 'lst_Target'])\n"
     ]
    }
   ],
   "source": [
    "import numpy as np\n",
    "\n",
    "smaller_inter.loc[:, 'SDG'] = np.vectorize(target_to_sdg)(smaller_inter.loc[:, 'lst_Target'])\n"
   ],
   "metadata": {
    "collapsed": false
   }
  },
  {
   "cell_type": "code",
   "execution_count": 14,
   "outputs": [],
   "source": [
    "smaller_inter = smaller_inter.groupby('SDG').sample(10).reset_index(drop=True)\n",
    "smaller_inter['TXT'] = smaller_inter['AB']+\"    \"+smaller_inter['TI']+\"    \"+smaller_inter['DE']+ \"    \" + smaller_inter['ID'].fillna(\"\")\n"
   ],
   "metadata": {
    "collapsed": false
   }
  },
  {
   "cell_type": "code",
   "execution_count": 15,
   "outputs": [
    {
     "name": "stderr",
     "output_type": "stream",
     "text": [
      "/home/kevin-desktop/anaconda3/envs/datascience/lib/python3.10/site-packages/scipy/__init__.py:146: UserWarning: A NumPy version >=1.16.5 and <1.23.0 is required for this version of SciPy (detected version 1.23.1\n",
      "  warnings.warn(f\"A NumPy version >={np_minversion} and <{np_maxversion}\"\n"
     ]
    },
    {
     "data": {
      "text/plain": "Pandas Apply:   0%|          | 0/70 [00:00<?, ?it/s]",
      "application/vnd.jupyter.widget-view+json": {
       "version_major": 2,
       "version_minor": 0,
       "model_id": "7bfb3e66c4cb434291f007c5f1dbc86c"
      }
     },
     "metadata": {},
     "output_type": "display_data"
    }
   ],
   "source": [
    "import swifter\n",
    "tqdm.pandas()\n",
    "smaller_inter['sdgkey'] = smaller_inter['TXT'].swifter.apply(lambda x: check_for_sdg(x, how=\"keywords\"))"
   ],
   "metadata": {
    "collapsed": false
   }
  },
  {
   "cell_type": "code",
   "execution_count": 16,
   "outputs": [
    {
     "data": {
      "text/plain": "Pandas Apply:   0%|          | 0/70 [00:00<?, ?it/s]",
      "application/vnd.jupyter.widget-view+json": {
       "version_major": 2,
       "version_minor": 0,
       "model_id": "3535167b108e4c979f91c871fb7310c4"
      }
     },
     "metadata": {},
     "output_type": "display_data"
    }
   ],
   "source": [
    "tqdm.pandas()\n",
    "smaller_inter['dtkey'] = smaller_inter['TXT'].swifter.apply(lambda x: check_for_dt(x))"
   ],
   "metadata": {
    "collapsed": false
   }
  },
  {
   "cell_type": "code",
   "execution_count": 17,
   "outputs": [
    {
     "data": {
      "text/plain": "   PT                                                 AU  \\\n0   J  Froz, BR; de Carvalho, AO; Silva, AC; de Paiva...   \n1   J  Dash, M; Shadangi, PY; Muduli, K; Luhach, AK; ...   \n2   J               Lin, CM; Hou, YL; Chen, TY; Chen, KH   \n3   J                                          Yousaf, I   \n4   J       Na, KJ; Park, S; Park, IK; Kim, YT; Kang, CH   \n.. ..                                                ...   \n65  C      Nimmagadda, SL; Dreher, H; Mora, PAC; Lobo, A   \n66  C       Zhu, MH; Zhu, WC; Yu, XB; Yang, JL; Ding, DW   \n67  J  Ramos-Giraldo, P; Reberg-Horton, C; Locke, AM;...   \n68  C              Weichselbraun, A; Scharl, A; Gindl, S   \n69  J  Lin, S; Zhou, G; Al-Hami, M; Whitehouse, K; Wu...   \n\n                                                   AF  \\\n0   Froz, Bruno Rodrigues; de Carvalho Filho, Anto...   \n1   Dash, Manoranjan; Shadangi, Preeti Y.; Muduli,...   \n2   Lin, Chih-Min; Hou, Yu-Ling; Chen, Te-Yu; Chen...   \n3                                       Yousaf, Imran   \n4   Na, Kwon Joong; Park, Santinit; Park, In Kyu; ...   \n..                                                ...   \n65  Nimmagadda, Shastri L.; Dreher, Heinz; Cardona...   \n66  Zhu Minghe; Zhu Wencai; Yu Xubo; Yang Jianli; ...   \n67  Ramos-Giraldo, Paula; Reberg-Horton, Chris; Lo...   \n68  Weichselbraun, Albert; Scharl, Arno; Gindl, St...   \n69  Lin, Shan; Zhou, Gang; Al-Hami, Mo'taz; Whiteh...   \n\n                                                   TI  \\\n0   Lung nodule classification using artificial cr...   \n1   Predicting the motivators of telemedicine acce...   \n2   Breast Nodules Computer-Aided Diagnostic Syste...   \n3   Risk transmission from the COVID-19 to metals ...   \n4   Outcomes after total robotic esophagectomy for...   \n..                                                ...   \n65  Ontology based Multidimensional Data Warehousi...   \n66  Two Indirect Methods about Environmental Damag...   \n67  Drought Stress Detection Using Low-Cost Comput...   \n68  Extracting Opinion Targets from Environmental ...   \n69  Toward Stable Network Performance in Wireless ...   \n\n                                                   SO                 DT  \\\n0                    EXPERT SYSTEMS WITH APPLICATIONS            Article   \n1          JOURNAL OF STATISTICS & MANAGEMENT SYSTEMS            Article   \n2                  IEEE TRANSACTIONS ON FUZZY SYSTEMS            Article   \n3                                    RESOURCES POLICY            Article   \n4                         JOURNAL OF THORACIC DISEASE            Article   \n..                                                ...                ...   \n65  2013 11TH IEEE INTERNATIONAL CONFERENCE ON IND...  Proceedings Paper   \n66  BEYOND EXPERIENCE IN RISK ANALYSIS AND CRISIS ...  Proceedings Paper   \n67                                    IT PROFESSIONAL            Article   \n68  PROCEEDINGS OF THE 49TH ANNUAL HAWAII INTERNAT...  Proceedings Paper   \n69                ACM TRANSACTIONS ON SENSOR NETWORKS            Article   \n\n                                                   DE  \\\n0   Artificial life; Artificial crawlers; Rose dia...   \n1   Telemedicine; TAM model; ANN; Multiple regress...   \n2   Breast nodule classification; cerebellar model...   \n3   The COVID-19; Precious metals; Industrial meta...   \n4   Robotic surgery; esophageal surgery; minimally...   \n..                                                ...   \n65  Data warehousing; multidimensional; ontology d...   \n66  ship oil spill accident; environmental damage;...   \n67  Agriculture; Stress; Machine learning; Compute...   \n68  Opinion mining; sentiment analysis; opinion ta...   \n69  Design; Algorithms; Performance; Wireless sens...   \n\n                                                   ID  \\\n0                                  SEGMENTATION; AREA   \n1                                                 NaN   \n2                 CLASSIFICATION; ULTRASOUND; LESIONS   \n3   VOLATILITY SPILLOVERS; OIL PRICES; STOCK; LINK...   \n4   MINIMALLY INVASIVE ESOPHAGECTOMY; ASSISTED THO...   \n..                                                ...   \n65                                                NaN   \n66                                                NaN   \n67                                                NaN   \n68                                                NaN   \n69                                             AD HOC   \n\n                                                   AB  \\\n0   Lung cancer is the major cause of death among ...   \n1   Since the outbreak of COVID-19, healthcare pro...   \n2   Since the mortality rate of breast cancer in w...   \n3   We examine the risk transmission from the COVI...   \n4   Background: Robot-assisted minimally invasive ...   \n..                                                ...   \n65  A full understanding of many unconventional hy...   \n66  Two methods based on GA-SVM[genetic algorithm ...   \n67  The real-time detection of drought stress has ...   \n68  Policy makers and environmental organizations ...   \n69  Many applications in wireless sensor networks ...   \n\n                                                   C1  ...  \\\n0   [Froz, Bruno Rodrigues; de Carvalho Filho, Ant...  ...   \n1   [Dash, Manoranjan; Shadangi, Preeti Y.] Siksha...  ...   \n2   [Lin, Chih-Min] Yuan Ze Univ, Dept Elect Engn,...  ...   \n3   [Yousaf, Imran] Air Univ, Sch Management, Isla...  ...   \n4   [Na, Kwon Joong; Park, Santinit; Park, In Kyu;...  ...   \n..                                                ...  ...   \n65  [Nimmagadda, Shastri L.] Schlumberger, PTS, Mo...  ...   \n66  [Zhu Minghe; Zhu Wencai; Yu Xubo] Ningbo Univ,...  ...   \n67  [Ramos-Giraldo, Paula] North Carolina State Un...  ...   \n68  [Weichselbraun, Albert] Univ Appl Sci Chur, Ch...  ...   \n69  [Lin, Shan] SUNY Stony Brook, Dept Elect & Com...  ...   \n\n   additive_manufacturing     AI big_data  blockchain  \\\n0                   False   True    False       False   \n1                   False   True    False       False   \n2                   False   True    False       False   \n3                   False  False    False        True   \n4                   False  False    False       False   \n..                    ...    ...      ...         ...   \n65                  False   True    False       False   \n66                  False   True    False       False   \n67                  False   True    False       False   \n68                  False   True    False       False   \n69                  False  False    False       False   \n\n    computing_infrastructure    IOT robotics  \\\n0                      False  False    False   \n1                      False  False    False   \n2                      False  False    False   \n3                      False  False    False   \n4                      False  False     True   \n..                       ...    ...      ...   \n65                     False  False    False   \n66                     False  False    False   \n67                     False  False    False   \n68                     False  False    False   \n69                     False   True    False   \n\n                                                  TXT  \\\n0   Lung cancer is the major cause of death among ...   \n1   Since the outbreak of COVID-19, healthcare pro...   \n2   Since the mortality rate of breast cancer in w...   \n3   We examine the risk transmission from the COVI...   \n4   Background: Robot-assisted minimally invasive ...   \n..                                                ...   \n65  A full understanding of many unconventional hy...   \n66  Two methods based on GA-SVM[genetic algorithm ...   \n67  The real-time detection of drought stress has ...   \n68  Policy makers and environmental organizations ...   \n69  Many applications in wireless sensor networks ...   \n\n                                               sdgkey  \\\n0   cancer has the highest mortality, death among ...   \n1               Pandemic; COVID-19, COVID-19 pandemic   \n2                     mortality rate of breast cancer   \n3                                   COVID-19 pandemic   \n4                                                       \n..                                                ...   \n65                                                      \n66                                                      \n67                                     climate change   \n68  action; keyword analysis; climate, climate change   \n69           reducing transmission energy consumption   \n\n                                        dtkey  \n0                               expert system  \n1                              Neural network  \n2                              neural network  \n3                            CRYPTOCURRENCIES  \n4                              Robot, robotic  \n..                                        ...  \n65                                data-mining  \n66                             Neural Network  \n67          computer vision, machine learning  \n68                         sentiment analysis  \n69  sensor networks, wireless sensor networks  \n\n[70 rows x 55 columns]",
      "text/html": "<div>\n<style scoped>\n    .dataframe tbody tr th:only-of-type {\n        vertical-align: middle;\n    }\n\n    .dataframe tbody tr th {\n        vertical-align: top;\n    }\n\n    .dataframe thead th {\n        text-align: right;\n    }\n</style>\n<table border=\"1\" class=\"dataframe\">\n  <thead>\n    <tr style=\"text-align: right;\">\n      <th></th>\n      <th>PT</th>\n      <th>AU</th>\n      <th>AF</th>\n      <th>TI</th>\n      <th>SO</th>\n      <th>DT</th>\n      <th>DE</th>\n      <th>ID</th>\n      <th>AB</th>\n      <th>C1</th>\n      <th>...</th>\n      <th>additive_manufacturing</th>\n      <th>AI</th>\n      <th>big_data</th>\n      <th>blockchain</th>\n      <th>computing_infrastructure</th>\n      <th>IOT</th>\n      <th>robotics</th>\n      <th>TXT</th>\n      <th>sdgkey</th>\n      <th>dtkey</th>\n    </tr>\n  </thead>\n  <tbody>\n    <tr>\n      <th>0</th>\n      <td>J</td>\n      <td>Froz, BR; de Carvalho, AO; Silva, AC; de Paiva...</td>\n      <td>Froz, Bruno Rodrigues; de Carvalho Filho, Anto...</td>\n      <td>Lung nodule classification using artificial cr...</td>\n      <td>EXPERT SYSTEMS WITH APPLICATIONS</td>\n      <td>Article</td>\n      <td>Artificial life; Artificial crawlers; Rose dia...</td>\n      <td>SEGMENTATION; AREA</td>\n      <td>Lung cancer is the major cause of death among ...</td>\n      <td>[Froz, Bruno Rodrigues; de Carvalho Filho, Ant...</td>\n      <td>...</td>\n      <td>False</td>\n      <td>True</td>\n      <td>False</td>\n      <td>False</td>\n      <td>False</td>\n      <td>False</td>\n      <td>False</td>\n      <td>Lung cancer is the major cause of death among ...</td>\n      <td>cancer has the highest mortality, death among ...</td>\n      <td>expert system</td>\n    </tr>\n    <tr>\n      <th>1</th>\n      <td>J</td>\n      <td>Dash, M; Shadangi, PY; Muduli, K; Luhach, AK; ...</td>\n      <td>Dash, Manoranjan; Shadangi, Preeti Y.; Muduli,...</td>\n      <td>Predicting the motivators of telemedicine acce...</td>\n      <td>JOURNAL OF STATISTICS &amp; MANAGEMENT SYSTEMS</td>\n      <td>Article</td>\n      <td>Telemedicine; TAM model; ANN; Multiple regress...</td>\n      <td>NaN</td>\n      <td>Since the outbreak of COVID-19, healthcare pro...</td>\n      <td>[Dash, Manoranjan; Shadangi, Preeti Y.] Siksha...</td>\n      <td>...</td>\n      <td>False</td>\n      <td>True</td>\n      <td>False</td>\n      <td>False</td>\n      <td>False</td>\n      <td>False</td>\n      <td>False</td>\n      <td>Since the outbreak of COVID-19, healthcare pro...</td>\n      <td>Pandemic; COVID-19, COVID-19 pandemic</td>\n      <td>Neural network</td>\n    </tr>\n    <tr>\n      <th>2</th>\n      <td>J</td>\n      <td>Lin, CM; Hou, YL; Chen, TY; Chen, KH</td>\n      <td>Lin, Chih-Min; Hou, Yu-Ling; Chen, Te-Yu; Chen...</td>\n      <td>Breast Nodules Computer-Aided Diagnostic Syste...</td>\n      <td>IEEE TRANSACTIONS ON FUZZY SYSTEMS</td>\n      <td>Article</td>\n      <td>Breast nodule classification; cerebellar model...</td>\n      <td>CLASSIFICATION; ULTRASOUND; LESIONS</td>\n      <td>Since the mortality rate of breast cancer in w...</td>\n      <td>[Lin, Chih-Min] Yuan Ze Univ, Dept Elect Engn,...</td>\n      <td>...</td>\n      <td>False</td>\n      <td>True</td>\n      <td>False</td>\n      <td>False</td>\n      <td>False</td>\n      <td>False</td>\n      <td>False</td>\n      <td>Since the mortality rate of breast cancer in w...</td>\n      <td>mortality rate of breast cancer</td>\n      <td>neural network</td>\n    </tr>\n    <tr>\n      <th>3</th>\n      <td>J</td>\n      <td>Yousaf, I</td>\n      <td>Yousaf, Imran</td>\n      <td>Risk transmission from the COVID-19 to metals ...</td>\n      <td>RESOURCES POLICY</td>\n      <td>Article</td>\n      <td>The COVID-19; Precious metals; Industrial meta...</td>\n      <td>VOLATILITY SPILLOVERS; OIL PRICES; STOCK; LINK...</td>\n      <td>We examine the risk transmission from the COVI...</td>\n      <td>[Yousaf, Imran] Air Univ, Sch Management, Isla...</td>\n      <td>...</td>\n      <td>False</td>\n      <td>False</td>\n      <td>False</td>\n      <td>True</td>\n      <td>False</td>\n      <td>False</td>\n      <td>False</td>\n      <td>We examine the risk transmission from the COVI...</td>\n      <td>COVID-19 pandemic</td>\n      <td>CRYPTOCURRENCIES</td>\n    </tr>\n    <tr>\n      <th>4</th>\n      <td>J</td>\n      <td>Na, KJ; Park, S; Park, IK; Kim, YT; Kang, CH</td>\n      <td>Na, Kwon Joong; Park, Santinit; Park, In Kyu; ...</td>\n      <td>Outcomes after total robotic esophagectomy for...</td>\n      <td>JOURNAL OF THORACIC DISEASE</td>\n      <td>Article</td>\n      <td>Robotic surgery; esophageal surgery; minimally...</td>\n      <td>MINIMALLY INVASIVE ESOPHAGECTOMY; ASSISTED THO...</td>\n      <td>Background: Robot-assisted minimally invasive ...</td>\n      <td>[Na, Kwon Joong; Park, Santinit; Park, In Kyu;...</td>\n      <td>...</td>\n      <td>False</td>\n      <td>False</td>\n      <td>False</td>\n      <td>False</td>\n      <td>False</td>\n      <td>False</td>\n      <td>True</td>\n      <td>Background: Robot-assisted minimally invasive ...</td>\n      <td></td>\n      <td>Robot, robotic</td>\n    </tr>\n    <tr>\n      <th>...</th>\n      <td>...</td>\n      <td>...</td>\n      <td>...</td>\n      <td>...</td>\n      <td>...</td>\n      <td>...</td>\n      <td>...</td>\n      <td>...</td>\n      <td>...</td>\n      <td>...</td>\n      <td>...</td>\n      <td>...</td>\n      <td>...</td>\n      <td>...</td>\n      <td>...</td>\n      <td>...</td>\n      <td>...</td>\n      <td>...</td>\n      <td>...</td>\n      <td>...</td>\n      <td>...</td>\n    </tr>\n    <tr>\n      <th>65</th>\n      <td>C</td>\n      <td>Nimmagadda, SL; Dreher, H; Mora, PAC; Lobo, A</td>\n      <td>Nimmagadda, Shastri L.; Dreher, Heinz; Cardona...</td>\n      <td>Ontology based Multidimensional Data Warehousi...</td>\n      <td>2013 11TH IEEE INTERNATIONAL CONFERENCE ON IND...</td>\n      <td>Proceedings Paper</td>\n      <td>Data warehousing; multidimensional; ontology d...</td>\n      <td>NaN</td>\n      <td>A full understanding of many unconventional hy...</td>\n      <td>[Nimmagadda, Shastri L.] Schlumberger, PTS, Mo...</td>\n      <td>...</td>\n      <td>False</td>\n      <td>True</td>\n      <td>False</td>\n      <td>False</td>\n      <td>False</td>\n      <td>False</td>\n      <td>False</td>\n      <td>A full understanding of many unconventional hy...</td>\n      <td></td>\n      <td>data-mining</td>\n    </tr>\n    <tr>\n      <th>66</th>\n      <td>C</td>\n      <td>Zhu, MH; Zhu, WC; Yu, XB; Yang, JL; Ding, DW</td>\n      <td>Zhu Minghe; Zhu Wencai; Yu Xubo; Yang Jianli; ...</td>\n      <td>Two Indirect Methods about Environmental Damag...</td>\n      <td>BEYOND EXPERIENCE IN RISK ANALYSIS AND CRISIS ...</td>\n      <td>Proceedings Paper</td>\n      <td>ship oil spill accident; environmental damage;...</td>\n      <td>NaN</td>\n      <td>Two methods based on GA-SVM[genetic algorithm ...</td>\n      <td>[Zhu Minghe; Zhu Wencai; Yu Xubo] Ningbo Univ,...</td>\n      <td>...</td>\n      <td>False</td>\n      <td>True</td>\n      <td>False</td>\n      <td>False</td>\n      <td>False</td>\n      <td>False</td>\n      <td>False</td>\n      <td>Two methods based on GA-SVM[genetic algorithm ...</td>\n      <td></td>\n      <td>Neural Network</td>\n    </tr>\n    <tr>\n      <th>67</th>\n      <td>J</td>\n      <td>Ramos-Giraldo, P; Reberg-Horton, C; Locke, AM;...</td>\n      <td>Ramos-Giraldo, Paula; Reberg-Horton, Chris; Lo...</td>\n      <td>Drought Stress Detection Using Low-Cost Comput...</td>\n      <td>IT PROFESSIONAL</td>\n      <td>Article</td>\n      <td>Agriculture; Stress; Machine learning; Compute...</td>\n      <td>NaN</td>\n      <td>The real-time detection of drought stress has ...</td>\n      <td>[Ramos-Giraldo, Paula] North Carolina State Un...</td>\n      <td>...</td>\n      <td>False</td>\n      <td>True</td>\n      <td>False</td>\n      <td>False</td>\n      <td>False</td>\n      <td>False</td>\n      <td>False</td>\n      <td>The real-time detection of drought stress has ...</td>\n      <td>climate change</td>\n      <td>computer vision, machine learning</td>\n    </tr>\n    <tr>\n      <th>68</th>\n      <td>C</td>\n      <td>Weichselbraun, A; Scharl, A; Gindl, S</td>\n      <td>Weichselbraun, Albert; Scharl, Arno; Gindl, St...</td>\n      <td>Extracting Opinion Targets from Environmental ...</td>\n      <td>PROCEEDINGS OF THE 49TH ANNUAL HAWAII INTERNAT...</td>\n      <td>Proceedings Paper</td>\n      <td>Opinion mining; sentiment analysis; opinion ta...</td>\n      <td>NaN</td>\n      <td>Policy makers and environmental organizations ...</td>\n      <td>[Weichselbraun, Albert] Univ Appl Sci Chur, Ch...</td>\n      <td>...</td>\n      <td>False</td>\n      <td>True</td>\n      <td>False</td>\n      <td>False</td>\n      <td>False</td>\n      <td>False</td>\n      <td>False</td>\n      <td>Policy makers and environmental organizations ...</td>\n      <td>action; keyword analysis; climate, climate change</td>\n      <td>sentiment analysis</td>\n    </tr>\n    <tr>\n      <th>69</th>\n      <td>J</td>\n      <td>Lin, S; Zhou, G; Al-Hami, M; Whitehouse, K; Wu...</td>\n      <td>Lin, Shan; Zhou, Gang; Al-Hami, Mo'taz; Whiteh...</td>\n      <td>Toward Stable Network Performance in Wireless ...</td>\n      <td>ACM TRANSACTIONS ON SENSOR NETWORKS</td>\n      <td>Article</td>\n      <td>Design; Algorithms; Performance; Wireless sens...</td>\n      <td>AD HOC</td>\n      <td>Many applications in wireless sensor networks ...</td>\n      <td>[Lin, Shan] SUNY Stony Brook, Dept Elect &amp; Com...</td>\n      <td>...</td>\n      <td>False</td>\n      <td>False</td>\n      <td>False</td>\n      <td>False</td>\n      <td>False</td>\n      <td>True</td>\n      <td>False</td>\n      <td>Many applications in wireless sensor networks ...</td>\n      <td>reducing transmission energy consumption</td>\n      <td>sensor networks, wireless sensor networks</td>\n    </tr>\n  </tbody>\n</table>\n<p>70 rows × 55 columns</p>\n</div>"
     },
     "execution_count": 17,
     "metadata": {},
     "output_type": "execute_result"
    }
   ],
   "source": [
    "smaller_inter"
   ],
   "metadata": {
    "collapsed": false
   }
  },
  {
   "cell_type": "code",
   "execution_count": 18,
   "outputs": [],
   "source": [
    "smaller_inter = smaller_inter[['TI', 'DE', 'SDG', 'AB', 'AI', 'robotics', 'IOT', 'big_data', 'computing_infrastructure', 'additive_manufacturing', 'blockchain', 'sdgkey', 'dtkey']]"
   ],
   "metadata": {
    "collapsed": false
   }
  },
  {
   "cell_type": "code",
   "execution_count": 19,
   "outputs": [],
   "source": [
    "smaller_inter.to_pickle(\"data/dataframes/output/marco_sample.pkl\")"
   ],
   "metadata": {
    "collapsed": false
   }
  },
  {
   "cell_type": "code",
   "execution_count": 37,
   "outputs": [],
   "source": [
    "\n",
    "smaller_inter = smaller_inter.replace(\"\", np.NAN).dropna(subset='dtkey').groupby('SDG').sample(20).reset_index(drop=True)"
   ],
   "metadata": {
    "collapsed": false
   }
  },
  {
   "cell_type": "code",
   "execution_count": 39,
   "outputs": [],
   "source": [
    "smaller_inter.to_pickle((\"data/dataframes/output/sample140.pkl\"))"
   ],
   "metadata": {
    "collapsed": false
   }
  },
  {
   "cell_type": "code",
   "execution_count": 37,
   "outputs": [
    {
     "data": {
      "text/plain": "{'AI': ['NEURAL-NETWORKS']}"
     },
     "execution_count": 37,
     "metadata": {},
     "output_type": "execute_result"
    }
   ],
   "source": [
    "check_for_dt(smaller_inter.loc[15, \"TXT\"])"
   ],
   "metadata": {
    "collapsed": false
   }
  },
  {
   "cell_type": "code",
   "execution_count": null,
   "outputs": [],
   "source": [],
   "metadata": {
    "collapsed": false
   }
  }
 ],
 "metadata": {
  "kernelspec": {
   "display_name": "Python 3",
   "language": "python",
   "name": "python3"
  },
  "language_info": {
   "codemirror_mode": {
    "name": "ipython",
    "version": 2
   },
   "file_extension": ".py",
   "mimetype": "text/x-python",
   "name": "python",
   "nbconvert_exporter": "python",
   "pygments_lexer": "ipython2",
   "version": "2.7.6"
  }
 },
 "nbformat": 4,
 "nbformat_minor": 0
}
