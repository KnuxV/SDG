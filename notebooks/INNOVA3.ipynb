{
 "cells": [
  {
   "cell_type": "markdown",
   "source": [
    "# raw, strength and specialization"
   ],
   "metadata": {
    "collapsed": false
   }
  },
  {
   "cell_type": "code",
   "execution_count": 1,
   "outputs": [],
   "source": [
    "from typing import Set, Any\n",
    "\n",
    "import pandas as pd\n",
    "import os\n",
    "import numpy as np\n",
    "import matplotlib.pyplot as plt\n",
    "from matplotlib.collections import PatchCollection\n",
    "import plotly.graph_objects as go\n",
    "\n",
    "from plotly.subplots import make_subplots\n",
    "import plotly"
   ],
   "metadata": {
    "collapsed": false
   }
  },
  {
   "cell_type": "code",
   "execution_count": 2,
   "outputs": [],
   "source": [
    "df_sdg = pd.read_pickle(\"../data/dataframes/all_sdg_fixed_dst.pkl\")\n",
    "df_digital = pd.read_pickle(\"../data/dataframes/dt_updated.pkl\")\n",
    "eu = pd.read_excel(\"../data/countries_eu.xlsx\", sheet_name='EU')['Country'].to_list()\n",
    "# Filtering for Journal only\n",
    "df_sdg = df_sdg[df_sdg.PT == 'J']\n",
    "df_digital = df_digital[df_digital.PT == 'J']\n",
    "df_sdg_dt = df_sdg[df_sdg['DST']]\n",
    "\n",
    "idx_sdg = {name: i for i, name in enumerate(list(df_sdg), start=0)}\n",
    "idx_dt = {name: i for i, name in enumerate(list(df_digital), start=0)}\n",
    "idx_sdg_dt = {name: i for i, name in enumerate(list(df_sdg_dt), start=0)}"
   ],
   "metadata": {
    "collapsed": false
   }
  },
  {
   "cell_type": "code",
   "execution_count": 3,
   "outputs": [
    {
     "data": {
      "text/plain": "Country\nNaN                                                NaN\nEU                                           3092983.9\nEuropean Union - 28 countries (2013-2020)            :\nEuro area - 19 countries  (from 2015)        2631060.9\nBelgium                                         105644\n                                               ...    \nPalestine                                            :\nSaudi Arabia                                         :\nAustralia                                     280349.7\nNew Zealand                                      40983\nSamoa                                                :\nName: GDP, Length: 102, dtype: object"
     },
     "execution_count": 3,
     "metadata": {},
     "output_type": "execute_result"
    }
   ],
   "source": [
    "gdp = pd.read_excel(\"../data/pop-gdp.xlsx\", sheet_name=\"GDP\", index_col=\"TIME\").rename(columns={\"2020-Q2\":\"GDP\"}).loc[:, \"GDP\"].rename_axis(\"Country\", axis=0)\n",
    "gdp"
   ],
   "metadata": {
    "collapsed": false
   }
  },
  {
   "cell_type": "code",
   "execution_count": 4,
   "outputs": [
    {
     "data": {
      "text/plain": "                    avg_pop        gdp\nAlbania        2.875263e+06     3348.7\nArgentina      4.333679e+07        0.0\nArmenia        2.924618e+06        0.0\nAustralia      2.400823e+07   324962.5\nAustria        8.665144e+06    92140.6\n...                     ...        ...\nUkraine        4.498976e+07        0.0\nUruguay        3.419979e+06        0.0\nUnited States  3.213942e+08  4518929.3\nSamoa          1.933848e+05        0.0\nSouth Africa   5.571583e+07    81269.2\n\n[94 rows x 2 columns]",
      "text/html": "<div>\n<style scoped>\n    .dataframe tbody tr th:only-of-type {\n        vertical-align: middle;\n    }\n\n    .dataframe tbody tr th {\n        vertical-align: top;\n    }\n\n    .dataframe thead th {\n        text-align: right;\n    }\n</style>\n<table border=\"1\" class=\"dataframe\">\n  <thead>\n    <tr style=\"text-align: right;\">\n      <th></th>\n      <th>avg_pop</th>\n      <th>gdp</th>\n    </tr>\n  </thead>\n  <tbody>\n    <tr>\n      <th>Albania</th>\n      <td>2.875263e+06</td>\n      <td>3348.7</td>\n    </tr>\n    <tr>\n      <th>Argentina</th>\n      <td>4.333679e+07</td>\n      <td>0.0</td>\n    </tr>\n    <tr>\n      <th>Armenia</th>\n      <td>2.924618e+06</td>\n      <td>0.0</td>\n    </tr>\n    <tr>\n      <th>Australia</th>\n      <td>2.400823e+07</td>\n      <td>324962.5</td>\n    </tr>\n    <tr>\n      <th>Austria</th>\n      <td>8.665144e+06</td>\n      <td>92140.6</td>\n    </tr>\n    <tr>\n      <th>...</th>\n      <td>...</td>\n      <td>...</td>\n    </tr>\n    <tr>\n      <th>Ukraine</th>\n      <td>4.498976e+07</td>\n      <td>0.0</td>\n    </tr>\n    <tr>\n      <th>Uruguay</th>\n      <td>3.419979e+06</td>\n      <td>0.0</td>\n    </tr>\n    <tr>\n      <th>United States</th>\n      <td>3.213942e+08</td>\n      <td>4518929.3</td>\n    </tr>\n    <tr>\n      <th>Samoa</th>\n      <td>1.933848e+05</td>\n      <td>0.0</td>\n    </tr>\n    <tr>\n      <th>South Africa</th>\n      <td>5.571583e+07</td>\n      <td>81269.2</td>\n    </tr>\n  </tbody>\n</table>\n<p>94 rows × 2 columns</p>\n</div>"
     },
     "execution_count": 4,
     "metadata": {},
     "output_type": "execute_result"
    }
   ],
   "source": [
    "eu_countries = pd.read_excel(\"../data/countries_eu.xlsx\", sheet_name='EU').Country.to_list()\n",
    "other_countries = pd.read_excel(\"../data/countries_eu.xlsx\", sheet_name='rest').Country.to_list()\n",
    "\n",
    "gdppop = pd.read_excel(\"../data/gdp_avgpop.xlsx\", index_col=0).replace(\":\", np.NAN).fillna(0)\n",
    "gdppop"
   ],
   "metadata": {
    "collapsed": false
   }
  },
  {
   "cell_type": "code",
   "execution_count": 5,
   "outputs": [
    {
     "data": {
      "text/plain": "['Norway',\n 'Switzerland',\n 'United Kingdom',\n 'Canada',\n 'China',\n 'United States',\n 'Japan',\n 'South Korea',\n 'Australia',\n 'Israel']"
     },
     "execution_count": 5,
     "metadata": {},
     "output_type": "execute_result"
    }
   ],
   "source": [
    "other_countries"
   ],
   "metadata": {
    "collapsed": false
   }
  },
  {
   "cell_type": "markdown",
   "source": [
    "## Counter + loop ==> Overall number of fractional publications for countries"
   ],
   "metadata": {
    "collapsed": false
   }
  },
  {
   "cell_type": "code",
   "execution_count": 5,
   "metadata": {
    "collapsed": true
   },
   "outputs": [],
   "source": [
    "from collections import Counter\n",
    "dic_countries_frac = {country:Counter() for country in gdppop.index}\n",
    "# Digital\n",
    "for row in df_digital.itertuples(index=False, name=None):\n",
    "    cn = row[idx_dt['CN']]\n",
    "    lst_actors = cn.split(\", \")\n",
    "    size_actors = len(lst_actors)\n",
    "    for actor in lst_actors:\n",
    "        if actor in dic_countries_frac.keys():\n",
    "            # Increment for digital\n",
    "            dic_countries_frac[actor]['DT'] += 1/size_actors\n",
    "\n",
    "            if actor in eu:\n",
    "                dic_countries_frac['EU']['DT'] += 1/size_actors\n",
    "\n",
    "# SDG & SDG-DT\n",
    "for row in df_sdg.itertuples(index=False, name=None):\n",
    "    cn = row[idx_sdg['CN']]\n",
    "    lst_actors = cn.split(\", \")\n",
    "    size_actors = len(lst_actors)\n",
    "    for actor in lst_actors:\n",
    "        if actor in dic_countries_frac.keys():\n",
    "            # Increment for SDG\n",
    "            dic_countries_frac[actor]['SDG'] += 1/size_actors\n",
    "\n",
    "            if actor in eu:\n",
    "                dic_countries_frac['EU']['SDG'] += 1/size_actors\n",
    "\n",
    "            if row[-1]:\n",
    "                # Increment for SDG-DT\n",
    "                dic_countries_frac[actor]['Inter'] += 1/size_actors\n",
    "\n",
    "                if actor in eu:\n",
    "                    dic_countries_frac['EU']['Inter'] += 1/size_actors\n"
   ]
  },
  {
   "cell_type": "code",
   "execution_count": 10,
   "outputs": [
    {
     "data": {
      "text/plain": "                          DT           SDG        Inter       GDP   SDG-gdp  \\\nCountry                                                                       \nAustria          3236.053303   5372.635315   138.258313   88533.8  0.060685   \nBelgium          4779.746296   8371.507113   181.901241    105644  0.079243   \nBulgaria          549.483471   1009.169897    24.554932   14307.8  0.070533   \nCroatia          1225.321102   2621.667351    78.026927   11693.6  0.224197   \nCyprus            541.687904    851.738882    41.854211    5072.6   0.16791   \nCzech Republic   2647.521995   4618.636023   107.792072   49912.6  0.092534   \nDenmark          3078.092221   7977.961969   143.020285   74993.5  0.106382   \nEstonia           438.769553   1238.384147    31.906383    6468.1   0.19146   \nFinland          3615.406532   7719.220726   200.267440     57716  0.133745   \nFrance          15853.700722  23290.960538   551.407769  524427.4  0.044412   \nGermany         24569.802808  36083.595931   941.987972    787350  0.045829   \nGreece           5160.642990   7298.045071   311.481502     37885  0.192637   \nHungary          1670.516461   2767.537751    85.481166   31231.4  0.088614   \nIreland          2429.286519   4481.205904   122.954903   84665.3  0.052928   \nItaly           24648.310547  37292.169893  1219.920814  374747.8  0.099513   \nLatvia            217.616616    582.122971    10.760751    7148.9  0.081428   \nLithuania         788.154774   1752.292576    40.237259   11825.5  0.148179   \nLuxembourg        339.384507    457.427076    23.212576   15398.9  0.029705   \nMalta              96.151579    256.117513     2.943655    3050.2  0.083967   \nNetherlands      8149.341042  17333.784583   330.855868    192370  0.090106   \nPoland           7936.649903  13146.977740   349.013199  117496.6  0.111892   \nPortugal         4985.216536  11419.517093   295.291351   45634.6  0.250238   \nRomania          3257.436330   5698.929843   211.371191   46874.4  0.121579   \nSlovakia         1092.612611   1733.551491    41.527329   21845.9  0.079354   \nSlovenia         1550.891690   1862.611074    60.474226   11033.9  0.168808   \nSpain           21779.103279  35876.370198  1183.567861    250201   0.14339   \nSweden           4989.671550  13918.160300   243.500257  115359.3  0.120651   \n\n                  DT-gdp Inter-gdp  \nCountry                             \nAustria         0.036552  0.001562  \nBelgium         0.045244  0.001722  \nBulgaria        0.038404  0.001716  \nCroatia         0.104786  0.006673  \nCyprus          0.106787  0.008251  \nCzech Republic  0.053043   0.00216  \nDenmark         0.041045  0.001907  \nEstonia         0.067836  0.004933  \nFinland         0.062641   0.00347  \nFrance           0.03023  0.001051  \nGermany         0.031206  0.001196  \nGreece          0.136219  0.008222  \nHungary         0.053488  0.002737  \nIreland         0.028693  0.001452  \nItaly           0.065773  0.003255  \nLatvia          0.030441  0.001505  \nLithuania       0.066649  0.003403  \nLuxembourg       0.02204  0.001507  \nMalta           0.031523  0.000965  \nNetherlands     0.042363   0.00172  \nPoland          0.067548   0.00297  \nPortugal        0.109242  0.006471  \nRomania         0.069493  0.004509  \nSlovakia        0.050015  0.001901  \nSlovenia        0.140557  0.005481  \nSpain           0.087046   0.00473  \nSweden          0.043253  0.002111  ",
      "text/html": "<div>\n<style scoped>\n    .dataframe tbody tr th:only-of-type {\n        vertical-align: middle;\n    }\n\n    .dataframe tbody tr th {\n        vertical-align: top;\n    }\n\n    .dataframe thead th {\n        text-align: right;\n    }\n</style>\n<table border=\"1\" class=\"dataframe\">\n  <thead>\n    <tr style=\"text-align: right;\">\n      <th></th>\n      <th>DT</th>\n      <th>SDG</th>\n      <th>Inter</th>\n      <th>GDP</th>\n      <th>SDG-gdp</th>\n      <th>DT-gdp</th>\n      <th>Inter-gdp</th>\n    </tr>\n    <tr>\n      <th>Country</th>\n      <th></th>\n      <th></th>\n      <th></th>\n      <th></th>\n      <th></th>\n      <th></th>\n      <th></th>\n    </tr>\n  </thead>\n  <tbody>\n    <tr>\n      <th>Austria</th>\n      <td>3236.053303</td>\n      <td>5372.635315</td>\n      <td>138.258313</td>\n      <td>88533.8</td>\n      <td>0.060685</td>\n      <td>0.036552</td>\n      <td>0.001562</td>\n    </tr>\n    <tr>\n      <th>Belgium</th>\n      <td>4779.746296</td>\n      <td>8371.507113</td>\n      <td>181.901241</td>\n      <td>105644</td>\n      <td>0.079243</td>\n      <td>0.045244</td>\n      <td>0.001722</td>\n    </tr>\n    <tr>\n      <th>Bulgaria</th>\n      <td>549.483471</td>\n      <td>1009.169897</td>\n      <td>24.554932</td>\n      <td>14307.8</td>\n      <td>0.070533</td>\n      <td>0.038404</td>\n      <td>0.001716</td>\n    </tr>\n    <tr>\n      <th>Croatia</th>\n      <td>1225.321102</td>\n      <td>2621.667351</td>\n      <td>78.026927</td>\n      <td>11693.6</td>\n      <td>0.224197</td>\n      <td>0.104786</td>\n      <td>0.006673</td>\n    </tr>\n    <tr>\n      <th>Cyprus</th>\n      <td>541.687904</td>\n      <td>851.738882</td>\n      <td>41.854211</td>\n      <td>5072.6</td>\n      <td>0.16791</td>\n      <td>0.106787</td>\n      <td>0.008251</td>\n    </tr>\n    <tr>\n      <th>Czech Republic</th>\n      <td>2647.521995</td>\n      <td>4618.636023</td>\n      <td>107.792072</td>\n      <td>49912.6</td>\n      <td>0.092534</td>\n      <td>0.053043</td>\n      <td>0.00216</td>\n    </tr>\n    <tr>\n      <th>Denmark</th>\n      <td>3078.092221</td>\n      <td>7977.961969</td>\n      <td>143.020285</td>\n      <td>74993.5</td>\n      <td>0.106382</td>\n      <td>0.041045</td>\n      <td>0.001907</td>\n    </tr>\n    <tr>\n      <th>Estonia</th>\n      <td>438.769553</td>\n      <td>1238.384147</td>\n      <td>31.906383</td>\n      <td>6468.1</td>\n      <td>0.19146</td>\n      <td>0.067836</td>\n      <td>0.004933</td>\n    </tr>\n    <tr>\n      <th>Finland</th>\n      <td>3615.406532</td>\n      <td>7719.220726</td>\n      <td>200.267440</td>\n      <td>57716</td>\n      <td>0.133745</td>\n      <td>0.062641</td>\n      <td>0.00347</td>\n    </tr>\n    <tr>\n      <th>France</th>\n      <td>15853.700722</td>\n      <td>23290.960538</td>\n      <td>551.407769</td>\n      <td>524427.4</td>\n      <td>0.044412</td>\n      <td>0.03023</td>\n      <td>0.001051</td>\n    </tr>\n    <tr>\n      <th>Germany</th>\n      <td>24569.802808</td>\n      <td>36083.595931</td>\n      <td>941.987972</td>\n      <td>787350</td>\n      <td>0.045829</td>\n      <td>0.031206</td>\n      <td>0.001196</td>\n    </tr>\n    <tr>\n      <th>Greece</th>\n      <td>5160.642990</td>\n      <td>7298.045071</td>\n      <td>311.481502</td>\n      <td>37885</td>\n      <td>0.192637</td>\n      <td>0.136219</td>\n      <td>0.008222</td>\n    </tr>\n    <tr>\n      <th>Hungary</th>\n      <td>1670.516461</td>\n      <td>2767.537751</td>\n      <td>85.481166</td>\n      <td>31231.4</td>\n      <td>0.088614</td>\n      <td>0.053488</td>\n      <td>0.002737</td>\n    </tr>\n    <tr>\n      <th>Ireland</th>\n      <td>2429.286519</td>\n      <td>4481.205904</td>\n      <td>122.954903</td>\n      <td>84665.3</td>\n      <td>0.052928</td>\n      <td>0.028693</td>\n      <td>0.001452</td>\n    </tr>\n    <tr>\n      <th>Italy</th>\n      <td>24648.310547</td>\n      <td>37292.169893</td>\n      <td>1219.920814</td>\n      <td>374747.8</td>\n      <td>0.099513</td>\n      <td>0.065773</td>\n      <td>0.003255</td>\n    </tr>\n    <tr>\n      <th>Latvia</th>\n      <td>217.616616</td>\n      <td>582.122971</td>\n      <td>10.760751</td>\n      <td>7148.9</td>\n      <td>0.081428</td>\n      <td>0.030441</td>\n      <td>0.001505</td>\n    </tr>\n    <tr>\n      <th>Lithuania</th>\n      <td>788.154774</td>\n      <td>1752.292576</td>\n      <td>40.237259</td>\n      <td>11825.5</td>\n      <td>0.148179</td>\n      <td>0.066649</td>\n      <td>0.003403</td>\n    </tr>\n    <tr>\n      <th>Luxembourg</th>\n      <td>339.384507</td>\n      <td>457.427076</td>\n      <td>23.212576</td>\n      <td>15398.9</td>\n      <td>0.029705</td>\n      <td>0.02204</td>\n      <td>0.001507</td>\n    </tr>\n    <tr>\n      <th>Malta</th>\n      <td>96.151579</td>\n      <td>256.117513</td>\n      <td>2.943655</td>\n      <td>3050.2</td>\n      <td>0.083967</td>\n      <td>0.031523</td>\n      <td>0.000965</td>\n    </tr>\n    <tr>\n      <th>Netherlands</th>\n      <td>8149.341042</td>\n      <td>17333.784583</td>\n      <td>330.855868</td>\n      <td>192370</td>\n      <td>0.090106</td>\n      <td>0.042363</td>\n      <td>0.00172</td>\n    </tr>\n    <tr>\n      <th>Poland</th>\n      <td>7936.649903</td>\n      <td>13146.977740</td>\n      <td>349.013199</td>\n      <td>117496.6</td>\n      <td>0.111892</td>\n      <td>0.067548</td>\n      <td>0.00297</td>\n    </tr>\n    <tr>\n      <th>Portugal</th>\n      <td>4985.216536</td>\n      <td>11419.517093</td>\n      <td>295.291351</td>\n      <td>45634.6</td>\n      <td>0.250238</td>\n      <td>0.109242</td>\n      <td>0.006471</td>\n    </tr>\n    <tr>\n      <th>Romania</th>\n      <td>3257.436330</td>\n      <td>5698.929843</td>\n      <td>211.371191</td>\n      <td>46874.4</td>\n      <td>0.121579</td>\n      <td>0.069493</td>\n      <td>0.004509</td>\n    </tr>\n    <tr>\n      <th>Slovakia</th>\n      <td>1092.612611</td>\n      <td>1733.551491</td>\n      <td>41.527329</td>\n      <td>21845.9</td>\n      <td>0.079354</td>\n      <td>0.050015</td>\n      <td>0.001901</td>\n    </tr>\n    <tr>\n      <th>Slovenia</th>\n      <td>1550.891690</td>\n      <td>1862.611074</td>\n      <td>60.474226</td>\n      <td>11033.9</td>\n      <td>0.168808</td>\n      <td>0.140557</td>\n      <td>0.005481</td>\n    </tr>\n    <tr>\n      <th>Spain</th>\n      <td>21779.103279</td>\n      <td>35876.370198</td>\n      <td>1183.567861</td>\n      <td>250201</td>\n      <td>0.14339</td>\n      <td>0.087046</td>\n      <td>0.00473</td>\n    </tr>\n    <tr>\n      <th>Sweden</th>\n      <td>4989.671550</td>\n      <td>13918.160300</td>\n      <td>243.500257</td>\n      <td>115359.3</td>\n      <td>0.120651</td>\n      <td>0.043253</td>\n      <td>0.002111</td>\n    </tr>\n  </tbody>\n</table>\n</div>"
     },
     "execution_count": 10,
     "metadata": {},
     "output_type": "execute_result"
    }
   ],
   "source": [
    "\n",
    "df_country = pd.DataFrame.from_dict(data=dic_countries_frac, orient=\"index\")\n",
    "df_country_eu = df_country.loc[eu, :]\n",
    "\n",
    "df_country_eu.index.names = ['Country']\n",
    "\n",
    "df_country_eu = df_country_eu.merge(gdppop, left_index=True, right_index=True)\n",
    "df_country_eu.loc[:, 'SDG-pop'] = df_country_eu.loc[:, 'SDG'] /  df_country_eu.loc[:, 'avg_pop']\n",
    "df_country_eu.loc[:, 'DT-pop'] = df_country_eu.loc[:, 'DT'] /  df_country_eu.loc[:, 'avg_pop']\n",
    "df_country_eu.loc[:, 'Inter-pop'] = df_country_eu.loc[:, 'Inter'] /  df_country_eu.loc[:, 'avg_pop']\n",
    "\n",
    "df_country_eu.loc[:, 'SDG-gdp'] = df_country_eu.loc[:, 'SDG'] /  df_country_eu.loc[:, 'gdp']\n",
    "df_country_eu.loc[:, 'DT-gdp'] = df_country_eu.loc[:, 'DT'] /  df_country_eu.loc[:, 'gdp']\n",
    "df_country_eu.loc[:, 'Inter-gdp'] = df_country_eu.loc[:, 'Inter'] /  df_country_eu.loc[:, 'gdp']\n",
    "#\n",
    "df_country_eu"
   ],
   "metadata": {
    "collapsed": false
   }
  },
  {
   "cell_type": "code",
   "execution_count": 11,
   "outputs": [
    {
     "data": {
      "text/plain": "                           DT            SDG        Inter        GDP  \\\nCountry                                                                \nAustria           3236.053303    5372.635315   138.258313    88533.8   \nBelgium           4779.746296    8371.507113   181.901241     105644   \nBulgaria           549.483471    1009.169897    24.554932    14307.8   \nCroatia           1225.321102    2621.667351    78.026927    11693.6   \nCyprus             541.687904     851.738882    41.854211     5072.6   \nCzech Republic    2647.521995    4618.636023   107.792072    49912.6   \nDenmark           3078.092221    7977.961969   143.020285    74993.5   \nEstonia            438.769553    1238.384147    31.906383     6468.1   \nFinland           3615.406532    7719.220726   200.267440      57716   \nFrance           15853.700722   23290.960538   551.407769   524427.4   \nGermany          24569.802808   36083.595931   941.987972     787350   \nGreece            5160.642990    7298.045071   311.481502      37885   \nHungary           1670.516461    2767.537751    85.481166    31231.4   \nIreland           2429.286519    4481.205904   122.954903    84665.3   \nItaly            24648.310547   37292.169893  1219.920814   374747.8   \nLatvia             217.616616     582.122971    10.760751     7148.9   \nLithuania          788.154774    1752.292576    40.237259    11825.5   \nLuxembourg         339.384507     457.427076    23.212576    15398.9   \nMalta               96.151579     256.117513     2.943655     3050.2   \nNetherlands       8149.341042   17333.784583   330.855868     192370   \nPoland            7936.649903   13146.977740   349.013199   117496.6   \nPortugal          4985.216536   11419.517093   295.291351    45634.6   \nRomania           3257.436330    5698.929843   211.371191    46874.4   \nSlovakia          1092.612611    1733.551491    41.527329    21845.9   \nSlovenia          1550.891690    1862.611074    60.474226    11033.9   \nSpain            21779.103279   35876.370198  1183.567861     250201   \nSweden            4989.671550   13918.160300   243.500257   115359.3   \nNorway            2617.168439    9549.820653   185.499124    73129.3   \nSwitzerland       6293.906406    9866.141928   260.587459   155236.9   \nUnited Kingdom   30787.366532   61205.919539  1455.698402   535051.4   \nCanada           20252.774707   37206.120947   901.841444   321891.4   \nChina           188528.693224  145199.568982  6755.196249  3180682.6   \nUnited States   114589.956220  193487.922934  4689.826355  4476300.2   \nJapan            20909.259142   19448.498197   560.624257  1065176.9   \nSouth Korea      32763.437206   19411.126348  1234.556650   354360.1   \nAustralia        17903.566199   46270.843816   972.265841   280349.7   \nIsrael            3375.864411    4938.700962    82.655454      85220   \n\n                 SDG-gdp    DT-gdp Inter-gdp  \nCountry                                       \nAustria         0.060685  0.036552  0.001562  \nBelgium         0.079243  0.045244  0.001722  \nBulgaria        0.070533  0.038404  0.001716  \nCroatia         0.224197  0.104786  0.006673  \nCyprus           0.16791  0.106787  0.008251  \nCzech Republic  0.092534  0.053043   0.00216  \nDenmark         0.106382  0.041045  0.001907  \nEstonia          0.19146  0.067836  0.004933  \nFinland         0.133745  0.062641   0.00347  \nFrance          0.044412   0.03023  0.001051  \nGermany         0.045829  0.031206  0.001196  \nGreece          0.192637  0.136219  0.008222  \nHungary         0.088614  0.053488  0.002737  \nIreland         0.052928  0.028693  0.001452  \nItaly           0.099513  0.065773  0.003255  \nLatvia          0.081428  0.030441  0.001505  \nLithuania       0.148179  0.066649  0.003403  \nLuxembourg      0.029705   0.02204  0.001507  \nMalta           0.083967  0.031523  0.000965  \nNetherlands     0.090106  0.042363   0.00172  \nPoland          0.111892  0.067548   0.00297  \nPortugal        0.250238  0.109242  0.006471  \nRomania         0.121579  0.069493  0.004509  \nSlovakia        0.079354  0.050015  0.001901  \nSlovenia        0.168808  0.140557  0.005481  \nSpain            0.14339  0.087046   0.00473  \nSweden          0.120651  0.043253  0.002111  \nNorway          0.130588  0.035788  0.002537  \nSwitzerland     0.063555  0.040544  0.001679  \nUnited Kingdom  0.114393  0.057541  0.002721  \nCanada          0.115586  0.062918  0.002802  \nChina            0.04565  0.059273  0.002124  \nUnited States   0.043225  0.025599  0.001048  \nJapan           0.018258   0.01963  0.000526  \nSouth Korea     0.054778  0.092458  0.003484  \nAustralia       0.165047  0.063862  0.003468  \nIsrael          0.057952  0.039614   0.00097  ",
      "text/html": "<div>\n<style scoped>\n    .dataframe tbody tr th:only-of-type {\n        vertical-align: middle;\n    }\n\n    .dataframe tbody tr th {\n        vertical-align: top;\n    }\n\n    .dataframe thead th {\n        text-align: right;\n    }\n</style>\n<table border=\"1\" class=\"dataframe\">\n  <thead>\n    <tr style=\"text-align: right;\">\n      <th></th>\n      <th>DT</th>\n      <th>SDG</th>\n      <th>Inter</th>\n      <th>GDP</th>\n      <th>SDG-gdp</th>\n      <th>DT-gdp</th>\n      <th>Inter-gdp</th>\n    </tr>\n    <tr>\n      <th>Country</th>\n      <th></th>\n      <th></th>\n      <th></th>\n      <th></th>\n      <th></th>\n      <th></th>\n      <th></th>\n    </tr>\n  </thead>\n  <tbody>\n    <tr>\n      <th>Austria</th>\n      <td>3236.053303</td>\n      <td>5372.635315</td>\n      <td>138.258313</td>\n      <td>88533.8</td>\n      <td>0.060685</td>\n      <td>0.036552</td>\n      <td>0.001562</td>\n    </tr>\n    <tr>\n      <th>Belgium</th>\n      <td>4779.746296</td>\n      <td>8371.507113</td>\n      <td>181.901241</td>\n      <td>105644</td>\n      <td>0.079243</td>\n      <td>0.045244</td>\n      <td>0.001722</td>\n    </tr>\n    <tr>\n      <th>Bulgaria</th>\n      <td>549.483471</td>\n      <td>1009.169897</td>\n      <td>24.554932</td>\n      <td>14307.8</td>\n      <td>0.070533</td>\n      <td>0.038404</td>\n      <td>0.001716</td>\n    </tr>\n    <tr>\n      <th>Croatia</th>\n      <td>1225.321102</td>\n      <td>2621.667351</td>\n      <td>78.026927</td>\n      <td>11693.6</td>\n      <td>0.224197</td>\n      <td>0.104786</td>\n      <td>0.006673</td>\n    </tr>\n    <tr>\n      <th>Cyprus</th>\n      <td>541.687904</td>\n      <td>851.738882</td>\n      <td>41.854211</td>\n      <td>5072.6</td>\n      <td>0.16791</td>\n      <td>0.106787</td>\n      <td>0.008251</td>\n    </tr>\n    <tr>\n      <th>Czech Republic</th>\n      <td>2647.521995</td>\n      <td>4618.636023</td>\n      <td>107.792072</td>\n      <td>49912.6</td>\n      <td>0.092534</td>\n      <td>0.053043</td>\n      <td>0.00216</td>\n    </tr>\n    <tr>\n      <th>Denmark</th>\n      <td>3078.092221</td>\n      <td>7977.961969</td>\n      <td>143.020285</td>\n      <td>74993.5</td>\n      <td>0.106382</td>\n      <td>0.041045</td>\n      <td>0.001907</td>\n    </tr>\n    <tr>\n      <th>Estonia</th>\n      <td>438.769553</td>\n      <td>1238.384147</td>\n      <td>31.906383</td>\n      <td>6468.1</td>\n      <td>0.19146</td>\n      <td>0.067836</td>\n      <td>0.004933</td>\n    </tr>\n    <tr>\n      <th>Finland</th>\n      <td>3615.406532</td>\n      <td>7719.220726</td>\n      <td>200.267440</td>\n      <td>57716</td>\n      <td>0.133745</td>\n      <td>0.062641</td>\n      <td>0.00347</td>\n    </tr>\n    <tr>\n      <th>France</th>\n      <td>15853.700722</td>\n      <td>23290.960538</td>\n      <td>551.407769</td>\n      <td>524427.4</td>\n      <td>0.044412</td>\n      <td>0.03023</td>\n      <td>0.001051</td>\n    </tr>\n    <tr>\n      <th>Germany</th>\n      <td>24569.802808</td>\n      <td>36083.595931</td>\n      <td>941.987972</td>\n      <td>787350</td>\n      <td>0.045829</td>\n      <td>0.031206</td>\n      <td>0.001196</td>\n    </tr>\n    <tr>\n      <th>Greece</th>\n      <td>5160.642990</td>\n      <td>7298.045071</td>\n      <td>311.481502</td>\n      <td>37885</td>\n      <td>0.192637</td>\n      <td>0.136219</td>\n      <td>0.008222</td>\n    </tr>\n    <tr>\n      <th>Hungary</th>\n      <td>1670.516461</td>\n      <td>2767.537751</td>\n      <td>85.481166</td>\n      <td>31231.4</td>\n      <td>0.088614</td>\n      <td>0.053488</td>\n      <td>0.002737</td>\n    </tr>\n    <tr>\n      <th>Ireland</th>\n      <td>2429.286519</td>\n      <td>4481.205904</td>\n      <td>122.954903</td>\n      <td>84665.3</td>\n      <td>0.052928</td>\n      <td>0.028693</td>\n      <td>0.001452</td>\n    </tr>\n    <tr>\n      <th>Italy</th>\n      <td>24648.310547</td>\n      <td>37292.169893</td>\n      <td>1219.920814</td>\n      <td>374747.8</td>\n      <td>0.099513</td>\n      <td>0.065773</td>\n      <td>0.003255</td>\n    </tr>\n    <tr>\n      <th>Latvia</th>\n      <td>217.616616</td>\n      <td>582.122971</td>\n      <td>10.760751</td>\n      <td>7148.9</td>\n      <td>0.081428</td>\n      <td>0.030441</td>\n      <td>0.001505</td>\n    </tr>\n    <tr>\n      <th>Lithuania</th>\n      <td>788.154774</td>\n      <td>1752.292576</td>\n      <td>40.237259</td>\n      <td>11825.5</td>\n      <td>0.148179</td>\n      <td>0.066649</td>\n      <td>0.003403</td>\n    </tr>\n    <tr>\n      <th>Luxembourg</th>\n      <td>339.384507</td>\n      <td>457.427076</td>\n      <td>23.212576</td>\n      <td>15398.9</td>\n      <td>0.029705</td>\n      <td>0.02204</td>\n      <td>0.001507</td>\n    </tr>\n    <tr>\n      <th>Malta</th>\n      <td>96.151579</td>\n      <td>256.117513</td>\n      <td>2.943655</td>\n      <td>3050.2</td>\n      <td>0.083967</td>\n      <td>0.031523</td>\n      <td>0.000965</td>\n    </tr>\n    <tr>\n      <th>Netherlands</th>\n      <td>8149.341042</td>\n      <td>17333.784583</td>\n      <td>330.855868</td>\n      <td>192370</td>\n      <td>0.090106</td>\n      <td>0.042363</td>\n      <td>0.00172</td>\n    </tr>\n    <tr>\n      <th>Poland</th>\n      <td>7936.649903</td>\n      <td>13146.977740</td>\n      <td>349.013199</td>\n      <td>117496.6</td>\n      <td>0.111892</td>\n      <td>0.067548</td>\n      <td>0.00297</td>\n    </tr>\n    <tr>\n      <th>Portugal</th>\n      <td>4985.216536</td>\n      <td>11419.517093</td>\n      <td>295.291351</td>\n      <td>45634.6</td>\n      <td>0.250238</td>\n      <td>0.109242</td>\n      <td>0.006471</td>\n    </tr>\n    <tr>\n      <th>Romania</th>\n      <td>3257.436330</td>\n      <td>5698.929843</td>\n      <td>211.371191</td>\n      <td>46874.4</td>\n      <td>0.121579</td>\n      <td>0.069493</td>\n      <td>0.004509</td>\n    </tr>\n    <tr>\n      <th>Slovakia</th>\n      <td>1092.612611</td>\n      <td>1733.551491</td>\n      <td>41.527329</td>\n      <td>21845.9</td>\n      <td>0.079354</td>\n      <td>0.050015</td>\n      <td>0.001901</td>\n    </tr>\n    <tr>\n      <th>Slovenia</th>\n      <td>1550.891690</td>\n      <td>1862.611074</td>\n      <td>60.474226</td>\n      <td>11033.9</td>\n      <td>0.168808</td>\n      <td>0.140557</td>\n      <td>0.005481</td>\n    </tr>\n    <tr>\n      <th>Spain</th>\n      <td>21779.103279</td>\n      <td>35876.370198</td>\n      <td>1183.567861</td>\n      <td>250201</td>\n      <td>0.14339</td>\n      <td>0.087046</td>\n      <td>0.00473</td>\n    </tr>\n    <tr>\n      <th>Sweden</th>\n      <td>4989.671550</td>\n      <td>13918.160300</td>\n      <td>243.500257</td>\n      <td>115359.3</td>\n      <td>0.120651</td>\n      <td>0.043253</td>\n      <td>0.002111</td>\n    </tr>\n    <tr>\n      <th>Norway</th>\n      <td>2617.168439</td>\n      <td>9549.820653</td>\n      <td>185.499124</td>\n      <td>73129.3</td>\n      <td>0.130588</td>\n      <td>0.035788</td>\n      <td>0.002537</td>\n    </tr>\n    <tr>\n      <th>Switzerland</th>\n      <td>6293.906406</td>\n      <td>9866.141928</td>\n      <td>260.587459</td>\n      <td>155236.9</td>\n      <td>0.063555</td>\n      <td>0.040544</td>\n      <td>0.001679</td>\n    </tr>\n    <tr>\n      <th>United Kingdom</th>\n      <td>30787.366532</td>\n      <td>61205.919539</td>\n      <td>1455.698402</td>\n      <td>535051.4</td>\n      <td>0.114393</td>\n      <td>0.057541</td>\n      <td>0.002721</td>\n    </tr>\n    <tr>\n      <th>Canada</th>\n      <td>20252.774707</td>\n      <td>37206.120947</td>\n      <td>901.841444</td>\n      <td>321891.4</td>\n      <td>0.115586</td>\n      <td>0.062918</td>\n      <td>0.002802</td>\n    </tr>\n    <tr>\n      <th>China</th>\n      <td>188528.693224</td>\n      <td>145199.568982</td>\n      <td>6755.196249</td>\n      <td>3180682.6</td>\n      <td>0.04565</td>\n      <td>0.059273</td>\n      <td>0.002124</td>\n    </tr>\n    <tr>\n      <th>United States</th>\n      <td>114589.956220</td>\n      <td>193487.922934</td>\n      <td>4689.826355</td>\n      <td>4476300.2</td>\n      <td>0.043225</td>\n      <td>0.025599</td>\n      <td>0.001048</td>\n    </tr>\n    <tr>\n      <th>Japan</th>\n      <td>20909.259142</td>\n      <td>19448.498197</td>\n      <td>560.624257</td>\n      <td>1065176.9</td>\n      <td>0.018258</td>\n      <td>0.01963</td>\n      <td>0.000526</td>\n    </tr>\n    <tr>\n      <th>South Korea</th>\n      <td>32763.437206</td>\n      <td>19411.126348</td>\n      <td>1234.556650</td>\n      <td>354360.1</td>\n      <td>0.054778</td>\n      <td>0.092458</td>\n      <td>0.003484</td>\n    </tr>\n    <tr>\n      <th>Australia</th>\n      <td>17903.566199</td>\n      <td>46270.843816</td>\n      <td>972.265841</td>\n      <td>280349.7</td>\n      <td>0.165047</td>\n      <td>0.063862</td>\n      <td>0.003468</td>\n    </tr>\n    <tr>\n      <th>Israel</th>\n      <td>3375.864411</td>\n      <td>4938.700962</td>\n      <td>82.655454</td>\n      <td>85220</td>\n      <td>0.057952</td>\n      <td>0.039614</td>\n      <td>0.00097</td>\n    </tr>\n  </tbody>\n</table>\n</div>"
     },
     "execution_count": 11,
     "metadata": {},
     "output_type": "execute_result"
    }
   ],
   "source": [
    "df_country_eu_other= df_country.loc[eu+other_countries, :]\n",
    "df_country_eu_other.index.names = ['Country']\n",
    "df_country_eu_other = df_country_eu_other.merge(gdp, left_index=True, right_index=True)\n",
    "\n",
    "df_country_eu_other.loc[:, 'SDG-gdp'] = df_country_eu_other.loc[:, 'SDG'] /  df_country_eu_other.loc[:, 'GDP']\n",
    "df_country_eu_other.loc[:, 'DT-gdp'] = df_country_eu_other.loc[:, 'DT'] /  df_country_eu_other.loc[:, 'GDP']\n",
    "df_country_eu_other.loc[:, 'Inter-gdp'] = df_country_eu_other.loc[:, 'Inter'] /  df_country_eu_other.loc[:, 'GDP']\n",
    "#\n",
    "df_country_eu_other"
   ],
   "metadata": {
    "collapsed": false
   }
  },
  {
   "cell_type": "code",
   "execution_count": 24,
   "outputs": [
    {
     "data": {
      "text/plain": "Index(['DT', 'SDG', 'Inter', 'avg_pop', 'gdp', 'SDG-pop', 'DT-pop',\n       'Inter-pop', 'SDG-gdp', 'DT-gdp', 'Inter-gdp'],\n      dtype='object')"
     },
     "execution_count": 24,
     "metadata": {},
     "output_type": "execute_result"
    }
   ],
   "source": [
    "df_country_eu.columns"
   ],
   "metadata": {
    "collapsed": false
   }
  },
  {
   "cell_type": "code",
   "execution_count": 25,
   "outputs": [
    {
     "name": "stdout",
     "output_type": "stream",
     "text": [
      "SDG\n",
      "DT\n",
      "Inter\n",
      "SDG\n",
      "DT\n",
      "Inter\n",
      "SDG\n",
      "DT\n",
      "Inter\n"
     ]
    }
   ],
   "source": [
    "for cat in ['SDG', 'DT', 'Inter', 'SDG-pop', 'DT-pop','Inter-pop', 'SDG-gdp', 'DT-gdp', 'Inter-gdp']:\n",
    "    tit = cat.replace(\"-pop\", \"\").replace(\"-gdp\", \"\")\n",
    "    print(tit)"
   ],
   "metadata": {
    "collapsed": false
   }
  },
  {
   "cell_type": "markdown",
   "source": [
    "## Maps for EU"
   ],
   "metadata": {
    "collapsed": false
   }
  },
  {
   "cell_type": "code",
   "execution_count": 25,
   "outputs": [],
   "source": [
    "for cat in ['SDG', 'DT', 'Inter', 'SDG-pop', 'DT-pop','Inter-pop', 'SDG-gdp', 'DT-gdp', 'Inter-gdp']:\n",
    "    # tit = cat.replace(\"-pop\", \"\").replace(\"-gdp\", \"\")\n",
    "    if 'pop' in cat:\n",
    "        spec = \"/pop*\"\n",
    "        annot= \"*Normalised by population\"\n",
    "    elif \"gdp\" in cat:\n",
    "        spec = \"/gdp*\"\n",
    "        annot = \"*Normalised by GDP (in M€)\"\n",
    "    else:\n",
    "        spec = \"\"\n",
    "        annot = \"\"\n",
    "    tit = f\"Nb pubs{spec}\"\n",
    "    layout = go.Layout(\n",
    "        annotations=[\n",
    "            dict(\n",
    "                x=1.05,\n",
    "                y=1,\n",
    "                align=\"right\",\n",
    "                valign=\"top\",\n",
    "                text=tit,\n",
    "                showarrow=False,\n",
    "                xref=\"paper\",\n",
    "                yref=\"paper\",\n",
    "                xanchor=\"center\",\n",
    "                yanchor=\"top\",\n",
    "                font_size=22,\n",
    "                ),\n",
    "            dict(\n",
    "                x=0.25,\n",
    "                y=-.01,\n",
    "                align=\"right\",\n",
    "                valign=\"top\",\n",
    "                text=annot,\n",
    "                showarrow=False,\n",
    "                xref=\"paper\",\n",
    "                yref=\"paper\",\n",
    "                xanchor=\"center\",\n",
    "                yanchor=\"top\",\n",
    "                font_size=30,\n",
    "                ),\n",
    "            ],\n",
    "        )\n",
    "    fig = go.Figure(\n",
    "            data=go.Choropleth(\n",
    "                locations=df_country_eu.index,\n",
    "                z=df_country_eu[cat],\n",
    "                text=df_country_eu.index,\n",
    "                locationmode=\"country names\",\n",
    "                colorscale='Blues',\n",
    "                autocolorscale=False,\n",
    "                colorbar=dict(\n",
    "                    len=0.9,\n",
    "                    y=0.5\n",
    "                )\n",
    "            ),\n",
    "            layout=layout,\n",
    "        )\n",
    "\n",
    "    fig.update_layout(\n",
    "        template='simple_white',\n",
    "        font=dict(size=30),\n",
    "        showlegend=True,\n",
    "        geo=go.layout.Geo(\n",
    "            scope=\"world\",\n",
    "            landcolor='lightgray',\n",
    "            projection_scale=float(6.1),\n",
    "            center=dict(lon=15, lat=52),\n",
    "            projection_type=\"azimuthal equal area\",\n",
    "            showland=True,\n",
    "            showcountries=False,\n",
    "            showframe=False\n",
    "        ),\n",
    "        height=1080,\n",
    "        width=1200\n",
    "\n",
    "    )\n",
    "    fig.write_image(f\"../img/Commission/maps/EU_{cat}.jpg\")\n",
    "    # pio.write_image(fig, folder, format='png')"
   ],
   "metadata": {
    "collapsed": false
   }
  },
  {
   "cell_type": "markdown",
   "source": [
    "## Same on WORLD"
   ],
   "metadata": {
    "collapsed": false
   }
  },
  {
   "cell_type": "code",
   "execution_count": 8,
   "outputs": [
    {
     "name": "stdout",
     "output_type": "stream",
     "text": [
      "CPU times: user 3.32 s, sys: 0 ns, total: 3.32 s\n",
      "Wall time: 3.32 s\n"
     ]
    }
   ],
   "source": [
    "%%time\n",
    "set_countries = set()\n",
    "for row in df_sdg.itertuples(index=False, name=None):\n",
    "    cn = row[12]\n",
    "    lst_actors = cn.split(\", \")\n",
    "    for actor in lst_actors:\n",
    "        set_countries.add(actor)\n"
   ],
   "metadata": {
    "collapsed": false
   }
  },
  {
   "cell_type": "code",
   "execution_count": 9,
   "outputs": [
    {
     "data": {
      "text/plain": "217"
     },
     "execution_count": 9,
     "metadata": {},
     "output_type": "execute_result"
    }
   ],
   "source": [
    "len(set_countries)"
   ],
   "metadata": {
    "collapsed": false
   }
  },
  {
   "cell_type": "code",
   "execution_count": 28,
   "outputs": [],
   "source": [
    "# Digital\n",
    "\n",
    "dic_countries = {country: [0, 0, 0]  for country in set_countries}\n",
    "\n",
    "for row in df_digital.itertuples(index=False, name=None):\n",
    "    lst_actors = row[idx_dt['CN']].split(\", \")\n",
    "    year = row[idx_dt['PY']]\n",
    "    size_actors = len(lst_actors)\n",
    "    for actor in lst_actors:\n",
    "        # Increment for digital\n",
    "        if actor in dic_countries:\n",
    "            dic_countries[actor][0] += 1 / size_actors\n",
    "            if actor in eu_countries:\n",
    "                dic_countries['EU'][0] += 1 / size_actors\n",
    "\n",
    "# SDG & SDG-DT\n",
    "for row in df_sdg.itertuples(index=False, name=None):\n",
    "    lst_actors = row[idx_sdg['CN']].split(\", \")\n",
    "    year = row[idx_sdg['PY']]\n",
    "    size_actors = len(lst_actors)\n",
    "    for actor in lst_actors:\n",
    "        if actor in dic_countries:\n",
    "            # Increment for SDG\n",
    "            dic_countries[actor][1] += 1 / size_actors\n",
    "            if actor in eu_countries:\n",
    "                dic_countries['EU'][1] += 1 / size_actors\n",
    "            if row[-1]:\n",
    "                # Increment for SDG-DT\n",
    "                dic_countries[actor][2] += 1 / size_actors\n",
    "                if actor in eu_countries:\n",
    "                    dic_countries['EU'][2] += 1 / size_actors\n"
   ],
   "metadata": {
    "collapsed": false
   }
  },
  {
   "cell_type": "code",
   "execution_count": 29,
   "outputs": [
    {
     "data": {
      "text/plain": "218"
     },
     "execution_count": 29,
     "metadata": {},
     "output_type": "execute_result"
    }
   ],
   "source": [
    "len(dic_countries)"
   ],
   "metadata": {
    "collapsed": false
   }
  },
  {
   "cell_type": "code",
   "execution_count": 30,
   "outputs": [],
   "source": [
    "dic_countries_to_rename = {\"Palestine\": \"Palestinian Territory\",\n",
    "                                   \"Cote d'Ivoire\": \"Ivory Coast\",\n",
    "                                   \"Congo[DRC]\": \"Democratic Republic of the Congo\",\n",
    "                                   \"Congo, Dem.Rep.\": \"Democratic Republic of the Congo\",\n",
    "                                   \"Eswatini\": \"Swaziland\",\n",
    "                                   \"Guinea Bissau\": \"Guinea-Bissau\",\n",
    "                                   \"Timor-Leste\": \"East Timor\",\n",
    "                                   }\n",
    "for country in dic_countries.copy():\n",
    "    if country in dic_countries_to_rename:\n",
    "        dic_countries[dic_countries_to_rename[country]] = dic_countries[country]"
   ],
   "metadata": {
    "collapsed": false
   }
  },
  {
   "cell_type": "code",
   "execution_count": 39,
   "outputs": [
    {
     "data": {
      "text/plain": "                                 SDG             DT        Inter\nCountry                                                         \nUnited States          114589.956220  193487.922934  4689.826355\nCzech Republic           2647.521995    4618.636023   107.792072\nKiribati                    0.000000       6.486967     0.000000\nSeychelles                  0.055556      55.977470     0.055556\nSwaziland                   0.000000      32.625238     1.857143\n...                              ...            ...          ...\nFinland                  3615.406532    7719.220726   200.267440\nEast Timor                  1.000000      17.311742     0.500000\nIvory Coast                31.382757     242.738054     3.795635\nGuinea-Bissau               0.000000      17.696378     0.142857\nPalestinian Territory       3.616667     241.647418     5.746429\n\n[222 rows x 3 columns]",
      "text/html": "<div>\n<style scoped>\n    .dataframe tbody tr th:only-of-type {\n        vertical-align: middle;\n    }\n\n    .dataframe tbody tr th {\n        vertical-align: top;\n    }\n\n    .dataframe thead th {\n        text-align: right;\n    }\n</style>\n<table border=\"1\" class=\"dataframe\">\n  <thead>\n    <tr style=\"text-align: right;\">\n      <th></th>\n      <th>SDG</th>\n      <th>DT</th>\n      <th>Inter</th>\n    </tr>\n    <tr>\n      <th>Country</th>\n      <th></th>\n      <th></th>\n      <th></th>\n    </tr>\n  </thead>\n  <tbody>\n    <tr>\n      <th>United States</th>\n      <td>114589.956220</td>\n      <td>193487.922934</td>\n      <td>4689.826355</td>\n    </tr>\n    <tr>\n      <th>Czech Republic</th>\n      <td>2647.521995</td>\n      <td>4618.636023</td>\n      <td>107.792072</td>\n    </tr>\n    <tr>\n      <th>Kiribati</th>\n      <td>0.000000</td>\n      <td>6.486967</td>\n      <td>0.000000</td>\n    </tr>\n    <tr>\n      <th>Seychelles</th>\n      <td>0.055556</td>\n      <td>55.977470</td>\n      <td>0.055556</td>\n    </tr>\n    <tr>\n      <th>Swaziland</th>\n      <td>0.000000</td>\n      <td>32.625238</td>\n      <td>1.857143</td>\n    </tr>\n    <tr>\n      <th>...</th>\n      <td>...</td>\n      <td>...</td>\n      <td>...</td>\n    </tr>\n    <tr>\n      <th>Finland</th>\n      <td>3615.406532</td>\n      <td>7719.220726</td>\n      <td>200.267440</td>\n    </tr>\n    <tr>\n      <th>East Timor</th>\n      <td>1.000000</td>\n      <td>17.311742</td>\n      <td>0.500000</td>\n    </tr>\n    <tr>\n      <th>Ivory Coast</th>\n      <td>31.382757</td>\n      <td>242.738054</td>\n      <td>3.795635</td>\n    </tr>\n    <tr>\n      <th>Guinea-Bissau</th>\n      <td>0.000000</td>\n      <td>17.696378</td>\n      <td>0.142857</td>\n    </tr>\n    <tr>\n      <th>Palestinian Territory</th>\n      <td>3.616667</td>\n      <td>241.647418</td>\n      <td>5.746429</td>\n    </tr>\n  </tbody>\n</table>\n<p>222 rows × 3 columns</p>\n</div>"
     },
     "execution_count": 39,
     "metadata": {},
     "output_type": "execute_result"
    }
   ],
   "source": [
    "df_country = pd.DataFrame.from_dict(data=dic_countries, orient=\"index\", columns=['SDG', 'DT', 'Inter'])\n",
    "\n",
    "df_country.index.names = ['Country']\n",
    "dic_countries_to_rename = {\"Palestine\": \"Palestinian Territory\",\n",
    "                                   \"Cote d'Ivoire\": \"Ivory Coast\",\n",
    "                                   \"Congo [DRC]\": \"Democratic Republic of the Congo\",\n",
    "                                   \"Congo, Dem.Rep.\": \"Democratic Republic of the Congo\",\n",
    "                                   \"Eswatini\": \"Swaziland\",\n",
    "                                   \"Guinea Bissau\": \"Guinea-Bissau\",\n",
    "                                   \"Timor-Leste\": \"East Timor\",\n",
    "                                   }\n",
    "df_country.rename(index=dic_countries_to_rename, inplace=True)\n",
    "df_country"
   ],
   "metadata": {
    "collapsed": false
   }
  },
  {
   "cell_type": "code",
   "execution_count": 40,
   "outputs": [
    {
     "data": {
      "text/plain": "                          SDG             DT        Inter       avg_pop  \\\nAlbania             33.306126     249.054814     2.220635  2.875263e+06   \nAlgeria           2206.074170    1425.219143    94.420238  4.020870e+07   \nArgentina         1119.582110    4854.826979    40.743442  4.333679e+07   \nArmenia             51.328493      96.112800     4.187472  2.924618e+06   \nAustralia        17903.566199   46270.843816   972.265841  2.400823e+07   \n...                       ...            ...          ...           ...   \nTurkey           12098.228238   15803.667151   503.252824  7.901677e+07   \nUkraine           1002.330534    2733.750840    69.576506  4.498976e+07   \nUnited Kingdom   30787.366532   61205.919539  1455.698402  6.524557e+07   \nUnited States   114589.956220  193487.922934  4689.826355  3.213942e+08   \nUruguay            127.558462     577.190327    10.795390  3.419979e+06   \n\n                      gdp  \nAlbania            3348.7  \nAlgeria               0.0  \nArgentina             0.0  \nArmenia               0.0  \nAustralia        324962.5  \n...                   ...  \nTurkey           156571.8  \nUkraine               0.0  \nUnited Kingdom   609979.5  \nUnited States   4518929.3  \nUruguay               0.0  \n\n[92 rows x 5 columns]",
      "text/html": "<div>\n<style scoped>\n    .dataframe tbody tr th:only-of-type {\n        vertical-align: middle;\n    }\n\n    .dataframe tbody tr th {\n        vertical-align: top;\n    }\n\n    .dataframe thead th {\n        text-align: right;\n    }\n</style>\n<table border=\"1\" class=\"dataframe\">\n  <thead>\n    <tr style=\"text-align: right;\">\n      <th></th>\n      <th>SDG</th>\n      <th>DT</th>\n      <th>Inter</th>\n      <th>avg_pop</th>\n      <th>gdp</th>\n    </tr>\n  </thead>\n  <tbody>\n    <tr>\n      <th>Albania</th>\n      <td>33.306126</td>\n      <td>249.054814</td>\n      <td>2.220635</td>\n      <td>2.875263e+06</td>\n      <td>3348.7</td>\n    </tr>\n    <tr>\n      <th>Algeria</th>\n      <td>2206.074170</td>\n      <td>1425.219143</td>\n      <td>94.420238</td>\n      <td>4.020870e+07</td>\n      <td>0.0</td>\n    </tr>\n    <tr>\n      <th>Argentina</th>\n      <td>1119.582110</td>\n      <td>4854.826979</td>\n      <td>40.743442</td>\n      <td>4.333679e+07</td>\n      <td>0.0</td>\n    </tr>\n    <tr>\n      <th>Armenia</th>\n      <td>51.328493</td>\n      <td>96.112800</td>\n      <td>4.187472</td>\n      <td>2.924618e+06</td>\n      <td>0.0</td>\n    </tr>\n    <tr>\n      <th>Australia</th>\n      <td>17903.566199</td>\n      <td>46270.843816</td>\n      <td>972.265841</td>\n      <td>2.400823e+07</td>\n      <td>324962.5</td>\n    </tr>\n    <tr>\n      <th>...</th>\n      <td>...</td>\n      <td>...</td>\n      <td>...</td>\n      <td>...</td>\n      <td>...</td>\n    </tr>\n    <tr>\n      <th>Turkey</th>\n      <td>12098.228238</td>\n      <td>15803.667151</td>\n      <td>503.252824</td>\n      <td>7.901677e+07</td>\n      <td>156571.8</td>\n    </tr>\n    <tr>\n      <th>Ukraine</th>\n      <td>1002.330534</td>\n      <td>2733.750840</td>\n      <td>69.576506</td>\n      <td>4.498976e+07</td>\n      <td>0.0</td>\n    </tr>\n    <tr>\n      <th>United Kingdom</th>\n      <td>30787.366532</td>\n      <td>61205.919539</td>\n      <td>1455.698402</td>\n      <td>6.524557e+07</td>\n      <td>609979.5</td>\n    </tr>\n    <tr>\n      <th>United States</th>\n      <td>114589.956220</td>\n      <td>193487.922934</td>\n      <td>4689.826355</td>\n      <td>3.213942e+08</td>\n      <td>4518929.3</td>\n    </tr>\n    <tr>\n      <th>Uruguay</th>\n      <td>127.558462</td>\n      <td>577.190327</td>\n      <td>10.795390</td>\n      <td>3.419979e+06</td>\n      <td>0.0</td>\n    </tr>\n  </tbody>\n</table>\n<p>92 rows × 5 columns</p>\n</div>"
     },
     "execution_count": 40,
     "metadata": {},
     "output_type": "execute_result"
    }
   ],
   "source": [
    "df_country = df_country.merge(gdppop, left_index=True, right_index=True)\n",
    "df_country"
   ],
   "metadata": {
    "collapsed": false
   }
  },
  {
   "cell_type": "code",
   "execution_count": 38,
   "outputs": [
    {
     "data": {
      "text/plain": "                          SDG             DT        Inter       avg_pop  \\\nAlbania             33.306126     249.054814     2.220635  2.875263e+06   \nAlgeria           2206.074170    1425.219143    94.420238  4.020870e+07   \nArgentina         1119.582110    4854.826979    40.743442  4.333679e+07   \nArmenia             51.328493      96.112800     4.187472  2.924618e+06   \nAustralia        17903.566199   46270.843816   972.265841  2.400823e+07   \n...                       ...            ...          ...           ...   \nTurkey           12098.228238   15803.667151   503.252824  7.901677e+07   \nUkraine           1002.330534    2733.750840    69.576506  4.498976e+07   \nUnited Kingdom   30787.366532   61205.919539  1455.698402  6.524557e+07   \nUnited States   114589.956220  193487.922934  4689.826355  3.213942e+08   \nUruguay            127.558462     577.190327    10.795390  3.419979e+06   \n\n                      gdp  \nAlbania            3348.7  \nAlgeria               0.0  \nArgentina             0.0  \nArmenia               0.0  \nAustralia        324962.5  \n...                   ...  \nTurkey           156571.8  \nUkraine               0.0  \nUnited Kingdom   609979.5  \nUnited States   4518929.3  \nUruguay               0.0  \n\n[92 rows x 5 columns]",
      "text/html": "<div>\n<style scoped>\n    .dataframe tbody tr th:only-of-type {\n        vertical-align: middle;\n    }\n\n    .dataframe tbody tr th {\n        vertical-align: top;\n    }\n\n    .dataframe thead th {\n        text-align: right;\n    }\n</style>\n<table border=\"1\" class=\"dataframe\">\n  <thead>\n    <tr style=\"text-align: right;\">\n      <th></th>\n      <th>SDG</th>\n      <th>DT</th>\n      <th>Inter</th>\n      <th>avg_pop</th>\n      <th>gdp</th>\n    </tr>\n  </thead>\n  <tbody>\n    <tr>\n      <th>Albania</th>\n      <td>33.306126</td>\n      <td>249.054814</td>\n      <td>2.220635</td>\n      <td>2.875263e+06</td>\n      <td>3348.7</td>\n    </tr>\n    <tr>\n      <th>Algeria</th>\n      <td>2206.074170</td>\n      <td>1425.219143</td>\n      <td>94.420238</td>\n      <td>4.020870e+07</td>\n      <td>0.0</td>\n    </tr>\n    <tr>\n      <th>Argentina</th>\n      <td>1119.582110</td>\n      <td>4854.826979</td>\n      <td>40.743442</td>\n      <td>4.333679e+07</td>\n      <td>0.0</td>\n    </tr>\n    <tr>\n      <th>Armenia</th>\n      <td>51.328493</td>\n      <td>96.112800</td>\n      <td>4.187472</td>\n      <td>2.924618e+06</td>\n      <td>0.0</td>\n    </tr>\n    <tr>\n      <th>Australia</th>\n      <td>17903.566199</td>\n      <td>46270.843816</td>\n      <td>972.265841</td>\n      <td>2.400823e+07</td>\n      <td>324962.5</td>\n    </tr>\n    <tr>\n      <th>...</th>\n      <td>...</td>\n      <td>...</td>\n      <td>...</td>\n      <td>...</td>\n      <td>...</td>\n    </tr>\n    <tr>\n      <th>Turkey</th>\n      <td>12098.228238</td>\n      <td>15803.667151</td>\n      <td>503.252824</td>\n      <td>7.901677e+07</td>\n      <td>156571.8</td>\n    </tr>\n    <tr>\n      <th>Ukraine</th>\n      <td>1002.330534</td>\n      <td>2733.750840</td>\n      <td>69.576506</td>\n      <td>4.498976e+07</td>\n      <td>0.0</td>\n    </tr>\n    <tr>\n      <th>United Kingdom</th>\n      <td>30787.366532</td>\n      <td>61205.919539</td>\n      <td>1455.698402</td>\n      <td>6.524557e+07</td>\n      <td>609979.5</td>\n    </tr>\n    <tr>\n      <th>United States</th>\n      <td>114589.956220</td>\n      <td>193487.922934</td>\n      <td>4689.826355</td>\n      <td>3.213942e+08</td>\n      <td>4518929.3</td>\n    </tr>\n    <tr>\n      <th>Uruguay</th>\n      <td>127.558462</td>\n      <td>577.190327</td>\n      <td>10.795390</td>\n      <td>3.419979e+06</td>\n      <td>0.0</td>\n    </tr>\n  </tbody>\n</table>\n<p>92 rows × 5 columns</p>\n</div>"
     },
     "execution_count": 38,
     "metadata": {},
     "output_type": "execute_result"
    }
   ],
   "source": [
    "# df_country = df_country.replace(\":\", np.NAN).dropna(subset=\"gdp\")\n",
    "# for country in eu:\n",
    "#     df_country.loc[country, :] = df_country.loc['EU', :]\n",
    "# df_country"
   ],
   "metadata": {
    "collapsed": false
   }
  },
  {
   "cell_type": "code",
   "execution_count": 42,
   "outputs": [
    {
     "data": {
      "text/plain": "                          SDG             DT        Inter       avg_pop  \\\nAlbania             33.306126     249.054814     2.220635  2.875263e+06   \nAlgeria           2206.074170    1425.219143    94.420238  4.020870e+07   \nArgentina         1119.582110    4854.826979    40.743442  4.333679e+07   \nArmenia             51.328493      96.112800     4.187472  2.924618e+06   \nAustralia        17903.566199   46270.843816   972.265841  2.400823e+07   \n...                       ...            ...          ...           ...   \nTurkey           12098.228238   15803.667151   503.252824  7.901677e+07   \nUkraine           1002.330534    2733.750840    69.576506  4.498976e+07   \nUnited Kingdom   30787.366532   61205.919539  1455.698402  6.524557e+07   \nUnited States   114589.956220  193487.922934  4689.826355  3.213942e+08   \nUruguay            127.558462     577.190327    10.795390  3.419979e+06   \n\n                      gdp   SDG-gdp    DT-gdp  Inter-gdp  \nAlbania            3348.7  0.009946  0.074374   0.000663  \nAlgeria               0.0       inf       inf        inf  \nArgentina             0.0       inf       inf        inf  \nArmenia               0.0       inf       inf        inf  \nAustralia        324962.5  0.055094  0.142388   0.002992  \n...                   ...       ...       ...        ...  \nTurkey           156571.8  0.077270  0.100936   0.003214  \nUkraine               0.0       inf       inf        inf  \nUnited Kingdom   609979.5  0.050473  0.100341   0.002386  \nUnited States   4518929.3  0.025358  0.042817   0.001038  \nUruguay               0.0       inf       inf        inf  \n\n[92 rows x 8 columns]",
      "text/html": "<div>\n<style scoped>\n    .dataframe tbody tr th:only-of-type {\n        vertical-align: middle;\n    }\n\n    .dataframe tbody tr th {\n        vertical-align: top;\n    }\n\n    .dataframe thead th {\n        text-align: right;\n    }\n</style>\n<table border=\"1\" class=\"dataframe\">\n  <thead>\n    <tr style=\"text-align: right;\">\n      <th></th>\n      <th>SDG</th>\n      <th>DT</th>\n      <th>Inter</th>\n      <th>avg_pop</th>\n      <th>gdp</th>\n      <th>SDG-gdp</th>\n      <th>DT-gdp</th>\n      <th>Inter-gdp</th>\n    </tr>\n  </thead>\n  <tbody>\n    <tr>\n      <th>Albania</th>\n      <td>33.306126</td>\n      <td>249.054814</td>\n      <td>2.220635</td>\n      <td>2.875263e+06</td>\n      <td>3348.7</td>\n      <td>0.009946</td>\n      <td>0.074374</td>\n      <td>0.000663</td>\n    </tr>\n    <tr>\n      <th>Algeria</th>\n      <td>2206.074170</td>\n      <td>1425.219143</td>\n      <td>94.420238</td>\n      <td>4.020870e+07</td>\n      <td>0.0</td>\n      <td>inf</td>\n      <td>inf</td>\n      <td>inf</td>\n    </tr>\n    <tr>\n      <th>Argentina</th>\n      <td>1119.582110</td>\n      <td>4854.826979</td>\n      <td>40.743442</td>\n      <td>4.333679e+07</td>\n      <td>0.0</td>\n      <td>inf</td>\n      <td>inf</td>\n      <td>inf</td>\n    </tr>\n    <tr>\n      <th>Armenia</th>\n      <td>51.328493</td>\n      <td>96.112800</td>\n      <td>4.187472</td>\n      <td>2.924618e+06</td>\n      <td>0.0</td>\n      <td>inf</td>\n      <td>inf</td>\n      <td>inf</td>\n    </tr>\n    <tr>\n      <th>Australia</th>\n      <td>17903.566199</td>\n      <td>46270.843816</td>\n      <td>972.265841</td>\n      <td>2.400823e+07</td>\n      <td>324962.5</td>\n      <td>0.055094</td>\n      <td>0.142388</td>\n      <td>0.002992</td>\n    </tr>\n    <tr>\n      <th>...</th>\n      <td>...</td>\n      <td>...</td>\n      <td>...</td>\n      <td>...</td>\n      <td>...</td>\n      <td>...</td>\n      <td>...</td>\n      <td>...</td>\n    </tr>\n    <tr>\n      <th>Turkey</th>\n      <td>12098.228238</td>\n      <td>15803.667151</td>\n      <td>503.252824</td>\n      <td>7.901677e+07</td>\n      <td>156571.8</td>\n      <td>0.077270</td>\n      <td>0.100936</td>\n      <td>0.003214</td>\n    </tr>\n    <tr>\n      <th>Ukraine</th>\n      <td>1002.330534</td>\n      <td>2733.750840</td>\n      <td>69.576506</td>\n      <td>4.498976e+07</td>\n      <td>0.0</td>\n      <td>inf</td>\n      <td>inf</td>\n      <td>inf</td>\n    </tr>\n    <tr>\n      <th>United Kingdom</th>\n      <td>30787.366532</td>\n      <td>61205.919539</td>\n      <td>1455.698402</td>\n      <td>6.524557e+07</td>\n      <td>609979.5</td>\n      <td>0.050473</td>\n      <td>0.100341</td>\n      <td>0.002386</td>\n    </tr>\n    <tr>\n      <th>United States</th>\n      <td>114589.956220</td>\n      <td>193487.922934</td>\n      <td>4689.826355</td>\n      <td>3.213942e+08</td>\n      <td>4518929.3</td>\n      <td>0.025358</td>\n      <td>0.042817</td>\n      <td>0.001038</td>\n    </tr>\n    <tr>\n      <th>Uruguay</th>\n      <td>127.558462</td>\n      <td>577.190327</td>\n      <td>10.795390</td>\n      <td>3.419979e+06</td>\n      <td>0.0</td>\n      <td>inf</td>\n      <td>inf</td>\n      <td>inf</td>\n    </tr>\n  </tbody>\n</table>\n<p>92 rows × 8 columns</p>\n</div>"
     },
     "execution_count": 42,
     "metadata": {},
     "output_type": "execute_result"
    }
   ],
   "source": [
    "# df_country.loc[:, 'SDG-pop'] = df_country.loc[:, 'SDG'] /  df_country.loc[:, 'avg_pop']\n",
    "# df_country.loc[:, 'DT-pop'] = df_country.loc[:, 'DT'] /  df_country.loc[:, 'avg_pop']\n",
    "# df_country.loc[:, 'Inter-pop'] = df_country.loc[:, 'Inter'] /  df_country.loc[:, 'avg_pop']\n",
    "\n",
    "df_country.loc[:, 'SDG-gdp'] = df_country.loc[:, 'SDG'] /  df_country.loc[:, 'gdp']\n",
    "df_country.loc[:, 'DT-gdp'] = df_country.loc[:, 'DT'] /  df_country.loc[:, 'gdp']\n",
    "df_country.loc[:, 'Inter-gdp'] = df_country.loc[:, 'Inter'] /  df_country.loc[:, 'gdp']\n",
    "\n",
    "df_country"
   ],
   "metadata": {
    "collapsed": false
   }
  },
  {
   "cell_type": "code",
   "execution_count": 56,
   "outputs": [],
   "source": [
    "df_country.loc[:, ['SDG', 'DT', 'Inter']] = df_country.loc[:, ['SDG', 'DT', 'Inter']].round(0)\n",
    "df_country.loc[:, ['SDG-gdp', 'DT-gdp', 'Inter-gdp']] = df_country.loc[:, ['SDG-gdp', 'DT-gdp', 'Inter-gdp']]*1000"
   ],
   "metadata": {
    "collapsed": false
   }
  },
  {
   "cell_type": "code",
   "execution_count": 57,
   "outputs": [],
   "source": [
    "df_country.loc[['EU']+eu_countries+other_countries, ['SDG', 'DT', 'Inter', 'SDG-gdp', 'DT-gdp', 'Inter-gdp']].to_excel(\"frac_countries.xlsx\")"
   ],
   "metadata": {
    "collapsed": false
   }
  },
  {
   "cell_type": "code",
   "execution_count": 74,
   "outputs": [],
   "source": [
    "# for cat in ['SDG', 'DT', 'Inter', 'SDG-pop', 'DT-pop','Inter-pop', 'SDG-gdp', 'DT-gdp', 'Inter-gdp']:\n",
    "for cat in ['SDG', 'DT', 'Inter']:\n",
    "    # tit = cat.replace(\"-pop\", \"\").replace(\"-gdp\", \"\")\n",
    "    if 'pop' in cat:\n",
    "        spec = \"/pop*\"\n",
    "        annot= \"*Normalised by population\"\n",
    "    elif \"gdp\" in cat:\n",
    "        spec = \"/gdp*\"\n",
    "        annot = \"*Normalised by GDP (in M$)\"\n",
    "    else:\n",
    "        spec = \"\"\n",
    "        annot = \"\"\n",
    "    tit = f\"Nb pubs{spec}\"\n",
    "\n",
    "    layout = go.Layout(\n",
    "        annotations=[\n",
    "            dict(\n",
    "                x=1,\n",
    "                y=0.9,\n",
    "                align=\"right\",\n",
    "                valign=\"top\",\n",
    "                text=tit,\n",
    "                showarrow=False,\n",
    "                xref=\"paper\",\n",
    "                yref=\"paper\",\n",
    "                xanchor=\"center\",\n",
    "                yanchor=\"top\",\n",
    "                font_size=22,\n",
    "                ),\n",
    "            dict(\n",
    "                x=0.25,\n",
    "                y=-.01,\n",
    "                align=\"right\",\n",
    "                valign=\"top\",\n",
    "                text=annot,\n",
    "                showarrow=False,\n",
    "                xref=\"paper\",\n",
    "                yref=\"paper\",\n",
    "                xanchor=\"center\",\n",
    "                yanchor=\"top\",\n",
    "                font_size=30,\n",
    "                ),\n",
    "            ],\n",
    "        )\n",
    "    fig = go.Figure(\n",
    "            data=go.Choropleth(\n",
    "                locations=df_country.index,\n",
    "                z=df_country[cat],\n",
    "                text=df_country.index,\n",
    "                locationmode=\"country names\",\n",
    "                colorscale='Blues',\n",
    "                autocolorscale=False,\n",
    "                colorbar=dict(\n",
    "                    len=0.8,\n",
    "                    y=0.45,\n",
    "                    x= 0.95\n",
    "                )\n",
    "            ),\n",
    "            layout=layout,\n",
    "        )\n",
    "\n",
    "    fig.update_layout(\n",
    "        template='simple_white',\n",
    "        font=dict(size=25),\n",
    "        showlegend=True,\n",
    "\n",
    "        geo=go.layout.Geo(\n",
    "            scope=\"world\",\n",
    "            landcolor='lightgray',\n",
    "            projection_scale=1,\n",
    "            center=dict(lon=20, lat=30),\n",
    "            projection_type=\"kavrayskiy7\",\n",
    "\n",
    "            showland=True,\n",
    "            showcountries=False,\n",
    "            showframe=False\n",
    "        ),\n",
    "        height=900,\n",
    "        width=1400\n",
    "    )\n",
    "\n",
    "    fig.write_image(f\"../img/Commission/maps/World/{cat}.jpg\")\n",
    "    # pio.write_image(fig, folder, format='png')"
   ],
   "metadata": {
    "collapsed": false
   }
  },
  {
   "cell_type": "markdown",
   "source": [
    "## Specialization"
   ],
   "metadata": {
    "collapsed": false
   }
  },
  {
   "cell_type": "code",
   "execution_count": 6,
   "outputs": [
    {
     "data": {
      "text/plain": "            Country Country ISO3  Country Code  \\\n0       Afghanistan          AFG             4   \n1           Albania          ALB             8   \n2           Algeria          DZA            12   \n3    American Samoa          ASM            16   \n4           Andorra          AND            20   \n..              ...          ...           ...   \n265       Venezuela          VEN           862   \n266         Vietnam          VNM           704   \n270           Yemen          YEM           887   \n273          Zambia          ZMB           894   \n274        Zimbabwe          ZWE           716   \n\n                                   Long Name          Income Group  \\\n0               Islamic State of Afghanistan            Low income   \n1                        Republic of Albania   Upper middle income   \n2    People's Democratic Republic of Algeria   Upper middle income   \n3                             American Samoa   Upper middle income   \n4                                        NaN                Others   \n..                                       ...                   ...   \n265       República Bolivariana de Venezuela  High income: nonOECD   \n266            Socialist Republic of Vietnam   Lower middle income   \n270                        Republic of Yemen   Lower middle income   \n273                       Republic of Zambia   Lower middle income   \n274                     Republic of Zimbabwe            Low income   \n\n    Lending Category                      Region              Currency Unit  \\\n0                IDA                  South Asia             Afghan afghani   \n1               IBRD       Europe & Central Asia               Albanian lek   \n2               IBRD  Middle East & North Africa             Algerian dinar   \n3                NaN         East Asia & Pacific                U.S. dollar   \n4                NaN       Europe & Central Asia                        NaN   \n..               ...                         ...                        ...   \n265             IBRD   Latin America & Caribbean  Venezuelan bolivar fuerte   \n266            Blend         East Asia & Pacific            Vietnamese dong   \n270              IDA  Middle East & North Africa                Yemeni rial   \n273              IDA          Sub-Saharan Africa         New Zambian kwacha   \n274            Blend          Sub-Saharan Africa                U.S. dollar   \n\n    Other Groups WTO Member   latitude   longitude  \n0           HIPC         No  33.939110   67.709953  \n1            NaN        Yes  41.153332   20.168331  \n2            NaN         No  28.033886    1.659626  \n3            NaN         No -14.270972 -170.132217  \n4            NaN         No  42.546245    1.601554  \n..           ...        ...        ...         ...  \n265          NaN        Yes   6.423750  -66.589730  \n266          NaN        Yes  14.058324  108.277199  \n270          NaN         No  15.552727   48.516388  \n273         HIPC        Yes -13.133897   27.849332  \n274          NaN        Yes -19.015438   29.154857  \n\n[227 rows x 12 columns]",
      "text/html": "<div>\n<style scoped>\n    .dataframe tbody tr th:only-of-type {\n        vertical-align: middle;\n    }\n\n    .dataframe tbody tr th {\n        vertical-align: top;\n    }\n\n    .dataframe thead th {\n        text-align: right;\n    }\n</style>\n<table border=\"1\" class=\"dataframe\">\n  <thead>\n    <tr style=\"text-align: right;\">\n      <th></th>\n      <th>Country</th>\n      <th>Country ISO3</th>\n      <th>Country Code</th>\n      <th>Long Name</th>\n      <th>Income Group</th>\n      <th>Lending Category</th>\n      <th>Region</th>\n      <th>Currency Unit</th>\n      <th>Other Groups</th>\n      <th>WTO Member</th>\n      <th>latitude</th>\n      <th>longitude</th>\n    </tr>\n  </thead>\n  <tbody>\n    <tr>\n      <th>0</th>\n      <td>Afghanistan</td>\n      <td>AFG</td>\n      <td>4</td>\n      <td>Islamic State of Afghanistan</td>\n      <td>Low income</td>\n      <td>IDA</td>\n      <td>South Asia</td>\n      <td>Afghan afghani</td>\n      <td>HIPC</td>\n      <td>No</td>\n      <td>33.939110</td>\n      <td>67.709953</td>\n    </tr>\n    <tr>\n      <th>1</th>\n      <td>Albania</td>\n      <td>ALB</td>\n      <td>8</td>\n      <td>Republic of Albania</td>\n      <td>Upper middle income</td>\n      <td>IBRD</td>\n      <td>Europe &amp; Central Asia</td>\n      <td>Albanian lek</td>\n      <td>NaN</td>\n      <td>Yes</td>\n      <td>41.153332</td>\n      <td>20.168331</td>\n    </tr>\n    <tr>\n      <th>2</th>\n      <td>Algeria</td>\n      <td>DZA</td>\n      <td>12</td>\n      <td>People's Democratic Republic of Algeria</td>\n      <td>Upper middle income</td>\n      <td>IBRD</td>\n      <td>Middle East &amp; North Africa</td>\n      <td>Algerian dinar</td>\n      <td>NaN</td>\n      <td>No</td>\n      <td>28.033886</td>\n      <td>1.659626</td>\n    </tr>\n    <tr>\n      <th>3</th>\n      <td>American Samoa</td>\n      <td>ASM</td>\n      <td>16</td>\n      <td>American Samoa</td>\n      <td>Upper middle income</td>\n      <td>NaN</td>\n      <td>East Asia &amp; Pacific</td>\n      <td>U.S. dollar</td>\n      <td>NaN</td>\n      <td>No</td>\n      <td>-14.270972</td>\n      <td>-170.132217</td>\n    </tr>\n    <tr>\n      <th>4</th>\n      <td>Andorra</td>\n      <td>AND</td>\n      <td>20</td>\n      <td>NaN</td>\n      <td>Others</td>\n      <td>NaN</td>\n      <td>Europe &amp; Central Asia</td>\n      <td>NaN</td>\n      <td>NaN</td>\n      <td>No</td>\n      <td>42.546245</td>\n      <td>1.601554</td>\n    </tr>\n    <tr>\n      <th>...</th>\n      <td>...</td>\n      <td>...</td>\n      <td>...</td>\n      <td>...</td>\n      <td>...</td>\n      <td>...</td>\n      <td>...</td>\n      <td>...</td>\n      <td>...</td>\n      <td>...</td>\n      <td>...</td>\n      <td>...</td>\n    </tr>\n    <tr>\n      <th>265</th>\n      <td>Venezuela</td>\n      <td>VEN</td>\n      <td>862</td>\n      <td>República Bolivariana de Venezuela</td>\n      <td>High income: nonOECD</td>\n      <td>IBRD</td>\n      <td>Latin America &amp; Caribbean</td>\n      <td>Venezuelan bolivar fuerte</td>\n      <td>NaN</td>\n      <td>Yes</td>\n      <td>6.423750</td>\n      <td>-66.589730</td>\n    </tr>\n    <tr>\n      <th>266</th>\n      <td>Vietnam</td>\n      <td>VNM</td>\n      <td>704</td>\n      <td>Socialist Republic of Vietnam</td>\n      <td>Lower middle income</td>\n      <td>Blend</td>\n      <td>East Asia &amp; Pacific</td>\n      <td>Vietnamese dong</td>\n      <td>NaN</td>\n      <td>Yes</td>\n      <td>14.058324</td>\n      <td>108.277199</td>\n    </tr>\n    <tr>\n      <th>270</th>\n      <td>Yemen</td>\n      <td>YEM</td>\n      <td>887</td>\n      <td>Republic of Yemen</td>\n      <td>Lower middle income</td>\n      <td>IDA</td>\n      <td>Middle East &amp; North Africa</td>\n      <td>Yemeni rial</td>\n      <td>NaN</td>\n      <td>No</td>\n      <td>15.552727</td>\n      <td>48.516388</td>\n    </tr>\n    <tr>\n      <th>273</th>\n      <td>Zambia</td>\n      <td>ZMB</td>\n      <td>894</td>\n      <td>Republic of Zambia</td>\n      <td>Lower middle income</td>\n      <td>IDA</td>\n      <td>Sub-Saharan Africa</td>\n      <td>New Zambian kwacha</td>\n      <td>HIPC</td>\n      <td>Yes</td>\n      <td>-13.133897</td>\n      <td>27.849332</td>\n    </tr>\n    <tr>\n      <th>274</th>\n      <td>Zimbabwe</td>\n      <td>ZWE</td>\n      <td>716</td>\n      <td>Republic of Zimbabwe</td>\n      <td>Low income</td>\n      <td>Blend</td>\n      <td>Sub-Saharan Africa</td>\n      <td>U.S. dollar</td>\n      <td>NaN</td>\n      <td>Yes</td>\n      <td>-19.015438</td>\n      <td>29.154857</td>\n    </tr>\n  </tbody>\n</table>\n<p>227 rows × 12 columns</p>\n</div>"
     },
     "execution_count": 6,
     "metadata": {},
     "output_type": "execute_result"
    }
   ],
   "source": [
    "df_country_w_continent = pd.read_excel(\"../data/countries_w_continent.xlsx\", sheet_name=0, index_col=0)\n",
    "df_country_w_continent"
   ],
   "metadata": {
    "collapsed": false
   }
  },
  {
   "cell_type": "markdown",
   "source": [
    "## Loop for counting frac publications detailed by countries and SDGs/DTs"
   ],
   "metadata": {
    "collapsed": false
   }
  },
  {
   "cell_type": "code",
   "execution_count": 11,
   "outputs": [],
   "source": [
    "lst_sdg = [\"SDG\" + str(i) for i in range(1, 18)]\n",
    "lst_cat = [\"Environment\", \"Society\", \"Economy\"]\n",
    "lst_dt_shortened = ['AI', 'robotics', 'IOT']\n",
    "lst_dt = ['AI', 'big_data', 'IOT', 'computing_infrastructure', 'blockchain', 'robotics',\n",
    "          'additive_manufacturing']\n",
    "lst_cat_dt = ['Environment-AI', 'Environment-robotics', 'Environment-IOT',\n",
    "              'Society-AI', 'Society-robotics', 'Society-IOT',\n",
    "              'Economy-AI', 'Economy-robotics', 'Economy-IOT']\n",
    "lst_sdg_dt = [sdg+\"-\"+dt for sdg in lst_sdg for dt in lst_dt]\n",
    "df_sdg = pd.read_pickle(\"../data/dataframes/all_sdg_fixed_dst.pkl\")\n",
    "df_dt = pd.read_pickle(\"../data/dataframes/dt_updated.pkl\")\n",
    "\n",
    "# Filtering for Journal only\n",
    "df_sdg = df_sdg[df_sdg.PT == 'J']\n",
    "df_dt = df_dt[df_dt.PT == 'J']\n",
    "df_sdg_dt = df_sdg[df_sdg['DST']]"
   ],
   "metadata": {
    "collapsed": false
   }
  },
  {
   "cell_type": "code",
   "execution_count": 10,
   "outputs": [
    {
     "data": {
      "text/plain": "['SDG1-AI',\n 'SDG1-big_data',\n 'SDG1-IOT',\n 'SDG1-computing_infrastructure',\n 'SDG1-blockchain',\n 'SDG1-robotics',\n 'SDG1-additive_manufacturing',\n 'SDG2-AI',\n 'SDG2-big_data',\n 'SDG2-IOT',\n 'SDG2-computing_infrastructure',\n 'SDG2-blockchain',\n 'SDG2-robotics',\n 'SDG2-additive_manufacturing',\n 'SDG3-AI',\n 'SDG3-big_data',\n 'SDG3-IOT',\n 'SDG3-computing_infrastructure',\n 'SDG3-blockchain',\n 'SDG3-robotics',\n 'SDG3-additive_manufacturing',\n 'SDG4-AI',\n 'SDG4-big_data',\n 'SDG4-IOT',\n 'SDG4-computing_infrastructure',\n 'SDG4-blockchain',\n 'SDG4-robotics',\n 'SDG4-additive_manufacturing',\n 'SDG5-AI',\n 'SDG5-big_data',\n 'SDG5-IOT',\n 'SDG5-computing_infrastructure',\n 'SDG5-blockchain',\n 'SDG5-robotics',\n 'SDG5-additive_manufacturing',\n 'SDG6-AI',\n 'SDG6-big_data',\n 'SDG6-IOT',\n 'SDG6-computing_infrastructure',\n 'SDG6-blockchain',\n 'SDG6-robotics',\n 'SDG6-additive_manufacturing',\n 'SDG7-AI',\n 'SDG7-big_data',\n 'SDG7-IOT',\n 'SDG7-computing_infrastructure',\n 'SDG7-blockchain',\n 'SDG7-robotics',\n 'SDG7-additive_manufacturing',\n 'SDG8-AI',\n 'SDG8-big_data',\n 'SDG8-IOT',\n 'SDG8-computing_infrastructure',\n 'SDG8-blockchain',\n 'SDG8-robotics',\n 'SDG8-additive_manufacturing',\n 'SDG9-AI',\n 'SDG9-big_data',\n 'SDG9-IOT',\n 'SDG9-computing_infrastructure',\n 'SDG9-blockchain',\n 'SDG9-robotics',\n 'SDG9-additive_manufacturing',\n 'SDG10-AI',\n 'SDG10-big_data',\n 'SDG10-IOT',\n 'SDG10-computing_infrastructure',\n 'SDG10-blockchain',\n 'SDG10-robotics',\n 'SDG10-additive_manufacturing',\n 'SDG11-AI',\n 'SDG11-big_data',\n 'SDG11-IOT',\n 'SDG11-computing_infrastructure',\n 'SDG11-blockchain',\n 'SDG11-robotics',\n 'SDG11-additive_manufacturing',\n 'SDG12-AI',\n 'SDG12-big_data',\n 'SDG12-IOT',\n 'SDG12-computing_infrastructure',\n 'SDG12-blockchain',\n 'SDG12-robotics',\n 'SDG12-additive_manufacturing',\n 'SDG13-AI',\n 'SDG13-big_data',\n 'SDG13-IOT',\n 'SDG13-computing_infrastructure',\n 'SDG13-blockchain',\n 'SDG13-robotics',\n 'SDG13-additive_manufacturing',\n 'SDG14-AI',\n 'SDG14-big_data',\n 'SDG14-IOT',\n 'SDG14-computing_infrastructure',\n 'SDG14-blockchain',\n 'SDG14-robotics',\n 'SDG14-additive_manufacturing',\n 'SDG15-AI',\n 'SDG15-big_data',\n 'SDG15-IOT',\n 'SDG15-computing_infrastructure',\n 'SDG15-blockchain',\n 'SDG15-robotics',\n 'SDG15-additive_manufacturing',\n 'SDG16-AI',\n 'SDG16-big_data',\n 'SDG16-IOT',\n 'SDG16-computing_infrastructure',\n 'SDG16-blockchain',\n 'SDG16-robotics',\n 'SDG16-additive_manufacturing',\n 'SDG17-AI',\n 'SDG17-big_data',\n 'SDG17-IOT',\n 'SDG17-computing_infrastructure',\n 'SDG17-blockchain',\n 'SDG17-robotics',\n 'SDG17-additive_manufacturing']"
     },
     "execution_count": 10,
     "metadata": {},
     "output_type": "execute_result"
    }
   ],
   "source": [],
   "metadata": {
    "collapsed": false
   }
  },
  {
   "cell_type": "code",
   "execution_count": 12,
   "outputs": [
    {
     "name": "stderr",
     "output_type": "stream",
     "text": [
      "100%|██████████| 1072858/1072858 [00:06<00:00, 163031.78it/s]\n",
      "100%|██████████| 755468/755468 [00:02<00:00, 304353.95it/s]\n",
      "100%|██████████| 33097/33097 [00:00<00:00, 65586.90it/s]"
     ]
    },
    {
     "name": "stdout",
     "output_type": "stream",
     "text": [
      "CPU times: user 9.63 s, sys: 1.97 ms, total: 9.63 s\n",
      "Wall time: 9.63 s\n"
     ]
    },
    {
     "name": "stderr",
     "output_type": "stream",
     "text": [
      "\n"
     ]
    }
   ],
   "source": [
    "%%time\n",
    "import itertools\n",
    "from tqdm import tqdm\n",
    "dic = {c:{elem:0 for elem in lst_sdg+lst_cat+lst_dt+lst_cat_dt+lst_sdg_dt} for c in set_countries}\n",
    "dic_world = {elem:0 for elem in lst_sdg+lst_cat+lst_dt+lst_cat_dt+lst_sdg_dt}\n",
    "\n",
    "# SDG dataframe\n",
    "for row in tqdm(df_sdg.itertuples(index=False, name=None), total=df_sdg.shape[0]):\n",
    "    lst_actors = row[idx_sdg['CN']].split(\", \")\n",
    "    size_actors = len(lst_actors)\n",
    "    sdgs_in_pubs = []\n",
    "    # Country count\n",
    "    for sdg in lst_sdg:\n",
    "        if row[idx_sdg[sdg]]:\n",
    "            sdgs_in_pubs += sdg\n",
    "            for actor in lst_actors:\n",
    "                dic_world[sdg] += 1\n",
    "                dic[actor][sdg] += 1\n",
    "    for cat in lst_cat:\n",
    "        if row[idx_sdg[cat]]:\n",
    "            for actor in lst_actors:\n",
    "                dic_world[cat] += 1\n",
    "                dic[actor][cat] += 1\n",
    "\n",
    "\n",
    "# DT dataframe\n",
    "for row in tqdm(df_dt.itertuples(index=False, name=None), total=df_dt.shape[0]):\n",
    "    lst_actors = row[idx_dt['CN']].split(\", \")\n",
    "    # Country count\n",
    "    for dt in lst_dt:\n",
    "        if row[idx_dt[dt]]:\n",
    "            for actor in lst_actors:\n",
    "                if actor in dic:\n",
    "                    dic[actor][dt] += 1\n",
    "                    dic_world[dt] += 1\n",
    "\n",
    "# Intersection\n",
    "for row in tqdm(df_sdg_dt.itertuples(index=False, name=None), total=df_sdg_dt.shape[0]):\n",
    "    # Country count\n",
    "    lst_actors = row[idx_sdg_dt['CN']].split(\", \")\n",
    "    for cat in lst_cat:\n",
    "        if row[idx_sdg_dt[cat]]:\n",
    "            for dt in lst_dt:\n",
    "                if row[idx_sdg_dt[dt]]:\n",
    "                    for actor in lst_actors:\n",
    "                        # CAT-DT\n",
    "                        if str(cat) + \"-\" + str(dt) in lst_cat_dt:\n",
    "                            dic_world[str(cat) + \"-\" + str(dt)] += 1\n",
    "                            dic[actor][str(cat) + \"-\" + str(dt)] += 1\n",
    "    # SDG-DT\n",
    "    for sdg in lst_sdg:\n",
    "        if row[idx_sdg_dt[cat]]:\n",
    "            for dt in lst_dt:\n",
    "                if row[idx_sdg_dt[dt]]:\n",
    "                    for actor in lst_actors:\n",
    "                        dic_world[str(sdg) + \"-\" + str(dt)] += 1\n",
    "                        dic[actor][str(sdg) + \"-\" + str(dt)] += 1\n"
   ],
   "metadata": {
    "collapsed": false
   }
  },
  {
   "cell_type": "markdown",
   "source": [
    "## Version with fractional\n",
    "### Launch this one or the one above\n"
   ],
   "metadata": {
    "collapsed": false
   }
  },
  {
   "cell_type": "code",
   "execution_count": 19,
   "outputs": [
    {
     "name": "stderr",
     "output_type": "stream",
     "text": [
      "100%|██████████| 1072858/1072858 [00:05<00:00, 190103.60it/s]\n",
      "100%|██████████| 755468/755468 [00:02<00:00, 313322.26it/s]\n",
      "100%|██████████| 33097/33097 [00:00<00:00, 158539.44it/s]"
     ]
    },
    {
     "name": "stdout",
     "output_type": "stream",
     "text": [
      "CPU times: user 8.3 s, sys: 11.1 ms, total: 8.31 s\n",
      "Wall time: 8.3 s\n"
     ]
    },
    {
     "name": "stderr",
     "output_type": "stream",
     "text": [
      "\n"
     ]
    }
   ],
   "source": [
    "%%time\n",
    "import itertools\n",
    "from tqdm import tqdm\n",
    "dic = {c:{elem:0 for elem in lst_sdg+lst_cat+lst_dt+lst_cat_dt} for c in set_countries}\n",
    "dic_world = {elem:0 for elem in lst_sdg+lst_cat+lst_dt+lst_cat_dt}\n",
    "\n",
    "# SDG dataframe\n",
    "for row in tqdm(df_sdg.itertuples(index=False, name=None), total=df_sdg.shape[0]):\n",
    "    lst_actors = row[idx_sdg['CN']].split(\", \")\n",
    "    size_actors = len(lst_actors)\n",
    "\n",
    "    # Country count\n",
    "    for sdg in lst_sdg:\n",
    "        if row[idx_sdg[sdg]]:\n",
    "            for actor in lst_actors:\n",
    "                dic[actor][sdg] += 1 / size_actors\n",
    "    for cat in lst_cat:\n",
    "        if row[idx_sdg[cat]]:\n",
    "            for actor in lst_actors:\n",
    "                dic[actor][cat] += 1 / size_actors\n",
    "\n",
    "\n",
    "# DT dataframe\n",
    "for row in tqdm(df_dt.itertuples(index=False, name=None), total=df_dt.shape[0]):\n",
    "    lst_actors = row[idx_dt['CN']].split(\", \")\n",
    "    size_actors = len(lst_actors)\n",
    "    # Country count\n",
    "    for dt in lst_dt:\n",
    "        if row[idx_dt[dt]]:\n",
    "            for actor in lst_actors:\n",
    "                if actor in dic:\n",
    "                    dic[actor][dt] += 1 / size_actors\n",
    "\n",
    "# Intersection\n",
    "for row in tqdm(df_sdg_dt.itertuples(index=False, name=None), total=df_sdg_dt.shape[0]):\n",
    "    # Country count\n",
    "    lst_actors = row[idx_sdg_dt['CN']].split(\", \")\n",
    "    size_actors = len(lst_actors)\n",
    "    for cat in lst_cat:\n",
    "        if row[idx_sdg_dt[cat]]:\n",
    "            for dt in lst_dt:\n",
    "                if row[idx_sdg_dt[dt]]:\n",
    "                    for actor in lst_actors:\n",
    "                        if str(cat) + \"-\" + str(dt) in lst_cat_dt:\n",
    "                            dic[actor][str(cat) + \"-\" + str(dt)] += 1 / size_actors\n",
    "\n",
    "\n"
   ],
   "metadata": {
    "collapsed": false
   }
  },
  {
   "cell_type": "code",
   "execution_count": 27,
   "outputs": [
    {
     "data": {
      "text/plain": "                       SDG1         SDG2          SDG3          SDG4  \\\nCountry                                                                \nAustria           99.129706    89.876359    465.396389    181.442442   \nBelgium          247.556522   154.442103    728.230937    385.604418   \nBulgaria           9.252259    23.364531    104.797291     22.003112   \nCroatia           30.822394    24.157152    252.437626    104.374957   \nCyprus            12.360317    10.450433     89.181374     77.835182   \nCzech Republic    68.315116    48.027673    307.222999    122.093153   \nDenmark          194.680317   116.780769    656.442075    293.036405   \nEstonia           11.800166    11.457941     76.807301     51.801797   \nFinland          153.286325    62.915046    516.007436    448.720034   \nFrance           342.560338   393.979098   1877.815806    381.693665   \nGermany          723.048157   461.137028   2937.266653   1368.170583   \nGreece            96.294181    96.235711    644.444117    209.068255   \nHungary           38.789202    32.563400    265.608942     88.954869   \nIreland          120.967417    59.250513    550.533013    293.883263   \nItaly            530.662707   578.039412   4975.194759    768.551081   \nLatvia             3.928803     4.814076     37.694040     10.948785   \nLithuania         25.319555    33.313210    138.580018     35.259975   \nLuxembourg        26.311610     6.721673     38.980583     22.226419   \nMalta              5.417006     0.014925     38.475624     15.090887   \nNetherlands      522.432262   329.904387   1489.473197    998.425355   \nPoland           119.182686   194.690609   1471.879417    240.225858   \nPortugal         101.759538   107.253525    678.609240    419.464550   \nRomania           84.596325   116.000392    700.096030    100.760612   \nSlovakia          43.823610    23.676786    187.487197    109.131151   \nSlovenia          25.678836    18.191261    153.767729     84.494460   \nSpain            524.967519   390.462162   2624.197029   1231.039805   \nSweden           387.895223   138.984270   1006.328310    748.457335   \nNorway           191.582238    83.035709    638.404027    508.483293   \nSwitzerland      206.651358   182.093578   1117.386334    309.763278   \nUnited Kingdom  2463.008787   805.696226   6725.736005   3391.209509   \nCanada          1259.817662   486.192635   3645.576088   2135.893592   \nChina           1490.218530  1400.685335   9924.594001   1971.432117   \nUnited States   8635.115779  2651.321997  28864.297267  16330.358924   \nJapan            338.647029   238.170684   2135.336149    471.463166   \nSouth Korea      417.722060   160.863699   1872.687500    468.238954   \nAustralia       1208.909507   566.409920   3593.683223   3679.624353   \nIsrael           138.435611    60.528854    834.221293    452.921120   \n\n                        SDG5          SDG6          SDG7         SDG8  \\\nCountry                                                                 \nAustria           300.463623    461.850175    286.902456   143.672893   \nBelgium           479.519249    912.342919    379.789156   254.117997   \nBulgaria           34.891779    110.873003     40.022577    25.080026   \nCroatia           110.684492    255.618357    131.832675    99.541005   \nCyprus             27.101162    112.016587     49.546044    28.621946   \nCzech Republic    201.978334    586.034928    145.248078   169.942943   \nDenmark           524.692786    856.026335    485.649188   182.142532   \nEstonia            72.788031     98.194992     37.649063    35.058442   \nFinland           463.853880    814.586437    395.209130   177.031326   \nFrance           1427.262311   2074.404086    771.463925   421.716007   \nGermany          2283.814950   3206.537816   1618.226987   989.341667   \nGreece            330.566324   1142.128847    366.325507   131.142445   \nHungary            84.201224    330.580298    111.887045    71.546261   \nIreland           258.938279    477.007997    168.969497   116.742308   \nItaly            2205.501688   4182.405568   1868.174722   714.118875   \nLatvia             20.627724     60.429161     44.301720    26.127899   \nLithuania          86.065341    167.420966    101.951169    74.443912   \nLuxembourg         14.850715     68.507407     19.986783    24.332937   \nMalta              15.202849      7.608241      9.617867     6.557143   \nNetherlands      1001.927291   1521.892512    789.740082   481.792085   \nPoland            450.805099   2182.261389    684.059384   294.295030   \nPortugal          839.118866   1456.578171    518.242303   231.681050   \nRomania           182.735219    806.397197    247.929358   209.293725   \nSlovakia           59.439468    167.309311     55.280336    86.275121   \nSlovenia           69.710676    237.702121    101.258472    63.466061   \nSpain            2139.612255   5470.152567   1566.353062   786.284466   \nSweden           1124.426552   1312.420337    758.340343   359.697328   \nNorway            851.313525    557.678147    335.216645   201.461769   \nSwitzerland       594.831306    879.440499    397.283832   244.407815   \nUnited Kingdom   4249.722638   3630.802787   2280.176160  1980.237005   \nCanada           2547.714369   3275.231836   1215.126982   760.038668   \nChina            5056.579025  27016.839099  13075.669433  1532.247137   \nUnited States   12817.700016  11088.365050   5931.563979  4804.978300   \nJapan             892.913268   2004.983589   1192.426972   344.847242   \nSouth Korea       634.912961   2354.307863   1758.551308   368.276791   \nAustralia        3819.323895   3625.334634   1705.139462  1102.363539   \nIsrael            283.246235    443.802242     92.790115    94.039046   \n\n                       SDG9        SDG10  ...  additive_manufacturing  \\\nCountry                                   ...                           \nAustria          124.026000   183.830786  ...              364.669528   \nBelgium          154.676643   276.214672  ...              489.329490   \nBulgaria          12.182740    33.880159  ...               41.594527   \nCroatia           54.118661   105.412118  ...               84.229462   \nCyprus            20.056284    46.298449  ...               21.224315   \nCzech Republic   101.401962   135.497227  ...              401.690766   \nDenmark          157.279584   156.772282  ...              239.310909   \nEstonia           25.458473    21.327315  ...               56.605159   \nFinland          155.042587   217.318793  ...              282.240712   \nFrance           307.615795   339.383032  ...             1231.375473   \nGermany          657.083722   896.647265  ...             2993.472837   \nGreece           120.085038   156.846842  ...              271.755143   \nHungary           47.913982    83.056478  ...              164.730910   \nIreland           94.715032   176.307425  ...              237.564712   \nItaly            647.675549   909.182787  ...             2330.421674   \nLatvia            18.084146    15.516667  ...               15.628186   \nLithuania         68.987900    70.463704  ...               73.429330   \nLuxembourg        13.084892    18.800000  ...               14.127381   \nMalta              5.280424     9.148810  ...               10.830844   \nNetherlands      394.482814   609.915678  ...              654.154837   \nPoland           281.727705   301.831407  ...              938.331111   \nPortugal         245.826462   297.790952  ...              528.359924   \nRomania          174.999585   290.233009  ...              403.311631   \nSlovakia          62.558245    85.892483  ...              182.760582   \nSlovenia          52.148819    83.959795  ...              162.167811   \nSpain            689.138881  1079.465728  ...             1390.499945   \nSweden           277.385278   407.903467  ...              478.055501   \nNorway           144.821919   260.126795  ...              163.647935   \nSwitzerland      185.888000   224.136279  ...              628.346078   \nUnited Kingdom  1329.150081  2401.987263  ...             2735.312261   \nCanada           581.410354   922.343194  ...             1291.922274   \nChina           3252.946216  1653.684691  ...             9534.964027   \nUnited States   2935.976436  3431.874239  ...             9063.749880   \nJapan            290.670736   266.180066  ...             1002.984786   \nSouth Korea      450.045932   323.747653  ...             1869.735209   \nAustralia        958.221547  1514.969154  ...             1446.415171   \nIsrael            48.237263   123.733418  ...              219.684532   \n\n                Environment-AI  Environment-robotics  Environment-IOT  \\\nCountry                                                                 \nAustria              32.140631              8.670235         9.234598   \nBelgium              32.713458             14.535158         9.967162   \nBulgaria              3.151627              1.000000         0.000000   \nCroatia              23.429979             10.088889         3.750000   \nCyprus               10.226923              5.545833         2.586601   \nCzech Republic       15.007030             14.054004         3.121679   \nDenmark              39.287645             14.988282         9.284394   \nEstonia              14.866457              3.258333         1.142857   \nFinland              34.060974             13.954776        12.624099   \nFrance              146.773465             52.043033        14.249275   \nGermany             262.255043             73.399844        33.589850   \nGreece               84.558809             17.940593        17.263963   \nHungary              15.031855              3.950000         4.952778   \nIreland              22.217682              6.209804         6.016395   \nItaly               250.091519            114.443379        80.434616   \nLatvia                0.189322              0.125000         1.000000   \nLithuania             7.516685              6.750000         1.700000   \nLuxembourg            2.570635              0.777778         0.000000   \nMalta                 0.037037              0.967391         0.000000   \nNetherlands          64.719533             23.919629         4.090842   \nPoland               82.566403             29.331875         6.399457   \nPortugal             63.536772             29.764971        16.741667   \nRomania              37.387226             12.828632        18.339286   \nSlovakia              8.945149              1.000000         0.052632   \nSlovenia             13.316965              1.406250         2.791667   \nSpain               265.935692             83.266375        73.387946   \nSweden               43.675598             10.537388        11.273825   \nNorway               56.815084             27.060651         4.284877   \nSwitzerland          55.213955             15.627546         9.989060   \nUnited Kingdom      260.115873            127.398529        56.335302   \nCanada              245.928767             61.980737        28.116747   \nChina              1405.156424            282.347950       212.415031   \nUnited States      1118.966643            392.564769       146.446414   \nJapan               132.680803             76.932243        23.709560   \nSouth Korea         267.236109             64.482753        63.016667   \nAustralia           257.386109            112.652157        49.042313   \nIsrael               18.823509              6.476190         1.333333   \n\n                 Society-AI  Society-robotics  Society-IOT  Economy-AI  \\\nCountry                                                                  \nAustria           35.037460          7.931554    13.472455   11.400167   \nBelgium           54.390882         15.604618    17.433035   16.339087   \nBulgaria           8.350964          2.333333     6.000000    2.493590   \nCroatia           28.024428          5.066667     4.985714    2.850000   \nCyprus            13.759139          1.822222     3.559524    0.816667   \nCzech Republic    24.560317         12.897619     7.335965    7.997222   \nDenmark           31.068986         10.600953    17.519156    7.903463   \nEstonia            6.163528          3.440152     4.714286    4.200000   \nFinland           47.117063         13.053968    23.511668    6.971429   \nFrance           125.421703         33.531877    70.521952   27.301422   \nGermany          252.254514         64.146141    65.447904   70.858627   \nGreece           103.575854         26.552031    32.112462   28.604365   \nHungary           24.276842          6.881548     8.200000    4.981624   \nIreland           40.408410         10.326681    20.548157   12.416667   \nItaly            327.326671        110.246341   161.031729   72.914227   \nLatvia             2.291667          0.291667     2.000000    0.500000   \nLithuania         13.235256          3.166667     2.242857    4.313889   \nLuxembourg        11.632540          1.444444     0.142857    2.387179   \nMalta              0.809597          0.000000     0.250000    0.000000   \nNetherlands      102.756719         33.184288    23.554294   23.338828   \nPoland           115.248813         20.602871    21.918505   28.233333   \nPortugal          91.774958         24.853571    38.218723   27.220177   \nRomania           58.890624         16.711111    30.980195   17.823810   \nSlovakia           9.300397          3.711905     1.352632    5.000000   \nSlovenia          20.468664          4.800000     5.142857    2.448413   \nSpain            367.603675         91.672061   158.454640   95.842631   \nSweden            64.076498         19.959441    30.041646   18.856383   \nNorway            44.225354         12.190548    18.932973   14.278655   \nSwitzerland       74.757735         26.384938    28.535023   19.410481   \nUnited Kingdom   420.420391        101.571680   164.617088  106.693862   \nCanada           294.404509         50.873513   111.716484   46.674514   \nChina           2258.714477        343.791740  1145.183016  435.348286   \nUnited States   1469.072736        331.086465   447.674137  284.627379   \nJapan            148.369366         57.433730    61.969574   24.640079   \nSouth Korea      367.168591         56.315032   279.010786   77.733766   \nAustralia        270.333772         68.848834    94.414382   61.494486   \nIsrael            32.999285          8.726190     7.211204    0.523160   \n\n                Economy-robotics  Economy-IOT  \nCountry                                        \nAustria                 6.250000     4.519048  \nBelgium                 2.916667     9.515909  \nBulgaria                0.000000     2.000000  \nCroatia                 0.697917     3.900000  \nCyprus                  1.000000     1.219048  \nCzech Republic          3.400000     3.809524  \nDenmark                 1.533333     5.026190  \nEstonia                 0.750000     0.706667  \nFinland                 2.829167    12.218884  \nFrance                  5.061582    18.803095  \nGermany                28.307440    33.886093  \nGreece                  6.301832    13.230952  \nHungary                 1.250000     3.291667  \nIreland                 3.900000     5.957576  \nItaly                  31.680879    60.509354  \nLatvia                  0.000000     0.000000  \nLithuania               1.000000     1.766667  \nLuxembourg              0.333333     1.183333  \nMalta                   0.000000     0.000000  \nNetherlands            10.717361     7.795833  \nPoland                  4.993590    10.142857  \nPortugal                6.585714    16.690476  \nRomania                 9.000000    14.232540  \nSlovakia                1.000000     1.000000  \nSlovenia                3.083333     4.059524  \nSpain                  28.609364    57.460763  \nSweden                  5.916667    11.285653  \nNorway                  3.531250     3.809524  \nSwitzerland             4.956923     7.537121  \nUnited Kingdom         31.560306    59.272287  \nCanada                 12.242384    22.828064  \nChina                  62.231575   130.887551  \nUnited States          90.359297    98.702100  \nJapan                  11.759821    12.458333  \nSouth Korea             8.809524    39.926948  \nAustralia              21.035515    29.012393  \nIsrael                  1.926190     0.000000  \n\n[37 rows x 36 columns]",
      "text/html": "<div>\n<style scoped>\n    .dataframe tbody tr th:only-of-type {\n        vertical-align: middle;\n    }\n\n    .dataframe tbody tr th {\n        vertical-align: top;\n    }\n\n    .dataframe thead th {\n        text-align: right;\n    }\n</style>\n<table border=\"1\" class=\"dataframe\">\n  <thead>\n    <tr style=\"text-align: right;\">\n      <th></th>\n      <th>SDG1</th>\n      <th>SDG2</th>\n      <th>SDG3</th>\n      <th>SDG4</th>\n      <th>SDG5</th>\n      <th>SDG6</th>\n      <th>SDG7</th>\n      <th>SDG8</th>\n      <th>SDG9</th>\n      <th>SDG10</th>\n      <th>...</th>\n      <th>additive_manufacturing</th>\n      <th>Environment-AI</th>\n      <th>Environment-robotics</th>\n      <th>Environment-IOT</th>\n      <th>Society-AI</th>\n      <th>Society-robotics</th>\n      <th>Society-IOT</th>\n      <th>Economy-AI</th>\n      <th>Economy-robotics</th>\n      <th>Economy-IOT</th>\n    </tr>\n    <tr>\n      <th>Country</th>\n      <th></th>\n      <th></th>\n      <th></th>\n      <th></th>\n      <th></th>\n      <th></th>\n      <th></th>\n      <th></th>\n      <th></th>\n      <th></th>\n      <th></th>\n      <th></th>\n      <th></th>\n      <th></th>\n      <th></th>\n      <th></th>\n      <th></th>\n      <th></th>\n      <th></th>\n      <th></th>\n      <th></th>\n    </tr>\n  </thead>\n  <tbody>\n    <tr>\n      <th>Austria</th>\n      <td>99.129706</td>\n      <td>89.876359</td>\n      <td>465.396389</td>\n      <td>181.442442</td>\n      <td>300.463623</td>\n      <td>461.850175</td>\n      <td>286.902456</td>\n      <td>143.672893</td>\n      <td>124.026000</td>\n      <td>183.830786</td>\n      <td>...</td>\n      <td>364.669528</td>\n      <td>32.140631</td>\n      <td>8.670235</td>\n      <td>9.234598</td>\n      <td>35.037460</td>\n      <td>7.931554</td>\n      <td>13.472455</td>\n      <td>11.400167</td>\n      <td>6.250000</td>\n      <td>4.519048</td>\n    </tr>\n    <tr>\n      <th>Belgium</th>\n      <td>247.556522</td>\n      <td>154.442103</td>\n      <td>728.230937</td>\n      <td>385.604418</td>\n      <td>479.519249</td>\n      <td>912.342919</td>\n      <td>379.789156</td>\n      <td>254.117997</td>\n      <td>154.676643</td>\n      <td>276.214672</td>\n      <td>...</td>\n      <td>489.329490</td>\n      <td>32.713458</td>\n      <td>14.535158</td>\n      <td>9.967162</td>\n      <td>54.390882</td>\n      <td>15.604618</td>\n      <td>17.433035</td>\n      <td>16.339087</td>\n      <td>2.916667</td>\n      <td>9.515909</td>\n    </tr>\n    <tr>\n      <th>Bulgaria</th>\n      <td>9.252259</td>\n      <td>23.364531</td>\n      <td>104.797291</td>\n      <td>22.003112</td>\n      <td>34.891779</td>\n      <td>110.873003</td>\n      <td>40.022577</td>\n      <td>25.080026</td>\n      <td>12.182740</td>\n      <td>33.880159</td>\n      <td>...</td>\n      <td>41.594527</td>\n      <td>3.151627</td>\n      <td>1.000000</td>\n      <td>0.000000</td>\n      <td>8.350964</td>\n      <td>2.333333</td>\n      <td>6.000000</td>\n      <td>2.493590</td>\n      <td>0.000000</td>\n      <td>2.000000</td>\n    </tr>\n    <tr>\n      <th>Croatia</th>\n      <td>30.822394</td>\n      <td>24.157152</td>\n      <td>252.437626</td>\n      <td>104.374957</td>\n      <td>110.684492</td>\n      <td>255.618357</td>\n      <td>131.832675</td>\n      <td>99.541005</td>\n      <td>54.118661</td>\n      <td>105.412118</td>\n      <td>...</td>\n      <td>84.229462</td>\n      <td>23.429979</td>\n      <td>10.088889</td>\n      <td>3.750000</td>\n      <td>28.024428</td>\n      <td>5.066667</td>\n      <td>4.985714</td>\n      <td>2.850000</td>\n      <td>0.697917</td>\n      <td>3.900000</td>\n    </tr>\n    <tr>\n      <th>Cyprus</th>\n      <td>12.360317</td>\n      <td>10.450433</td>\n      <td>89.181374</td>\n      <td>77.835182</td>\n      <td>27.101162</td>\n      <td>112.016587</td>\n      <td>49.546044</td>\n      <td>28.621946</td>\n      <td>20.056284</td>\n      <td>46.298449</td>\n      <td>...</td>\n      <td>21.224315</td>\n      <td>10.226923</td>\n      <td>5.545833</td>\n      <td>2.586601</td>\n      <td>13.759139</td>\n      <td>1.822222</td>\n      <td>3.559524</td>\n      <td>0.816667</td>\n      <td>1.000000</td>\n      <td>1.219048</td>\n    </tr>\n    <tr>\n      <th>Czech Republic</th>\n      <td>68.315116</td>\n      <td>48.027673</td>\n      <td>307.222999</td>\n      <td>122.093153</td>\n      <td>201.978334</td>\n      <td>586.034928</td>\n      <td>145.248078</td>\n      <td>169.942943</td>\n      <td>101.401962</td>\n      <td>135.497227</td>\n      <td>...</td>\n      <td>401.690766</td>\n      <td>15.007030</td>\n      <td>14.054004</td>\n      <td>3.121679</td>\n      <td>24.560317</td>\n      <td>12.897619</td>\n      <td>7.335965</td>\n      <td>7.997222</td>\n      <td>3.400000</td>\n      <td>3.809524</td>\n    </tr>\n    <tr>\n      <th>Denmark</th>\n      <td>194.680317</td>\n      <td>116.780769</td>\n      <td>656.442075</td>\n      <td>293.036405</td>\n      <td>524.692786</td>\n      <td>856.026335</td>\n      <td>485.649188</td>\n      <td>182.142532</td>\n      <td>157.279584</td>\n      <td>156.772282</td>\n      <td>...</td>\n      <td>239.310909</td>\n      <td>39.287645</td>\n      <td>14.988282</td>\n      <td>9.284394</td>\n      <td>31.068986</td>\n      <td>10.600953</td>\n      <td>17.519156</td>\n      <td>7.903463</td>\n      <td>1.533333</td>\n      <td>5.026190</td>\n    </tr>\n    <tr>\n      <th>Estonia</th>\n      <td>11.800166</td>\n      <td>11.457941</td>\n      <td>76.807301</td>\n      <td>51.801797</td>\n      <td>72.788031</td>\n      <td>98.194992</td>\n      <td>37.649063</td>\n      <td>35.058442</td>\n      <td>25.458473</td>\n      <td>21.327315</td>\n      <td>...</td>\n      <td>56.605159</td>\n      <td>14.866457</td>\n      <td>3.258333</td>\n      <td>1.142857</td>\n      <td>6.163528</td>\n      <td>3.440152</td>\n      <td>4.714286</td>\n      <td>4.200000</td>\n      <td>0.750000</td>\n      <td>0.706667</td>\n    </tr>\n    <tr>\n      <th>Finland</th>\n      <td>153.286325</td>\n      <td>62.915046</td>\n      <td>516.007436</td>\n      <td>448.720034</td>\n      <td>463.853880</td>\n      <td>814.586437</td>\n      <td>395.209130</td>\n      <td>177.031326</td>\n      <td>155.042587</td>\n      <td>217.318793</td>\n      <td>...</td>\n      <td>282.240712</td>\n      <td>34.060974</td>\n      <td>13.954776</td>\n      <td>12.624099</td>\n      <td>47.117063</td>\n      <td>13.053968</td>\n      <td>23.511668</td>\n      <td>6.971429</td>\n      <td>2.829167</td>\n      <td>12.218884</td>\n    </tr>\n    <tr>\n      <th>France</th>\n      <td>342.560338</td>\n      <td>393.979098</td>\n      <td>1877.815806</td>\n      <td>381.693665</td>\n      <td>1427.262311</td>\n      <td>2074.404086</td>\n      <td>771.463925</td>\n      <td>421.716007</td>\n      <td>307.615795</td>\n      <td>339.383032</td>\n      <td>...</td>\n      <td>1231.375473</td>\n      <td>146.773465</td>\n      <td>52.043033</td>\n      <td>14.249275</td>\n      <td>125.421703</td>\n      <td>33.531877</td>\n      <td>70.521952</td>\n      <td>27.301422</td>\n      <td>5.061582</td>\n      <td>18.803095</td>\n    </tr>\n    <tr>\n      <th>Germany</th>\n      <td>723.048157</td>\n      <td>461.137028</td>\n      <td>2937.266653</td>\n      <td>1368.170583</td>\n      <td>2283.814950</td>\n      <td>3206.537816</td>\n      <td>1618.226987</td>\n      <td>989.341667</td>\n      <td>657.083722</td>\n      <td>896.647265</td>\n      <td>...</td>\n      <td>2993.472837</td>\n      <td>262.255043</td>\n      <td>73.399844</td>\n      <td>33.589850</td>\n      <td>252.254514</td>\n      <td>64.146141</td>\n      <td>65.447904</td>\n      <td>70.858627</td>\n      <td>28.307440</td>\n      <td>33.886093</td>\n    </tr>\n    <tr>\n      <th>Greece</th>\n      <td>96.294181</td>\n      <td>96.235711</td>\n      <td>644.444117</td>\n      <td>209.068255</td>\n      <td>330.566324</td>\n      <td>1142.128847</td>\n      <td>366.325507</td>\n      <td>131.142445</td>\n      <td>120.085038</td>\n      <td>156.846842</td>\n      <td>...</td>\n      <td>271.755143</td>\n      <td>84.558809</td>\n      <td>17.940593</td>\n      <td>17.263963</td>\n      <td>103.575854</td>\n      <td>26.552031</td>\n      <td>32.112462</td>\n      <td>28.604365</td>\n      <td>6.301832</td>\n      <td>13.230952</td>\n    </tr>\n    <tr>\n      <th>Hungary</th>\n      <td>38.789202</td>\n      <td>32.563400</td>\n      <td>265.608942</td>\n      <td>88.954869</td>\n      <td>84.201224</td>\n      <td>330.580298</td>\n      <td>111.887045</td>\n      <td>71.546261</td>\n      <td>47.913982</td>\n      <td>83.056478</td>\n      <td>...</td>\n      <td>164.730910</td>\n      <td>15.031855</td>\n      <td>3.950000</td>\n      <td>4.952778</td>\n      <td>24.276842</td>\n      <td>6.881548</td>\n      <td>8.200000</td>\n      <td>4.981624</td>\n      <td>1.250000</td>\n      <td>3.291667</td>\n    </tr>\n    <tr>\n      <th>Ireland</th>\n      <td>120.967417</td>\n      <td>59.250513</td>\n      <td>550.533013</td>\n      <td>293.883263</td>\n      <td>258.938279</td>\n      <td>477.007997</td>\n      <td>168.969497</td>\n      <td>116.742308</td>\n      <td>94.715032</td>\n      <td>176.307425</td>\n      <td>...</td>\n      <td>237.564712</td>\n      <td>22.217682</td>\n      <td>6.209804</td>\n      <td>6.016395</td>\n      <td>40.408410</td>\n      <td>10.326681</td>\n      <td>20.548157</td>\n      <td>12.416667</td>\n      <td>3.900000</td>\n      <td>5.957576</td>\n    </tr>\n    <tr>\n      <th>Italy</th>\n      <td>530.662707</td>\n      <td>578.039412</td>\n      <td>4975.194759</td>\n      <td>768.551081</td>\n      <td>2205.501688</td>\n      <td>4182.405568</td>\n      <td>1868.174722</td>\n      <td>714.118875</td>\n      <td>647.675549</td>\n      <td>909.182787</td>\n      <td>...</td>\n      <td>2330.421674</td>\n      <td>250.091519</td>\n      <td>114.443379</td>\n      <td>80.434616</td>\n      <td>327.326671</td>\n      <td>110.246341</td>\n      <td>161.031729</td>\n      <td>72.914227</td>\n      <td>31.680879</td>\n      <td>60.509354</td>\n    </tr>\n    <tr>\n      <th>Latvia</th>\n      <td>3.928803</td>\n      <td>4.814076</td>\n      <td>37.694040</td>\n      <td>10.948785</td>\n      <td>20.627724</td>\n      <td>60.429161</td>\n      <td>44.301720</td>\n      <td>26.127899</td>\n      <td>18.084146</td>\n      <td>15.516667</td>\n      <td>...</td>\n      <td>15.628186</td>\n      <td>0.189322</td>\n      <td>0.125000</td>\n      <td>1.000000</td>\n      <td>2.291667</td>\n      <td>0.291667</td>\n      <td>2.000000</td>\n      <td>0.500000</td>\n      <td>0.000000</td>\n      <td>0.000000</td>\n    </tr>\n    <tr>\n      <th>Lithuania</th>\n      <td>25.319555</td>\n      <td>33.313210</td>\n      <td>138.580018</td>\n      <td>35.259975</td>\n      <td>86.065341</td>\n      <td>167.420966</td>\n      <td>101.951169</td>\n      <td>74.443912</td>\n      <td>68.987900</td>\n      <td>70.463704</td>\n      <td>...</td>\n      <td>73.429330</td>\n      <td>7.516685</td>\n      <td>6.750000</td>\n      <td>1.700000</td>\n      <td>13.235256</td>\n      <td>3.166667</td>\n      <td>2.242857</td>\n      <td>4.313889</td>\n      <td>1.000000</td>\n      <td>1.766667</td>\n    </tr>\n    <tr>\n      <th>Luxembourg</th>\n      <td>26.311610</td>\n      <td>6.721673</td>\n      <td>38.980583</td>\n      <td>22.226419</td>\n      <td>14.850715</td>\n      <td>68.507407</td>\n      <td>19.986783</td>\n      <td>24.332937</td>\n      <td>13.084892</td>\n      <td>18.800000</td>\n      <td>...</td>\n      <td>14.127381</td>\n      <td>2.570635</td>\n      <td>0.777778</td>\n      <td>0.000000</td>\n      <td>11.632540</td>\n      <td>1.444444</td>\n      <td>0.142857</td>\n      <td>2.387179</td>\n      <td>0.333333</td>\n      <td>1.183333</td>\n    </tr>\n    <tr>\n      <th>Malta</th>\n      <td>5.417006</td>\n      <td>0.014925</td>\n      <td>38.475624</td>\n      <td>15.090887</td>\n      <td>15.202849</td>\n      <td>7.608241</td>\n      <td>9.617867</td>\n      <td>6.557143</td>\n      <td>5.280424</td>\n      <td>9.148810</td>\n      <td>...</td>\n      <td>10.830844</td>\n      <td>0.037037</td>\n      <td>0.967391</td>\n      <td>0.000000</td>\n      <td>0.809597</td>\n      <td>0.000000</td>\n      <td>0.250000</td>\n      <td>0.000000</td>\n      <td>0.000000</td>\n      <td>0.000000</td>\n    </tr>\n    <tr>\n      <th>Netherlands</th>\n      <td>522.432262</td>\n      <td>329.904387</td>\n      <td>1489.473197</td>\n      <td>998.425355</td>\n      <td>1001.927291</td>\n      <td>1521.892512</td>\n      <td>789.740082</td>\n      <td>481.792085</td>\n      <td>394.482814</td>\n      <td>609.915678</td>\n      <td>...</td>\n      <td>654.154837</td>\n      <td>64.719533</td>\n      <td>23.919629</td>\n      <td>4.090842</td>\n      <td>102.756719</td>\n      <td>33.184288</td>\n      <td>23.554294</td>\n      <td>23.338828</td>\n      <td>10.717361</td>\n      <td>7.795833</td>\n    </tr>\n    <tr>\n      <th>Poland</th>\n      <td>119.182686</td>\n      <td>194.690609</td>\n      <td>1471.879417</td>\n      <td>240.225858</td>\n      <td>450.805099</td>\n      <td>2182.261389</td>\n      <td>684.059384</td>\n      <td>294.295030</td>\n      <td>281.727705</td>\n      <td>301.831407</td>\n      <td>...</td>\n      <td>938.331111</td>\n      <td>82.566403</td>\n      <td>29.331875</td>\n      <td>6.399457</td>\n      <td>115.248813</td>\n      <td>20.602871</td>\n      <td>21.918505</td>\n      <td>28.233333</td>\n      <td>4.993590</td>\n      <td>10.142857</td>\n    </tr>\n    <tr>\n      <th>Portugal</th>\n      <td>101.759538</td>\n      <td>107.253525</td>\n      <td>678.609240</td>\n      <td>419.464550</td>\n      <td>839.118866</td>\n      <td>1456.578171</td>\n      <td>518.242303</td>\n      <td>231.681050</td>\n      <td>245.826462</td>\n      <td>297.790952</td>\n      <td>...</td>\n      <td>528.359924</td>\n      <td>63.536772</td>\n      <td>29.764971</td>\n      <td>16.741667</td>\n      <td>91.774958</td>\n      <td>24.853571</td>\n      <td>38.218723</td>\n      <td>27.220177</td>\n      <td>6.585714</td>\n      <td>16.690476</td>\n    </tr>\n    <tr>\n      <th>Romania</th>\n      <td>84.596325</td>\n      <td>116.000392</td>\n      <td>700.096030</td>\n      <td>100.760612</td>\n      <td>182.735219</td>\n      <td>806.397197</td>\n      <td>247.929358</td>\n      <td>209.293725</td>\n      <td>174.999585</td>\n      <td>290.233009</td>\n      <td>...</td>\n      <td>403.311631</td>\n      <td>37.387226</td>\n      <td>12.828632</td>\n      <td>18.339286</td>\n      <td>58.890624</td>\n      <td>16.711111</td>\n      <td>30.980195</td>\n      <td>17.823810</td>\n      <td>9.000000</td>\n      <td>14.232540</td>\n    </tr>\n    <tr>\n      <th>Slovakia</th>\n      <td>43.823610</td>\n      <td>23.676786</td>\n      <td>187.487197</td>\n      <td>109.131151</td>\n      <td>59.439468</td>\n      <td>167.309311</td>\n      <td>55.280336</td>\n      <td>86.275121</td>\n      <td>62.558245</td>\n      <td>85.892483</td>\n      <td>...</td>\n      <td>182.760582</td>\n      <td>8.945149</td>\n      <td>1.000000</td>\n      <td>0.052632</td>\n      <td>9.300397</td>\n      <td>3.711905</td>\n      <td>1.352632</td>\n      <td>5.000000</td>\n      <td>1.000000</td>\n      <td>1.000000</td>\n    </tr>\n    <tr>\n      <th>Slovenia</th>\n      <td>25.678836</td>\n      <td>18.191261</td>\n      <td>153.767729</td>\n      <td>84.494460</td>\n      <td>69.710676</td>\n      <td>237.702121</td>\n      <td>101.258472</td>\n      <td>63.466061</td>\n      <td>52.148819</td>\n      <td>83.959795</td>\n      <td>...</td>\n      <td>162.167811</td>\n      <td>13.316965</td>\n      <td>1.406250</td>\n      <td>2.791667</td>\n      <td>20.468664</td>\n      <td>4.800000</td>\n      <td>5.142857</td>\n      <td>2.448413</td>\n      <td>3.083333</td>\n      <td>4.059524</td>\n    </tr>\n    <tr>\n      <th>Spain</th>\n      <td>524.967519</td>\n      <td>390.462162</td>\n      <td>2624.197029</td>\n      <td>1231.039805</td>\n      <td>2139.612255</td>\n      <td>5470.152567</td>\n      <td>1566.353062</td>\n      <td>786.284466</td>\n      <td>689.138881</td>\n      <td>1079.465728</td>\n      <td>...</td>\n      <td>1390.499945</td>\n      <td>265.935692</td>\n      <td>83.266375</td>\n      <td>73.387946</td>\n      <td>367.603675</td>\n      <td>91.672061</td>\n      <td>158.454640</td>\n      <td>95.842631</td>\n      <td>28.609364</td>\n      <td>57.460763</td>\n    </tr>\n    <tr>\n      <th>Sweden</th>\n      <td>387.895223</td>\n      <td>138.984270</td>\n      <td>1006.328310</td>\n      <td>748.457335</td>\n      <td>1124.426552</td>\n      <td>1312.420337</td>\n      <td>758.340343</td>\n      <td>359.697328</td>\n      <td>277.385278</td>\n      <td>407.903467</td>\n      <td>...</td>\n      <td>478.055501</td>\n      <td>43.675598</td>\n      <td>10.537388</td>\n      <td>11.273825</td>\n      <td>64.076498</td>\n      <td>19.959441</td>\n      <td>30.041646</td>\n      <td>18.856383</td>\n      <td>5.916667</td>\n      <td>11.285653</td>\n    </tr>\n    <tr>\n      <th>Norway</th>\n      <td>191.582238</td>\n      <td>83.035709</td>\n      <td>638.404027</td>\n      <td>508.483293</td>\n      <td>851.313525</td>\n      <td>557.678147</td>\n      <td>335.216645</td>\n      <td>201.461769</td>\n      <td>144.821919</td>\n      <td>260.126795</td>\n      <td>...</td>\n      <td>163.647935</td>\n      <td>56.815084</td>\n      <td>27.060651</td>\n      <td>4.284877</td>\n      <td>44.225354</td>\n      <td>12.190548</td>\n      <td>18.932973</td>\n      <td>14.278655</td>\n      <td>3.531250</td>\n      <td>3.809524</td>\n    </tr>\n    <tr>\n      <th>Switzerland</th>\n      <td>206.651358</td>\n      <td>182.093578</td>\n      <td>1117.386334</td>\n      <td>309.763278</td>\n      <td>594.831306</td>\n      <td>879.440499</td>\n      <td>397.283832</td>\n      <td>244.407815</td>\n      <td>185.888000</td>\n      <td>224.136279</td>\n      <td>...</td>\n      <td>628.346078</td>\n      <td>55.213955</td>\n      <td>15.627546</td>\n      <td>9.989060</td>\n      <td>74.757735</td>\n      <td>26.384938</td>\n      <td>28.535023</td>\n      <td>19.410481</td>\n      <td>4.956923</td>\n      <td>7.537121</td>\n    </tr>\n    <tr>\n      <th>United Kingdom</th>\n      <td>2463.008787</td>\n      <td>805.696226</td>\n      <td>6725.736005</td>\n      <td>3391.209509</td>\n      <td>4249.722638</td>\n      <td>3630.802787</td>\n      <td>2280.176160</td>\n      <td>1980.237005</td>\n      <td>1329.150081</td>\n      <td>2401.987263</td>\n      <td>...</td>\n      <td>2735.312261</td>\n      <td>260.115873</td>\n      <td>127.398529</td>\n      <td>56.335302</td>\n      <td>420.420391</td>\n      <td>101.571680</td>\n      <td>164.617088</td>\n      <td>106.693862</td>\n      <td>31.560306</td>\n      <td>59.272287</td>\n    </tr>\n    <tr>\n      <th>Canada</th>\n      <td>1259.817662</td>\n      <td>486.192635</td>\n      <td>3645.576088</td>\n      <td>2135.893592</td>\n      <td>2547.714369</td>\n      <td>3275.231836</td>\n      <td>1215.126982</td>\n      <td>760.038668</td>\n      <td>581.410354</td>\n      <td>922.343194</td>\n      <td>...</td>\n      <td>1291.922274</td>\n      <td>245.928767</td>\n      <td>61.980737</td>\n      <td>28.116747</td>\n      <td>294.404509</td>\n      <td>50.873513</td>\n      <td>111.716484</td>\n      <td>46.674514</td>\n      <td>12.242384</td>\n      <td>22.828064</td>\n    </tr>\n    <tr>\n      <th>China</th>\n      <td>1490.218530</td>\n      <td>1400.685335</td>\n      <td>9924.594001</td>\n      <td>1971.432117</td>\n      <td>5056.579025</td>\n      <td>27016.839099</td>\n      <td>13075.669433</td>\n      <td>1532.247137</td>\n      <td>3252.946216</td>\n      <td>1653.684691</td>\n      <td>...</td>\n      <td>9534.964027</td>\n      <td>1405.156424</td>\n      <td>282.347950</td>\n      <td>212.415031</td>\n      <td>2258.714477</td>\n      <td>343.791740</td>\n      <td>1145.183016</td>\n      <td>435.348286</td>\n      <td>62.231575</td>\n      <td>130.887551</td>\n    </tr>\n    <tr>\n      <th>United States</th>\n      <td>8635.115779</td>\n      <td>2651.321997</td>\n      <td>28864.297267</td>\n      <td>16330.358924</td>\n      <td>12817.700016</td>\n      <td>11088.365050</td>\n      <td>5931.563979</td>\n      <td>4804.978300</td>\n      <td>2935.976436</td>\n      <td>3431.874239</td>\n      <td>...</td>\n      <td>9063.749880</td>\n      <td>1118.966643</td>\n      <td>392.564769</td>\n      <td>146.446414</td>\n      <td>1469.072736</td>\n      <td>331.086465</td>\n      <td>447.674137</td>\n      <td>284.627379</td>\n      <td>90.359297</td>\n      <td>98.702100</td>\n    </tr>\n    <tr>\n      <th>Japan</th>\n      <td>338.647029</td>\n      <td>238.170684</td>\n      <td>2135.336149</td>\n      <td>471.463166</td>\n      <td>892.913268</td>\n      <td>2004.983589</td>\n      <td>1192.426972</td>\n      <td>344.847242</td>\n      <td>290.670736</td>\n      <td>266.180066</td>\n      <td>...</td>\n      <td>1002.984786</td>\n      <td>132.680803</td>\n      <td>76.932243</td>\n      <td>23.709560</td>\n      <td>148.369366</td>\n      <td>57.433730</td>\n      <td>61.969574</td>\n      <td>24.640079</td>\n      <td>11.759821</td>\n      <td>12.458333</td>\n    </tr>\n    <tr>\n      <th>South Korea</th>\n      <td>417.722060</td>\n      <td>160.863699</td>\n      <td>1872.687500</td>\n      <td>468.238954</td>\n      <td>634.912961</td>\n      <td>2354.307863</td>\n      <td>1758.551308</td>\n      <td>368.276791</td>\n      <td>450.045932</td>\n      <td>323.747653</td>\n      <td>...</td>\n      <td>1869.735209</td>\n      <td>267.236109</td>\n      <td>64.482753</td>\n      <td>63.016667</td>\n      <td>367.168591</td>\n      <td>56.315032</td>\n      <td>279.010786</td>\n      <td>77.733766</td>\n      <td>8.809524</td>\n      <td>39.926948</td>\n    </tr>\n    <tr>\n      <th>Australia</th>\n      <td>1208.909507</td>\n      <td>566.409920</td>\n      <td>3593.683223</td>\n      <td>3679.624353</td>\n      <td>3819.323895</td>\n      <td>3625.334634</td>\n      <td>1705.139462</td>\n      <td>1102.363539</td>\n      <td>958.221547</td>\n      <td>1514.969154</td>\n      <td>...</td>\n      <td>1446.415171</td>\n      <td>257.386109</td>\n      <td>112.652157</td>\n      <td>49.042313</td>\n      <td>270.333772</td>\n      <td>68.848834</td>\n      <td>94.414382</td>\n      <td>61.494486</td>\n      <td>21.035515</td>\n      <td>29.012393</td>\n    </tr>\n    <tr>\n      <th>Israel</th>\n      <td>138.435611</td>\n      <td>60.528854</td>\n      <td>834.221293</td>\n      <td>452.921120</td>\n      <td>283.246235</td>\n      <td>443.802242</td>\n      <td>92.790115</td>\n      <td>94.039046</td>\n      <td>48.237263</td>\n      <td>123.733418</td>\n      <td>...</td>\n      <td>219.684532</td>\n      <td>18.823509</td>\n      <td>6.476190</td>\n      <td>1.333333</td>\n      <td>32.999285</td>\n      <td>8.726190</td>\n      <td>7.211204</td>\n      <td>0.523160</td>\n      <td>1.926190</td>\n      <td>0.000000</td>\n    </tr>\n  </tbody>\n</table>\n<p>37 rows × 36 columns</p>\n</div>"
     },
     "execution_count": 27,
     "metadata": {},
     "output_type": "execute_result"
    }
   ],
   "source": [
    "# Still fractional\n",
    "df_spec_raw = pd.DataFrame.from_dict(data=dic, orient=\"index\", columns=lst_sdg+lst_cat+lst_dt+lst_cat_dt)\n",
    "df_spec_raw = df_spec_raw.loc[df_country_eu_other.index, :]\n",
    "df_spec_raw"
   ],
   "metadata": {
    "collapsed": false
   }
  },
  {
   "cell_type": "code",
   "execution_count": 32,
   "outputs": [
    {
     "data": {
      "text/plain": "                    SDG1      SDG2      SDG3      SDG4      SDG5      SDG6  \\\nCountry                                                                      \nAustria          0.00112  0.001015  0.005257  0.002049  0.003394  0.005217   \nBelgium         0.002343  0.001462  0.006893   0.00365  0.004539  0.008636   \nBulgaria        0.000647  0.001633  0.007324  0.001538  0.002439  0.007749   \nCroatia         0.002636  0.002066  0.021588  0.008926  0.009465   0.02186   \nCyprus          0.002437   0.00206  0.017581  0.015344  0.005343  0.022083   \nCzech Republic  0.001369  0.000962  0.006155  0.002446  0.004047  0.011741   \nDenmark         0.002596  0.001557  0.008753  0.003907  0.006997  0.011415   \nEstonia         0.001824  0.001771  0.011875  0.008009  0.011253  0.015181   \nFinland         0.002656   0.00109   0.00894  0.007775  0.008037  0.014114   \nFrance          0.000653  0.000751  0.003581  0.000728  0.002722  0.003956   \nGermany         0.000918  0.000586  0.003731  0.001738  0.002901  0.004073   \nGreece          0.002542   0.00254  0.017011  0.005518  0.008726  0.030147   \nHungary         0.001242  0.001043  0.008505  0.002848  0.002696  0.010585   \nIreland         0.001429    0.0007  0.006502  0.003471  0.003058  0.005634   \nItaly           0.001416  0.001542  0.013276  0.002051  0.005885  0.011161   \nLatvia           0.00055  0.000673  0.005273  0.001532  0.002885  0.008453   \nLithuania       0.002141  0.002817  0.011719  0.002982  0.007278  0.014158   \nLuxembourg      0.001709  0.000437  0.002531  0.001443  0.000964  0.004449   \nMalta           0.001776  0.000005  0.012614  0.004948  0.004984  0.002494   \nNetherlands     0.002716  0.001715  0.007743   0.00519  0.005208  0.007911   \nPoland          0.001014  0.001657  0.012527  0.002045  0.003837  0.018573   \nPortugal         0.00223   0.00235   0.01487  0.009192  0.018388  0.031918   \nRomania         0.001805  0.002475  0.014936   0.00215  0.003898  0.017203   \nSlovakia        0.002006  0.001084  0.008582  0.004995  0.002721  0.007659   \nSlovenia        0.002327  0.001649  0.013936  0.007658  0.006318  0.021543   \nSpain           0.002098  0.001561  0.010488   0.00492  0.008552  0.021863   \nSweden          0.003362  0.001205  0.008723  0.006488  0.009747  0.011377   \nNorway           0.00262  0.001135   0.00873  0.006953  0.011641  0.007626   \nSwitzerland     0.001331  0.001173  0.007198  0.001995  0.003832  0.005665   \nUnited Kingdom  0.004603  0.001506   0.01257  0.006338  0.007943  0.006786   \nCanada          0.003914   0.00151  0.011325  0.006635  0.007915  0.010175   \nChina           0.000469   0.00044   0.00312   0.00062   0.00159  0.008494   \nUnited States   0.001929  0.000592  0.006448  0.003648  0.002863  0.002477   \nJapan           0.000318  0.000224  0.002005  0.000443  0.000838  0.001882   \nSouth Korea     0.001179  0.000454  0.005285  0.001321  0.001792  0.006644   \nAustralia       0.004312   0.00202  0.012819  0.013125  0.013623  0.012931   \nIsrael          0.001624   0.00071  0.009789  0.005315  0.003324  0.005208   \n\n                    SDG7      SDG8      SDG9     SDG10  ...  \\\nCountry                                                 ...   \nAustria         0.003241  0.001623  0.001401  0.002076  ...   \nBelgium         0.003595  0.002405  0.001464  0.002615  ...   \nBulgaria        0.002797  0.001753  0.000851  0.002368  ...   \nCroatia         0.011274  0.008512  0.004628  0.009015  ...   \nCyprus          0.009767  0.005642  0.003954  0.009127  ...   \nCzech Republic   0.00291  0.003405  0.002032  0.002715  ...   \nDenmark         0.006476  0.002429  0.002097   0.00209  ...   \nEstonia         0.005821   0.00542  0.003936  0.003297  ...   \nFinland         0.006847  0.003067  0.002686  0.003765  ...   \nFrance          0.001471  0.000804  0.000587  0.000647  ...   \nGermany         0.002055  0.001257  0.000835  0.001139  ...   \nGreece          0.009669  0.003462   0.00317   0.00414  ...   \nHungary         0.003583  0.002291  0.001534  0.002659  ...   \nIreland         0.001996  0.001379  0.001119  0.002082  ...   \nItaly           0.004985  0.001906  0.001728  0.002426  ...   \nLatvia          0.006197  0.003655   0.00253   0.00217  ...   \nLithuania       0.008621  0.006295  0.005834  0.005959  ...   \nLuxembourg      0.001298   0.00158   0.00085  0.001221  ...   \nMalta           0.003153   0.00215  0.001731  0.002999  ...   \nNetherlands     0.004105  0.002505  0.002051  0.003171  ...   \nPoland          0.005822  0.002505  0.002398  0.002569  ...   \nPortugal        0.011356  0.005077  0.005387  0.006526  ...   \nRomania         0.005289  0.004465  0.003733  0.006192  ...   \nSlovakia         0.00253  0.003949  0.002864  0.003932  ...   \nSlovenia        0.009177  0.005752  0.004726  0.007609  ...   \nSpain            0.00626  0.003143  0.002754  0.004314  ...   \nSweden          0.006574  0.003118  0.002405  0.003536  ...   \nNorway          0.004584  0.002755   0.00198  0.003557  ...   \nSwitzerland     0.002559  0.001574  0.001197  0.001444  ...   \nUnited Kingdom  0.004262  0.003701  0.002484  0.004489  ...   \nCanada          0.003775  0.002361  0.001806  0.002865  ...   \nChina           0.004111  0.000482  0.001023   0.00052  ...   \nUnited States   0.001325  0.001073  0.000656  0.000767  ...   \nJapan           0.001119  0.000324  0.000273   0.00025  ...   \nSouth Korea     0.004963  0.001039   0.00127  0.000914  ...   \nAustralia       0.006082  0.003932  0.003418  0.005404  ...   \nIsrael          0.001089  0.001103  0.000566  0.001452  ...   \n\n               additive_manufacturing Environment-AI Environment-robotics  \\\nCountry                                                                     \nAustria                      0.004119       0.000363             0.000098   \nBelgium                      0.004632        0.00031             0.000138   \nBulgaria                     0.002907        0.00022              0.00007   \nCroatia                      0.007203       0.002004             0.000863   \nCyprus                       0.004184       0.002016             0.001093   \nCzech Republic               0.008048       0.000301             0.000282   \nDenmark                      0.003191       0.000524               0.0002   \nEstonia                      0.008751       0.002298             0.000504   \nFinland                       0.00489        0.00059             0.000242   \nFrance                       0.002348        0.00028             0.000099   \nGermany                      0.003802       0.000333             0.000093   \nGreece                       0.007173       0.002232             0.000474   \nHungary                      0.005275       0.000481             0.000126   \nIreland                      0.002806       0.000262             0.000073   \nItaly                        0.006219       0.000667             0.000305   \nLatvia                       0.002186       0.000026             0.000017   \nLithuania                    0.006209       0.000636             0.000571   \nLuxembourg                   0.000917       0.000167             0.000051   \nMalta                        0.003551       0.000012             0.000317   \nNetherlands                  0.003401       0.000336             0.000124   \nPoland                       0.007986       0.000703              0.00025   \nPortugal                     0.011578       0.001392             0.000652   \nRomania                      0.008604       0.000798             0.000274   \nSlovakia                     0.008366       0.000409             0.000046   \nSlovenia                     0.014697       0.001207             0.000127   \nSpain                        0.005558       0.001063             0.000333   \nSweden                       0.004144       0.000379             0.000091   \nNorway                       0.002238       0.000777              0.00037   \nSwitzerland                  0.004048       0.000356             0.000101   \nUnited Kingdom               0.005112       0.000486             0.000238   \nCanada                       0.004014       0.000764             0.000193   \nChina                        0.002998       0.000442             0.000089   \nUnited States                0.002025        0.00025             0.000088   \nJapan                        0.000942       0.000125             0.000072   \nSouth Korea                  0.005276       0.000754             0.000182   \nAustralia                    0.005159       0.000918             0.000402   \nIsrael                       0.002578       0.000221             0.000076   \n\n               Environment-IOT Society-AI Society-robotics Society-IOT  \\\nCountry                                                                  \nAustria               0.000104   0.000396          0.00009    0.000152   \nBelgium               0.000094   0.000515         0.000148    0.000165   \nBulgaria                   0.0   0.000584         0.000163    0.000419   \nCroatia               0.000321   0.002397         0.000433    0.000426   \nCyprus                 0.00051   0.002712         0.000359    0.000702   \nCzech Republic        0.000063   0.000492         0.000258    0.000147   \nDenmark               0.000124   0.000414         0.000141    0.000234   \nEstonia               0.000177   0.000953         0.000532    0.000729   \nFinland               0.000219   0.000816         0.000226    0.000407   \nFrance                0.000027   0.000239         0.000064    0.000134   \nGermany               0.000043    0.00032         0.000081    0.000083   \nGreece                0.000456   0.002734         0.000701    0.000848   \nHungary               0.000159   0.000777          0.00022    0.000263   \nIreland               0.000071   0.000477         0.000122    0.000243   \nItaly                 0.000215   0.000873         0.000294     0.00043   \nLatvia                 0.00014   0.000321         0.000041     0.00028   \nLithuania             0.000144   0.001119         0.000268     0.00019   \nLuxembourg                 0.0   0.000755         0.000094    0.000009   \nMalta                      0.0   0.000265              0.0    0.000082   \nNetherlands           0.000021   0.000534         0.000173    0.000122   \nPoland                0.000054   0.000981         0.000175    0.000187   \nPortugal              0.000367   0.002011         0.000545    0.000837   \nRomania               0.000391   0.001256         0.000357    0.000661   \nSlovakia              0.000002   0.000426          0.00017    0.000062   \nSlovenia              0.000253   0.001855         0.000435    0.000466   \nSpain                 0.000293   0.001469         0.000366    0.000633   \nSweden                0.000098   0.000555         0.000173     0.00026   \nNorway                0.000059   0.000605         0.000167    0.000259   \nSwitzerland           0.000064   0.000482          0.00017    0.000184   \nUnited Kingdom        0.000105   0.000786          0.00019    0.000308   \nCanada                0.000087   0.000915         0.000158    0.000347   \nChina                 0.000067    0.00071         0.000108     0.00036   \nUnited States         0.000033   0.000328         0.000074      0.0001   \nJapan                 0.000022   0.000139         0.000054    0.000058   \nSouth Korea           0.000178   0.001036         0.000159    0.000787   \nAustralia             0.000175   0.000964         0.000246    0.000337   \nIsrael                0.000016   0.000387         0.000102    0.000085   \n\n               Economy-AI Economy-robotics Economy-IOT  \nCountry                                                 \nAustria          0.000129         0.000071    0.000051  \nBelgium          0.000155         0.000028     0.00009  \nBulgaria         0.000174              0.0     0.00014  \nCroatia          0.000244          0.00006    0.000334  \nCyprus           0.000161         0.000197     0.00024  \nCzech Republic    0.00016         0.000068    0.000076  \nDenmark          0.000105          0.00002    0.000067  \nEstonia          0.000649         0.000116    0.000109  \nFinland          0.000121         0.000049    0.000212  \nFrance           0.000052          0.00001    0.000036  \nGermany           0.00009         0.000036    0.000043  \nGreece           0.000755         0.000166    0.000349  \nHungary           0.00016          0.00004    0.000105  \nIreland          0.000147         0.000046     0.00007  \nItaly            0.000195         0.000085    0.000161  \nLatvia            0.00007              0.0         0.0  \nLithuania        0.000365         0.000085    0.000149  \nLuxembourg       0.000155         0.000022    0.000077  \nMalta                 0.0              0.0         0.0  \nNetherlands      0.000121         0.000056    0.000041  \nPoland            0.00024         0.000042    0.000086  \nPortugal         0.000596         0.000144    0.000366  \nRomania           0.00038         0.000192    0.000304  \nSlovakia         0.000229         0.000046    0.000046  \nSlovenia         0.000222         0.000279    0.000368  \nSpain            0.000383         0.000114     0.00023  \nSweden           0.000163         0.000051    0.000098  \nNorway           0.000195         0.000048    0.000052  \nSwitzerland      0.000125         0.000032    0.000049  \nUnited Kingdom   0.000199         0.000059    0.000111  \nCanada           0.000145         0.000038    0.000071  \nChina            0.000137          0.00002    0.000041  \nUnited States    0.000064          0.00002    0.000022  \nJapan            0.000023         0.000011    0.000012  \nSouth Korea      0.000219         0.000025    0.000113  \nAustralia        0.000219         0.000075    0.000103  \nIsrael           0.000006         0.000023         0.0  \n\n[37 rows x 36 columns]",
      "text/html": "<div>\n<style scoped>\n    .dataframe tbody tr th:only-of-type {\n        vertical-align: middle;\n    }\n\n    .dataframe tbody tr th {\n        vertical-align: top;\n    }\n\n    .dataframe thead th {\n        text-align: right;\n    }\n</style>\n<table border=\"1\" class=\"dataframe\">\n  <thead>\n    <tr style=\"text-align: right;\">\n      <th></th>\n      <th>SDG1</th>\n      <th>SDG2</th>\n      <th>SDG3</th>\n      <th>SDG4</th>\n      <th>SDG5</th>\n      <th>SDG6</th>\n      <th>SDG7</th>\n      <th>SDG8</th>\n      <th>SDG9</th>\n      <th>SDG10</th>\n      <th>...</th>\n      <th>additive_manufacturing</th>\n      <th>Environment-AI</th>\n      <th>Environment-robotics</th>\n      <th>Environment-IOT</th>\n      <th>Society-AI</th>\n      <th>Society-robotics</th>\n      <th>Society-IOT</th>\n      <th>Economy-AI</th>\n      <th>Economy-robotics</th>\n      <th>Economy-IOT</th>\n    </tr>\n    <tr>\n      <th>Country</th>\n      <th></th>\n      <th></th>\n      <th></th>\n      <th></th>\n      <th></th>\n      <th></th>\n      <th></th>\n      <th></th>\n      <th></th>\n      <th></th>\n      <th></th>\n      <th></th>\n      <th></th>\n      <th></th>\n      <th></th>\n      <th></th>\n      <th></th>\n      <th></th>\n      <th></th>\n      <th></th>\n      <th></th>\n    </tr>\n  </thead>\n  <tbody>\n    <tr>\n      <th>Austria</th>\n      <td>0.00112</td>\n      <td>0.001015</td>\n      <td>0.005257</td>\n      <td>0.002049</td>\n      <td>0.003394</td>\n      <td>0.005217</td>\n      <td>0.003241</td>\n      <td>0.001623</td>\n      <td>0.001401</td>\n      <td>0.002076</td>\n      <td>...</td>\n      <td>0.004119</td>\n      <td>0.000363</td>\n      <td>0.000098</td>\n      <td>0.000104</td>\n      <td>0.000396</td>\n      <td>0.00009</td>\n      <td>0.000152</td>\n      <td>0.000129</td>\n      <td>0.000071</td>\n      <td>0.000051</td>\n    </tr>\n    <tr>\n      <th>Belgium</th>\n      <td>0.002343</td>\n      <td>0.001462</td>\n      <td>0.006893</td>\n      <td>0.00365</td>\n      <td>0.004539</td>\n      <td>0.008636</td>\n      <td>0.003595</td>\n      <td>0.002405</td>\n      <td>0.001464</td>\n      <td>0.002615</td>\n      <td>...</td>\n      <td>0.004632</td>\n      <td>0.00031</td>\n      <td>0.000138</td>\n      <td>0.000094</td>\n      <td>0.000515</td>\n      <td>0.000148</td>\n      <td>0.000165</td>\n      <td>0.000155</td>\n      <td>0.000028</td>\n      <td>0.00009</td>\n    </tr>\n    <tr>\n      <th>Bulgaria</th>\n      <td>0.000647</td>\n      <td>0.001633</td>\n      <td>0.007324</td>\n      <td>0.001538</td>\n      <td>0.002439</td>\n      <td>0.007749</td>\n      <td>0.002797</td>\n      <td>0.001753</td>\n      <td>0.000851</td>\n      <td>0.002368</td>\n      <td>...</td>\n      <td>0.002907</td>\n      <td>0.00022</td>\n      <td>0.00007</td>\n      <td>0.0</td>\n      <td>0.000584</td>\n      <td>0.000163</td>\n      <td>0.000419</td>\n      <td>0.000174</td>\n      <td>0.0</td>\n      <td>0.00014</td>\n    </tr>\n    <tr>\n      <th>Croatia</th>\n      <td>0.002636</td>\n      <td>0.002066</td>\n      <td>0.021588</td>\n      <td>0.008926</td>\n      <td>0.009465</td>\n      <td>0.02186</td>\n      <td>0.011274</td>\n      <td>0.008512</td>\n      <td>0.004628</td>\n      <td>0.009015</td>\n      <td>...</td>\n      <td>0.007203</td>\n      <td>0.002004</td>\n      <td>0.000863</td>\n      <td>0.000321</td>\n      <td>0.002397</td>\n      <td>0.000433</td>\n      <td>0.000426</td>\n      <td>0.000244</td>\n      <td>0.00006</td>\n      <td>0.000334</td>\n    </tr>\n    <tr>\n      <th>Cyprus</th>\n      <td>0.002437</td>\n      <td>0.00206</td>\n      <td>0.017581</td>\n      <td>0.015344</td>\n      <td>0.005343</td>\n      <td>0.022083</td>\n      <td>0.009767</td>\n      <td>0.005642</td>\n      <td>0.003954</td>\n      <td>0.009127</td>\n      <td>...</td>\n      <td>0.004184</td>\n      <td>0.002016</td>\n      <td>0.001093</td>\n      <td>0.00051</td>\n      <td>0.002712</td>\n      <td>0.000359</td>\n      <td>0.000702</td>\n      <td>0.000161</td>\n      <td>0.000197</td>\n      <td>0.00024</td>\n    </tr>\n    <tr>\n      <th>Czech Republic</th>\n      <td>0.001369</td>\n      <td>0.000962</td>\n      <td>0.006155</td>\n      <td>0.002446</td>\n      <td>0.004047</td>\n      <td>0.011741</td>\n      <td>0.00291</td>\n      <td>0.003405</td>\n      <td>0.002032</td>\n      <td>0.002715</td>\n      <td>...</td>\n      <td>0.008048</td>\n      <td>0.000301</td>\n      <td>0.000282</td>\n      <td>0.000063</td>\n      <td>0.000492</td>\n      <td>0.000258</td>\n      <td>0.000147</td>\n      <td>0.00016</td>\n      <td>0.000068</td>\n      <td>0.000076</td>\n    </tr>\n    <tr>\n      <th>Denmark</th>\n      <td>0.002596</td>\n      <td>0.001557</td>\n      <td>0.008753</td>\n      <td>0.003907</td>\n      <td>0.006997</td>\n      <td>0.011415</td>\n      <td>0.006476</td>\n      <td>0.002429</td>\n      <td>0.002097</td>\n      <td>0.00209</td>\n      <td>...</td>\n      <td>0.003191</td>\n      <td>0.000524</td>\n      <td>0.0002</td>\n      <td>0.000124</td>\n      <td>0.000414</td>\n      <td>0.000141</td>\n      <td>0.000234</td>\n      <td>0.000105</td>\n      <td>0.00002</td>\n      <td>0.000067</td>\n    </tr>\n    <tr>\n      <th>Estonia</th>\n      <td>0.001824</td>\n      <td>0.001771</td>\n      <td>0.011875</td>\n      <td>0.008009</td>\n      <td>0.011253</td>\n      <td>0.015181</td>\n      <td>0.005821</td>\n      <td>0.00542</td>\n      <td>0.003936</td>\n      <td>0.003297</td>\n      <td>...</td>\n      <td>0.008751</td>\n      <td>0.002298</td>\n      <td>0.000504</td>\n      <td>0.000177</td>\n      <td>0.000953</td>\n      <td>0.000532</td>\n      <td>0.000729</td>\n      <td>0.000649</td>\n      <td>0.000116</td>\n      <td>0.000109</td>\n    </tr>\n    <tr>\n      <th>Finland</th>\n      <td>0.002656</td>\n      <td>0.00109</td>\n      <td>0.00894</td>\n      <td>0.007775</td>\n      <td>0.008037</td>\n      <td>0.014114</td>\n      <td>0.006847</td>\n      <td>0.003067</td>\n      <td>0.002686</td>\n      <td>0.003765</td>\n      <td>...</td>\n      <td>0.00489</td>\n      <td>0.00059</td>\n      <td>0.000242</td>\n      <td>0.000219</td>\n      <td>0.000816</td>\n      <td>0.000226</td>\n      <td>0.000407</td>\n      <td>0.000121</td>\n      <td>0.000049</td>\n      <td>0.000212</td>\n    </tr>\n    <tr>\n      <th>France</th>\n      <td>0.000653</td>\n      <td>0.000751</td>\n      <td>0.003581</td>\n      <td>0.000728</td>\n      <td>0.002722</td>\n      <td>0.003956</td>\n      <td>0.001471</td>\n      <td>0.000804</td>\n      <td>0.000587</td>\n      <td>0.000647</td>\n      <td>...</td>\n      <td>0.002348</td>\n      <td>0.00028</td>\n      <td>0.000099</td>\n      <td>0.000027</td>\n      <td>0.000239</td>\n      <td>0.000064</td>\n      <td>0.000134</td>\n      <td>0.000052</td>\n      <td>0.00001</td>\n      <td>0.000036</td>\n    </tr>\n    <tr>\n      <th>Germany</th>\n      <td>0.000918</td>\n      <td>0.000586</td>\n      <td>0.003731</td>\n      <td>0.001738</td>\n      <td>0.002901</td>\n      <td>0.004073</td>\n      <td>0.002055</td>\n      <td>0.001257</td>\n      <td>0.000835</td>\n      <td>0.001139</td>\n      <td>...</td>\n      <td>0.003802</td>\n      <td>0.000333</td>\n      <td>0.000093</td>\n      <td>0.000043</td>\n      <td>0.00032</td>\n      <td>0.000081</td>\n      <td>0.000083</td>\n      <td>0.00009</td>\n      <td>0.000036</td>\n      <td>0.000043</td>\n    </tr>\n    <tr>\n      <th>Greece</th>\n      <td>0.002542</td>\n      <td>0.00254</td>\n      <td>0.017011</td>\n      <td>0.005518</td>\n      <td>0.008726</td>\n      <td>0.030147</td>\n      <td>0.009669</td>\n      <td>0.003462</td>\n      <td>0.00317</td>\n      <td>0.00414</td>\n      <td>...</td>\n      <td>0.007173</td>\n      <td>0.002232</td>\n      <td>0.000474</td>\n      <td>0.000456</td>\n      <td>0.002734</td>\n      <td>0.000701</td>\n      <td>0.000848</td>\n      <td>0.000755</td>\n      <td>0.000166</td>\n      <td>0.000349</td>\n    </tr>\n    <tr>\n      <th>Hungary</th>\n      <td>0.001242</td>\n      <td>0.001043</td>\n      <td>0.008505</td>\n      <td>0.002848</td>\n      <td>0.002696</td>\n      <td>0.010585</td>\n      <td>0.003583</td>\n      <td>0.002291</td>\n      <td>0.001534</td>\n      <td>0.002659</td>\n      <td>...</td>\n      <td>0.005275</td>\n      <td>0.000481</td>\n      <td>0.000126</td>\n      <td>0.000159</td>\n      <td>0.000777</td>\n      <td>0.00022</td>\n      <td>0.000263</td>\n      <td>0.00016</td>\n      <td>0.00004</td>\n      <td>0.000105</td>\n    </tr>\n    <tr>\n      <th>Ireland</th>\n      <td>0.001429</td>\n      <td>0.0007</td>\n      <td>0.006502</td>\n      <td>0.003471</td>\n      <td>0.003058</td>\n      <td>0.005634</td>\n      <td>0.001996</td>\n      <td>0.001379</td>\n      <td>0.001119</td>\n      <td>0.002082</td>\n      <td>...</td>\n      <td>0.002806</td>\n      <td>0.000262</td>\n      <td>0.000073</td>\n      <td>0.000071</td>\n      <td>0.000477</td>\n      <td>0.000122</td>\n      <td>0.000243</td>\n      <td>0.000147</td>\n      <td>0.000046</td>\n      <td>0.00007</td>\n    </tr>\n    <tr>\n      <th>Italy</th>\n      <td>0.001416</td>\n      <td>0.001542</td>\n      <td>0.013276</td>\n      <td>0.002051</td>\n      <td>0.005885</td>\n      <td>0.011161</td>\n      <td>0.004985</td>\n      <td>0.001906</td>\n      <td>0.001728</td>\n      <td>0.002426</td>\n      <td>...</td>\n      <td>0.006219</td>\n      <td>0.000667</td>\n      <td>0.000305</td>\n      <td>0.000215</td>\n      <td>0.000873</td>\n      <td>0.000294</td>\n      <td>0.00043</td>\n      <td>0.000195</td>\n      <td>0.000085</td>\n      <td>0.000161</td>\n    </tr>\n    <tr>\n      <th>Latvia</th>\n      <td>0.00055</td>\n      <td>0.000673</td>\n      <td>0.005273</td>\n      <td>0.001532</td>\n      <td>0.002885</td>\n      <td>0.008453</td>\n      <td>0.006197</td>\n      <td>0.003655</td>\n      <td>0.00253</td>\n      <td>0.00217</td>\n      <td>...</td>\n      <td>0.002186</td>\n      <td>0.000026</td>\n      <td>0.000017</td>\n      <td>0.00014</td>\n      <td>0.000321</td>\n      <td>0.000041</td>\n      <td>0.00028</td>\n      <td>0.00007</td>\n      <td>0.0</td>\n      <td>0.0</td>\n    </tr>\n    <tr>\n      <th>Lithuania</th>\n      <td>0.002141</td>\n      <td>0.002817</td>\n      <td>0.011719</td>\n      <td>0.002982</td>\n      <td>0.007278</td>\n      <td>0.014158</td>\n      <td>0.008621</td>\n      <td>0.006295</td>\n      <td>0.005834</td>\n      <td>0.005959</td>\n      <td>...</td>\n      <td>0.006209</td>\n      <td>0.000636</td>\n      <td>0.000571</td>\n      <td>0.000144</td>\n      <td>0.001119</td>\n      <td>0.000268</td>\n      <td>0.00019</td>\n      <td>0.000365</td>\n      <td>0.000085</td>\n      <td>0.000149</td>\n    </tr>\n    <tr>\n      <th>Luxembourg</th>\n      <td>0.001709</td>\n      <td>0.000437</td>\n      <td>0.002531</td>\n      <td>0.001443</td>\n      <td>0.000964</td>\n      <td>0.004449</td>\n      <td>0.001298</td>\n      <td>0.00158</td>\n      <td>0.00085</td>\n      <td>0.001221</td>\n      <td>...</td>\n      <td>0.000917</td>\n      <td>0.000167</td>\n      <td>0.000051</td>\n      <td>0.0</td>\n      <td>0.000755</td>\n      <td>0.000094</td>\n      <td>0.000009</td>\n      <td>0.000155</td>\n      <td>0.000022</td>\n      <td>0.000077</td>\n    </tr>\n    <tr>\n      <th>Malta</th>\n      <td>0.001776</td>\n      <td>0.000005</td>\n      <td>0.012614</td>\n      <td>0.004948</td>\n      <td>0.004984</td>\n      <td>0.002494</td>\n      <td>0.003153</td>\n      <td>0.00215</td>\n      <td>0.001731</td>\n      <td>0.002999</td>\n      <td>...</td>\n      <td>0.003551</td>\n      <td>0.000012</td>\n      <td>0.000317</td>\n      <td>0.0</td>\n      <td>0.000265</td>\n      <td>0.0</td>\n      <td>0.000082</td>\n      <td>0.0</td>\n      <td>0.0</td>\n      <td>0.0</td>\n    </tr>\n    <tr>\n      <th>Netherlands</th>\n      <td>0.002716</td>\n      <td>0.001715</td>\n      <td>0.007743</td>\n      <td>0.00519</td>\n      <td>0.005208</td>\n      <td>0.007911</td>\n      <td>0.004105</td>\n      <td>0.002505</td>\n      <td>0.002051</td>\n      <td>0.003171</td>\n      <td>...</td>\n      <td>0.003401</td>\n      <td>0.000336</td>\n      <td>0.000124</td>\n      <td>0.000021</td>\n      <td>0.000534</td>\n      <td>0.000173</td>\n      <td>0.000122</td>\n      <td>0.000121</td>\n      <td>0.000056</td>\n      <td>0.000041</td>\n    </tr>\n    <tr>\n      <th>Poland</th>\n      <td>0.001014</td>\n      <td>0.001657</td>\n      <td>0.012527</td>\n      <td>0.002045</td>\n      <td>0.003837</td>\n      <td>0.018573</td>\n      <td>0.005822</td>\n      <td>0.002505</td>\n      <td>0.002398</td>\n      <td>0.002569</td>\n      <td>...</td>\n      <td>0.007986</td>\n      <td>0.000703</td>\n      <td>0.00025</td>\n      <td>0.000054</td>\n      <td>0.000981</td>\n      <td>0.000175</td>\n      <td>0.000187</td>\n      <td>0.00024</td>\n      <td>0.000042</td>\n      <td>0.000086</td>\n    </tr>\n    <tr>\n      <th>Portugal</th>\n      <td>0.00223</td>\n      <td>0.00235</td>\n      <td>0.01487</td>\n      <td>0.009192</td>\n      <td>0.018388</td>\n      <td>0.031918</td>\n      <td>0.011356</td>\n      <td>0.005077</td>\n      <td>0.005387</td>\n      <td>0.006526</td>\n      <td>...</td>\n      <td>0.011578</td>\n      <td>0.001392</td>\n      <td>0.000652</td>\n      <td>0.000367</td>\n      <td>0.002011</td>\n      <td>0.000545</td>\n      <td>0.000837</td>\n      <td>0.000596</td>\n      <td>0.000144</td>\n      <td>0.000366</td>\n    </tr>\n    <tr>\n      <th>Romania</th>\n      <td>0.001805</td>\n      <td>0.002475</td>\n      <td>0.014936</td>\n      <td>0.00215</td>\n      <td>0.003898</td>\n      <td>0.017203</td>\n      <td>0.005289</td>\n      <td>0.004465</td>\n      <td>0.003733</td>\n      <td>0.006192</td>\n      <td>...</td>\n      <td>0.008604</td>\n      <td>0.000798</td>\n      <td>0.000274</td>\n      <td>0.000391</td>\n      <td>0.001256</td>\n      <td>0.000357</td>\n      <td>0.000661</td>\n      <td>0.00038</td>\n      <td>0.000192</td>\n      <td>0.000304</td>\n    </tr>\n    <tr>\n      <th>Slovakia</th>\n      <td>0.002006</td>\n      <td>0.001084</td>\n      <td>0.008582</td>\n      <td>0.004995</td>\n      <td>0.002721</td>\n      <td>0.007659</td>\n      <td>0.00253</td>\n      <td>0.003949</td>\n      <td>0.002864</td>\n      <td>0.003932</td>\n      <td>...</td>\n      <td>0.008366</td>\n      <td>0.000409</td>\n      <td>0.000046</td>\n      <td>0.000002</td>\n      <td>0.000426</td>\n      <td>0.00017</td>\n      <td>0.000062</td>\n      <td>0.000229</td>\n      <td>0.000046</td>\n      <td>0.000046</td>\n    </tr>\n    <tr>\n      <th>Slovenia</th>\n      <td>0.002327</td>\n      <td>0.001649</td>\n      <td>0.013936</td>\n      <td>0.007658</td>\n      <td>0.006318</td>\n      <td>0.021543</td>\n      <td>0.009177</td>\n      <td>0.005752</td>\n      <td>0.004726</td>\n      <td>0.007609</td>\n      <td>...</td>\n      <td>0.014697</td>\n      <td>0.001207</td>\n      <td>0.000127</td>\n      <td>0.000253</td>\n      <td>0.001855</td>\n      <td>0.000435</td>\n      <td>0.000466</td>\n      <td>0.000222</td>\n      <td>0.000279</td>\n      <td>0.000368</td>\n    </tr>\n    <tr>\n      <th>Spain</th>\n      <td>0.002098</td>\n      <td>0.001561</td>\n      <td>0.010488</td>\n      <td>0.00492</td>\n      <td>0.008552</td>\n      <td>0.021863</td>\n      <td>0.00626</td>\n      <td>0.003143</td>\n      <td>0.002754</td>\n      <td>0.004314</td>\n      <td>...</td>\n      <td>0.005558</td>\n      <td>0.001063</td>\n      <td>0.000333</td>\n      <td>0.000293</td>\n      <td>0.001469</td>\n      <td>0.000366</td>\n      <td>0.000633</td>\n      <td>0.000383</td>\n      <td>0.000114</td>\n      <td>0.00023</td>\n    </tr>\n    <tr>\n      <th>Sweden</th>\n      <td>0.003362</td>\n      <td>0.001205</td>\n      <td>0.008723</td>\n      <td>0.006488</td>\n      <td>0.009747</td>\n      <td>0.011377</td>\n      <td>0.006574</td>\n      <td>0.003118</td>\n      <td>0.002405</td>\n      <td>0.003536</td>\n      <td>...</td>\n      <td>0.004144</td>\n      <td>0.000379</td>\n      <td>0.000091</td>\n      <td>0.000098</td>\n      <td>0.000555</td>\n      <td>0.000173</td>\n      <td>0.00026</td>\n      <td>0.000163</td>\n      <td>0.000051</td>\n      <td>0.000098</td>\n    </tr>\n    <tr>\n      <th>Norway</th>\n      <td>0.00262</td>\n      <td>0.001135</td>\n      <td>0.00873</td>\n      <td>0.006953</td>\n      <td>0.011641</td>\n      <td>0.007626</td>\n      <td>0.004584</td>\n      <td>0.002755</td>\n      <td>0.00198</td>\n      <td>0.003557</td>\n      <td>...</td>\n      <td>0.002238</td>\n      <td>0.000777</td>\n      <td>0.00037</td>\n      <td>0.000059</td>\n      <td>0.000605</td>\n      <td>0.000167</td>\n      <td>0.000259</td>\n      <td>0.000195</td>\n      <td>0.000048</td>\n      <td>0.000052</td>\n    </tr>\n    <tr>\n      <th>Switzerland</th>\n      <td>0.001331</td>\n      <td>0.001173</td>\n      <td>0.007198</td>\n      <td>0.001995</td>\n      <td>0.003832</td>\n      <td>0.005665</td>\n      <td>0.002559</td>\n      <td>0.001574</td>\n      <td>0.001197</td>\n      <td>0.001444</td>\n      <td>...</td>\n      <td>0.004048</td>\n      <td>0.000356</td>\n      <td>0.000101</td>\n      <td>0.000064</td>\n      <td>0.000482</td>\n      <td>0.00017</td>\n      <td>0.000184</td>\n      <td>0.000125</td>\n      <td>0.000032</td>\n      <td>0.000049</td>\n    </tr>\n    <tr>\n      <th>United Kingdom</th>\n      <td>0.004603</td>\n      <td>0.001506</td>\n      <td>0.01257</td>\n      <td>0.006338</td>\n      <td>0.007943</td>\n      <td>0.006786</td>\n      <td>0.004262</td>\n      <td>0.003701</td>\n      <td>0.002484</td>\n      <td>0.004489</td>\n      <td>...</td>\n      <td>0.005112</td>\n      <td>0.000486</td>\n      <td>0.000238</td>\n      <td>0.000105</td>\n      <td>0.000786</td>\n      <td>0.00019</td>\n      <td>0.000308</td>\n      <td>0.000199</td>\n      <td>0.000059</td>\n      <td>0.000111</td>\n    </tr>\n    <tr>\n      <th>Canada</th>\n      <td>0.003914</td>\n      <td>0.00151</td>\n      <td>0.011325</td>\n      <td>0.006635</td>\n      <td>0.007915</td>\n      <td>0.010175</td>\n      <td>0.003775</td>\n      <td>0.002361</td>\n      <td>0.001806</td>\n      <td>0.002865</td>\n      <td>...</td>\n      <td>0.004014</td>\n      <td>0.000764</td>\n      <td>0.000193</td>\n      <td>0.000087</td>\n      <td>0.000915</td>\n      <td>0.000158</td>\n      <td>0.000347</td>\n      <td>0.000145</td>\n      <td>0.000038</td>\n      <td>0.000071</td>\n    </tr>\n    <tr>\n      <th>China</th>\n      <td>0.000469</td>\n      <td>0.00044</td>\n      <td>0.00312</td>\n      <td>0.00062</td>\n      <td>0.00159</td>\n      <td>0.008494</td>\n      <td>0.004111</td>\n      <td>0.000482</td>\n      <td>0.001023</td>\n      <td>0.00052</td>\n      <td>...</td>\n      <td>0.002998</td>\n      <td>0.000442</td>\n      <td>0.000089</td>\n      <td>0.000067</td>\n      <td>0.00071</td>\n      <td>0.000108</td>\n      <td>0.00036</td>\n      <td>0.000137</td>\n      <td>0.00002</td>\n      <td>0.000041</td>\n    </tr>\n    <tr>\n      <th>United States</th>\n      <td>0.001929</td>\n      <td>0.000592</td>\n      <td>0.006448</td>\n      <td>0.003648</td>\n      <td>0.002863</td>\n      <td>0.002477</td>\n      <td>0.001325</td>\n      <td>0.001073</td>\n      <td>0.000656</td>\n      <td>0.000767</td>\n      <td>...</td>\n      <td>0.002025</td>\n      <td>0.00025</td>\n      <td>0.000088</td>\n      <td>0.000033</td>\n      <td>0.000328</td>\n      <td>0.000074</td>\n      <td>0.0001</td>\n      <td>0.000064</td>\n      <td>0.00002</td>\n      <td>0.000022</td>\n    </tr>\n    <tr>\n      <th>Japan</th>\n      <td>0.000318</td>\n      <td>0.000224</td>\n      <td>0.002005</td>\n      <td>0.000443</td>\n      <td>0.000838</td>\n      <td>0.001882</td>\n      <td>0.001119</td>\n      <td>0.000324</td>\n      <td>0.000273</td>\n      <td>0.00025</td>\n      <td>...</td>\n      <td>0.000942</td>\n      <td>0.000125</td>\n      <td>0.000072</td>\n      <td>0.000022</td>\n      <td>0.000139</td>\n      <td>0.000054</td>\n      <td>0.000058</td>\n      <td>0.000023</td>\n      <td>0.000011</td>\n      <td>0.000012</td>\n    </tr>\n    <tr>\n      <th>South Korea</th>\n      <td>0.001179</td>\n      <td>0.000454</td>\n      <td>0.005285</td>\n      <td>0.001321</td>\n      <td>0.001792</td>\n      <td>0.006644</td>\n      <td>0.004963</td>\n      <td>0.001039</td>\n      <td>0.00127</td>\n      <td>0.000914</td>\n      <td>...</td>\n      <td>0.005276</td>\n      <td>0.000754</td>\n      <td>0.000182</td>\n      <td>0.000178</td>\n      <td>0.001036</td>\n      <td>0.000159</td>\n      <td>0.000787</td>\n      <td>0.000219</td>\n      <td>0.000025</td>\n      <td>0.000113</td>\n    </tr>\n    <tr>\n      <th>Australia</th>\n      <td>0.004312</td>\n      <td>0.00202</td>\n      <td>0.012819</td>\n      <td>0.013125</td>\n      <td>0.013623</td>\n      <td>0.012931</td>\n      <td>0.006082</td>\n      <td>0.003932</td>\n      <td>0.003418</td>\n      <td>0.005404</td>\n      <td>...</td>\n      <td>0.005159</td>\n      <td>0.000918</td>\n      <td>0.000402</td>\n      <td>0.000175</td>\n      <td>0.000964</td>\n      <td>0.000246</td>\n      <td>0.000337</td>\n      <td>0.000219</td>\n      <td>0.000075</td>\n      <td>0.000103</td>\n    </tr>\n    <tr>\n      <th>Israel</th>\n      <td>0.001624</td>\n      <td>0.00071</td>\n      <td>0.009789</td>\n      <td>0.005315</td>\n      <td>0.003324</td>\n      <td>0.005208</td>\n      <td>0.001089</td>\n      <td>0.001103</td>\n      <td>0.000566</td>\n      <td>0.001452</td>\n      <td>...</td>\n      <td>0.002578</td>\n      <td>0.000221</td>\n      <td>0.000076</td>\n      <td>0.000016</td>\n      <td>0.000387</td>\n      <td>0.000102</td>\n      <td>0.000085</td>\n      <td>0.000006</td>\n      <td>0.000023</td>\n      <td>0.0</td>\n    </tr>\n  </tbody>\n</table>\n<p>37 rows × 36 columns</p>\n</div>"
     },
     "execution_count": 32,
     "metadata": {},
     "output_type": "execute_result"
    }
   ],
   "source": [
    "df_spec_raw_gdp = df_spec_raw.div(gdp.loc[df_country_eu_other.index], axis=0)\n",
    "df_spec_raw_gdp"
   ],
   "metadata": {
    "collapsed": false
   }
  },
  {
   "cell_type": "code",
   "execution_count": 31,
   "outputs": [
    {
     "data": {
      "text/plain": "                                  SDG1  SDG2  SDG3  SDG4  SDG5  SDG6  SDG7  \\\nRussia                             291   312  3114  1082  1788  2417  1096   \nLuxembourg                          82    37   244    90    71   363    87   \nNew Caledonia                        4    11    46    15   267     4     8   \nTrinidad and Tobago                 21    16   124    25    61    52    33   \nSaint Vincent and the Grenadines     0     0     1     0     0     0     1   \n...                                ...   ...   ...   ...   ...   ...   ...   \nLibya                                6     4   262    16    18    42    16   \nPalestine                           44    25   220    33    31   141    47   \nCosta Rica                          40    42   126    45   180   316    46   \nGrenada                              2     0    43     2     8     2     2   \nSaint Lucia                          0     0     2     0     1     1     0   \n\n                                  SDG8  SDG9  SDG10  ...  SDG16-blockchain  \\\nRussia                             957   784    624  ...                14   \nLuxembourg                          64    52     63  ...                 1   \nNew Caledonia                        0     0      3  ...                 0   \nTrinidad and Tobago                 16    37     16  ...                 0   \nSaint Vincent and the Grenadines     0     0      0  ...                 0   \n...                                ...   ...    ...  ...               ...   \nLibya                                3    10      4  ...                 0   \nPalestine                           18    63      9  ...                 0   \nCosta Rica                          28    28     26  ...                 0   \nGrenada                              0     4      5  ...                 0   \nSaint Lucia                          0     0      0  ...                 0   \n\n                                  SDG16-robotics  \\\nRussia                                        23   \nLuxembourg                                     1   \nNew Caledonia                                  0   \nTrinidad and Tobago                            0   \nSaint Vincent and the Grenadines               0   \n...                                          ...   \nLibya                                          0   \nPalestine                                      0   \nCosta Rica                                     0   \nGrenada                                        0   \nSaint Lucia                                    0   \n\n                                  SDG16-additive_manufacturing  SDG17-AI  \\\nRussia                                                      48        56   \nLuxembourg                                                   7        10   \nNew Caledonia                                                0         0   \nTrinidad and Tobago                                          3         6   \nSaint Vincent and the Grenadines                             0         0   \n...                                                        ...       ...   \nLibya                                                        0         2   \nPalestine                                                    5         6   \nCosta Rica                                                   0         6   \nGrenada                                                      0         0   \nSaint Lucia                                                  0         0   \n\n                                  SDG17-big_data  SDG17-IOT  \\\nRussia                                        24         33   \nLuxembourg                                     4          5   \nNew Caledonia                                  0          0   \nTrinidad and Tobago                            1          3   \nSaint Vincent and the Grenadines               0          0   \n...                                          ...        ...   \nLibya                                          0          0   \nPalestine                                      4          0   \nCosta Rica                                     3          0   \nGrenada                                        0          0   \nSaint Lucia                                    0          0   \n\n                                  SDG17-computing_infrastructure  \\\nRussia                                                        22   \nLuxembourg                                                     8   \nNew Caledonia                                                  0   \nTrinidad and Tobago                                            3   \nSaint Vincent and the Grenadines                               0   \n...                                                          ...   \nLibya                                                          0   \nPalestine                                                      0   \nCosta Rica                                                     0   \nGrenada                                                        0   \nSaint Lucia                                                    0   \n\n                                  SDG17-blockchain  SDG17-robotics  \\\nRussia                                          14              23   \nLuxembourg                                       1               1   \nNew Caledonia                                    0               0   \nTrinidad and Tobago                              0               0   \nSaint Vincent and the Grenadines                 0               0   \n...                                            ...             ...   \nLibya                                            0               0   \nPalestine                                        0               0   \nCosta Rica                                       0               0   \nGrenada                                          0               0   \nSaint Lucia                                      0               0   \n\n                                  SDG17-additive_manufacturing  \nRussia                                                      48  \nLuxembourg                                                   7  \nNew Caledonia                                                0  \nTrinidad and Tobago                                          3  \nSaint Vincent and the Grenadines                             0  \n...                                                        ...  \nLibya                                                        0  \nPalestine                                                    5  \nCosta Rica                                                   0  \nGrenada                                                      0  \nSaint Lucia                                                  0  \n\n[217 rows x 155 columns]",
      "text/html": "<div>\n<style scoped>\n    .dataframe tbody tr th:only-of-type {\n        vertical-align: middle;\n    }\n\n    .dataframe tbody tr th {\n        vertical-align: top;\n    }\n\n    .dataframe thead th {\n        text-align: right;\n    }\n</style>\n<table border=\"1\" class=\"dataframe\">\n  <thead>\n    <tr style=\"text-align: right;\">\n      <th></th>\n      <th>SDG1</th>\n      <th>SDG2</th>\n      <th>SDG3</th>\n      <th>SDG4</th>\n      <th>SDG5</th>\n      <th>SDG6</th>\n      <th>SDG7</th>\n      <th>SDG8</th>\n      <th>SDG9</th>\n      <th>SDG10</th>\n      <th>...</th>\n      <th>SDG16-blockchain</th>\n      <th>SDG16-robotics</th>\n      <th>SDG16-additive_manufacturing</th>\n      <th>SDG17-AI</th>\n      <th>SDG17-big_data</th>\n      <th>SDG17-IOT</th>\n      <th>SDG17-computing_infrastructure</th>\n      <th>SDG17-blockchain</th>\n      <th>SDG17-robotics</th>\n      <th>SDG17-additive_manufacturing</th>\n    </tr>\n  </thead>\n  <tbody>\n    <tr>\n      <th>Russia</th>\n      <td>291</td>\n      <td>312</td>\n      <td>3114</td>\n      <td>1082</td>\n      <td>1788</td>\n      <td>2417</td>\n      <td>1096</td>\n      <td>957</td>\n      <td>784</td>\n      <td>624</td>\n      <td>...</td>\n      <td>14</td>\n      <td>23</td>\n      <td>48</td>\n      <td>56</td>\n      <td>24</td>\n      <td>33</td>\n      <td>22</td>\n      <td>14</td>\n      <td>23</td>\n      <td>48</td>\n    </tr>\n    <tr>\n      <th>Luxembourg</th>\n      <td>82</td>\n      <td>37</td>\n      <td>244</td>\n      <td>90</td>\n      <td>71</td>\n      <td>363</td>\n      <td>87</td>\n      <td>64</td>\n      <td>52</td>\n      <td>63</td>\n      <td>...</td>\n      <td>1</td>\n      <td>1</td>\n      <td>7</td>\n      <td>10</td>\n      <td>4</td>\n      <td>5</td>\n      <td>8</td>\n      <td>1</td>\n      <td>1</td>\n      <td>7</td>\n    </tr>\n    <tr>\n      <th>New Caledonia</th>\n      <td>4</td>\n      <td>11</td>\n      <td>46</td>\n      <td>15</td>\n      <td>267</td>\n      <td>4</td>\n      <td>8</td>\n      <td>0</td>\n      <td>0</td>\n      <td>3</td>\n      <td>...</td>\n      <td>0</td>\n      <td>0</td>\n      <td>0</td>\n      <td>0</td>\n      <td>0</td>\n      <td>0</td>\n      <td>0</td>\n      <td>0</td>\n      <td>0</td>\n      <td>0</td>\n    </tr>\n    <tr>\n      <th>Trinidad and Tobago</th>\n      <td>21</td>\n      <td>16</td>\n      <td>124</td>\n      <td>25</td>\n      <td>61</td>\n      <td>52</td>\n      <td>33</td>\n      <td>16</td>\n      <td>37</td>\n      <td>16</td>\n      <td>...</td>\n      <td>0</td>\n      <td>0</td>\n      <td>3</td>\n      <td>6</td>\n      <td>1</td>\n      <td>3</td>\n      <td>3</td>\n      <td>0</td>\n      <td>0</td>\n      <td>3</td>\n    </tr>\n    <tr>\n      <th>Saint Vincent and the Grenadines</th>\n      <td>0</td>\n      <td>0</td>\n      <td>1</td>\n      <td>0</td>\n      <td>0</td>\n      <td>0</td>\n      <td>1</td>\n      <td>0</td>\n      <td>0</td>\n      <td>0</td>\n      <td>...</td>\n      <td>0</td>\n      <td>0</td>\n      <td>0</td>\n      <td>0</td>\n      <td>0</td>\n      <td>0</td>\n      <td>0</td>\n      <td>0</td>\n      <td>0</td>\n      <td>0</td>\n    </tr>\n    <tr>\n      <th>...</th>\n      <td>...</td>\n      <td>...</td>\n      <td>...</td>\n      <td>...</td>\n      <td>...</td>\n      <td>...</td>\n      <td>...</td>\n      <td>...</td>\n      <td>...</td>\n      <td>...</td>\n      <td>...</td>\n      <td>...</td>\n      <td>...</td>\n      <td>...</td>\n      <td>...</td>\n      <td>...</td>\n      <td>...</td>\n      <td>...</td>\n      <td>...</td>\n      <td>...</td>\n      <td>...</td>\n    </tr>\n    <tr>\n      <th>Libya</th>\n      <td>6</td>\n      <td>4</td>\n      <td>262</td>\n      <td>16</td>\n      <td>18</td>\n      <td>42</td>\n      <td>16</td>\n      <td>3</td>\n      <td>10</td>\n      <td>4</td>\n      <td>...</td>\n      <td>0</td>\n      <td>0</td>\n      <td>0</td>\n      <td>2</td>\n      <td>0</td>\n      <td>0</td>\n      <td>0</td>\n      <td>0</td>\n      <td>0</td>\n      <td>0</td>\n    </tr>\n    <tr>\n      <th>Palestine</th>\n      <td>44</td>\n      <td>25</td>\n      <td>220</td>\n      <td>33</td>\n      <td>31</td>\n      <td>141</td>\n      <td>47</td>\n      <td>18</td>\n      <td>63</td>\n      <td>9</td>\n      <td>...</td>\n      <td>0</td>\n      <td>0</td>\n      <td>5</td>\n      <td>6</td>\n      <td>4</td>\n      <td>0</td>\n      <td>0</td>\n      <td>0</td>\n      <td>0</td>\n      <td>5</td>\n    </tr>\n    <tr>\n      <th>Costa Rica</th>\n      <td>40</td>\n      <td>42</td>\n      <td>126</td>\n      <td>45</td>\n      <td>180</td>\n      <td>316</td>\n      <td>46</td>\n      <td>28</td>\n      <td>28</td>\n      <td>26</td>\n      <td>...</td>\n      <td>0</td>\n      <td>0</td>\n      <td>0</td>\n      <td>6</td>\n      <td>3</td>\n      <td>0</td>\n      <td>0</td>\n      <td>0</td>\n      <td>0</td>\n      <td>0</td>\n    </tr>\n    <tr>\n      <th>Grenada</th>\n      <td>2</td>\n      <td>0</td>\n      <td>43</td>\n      <td>2</td>\n      <td>8</td>\n      <td>2</td>\n      <td>2</td>\n      <td>0</td>\n      <td>4</td>\n      <td>5</td>\n      <td>...</td>\n      <td>0</td>\n      <td>0</td>\n      <td>0</td>\n      <td>0</td>\n      <td>0</td>\n      <td>0</td>\n      <td>0</td>\n      <td>0</td>\n      <td>0</td>\n      <td>0</td>\n    </tr>\n    <tr>\n      <th>Saint Lucia</th>\n      <td>0</td>\n      <td>0</td>\n      <td>2</td>\n      <td>0</td>\n      <td>1</td>\n      <td>1</td>\n      <td>0</td>\n      <td>0</td>\n      <td>0</td>\n      <td>0</td>\n      <td>...</td>\n      <td>0</td>\n      <td>0</td>\n      <td>0</td>\n      <td>0</td>\n      <td>0</td>\n      <td>0</td>\n      <td>0</td>\n      <td>0</td>\n      <td>0</td>\n      <td>0</td>\n    </tr>\n  </tbody>\n</table>\n<p>217 rows × 155 columns</p>\n</div>"
     },
     "execution_count": 31,
     "metadata": {},
     "output_type": "execute_result"
    }
   ],
   "source": [
    "# Back to main form of spec calculus\n",
    "df_spec_raw = pd.DataFrame.from_dict(data=dic, orient=\"index\", columns=lst_sdg+lst_cat+lst_dt+lst_cat_dt+lst_sdg_dt)\n",
    "df_spec_raw\n"
   ],
   "metadata": {
    "collapsed": false
   }
  },
  {
   "cell_type": "code",
   "execution_count": 32,
   "outputs": [
    {
     "data": {
      "text/plain": "                                      SDG1     SDG2      SDG3      SDG4  \\\nRussia                               291.0    312.0    3114.0    1082.0   \nLuxembourg                            82.0     37.0     244.0      90.0   \nNew Caledonia                          4.0     11.0      46.0      15.0   \nTrinidad and Tobago                   21.0     16.0     124.0      25.0   \nSaint Vincent and the Grenadines       0.0      0.0       1.0       0.0   \n...                                    ...      ...       ...       ...   \nPalestine                             44.0     25.0     220.0      33.0   \nCosta Rica                            40.0     42.0     126.0      45.0   \nGrenada                                2.0      0.0      43.0       2.0   \nSaint Lucia                            0.0      0.0       2.0       0.0   \nworld                             120625.0  89733.0  706438.0  190477.0   \n\n                                      SDG5      SDG6      SDG7     SDG8  \\\nRussia                              1788.0    2417.0    1096.0    957.0   \nLuxembourg                            71.0     363.0      87.0     64.0   \nNew Caledonia                        267.0       4.0       8.0      0.0   \nTrinidad and Tobago                   61.0      52.0      33.0     16.0   \nSaint Vincent and the Grenadines       0.0       0.0       1.0      0.0   \n...                                    ...       ...       ...      ...   \nPalestine                             31.0     141.0      47.0     18.0   \nCosta Rica                           180.0     316.0      46.0     28.0   \nGrenada                                8.0       2.0       2.0      0.0   \nSaint Lucia                            1.0       1.0       0.0      0.0   \nworld                             300975.0  598317.0  225075.0  72622.0   \n\n                                     SDG9    SDG10  ...  SDG16-blockchain  \\\nRussia                              784.0    624.0  ...              14.0   \nLuxembourg                           52.0     63.0  ...               1.0   \nNew Caledonia                         0.0      3.0  ...               0.0   \nTrinidad and Tobago                  37.0     16.0  ...               0.0   \nSaint Vincent and the Grenadines      0.0      0.0  ...               0.0   \n...                                   ...      ...  ...               ...   \nPalestine                            63.0      9.0  ...               0.0   \nCosta Rica                           28.0     26.0  ...               0.0   \nGrenada                               4.0      5.0  ...               0.0   \nSaint Lucia                           0.0      0.0  ...               0.0   \nworld                             93317.0  74840.0  ...             702.0   \n\n                                  SDG16-robotics  \\\nRussia                                      23.0   \nLuxembourg                                   1.0   \nNew Caledonia                                0.0   \nTrinidad and Tobago                          0.0   \nSaint Vincent and the Grenadines             0.0   \n...                                          ...   \nPalestine                                    0.0   \nCosta Rica                                   0.0   \nGrenada                                      0.0   \nSaint Lucia                                  0.0   \nworld                                     2394.0   \n\n                                  SDG16-additive_manufacturing  SDG17-AI  \\\nRussia                                                    48.0      56.0   \nLuxembourg                                                 7.0      10.0   \nNew Caledonia                                              0.0       0.0   \nTrinidad and Tobago                                        3.0       6.0   \nSaint Vincent and the Grenadines                           0.0       0.0   \n...                                                        ...       ...   \nPalestine                                                  5.0       6.0   \nCosta Rica                                                 0.0       6.0   \nGrenada                                                    0.0       0.0   \nSaint Lucia                                                0.0       0.0   \nworld                                                   2791.0   10094.0   \n\n                                  SDG17-big_data  SDG17-IOT  \\\nRussia                                      24.0       33.0   \nLuxembourg                                   4.0        5.0   \nNew Caledonia                                0.0        0.0   \nTrinidad and Tobago                          1.0        3.0   \nSaint Vincent and the Grenadines             0.0        0.0   \n...                                          ...        ...   \nPalestine                                    4.0        0.0   \nCosta Rica                                   3.0        0.0   \nGrenada                                      0.0        0.0   \nSaint Lucia                                  0.0        0.0   \nworld                                     3466.0     4320.0   \n\n                                  SDG17-computing_infrastructure  \\\nRussia                                                      22.0   \nLuxembourg                                                   8.0   \nNew Caledonia                                                0.0   \nTrinidad and Tobago                                          3.0   \nSaint Vincent and the Grenadines                             0.0   \n...                                                          ...   \nPalestine                                                    0.0   \nCosta Rica                                                   0.0   \nGrenada                                                      0.0   \nSaint Lucia                                                  0.0   \nworld                                                     3099.0   \n\n                                  SDG17-blockchain  SDG17-robotics  \\\nRussia                                        14.0            23.0   \nLuxembourg                                     1.0             1.0   \nNew Caledonia                                  0.0             0.0   \nTrinidad and Tobago                            0.0             0.0   \nSaint Vincent and the Grenadines               0.0             0.0   \n...                                            ...             ...   \nPalestine                                      0.0             0.0   \nCosta Rica                                     0.0             0.0   \nGrenada                                        0.0             0.0   \nSaint Lucia                                    0.0             0.0   \nworld                                        702.0          2394.0   \n\n                                  SDG17-additive_manufacturing  \nRussia                                                    48.0  \nLuxembourg                                                 7.0  \nNew Caledonia                                              0.0  \nTrinidad and Tobago                                        3.0  \nSaint Vincent and the Grenadines                           0.0  \n...                                                        ...  \nPalestine                                                  5.0  \nCosta Rica                                                 0.0  \nGrenada                                                    0.0  \nSaint Lucia                                                0.0  \nworld                                                   2791.0  \n\n[218 rows x 155 columns]",
      "text/html": "<div>\n<style scoped>\n    .dataframe tbody tr th:only-of-type {\n        vertical-align: middle;\n    }\n\n    .dataframe tbody tr th {\n        vertical-align: top;\n    }\n\n    .dataframe thead th {\n        text-align: right;\n    }\n</style>\n<table border=\"1\" class=\"dataframe\">\n  <thead>\n    <tr style=\"text-align: right;\">\n      <th></th>\n      <th>SDG1</th>\n      <th>SDG2</th>\n      <th>SDG3</th>\n      <th>SDG4</th>\n      <th>SDG5</th>\n      <th>SDG6</th>\n      <th>SDG7</th>\n      <th>SDG8</th>\n      <th>SDG9</th>\n      <th>SDG10</th>\n      <th>...</th>\n      <th>SDG16-blockchain</th>\n      <th>SDG16-robotics</th>\n      <th>SDG16-additive_manufacturing</th>\n      <th>SDG17-AI</th>\n      <th>SDG17-big_data</th>\n      <th>SDG17-IOT</th>\n      <th>SDG17-computing_infrastructure</th>\n      <th>SDG17-blockchain</th>\n      <th>SDG17-robotics</th>\n      <th>SDG17-additive_manufacturing</th>\n    </tr>\n  </thead>\n  <tbody>\n    <tr>\n      <th>Russia</th>\n      <td>291.0</td>\n      <td>312.0</td>\n      <td>3114.0</td>\n      <td>1082.0</td>\n      <td>1788.0</td>\n      <td>2417.0</td>\n      <td>1096.0</td>\n      <td>957.0</td>\n      <td>784.0</td>\n      <td>624.0</td>\n      <td>...</td>\n      <td>14.0</td>\n      <td>23.0</td>\n      <td>48.0</td>\n      <td>56.0</td>\n      <td>24.0</td>\n      <td>33.0</td>\n      <td>22.0</td>\n      <td>14.0</td>\n      <td>23.0</td>\n      <td>48.0</td>\n    </tr>\n    <tr>\n      <th>Luxembourg</th>\n      <td>82.0</td>\n      <td>37.0</td>\n      <td>244.0</td>\n      <td>90.0</td>\n      <td>71.0</td>\n      <td>363.0</td>\n      <td>87.0</td>\n      <td>64.0</td>\n      <td>52.0</td>\n      <td>63.0</td>\n      <td>...</td>\n      <td>1.0</td>\n      <td>1.0</td>\n      <td>7.0</td>\n      <td>10.0</td>\n      <td>4.0</td>\n      <td>5.0</td>\n      <td>8.0</td>\n      <td>1.0</td>\n      <td>1.0</td>\n      <td>7.0</td>\n    </tr>\n    <tr>\n      <th>New Caledonia</th>\n      <td>4.0</td>\n      <td>11.0</td>\n      <td>46.0</td>\n      <td>15.0</td>\n      <td>267.0</td>\n      <td>4.0</td>\n      <td>8.0</td>\n      <td>0.0</td>\n      <td>0.0</td>\n      <td>3.0</td>\n      <td>...</td>\n      <td>0.0</td>\n      <td>0.0</td>\n      <td>0.0</td>\n      <td>0.0</td>\n      <td>0.0</td>\n      <td>0.0</td>\n      <td>0.0</td>\n      <td>0.0</td>\n      <td>0.0</td>\n      <td>0.0</td>\n    </tr>\n    <tr>\n      <th>Trinidad and Tobago</th>\n      <td>21.0</td>\n      <td>16.0</td>\n      <td>124.0</td>\n      <td>25.0</td>\n      <td>61.0</td>\n      <td>52.0</td>\n      <td>33.0</td>\n      <td>16.0</td>\n      <td>37.0</td>\n      <td>16.0</td>\n      <td>...</td>\n      <td>0.0</td>\n      <td>0.0</td>\n      <td>3.0</td>\n      <td>6.0</td>\n      <td>1.0</td>\n      <td>3.0</td>\n      <td>3.0</td>\n      <td>0.0</td>\n      <td>0.0</td>\n      <td>3.0</td>\n    </tr>\n    <tr>\n      <th>Saint Vincent and the Grenadines</th>\n      <td>0.0</td>\n      <td>0.0</td>\n      <td>1.0</td>\n      <td>0.0</td>\n      <td>0.0</td>\n      <td>0.0</td>\n      <td>1.0</td>\n      <td>0.0</td>\n      <td>0.0</td>\n      <td>0.0</td>\n      <td>...</td>\n      <td>0.0</td>\n      <td>0.0</td>\n      <td>0.0</td>\n      <td>0.0</td>\n      <td>0.0</td>\n      <td>0.0</td>\n      <td>0.0</td>\n      <td>0.0</td>\n      <td>0.0</td>\n      <td>0.0</td>\n    </tr>\n    <tr>\n      <th>...</th>\n      <td>...</td>\n      <td>...</td>\n      <td>...</td>\n      <td>...</td>\n      <td>...</td>\n      <td>...</td>\n      <td>...</td>\n      <td>...</td>\n      <td>...</td>\n      <td>...</td>\n      <td>...</td>\n      <td>...</td>\n      <td>...</td>\n      <td>...</td>\n      <td>...</td>\n      <td>...</td>\n      <td>...</td>\n      <td>...</td>\n      <td>...</td>\n      <td>...</td>\n      <td>...</td>\n    </tr>\n    <tr>\n      <th>Palestine</th>\n      <td>44.0</td>\n      <td>25.0</td>\n      <td>220.0</td>\n      <td>33.0</td>\n      <td>31.0</td>\n      <td>141.0</td>\n      <td>47.0</td>\n      <td>18.0</td>\n      <td>63.0</td>\n      <td>9.0</td>\n      <td>...</td>\n      <td>0.0</td>\n      <td>0.0</td>\n      <td>5.0</td>\n      <td>6.0</td>\n      <td>4.0</td>\n      <td>0.0</td>\n      <td>0.0</td>\n      <td>0.0</td>\n      <td>0.0</td>\n      <td>5.0</td>\n    </tr>\n    <tr>\n      <th>Costa Rica</th>\n      <td>40.0</td>\n      <td>42.0</td>\n      <td>126.0</td>\n      <td>45.0</td>\n      <td>180.0</td>\n      <td>316.0</td>\n      <td>46.0</td>\n      <td>28.0</td>\n      <td>28.0</td>\n      <td>26.0</td>\n      <td>...</td>\n      <td>0.0</td>\n      <td>0.0</td>\n      <td>0.0</td>\n      <td>6.0</td>\n      <td>3.0</td>\n      <td>0.0</td>\n      <td>0.0</td>\n      <td>0.0</td>\n      <td>0.0</td>\n      <td>0.0</td>\n    </tr>\n    <tr>\n      <th>Grenada</th>\n      <td>2.0</td>\n      <td>0.0</td>\n      <td>43.0</td>\n      <td>2.0</td>\n      <td>8.0</td>\n      <td>2.0</td>\n      <td>2.0</td>\n      <td>0.0</td>\n      <td>4.0</td>\n      <td>5.0</td>\n      <td>...</td>\n      <td>0.0</td>\n      <td>0.0</td>\n      <td>0.0</td>\n      <td>0.0</td>\n      <td>0.0</td>\n      <td>0.0</td>\n      <td>0.0</td>\n      <td>0.0</td>\n      <td>0.0</td>\n      <td>0.0</td>\n    </tr>\n    <tr>\n      <th>Saint Lucia</th>\n      <td>0.0</td>\n      <td>0.0</td>\n      <td>2.0</td>\n      <td>0.0</td>\n      <td>1.0</td>\n      <td>1.0</td>\n      <td>0.0</td>\n      <td>0.0</td>\n      <td>0.0</td>\n      <td>0.0</td>\n      <td>...</td>\n      <td>0.0</td>\n      <td>0.0</td>\n      <td>0.0</td>\n      <td>0.0</td>\n      <td>0.0</td>\n      <td>0.0</td>\n      <td>0.0</td>\n      <td>0.0</td>\n      <td>0.0</td>\n      <td>0.0</td>\n    </tr>\n    <tr>\n      <th>world</th>\n      <td>120625.0</td>\n      <td>89733.0</td>\n      <td>706438.0</td>\n      <td>190477.0</td>\n      <td>300975.0</td>\n      <td>598317.0</td>\n      <td>225075.0</td>\n      <td>72622.0</td>\n      <td>93317.0</td>\n      <td>74840.0</td>\n      <td>...</td>\n      <td>702.0</td>\n      <td>2394.0</td>\n      <td>2791.0</td>\n      <td>10094.0</td>\n      <td>3466.0</td>\n      <td>4320.0</td>\n      <td>3099.0</td>\n      <td>702.0</td>\n      <td>2394.0</td>\n      <td>2791.0</td>\n    </tr>\n  </tbody>\n</table>\n<p>218 rows × 155 columns</p>\n</div>"
     },
     "execution_count": 32,
     "metadata": {},
     "output_type": "execute_result"
    }
   ],
   "source": [
    "df_spec_raw.loc['world', :] = df_spec_raw.sum(axis=0)\n",
    "df_spec_raw"
   ],
   "metadata": {
    "collapsed": false
   }
  },
  {
   "cell_type": "code",
   "execution_count": 33,
   "outputs": [
    {
     "data": {
      "text/plain": "       SDG1   SDG2    SDG3    SDG4    SDG5    SDG6    SDG7   SDG8   SDG9  \\\ntot  120625  89733  706438  190477  300975  598317  225075  72622  93317   \n\n     SDG10  ...  SDG16-blockchain  SDG16-robotics  \\\ntot  74840  ...               702            2394   \n\n     SDG16-additive_manufacturing  SDG17-AI  SDG17-big_data  SDG17-IOT  \\\ntot                          2791     10094            3466       4320   \n\n     SDG17-computing_infrastructure  SDG17-blockchain  SDG17-robotics  \\\ntot                            3099               702            2394   \n\n     SDG17-additive_manufacturing  \ntot                          2791  \n\n[1 rows x 155 columns]",
      "text/html": "<div>\n<style scoped>\n    .dataframe tbody tr th:only-of-type {\n        vertical-align: middle;\n    }\n\n    .dataframe tbody tr th {\n        vertical-align: top;\n    }\n\n    .dataframe thead th {\n        text-align: right;\n    }\n</style>\n<table border=\"1\" class=\"dataframe\">\n  <thead>\n    <tr style=\"text-align: right;\">\n      <th></th>\n      <th>SDG1</th>\n      <th>SDG2</th>\n      <th>SDG3</th>\n      <th>SDG4</th>\n      <th>SDG5</th>\n      <th>SDG6</th>\n      <th>SDG7</th>\n      <th>SDG8</th>\n      <th>SDG9</th>\n      <th>SDG10</th>\n      <th>...</th>\n      <th>SDG16-blockchain</th>\n      <th>SDG16-robotics</th>\n      <th>SDG16-additive_manufacturing</th>\n      <th>SDG17-AI</th>\n      <th>SDG17-big_data</th>\n      <th>SDG17-IOT</th>\n      <th>SDG17-computing_infrastructure</th>\n      <th>SDG17-blockchain</th>\n      <th>SDG17-robotics</th>\n      <th>SDG17-additive_manufacturing</th>\n    </tr>\n  </thead>\n  <tbody>\n    <tr>\n      <th>tot</th>\n      <td>120625</td>\n      <td>89733</td>\n      <td>706438</td>\n      <td>190477</td>\n      <td>300975</td>\n      <td>598317</td>\n      <td>225075</td>\n      <td>72622</td>\n      <td>93317</td>\n      <td>74840</td>\n      <td>...</td>\n      <td>702</td>\n      <td>2394</td>\n      <td>2791</td>\n      <td>10094</td>\n      <td>3466</td>\n      <td>4320</td>\n      <td>3099</td>\n      <td>702</td>\n      <td>2394</td>\n      <td>2791</td>\n    </tr>\n  </tbody>\n</table>\n<p>1 rows × 155 columns</p>\n</div>"
     },
     "execution_count": 33,
     "metadata": {},
     "output_type": "execute_result"
    }
   ],
   "source": [
    "df_world = pd.DataFrame.from_dict(data=dic_world, orient=\"index\", columns=['tot']).transpose()\n",
    "df_world"
   ],
   "metadata": {
    "collapsed": false
   }
  },
  {
   "cell_type": "code",
   "execution_count": 34,
   "outputs": [
    {
     "data": {
      "text/plain": "['Australia',\n 'Canada',\n 'China',\n 'Iceland',\n 'Israel',\n 'Japan',\n 'Norway',\n 'South Korea',\n 'Switzerland',\n 'United Kingdom',\n 'United States']"
     },
     "execution_count": 34,
     "metadata": {},
     "output_type": "execute_result"
    }
   ],
   "source": [
    "# Keeping only some relevant countries\n",
    "all_pub_wos = pd.read_excel(\"../data/total_number_pubs_2010_2022.xlsx\", index_col=0)\n",
    "tot_pub_countries = all_pub_wos.loc['TOT', :]\n",
    "index_countries = list(tot_pub_countries.index)[2:]\n",
    "lst_eu = [\"Austria\", \"Belgium\", \"Bulgaria\", \"Croatia\", \"Cyprus\", \"Czech Republic\", \"Denmark\",\n",
    "          \"Estonia\", \"Finland\", \"France\", \"Germany\", \"Greece\", \"Hungary\", \"Ireland\", \"Italy\",\n",
    "          \"Latvia\", \"Lithuania\", \"Luxembourg\", \"Malta\", \"Netherlands\", \"Poland\",\n",
    "          \"Portugal\", \"Romania\" ,\"Slovakia\", \"Slovenia\", \"Spain\", \"Sweden\"]\n",
    "lst_eu.sort()\n",
    "rest = sorted(list(set(index_countries).difference(set(lst_eu))))\n",
    "rest.remove('Liechtenstein')\n",
    "rest"
   ],
   "metadata": {
    "collapsed": false
   }
  },
  {
   "cell_type": "code",
   "execution_count": 35,
   "outputs": [
    {
     "data": {
      "text/plain": "                                  Environment    Society   Economy        tot\nRussia                                24520.0    12746.0    5037.0    42303.0\nLuxembourg                              763.0     1158.0     486.0     2407.0\nNew Caledonia                          1317.0      363.0      34.0     1714.0\nTrinidad and Tobago                     354.0      385.0     182.0      921.0\nSaint Vincent and the Grenadines          8.0        3.0       2.0       13.0\n...                                       ...        ...       ...        ...\nPalestine                               256.0      626.0     223.0     1105.0\nCosta Rica                             2031.0      905.0     396.0     3332.0\nGrenada                                  43.0       62.0      18.0      123.0\nSaint Lucia                              11.0       10.0       2.0       23.0\nworld                               2644195.0  2588277.0  722441.0  5954913.0\n\n[218 rows x 4 columns]",
      "text/html": "<div>\n<style scoped>\n    .dataframe tbody tr th:only-of-type {\n        vertical-align: middle;\n    }\n\n    .dataframe tbody tr th {\n        vertical-align: top;\n    }\n\n    .dataframe thead th {\n        text-align: right;\n    }\n</style>\n<table border=\"1\" class=\"dataframe\">\n  <thead>\n    <tr style=\"text-align: right;\">\n      <th></th>\n      <th>Environment</th>\n      <th>Society</th>\n      <th>Economy</th>\n      <th>tot</th>\n    </tr>\n  </thead>\n  <tbody>\n    <tr>\n      <th>Russia</th>\n      <td>24520.0</td>\n      <td>12746.0</td>\n      <td>5037.0</td>\n      <td>42303.0</td>\n    </tr>\n    <tr>\n      <th>Luxembourg</th>\n      <td>763.0</td>\n      <td>1158.0</td>\n      <td>486.0</td>\n      <td>2407.0</td>\n    </tr>\n    <tr>\n      <th>New Caledonia</th>\n      <td>1317.0</td>\n      <td>363.0</td>\n      <td>34.0</td>\n      <td>1714.0</td>\n    </tr>\n    <tr>\n      <th>Trinidad and Tobago</th>\n      <td>354.0</td>\n      <td>385.0</td>\n      <td>182.0</td>\n      <td>921.0</td>\n    </tr>\n    <tr>\n      <th>Saint Vincent and the Grenadines</th>\n      <td>8.0</td>\n      <td>3.0</td>\n      <td>2.0</td>\n      <td>13.0</td>\n    </tr>\n    <tr>\n      <th>...</th>\n      <td>...</td>\n      <td>...</td>\n      <td>...</td>\n      <td>...</td>\n    </tr>\n    <tr>\n      <th>Palestine</th>\n      <td>256.0</td>\n      <td>626.0</td>\n      <td>223.0</td>\n      <td>1105.0</td>\n    </tr>\n    <tr>\n      <th>Costa Rica</th>\n      <td>2031.0</td>\n      <td>905.0</td>\n      <td>396.0</td>\n      <td>3332.0</td>\n    </tr>\n    <tr>\n      <th>Grenada</th>\n      <td>43.0</td>\n      <td>62.0</td>\n      <td>18.0</td>\n      <td>123.0</td>\n    </tr>\n    <tr>\n      <th>Saint Lucia</th>\n      <td>11.0</td>\n      <td>10.0</td>\n      <td>2.0</td>\n      <td>23.0</td>\n    </tr>\n    <tr>\n      <th>world</th>\n      <td>2644195.0</td>\n      <td>2588277.0</td>\n      <td>722441.0</td>\n      <td>5954913.0</td>\n    </tr>\n  </tbody>\n</table>\n<p>218 rows × 4 columns</p>\n</div>"
     },
     "execution_count": 35,
     "metadata": {},
     "output_type": "execute_result"
    }
   ],
   "source": [
    "df_spec_raw_categories = df_spec_raw.loc[:, ['Environment', 'Society', 'Economy']]\n",
    "df_spec_raw_categories.loc[:, 'tot'] = df_spec_raw_categories.sum(axis=1)\n",
    "df_spec_raw_categories"
   ],
   "metadata": {
    "collapsed": false
   }
  },
  {
   "cell_type": "code",
   "execution_count": 36,
   "outputs": [
    {
     "data": {
      "text/plain": "                                         AI  big_data       IOT  \\\nRussia                              17101.0    1745.0    2376.0   \nLuxembourg                            806.0     156.0     369.0   \nNew Caledonia                          71.0       3.0       0.0   \nTrinidad and Tobago                   102.0       2.0       7.0   \nSaint Vincent and the Grenadines        6.0       0.0       0.0   \n...                                     ...       ...       ...   \nPalestine                               3.0       2.0       3.0   \nCosta Rica                            176.0      16.0      37.0   \nGrenada                                22.0       0.0       1.0   \nSaint Lucia                             0.0       0.0       0.0   \nworld                             2019381.0  228113.0  501330.0   \n\n                                  computing_infrastructure  blockchain  \\\nRussia                                              3573.0       518.0   \nLuxembourg                                           332.0        44.0   \nNew Caledonia                                          1.0         0.0   \nTrinidad and Tobago                                   12.0         1.0   \nSaint Vincent and the Grenadines                       0.0         0.0   \n...                                                    ...         ...   \nPalestine                                              0.0         0.0   \nCosta Rica                                            31.0         0.0   \nGrenada                                                0.0         0.0   \nSaint Lucia                                            0.0         0.0   \nworld                                             320170.0     34501.0   \n\n                                  robotics  additive_manufacturing        tot  \nRussia                              4018.0                  4515.0    33846.0  \nLuxembourg                           264.0                    59.0     2030.0  \nNew Caledonia                          5.0                     0.0       80.0  \nTrinidad and Tobago                   14.0                     4.0      142.0  \nSaint Vincent and the Grenadines       0.0                     0.0        6.0  \n...                                    ...                     ...        ...  \nPalestine                              0.0                     0.0        8.0  \nCosta Rica                            69.0                    24.0      353.0  \nGrenada                                6.0                     2.0       31.0  \nSaint Lucia                            0.0                     2.0        2.0  \nworld                             575782.0                264913.0  3944190.0  \n\n[218 rows x 8 columns]",
      "text/html": "<div>\n<style scoped>\n    .dataframe tbody tr th:only-of-type {\n        vertical-align: middle;\n    }\n\n    .dataframe tbody tr th {\n        vertical-align: top;\n    }\n\n    .dataframe thead th {\n        text-align: right;\n    }\n</style>\n<table border=\"1\" class=\"dataframe\">\n  <thead>\n    <tr style=\"text-align: right;\">\n      <th></th>\n      <th>AI</th>\n      <th>big_data</th>\n      <th>IOT</th>\n      <th>computing_infrastructure</th>\n      <th>blockchain</th>\n      <th>robotics</th>\n      <th>additive_manufacturing</th>\n      <th>tot</th>\n    </tr>\n  </thead>\n  <tbody>\n    <tr>\n      <th>Russia</th>\n      <td>17101.0</td>\n      <td>1745.0</td>\n      <td>2376.0</td>\n      <td>3573.0</td>\n      <td>518.0</td>\n      <td>4018.0</td>\n      <td>4515.0</td>\n      <td>33846.0</td>\n    </tr>\n    <tr>\n      <th>Luxembourg</th>\n      <td>806.0</td>\n      <td>156.0</td>\n      <td>369.0</td>\n      <td>332.0</td>\n      <td>44.0</td>\n      <td>264.0</td>\n      <td>59.0</td>\n      <td>2030.0</td>\n    </tr>\n    <tr>\n      <th>New Caledonia</th>\n      <td>71.0</td>\n      <td>3.0</td>\n      <td>0.0</td>\n      <td>1.0</td>\n      <td>0.0</td>\n      <td>5.0</td>\n      <td>0.0</td>\n      <td>80.0</td>\n    </tr>\n    <tr>\n      <th>Trinidad and Tobago</th>\n      <td>102.0</td>\n      <td>2.0</td>\n      <td>7.0</td>\n      <td>12.0</td>\n      <td>1.0</td>\n      <td>14.0</td>\n      <td>4.0</td>\n      <td>142.0</td>\n    </tr>\n    <tr>\n      <th>Saint Vincent and the Grenadines</th>\n      <td>6.0</td>\n      <td>0.0</td>\n      <td>0.0</td>\n      <td>0.0</td>\n      <td>0.0</td>\n      <td>0.0</td>\n      <td>0.0</td>\n      <td>6.0</td>\n    </tr>\n    <tr>\n      <th>...</th>\n      <td>...</td>\n      <td>...</td>\n      <td>...</td>\n      <td>...</td>\n      <td>...</td>\n      <td>...</td>\n      <td>...</td>\n      <td>...</td>\n    </tr>\n    <tr>\n      <th>Palestine</th>\n      <td>3.0</td>\n      <td>2.0</td>\n      <td>3.0</td>\n      <td>0.0</td>\n      <td>0.0</td>\n      <td>0.0</td>\n      <td>0.0</td>\n      <td>8.0</td>\n    </tr>\n    <tr>\n      <th>Costa Rica</th>\n      <td>176.0</td>\n      <td>16.0</td>\n      <td>37.0</td>\n      <td>31.0</td>\n      <td>0.0</td>\n      <td>69.0</td>\n      <td>24.0</td>\n      <td>353.0</td>\n    </tr>\n    <tr>\n      <th>Grenada</th>\n      <td>22.0</td>\n      <td>0.0</td>\n      <td>1.0</td>\n      <td>0.0</td>\n      <td>0.0</td>\n      <td>6.0</td>\n      <td>2.0</td>\n      <td>31.0</td>\n    </tr>\n    <tr>\n      <th>Saint Lucia</th>\n      <td>0.0</td>\n      <td>0.0</td>\n      <td>0.0</td>\n      <td>0.0</td>\n      <td>0.0</td>\n      <td>0.0</td>\n      <td>2.0</td>\n      <td>2.0</td>\n    </tr>\n    <tr>\n      <th>world</th>\n      <td>2019381.0</td>\n      <td>228113.0</td>\n      <td>501330.0</td>\n      <td>320170.0</td>\n      <td>34501.0</td>\n      <td>575782.0</td>\n      <td>264913.0</td>\n      <td>3944190.0</td>\n    </tr>\n  </tbody>\n</table>\n<p>218 rows × 8 columns</p>\n</div>"
     },
     "execution_count": 36,
     "metadata": {},
     "output_type": "execute_result"
    }
   ],
   "source": [
    "df_spec_raw_dt = df_spec_raw.loc[:, lst_dt]\n",
    "df_spec_raw_dt.loc[:, 'tot'] = df_spec_raw_dt.sum(axis=1)\n",
    "df_spec_raw_dt"
   ],
   "metadata": {
    "collapsed": false
   }
  },
  {
   "cell_type": "code",
   "execution_count": 37,
   "outputs": [
    {
     "data": {
      "text/plain": "                                      SDG1     SDG2      SDG3      SDG4  \\\nRussia                               291.0    312.0    3114.0    1082.0   \nLuxembourg                            82.0     37.0     244.0      90.0   \nNew Caledonia                          4.0     11.0      46.0      15.0   \nTrinidad and Tobago                   21.0     16.0     124.0      25.0   \nSaint Vincent and the Grenadines       0.0      0.0       1.0       0.0   \n...                                    ...      ...       ...       ...   \nPalestine                             44.0     25.0     220.0      33.0   \nCosta Rica                            40.0     42.0     126.0      45.0   \nGrenada                                2.0      0.0      43.0       2.0   \nSaint Lucia                            0.0      0.0       2.0       0.0   \nworld                             120625.0  89733.0  706438.0  190477.0   \n\n                                      SDG5      SDG6      SDG7     SDG8  \\\nRussia                              1788.0    2417.0    1096.0    957.0   \nLuxembourg                            71.0     363.0      87.0     64.0   \nNew Caledonia                        267.0       4.0       8.0      0.0   \nTrinidad and Tobago                   61.0      52.0      33.0     16.0   \nSaint Vincent and the Grenadines       0.0       0.0       1.0      0.0   \n...                                    ...       ...       ...      ...   \nPalestine                             31.0     141.0      47.0     18.0   \nCosta Rica                           180.0     316.0      46.0     28.0   \nGrenada                                8.0       2.0       2.0      0.0   \nSaint Lucia                            1.0       1.0       0.0      0.0   \nworld                             300975.0  598317.0  225075.0  72622.0   \n\n                                     SDG9    SDG10     SDG11     SDG12  \\\nRussia                              784.0    624.0    1330.0    1638.0   \nLuxembourg                           52.0     63.0     159.0     232.0   \nNew Caledonia                         0.0      3.0       6.0      20.0   \nTrinidad and Tobago                  37.0     16.0      30.0      50.0   \nSaint Vincent and the Grenadines      0.0      0.0       0.0       2.0   \n...                                   ...      ...       ...       ...   \nPalestine                            63.0      9.0      58.0      91.0   \nCosta Rica                           28.0     26.0      89.0     230.0   \nGrenada                               4.0      5.0       3.0       2.0   \nSaint Lucia                           0.0      0.0       6.0       0.0   \nworld                             93317.0  74840.0  249844.0  361954.0   \n\n                                      SDG13     SDG14     SDG15     SDG16  \\\nRussia                              13533.0    8828.0    2216.0    1621.0   \nLuxembourg                            555.0      99.0     110.0      80.0   \nNew Caledonia                         224.0    1021.0      72.0       9.0   \nTrinidad and Tobago                   147.0     149.0      64.0      50.0   \nSaint Vincent and the Grenadines        3.0       3.0       2.0       1.0   \n...                                     ...       ...       ...       ...   \nPalestine                             142.0      81.0      40.0      37.0   \nCosta Rica                            791.0     798.0     447.0      77.0   \nGrenada                                23.0      18.0       3.0       2.0   \nSaint Lucia                             3.0       2.0       6.0       0.0   \nworld                             1407574.0  850851.0  400782.0  197571.0   \n\n                                     SDG17        tot  \nRussia                              1521.0    43152.0  \nLuxembourg                           106.0     2494.0  \nNew Caledonia                         11.0     1721.0  \nTrinidad and Tobago                   78.0      969.0  \nSaint Vincent and the Grenadines       0.0       13.0  \n...                                    ...        ...  \nPalestine                             59.0     1139.0  \nCosta Rica                           114.0     3423.0  \nGrenada                                8.0      127.0  \nSaint Lucia                            2.0       23.0  \nworld                             173078.0  6114073.0  \n\n[218 rows x 18 columns]",
      "text/html": "<div>\n<style scoped>\n    .dataframe tbody tr th:only-of-type {\n        vertical-align: middle;\n    }\n\n    .dataframe tbody tr th {\n        vertical-align: top;\n    }\n\n    .dataframe thead th {\n        text-align: right;\n    }\n</style>\n<table border=\"1\" class=\"dataframe\">\n  <thead>\n    <tr style=\"text-align: right;\">\n      <th></th>\n      <th>SDG1</th>\n      <th>SDG2</th>\n      <th>SDG3</th>\n      <th>SDG4</th>\n      <th>SDG5</th>\n      <th>SDG6</th>\n      <th>SDG7</th>\n      <th>SDG8</th>\n      <th>SDG9</th>\n      <th>SDG10</th>\n      <th>SDG11</th>\n      <th>SDG12</th>\n      <th>SDG13</th>\n      <th>SDG14</th>\n      <th>SDG15</th>\n      <th>SDG16</th>\n      <th>SDG17</th>\n      <th>tot</th>\n    </tr>\n  </thead>\n  <tbody>\n    <tr>\n      <th>Russia</th>\n      <td>291.0</td>\n      <td>312.0</td>\n      <td>3114.0</td>\n      <td>1082.0</td>\n      <td>1788.0</td>\n      <td>2417.0</td>\n      <td>1096.0</td>\n      <td>957.0</td>\n      <td>784.0</td>\n      <td>624.0</td>\n      <td>1330.0</td>\n      <td>1638.0</td>\n      <td>13533.0</td>\n      <td>8828.0</td>\n      <td>2216.0</td>\n      <td>1621.0</td>\n      <td>1521.0</td>\n      <td>43152.0</td>\n    </tr>\n    <tr>\n      <th>Luxembourg</th>\n      <td>82.0</td>\n      <td>37.0</td>\n      <td>244.0</td>\n      <td>90.0</td>\n      <td>71.0</td>\n      <td>363.0</td>\n      <td>87.0</td>\n      <td>64.0</td>\n      <td>52.0</td>\n      <td>63.0</td>\n      <td>159.0</td>\n      <td>232.0</td>\n      <td>555.0</td>\n      <td>99.0</td>\n      <td>110.0</td>\n      <td>80.0</td>\n      <td>106.0</td>\n      <td>2494.0</td>\n    </tr>\n    <tr>\n      <th>New Caledonia</th>\n      <td>4.0</td>\n      <td>11.0</td>\n      <td>46.0</td>\n      <td>15.0</td>\n      <td>267.0</td>\n      <td>4.0</td>\n      <td>8.0</td>\n      <td>0.0</td>\n      <td>0.0</td>\n      <td>3.0</td>\n      <td>6.0</td>\n      <td>20.0</td>\n      <td>224.0</td>\n      <td>1021.0</td>\n      <td>72.0</td>\n      <td>9.0</td>\n      <td>11.0</td>\n      <td>1721.0</td>\n    </tr>\n    <tr>\n      <th>Trinidad and Tobago</th>\n      <td>21.0</td>\n      <td>16.0</td>\n      <td>124.0</td>\n      <td>25.0</td>\n      <td>61.0</td>\n      <td>52.0</td>\n      <td>33.0</td>\n      <td>16.0</td>\n      <td>37.0</td>\n      <td>16.0</td>\n      <td>30.0</td>\n      <td>50.0</td>\n      <td>147.0</td>\n      <td>149.0</td>\n      <td>64.0</td>\n      <td>50.0</td>\n      <td>78.0</td>\n      <td>969.0</td>\n    </tr>\n    <tr>\n      <th>Saint Vincent and the Grenadines</th>\n      <td>0.0</td>\n      <td>0.0</td>\n      <td>1.0</td>\n      <td>0.0</td>\n      <td>0.0</td>\n      <td>0.0</td>\n      <td>1.0</td>\n      <td>0.0</td>\n      <td>0.0</td>\n      <td>0.0</td>\n      <td>0.0</td>\n      <td>2.0</td>\n      <td>3.0</td>\n      <td>3.0</td>\n      <td>2.0</td>\n      <td>1.0</td>\n      <td>0.0</td>\n      <td>13.0</td>\n    </tr>\n    <tr>\n      <th>...</th>\n      <td>...</td>\n      <td>...</td>\n      <td>...</td>\n      <td>...</td>\n      <td>...</td>\n      <td>...</td>\n      <td>...</td>\n      <td>...</td>\n      <td>...</td>\n      <td>...</td>\n      <td>...</td>\n      <td>...</td>\n      <td>...</td>\n      <td>...</td>\n      <td>...</td>\n      <td>...</td>\n      <td>...</td>\n      <td>...</td>\n    </tr>\n    <tr>\n      <th>Palestine</th>\n      <td>44.0</td>\n      <td>25.0</td>\n      <td>220.0</td>\n      <td>33.0</td>\n      <td>31.0</td>\n      <td>141.0</td>\n      <td>47.0</td>\n      <td>18.0</td>\n      <td>63.0</td>\n      <td>9.0</td>\n      <td>58.0</td>\n      <td>91.0</td>\n      <td>142.0</td>\n      <td>81.0</td>\n      <td>40.0</td>\n      <td>37.0</td>\n      <td>59.0</td>\n      <td>1139.0</td>\n    </tr>\n    <tr>\n      <th>Costa Rica</th>\n      <td>40.0</td>\n      <td>42.0</td>\n      <td>126.0</td>\n      <td>45.0</td>\n      <td>180.0</td>\n      <td>316.0</td>\n      <td>46.0</td>\n      <td>28.0</td>\n      <td>28.0</td>\n      <td>26.0</td>\n      <td>89.0</td>\n      <td>230.0</td>\n      <td>791.0</td>\n      <td>798.0</td>\n      <td>447.0</td>\n      <td>77.0</td>\n      <td>114.0</td>\n      <td>3423.0</td>\n    </tr>\n    <tr>\n      <th>Grenada</th>\n      <td>2.0</td>\n      <td>0.0</td>\n      <td>43.0</td>\n      <td>2.0</td>\n      <td>8.0</td>\n      <td>2.0</td>\n      <td>2.0</td>\n      <td>0.0</td>\n      <td>4.0</td>\n      <td>5.0</td>\n      <td>3.0</td>\n      <td>2.0</td>\n      <td>23.0</td>\n      <td>18.0</td>\n      <td>3.0</td>\n      <td>2.0</td>\n      <td>8.0</td>\n      <td>127.0</td>\n    </tr>\n    <tr>\n      <th>Saint Lucia</th>\n      <td>0.0</td>\n      <td>0.0</td>\n      <td>2.0</td>\n      <td>0.0</td>\n      <td>1.0</td>\n      <td>1.0</td>\n      <td>0.0</td>\n      <td>0.0</td>\n      <td>0.0</td>\n      <td>0.0</td>\n      <td>6.0</td>\n      <td>0.0</td>\n      <td>3.0</td>\n      <td>2.0</td>\n      <td>6.0</td>\n      <td>0.0</td>\n      <td>2.0</td>\n      <td>23.0</td>\n    </tr>\n    <tr>\n      <th>world</th>\n      <td>120625.0</td>\n      <td>89733.0</td>\n      <td>706438.0</td>\n      <td>190477.0</td>\n      <td>300975.0</td>\n      <td>598317.0</td>\n      <td>225075.0</td>\n      <td>72622.0</td>\n      <td>93317.0</td>\n      <td>74840.0</td>\n      <td>249844.0</td>\n      <td>361954.0</td>\n      <td>1407574.0</td>\n      <td>850851.0</td>\n      <td>400782.0</td>\n      <td>197571.0</td>\n      <td>173078.0</td>\n      <td>6114073.0</td>\n    </tr>\n  </tbody>\n</table>\n<p>218 rows × 18 columns</p>\n</div>"
     },
     "execution_count": 37,
     "metadata": {},
     "output_type": "execute_result"
    }
   ],
   "source": [
    "df_spec_raw_sdg = df_spec_raw.loc[:, lst_sdg]\n",
    "df_spec_raw_sdg.loc[:, 'tot'] = df_spec_raw_sdg.sum(axis=1)\n",
    "df_spec_raw_sdg"
   ],
   "metadata": {
    "collapsed": false
   }
  },
  {
   "cell_type": "code",
   "execution_count": 38,
   "outputs": [
    {
     "data": {
      "text/plain": "                                  Environment-AI  Environment-robotics  \\\nRussia                                     230.0                 107.0   \nLuxembourg                                  15.0                   7.0   \nNew Caledonia                               18.0                   0.0   \nTrinidad and Tobago                          7.0                   3.0   \nSaint Vincent and the Grenadines             0.0                   0.0   \n...                                          ...                   ...   \nPalestine                                    6.0                   0.0   \nCosta Rica                                   8.0                   9.0   \nGrenada                                      0.0                   1.0   \nSaint Lucia                                  0.0                   0.0   \nworld                                    37686.0               11815.0   \n\n                                  Environment-IOT  Society-AI  \\\nRussia                                       29.0       277.0   \nLuxembourg                                    0.0        54.0   \nNew Caledonia                                 0.0         4.0   \nTrinidad and Tobago                           0.0         2.0   \nSaint Vincent and the Grenadines              0.0         0.0   \n...                                           ...         ...   \nPalestine                                     0.0         5.0   \nCosta Rica                                    0.0         3.0   \nGrenada                                       0.0         2.0   \nSaint Lucia                                   0.0         0.0   \nworld                                      6307.0     50369.0   \n\n                                  Society-robotics  Society-IOT  Economy-AI  \\\nRussia                                        85.0         63.0        56.0   \nLuxembourg                                     9.0          1.0        10.0   \nNew Caledonia                                  4.0          0.0         0.0   \nTrinidad and Tobago                            1.0          0.0         6.0   \nSaint Vincent and the Grenadines               0.0          0.0         0.0   \n...                                            ...          ...         ...   \nPalestine                                      0.0          5.0         6.0   \nCosta Rica                                     6.0          3.0         6.0   \nGrenada                                        0.0          0.0         0.0   \nSaint Lucia                                    0.0          0.0         0.0   \nworld                                      10432.0      20237.0     10094.0   \n\n                                  Economy-robotics  Economy-IOT       tot  \nRussia                                        23.0         33.0     903.0  \nLuxembourg                                     1.0          5.0     102.0  \nNew Caledonia                                  0.0          0.0      26.0  \nTrinidad and Tobago                            0.0          3.0      22.0  \nSaint Vincent and the Grenadines               0.0          0.0       0.0  \n...                                            ...          ...       ...  \nPalestine                                      0.0          0.0      22.0  \nCosta Rica                                     0.0          0.0      35.0  \nGrenada                                        0.0          0.0       3.0  \nSaint Lucia                                    0.0          0.0       0.0  \nworld                                       2394.0       4320.0  153654.0  \n\n[218 rows x 10 columns]",
      "text/html": "<div>\n<style scoped>\n    .dataframe tbody tr th:only-of-type {\n        vertical-align: middle;\n    }\n\n    .dataframe tbody tr th {\n        vertical-align: top;\n    }\n\n    .dataframe thead th {\n        text-align: right;\n    }\n</style>\n<table border=\"1\" class=\"dataframe\">\n  <thead>\n    <tr style=\"text-align: right;\">\n      <th></th>\n      <th>Environment-AI</th>\n      <th>Environment-robotics</th>\n      <th>Environment-IOT</th>\n      <th>Society-AI</th>\n      <th>Society-robotics</th>\n      <th>Society-IOT</th>\n      <th>Economy-AI</th>\n      <th>Economy-robotics</th>\n      <th>Economy-IOT</th>\n      <th>tot</th>\n    </tr>\n  </thead>\n  <tbody>\n    <tr>\n      <th>Russia</th>\n      <td>230.0</td>\n      <td>107.0</td>\n      <td>29.0</td>\n      <td>277.0</td>\n      <td>85.0</td>\n      <td>63.0</td>\n      <td>56.0</td>\n      <td>23.0</td>\n      <td>33.0</td>\n      <td>903.0</td>\n    </tr>\n    <tr>\n      <th>Luxembourg</th>\n      <td>15.0</td>\n      <td>7.0</td>\n      <td>0.0</td>\n      <td>54.0</td>\n      <td>9.0</td>\n      <td>1.0</td>\n      <td>10.0</td>\n      <td>1.0</td>\n      <td>5.0</td>\n      <td>102.0</td>\n    </tr>\n    <tr>\n      <th>New Caledonia</th>\n      <td>18.0</td>\n      <td>0.0</td>\n      <td>0.0</td>\n      <td>4.0</td>\n      <td>4.0</td>\n      <td>0.0</td>\n      <td>0.0</td>\n      <td>0.0</td>\n      <td>0.0</td>\n      <td>26.0</td>\n    </tr>\n    <tr>\n      <th>Trinidad and Tobago</th>\n      <td>7.0</td>\n      <td>3.0</td>\n      <td>0.0</td>\n      <td>2.0</td>\n      <td>1.0</td>\n      <td>0.0</td>\n      <td>6.0</td>\n      <td>0.0</td>\n      <td>3.0</td>\n      <td>22.0</td>\n    </tr>\n    <tr>\n      <th>Saint Vincent and the Grenadines</th>\n      <td>0.0</td>\n      <td>0.0</td>\n      <td>0.0</td>\n      <td>0.0</td>\n      <td>0.0</td>\n      <td>0.0</td>\n      <td>0.0</td>\n      <td>0.0</td>\n      <td>0.0</td>\n      <td>0.0</td>\n    </tr>\n    <tr>\n      <th>...</th>\n      <td>...</td>\n      <td>...</td>\n      <td>...</td>\n      <td>...</td>\n      <td>...</td>\n      <td>...</td>\n      <td>...</td>\n      <td>...</td>\n      <td>...</td>\n      <td>...</td>\n    </tr>\n    <tr>\n      <th>Palestine</th>\n      <td>6.0</td>\n      <td>0.0</td>\n      <td>0.0</td>\n      <td>5.0</td>\n      <td>0.0</td>\n      <td>5.0</td>\n      <td>6.0</td>\n      <td>0.0</td>\n      <td>0.0</td>\n      <td>22.0</td>\n    </tr>\n    <tr>\n      <th>Costa Rica</th>\n      <td>8.0</td>\n      <td>9.0</td>\n      <td>0.0</td>\n      <td>3.0</td>\n      <td>6.0</td>\n      <td>3.0</td>\n      <td>6.0</td>\n      <td>0.0</td>\n      <td>0.0</td>\n      <td>35.0</td>\n    </tr>\n    <tr>\n      <th>Grenada</th>\n      <td>0.0</td>\n      <td>1.0</td>\n      <td>0.0</td>\n      <td>2.0</td>\n      <td>0.0</td>\n      <td>0.0</td>\n      <td>0.0</td>\n      <td>0.0</td>\n      <td>0.0</td>\n      <td>3.0</td>\n    </tr>\n    <tr>\n      <th>Saint Lucia</th>\n      <td>0.0</td>\n      <td>0.0</td>\n      <td>0.0</td>\n      <td>0.0</td>\n      <td>0.0</td>\n      <td>0.0</td>\n      <td>0.0</td>\n      <td>0.0</td>\n      <td>0.0</td>\n      <td>0.0</td>\n    </tr>\n    <tr>\n      <th>world</th>\n      <td>37686.0</td>\n      <td>11815.0</td>\n      <td>6307.0</td>\n      <td>50369.0</td>\n      <td>10432.0</td>\n      <td>20237.0</td>\n      <td>10094.0</td>\n      <td>2394.0</td>\n      <td>4320.0</td>\n      <td>153654.0</td>\n    </tr>\n  </tbody>\n</table>\n<p>218 rows × 10 columns</p>\n</div>"
     },
     "execution_count": 38,
     "metadata": {},
     "output_type": "execute_result"
    }
   ],
   "source": [
    "df_spec_raw_cat_dt = df_spec_raw.loc[:, lst_cat_dt]\n",
    "df_spec_raw_cat_dt.loc[:, 'tot'] = df_spec_raw_cat_dt.sum(axis=1)\n",
    "df_spec_raw_cat_dt"
   ],
   "metadata": {
    "collapsed": false
   }
  },
  {
   "cell_type": "code",
   "execution_count": 39,
   "outputs": [
    {
     "data": {
      "text/plain": "                                  SDG1-AI  SDG1-big_data  SDG1-IOT  \\\nRussia                               56.0           24.0      33.0   \nLuxembourg                           10.0            4.0       5.0   \nNew Caledonia                         0.0            0.0       0.0   \nTrinidad and Tobago                   6.0            1.0       3.0   \nSaint Vincent and the Grenadines      0.0            0.0       0.0   \n...                                   ...            ...       ...   \nPalestine                             6.0            4.0       0.0   \nCosta Rica                            6.0            3.0       0.0   \nGrenada                               0.0            0.0       0.0   \nSaint Lucia                           0.0            0.0       0.0   \nworld                             10094.0         3466.0    4320.0   \n\n                                  SDG1-computing_infrastructure  \\\nRussia                                                     22.0   \nLuxembourg                                                  8.0   \nNew Caledonia                                               0.0   \nTrinidad and Tobago                                         3.0   \nSaint Vincent and the Grenadines                            0.0   \n...                                                         ...   \nPalestine                                                   0.0   \nCosta Rica                                                  0.0   \nGrenada                                                     0.0   \nSaint Lucia                                                 0.0   \nworld                                                    3099.0   \n\n                                  SDG1-blockchain  SDG1-robotics  \\\nRussia                                       14.0           23.0   \nLuxembourg                                    1.0            1.0   \nNew Caledonia                                 0.0            0.0   \nTrinidad and Tobago                           0.0            0.0   \nSaint Vincent and the Grenadines              0.0            0.0   \n...                                           ...            ...   \nPalestine                                     0.0            0.0   \nCosta Rica                                    0.0            0.0   \nGrenada                                       0.0            0.0   \nSaint Lucia                                   0.0            0.0   \nworld                                       702.0         2394.0   \n\n                                  SDG1-additive_manufacturing  SDG2-AI  \\\nRussia                                                   48.0     56.0   \nLuxembourg                                                7.0     10.0   \nNew Caledonia                                             0.0      0.0   \nTrinidad and Tobago                                       3.0      6.0   \nSaint Vincent and the Grenadines                          0.0      0.0   \n...                                                       ...      ...   \nPalestine                                                 5.0      6.0   \nCosta Rica                                                0.0      6.0   \nGrenada                                                   0.0      0.0   \nSaint Lucia                                               0.0      0.0   \nworld                                                  2791.0  10094.0   \n\n                                  SDG2-big_data  SDG2-IOT  ...  \\\nRussia                                     24.0      33.0  ...   \nLuxembourg                                  4.0       5.0  ...   \nNew Caledonia                               0.0       0.0  ...   \nTrinidad and Tobago                         1.0       3.0  ...   \nSaint Vincent and the Grenadines            0.0       0.0  ...   \n...                                         ...       ...  ...   \nPalestine                                   4.0       0.0  ...   \nCosta Rica                                  3.0       0.0  ...   \nGrenada                                     0.0       0.0  ...   \nSaint Lucia                                 0.0       0.0  ...   \nworld                                    3466.0    4320.0  ...   \n\n                                  SDG16-robotics  \\\nRussia                                      23.0   \nLuxembourg                                   1.0   \nNew Caledonia                                0.0   \nTrinidad and Tobago                          0.0   \nSaint Vincent and the Grenadines             0.0   \n...                                          ...   \nPalestine                                    0.0   \nCosta Rica                                   0.0   \nGrenada                                      0.0   \nSaint Lucia                                  0.0   \nworld                                     2394.0   \n\n                                  SDG16-additive_manufacturing  SDG17-AI  \\\nRussia                                                    48.0      56.0   \nLuxembourg                                                 7.0      10.0   \nNew Caledonia                                              0.0       0.0   \nTrinidad and Tobago                                        3.0       6.0   \nSaint Vincent and the Grenadines                           0.0       0.0   \n...                                                        ...       ...   \nPalestine                                                  5.0       6.0   \nCosta Rica                                                 0.0       6.0   \nGrenada                                                    0.0       0.0   \nSaint Lucia                                                0.0       0.0   \nworld                                                   2791.0   10094.0   \n\n                                  SDG17-big_data  SDG17-IOT  \\\nRussia                                      24.0       33.0   \nLuxembourg                                   4.0        5.0   \nNew Caledonia                                0.0        0.0   \nTrinidad and Tobago                          1.0        3.0   \nSaint Vincent and the Grenadines             0.0        0.0   \n...                                          ...        ...   \nPalestine                                    4.0        0.0   \nCosta Rica                                   3.0        0.0   \nGrenada                                      0.0        0.0   \nSaint Lucia                                  0.0        0.0   \nworld                                     3466.0     4320.0   \n\n                                  SDG17-computing_infrastructure  \\\nRussia                                                      22.0   \nLuxembourg                                                   8.0   \nNew Caledonia                                                0.0   \nTrinidad and Tobago                                          3.0   \nSaint Vincent and the Grenadines                             0.0   \n...                                                          ...   \nPalestine                                                    0.0   \nCosta Rica                                                   0.0   \nGrenada                                                      0.0   \nSaint Lucia                                                  0.0   \nworld                                                     3099.0   \n\n                                  SDG17-blockchain  SDG17-robotics  \\\nRussia                                        14.0            23.0   \nLuxembourg                                     1.0             1.0   \nNew Caledonia                                  0.0             0.0   \nTrinidad and Tobago                            0.0             0.0   \nSaint Vincent and the Grenadines               0.0             0.0   \n...                                            ...             ...   \nPalestine                                      0.0             0.0   \nCosta Rica                                     0.0             0.0   \nGrenada                                        0.0             0.0   \nSaint Lucia                                    0.0             0.0   \nworld                                        702.0          2394.0   \n\n                                  SDG17-additive_manufacturing       tot  \nRussia                                                    48.0    3740.0  \nLuxembourg                                                 7.0     612.0  \nNew Caledonia                                              0.0       0.0  \nTrinidad and Tobago                                        3.0     272.0  \nSaint Vincent and the Grenadines                           0.0       0.0  \n...                                                        ...       ...  \nPalestine                                                  5.0     255.0  \nCosta Rica                                                 0.0     153.0  \nGrenada                                                    0.0       0.0  \nSaint Lucia                                                0.0       0.0  \nworld                                                   2791.0  456722.0  \n\n[218 rows x 120 columns]",
      "text/html": "<div>\n<style scoped>\n    .dataframe tbody tr th:only-of-type {\n        vertical-align: middle;\n    }\n\n    .dataframe tbody tr th {\n        vertical-align: top;\n    }\n\n    .dataframe thead th {\n        text-align: right;\n    }\n</style>\n<table border=\"1\" class=\"dataframe\">\n  <thead>\n    <tr style=\"text-align: right;\">\n      <th></th>\n      <th>SDG1-AI</th>\n      <th>SDG1-big_data</th>\n      <th>SDG1-IOT</th>\n      <th>SDG1-computing_infrastructure</th>\n      <th>SDG1-blockchain</th>\n      <th>SDG1-robotics</th>\n      <th>SDG1-additive_manufacturing</th>\n      <th>SDG2-AI</th>\n      <th>SDG2-big_data</th>\n      <th>SDG2-IOT</th>\n      <th>...</th>\n      <th>SDG16-robotics</th>\n      <th>SDG16-additive_manufacturing</th>\n      <th>SDG17-AI</th>\n      <th>SDG17-big_data</th>\n      <th>SDG17-IOT</th>\n      <th>SDG17-computing_infrastructure</th>\n      <th>SDG17-blockchain</th>\n      <th>SDG17-robotics</th>\n      <th>SDG17-additive_manufacturing</th>\n      <th>tot</th>\n    </tr>\n  </thead>\n  <tbody>\n    <tr>\n      <th>Russia</th>\n      <td>56.0</td>\n      <td>24.0</td>\n      <td>33.0</td>\n      <td>22.0</td>\n      <td>14.0</td>\n      <td>23.0</td>\n      <td>48.0</td>\n      <td>56.0</td>\n      <td>24.0</td>\n      <td>33.0</td>\n      <td>...</td>\n      <td>23.0</td>\n      <td>48.0</td>\n      <td>56.0</td>\n      <td>24.0</td>\n      <td>33.0</td>\n      <td>22.0</td>\n      <td>14.0</td>\n      <td>23.0</td>\n      <td>48.0</td>\n      <td>3740.0</td>\n    </tr>\n    <tr>\n      <th>Luxembourg</th>\n      <td>10.0</td>\n      <td>4.0</td>\n      <td>5.0</td>\n      <td>8.0</td>\n      <td>1.0</td>\n      <td>1.0</td>\n      <td>7.0</td>\n      <td>10.0</td>\n      <td>4.0</td>\n      <td>5.0</td>\n      <td>...</td>\n      <td>1.0</td>\n      <td>7.0</td>\n      <td>10.0</td>\n      <td>4.0</td>\n      <td>5.0</td>\n      <td>8.0</td>\n      <td>1.0</td>\n      <td>1.0</td>\n      <td>7.0</td>\n      <td>612.0</td>\n    </tr>\n    <tr>\n      <th>New Caledonia</th>\n      <td>0.0</td>\n      <td>0.0</td>\n      <td>0.0</td>\n      <td>0.0</td>\n      <td>0.0</td>\n      <td>0.0</td>\n      <td>0.0</td>\n      <td>0.0</td>\n      <td>0.0</td>\n      <td>0.0</td>\n      <td>...</td>\n      <td>0.0</td>\n      <td>0.0</td>\n      <td>0.0</td>\n      <td>0.0</td>\n      <td>0.0</td>\n      <td>0.0</td>\n      <td>0.0</td>\n      <td>0.0</td>\n      <td>0.0</td>\n      <td>0.0</td>\n    </tr>\n    <tr>\n      <th>Trinidad and Tobago</th>\n      <td>6.0</td>\n      <td>1.0</td>\n      <td>3.0</td>\n      <td>3.0</td>\n      <td>0.0</td>\n      <td>0.0</td>\n      <td>3.0</td>\n      <td>6.0</td>\n      <td>1.0</td>\n      <td>3.0</td>\n      <td>...</td>\n      <td>0.0</td>\n      <td>3.0</td>\n      <td>6.0</td>\n      <td>1.0</td>\n      <td>3.0</td>\n      <td>3.0</td>\n      <td>0.0</td>\n      <td>0.0</td>\n      <td>3.0</td>\n      <td>272.0</td>\n    </tr>\n    <tr>\n      <th>Saint Vincent and the Grenadines</th>\n      <td>0.0</td>\n      <td>0.0</td>\n      <td>0.0</td>\n      <td>0.0</td>\n      <td>0.0</td>\n      <td>0.0</td>\n      <td>0.0</td>\n      <td>0.0</td>\n      <td>0.0</td>\n      <td>0.0</td>\n      <td>...</td>\n      <td>0.0</td>\n      <td>0.0</td>\n      <td>0.0</td>\n      <td>0.0</td>\n      <td>0.0</td>\n      <td>0.0</td>\n      <td>0.0</td>\n      <td>0.0</td>\n      <td>0.0</td>\n      <td>0.0</td>\n    </tr>\n    <tr>\n      <th>...</th>\n      <td>...</td>\n      <td>...</td>\n      <td>...</td>\n      <td>...</td>\n      <td>...</td>\n      <td>...</td>\n      <td>...</td>\n      <td>...</td>\n      <td>...</td>\n      <td>...</td>\n      <td>...</td>\n      <td>...</td>\n      <td>...</td>\n      <td>...</td>\n      <td>...</td>\n      <td>...</td>\n      <td>...</td>\n      <td>...</td>\n      <td>...</td>\n      <td>...</td>\n      <td>...</td>\n    </tr>\n    <tr>\n      <th>Palestine</th>\n      <td>6.0</td>\n      <td>4.0</td>\n      <td>0.0</td>\n      <td>0.0</td>\n      <td>0.0</td>\n      <td>0.0</td>\n      <td>5.0</td>\n      <td>6.0</td>\n      <td>4.0</td>\n      <td>0.0</td>\n      <td>...</td>\n      <td>0.0</td>\n      <td>5.0</td>\n      <td>6.0</td>\n      <td>4.0</td>\n      <td>0.0</td>\n      <td>0.0</td>\n      <td>0.0</td>\n      <td>0.0</td>\n      <td>5.0</td>\n      <td>255.0</td>\n    </tr>\n    <tr>\n      <th>Costa Rica</th>\n      <td>6.0</td>\n      <td>3.0</td>\n      <td>0.0</td>\n      <td>0.0</td>\n      <td>0.0</td>\n      <td>0.0</td>\n      <td>0.0</td>\n      <td>6.0</td>\n      <td>3.0</td>\n      <td>0.0</td>\n      <td>...</td>\n      <td>0.0</td>\n      <td>0.0</td>\n      <td>6.0</td>\n      <td>3.0</td>\n      <td>0.0</td>\n      <td>0.0</td>\n      <td>0.0</td>\n      <td>0.0</td>\n      <td>0.0</td>\n      <td>153.0</td>\n    </tr>\n    <tr>\n      <th>Grenada</th>\n      <td>0.0</td>\n      <td>0.0</td>\n      <td>0.0</td>\n      <td>0.0</td>\n      <td>0.0</td>\n      <td>0.0</td>\n      <td>0.0</td>\n      <td>0.0</td>\n      <td>0.0</td>\n      <td>0.0</td>\n      <td>...</td>\n      <td>0.0</td>\n      <td>0.0</td>\n      <td>0.0</td>\n      <td>0.0</td>\n      <td>0.0</td>\n      <td>0.0</td>\n      <td>0.0</td>\n      <td>0.0</td>\n      <td>0.0</td>\n      <td>0.0</td>\n    </tr>\n    <tr>\n      <th>Saint Lucia</th>\n      <td>0.0</td>\n      <td>0.0</td>\n      <td>0.0</td>\n      <td>0.0</td>\n      <td>0.0</td>\n      <td>0.0</td>\n      <td>0.0</td>\n      <td>0.0</td>\n      <td>0.0</td>\n      <td>0.0</td>\n      <td>...</td>\n      <td>0.0</td>\n      <td>0.0</td>\n      <td>0.0</td>\n      <td>0.0</td>\n      <td>0.0</td>\n      <td>0.0</td>\n      <td>0.0</td>\n      <td>0.0</td>\n      <td>0.0</td>\n      <td>0.0</td>\n    </tr>\n    <tr>\n      <th>world</th>\n      <td>10094.0</td>\n      <td>3466.0</td>\n      <td>4320.0</td>\n      <td>3099.0</td>\n      <td>702.0</td>\n      <td>2394.0</td>\n      <td>2791.0</td>\n      <td>10094.0</td>\n      <td>3466.0</td>\n      <td>4320.0</td>\n      <td>...</td>\n      <td>2394.0</td>\n      <td>2791.0</td>\n      <td>10094.0</td>\n      <td>3466.0</td>\n      <td>4320.0</td>\n      <td>3099.0</td>\n      <td>702.0</td>\n      <td>2394.0</td>\n      <td>2791.0</td>\n      <td>456722.0</td>\n    </tr>\n  </tbody>\n</table>\n<p>218 rows × 120 columns</p>\n</div>"
     },
     "execution_count": 39,
     "metadata": {},
     "output_type": "execute_result"
    }
   ],
   "source": [
    "df_spec_raw_sdg_dt = df_spec_raw.loc[:, lst_sdg_dt]\n",
    "df_spec_raw_sdg_dt.loc[:, 'tot'] = df_spec_raw_sdg_dt.sum(axis=1)\n",
    "df_spec_raw_sdg_dt"
   ],
   "metadata": {
    "collapsed": false
   }
  },
  {
   "cell_type": "code",
   "execution_count": 40,
   "outputs": [],
   "source": [
    "lst_df_spec = []\n",
    "for df_spec_raw in [df_spec_raw_categories,df_spec_raw_sdg, df_spec_raw_dt, df_spec_raw_cat_dt, df_spec_raw_sdg_dt]:\n",
    "    df_spec = df_spec_raw.copy().iloc[:-1, :-1].loc[lst_eu+rest, :]\n",
    "    for cat in df_spec.columns:\n",
    "        for country in df_spec.index:\n",
    "            df_spec.loc[country,cat] = (df_spec_raw.loc[country,cat] / df_spec_raw.loc[country, 'tot']) / (df_spec_raw.loc[\"world\", cat] / df_spec_raw.loc['world', 'tot'])\n",
    "    lst_df_spec.append(df_spec)\n"
   ],
   "metadata": {
    "collapsed": false
   }
  },
  {
   "cell_type": "code",
   "execution_count": 42,
   "outputs": [
    {
     "data": {
      "text/plain": "                 SDG1-AI  SDG1-big_data  SDG1-IOT  \\\nAustria         1.083758       0.696224  0.707549   \nBelgium         1.042681       0.679237  1.699000   \nBulgaria        1.330791       0.000000  2.072994   \nCroatia         0.618972       1.081577  1.880157   \nCyprus          0.506968       0.738219  1.776852   \nCzech Republic  0.681365       0.496083  0.845781   \nDenmark         1.069385       0.830496  0.832899   \nEstonia         1.425847       0.830496  0.666319   \nFinland         0.332698       0.780513  1.619526   \nFrance          0.860251       1.042474  1.119686   \nGermany         0.932925       0.697399  1.072439   \nGreece          1.004509       0.875491  1.113592   \nHungary         0.472617       2.535471  0.929941   \nIreland         0.995388       0.693206  1.365142   \nItaly           0.667865       0.984018  1.343522   \nLatvia          0.332698       0.000000  0.000000   \nLithuania       0.626254       0.797928  0.640189   \nLuxembourg      0.739328       0.861255  0.863747   \nMalta           0.000000       0.000000  0.000000   \nNetherlands     0.837511       1.612270  0.547270   \nPoland          0.977724       0.632759  0.812275   \nPortugal        0.887194       0.710536  1.053772   \nRomania         0.839237       0.872894  1.680806   \nSlovakia        1.101344       0.133643  0.214448   \nSlovenia        0.443597       0.861255  1.266830   \nSpain           0.844979       0.822291  1.285515   \nSweden          0.812301       1.535160  1.049958   \nAustralia       0.785591       1.381873  0.961850   \nCanada          0.933888       1.468667  0.992855   \nChina           1.184497       1.109212  0.854234   \nIceland         0.532316       0.000000  1.243796   \nIsrael          0.554496       0.322971  0.000000   \nJapan           1.024458       0.760505  1.032586   \nNorway          1.090509       1.345712  0.561436   \nSouth Korea     1.053226       1.007669  1.430366   \nSwitzerland     0.894207       2.052715  0.983238   \nUnited Kingdom  0.867382       0.968236  1.076279   \nUnited States   1.014900       1.106317  0.751350   \n\n                SDG1-computing_infrastructure  SDG1-blockchain  SDG1-robotics  \\\nAustria                              0.830587         0.916662       1.343979   \nBelgium                              0.536242         0.394543       0.520619   \nBulgaria                             1.444875         0.000000       0.000000   \nCroatia                              1.008052         0.000000       0.782946   \nCyprus                               1.238464         0.000000       1.068783   \nCzech Republic                       0.000000         0.306165       1.077333   \nDenmark                              2.244716         1.025107       0.601190   \nEstonia                              0.619232         0.000000       1.202381   \nFinland                              1.324468         2.657684       0.857253   \nFrance                               1.448009         0.830166       0.657267   \nGermany                              0.641866         0.896688       1.514527   \nGreece                               1.050818         0.210858       1.267524   \nHungary                              0.972252         0.357670       0.524403   \nIreland                              0.775299         1.555718       1.551039   \nItaly                                0.894599         1.079647       1.258022   \nLatvia                               0.000000         0.000000       0.000000   \nLithuania                            0.382467         0.562804       0.495098   \nLuxembourg                           1.926500         1.063074       0.311728   \nMalta                                8.669248         0.000000       0.000000   \nNetherlands                          1.132782         1.122606       1.735704   \nPoland                               0.920002         1.249654       0.687075   \nPortugal                             0.891006         0.318922       1.122222   \nRomania                              0.312405         0.517171       1.718719   \nSlovakia                             0.149470         0.000000       0.386973   \nSlovenia                             0.642167         0.708716       2.078189   \nSpain                                0.885859         0.298523       1.006674   \nSweden                               0.956995         1.118298       0.838023   \nAustralia                            1.514815         1.174778       1.139446   \nCanada                               1.216737         1.745679       0.748148   \nChina                                1.142873         1.074150       0.746876   \nIceland                              0.000000         0.000000       0.000000   \nIsrael                               0.000000         0.000000       4.675926   \nJapan                                1.210423         0.433253       1.778616   \nNorway                               0.842844         1.063074       1.091049   \nSouth Korea                          1.089848         1.148120       0.545079   \nSwitzerland                          0.445455         1.210139       1.020202   \nUnited Kingdom                       0.865110         1.335333       1.112042   \nUnited States                        0.973510         1.001606       1.550484   \n\n                SDG1-additive_manufacturing   SDG2-AI  SDG2-big_data  \\\nAustria                            1.441009  1.083758       0.696224   \nBelgium                            1.240456  1.042681       0.679237   \nBulgaria                           0.000000  1.330791       0.000000   \nCroatia                            1.343154  0.618972       1.081577   \nCyprus                             1.833512  0.506968       0.738219   \nCzech Republic                     4.235414  0.681365       0.496083   \nDenmark                            0.171892  1.069385       0.830496   \nEstonia                            0.687567  1.425847       0.830496   \nFinland                            2.072251  0.332698       0.780513   \nFrance                             1.106670  0.860251       1.042474   \nGermany                            1.488548  0.932925       0.697399   \nGreece                             0.875086  1.004509       0.875491   \nHungary                            1.709279  0.472617       2.535471   \nIreland                            0.469558  0.995388       0.693206   \nItaly                              1.565019  0.667865       0.984018   \nLatvia                             8.422698  0.332698       0.000000   \nLithuania                          4.388296  0.626254       0.797928   \nLuxembourg                         1.871711  0.739328       0.861255   \nMalta                              0.000000  0.000000       0.000000   \nNetherlands                        0.718737  0.837511       1.612270   \nPoland                             2.121636  0.977724       0.632759   \nPortugal                           1.871711  0.887194       0.710536   \nRomania                            0.953922  0.839237       0.872894   \nSlovakia                           4.647006  1.101344       0.133643   \nSlovenia                           2.317356  0.443597       0.861255   \nSpain                              1.636860  0.844979       0.822291   \nSweden                             1.093857  0.812301       1.535160   \nAustralia                          0.625061  0.785591       1.381873   \nCanada                             0.455966  0.933888       1.468667   \nChina                              0.462569  1.184497       1.109212   \nIceland                            5.775564  0.532316       0.000000   \nIsrael                             3.208647  0.554496       0.322971   \nJapan                              0.399567  1.024458       0.760505   \nNorway                             1.002702  1.090509       1.345712   \nSouth Korea                        0.385038  1.053226       1.007669   \nSwitzerland                        0.646802  0.894207       2.052715   \nUnited Kingdom                     1.370336  0.867382       0.968236   \nUnited States                      0.755780  1.014900       1.106317   \n\n                SDG2-IOT  ...  SDG16-blockchain  SDG16-robotics  \\\nAustria         0.707549  ...          0.916662        1.343979   \nBelgium         1.699000  ...          0.394543        0.520619   \nBulgaria        2.072994  ...          0.000000        0.000000   \nCroatia         1.880157  ...          0.000000        0.782946   \nCyprus          1.776852  ...          0.000000        1.068783   \nCzech Republic  0.845781  ...          0.306165        1.077333   \nDenmark         0.832899  ...          1.025107        0.601190   \nEstonia         0.666319  ...          0.000000        1.202381   \nFinland         1.619526  ...          2.657684        0.857253   \nFrance          1.119686  ...          0.830166        0.657267   \nGermany         1.072439  ...          0.896688        1.514527   \nGreece          1.113592  ...          0.210858        1.267524   \nHungary         0.929941  ...          0.357670        0.524403   \nIreland         1.365142  ...          1.555718        1.551039   \nItaly           1.343522  ...          1.079647        1.258022   \nLatvia          0.000000  ...          0.000000        0.000000   \nLithuania       0.640189  ...          0.562804        0.495098   \nLuxembourg      0.863747  ...          1.063074        0.311728   \nMalta           0.000000  ...          0.000000        0.000000   \nNetherlands     0.547270  ...          1.122606        1.735704   \nPoland          0.812275  ...          1.249654        0.687075   \nPortugal        1.053772  ...          0.318922        1.122222   \nRomania         1.680806  ...          0.517171        1.718719   \nSlovakia        0.214448  ...          0.000000        0.386973   \nSlovenia        1.266830  ...          0.708716        2.078189   \nSpain           1.285515  ...          0.298523        1.006674   \nSweden          1.049958  ...          1.118298        0.838023   \nAustralia       0.961850  ...          1.174778        1.139446   \nCanada          0.992855  ...          1.745679        0.748148   \nChina           0.854234  ...          1.074150        0.746876   \nIceland         1.243796  ...          0.000000        0.000000   \nIsrael          0.000000  ...          0.000000        4.675926   \nJapan           1.032586  ...          0.433253        1.778616   \nNorway          0.561436  ...          1.063074        1.091049   \nSouth Korea     1.430366  ...          1.148120        0.545079   \nSwitzerland     0.983238  ...          1.210139        1.020202   \nUnited Kingdom  1.076279  ...          1.335333        1.112042   \nUnited States   0.751350  ...          1.001606        1.550484   \n\n                SDG16-additive_manufacturing  SDG17-AI  SDG17-big_data  \\\nAustria                             1.441009  1.083758        0.696224   \nBelgium                             1.240456  1.042681        0.679237   \nBulgaria                            0.000000  1.330791        0.000000   \nCroatia                             1.343154  0.618972        1.081577   \nCyprus                              1.833512  0.506968        0.738219   \nCzech Republic                      4.235414  0.681365        0.496083   \nDenmark                             0.171892  1.069385        0.830496   \nEstonia                             0.687567  1.425847        0.830496   \nFinland                             2.072251  0.332698        0.780513   \nFrance                              1.106670  0.860251        1.042474   \nGermany                             1.488548  0.932925        0.697399   \nGreece                              0.875086  1.004509        0.875491   \nHungary                             1.709279  0.472617        2.535471   \nIreland                             0.469558  0.995388        0.693206   \nItaly                               1.565019  0.667865        0.984018   \nLatvia                              8.422698  0.332698        0.000000   \nLithuania                           4.388296  0.626254        0.797928   \nLuxembourg                          1.871711  0.739328        0.861255   \nMalta                               0.000000  0.000000        0.000000   \nNetherlands                         0.718737  0.837511        1.612270   \nPoland                              2.121636  0.977724        0.632759   \nPortugal                            1.871711  0.887194        0.710536   \nRomania                             0.953922  0.839237        0.872894   \nSlovakia                            4.647006  1.101344        0.133643   \nSlovenia                            2.317356  0.443597        0.861255   \nSpain                               1.636860  0.844979        0.822291   \nSweden                              1.093857  0.812301        1.535160   \nAustralia                           0.625061  0.785591        1.381873   \nCanada                              0.455966  0.933888        1.468667   \nChina                               0.462569  1.184497        1.109212   \nIceland                             5.775564  0.532316        0.000000   \nIsrael                              3.208647  0.554496        0.322971   \nJapan                               0.399567  1.024458        0.760505   \nNorway                              1.002702  1.090509        1.345712   \nSouth Korea                         0.385038  1.053226        1.007669   \nSwitzerland                         0.646802  0.894207        2.052715   \nUnited Kingdom                      1.370336  0.867382        0.968236   \nUnited States                       0.755780  1.014900        1.106317   \n\n                SDG17-IOT  SDG17-computing_infrastructure  SDG17-blockchain  \\\nAustria          0.707549                        0.830587          0.916662   \nBelgium          1.699000                        0.536242          0.394543   \nBulgaria         2.072994                        1.444875          0.000000   \nCroatia          1.880157                        1.008052          0.000000   \nCyprus           1.776852                        1.238464          0.000000   \nCzech Republic   0.845781                        0.000000          0.306165   \nDenmark          0.832899                        2.244716          1.025107   \nEstonia          0.666319                        0.619232          0.000000   \nFinland          1.619526                        1.324468          2.657684   \nFrance           1.119686                        1.448009          0.830166   \nGermany          1.072439                        0.641866          0.896688   \nGreece           1.113592                        1.050818          0.210858   \nHungary          0.929941                        0.972252          0.357670   \nIreland          1.365142                        0.775299          1.555718   \nItaly            1.343522                        0.894599          1.079647   \nLatvia           0.000000                        0.000000          0.000000   \nLithuania        0.640189                        0.382467          0.562804   \nLuxembourg       0.863747                        1.926500          1.063074   \nMalta            0.000000                        8.669248          0.000000   \nNetherlands      0.547270                        1.132782          1.122606   \nPoland           0.812275                        0.920002          1.249654   \nPortugal         1.053772                        0.891006          0.318922   \nRomania          1.680806                        0.312405          0.517171   \nSlovakia         0.214448                        0.149470          0.000000   \nSlovenia         1.266830                        0.642167          0.708716   \nSpain            1.285515                        0.885859          0.298523   \nSweden           1.049958                        0.956995          1.118298   \nAustralia        0.961850                        1.514815          1.174778   \nCanada           0.992855                        1.216737          1.745679   \nChina            0.854234                        1.142873          1.074150   \nIceland          1.243796                        0.000000          0.000000   \nIsrael           0.000000                        0.000000          0.000000   \nJapan            1.032586                        1.210423          0.433253   \nNorway           0.561436                        0.842844          1.063074   \nSouth Korea      1.430366                        1.089848          1.148120   \nSwitzerland      0.983238                        0.445455          1.210139   \nUnited Kingdom   1.076279                        0.865110          1.335333   \nUnited States    0.751350                        0.973510          1.001606   \n\n                SDG17-robotics  SDG17-additive_manufacturing  \nAustria               1.343979                      1.441009  \nBelgium               0.520619                      1.240456  \nBulgaria              0.000000                      0.000000  \nCroatia               0.782946                      1.343154  \nCyprus                1.068783                      1.833512  \nCzech Republic        1.077333                      4.235414  \nDenmark               0.601190                      0.171892  \nEstonia               1.202381                      0.687567  \nFinland               0.857253                      2.072251  \nFrance                0.657267                      1.106670  \nGermany               1.514527                      1.488548  \nGreece                1.267524                      0.875086  \nHungary               0.524403                      1.709279  \nIreland               1.551039                      0.469558  \nItaly                 1.258022                      1.565019  \nLatvia                0.000000                      8.422698  \nLithuania             0.495098                      4.388296  \nLuxembourg            0.311728                      1.871711  \nMalta                 0.000000                      0.000000  \nNetherlands           1.735704                      0.718737  \nPoland                0.687075                      2.121636  \nPortugal              1.122222                      1.871711  \nRomania               1.718719                      0.953922  \nSlovakia              0.386973                      4.647006  \nSlovenia              2.078189                      2.317356  \nSpain                 1.006674                      1.636860  \nSweden                0.838023                      1.093857  \nAustralia             1.139446                      0.625061  \nCanada                0.748148                      0.455966  \nChina                 0.746876                      0.462569  \nIceland               0.000000                      5.775564  \nIsrael                4.675926                      3.208647  \nJapan                 1.778616                      0.399567  \nNorway                1.091049                      1.002702  \nSouth Korea           0.545079                      0.385038  \nSwitzerland           1.020202                      0.646802  \nUnited Kingdom        1.112042                      1.370336  \nUnited States         1.550484                      0.755780  \n\n[38 rows x 119 columns]",
      "text/html": "<div>\n<style scoped>\n    .dataframe tbody tr th:only-of-type {\n        vertical-align: middle;\n    }\n\n    .dataframe tbody tr th {\n        vertical-align: top;\n    }\n\n    .dataframe thead th {\n        text-align: right;\n    }\n</style>\n<table border=\"1\" class=\"dataframe\">\n  <thead>\n    <tr style=\"text-align: right;\">\n      <th></th>\n      <th>SDG1-AI</th>\n      <th>SDG1-big_data</th>\n      <th>SDG1-IOT</th>\n      <th>SDG1-computing_infrastructure</th>\n      <th>SDG1-blockchain</th>\n      <th>SDG1-robotics</th>\n      <th>SDG1-additive_manufacturing</th>\n      <th>SDG2-AI</th>\n      <th>SDG2-big_data</th>\n      <th>SDG2-IOT</th>\n      <th>...</th>\n      <th>SDG16-blockchain</th>\n      <th>SDG16-robotics</th>\n      <th>SDG16-additive_manufacturing</th>\n      <th>SDG17-AI</th>\n      <th>SDG17-big_data</th>\n      <th>SDG17-IOT</th>\n      <th>SDG17-computing_infrastructure</th>\n      <th>SDG17-blockchain</th>\n      <th>SDG17-robotics</th>\n      <th>SDG17-additive_manufacturing</th>\n    </tr>\n  </thead>\n  <tbody>\n    <tr>\n      <th>Austria</th>\n      <td>1.083758</td>\n      <td>0.696224</td>\n      <td>0.707549</td>\n      <td>0.830587</td>\n      <td>0.916662</td>\n      <td>1.343979</td>\n      <td>1.441009</td>\n      <td>1.083758</td>\n      <td>0.696224</td>\n      <td>0.707549</td>\n      <td>...</td>\n      <td>0.916662</td>\n      <td>1.343979</td>\n      <td>1.441009</td>\n      <td>1.083758</td>\n      <td>0.696224</td>\n      <td>0.707549</td>\n      <td>0.830587</td>\n      <td>0.916662</td>\n      <td>1.343979</td>\n      <td>1.441009</td>\n    </tr>\n    <tr>\n      <th>Belgium</th>\n      <td>1.042681</td>\n      <td>0.679237</td>\n      <td>1.699000</td>\n      <td>0.536242</td>\n      <td>0.394543</td>\n      <td>0.520619</td>\n      <td>1.240456</td>\n      <td>1.042681</td>\n      <td>0.679237</td>\n      <td>1.699000</td>\n      <td>...</td>\n      <td>0.394543</td>\n      <td>0.520619</td>\n      <td>1.240456</td>\n      <td>1.042681</td>\n      <td>0.679237</td>\n      <td>1.699000</td>\n      <td>0.536242</td>\n      <td>0.394543</td>\n      <td>0.520619</td>\n      <td>1.240456</td>\n    </tr>\n    <tr>\n      <th>Bulgaria</th>\n      <td>1.330791</td>\n      <td>0.000000</td>\n      <td>2.072994</td>\n      <td>1.444875</td>\n      <td>0.000000</td>\n      <td>0.000000</td>\n      <td>0.000000</td>\n      <td>1.330791</td>\n      <td>0.000000</td>\n      <td>2.072994</td>\n      <td>...</td>\n      <td>0.000000</td>\n      <td>0.000000</td>\n      <td>0.000000</td>\n      <td>1.330791</td>\n      <td>0.000000</td>\n      <td>2.072994</td>\n      <td>1.444875</td>\n      <td>0.000000</td>\n      <td>0.000000</td>\n      <td>0.000000</td>\n    </tr>\n    <tr>\n      <th>Croatia</th>\n      <td>0.618972</td>\n      <td>1.081577</td>\n      <td>1.880157</td>\n      <td>1.008052</td>\n      <td>0.000000</td>\n      <td>0.782946</td>\n      <td>1.343154</td>\n      <td>0.618972</td>\n      <td>1.081577</td>\n      <td>1.880157</td>\n      <td>...</td>\n      <td>0.000000</td>\n      <td>0.782946</td>\n      <td>1.343154</td>\n      <td>0.618972</td>\n      <td>1.081577</td>\n      <td>1.880157</td>\n      <td>1.008052</td>\n      <td>0.000000</td>\n      <td>0.782946</td>\n      <td>1.343154</td>\n    </tr>\n    <tr>\n      <th>Cyprus</th>\n      <td>0.506968</td>\n      <td>0.738219</td>\n      <td>1.776852</td>\n      <td>1.238464</td>\n      <td>0.000000</td>\n      <td>1.068783</td>\n      <td>1.833512</td>\n      <td>0.506968</td>\n      <td>0.738219</td>\n      <td>1.776852</td>\n      <td>...</td>\n      <td>0.000000</td>\n      <td>1.068783</td>\n      <td>1.833512</td>\n      <td>0.506968</td>\n      <td>0.738219</td>\n      <td>1.776852</td>\n      <td>1.238464</td>\n      <td>0.000000</td>\n      <td>1.068783</td>\n      <td>1.833512</td>\n    </tr>\n    <tr>\n      <th>Czech Republic</th>\n      <td>0.681365</td>\n      <td>0.496083</td>\n      <td>0.845781</td>\n      <td>0.000000</td>\n      <td>0.306165</td>\n      <td>1.077333</td>\n      <td>4.235414</td>\n      <td>0.681365</td>\n      <td>0.496083</td>\n      <td>0.845781</td>\n      <td>...</td>\n      <td>0.306165</td>\n      <td>1.077333</td>\n      <td>4.235414</td>\n      <td>0.681365</td>\n      <td>0.496083</td>\n      <td>0.845781</td>\n      <td>0.000000</td>\n      <td>0.306165</td>\n      <td>1.077333</td>\n      <td>4.235414</td>\n    </tr>\n    <tr>\n      <th>Denmark</th>\n      <td>1.069385</td>\n      <td>0.830496</td>\n      <td>0.832899</td>\n      <td>2.244716</td>\n      <td>1.025107</td>\n      <td>0.601190</td>\n      <td>0.171892</td>\n      <td>1.069385</td>\n      <td>0.830496</td>\n      <td>0.832899</td>\n      <td>...</td>\n      <td>1.025107</td>\n      <td>0.601190</td>\n      <td>0.171892</td>\n      <td>1.069385</td>\n      <td>0.830496</td>\n      <td>0.832899</td>\n      <td>2.244716</td>\n      <td>1.025107</td>\n      <td>0.601190</td>\n      <td>0.171892</td>\n    </tr>\n    <tr>\n      <th>Estonia</th>\n      <td>1.425847</td>\n      <td>0.830496</td>\n      <td>0.666319</td>\n      <td>0.619232</td>\n      <td>0.000000</td>\n      <td>1.202381</td>\n      <td>0.687567</td>\n      <td>1.425847</td>\n      <td>0.830496</td>\n      <td>0.666319</td>\n      <td>...</td>\n      <td>0.000000</td>\n      <td>1.202381</td>\n      <td>0.687567</td>\n      <td>1.425847</td>\n      <td>0.830496</td>\n      <td>0.666319</td>\n      <td>0.619232</td>\n      <td>0.000000</td>\n      <td>1.202381</td>\n      <td>0.687567</td>\n    </tr>\n    <tr>\n      <th>Finland</th>\n      <td>0.332698</td>\n      <td>0.780513</td>\n      <td>1.619526</td>\n      <td>1.324468</td>\n      <td>2.657684</td>\n      <td>0.857253</td>\n      <td>2.072251</td>\n      <td>0.332698</td>\n      <td>0.780513</td>\n      <td>1.619526</td>\n      <td>...</td>\n      <td>2.657684</td>\n      <td>0.857253</td>\n      <td>2.072251</td>\n      <td>0.332698</td>\n      <td>0.780513</td>\n      <td>1.619526</td>\n      <td>1.324468</td>\n      <td>2.657684</td>\n      <td>0.857253</td>\n      <td>2.072251</td>\n    </tr>\n    <tr>\n      <th>France</th>\n      <td>0.860251</td>\n      <td>1.042474</td>\n      <td>1.119686</td>\n      <td>1.448009</td>\n      <td>0.830166</td>\n      <td>0.657267</td>\n      <td>1.106670</td>\n      <td>0.860251</td>\n      <td>1.042474</td>\n      <td>1.119686</td>\n      <td>...</td>\n      <td>0.830166</td>\n      <td>0.657267</td>\n      <td>1.106670</td>\n      <td>0.860251</td>\n      <td>1.042474</td>\n      <td>1.119686</td>\n      <td>1.448009</td>\n      <td>0.830166</td>\n      <td>0.657267</td>\n      <td>1.106670</td>\n    </tr>\n    <tr>\n      <th>Germany</th>\n      <td>0.932925</td>\n      <td>0.697399</td>\n      <td>1.072439</td>\n      <td>0.641866</td>\n      <td>0.896688</td>\n      <td>1.514527</td>\n      <td>1.488548</td>\n      <td>0.932925</td>\n      <td>0.697399</td>\n      <td>1.072439</td>\n      <td>...</td>\n      <td>0.896688</td>\n      <td>1.514527</td>\n      <td>1.488548</td>\n      <td>0.932925</td>\n      <td>0.697399</td>\n      <td>1.072439</td>\n      <td>0.641866</td>\n      <td>0.896688</td>\n      <td>1.514527</td>\n      <td>1.488548</td>\n    </tr>\n    <tr>\n      <th>Greece</th>\n      <td>1.004509</td>\n      <td>0.875491</td>\n      <td>1.113592</td>\n      <td>1.050818</td>\n      <td>0.210858</td>\n      <td>1.267524</td>\n      <td>0.875086</td>\n      <td>1.004509</td>\n      <td>0.875491</td>\n      <td>1.113592</td>\n      <td>...</td>\n      <td>0.210858</td>\n      <td>1.267524</td>\n      <td>0.875086</td>\n      <td>1.004509</td>\n      <td>0.875491</td>\n      <td>1.113592</td>\n      <td>1.050818</td>\n      <td>0.210858</td>\n      <td>1.267524</td>\n      <td>0.875086</td>\n    </tr>\n    <tr>\n      <th>Hungary</th>\n      <td>0.472617</td>\n      <td>2.535471</td>\n      <td>0.929941</td>\n      <td>0.972252</td>\n      <td>0.357670</td>\n      <td>0.524403</td>\n      <td>1.709279</td>\n      <td>0.472617</td>\n      <td>2.535471</td>\n      <td>0.929941</td>\n      <td>...</td>\n      <td>0.357670</td>\n      <td>0.524403</td>\n      <td>1.709279</td>\n      <td>0.472617</td>\n      <td>2.535471</td>\n      <td>0.929941</td>\n      <td>0.972252</td>\n      <td>0.357670</td>\n      <td>0.524403</td>\n      <td>1.709279</td>\n    </tr>\n    <tr>\n      <th>Ireland</th>\n      <td>0.995388</td>\n      <td>0.693206</td>\n      <td>1.365142</td>\n      <td>0.775299</td>\n      <td>1.555718</td>\n      <td>1.551039</td>\n      <td>0.469558</td>\n      <td>0.995388</td>\n      <td>0.693206</td>\n      <td>1.365142</td>\n      <td>...</td>\n      <td>1.555718</td>\n      <td>1.551039</td>\n      <td>0.469558</td>\n      <td>0.995388</td>\n      <td>0.693206</td>\n      <td>1.365142</td>\n      <td>0.775299</td>\n      <td>1.555718</td>\n      <td>1.551039</td>\n      <td>0.469558</td>\n    </tr>\n    <tr>\n      <th>Italy</th>\n      <td>0.667865</td>\n      <td>0.984018</td>\n      <td>1.343522</td>\n      <td>0.894599</td>\n      <td>1.079647</td>\n      <td>1.258022</td>\n      <td>1.565019</td>\n      <td>0.667865</td>\n      <td>0.984018</td>\n      <td>1.343522</td>\n      <td>...</td>\n      <td>1.079647</td>\n      <td>1.258022</td>\n      <td>1.565019</td>\n      <td>0.667865</td>\n      <td>0.984018</td>\n      <td>1.343522</td>\n      <td>0.894599</td>\n      <td>1.079647</td>\n      <td>1.258022</td>\n      <td>1.565019</td>\n    </tr>\n    <tr>\n      <th>Latvia</th>\n      <td>0.332698</td>\n      <td>0.000000</td>\n      <td>0.000000</td>\n      <td>0.000000</td>\n      <td>0.000000</td>\n      <td>0.000000</td>\n      <td>8.422698</td>\n      <td>0.332698</td>\n      <td>0.000000</td>\n      <td>0.000000</td>\n      <td>...</td>\n      <td>0.000000</td>\n      <td>0.000000</td>\n      <td>8.422698</td>\n      <td>0.332698</td>\n      <td>0.000000</td>\n      <td>0.000000</td>\n      <td>0.000000</td>\n      <td>0.000000</td>\n      <td>0.000000</td>\n      <td>8.422698</td>\n    </tr>\n    <tr>\n      <th>Lithuania</th>\n      <td>0.626254</td>\n      <td>0.797928</td>\n      <td>0.640189</td>\n      <td>0.382467</td>\n      <td>0.562804</td>\n      <td>0.495098</td>\n      <td>4.388296</td>\n      <td>0.626254</td>\n      <td>0.797928</td>\n      <td>0.640189</td>\n      <td>...</td>\n      <td>0.562804</td>\n      <td>0.495098</td>\n      <td>4.388296</td>\n      <td>0.626254</td>\n      <td>0.797928</td>\n      <td>0.640189</td>\n      <td>0.382467</td>\n      <td>0.562804</td>\n      <td>0.495098</td>\n      <td>4.388296</td>\n    </tr>\n    <tr>\n      <th>Luxembourg</th>\n      <td>0.739328</td>\n      <td>0.861255</td>\n      <td>0.863747</td>\n      <td>1.926500</td>\n      <td>1.063074</td>\n      <td>0.311728</td>\n      <td>1.871711</td>\n      <td>0.739328</td>\n      <td>0.861255</td>\n      <td>0.863747</td>\n      <td>...</td>\n      <td>1.063074</td>\n      <td>0.311728</td>\n      <td>1.871711</td>\n      <td>0.739328</td>\n      <td>0.861255</td>\n      <td>0.863747</td>\n      <td>1.926500</td>\n      <td>1.063074</td>\n      <td>0.311728</td>\n      <td>1.871711</td>\n    </tr>\n    <tr>\n      <th>Malta</th>\n      <td>0.000000</td>\n      <td>0.000000</td>\n      <td>0.000000</td>\n      <td>8.669248</td>\n      <td>0.000000</td>\n      <td>0.000000</td>\n      <td>0.000000</td>\n      <td>0.000000</td>\n      <td>0.000000</td>\n      <td>0.000000</td>\n      <td>...</td>\n      <td>0.000000</td>\n      <td>0.000000</td>\n      <td>0.000000</td>\n      <td>0.000000</td>\n      <td>0.000000</td>\n      <td>0.000000</td>\n      <td>8.669248</td>\n      <td>0.000000</td>\n      <td>0.000000</td>\n      <td>0.000000</td>\n    </tr>\n    <tr>\n      <th>Netherlands</th>\n      <td>0.837511</td>\n      <td>1.612270</td>\n      <td>0.547270</td>\n      <td>1.132782</td>\n      <td>1.122606</td>\n      <td>1.735704</td>\n      <td>0.718737</td>\n      <td>0.837511</td>\n      <td>1.612270</td>\n      <td>0.547270</td>\n      <td>...</td>\n      <td>1.122606</td>\n      <td>1.735704</td>\n      <td>0.718737</td>\n      <td>0.837511</td>\n      <td>1.612270</td>\n      <td>0.547270</td>\n      <td>1.132782</td>\n      <td>1.122606</td>\n      <td>1.735704</td>\n      <td>0.718737</td>\n    </tr>\n    <tr>\n      <th>Poland</th>\n      <td>0.977724</td>\n      <td>0.632759</td>\n      <td>0.812275</td>\n      <td>0.920002</td>\n      <td>1.249654</td>\n      <td>0.687075</td>\n      <td>2.121636</td>\n      <td>0.977724</td>\n      <td>0.632759</td>\n      <td>0.812275</td>\n      <td>...</td>\n      <td>1.249654</td>\n      <td>0.687075</td>\n      <td>2.121636</td>\n      <td>0.977724</td>\n      <td>0.632759</td>\n      <td>0.812275</td>\n      <td>0.920002</td>\n      <td>1.249654</td>\n      <td>0.687075</td>\n      <td>2.121636</td>\n    </tr>\n    <tr>\n      <th>Portugal</th>\n      <td>0.887194</td>\n      <td>0.710536</td>\n      <td>1.053772</td>\n      <td>0.891006</td>\n      <td>0.318922</td>\n      <td>1.122222</td>\n      <td>1.871711</td>\n      <td>0.887194</td>\n      <td>0.710536</td>\n      <td>1.053772</td>\n      <td>...</td>\n      <td>0.318922</td>\n      <td>1.122222</td>\n      <td>1.871711</td>\n      <td>0.887194</td>\n      <td>0.710536</td>\n      <td>1.053772</td>\n      <td>0.891006</td>\n      <td>0.318922</td>\n      <td>1.122222</td>\n      <td>1.871711</td>\n    </tr>\n    <tr>\n      <th>Romania</th>\n      <td>0.839237</td>\n      <td>0.872894</td>\n      <td>1.680806</td>\n      <td>0.312405</td>\n      <td>0.517171</td>\n      <td>1.718719</td>\n      <td>0.953922</td>\n      <td>0.839237</td>\n      <td>0.872894</td>\n      <td>1.680806</td>\n      <td>...</td>\n      <td>0.517171</td>\n      <td>1.718719</td>\n      <td>0.953922</td>\n      <td>0.839237</td>\n      <td>0.872894</td>\n      <td>1.680806</td>\n      <td>0.312405</td>\n      <td>0.517171</td>\n      <td>1.718719</td>\n      <td>0.953922</td>\n    </tr>\n    <tr>\n      <th>Slovakia</th>\n      <td>1.101344</td>\n      <td>0.133643</td>\n      <td>0.214448</td>\n      <td>0.149470</td>\n      <td>0.000000</td>\n      <td>0.386973</td>\n      <td>4.647006</td>\n      <td>1.101344</td>\n      <td>0.133643</td>\n      <td>0.214448</td>\n      <td>...</td>\n      <td>0.000000</td>\n      <td>0.386973</td>\n      <td>4.647006</td>\n      <td>1.101344</td>\n      <td>0.133643</td>\n      <td>0.214448</td>\n      <td>0.149470</td>\n      <td>0.000000</td>\n      <td>0.386973</td>\n      <td>4.647006</td>\n    </tr>\n    <tr>\n      <th>Slovenia</th>\n      <td>0.443597</td>\n      <td>0.861255</td>\n      <td>1.266830</td>\n      <td>0.642167</td>\n      <td>0.708716</td>\n      <td>2.078189</td>\n      <td>2.317356</td>\n      <td>0.443597</td>\n      <td>0.861255</td>\n      <td>1.266830</td>\n      <td>...</td>\n      <td>0.708716</td>\n      <td>2.078189</td>\n      <td>2.317356</td>\n      <td>0.443597</td>\n      <td>0.861255</td>\n      <td>1.266830</td>\n      <td>0.642167</td>\n      <td>0.708716</td>\n      <td>2.078189</td>\n      <td>2.317356</td>\n    </tr>\n    <tr>\n      <th>Spain</th>\n      <td>0.844979</td>\n      <td>0.822291</td>\n      <td>1.285515</td>\n      <td>0.885859</td>\n      <td>0.298523</td>\n      <td>1.006674</td>\n      <td>1.636860</td>\n      <td>0.844979</td>\n      <td>0.822291</td>\n      <td>1.285515</td>\n      <td>...</td>\n      <td>0.298523</td>\n      <td>1.006674</td>\n      <td>1.636860</td>\n      <td>0.844979</td>\n      <td>0.822291</td>\n      <td>1.285515</td>\n      <td>0.885859</td>\n      <td>0.298523</td>\n      <td>1.006674</td>\n      <td>1.636860</td>\n    </tr>\n    <tr>\n      <th>Sweden</th>\n      <td>0.812301</td>\n      <td>1.535160</td>\n      <td>1.049958</td>\n      <td>0.956995</td>\n      <td>1.118298</td>\n      <td>0.838023</td>\n      <td>1.093857</td>\n      <td>0.812301</td>\n      <td>1.535160</td>\n      <td>1.049958</td>\n      <td>...</td>\n      <td>1.118298</td>\n      <td>0.838023</td>\n      <td>1.093857</td>\n      <td>0.812301</td>\n      <td>1.535160</td>\n      <td>1.049958</td>\n      <td>0.956995</td>\n      <td>1.118298</td>\n      <td>0.838023</td>\n      <td>1.093857</td>\n    </tr>\n    <tr>\n      <th>Australia</th>\n      <td>0.785591</td>\n      <td>1.381873</td>\n      <td>0.961850</td>\n      <td>1.514815</td>\n      <td>1.174778</td>\n      <td>1.139446</td>\n      <td>0.625061</td>\n      <td>0.785591</td>\n      <td>1.381873</td>\n      <td>0.961850</td>\n      <td>...</td>\n      <td>1.174778</td>\n      <td>1.139446</td>\n      <td>0.625061</td>\n      <td>0.785591</td>\n      <td>1.381873</td>\n      <td>0.961850</td>\n      <td>1.514815</td>\n      <td>1.174778</td>\n      <td>1.139446</td>\n      <td>0.625061</td>\n    </tr>\n    <tr>\n      <th>Canada</th>\n      <td>0.933888</td>\n      <td>1.468667</td>\n      <td>0.992855</td>\n      <td>1.216737</td>\n      <td>1.745679</td>\n      <td>0.748148</td>\n      <td>0.455966</td>\n      <td>0.933888</td>\n      <td>1.468667</td>\n      <td>0.992855</td>\n      <td>...</td>\n      <td>1.745679</td>\n      <td>0.748148</td>\n      <td>0.455966</td>\n      <td>0.933888</td>\n      <td>1.468667</td>\n      <td>0.992855</td>\n      <td>1.216737</td>\n      <td>1.745679</td>\n      <td>0.748148</td>\n      <td>0.455966</td>\n    </tr>\n    <tr>\n      <th>China</th>\n      <td>1.184497</td>\n      <td>1.109212</td>\n      <td>0.854234</td>\n      <td>1.142873</td>\n      <td>1.074150</td>\n      <td>0.746876</td>\n      <td>0.462569</td>\n      <td>1.184497</td>\n      <td>1.109212</td>\n      <td>0.854234</td>\n      <td>...</td>\n      <td>1.074150</td>\n      <td>0.746876</td>\n      <td>0.462569</td>\n      <td>1.184497</td>\n      <td>1.109212</td>\n      <td>0.854234</td>\n      <td>1.142873</td>\n      <td>1.074150</td>\n      <td>0.746876</td>\n      <td>0.462569</td>\n    </tr>\n    <tr>\n      <th>Iceland</th>\n      <td>0.532316</td>\n      <td>0.000000</td>\n      <td>1.243796</td>\n      <td>0.000000</td>\n      <td>0.000000</td>\n      <td>0.000000</td>\n      <td>5.775564</td>\n      <td>0.532316</td>\n      <td>0.000000</td>\n      <td>1.243796</td>\n      <td>...</td>\n      <td>0.000000</td>\n      <td>0.000000</td>\n      <td>5.775564</td>\n      <td>0.532316</td>\n      <td>0.000000</td>\n      <td>1.243796</td>\n      <td>0.000000</td>\n      <td>0.000000</td>\n      <td>0.000000</td>\n      <td>5.775564</td>\n    </tr>\n    <tr>\n      <th>Israel</th>\n      <td>0.554496</td>\n      <td>0.322971</td>\n      <td>0.000000</td>\n      <td>0.000000</td>\n      <td>0.000000</td>\n      <td>4.675926</td>\n      <td>3.208647</td>\n      <td>0.554496</td>\n      <td>0.322971</td>\n      <td>0.000000</td>\n      <td>...</td>\n      <td>0.000000</td>\n      <td>4.675926</td>\n      <td>3.208647</td>\n      <td>0.554496</td>\n      <td>0.322971</td>\n      <td>0.000000</td>\n      <td>0.000000</td>\n      <td>0.000000</td>\n      <td>4.675926</td>\n      <td>3.208647</td>\n    </tr>\n    <tr>\n      <th>Japan</th>\n      <td>1.024458</td>\n      <td>0.760505</td>\n      <td>1.032586</td>\n      <td>1.210423</td>\n      <td>0.433253</td>\n      <td>1.778616</td>\n      <td>0.399567</td>\n      <td>1.024458</td>\n      <td>0.760505</td>\n      <td>1.032586</td>\n      <td>...</td>\n      <td>0.433253</td>\n      <td>1.778616</td>\n      <td>0.399567</td>\n      <td>1.024458</td>\n      <td>0.760505</td>\n      <td>1.032586</td>\n      <td>1.210423</td>\n      <td>0.433253</td>\n      <td>1.778616</td>\n      <td>0.399567</td>\n    </tr>\n    <tr>\n      <th>Norway</th>\n      <td>1.090509</td>\n      <td>1.345712</td>\n      <td>0.561436</td>\n      <td>0.842844</td>\n      <td>1.063074</td>\n      <td>1.091049</td>\n      <td>1.002702</td>\n      <td>1.090509</td>\n      <td>1.345712</td>\n      <td>0.561436</td>\n      <td>...</td>\n      <td>1.063074</td>\n      <td>1.091049</td>\n      <td>1.002702</td>\n      <td>1.090509</td>\n      <td>1.345712</td>\n      <td>0.561436</td>\n      <td>0.842844</td>\n      <td>1.063074</td>\n      <td>1.091049</td>\n      <td>1.002702</td>\n    </tr>\n    <tr>\n      <th>South Korea</th>\n      <td>1.053226</td>\n      <td>1.007669</td>\n      <td>1.430366</td>\n      <td>1.089848</td>\n      <td>1.148120</td>\n      <td>0.545079</td>\n      <td>0.385038</td>\n      <td>1.053226</td>\n      <td>1.007669</td>\n      <td>1.430366</td>\n      <td>...</td>\n      <td>1.148120</td>\n      <td>0.545079</td>\n      <td>0.385038</td>\n      <td>1.053226</td>\n      <td>1.007669</td>\n      <td>1.430366</td>\n      <td>1.089848</td>\n      <td>1.148120</td>\n      <td>0.545079</td>\n      <td>0.385038</td>\n    </tr>\n    <tr>\n      <th>Switzerland</th>\n      <td>0.894207</td>\n      <td>2.052715</td>\n      <td>0.983238</td>\n      <td>0.445455</td>\n      <td>1.210139</td>\n      <td>1.020202</td>\n      <td>0.646802</td>\n      <td>0.894207</td>\n      <td>2.052715</td>\n      <td>0.983238</td>\n      <td>...</td>\n      <td>1.210139</td>\n      <td>1.020202</td>\n      <td>0.646802</td>\n      <td>0.894207</td>\n      <td>2.052715</td>\n      <td>0.983238</td>\n      <td>0.445455</td>\n      <td>1.210139</td>\n      <td>1.020202</td>\n      <td>0.646802</td>\n    </tr>\n    <tr>\n      <th>United Kingdom</th>\n      <td>0.867382</td>\n      <td>0.968236</td>\n      <td>1.076279</td>\n      <td>0.865110</td>\n      <td>1.335333</td>\n      <td>1.112042</td>\n      <td>1.370336</td>\n      <td>0.867382</td>\n      <td>0.968236</td>\n      <td>1.076279</td>\n      <td>...</td>\n      <td>1.335333</td>\n      <td>1.112042</td>\n      <td>1.370336</td>\n      <td>0.867382</td>\n      <td>0.968236</td>\n      <td>1.076279</td>\n      <td>0.865110</td>\n      <td>1.335333</td>\n      <td>1.112042</td>\n      <td>1.370336</td>\n    </tr>\n    <tr>\n      <th>United States</th>\n      <td>1.014900</td>\n      <td>1.106317</td>\n      <td>0.751350</td>\n      <td>0.973510</td>\n      <td>1.001606</td>\n      <td>1.550484</td>\n      <td>0.755780</td>\n      <td>1.014900</td>\n      <td>1.106317</td>\n      <td>0.751350</td>\n      <td>...</td>\n      <td>1.001606</td>\n      <td>1.550484</td>\n      <td>0.755780</td>\n      <td>1.014900</td>\n      <td>1.106317</td>\n      <td>0.751350</td>\n      <td>0.973510</td>\n      <td>1.001606</td>\n      <td>1.550484</td>\n      <td>0.755780</td>\n    </tr>\n  </tbody>\n</table>\n<p>38 rows × 119 columns</p>\n</div>"
     },
     "execution_count": 42,
     "metadata": {},
     "output_type": "execute_result"
    }
   ],
   "source": [
    "lst_df_spec[-1]"
   ],
   "metadata": {
    "collapsed": false
   }
  },
  {
   "cell_type": "code",
   "execution_count": 43,
   "outputs": [],
   "source": [
    "with pd.ExcelWriter('output.xlsx') as writer:\n",
    "     for i, df in enumerate(lst_df_spec):\n",
    "        df.to_excel(writer, sheet_name=f'Sheet{i+1}')"
   ],
   "metadata": {
    "collapsed": false
   }
  },
  {
   "cell_type": "markdown",
   "source": [
    "## New Specialization graphs"
   ],
   "metadata": {
    "collapsed": false
   }
  },
  {
   "cell_type": "code",
   "execution_count": 50,
   "outputs": [],
   "source": [
    "def transform_discrete_value(value):\n",
    "    if value < 0.75:\n",
    "        return \"Under-specialized (RTA < 0.75)\"\n",
    "    elif 0.75 <= value <= 1.25:\n",
    "        return \"Not-specialized (0.75 <= RTA <= 1.25)\"\n",
    "    elif value > 1.25:\n",
    "        return \"Specialized (RTA > 1.25)\"\n",
    "    else:\n",
    "        return \"error\""
   ],
   "metadata": {
    "collapsed": false
   }
  },
  {
   "cell_type": "markdown",
   "source": [],
   "metadata": {
    "collapsed": false
   }
  },
  {
   "cell_type": "code",
   "execution_count": 51,
   "outputs": [],
   "source": [
    "def reorder_values(dataframe, col):\n",
    "    \"\"\"\n",
    "\n",
    "    Args:\n",
    "        dataframe:\n",
    "        col:\n",
    "\n",
    "    Returns:\n",
    "        The dataframe reordered so that Specialized is on top, Not specialized in the middle, and under specialized is\n",
    "        at the bottom of the legend\n",
    "    \"\"\"\n",
    "    lst_index = list(dataframe.index)\n",
    "\n",
    "    bottom_index = dataframe.loc[dataframe[col] == \"Under-specialized (RTA < 0.75)\"].index\n",
    "    middle_index = dataframe.loc[dataframe[col] == \"Not-specialized (0.75 <= RTA <= 1.25)\"].index\n",
    "    top_index = dataframe.loc[dataframe[col] == \"Specialized (RTA > 1.25)\"].index\n",
    "\n",
    "    new_order = [top_index, middle_index, bottom_index]\n",
    "    new_order_single_elem = []\n",
    "    for elem in new_order:\n",
    "        if len(elem) > 0:\n",
    "            new_order_single_elem.append(elem[0])\n",
    "            lst_index.remove(elem[0])\n",
    "\n",
    "    return new_order_single_elem + lst_index"
   ],
   "metadata": {
    "collapsed": false
   }
  },
  {
   "cell_type": "code",
   "execution_count": 25,
   "outputs": [],
   "source": [],
   "metadata": {
    "collapsed": false
   }
  },
  {
   "cell_type": "markdown",
   "source": [
    "\n",
    "\n",
    "### CATGORIES SPEC GRAPHS"
   ],
   "metadata": {
    "collapsed": false
   }
  },
  {
   "cell_type": "code",
   "execution_count": 52,
   "outputs": [],
   "source": [
    "import plotly.express as px\n",
    "# df_spec_cat = pd.read_excel(\"../img/Commission/spec_fractional.xlsx\", sheet_name=\"cat\", index_col=0)\n",
    "df_spec_cat = pd.read_excel(\"../img/Commission/spec.xlsx\", sheet_name=\"categories\", index_col=0)\n",
    "df_spec_cat = df_spec_cat.loc[lst_eu, :]\n",
    "df_spec_cat = df_spec_cat.apply(np.vectorize(transform_discrete_value))\n",
    "\n",
    "\n",
    "for cat in lst_cat:\n",
    "    ordered_index = reorder_values(df_spec_cat, cat)\n",
    "    fig = px.choropleth(\n",
    "        # locations=df_spec_cat.loc[lst_eu, :].index,\n",
    "        locations=ordered_index,\n",
    "        color=df_spec_cat.loc[ordered_index, cat],\n",
    "        color_discrete_map={\"Under-specialized (RTA < 0.75)\":\"#2ECBE9\", \"Not-specialized (0.75 <= RTA <= 1.25)\":\"#128FC8\", \"Specialized (RTA > 1.25)\":\"#00468B\"},\n",
    "        locationmode=\"country names\",\n",
    "    )\n",
    "\n",
    "    fig.update_layout(\n",
    "        template='simple_white',\n",
    "        font=dict(size=18),\n",
    "        showlegend=True,\n",
    "        legend=dict\n",
    "            (\n",
    "            title=\"Specialization\",\n",
    "            yanchor=\"top\",\n",
    "            y=1,\n",
    "            xanchor=\"left\",\n",
    "            x=0.048,\n",
    "            bordercolor=\"Black\",\n",
    "            borderwidth=2\n",
    "            ),\n",
    "        geo=go.layout.Geo(\n",
    "            scope=\"world\",\n",
    "            landcolor='lightgray',\n",
    "            projection_scale=float(6.1),\n",
    "            center=dict(lon=15, lat=52),\n",
    "            projection_type=\"azimuthal equal area\",\n",
    "            showland=True,\n",
    "            showcountries=False,\n",
    "        ),\n",
    "        height=1080,\n",
    "        width=1200\n",
    "\n",
    "\n",
    "    )\n",
    "    fig.write_image(f\"../img/Commission/maps/specialization/full_count/{cat}.jpg\")\n",
    "    # pio.write_image(fig, folder, format='png')"
   ],
   "metadata": {
    "collapsed": false
   }
  },
  {
   "cell_type": "markdown",
   "source": [
    "### DT SPEC GRAPSH"
   ],
   "metadata": {
    "collapsed": false
   }
  },
  {
   "cell_type": "code",
   "execution_count": 53,
   "outputs": [],
   "source": [
    "import plotly.express as px\n",
    "# df_spec_dt =pd.read_excel(\"../img/Commission/spec_fractional.xlsx\", sheet_name=\"dt\", index_col=0)\n",
    "df_spec_dt = pd.read_excel(\"../img/Commission/spec.xlsx\", sheet_name=\"DT\", index_col=0)\n",
    "df_spec_dt = df_spec_dt.loc[lst_eu, :]\n",
    "df_spec_dt = df_spec_dt.apply(np.vectorize(transform_discrete_value))\n",
    "for dt in ['AI', 'IOT', 'robotics']:\n",
    "    ordered_index = reorder_values(df_spec_dt, dt)\n",
    "    fig = px.choropleth(\n",
    "        locations=ordered_index,\n",
    "        color=df_spec_dt.loc[ordered_index, dt],\n",
    "        color_discrete_map={\"Under-specialized (RTA < 0.75)\":\"#2ECBE9\", \"Not-specialized (0.75 <= RTA <= 1.25)\":\"#128FC8\", \"Specialized (RTA > 1.25)\":\"#00468B\"},\n",
    "        locationmode=\"country names\",\n",
    "    )\n",
    "\n",
    "    fig.update_layout(\n",
    "        template='simple_white',\n",
    "        font=dict(size=18),\n",
    "        showlegend=True,\n",
    "\n",
    "        legend=dict\n",
    "            (\n",
    "            title=\"Specialization\",\n",
    "            yanchor=\"top\",\n",
    "            y=1,\n",
    "            xanchor=\"left\",\n",
    "            x=0.048,\n",
    "            bordercolor=\"Black\",\n",
    "            borderwidth=2\n",
    "            ),\n",
    "        geo=go.layout.Geo(\n",
    "            scope=\"world\",\n",
    "            landcolor='lightgray',\n",
    "            projection_scale=float(6.1),\n",
    "            center=dict(lon=15, lat=52),\n",
    "            projection_type=\"azimuthal equal area\",\n",
    "            showland=True,\n",
    "            showcountries=False,\n",
    "        ),\n",
    "        height=1080,\n",
    "        width=1200\n",
    "\n",
    "\n",
    "    )\n",
    "    fig.write_image(f\"../img/Commission/maps/specialization/full_count//{dt}.jpg\")\n",
    "    # pio.write_image(fig, folder, format='png')"
   ],
   "metadata": {
    "collapsed": false
   }
  },
  {
   "cell_type": "markdown",
   "source": [
    "## CAT DT SPEC GRAPHS"
   ],
   "metadata": {
    "collapsed": false
   }
  },
  {
   "cell_type": "code",
   "execution_count": 75,
   "outputs": [],
   "source": [
    "df_spec_cat_dt = pd.read_excel(\"../img/Commission/spec.xlsx\", sheet_name=\"SDG-DT\", index_col=0)\n",
    "\n",
    "df_spec_cat_dt.loc[eu_countries+other_countries, ['Economy-AI', 'Economy-IOT', 'Environment-AI', 'Environment-IOT', 'Society-AI', 'Society-IOT']].to_excel(\"frac_countries_inter_cat.xlsx\")"
   ],
   "metadata": {
    "collapsed": false
   }
  },
  {
   "cell_type": "code",
   "execution_count": 54,
   "outputs": [],
   "source": [
    "import plotly.express as px\n",
    "# df_spec_cat_dt = pd.read_excel(\"../img/Commission/spec_fractional.xlsx\", sheet_name=\"cat-dt\", index_col=0)\n",
    "df_spec_cat_dt = pd.read_excel(\"../img/Commission/spec.xlsx\", sheet_name=\"SDG-DT\", index_col=0)\n",
    "\n",
    "df_spec_cat_dt = df_spec_cat_dt.fillna(0)\n",
    "df_spec_cat_dt = df_spec_cat_dt.loc[lst_eu, :]\n",
    "df_spec_cat_dt = df_spec_cat_dt.apply(np.vectorize(transform_discrete_value))\n",
    "\n",
    "for dt in df_spec_cat_dt.columns:\n",
    "    ordered_index = reorder_values(df_spec_cat_dt, dt)\n",
    "    fig = px.choropleth(\n",
    "        locations=ordered_index,\n",
    "        color=df_spec_cat_dt.loc[ordered_index, dt],\n",
    "        color_discrete_map={\"Under-specialized (RTA < 0.75)\":\"#2ECBE9\", \"Not-specialized (0.75 <= RTA <= 1.25)\":\"#128FC8\", \"Specialized (RTA > 1.25)\":\"#00468B\"},\n",
    "        locationmode=\"country names\",\n",
    "    )\n",
    "\n",
    "    fig.update_layout(\n",
    "        template='simple_white',\n",
    "        font=dict(size=18),\n",
    "        showlegend=True,\n",
    "\n",
    "        legend=dict\n",
    "            (\n",
    "            title=\"Specialization\",\n",
    "            yanchor=\"top\",\n",
    "            y=1,\n",
    "            xanchor=\"left\",\n",
    "            x=0.048,\n",
    "            bordercolor=\"Black\",\n",
    "            borderwidth=2\n",
    "            ),\n",
    "        geo=go.layout.Geo(\n",
    "            scope=\"world\",\n",
    "            landcolor='lightgray',\n",
    "            projection_scale=float(6.1),\n",
    "            center=dict(lon=15, lat=52),\n",
    "            projection_type=\"azimuthal equal area\",\n",
    "            showland=True,\n",
    "            showcountries=False,\n",
    "        ),\n",
    "        height=1080,\n",
    "        width=1200\n",
    "\n",
    "\n",
    "    )\n",
    "    fig.write_image(f\"../img/Commission/maps/specialization/full_count/{dt}.jpg\")\n",
    "    # pio.write_image(fig, folder, format='png')"
   ],
   "metadata": {
    "collapsed": false
   }
  },
  {
   "cell_type": "markdown",
   "source": [
    "## SDG SPEC GRAPHS"
   ],
   "metadata": {
    "collapsed": false
   }
  },
  {
   "cell_type": "code",
   "execution_count": 55,
   "outputs": [],
   "source": [
    "import plotly.express as px\n",
    "# df_spec_sdg = pd.read_excel(\"../img/Commission/spec_fractional.xlsx\", sheet_name=\"sdg\", index_col=0)\n",
    "df_spec_sdg = pd.read_excel(\"../img/Commission/spec.xlsx\", sheet_name=\"SDG\", index_col=0)\n",
    "df_spec_sdg = df_spec_sdg.fillna(0)\n",
    "df_spec_sdg = df_spec_sdg.loc[lst_eu, :]\n",
    "df_spec_sdg = df_spec_sdg.apply(np.vectorize(transform_discrete_value))\n",
    "\n",
    "for sdg in lst_sdg:\n",
    "    ordered_index = reorder_values(df_spec_sdg, sdg)\n",
    "    fig = px.choropleth(\n",
    "        locations=ordered_index,\n",
    "        color=df_spec_sdg.loc[ordered_index, sdg],\n",
    "        color_discrete_map={\"Under-specialized (RTA < 0.75)\":\"#2ECBE9\", \"Not-specialized (0.75 <= RTA <= 1.25)\":\"#128FC8\", \"Specialized (RTA > 1.25)\":\"#00468B\"},\n",
    "        locationmode=\"country names\",\n",
    "    )\n",
    "\n",
    "    fig.update_layout(\n",
    "        template='simple_white',\n",
    "        font=dict(size=18),\n",
    "        showlegend=True,\n",
    "\n",
    "        legend=dict\n",
    "            (\n",
    "            title=\"Specialization\",\n",
    "            yanchor=\"top\",\n",
    "            y=1,\n",
    "            xanchor=\"left\",\n",
    "            x=0.048,\n",
    "            bordercolor=\"Black\",\n",
    "            borderwidth=2\n",
    "            ),\n",
    "        geo=go.layout.Geo(\n",
    "            scope=\"world\",\n",
    "            landcolor='lightgray',\n",
    "            projection_scale=float(6.1),\n",
    "            center=dict(lon=15, lat=52),\n",
    "            projection_type=\"azimuthal equal area\",\n",
    "            showland=True,\n",
    "            showcountries=False,\n",
    "        ),\n",
    "        height=1080,\n",
    "        width=1200\n",
    "\n",
    "\n",
    "    )\n",
    "    fig.write_image(f\"../img/Commission/maps/specialization/full_count/SDG/{sdg}.jpg\")\n",
    "    # pio.write_image(fig, folder, format='png')"
   ],
   "metadata": {
    "collapsed": false
   }
  },
  {
   "cell_type": "code",
   "execution_count": null,
   "outputs": [],
   "source": [],
   "metadata": {
    "collapsed": false
   }
  }
 ],
 "metadata": {
  "kernelspec": {
   "display_name": "Python 3",
   "language": "python",
   "name": "python3"
  },
  "language_info": {
   "codemirror_mode": {
    "name": "ipython",
    "version": 2
   },
   "file_extension": ".py",
   "mimetype": "text/x-python",
   "name": "python",
   "nbconvert_exporter": "python",
   "pygments_lexer": "ipython2",
   "version": "2.7.6"
  }
 },
 "nbformat": 4,
 "nbformat_minor": 0
}
