{
 "cells": [
  {
   "cell_type": "markdown",
   "source": [
    "# raw, strength and specialization"
   ],
   "metadata": {
    "collapsed": false
   }
  },
  {
   "cell_type": "code",
   "execution_count": 17,
   "outputs": [],
   "source": [
    "import pandas as pd\n",
    "import os\n",
    "import numpy as np\n",
    "import matplotlib.pyplot as plt\n",
    "from matplotlib.collections import PatchCollection\n",
    "import plotly.graph_objects as go\n",
    "\n",
    "from plotly.subplots import make_subplots\n",
    "import plotly"
   ],
   "metadata": {
    "collapsed": false
   }
  },
  {
   "cell_type": "code",
   "execution_count": 18,
   "outputs": [],
   "source": [
    "df_sdg = pd.read_pickle(\"../data/dataframes/output/all_sdg_fixed_dst.pkl\")\n",
    "df_digital = pd.read_pickle(\"../data/dataframes/DT/dt_updated.pkl\")\n",
    "eu = pd.read_excel(\"../data/countries_eu.xlsx\", sheet_name='EU')['Country'].to_list()\n",
    "# Filtering for Journal only\n",
    "df_sdg = df_sdg[df_sdg.PT == 'J']\n",
    "df_digital = df_digital[df_digital.PT == 'J']\n",
    "df_sdg_dt = df_sdg[df_sdg['DST']]\n",
    "\n",
    "idx_sdg = {name: i for i, name in enumerate(list(df_sdg), start=0)}\n",
    "idx_dt = {name: i for i, name in enumerate(list(df_digital), start=0)}\n",
    "idx_sdg_dt = {name: i for i, name in enumerate(list(df_sdg_dt), start=0)}"
   ],
   "metadata": {
    "collapsed": false
   }
  },
  {
   "cell_type": "code",
   "execution_count": 19,
   "outputs": [
    {
     "data": {
      "text/plain": "Country\nNaN                                                NaN\nEU                                           3092983.9\nEuropean Union - 28 countries (2013-2020)            :\nEuro area - 19 countries  (from 2015)        2631060.9\nBelgium                                         105644\n                                               ...    \nPalestine                                            :\nSaudi Arabia                                         :\nAustralia                                     280349.7\nNew Zealand                                      40983\nSamoa                                                :\nName: GDP, Length: 102, dtype: object"
     },
     "execution_count": 19,
     "metadata": {},
     "output_type": "execute_result"
    }
   ],
   "source": [
    "gdp = pd.read_excel(\"../data/pop-gdp.xlsx\", sheet_name=\"GDP\", index_col=\"TIME\").rename(columns={\"2020-Q2\":\"GDP\"}).loc[:, \"GDP\"].rename_axis(\"Country\", axis=0)\n",
    "gdp"
   ],
   "metadata": {
    "collapsed": false
   }
  },
  {
   "cell_type": "code",
   "execution_count": 20,
   "outputs": [
    {
     "data": {
      "text/plain": "                    avg_pop        gdp\nAlbania        2.875263e+06     3348.7\nArgentina      4.333679e+07        0.0\nArmenia        2.924618e+06        0.0\nAustralia      2.400823e+07   324962.5\nAustria        8.665144e+06    92140.6\n...                     ...        ...\nUkraine        4.498976e+07        0.0\nUruguay        3.419979e+06        0.0\nUnited States  3.213942e+08  4518929.3\nSamoa          1.933848e+05        0.0\nSouth Africa   5.571583e+07    81269.2\n\n[94 rows x 2 columns]",
      "text/html": "<div>\n<style scoped>\n    .dataframe tbody tr th:only-of-type {\n        vertical-align: middle;\n    }\n\n    .dataframe tbody tr th {\n        vertical-align: top;\n    }\n\n    .dataframe thead th {\n        text-align: right;\n    }\n</style>\n<table border=\"1\" class=\"dataframe\">\n  <thead>\n    <tr style=\"text-align: right;\">\n      <th></th>\n      <th>avg_pop</th>\n      <th>gdp</th>\n    </tr>\n  </thead>\n  <tbody>\n    <tr>\n      <th>Albania</th>\n      <td>2.875263e+06</td>\n      <td>3348.7</td>\n    </tr>\n    <tr>\n      <th>Argentina</th>\n      <td>4.333679e+07</td>\n      <td>0.0</td>\n    </tr>\n    <tr>\n      <th>Armenia</th>\n      <td>2.924618e+06</td>\n      <td>0.0</td>\n    </tr>\n    <tr>\n      <th>Australia</th>\n      <td>2.400823e+07</td>\n      <td>324962.5</td>\n    </tr>\n    <tr>\n      <th>Austria</th>\n      <td>8.665144e+06</td>\n      <td>92140.6</td>\n    </tr>\n    <tr>\n      <th>...</th>\n      <td>...</td>\n      <td>...</td>\n    </tr>\n    <tr>\n      <th>Ukraine</th>\n      <td>4.498976e+07</td>\n      <td>0.0</td>\n    </tr>\n    <tr>\n      <th>Uruguay</th>\n      <td>3.419979e+06</td>\n      <td>0.0</td>\n    </tr>\n    <tr>\n      <th>United States</th>\n      <td>3.213942e+08</td>\n      <td>4518929.3</td>\n    </tr>\n    <tr>\n      <th>Samoa</th>\n      <td>1.933848e+05</td>\n      <td>0.0</td>\n    </tr>\n    <tr>\n      <th>South Africa</th>\n      <td>5.571583e+07</td>\n      <td>81269.2</td>\n    </tr>\n  </tbody>\n</table>\n<p>94 rows × 2 columns</p>\n</div>"
     },
     "execution_count": 20,
     "metadata": {},
     "output_type": "execute_result"
    }
   ],
   "source": [
    "eu_countries = pd.read_excel(\"../data/countries_eu.xlsx\", sheet_name='EU').Country.to_list()\n",
    "other_countries = pd.read_excel(\"../data/countries_eu.xlsx\", sheet_name='rest').Country.to_list()\n",
    "\n",
    "gdppop = pd.read_excel(\"../data/gdp_avgpop.xlsx\", index_col=0).replace(\":\", np.NAN).fillna(0)\n",
    "gdppop"
   ],
   "metadata": {
    "collapsed": false
   }
  },
  {
   "cell_type": "code",
   "execution_count": 21,
   "metadata": {
    "collapsed": true
   },
   "outputs": [],
   "source": [
    "\"\"\"\n",
    "# Digital\n",
    "\n",
    "dic_countries = {country: [0, 0, 0]  for country in gdppop.index}\n",
    "for row in df_digital.itertuples(index=False, name=None):\n",
    "    lst_actors = row[idx_dt['CN']].split(\", \")\n",
    "    year = row[idx_dt['PY']]\n",
    "    size_actors = len(lst_actors)\n",
    "    for actor in lst_actors:\n",
    "        if actor in dic_countries.keys():\n",
    "            # Increment for digital\n",
    "            dic_countries[actor][0] += 1 / size_actors\n",
    "            if actor in eu_countries:\n",
    "                dic_countries['EU'][0] += 1 / size_actors\n",
    "\n",
    "# SDG & SDG-DT\n",
    "for row in df_sdg.itertuples(index=False, name=None):\n",
    "    lst_actors = row[idx_sdg['CN']].split(\", \")\n",
    "    year = row[idx_sdg['PY']]\n",
    "    size_actors = len(lst_actors)\n",
    "    for actor in lst_actors:\n",
    "        if actor in dic_countries.keys():\n",
    "            # Increment for SDG\n",
    "            dic_countries[actor][1] += 1 / size_actors\n",
    "            if actor in eu_countries:\n",
    "                dic_countries['EU'][1] += 1 / size_actors\n",
    "            if row[-1]:\n",
    "                # Increment for SDG-DT\n",
    "                dic_countries[actor][2] += 1 / size_actors\n",
    "                if actor in eu_countries:\n",
    "                    dic_countries['EU'][2] += 1 / size_actors\n",
    "\"\"\"\n",
    "from collections import Counter\n",
    "dic_countries_frac = {country:Counter() for country in gdppop.index}\n",
    "# Digital\n",
    "for row in df_digital.itertuples(index=False, name=None):\n",
    "    cn = row[idx_dt['CN']]\n",
    "    lst_actors = cn.split(\", \")\n",
    "    size_actors = len(lst_actors)\n",
    "    for actor in lst_actors:\n",
    "        if actor in dic_countries_frac.keys():\n",
    "            # Increment for digital\n",
    "            dic_countries_frac[actor]['DT'] += 1/size_actors\n",
    "\n",
    "            if actor in eu:\n",
    "                dic_countries_frac['EU']['DT'] += 1/size_actors\n",
    "\n",
    "# SDG & SDG-DT\n",
    "for row in df_sdg.itertuples(index=False, name=None):\n",
    "    cn = row[idx_sdg['CN']]\n",
    "    lst_actors = cn.split(\", \")\n",
    "    size_actors = len(lst_actors)\n",
    "    for actor in lst_actors:\n",
    "        if actor in dic_countries_frac.keys():\n",
    "            # Increment for SDG\n",
    "            dic_countries_frac[actor]['SDG'] += 1/size_actors\n",
    "\n",
    "            if actor in eu:\n",
    "                dic_countries_frac['EU']['SDG'] += 1/size_actors\n",
    "\n",
    "            if row[-1]:\n",
    "                # Increment for SDG-DT\n",
    "                dic_countries_frac[actor]['Inter'] += 1/size_actors\n",
    "\n",
    "                if actor in eu:\n",
    "                    dic_countries_frac['EU']['Inter'] += 1/size_actors\n"
   ]
  },
  {
   "cell_type": "code",
   "execution_count": 22,
   "outputs": [
    {
     "data": {
      "text/plain": "                          DT           SDG        Inter       avg_pop  \\\nAustria          3236.053303   5372.635315   138.258313  8.665144e+06   \nBelgium          4779.746296   8371.507113   181.901241  1.128651e+07   \nBulgaria          549.483471   1009.169897    24.554932  7.146214e+06   \nCroatia          1225.321102   2621.667351    78.026927  4.161662e+06   \nCyprus            541.687904    851.738882    41.854211  1.165859e+06   \nCzech Republic   2647.521995   4618.636023   107.792072  1.057757e+07   \nDenmark          3078.092221   7977.961969   143.020285  5.703408e+06   \nEstonia           438.769553   1238.384147    31.906383  1.322525e+06   \nFinland          3615.406532   7719.220726   200.267440  5.471458e+06   \nFrance          15853.700722  23290.960538   551.407769  6.648011e+07   \nGermany         24569.802808  36083.595931   941.987972  8.192392e+07   \nGreece           5160.642990   7298.045071   311.481502  1.085833e+07   \nHungary          1670.516461   2767.537751    85.481166  9.841952e+06   \nIreland          2429.286519   4481.205904   122.954903  4.758464e+06   \nItaly           24648.310547  37292.169893  1219.920814  5.998175e+07   \nLatvia            217.616616    582.122971    10.760751  1.975161e+06   \nLithuania         788.154774   1752.292576    40.237259  2.899221e+06   \nLuxembourg        339.384507    457.427076    23.212576  5.751099e+05   \nMalta              96.151579    256.117513     2.943655  4.583858e+05   \nNetherlands      8149.341042  17333.784583   330.855868  1.703215e+07   \nPoland           7936.649903  13146.977740   349.013199  3.798107e+07   \nPortugal         4985.216536  11419.517093   295.291351  1.038786e+07   \nRomania          3257.436330   5698.929843   211.371191  1.972250e+07   \nSlovakia         1092.612611   1733.551491    41.527329  5.427521e+06   \nSlovenia         1550.891690   1862.611074    60.474226  2.070599e+06   \nSpain           21779.103279  35876.370198  1183.567861  4.677820e+07   \nSweden           4989.671550  13918.160300   243.500257  9.887210e+06   \n\n                     gdp   SDG-pop    DT-pop  Inter-pop   SDG-gdp    DT-gdp  \\\nAustria          92140.6  0.000620  0.000373   0.000016  0.058309  0.035121   \nBelgium         118204.0  0.000742  0.000423   0.000016  0.070823  0.040436   \nBulgaria         14512.3  0.000141  0.000077   0.000003  0.069539  0.037863   \nCroatia          12658.3  0.000630  0.000294   0.000019  0.207111  0.096800   \nCyprus            5570.4  0.000731  0.000465   0.000036  0.152904  0.097244   \nCzech Republic   53083.1  0.000437  0.000250   0.000010  0.087008  0.049875   \nDenmark          77598.3  0.001399  0.000540   0.000025  0.102811  0.039667   \nEstonia           6751.5  0.000936  0.000332   0.000024  0.183424  0.064988   \nFinland          57830.0  0.001411  0.000661   0.000037  0.133481  0.062518   \nFrance          604440.4  0.000350  0.000238   0.000008  0.038533  0.026229   \nGermany         862030.0  0.000440  0.000300   0.000011  0.041859  0.028502   \nGreece           39760.8  0.000672  0.000475   0.000029  0.183549  0.129792   \nHungary          31845.5  0.000281  0.000170   0.000009  0.086905  0.052457   \nIreland         101222.2  0.000942  0.000511   0.000026  0.044271  0.024000   \nItaly           412230.4  0.000622  0.000411   0.000020  0.090464  0.059793   \nLatvia            7103.2  0.000295  0.000110   0.000005  0.081952  0.030636   \nLithuania        12064.6  0.000604  0.000272   0.000014  0.145242  0.065328   \nLuxembourg       16685.8  0.000795  0.000590   0.000040  0.027414  0.020340   \nMalta             3510.5  0.000559  0.000210   0.000006  0.072958  0.027390   \nNetherlands     201099.0  0.001018  0.000478   0.000019  0.086195  0.040524   \nPoland          130755.9  0.000346  0.000209   0.000009  0.100546  0.060698   \nPortugal         49247.8  0.001099  0.000480   0.000028  0.231879  0.101227   \nRomania          46739.0  0.000289  0.000165   0.000011  0.121931  0.069694   \nSlovakia         22081.1  0.000319  0.000201   0.000008  0.078508  0.049482   \nSlovenia         11605.6  0.000900  0.000749   0.000029  0.160492  0.133633   \nSpain           279044.0  0.000767  0.000466   0.000025  0.128569  0.078049   \nSweden          125461.7  0.001408  0.000505   0.000025  0.110936  0.039770   \n\n                Inter-gdp  \nAustria          0.001501  \nBelgium          0.001539  \nBulgaria         0.001692  \nCroatia          0.006164  \nCyprus           0.007514  \nCzech Republic   0.002031  \nDenmark          0.001843  \nEstonia          0.004726  \nFinland          0.003463  \nFrance           0.000912  \nGermany          0.001093  \nGreece           0.007834  \nHungary          0.002684  \nIreland          0.001215  \nItaly            0.002959  \nLatvia           0.001515  \nLithuania        0.003335  \nLuxembourg       0.001391  \nMalta            0.000839  \nNetherlands      0.001645  \nPoland           0.002669  \nPortugal         0.005996  \nRomania          0.004522  \nSlovakia         0.001881  \nSlovenia         0.005211  \nSpain            0.004242  \nSweden           0.001941  ",
      "text/html": "<div>\n<style scoped>\n    .dataframe tbody tr th:only-of-type {\n        vertical-align: middle;\n    }\n\n    .dataframe tbody tr th {\n        vertical-align: top;\n    }\n\n    .dataframe thead th {\n        text-align: right;\n    }\n</style>\n<table border=\"1\" class=\"dataframe\">\n  <thead>\n    <tr style=\"text-align: right;\">\n      <th></th>\n      <th>DT</th>\n      <th>SDG</th>\n      <th>Inter</th>\n      <th>avg_pop</th>\n      <th>gdp</th>\n      <th>SDG-pop</th>\n      <th>DT-pop</th>\n      <th>Inter-pop</th>\n      <th>SDG-gdp</th>\n      <th>DT-gdp</th>\n      <th>Inter-gdp</th>\n    </tr>\n  </thead>\n  <tbody>\n    <tr>\n      <th>Austria</th>\n      <td>3236.053303</td>\n      <td>5372.635315</td>\n      <td>138.258313</td>\n      <td>8.665144e+06</td>\n      <td>92140.6</td>\n      <td>0.000620</td>\n      <td>0.000373</td>\n      <td>0.000016</td>\n      <td>0.058309</td>\n      <td>0.035121</td>\n      <td>0.001501</td>\n    </tr>\n    <tr>\n      <th>Belgium</th>\n      <td>4779.746296</td>\n      <td>8371.507113</td>\n      <td>181.901241</td>\n      <td>1.128651e+07</td>\n      <td>118204.0</td>\n      <td>0.000742</td>\n      <td>0.000423</td>\n      <td>0.000016</td>\n      <td>0.070823</td>\n      <td>0.040436</td>\n      <td>0.001539</td>\n    </tr>\n    <tr>\n      <th>Bulgaria</th>\n      <td>549.483471</td>\n      <td>1009.169897</td>\n      <td>24.554932</td>\n      <td>7.146214e+06</td>\n      <td>14512.3</td>\n      <td>0.000141</td>\n      <td>0.000077</td>\n      <td>0.000003</td>\n      <td>0.069539</td>\n      <td>0.037863</td>\n      <td>0.001692</td>\n    </tr>\n    <tr>\n      <th>Croatia</th>\n      <td>1225.321102</td>\n      <td>2621.667351</td>\n      <td>78.026927</td>\n      <td>4.161662e+06</td>\n      <td>12658.3</td>\n      <td>0.000630</td>\n      <td>0.000294</td>\n      <td>0.000019</td>\n      <td>0.207111</td>\n      <td>0.096800</td>\n      <td>0.006164</td>\n    </tr>\n    <tr>\n      <th>Cyprus</th>\n      <td>541.687904</td>\n      <td>851.738882</td>\n      <td>41.854211</td>\n      <td>1.165859e+06</td>\n      <td>5570.4</td>\n      <td>0.000731</td>\n      <td>0.000465</td>\n      <td>0.000036</td>\n      <td>0.152904</td>\n      <td>0.097244</td>\n      <td>0.007514</td>\n    </tr>\n    <tr>\n      <th>Czech Republic</th>\n      <td>2647.521995</td>\n      <td>4618.636023</td>\n      <td>107.792072</td>\n      <td>1.057757e+07</td>\n      <td>53083.1</td>\n      <td>0.000437</td>\n      <td>0.000250</td>\n      <td>0.000010</td>\n      <td>0.087008</td>\n      <td>0.049875</td>\n      <td>0.002031</td>\n    </tr>\n    <tr>\n      <th>Denmark</th>\n      <td>3078.092221</td>\n      <td>7977.961969</td>\n      <td>143.020285</td>\n      <td>5.703408e+06</td>\n      <td>77598.3</td>\n      <td>0.001399</td>\n      <td>0.000540</td>\n      <td>0.000025</td>\n      <td>0.102811</td>\n      <td>0.039667</td>\n      <td>0.001843</td>\n    </tr>\n    <tr>\n      <th>Estonia</th>\n      <td>438.769553</td>\n      <td>1238.384147</td>\n      <td>31.906383</td>\n      <td>1.322525e+06</td>\n      <td>6751.5</td>\n      <td>0.000936</td>\n      <td>0.000332</td>\n      <td>0.000024</td>\n      <td>0.183424</td>\n      <td>0.064988</td>\n      <td>0.004726</td>\n    </tr>\n    <tr>\n      <th>Finland</th>\n      <td>3615.406532</td>\n      <td>7719.220726</td>\n      <td>200.267440</td>\n      <td>5.471458e+06</td>\n      <td>57830.0</td>\n      <td>0.001411</td>\n      <td>0.000661</td>\n      <td>0.000037</td>\n      <td>0.133481</td>\n      <td>0.062518</td>\n      <td>0.003463</td>\n    </tr>\n    <tr>\n      <th>France</th>\n      <td>15853.700722</td>\n      <td>23290.960538</td>\n      <td>551.407769</td>\n      <td>6.648011e+07</td>\n      <td>604440.4</td>\n      <td>0.000350</td>\n      <td>0.000238</td>\n      <td>0.000008</td>\n      <td>0.038533</td>\n      <td>0.026229</td>\n      <td>0.000912</td>\n    </tr>\n    <tr>\n      <th>Germany</th>\n      <td>24569.802808</td>\n      <td>36083.595931</td>\n      <td>941.987972</td>\n      <td>8.192392e+07</td>\n      <td>862030.0</td>\n      <td>0.000440</td>\n      <td>0.000300</td>\n      <td>0.000011</td>\n      <td>0.041859</td>\n      <td>0.028502</td>\n      <td>0.001093</td>\n    </tr>\n    <tr>\n      <th>Greece</th>\n      <td>5160.642990</td>\n      <td>7298.045071</td>\n      <td>311.481502</td>\n      <td>1.085833e+07</td>\n      <td>39760.8</td>\n      <td>0.000672</td>\n      <td>0.000475</td>\n      <td>0.000029</td>\n      <td>0.183549</td>\n      <td>0.129792</td>\n      <td>0.007834</td>\n    </tr>\n    <tr>\n      <th>Hungary</th>\n      <td>1670.516461</td>\n      <td>2767.537751</td>\n      <td>85.481166</td>\n      <td>9.841952e+06</td>\n      <td>31845.5</td>\n      <td>0.000281</td>\n      <td>0.000170</td>\n      <td>0.000009</td>\n      <td>0.086905</td>\n      <td>0.052457</td>\n      <td>0.002684</td>\n    </tr>\n    <tr>\n      <th>Ireland</th>\n      <td>2429.286519</td>\n      <td>4481.205904</td>\n      <td>122.954903</td>\n      <td>4.758464e+06</td>\n      <td>101222.2</td>\n      <td>0.000942</td>\n      <td>0.000511</td>\n      <td>0.000026</td>\n      <td>0.044271</td>\n      <td>0.024000</td>\n      <td>0.001215</td>\n    </tr>\n    <tr>\n      <th>Italy</th>\n      <td>24648.310547</td>\n      <td>37292.169893</td>\n      <td>1219.920814</td>\n      <td>5.998175e+07</td>\n      <td>412230.4</td>\n      <td>0.000622</td>\n      <td>0.000411</td>\n      <td>0.000020</td>\n      <td>0.090464</td>\n      <td>0.059793</td>\n      <td>0.002959</td>\n    </tr>\n    <tr>\n      <th>Latvia</th>\n      <td>217.616616</td>\n      <td>582.122971</td>\n      <td>10.760751</td>\n      <td>1.975161e+06</td>\n      <td>7103.2</td>\n      <td>0.000295</td>\n      <td>0.000110</td>\n      <td>0.000005</td>\n      <td>0.081952</td>\n      <td>0.030636</td>\n      <td>0.001515</td>\n    </tr>\n    <tr>\n      <th>Lithuania</th>\n      <td>788.154774</td>\n      <td>1752.292576</td>\n      <td>40.237259</td>\n      <td>2.899221e+06</td>\n      <td>12064.6</td>\n      <td>0.000604</td>\n      <td>0.000272</td>\n      <td>0.000014</td>\n      <td>0.145242</td>\n      <td>0.065328</td>\n      <td>0.003335</td>\n    </tr>\n    <tr>\n      <th>Luxembourg</th>\n      <td>339.384507</td>\n      <td>457.427076</td>\n      <td>23.212576</td>\n      <td>5.751099e+05</td>\n      <td>16685.8</td>\n      <td>0.000795</td>\n      <td>0.000590</td>\n      <td>0.000040</td>\n      <td>0.027414</td>\n      <td>0.020340</td>\n      <td>0.001391</td>\n    </tr>\n    <tr>\n      <th>Malta</th>\n      <td>96.151579</td>\n      <td>256.117513</td>\n      <td>2.943655</td>\n      <td>4.583858e+05</td>\n      <td>3510.5</td>\n      <td>0.000559</td>\n      <td>0.000210</td>\n      <td>0.000006</td>\n      <td>0.072958</td>\n      <td>0.027390</td>\n      <td>0.000839</td>\n    </tr>\n    <tr>\n      <th>Netherlands</th>\n      <td>8149.341042</td>\n      <td>17333.784583</td>\n      <td>330.855868</td>\n      <td>1.703215e+07</td>\n      <td>201099.0</td>\n      <td>0.001018</td>\n      <td>0.000478</td>\n      <td>0.000019</td>\n      <td>0.086195</td>\n      <td>0.040524</td>\n      <td>0.001645</td>\n    </tr>\n    <tr>\n      <th>Poland</th>\n      <td>7936.649903</td>\n      <td>13146.977740</td>\n      <td>349.013199</td>\n      <td>3.798107e+07</td>\n      <td>130755.9</td>\n      <td>0.000346</td>\n      <td>0.000209</td>\n      <td>0.000009</td>\n      <td>0.100546</td>\n      <td>0.060698</td>\n      <td>0.002669</td>\n    </tr>\n    <tr>\n      <th>Portugal</th>\n      <td>4985.216536</td>\n      <td>11419.517093</td>\n      <td>295.291351</td>\n      <td>1.038786e+07</td>\n      <td>49247.8</td>\n      <td>0.001099</td>\n      <td>0.000480</td>\n      <td>0.000028</td>\n      <td>0.231879</td>\n      <td>0.101227</td>\n      <td>0.005996</td>\n    </tr>\n    <tr>\n      <th>Romania</th>\n      <td>3257.436330</td>\n      <td>5698.929843</td>\n      <td>211.371191</td>\n      <td>1.972250e+07</td>\n      <td>46739.0</td>\n      <td>0.000289</td>\n      <td>0.000165</td>\n      <td>0.000011</td>\n      <td>0.121931</td>\n      <td>0.069694</td>\n      <td>0.004522</td>\n    </tr>\n    <tr>\n      <th>Slovakia</th>\n      <td>1092.612611</td>\n      <td>1733.551491</td>\n      <td>41.527329</td>\n      <td>5.427521e+06</td>\n      <td>22081.1</td>\n      <td>0.000319</td>\n      <td>0.000201</td>\n      <td>0.000008</td>\n      <td>0.078508</td>\n      <td>0.049482</td>\n      <td>0.001881</td>\n    </tr>\n    <tr>\n      <th>Slovenia</th>\n      <td>1550.891690</td>\n      <td>1862.611074</td>\n      <td>60.474226</td>\n      <td>2.070599e+06</td>\n      <td>11605.6</td>\n      <td>0.000900</td>\n      <td>0.000749</td>\n      <td>0.000029</td>\n      <td>0.160492</td>\n      <td>0.133633</td>\n      <td>0.005211</td>\n    </tr>\n    <tr>\n      <th>Spain</th>\n      <td>21779.103279</td>\n      <td>35876.370198</td>\n      <td>1183.567861</td>\n      <td>4.677820e+07</td>\n      <td>279044.0</td>\n      <td>0.000767</td>\n      <td>0.000466</td>\n      <td>0.000025</td>\n      <td>0.128569</td>\n      <td>0.078049</td>\n      <td>0.004242</td>\n    </tr>\n    <tr>\n      <th>Sweden</th>\n      <td>4989.671550</td>\n      <td>13918.160300</td>\n      <td>243.500257</td>\n      <td>9.887210e+06</td>\n      <td>125461.7</td>\n      <td>0.001408</td>\n      <td>0.000505</td>\n      <td>0.000025</td>\n      <td>0.110936</td>\n      <td>0.039770</td>\n      <td>0.001941</td>\n    </tr>\n  </tbody>\n</table>\n</div>"
     },
     "execution_count": 22,
     "metadata": {},
     "output_type": "execute_result"
    }
   ],
   "source": [
    "\"\"\"df_country = pd.DataFrame.from_dict(data=dic_countries, orient=\"index\", columns=['SDG', 'DT', 'SDG-DT'])\n",
    "df_country_eu = df_country.loc[eu_countries, :]\n",
    "df_country_eu.index.names = ['Country']\n",
    "\n",
    "df_country_eu = df_country_eu.merge(gdppop, left_index=True, right_index=True)\n",
    "df_country_eu.loc[:, 'SDG-pop'] = df_country_eu.loc[:, 'SDG'] /  df_country_eu.loc[:, 'avg_pop']\n",
    "df_country_eu.loc[:, 'DT-pop'] = df_country_eu.loc[:, 'DT'] /  df_country_eu.loc[:, 'avg_pop']\n",
    "df_country_eu.loc[:, 'SDG-DT-pop'] = df_country_eu.loc[:, 'SDG-DT'] /  df_country_eu.loc[:, 'avg_pop']\n",
    "\n",
    "df_country_eu.loc[:, 'SDG-gdp'] = df_country_eu.loc[:, 'SDG'] /  df_country_eu.loc[:, 'gdp']\n",
    "df_country_eu.loc[:, 'DT-gdp'] = df_country_eu.loc[:, 'DT'] /  df_country_eu.loc[:, 'gdp']\n",
    "df_country_eu.loc[:, 'SDG-DT-gdp'] = df_country_eu.loc[:, 'SDG-DT'] /  df_country_eu.loc[:, 'gdp']\n",
    "\n",
    "df_country_eu\"\"\"\n",
    "\n",
    "df_country = pd.DataFrame.from_dict(data=dic_countries_frac, orient=\"index\")\n",
    "df_country_eu = df_country.loc[eu, :]\n",
    "\n",
    "df_country_eu.index.names = ['Country']\n",
    "\n",
    "df_country_eu = df_country_eu.merge(gdppop, left_index=True, right_index=True)\n",
    "df_country_eu.loc[:, 'SDG-pop'] = df_country_eu.loc[:, 'SDG'] /  df_country_eu.loc[:, 'avg_pop']\n",
    "df_country_eu.loc[:, 'DT-pop'] = df_country_eu.loc[:, 'DT'] /  df_country_eu.loc[:, 'avg_pop']\n",
    "df_country_eu.loc[:, 'Inter-pop'] = df_country_eu.loc[:, 'Inter'] /  df_country_eu.loc[:, 'avg_pop']\n",
    "\n",
    "df_country_eu.loc[:, 'SDG-gdp'] = df_country_eu.loc[:, 'SDG'] /  df_country_eu.loc[:, 'gdp']\n",
    "df_country_eu.loc[:, 'DT-gdp'] = df_country_eu.loc[:, 'DT'] /  df_country_eu.loc[:, 'gdp']\n",
    "df_country_eu.loc[:, 'Inter-gdp'] = df_country_eu.loc[:, 'Inter'] /  df_country_eu.loc[:, 'gdp']\n",
    "#\n",
    "df_country_eu"
   ],
   "metadata": {
    "collapsed": false
   }
  },
  {
   "cell_type": "code",
   "execution_count": 23,
   "outputs": [],
   "source": [
    "# df_country_eu.loc['max']= df_country_eu.max()\n",
    "# df_country_eu"
   ],
   "metadata": {
    "collapsed": false
   }
  },
  {
   "cell_type": "code",
   "execution_count": 24,
   "outputs": [
    {
     "data": {
      "text/plain": "Index(['DT', 'SDG', 'Inter', 'avg_pop', 'gdp', 'SDG-pop', 'DT-pop',\n       'Inter-pop', 'SDG-gdp', 'DT-gdp', 'Inter-gdp'],\n      dtype='object')"
     },
     "execution_count": 24,
     "metadata": {},
     "output_type": "execute_result"
    }
   ],
   "source": [
    "df_country_eu.columns"
   ],
   "metadata": {
    "collapsed": false
   }
  },
  {
   "cell_type": "code",
   "execution_count": 25,
   "outputs": [
    {
     "name": "stdout",
     "output_type": "stream",
     "text": [
      "SDG\n",
      "DT\n",
      "Inter\n",
      "SDG\n",
      "DT\n",
      "Inter\n",
      "SDG\n",
      "DT\n",
      "Inter\n"
     ]
    }
   ],
   "source": [
    "for cat in ['SDG', 'DT', 'Inter', 'SDG-pop', 'DT-pop','Inter-pop', 'SDG-gdp', 'DT-gdp', 'Inter-gdp']:\n",
    "    tit = cat.replace(\"-pop\", \"\").replace(\"-gdp\", \"\")\n",
    "    print(tit)"
   ],
   "metadata": {
    "collapsed": false
   }
  },
  {
   "cell_type": "markdown",
   "source": [
    "## Maps for EU"
   ],
   "metadata": {
    "collapsed": false
   }
  },
  {
   "cell_type": "code",
   "execution_count": 25,
   "outputs": [],
   "source": [
    "for cat in ['SDG', 'DT', 'Inter', 'SDG-pop', 'DT-pop','Inter-pop', 'SDG-gdp', 'DT-gdp', 'Inter-gdp']:\n",
    "    # tit = cat.replace(\"-pop\", \"\").replace(\"-gdp\", \"\")\n",
    "    if 'pop' in cat:\n",
    "        spec = \"/pop*\"\n",
    "        annot= \"*Normalised by population\"\n",
    "    elif \"gdp\" in cat:\n",
    "        spec = \"/gdp*\"\n",
    "        annot = \"*Normalised by GDP (in M€)\"\n",
    "    else:\n",
    "        spec = \"\"\n",
    "        annot = \"\"\n",
    "    tit = f\"Nb pubs{spec}\"\n",
    "    layout = go.Layout(\n",
    "        annotations=[\n",
    "            dict(\n",
    "                x=1.05,\n",
    "                y=1,\n",
    "                align=\"right\",\n",
    "                valign=\"top\",\n",
    "                text=tit,\n",
    "                showarrow=False,\n",
    "                xref=\"paper\",\n",
    "                yref=\"paper\",\n",
    "                xanchor=\"center\",\n",
    "                yanchor=\"top\",\n",
    "                font_size=22,\n",
    "                ),\n",
    "            dict(\n",
    "                x=0.25,\n",
    "                y=-.01,\n",
    "                align=\"right\",\n",
    "                valign=\"top\",\n",
    "                text=annot,\n",
    "                showarrow=False,\n",
    "                xref=\"paper\",\n",
    "                yref=\"paper\",\n",
    "                xanchor=\"center\",\n",
    "                yanchor=\"top\",\n",
    "                font_size=30,\n",
    "                ),\n",
    "            ],\n",
    "        )\n",
    "    fig = go.Figure(\n",
    "            data=go.Choropleth(\n",
    "                locations=df_country_eu.index,\n",
    "                z=df_country_eu[cat],\n",
    "                text=df_country_eu.index,\n",
    "                locationmode=\"country names\",\n",
    "                colorscale='Blues',\n",
    "                autocolorscale=False,\n",
    "                colorbar=dict(\n",
    "                    len=0.9,\n",
    "                    y=0.5\n",
    "                )\n",
    "            ),\n",
    "            layout=layout,\n",
    "        )\n",
    "\n",
    "    fig.update_layout(\n",
    "        template='simple_white',\n",
    "        font=dict(size=30),\n",
    "        showlegend=True,\n",
    "        geo=go.layout.Geo(\n",
    "            scope=\"world\",\n",
    "            landcolor='lightgray',\n",
    "            projection_scale=float(6.1),\n",
    "            center=dict(lon=15, lat=52),\n",
    "            projection_type=\"azimuthal equal area\",\n",
    "            showland=True,\n",
    "            showcountries=False,\n",
    "            showframe=False\n",
    "        ),\n",
    "        height=1080,\n",
    "        width=1200\n",
    "\n",
    "    )\n",
    "    fig.write_image(f\"../img/Commission/maps/EU_{cat}.jpg\")\n",
    "    # pio.write_image(fig, folder, format='png')"
   ],
   "metadata": {
    "collapsed": false
   }
  },
  {
   "cell_type": "markdown",
   "source": [
    "## Same on WORLD"
   ],
   "metadata": {
    "collapsed": false
   }
  },
  {
   "cell_type": "code",
   "execution_count": 26,
   "outputs": [
    {
     "name": "stdout",
     "output_type": "stream",
     "text": [
      "CPU times: user 3.53 s, sys: 57 µs, total: 3.53 s\n",
      "Wall time: 3.53 s\n"
     ]
    }
   ],
   "source": [
    "%%time\n",
    "set_countries = set()\n",
    "for row in df_sdg.itertuples(index=False, name=None):\n",
    "    cn = row[12]\n",
    "    lst_actors = cn.split(\", \")\n",
    "    for actor in lst_actors:\n",
    "        set_countries.add(actor)\n",
    "set_countries.add('EU')"
   ],
   "metadata": {
    "collapsed": false
   }
  },
  {
   "cell_type": "code",
   "execution_count": 27,
   "outputs": [
    {
     "data": {
      "text/plain": "218"
     },
     "execution_count": 27,
     "metadata": {},
     "output_type": "execute_result"
    }
   ],
   "source": [
    "len(set_countries)"
   ],
   "metadata": {
    "collapsed": false
   }
  },
  {
   "cell_type": "code",
   "execution_count": 28,
   "outputs": [],
   "source": [
    "# Digital\n",
    "\n",
    "dic_countries = {country: [0, 0, 0]  for country in set_countries}\n",
    "\n",
    "for row in df_digital.itertuples(index=False, name=None):\n",
    "    lst_actors = row[idx_dt['CN']].split(\", \")\n",
    "    year = row[idx_dt['PY']]\n",
    "    size_actors = len(lst_actors)\n",
    "    for actor in lst_actors:\n",
    "        # Increment for digital\n",
    "        if actor in dic_countries:\n",
    "            dic_countries[actor][0] += 1 / size_actors\n",
    "            if actor in eu_countries:\n",
    "                dic_countries['EU'][0] += 1 / size_actors\n",
    "\n",
    "# SDG & SDG-DT\n",
    "for row in df_sdg.itertuples(index=False, name=None):\n",
    "    lst_actors = row[idx_sdg['CN']].split(\", \")\n",
    "    year = row[idx_sdg['PY']]\n",
    "    size_actors = len(lst_actors)\n",
    "    for actor in lst_actors:\n",
    "        if actor in dic_countries:\n",
    "            # Increment for SDG\n",
    "            dic_countries[actor][1] += 1 / size_actors\n",
    "            if actor in eu_countries:\n",
    "                dic_countries['EU'][1] += 1 / size_actors\n",
    "            if row[-1]:\n",
    "                # Increment for SDG-DT\n",
    "                dic_countries[actor][2] += 1 / size_actors\n",
    "                if actor in eu_countries:\n",
    "                    dic_countries['EU'][2] += 1 / size_actors\n"
   ],
   "metadata": {
    "collapsed": false
   }
  },
  {
   "cell_type": "code",
   "execution_count": 29,
   "outputs": [
    {
     "data": {
      "text/plain": "218"
     },
     "execution_count": 29,
     "metadata": {},
     "output_type": "execute_result"
    }
   ],
   "source": [
    "len(dic_countries)"
   ],
   "metadata": {
    "collapsed": false
   }
  },
  {
   "cell_type": "code",
   "execution_count": 30,
   "outputs": [],
   "source": [
    "dic_countries_to_rename = {\"Palestine\": \"Palestinian Territory\",\n",
    "                                   \"Cote d'Ivoire\": \"Ivory Coast\",\n",
    "                                   \"Congo[DRC]\": \"Democratic Republic of the Congo\",\n",
    "                                   \"Congo, Dem.Rep.\": \"Democratic Republic of the Congo\",\n",
    "                                   \"Eswatini\": \"Swaziland\",\n",
    "                                   \"Guinea Bissau\": \"Guinea-Bissau\",\n",
    "                                   \"Timor-Leste\": \"East Timor\",\n",
    "                                   }\n",
    "for country in dic_countries.copy():\n",
    "    if country in dic_countries_to_rename:\n",
    "        dic_countries[dic_countries_to_rename[country]] = dic_countries[country]"
   ],
   "metadata": {
    "collapsed": false
   }
  },
  {
   "cell_type": "code",
   "execution_count": 10,
   "outputs": [
    {
     "data": {
      "text/plain": "                          ranking   gdppc    pop2022           gdp\nCountry                                                           \nLuxembourg                      1  118001    647.599  7.641733e+07\nSingapore                       2   97057   5975.689  5.799824e+08\nIreland                         3   94392   5023.109  4.741413e+08\nQatar                           4   93508   2695.122  2.520155e+08\nSwitzerland                     5   72874   8740.472  6.369532e+08\n...                           ...     ...        ...           ...\nMalawi                        190     993  20405.317  2.026248e+07\nCentral African Republic      191     979   5579.144  5.461982e+06\nSomalia                       192     925  17597.511  1.627770e+07\nSouth Sudan                   193     791  10913.164  8.632313e+06\nBurundi                       194     760  12889.576  9.796078e+06\n\n[185 rows x 4 columns]",
      "text/html": "<div>\n<style scoped>\n    .dataframe tbody tr th:only-of-type {\n        vertical-align: middle;\n    }\n\n    .dataframe tbody tr th {\n        vertical-align: top;\n    }\n\n    .dataframe thead th {\n        text-align: right;\n    }\n</style>\n<table border=\"1\" class=\"dataframe\">\n  <thead>\n    <tr style=\"text-align: right;\">\n      <th></th>\n      <th>ranking</th>\n      <th>gdppc</th>\n      <th>pop2022</th>\n      <th>gdp</th>\n    </tr>\n    <tr>\n      <th>Country</th>\n      <th></th>\n      <th></th>\n      <th></th>\n      <th></th>\n    </tr>\n  </thead>\n  <tbody>\n    <tr>\n      <th>Luxembourg</th>\n      <td>1</td>\n      <td>118001</td>\n      <td>647.599</td>\n      <td>7.641733e+07</td>\n    </tr>\n    <tr>\n      <th>Singapore</th>\n      <td>2</td>\n      <td>97057</td>\n      <td>5975.689</td>\n      <td>5.799824e+08</td>\n    </tr>\n    <tr>\n      <th>Ireland</th>\n      <td>3</td>\n      <td>94392</td>\n      <td>5023.109</td>\n      <td>4.741413e+08</td>\n    </tr>\n    <tr>\n      <th>Qatar</th>\n      <td>4</td>\n      <td>93508</td>\n      <td>2695.122</td>\n      <td>2.520155e+08</td>\n    </tr>\n    <tr>\n      <th>Switzerland</th>\n      <td>5</td>\n      <td>72874</td>\n      <td>8740.472</td>\n      <td>6.369532e+08</td>\n    </tr>\n    <tr>\n      <th>...</th>\n      <td>...</td>\n      <td>...</td>\n      <td>...</td>\n      <td>...</td>\n    </tr>\n    <tr>\n      <th>Malawi</th>\n      <td>190</td>\n      <td>993</td>\n      <td>20405.317</td>\n      <td>2.026248e+07</td>\n    </tr>\n    <tr>\n      <th>Central African Republic</th>\n      <td>191</td>\n      <td>979</td>\n      <td>5579.144</td>\n      <td>5.461982e+06</td>\n    </tr>\n    <tr>\n      <th>Somalia</th>\n      <td>192</td>\n      <td>925</td>\n      <td>17597.511</td>\n      <td>1.627770e+07</td>\n    </tr>\n    <tr>\n      <th>South Sudan</th>\n      <td>193</td>\n      <td>791</td>\n      <td>10913.164</td>\n      <td>8.632313e+06</td>\n    </tr>\n    <tr>\n      <th>Burundi</th>\n      <td>194</td>\n      <td>760</td>\n      <td>12889.576</td>\n      <td>9.796078e+06</td>\n    </tr>\n  </tbody>\n</table>\n<p>185 rows × 4 columns</p>\n</div>"
     },
     "execution_count": 10,
     "metadata": {},
     "output_type": "execute_result"
    }
   ],
   "source": [],
   "metadata": {
    "collapsed": false
   }
  },
  {
   "cell_type": "code",
   "execution_count": 39,
   "outputs": [
    {
     "data": {
      "text/plain": "                                 SDG             DT        Inter\nCountry                                                         \nUnited States          114589.956220  193487.922934  4689.826355\nCzech Republic           2647.521995    4618.636023   107.792072\nKiribati                    0.000000       6.486967     0.000000\nSeychelles                  0.055556      55.977470     0.055556\nSwaziland                   0.000000      32.625238     1.857143\n...                              ...            ...          ...\nFinland                  3615.406532    7719.220726   200.267440\nEast Timor                  1.000000      17.311742     0.500000\nIvory Coast                31.382757     242.738054     3.795635\nGuinea-Bissau               0.000000      17.696378     0.142857\nPalestinian Territory       3.616667     241.647418     5.746429\n\n[222 rows x 3 columns]",
      "text/html": "<div>\n<style scoped>\n    .dataframe tbody tr th:only-of-type {\n        vertical-align: middle;\n    }\n\n    .dataframe tbody tr th {\n        vertical-align: top;\n    }\n\n    .dataframe thead th {\n        text-align: right;\n    }\n</style>\n<table border=\"1\" class=\"dataframe\">\n  <thead>\n    <tr style=\"text-align: right;\">\n      <th></th>\n      <th>SDG</th>\n      <th>DT</th>\n      <th>Inter</th>\n    </tr>\n    <tr>\n      <th>Country</th>\n      <th></th>\n      <th></th>\n      <th></th>\n    </tr>\n  </thead>\n  <tbody>\n    <tr>\n      <th>United States</th>\n      <td>114589.956220</td>\n      <td>193487.922934</td>\n      <td>4689.826355</td>\n    </tr>\n    <tr>\n      <th>Czech Republic</th>\n      <td>2647.521995</td>\n      <td>4618.636023</td>\n      <td>107.792072</td>\n    </tr>\n    <tr>\n      <th>Kiribati</th>\n      <td>0.000000</td>\n      <td>6.486967</td>\n      <td>0.000000</td>\n    </tr>\n    <tr>\n      <th>Seychelles</th>\n      <td>0.055556</td>\n      <td>55.977470</td>\n      <td>0.055556</td>\n    </tr>\n    <tr>\n      <th>Swaziland</th>\n      <td>0.000000</td>\n      <td>32.625238</td>\n      <td>1.857143</td>\n    </tr>\n    <tr>\n      <th>...</th>\n      <td>...</td>\n      <td>...</td>\n      <td>...</td>\n    </tr>\n    <tr>\n      <th>Finland</th>\n      <td>3615.406532</td>\n      <td>7719.220726</td>\n      <td>200.267440</td>\n    </tr>\n    <tr>\n      <th>East Timor</th>\n      <td>1.000000</td>\n      <td>17.311742</td>\n      <td>0.500000</td>\n    </tr>\n    <tr>\n      <th>Ivory Coast</th>\n      <td>31.382757</td>\n      <td>242.738054</td>\n      <td>3.795635</td>\n    </tr>\n    <tr>\n      <th>Guinea-Bissau</th>\n      <td>0.000000</td>\n      <td>17.696378</td>\n      <td>0.142857</td>\n    </tr>\n    <tr>\n      <th>Palestinian Territory</th>\n      <td>3.616667</td>\n      <td>241.647418</td>\n      <td>5.746429</td>\n    </tr>\n  </tbody>\n</table>\n<p>222 rows × 3 columns</p>\n</div>"
     },
     "execution_count": 39,
     "metadata": {},
     "output_type": "execute_result"
    }
   ],
   "source": [
    "df_country = pd.DataFrame.from_dict(data=dic_countries, orient=\"index\", columns=['SDG', 'DT', 'Inter'])\n",
    "\n",
    "df_country.index.names = ['Country']\n",
    "dic_countries_to_rename = {\"Palestine\": \"Palestinian Territory\",\n",
    "                                   \"Cote d'Ivoire\": \"Ivory Coast\",\n",
    "                                   \"Congo [DRC]\": \"Democratic Republic of the Congo\",\n",
    "                                   \"Congo, Dem.Rep.\": \"Democratic Republic of the Congo\",\n",
    "                                   \"Eswatini\": \"Swaziland\",\n",
    "                                   \"Guinea Bissau\": \"Guinea-Bissau\",\n",
    "                                   \"Timor-Leste\": \"East Timor\",\n",
    "                                   }\n",
    "df_country.rename(index=dic_countries_to_rename, inplace=True)\n",
    "df_country"
   ],
   "metadata": {
    "collapsed": false
   }
  },
  {
   "cell_type": "code",
   "execution_count": 40,
   "outputs": [
    {
     "data": {
      "text/plain": "                          SDG             DT        Inter       avg_pop  \\\nAlbania             33.306126     249.054814     2.220635  2.875263e+06   \nAlgeria           2206.074170    1425.219143    94.420238  4.020870e+07   \nArgentina         1119.582110    4854.826979    40.743442  4.333679e+07   \nArmenia             51.328493      96.112800     4.187472  2.924618e+06   \nAustralia        17903.566199   46270.843816   972.265841  2.400823e+07   \n...                       ...            ...          ...           ...   \nTurkey           12098.228238   15803.667151   503.252824  7.901677e+07   \nUkraine           1002.330534    2733.750840    69.576506  4.498976e+07   \nUnited Kingdom   30787.366532   61205.919539  1455.698402  6.524557e+07   \nUnited States   114589.956220  193487.922934  4689.826355  3.213942e+08   \nUruguay            127.558462     577.190327    10.795390  3.419979e+06   \n\n                      gdp  \nAlbania            3348.7  \nAlgeria               0.0  \nArgentina             0.0  \nArmenia               0.0  \nAustralia        324962.5  \n...                   ...  \nTurkey           156571.8  \nUkraine               0.0  \nUnited Kingdom   609979.5  \nUnited States   4518929.3  \nUruguay               0.0  \n\n[92 rows x 5 columns]",
      "text/html": "<div>\n<style scoped>\n    .dataframe tbody tr th:only-of-type {\n        vertical-align: middle;\n    }\n\n    .dataframe tbody tr th {\n        vertical-align: top;\n    }\n\n    .dataframe thead th {\n        text-align: right;\n    }\n</style>\n<table border=\"1\" class=\"dataframe\">\n  <thead>\n    <tr style=\"text-align: right;\">\n      <th></th>\n      <th>SDG</th>\n      <th>DT</th>\n      <th>Inter</th>\n      <th>avg_pop</th>\n      <th>gdp</th>\n    </tr>\n  </thead>\n  <tbody>\n    <tr>\n      <th>Albania</th>\n      <td>33.306126</td>\n      <td>249.054814</td>\n      <td>2.220635</td>\n      <td>2.875263e+06</td>\n      <td>3348.7</td>\n    </tr>\n    <tr>\n      <th>Algeria</th>\n      <td>2206.074170</td>\n      <td>1425.219143</td>\n      <td>94.420238</td>\n      <td>4.020870e+07</td>\n      <td>0.0</td>\n    </tr>\n    <tr>\n      <th>Argentina</th>\n      <td>1119.582110</td>\n      <td>4854.826979</td>\n      <td>40.743442</td>\n      <td>4.333679e+07</td>\n      <td>0.0</td>\n    </tr>\n    <tr>\n      <th>Armenia</th>\n      <td>51.328493</td>\n      <td>96.112800</td>\n      <td>4.187472</td>\n      <td>2.924618e+06</td>\n      <td>0.0</td>\n    </tr>\n    <tr>\n      <th>Australia</th>\n      <td>17903.566199</td>\n      <td>46270.843816</td>\n      <td>972.265841</td>\n      <td>2.400823e+07</td>\n      <td>324962.5</td>\n    </tr>\n    <tr>\n      <th>...</th>\n      <td>...</td>\n      <td>...</td>\n      <td>...</td>\n      <td>...</td>\n      <td>...</td>\n    </tr>\n    <tr>\n      <th>Turkey</th>\n      <td>12098.228238</td>\n      <td>15803.667151</td>\n      <td>503.252824</td>\n      <td>7.901677e+07</td>\n      <td>156571.8</td>\n    </tr>\n    <tr>\n      <th>Ukraine</th>\n      <td>1002.330534</td>\n      <td>2733.750840</td>\n      <td>69.576506</td>\n      <td>4.498976e+07</td>\n      <td>0.0</td>\n    </tr>\n    <tr>\n      <th>United Kingdom</th>\n      <td>30787.366532</td>\n      <td>61205.919539</td>\n      <td>1455.698402</td>\n      <td>6.524557e+07</td>\n      <td>609979.5</td>\n    </tr>\n    <tr>\n      <th>United States</th>\n      <td>114589.956220</td>\n      <td>193487.922934</td>\n      <td>4689.826355</td>\n      <td>3.213942e+08</td>\n      <td>4518929.3</td>\n    </tr>\n    <tr>\n      <th>Uruguay</th>\n      <td>127.558462</td>\n      <td>577.190327</td>\n      <td>10.795390</td>\n      <td>3.419979e+06</td>\n      <td>0.0</td>\n    </tr>\n  </tbody>\n</table>\n<p>92 rows × 5 columns</p>\n</div>"
     },
     "execution_count": 40,
     "metadata": {},
     "output_type": "execute_result"
    }
   ],
   "source": [
    "df_country = df_country.merge(gdppop, left_index=True, right_index=True)\n",
    "df_country"
   ],
   "metadata": {
    "collapsed": false
   }
  },
  {
   "cell_type": "code",
   "execution_count": 38,
   "outputs": [
    {
     "data": {
      "text/plain": "                          SDG             DT        Inter       avg_pop  \\\nAlbania             33.306126     249.054814     2.220635  2.875263e+06   \nAlgeria           2206.074170    1425.219143    94.420238  4.020870e+07   \nArgentina         1119.582110    4854.826979    40.743442  4.333679e+07   \nArmenia             51.328493      96.112800     4.187472  2.924618e+06   \nAustralia        17903.566199   46270.843816   972.265841  2.400823e+07   \n...                       ...            ...          ...           ...   \nTurkey           12098.228238   15803.667151   503.252824  7.901677e+07   \nUkraine           1002.330534    2733.750840    69.576506  4.498976e+07   \nUnited Kingdom   30787.366532   61205.919539  1455.698402  6.524557e+07   \nUnited States   114589.956220  193487.922934  4689.826355  3.213942e+08   \nUruguay            127.558462     577.190327    10.795390  3.419979e+06   \n\n                      gdp  \nAlbania            3348.7  \nAlgeria               0.0  \nArgentina             0.0  \nArmenia               0.0  \nAustralia        324962.5  \n...                   ...  \nTurkey           156571.8  \nUkraine               0.0  \nUnited Kingdom   609979.5  \nUnited States   4518929.3  \nUruguay               0.0  \n\n[92 rows x 5 columns]",
      "text/html": "<div>\n<style scoped>\n    .dataframe tbody tr th:only-of-type {\n        vertical-align: middle;\n    }\n\n    .dataframe tbody tr th {\n        vertical-align: top;\n    }\n\n    .dataframe thead th {\n        text-align: right;\n    }\n</style>\n<table border=\"1\" class=\"dataframe\">\n  <thead>\n    <tr style=\"text-align: right;\">\n      <th></th>\n      <th>SDG</th>\n      <th>DT</th>\n      <th>Inter</th>\n      <th>avg_pop</th>\n      <th>gdp</th>\n    </tr>\n  </thead>\n  <tbody>\n    <tr>\n      <th>Albania</th>\n      <td>33.306126</td>\n      <td>249.054814</td>\n      <td>2.220635</td>\n      <td>2.875263e+06</td>\n      <td>3348.7</td>\n    </tr>\n    <tr>\n      <th>Algeria</th>\n      <td>2206.074170</td>\n      <td>1425.219143</td>\n      <td>94.420238</td>\n      <td>4.020870e+07</td>\n      <td>0.0</td>\n    </tr>\n    <tr>\n      <th>Argentina</th>\n      <td>1119.582110</td>\n      <td>4854.826979</td>\n      <td>40.743442</td>\n      <td>4.333679e+07</td>\n      <td>0.0</td>\n    </tr>\n    <tr>\n      <th>Armenia</th>\n      <td>51.328493</td>\n      <td>96.112800</td>\n      <td>4.187472</td>\n      <td>2.924618e+06</td>\n      <td>0.0</td>\n    </tr>\n    <tr>\n      <th>Australia</th>\n      <td>17903.566199</td>\n      <td>46270.843816</td>\n      <td>972.265841</td>\n      <td>2.400823e+07</td>\n      <td>324962.5</td>\n    </tr>\n    <tr>\n      <th>...</th>\n      <td>...</td>\n      <td>...</td>\n      <td>...</td>\n      <td>...</td>\n      <td>...</td>\n    </tr>\n    <tr>\n      <th>Turkey</th>\n      <td>12098.228238</td>\n      <td>15803.667151</td>\n      <td>503.252824</td>\n      <td>7.901677e+07</td>\n      <td>156571.8</td>\n    </tr>\n    <tr>\n      <th>Ukraine</th>\n      <td>1002.330534</td>\n      <td>2733.750840</td>\n      <td>69.576506</td>\n      <td>4.498976e+07</td>\n      <td>0.0</td>\n    </tr>\n    <tr>\n      <th>United Kingdom</th>\n      <td>30787.366532</td>\n      <td>61205.919539</td>\n      <td>1455.698402</td>\n      <td>6.524557e+07</td>\n      <td>609979.5</td>\n    </tr>\n    <tr>\n      <th>United States</th>\n      <td>114589.956220</td>\n      <td>193487.922934</td>\n      <td>4689.826355</td>\n      <td>3.213942e+08</td>\n      <td>4518929.3</td>\n    </tr>\n    <tr>\n      <th>Uruguay</th>\n      <td>127.558462</td>\n      <td>577.190327</td>\n      <td>10.795390</td>\n      <td>3.419979e+06</td>\n      <td>0.0</td>\n    </tr>\n  </tbody>\n</table>\n<p>92 rows × 5 columns</p>\n</div>"
     },
     "execution_count": 38,
     "metadata": {},
     "output_type": "execute_result"
    }
   ],
   "source": [
    "# df_country = df_country.replace(\":\", np.NAN).dropna(subset=\"gdp\")\n",
    "# for country in eu:\n",
    "#     df_country.loc[country, :] = df_country.loc['EU', :]\n",
    "# df_country"
   ],
   "metadata": {
    "collapsed": false
   }
  },
  {
   "cell_type": "code",
   "execution_count": 42,
   "outputs": [
    {
     "data": {
      "text/plain": "                          SDG             DT        Inter       avg_pop  \\\nAlbania             33.306126     249.054814     2.220635  2.875263e+06   \nAlgeria           2206.074170    1425.219143    94.420238  4.020870e+07   \nArgentina         1119.582110    4854.826979    40.743442  4.333679e+07   \nArmenia             51.328493      96.112800     4.187472  2.924618e+06   \nAustralia        17903.566199   46270.843816   972.265841  2.400823e+07   \n...                       ...            ...          ...           ...   \nTurkey           12098.228238   15803.667151   503.252824  7.901677e+07   \nUkraine           1002.330534    2733.750840    69.576506  4.498976e+07   \nUnited Kingdom   30787.366532   61205.919539  1455.698402  6.524557e+07   \nUnited States   114589.956220  193487.922934  4689.826355  3.213942e+08   \nUruguay            127.558462     577.190327    10.795390  3.419979e+06   \n\n                      gdp   SDG-gdp    DT-gdp  Inter-gdp  \nAlbania            3348.7  0.009946  0.074374   0.000663  \nAlgeria               0.0       inf       inf        inf  \nArgentina             0.0       inf       inf        inf  \nArmenia               0.0       inf       inf        inf  \nAustralia        324962.5  0.055094  0.142388   0.002992  \n...                   ...       ...       ...        ...  \nTurkey           156571.8  0.077270  0.100936   0.003214  \nUkraine               0.0       inf       inf        inf  \nUnited Kingdom   609979.5  0.050473  0.100341   0.002386  \nUnited States   4518929.3  0.025358  0.042817   0.001038  \nUruguay               0.0       inf       inf        inf  \n\n[92 rows x 8 columns]",
      "text/html": "<div>\n<style scoped>\n    .dataframe tbody tr th:only-of-type {\n        vertical-align: middle;\n    }\n\n    .dataframe tbody tr th {\n        vertical-align: top;\n    }\n\n    .dataframe thead th {\n        text-align: right;\n    }\n</style>\n<table border=\"1\" class=\"dataframe\">\n  <thead>\n    <tr style=\"text-align: right;\">\n      <th></th>\n      <th>SDG</th>\n      <th>DT</th>\n      <th>Inter</th>\n      <th>avg_pop</th>\n      <th>gdp</th>\n      <th>SDG-gdp</th>\n      <th>DT-gdp</th>\n      <th>Inter-gdp</th>\n    </tr>\n  </thead>\n  <tbody>\n    <tr>\n      <th>Albania</th>\n      <td>33.306126</td>\n      <td>249.054814</td>\n      <td>2.220635</td>\n      <td>2.875263e+06</td>\n      <td>3348.7</td>\n      <td>0.009946</td>\n      <td>0.074374</td>\n      <td>0.000663</td>\n    </tr>\n    <tr>\n      <th>Algeria</th>\n      <td>2206.074170</td>\n      <td>1425.219143</td>\n      <td>94.420238</td>\n      <td>4.020870e+07</td>\n      <td>0.0</td>\n      <td>inf</td>\n      <td>inf</td>\n      <td>inf</td>\n    </tr>\n    <tr>\n      <th>Argentina</th>\n      <td>1119.582110</td>\n      <td>4854.826979</td>\n      <td>40.743442</td>\n      <td>4.333679e+07</td>\n      <td>0.0</td>\n      <td>inf</td>\n      <td>inf</td>\n      <td>inf</td>\n    </tr>\n    <tr>\n      <th>Armenia</th>\n      <td>51.328493</td>\n      <td>96.112800</td>\n      <td>4.187472</td>\n      <td>2.924618e+06</td>\n      <td>0.0</td>\n      <td>inf</td>\n      <td>inf</td>\n      <td>inf</td>\n    </tr>\n    <tr>\n      <th>Australia</th>\n      <td>17903.566199</td>\n      <td>46270.843816</td>\n      <td>972.265841</td>\n      <td>2.400823e+07</td>\n      <td>324962.5</td>\n      <td>0.055094</td>\n      <td>0.142388</td>\n      <td>0.002992</td>\n    </tr>\n    <tr>\n      <th>...</th>\n      <td>...</td>\n      <td>...</td>\n      <td>...</td>\n      <td>...</td>\n      <td>...</td>\n      <td>...</td>\n      <td>...</td>\n      <td>...</td>\n    </tr>\n    <tr>\n      <th>Turkey</th>\n      <td>12098.228238</td>\n      <td>15803.667151</td>\n      <td>503.252824</td>\n      <td>7.901677e+07</td>\n      <td>156571.8</td>\n      <td>0.077270</td>\n      <td>0.100936</td>\n      <td>0.003214</td>\n    </tr>\n    <tr>\n      <th>Ukraine</th>\n      <td>1002.330534</td>\n      <td>2733.750840</td>\n      <td>69.576506</td>\n      <td>4.498976e+07</td>\n      <td>0.0</td>\n      <td>inf</td>\n      <td>inf</td>\n      <td>inf</td>\n    </tr>\n    <tr>\n      <th>United Kingdom</th>\n      <td>30787.366532</td>\n      <td>61205.919539</td>\n      <td>1455.698402</td>\n      <td>6.524557e+07</td>\n      <td>609979.5</td>\n      <td>0.050473</td>\n      <td>0.100341</td>\n      <td>0.002386</td>\n    </tr>\n    <tr>\n      <th>United States</th>\n      <td>114589.956220</td>\n      <td>193487.922934</td>\n      <td>4689.826355</td>\n      <td>3.213942e+08</td>\n      <td>4518929.3</td>\n      <td>0.025358</td>\n      <td>0.042817</td>\n      <td>0.001038</td>\n    </tr>\n    <tr>\n      <th>Uruguay</th>\n      <td>127.558462</td>\n      <td>577.190327</td>\n      <td>10.795390</td>\n      <td>3.419979e+06</td>\n      <td>0.0</td>\n      <td>inf</td>\n      <td>inf</td>\n      <td>inf</td>\n    </tr>\n  </tbody>\n</table>\n<p>92 rows × 8 columns</p>\n</div>"
     },
     "execution_count": 42,
     "metadata": {},
     "output_type": "execute_result"
    }
   ],
   "source": [
    "# df_country.loc[:, 'SDG-pop'] = df_country.loc[:, 'SDG'] /  df_country.loc[:, 'avg_pop']\n",
    "# df_country.loc[:, 'DT-pop'] = df_country.loc[:, 'DT'] /  df_country.loc[:, 'avg_pop']\n",
    "# df_country.loc[:, 'Inter-pop'] = df_country.loc[:, 'Inter'] /  df_country.loc[:, 'avg_pop']\n",
    "\n",
    "df_country.loc[:, 'SDG-gdp'] = df_country.loc[:, 'SDG'] /  df_country.loc[:, 'gdp']\n",
    "df_country.loc[:, 'DT-gdp'] = df_country.loc[:, 'DT'] /  df_country.loc[:, 'gdp']\n",
    "df_country.loc[:, 'Inter-gdp'] = df_country.loc[:, 'Inter'] /  df_country.loc[:, 'gdp']\n",
    "\n",
    "df_country"
   ],
   "metadata": {
    "collapsed": false
   }
  },
  {
   "cell_type": "code",
   "execution_count": 56,
   "outputs": [],
   "source": [
    "df_country.loc[:, ['SDG', 'DT', 'Inter']] = df_country.loc[:, ['SDG', 'DT', 'Inter']].round(0)\n",
    "df_country.loc[:, ['SDG-gdp', 'DT-gdp', 'Inter-gdp']] = df_country.loc[:, ['SDG-gdp', 'DT-gdp', 'Inter-gdp']]*1000"
   ],
   "metadata": {
    "collapsed": false
   }
  },
  {
   "cell_type": "code",
   "execution_count": 57,
   "outputs": [],
   "source": [
    "df_country.loc[['EU']+eu_countries+other_countries, ['SDG', 'DT', 'Inter', 'SDG-gdp', 'DT-gdp', 'Inter-gdp']].to_excel(\"frac_countries.xlsx\")"
   ],
   "metadata": {
    "collapsed": false
   }
  },
  {
   "cell_type": "code",
   "execution_count": 74,
   "outputs": [],
   "source": [
    "# for cat in ['SDG', 'DT', 'Inter', 'SDG-pop', 'DT-pop','Inter-pop', 'SDG-gdp', 'DT-gdp', 'Inter-gdp']:\n",
    "for cat in ['SDG', 'DT', 'Inter']:\n",
    "    # tit = cat.replace(\"-pop\", \"\").replace(\"-gdp\", \"\")\n",
    "    if 'pop' in cat:\n",
    "        spec = \"/pop*\"\n",
    "        annot= \"*Normalised by population\"\n",
    "    elif \"gdp\" in cat:\n",
    "        spec = \"/gdp*\"\n",
    "        annot = \"*Normalised by GDP (in M$)\"\n",
    "    else:\n",
    "        spec = \"\"\n",
    "        annot = \"\"\n",
    "    tit = f\"Nb pubs{spec}\"\n",
    "\n",
    "    layout = go.Layout(\n",
    "        annotations=[\n",
    "            dict(\n",
    "                x=1,\n",
    "                y=0.9,\n",
    "                align=\"right\",\n",
    "                valign=\"top\",\n",
    "                text=tit,\n",
    "                showarrow=False,\n",
    "                xref=\"paper\",\n",
    "                yref=\"paper\",\n",
    "                xanchor=\"center\",\n",
    "                yanchor=\"top\",\n",
    "                font_size=22,\n",
    "                ),\n",
    "            dict(\n",
    "                x=0.25,\n",
    "                y=-.01,\n",
    "                align=\"right\",\n",
    "                valign=\"top\",\n",
    "                text=annot,\n",
    "                showarrow=False,\n",
    "                xref=\"paper\",\n",
    "                yref=\"paper\",\n",
    "                xanchor=\"center\",\n",
    "                yanchor=\"top\",\n",
    "                font_size=30,\n",
    "                ),\n",
    "            ],\n",
    "        )\n",
    "    fig = go.Figure(\n",
    "            data=go.Choropleth(\n",
    "                locations=df_country.index,\n",
    "                z=df_country[cat],\n",
    "                text=df_country.index,\n",
    "                locationmode=\"country names\",\n",
    "                colorscale='Blues',\n",
    "                autocolorscale=False,\n",
    "                colorbar=dict(\n",
    "                    len=0.8,\n",
    "                    y=0.45,\n",
    "                    x= 0.95\n",
    "                )\n",
    "            ),\n",
    "            layout=layout,\n",
    "        )\n",
    "\n",
    "    fig.update_layout(\n",
    "        template='simple_white',\n",
    "        font=dict(size=25),\n",
    "        showlegend=True,\n",
    "\n",
    "        geo=go.layout.Geo(\n",
    "            scope=\"world\",\n",
    "            landcolor='lightgray',\n",
    "            projection_scale=1,\n",
    "            center=dict(lon=20, lat=30),\n",
    "            projection_type=\"kavrayskiy7\",\n",
    "\n",
    "            showland=True,\n",
    "            showcountries=False,\n",
    "            showframe=False\n",
    "        ),\n",
    "        height=900,\n",
    "        width=1400\n",
    "    )\n",
    "\n",
    "    fig.write_image(f\"../img/Commission/maps/World/{cat}.jpg\")\n",
    "    # pio.write_image(fig, folder, format='png')"
   ],
   "metadata": {
    "collapsed": false
   }
  },
  {
   "cell_type": "markdown",
   "source": [
    "## Specialization"
   ],
   "metadata": {
    "collapsed": false
   }
  },
  {
   "cell_type": "code",
   "execution_count": 59,
   "outputs": [
    {
     "data": {
      "text/plain": "            Country Country ISO3  Country Code  \\\n0       Afghanistan          AFG             4   \n1           Albania          ALB             8   \n2           Algeria          DZA            12   \n3    American Samoa          ASM            16   \n4           Andorra          AND            20   \n..              ...          ...           ...   \n265       Venezuela          VEN           862   \n266         Vietnam          VNM           704   \n270           Yemen          YEM           887   \n273          Zambia          ZMB           894   \n274        Zimbabwe          ZWE           716   \n\n                                   Long Name          Income Group  \\\n0               Islamic State of Afghanistan            Low income   \n1                        Republic of Albania   Upper middle income   \n2    People's Democratic Republic of Algeria   Upper middle income   \n3                             American Samoa   Upper middle income   \n4                                        NaN                Others   \n..                                       ...                   ...   \n265       República Bolivariana de Venezuela  High income: nonOECD   \n266            Socialist Republic of Vietnam   Lower middle income   \n270                        Republic of Yemen   Lower middle income   \n273                       Republic of Zambia   Lower middle income   \n274                     Republic of Zimbabwe            Low income   \n\n    Lending Category                      Region              Currency Unit  \\\n0                IDA                  South Asia             Afghan afghani   \n1               IBRD       Europe & Central Asia               Albanian lek   \n2               IBRD  Middle East & North Africa             Algerian dinar   \n3                NaN         East Asia & Pacific                U.S. dollar   \n4                NaN       Europe & Central Asia                        NaN   \n..               ...                         ...                        ...   \n265             IBRD   Latin America & Caribbean  Venezuelan bolivar fuerte   \n266            Blend         East Asia & Pacific            Vietnamese dong   \n270              IDA  Middle East & North Africa                Yemeni rial   \n273              IDA          Sub-Saharan Africa         New Zambian kwacha   \n274            Blend          Sub-Saharan Africa                U.S. dollar   \n\n    Other Groups WTO Member   latitude   longitude  \n0           HIPC         No  33.939110   67.709953  \n1            NaN        Yes  41.153332   20.168331  \n2            NaN         No  28.033886    1.659626  \n3            NaN         No -14.270972 -170.132217  \n4            NaN         No  42.546245    1.601554  \n..           ...        ...        ...         ...  \n265          NaN        Yes   6.423750  -66.589730  \n266          NaN        Yes  14.058324  108.277199  \n270          NaN         No  15.552727   48.516388  \n273         HIPC        Yes -13.133897   27.849332  \n274          NaN        Yes -19.015438   29.154857  \n\n[227 rows x 12 columns]",
      "text/html": "<div>\n<style scoped>\n    .dataframe tbody tr th:only-of-type {\n        vertical-align: middle;\n    }\n\n    .dataframe tbody tr th {\n        vertical-align: top;\n    }\n\n    .dataframe thead th {\n        text-align: right;\n    }\n</style>\n<table border=\"1\" class=\"dataframe\">\n  <thead>\n    <tr style=\"text-align: right;\">\n      <th></th>\n      <th>Country</th>\n      <th>Country ISO3</th>\n      <th>Country Code</th>\n      <th>Long Name</th>\n      <th>Income Group</th>\n      <th>Lending Category</th>\n      <th>Region</th>\n      <th>Currency Unit</th>\n      <th>Other Groups</th>\n      <th>WTO Member</th>\n      <th>latitude</th>\n      <th>longitude</th>\n    </tr>\n  </thead>\n  <tbody>\n    <tr>\n      <th>0</th>\n      <td>Afghanistan</td>\n      <td>AFG</td>\n      <td>4</td>\n      <td>Islamic State of Afghanistan</td>\n      <td>Low income</td>\n      <td>IDA</td>\n      <td>South Asia</td>\n      <td>Afghan afghani</td>\n      <td>HIPC</td>\n      <td>No</td>\n      <td>33.939110</td>\n      <td>67.709953</td>\n    </tr>\n    <tr>\n      <th>1</th>\n      <td>Albania</td>\n      <td>ALB</td>\n      <td>8</td>\n      <td>Republic of Albania</td>\n      <td>Upper middle income</td>\n      <td>IBRD</td>\n      <td>Europe &amp; Central Asia</td>\n      <td>Albanian lek</td>\n      <td>NaN</td>\n      <td>Yes</td>\n      <td>41.153332</td>\n      <td>20.168331</td>\n    </tr>\n    <tr>\n      <th>2</th>\n      <td>Algeria</td>\n      <td>DZA</td>\n      <td>12</td>\n      <td>People's Democratic Republic of Algeria</td>\n      <td>Upper middle income</td>\n      <td>IBRD</td>\n      <td>Middle East &amp; North Africa</td>\n      <td>Algerian dinar</td>\n      <td>NaN</td>\n      <td>No</td>\n      <td>28.033886</td>\n      <td>1.659626</td>\n    </tr>\n    <tr>\n      <th>3</th>\n      <td>American Samoa</td>\n      <td>ASM</td>\n      <td>16</td>\n      <td>American Samoa</td>\n      <td>Upper middle income</td>\n      <td>NaN</td>\n      <td>East Asia &amp; Pacific</td>\n      <td>U.S. dollar</td>\n      <td>NaN</td>\n      <td>No</td>\n      <td>-14.270972</td>\n      <td>-170.132217</td>\n    </tr>\n    <tr>\n      <th>4</th>\n      <td>Andorra</td>\n      <td>AND</td>\n      <td>20</td>\n      <td>NaN</td>\n      <td>Others</td>\n      <td>NaN</td>\n      <td>Europe &amp; Central Asia</td>\n      <td>NaN</td>\n      <td>NaN</td>\n      <td>No</td>\n      <td>42.546245</td>\n      <td>1.601554</td>\n    </tr>\n    <tr>\n      <th>...</th>\n      <td>...</td>\n      <td>...</td>\n      <td>...</td>\n      <td>...</td>\n      <td>...</td>\n      <td>...</td>\n      <td>...</td>\n      <td>...</td>\n      <td>...</td>\n      <td>...</td>\n      <td>...</td>\n      <td>...</td>\n    </tr>\n    <tr>\n      <th>265</th>\n      <td>Venezuela</td>\n      <td>VEN</td>\n      <td>862</td>\n      <td>República Bolivariana de Venezuela</td>\n      <td>High income: nonOECD</td>\n      <td>IBRD</td>\n      <td>Latin America &amp; Caribbean</td>\n      <td>Venezuelan bolivar fuerte</td>\n      <td>NaN</td>\n      <td>Yes</td>\n      <td>6.423750</td>\n      <td>-66.589730</td>\n    </tr>\n    <tr>\n      <th>266</th>\n      <td>Vietnam</td>\n      <td>VNM</td>\n      <td>704</td>\n      <td>Socialist Republic of Vietnam</td>\n      <td>Lower middle income</td>\n      <td>Blend</td>\n      <td>East Asia &amp; Pacific</td>\n      <td>Vietnamese dong</td>\n      <td>NaN</td>\n      <td>Yes</td>\n      <td>14.058324</td>\n      <td>108.277199</td>\n    </tr>\n    <tr>\n      <th>270</th>\n      <td>Yemen</td>\n      <td>YEM</td>\n      <td>887</td>\n      <td>Republic of Yemen</td>\n      <td>Lower middle income</td>\n      <td>IDA</td>\n      <td>Middle East &amp; North Africa</td>\n      <td>Yemeni rial</td>\n      <td>NaN</td>\n      <td>No</td>\n      <td>15.552727</td>\n      <td>48.516388</td>\n    </tr>\n    <tr>\n      <th>273</th>\n      <td>Zambia</td>\n      <td>ZMB</td>\n      <td>894</td>\n      <td>Republic of Zambia</td>\n      <td>Lower middle income</td>\n      <td>IDA</td>\n      <td>Sub-Saharan Africa</td>\n      <td>New Zambian kwacha</td>\n      <td>HIPC</td>\n      <td>Yes</td>\n      <td>-13.133897</td>\n      <td>27.849332</td>\n    </tr>\n    <tr>\n      <th>274</th>\n      <td>Zimbabwe</td>\n      <td>ZWE</td>\n      <td>716</td>\n      <td>Republic of Zimbabwe</td>\n      <td>Low income</td>\n      <td>Blend</td>\n      <td>Sub-Saharan Africa</td>\n      <td>U.S. dollar</td>\n      <td>NaN</td>\n      <td>Yes</td>\n      <td>-19.015438</td>\n      <td>29.154857</td>\n    </tr>\n  </tbody>\n</table>\n<p>227 rows × 12 columns</p>\n</div>"
     },
     "execution_count": 59,
     "metadata": {},
     "output_type": "execute_result"
    }
   ],
   "source": [
    "df_country_w_continent = pd.read_excel(\"../data/countries_w_continent.xlsx\", sheet_name=0, index_col=0)\n",
    "df_country_w_continent"
   ],
   "metadata": {
    "collapsed": false
   }
  },
  {
   "cell_type": "code",
   "execution_count": 61,
   "outputs": [],
   "source": [
    "lst_sdg = [\"SDG\" + str(i) for i in range(1, 18)]\n",
    "lst_cat = [\"Environment\", \"Society\", \"Economy\"]\n",
    "lst_dt_shortened = ['AI', 'robotics', 'IOT']\n",
    "lst_dt = ['AI', 'big_data', 'IOT', 'computing_infrastructure', 'blockchain', 'robotics',\n",
    "          'additive_manufacturing']\n",
    "lst_cat_dt = ['Environment-AI', 'Environment-robotics', 'Environment-IOT',\n",
    "              'Society-AI', 'Society-robotics', 'Society-IOT',\n",
    "              'Economy-AI', 'Economy-robotics', 'Economy-IOT']\n",
    "df_sdg = pd.read_pickle(\"../data/dataframes/output/all_sdg_fixed_dst.pkl\")\n",
    "df_dt = pd.read_pickle(\"../data/dataframes/DT/dt_updated.pkl\")\n",
    "\n",
    "# Filtering for Journal only\n",
    "df_sdg = df_sdg[df_sdg.PT == 'J']\n",
    "df_dt = df_dt[df_dt.PT == 'J']\n",
    "df_sdg_dt = df_sdg[df_sdg['DST']]"
   ],
   "metadata": {
    "collapsed": false
   }
  },
  {
   "cell_type": "code",
   "execution_count": 62,
   "outputs": [
    {
     "name": "stderr",
     "output_type": "stream",
     "text": [
      "100%|██████████| 1072858/1072858 [00:06<00:00, 162341.09it/s]\n",
      "100%|██████████| 755468/755468 [00:02<00:00, 281547.62it/s]\n",
      "100%|██████████| 33097/33097 [00:00<00:00, 140127.67it/s]"
     ]
    },
    {
     "name": "stdout",
     "output_type": "stream",
     "text": [
      "CPU times: user 9.58 s, sys: 2.33 ms, total: 9.58 s\n",
      "Wall time: 9.58 s\n"
     ]
    },
    {
     "name": "stderr",
     "output_type": "stream",
     "text": [
      "\n"
     ]
    }
   ],
   "source": [
    "%%time\n",
    "import itertools\n",
    "from tqdm import tqdm\n",
    "dic = {c:{elem:0 for elem in lst_sdg+lst_cat+lst_dt+lst_cat_dt} for c in set_countries}\n",
    "dic_world = {elem:0 for elem in lst_sdg+lst_cat+lst_dt+lst_cat_dt}\n",
    "\n",
    "# SDG dataframe\n",
    "for row in tqdm(df_sdg.itertuples(index=False, name=None), total=df_sdg.shape[0]):\n",
    "    lst_actors = row[idx_sdg['CN']].split(\", \")\n",
    "    size_actors = len(lst_actors)\n",
    "    sdgs_in_pubs = []\n",
    "    # Country count\n",
    "    for sdg in lst_sdg:\n",
    "        if row[idx_sdg[sdg]]:\n",
    "            sdgs_in_pubs += sdg\n",
    "            for actor in lst_actors:\n",
    "                dic_world[sdg] += 1\n",
    "                dic[actor][sdg] += 1\n",
    "    for cat in lst_cat:\n",
    "        if row[idx_sdg[cat]]:\n",
    "            for actor in lst_actors:\n",
    "                dic_world[cat] += 1\n",
    "                dic[actor][cat] += 1\n",
    "\n",
    "\n",
    "# DT dataframe\n",
    "for row in tqdm(df_dt.itertuples(index=False, name=None), total=df_dt.shape[0]):\n",
    "    lst_actors = row[idx_dt['CN']].split(\", \")\n",
    "    # Country count\n",
    "    for dt in lst_dt:\n",
    "        if row[idx_dt[dt]]:\n",
    "            for actor in lst_actors:\n",
    "                if actor in dic:\n",
    "                    dic[actor][dt] += 1\n",
    "                    dic_world[dt] += 1\n",
    "\n",
    "# Intersection\n",
    "for row in tqdm(df_sdg_dt.itertuples(index=False, name=None), total=df_sdg_dt.shape[0]):\n",
    "    # Country count\n",
    "    lst_actors = row[idx_sdg_dt['CN']].split(\", \")\n",
    "    for cat in lst_cat:\n",
    "        if row[idx_sdg_dt[cat]]:\n",
    "            for dt in lst_dt:\n",
    "                if row[idx_sdg_dt[dt]]:\n",
    "                    for actor in lst_actors:\n",
    "                        if str(cat) + \"-\" + str(dt) in lst_cat_dt:\n",
    "                            dic_world[str(cat) + \"-\" + str(dt)] += 1\n",
    "                            dic[actor][str(cat) + \"-\" + str(dt)] += 1\n"
   ],
   "metadata": {
    "collapsed": false
   }
  },
  {
   "cell_type": "code",
   "execution_count": 33,
   "outputs": [
    {
     "name": "stderr",
     "output_type": "stream",
     "text": [
      "100%|██████████| 1072858/1072858 [00:06<00:00, 157505.05it/s]\n",
      "100%|██████████| 755468/755468 [00:02<00:00, 255830.72it/s]\n",
      "100%|██████████| 33097/33097 [00:00<00:00, 163085.32it/s]"
     ]
    },
    {
     "name": "stdout",
     "output_type": "stream",
     "text": [
      "CPU times: user 10 s, sys: 6.83 ms, total: 10 s\n",
      "Wall time: 10 s\n"
     ]
    },
    {
     "name": "stderr",
     "output_type": "stream",
     "text": [
      "\n"
     ]
    }
   ],
   "source": [
    "\"\"\"\n",
    "%%time\n",
    "# Fractional version\n",
    "\n",
    "import itertools\n",
    "from tqdm import tqdm\n",
    "dic = {c:{elem:0 for elem in lst_sdg+lst_cat+lst_dt+lst_cat_dt} for c in set_countries}\n",
    "dic_world = {elem:0 for elem in lst_sdg+lst_cat+lst_dt+lst_cat_dt}\n",
    "\n",
    "# SDG dataframe\n",
    "for row in tqdm(df_sdg.itertuples(index=False, name=None), total=df_sdg.shape[0]):\n",
    "    lst_actors = row[idx_sdg['CN']].split(\", \")\n",
    "    size_actors = len(lst_actors)\n",
    "    sdgs_in_pub = []\n",
    "    cats_in_pub = []\n",
    "    # Country count\n",
    "    for sdg in lst_sdg:\n",
    "        if row[idx_sdg[sdg]]:\n",
    "            sdgs_in_pub.append(sdg)\n",
    "    for cat in lst_cat:\n",
    "        if row[idx_sdg[cat]]:\n",
    "            cats_in_pub.append(cat)\n",
    "    tot_sdg_in_pub = len(sdgs_in_pub)\n",
    "    tot_cat_in_pub = len(cats_in_pub)\n",
    "    for sdg in sdgs_in_pub:\n",
    "        dic_world[sdg] += 1/tot_sdg_in_pub\n",
    "    for cat in cats_in_pub:\n",
    "        dic_world[cat] += 1/tot_cat_in_pub\n",
    "\n",
    "    for actor in lst_actors:\n",
    "        for sdg in sdgs_in_pub:\n",
    "            dic[actor][sdg] += 1/(size_actors*tot_sdg_in_pub)\n",
    "        for cat in cats_in_pub:\n",
    "            dic[actor][cat] += 1/(size_actors*tot_cat_in_pub)\n",
    "\n",
    "\n",
    "# DT dataframe\n",
    "for row in tqdm(df_dt.itertuples(index=False, name=None), total=df_dt.shape[0]):\n",
    "    lst_actors = row[idx_dt['CN']].split(\", \")\n",
    "    tot_actors = len(lst_actors)\n",
    "    dt_in_pub = []\n",
    "    # Country count\n",
    "    for dt in lst_dt:\n",
    "        if row[idx_dt[dt]]:\n",
    "            dt_in_pub.append(dt)\n",
    "    tot_dt = len(dt_in_pub)\n",
    "    for dt in dt_in_pub:\n",
    "        dic_world[dt] += 1/tot_dt\n",
    "    for actor in lst_actors:\n",
    "        if actor in dic:\n",
    "            for dt in dt_in_pub:\n",
    "                dic[actor][dt] += 1/(tot_actors*tot_dt)\n",
    "\n",
    "\n",
    "# Intersection\n",
    "for row in tqdm(df_sdg_dt.itertuples(index=False, name=None), total=df_sdg_dt.shape[0]):\n",
    "    # Country count\n",
    "    lst_actors = row[idx_sdg_dt['CN']].split(\", \")\n",
    "    tot_actors = len(lst_actors)\n",
    "    inter_in_pub = []\n",
    "    for cat in lst_cat:\n",
    "        if row[idx_sdg_dt[cat]]:\n",
    "            for dt in lst_dt:\n",
    "                if row[idx_sdg_dt[dt]]:\n",
    "                    inter_in_pub.append(str(cat) + \"-\" + str(dt))\n",
    "    tot_inter = len(inter_in_pub)\n",
    "    for inter in inter_in_pub:\n",
    "        if inter in dic_world:\n",
    "            dic_world[inter] += 1/tot_inter\n",
    "\n",
    "    for actor in lst_actors:\n",
    "        for inter in inter_in_pub:\n",
    "            if inter in lst_cat_dt:\n",
    "                dic[actor][inter] += (1 / (tot_inter*tot_actors))\n",
    "\"\"\"\n"
   ],
   "metadata": {
    "collapsed": false
   }
  },
  {
   "cell_type": "code",
   "execution_count": 63,
   "outputs": [
    {
     "data": {
      "text/plain": "                 SDG1   SDG2    SDG3   SDG4   SDG5   SDG6   SDG7   SDG8  \\\nUnited States   35691  13659  160936  64511  59759  51527  25011  15220   \nCzech Republic    204    241    1791    486   1173   3184    699    417   \nKiribati            6      7       0      1      4      3      6      0   \nSeychelles          1      1      14      6     54      7      1      0   \nEswatini           17      2      58     11      5     13      7      4   \n...               ...    ...     ...    ...    ...    ...    ...    ...   \nBrazil           3522   4358   19545   2880   8478  22590   4766   1314   \nCanada           5492   2333   22182   8267  11843  14299   4583   2215   \nNigeria          1356    766    4571    760    944   1841    592    575   \nSomalia            15      8      43      3      8      6      0      4   \nFinland           638    388    3018   1858   2365   3850   1673    537   \n\n                 SDG9  SDG10  ...  additive_manufacturing  Environment-AI  \\\nUnited States   12575  10377  ...                   48039            5836   \nCzech Republic    387    381  ...                    2086             122   \nKiribati            0      0  ...                       0               0   \nSeychelles          4      0  ...                       0               0   \nEswatini            0      0  ...                       0               0   \n...               ...    ...  ...                     ...             ...   \nBrazil           2306   1615  ...                    4181            1015   \nCanada           2310   3014  ...                    5998            1128   \nNigeria           789    415  ...                      89             108   \nSomalia             1      1  ...                       0               0   \nFinland           674    733  ...                    1574             220   \n\n                Environment-robotics  Environment-IOT  Society-AI  \\\nUnited States                   2342              841        7546   \nCzech Republic                    59               19         155   \nKiribati                           0                0           0   \nSeychelles                         2                0           0   \nEswatini                           0                0          11   \n...                              ...              ...         ...   \nBrazil                           287               70        1056   \nCanada                           262              127        1345   \nNigeria                           10               18         160   \nSomalia                            0                0           2   \nFinland                           94               59         225   \n\n                Society-robotics  Society-IOT  Economy-AI  Economy-robotics  \\\nUnited States               1716         2268        1253               454   \nCzech Republic                58           37          32                12   \nKiribati                       0            0           0                 0   \nSeychelles                     0            0           0                 0   \nEswatini                       5            0           0                 0   \n...                          ...          ...         ...               ...   \nBrazil                       224          270         204                45   \nCanada                       208          422         200                38   \nNigeria                        6           37          53                 7   \nSomalia                        0            0           2                 0   \nFinland                       51          133          36                22   \n\n                Economy-IOT  \nUnited States           397  \nCzech Republic           17  \nKiribati                  0  \nSeychelles                0  \nEswatini                  0  \n...                     ...  \nBrazil                   93  \nCanada                   91  \nNigeria                   3  \nSomalia                   0  \nFinland                  75  \n\n[218 rows x 36 columns]",
      "text/html": "<div>\n<style scoped>\n    .dataframe tbody tr th:only-of-type {\n        vertical-align: middle;\n    }\n\n    .dataframe tbody tr th {\n        vertical-align: top;\n    }\n\n    .dataframe thead th {\n        text-align: right;\n    }\n</style>\n<table border=\"1\" class=\"dataframe\">\n  <thead>\n    <tr style=\"text-align: right;\">\n      <th></th>\n      <th>SDG1</th>\n      <th>SDG2</th>\n      <th>SDG3</th>\n      <th>SDG4</th>\n      <th>SDG5</th>\n      <th>SDG6</th>\n      <th>SDG7</th>\n      <th>SDG8</th>\n      <th>SDG9</th>\n      <th>SDG10</th>\n      <th>...</th>\n      <th>additive_manufacturing</th>\n      <th>Environment-AI</th>\n      <th>Environment-robotics</th>\n      <th>Environment-IOT</th>\n      <th>Society-AI</th>\n      <th>Society-robotics</th>\n      <th>Society-IOT</th>\n      <th>Economy-AI</th>\n      <th>Economy-robotics</th>\n      <th>Economy-IOT</th>\n    </tr>\n  </thead>\n  <tbody>\n    <tr>\n      <th>United States</th>\n      <td>35691</td>\n      <td>13659</td>\n      <td>160936</td>\n      <td>64511</td>\n      <td>59759</td>\n      <td>51527</td>\n      <td>25011</td>\n      <td>15220</td>\n      <td>12575</td>\n      <td>10377</td>\n      <td>...</td>\n      <td>48039</td>\n      <td>5836</td>\n      <td>2342</td>\n      <td>841</td>\n      <td>7546</td>\n      <td>1716</td>\n      <td>2268</td>\n      <td>1253</td>\n      <td>454</td>\n      <td>397</td>\n    </tr>\n    <tr>\n      <th>Czech Republic</th>\n      <td>204</td>\n      <td>241</td>\n      <td>1791</td>\n      <td>486</td>\n      <td>1173</td>\n      <td>3184</td>\n      <td>699</td>\n      <td>417</td>\n      <td>387</td>\n      <td>381</td>\n      <td>...</td>\n      <td>2086</td>\n      <td>122</td>\n      <td>59</td>\n      <td>19</td>\n      <td>155</td>\n      <td>58</td>\n      <td>37</td>\n      <td>32</td>\n      <td>12</td>\n      <td>17</td>\n    </tr>\n    <tr>\n      <th>Kiribati</th>\n      <td>6</td>\n      <td>7</td>\n      <td>0</td>\n      <td>1</td>\n      <td>4</td>\n      <td>3</td>\n      <td>6</td>\n      <td>0</td>\n      <td>0</td>\n      <td>0</td>\n      <td>...</td>\n      <td>0</td>\n      <td>0</td>\n      <td>0</td>\n      <td>0</td>\n      <td>0</td>\n      <td>0</td>\n      <td>0</td>\n      <td>0</td>\n      <td>0</td>\n      <td>0</td>\n    </tr>\n    <tr>\n      <th>Seychelles</th>\n      <td>1</td>\n      <td>1</td>\n      <td>14</td>\n      <td>6</td>\n      <td>54</td>\n      <td>7</td>\n      <td>1</td>\n      <td>0</td>\n      <td>4</td>\n      <td>0</td>\n      <td>...</td>\n      <td>0</td>\n      <td>0</td>\n      <td>2</td>\n      <td>0</td>\n      <td>0</td>\n      <td>0</td>\n      <td>0</td>\n      <td>0</td>\n      <td>0</td>\n      <td>0</td>\n    </tr>\n    <tr>\n      <th>Eswatini</th>\n      <td>17</td>\n      <td>2</td>\n      <td>58</td>\n      <td>11</td>\n      <td>5</td>\n      <td>13</td>\n      <td>7</td>\n      <td>4</td>\n      <td>0</td>\n      <td>0</td>\n      <td>...</td>\n      <td>0</td>\n      <td>0</td>\n      <td>0</td>\n      <td>0</td>\n      <td>11</td>\n      <td>5</td>\n      <td>0</td>\n      <td>0</td>\n      <td>0</td>\n      <td>0</td>\n    </tr>\n    <tr>\n      <th>...</th>\n      <td>...</td>\n      <td>...</td>\n      <td>...</td>\n      <td>...</td>\n      <td>...</td>\n      <td>...</td>\n      <td>...</td>\n      <td>...</td>\n      <td>...</td>\n      <td>...</td>\n      <td>...</td>\n      <td>...</td>\n      <td>...</td>\n      <td>...</td>\n      <td>...</td>\n      <td>...</td>\n      <td>...</td>\n      <td>...</td>\n      <td>...</td>\n      <td>...</td>\n      <td>...</td>\n    </tr>\n    <tr>\n      <th>Brazil</th>\n      <td>3522</td>\n      <td>4358</td>\n      <td>19545</td>\n      <td>2880</td>\n      <td>8478</td>\n      <td>22590</td>\n      <td>4766</td>\n      <td>1314</td>\n      <td>2306</td>\n      <td>1615</td>\n      <td>...</td>\n      <td>4181</td>\n      <td>1015</td>\n      <td>287</td>\n      <td>70</td>\n      <td>1056</td>\n      <td>224</td>\n      <td>270</td>\n      <td>204</td>\n      <td>45</td>\n      <td>93</td>\n    </tr>\n    <tr>\n      <th>Canada</th>\n      <td>5492</td>\n      <td>2333</td>\n      <td>22182</td>\n      <td>8267</td>\n      <td>11843</td>\n      <td>14299</td>\n      <td>4583</td>\n      <td>2215</td>\n      <td>2310</td>\n      <td>3014</td>\n      <td>...</td>\n      <td>5998</td>\n      <td>1128</td>\n      <td>262</td>\n      <td>127</td>\n      <td>1345</td>\n      <td>208</td>\n      <td>422</td>\n      <td>200</td>\n      <td>38</td>\n      <td>91</td>\n    </tr>\n    <tr>\n      <th>Nigeria</th>\n      <td>1356</td>\n      <td>766</td>\n      <td>4571</td>\n      <td>760</td>\n      <td>944</td>\n      <td>1841</td>\n      <td>592</td>\n      <td>575</td>\n      <td>789</td>\n      <td>415</td>\n      <td>...</td>\n      <td>89</td>\n      <td>108</td>\n      <td>10</td>\n      <td>18</td>\n      <td>160</td>\n      <td>6</td>\n      <td>37</td>\n      <td>53</td>\n      <td>7</td>\n      <td>3</td>\n    </tr>\n    <tr>\n      <th>Somalia</th>\n      <td>15</td>\n      <td>8</td>\n      <td>43</td>\n      <td>3</td>\n      <td>8</td>\n      <td>6</td>\n      <td>0</td>\n      <td>4</td>\n      <td>1</td>\n      <td>1</td>\n      <td>...</td>\n      <td>0</td>\n      <td>0</td>\n      <td>0</td>\n      <td>0</td>\n      <td>2</td>\n      <td>0</td>\n      <td>0</td>\n      <td>2</td>\n      <td>0</td>\n      <td>0</td>\n    </tr>\n    <tr>\n      <th>Finland</th>\n      <td>638</td>\n      <td>388</td>\n      <td>3018</td>\n      <td>1858</td>\n      <td>2365</td>\n      <td>3850</td>\n      <td>1673</td>\n      <td>537</td>\n      <td>674</td>\n      <td>733</td>\n      <td>...</td>\n      <td>1574</td>\n      <td>220</td>\n      <td>94</td>\n      <td>59</td>\n      <td>225</td>\n      <td>51</td>\n      <td>133</td>\n      <td>36</td>\n      <td>22</td>\n      <td>75</td>\n    </tr>\n  </tbody>\n</table>\n<p>218 rows × 36 columns</p>\n</div>"
     },
     "execution_count": 63,
     "metadata": {},
     "output_type": "execute_result"
    }
   ],
   "source": [
    "df_spec_raw = pd.DataFrame.from_dict(data=dic, orient=\"index\", columns=lst_sdg+lst_cat+lst_dt+lst_cat_dt)\n",
    "df_spec_raw\n"
   ],
   "metadata": {
    "collapsed": false
   }
  },
  {
   "cell_type": "code",
   "execution_count": 64,
   "outputs": [
    {
     "data": {
      "text/plain": "                    SDG1     SDG2      SDG3      SDG4      SDG5      SDG6  \\\nUnited States    35691.0  13659.0  160936.0   64511.0   59759.0   51527.0   \nCzech Republic     204.0    241.0    1791.0     486.0    1173.0    3184.0   \nKiribati             6.0      7.0       0.0       1.0       4.0       3.0   \nSeychelles           1.0      1.0      14.0       6.0      54.0       7.0   \nEswatini            17.0      2.0      58.0      11.0       5.0      13.0   \n...                  ...      ...       ...       ...       ...       ...   \nCanada            5492.0   2333.0   22182.0    8267.0   11843.0   14299.0   \nNigeria           1356.0    766.0    4571.0     760.0     944.0    1841.0   \nSomalia             15.0      8.0      43.0       3.0       8.0       6.0   \nFinland            638.0    388.0    3018.0    1858.0    2365.0    3850.0   \nworld           120625.0  89733.0  706438.0  190477.0  300975.0  598317.0   \n\n                    SDG7     SDG8     SDG9    SDG10  ...  \\\nUnited States    25011.0  15220.0  12575.0  10377.0  ...   \nCzech Republic     699.0    417.0    387.0    381.0  ...   \nKiribati             6.0      0.0      0.0      0.0  ...   \nSeychelles           1.0      0.0      4.0      0.0  ...   \nEswatini             7.0      4.0      0.0      0.0  ...   \n...                  ...      ...      ...      ...  ...   \nCanada            4583.0   2215.0   2310.0   3014.0  ...   \nNigeria            592.0    575.0    789.0    415.0  ...   \nSomalia              0.0      4.0      1.0      1.0  ...   \nFinland           1673.0    537.0    674.0    733.0  ...   \nworld           225075.0  72622.0  93317.0  74840.0  ...   \n\n                additive_manufacturing  Environment-AI  Environment-robotics  \\\nUnited States                  48039.0          5836.0                2342.0   \nCzech Republic                  2086.0           122.0                  59.0   \nKiribati                           0.0             0.0                   0.0   \nSeychelles                         0.0             0.0                   2.0   \nEswatini                           0.0             0.0                   0.0   \n...                                ...             ...                   ...   \nCanada                          5998.0          1128.0                 262.0   \nNigeria                           89.0           108.0                  10.0   \nSomalia                            0.0             0.0                   0.0   \nFinland                         1574.0           220.0                  94.0   \nworld                         264913.0         37686.0               11815.0   \n\n                Environment-IOT  Society-AI  Society-robotics  Society-IOT  \\\nUnited States             841.0      7546.0            1716.0       2268.0   \nCzech Republic             19.0       155.0              58.0         37.0   \nKiribati                    0.0         0.0               0.0          0.0   \nSeychelles                  0.0         0.0               0.0          0.0   \nEswatini                    0.0        11.0               5.0          0.0   \n...                         ...         ...               ...          ...   \nCanada                    127.0      1345.0             208.0        422.0   \nNigeria                    18.0       160.0               6.0         37.0   \nSomalia                     0.0         2.0               0.0          0.0   \nFinland                    59.0       225.0              51.0        133.0   \nworld                    6307.0     50369.0           10432.0      20237.0   \n\n                Economy-AI  Economy-robotics  Economy-IOT  \nUnited States       1253.0             454.0        397.0  \nCzech Republic        32.0              12.0         17.0  \nKiribati               0.0               0.0          0.0  \nSeychelles             0.0               0.0          0.0  \nEswatini               0.0               0.0          0.0  \n...                    ...               ...          ...  \nCanada               200.0              38.0         91.0  \nNigeria               53.0               7.0          3.0  \nSomalia                2.0               0.0          0.0  \nFinland               36.0              22.0         75.0  \nworld              10094.0            2394.0       4320.0  \n\n[219 rows x 36 columns]",
      "text/html": "<div>\n<style scoped>\n    .dataframe tbody tr th:only-of-type {\n        vertical-align: middle;\n    }\n\n    .dataframe tbody tr th {\n        vertical-align: top;\n    }\n\n    .dataframe thead th {\n        text-align: right;\n    }\n</style>\n<table border=\"1\" class=\"dataframe\">\n  <thead>\n    <tr style=\"text-align: right;\">\n      <th></th>\n      <th>SDG1</th>\n      <th>SDG2</th>\n      <th>SDG3</th>\n      <th>SDG4</th>\n      <th>SDG5</th>\n      <th>SDG6</th>\n      <th>SDG7</th>\n      <th>SDG8</th>\n      <th>SDG9</th>\n      <th>SDG10</th>\n      <th>...</th>\n      <th>additive_manufacturing</th>\n      <th>Environment-AI</th>\n      <th>Environment-robotics</th>\n      <th>Environment-IOT</th>\n      <th>Society-AI</th>\n      <th>Society-robotics</th>\n      <th>Society-IOT</th>\n      <th>Economy-AI</th>\n      <th>Economy-robotics</th>\n      <th>Economy-IOT</th>\n    </tr>\n  </thead>\n  <tbody>\n    <tr>\n      <th>United States</th>\n      <td>35691.0</td>\n      <td>13659.0</td>\n      <td>160936.0</td>\n      <td>64511.0</td>\n      <td>59759.0</td>\n      <td>51527.0</td>\n      <td>25011.0</td>\n      <td>15220.0</td>\n      <td>12575.0</td>\n      <td>10377.0</td>\n      <td>...</td>\n      <td>48039.0</td>\n      <td>5836.0</td>\n      <td>2342.0</td>\n      <td>841.0</td>\n      <td>7546.0</td>\n      <td>1716.0</td>\n      <td>2268.0</td>\n      <td>1253.0</td>\n      <td>454.0</td>\n      <td>397.0</td>\n    </tr>\n    <tr>\n      <th>Czech Republic</th>\n      <td>204.0</td>\n      <td>241.0</td>\n      <td>1791.0</td>\n      <td>486.0</td>\n      <td>1173.0</td>\n      <td>3184.0</td>\n      <td>699.0</td>\n      <td>417.0</td>\n      <td>387.0</td>\n      <td>381.0</td>\n      <td>...</td>\n      <td>2086.0</td>\n      <td>122.0</td>\n      <td>59.0</td>\n      <td>19.0</td>\n      <td>155.0</td>\n      <td>58.0</td>\n      <td>37.0</td>\n      <td>32.0</td>\n      <td>12.0</td>\n      <td>17.0</td>\n    </tr>\n    <tr>\n      <th>Kiribati</th>\n      <td>6.0</td>\n      <td>7.0</td>\n      <td>0.0</td>\n      <td>1.0</td>\n      <td>4.0</td>\n      <td>3.0</td>\n      <td>6.0</td>\n      <td>0.0</td>\n      <td>0.0</td>\n      <td>0.0</td>\n      <td>...</td>\n      <td>0.0</td>\n      <td>0.0</td>\n      <td>0.0</td>\n      <td>0.0</td>\n      <td>0.0</td>\n      <td>0.0</td>\n      <td>0.0</td>\n      <td>0.0</td>\n      <td>0.0</td>\n      <td>0.0</td>\n    </tr>\n    <tr>\n      <th>Seychelles</th>\n      <td>1.0</td>\n      <td>1.0</td>\n      <td>14.0</td>\n      <td>6.0</td>\n      <td>54.0</td>\n      <td>7.0</td>\n      <td>1.0</td>\n      <td>0.0</td>\n      <td>4.0</td>\n      <td>0.0</td>\n      <td>...</td>\n      <td>0.0</td>\n      <td>0.0</td>\n      <td>2.0</td>\n      <td>0.0</td>\n      <td>0.0</td>\n      <td>0.0</td>\n      <td>0.0</td>\n      <td>0.0</td>\n      <td>0.0</td>\n      <td>0.0</td>\n    </tr>\n    <tr>\n      <th>Eswatini</th>\n      <td>17.0</td>\n      <td>2.0</td>\n      <td>58.0</td>\n      <td>11.0</td>\n      <td>5.0</td>\n      <td>13.0</td>\n      <td>7.0</td>\n      <td>4.0</td>\n      <td>0.0</td>\n      <td>0.0</td>\n      <td>...</td>\n      <td>0.0</td>\n      <td>0.0</td>\n      <td>0.0</td>\n      <td>0.0</td>\n      <td>11.0</td>\n      <td>5.0</td>\n      <td>0.0</td>\n      <td>0.0</td>\n      <td>0.0</td>\n      <td>0.0</td>\n    </tr>\n    <tr>\n      <th>...</th>\n      <td>...</td>\n      <td>...</td>\n      <td>...</td>\n      <td>...</td>\n      <td>...</td>\n      <td>...</td>\n      <td>...</td>\n      <td>...</td>\n      <td>...</td>\n      <td>...</td>\n      <td>...</td>\n      <td>...</td>\n      <td>...</td>\n      <td>...</td>\n      <td>...</td>\n      <td>...</td>\n      <td>...</td>\n      <td>...</td>\n      <td>...</td>\n      <td>...</td>\n      <td>...</td>\n    </tr>\n    <tr>\n      <th>Canada</th>\n      <td>5492.0</td>\n      <td>2333.0</td>\n      <td>22182.0</td>\n      <td>8267.0</td>\n      <td>11843.0</td>\n      <td>14299.0</td>\n      <td>4583.0</td>\n      <td>2215.0</td>\n      <td>2310.0</td>\n      <td>3014.0</td>\n      <td>...</td>\n      <td>5998.0</td>\n      <td>1128.0</td>\n      <td>262.0</td>\n      <td>127.0</td>\n      <td>1345.0</td>\n      <td>208.0</td>\n      <td>422.0</td>\n      <td>200.0</td>\n      <td>38.0</td>\n      <td>91.0</td>\n    </tr>\n    <tr>\n      <th>Nigeria</th>\n      <td>1356.0</td>\n      <td>766.0</td>\n      <td>4571.0</td>\n      <td>760.0</td>\n      <td>944.0</td>\n      <td>1841.0</td>\n      <td>592.0</td>\n      <td>575.0</td>\n      <td>789.0</td>\n      <td>415.0</td>\n      <td>...</td>\n      <td>89.0</td>\n      <td>108.0</td>\n      <td>10.0</td>\n      <td>18.0</td>\n      <td>160.0</td>\n      <td>6.0</td>\n      <td>37.0</td>\n      <td>53.0</td>\n      <td>7.0</td>\n      <td>3.0</td>\n    </tr>\n    <tr>\n      <th>Somalia</th>\n      <td>15.0</td>\n      <td>8.0</td>\n      <td>43.0</td>\n      <td>3.0</td>\n      <td>8.0</td>\n      <td>6.0</td>\n      <td>0.0</td>\n      <td>4.0</td>\n      <td>1.0</td>\n      <td>1.0</td>\n      <td>...</td>\n      <td>0.0</td>\n      <td>0.0</td>\n      <td>0.0</td>\n      <td>0.0</td>\n      <td>2.0</td>\n      <td>0.0</td>\n      <td>0.0</td>\n      <td>2.0</td>\n      <td>0.0</td>\n      <td>0.0</td>\n    </tr>\n    <tr>\n      <th>Finland</th>\n      <td>638.0</td>\n      <td>388.0</td>\n      <td>3018.0</td>\n      <td>1858.0</td>\n      <td>2365.0</td>\n      <td>3850.0</td>\n      <td>1673.0</td>\n      <td>537.0</td>\n      <td>674.0</td>\n      <td>733.0</td>\n      <td>...</td>\n      <td>1574.0</td>\n      <td>220.0</td>\n      <td>94.0</td>\n      <td>59.0</td>\n      <td>225.0</td>\n      <td>51.0</td>\n      <td>133.0</td>\n      <td>36.0</td>\n      <td>22.0</td>\n      <td>75.0</td>\n    </tr>\n    <tr>\n      <th>world</th>\n      <td>120625.0</td>\n      <td>89733.0</td>\n      <td>706438.0</td>\n      <td>190477.0</td>\n      <td>300975.0</td>\n      <td>598317.0</td>\n      <td>225075.0</td>\n      <td>72622.0</td>\n      <td>93317.0</td>\n      <td>74840.0</td>\n      <td>...</td>\n      <td>264913.0</td>\n      <td>37686.0</td>\n      <td>11815.0</td>\n      <td>6307.0</td>\n      <td>50369.0</td>\n      <td>10432.0</td>\n      <td>20237.0</td>\n      <td>10094.0</td>\n      <td>2394.0</td>\n      <td>4320.0</td>\n    </tr>\n  </tbody>\n</table>\n<p>219 rows × 36 columns</p>\n</div>"
     },
     "execution_count": 64,
     "metadata": {},
     "output_type": "execute_result"
    }
   ],
   "source": [
    "df_spec_raw.loc['world', :] = df_spec_raw.sum(axis=0)\n",
    "df_spec_raw"
   ],
   "metadata": {
    "collapsed": false
   }
  },
  {
   "cell_type": "code",
   "execution_count": 65,
   "outputs": [
    {
     "data": {
      "text/plain": "       SDG1   SDG2    SDG3    SDG4    SDG5    SDG6    SDG7   SDG8   SDG9  \\\ntot  120625  89733  706438  190477  300975  598317  225075  72622  93317   \n\n     SDG10  ...  additive_manufacturing  Environment-AI  Environment-robotics  \\\ntot  74840  ...                  264913           37686                 11815   \n\n     Environment-IOT  Society-AI  Society-robotics  Society-IOT  Economy-AI  \\\ntot             6307       50369             10432        20237       10094   \n\n     Economy-robotics  Economy-IOT  \ntot              2394         4320  \n\n[1 rows x 36 columns]",
      "text/html": "<div>\n<style scoped>\n    .dataframe tbody tr th:only-of-type {\n        vertical-align: middle;\n    }\n\n    .dataframe tbody tr th {\n        vertical-align: top;\n    }\n\n    .dataframe thead th {\n        text-align: right;\n    }\n</style>\n<table border=\"1\" class=\"dataframe\">\n  <thead>\n    <tr style=\"text-align: right;\">\n      <th></th>\n      <th>SDG1</th>\n      <th>SDG2</th>\n      <th>SDG3</th>\n      <th>SDG4</th>\n      <th>SDG5</th>\n      <th>SDG6</th>\n      <th>SDG7</th>\n      <th>SDG8</th>\n      <th>SDG9</th>\n      <th>SDG10</th>\n      <th>...</th>\n      <th>additive_manufacturing</th>\n      <th>Environment-AI</th>\n      <th>Environment-robotics</th>\n      <th>Environment-IOT</th>\n      <th>Society-AI</th>\n      <th>Society-robotics</th>\n      <th>Society-IOT</th>\n      <th>Economy-AI</th>\n      <th>Economy-robotics</th>\n      <th>Economy-IOT</th>\n    </tr>\n  </thead>\n  <tbody>\n    <tr>\n      <th>tot</th>\n      <td>120625</td>\n      <td>89733</td>\n      <td>706438</td>\n      <td>190477</td>\n      <td>300975</td>\n      <td>598317</td>\n      <td>225075</td>\n      <td>72622</td>\n      <td>93317</td>\n      <td>74840</td>\n      <td>...</td>\n      <td>264913</td>\n      <td>37686</td>\n      <td>11815</td>\n      <td>6307</td>\n      <td>50369</td>\n      <td>10432</td>\n      <td>20237</td>\n      <td>10094</td>\n      <td>2394</td>\n      <td>4320</td>\n    </tr>\n  </tbody>\n</table>\n<p>1 rows × 36 columns</p>\n</div>"
     },
     "execution_count": 65,
     "metadata": {},
     "output_type": "execute_result"
    }
   ],
   "source": [
    "df_world = pd.DataFrame.from_dict(data=dic_world, orient=\"index\", columns=['tot']).transpose()\n",
    "df_world"
   ],
   "metadata": {
    "collapsed": false
   }
  },
  {
   "cell_type": "code",
   "execution_count": 66,
   "outputs": [
    {
     "data": {
      "text/plain": "['Australia',\n 'Canada',\n 'China',\n 'Iceland',\n 'Israel',\n 'Japan',\n 'Norway',\n 'South Korea',\n 'Switzerland',\n 'United Kingdom',\n 'United States']"
     },
     "execution_count": 66,
     "metadata": {},
     "output_type": "execute_result"
    }
   ],
   "source": [
    "# Keeping only some relevant countries\n",
    "all_pub_wos = pd.read_excel(\"../data/total_number_pubs_2010_2022.xlsx\", index_col=0)\n",
    "tot_pub_countries = all_pub_wos.loc['TOT', :]\n",
    "index_countries = list(tot_pub_countries.index)[2:]\n",
    "lst_eu = [\"Austria\", \"Belgium\", \"Bulgaria\", \"Croatia\", \"Cyprus\", \"Czech Republic\", \"Denmark\",\n",
    "          \"Estonia\", \"Finland\", \"France\", \"Germany\", \"Greece\", \"Hungary\", \"Ireland\", \"Italy\",\n",
    "          \"Latvia\", \"Lithuania\", \"Luxembourg\", \"Malta\", \"Netherlands\", \"Poland\",\n",
    "          \"Portugal\", \"Romania\" ,\"Slovakia\", \"Slovenia\", \"Spain\", \"Sweden\"]\n",
    "lst_eu.sort()\n",
    "rest = sorted(list(set(index_countries).difference(set(lst_eu))))\n",
    "rest.remove('Liechtenstein')\n",
    "rest"
   ],
   "metadata": {
    "collapsed": false
   }
  },
  {
   "cell_type": "code",
   "execution_count": 67,
   "outputs": [],
   "source": [
    "df_spec_raw_categories = df_spec_raw.loc[:, ['Environment', 'Society', 'Economy']]\n",
    "df_spec_raw_categories.loc[:, 'tot'] = df_spec_raw_categories.sum(axis=1)\n"
   ],
   "metadata": {
    "collapsed": false
   }
  },
  {
   "cell_type": "code",
   "execution_count": 68,
   "outputs": [
    {
     "data": {
      "text/plain": "                       AI  big_data       IOT  computing_infrastructure  \\\nUnited States    325488.0   42387.0   66839.0                   47419.0   \nCzech Republic     7026.0     547.0    1330.0                     947.0   \nKiribati              0.0       0.0       0.0                       0.0   \nSeychelles            0.0       0.0       0.0                       0.0   \nEswatini              0.0       0.0       0.0                       0.0   \n...                   ...       ...       ...                       ...   \nCanada            51587.0    5481.0   11893.0                    8177.0   \nNigeria            2368.0     236.0     406.0                     408.0   \nSomalia               5.0       0.0       1.0                       2.0   \nFinland           10191.0    1282.0    3772.0                    2740.0   \nworld           2019381.0  228113.0  501330.0                  320170.0   \n\n                blockchain  robotics  additive_manufacturing        tot  \nUnited States       3199.0  107248.0                 48039.0   640619.0  \nCzech Republic        98.0    2245.0                  2086.0    14279.0  \nKiribati               0.0       0.0                     0.0        0.0  \nSeychelles             0.0       2.0                     0.0        2.0  \nEswatini               0.0       0.0                     0.0        0.0  \n...                    ...       ...                     ...        ...  \nCanada               901.0   15687.0                  5998.0    99724.0  \nNigeria               50.0     255.0                    89.0     3812.0  \nSomalia                0.0       1.0                     0.0        9.0  \nFinland              274.0    2622.0                  1574.0    22455.0  \nworld              34501.0  575782.0                264913.0  3944190.0  \n\n[219 rows x 8 columns]",
      "text/html": "<div>\n<style scoped>\n    .dataframe tbody tr th:only-of-type {\n        vertical-align: middle;\n    }\n\n    .dataframe tbody tr th {\n        vertical-align: top;\n    }\n\n    .dataframe thead th {\n        text-align: right;\n    }\n</style>\n<table border=\"1\" class=\"dataframe\">\n  <thead>\n    <tr style=\"text-align: right;\">\n      <th></th>\n      <th>AI</th>\n      <th>big_data</th>\n      <th>IOT</th>\n      <th>computing_infrastructure</th>\n      <th>blockchain</th>\n      <th>robotics</th>\n      <th>additive_manufacturing</th>\n      <th>tot</th>\n    </tr>\n  </thead>\n  <tbody>\n    <tr>\n      <th>United States</th>\n      <td>325488.0</td>\n      <td>42387.0</td>\n      <td>66839.0</td>\n      <td>47419.0</td>\n      <td>3199.0</td>\n      <td>107248.0</td>\n      <td>48039.0</td>\n      <td>640619.0</td>\n    </tr>\n    <tr>\n      <th>Czech Republic</th>\n      <td>7026.0</td>\n      <td>547.0</td>\n      <td>1330.0</td>\n      <td>947.0</td>\n      <td>98.0</td>\n      <td>2245.0</td>\n      <td>2086.0</td>\n      <td>14279.0</td>\n    </tr>\n    <tr>\n      <th>Kiribati</th>\n      <td>0.0</td>\n      <td>0.0</td>\n      <td>0.0</td>\n      <td>0.0</td>\n      <td>0.0</td>\n      <td>0.0</td>\n      <td>0.0</td>\n      <td>0.0</td>\n    </tr>\n    <tr>\n      <th>Seychelles</th>\n      <td>0.0</td>\n      <td>0.0</td>\n      <td>0.0</td>\n      <td>0.0</td>\n      <td>0.0</td>\n      <td>2.0</td>\n      <td>0.0</td>\n      <td>2.0</td>\n    </tr>\n    <tr>\n      <th>Eswatini</th>\n      <td>0.0</td>\n      <td>0.0</td>\n      <td>0.0</td>\n      <td>0.0</td>\n      <td>0.0</td>\n      <td>0.0</td>\n      <td>0.0</td>\n      <td>0.0</td>\n    </tr>\n    <tr>\n      <th>...</th>\n      <td>...</td>\n      <td>...</td>\n      <td>...</td>\n      <td>...</td>\n      <td>...</td>\n      <td>...</td>\n      <td>...</td>\n      <td>...</td>\n    </tr>\n    <tr>\n      <th>Canada</th>\n      <td>51587.0</td>\n      <td>5481.0</td>\n      <td>11893.0</td>\n      <td>8177.0</td>\n      <td>901.0</td>\n      <td>15687.0</td>\n      <td>5998.0</td>\n      <td>99724.0</td>\n    </tr>\n    <tr>\n      <th>Nigeria</th>\n      <td>2368.0</td>\n      <td>236.0</td>\n      <td>406.0</td>\n      <td>408.0</td>\n      <td>50.0</td>\n      <td>255.0</td>\n      <td>89.0</td>\n      <td>3812.0</td>\n    </tr>\n    <tr>\n      <th>Somalia</th>\n      <td>5.0</td>\n      <td>0.0</td>\n      <td>1.0</td>\n      <td>2.0</td>\n      <td>0.0</td>\n      <td>1.0</td>\n      <td>0.0</td>\n      <td>9.0</td>\n    </tr>\n    <tr>\n      <th>Finland</th>\n      <td>10191.0</td>\n      <td>1282.0</td>\n      <td>3772.0</td>\n      <td>2740.0</td>\n      <td>274.0</td>\n      <td>2622.0</td>\n      <td>1574.0</td>\n      <td>22455.0</td>\n    </tr>\n    <tr>\n      <th>world</th>\n      <td>2019381.0</td>\n      <td>228113.0</td>\n      <td>501330.0</td>\n      <td>320170.0</td>\n      <td>34501.0</td>\n      <td>575782.0</td>\n      <td>264913.0</td>\n      <td>3944190.0</td>\n    </tr>\n  </tbody>\n</table>\n<p>219 rows × 8 columns</p>\n</div>"
     },
     "execution_count": 68,
     "metadata": {},
     "output_type": "execute_result"
    }
   ],
   "source": [
    "df_spec_raw_dt = df_spec_raw.loc[:, lst_dt]\n",
    "df_spec_raw_dt.loc[:, 'tot'] = df_spec_raw_dt.sum(axis=1)\n",
    "df_spec_raw_dt"
   ],
   "metadata": {
    "collapsed": false
   }
  },
  {
   "cell_type": "code",
   "execution_count": 69,
   "outputs": [
    {
     "data": {
      "text/plain": "                    SDG1     SDG2      SDG3      SDG4      SDG5      SDG6  \\\nUnited States    35691.0  13659.0  160936.0   64511.0   59759.0   51527.0   \nCzech Republic     204.0    241.0    1791.0     486.0    1173.0    3184.0   \nKiribati             6.0      7.0       0.0       1.0       4.0       3.0   \nSeychelles           1.0      1.0      14.0       6.0      54.0       7.0   \nEswatini            17.0      2.0      58.0      11.0       5.0      13.0   \n...                  ...      ...       ...       ...       ...       ...   \nCanada            5492.0   2333.0   22182.0    8267.0   11843.0   14299.0   \nNigeria           1356.0    766.0    4571.0     760.0     944.0    1841.0   \nSomalia             15.0      8.0      43.0       3.0       8.0       6.0   \nFinland            638.0    388.0    3018.0    1858.0    2365.0    3850.0   \nworld           120625.0  89733.0  706438.0  190477.0  300975.0  598317.0   \n\n                    SDG7     SDG8     SDG9    SDG10     SDG11     SDG12  \\\nUnited States    25011.0  15220.0  12575.0  10377.0   31495.0   39900.0   \nCzech Republic     699.0    417.0    387.0    381.0    1161.0    1726.0   \nKiribati             6.0      0.0      0.0      0.0       0.0       3.0   \nSeychelles           1.0      0.0      4.0      0.0       1.0       1.0   \nEswatini             7.0      4.0      0.0      0.0       9.0       4.0   \n...                  ...      ...      ...      ...       ...       ...   \nCanada            4583.0   2215.0   2310.0   3014.0    5668.0    8629.0   \nNigeria            592.0    575.0    789.0    415.0    1048.0    1442.0   \nSomalia              0.0      4.0      1.0      1.0       7.0       5.0   \nFinland           1673.0    537.0    674.0    733.0    1818.0    2634.0   \nworld           225075.0  72622.0  93317.0  74840.0  249844.0  361954.0   \n\n                    SDG13     SDG14     SDG15     SDG16     SDG17        tot  \nUnited States    237917.0  124120.0   58833.0   45203.0   29878.0  1016612.0  \nCzech Republic     8637.0    2064.0    2994.0     732.0     630.0    26907.0  \nKiribati             12.0      11.0       0.0       0.0       5.0       58.0  \nSeychelles           31.0     283.0      19.0       1.0      13.0      437.0  \nEswatini             29.0       2.0      18.0       7.0       6.0      192.0  \n...                   ...       ...       ...       ...       ...        ...  \nCanada            52424.0   24875.0   11203.0    7787.0    5252.0   192376.0  \nNigeria            2841.0    1536.0    1835.0    1726.0    1678.0    24715.0  \nSomalia              17.0       3.0      11.0      11.0       9.0      152.0  \nFinland           13520.0    4536.0    3598.0    1290.0     839.0    43969.0  \nworld           1407574.0  850851.0  400782.0  197571.0  173078.0  6114073.0  \n\n[219 rows x 18 columns]",
      "text/html": "<div>\n<style scoped>\n    .dataframe tbody tr th:only-of-type {\n        vertical-align: middle;\n    }\n\n    .dataframe tbody tr th {\n        vertical-align: top;\n    }\n\n    .dataframe thead th {\n        text-align: right;\n    }\n</style>\n<table border=\"1\" class=\"dataframe\">\n  <thead>\n    <tr style=\"text-align: right;\">\n      <th></th>\n      <th>SDG1</th>\n      <th>SDG2</th>\n      <th>SDG3</th>\n      <th>SDG4</th>\n      <th>SDG5</th>\n      <th>SDG6</th>\n      <th>SDG7</th>\n      <th>SDG8</th>\n      <th>SDG9</th>\n      <th>SDG10</th>\n      <th>SDG11</th>\n      <th>SDG12</th>\n      <th>SDG13</th>\n      <th>SDG14</th>\n      <th>SDG15</th>\n      <th>SDG16</th>\n      <th>SDG17</th>\n      <th>tot</th>\n    </tr>\n  </thead>\n  <tbody>\n    <tr>\n      <th>United States</th>\n      <td>35691.0</td>\n      <td>13659.0</td>\n      <td>160936.0</td>\n      <td>64511.0</td>\n      <td>59759.0</td>\n      <td>51527.0</td>\n      <td>25011.0</td>\n      <td>15220.0</td>\n      <td>12575.0</td>\n      <td>10377.0</td>\n      <td>31495.0</td>\n      <td>39900.0</td>\n      <td>237917.0</td>\n      <td>124120.0</td>\n      <td>58833.0</td>\n      <td>45203.0</td>\n      <td>29878.0</td>\n      <td>1016612.0</td>\n    </tr>\n    <tr>\n      <th>Czech Republic</th>\n      <td>204.0</td>\n      <td>241.0</td>\n      <td>1791.0</td>\n      <td>486.0</td>\n      <td>1173.0</td>\n      <td>3184.0</td>\n      <td>699.0</td>\n      <td>417.0</td>\n      <td>387.0</td>\n      <td>381.0</td>\n      <td>1161.0</td>\n      <td>1726.0</td>\n      <td>8637.0</td>\n      <td>2064.0</td>\n      <td>2994.0</td>\n      <td>732.0</td>\n      <td>630.0</td>\n      <td>26907.0</td>\n    </tr>\n    <tr>\n      <th>Kiribati</th>\n      <td>6.0</td>\n      <td>7.0</td>\n      <td>0.0</td>\n      <td>1.0</td>\n      <td>4.0</td>\n      <td>3.0</td>\n      <td>6.0</td>\n      <td>0.0</td>\n      <td>0.0</td>\n      <td>0.0</td>\n      <td>0.0</td>\n      <td>3.0</td>\n      <td>12.0</td>\n      <td>11.0</td>\n      <td>0.0</td>\n      <td>0.0</td>\n      <td>5.0</td>\n      <td>58.0</td>\n    </tr>\n    <tr>\n      <th>Seychelles</th>\n      <td>1.0</td>\n      <td>1.0</td>\n      <td>14.0</td>\n      <td>6.0</td>\n      <td>54.0</td>\n      <td>7.0</td>\n      <td>1.0</td>\n      <td>0.0</td>\n      <td>4.0</td>\n      <td>0.0</td>\n      <td>1.0</td>\n      <td>1.0</td>\n      <td>31.0</td>\n      <td>283.0</td>\n      <td>19.0</td>\n      <td>1.0</td>\n      <td>13.0</td>\n      <td>437.0</td>\n    </tr>\n    <tr>\n      <th>Eswatini</th>\n      <td>17.0</td>\n      <td>2.0</td>\n      <td>58.0</td>\n      <td>11.0</td>\n      <td>5.0</td>\n      <td>13.0</td>\n      <td>7.0</td>\n      <td>4.0</td>\n      <td>0.0</td>\n      <td>0.0</td>\n      <td>9.0</td>\n      <td>4.0</td>\n      <td>29.0</td>\n      <td>2.0</td>\n      <td>18.0</td>\n      <td>7.0</td>\n      <td>6.0</td>\n      <td>192.0</td>\n    </tr>\n    <tr>\n      <th>...</th>\n      <td>...</td>\n      <td>...</td>\n      <td>...</td>\n      <td>...</td>\n      <td>...</td>\n      <td>...</td>\n      <td>...</td>\n      <td>...</td>\n      <td>...</td>\n      <td>...</td>\n      <td>...</td>\n      <td>...</td>\n      <td>...</td>\n      <td>...</td>\n      <td>...</td>\n      <td>...</td>\n      <td>...</td>\n      <td>...</td>\n    </tr>\n    <tr>\n      <th>Canada</th>\n      <td>5492.0</td>\n      <td>2333.0</td>\n      <td>22182.0</td>\n      <td>8267.0</td>\n      <td>11843.0</td>\n      <td>14299.0</td>\n      <td>4583.0</td>\n      <td>2215.0</td>\n      <td>2310.0</td>\n      <td>3014.0</td>\n      <td>5668.0</td>\n      <td>8629.0</td>\n      <td>52424.0</td>\n      <td>24875.0</td>\n      <td>11203.0</td>\n      <td>7787.0</td>\n      <td>5252.0</td>\n      <td>192376.0</td>\n    </tr>\n    <tr>\n      <th>Nigeria</th>\n      <td>1356.0</td>\n      <td>766.0</td>\n      <td>4571.0</td>\n      <td>760.0</td>\n      <td>944.0</td>\n      <td>1841.0</td>\n      <td>592.0</td>\n      <td>575.0</td>\n      <td>789.0</td>\n      <td>415.0</td>\n      <td>1048.0</td>\n      <td>1442.0</td>\n      <td>2841.0</td>\n      <td>1536.0</td>\n      <td>1835.0</td>\n      <td>1726.0</td>\n      <td>1678.0</td>\n      <td>24715.0</td>\n    </tr>\n    <tr>\n      <th>Somalia</th>\n      <td>15.0</td>\n      <td>8.0</td>\n      <td>43.0</td>\n      <td>3.0</td>\n      <td>8.0</td>\n      <td>6.0</td>\n      <td>0.0</td>\n      <td>4.0</td>\n      <td>1.0</td>\n      <td>1.0</td>\n      <td>7.0</td>\n      <td>5.0</td>\n      <td>17.0</td>\n      <td>3.0</td>\n      <td>11.0</td>\n      <td>11.0</td>\n      <td>9.0</td>\n      <td>152.0</td>\n    </tr>\n    <tr>\n      <th>Finland</th>\n      <td>638.0</td>\n      <td>388.0</td>\n      <td>3018.0</td>\n      <td>1858.0</td>\n      <td>2365.0</td>\n      <td>3850.0</td>\n      <td>1673.0</td>\n      <td>537.0</td>\n      <td>674.0</td>\n      <td>733.0</td>\n      <td>1818.0</td>\n      <td>2634.0</td>\n      <td>13520.0</td>\n      <td>4536.0</td>\n      <td>3598.0</td>\n      <td>1290.0</td>\n      <td>839.0</td>\n      <td>43969.0</td>\n    </tr>\n    <tr>\n      <th>world</th>\n      <td>120625.0</td>\n      <td>89733.0</td>\n      <td>706438.0</td>\n      <td>190477.0</td>\n      <td>300975.0</td>\n      <td>598317.0</td>\n      <td>225075.0</td>\n      <td>72622.0</td>\n      <td>93317.0</td>\n      <td>74840.0</td>\n      <td>249844.0</td>\n      <td>361954.0</td>\n      <td>1407574.0</td>\n      <td>850851.0</td>\n      <td>400782.0</td>\n      <td>197571.0</td>\n      <td>173078.0</td>\n      <td>6114073.0</td>\n    </tr>\n  </tbody>\n</table>\n<p>219 rows × 18 columns</p>\n</div>"
     },
     "execution_count": 69,
     "metadata": {},
     "output_type": "execute_result"
    }
   ],
   "source": [
    "df_spec_raw_sdg = df_spec_raw.loc[:, lst_sdg]\n",
    "df_spec_raw_sdg.loc[:, 'tot'] = df_spec_raw_sdg.sum(axis=1)\n",
    "df_spec_raw_sdg"
   ],
   "metadata": {
    "collapsed": false
   }
  },
  {
   "cell_type": "code",
   "execution_count": 70,
   "outputs": [
    {
     "data": {
      "text/plain": "                Environment-AI  Environment-robotics  Environment-IOT  \\\nUnited States           5836.0                2342.0            841.0   \nCzech Republic           122.0                  59.0             19.0   \nKiribati                   0.0                   0.0              0.0   \nSeychelles                 0.0                   2.0              0.0   \nEswatini                   0.0                   0.0              0.0   \n...                        ...                   ...              ...   \nCanada                  1128.0                 262.0            127.0   \nNigeria                  108.0                  10.0             18.0   \nSomalia                    0.0                   0.0              0.0   \nFinland                  220.0                  94.0             59.0   \nworld                  37686.0               11815.0           6307.0   \n\n                Society-AI  Society-robotics  Society-IOT  Economy-AI  \\\nUnited States       7546.0            1716.0       2268.0      1253.0   \nCzech Republic       155.0              58.0         37.0        32.0   \nKiribati               0.0               0.0          0.0         0.0   \nSeychelles             0.0               0.0          0.0         0.0   \nEswatini              11.0               5.0          0.0         0.0   \n...                    ...               ...          ...         ...   \nCanada              1345.0             208.0        422.0       200.0   \nNigeria              160.0               6.0         37.0        53.0   \nSomalia                2.0               0.0          0.0         2.0   \nFinland              225.0              51.0        133.0        36.0   \nworld              50369.0           10432.0      20237.0     10094.0   \n\n                Economy-robotics  Economy-IOT       tot  \nUnited States              454.0        397.0   22653.0  \nCzech Republic              12.0         17.0     511.0  \nKiribati                     0.0          0.0       0.0  \nSeychelles                   0.0          0.0       2.0  \nEswatini                     0.0          0.0      16.0  \n...                          ...          ...       ...  \nCanada                      38.0         91.0    3821.0  \nNigeria                      7.0          3.0     402.0  \nSomalia                      0.0          0.0       4.0  \nFinland                     22.0         75.0     915.0  \nworld                     2394.0       4320.0  153654.0  \n\n[219 rows x 10 columns]",
      "text/html": "<div>\n<style scoped>\n    .dataframe tbody tr th:only-of-type {\n        vertical-align: middle;\n    }\n\n    .dataframe tbody tr th {\n        vertical-align: top;\n    }\n\n    .dataframe thead th {\n        text-align: right;\n    }\n</style>\n<table border=\"1\" class=\"dataframe\">\n  <thead>\n    <tr style=\"text-align: right;\">\n      <th></th>\n      <th>Environment-AI</th>\n      <th>Environment-robotics</th>\n      <th>Environment-IOT</th>\n      <th>Society-AI</th>\n      <th>Society-robotics</th>\n      <th>Society-IOT</th>\n      <th>Economy-AI</th>\n      <th>Economy-robotics</th>\n      <th>Economy-IOT</th>\n      <th>tot</th>\n    </tr>\n  </thead>\n  <tbody>\n    <tr>\n      <th>United States</th>\n      <td>5836.0</td>\n      <td>2342.0</td>\n      <td>841.0</td>\n      <td>7546.0</td>\n      <td>1716.0</td>\n      <td>2268.0</td>\n      <td>1253.0</td>\n      <td>454.0</td>\n      <td>397.0</td>\n      <td>22653.0</td>\n    </tr>\n    <tr>\n      <th>Czech Republic</th>\n      <td>122.0</td>\n      <td>59.0</td>\n      <td>19.0</td>\n      <td>155.0</td>\n      <td>58.0</td>\n      <td>37.0</td>\n      <td>32.0</td>\n      <td>12.0</td>\n      <td>17.0</td>\n      <td>511.0</td>\n    </tr>\n    <tr>\n      <th>Kiribati</th>\n      <td>0.0</td>\n      <td>0.0</td>\n      <td>0.0</td>\n      <td>0.0</td>\n      <td>0.0</td>\n      <td>0.0</td>\n      <td>0.0</td>\n      <td>0.0</td>\n      <td>0.0</td>\n      <td>0.0</td>\n    </tr>\n    <tr>\n      <th>Seychelles</th>\n      <td>0.0</td>\n      <td>2.0</td>\n      <td>0.0</td>\n      <td>0.0</td>\n      <td>0.0</td>\n      <td>0.0</td>\n      <td>0.0</td>\n      <td>0.0</td>\n      <td>0.0</td>\n      <td>2.0</td>\n    </tr>\n    <tr>\n      <th>Eswatini</th>\n      <td>0.0</td>\n      <td>0.0</td>\n      <td>0.0</td>\n      <td>11.0</td>\n      <td>5.0</td>\n      <td>0.0</td>\n      <td>0.0</td>\n      <td>0.0</td>\n      <td>0.0</td>\n      <td>16.0</td>\n    </tr>\n    <tr>\n      <th>...</th>\n      <td>...</td>\n      <td>...</td>\n      <td>...</td>\n      <td>...</td>\n      <td>...</td>\n      <td>...</td>\n      <td>...</td>\n      <td>...</td>\n      <td>...</td>\n      <td>...</td>\n    </tr>\n    <tr>\n      <th>Canada</th>\n      <td>1128.0</td>\n      <td>262.0</td>\n      <td>127.0</td>\n      <td>1345.0</td>\n      <td>208.0</td>\n      <td>422.0</td>\n      <td>200.0</td>\n      <td>38.0</td>\n      <td>91.0</td>\n      <td>3821.0</td>\n    </tr>\n    <tr>\n      <th>Nigeria</th>\n      <td>108.0</td>\n      <td>10.0</td>\n      <td>18.0</td>\n      <td>160.0</td>\n      <td>6.0</td>\n      <td>37.0</td>\n      <td>53.0</td>\n      <td>7.0</td>\n      <td>3.0</td>\n      <td>402.0</td>\n    </tr>\n    <tr>\n      <th>Somalia</th>\n      <td>0.0</td>\n      <td>0.0</td>\n      <td>0.0</td>\n      <td>2.0</td>\n      <td>0.0</td>\n      <td>0.0</td>\n      <td>2.0</td>\n      <td>0.0</td>\n      <td>0.0</td>\n      <td>4.0</td>\n    </tr>\n    <tr>\n      <th>Finland</th>\n      <td>220.0</td>\n      <td>94.0</td>\n      <td>59.0</td>\n      <td>225.0</td>\n      <td>51.0</td>\n      <td>133.0</td>\n      <td>36.0</td>\n      <td>22.0</td>\n      <td>75.0</td>\n      <td>915.0</td>\n    </tr>\n    <tr>\n      <th>world</th>\n      <td>37686.0</td>\n      <td>11815.0</td>\n      <td>6307.0</td>\n      <td>50369.0</td>\n      <td>10432.0</td>\n      <td>20237.0</td>\n      <td>10094.0</td>\n      <td>2394.0</td>\n      <td>4320.0</td>\n      <td>153654.0</td>\n    </tr>\n  </tbody>\n</table>\n<p>219 rows × 10 columns</p>\n</div>"
     },
     "execution_count": 70,
     "metadata": {},
     "output_type": "execute_result"
    }
   ],
   "source": [
    "df_spec_raw_sdg_dt = df_spec_raw.loc[:, lst_cat_dt]\n",
    "df_spec_raw_sdg_dt.loc[:, 'tot'] = df_spec_raw_sdg_dt.sum(axis=1)\n",
    "df_spec_raw_sdg_dt"
   ],
   "metadata": {
    "collapsed": false
   }
  },
  {
   "cell_type": "code",
   "execution_count": 71,
   "outputs": [],
   "source": [],
   "metadata": {
    "collapsed": false
   }
  },
  {
   "cell_type": "code",
   "execution_count": 48,
   "outputs": [],
   "source": [
    "lst_df_spec = []\n",
    "for df_spec_raw in [df_spec_raw_categories,df_spec_raw_sdg, df_spec_raw_dt, df_spec_raw_sdg_dt]:\n",
    "    df_spec = df_spec_raw.copy().iloc[:-1, :-1].loc[lst_eu+rest, :]\n",
    "    for cat in df_spec.columns:\n",
    "        for country in df_spec.index:\n",
    "            df_spec.loc[country,cat] = (df_spec_raw.loc[country,cat] / df_spec_raw.loc[country, 'tot']) / (df_spec_raw.loc[\"world\", cat] / df_spec_raw.loc['world', 'tot'])\n",
    "    lst_df_spec.append(df_spec)\n"
   ],
   "metadata": {
    "collapsed": false
   }
  },
  {
   "cell_type": "code",
   "execution_count": 48,
   "outputs": [],
   "source": [],
   "metadata": {
    "collapsed": false
   }
  },
  {
   "cell_type": "code",
   "execution_count": 49,
   "outputs": [],
   "source": [
    "with pd.ExcelWriter('output.xlsx') as writer:\n",
    "     for i, df in enumerate(lst_df_spec):\n",
    "        df.to_excel(writer, sheet_name=f'Sheet{i+1}')"
   ],
   "metadata": {
    "collapsed": false
   }
  },
  {
   "cell_type": "markdown",
   "source": [
    "## New Specialization graphs"
   ],
   "metadata": {
    "collapsed": false
   }
  },
  {
   "cell_type": "code",
   "execution_count": 50,
   "outputs": [],
   "source": [
    "def transform_discrete_value(value):\n",
    "    if value < 0.75:\n",
    "        return \"Under-specialized (RTA < 0.75)\"\n",
    "    elif 0.75 <= value <= 1.25:\n",
    "        return \"Not-specialized (0.75 <= RTA <= 1.25)\"\n",
    "    elif value > 1.25:\n",
    "        return \"Specialized (RTA > 1.25)\"\n",
    "    else:\n",
    "        return \"error\""
   ],
   "metadata": {
    "collapsed": false
   }
  },
  {
   "cell_type": "code",
   "execution_count": 51,
   "outputs": [],
   "source": [
    "def reorder_values(dataframe, col):\n",
    "    \"\"\"\n",
    "\n",
    "    Args:\n",
    "        dataframe:\n",
    "        col:\n",
    "\n",
    "    Returns:\n",
    "        The dataframe reordered so that Specialized is on top, Not specialized in the middle, and under specialized is\n",
    "        at the bottom of the legend\n",
    "    \"\"\"\n",
    "    lst_index = list(dataframe.index)\n",
    "\n",
    "    bottom_index = dataframe.loc[dataframe[col] == \"Under-specialized (RTA < 0.75)\"].index\n",
    "    middle_index = dataframe.loc[dataframe[col] == \"Not-specialized (0.75 <= RTA <= 1.25)\"].index\n",
    "    top_index = dataframe.loc[dataframe[col] == \"Specialized (RTA > 1.25)\"].index\n",
    "\n",
    "    new_order = [top_index, middle_index, bottom_index]\n",
    "    new_order_single_elem = []\n",
    "    for elem in new_order:\n",
    "        if len(elem) > 0:\n",
    "            new_order_single_elem.append(elem[0])\n",
    "            lst_index.remove(elem[0])\n",
    "\n",
    "    return new_order_single_elem + lst_index"
   ],
   "metadata": {
    "collapsed": false
   }
  },
  {
   "cell_type": "code",
   "execution_count": 25,
   "outputs": [],
   "source": [],
   "metadata": {
    "collapsed": false
   }
  },
  {
   "cell_type": "markdown",
   "source": [
    "\n",
    "\n",
    "### CATGORIES SPEC GRAPHS"
   ],
   "metadata": {
    "collapsed": false
   }
  },
  {
   "cell_type": "code",
   "execution_count": 52,
   "outputs": [],
   "source": [
    "import plotly.express as px\n",
    "# df_spec_cat = pd.read_excel(\"../img/Commission/spec_fractional.xlsx\", sheet_name=\"cat\", index_col=0)\n",
    "df_spec_cat = pd.read_excel(\"../img/Commission/spec.xlsx\", sheet_name=\"categories\", index_col=0)\n",
    "df_spec_cat = df_spec_cat.loc[lst_eu, :]\n",
    "df_spec_cat = df_spec_cat.apply(np.vectorize(transform_discrete_value))\n",
    "\n",
    "\n",
    "for cat in lst_cat:\n",
    "    ordered_index = reorder_values(df_spec_cat, cat)\n",
    "    fig = px.choropleth(\n",
    "        # locations=df_spec_cat.loc[lst_eu, :].index,\n",
    "        locations=ordered_index,\n",
    "        color=df_spec_cat.loc[ordered_index, cat],\n",
    "        color_discrete_map={\"Under-specialized (RTA < 0.75)\":\"#2ECBE9\", \"Not-specialized (0.75 <= RTA <= 1.25)\":\"#128FC8\", \"Specialized (RTA > 1.25)\":\"#00468B\"},\n",
    "        locationmode=\"country names\",\n",
    "    )\n",
    "\n",
    "    fig.update_layout(\n",
    "        template='simple_white',\n",
    "        font=dict(size=18),\n",
    "        showlegend=True,\n",
    "        legend=dict\n",
    "            (\n",
    "            title=\"Specialization\",\n",
    "            yanchor=\"top\",\n",
    "            y=1,\n",
    "            xanchor=\"left\",\n",
    "            x=0.048,\n",
    "            bordercolor=\"Black\",\n",
    "            borderwidth=2\n",
    "            ),\n",
    "        geo=go.layout.Geo(\n",
    "            scope=\"world\",\n",
    "            landcolor='lightgray',\n",
    "            projection_scale=float(6.1),\n",
    "            center=dict(lon=15, lat=52),\n",
    "            projection_type=\"azimuthal equal area\",\n",
    "            showland=True,\n",
    "            showcountries=False,\n",
    "        ),\n",
    "        height=1080,\n",
    "        width=1200\n",
    "\n",
    "\n",
    "    )\n",
    "    fig.write_image(f\"../img/Commission/maps/specialization/full_count/{cat}.jpg\")\n",
    "    # pio.write_image(fig, folder, format='png')"
   ],
   "metadata": {
    "collapsed": false
   }
  },
  {
   "cell_type": "markdown",
   "source": [
    "### DT SPEC GRAPSH"
   ],
   "metadata": {
    "collapsed": false
   }
  },
  {
   "cell_type": "code",
   "execution_count": 53,
   "outputs": [],
   "source": [
    "import plotly.express as px\n",
    "# df_spec_dt =pd.read_excel(\"../img/Commission/spec_fractional.xlsx\", sheet_name=\"dt\", index_col=0)\n",
    "df_spec_dt = pd.read_excel(\"../img/Commission/spec.xlsx\", sheet_name=\"DT\", index_col=0)\n",
    "df_spec_dt = df_spec_dt.loc[lst_eu, :]\n",
    "df_spec_dt = df_spec_dt.apply(np.vectorize(transform_discrete_value))\n",
    "for dt in ['AI', 'IOT', 'robotics']:\n",
    "    ordered_index = reorder_values(df_spec_dt, dt)\n",
    "    fig = px.choropleth(\n",
    "        locations=ordered_index,\n",
    "        color=df_spec_dt.loc[ordered_index, dt],\n",
    "        color_discrete_map={\"Under-specialized (RTA < 0.75)\":\"#2ECBE9\", \"Not-specialized (0.75 <= RTA <= 1.25)\":\"#128FC8\", \"Specialized (RTA > 1.25)\":\"#00468B\"},\n",
    "        locationmode=\"country names\",\n",
    "    )\n",
    "\n",
    "    fig.update_layout(\n",
    "        template='simple_white',\n",
    "        font=dict(size=18),\n",
    "        showlegend=True,\n",
    "\n",
    "        legend=dict\n",
    "            (\n",
    "            title=\"Specialization\",\n",
    "            yanchor=\"top\",\n",
    "            y=1,\n",
    "            xanchor=\"left\",\n",
    "            x=0.048,\n",
    "            bordercolor=\"Black\",\n",
    "            borderwidth=2\n",
    "            ),\n",
    "        geo=go.layout.Geo(\n",
    "            scope=\"world\",\n",
    "            landcolor='lightgray',\n",
    "            projection_scale=float(6.1),\n",
    "            center=dict(lon=15, lat=52),\n",
    "            projection_type=\"azimuthal equal area\",\n",
    "            showland=True,\n",
    "            showcountries=False,\n",
    "        ),\n",
    "        height=1080,\n",
    "        width=1200\n",
    "\n",
    "\n",
    "    )\n",
    "    fig.write_image(f\"../img/Commission/maps/specialization/full_count//{dt}.jpg\")\n",
    "    # pio.write_image(fig, folder, format='png')"
   ],
   "metadata": {
    "collapsed": false
   }
  },
  {
   "cell_type": "markdown",
   "source": [
    "## CAT DT SPEC GRAPHS"
   ],
   "metadata": {
    "collapsed": false
   }
  },
  {
   "cell_type": "code",
   "execution_count": 75,
   "outputs": [],
   "source": [
    "df_spec_cat_dt = pd.read_excel(\"../img/Commission/spec.xlsx\", sheet_name=\"SDG-DT\", index_col=0)\n",
    "\n",
    "df_spec_cat_dt.loc[eu_countries+other_countries, ['Economy-AI', 'Economy-IOT', 'Environment-AI', 'Environment-IOT', 'Society-AI', 'Society-IOT']].to_excel(\"frac_countries_inter_cat.xlsx\")"
   ],
   "metadata": {
    "collapsed": false
   }
  },
  {
   "cell_type": "code",
   "execution_count": 54,
   "outputs": [],
   "source": [
    "import plotly.express as px\n",
    "# df_spec_cat_dt = pd.read_excel(\"../img/Commission/spec_fractional.xlsx\", sheet_name=\"cat-dt\", index_col=0)\n",
    "df_spec_cat_dt = pd.read_excel(\"../img/Commission/spec.xlsx\", sheet_name=\"SDG-DT\", index_col=0)\n",
    "\n",
    "df_spec_cat_dt = df_spec_cat_dt.fillna(0)\n",
    "df_spec_cat_dt = df_spec_cat_dt.loc[lst_eu, :]\n",
    "df_spec_cat_dt = df_spec_cat_dt.apply(np.vectorize(transform_discrete_value))\n",
    "\n",
    "for dt in df_spec_cat_dt.columns:\n",
    "    ordered_index = reorder_values(df_spec_cat_dt, dt)\n",
    "    fig = px.choropleth(\n",
    "        locations=ordered_index,\n",
    "        color=df_spec_cat_dt.loc[ordered_index, dt],\n",
    "        color_discrete_map={\"Under-specialized (RTA < 0.75)\":\"#2ECBE9\", \"Not-specialized (0.75 <= RTA <= 1.25)\":\"#128FC8\", \"Specialized (RTA > 1.25)\":\"#00468B\"},\n",
    "        locationmode=\"country names\",\n",
    "    )\n",
    "\n",
    "    fig.update_layout(\n",
    "        template='simple_white',\n",
    "        font=dict(size=18),\n",
    "        showlegend=True,\n",
    "\n",
    "        legend=dict\n",
    "            (\n",
    "            title=\"Specialization\",\n",
    "            yanchor=\"top\",\n",
    "            y=1,\n",
    "            xanchor=\"left\",\n",
    "            x=0.048,\n",
    "            bordercolor=\"Black\",\n",
    "            borderwidth=2\n",
    "            ),\n",
    "        geo=go.layout.Geo(\n",
    "            scope=\"world\",\n",
    "            landcolor='lightgray',\n",
    "            projection_scale=float(6.1),\n",
    "            center=dict(lon=15, lat=52),\n",
    "            projection_type=\"azimuthal equal area\",\n",
    "            showland=True,\n",
    "            showcountries=False,\n",
    "        ),\n",
    "        height=1080,\n",
    "        width=1200\n",
    "\n",
    "\n",
    "    )\n",
    "    fig.write_image(f\"../img/Commission/maps/specialization/full_count/{dt}.jpg\")\n",
    "    # pio.write_image(fig, folder, format='png')"
   ],
   "metadata": {
    "collapsed": false
   }
  },
  {
   "cell_type": "markdown",
   "source": [
    "## SDG SPEC GRAPHS"
   ],
   "metadata": {
    "collapsed": false
   }
  },
  {
   "cell_type": "code",
   "execution_count": 55,
   "outputs": [],
   "source": [
    "import plotly.express as px\n",
    "# df_spec_sdg = pd.read_excel(\"../img/Commission/spec_fractional.xlsx\", sheet_name=\"sdg\", index_col=0)\n",
    "df_spec_sdg = pd.read_excel(\"../img/Commission/spec.xlsx\", sheet_name=\"SDG\", index_col=0)\n",
    "df_spec_sdg = df_spec_sdg.fillna(0)\n",
    "df_spec_sdg = df_spec_sdg.loc[lst_eu, :]\n",
    "df_spec_sdg = df_spec_sdg.apply(np.vectorize(transform_discrete_value))\n",
    "\n",
    "for sdg in lst_sdg:\n",
    "    ordered_index = reorder_values(df_spec_sdg, sdg)\n",
    "    fig = px.choropleth(\n",
    "        locations=ordered_index,\n",
    "        color=df_spec_sdg.loc[ordered_index, sdg],\n",
    "        color_discrete_map={\"Under-specialized (RTA < 0.75)\":\"#2ECBE9\", \"Not-specialized (0.75 <= RTA <= 1.25)\":\"#128FC8\", \"Specialized (RTA > 1.25)\":\"#00468B\"},\n",
    "        locationmode=\"country names\",\n",
    "    )\n",
    "\n",
    "    fig.update_layout(\n",
    "        template='simple_white',\n",
    "        font=dict(size=18),\n",
    "        showlegend=True,\n",
    "\n",
    "        legend=dict\n",
    "            (\n",
    "            title=\"Specialization\",\n",
    "            yanchor=\"top\",\n",
    "            y=1,\n",
    "            xanchor=\"left\",\n",
    "            x=0.048,\n",
    "            bordercolor=\"Black\",\n",
    "            borderwidth=2\n",
    "            ),\n",
    "        geo=go.layout.Geo(\n",
    "            scope=\"world\",\n",
    "            landcolor='lightgray',\n",
    "            projection_scale=float(6.1),\n",
    "            center=dict(lon=15, lat=52),\n",
    "            projection_type=\"azimuthal equal area\",\n",
    "            showland=True,\n",
    "            showcountries=False,\n",
    "        ),\n",
    "        height=1080,\n",
    "        width=1200\n",
    "\n",
    "\n",
    "    )\n",
    "    fig.write_image(f\"../img/Commission/maps/specialization/full_count/SDG/{sdg}.jpg\")\n",
    "    # pio.write_image(fig, folder, format='png')"
   ],
   "metadata": {
    "collapsed": false
   }
  },
  {
   "cell_type": "code",
   "execution_count": null,
   "outputs": [],
   "source": [],
   "metadata": {
    "collapsed": false
   }
  }
 ],
 "metadata": {
  "kernelspec": {
   "display_name": "Python 3",
   "language": "python",
   "name": "python3"
  },
  "language_info": {
   "codemirror_mode": {
    "name": "ipython",
    "version": 2
   },
   "file_extension": ".py",
   "mimetype": "text/x-python",
   "name": "python",
   "nbconvert_exporter": "python",
   "pygments_lexer": "ipython2",
   "version": "2.7.6"
  }
 },
 "nbformat": 4,
 "nbformat_minor": 0
}
