{
 "cells": [
  {
   "cell_type": "markdown",
   "source": [
    "# raw, strength and specialization"
   ],
   "metadata": {
    "collapsed": false
   }
  },
  {
   "cell_type": "code",
   "execution_count": 1,
   "outputs": [],
   "source": [
    "import pandas as pd\n",
    "import os\n",
    "import numpy as np\n",
    "import matplotlib.pyplot as plt\n",
    "from matplotlib.collections import PatchCollection\n",
    "import plotly.graph_objects as go\n",
    "\n",
    "from plotly.subplots import make_subplots\n",
    "import plotly"
   ],
   "metadata": {
    "collapsed": false
   }
  },
  {
   "cell_type": "code",
   "execution_count": 2,
   "outputs": [],
   "source": [
    "df_sdg = pd.read_pickle(\"../data/dataframes/SDG/all_sdg_fixed_dst.pkl\")\n",
    "df_digital = pd.read_pickle(\"../data/dataframes/DT/all_digital.pkl\")\n",
    "\n",
    "# Filtering for Journal only\n",
    "df_sdg = df_sdg[df_sdg.PT == 'J']\n",
    "df_digital = df_digital[df_digital.PT == 'J']"
   ],
   "metadata": {
    "collapsed": false
   }
  },
  {
   "cell_type": "code",
   "execution_count": 3,
   "outputs": [
    {
     "data": {
      "text/plain": "                   gdppc      pop2022           gdp\nCountry                                            \nLuxembourg      118001.0      647.599  7.641733e+07\nIreland          94392.0     5023.109  4.741413e+08\nSwitzerland      72874.0     8740.472  6.369532e+08\nNorway           65800.0     5434.319  3.575782e+08\nUnited States    63416.0   338289.857  2.145299e+10\nDenmark          58932.0     5882.261  3.466534e+08\nNetherlands      57534.0    17564.014  1.010528e+09\nAustria          55218.0     8939.617  4.936278e+08\nSweden           54146.0    10549.347  5.712049e+08\nGermany          54076.0    83369.843  4.508308e+09\nAustralia        51680.0    26177.413  1.352849e+09\nBelgium          51096.0    11655.930  5.955714e+08\nFinland          49853.0     5540.745  2.762228e+08\nCanada           48720.0    38454.327  1.873495e+09\nFrance           46062.0    64626.628  2.976832e+09\nSouth Korea      44621.0    51815.810  2.312073e+09\nUnited Kingdom   44117.0    67508.936  2.978292e+09\nMalta            42856.0      533.286  2.285450e+07\nJapan            42248.0   123951.692  5.236711e+09\nItaly            40861.0    59037.474  2.412330e+09\nCzech Republic   40618.0    10493.986  4.262447e+08\nIsrael           40547.0     9038.309  3.664763e+08\nCyprus           40107.0     1251.488  5.019343e+07\nSlovenia         40067.0     2119.844  8.493579e+07\nSpain            39121.0    47558.630  1.860541e+09\nEstonia          38834.0     1326.062  5.149629e+07\nLithuania        38824.0     2750.055  1.067681e+08\nPoland           34103.0    39857.145  1.359248e+09\nPortugal         34043.0    10270.865  3.496511e+08\nHungary          33030.0     9967.308  3.292202e+08\nSlovakia         32709.0     5643.453  1.845917e+08\nLatvia           31509.0     1850.651  5.831216e+07\nRomania          30526.0    19659.267  6.001188e+08\nGreece           28748.0    10384.971  2.985471e+08\nCroatia          27717.0     4030.358  1.117094e+08\nBulgaria         23817.0     6781.953  1.615258e+08\nChina            17192.0  1425887.337  2.451386e+10\nEU               44024.0   446800.000  1.966992e+10",
      "text/html": "<div>\n<style scoped>\n    .dataframe tbody tr th:only-of-type {\n        vertical-align: middle;\n    }\n\n    .dataframe tbody tr th {\n        vertical-align: top;\n    }\n\n    .dataframe thead th {\n        text-align: right;\n    }\n</style>\n<table border=\"1\" class=\"dataframe\">\n  <thead>\n    <tr style=\"text-align: right;\">\n      <th></th>\n      <th>gdppc</th>\n      <th>pop2022</th>\n      <th>gdp</th>\n    </tr>\n    <tr>\n      <th>Country</th>\n      <th></th>\n      <th></th>\n      <th></th>\n    </tr>\n  </thead>\n  <tbody>\n    <tr>\n      <th>Luxembourg</th>\n      <td>118001.0</td>\n      <td>647.599</td>\n      <td>7.641733e+07</td>\n    </tr>\n    <tr>\n      <th>Ireland</th>\n      <td>94392.0</td>\n      <td>5023.109</td>\n      <td>4.741413e+08</td>\n    </tr>\n    <tr>\n      <th>Switzerland</th>\n      <td>72874.0</td>\n      <td>8740.472</td>\n      <td>6.369532e+08</td>\n    </tr>\n    <tr>\n      <th>Norway</th>\n      <td>65800.0</td>\n      <td>5434.319</td>\n      <td>3.575782e+08</td>\n    </tr>\n    <tr>\n      <th>United States</th>\n      <td>63416.0</td>\n      <td>338289.857</td>\n      <td>2.145299e+10</td>\n    </tr>\n    <tr>\n      <th>Denmark</th>\n      <td>58932.0</td>\n      <td>5882.261</td>\n      <td>3.466534e+08</td>\n    </tr>\n    <tr>\n      <th>Netherlands</th>\n      <td>57534.0</td>\n      <td>17564.014</td>\n      <td>1.010528e+09</td>\n    </tr>\n    <tr>\n      <th>Austria</th>\n      <td>55218.0</td>\n      <td>8939.617</td>\n      <td>4.936278e+08</td>\n    </tr>\n    <tr>\n      <th>Sweden</th>\n      <td>54146.0</td>\n      <td>10549.347</td>\n      <td>5.712049e+08</td>\n    </tr>\n    <tr>\n      <th>Germany</th>\n      <td>54076.0</td>\n      <td>83369.843</td>\n      <td>4.508308e+09</td>\n    </tr>\n    <tr>\n      <th>Australia</th>\n      <td>51680.0</td>\n      <td>26177.413</td>\n      <td>1.352849e+09</td>\n    </tr>\n    <tr>\n      <th>Belgium</th>\n      <td>51096.0</td>\n      <td>11655.930</td>\n      <td>5.955714e+08</td>\n    </tr>\n    <tr>\n      <th>Finland</th>\n      <td>49853.0</td>\n      <td>5540.745</td>\n      <td>2.762228e+08</td>\n    </tr>\n    <tr>\n      <th>Canada</th>\n      <td>48720.0</td>\n      <td>38454.327</td>\n      <td>1.873495e+09</td>\n    </tr>\n    <tr>\n      <th>France</th>\n      <td>46062.0</td>\n      <td>64626.628</td>\n      <td>2.976832e+09</td>\n    </tr>\n    <tr>\n      <th>South Korea</th>\n      <td>44621.0</td>\n      <td>51815.810</td>\n      <td>2.312073e+09</td>\n    </tr>\n    <tr>\n      <th>United Kingdom</th>\n      <td>44117.0</td>\n      <td>67508.936</td>\n      <td>2.978292e+09</td>\n    </tr>\n    <tr>\n      <th>Malta</th>\n      <td>42856.0</td>\n      <td>533.286</td>\n      <td>2.285450e+07</td>\n    </tr>\n    <tr>\n      <th>Japan</th>\n      <td>42248.0</td>\n      <td>123951.692</td>\n      <td>5.236711e+09</td>\n    </tr>\n    <tr>\n      <th>Italy</th>\n      <td>40861.0</td>\n      <td>59037.474</td>\n      <td>2.412330e+09</td>\n    </tr>\n    <tr>\n      <th>Czech Republic</th>\n      <td>40618.0</td>\n      <td>10493.986</td>\n      <td>4.262447e+08</td>\n    </tr>\n    <tr>\n      <th>Israel</th>\n      <td>40547.0</td>\n      <td>9038.309</td>\n      <td>3.664763e+08</td>\n    </tr>\n    <tr>\n      <th>Cyprus</th>\n      <td>40107.0</td>\n      <td>1251.488</td>\n      <td>5.019343e+07</td>\n    </tr>\n    <tr>\n      <th>Slovenia</th>\n      <td>40067.0</td>\n      <td>2119.844</td>\n      <td>8.493579e+07</td>\n    </tr>\n    <tr>\n      <th>Spain</th>\n      <td>39121.0</td>\n      <td>47558.630</td>\n      <td>1.860541e+09</td>\n    </tr>\n    <tr>\n      <th>Estonia</th>\n      <td>38834.0</td>\n      <td>1326.062</td>\n      <td>5.149629e+07</td>\n    </tr>\n    <tr>\n      <th>Lithuania</th>\n      <td>38824.0</td>\n      <td>2750.055</td>\n      <td>1.067681e+08</td>\n    </tr>\n    <tr>\n      <th>Poland</th>\n      <td>34103.0</td>\n      <td>39857.145</td>\n      <td>1.359248e+09</td>\n    </tr>\n    <tr>\n      <th>Portugal</th>\n      <td>34043.0</td>\n      <td>10270.865</td>\n      <td>3.496511e+08</td>\n    </tr>\n    <tr>\n      <th>Hungary</th>\n      <td>33030.0</td>\n      <td>9967.308</td>\n      <td>3.292202e+08</td>\n    </tr>\n    <tr>\n      <th>Slovakia</th>\n      <td>32709.0</td>\n      <td>5643.453</td>\n      <td>1.845917e+08</td>\n    </tr>\n    <tr>\n      <th>Latvia</th>\n      <td>31509.0</td>\n      <td>1850.651</td>\n      <td>5.831216e+07</td>\n    </tr>\n    <tr>\n      <th>Romania</th>\n      <td>30526.0</td>\n      <td>19659.267</td>\n      <td>6.001188e+08</td>\n    </tr>\n    <tr>\n      <th>Greece</th>\n      <td>28748.0</td>\n      <td>10384.971</td>\n      <td>2.985471e+08</td>\n    </tr>\n    <tr>\n      <th>Croatia</th>\n      <td>27717.0</td>\n      <td>4030.358</td>\n      <td>1.117094e+08</td>\n    </tr>\n    <tr>\n      <th>Bulgaria</th>\n      <td>23817.0</td>\n      <td>6781.953</td>\n      <td>1.615258e+08</td>\n    </tr>\n    <tr>\n      <th>China</th>\n      <td>17192.0</td>\n      <td>1425887.337</td>\n      <td>2.451386e+10</td>\n    </tr>\n    <tr>\n      <th>EU</th>\n      <td>44024.0</td>\n      <td>446800.000</td>\n      <td>1.966992e+10</td>\n    </tr>\n  </tbody>\n</table>\n</div>"
     },
     "execution_count": 3,
     "metadata": {},
     "output_type": "execute_result"
    }
   ],
   "source": [
    "eu_countries = pd.read_excel(\"../data/countries_eu.xlsx\", sheet_name='EU').Country.to_list()\n",
    "other_countries = pd.read_excel(\"../data/countries_eu.xlsx\", sheet_name='rest').Country.to_list()\n",
    "gdp = pd.read_csv(\"../data/countriesgdp_pop.csv\", index_col=\"ranking\")\n",
    "gdp = gdp[gdp.Country.isin(eu_countries + other_countries)].set_index(\"Country\")\n",
    "gdp.loc[\"EU\", \"gdppc\"] = 44024\n",
    "gdp.loc[\"EU\", \"pop2022\"] = 446800\n",
    "gdp.loc[\"EU\", \"gdp\"] = 446800*44024\n",
    "gdp"
   ],
   "metadata": {
    "collapsed": false
   }
  },
  {
   "cell_type": "code",
   "execution_count": 4,
   "metadata": {
    "collapsed": true
   },
   "outputs": [],
   "source": [
    "# Digital\n",
    "\n",
    "dic_countries = {country: [0, 0, 0]  for country in gdp.index}\n",
    "for row in df_digital.itertuples(index=False, name=None):\n",
    "    year = int(row[9])\n",
    "    cn = row[12]\n",
    "    lst_actors = cn.split(\", \")\n",
    "    size_actors = len(lst_actors)\n",
    "    for actor in lst_actors:\n",
    "        if actor in dic_countries.keys():\n",
    "            # Increment for digital\n",
    "            dic_countries[actor][0] += 1 / size_actors\n",
    "            if actor in eu_countries:\n",
    "                dic_countries['EU'][0] += 1 / size_actors\n",
    "\n",
    "# SDG & SDG-DT\n",
    "for row in df_sdg.itertuples(index=False, name=None):\n",
    "    year = int(row[9])\n",
    "    cn = row[12]\n",
    "    lst_actors = cn.split(\", \")\n",
    "    size_actors = len(lst_actors)\n",
    "    for actor in lst_actors:\n",
    "        if actor in dic_countries.keys():\n",
    "            # Increment for SDG\n",
    "            dic_countries[actor][1] += 1 / size_actors\n",
    "            if actor in eu_countries:\n",
    "                dic_countries['EU'][1] += 1 / size_actors\n",
    "            if row[-1]:\n",
    "                # Increment for SDG-DT\n",
    "                dic_countries[actor][2] += 1 / size_actors\n",
    "                if actor in eu_countries:\n",
    "                    dic_countries['EU'][2] += 1 / size_actors\n"
   ]
  },
  {
   "cell_type": "code",
   "execution_count": 5,
   "outputs": [
    {
     "data": {
      "text/plain": "                         SDG            DT       SDG-DT     gdppc    pop2022  \\\nCountry                                                                        \nAustria          3195.657344   5372.635315   138.258313   55218.0   8939.617   \nBelgium          4694.626639   8371.507113   181.901241   51096.0  11655.930   \nBulgaria          543.927915   1009.169897    24.554932   23817.0   6781.953   \nCroatia          1215.733007   2621.667351    78.026927   27717.0   4030.358   \nCyprus            528.202551    851.738882    41.854211   40107.0   1251.488   \nCzech Republic   2618.025604   4618.636023   107.792072   40618.0  10493.986   \nDenmark          3031.371471   7977.961969   143.020285   58932.0   5882.261   \nEstonia           433.400506   1238.384147    31.906383   38834.0   1326.062   \nFinland          3549.391121   7719.220726   200.267440   49853.0   5540.745   \nFrance          15689.475027  23290.960538   551.407769   46062.0  64626.628   \nGermany         24311.915929  36083.595931   941.987972   54076.0  83369.843   \nGreece           5103.203761   7298.045071   311.481502   28748.0  10384.971   \nHungary          1652.583128   2767.537751    85.481166   33030.0   9967.308   \nIreland          2383.428709   4481.205904   122.954903   94392.0   5023.109   \nItaly           24258.745202  37292.169893  1219.920814   40861.0  59037.474   \nLatvia            212.112013    582.122971    10.760751   31509.0   1850.651   \nLithuania         779.017472   1752.292576    40.237259   38824.0   2750.055   \nLuxembourg        331.685880    457.427076    23.212576  118001.0    647.599   \nMalta              94.901579    256.117513     2.943655   42856.0    533.286   \nNetherlands      8057.673666  17333.784583   330.855868   57534.0  17564.014   \nPoland           7844.961688  13146.977740   349.013199   34103.0  39857.145   \nPortugal         4895.556010  11419.517093   295.291351   34043.0  10270.865   \nRomania          3214.726333   5698.929843   211.371191   30526.0  19659.267   \nSlovakia         1075.373325   1733.551491    41.527329   32709.0   5643.453   \nSlovenia         1538.841873   1862.611074    60.474226   40067.0   2119.844   \nSpain           21546.890886  35876.370198  1183.567861   39121.0  47558.630   \nSweden           4904.475036  13918.160300   243.500257   54146.0  10549.347   \n\n                         gdp   SDG-pop    DT-pop  SDG-DT-pop    SDG-gdp  \\\nCountry                                                                   \nAustria         4.936278e+08  0.357471  0.600992    0.015466   6.473820   \nBelgium         5.955714e+08  0.402767  0.718219    0.015606   7.882559   \nBulgaria        1.615258e+08  0.080202  0.148802    0.003621   3.367437   \nCroatia         1.117094e+08  0.301644  0.650480    0.019360  10.882993   \nCyprus          5.019343e+07  0.422060  0.680581    0.033444  10.523341   \nCzech Republic  4.262447e+08  0.249479  0.440122    0.010272   6.142072   \nDenmark         3.466534e+08  0.515341  1.356275    0.024314   8.744675   \nEstonia         5.149629e+07  0.326833  0.933881    0.024061   8.416150   \nFinland         2.762228e+08  0.640598  1.393174    0.036144  12.849742   \nFrance          2.976832e+09  0.242771  0.360393    0.008532   5.270528   \nGermany         4.508308e+09  0.291615  0.432814    0.011299   5.392692   \nGreece          2.985471e+08  0.491403  0.702751    0.029993  17.093460   \nHungary         3.292202e+08  0.165800  0.277662    0.008576   5.019690   \nIreland         4.741413e+08  0.474493  0.892118    0.024478   5.026832   \nItaly           2.412330e+09  0.410904  0.631669    0.020663  10.056146   \nLatvia          5.831216e+07  0.114615  0.314550    0.005815   3.637526   \nLithuania       1.067681e+08  0.283273  0.637185    0.014631   7.296348   \nLuxembourg      7.641733e+07  0.512178  0.706343    0.035844   4.340454   \nMalta           2.285450e+07  0.177956  0.480263    0.005520   4.152423   \nNetherlands     1.010528e+09  0.458760  0.986892    0.018837   7.973726   \nPoland          1.359248e+09  0.196827  0.329852    0.008757   5.771545   \nPortugal        3.496511e+08  0.476645  1.111836    0.028750  14.001262   \nRomania         6.001188e+08  0.163522  0.289885    0.010752   5.356817   \nSlovakia        1.845917e+08  0.190552  0.307179    0.007358   5.825686   \nSlovenia        8.493579e+07  0.725922  0.878655    0.028528  18.117708   \nSpain           1.860541e+09  0.453060  0.754361    0.024887  11.580980   \nSweden          5.712049e+08  0.464908  1.319339    0.023082   8.586192   \n\n                   DT-gdp  SDG-DT-gdp  \nCountry                                \nAustria         10.883981    0.280086  \nBelgium         14.056261    0.305423  \nBulgaria         6.247733    0.152019  \nCroatia         23.468630    0.698481  \nCyprus          16.969131    0.833858  \nCzech Republic  10.835644    0.252888  \nDenmark         23.014232    0.412574  \nEstonia         24.048026    0.619586  \nFinland         27.945636    0.725022  \nFrance           7.824077    0.185233  \nGermany          8.003801    0.208945  \nGreece          24.445201    1.043324  \nHungary          8.406343    0.259647  \nIreland          9.451203    0.259321  \nItaly           15.458982    0.505702  \nLatvia           9.982874    0.184537  \nLithuania       16.412131    0.376866  \nLuxembourg       5.985908    0.303761  \nMalta           11.206435    0.128800  \nNetherlands     17.153196    0.327409  \nPoland           9.672242    0.256769  \nPortugal        32.659753    0.844532  \nRomania          9.496336    0.352216  \nSlovakia         9.391275    0.224969  \nSlovenia        21.929637    0.711999  \nSpain           19.282761    0.636142  \nSweden          24.366316    0.426292  ",
      "text/html": "<div>\n<style scoped>\n    .dataframe tbody tr th:only-of-type {\n        vertical-align: middle;\n    }\n\n    .dataframe tbody tr th {\n        vertical-align: top;\n    }\n\n    .dataframe thead th {\n        text-align: right;\n    }\n</style>\n<table border=\"1\" class=\"dataframe\">\n  <thead>\n    <tr style=\"text-align: right;\">\n      <th></th>\n      <th>SDG</th>\n      <th>DT</th>\n      <th>SDG-DT</th>\n      <th>gdppc</th>\n      <th>pop2022</th>\n      <th>gdp</th>\n      <th>SDG-pop</th>\n      <th>DT-pop</th>\n      <th>SDG-DT-pop</th>\n      <th>SDG-gdp</th>\n      <th>DT-gdp</th>\n      <th>SDG-DT-gdp</th>\n    </tr>\n    <tr>\n      <th>Country</th>\n      <th></th>\n      <th></th>\n      <th></th>\n      <th></th>\n      <th></th>\n      <th></th>\n      <th></th>\n      <th></th>\n      <th></th>\n      <th></th>\n      <th></th>\n      <th></th>\n    </tr>\n  </thead>\n  <tbody>\n    <tr>\n      <th>Austria</th>\n      <td>3195.657344</td>\n      <td>5372.635315</td>\n      <td>138.258313</td>\n      <td>55218.0</td>\n      <td>8939.617</td>\n      <td>4.936278e+08</td>\n      <td>0.357471</td>\n      <td>0.600992</td>\n      <td>0.015466</td>\n      <td>6.473820</td>\n      <td>10.883981</td>\n      <td>0.280086</td>\n    </tr>\n    <tr>\n      <th>Belgium</th>\n      <td>4694.626639</td>\n      <td>8371.507113</td>\n      <td>181.901241</td>\n      <td>51096.0</td>\n      <td>11655.930</td>\n      <td>5.955714e+08</td>\n      <td>0.402767</td>\n      <td>0.718219</td>\n      <td>0.015606</td>\n      <td>7.882559</td>\n      <td>14.056261</td>\n      <td>0.305423</td>\n    </tr>\n    <tr>\n      <th>Bulgaria</th>\n      <td>543.927915</td>\n      <td>1009.169897</td>\n      <td>24.554932</td>\n      <td>23817.0</td>\n      <td>6781.953</td>\n      <td>1.615258e+08</td>\n      <td>0.080202</td>\n      <td>0.148802</td>\n      <td>0.003621</td>\n      <td>3.367437</td>\n      <td>6.247733</td>\n      <td>0.152019</td>\n    </tr>\n    <tr>\n      <th>Croatia</th>\n      <td>1215.733007</td>\n      <td>2621.667351</td>\n      <td>78.026927</td>\n      <td>27717.0</td>\n      <td>4030.358</td>\n      <td>1.117094e+08</td>\n      <td>0.301644</td>\n      <td>0.650480</td>\n      <td>0.019360</td>\n      <td>10.882993</td>\n      <td>23.468630</td>\n      <td>0.698481</td>\n    </tr>\n    <tr>\n      <th>Cyprus</th>\n      <td>528.202551</td>\n      <td>851.738882</td>\n      <td>41.854211</td>\n      <td>40107.0</td>\n      <td>1251.488</td>\n      <td>5.019343e+07</td>\n      <td>0.422060</td>\n      <td>0.680581</td>\n      <td>0.033444</td>\n      <td>10.523341</td>\n      <td>16.969131</td>\n      <td>0.833858</td>\n    </tr>\n    <tr>\n      <th>Czech Republic</th>\n      <td>2618.025604</td>\n      <td>4618.636023</td>\n      <td>107.792072</td>\n      <td>40618.0</td>\n      <td>10493.986</td>\n      <td>4.262447e+08</td>\n      <td>0.249479</td>\n      <td>0.440122</td>\n      <td>0.010272</td>\n      <td>6.142072</td>\n      <td>10.835644</td>\n      <td>0.252888</td>\n    </tr>\n    <tr>\n      <th>Denmark</th>\n      <td>3031.371471</td>\n      <td>7977.961969</td>\n      <td>143.020285</td>\n      <td>58932.0</td>\n      <td>5882.261</td>\n      <td>3.466534e+08</td>\n      <td>0.515341</td>\n      <td>1.356275</td>\n      <td>0.024314</td>\n      <td>8.744675</td>\n      <td>23.014232</td>\n      <td>0.412574</td>\n    </tr>\n    <tr>\n      <th>Estonia</th>\n      <td>433.400506</td>\n      <td>1238.384147</td>\n      <td>31.906383</td>\n      <td>38834.0</td>\n      <td>1326.062</td>\n      <td>5.149629e+07</td>\n      <td>0.326833</td>\n      <td>0.933881</td>\n      <td>0.024061</td>\n      <td>8.416150</td>\n      <td>24.048026</td>\n      <td>0.619586</td>\n    </tr>\n    <tr>\n      <th>Finland</th>\n      <td>3549.391121</td>\n      <td>7719.220726</td>\n      <td>200.267440</td>\n      <td>49853.0</td>\n      <td>5540.745</td>\n      <td>2.762228e+08</td>\n      <td>0.640598</td>\n      <td>1.393174</td>\n      <td>0.036144</td>\n      <td>12.849742</td>\n      <td>27.945636</td>\n      <td>0.725022</td>\n    </tr>\n    <tr>\n      <th>France</th>\n      <td>15689.475027</td>\n      <td>23290.960538</td>\n      <td>551.407769</td>\n      <td>46062.0</td>\n      <td>64626.628</td>\n      <td>2.976832e+09</td>\n      <td>0.242771</td>\n      <td>0.360393</td>\n      <td>0.008532</td>\n      <td>5.270528</td>\n      <td>7.824077</td>\n      <td>0.185233</td>\n    </tr>\n    <tr>\n      <th>Germany</th>\n      <td>24311.915929</td>\n      <td>36083.595931</td>\n      <td>941.987972</td>\n      <td>54076.0</td>\n      <td>83369.843</td>\n      <td>4.508308e+09</td>\n      <td>0.291615</td>\n      <td>0.432814</td>\n      <td>0.011299</td>\n      <td>5.392692</td>\n      <td>8.003801</td>\n      <td>0.208945</td>\n    </tr>\n    <tr>\n      <th>Greece</th>\n      <td>5103.203761</td>\n      <td>7298.045071</td>\n      <td>311.481502</td>\n      <td>28748.0</td>\n      <td>10384.971</td>\n      <td>2.985471e+08</td>\n      <td>0.491403</td>\n      <td>0.702751</td>\n      <td>0.029993</td>\n      <td>17.093460</td>\n      <td>24.445201</td>\n      <td>1.043324</td>\n    </tr>\n    <tr>\n      <th>Hungary</th>\n      <td>1652.583128</td>\n      <td>2767.537751</td>\n      <td>85.481166</td>\n      <td>33030.0</td>\n      <td>9967.308</td>\n      <td>3.292202e+08</td>\n      <td>0.165800</td>\n      <td>0.277662</td>\n      <td>0.008576</td>\n      <td>5.019690</td>\n      <td>8.406343</td>\n      <td>0.259647</td>\n    </tr>\n    <tr>\n      <th>Ireland</th>\n      <td>2383.428709</td>\n      <td>4481.205904</td>\n      <td>122.954903</td>\n      <td>94392.0</td>\n      <td>5023.109</td>\n      <td>4.741413e+08</td>\n      <td>0.474493</td>\n      <td>0.892118</td>\n      <td>0.024478</td>\n      <td>5.026832</td>\n      <td>9.451203</td>\n      <td>0.259321</td>\n    </tr>\n    <tr>\n      <th>Italy</th>\n      <td>24258.745202</td>\n      <td>37292.169893</td>\n      <td>1219.920814</td>\n      <td>40861.0</td>\n      <td>59037.474</td>\n      <td>2.412330e+09</td>\n      <td>0.410904</td>\n      <td>0.631669</td>\n      <td>0.020663</td>\n      <td>10.056146</td>\n      <td>15.458982</td>\n      <td>0.505702</td>\n    </tr>\n    <tr>\n      <th>Latvia</th>\n      <td>212.112013</td>\n      <td>582.122971</td>\n      <td>10.760751</td>\n      <td>31509.0</td>\n      <td>1850.651</td>\n      <td>5.831216e+07</td>\n      <td>0.114615</td>\n      <td>0.314550</td>\n      <td>0.005815</td>\n      <td>3.637526</td>\n      <td>9.982874</td>\n      <td>0.184537</td>\n    </tr>\n    <tr>\n      <th>Lithuania</th>\n      <td>779.017472</td>\n      <td>1752.292576</td>\n      <td>40.237259</td>\n      <td>38824.0</td>\n      <td>2750.055</td>\n      <td>1.067681e+08</td>\n      <td>0.283273</td>\n      <td>0.637185</td>\n      <td>0.014631</td>\n      <td>7.296348</td>\n      <td>16.412131</td>\n      <td>0.376866</td>\n    </tr>\n    <tr>\n      <th>Luxembourg</th>\n      <td>331.685880</td>\n      <td>457.427076</td>\n      <td>23.212576</td>\n      <td>118001.0</td>\n      <td>647.599</td>\n      <td>7.641733e+07</td>\n      <td>0.512178</td>\n      <td>0.706343</td>\n      <td>0.035844</td>\n      <td>4.340454</td>\n      <td>5.985908</td>\n      <td>0.303761</td>\n    </tr>\n    <tr>\n      <th>Malta</th>\n      <td>94.901579</td>\n      <td>256.117513</td>\n      <td>2.943655</td>\n      <td>42856.0</td>\n      <td>533.286</td>\n      <td>2.285450e+07</td>\n      <td>0.177956</td>\n      <td>0.480263</td>\n      <td>0.005520</td>\n      <td>4.152423</td>\n      <td>11.206435</td>\n      <td>0.128800</td>\n    </tr>\n    <tr>\n      <th>Netherlands</th>\n      <td>8057.673666</td>\n      <td>17333.784583</td>\n      <td>330.855868</td>\n      <td>57534.0</td>\n      <td>17564.014</td>\n      <td>1.010528e+09</td>\n      <td>0.458760</td>\n      <td>0.986892</td>\n      <td>0.018837</td>\n      <td>7.973726</td>\n      <td>17.153196</td>\n      <td>0.327409</td>\n    </tr>\n    <tr>\n      <th>Poland</th>\n      <td>7844.961688</td>\n      <td>13146.977740</td>\n      <td>349.013199</td>\n      <td>34103.0</td>\n      <td>39857.145</td>\n      <td>1.359248e+09</td>\n      <td>0.196827</td>\n      <td>0.329852</td>\n      <td>0.008757</td>\n      <td>5.771545</td>\n      <td>9.672242</td>\n      <td>0.256769</td>\n    </tr>\n    <tr>\n      <th>Portugal</th>\n      <td>4895.556010</td>\n      <td>11419.517093</td>\n      <td>295.291351</td>\n      <td>34043.0</td>\n      <td>10270.865</td>\n      <td>3.496511e+08</td>\n      <td>0.476645</td>\n      <td>1.111836</td>\n      <td>0.028750</td>\n      <td>14.001262</td>\n      <td>32.659753</td>\n      <td>0.844532</td>\n    </tr>\n    <tr>\n      <th>Romania</th>\n      <td>3214.726333</td>\n      <td>5698.929843</td>\n      <td>211.371191</td>\n      <td>30526.0</td>\n      <td>19659.267</td>\n      <td>6.001188e+08</td>\n      <td>0.163522</td>\n      <td>0.289885</td>\n      <td>0.010752</td>\n      <td>5.356817</td>\n      <td>9.496336</td>\n      <td>0.352216</td>\n    </tr>\n    <tr>\n      <th>Slovakia</th>\n      <td>1075.373325</td>\n      <td>1733.551491</td>\n      <td>41.527329</td>\n      <td>32709.0</td>\n      <td>5643.453</td>\n      <td>1.845917e+08</td>\n      <td>0.190552</td>\n      <td>0.307179</td>\n      <td>0.007358</td>\n      <td>5.825686</td>\n      <td>9.391275</td>\n      <td>0.224969</td>\n    </tr>\n    <tr>\n      <th>Slovenia</th>\n      <td>1538.841873</td>\n      <td>1862.611074</td>\n      <td>60.474226</td>\n      <td>40067.0</td>\n      <td>2119.844</td>\n      <td>8.493579e+07</td>\n      <td>0.725922</td>\n      <td>0.878655</td>\n      <td>0.028528</td>\n      <td>18.117708</td>\n      <td>21.929637</td>\n      <td>0.711999</td>\n    </tr>\n    <tr>\n      <th>Spain</th>\n      <td>21546.890886</td>\n      <td>35876.370198</td>\n      <td>1183.567861</td>\n      <td>39121.0</td>\n      <td>47558.630</td>\n      <td>1.860541e+09</td>\n      <td>0.453060</td>\n      <td>0.754361</td>\n      <td>0.024887</td>\n      <td>11.580980</td>\n      <td>19.282761</td>\n      <td>0.636142</td>\n    </tr>\n    <tr>\n      <th>Sweden</th>\n      <td>4904.475036</td>\n      <td>13918.160300</td>\n      <td>243.500257</td>\n      <td>54146.0</td>\n      <td>10549.347</td>\n      <td>5.712049e+08</td>\n      <td>0.464908</td>\n      <td>1.319339</td>\n      <td>0.023082</td>\n      <td>8.586192</td>\n      <td>24.366316</td>\n      <td>0.426292</td>\n    </tr>\n  </tbody>\n</table>\n</div>"
     },
     "execution_count": 5,
     "metadata": {},
     "output_type": "execute_result"
    }
   ],
   "source": [
    "df_country = pd.DataFrame.from_dict(data=dic_countries, orient=\"index\", columns=['SDG', 'DT', 'SDG-DT'])\n",
    "df_country_eu = df_country.loc[eu_countries, :]\n",
    "df_country_eu.index.names = ['Country']\n",
    "\n",
    "df_country_eu = df_country_eu.merge(gdp, left_index=True, right_index=True)\n",
    "df_country_eu.loc[:, 'SDG-pop'] = df_country_eu.loc[:, 'SDG'] /  df_country_eu.loc[:, 'pop2022']\n",
    "df_country_eu.loc[:, 'DT-pop'] = df_country_eu.loc[:, 'DT'] /  df_country_eu.loc[:, 'pop2022']\n",
    "df_country_eu.loc[:, 'SDG-DT-pop'] = df_country_eu.loc[:, 'SDG-DT'] /  df_country_eu.loc[:, 'pop2022']\n",
    "\n",
    "df_country_eu.loc[:, 'SDG-gdp'] = df_country_eu.loc[:, 'SDG']*1000000 /  df_country_eu.loc[:, 'gdp']\n",
    "df_country_eu.loc[:, 'DT-gdp'] = df_country_eu.loc[:, 'DT']*1000000 /  df_country_eu.loc[:, 'gdp']\n",
    "df_country_eu.loc[:, 'SDG-DT-gdp'] = df_country_eu.loc[:, 'SDG-DT']*1000000 /  df_country_eu.loc[:, 'gdp']\n",
    "\n",
    "df_country_eu"
   ],
   "metadata": {
    "collapsed": false
   }
  },
  {
   "cell_type": "code",
   "execution_count": 6,
   "outputs": [
    {
     "data": {
      "text/plain": "                         SDG            DT       SDG-DT     gdppc    pop2022  \\\nCountry                                                                        \nAustria          3195.657344   5372.635315   138.258313   55218.0   8939.617   \nBelgium          4694.626639   8371.507113   181.901241   51096.0  11655.930   \nBulgaria          543.927915   1009.169897    24.554932   23817.0   6781.953   \nCroatia          1215.733007   2621.667351    78.026927   27717.0   4030.358   \nCyprus            528.202551    851.738882    41.854211   40107.0   1251.488   \nCzech Republic   2618.025604   4618.636023   107.792072   40618.0  10493.986   \nDenmark          3031.371471   7977.961969   143.020285   58932.0   5882.261   \nEstonia           433.400506   1238.384147    31.906383   38834.0   1326.062   \nFinland          3549.391121   7719.220726   200.267440   49853.0   5540.745   \nFrance          15689.475027  23290.960538   551.407769   46062.0  64626.628   \nGermany         24311.915929  36083.595931   941.987972   54076.0  83369.843   \nGreece           5103.203761   7298.045071   311.481502   28748.0  10384.971   \nHungary          1652.583128   2767.537751    85.481166   33030.0   9967.308   \nIreland          2383.428709   4481.205904   122.954903   94392.0   5023.109   \nItaly           24258.745202  37292.169893  1219.920814   40861.0  59037.474   \nLatvia            212.112013    582.122971    10.760751   31509.0   1850.651   \nLithuania         779.017472   1752.292576    40.237259   38824.0   2750.055   \nLuxembourg        331.685880    457.427076    23.212576  118001.0    647.599   \nMalta              94.901579    256.117513     2.943655   42856.0    533.286   \nNetherlands      8057.673666  17333.784583   330.855868   57534.0  17564.014   \nPoland           7844.961688  13146.977740   349.013199   34103.0  39857.145   \nPortugal         4895.556010  11419.517093   295.291351   34043.0  10270.865   \nRomania          3214.726333   5698.929843   211.371191   30526.0  19659.267   \nSlovakia         1075.373325   1733.551491    41.527329   32709.0   5643.453   \nSlovenia         1538.841873   1862.611074    60.474226   40067.0   2119.844   \nSpain           21546.890886  35876.370198  1183.567861   39121.0  47558.630   \nSweden           4904.475036  13918.160300   243.500257   54146.0  10549.347   \nmax             24311.915929  37292.169893  1219.920814  118001.0  83369.843   \n\n                         gdp   SDG-pop    DT-pop  SDG-DT-pop    SDG-gdp  \\\nCountry                                                                   \nAustria         4.936278e+08  0.357471  0.600992    0.015466   6.473820   \nBelgium         5.955714e+08  0.402767  0.718219    0.015606   7.882559   \nBulgaria        1.615258e+08  0.080202  0.148802    0.003621   3.367437   \nCroatia         1.117094e+08  0.301644  0.650480    0.019360  10.882993   \nCyprus          5.019343e+07  0.422060  0.680581    0.033444  10.523341   \nCzech Republic  4.262447e+08  0.249479  0.440122    0.010272   6.142072   \nDenmark         3.466534e+08  0.515341  1.356275    0.024314   8.744675   \nEstonia         5.149629e+07  0.326833  0.933881    0.024061   8.416150   \nFinland         2.762228e+08  0.640598  1.393174    0.036144  12.849742   \nFrance          2.976832e+09  0.242771  0.360393    0.008532   5.270528   \nGermany         4.508308e+09  0.291615  0.432814    0.011299   5.392692   \nGreece          2.985471e+08  0.491403  0.702751    0.029993  17.093460   \nHungary         3.292202e+08  0.165800  0.277662    0.008576   5.019690   \nIreland         4.741413e+08  0.474493  0.892118    0.024478   5.026832   \nItaly           2.412330e+09  0.410904  0.631669    0.020663  10.056146   \nLatvia          5.831216e+07  0.114615  0.314550    0.005815   3.637526   \nLithuania       1.067681e+08  0.283273  0.637185    0.014631   7.296348   \nLuxembourg      7.641733e+07  0.512178  0.706343    0.035844   4.340454   \nMalta           2.285450e+07  0.177956  0.480263    0.005520   4.152423   \nNetherlands     1.010528e+09  0.458760  0.986892    0.018837   7.973726   \nPoland          1.359248e+09  0.196827  0.329852    0.008757   5.771545   \nPortugal        3.496511e+08  0.476645  1.111836    0.028750  14.001262   \nRomania         6.001188e+08  0.163522  0.289885    0.010752   5.356817   \nSlovakia        1.845917e+08  0.190552  0.307179    0.007358   5.825686   \nSlovenia        8.493579e+07  0.725922  0.878655    0.028528  18.117708   \nSpain           1.860541e+09  0.453060  0.754361    0.024887  11.580980   \nSweden          5.712049e+08  0.464908  1.319339    0.023082   8.586192   \nmax             4.508308e+09  0.725922  1.393174    0.036144  18.117708   \n\n                   DT-gdp  SDG-DT-gdp  \nCountry                                \nAustria         10.883981    0.280086  \nBelgium         14.056261    0.305423  \nBulgaria         6.247733    0.152019  \nCroatia         23.468630    0.698481  \nCyprus          16.969131    0.833858  \nCzech Republic  10.835644    0.252888  \nDenmark         23.014232    0.412574  \nEstonia         24.048026    0.619586  \nFinland         27.945636    0.725022  \nFrance           7.824077    0.185233  \nGermany          8.003801    0.208945  \nGreece          24.445201    1.043324  \nHungary          8.406343    0.259647  \nIreland          9.451203    0.259321  \nItaly           15.458982    0.505702  \nLatvia           9.982874    0.184537  \nLithuania       16.412131    0.376866  \nLuxembourg       5.985908    0.303761  \nMalta           11.206435    0.128800  \nNetherlands     17.153196    0.327409  \nPoland           9.672242    0.256769  \nPortugal        32.659753    0.844532  \nRomania          9.496336    0.352216  \nSlovakia         9.391275    0.224969  \nSlovenia        21.929637    0.711999  \nSpain           19.282761    0.636142  \nSweden          24.366316    0.426292  \nmax             32.659753    1.043324  ",
      "text/html": "<div>\n<style scoped>\n    .dataframe tbody tr th:only-of-type {\n        vertical-align: middle;\n    }\n\n    .dataframe tbody tr th {\n        vertical-align: top;\n    }\n\n    .dataframe thead th {\n        text-align: right;\n    }\n</style>\n<table border=\"1\" class=\"dataframe\">\n  <thead>\n    <tr style=\"text-align: right;\">\n      <th></th>\n      <th>SDG</th>\n      <th>DT</th>\n      <th>SDG-DT</th>\n      <th>gdppc</th>\n      <th>pop2022</th>\n      <th>gdp</th>\n      <th>SDG-pop</th>\n      <th>DT-pop</th>\n      <th>SDG-DT-pop</th>\n      <th>SDG-gdp</th>\n      <th>DT-gdp</th>\n      <th>SDG-DT-gdp</th>\n    </tr>\n    <tr>\n      <th>Country</th>\n      <th></th>\n      <th></th>\n      <th></th>\n      <th></th>\n      <th></th>\n      <th></th>\n      <th></th>\n      <th></th>\n      <th></th>\n      <th></th>\n      <th></th>\n      <th></th>\n    </tr>\n  </thead>\n  <tbody>\n    <tr>\n      <th>Austria</th>\n      <td>3195.657344</td>\n      <td>5372.635315</td>\n      <td>138.258313</td>\n      <td>55218.0</td>\n      <td>8939.617</td>\n      <td>4.936278e+08</td>\n      <td>0.357471</td>\n      <td>0.600992</td>\n      <td>0.015466</td>\n      <td>6.473820</td>\n      <td>10.883981</td>\n      <td>0.280086</td>\n    </tr>\n    <tr>\n      <th>Belgium</th>\n      <td>4694.626639</td>\n      <td>8371.507113</td>\n      <td>181.901241</td>\n      <td>51096.0</td>\n      <td>11655.930</td>\n      <td>5.955714e+08</td>\n      <td>0.402767</td>\n      <td>0.718219</td>\n      <td>0.015606</td>\n      <td>7.882559</td>\n      <td>14.056261</td>\n      <td>0.305423</td>\n    </tr>\n    <tr>\n      <th>Bulgaria</th>\n      <td>543.927915</td>\n      <td>1009.169897</td>\n      <td>24.554932</td>\n      <td>23817.0</td>\n      <td>6781.953</td>\n      <td>1.615258e+08</td>\n      <td>0.080202</td>\n      <td>0.148802</td>\n      <td>0.003621</td>\n      <td>3.367437</td>\n      <td>6.247733</td>\n      <td>0.152019</td>\n    </tr>\n    <tr>\n      <th>Croatia</th>\n      <td>1215.733007</td>\n      <td>2621.667351</td>\n      <td>78.026927</td>\n      <td>27717.0</td>\n      <td>4030.358</td>\n      <td>1.117094e+08</td>\n      <td>0.301644</td>\n      <td>0.650480</td>\n      <td>0.019360</td>\n      <td>10.882993</td>\n      <td>23.468630</td>\n      <td>0.698481</td>\n    </tr>\n    <tr>\n      <th>Cyprus</th>\n      <td>528.202551</td>\n      <td>851.738882</td>\n      <td>41.854211</td>\n      <td>40107.0</td>\n      <td>1251.488</td>\n      <td>5.019343e+07</td>\n      <td>0.422060</td>\n      <td>0.680581</td>\n      <td>0.033444</td>\n      <td>10.523341</td>\n      <td>16.969131</td>\n      <td>0.833858</td>\n    </tr>\n    <tr>\n      <th>Czech Republic</th>\n      <td>2618.025604</td>\n      <td>4618.636023</td>\n      <td>107.792072</td>\n      <td>40618.0</td>\n      <td>10493.986</td>\n      <td>4.262447e+08</td>\n      <td>0.249479</td>\n      <td>0.440122</td>\n      <td>0.010272</td>\n      <td>6.142072</td>\n      <td>10.835644</td>\n      <td>0.252888</td>\n    </tr>\n    <tr>\n      <th>Denmark</th>\n      <td>3031.371471</td>\n      <td>7977.961969</td>\n      <td>143.020285</td>\n      <td>58932.0</td>\n      <td>5882.261</td>\n      <td>3.466534e+08</td>\n      <td>0.515341</td>\n      <td>1.356275</td>\n      <td>0.024314</td>\n      <td>8.744675</td>\n      <td>23.014232</td>\n      <td>0.412574</td>\n    </tr>\n    <tr>\n      <th>Estonia</th>\n      <td>433.400506</td>\n      <td>1238.384147</td>\n      <td>31.906383</td>\n      <td>38834.0</td>\n      <td>1326.062</td>\n      <td>5.149629e+07</td>\n      <td>0.326833</td>\n      <td>0.933881</td>\n      <td>0.024061</td>\n      <td>8.416150</td>\n      <td>24.048026</td>\n      <td>0.619586</td>\n    </tr>\n    <tr>\n      <th>Finland</th>\n      <td>3549.391121</td>\n      <td>7719.220726</td>\n      <td>200.267440</td>\n      <td>49853.0</td>\n      <td>5540.745</td>\n      <td>2.762228e+08</td>\n      <td>0.640598</td>\n      <td>1.393174</td>\n      <td>0.036144</td>\n      <td>12.849742</td>\n      <td>27.945636</td>\n      <td>0.725022</td>\n    </tr>\n    <tr>\n      <th>France</th>\n      <td>15689.475027</td>\n      <td>23290.960538</td>\n      <td>551.407769</td>\n      <td>46062.0</td>\n      <td>64626.628</td>\n      <td>2.976832e+09</td>\n      <td>0.242771</td>\n      <td>0.360393</td>\n      <td>0.008532</td>\n      <td>5.270528</td>\n      <td>7.824077</td>\n      <td>0.185233</td>\n    </tr>\n    <tr>\n      <th>Germany</th>\n      <td>24311.915929</td>\n      <td>36083.595931</td>\n      <td>941.987972</td>\n      <td>54076.0</td>\n      <td>83369.843</td>\n      <td>4.508308e+09</td>\n      <td>0.291615</td>\n      <td>0.432814</td>\n      <td>0.011299</td>\n      <td>5.392692</td>\n      <td>8.003801</td>\n      <td>0.208945</td>\n    </tr>\n    <tr>\n      <th>Greece</th>\n      <td>5103.203761</td>\n      <td>7298.045071</td>\n      <td>311.481502</td>\n      <td>28748.0</td>\n      <td>10384.971</td>\n      <td>2.985471e+08</td>\n      <td>0.491403</td>\n      <td>0.702751</td>\n      <td>0.029993</td>\n      <td>17.093460</td>\n      <td>24.445201</td>\n      <td>1.043324</td>\n    </tr>\n    <tr>\n      <th>Hungary</th>\n      <td>1652.583128</td>\n      <td>2767.537751</td>\n      <td>85.481166</td>\n      <td>33030.0</td>\n      <td>9967.308</td>\n      <td>3.292202e+08</td>\n      <td>0.165800</td>\n      <td>0.277662</td>\n      <td>0.008576</td>\n      <td>5.019690</td>\n      <td>8.406343</td>\n      <td>0.259647</td>\n    </tr>\n    <tr>\n      <th>Ireland</th>\n      <td>2383.428709</td>\n      <td>4481.205904</td>\n      <td>122.954903</td>\n      <td>94392.0</td>\n      <td>5023.109</td>\n      <td>4.741413e+08</td>\n      <td>0.474493</td>\n      <td>0.892118</td>\n      <td>0.024478</td>\n      <td>5.026832</td>\n      <td>9.451203</td>\n      <td>0.259321</td>\n    </tr>\n    <tr>\n      <th>Italy</th>\n      <td>24258.745202</td>\n      <td>37292.169893</td>\n      <td>1219.920814</td>\n      <td>40861.0</td>\n      <td>59037.474</td>\n      <td>2.412330e+09</td>\n      <td>0.410904</td>\n      <td>0.631669</td>\n      <td>0.020663</td>\n      <td>10.056146</td>\n      <td>15.458982</td>\n      <td>0.505702</td>\n    </tr>\n    <tr>\n      <th>Latvia</th>\n      <td>212.112013</td>\n      <td>582.122971</td>\n      <td>10.760751</td>\n      <td>31509.0</td>\n      <td>1850.651</td>\n      <td>5.831216e+07</td>\n      <td>0.114615</td>\n      <td>0.314550</td>\n      <td>0.005815</td>\n      <td>3.637526</td>\n      <td>9.982874</td>\n      <td>0.184537</td>\n    </tr>\n    <tr>\n      <th>Lithuania</th>\n      <td>779.017472</td>\n      <td>1752.292576</td>\n      <td>40.237259</td>\n      <td>38824.0</td>\n      <td>2750.055</td>\n      <td>1.067681e+08</td>\n      <td>0.283273</td>\n      <td>0.637185</td>\n      <td>0.014631</td>\n      <td>7.296348</td>\n      <td>16.412131</td>\n      <td>0.376866</td>\n    </tr>\n    <tr>\n      <th>Luxembourg</th>\n      <td>331.685880</td>\n      <td>457.427076</td>\n      <td>23.212576</td>\n      <td>118001.0</td>\n      <td>647.599</td>\n      <td>7.641733e+07</td>\n      <td>0.512178</td>\n      <td>0.706343</td>\n      <td>0.035844</td>\n      <td>4.340454</td>\n      <td>5.985908</td>\n      <td>0.303761</td>\n    </tr>\n    <tr>\n      <th>Malta</th>\n      <td>94.901579</td>\n      <td>256.117513</td>\n      <td>2.943655</td>\n      <td>42856.0</td>\n      <td>533.286</td>\n      <td>2.285450e+07</td>\n      <td>0.177956</td>\n      <td>0.480263</td>\n      <td>0.005520</td>\n      <td>4.152423</td>\n      <td>11.206435</td>\n      <td>0.128800</td>\n    </tr>\n    <tr>\n      <th>Netherlands</th>\n      <td>8057.673666</td>\n      <td>17333.784583</td>\n      <td>330.855868</td>\n      <td>57534.0</td>\n      <td>17564.014</td>\n      <td>1.010528e+09</td>\n      <td>0.458760</td>\n      <td>0.986892</td>\n      <td>0.018837</td>\n      <td>7.973726</td>\n      <td>17.153196</td>\n      <td>0.327409</td>\n    </tr>\n    <tr>\n      <th>Poland</th>\n      <td>7844.961688</td>\n      <td>13146.977740</td>\n      <td>349.013199</td>\n      <td>34103.0</td>\n      <td>39857.145</td>\n      <td>1.359248e+09</td>\n      <td>0.196827</td>\n      <td>0.329852</td>\n      <td>0.008757</td>\n      <td>5.771545</td>\n      <td>9.672242</td>\n      <td>0.256769</td>\n    </tr>\n    <tr>\n      <th>Portugal</th>\n      <td>4895.556010</td>\n      <td>11419.517093</td>\n      <td>295.291351</td>\n      <td>34043.0</td>\n      <td>10270.865</td>\n      <td>3.496511e+08</td>\n      <td>0.476645</td>\n      <td>1.111836</td>\n      <td>0.028750</td>\n      <td>14.001262</td>\n      <td>32.659753</td>\n      <td>0.844532</td>\n    </tr>\n    <tr>\n      <th>Romania</th>\n      <td>3214.726333</td>\n      <td>5698.929843</td>\n      <td>211.371191</td>\n      <td>30526.0</td>\n      <td>19659.267</td>\n      <td>6.001188e+08</td>\n      <td>0.163522</td>\n      <td>0.289885</td>\n      <td>0.010752</td>\n      <td>5.356817</td>\n      <td>9.496336</td>\n      <td>0.352216</td>\n    </tr>\n    <tr>\n      <th>Slovakia</th>\n      <td>1075.373325</td>\n      <td>1733.551491</td>\n      <td>41.527329</td>\n      <td>32709.0</td>\n      <td>5643.453</td>\n      <td>1.845917e+08</td>\n      <td>0.190552</td>\n      <td>0.307179</td>\n      <td>0.007358</td>\n      <td>5.825686</td>\n      <td>9.391275</td>\n      <td>0.224969</td>\n    </tr>\n    <tr>\n      <th>Slovenia</th>\n      <td>1538.841873</td>\n      <td>1862.611074</td>\n      <td>60.474226</td>\n      <td>40067.0</td>\n      <td>2119.844</td>\n      <td>8.493579e+07</td>\n      <td>0.725922</td>\n      <td>0.878655</td>\n      <td>0.028528</td>\n      <td>18.117708</td>\n      <td>21.929637</td>\n      <td>0.711999</td>\n    </tr>\n    <tr>\n      <th>Spain</th>\n      <td>21546.890886</td>\n      <td>35876.370198</td>\n      <td>1183.567861</td>\n      <td>39121.0</td>\n      <td>47558.630</td>\n      <td>1.860541e+09</td>\n      <td>0.453060</td>\n      <td>0.754361</td>\n      <td>0.024887</td>\n      <td>11.580980</td>\n      <td>19.282761</td>\n      <td>0.636142</td>\n    </tr>\n    <tr>\n      <th>Sweden</th>\n      <td>4904.475036</td>\n      <td>13918.160300</td>\n      <td>243.500257</td>\n      <td>54146.0</td>\n      <td>10549.347</td>\n      <td>5.712049e+08</td>\n      <td>0.464908</td>\n      <td>1.319339</td>\n      <td>0.023082</td>\n      <td>8.586192</td>\n      <td>24.366316</td>\n      <td>0.426292</td>\n    </tr>\n    <tr>\n      <th>max</th>\n      <td>24311.915929</td>\n      <td>37292.169893</td>\n      <td>1219.920814</td>\n      <td>118001.0</td>\n      <td>83369.843</td>\n      <td>4.508308e+09</td>\n      <td>0.725922</td>\n      <td>1.393174</td>\n      <td>0.036144</td>\n      <td>18.117708</td>\n      <td>32.659753</td>\n      <td>1.043324</td>\n    </tr>\n  </tbody>\n</table>\n</div>"
     },
     "execution_count": 6,
     "metadata": {},
     "output_type": "execute_result"
    }
   ],
   "source": [
    "df_country_eu.loc['max']= df_country_eu.max()\n",
    "df_country_eu"
   ],
   "metadata": {
    "collapsed": false
   }
  },
  {
   "cell_type": "code",
   "execution_count": 7,
   "outputs": [
    {
     "data": {
      "text/plain": "Index(['SDG', 'DT', 'SDG-DT', 'gdppc', 'pop2022', 'gdp', 'SDG-pop', 'DT-pop',\n       'SDG-DT-pop', 'SDG-gdp', 'DT-gdp', 'SDG-DT-gdp'],\n      dtype='object')"
     },
     "execution_count": 7,
     "metadata": {},
     "output_type": "execute_result"
    }
   ],
   "source": [
    "df_country_eu.columns"
   ],
   "metadata": {
    "collapsed": false
   }
  },
  {
   "cell_type": "code",
   "execution_count": 8,
   "outputs": [
    {
     "name": "stdout",
     "output_type": "stream",
     "text": [
      "SDG\n",
      "DT\n",
      "SDG-DT\n",
      "SDG\n",
      "DT\n",
      "SDG-DT\n",
      "SDG\n",
      "DT\n",
      "SDG-DT\n"
     ]
    }
   ],
   "source": [
    "for cat in ['SDG', 'DT', 'SDG-DT', 'SDG-pop', 'DT-pop','SDG-DT-pop', 'SDG-gdp', 'DT-gdp', 'SDG-DT-gdp']:\n",
    "    tit = cat.replace(\"-pop\", \"\").replace(\"-gdp\", \"\")\n",
    "    print(tit)"
   ],
   "metadata": {
    "collapsed": false
   }
  },
  {
   "cell_type": "markdown",
   "source": [
    "## Maps for EU"
   ],
   "metadata": {
    "collapsed": false
   }
  },
  {
   "cell_type": "code",
   "execution_count": 65,
   "outputs": [],
   "source": [
    "for cat in ['SDG', 'DT', 'SDG-DT', 'SDG-pop', 'DT-pop','SDG-DT-pop', 'SDG-gdp', 'DT-gdp', 'SDG-DT-gdp']:\n",
    "    # tit = cat.replace(\"-pop\", \"\").replace(\"-gdp\", \"\")\n",
    "    if 'pop' in cat:\n",
    "        spec = \"/pop*\"\n",
    "        annot= \"*Normalised by population\"\n",
    "    elif \"gdp\" in cat:\n",
    "        spec = \"/gdp*\"\n",
    "        annot = \"*Normalised by GDP (in M$)\"\n",
    "    else:\n",
    "        spec = \"\"\n",
    "        annot = \"\"\n",
    "    tit = f\"Nb pubs{spec}\"\n",
    "    layout = go.Layout(\n",
    "        annotations=[\n",
    "            dict(\n",
    "                x=1.05,\n",
    "                y=1,\n",
    "                align=\"right\",\n",
    "                valign=\"top\",\n",
    "                text=tit,\n",
    "                showarrow=False,\n",
    "                xref=\"paper\",\n",
    "                yref=\"paper\",\n",
    "                xanchor=\"center\",\n",
    "                yanchor=\"top\",\n",
    "                font_size=22,\n",
    "                ),\n",
    "            dict(\n",
    "                x=0.25,\n",
    "                y=-.01,\n",
    "                align=\"right\",\n",
    "                valign=\"top\",\n",
    "                text=annot,\n",
    "                showarrow=False,\n",
    "                xref=\"paper\",\n",
    "                yref=\"paper\",\n",
    "                xanchor=\"center\",\n",
    "                yanchor=\"top\",\n",
    "                font_size=30,\n",
    "                ),\n",
    "            ],\n",
    "        )\n",
    "    fig = go.Figure(\n",
    "            data=go.Choropleth(\n",
    "                locations=df_country_eu.index,\n",
    "                z=df_country_eu[cat],\n",
    "                text=df_country_eu.index,\n",
    "                locationmode=\"country names\",\n",
    "                colorscale='Blues',\n",
    "                autocolorscale=False,\n",
    "                colorbar=dict(\n",
    "                    len=0.9,\n",
    "                    y=0.5\n",
    "                )\n",
    "            ),\n",
    "            layout=layout,\n",
    "        )\n",
    "\n",
    "    fig.update_layout(\n",
    "        template='simple_white',\n",
    "        font=dict(size=30),\n",
    "        showlegend=True,\n",
    "        geo=go.layout.Geo(\n",
    "            scope=\"world\",\n",
    "            landcolor='lightgray',\n",
    "            projection_scale=float(6.1),\n",
    "            center=dict(lon=15, lat=52),\n",
    "            projection_type=\"azimuthal equal area\",\n",
    "            showland=True,\n",
    "            showcountries=False,\n",
    "            showframe=False\n",
    "        ),\n",
    "        height=1080,\n",
    "        width=1200\n",
    "\n",
    "\n",
    "    )\n",
    "    fig.write_image(f\"../img/Commission/maps/EU_{cat}.jpg\")\n",
    "    # pio.write_image(fig, folder, format='png')"
   ],
   "metadata": {
    "collapsed": false
   }
  },
  {
   "cell_type": "markdown",
   "source": [
    "## Same on WORLD"
   ],
   "metadata": {
    "collapsed": false
   }
  },
  {
   "cell_type": "code",
   "execution_count": 33,
   "outputs": [
    {
     "name": "stdout",
     "output_type": "stream",
     "text": [
      "CPU times: user 3.32 s, sys: 3.57 ms, total: 3.32 s\n",
      "Wall time: 3.32 s\n"
     ]
    }
   ],
   "source": [
    "%%time\n",
    "set_countries = set()\n",
    "for row in df_sdg.itertuples(index=False, name=None):\n",
    "    cn = row[12]\n",
    "    lst_actors = cn.split(\", \")\n",
    "    for actor in lst_actors:\n",
    "        set_countries.add(actor)\n",
    "set_countries.add('EU')"
   ],
   "metadata": {
    "collapsed": false
   }
  },
  {
   "cell_type": "code",
   "execution_count": 34,
   "outputs": [
    {
     "data": {
      "text/plain": "{'Afghanistan',\n 'Albania',\n 'Algeria',\n 'Andorra',\n 'Angola',\n 'Anguilla',\n 'Antigua and Barbuda',\n 'Argentina',\n 'Armenia',\n 'Aruba',\n 'Australia',\n 'Austria',\n 'Azerbaijan',\n 'Bahamas',\n 'Bahrain',\n 'Bangladesh',\n 'Barbados',\n 'Belarus',\n 'Belgium',\n 'Belize',\n 'Benin',\n 'Bermuda',\n 'Bhutan',\n 'Bolivia',\n 'Bosnia and Herzegovina',\n 'Botswana',\n 'Brazil',\n 'British Indian Ocean Territory',\n 'British Virgin Islands',\n 'Brunei',\n 'Bulgaria',\n 'Burkina Faso',\n 'Burundi',\n 'Cambodia',\n 'Cameroon',\n 'Canada',\n 'Cape Verde',\n 'Cayman Islands',\n 'Central African Republic',\n 'Chad',\n 'Chile',\n 'China',\n 'Colombia',\n 'Comoros',\n 'Congo [DRC]',\n 'Cook Islands',\n 'Costa Rica',\n \"Cote d'Ivoire\",\n 'Croatia',\n 'Cuba',\n 'Curacao',\n 'Cyprus',\n 'Czech Republic',\n 'Denmark',\n 'Djibouti',\n 'Dominica',\n 'Dominican Republic',\n 'EU',\n 'Ecuador',\n 'Egypt',\n 'El Salvador',\n 'Equatorial Guinea',\n 'Eritrea',\n 'Estonia',\n 'Eswatini',\n 'Ethiopia',\n 'Falkland Islands',\n 'Faroe Islands',\n 'Fiji',\n 'Finland',\n 'France',\n 'French Guiana',\n 'Gabon',\n 'Gambia',\n 'Georgia',\n 'Germany',\n 'Ghana',\n 'Gibraltar',\n 'Greece',\n 'Greenland',\n 'Grenada',\n 'Guatemala',\n 'Guinea',\n 'Guinea Bissau',\n 'Guyana',\n 'Haiti',\n 'Honduras',\n 'Hungary',\n 'Iceland',\n 'India',\n 'Indonesia',\n 'Iran',\n 'Iraq',\n 'Ireland',\n 'Israel',\n 'Italy',\n 'Jamaica',\n 'Japan',\n 'Jordan',\n 'Kazakhstan',\n 'Kenya',\n 'Kiribati',\n 'Kosovo',\n 'Kuwait',\n 'Kyrgyzstan',\n 'Laos',\n 'Latvia',\n 'Lebanon',\n 'Lesotho',\n 'Liberia',\n 'Libya',\n 'Liechtenstein',\n 'Lithuania',\n 'Luxembourg',\n 'Macedonia',\n 'Madagascar',\n 'Malawi',\n 'Malaysia',\n 'Maldives',\n 'Mali',\n 'Malta',\n 'Marshall Islands',\n 'Mauritania',\n 'Mauritius',\n 'Mexico',\n 'Micronesia',\n 'Moldova',\n 'Monaco',\n 'Mongolia',\n 'Montenegro',\n 'Montserrat',\n 'Morocco',\n 'Mozambique',\n 'Myanmar',\n 'Namibia',\n 'Nauru',\n 'Nepal',\n 'Netherlands',\n 'Netherlands Antilles',\n 'New Caledonia',\n 'New Zealand',\n 'Nicaragua',\n 'Niger',\n 'Nigeria',\n 'Niue',\n 'North Korea',\n 'Norway',\n 'Oman',\n 'Pakistan',\n 'Palau',\n 'Palestine',\n 'Panama',\n 'Papua New Guinea',\n 'Paraguay',\n 'Peru',\n 'Philippines',\n 'Poland',\n 'Portugal',\n 'Qatar',\n 'Romania',\n 'Russia',\n 'Rwanda',\n 'Saint Helena',\n 'Saint Kitts and Nevis',\n 'Saint Lucia',\n 'Saint Vincent and the Grenadines',\n 'Samoa',\n 'San Marino',\n 'Saudi Arabia',\n 'Senegal',\n 'Serbia',\n 'Seychelles',\n 'Sierra Leone',\n 'Singapore',\n 'Sint Maarten',\n 'Slovakia',\n 'Slovenia',\n 'Solomon Islands',\n 'Somalia',\n 'South Africa',\n 'South Korea',\n 'South Sudan',\n 'Spain',\n 'Sri Lanka',\n 'Sudan',\n 'Suriname',\n 'Swaziland',\n 'Sweden',\n 'Switzerland',\n 'Syria',\n 'São Tomé and Príncipe',\n 'Taiwan',\n 'Tajikistan',\n 'Tanzania',\n 'Thailand',\n 'Timor-Leste',\n 'Togo',\n 'Tonga',\n 'Trinidad and Tobago',\n 'Tunisia',\n 'Turkey',\n 'Turkmenistan',\n 'Turks and Caicos Islands',\n 'Tuvalu',\n 'Uganda',\n 'Ukraine',\n 'United Arab Emirates',\n 'United Kingdom',\n 'United States',\n 'Uruguay',\n 'Uzbekistan',\n 'Vanuatu',\n 'Vatican City',\n 'Venezuela',\n 'Vietnam',\n 'Yemen',\n 'Zambia',\n 'Zimbabwe'}"
     },
     "execution_count": 34,
     "metadata": {},
     "output_type": "execute_result"
    }
   ],
   "source": [
    "set_countries"
   ],
   "metadata": {
    "collapsed": false
   }
  },
  {
   "cell_type": "code",
   "execution_count": 35,
   "outputs": [],
   "source": [
    "# Digital\n",
    "\n",
    "dic_countries = {country: [0, 0, 0]  for country in set_countries}\n",
    "\n",
    "for row in df_digital.itertuples(index=False, name=None):\n",
    "    year = int(row[9])\n",
    "    cn = row[12]\n",
    "    lst_actors = cn.split(\", \")\n",
    "    size_actors = len(lst_actors)\n",
    "    for actor in lst_actors:\n",
    "        # Increment for digital\n",
    "        if actor in dic_countries:\n",
    "            dic_countries[actor][0] += 1 / size_actors\n",
    "            if actor in eu_countries:\n",
    "                dic_countries['EU'][0] += 1 / size_actors\n",
    "\n",
    "# SDG & SDG-DT\n",
    "for row in df_sdg.itertuples(index=False, name=None):\n",
    "    year = int(row[9])\n",
    "    cn = row[12]\n",
    "    lst_actors = cn.split(\", \")\n",
    "    size_actors = len(lst_actors)\n",
    "    for actor in lst_actors:\n",
    "        if actor in dic_countries:\n",
    "            # Increment for SDG\n",
    "            dic_countries[actor][1] += 1 / size_actors\n",
    "            if actor in eu_countries:\n",
    "                dic_countries['EU'][1] += 1 / size_actors\n",
    "            if row[-1]:\n",
    "                # Increment for SDG-DT\n",
    "                dic_countries[actor][2] += 1 / size_actors\n",
    "                if actor in eu_countries:\n",
    "                    dic_countries['EU'][2] += 1 / size_actors\n"
   ],
   "metadata": {
    "collapsed": false
   }
  },
  {
   "cell_type": "code",
   "execution_count": 36,
   "outputs": [
    {
     "data": {
      "text/plain": "{'Austria': [3195.6573442546473, 5372.635314992437, 138.25831274620577],\n 'Colombia': [1204.4622840269724, 3128.0903074657067, 77.37229690387599],\n 'Morocco': [1470.3580801038522, 1556.9364458500509, 86.57241508173362],\n 'Somalia': [1.9857142857142858, 20.084785958384344, 0.6666666666666666],\n 'Tuvalu': [0, 0.9332547855145108, 0],\n 'Cape Verde': [0.5333333333333333, 24.45411191850047, 0],\n 'Togo': [2.042058516196447, 71.64050996155208, 1.9166666666666667],\n 'Denmark': [3031.371470987053, 7977.961968500382, 143.02028501831475],\n 'Nigeria': [822.4640553792981, 4875.144073653777, 85.45068089871612],\n 'Turks and Caicos Islands': [0, 4.939151068024308, 0],\n 'Guinea': [3.2928160919540215, 38.614420526720004, 0.39999999999999997],\n 'Taiwan': [0, 10225.048637645823, 592.2434024738548],\n 'Niger': [7.353744052881982, 79.27135397294336, 1.5736263736263734],\n 'Zimbabwe': [31.52573260073258, 639.3795708072912, 7.286111111111111],\n 'Yemen': [79.46929736929754, 96.77856380366788, 3.523809523809524],\n 'India': [39559.750064184685, 42596.348476872095, 2079.15684654274],\n 'Aruba': [0.2, 6.068753006253009, 0],\n 'British Indian Ocean Territory': [0, 0.25, 0],\n 'Philippines': [301.9411251144342, 1897.5679432529855, 38.005111737677524],\n 'Kosovo': [0, 121.91198443670658, 0],\n 'Falkland Islands': [1.66328197945845, 20.26990580494642, 1.0620915032679739],\n 'Bahrain': [70.0075396825398, 162.61738118409335, 3.552777777777778],\n 'Tunisia': [1773.572695905919, 2281.9702851630122, 64.13621315750859],\n 'North Korea': [28.764718614718614, 20.587011599511573, 2.7142857142857135],\n 'Luxembourg': [331.6858804537312, 457.42707556128966, 23.21257631257632],\n 'Nepal': [51.980756644359744, 1116.7118676928894, 14.368206680706669],\n 'Latvia': [212.11201283054967, 582.1229712614414, 10.760751041411416],\n 'Jamaica': [18.04523809523811, 222.60542731856359, 4.166666666666667],\n 'Sierra Leone': [5.998178994918127, 80.72890569493381, 0.9999999999999999],\n 'Chad': [2.015079365079365, 13.660835509519723, 0],\n 'Qatar': [813.8029404914782, 1086.78365049508, 52.55039682539694],\n 'Azerbaijan': [89.36864016498362, 152.04017493716464, 1.7],\n 'Turkmenistan': [0.39285714285714285, 1.54047619047619, 0],\n 'Spain': [21546.890886411442, 35876.37019797667, 1183.5678613967584],\n 'Sri Lanka': [174.16183069363535, 905.8857756261303, 13.31865079365079],\n 'Seychelles': [0.05555555555555555, 55.97746984386942, 0.05555555555555555],\n 'Germany': [24311.915928832477, 36083.595930589414, 941.9879723515944],\n 'Sweden': [4904.4750364208585, 13918.160300033314, 243.50025687807334],\n 'Dominican Republic': [6.72960368091947,\n  47.5425350011878,\n  0.05263157894736842],\n 'Thailand': [2082.9202280499967, 4712.398681777071, 121.69864747675875],\n 'El Salvador': [2.8944444444444444, 32.369071592508455, 0],\n 'Singapore': [6642.267525165589, 4567.587686601623, 262.0565327782223],\n 'Botswana': [50.21661026881624, 376.858649320572, 11.753571428571425],\n 'Namibia': [15.252321241976416, 166.19097986344804, 1.3416666666666666],\n 'Australia': [17603.519976236545, 46270.84381563558, 972.2658413746772],\n 'Swaziland': [2.5, 30.25580669330668, 0],\n 'Sint Maarten': [0, 1.7525252525252522, 0],\n 'Kiribati': [0, 6.486966716858022, 0],\n 'Gambia': [3.7980218217060315, 48.59089804580676, 1.0816849816849818],\n 'Liberia': [0.5151515151515151, 32.15099058628557, 0],\n 'Tanzania': [59.2066723997608, 1182.9599985002421, 6.058607079195314],\n 'Belgium': [4694.626639146037, 8371.507112653915, 181.90124111624542],\n 'Moldova': [18.936692474192462, 132.46424605264272, 1.8666666666666665],\n 'Indonesia': [1444.0688233165913, 5179.400094533185, 103.24762469907563],\n 'Bangladesh': [907.675819181797, 2916.8593242879615, 88.07930906812501],\n 'Micronesia': [1.0, 9.858208324910583, 0],\n 'Monaco': [7.109182926574234, 107.42053713907822, 0.2],\n 'Brazil': [11048.517717712808, 28702.406330273032, 598.9969188461126],\n 'Suriname': [2.6500000000000004, 19.85108386444469, 0.2],\n 'Libya': [40.97710077279041, 93.3764156086364, 1.9102564102564101],\n 'United States': [113252.45066167864, 193487.92293400812, 4689.826354587176],\n 'Costa Rica': [78.17856995298935, 534.9665663091603, 7.153415517231306],\n 'Uzbekistan': [22.734146995762966, 104.9957190429635, 1.8027777777777778],\n 'Guatemala': [7.210156133246117, 119.4677730161294, 0.6359649122807016],\n 'Papua New Guinea': [13.980893521682994, 90.13128754832417, 2.68452380952381],\n 'Slovenia': [1538.8418730941335, 1862.6110737605884, 60.47422575824994],\n 'Peru': [226.91083109714734, 1082.5784880117528, 28.110462423302295],\n 'French Guiana': [3.810964912280703, 58.73114214085501, 0.8285714285714285],\n 'Israel': [3338.1510800944625, 4938.700962390188, 82.65545412594844],\n 'Serbia': [1786.1341796845563, 2592.544797017509, 95.78652265067089],\n 'Cameroon': [141.91479138343647, 701.1663153503454, 4.867857142857142],\n 'Burundi': [2.678571428571429, 32.03950505270112, 0.8333333333333333],\n 'Chile': [1351.5068244795211, 4865.196653641552, 80.55981018039718],\n 'Eswatini': [0, 32.62523778445698, 1.8571428571428568],\n 'Marshall Islands': [0, 8.99643324830266, 0],\n 'Croatia': [1215.7330067701762, 2621.6673507687287, 78.02692682990882],\n 'Iran': [0, 17060.328428578567, 966.4773871120045],\n 'Ghana': [175.77216367270154, 2476.1146882111916, 26.841208568062292],\n 'Saint Lucia': [1.0, 4.271662245800177, 0],\n 'Finland': [3549.391121426883, 7719.220726193295, 200.26744032127345],\n 'Hungary': [1652.5831277400177, 2767.537750668484, 85.48116602931242],\n 'Saint Helena': [0.5055555555555555, 8.338059145305376, 0],\n 'Switzerland': [6214.908911414242, 9866.141928443481, 260.58745875915525],\n 'Greenland': [0.9786549707602339, 81.41128841817681, 0.6311802232854864],\n 'Faroe Islands': [2.221428571428571, 4.163423673466244, 0.2],\n 'Bermuda': [1.4126984126984126, 38.45891118394096, 0.14285714285714285],\n 'Mozambique': [8.388502199294853, 226.47967340993796, 1.1622222222222223],\n 'Portugal': [4895.556009773509, 11419.517093233837, 295.29135120457346],\n 'South Sudan': [0, 9.959740462789236, 0],\n 'Nicaragua': [4.006060606060606, 60.298547666263055, 0.28181818181818186],\n 'South Africa': [2092.5022495464036, 14977.791130488611, 216.29948456559183],\n 'Kenya': [132.3936042164001, 2284.578093237821, 26.164732732008282],\n 'Montserrat': [0.125, 1.8547619047619046, 0],\n 'Mexico': [4560.914757151735, 9240.066889167647, 206.79479898480926],\n 'Armenia': [51.328492648715674, 96.11280013736389, 4.187471655328798],\n 'Maldives': [2.4886363636363633, 34.10786498204388, 1.4],\n 'Vanuatu': [0.16666666666666666, 24.74396884617327, 0],\n 'China': [185367.7508118637, 145199.56898224584, 6755.196249216206],\n 'Cuba': [190.03883337104244, 322.48320634729214, 6.780330086580088],\n 'Cayman Islands': [0.325, 6.635059345974836, 0],\n 'Afghanistan': [4.49488416988417, 78.13024774633851, 0.25],\n 'Samoa': [0, 23.230606026621288, 0],\n 'Georgia': [87.40567339839492, 150.06712562659143, 6.277154195011338],\n 'Mauritius': [42.56307169532979, 214.31938958670955, 4.1090277777777775],\n 'Lithuania': [779.0174722441146, 1752.2925757028722, 40.23725930017779],\n 'Mauritania': [2.3510883752263063, 21.29039825265538, 0.07692307692307693],\n 'Oman': [259.0258991283904, 625.4241686959427, 16.248333333333324],\n 'Myanmar': [16.639875976513906, 139.4140116827027, 1.1111111111111112],\n 'Romania': [3214.7263329947154, 5698.929842771571, 211.3711906618516],\n 'Haiti': [0.8690476190476191, 46.300711606941675, 0],\n 'Curacao': [0, 4.40211522223906, 0],\n 'Argentina': [1106.2649275482445, 4854.826978613207, 40.74344153348891],\n 'Malawi': [8.534235209235206, 458.16642998738695, 3.1634920634920634],\n 'Guinea Bissau': [0, 17.696378350751417, 0.14285714285714285],\n 'Kuwait': [365.1755693314728, 597.7630777520868, 21.746349206349198],\n 'Andorra': [0.5384615384615384, 10.218984008056317, 0],\n 'Ecuador': [330.2367410647291, 991.2860952817383, 40.32856604727314],\n 'Fiji': [56.64375901875909, 282.35139018973695, 2.208333333333333],\n 'Burkina Faso': [8.487925295425296, 312.94126586563914, 2.671428571428572],\n 'Cyprus': [528.2025507350229, 851.738882058306, 41.854211038644024],\n 'Iraq': [1045.0952765296192, 888.9951074258928, 53.64869782994797],\n 'Grenada': [5.287781662781663, 26.230823354417787, 0.4318181818181819],\n 'Egypt': [3439.702223790591, 5084.6198687628, 183.52629155868266],\n 'Barbados': [7.4740557531190035, 128.5695640736321, 1.6333333333333335],\n 'Paraguay': [20.489227971816433, 36.707162377215376, 1.2692982456140351],\n 'Greece': [5103.203761474665, 7298.045071254196, 311.48150208455894],\n \"Cote d'Ivoire\": [31.382757376722875, 242.73805350768035, 3.79563492063492],\n 'Vietnam': [2290.6286716850627, 2762.141449051274, 134.4341176797061],\n 'Bosnia and Herzegovina': [191.5108013705129,\n  301.54215521680186,\n  11.0169413919414],\n 'Guyana': [2.8800505050505047, 35.4517461229746, 0.5151515151515151],\n 'United Arab Emirates': [1688.8649700794747,\n  1818.9408478086875,\n  115.03768308985687],\n 'Dominica': [0, 4.5448362939742255, 0],\n 'Cambodia': [14.03478147239756, 211.44416701421383, 1.1959150326797385],\n 'Malaysia': [7381.011215582005, 10707.882817087591, 435.56273057822295],\n 'Eritrea': [1.6666666666666665, 22.331513082338653, 0],\n 'Panama': [33.32031759090582, 283.3505685471257, 6.013528138528141],\n 'Nauru': [0.5, 1.6818181818181814, 0],\n 'Slovakia': [1075.373325293219, 1733.5514905838108, 41.52732873713511],\n 'British Virgin Islands': [0, 1.8934782608695655, 0],\n 'Saudi Arabia': [6152.61687361047, 5816.412651752984, 381.3587815273504],\n 'Estonia': [433.40050553411237, 1238.384146644059, 31.90638253387478],\n 'Syria': [76.5150183150183, 150.8751539322312, 3.6738095238095236],\n 'Lesotho': [2.2, 43.03100519552139, 0],\n 'New Zealand': [2203.3127311583758, 6847.822786617806, 121.82981076073646],\n 'Mali': [7.904727398205663, 108.311859389618, 1.5138888888888888],\n 'Senegal': [33.61797780669481, 296.84311636451184, 3.2551367575957735],\n 'Kyrgyzstan': [0, 75.793811549351, 0.8303571428571428],\n 'Niue': [0, 0.1604373251970506, 0],\n 'Iceland': [136.63688859447512, 607.4721562454689, 5.5081381037263375],\n 'Norway': [2586.0647727308724, 9549.820652921404, 185.4991241960449],\n 'Algeria': [2165.2840910005816, 1425.2191432754269, 94.42023809523809],\n 'Brunei': [77.29217197197838, 169.10084131438865, 7.431227106227108],\n 'Netherlands': [8057.673666412738, 17333.78458302147, 330.8558683412522],\n 'Netherlands Antilles': [0, 4.063396286811779, 0],\n 'United Kingdom': [30393.60967250126, 61205.919538952396, 1455.6984018877054],\n 'Montenegro': [55.52169318233982, 163.02202100160156, 4.05925925925926],\n 'Bhutan': [3.2079579579579582, 70.04962679671506, 0.3333333333333333],\n 'Palau': [0.9333333333333333, 19.200593995152484, 0],\n 'Equatorial Guinea': [0, 2.216127622377622, 0],\n 'Bolivia': [5.66597264442092, 156.2905873131491, 0.46825396825396826],\n 'Kazakhstan': [357.10732739482603, 618.593589963857, 14.155194805194801],\n 'EU': [147705.90367735078, 255032.29896970058, 6973.571453731713],\n 'Honduras': [6.267281563109547, 41.30251517086324, 0.8496012759170655],\n 'Comoros': [0, 6.2903280929596725, 0],\n 'Tajikistan': [4.560714285714287, 35.06451705426532, 0.3333333333333333],\n 'Tonga': [0, 11.00486463701566, 0],\n 'Gabon': [3.2670653412032715, 47.05576231574425, 0.3333333333333333],\n 'Italy': [24258.74520238488, 37292.169893326754, 1219.9208144966453],\n 'Albania': [33.30612581862582, 249.05481370069282, 2.2206349206349203],\n 'Gibraltar': [0.034482758620689655, 6.1882761106047655, 0.034482758620689655],\n 'Lebanon': [470.3720914842206, 910.2205338142, 25.629488680718158],\n 'Ireland': [2383.428708582824, 4481.205904487337, 122.95490266504291],\n 'Madagascar': [8.859193584193582, 184.4162934099542, 2.7575396825396816],\n 'Belarus': [93.44515657139846, 92.28527069947353, 1.0279069767441869],\n 'Jordan': [1237.954763782267, 1213.8845209269225, 62.19972677595641],\n 'Angola': [3.292099567099567, 35.749375292618765, 0],\n 'Ukraine': [992.4805335992241, 2733.7508403096817, 69.57650593572286],\n 'Djibouti': [0, 10.692618472509775, 0],\n 'South Korea': [32110.88793657974, 19411.126347874768, 1234.5566495169235],\n 'Czech Republic': [2618.025603589335, 4618.636022561378, 107.79207187287932],\n 'Uganda': [47.11266012754019, 1152.3906940602765, 10.627588791927025],\n 'Saint Vincent and the Grenadines': [1.5, 1.812773356911288, 0],\n 'Sudan': [56.11607841083662, 207.20589299470757, 2.505925324675325],\n 'Benin': [12.195355219493138, 299.18449296909176, 4.923809523809524],\n 'Mongolia': [26.442651515151514, 137.86968067656034, 2.406666666666667],\n 'Poland': [7844.961688402916, 13146.977740343744, 349.01319873447255],\n 'Laos': [2.0102564102564107, 129.81040194898029, 0.48803418803418797],\n 'Cook Islands': [0.30063965884861404, 5.5537747035573135, 0.2857142857142857],\n 'Venezuela': [97.62351136142226, 311.5253276650567, 5.410438733429714],\n 'Ethiopia': [171.72772270936053, 3297.2280984541267, 33.06692307692307],\n 'São Tomé and Príncipe': [0, 4.801569264069264, 0],\n 'Belize': [2.606084656084656, 25.625518970518378, 0.03333333333333333],\n 'Anguilla': [0, 1.8858225108225108, 0],\n 'Malta': [94.90157923356503, 256.1175130796145, 2.943654901574156],\n 'Palestine': [0, 241.64741795995312, 5.74642857142857],\n 'Vatican City': [0.7886676149834044, 2.8105086752145554, 0],\n 'Timor-Leste': [0, 17.31174242424241, 0.5],\n 'Trinidad and Tobago': [46.92787114845944,\n  247.08628784968286,\n  4.492156862745099],\n 'Congo [DRC]': [12.13712441356744, 255.98522830634818, 1.4856694030607072],\n 'Solomon Islands': [0.25, 36.519711714258854, 0.25],\n 'Turkey': [11975.764652023263, 15803.667150589357, 503.2528241919104],\n 'New Caledonia': [10.51856046000783, 202.390370778822, 3.3781328320801998],\n 'Saint Kitts and Nevis': [3.0842564298446646, 12.816383700815743, 0],\n 'Japan': [20664.436188392217, 19448.498197209836, 560.624257309512],\n 'Liechtenstein': [0, 13.491666666666665, 0.75],\n 'Rwanda': [25.160226658446454, 238.25626253128144, 6.309523809523809],\n 'Canada': [19986.756867485015, 37206.12094672097, 901.8414443106647],\n 'Uruguay': [124.70846176092968, 577.1903267157669, 10.795389515455302],\n 'Bulgaria': [543.927915015669, 1009.1698970386095, 24.55493234285004],\n 'Bahamas': [0, 45.207624903101404, 0.2934782608695652],\n 'San Marino': [1.8333333333333333, 4.567569700594823, 0],\n 'France': [15689.475027214125, 23290.96053837471, 551.407769016909],\n 'Antigua and Barbuda': [0, 5.189912051549983, 0],\n 'Pakistan': [5738.3432666514245, 7847.715280338113, 303.8049119908799],\n 'Russia': [5896.205613379603, 8970.470299448587, 207.74530823158176],\n 'Zambia': [28.898966719554938, 321.1607269214363, 3.6222222222222222],\n 'Macedonia': [92.35262971013974, 219.15788656067005, 7.72421948899347],\n 'Central African Republic': [0.14285714285714285, 11.904877597838864, 0]}"
     },
     "execution_count": 36,
     "metadata": {},
     "output_type": "execute_result"
    }
   ],
   "source": [
    "dic_countries"
   ],
   "metadata": {
    "collapsed": false
   }
  },
  {
   "cell_type": "code",
   "execution_count": 37,
   "outputs": [],
   "source": [
    "dic_countries_to_rename = {\"Palestine\": \"Palestinian Territory\",\n",
    "                                   \"Cote d'Ivoire\": \"Ivory Coast\",\n",
    "                                   \"Congo[DRC]\": \"Democratic Republic of the Congo\",\n",
    "                                   \"Congo, Dem.Rep.\": \"Democratic Republic of the Congo\",\n",
    "                                   \"Eswatini\": \"Swaziland\",\n",
    "                                   \"Guinea Bissau\": \"Guinea-Bissau\",\n",
    "                                   \"Timor-Leste\": \"East Timor\",\n",
    "                                   }\n",
    "for country in dic_countries.copy():\n",
    "    if country in dic_countries_to_rename:\n",
    "        dic_countries[dic_countries_to_rename[country]] = dic_countries[country]"
   ],
   "metadata": {
    "collapsed": false
   }
  },
  {
   "cell_type": "code",
   "execution_count": 38,
   "outputs": [
    {
     "data": {
      "text/plain": "                          ranking   gdppc    pop2022           gdp\nCountry                                                           \nLuxembourg                      1  118001    647.599  7.641733e+07\nSingapore                       2   97057   5975.689  5.799824e+08\nIreland                         3   94392   5023.109  4.741413e+08\nQatar                           4   93508   2695.122  2.520155e+08\nSwitzerland                     5   72874   8740.472  6.369532e+08\n...                           ...     ...        ...           ...\nMalawi                        190     993  20405.317  2.026248e+07\nCentral African Republic      191     979   5579.144  5.461982e+06\nSomalia                       192     925  17597.511  1.627770e+07\nSouth Sudan                   193     791  10913.164  8.632313e+06\nBurundi                       194     760  12889.576  9.796078e+06\n\n[185 rows x 4 columns]",
      "text/html": "<div>\n<style scoped>\n    .dataframe tbody tr th:only-of-type {\n        vertical-align: middle;\n    }\n\n    .dataframe tbody tr th {\n        vertical-align: top;\n    }\n\n    .dataframe thead th {\n        text-align: right;\n    }\n</style>\n<table border=\"1\" class=\"dataframe\">\n  <thead>\n    <tr style=\"text-align: right;\">\n      <th></th>\n      <th>ranking</th>\n      <th>gdppc</th>\n      <th>pop2022</th>\n      <th>gdp</th>\n    </tr>\n    <tr>\n      <th>Country</th>\n      <th></th>\n      <th></th>\n      <th></th>\n      <th></th>\n    </tr>\n  </thead>\n  <tbody>\n    <tr>\n      <th>Luxembourg</th>\n      <td>1</td>\n      <td>118001</td>\n      <td>647.599</td>\n      <td>7.641733e+07</td>\n    </tr>\n    <tr>\n      <th>Singapore</th>\n      <td>2</td>\n      <td>97057</td>\n      <td>5975.689</td>\n      <td>5.799824e+08</td>\n    </tr>\n    <tr>\n      <th>Ireland</th>\n      <td>3</td>\n      <td>94392</td>\n      <td>5023.109</td>\n      <td>4.741413e+08</td>\n    </tr>\n    <tr>\n      <th>Qatar</th>\n      <td>4</td>\n      <td>93508</td>\n      <td>2695.122</td>\n      <td>2.520155e+08</td>\n    </tr>\n    <tr>\n      <th>Switzerland</th>\n      <td>5</td>\n      <td>72874</td>\n      <td>8740.472</td>\n      <td>6.369532e+08</td>\n    </tr>\n    <tr>\n      <th>...</th>\n      <td>...</td>\n      <td>...</td>\n      <td>...</td>\n      <td>...</td>\n    </tr>\n    <tr>\n      <th>Malawi</th>\n      <td>190</td>\n      <td>993</td>\n      <td>20405.317</td>\n      <td>2.026248e+07</td>\n    </tr>\n    <tr>\n      <th>Central African Republic</th>\n      <td>191</td>\n      <td>979</td>\n      <td>5579.144</td>\n      <td>5.461982e+06</td>\n    </tr>\n    <tr>\n      <th>Somalia</th>\n      <td>192</td>\n      <td>925</td>\n      <td>17597.511</td>\n      <td>1.627770e+07</td>\n    </tr>\n    <tr>\n      <th>South Sudan</th>\n      <td>193</td>\n      <td>791</td>\n      <td>10913.164</td>\n      <td>8.632313e+06</td>\n    </tr>\n    <tr>\n      <th>Burundi</th>\n      <td>194</td>\n      <td>760</td>\n      <td>12889.576</td>\n      <td>9.796078e+06</td>\n    </tr>\n  </tbody>\n</table>\n<p>185 rows × 4 columns</p>\n</div>"
     },
     "execution_count": 38,
     "metadata": {},
     "output_type": "execute_result"
    }
   ],
   "source": [
    "gdp_pop_world = pd.read_csv(\"../data/countriesgdp_pop.csv\", index_col=1)\n",
    "gdp_pop_world\n"
   ],
   "metadata": {
    "collapsed": false
   }
  },
  {
   "cell_type": "code",
   "execution_count": 39,
   "outputs": [
    {
     "data": {
      "text/plain": "                                  SDG           DT      SDG-DT\nCountry                                                       \nAustria                   3195.657344  5372.635315  138.258313\nColombia                  1204.462284  3128.090307   77.372297\nMorocco                   1470.358080  1556.936446   86.572415\nSomalia                      1.985714    20.084786    0.666667\nTuvalu                       0.000000     0.933255    0.000000\n...                               ...          ...         ...\nCentral African Republic     0.142857    11.904878    0.000000\nGuinea-Bissau                0.000000    17.696378    0.142857\nIvory Coast                 31.382757   242.738054    3.795635\nPalestinian Territory        0.000000   241.647418    5.746429\nEast Timor                   0.000000    17.311742    0.500000\n\n[222 rows x 3 columns]",
      "text/html": "<div>\n<style scoped>\n    .dataframe tbody tr th:only-of-type {\n        vertical-align: middle;\n    }\n\n    .dataframe tbody tr th {\n        vertical-align: top;\n    }\n\n    .dataframe thead th {\n        text-align: right;\n    }\n</style>\n<table border=\"1\" class=\"dataframe\">\n  <thead>\n    <tr style=\"text-align: right;\">\n      <th></th>\n      <th>SDG</th>\n      <th>DT</th>\n      <th>SDG-DT</th>\n    </tr>\n    <tr>\n      <th>Country</th>\n      <th></th>\n      <th></th>\n      <th></th>\n    </tr>\n  </thead>\n  <tbody>\n    <tr>\n      <th>Austria</th>\n      <td>3195.657344</td>\n      <td>5372.635315</td>\n      <td>138.258313</td>\n    </tr>\n    <tr>\n      <th>Colombia</th>\n      <td>1204.462284</td>\n      <td>3128.090307</td>\n      <td>77.372297</td>\n    </tr>\n    <tr>\n      <th>Morocco</th>\n      <td>1470.358080</td>\n      <td>1556.936446</td>\n      <td>86.572415</td>\n    </tr>\n    <tr>\n      <th>Somalia</th>\n      <td>1.985714</td>\n      <td>20.084786</td>\n      <td>0.666667</td>\n    </tr>\n    <tr>\n      <th>Tuvalu</th>\n      <td>0.000000</td>\n      <td>0.933255</td>\n      <td>0.000000</td>\n    </tr>\n    <tr>\n      <th>...</th>\n      <td>...</td>\n      <td>...</td>\n      <td>...</td>\n    </tr>\n    <tr>\n      <th>Central African Republic</th>\n      <td>0.142857</td>\n      <td>11.904878</td>\n      <td>0.000000</td>\n    </tr>\n    <tr>\n      <th>Guinea-Bissau</th>\n      <td>0.000000</td>\n      <td>17.696378</td>\n      <td>0.142857</td>\n    </tr>\n    <tr>\n      <th>Ivory Coast</th>\n      <td>31.382757</td>\n      <td>242.738054</td>\n      <td>3.795635</td>\n    </tr>\n    <tr>\n      <th>Palestinian Territory</th>\n      <td>0.000000</td>\n      <td>241.647418</td>\n      <td>5.746429</td>\n    </tr>\n    <tr>\n      <th>East Timor</th>\n      <td>0.000000</td>\n      <td>17.311742</td>\n      <td>0.500000</td>\n    </tr>\n  </tbody>\n</table>\n<p>222 rows × 3 columns</p>\n</div>"
     },
     "execution_count": 39,
     "metadata": {},
     "output_type": "execute_result"
    }
   ],
   "source": [
    "df_country = pd.DataFrame.from_dict(data=dic_countries, orient=\"index\", columns=['SDG', 'DT', 'SDG-DT'])\n",
    "\n",
    "df_country.index.names = ['Country']\n",
    "dic_countries_to_rename = {\"Palestine\": \"Palestinian Territory\",\n",
    "                                   \"Cote d'Ivoire\": \"Ivory Coast\",\n",
    "                                   \"Congo [DRC]\": \"Democratic Republic of the Congo\",\n",
    "                                   \"Congo, Dem.Rep.\": \"Democratic Republic of the Congo\",\n",
    "                                   \"Eswatini\": \"Swaziland\",\n",
    "                                   \"Guinea Bissau\": \"Guinea-Bissau\",\n",
    "                                   \"Timor-Leste\": \"East Timor\",\n",
    "                                   }\n",
    "df_country.rename(index=dic_countries_to_rename, inplace=True)\n",
    "df_country"
   ],
   "metadata": {
    "collapsed": false
   }
  },
  {
   "cell_type": "code",
   "execution_count": 40,
   "outputs": [
    {
     "data": {
      "text/plain": "                             SDG           DT      SDG-DT  ranking  gdppc  \\\nCountry                                                                     \nAfghanistan             4.494884    78.130248    0.250000      174   2390   \nAlbania                33.306126   249.054814    2.220635       90  14218   \nAlgeria              2165.284091  1425.219143   94.420238      109  11112   \nAngola                  3.292100    35.749375    0.000000      127   6932   \nAntigua and Barbuda     0.000000     5.189912    0.000000       73  18618   \n...                          ...          ...         ...      ...    ...   \nVenezuela              97.623511   311.525328    5.410439      143   5178   \nVietnam              2290.628672  2762.141449  134.434118      112  10869   \nYemen                  79.469297    96.778564    3.523810      181   1927   \nZambia                 28.898967   321.160727    3.622222      162   3342   \nZimbabwe               31.525733   639.379571    7.286111      168   2622   \n\n                       pop2022           gdp  \nCountry                                       \nAfghanistan          41128.771  9.829776e+07  \nAlbania               2842.321  4.041212e+07  \nAlgeria              44903.225  4.989646e+08  \nAngola               35588.987  2.467029e+08  \nAntigua and Barbuda     93.763  1.745680e+06  \n...                        ...           ...  \nVenezuela            28301.696  1.465462e+08  \nVietnam              98186.856  1.067193e+09  \nYemen                33696.614  6.493338e+07  \nZambia               20017.675  6.689907e+07  \nZimbabwe             16320.537  4.279245e+07  \n\n[180 rows x 7 columns]",
      "text/html": "<div>\n<style scoped>\n    .dataframe tbody tr th:only-of-type {\n        vertical-align: middle;\n    }\n\n    .dataframe tbody tr th {\n        vertical-align: top;\n    }\n\n    .dataframe thead th {\n        text-align: right;\n    }\n</style>\n<table border=\"1\" class=\"dataframe\">\n  <thead>\n    <tr style=\"text-align: right;\">\n      <th></th>\n      <th>SDG</th>\n      <th>DT</th>\n      <th>SDG-DT</th>\n      <th>ranking</th>\n      <th>gdppc</th>\n      <th>pop2022</th>\n      <th>gdp</th>\n    </tr>\n    <tr>\n      <th>Country</th>\n      <th></th>\n      <th></th>\n      <th></th>\n      <th></th>\n      <th></th>\n      <th></th>\n      <th></th>\n    </tr>\n  </thead>\n  <tbody>\n    <tr>\n      <th>Afghanistan</th>\n      <td>4.494884</td>\n      <td>78.130248</td>\n      <td>0.250000</td>\n      <td>174</td>\n      <td>2390</td>\n      <td>41128.771</td>\n      <td>9.829776e+07</td>\n    </tr>\n    <tr>\n      <th>Albania</th>\n      <td>33.306126</td>\n      <td>249.054814</td>\n      <td>2.220635</td>\n      <td>90</td>\n      <td>14218</td>\n      <td>2842.321</td>\n      <td>4.041212e+07</td>\n    </tr>\n    <tr>\n      <th>Algeria</th>\n      <td>2165.284091</td>\n      <td>1425.219143</td>\n      <td>94.420238</td>\n      <td>109</td>\n      <td>11112</td>\n      <td>44903.225</td>\n      <td>4.989646e+08</td>\n    </tr>\n    <tr>\n      <th>Angola</th>\n      <td>3.292100</td>\n      <td>35.749375</td>\n      <td>0.000000</td>\n      <td>127</td>\n      <td>6932</td>\n      <td>35588.987</td>\n      <td>2.467029e+08</td>\n    </tr>\n    <tr>\n      <th>Antigua and Barbuda</th>\n      <td>0.000000</td>\n      <td>5.189912</td>\n      <td>0.000000</td>\n      <td>73</td>\n      <td>18618</td>\n      <td>93.763</td>\n      <td>1.745680e+06</td>\n    </tr>\n    <tr>\n      <th>...</th>\n      <td>...</td>\n      <td>...</td>\n      <td>...</td>\n      <td>...</td>\n      <td>...</td>\n      <td>...</td>\n      <td>...</td>\n    </tr>\n    <tr>\n      <th>Venezuela</th>\n      <td>97.623511</td>\n      <td>311.525328</td>\n      <td>5.410439</td>\n      <td>143</td>\n      <td>5178</td>\n      <td>28301.696</td>\n      <td>1.465462e+08</td>\n    </tr>\n    <tr>\n      <th>Vietnam</th>\n      <td>2290.628672</td>\n      <td>2762.141449</td>\n      <td>134.434118</td>\n      <td>112</td>\n      <td>10869</td>\n      <td>98186.856</td>\n      <td>1.067193e+09</td>\n    </tr>\n    <tr>\n      <th>Yemen</th>\n      <td>79.469297</td>\n      <td>96.778564</td>\n      <td>3.523810</td>\n      <td>181</td>\n      <td>1927</td>\n      <td>33696.614</td>\n      <td>6.493338e+07</td>\n    </tr>\n    <tr>\n      <th>Zambia</th>\n      <td>28.898967</td>\n      <td>321.160727</td>\n      <td>3.622222</td>\n      <td>162</td>\n      <td>3342</td>\n      <td>20017.675</td>\n      <td>6.689907e+07</td>\n    </tr>\n    <tr>\n      <th>Zimbabwe</th>\n      <td>31.525733</td>\n      <td>639.379571</td>\n      <td>7.286111</td>\n      <td>168</td>\n      <td>2622</td>\n      <td>16320.537</td>\n      <td>4.279245e+07</td>\n    </tr>\n  </tbody>\n</table>\n<p>180 rows × 7 columns</p>\n</div>"
     },
     "execution_count": 40,
     "metadata": {},
     "output_type": "execute_result"
    }
   ],
   "source": [
    "df_country = df_country.merge(gdp_pop_world, left_index=True, right_index=True)\n",
    "df_country"
   ],
   "metadata": {
    "collapsed": false
   }
  },
  {
   "cell_type": "code",
   "execution_count": 41,
   "outputs": [
    {
     "data": {
      "text/plain": "                             SDG           DT      SDG-DT  ranking  gdppc  \\\nCountry                                                                     \nAfghanistan             4.494884    78.130248    0.250000      174   2390   \nAlbania                33.306126   249.054814    2.220635       90  14218   \nAlgeria              2165.284091  1425.219143   94.420238      109  11112   \nAngola                  3.292100    35.749375    0.000000      127   6932   \nAntigua and Barbuda     0.000000     5.189912    0.000000       73  18618   \n...                          ...          ...         ...      ...    ...   \nVenezuela              97.623511   311.525328    5.410439      143   5178   \nVietnam              2290.628672  2762.141449  134.434118      112  10869   \nYemen                  79.469297    96.778564    3.523810      181   1927   \nZambia                 28.898967   321.160727    3.622222      162   3342   \nZimbabwe               31.525733   639.379571    7.286111      168   2622   \n\n                       pop2022           gdp   SDG-pop    DT-pop  SDG-DT-pop  \\\nCountry                                                                        \nAfghanistan          41128.771  9.829776e+07  0.000109  0.001900    0.000006   \nAlbania               2842.321  4.041212e+07  0.011718  0.087624    0.000781   \nAlgeria              44903.225  4.989646e+08  0.048221  0.031740    0.002103   \nAngola               35588.987  2.467029e+08  0.000093  0.001005    0.000000   \nAntigua and Barbuda     93.763  1.745680e+06  0.000000  0.055351    0.000000   \n...                        ...           ...       ...       ...         ...   \nVenezuela            28301.696  1.465462e+08  0.003449  0.011007    0.000191   \nVietnam              98186.856  1.067193e+09  0.023329  0.028131    0.001369   \nYemen                33696.614  6.493338e+07  0.002358  0.002872    0.000105   \nZambia               20017.675  6.689907e+07  0.001444  0.016044    0.000181   \nZimbabwe             16320.537  4.279245e+07  0.001932  0.039176    0.000446   \n\n                      SDG-gdp     DT-gdp  SDG-DT-gdp  \nCountry                                               \nAfghanistan          0.045727   0.794832    0.002543  \nAlbania              0.824162   6.162874    0.054950  \nAlgeria              4.339554   2.856353    0.189232  \nAngola               0.013344   0.144909    0.000000  \nAntigua and Barbuda  0.000000   2.973004    0.000000  \n...                       ...        ...         ...  \nVenezuela            0.666162   2.125783    0.036920  \nVietnam              2.146405   2.588231    0.125970  \nYemen                1.223859   1.490429    0.054268  \nZambia               0.431979   4.800676    0.054145  \nZimbabwe             0.736713  14.941411    0.170266  \n\n[180 rows x 13 columns]",
      "text/html": "<div>\n<style scoped>\n    .dataframe tbody tr th:only-of-type {\n        vertical-align: middle;\n    }\n\n    .dataframe tbody tr th {\n        vertical-align: top;\n    }\n\n    .dataframe thead th {\n        text-align: right;\n    }\n</style>\n<table border=\"1\" class=\"dataframe\">\n  <thead>\n    <tr style=\"text-align: right;\">\n      <th></th>\n      <th>SDG</th>\n      <th>DT</th>\n      <th>SDG-DT</th>\n      <th>ranking</th>\n      <th>gdppc</th>\n      <th>pop2022</th>\n      <th>gdp</th>\n      <th>SDG-pop</th>\n      <th>DT-pop</th>\n      <th>SDG-DT-pop</th>\n      <th>SDG-gdp</th>\n      <th>DT-gdp</th>\n      <th>SDG-DT-gdp</th>\n    </tr>\n    <tr>\n      <th>Country</th>\n      <th></th>\n      <th></th>\n      <th></th>\n      <th></th>\n      <th></th>\n      <th></th>\n      <th></th>\n      <th></th>\n      <th></th>\n      <th></th>\n      <th></th>\n      <th></th>\n      <th></th>\n    </tr>\n  </thead>\n  <tbody>\n    <tr>\n      <th>Afghanistan</th>\n      <td>4.494884</td>\n      <td>78.130248</td>\n      <td>0.250000</td>\n      <td>174</td>\n      <td>2390</td>\n      <td>41128.771</td>\n      <td>9.829776e+07</td>\n      <td>0.000109</td>\n      <td>0.001900</td>\n      <td>0.000006</td>\n      <td>0.045727</td>\n      <td>0.794832</td>\n      <td>0.002543</td>\n    </tr>\n    <tr>\n      <th>Albania</th>\n      <td>33.306126</td>\n      <td>249.054814</td>\n      <td>2.220635</td>\n      <td>90</td>\n      <td>14218</td>\n      <td>2842.321</td>\n      <td>4.041212e+07</td>\n      <td>0.011718</td>\n      <td>0.087624</td>\n      <td>0.000781</td>\n      <td>0.824162</td>\n      <td>6.162874</td>\n      <td>0.054950</td>\n    </tr>\n    <tr>\n      <th>Algeria</th>\n      <td>2165.284091</td>\n      <td>1425.219143</td>\n      <td>94.420238</td>\n      <td>109</td>\n      <td>11112</td>\n      <td>44903.225</td>\n      <td>4.989646e+08</td>\n      <td>0.048221</td>\n      <td>0.031740</td>\n      <td>0.002103</td>\n      <td>4.339554</td>\n      <td>2.856353</td>\n      <td>0.189232</td>\n    </tr>\n    <tr>\n      <th>Angola</th>\n      <td>3.292100</td>\n      <td>35.749375</td>\n      <td>0.000000</td>\n      <td>127</td>\n      <td>6932</td>\n      <td>35588.987</td>\n      <td>2.467029e+08</td>\n      <td>0.000093</td>\n      <td>0.001005</td>\n      <td>0.000000</td>\n      <td>0.013344</td>\n      <td>0.144909</td>\n      <td>0.000000</td>\n    </tr>\n    <tr>\n      <th>Antigua and Barbuda</th>\n      <td>0.000000</td>\n      <td>5.189912</td>\n      <td>0.000000</td>\n      <td>73</td>\n      <td>18618</td>\n      <td>93.763</td>\n      <td>1.745680e+06</td>\n      <td>0.000000</td>\n      <td>0.055351</td>\n      <td>0.000000</td>\n      <td>0.000000</td>\n      <td>2.973004</td>\n      <td>0.000000</td>\n    </tr>\n    <tr>\n      <th>...</th>\n      <td>...</td>\n      <td>...</td>\n      <td>...</td>\n      <td>...</td>\n      <td>...</td>\n      <td>...</td>\n      <td>...</td>\n      <td>...</td>\n      <td>...</td>\n      <td>...</td>\n      <td>...</td>\n      <td>...</td>\n      <td>...</td>\n    </tr>\n    <tr>\n      <th>Venezuela</th>\n      <td>97.623511</td>\n      <td>311.525328</td>\n      <td>5.410439</td>\n      <td>143</td>\n      <td>5178</td>\n      <td>28301.696</td>\n      <td>1.465462e+08</td>\n      <td>0.003449</td>\n      <td>0.011007</td>\n      <td>0.000191</td>\n      <td>0.666162</td>\n      <td>2.125783</td>\n      <td>0.036920</td>\n    </tr>\n    <tr>\n      <th>Vietnam</th>\n      <td>2290.628672</td>\n      <td>2762.141449</td>\n      <td>134.434118</td>\n      <td>112</td>\n      <td>10869</td>\n      <td>98186.856</td>\n      <td>1.067193e+09</td>\n      <td>0.023329</td>\n      <td>0.028131</td>\n      <td>0.001369</td>\n      <td>2.146405</td>\n      <td>2.588231</td>\n      <td>0.125970</td>\n    </tr>\n    <tr>\n      <th>Yemen</th>\n      <td>79.469297</td>\n      <td>96.778564</td>\n      <td>3.523810</td>\n      <td>181</td>\n      <td>1927</td>\n      <td>33696.614</td>\n      <td>6.493338e+07</td>\n      <td>0.002358</td>\n      <td>0.002872</td>\n      <td>0.000105</td>\n      <td>1.223859</td>\n      <td>1.490429</td>\n      <td>0.054268</td>\n    </tr>\n    <tr>\n      <th>Zambia</th>\n      <td>28.898967</td>\n      <td>321.160727</td>\n      <td>3.622222</td>\n      <td>162</td>\n      <td>3342</td>\n      <td>20017.675</td>\n      <td>6.689907e+07</td>\n      <td>0.001444</td>\n      <td>0.016044</td>\n      <td>0.000181</td>\n      <td>0.431979</td>\n      <td>4.800676</td>\n      <td>0.054145</td>\n    </tr>\n    <tr>\n      <th>Zimbabwe</th>\n      <td>31.525733</td>\n      <td>639.379571</td>\n      <td>7.286111</td>\n      <td>168</td>\n      <td>2622</td>\n      <td>16320.537</td>\n      <td>4.279245e+07</td>\n      <td>0.001932</td>\n      <td>0.039176</td>\n      <td>0.000446</td>\n      <td>0.736713</td>\n      <td>14.941411</td>\n      <td>0.170266</td>\n    </tr>\n  </tbody>\n</table>\n<p>180 rows × 13 columns</p>\n</div>"
     },
     "execution_count": 41,
     "metadata": {},
     "output_type": "execute_result"
    }
   ],
   "source": [
    "df_country.loc[:, 'SDG-pop'] = df_country.loc[:, 'SDG'] /  df_country.loc[:, 'pop2022']\n",
    "df_country.loc[:, 'DT-pop'] = df_country.loc[:, 'DT'] /  df_country.loc[:, 'pop2022']\n",
    "df_country.loc[:, 'SDG-DT-pop'] = df_country.loc[:, 'SDG-DT'] /  df_country.loc[:, 'pop2022']\n",
    "\n",
    "df_country.loc[:, 'SDG-gdp'] = df_country.loc[:, 'SDG']*1000000 /  df_country.loc[:, 'gdp']\n",
    "df_country.loc[:, 'DT-gdp'] = df_country.loc[:, 'DT']*1000000 /  df_country.loc[:, 'gdp']\n",
    "df_country.loc[:, 'SDG-DT-gdp'] = df_country.loc[:, 'SDG-DT']*1000000 /  df_country.loc[:, 'gdp']\n",
    "\n",
    "df_country"
   ],
   "metadata": {
    "collapsed": false
   }
  },
  {
   "cell_type": "code",
   "execution_count": 214,
   "outputs": [],
   "source": [],
   "metadata": {
    "collapsed": false
   }
  },
  {
   "cell_type": "code",
   "execution_count": 63,
   "outputs": [
    {
     "ename": "ValueError",
     "evalue": "Invalid property specified for object of type plotly.graph_objs.Layout: 'showborder'\n\nDid you mean \"boxmode\"?\n\n    Valid properties:\n        activeselection\n            :class:`plotly.graph_objects.layout.Activeselection`\n            instance or dict with compatible properties\n        activeshape\n            :class:`plotly.graph_objects.layout.Activeshape`\n            instance or dict with compatible properties\n        annotations\n            A tuple of\n            :class:`plotly.graph_objects.layout.Annotation`\n            instances or dicts with compatible properties\n        annotationdefaults\n            When used in a template (as\n            layout.template.layout.annotationdefaults), sets the\n            default property values to use for elements of\n            layout.annotations\n        autosize\n            Determines whether or not a layout width or height that\n            has been left undefined by the user is initialized on\n            each relayout. Note that, regardless of this attribute,\n            an undefined layout width or height is always\n            initialized on the first call to plot.\n        autotypenumbers\n            Using \"strict\" a numeric string in trace data is not\n            converted to a number. Using *convert types* a numeric\n            string in trace data may be treated as a number during\n            automatic axis `type` detection. This is the default\n            value; however it could be overridden for individual\n            axes.\n        bargap\n            Sets the gap (in plot fraction) between bars of\n            adjacent location coordinates.\n        bargroupgap\n            Sets the gap (in plot fraction) between bars of the\n            same location coordinate.\n        barmode\n            Determines how bars at the same location coordinate are\n            displayed on the graph. With \"stack\", the bars are\n            stacked on top of one another With \"relative\", the bars\n            are stacked on top of one another, with negative values\n            below the axis, positive values above With \"group\", the\n            bars are plotted next to one another centered around\n            the shared location. With \"overlay\", the bars are\n            plotted over one another, you might need to reduce\n            \"opacity\" to see multiple bars.\n        barnorm\n            Sets the normalization for bar traces on the graph.\n            With \"fraction\", the value of each bar is divided by\n            the sum of all values at that location coordinate.\n            \"percent\" is the same but multiplied by 100 to show\n            percentages.\n        boxgap\n            Sets the gap (in plot fraction) between boxes of\n            adjacent location coordinates. Has no effect on traces\n            that have \"width\" set.\n        boxgroupgap\n            Sets the gap (in plot fraction) between boxes of the\n            same location coordinate. Has no effect on traces that\n            have \"width\" set.\n        boxmode\n            Determines how boxes at the same location coordinate\n            are displayed on the graph. If \"group\", the boxes are\n            plotted next to one another centered around the shared\n            location. If \"overlay\", the boxes are plotted over one\n            another, you might need to set \"opacity\" to see them\n            multiple boxes. Has no effect on traces that have\n            \"width\" set.\n        calendar\n            Sets the default calendar system to use for\n            interpreting and displaying dates throughout the plot.\n        clickmode\n            Determines the mode of single click interactions.\n            \"event\" is the default value and emits the\n            `plotly_click` event. In addition this mode emits the\n            `plotly_selected` event in drag modes \"lasso\" and\n            \"select\", but with no event data attached (kept for\n            compatibility reasons). The \"select\" flag enables\n            selecting single data points via click. This mode also\n            supports persistent selections, meaning that pressing\n            Shift while clicking, adds to / subtracts from an\n            existing selection. \"select\" with `hovermode`: \"x\" can\n            be confusing, consider explicitly setting `hovermode`:\n            \"closest\" when using this feature. Selection events are\n            sent accordingly as long as \"event\" flag is set as\n            well. When the \"event\" flag is missing, `plotly_click`\n            and `plotly_selected` events are not fired.\n        coloraxis\n            :class:`plotly.graph_objects.layout.Coloraxis` instance\n            or dict with compatible properties\n        colorscale\n            :class:`plotly.graph_objects.layout.Colorscale`\n            instance or dict with compatible properties\n        colorway\n            Sets the default trace colors.\n        computed\n            Placeholder for exporting automargin-impacting values\n            namely `margin.t`, `margin.b`, `margin.l` and\n            `margin.r` in \"full-json\" mode.\n        datarevision\n            If provided, a changed value tells `Plotly.react` that\n            one or more data arrays has changed. This way you can\n            modify arrays in-place rather than making a complete\n            new copy for an incremental change. If NOT provided,\n            `Plotly.react` assumes that data arrays are being\n            treated as immutable, thus any data array with a\n            different identity from its predecessor contains new\n            data.\n        dragmode\n            Determines the mode of drag interactions. \"select\" and\n            \"lasso\" apply only to scatter traces with markers or\n            text. \"orbit\" and \"turntable\" apply only to 3D scenes.\n        editrevision\n            Controls persistence of user-driven changes in\n            `editable: true` configuration, other than trace names\n            and axis titles. Defaults to `layout.uirevision`.\n        extendfunnelareacolors\n            If `true`, the funnelarea slice colors (whether given\n            by `funnelareacolorway` or inherited from `colorway`)\n            will be extended to three times its original length by\n            first repeating every color 20% lighter then each color\n            20% darker. This is intended to reduce the likelihood\n            of reusing the same color when you have many slices,\n            but you can set `false` to disable. Colors provided in\n            the trace, using `marker.colors`, are never extended.\n        extendiciclecolors\n            If `true`, the icicle slice colors (whether given by\n            `iciclecolorway` or inherited from `colorway`) will be\n            extended to three times its original length by first\n            repeating every color 20% lighter then each color 20%\n            darker. This is intended to reduce the likelihood of\n            reusing the same color when you have many slices, but\n            you can set `false` to disable. Colors provided in the\n            trace, using `marker.colors`, are never extended.\n        extendpiecolors\n            If `true`, the pie slice colors (whether given by\n            `piecolorway` or inherited from `colorway`) will be\n            extended to three times its original length by first\n            repeating every color 20% lighter then each color 20%\n            darker. This is intended to reduce the likelihood of\n            reusing the same color when you have many slices, but\n            you can set `false` to disable. Colors provided in the\n            trace, using `marker.colors`, are never extended.\n        extendsunburstcolors\n            If `true`, the sunburst slice colors (whether given by\n            `sunburstcolorway` or inherited from `colorway`) will\n            be extended to three times its original length by first\n            repeating every color 20% lighter then each color 20%\n            darker. This is intended to reduce the likelihood of\n            reusing the same color when you have many slices, but\n            you can set `false` to disable. Colors provided in the\n            trace, using `marker.colors`, are never extended.\n        extendtreemapcolors\n            If `true`, the treemap slice colors (whether given by\n            `treemapcolorway` or inherited from `colorway`) will be\n            extended to three times its original length by first\n            repeating every color 20% lighter then each color 20%\n            darker. This is intended to reduce the likelihood of\n            reusing the same color when you have many slices, but\n            you can set `false` to disable. Colors provided in the\n            trace, using `marker.colors`, are never extended.\n        font\n            Sets the global font. Note that fonts used in traces\n            and other layout components inherit from the global\n            font.\n        funnelareacolorway\n            Sets the default funnelarea slice colors. Defaults to\n            the main `colorway` used for trace colors. If you\n            specify a new list here it can still be extended with\n            lighter and darker colors, see\n            `extendfunnelareacolors`.\n        funnelgap\n            Sets the gap (in plot fraction) between bars of\n            adjacent location coordinates.\n        funnelgroupgap\n            Sets the gap (in plot fraction) between bars of the\n            same location coordinate.\n        funnelmode\n            Determines how bars at the same location coordinate are\n            displayed on the graph. With \"stack\", the bars are\n            stacked on top of one another With \"group\", the bars\n            are plotted next to one another centered around the\n            shared location. With \"overlay\", the bars are plotted\n            over one another, you might need to reduce \"opacity\" to\n            see multiple bars.\n        geo\n            :class:`plotly.graph_objects.layout.Geo` instance or\n            dict with compatible properties\n        grid\n            :class:`plotly.graph_objects.layout.Grid` instance or\n            dict with compatible properties\n        height\n            Sets the plot's height (in px).\n        hiddenlabels\n            hiddenlabels is the funnelarea & pie chart analog of\n            visible:'legendonly' but it can contain many labels,\n            and can simultaneously hide slices from several\n            pies/funnelarea charts\n        hiddenlabelssrc\n            Sets the source reference on Chart Studio Cloud for\n            `hiddenlabels`.\n        hidesources\n            Determines whether or not a text link citing the data\n            source is placed at the bottom-right cored of the\n            figure. Has only an effect only on graphs that have\n            been generated via forked graphs from the Chart Studio\n            Cloud (at https://chart-studio.plotly.com or on-\n            premise).\n        hoverdistance\n            Sets the default distance (in pixels) to look for data\n            to add hover labels (-1 means no cutoff, 0 means no\n            looking for data). This is only a real distance for\n            hovering on point-like objects, like scatter points.\n            For area-like objects (bars, scatter fills, etc)\n            hovering is on inside the area and off outside, but\n            these objects will not supersede hover on point-like\n            objects in case of conflict.\n        hoverlabel\n            :class:`plotly.graph_objects.layout.Hoverlabel`\n            instance or dict with compatible properties\n        hovermode\n            Determines the mode of hover interactions. If\n            \"closest\", a single hoverlabel will appear for the\n            \"closest\" point within the `hoverdistance`. If \"x\" (or\n            \"y\"), multiple hoverlabels will appear for multiple\n            points at the \"closest\" x- (or y-) coordinate within\n            the `hoverdistance`, with the caveat that no more than\n            one hoverlabel will appear per trace. If *x unified*\n            (or *y unified*), a single hoverlabel will appear\n            multiple points at the closest x- (or y-) coordinate\n            within the `hoverdistance` with the caveat that no more\n            than one hoverlabel will appear per trace. In this\n            mode, spikelines are enabled by default perpendicular\n            to the specified axis. If false, hover interactions are\n            disabled.\n        iciclecolorway\n            Sets the default icicle slice colors. Defaults to the\n            main `colorway` used for trace colors. If you specify a\n            new list here it can still be extended with lighter and\n            darker colors, see `extendiciclecolors`.\n        images\n            A tuple of :class:`plotly.graph_objects.layout.Image`\n            instances or dicts with compatible properties\n        imagedefaults\n            When used in a template (as\n            layout.template.layout.imagedefaults), sets the default\n            property values to use for elements of layout.images\n        legend\n            :class:`plotly.graph_objects.layout.Legend` instance or\n            dict with compatible properties\n        mapbox\n            :class:`plotly.graph_objects.layout.Mapbox` instance or\n            dict with compatible properties\n        margin\n            :class:`plotly.graph_objects.layout.Margin` instance or\n            dict with compatible properties\n        meta\n            Assigns extra meta information that can be used in\n            various `text` attributes. Attributes such as the\n            graph, axis and colorbar `title.text`, annotation\n            `text` `trace.name` in legend items, `rangeselector`,\n            `updatemenus` and `sliders` `label` text all support\n            `meta`. One can access `meta` fields using template\n            strings: `%{meta[i]}` where `i` is the index of the\n            `meta` item in question. `meta` can also be an object\n            for example `{key: value}` which can be accessed\n            %{meta[key]}.\n        metasrc\n            Sets the source reference on Chart Studio Cloud for\n            `meta`.\n        minreducedheight\n            Minimum height of the plot with margin.automargin\n            applied (in px)\n        minreducedwidth\n            Minimum width of the plot with margin.automargin\n            applied (in px)\n        modebar\n            :class:`plotly.graph_objects.layout.Modebar` instance\n            or dict with compatible properties\n        newselection\n            :class:`plotly.graph_objects.layout.Newselection`\n            instance or dict with compatible properties\n        newshape\n            :class:`plotly.graph_objects.layout.Newshape` instance\n            or dict with compatible properties\n        paper_bgcolor\n            Sets the background color of the paper where the graph\n            is drawn.\n        piecolorway\n            Sets the default pie slice colors. Defaults to the main\n            `colorway` used for trace colors. If you specify a new\n            list here it can still be extended with lighter and\n            darker colors, see `extendpiecolors`.\n        plot_bgcolor\n            Sets the background color of the plotting area in-\n            between x and y axes.\n        polar\n            :class:`plotly.graph_objects.layout.Polar` instance or\n            dict with compatible properties\n        scene\n            :class:`plotly.graph_objects.layout.Scene` instance or\n            dict with compatible properties\n        selectdirection\n            When `dragmode` is set to \"select\", this limits the\n            selection of the drag to horizontal, vertical or\n            diagonal. \"h\" only allows horizontal selection, \"v\"\n            only vertical, \"d\" only diagonal and \"any\" sets no\n            limit.\n        selectionrevision\n            Controls persistence of user-driven changes in selected\n            points from all traces.\n        selections\n            A tuple of\n            :class:`plotly.graph_objects.layout.Selection`\n            instances or dicts with compatible properties\n        selectiondefaults\n            When used in a template (as\n            layout.template.layout.selectiondefaults), sets the\n            default property values to use for elements of\n            layout.selections\n        separators\n            Sets the decimal and thousand separators. For example,\n            *. * puts a '.' before decimals and a space between\n            thousands. In English locales, dflt is \".,\" but other\n            locales may alter this default.\n        shapes\n            A tuple of :class:`plotly.graph_objects.layout.Shape`\n            instances or dicts with compatible properties\n        shapedefaults\n            When used in a template (as\n            layout.template.layout.shapedefaults), sets the default\n            property values to use for elements of layout.shapes\n        showlegend\n            Determines whether or not a legend is drawn. Default is\n            `true` if there is a trace to show and any of these: a)\n            Two or more traces would by default be shown in the\n            legend. b) One pie trace is shown in the legend. c) One\n            trace is explicitly given with `showlegend: true`.\n        sliders\n            A tuple of :class:`plotly.graph_objects.layout.Slider`\n            instances or dicts with compatible properties\n        sliderdefaults\n            When used in a template (as\n            layout.template.layout.sliderdefaults), sets the\n            default property values to use for elements of\n            layout.sliders\n        smith\n            :class:`plotly.graph_objects.layout.Smith` instance or\n            dict with compatible properties\n        spikedistance\n            Sets the default distance (in pixels) to look for data\n            to draw spikelines to (-1 means no cutoff, 0 means no\n            looking for data). As with hoverdistance, distance does\n            not apply to area-like objects. In addition, some\n            objects can be hovered on but will not generate\n            spikelines, such as scatter fills.\n        sunburstcolorway\n            Sets the default sunburst slice colors. Defaults to the\n            main `colorway` used for trace colors. If you specify a\n            new list here it can still be extended with lighter and\n            darker colors, see `extendsunburstcolors`.\n        template\n            Default attributes to be applied to the plot. This\n            should be a dict with format: `{'layout':\n            layoutTemplate, 'data': {trace_type: [traceTemplate,\n            ...], ...}}` where `layoutTemplate` is a dict matching\n            the structure of `figure.layout` and `traceTemplate` is\n            a dict matching the structure of the trace with type\n            `trace_type` (e.g. 'scatter'). Alternatively, this may\n            be specified as an instance of\n            plotly.graph_objs.layout.Template.  Trace templates are\n            applied cyclically to traces of each type. Container\n            arrays (eg `annotations`) have special handling: An\n            object ending in `defaults` (eg `annotationdefaults`)\n            is applied to each array item. But if an item has a\n            `templateitemname` key we look in the template array\n            for an item with matching `name` and apply that\n            instead. If no matching `name` is found we mark the\n            item invisible. Any named template item not referenced\n            is appended to the end of the array, so this can be\n            used to add a watermark annotation or a logo image, for\n            example. To omit one of these items on the plot, make\n            an item with matching `templateitemname` and `visible:\n            false`.\n        ternary\n            :class:`plotly.graph_objects.layout.Ternary` instance\n            or dict with compatible properties\n        title\n            :class:`plotly.graph_objects.layout.Title` instance or\n            dict with compatible properties\n        titlefont\n            Deprecated: Please use layout.title.font instead. Sets\n            the title font. Note that the title's font used to be\n            customized by the now deprecated `titlefont` attribute.\n        transition\n            Sets transition options used during Plotly.react\n            updates.\n        treemapcolorway\n            Sets the default treemap slice colors. Defaults to the\n            main `colorway` used for trace colors. If you specify a\n            new list here it can still be extended with lighter and\n            darker colors, see `extendtreemapcolors`.\n        uirevision\n            Used to allow user interactions with the plot to\n            persist after `Plotly.react` calls that are unaware of\n            these interactions. If `uirevision` is omitted, or if\n            it is given and it changed from the previous\n            `Plotly.react` call, the exact new figure is used. If\n            `uirevision` is truthy and did NOT change, any\n            attribute that has been affected by user interactions\n            and did not receive a different value in the new figure\n            will keep the interaction value. `layout.uirevision`\n            attribute serves as the default for `uirevision`\n            attributes in various sub-containers. For finer control\n            you can set these sub-attributes directly. For example,\n            if your app separately controls the data on the x and y\n            axes you might set `xaxis.uirevision=*time*` and\n            `yaxis.uirevision=*cost*`. Then if only the y data is\n            changed, you can update `yaxis.uirevision=*quantity*`\n            and the y axis range will reset but the x axis range\n            will retain any user-driven zoom.\n        uniformtext\n            :class:`plotly.graph_objects.layout.Uniformtext`\n            instance or dict with compatible properties\n        updatemenus\n            A tuple of\n            :class:`plotly.graph_objects.layout.Updatemenu`\n            instances or dicts with compatible properties\n        updatemenudefaults\n            When used in a template (as\n            layout.template.layout.updatemenudefaults), sets the\n            default property values to use for elements of\n            layout.updatemenus\n        violingap\n            Sets the gap (in plot fraction) between violins of\n            adjacent location coordinates. Has no effect on traces\n            that have \"width\" set.\n        violingroupgap\n            Sets the gap (in plot fraction) between violins of the\n            same location coordinate. Has no effect on traces that\n            have \"width\" set.\n        violinmode\n            Determines how violins at the same location coordinate\n            are displayed on the graph. If \"group\", the violins are\n            plotted next to one another centered around the shared\n            location. If \"overlay\", the violins are plotted over\n            one another, you might need to set \"opacity\" to see\n            them multiple violins. Has no effect on traces that\n            have \"width\" set.\n        waterfallgap\n            Sets the gap (in plot fraction) between bars of\n            adjacent location coordinates.\n        waterfallgroupgap\n            Sets the gap (in plot fraction) between bars of the\n            same location coordinate.\n        waterfallmode\n            Determines how bars at the same location coordinate are\n            displayed on the graph. With \"group\", the bars are\n            plotted next to one another centered around the shared\n            location. With \"overlay\", the bars are plotted over one\n            another, you might need to reduce \"opacity\" to see\n            multiple bars.\n        width\n            Sets the plot's width (in px).\n        xaxis\n            :class:`plotly.graph_objects.layout.XAxis` instance or\n            dict with compatible properties\n        yaxis\n            :class:`plotly.graph_objects.layout.YAxis` instance or\n            dict with compatible properties\n        \nDid you mean \"boxmode\"?\n\nBad property path:\nshowborder\n^^^^^^^^^^",
     "output_type": "error",
     "traceback": [
      "\u001B[0;31m---------------------------------------------------------------------------\u001B[0m",
      "\u001B[0;31mValueError\u001B[0m                                Traceback (most recent call last)",
      "Cell \u001B[0;32mIn [63], line 61\u001B[0m\n\u001B[1;32m     14\u001B[0m layout \u001B[38;5;241m=\u001B[39m go\u001B[38;5;241m.\u001B[39mLayout(\n\u001B[1;32m     15\u001B[0m     annotations\u001B[38;5;241m=\u001B[39m[\n\u001B[1;32m     16\u001B[0m         \u001B[38;5;28mdict\u001B[39m(\n\u001B[0;32m   (...)\u001B[0m\n\u001B[1;32m     42\u001B[0m         ],\n\u001B[1;32m     43\u001B[0m     )\n\u001B[1;32m     44\u001B[0m fig \u001B[38;5;241m=\u001B[39m go\u001B[38;5;241m.\u001B[39mFigure(\n\u001B[1;32m     45\u001B[0m         data\u001B[38;5;241m=\u001B[39mgo\u001B[38;5;241m.\u001B[39mChoropleth(\n\u001B[1;32m     46\u001B[0m             locations\u001B[38;5;241m=\u001B[39mdf_country\u001B[38;5;241m.\u001B[39mindex,\n\u001B[0;32m   (...)\u001B[0m\n\u001B[1;32m     58\u001B[0m         layout\u001B[38;5;241m=\u001B[39mlayout,\n\u001B[1;32m     59\u001B[0m     )\n\u001B[0;32m---> 61\u001B[0m \u001B[43mfig\u001B[49m\u001B[38;5;241;43m.\u001B[39;49m\u001B[43mupdate_layout\u001B[49m\u001B[43m(\u001B[49m\n\u001B[1;32m     62\u001B[0m \u001B[43m    \u001B[49m\u001B[43mtemplate\u001B[49m\u001B[38;5;241;43m=\u001B[39;49m\u001B[38;5;124;43m'\u001B[39;49m\u001B[38;5;124;43msimple_white\u001B[39;49m\u001B[38;5;124;43m'\u001B[39;49m\u001B[43m,\u001B[49m\n\u001B[1;32m     63\u001B[0m \u001B[43m    \u001B[49m\u001B[43mfont\u001B[49m\u001B[38;5;241;43m=\u001B[39;49m\u001B[38;5;28;43mdict\u001B[39;49m\u001B[43m(\u001B[49m\u001B[43msize\u001B[49m\u001B[38;5;241;43m=\u001B[39;49m\u001B[38;5;241;43m25\u001B[39;49m\u001B[43m)\u001B[49m\u001B[43m,\u001B[49m\n\u001B[1;32m     64\u001B[0m \u001B[43m    \u001B[49m\u001B[43mshowlegend\u001B[49m\u001B[38;5;241;43m=\u001B[39;49m\u001B[38;5;28;43;01mTrue\u001B[39;49;00m\u001B[43m,\u001B[49m\n\u001B[1;32m     65\u001B[0m \u001B[43m    \u001B[49m\u001B[43mshowborder\u001B[49m\u001B[38;5;241;43m=\u001B[39;49m\u001B[38;5;28;43;01mFalse\u001B[39;49;00m\u001B[43m,\u001B[49m\n\u001B[1;32m     66\u001B[0m \u001B[43m    \u001B[49m\u001B[43mgeo\u001B[49m\u001B[38;5;241;43m=\u001B[39;49m\u001B[43mgo\u001B[49m\u001B[38;5;241;43m.\u001B[39;49m\u001B[43mlayout\u001B[49m\u001B[38;5;241;43m.\u001B[39;49m\u001B[43mGeo\u001B[49m\u001B[43m(\u001B[49m\n\u001B[1;32m     67\u001B[0m \u001B[43m        \u001B[49m\u001B[43mscope\u001B[49m\u001B[38;5;241;43m=\u001B[39;49m\u001B[38;5;124;43m\"\u001B[39;49m\u001B[38;5;124;43mworld\u001B[39;49m\u001B[38;5;124;43m\"\u001B[39;49m\u001B[43m,\u001B[49m\n\u001B[1;32m     68\u001B[0m \u001B[43m        \u001B[49m\u001B[43mlandcolor\u001B[49m\u001B[38;5;241;43m=\u001B[39;49m\u001B[38;5;124;43m'\u001B[39;49m\u001B[38;5;124;43mlightgray\u001B[39;49m\u001B[38;5;124;43m'\u001B[39;49m\u001B[43m,\u001B[49m\n\u001B[1;32m     69\u001B[0m \u001B[43m        \u001B[49m\u001B[43mprojection_scale\u001B[49m\u001B[38;5;241;43m=\u001B[39;49m\u001B[38;5;241;43m1\u001B[39;49m\u001B[43m,\u001B[49m\n\u001B[1;32m     70\u001B[0m \u001B[43m        \u001B[49m\u001B[43mcenter\u001B[49m\u001B[38;5;241;43m=\u001B[39;49m\u001B[38;5;28;43mdict\u001B[39;49m\u001B[43m(\u001B[49m\u001B[43mlon\u001B[49m\u001B[38;5;241;43m=\u001B[39;49m\u001B[38;5;241;43m20\u001B[39;49m\u001B[43m,\u001B[49m\u001B[43m \u001B[49m\u001B[43mlat\u001B[49m\u001B[38;5;241;43m=\u001B[39;49m\u001B[38;5;241;43m30\u001B[39;49m\u001B[43m)\u001B[49m\u001B[43m,\u001B[49m\n\u001B[1;32m     71\u001B[0m \u001B[43m        \u001B[49m\u001B[43mprojection_type\u001B[49m\u001B[38;5;241;43m=\u001B[39;49m\u001B[38;5;124;43m\"\u001B[39;49m\u001B[38;5;124;43mkavrayskiy7\u001B[39;49m\u001B[38;5;124;43m\"\u001B[39;49m\u001B[43m,\u001B[49m\n\u001B[1;32m     72\u001B[0m \n\u001B[1;32m     73\u001B[0m \u001B[43m        \u001B[49m\u001B[43mshowland\u001B[49m\u001B[38;5;241;43m=\u001B[39;49m\u001B[38;5;28;43;01mTrue\u001B[39;49;00m\u001B[43m,\u001B[49m\n\u001B[1;32m     74\u001B[0m \u001B[43m        \u001B[49m\u001B[43mshowcountries\u001B[49m\u001B[38;5;241;43m=\u001B[39;49m\u001B[38;5;28;43;01mFalse\u001B[39;49;00m\u001B[43m,\u001B[49m\n\u001B[1;32m     75\u001B[0m \u001B[43m        \u001B[49m\u001B[43mshowframe\u001B[49m\u001B[38;5;241;43m=\u001B[39;49m\u001B[38;5;28;43;01mFalse\u001B[39;49;00m\n\u001B[1;32m     76\u001B[0m \u001B[43m    \u001B[49m\u001B[43m)\u001B[49m\u001B[43m,\u001B[49m\n\u001B[1;32m     77\u001B[0m \u001B[43m    \u001B[49m\u001B[43mheight\u001B[49m\u001B[38;5;241;43m=\u001B[39;49m\u001B[38;5;241;43m900\u001B[39;49m\u001B[43m,\u001B[49m\n\u001B[1;32m     78\u001B[0m \u001B[43m    \u001B[49m\u001B[43mwidth\u001B[49m\u001B[38;5;241;43m=\u001B[39;49m\u001B[38;5;241;43m1400\u001B[39;49m\n\u001B[1;32m     79\u001B[0m \u001B[43m\u001B[49m\u001B[43m)\u001B[49m\n\u001B[1;32m     81\u001B[0m fig\u001B[38;5;241m.\u001B[39mwrite_image(\u001B[38;5;124mf\u001B[39m\u001B[38;5;124m\"\u001B[39m\u001B[38;5;124m../img/Commission/maps/World/\u001B[39m\u001B[38;5;132;01m{\u001B[39;00mcat\u001B[38;5;132;01m}\u001B[39;00m\u001B[38;5;124m.jpg\u001B[39m\u001B[38;5;124m\"\u001B[39m)\n\u001B[1;32m     82\u001B[0m \u001B[38;5;66;03m# pio.write_image(fig, folder, format='png')\u001B[39;00m\n",
      "File \u001B[0;32m~/anaconda3/envs/DS10/lib/python3.10/site-packages/plotly/graph_objs/_figure.py:762\u001B[0m, in \u001B[0;36mFigure.update_layout\u001B[0;34m(self, dict1, overwrite, **kwargs)\u001B[0m\n\u001B[1;32m    736\u001B[0m \u001B[38;5;28;01mdef\u001B[39;00m \u001B[38;5;21mupdate_layout\u001B[39m(\u001B[38;5;28mself\u001B[39m, dict1\u001B[38;5;241m=\u001B[39m\u001B[38;5;28;01mNone\u001B[39;00m, overwrite\u001B[38;5;241m=\u001B[39m\u001B[38;5;28;01mFalse\u001B[39;00m, \u001B[38;5;241m*\u001B[39m\u001B[38;5;241m*\u001B[39mkwargs) \u001B[38;5;241m-\u001B[39m\u001B[38;5;241m>\u001B[39m \u001B[38;5;124m\"\u001B[39m\u001B[38;5;124mFigure\u001B[39m\u001B[38;5;124m\"\u001B[39m:\n\u001B[1;32m    737\u001B[0m     \u001B[38;5;124;03m\"\"\"\u001B[39;00m\n\u001B[1;32m    738\u001B[0m \n\u001B[1;32m    739\u001B[0m \u001B[38;5;124;03m    Update the properties of the figure's layout with a dict and/or with\u001B[39;00m\n\u001B[0;32m   (...)\u001B[0m\n\u001B[1;32m    760\u001B[0m \n\u001B[1;32m    761\u001B[0m \u001B[38;5;124;03m    \"\"\"\u001B[39;00m\n\u001B[0;32m--> 762\u001B[0m     \u001B[38;5;28;01mreturn\u001B[39;00m \u001B[38;5;28;43msuper\u001B[39;49m\u001B[43m(\u001B[49m\u001B[43mFigure\u001B[49m\u001B[43m,\u001B[49m\u001B[43m \u001B[49m\u001B[38;5;28;43mself\u001B[39;49m\u001B[43m)\u001B[49m\u001B[38;5;241;43m.\u001B[39;49m\u001B[43mupdate_layout\u001B[49m\u001B[43m(\u001B[49m\u001B[43mdict1\u001B[49m\u001B[43m,\u001B[49m\u001B[43m \u001B[49m\u001B[43moverwrite\u001B[49m\u001B[43m,\u001B[49m\u001B[43m \u001B[49m\u001B[38;5;241;43m*\u001B[39;49m\u001B[38;5;241;43m*\u001B[39;49m\u001B[43mkwargs\u001B[49m\u001B[43m)\u001B[49m\n",
      "File \u001B[0;32m~/anaconda3/envs/DS10/lib/python3.10/site-packages/plotly/basedatatypes.py:1401\u001B[0m, in \u001B[0;36mBaseFigure.update_layout\u001B[0;34m(self, dict1, overwrite, **kwargs)\u001B[0m\n\u001B[1;32m   1377\u001B[0m \u001B[38;5;28;01mdef\u001B[39;00m \u001B[38;5;21mupdate_layout\u001B[39m(\u001B[38;5;28mself\u001B[39m, dict1\u001B[38;5;241m=\u001B[39m\u001B[38;5;28;01mNone\u001B[39;00m, overwrite\u001B[38;5;241m=\u001B[39m\u001B[38;5;28;01mFalse\u001B[39;00m, \u001B[38;5;241m*\u001B[39m\u001B[38;5;241m*\u001B[39mkwargs):\n\u001B[1;32m   1378\u001B[0m     \u001B[38;5;124;03m\"\"\"\u001B[39;00m\n\u001B[1;32m   1379\u001B[0m \u001B[38;5;124;03m    Update the properties of the figure's layout with a dict and/or with\u001B[39;00m\n\u001B[1;32m   1380\u001B[0m \u001B[38;5;124;03m    keyword arguments.\u001B[39;00m\n\u001B[0;32m   (...)\u001B[0m\n\u001B[1;32m   1399\u001B[0m \u001B[38;5;124;03m        The Figure object that the update_layout method was called on\u001B[39;00m\n\u001B[1;32m   1400\u001B[0m \u001B[38;5;124;03m    \"\"\"\u001B[39;00m\n\u001B[0;32m-> 1401\u001B[0m     \u001B[38;5;28;43mself\u001B[39;49m\u001B[38;5;241;43m.\u001B[39;49m\u001B[43mlayout\u001B[49m\u001B[38;5;241;43m.\u001B[39;49m\u001B[43mupdate\u001B[49m\u001B[43m(\u001B[49m\u001B[43mdict1\u001B[49m\u001B[43m,\u001B[49m\u001B[43m \u001B[49m\u001B[43moverwrite\u001B[49m\u001B[38;5;241;43m=\u001B[39;49m\u001B[43moverwrite\u001B[49m\u001B[43m,\u001B[49m\u001B[43m \u001B[49m\u001B[38;5;241;43m*\u001B[39;49m\u001B[38;5;241;43m*\u001B[39;49m\u001B[43mkwargs\u001B[49m\u001B[43m)\u001B[49m\n\u001B[1;32m   1402\u001B[0m     \u001B[38;5;28;01mreturn\u001B[39;00m \u001B[38;5;28mself\u001B[39m\n",
      "File \u001B[0;32m~/anaconda3/envs/DS10/lib/python3.10/site-packages/plotly/basedatatypes.py:5122\u001B[0m, in \u001B[0;36mBasePlotlyType.update\u001B[0;34m(self, dict1, overwrite, **kwargs)\u001B[0m\n\u001B[1;32m   5120\u001B[0m     \u001B[38;5;28;01mwith\u001B[39;00m \u001B[38;5;28mself\u001B[39m\u001B[38;5;241m.\u001B[39mfigure\u001B[38;5;241m.\u001B[39mbatch_update():\n\u001B[1;32m   5121\u001B[0m         BaseFigure\u001B[38;5;241m.\u001B[39m_perform_update(\u001B[38;5;28mself\u001B[39m, dict1, overwrite\u001B[38;5;241m=\u001B[39moverwrite)\n\u001B[0;32m-> 5122\u001B[0m         \u001B[43mBaseFigure\u001B[49m\u001B[38;5;241;43m.\u001B[39;49m\u001B[43m_perform_update\u001B[49m\u001B[43m(\u001B[49m\u001B[38;5;28;43mself\u001B[39;49m\u001B[43m,\u001B[49m\u001B[43m \u001B[49m\u001B[43mkwargs\u001B[49m\u001B[43m,\u001B[49m\u001B[43m \u001B[49m\u001B[43moverwrite\u001B[49m\u001B[38;5;241;43m=\u001B[39;49m\u001B[43moverwrite\u001B[49m\u001B[43m)\u001B[49m\n\u001B[1;32m   5123\u001B[0m \u001B[38;5;28;01melse\u001B[39;00m:\n\u001B[1;32m   5124\u001B[0m     BaseFigure\u001B[38;5;241m.\u001B[39m_perform_update(\u001B[38;5;28mself\u001B[39m, dict1, overwrite\u001B[38;5;241m=\u001B[39moverwrite)\n",
      "File \u001B[0;32m~/anaconda3/envs/DS10/lib/python3.10/site-packages/plotly/basedatatypes.py:3885\u001B[0m, in \u001B[0;36mBaseFigure._perform_update\u001B[0;34m(plotly_obj, update_obj, overwrite)\u001B[0m\n\u001B[1;32m   3881\u001B[0m                 \u001B[38;5;28;01mcontinue\u001B[39;00m\n\u001B[1;32m   3882\u001B[0m         \u001B[38;5;66;03m# If no match, raise the error, which should already\u001B[39;00m\n\u001B[1;32m   3883\u001B[0m         \u001B[38;5;66;03m# contain the _raise_on_invalid_property_error\u001B[39;00m\n\u001B[1;32m   3884\u001B[0m         \u001B[38;5;66;03m# generated message\u001B[39;00m\n\u001B[0;32m-> 3885\u001B[0m         \u001B[38;5;28;01mraise\u001B[39;00m err\n\u001B[1;32m   3887\u001B[0m \u001B[38;5;66;03m# Convert update_obj to dict\u001B[39;00m\n\u001B[1;32m   3888\u001B[0m \u001B[38;5;66;03m# --------------------------\u001B[39;00m\n\u001B[1;32m   3889\u001B[0m \u001B[38;5;28;01mif\u001B[39;00m \u001B[38;5;28misinstance\u001B[39m(update_obj, BasePlotlyType):\n",
      "\u001B[0;31mValueError\u001B[0m: Invalid property specified for object of type plotly.graph_objs.Layout: 'showborder'\n\nDid you mean \"boxmode\"?\n\n    Valid properties:\n        activeselection\n            :class:`plotly.graph_objects.layout.Activeselection`\n            instance or dict with compatible properties\n        activeshape\n            :class:`plotly.graph_objects.layout.Activeshape`\n            instance or dict with compatible properties\n        annotations\n            A tuple of\n            :class:`plotly.graph_objects.layout.Annotation`\n            instances or dicts with compatible properties\n        annotationdefaults\n            When used in a template (as\n            layout.template.layout.annotationdefaults), sets the\n            default property values to use for elements of\n            layout.annotations\n        autosize\n            Determines whether or not a layout width or height that\n            has been left undefined by the user is initialized on\n            each relayout. Note that, regardless of this attribute,\n            an undefined layout width or height is always\n            initialized on the first call to plot.\n        autotypenumbers\n            Using \"strict\" a numeric string in trace data is not\n            converted to a number. Using *convert types* a numeric\n            string in trace data may be treated as a number during\n            automatic axis `type` detection. This is the default\n            value; however it could be overridden for individual\n            axes.\n        bargap\n            Sets the gap (in plot fraction) between bars of\n            adjacent location coordinates.\n        bargroupgap\n            Sets the gap (in plot fraction) between bars of the\n            same location coordinate.\n        barmode\n            Determines how bars at the same location coordinate are\n            displayed on the graph. With \"stack\", the bars are\n            stacked on top of one another With \"relative\", the bars\n            are stacked on top of one another, with negative values\n            below the axis, positive values above With \"group\", the\n            bars are plotted next to one another centered around\n            the shared location. With \"overlay\", the bars are\n            plotted over one another, you might need to reduce\n            \"opacity\" to see multiple bars.\n        barnorm\n            Sets the normalization for bar traces on the graph.\n            With \"fraction\", the value of each bar is divided by\n            the sum of all values at that location coordinate.\n            \"percent\" is the same but multiplied by 100 to show\n            percentages.\n        boxgap\n            Sets the gap (in plot fraction) between boxes of\n            adjacent location coordinates. Has no effect on traces\n            that have \"width\" set.\n        boxgroupgap\n            Sets the gap (in plot fraction) between boxes of the\n            same location coordinate. Has no effect on traces that\n            have \"width\" set.\n        boxmode\n            Determines how boxes at the same location coordinate\n            are displayed on the graph. If \"group\", the boxes are\n            plotted next to one another centered around the shared\n            location. If \"overlay\", the boxes are plotted over one\n            another, you might need to set \"opacity\" to see them\n            multiple boxes. Has no effect on traces that have\n            \"width\" set.\n        calendar\n            Sets the default calendar system to use for\n            interpreting and displaying dates throughout the plot.\n        clickmode\n            Determines the mode of single click interactions.\n            \"event\" is the default value and emits the\n            `plotly_click` event. In addition this mode emits the\n            `plotly_selected` event in drag modes \"lasso\" and\n            \"select\", but with no event data attached (kept for\n            compatibility reasons). The \"select\" flag enables\n            selecting single data points via click. This mode also\n            supports persistent selections, meaning that pressing\n            Shift while clicking, adds to / subtracts from an\n            existing selection. \"select\" with `hovermode`: \"x\" can\n            be confusing, consider explicitly setting `hovermode`:\n            \"closest\" when using this feature. Selection events are\n            sent accordingly as long as \"event\" flag is set as\n            well. When the \"event\" flag is missing, `plotly_click`\n            and `plotly_selected` events are not fired.\n        coloraxis\n            :class:`plotly.graph_objects.layout.Coloraxis` instance\n            or dict with compatible properties\n        colorscale\n            :class:`plotly.graph_objects.layout.Colorscale`\n            instance or dict with compatible properties\n        colorway\n            Sets the default trace colors.\n        computed\n            Placeholder for exporting automargin-impacting values\n            namely `margin.t`, `margin.b`, `margin.l` and\n            `margin.r` in \"full-json\" mode.\n        datarevision\n            If provided, a changed value tells `Plotly.react` that\n            one or more data arrays has changed. This way you can\n            modify arrays in-place rather than making a complete\n            new copy for an incremental change. If NOT provided,\n            `Plotly.react` assumes that data arrays are being\n            treated as immutable, thus any data array with a\n            different identity from its predecessor contains new\n            data.\n        dragmode\n            Determines the mode of drag interactions. \"select\" and\n            \"lasso\" apply only to scatter traces with markers or\n            text. \"orbit\" and \"turntable\" apply only to 3D scenes.\n        editrevision\n            Controls persistence of user-driven changes in\n            `editable: true` configuration, other than trace names\n            and axis titles. Defaults to `layout.uirevision`.\n        extendfunnelareacolors\n            If `true`, the funnelarea slice colors (whether given\n            by `funnelareacolorway` or inherited from `colorway`)\n            will be extended to three times its original length by\n            first repeating every color 20% lighter then each color\n            20% darker. This is intended to reduce the likelihood\n            of reusing the same color when you have many slices,\n            but you can set `false` to disable. Colors provided in\n            the trace, using `marker.colors`, are never extended.\n        extendiciclecolors\n            If `true`, the icicle slice colors (whether given by\n            `iciclecolorway` or inherited from `colorway`) will be\n            extended to three times its original length by first\n            repeating every color 20% lighter then each color 20%\n            darker. This is intended to reduce the likelihood of\n            reusing the same color when you have many slices, but\n            you can set `false` to disable. Colors provided in the\n            trace, using `marker.colors`, are never extended.\n        extendpiecolors\n            If `true`, the pie slice colors (whether given by\n            `piecolorway` or inherited from `colorway`) will be\n            extended to three times its original length by first\n            repeating every color 20% lighter then each color 20%\n            darker. This is intended to reduce the likelihood of\n            reusing the same color when you have many slices, but\n            you can set `false` to disable. Colors provided in the\n            trace, using `marker.colors`, are never extended.\n        extendsunburstcolors\n            If `true`, the sunburst slice colors (whether given by\n            `sunburstcolorway` or inherited from `colorway`) will\n            be extended to three times its original length by first\n            repeating every color 20% lighter then each color 20%\n            darker. This is intended to reduce the likelihood of\n            reusing the same color when you have many slices, but\n            you can set `false` to disable. Colors provided in the\n            trace, using `marker.colors`, are never extended.\n        extendtreemapcolors\n            If `true`, the treemap slice colors (whether given by\n            `treemapcolorway` or inherited from `colorway`) will be\n            extended to three times its original length by first\n            repeating every color 20% lighter then each color 20%\n            darker. This is intended to reduce the likelihood of\n            reusing the same color when you have many slices, but\n            you can set `false` to disable. Colors provided in the\n            trace, using `marker.colors`, are never extended.\n        font\n            Sets the global font. Note that fonts used in traces\n            and other layout components inherit from the global\n            font.\n        funnelareacolorway\n            Sets the default funnelarea slice colors. Defaults to\n            the main `colorway` used for trace colors. If you\n            specify a new list here it can still be extended with\n            lighter and darker colors, see\n            `extendfunnelareacolors`.\n        funnelgap\n            Sets the gap (in plot fraction) between bars of\n            adjacent location coordinates.\n        funnelgroupgap\n            Sets the gap (in plot fraction) between bars of the\n            same location coordinate.\n        funnelmode\n            Determines how bars at the same location coordinate are\n            displayed on the graph. With \"stack\", the bars are\n            stacked on top of one another With \"group\", the bars\n            are plotted next to one another centered around the\n            shared location. With \"overlay\", the bars are plotted\n            over one another, you might need to reduce \"opacity\" to\n            see multiple bars.\n        geo\n            :class:`plotly.graph_objects.layout.Geo` instance or\n            dict with compatible properties\n        grid\n            :class:`plotly.graph_objects.layout.Grid` instance or\n            dict with compatible properties\n        height\n            Sets the plot's height (in px).\n        hiddenlabels\n            hiddenlabels is the funnelarea & pie chart analog of\n            visible:'legendonly' but it can contain many labels,\n            and can simultaneously hide slices from several\n            pies/funnelarea charts\n        hiddenlabelssrc\n            Sets the source reference on Chart Studio Cloud for\n            `hiddenlabels`.\n        hidesources\n            Determines whether or not a text link citing the data\n            source is placed at the bottom-right cored of the\n            figure. Has only an effect only on graphs that have\n            been generated via forked graphs from the Chart Studio\n            Cloud (at https://chart-studio.plotly.com or on-\n            premise).\n        hoverdistance\n            Sets the default distance (in pixels) to look for data\n            to add hover labels (-1 means no cutoff, 0 means no\n            looking for data). This is only a real distance for\n            hovering on point-like objects, like scatter points.\n            For area-like objects (bars, scatter fills, etc)\n            hovering is on inside the area and off outside, but\n            these objects will not supersede hover on point-like\n            objects in case of conflict.\n        hoverlabel\n            :class:`plotly.graph_objects.layout.Hoverlabel`\n            instance or dict with compatible properties\n        hovermode\n            Determines the mode of hover interactions. If\n            \"closest\", a single hoverlabel will appear for the\n            \"closest\" point within the `hoverdistance`. If \"x\" (or\n            \"y\"), multiple hoverlabels will appear for multiple\n            points at the \"closest\" x- (or y-) coordinate within\n            the `hoverdistance`, with the caveat that no more than\n            one hoverlabel will appear per trace. If *x unified*\n            (or *y unified*), a single hoverlabel will appear\n            multiple points at the closest x- (or y-) coordinate\n            within the `hoverdistance` with the caveat that no more\n            than one hoverlabel will appear per trace. In this\n            mode, spikelines are enabled by default perpendicular\n            to the specified axis. If false, hover interactions are\n            disabled.\n        iciclecolorway\n            Sets the default icicle slice colors. Defaults to the\n            main `colorway` used for trace colors. If you specify a\n            new list here it can still be extended with lighter and\n            darker colors, see `extendiciclecolors`.\n        images\n            A tuple of :class:`plotly.graph_objects.layout.Image`\n            instances or dicts with compatible properties\n        imagedefaults\n            When used in a template (as\n            layout.template.layout.imagedefaults), sets the default\n            property values to use for elements of layout.images\n        legend\n            :class:`plotly.graph_objects.layout.Legend` instance or\n            dict with compatible properties\n        mapbox\n            :class:`plotly.graph_objects.layout.Mapbox` instance or\n            dict with compatible properties\n        margin\n            :class:`plotly.graph_objects.layout.Margin` instance or\n            dict with compatible properties\n        meta\n            Assigns extra meta information that can be used in\n            various `text` attributes. Attributes such as the\n            graph, axis and colorbar `title.text`, annotation\n            `text` `trace.name` in legend items, `rangeselector`,\n            `updatemenus` and `sliders` `label` text all support\n            `meta`. One can access `meta` fields using template\n            strings: `%{meta[i]}` where `i` is the index of the\n            `meta` item in question. `meta` can also be an object\n            for example `{key: value}` which can be accessed\n            %{meta[key]}.\n        metasrc\n            Sets the source reference on Chart Studio Cloud for\n            `meta`.\n        minreducedheight\n            Minimum height of the plot with margin.automargin\n            applied (in px)\n        minreducedwidth\n            Minimum width of the plot with margin.automargin\n            applied (in px)\n        modebar\n            :class:`plotly.graph_objects.layout.Modebar` instance\n            or dict with compatible properties\n        newselection\n            :class:`plotly.graph_objects.layout.Newselection`\n            instance or dict with compatible properties\n        newshape\n            :class:`plotly.graph_objects.layout.Newshape` instance\n            or dict with compatible properties\n        paper_bgcolor\n            Sets the background color of the paper where the graph\n            is drawn.\n        piecolorway\n            Sets the default pie slice colors. Defaults to the main\n            `colorway` used for trace colors. If you specify a new\n            list here it can still be extended with lighter and\n            darker colors, see `extendpiecolors`.\n        plot_bgcolor\n            Sets the background color of the plotting area in-\n            between x and y axes.\n        polar\n            :class:`plotly.graph_objects.layout.Polar` instance or\n            dict with compatible properties\n        scene\n            :class:`plotly.graph_objects.layout.Scene` instance or\n            dict with compatible properties\n        selectdirection\n            When `dragmode` is set to \"select\", this limits the\n            selection of the drag to horizontal, vertical or\n            diagonal. \"h\" only allows horizontal selection, \"v\"\n            only vertical, \"d\" only diagonal and \"any\" sets no\n            limit.\n        selectionrevision\n            Controls persistence of user-driven changes in selected\n            points from all traces.\n        selections\n            A tuple of\n            :class:`plotly.graph_objects.layout.Selection`\n            instances or dicts with compatible properties\n        selectiondefaults\n            When used in a template (as\n            layout.template.layout.selectiondefaults), sets the\n            default property values to use for elements of\n            layout.selections\n        separators\n            Sets the decimal and thousand separators. For example,\n            *. * puts a '.' before decimals and a space between\n            thousands. In English locales, dflt is \".,\" but other\n            locales may alter this default.\n        shapes\n            A tuple of :class:`plotly.graph_objects.layout.Shape`\n            instances or dicts with compatible properties\n        shapedefaults\n            When used in a template (as\n            layout.template.layout.shapedefaults), sets the default\n            property values to use for elements of layout.shapes\n        showlegend\n            Determines whether or not a legend is drawn. Default is\n            `true` if there is a trace to show and any of these: a)\n            Two or more traces would by default be shown in the\n            legend. b) One pie trace is shown in the legend. c) One\n            trace is explicitly given with `showlegend: true`.\n        sliders\n            A tuple of :class:`plotly.graph_objects.layout.Slider`\n            instances or dicts with compatible properties\n        sliderdefaults\n            When used in a template (as\n            layout.template.layout.sliderdefaults), sets the\n            default property values to use for elements of\n            layout.sliders\n        smith\n            :class:`plotly.graph_objects.layout.Smith` instance or\n            dict with compatible properties\n        spikedistance\n            Sets the default distance (in pixels) to look for data\n            to draw spikelines to (-1 means no cutoff, 0 means no\n            looking for data). As with hoverdistance, distance does\n            not apply to area-like objects. In addition, some\n            objects can be hovered on but will not generate\n            spikelines, such as scatter fills.\n        sunburstcolorway\n            Sets the default sunburst slice colors. Defaults to the\n            main `colorway` used for trace colors. If you specify a\n            new list here it can still be extended with lighter and\n            darker colors, see `extendsunburstcolors`.\n        template\n            Default attributes to be applied to the plot. This\n            should be a dict with format: `{'layout':\n            layoutTemplate, 'data': {trace_type: [traceTemplate,\n            ...], ...}}` where `layoutTemplate` is a dict matching\n            the structure of `figure.layout` and `traceTemplate` is\n            a dict matching the structure of the trace with type\n            `trace_type` (e.g. 'scatter'). Alternatively, this may\n            be specified as an instance of\n            plotly.graph_objs.layout.Template.  Trace templates are\n            applied cyclically to traces of each type. Container\n            arrays (eg `annotations`) have special handling: An\n            object ending in `defaults` (eg `annotationdefaults`)\n            is applied to each array item. But if an item has a\n            `templateitemname` key we look in the template array\n            for an item with matching `name` and apply that\n            instead. If no matching `name` is found we mark the\n            item invisible. Any named template item not referenced\n            is appended to the end of the array, so this can be\n            used to add a watermark annotation or a logo image, for\n            example. To omit one of these items on the plot, make\n            an item with matching `templateitemname` and `visible:\n            false`.\n        ternary\n            :class:`plotly.graph_objects.layout.Ternary` instance\n            or dict with compatible properties\n        title\n            :class:`plotly.graph_objects.layout.Title` instance or\n            dict with compatible properties\n        titlefont\n            Deprecated: Please use layout.title.font instead. Sets\n            the title font. Note that the title's font used to be\n            customized by the now deprecated `titlefont` attribute.\n        transition\n            Sets transition options used during Plotly.react\n            updates.\n        treemapcolorway\n            Sets the default treemap slice colors. Defaults to the\n            main `colorway` used for trace colors. If you specify a\n            new list here it can still be extended with lighter and\n            darker colors, see `extendtreemapcolors`.\n        uirevision\n            Used to allow user interactions with the plot to\n            persist after `Plotly.react` calls that are unaware of\n            these interactions. If `uirevision` is omitted, or if\n            it is given and it changed from the previous\n            `Plotly.react` call, the exact new figure is used. If\n            `uirevision` is truthy and did NOT change, any\n            attribute that has been affected by user interactions\n            and did not receive a different value in the new figure\n            will keep the interaction value. `layout.uirevision`\n            attribute serves as the default for `uirevision`\n            attributes in various sub-containers. For finer control\n            you can set these sub-attributes directly. For example,\n            if your app separately controls the data on the x and y\n            axes you might set `xaxis.uirevision=*time*` and\n            `yaxis.uirevision=*cost*`. Then if only the y data is\n            changed, you can update `yaxis.uirevision=*quantity*`\n            and the y axis range will reset but the x axis range\n            will retain any user-driven zoom.\n        uniformtext\n            :class:`plotly.graph_objects.layout.Uniformtext`\n            instance or dict with compatible properties\n        updatemenus\n            A tuple of\n            :class:`plotly.graph_objects.layout.Updatemenu`\n            instances or dicts with compatible properties\n        updatemenudefaults\n            When used in a template (as\n            layout.template.layout.updatemenudefaults), sets the\n            default property values to use for elements of\n            layout.updatemenus\n        violingap\n            Sets the gap (in plot fraction) between violins of\n            adjacent location coordinates. Has no effect on traces\n            that have \"width\" set.\n        violingroupgap\n            Sets the gap (in plot fraction) between violins of the\n            same location coordinate. Has no effect on traces that\n            have \"width\" set.\n        violinmode\n            Determines how violins at the same location coordinate\n            are displayed on the graph. If \"group\", the violins are\n            plotted next to one another centered around the shared\n            location. If \"overlay\", the violins are plotted over\n            one another, you might need to set \"opacity\" to see\n            them multiple violins. Has no effect on traces that\n            have \"width\" set.\n        waterfallgap\n            Sets the gap (in plot fraction) between bars of\n            adjacent location coordinates.\n        waterfallgroupgap\n            Sets the gap (in plot fraction) between bars of the\n            same location coordinate.\n        waterfallmode\n            Determines how bars at the same location coordinate are\n            displayed on the graph. With \"group\", the bars are\n            plotted next to one another centered around the shared\n            location. With \"overlay\", the bars are plotted over one\n            another, you might need to reduce \"opacity\" to see\n            multiple bars.\n        width\n            Sets the plot's width (in px).\n        xaxis\n            :class:`plotly.graph_objects.layout.XAxis` instance or\n            dict with compatible properties\n        yaxis\n            :class:`plotly.graph_objects.layout.YAxis` instance or\n            dict with compatible properties\n        \nDid you mean \"boxmode\"?\n\nBad property path:\nshowborder\n^^^^^^^^^^"
     ]
    }
   ],
   "source": [
    "for cat in ['SDG', 'DT', 'SDG-DT', 'SDG-pop', 'DT-pop','SDG-DT-pop', 'SDG-gdp', 'DT-gdp', 'SDG-DT-gdp']:\n",
    "    # tit = cat.replace(\"-pop\", \"\").replace(\"-gdp\", \"\")\n",
    "    if 'pop' in cat:\n",
    "        spec = \"/pop*\"\n",
    "        annot= \"*Normalised by population\"\n",
    "    elif \"gdp\" in cat:\n",
    "        spec = \"/gdp*\"\n",
    "        annot = \"*Normalised by GDP (in M$)\"\n",
    "    else:\n",
    "        spec = \"\"\n",
    "        annot = \"\"\n",
    "    tit = f\"Nb pubs{spec}\"\n",
    "\n",
    "    layout = go.Layout(\n",
    "        annotations=[\n",
    "            dict(\n",
    "                x=1,\n",
    "                y=0.9,\n",
    "                align=\"right\",\n",
    "                valign=\"top\",\n",
    "                text=tit,\n",
    "                showarrow=False,\n",
    "                xref=\"paper\",\n",
    "                yref=\"paper\",\n",
    "                xanchor=\"center\",\n",
    "                yanchor=\"top\",\n",
    "                font_size=22,\n",
    "                ),\n",
    "            dict(\n",
    "                x=0.25,\n",
    "                y=-.01,\n",
    "                align=\"right\",\n",
    "                valign=\"top\",\n",
    "                text=annot,\n",
    "                showarrow=False,\n",
    "                xref=\"paper\",\n",
    "                yref=\"paper\",\n",
    "                xanchor=\"center\",\n",
    "                yanchor=\"top\",\n",
    "                font_size=30,\n",
    "                ),\n",
    "            ],\n",
    "        )\n",
    "    fig = go.Figure(\n",
    "            data=go.Choropleth(\n",
    "                locations=df_country.index,\n",
    "                z=df_country[cat],\n",
    "                text=df_country.index,\n",
    "                locationmode=\"country names\",\n",
    "                colorscale='Blues',\n",
    "                autocolorscale=False,\n",
    "                colorbar=dict(\n",
    "                    len=0.8,\n",
    "                    y=0.45,\n",
    "                    x= 0.95\n",
    "                )\n",
    "            ),\n",
    "            layout=layout,\n",
    "        )\n",
    "\n",
    "    fig.update_layout(\n",
    "        template='simple_white',\n",
    "        font=dict(size=25),\n",
    "        showlegend=True,\n",
    "\n",
    "        geo=go.layout.Geo(\n",
    "            scope=\"world\",\n",
    "            landcolor='lightgray',\n",
    "            projection_scale=1,\n",
    "            center=dict(lon=20, lat=30),\n",
    "            projection_type=\"kavrayskiy7\",\n",
    "\n",
    "            showland=True,\n",
    "            showcountries=False,\n",
    "            showframe=False\n",
    "        ),\n",
    "        height=900,\n",
    "        width=1400\n",
    "    )\n",
    "\n",
    "    fig.write_image(f\"../img/Commission/maps/World/{cat}.jpg\")\n",
    "    # pio.write_image(fig, folder, format='png')"
   ],
   "metadata": {
    "collapsed": false
   }
  },
  {
   "cell_type": "markdown",
   "source": [
    "## Specialization"
   ],
   "metadata": {
    "collapsed": false
   }
  },
  {
   "cell_type": "code",
   "execution_count": 5,
   "outputs": [
    {
     "data": {
      "text/plain": "     Unnamed: 0         Country Country ISO3  Country Code  \\\n0             0     Afghanistan          AFG             4   \n1             1         Albania          ALB             8   \n2             2         Algeria          DZA            12   \n3             3  American Samoa          ASM            16   \n4             4         Andorra          AND            20   \n..          ...             ...          ...           ...   \n222         265       Venezuela          VEN           862   \n223         266         Vietnam          VNM           704   \n224         270           Yemen          YEM           887   \n225         273          Zambia          ZMB           894   \n226         274        Zimbabwe          ZWE           716   \n\n                                   Long Name          Income Group  \\\n0               Islamic State of Afghanistan            Low income   \n1                        Republic of Albania   Upper middle income   \n2    People's Democratic Republic of Algeria   Upper middle income   \n3                             American Samoa   Upper middle income   \n4                                        NaN                Others   \n..                                       ...                   ...   \n222       República Bolivariana de Venezuela  High income: nonOECD   \n223            Socialist Republic of Vietnam   Lower middle income   \n224                        Republic of Yemen   Lower middle income   \n225                       Republic of Zambia   Lower middle income   \n226                     Republic of Zimbabwe            Low income   \n\n    Lending Category                      Region              Currency Unit  \\\n0                IDA                  South Asia             Afghan afghani   \n1               IBRD       Europe & Central Asia               Albanian lek   \n2               IBRD  Middle East & North Africa             Algerian dinar   \n3                NaN         East Asia & Pacific                U.S. dollar   \n4                NaN       Europe & Central Asia                        NaN   \n..               ...                         ...                        ...   \n222             IBRD   Latin America & Caribbean  Venezuelan bolivar fuerte   \n223            Blend         East Asia & Pacific            Vietnamese dong   \n224              IDA  Middle East & North Africa                Yemeni rial   \n225              IDA          Sub-Saharan Africa         New Zambian kwacha   \n226            Blend          Sub-Saharan Africa                U.S. dollar   \n\n    Other Groups WTO Member   latitude   longitude  \n0           HIPC         No  33.939110   67.709953  \n1            NaN        Yes  41.153332   20.168331  \n2            NaN         No  28.033886    1.659626  \n3            NaN         No -14.270972 -170.132217  \n4            NaN         No  42.546245    1.601554  \n..           ...        ...        ...         ...  \n222          NaN        Yes   6.423750  -66.589730  \n223          NaN        Yes  14.058324  108.277199  \n224          NaN         No  15.552727   48.516388  \n225         HIPC        Yes -13.133897   27.849332  \n226          NaN        Yes -19.015438   29.154857  \n\n[227 rows x 13 columns]",
      "text/html": "<div>\n<style scoped>\n    .dataframe tbody tr th:only-of-type {\n        vertical-align: middle;\n    }\n\n    .dataframe tbody tr th {\n        vertical-align: top;\n    }\n\n    .dataframe thead th {\n        text-align: right;\n    }\n</style>\n<table border=\"1\" class=\"dataframe\">\n  <thead>\n    <tr style=\"text-align: right;\">\n      <th></th>\n      <th>Unnamed: 0</th>\n      <th>Country</th>\n      <th>Country ISO3</th>\n      <th>Country Code</th>\n      <th>Long Name</th>\n      <th>Income Group</th>\n      <th>Lending Category</th>\n      <th>Region</th>\n      <th>Currency Unit</th>\n      <th>Other Groups</th>\n      <th>WTO Member</th>\n      <th>latitude</th>\n      <th>longitude</th>\n    </tr>\n  </thead>\n  <tbody>\n    <tr>\n      <th>0</th>\n      <td>0</td>\n      <td>Afghanistan</td>\n      <td>AFG</td>\n      <td>4</td>\n      <td>Islamic State of Afghanistan</td>\n      <td>Low income</td>\n      <td>IDA</td>\n      <td>South Asia</td>\n      <td>Afghan afghani</td>\n      <td>HIPC</td>\n      <td>No</td>\n      <td>33.939110</td>\n      <td>67.709953</td>\n    </tr>\n    <tr>\n      <th>1</th>\n      <td>1</td>\n      <td>Albania</td>\n      <td>ALB</td>\n      <td>8</td>\n      <td>Republic of Albania</td>\n      <td>Upper middle income</td>\n      <td>IBRD</td>\n      <td>Europe &amp; Central Asia</td>\n      <td>Albanian lek</td>\n      <td>NaN</td>\n      <td>Yes</td>\n      <td>41.153332</td>\n      <td>20.168331</td>\n    </tr>\n    <tr>\n      <th>2</th>\n      <td>2</td>\n      <td>Algeria</td>\n      <td>DZA</td>\n      <td>12</td>\n      <td>People's Democratic Republic of Algeria</td>\n      <td>Upper middle income</td>\n      <td>IBRD</td>\n      <td>Middle East &amp; North Africa</td>\n      <td>Algerian dinar</td>\n      <td>NaN</td>\n      <td>No</td>\n      <td>28.033886</td>\n      <td>1.659626</td>\n    </tr>\n    <tr>\n      <th>3</th>\n      <td>3</td>\n      <td>American Samoa</td>\n      <td>ASM</td>\n      <td>16</td>\n      <td>American Samoa</td>\n      <td>Upper middle income</td>\n      <td>NaN</td>\n      <td>East Asia &amp; Pacific</td>\n      <td>U.S. dollar</td>\n      <td>NaN</td>\n      <td>No</td>\n      <td>-14.270972</td>\n      <td>-170.132217</td>\n    </tr>\n    <tr>\n      <th>4</th>\n      <td>4</td>\n      <td>Andorra</td>\n      <td>AND</td>\n      <td>20</td>\n      <td>NaN</td>\n      <td>Others</td>\n      <td>NaN</td>\n      <td>Europe &amp; Central Asia</td>\n      <td>NaN</td>\n      <td>NaN</td>\n      <td>No</td>\n      <td>42.546245</td>\n      <td>1.601554</td>\n    </tr>\n    <tr>\n      <th>...</th>\n      <td>...</td>\n      <td>...</td>\n      <td>...</td>\n      <td>...</td>\n      <td>...</td>\n      <td>...</td>\n      <td>...</td>\n      <td>...</td>\n      <td>...</td>\n      <td>...</td>\n      <td>...</td>\n      <td>...</td>\n      <td>...</td>\n    </tr>\n    <tr>\n      <th>222</th>\n      <td>265</td>\n      <td>Venezuela</td>\n      <td>VEN</td>\n      <td>862</td>\n      <td>República Bolivariana de Venezuela</td>\n      <td>High income: nonOECD</td>\n      <td>IBRD</td>\n      <td>Latin America &amp; Caribbean</td>\n      <td>Venezuelan bolivar fuerte</td>\n      <td>NaN</td>\n      <td>Yes</td>\n      <td>6.423750</td>\n      <td>-66.589730</td>\n    </tr>\n    <tr>\n      <th>223</th>\n      <td>266</td>\n      <td>Vietnam</td>\n      <td>VNM</td>\n      <td>704</td>\n      <td>Socialist Republic of Vietnam</td>\n      <td>Lower middle income</td>\n      <td>Blend</td>\n      <td>East Asia &amp; Pacific</td>\n      <td>Vietnamese dong</td>\n      <td>NaN</td>\n      <td>Yes</td>\n      <td>14.058324</td>\n      <td>108.277199</td>\n    </tr>\n    <tr>\n      <th>224</th>\n      <td>270</td>\n      <td>Yemen</td>\n      <td>YEM</td>\n      <td>887</td>\n      <td>Republic of Yemen</td>\n      <td>Lower middle income</td>\n      <td>IDA</td>\n      <td>Middle East &amp; North Africa</td>\n      <td>Yemeni rial</td>\n      <td>NaN</td>\n      <td>No</td>\n      <td>15.552727</td>\n      <td>48.516388</td>\n    </tr>\n    <tr>\n      <th>225</th>\n      <td>273</td>\n      <td>Zambia</td>\n      <td>ZMB</td>\n      <td>894</td>\n      <td>Republic of Zambia</td>\n      <td>Lower middle income</td>\n      <td>IDA</td>\n      <td>Sub-Saharan Africa</td>\n      <td>New Zambian kwacha</td>\n      <td>HIPC</td>\n      <td>Yes</td>\n      <td>-13.133897</td>\n      <td>27.849332</td>\n    </tr>\n    <tr>\n      <th>226</th>\n      <td>274</td>\n      <td>Zimbabwe</td>\n      <td>ZWE</td>\n      <td>716</td>\n      <td>Republic of Zimbabwe</td>\n      <td>Low income</td>\n      <td>Blend</td>\n      <td>Sub-Saharan Africa</td>\n      <td>U.S. dollar</td>\n      <td>NaN</td>\n      <td>Yes</td>\n      <td>-19.015438</td>\n      <td>29.154857</td>\n    </tr>\n  </tbody>\n</table>\n<p>227 rows × 13 columns</p>\n</div>"
     },
     "execution_count": 5,
     "metadata": {},
     "output_type": "execute_result"
    }
   ],
   "source": [
    "df_country_w_continent = pd.read_excel(\"../data/countries_w_continent.xlsx\", sheet_name=0)\n",
    "df_country_w_continent"
   ],
   "metadata": {
    "collapsed": false
   }
  },
  {
   "cell_type": "code",
   "execution_count": 5,
   "outputs": [],
   "source": [
    "lst_sdg = [\"SDG\" + str(i) for i in range(1, 18)]\n",
    "lst_cat = [\"Environment\", \"Society\", \"Economy\"]\n",
    "lst_dt_shortened = ['AI', 'robotics', 'IOT']\n",
    "lst_dt = ['AI', 'big_data', 'IOT', 'computing_infrastructure', 'blockchain', 'robotics',\n",
    "          'additive_manufacturing']\n",
    "lst_cat_dt = ['Environment-AI', 'Environment-robotics', 'Environment-IOT',\n",
    "              'Society-AI', 'Society-robotics', 'Society-IOT',\n",
    "              'Economy-AI', 'Economy-robotics', 'Economy-IOT']\n",
    "df_sdg = pd.read_pickle(\"../data/dataframes/SDG/all_sdg_fixed_dst.pkl\")\n",
    "df_dt = pd.read_pickle(\"../data/dataframes/DT/all_digital.pkl\")\n",
    "\n",
    "# Filtering for Journal only\n",
    "df_sdg = df_sdg[df_sdg.PT == 'J']\n",
    "df_dt = df_dt[df_dt.PT == 'J']\n",
    "df_sdg_dt = df_sdg[df_sdg['DST']]"
   ],
   "metadata": {
    "collapsed": false
   }
  },
  {
   "cell_type": "code",
   "execution_count": 7,
   "outputs": [
    {
     "data": {
      "text/plain": "        PT                                                 AU  \\\n131      J  Nasseri, A; Jamshidi, S; Yazdifar, H; Percy, D...   \n347      J         Khalifa, N; Abd Elghany, M; Abd Elghany, M   \n356      J       Emmanuel, O; Ananya, M; Misra, S; Koyuncu, M   \n437      J    Kharal, AY; Khalid, HA; Gastli, A; Guerrero, JM   \n438      J                            Hoekman, B; Shepherd, B   \n...     ..                                                ...   \n1199147  J  Herrera-Ibata, DM; Orbegozo-Medina, RA; Gonzal...   \n1199205  J         Feng, XP; Zhu, J; Lin, PS; Steen-Adams, MM   \n1199228  J  Herrera-Ibata, DM; Pazos, A; Orbegozo-Medina, ...   \n1200469  J  Wolfson, M; Wallace, SE; Masca, N; Rowe, G; Sh...   \n1200644  J                                      Palsdottir, A   \n\n                                                        TI  \\\n131      Evaluating the performances of over-the-counte...   \n347      Exploratory research on digitalization transfo...   \n356      A Deep Neural Network-Based Advisory Framework...   \n437      A Novel Features-Based Multivariate Gaussian D...   \n438      Services Trade Policies and Economic Integrati...   \n...                                                    ...   \n1199147  Multiscale Mapping of AIDS in US Countries vs ...   \n1199205  Composite likelihood estimation for models of ...   \n1199228  Mapping networks of anti-HIV drug cocktails vs...   \n1200469  DataSHIELD: resolving a conflict in contempora...   \n1200644  The connection between purposive information s...   \n\n                                                      SO  \\\n131               JOURNAL OF APPLIED ACCOUNTING RESEARCH   \n347                         COGENT BUSINESS & MANAGEMENT   \n356                                       SUSTAINABILITY   \n437                                          IEEE ACCESS   \n438                                   WORLD TRADE REVIEW   \n...                                                  ...   \n1199147                           CURRENT BIOINFORMATICS   \n1199205                                   ENVIRONMETRICS   \n1199228  CHEMOMETRICS AND INTELLIGENT LABORATORY SYSTEMS   \n1200469            INTERNATIONAL JOURNAL OF EPIDEMIOLOGY   \n1200644                         JOURNAL OF DOCUMENTATION   \n\n                                                        DE  \\\n131      Developing countries; Portfolio optimization; ...   \n347      Artificial intelligence; supply chain; supply ...   \n356      sustainability development goals; predictive a...   \n437      Developing countries; Meters; Companies; Tarif...   \n438      International trade; trade in services; machin...   \n...                                                    ...   \n1199147  Anti-HIV drugs; AIDS in US at county level; Gi...   \n1199205  Gaussian latent variable; Godambe information;...   \n1199228  ChEMBL; AIDSVu; anti-HIV drug cocktails; HAART...   \n1200469  Pooling; analysis; meta-analysis; individual-l...   \n1200644  Personal health; Lifestyles; Iceland; Informat...   \n\n                                                        AB  \\\n131      Purpose With suitable optimization criteria, h...   \n347      With no doubt, the adoption of Artificial Inte...   \n356      Research in sustainable development, program d...   \n437      According to statistics, developing countries ...   \n438      This paper applies machine learning to recreat...   \n...                                                    ...   \n1199147  In this work, we reviewed different aspects ab...   \n1199205  In this paper, we consider a spatial ordered p...   \n1199228  The implementation of the highly active antire...   \n1200469  Methods Data aggregation through anonymous sum...   \n1200644  Purpose - This paper aims to explore health an...   \n\n                                                        C1  \\\n131      [Nasseri, Ahmad; Jamshidi, Sajad] Univ Sistan ...   \n347      [Khalifa, Nermin; Abd Elghany, Marwa] Arab Aca...   \n356      [Emmanuel, Okewu] Univ Lagos, Ctr Informat & T...   \n437      [Kharal, Ammar Yousaf; Khalid, Hassan Abdullah...   \n438      [Hoekman, Bernard] European Univ Inst, Fiesole...   \n...                                                    ...   \n1199147  [Maria Herrera-Ibata, Diana] Univ A Coruna UDC...   \n1199205  [Feng, Xiaoping; Zhu, Jun] Univ Wisconsin, Dep...   \n1199228  [Maria Herrera-Ibata, Diana; Pazos, Alejandro]...   \n1200469  [Masca, Nicholas; Sheehan, Nuala A.; Tobin, Ma...   \n1200644  Univ Iceland, Dept Lib & Informat Sci, Reykjav...   \n\n                                                        EM  TC    PY  ...  \\\n131      nasseri@acc.usb.ac.ir; usb.sajad@gmail.com; hy...   0  2020  ...   \n347      nermine_khalifa@aast.edu; monam@aast.edu; marw...   0  2021  ...   \n356      eokewu@unilag.edu.ng; ge25daj@mytum.de; Sanjay...   1  2020  ...   \n437                                  adel.gastli@qu.edu.qa   0  2021  ...   \n438       bernard.hoekman@eui.eu; ben@developing-trade.com   1  2021  ...   \n...                                                    ...  ..   ...  ...   \n1199147                               diana.herrera@udc.es   5  2015  ...   \n1199205                                 jzhu@stat.wisc.edu   7  2014  ...   \n1199228  diana.herrera@udc.es; humberto.gonzalezdiaz@eh...   9  2014  ...   \n1200469                                      pb51@le.ac.uk  86  2010  ...   \n1200644                                      agustap@hi.is  31  2010  ...   \n\n           IOT computing_infrastructure blockchain robotics  \\\n131      False                    False      False    False   \n347      False                    False      False    False   \n356      False                    False      False    False   \n437      False                    False      False    False   \n438      False                    False      False    False   \n...        ...                      ...        ...      ...   \n1199147  False                    False      False    False   \n1199205  False                     True      False    False   \n1199228  False                    False      False    False   \n1200469  False                     True      False    False   \n1200644  False                    False      False    False   \n\n        additive_manufacturing Society Economy Environment     EU   DST  \n131                      False   False    True       False   True  True  \n347                       True   False    True       False  False  True  \n356                      False    True    True       False   True  True  \n437                      False   False    True       False   True  True  \n438                      False   False    True       False   True  True  \n...                        ...     ...     ...         ...    ...   ...  \n1199147                  False    True   False       False   True  True  \n1199205                  False    True   False       False  False  True  \n1199228                  False    True   False       False   True  True  \n1200469                  False    True   False       False   True  True  \n1200644                  False    True   False       False   True  True  \n\n[33097 rows x 42 columns]",
      "text/html": "<div>\n<style scoped>\n    .dataframe tbody tr th:only-of-type {\n        vertical-align: middle;\n    }\n\n    .dataframe tbody tr th {\n        vertical-align: top;\n    }\n\n    .dataframe thead th {\n        text-align: right;\n    }\n</style>\n<table border=\"1\" class=\"dataframe\">\n  <thead>\n    <tr style=\"text-align: right;\">\n      <th></th>\n      <th>PT</th>\n      <th>AU</th>\n      <th>TI</th>\n      <th>SO</th>\n      <th>DE</th>\n      <th>AB</th>\n      <th>C1</th>\n      <th>EM</th>\n      <th>TC</th>\n      <th>PY</th>\n      <th>...</th>\n      <th>IOT</th>\n      <th>computing_infrastructure</th>\n      <th>blockchain</th>\n      <th>robotics</th>\n      <th>additive_manufacturing</th>\n      <th>Society</th>\n      <th>Economy</th>\n      <th>Environment</th>\n      <th>EU</th>\n      <th>DST</th>\n    </tr>\n  </thead>\n  <tbody>\n    <tr>\n      <th>131</th>\n      <td>J</td>\n      <td>Nasseri, A; Jamshidi, S; Yazdifar, H; Percy, D...</td>\n      <td>Evaluating the performances of over-the-counte...</td>\n      <td>JOURNAL OF APPLIED ACCOUNTING RESEARCH</td>\n      <td>Developing countries; Portfolio optimization; ...</td>\n      <td>Purpose With suitable optimization criteria, h...</td>\n      <td>[Nasseri, Ahmad; Jamshidi, Sajad] Univ Sistan ...</td>\n      <td>nasseri@acc.usb.ac.ir; usb.sajad@gmail.com; hy...</td>\n      <td>0</td>\n      <td>2020</td>\n      <td>...</td>\n      <td>False</td>\n      <td>False</td>\n      <td>False</td>\n      <td>False</td>\n      <td>False</td>\n      <td>False</td>\n      <td>True</td>\n      <td>False</td>\n      <td>True</td>\n      <td>True</td>\n    </tr>\n    <tr>\n      <th>347</th>\n      <td>J</td>\n      <td>Khalifa, N; Abd Elghany, M; Abd Elghany, M</td>\n      <td>Exploratory research on digitalization transfo...</td>\n      <td>COGENT BUSINESS &amp; MANAGEMENT</td>\n      <td>Artificial intelligence; supply chain; supply ...</td>\n      <td>With no doubt, the adoption of Artificial Inte...</td>\n      <td>[Khalifa, Nermin; Abd Elghany, Marwa] Arab Aca...</td>\n      <td>nermine_khalifa@aast.edu; monam@aast.edu; marw...</td>\n      <td>0</td>\n      <td>2021</td>\n      <td>...</td>\n      <td>False</td>\n      <td>False</td>\n      <td>False</td>\n      <td>False</td>\n      <td>True</td>\n      <td>False</td>\n      <td>True</td>\n      <td>False</td>\n      <td>False</td>\n      <td>True</td>\n    </tr>\n    <tr>\n      <th>356</th>\n      <td>J</td>\n      <td>Emmanuel, O; Ananya, M; Misra, S; Koyuncu, M</td>\n      <td>A Deep Neural Network-Based Advisory Framework...</td>\n      <td>SUSTAINABILITY</td>\n      <td>sustainability development goals; predictive a...</td>\n      <td>Research in sustainable development, program d...</td>\n      <td>[Emmanuel, Okewu] Univ Lagos, Ctr Informat &amp; T...</td>\n      <td>eokewu@unilag.edu.ng; ge25daj@mytum.de; Sanjay...</td>\n      <td>1</td>\n      <td>2020</td>\n      <td>...</td>\n      <td>False</td>\n      <td>False</td>\n      <td>False</td>\n      <td>False</td>\n      <td>False</td>\n      <td>True</td>\n      <td>True</td>\n      <td>False</td>\n      <td>True</td>\n      <td>True</td>\n    </tr>\n    <tr>\n      <th>437</th>\n      <td>J</td>\n      <td>Kharal, AY; Khalid, HA; Gastli, A; Guerrero, JM</td>\n      <td>A Novel Features-Based Multivariate Gaussian D...</td>\n      <td>IEEE ACCESS</td>\n      <td>Developing countries; Meters; Companies; Tarif...</td>\n      <td>According to statistics, developing countries ...</td>\n      <td>[Kharal, Ammar Yousaf; Khalid, Hassan Abdullah...</td>\n      <td>adel.gastli@qu.edu.qa</td>\n      <td>0</td>\n      <td>2021</td>\n      <td>...</td>\n      <td>False</td>\n      <td>False</td>\n      <td>False</td>\n      <td>False</td>\n      <td>False</td>\n      <td>False</td>\n      <td>True</td>\n      <td>False</td>\n      <td>True</td>\n      <td>True</td>\n    </tr>\n    <tr>\n      <th>438</th>\n      <td>J</td>\n      <td>Hoekman, B; Shepherd, B</td>\n      <td>Services Trade Policies and Economic Integrati...</td>\n      <td>WORLD TRADE REVIEW</td>\n      <td>International trade; trade in services; machin...</td>\n      <td>This paper applies machine learning to recreat...</td>\n      <td>[Hoekman, Bernard] European Univ Inst, Fiesole...</td>\n      <td>bernard.hoekman@eui.eu; ben@developing-trade.com</td>\n      <td>1</td>\n      <td>2021</td>\n      <td>...</td>\n      <td>False</td>\n      <td>False</td>\n      <td>False</td>\n      <td>False</td>\n      <td>False</td>\n      <td>False</td>\n      <td>True</td>\n      <td>False</td>\n      <td>True</td>\n      <td>True</td>\n    </tr>\n    <tr>\n      <th>...</th>\n      <td>...</td>\n      <td>...</td>\n      <td>...</td>\n      <td>...</td>\n      <td>...</td>\n      <td>...</td>\n      <td>...</td>\n      <td>...</td>\n      <td>...</td>\n      <td>...</td>\n      <td>...</td>\n      <td>...</td>\n      <td>...</td>\n      <td>...</td>\n      <td>...</td>\n      <td>...</td>\n      <td>...</td>\n      <td>...</td>\n      <td>...</td>\n      <td>...</td>\n      <td>...</td>\n    </tr>\n    <tr>\n      <th>1199147</th>\n      <td>J</td>\n      <td>Herrera-Ibata, DM; Orbegozo-Medina, RA; Gonzal...</td>\n      <td>Multiscale Mapping of AIDS in US Countries vs ...</td>\n      <td>CURRENT BIOINFORMATICS</td>\n      <td>Anti-HIV drugs; AIDS in US at county level; Gi...</td>\n      <td>In this work, we reviewed different aspects ab...</td>\n      <td>[Maria Herrera-Ibata, Diana] Univ A Coruna UDC...</td>\n      <td>diana.herrera@udc.es</td>\n      <td>5</td>\n      <td>2015</td>\n      <td>...</td>\n      <td>False</td>\n      <td>False</td>\n      <td>False</td>\n      <td>False</td>\n      <td>False</td>\n      <td>True</td>\n      <td>False</td>\n      <td>False</td>\n      <td>True</td>\n      <td>True</td>\n    </tr>\n    <tr>\n      <th>1199205</th>\n      <td>J</td>\n      <td>Feng, XP; Zhu, J; Lin, PS; Steen-Adams, MM</td>\n      <td>Composite likelihood estimation for models of ...</td>\n      <td>ENVIRONMETRICS</td>\n      <td>Gaussian latent variable; Godambe information;...</td>\n      <td>In this paper, we consider a spatial ordered p...</td>\n      <td>[Feng, Xiaoping; Zhu, Jun] Univ Wisconsin, Dep...</td>\n      <td>jzhu@stat.wisc.edu</td>\n      <td>7</td>\n      <td>2014</td>\n      <td>...</td>\n      <td>False</td>\n      <td>True</td>\n      <td>False</td>\n      <td>False</td>\n      <td>False</td>\n      <td>True</td>\n      <td>False</td>\n      <td>False</td>\n      <td>False</td>\n      <td>True</td>\n    </tr>\n    <tr>\n      <th>1199228</th>\n      <td>J</td>\n      <td>Herrera-Ibata, DM; Pazos, A; Orbegozo-Medina, ...</td>\n      <td>Mapping networks of anti-HIV drug cocktails vs...</td>\n      <td>CHEMOMETRICS AND INTELLIGENT LABORATORY SYSTEMS</td>\n      <td>ChEMBL; AIDSVu; anti-HIV drug cocktails; HAART...</td>\n      <td>The implementation of the highly active antire...</td>\n      <td>[Maria Herrera-Ibata, Diana; Pazos, Alejandro]...</td>\n      <td>diana.herrera@udc.es; humberto.gonzalezdiaz@eh...</td>\n      <td>9</td>\n      <td>2014</td>\n      <td>...</td>\n      <td>False</td>\n      <td>False</td>\n      <td>False</td>\n      <td>False</td>\n      <td>False</td>\n      <td>True</td>\n      <td>False</td>\n      <td>False</td>\n      <td>True</td>\n      <td>True</td>\n    </tr>\n    <tr>\n      <th>1200469</th>\n      <td>J</td>\n      <td>Wolfson, M; Wallace, SE; Masca, N; Rowe, G; Sh...</td>\n      <td>DataSHIELD: resolving a conflict in contempora...</td>\n      <td>INTERNATIONAL JOURNAL OF EPIDEMIOLOGY</td>\n      <td>Pooling; analysis; meta-analysis; individual-l...</td>\n      <td>Methods Data aggregation through anonymous sum...</td>\n      <td>[Masca, Nicholas; Sheehan, Nuala A.; Tobin, Ma...</td>\n      <td>pb51@le.ac.uk</td>\n      <td>86</td>\n      <td>2010</td>\n      <td>...</td>\n      <td>False</td>\n      <td>True</td>\n      <td>False</td>\n      <td>False</td>\n      <td>False</td>\n      <td>True</td>\n      <td>False</td>\n      <td>False</td>\n      <td>True</td>\n      <td>True</td>\n    </tr>\n    <tr>\n      <th>1200644</th>\n      <td>J</td>\n      <td>Palsdottir, A</td>\n      <td>The connection between purposive information s...</td>\n      <td>JOURNAL OF DOCUMENTATION</td>\n      <td>Personal health; Lifestyles; Iceland; Informat...</td>\n      <td>Purpose - This paper aims to explore health an...</td>\n      <td>Univ Iceland, Dept Lib &amp; Informat Sci, Reykjav...</td>\n      <td>agustap@hi.is</td>\n      <td>31</td>\n      <td>2010</td>\n      <td>...</td>\n      <td>False</td>\n      <td>False</td>\n      <td>False</td>\n      <td>False</td>\n      <td>False</td>\n      <td>True</td>\n      <td>False</td>\n      <td>False</td>\n      <td>True</td>\n      <td>True</td>\n    </tr>\n  </tbody>\n</table>\n<p>33097 rows × 42 columns</p>\n</div>"
     },
     "execution_count": 7,
     "metadata": {},
     "output_type": "execute_result"
    }
   ],
   "source": [
    "df_sdg_dt"
   ],
   "metadata": {
    "collapsed": false
   }
  },
  {
   "cell_type": "code",
   "execution_count": 8,
   "outputs": [],
   "source": [
    "idx_sdg = {name: i for i, name in enumerate(list(df_sdg), start=0)}\n",
    "idx_dt = {name: i for i, name in enumerate(list(df_dt), start=0)}\n",
    "idx_sdg_dt = {name: i for i, name in enumerate(list(df_sdg_dt), start=0)}\n"
   ],
   "metadata": {
    "collapsed": false
   }
  },
  {
   "cell_type": "code",
   "execution_count": 11,
   "outputs": [
    {
     "name": "stderr",
     "output_type": "stream",
     "text": [
      "100%|██████████| 1072858/1072858 [00:06<00:00, 175293.32it/s]\n",
      "100%|██████████| 744201/744201 [00:02<00:00, 302921.79it/s]\n",
      "  0%|          | 1/33097 [00:00<00:01, 21290.88it/s]\n"
     ]
    },
    {
     "ename": "KeyError",
     "evalue": "'Economy-additive_manufacturing'",
     "output_type": "error",
     "traceback": [
      "\u001B[0;31m---------------------------------------------------------------------------\u001B[0m",
      "\u001B[0;31mKeyError\u001B[0m                                  Traceback (most recent call last)",
      "File \u001B[0;32m<timed exec>:42\u001B[0m\n",
      "\u001B[0;31mKeyError\u001B[0m: 'Economy-additive_manufacturing'"
     ]
    }
   ],
   "source": [
    "%%time\n",
    "import itertools\n",
    "from tqdm import tqdm\n",
    "dic = {c:{elem:0 for elem in lst_sdg+lst_cat+lst_dt+lst_cat_dt} for c in set_countries}\n",
    "dic_world = {elem:0 for elem in lst_sdg+lst_cat+lst_dt+lst_cat_dt}\n",
    "\n",
    "# SDG dataframe\n",
    "for row in tqdm(df_sdg.itertuples(index=False, name=None), total=df_sdg.shape[0]):\n",
    "    lst_actors = row[idx_sdg['CN']].split(\", \")\n",
    "    size_actors = len(lst_actors)\n",
    "    sdgs_in_pubs = []\n",
    "    # Country count\n",
    "    for sdg in lst_sdg:\n",
    "        if row[idx_sdg[sdg]]:\n",
    "            sdgs_in_pubs += sdg\n",
    "            for actor in lst_actors:\n",
    "                dic_world[sdg] += 1\n",
    "                dic[actor][sdg] += 1\n",
    "    for cat in lst_cat:\n",
    "        if row[idx_sdg[cat]]:\n",
    "            for actor in lst_actors:\n",
    "                dic_world[cat] += 1\n",
    "                dic[actor][cat] += 1\n",
    "\n",
    "\n",
    "# DT dataframe\n",
    "for row in tqdm(df_dt.itertuples(index=False, name=None), total=df_dt.shape[0]):\n",
    "    lst_actors = row[idx_dt['CN']].split(\", \")\n",
    "    # Country count\n",
    "    for dt in lst_dt:\n",
    "        if row[idx_dt[dt]]:\n",
    "            for actor in lst_actors:\n",
    "                if actor in dic:\n",
    "                    dic[actor][dt] += 1\n",
    "                    dic_world[dt] += 1\n",
    "\n",
    "# Intersection\n",
    "for row in tqdm(df_sdg_dt.itertuples(index=False, name=None), total=df_sdg_dt.shape[0]):\n",
    "    # Country count\n",
    "    lst_actors = row[idx_sdg_dt['CN']].split(\", \")\n",
    "    for cat in lst_cat:\n",
    "        if row[idx_sdg_dt[cat]]:\n",
    "            for dt in lst_dt:\n",
    "                if row[idx_sdg_dt[dt]]:\n",
    "                    for actor in lst_actors:\n",
    "                        dic_world[str(cat) + \"-\" + str(dt)] += 1\n",
    "                        dic[actor][str(cat) + \"-\" + str(dt)] += 1\n"
   ],
   "metadata": {
    "collapsed": false
   }
  },
  {
   "cell_type": "code",
   "execution_count": 30,
   "outputs": [
    {
     "name": "stderr",
     "output_type": "stream",
     "text": [
      "100%|██████████| 1072858/1072858 [00:06<00:00, 164869.97it/s]\n",
      "100%|██████████| 744201/744201 [00:02<00:00, 280970.37it/s]\n",
      "100%|██████████| 33097/33097 [00:00<00:00, 188167.50it/s]"
     ]
    },
    {
     "name": "stdout",
     "output_type": "stream",
     "text": [
      "CPU times: user 9.38 s, sys: 9.22 ms, total: 9.39 s\n",
      "Wall time: 9.38 s\n"
     ]
    },
    {
     "name": "stderr",
     "output_type": "stream",
     "text": [
      "\n"
     ]
    }
   ],
   "source": [
    "%%time\n",
    "# Fractional version\n",
    "\n",
    "import itertools\n",
    "from tqdm import tqdm\n",
    "dic = {c:{elem:0 for elem in lst_sdg+lst_cat+lst_dt+lst_cat_dt} for c in set_countries}\n",
    "dic_world = {elem:0 for elem in lst_sdg+lst_cat+lst_dt+lst_cat_dt}\n",
    "\n",
    "# SDG dataframe\n",
    "for row in tqdm(df_sdg.itertuples(index=False, name=None), total=df_sdg.shape[0]):\n",
    "    lst_actors = row[idx_sdg['CN']].split(\", \")\n",
    "    size_actors = len(lst_actors)\n",
    "    sdgs_in_pub = []\n",
    "    cats_in_pub = []\n",
    "    # Country count\n",
    "    for sdg in lst_sdg:\n",
    "        if row[idx_sdg[sdg]]:\n",
    "            sdgs_in_pub.append(sdg)\n",
    "    for cat in lst_cat:\n",
    "        if row[idx_sdg[cat]]:\n",
    "            cats_in_pub.append(cat)\n",
    "    tot_sdg_in_pub = len(sdgs_in_pub)\n",
    "    tot_cat_in_pub = len(cats_in_pub)\n",
    "    for sdg in sdgs_in_pub:\n",
    "        dic_world[sdg] += 1/tot_sdg_in_pub\n",
    "    for cat in cats_in_pub:\n",
    "        dic_world[cat] += 1/tot_cat_in_pub\n",
    "\n",
    "    for actor in lst_actors:\n",
    "        for sdg in sdgs_in_pub:\n",
    "            dic[actor][sdg] += 1/(size_actors*tot_sdg_in_pub)\n",
    "        for cat in cats_in_pub:\n",
    "            dic[actor][cat] += 1/(size_actors*tot_cat_in_pub)\n",
    "\n",
    "\n",
    "# DT dataframe\n",
    "for row in tqdm(df_dt.itertuples(index=False, name=None), total=df_dt.shape[0]):\n",
    "    lst_actors = row[idx_dt['CN']].split(\", \")\n",
    "    tot_actors = len(lst_actors)\n",
    "    dt_in_pub = []\n",
    "    # Country count\n",
    "    for dt in lst_dt:\n",
    "        if row[idx_dt[dt]]:\n",
    "            dt_in_pub.append(dt)\n",
    "    tot_dt = len(dt_in_pub)\n",
    "    for dt in dt_in_pub:\n",
    "        dic_world[dt] += 1/tot_dt\n",
    "    for actor in lst_actors:\n",
    "        if actor in dic:\n",
    "            for dt in dt_in_pub:\n",
    "                dic[actor][dt] += 1/(tot_actors*tot_dt)\n",
    "\n",
    "\n",
    "# Intersection\n",
    "for row in tqdm(df_sdg_dt.itertuples(index=False, name=None), total=df_sdg_dt.shape[0]):\n",
    "    # Country count\n",
    "    lst_actors = row[idx_sdg_dt['CN']].split(\", \")\n",
    "    tot_actors = len(lst_actors)\n",
    "    inter_in_pub = []\n",
    "    for cat in lst_cat:\n",
    "        if row[idx_sdg_dt[cat]]:\n",
    "            for dt in lst_dt:\n",
    "                if row[idx_sdg_dt[dt]]:\n",
    "                    inter_in_pub.append(str(cat) + \"-\" + str(dt))\n",
    "    tot_inter = len(inter_in_pub)\n",
    "    for inter in inter_in_pub:\n",
    "        if inter in dic_world:\n",
    "            dic_world[inter] += 1/tot_inter\n",
    "\n",
    "    for actor in lst_actors:\n",
    "        for inter in inter_in_pub:\n",
    "            if inter in lst_cat_dt:\n",
    "                dic[actor][inter] += (1 / (tot_inter*tot_actors))\n"
   ],
   "metadata": {
    "collapsed": false
   }
  },
  {
   "cell_type": "code",
   "execution_count": 59,
   "outputs": [
    {
     "data": {
      "text/plain": "                               SDG1        SDG2         SDG3         SDG4  \\\nCosta Rica                11.620346    4.846962    22.184238     6.491811   \nDjibouti                   0.000000    0.000000     0.497182     0.000000   \nBritish Virgin Islands     0.000000    0.000000     0.000000     0.208333   \nPakistan                 232.625673  272.863896  1278.458961   271.031851   \nPeru                      40.573444   24.037914   151.416516    27.188956   \n...                             ...         ...          ...          ...   \nDominican Republic         1.449713    1.701008     9.261524     2.510606   \nChile                    109.974318   48.649704   272.237137   136.228628   \nSuriname                   0.583333    1.689286     3.205776     2.677778   \nUnited Kingdom          2463.008787  718.270979  6569.767232  3233.334322   \nNetherlands              522.432262  306.952476  1447.455326   956.151140   \n\n                               SDG5         SDG6         SDG7         SDG8  \\\nCosta Rica                17.698195    40.498821     5.932318     6.536299   \nDjibouti                   1.750000     1.333333     1.133333     0.000000   \nBritish Virgin Islands     0.319444     0.000000     0.000000     0.000000   \nPakistan                 178.267194  1133.430620   283.967963   167.659723   \nPeru                      46.775481    79.062414    10.970984    28.194388   \n...                             ...          ...          ...          ...   \nDominican Republic         2.458589     2.353968     2.457540     0.762500   \nChile                    182.708862   409.047202   123.273027    71.322740   \nSuriname                   0.200000     0.341982     0.298413     0.500000   \nUnited Kingdom          2529.853424  2521.011413  1612.875329  1637.611038   \nNetherlands              547.425423  1113.766029   524.692707   411.364796   \n\n                              SDG9        SDG10  ...  additive_manufacturing  \\\nCosta Rica                2.530253     5.525912  ...                4.120177   \nDjibouti                  0.000000     0.000000  ...                0.000000   \nBritish Virgin Islands    0.444444     0.000000  ...                0.000000   \nPakistan                218.210217    89.803850  ...               76.671853   \nPeru                     23.493587    14.024855  ...                6.734921   \n...                            ...          ...  ...                     ...   \nDominican Republic        1.366667     1.225000  ...                0.000000   \nChile                    76.836620    56.892057  ...               65.717615   \nSuriname                  0.000000     0.000000  ...                0.000000   \nUnited Kingdom          932.211677  1892.000897  ...             2544.575995   \nNetherlands             283.222451   474.680714  ...              619.051493   \n\n                        Environment-AI  Environment-robotics  Environment-IOT  \\\nCosta Rica                    1.581685              1.354762         0.000000   \nDjibouti                      0.000000              0.000000         0.000000   \nBritish Virgin Islands        0.000000              0.000000         0.000000   \nPakistan                     35.479886              9.130907         6.552943   \nPeru                          4.709991              2.295112         0.285714   \n...                                ...                   ...              ...   \nDominican Republic            0.000000              0.000000         0.000000   \nChile                        22.455288              2.785915         2.559524   \nSuriname                      0.000000              0.200000         0.000000   \nUnited Kingdom              214.494374            109.164275        38.340099   \nNetherlands                  55.353642             18.160269         2.643754   \n\n                        Society-AI  Society-robotics  Society-IOT  Economy-AI  \\\nCosta Rica                0.266917          1.230769     1.000000    0.690115   \nDjibouti                  0.000000          0.000000     0.000000    0.000000   \nBritish Virgin Islands    0.000000          0.000000     0.000000    0.000000   \nPakistan                 83.426089          6.378739    60.752050   14.271337   \nPeru                      6.846755          1.029412     5.400000    1.666667   \n...                            ...               ...          ...         ...   \nDominican Republic        0.052632          0.000000     0.000000    0.000000   \nChile                    20.814520          3.105577     6.952778    2.159890   \nSuriname                  0.000000          0.000000     0.000000    0.000000   \nUnited Kingdom          344.949860         70.249021   122.012536   78.389966   \nNetherlands              85.560965         26.556285    18.998476   17.413233   \n\n                        Economy-robotics  Economy-IOT  \nCosta Rica                      0.000000     0.000000  \nDjibouti                        0.000000     0.000000  \nBritish Virgin Islands          0.000000     0.000000  \nPakistan                        1.155732    10.940575  \nPeru                            0.043478     0.000000  \n...                                  ...          ...  \nDominican Republic              0.000000     0.000000  \nChile                           2.029814     1.603175  \nSuriname                        0.000000     0.000000  \nUnited Kingdom                 20.766258    38.675685  \nNetherlands                     8.926885     6.320833  \n\n[218 rows x 36 columns]",
      "text/html": "<div>\n<style scoped>\n    .dataframe tbody tr th:only-of-type {\n        vertical-align: middle;\n    }\n\n    .dataframe tbody tr th {\n        vertical-align: top;\n    }\n\n    .dataframe thead th {\n        text-align: right;\n    }\n</style>\n<table border=\"1\" class=\"dataframe\">\n  <thead>\n    <tr style=\"text-align: right;\">\n      <th></th>\n      <th>SDG1</th>\n      <th>SDG2</th>\n      <th>SDG3</th>\n      <th>SDG4</th>\n      <th>SDG5</th>\n      <th>SDG6</th>\n      <th>SDG7</th>\n      <th>SDG8</th>\n      <th>SDG9</th>\n      <th>SDG10</th>\n      <th>...</th>\n      <th>additive_manufacturing</th>\n      <th>Environment-AI</th>\n      <th>Environment-robotics</th>\n      <th>Environment-IOT</th>\n      <th>Society-AI</th>\n      <th>Society-robotics</th>\n      <th>Society-IOT</th>\n      <th>Economy-AI</th>\n      <th>Economy-robotics</th>\n      <th>Economy-IOT</th>\n    </tr>\n  </thead>\n  <tbody>\n    <tr>\n      <th>Costa Rica</th>\n      <td>11.620346</td>\n      <td>4.846962</td>\n      <td>22.184238</td>\n      <td>6.491811</td>\n      <td>17.698195</td>\n      <td>40.498821</td>\n      <td>5.932318</td>\n      <td>6.536299</td>\n      <td>2.530253</td>\n      <td>5.525912</td>\n      <td>...</td>\n      <td>4.120177</td>\n      <td>1.581685</td>\n      <td>1.354762</td>\n      <td>0.000000</td>\n      <td>0.266917</td>\n      <td>1.230769</td>\n      <td>1.000000</td>\n      <td>0.690115</td>\n      <td>0.000000</td>\n      <td>0.000000</td>\n    </tr>\n    <tr>\n      <th>Djibouti</th>\n      <td>0.000000</td>\n      <td>0.000000</td>\n      <td>0.497182</td>\n      <td>0.000000</td>\n      <td>1.750000</td>\n      <td>1.333333</td>\n      <td>1.133333</td>\n      <td>0.000000</td>\n      <td>0.000000</td>\n      <td>0.000000</td>\n      <td>...</td>\n      <td>0.000000</td>\n      <td>0.000000</td>\n      <td>0.000000</td>\n      <td>0.000000</td>\n      <td>0.000000</td>\n      <td>0.000000</td>\n      <td>0.000000</td>\n      <td>0.000000</td>\n      <td>0.000000</td>\n      <td>0.000000</td>\n    </tr>\n    <tr>\n      <th>British Virgin Islands</th>\n      <td>0.000000</td>\n      <td>0.000000</td>\n      <td>0.000000</td>\n      <td>0.208333</td>\n      <td>0.319444</td>\n      <td>0.000000</td>\n      <td>0.000000</td>\n      <td>0.000000</td>\n      <td>0.444444</td>\n      <td>0.000000</td>\n      <td>...</td>\n      <td>0.000000</td>\n      <td>0.000000</td>\n      <td>0.000000</td>\n      <td>0.000000</td>\n      <td>0.000000</td>\n      <td>0.000000</td>\n      <td>0.000000</td>\n      <td>0.000000</td>\n      <td>0.000000</td>\n      <td>0.000000</td>\n    </tr>\n    <tr>\n      <th>Pakistan</th>\n      <td>232.625673</td>\n      <td>272.863896</td>\n      <td>1278.458961</td>\n      <td>271.031851</td>\n      <td>178.267194</td>\n      <td>1133.430620</td>\n      <td>283.967963</td>\n      <td>167.659723</td>\n      <td>218.210217</td>\n      <td>89.803850</td>\n      <td>...</td>\n      <td>76.671853</td>\n      <td>35.479886</td>\n      <td>9.130907</td>\n      <td>6.552943</td>\n      <td>83.426089</td>\n      <td>6.378739</td>\n      <td>60.752050</td>\n      <td>14.271337</td>\n      <td>1.155732</td>\n      <td>10.940575</td>\n    </tr>\n    <tr>\n      <th>Peru</th>\n      <td>40.573444</td>\n      <td>24.037914</td>\n      <td>151.416516</td>\n      <td>27.188956</td>\n      <td>46.775481</td>\n      <td>79.062414</td>\n      <td>10.970984</td>\n      <td>28.194388</td>\n      <td>23.493587</td>\n      <td>14.024855</td>\n      <td>...</td>\n      <td>6.734921</td>\n      <td>4.709991</td>\n      <td>2.295112</td>\n      <td>0.285714</td>\n      <td>6.846755</td>\n      <td>1.029412</td>\n      <td>5.400000</td>\n      <td>1.666667</td>\n      <td>0.043478</td>\n      <td>0.000000</td>\n    </tr>\n    <tr>\n      <th>...</th>\n      <td>...</td>\n      <td>...</td>\n      <td>...</td>\n      <td>...</td>\n      <td>...</td>\n      <td>...</td>\n      <td>...</td>\n      <td>...</td>\n      <td>...</td>\n      <td>...</td>\n      <td>...</td>\n      <td>...</td>\n      <td>...</td>\n      <td>...</td>\n      <td>...</td>\n      <td>...</td>\n      <td>...</td>\n      <td>...</td>\n      <td>...</td>\n      <td>...</td>\n      <td>...</td>\n    </tr>\n    <tr>\n      <th>Dominican Republic</th>\n      <td>1.449713</td>\n      <td>1.701008</td>\n      <td>9.261524</td>\n      <td>2.510606</td>\n      <td>2.458589</td>\n      <td>2.353968</td>\n      <td>2.457540</td>\n      <td>0.762500</td>\n      <td>1.366667</td>\n      <td>1.225000</td>\n      <td>...</td>\n      <td>0.000000</td>\n      <td>0.000000</td>\n      <td>0.000000</td>\n      <td>0.000000</td>\n      <td>0.052632</td>\n      <td>0.000000</td>\n      <td>0.000000</td>\n      <td>0.000000</td>\n      <td>0.000000</td>\n      <td>0.000000</td>\n    </tr>\n    <tr>\n      <th>Chile</th>\n      <td>109.974318</td>\n      <td>48.649704</td>\n      <td>272.237137</td>\n      <td>136.228628</td>\n      <td>182.708862</td>\n      <td>409.047202</td>\n      <td>123.273027</td>\n      <td>71.322740</td>\n      <td>76.836620</td>\n      <td>56.892057</td>\n      <td>...</td>\n      <td>65.717615</td>\n      <td>22.455288</td>\n      <td>2.785915</td>\n      <td>2.559524</td>\n      <td>20.814520</td>\n      <td>3.105577</td>\n      <td>6.952778</td>\n      <td>2.159890</td>\n      <td>2.029814</td>\n      <td>1.603175</td>\n    </tr>\n    <tr>\n      <th>Suriname</th>\n      <td>0.583333</td>\n      <td>1.689286</td>\n      <td>3.205776</td>\n      <td>2.677778</td>\n      <td>0.200000</td>\n      <td>0.341982</td>\n      <td>0.298413</td>\n      <td>0.500000</td>\n      <td>0.000000</td>\n      <td>0.000000</td>\n      <td>...</td>\n      <td>0.000000</td>\n      <td>0.000000</td>\n      <td>0.200000</td>\n      <td>0.000000</td>\n      <td>0.000000</td>\n      <td>0.000000</td>\n      <td>0.000000</td>\n      <td>0.000000</td>\n      <td>0.000000</td>\n      <td>0.000000</td>\n    </tr>\n    <tr>\n      <th>United Kingdom</th>\n      <td>2463.008787</td>\n      <td>718.270979</td>\n      <td>6569.767232</td>\n      <td>3233.334322</td>\n      <td>2529.853424</td>\n      <td>2521.011413</td>\n      <td>1612.875329</td>\n      <td>1637.611038</td>\n      <td>932.211677</td>\n      <td>1892.000897</td>\n      <td>...</td>\n      <td>2544.575995</td>\n      <td>214.494374</td>\n      <td>109.164275</td>\n      <td>38.340099</td>\n      <td>344.949860</td>\n      <td>70.249021</td>\n      <td>122.012536</td>\n      <td>78.389966</td>\n      <td>20.766258</td>\n      <td>38.675685</td>\n    </tr>\n    <tr>\n      <th>Netherlands</th>\n      <td>522.432262</td>\n      <td>306.952476</td>\n      <td>1447.455326</td>\n      <td>956.151140</td>\n      <td>547.425423</td>\n      <td>1113.766029</td>\n      <td>524.692707</td>\n      <td>411.364796</td>\n      <td>283.222451</td>\n      <td>474.680714</td>\n      <td>...</td>\n      <td>619.051493</td>\n      <td>55.353642</td>\n      <td>18.160269</td>\n      <td>2.643754</td>\n      <td>85.560965</td>\n      <td>26.556285</td>\n      <td>18.998476</td>\n      <td>17.413233</td>\n      <td>8.926885</td>\n      <td>6.320833</td>\n    </tr>\n  </tbody>\n</table>\n<p>218 rows × 36 columns</p>\n</div>"
     },
     "execution_count": 59,
     "metadata": {},
     "output_type": "execute_result"
    }
   ],
   "source": [
    "df_spec_raw = pd.DataFrame.from_dict(data=dic, orient=\"index\", columns=lst_sdg+lst_cat+lst_dt+lst_cat_dt)\n",
    "df_spec_raw"
   ],
   "metadata": {
    "collapsed": false
   }
  },
  {
   "cell_type": "code",
   "execution_count": 60,
   "outputs": [
    {
     "data": {
      "text/plain": "                                SDG1          SDG2           SDG3  \\\nCosta Rica                 11.620346      4.846962      22.184238   \nDjibouti                    0.000000      0.000000       0.497182   \nBritish Virgin Islands      0.000000      0.000000       0.000000   \nPakistan                  232.625673    272.863896    1278.458961   \nPeru                       40.573444     24.037914     151.416516   \n...                              ...           ...            ...   \nChile                     109.974318     48.649704     272.237137   \nSuriname                    0.583333      1.689286       3.205776   \nUnited Kingdom           2463.008787    718.270979    6569.767232   \nNetherlands               522.432262    306.952476    1447.455326   \nworld                   27851.000000  15794.709524  113784.730159   \n\n                                SDG4          SDG5           SDG6  \\\nCosta Rica                  6.491811     17.698195      40.498821   \nDjibouti                    0.000000      1.750000       1.333333   \nBritish Virgin Islands      0.208333      0.319444       0.000000   \nPakistan                  271.031851    178.267194    1133.430620   \nPeru                       27.188956     46.775481      79.062414   \n...                              ...           ...            ...   \nChile                     136.228628    182.708862     409.047202   \nSuriname                    2.677778      0.200000       0.341982   \nUnited Kingdom           3233.334322   2529.853424    2521.011413   \nNetherlands               956.151140    547.425423    1113.766029   \nworld                   45341.452381  33099.368254  101124.846825   \n\n                                SDG7          SDG8          SDG9  \\\nCosta Rica                  5.932318      6.536299      2.530253   \nDjibouti                    1.133333      0.000000      0.000000   \nBritish Virgin Islands      0.000000      0.000000      0.444444   \nPakistan                  283.967963    167.659723    218.210217   \nPeru                       10.970984     28.194388     23.493587   \n...                              ...           ...           ...   \nChile                     123.273027     71.322740     76.836620   \nSuriname                    0.298413      0.500000      0.000000   \nUnited Kingdom           1612.875329   1637.611038    932.211677   \nNetherlands               524.692707    411.364796    283.222451   \nworld                   39971.106349  20183.583333  16413.189683   \n\n                               SDG10  ...  additive_manufacturing  \\\nCosta Rica                  5.525912  ...                4.120177   \nDjibouti                    0.000000  ...                0.000000   \nBritish Virgin Islands      0.000000  ...                0.000000   \nPakistan                   89.803850  ...               76.671853   \nPeru                       14.024855  ...                6.734921   \n...                              ...  ...                     ...   \nChile                      56.892057  ...               65.717615   \nSuriname                    0.000000  ...                0.000000   \nUnited Kingdom           1892.000897  ...             2544.575995   \nNetherlands               474.680714  ...              619.051493   \nworld                   16117.011905  ...            45711.480952   \n\n                        Environment-AI  Environment-robotics  Environment-IOT  \\\nCosta Rica                    1.581685              1.354762         0.000000   \nDjibouti                      0.000000              0.000000         0.000000   \nBritish Virgin Islands        0.000000              0.000000         0.000000   \nPakistan                     35.479886              9.130907         6.552943   \nPeru                          4.709991              2.295112         0.285714   \n...                                ...                   ...              ...   \nChile                        22.455288              2.785915         2.559524   \nSuriname                      0.000000              0.200000         0.000000   \nUnited Kingdom              214.494374            109.164275        38.340099   \nNetherlands                  55.353642             18.160269         2.643754   \nworld                      6175.722222           1686.088889       853.005556   \n\n                         Society-AI  Society-robotics  Society-IOT  \\\nCosta Rica                 0.266917          1.230769     1.000000   \nDjibouti                   0.000000          0.000000     0.000000   \nBritish Virgin Islands     0.000000          0.000000     0.000000   \nPakistan                  83.426089          6.378739    60.752050   \nPeru                       6.846755          1.029412     5.400000   \n...                             ...               ...          ...   \nChile                     20.814520          3.105577     6.952778   \nSuriname                   0.000000          0.000000     0.000000   \nUnited Kingdom           344.949860         70.249021   122.012536   \nNetherlands               85.560965         26.556285    18.998476   \nworld                   8843.188889       1512.597222  3839.655556   \n\n                         Economy-AI  Economy-robotics  Economy-IOT  \nCosta Rica                 0.690115          0.000000     0.000000  \nDjibouti                   0.000000          0.000000     0.000000  \nBritish Virgin Islands     0.000000          0.000000     0.000000  \nPakistan                  14.271337          1.155732    10.940575  \nPeru                       1.666667          0.043478     0.000000  \n...                             ...               ...          ...  \nChile                      2.159890          2.029814     1.603175  \nSuriname                   0.000000          0.000000     0.000000  \nUnited Kingdom            78.389966         20.766258    38.675685  \nNetherlands               17.413233          8.926885     6.320833  \nworld                   1648.088889        348.697222   609.838889  \n\n[219 rows x 36 columns]",
      "text/html": "<div>\n<style scoped>\n    .dataframe tbody tr th:only-of-type {\n        vertical-align: middle;\n    }\n\n    .dataframe tbody tr th {\n        vertical-align: top;\n    }\n\n    .dataframe thead th {\n        text-align: right;\n    }\n</style>\n<table border=\"1\" class=\"dataframe\">\n  <thead>\n    <tr style=\"text-align: right;\">\n      <th></th>\n      <th>SDG1</th>\n      <th>SDG2</th>\n      <th>SDG3</th>\n      <th>SDG4</th>\n      <th>SDG5</th>\n      <th>SDG6</th>\n      <th>SDG7</th>\n      <th>SDG8</th>\n      <th>SDG9</th>\n      <th>SDG10</th>\n      <th>...</th>\n      <th>additive_manufacturing</th>\n      <th>Environment-AI</th>\n      <th>Environment-robotics</th>\n      <th>Environment-IOT</th>\n      <th>Society-AI</th>\n      <th>Society-robotics</th>\n      <th>Society-IOT</th>\n      <th>Economy-AI</th>\n      <th>Economy-robotics</th>\n      <th>Economy-IOT</th>\n    </tr>\n  </thead>\n  <tbody>\n    <tr>\n      <th>Costa Rica</th>\n      <td>11.620346</td>\n      <td>4.846962</td>\n      <td>22.184238</td>\n      <td>6.491811</td>\n      <td>17.698195</td>\n      <td>40.498821</td>\n      <td>5.932318</td>\n      <td>6.536299</td>\n      <td>2.530253</td>\n      <td>5.525912</td>\n      <td>...</td>\n      <td>4.120177</td>\n      <td>1.581685</td>\n      <td>1.354762</td>\n      <td>0.000000</td>\n      <td>0.266917</td>\n      <td>1.230769</td>\n      <td>1.000000</td>\n      <td>0.690115</td>\n      <td>0.000000</td>\n      <td>0.000000</td>\n    </tr>\n    <tr>\n      <th>Djibouti</th>\n      <td>0.000000</td>\n      <td>0.000000</td>\n      <td>0.497182</td>\n      <td>0.000000</td>\n      <td>1.750000</td>\n      <td>1.333333</td>\n      <td>1.133333</td>\n      <td>0.000000</td>\n      <td>0.000000</td>\n      <td>0.000000</td>\n      <td>...</td>\n      <td>0.000000</td>\n      <td>0.000000</td>\n      <td>0.000000</td>\n      <td>0.000000</td>\n      <td>0.000000</td>\n      <td>0.000000</td>\n      <td>0.000000</td>\n      <td>0.000000</td>\n      <td>0.000000</td>\n      <td>0.000000</td>\n    </tr>\n    <tr>\n      <th>British Virgin Islands</th>\n      <td>0.000000</td>\n      <td>0.000000</td>\n      <td>0.000000</td>\n      <td>0.208333</td>\n      <td>0.319444</td>\n      <td>0.000000</td>\n      <td>0.000000</td>\n      <td>0.000000</td>\n      <td>0.444444</td>\n      <td>0.000000</td>\n      <td>...</td>\n      <td>0.000000</td>\n      <td>0.000000</td>\n      <td>0.000000</td>\n      <td>0.000000</td>\n      <td>0.000000</td>\n      <td>0.000000</td>\n      <td>0.000000</td>\n      <td>0.000000</td>\n      <td>0.000000</td>\n      <td>0.000000</td>\n    </tr>\n    <tr>\n      <th>Pakistan</th>\n      <td>232.625673</td>\n      <td>272.863896</td>\n      <td>1278.458961</td>\n      <td>271.031851</td>\n      <td>178.267194</td>\n      <td>1133.430620</td>\n      <td>283.967963</td>\n      <td>167.659723</td>\n      <td>218.210217</td>\n      <td>89.803850</td>\n      <td>...</td>\n      <td>76.671853</td>\n      <td>35.479886</td>\n      <td>9.130907</td>\n      <td>6.552943</td>\n      <td>83.426089</td>\n      <td>6.378739</td>\n      <td>60.752050</td>\n      <td>14.271337</td>\n      <td>1.155732</td>\n      <td>10.940575</td>\n    </tr>\n    <tr>\n      <th>Peru</th>\n      <td>40.573444</td>\n      <td>24.037914</td>\n      <td>151.416516</td>\n      <td>27.188956</td>\n      <td>46.775481</td>\n      <td>79.062414</td>\n      <td>10.970984</td>\n      <td>28.194388</td>\n      <td>23.493587</td>\n      <td>14.024855</td>\n      <td>...</td>\n      <td>6.734921</td>\n      <td>4.709991</td>\n      <td>2.295112</td>\n      <td>0.285714</td>\n      <td>6.846755</td>\n      <td>1.029412</td>\n      <td>5.400000</td>\n      <td>1.666667</td>\n      <td>0.043478</td>\n      <td>0.000000</td>\n    </tr>\n    <tr>\n      <th>...</th>\n      <td>...</td>\n      <td>...</td>\n      <td>...</td>\n      <td>...</td>\n      <td>...</td>\n      <td>...</td>\n      <td>...</td>\n      <td>...</td>\n      <td>...</td>\n      <td>...</td>\n      <td>...</td>\n      <td>...</td>\n      <td>...</td>\n      <td>...</td>\n      <td>...</td>\n      <td>...</td>\n      <td>...</td>\n      <td>...</td>\n      <td>...</td>\n      <td>...</td>\n      <td>...</td>\n    </tr>\n    <tr>\n      <th>Chile</th>\n      <td>109.974318</td>\n      <td>48.649704</td>\n      <td>272.237137</td>\n      <td>136.228628</td>\n      <td>182.708862</td>\n      <td>409.047202</td>\n      <td>123.273027</td>\n      <td>71.322740</td>\n      <td>76.836620</td>\n      <td>56.892057</td>\n      <td>...</td>\n      <td>65.717615</td>\n      <td>22.455288</td>\n      <td>2.785915</td>\n      <td>2.559524</td>\n      <td>20.814520</td>\n      <td>3.105577</td>\n      <td>6.952778</td>\n      <td>2.159890</td>\n      <td>2.029814</td>\n      <td>1.603175</td>\n    </tr>\n    <tr>\n      <th>Suriname</th>\n      <td>0.583333</td>\n      <td>1.689286</td>\n      <td>3.205776</td>\n      <td>2.677778</td>\n      <td>0.200000</td>\n      <td>0.341982</td>\n      <td>0.298413</td>\n      <td>0.500000</td>\n      <td>0.000000</td>\n      <td>0.000000</td>\n      <td>...</td>\n      <td>0.000000</td>\n      <td>0.000000</td>\n      <td>0.200000</td>\n      <td>0.000000</td>\n      <td>0.000000</td>\n      <td>0.000000</td>\n      <td>0.000000</td>\n      <td>0.000000</td>\n      <td>0.000000</td>\n      <td>0.000000</td>\n    </tr>\n    <tr>\n      <th>United Kingdom</th>\n      <td>2463.008787</td>\n      <td>718.270979</td>\n      <td>6569.767232</td>\n      <td>3233.334322</td>\n      <td>2529.853424</td>\n      <td>2521.011413</td>\n      <td>1612.875329</td>\n      <td>1637.611038</td>\n      <td>932.211677</td>\n      <td>1892.000897</td>\n      <td>...</td>\n      <td>2544.575995</td>\n      <td>214.494374</td>\n      <td>109.164275</td>\n      <td>38.340099</td>\n      <td>344.949860</td>\n      <td>70.249021</td>\n      <td>122.012536</td>\n      <td>78.389966</td>\n      <td>20.766258</td>\n      <td>38.675685</td>\n    </tr>\n    <tr>\n      <th>Netherlands</th>\n      <td>522.432262</td>\n      <td>306.952476</td>\n      <td>1447.455326</td>\n      <td>956.151140</td>\n      <td>547.425423</td>\n      <td>1113.766029</td>\n      <td>524.692707</td>\n      <td>411.364796</td>\n      <td>283.222451</td>\n      <td>474.680714</td>\n      <td>...</td>\n      <td>619.051493</td>\n      <td>55.353642</td>\n      <td>18.160269</td>\n      <td>2.643754</td>\n      <td>85.560965</td>\n      <td>26.556285</td>\n      <td>18.998476</td>\n      <td>17.413233</td>\n      <td>8.926885</td>\n      <td>6.320833</td>\n    </tr>\n    <tr>\n      <th>world</th>\n      <td>27851.000000</td>\n      <td>15794.709524</td>\n      <td>113784.730159</td>\n      <td>45341.452381</td>\n      <td>33099.368254</td>\n      <td>101124.846825</td>\n      <td>39971.106349</td>\n      <td>20183.583333</td>\n      <td>16413.189683</td>\n      <td>16117.011905</td>\n      <td>...</td>\n      <td>45711.480952</td>\n      <td>6175.722222</td>\n      <td>1686.088889</td>\n      <td>853.005556</td>\n      <td>8843.188889</td>\n      <td>1512.597222</td>\n      <td>3839.655556</td>\n      <td>1648.088889</td>\n      <td>348.697222</td>\n      <td>609.838889</td>\n    </tr>\n  </tbody>\n</table>\n<p>219 rows × 36 columns</p>\n</div>"
     },
     "execution_count": 60,
     "metadata": {},
     "output_type": "execute_result"
    }
   ],
   "source": [
    "df_spec_raw.loc['world', :] = df_spec_raw.sum(axis=0)\n",
    "df_spec_raw"
   ],
   "metadata": {
    "collapsed": false
   }
  },
  {
   "cell_type": "code",
   "execution_count": 39,
   "outputs": [
    {
     "data": {
      "text/plain": "        SDG1          SDG2           SDG3          SDG4          SDG5  \\\ntot  27851.0  15794.709524  113784.730159  45341.452381  33099.368254   \n\n              SDG6          SDG7          SDG8          SDG9         SDG10  \\\ntot  101124.846825  39971.106349  20183.583333  16413.189683  16117.011905   \n\n     ...  additive_manufacturing  Environment-AI  Environment-robotics  \\\ntot  ...            46532.880952     6175.722222           1686.088889   \n\n     Environment-IOT   Society-AI  Society-robotics  Society-IOT   Economy-AI  \\\ntot       853.005556  8843.188889       1512.597222  3839.655556  1648.088889   \n\n     Economy-robotics  Economy-IOT  \ntot        348.697222   609.838889  \n\n[1 rows x 36 columns]",
      "text/html": "<div>\n<style scoped>\n    .dataframe tbody tr th:only-of-type {\n        vertical-align: middle;\n    }\n\n    .dataframe tbody tr th {\n        vertical-align: top;\n    }\n\n    .dataframe thead th {\n        text-align: right;\n    }\n</style>\n<table border=\"1\" class=\"dataframe\">\n  <thead>\n    <tr style=\"text-align: right;\">\n      <th></th>\n      <th>SDG1</th>\n      <th>SDG2</th>\n      <th>SDG3</th>\n      <th>SDG4</th>\n      <th>SDG5</th>\n      <th>SDG6</th>\n      <th>SDG7</th>\n      <th>SDG8</th>\n      <th>SDG9</th>\n      <th>SDG10</th>\n      <th>...</th>\n      <th>additive_manufacturing</th>\n      <th>Environment-AI</th>\n      <th>Environment-robotics</th>\n      <th>Environment-IOT</th>\n      <th>Society-AI</th>\n      <th>Society-robotics</th>\n      <th>Society-IOT</th>\n      <th>Economy-AI</th>\n      <th>Economy-robotics</th>\n      <th>Economy-IOT</th>\n    </tr>\n  </thead>\n  <tbody>\n    <tr>\n      <th>tot</th>\n      <td>27851.0</td>\n      <td>15794.709524</td>\n      <td>113784.730159</td>\n      <td>45341.452381</td>\n      <td>33099.368254</td>\n      <td>101124.846825</td>\n      <td>39971.106349</td>\n      <td>20183.583333</td>\n      <td>16413.189683</td>\n      <td>16117.011905</td>\n      <td>...</td>\n      <td>46532.880952</td>\n      <td>6175.722222</td>\n      <td>1686.088889</td>\n      <td>853.005556</td>\n      <td>8843.188889</td>\n      <td>1512.597222</td>\n      <td>3839.655556</td>\n      <td>1648.088889</td>\n      <td>348.697222</td>\n      <td>609.838889</td>\n    </tr>\n  </tbody>\n</table>\n<p>1 rows × 36 columns</p>\n</div>"
     },
     "execution_count": 39,
     "metadata": {},
     "output_type": "execute_result"
    }
   ],
   "source": [
    "df_world = pd.DataFrame.from_dict(data=dic_world, orient=\"index\", columns=['tot']).transpose()\n",
    "df_world"
   ],
   "metadata": {
    "collapsed": false
   }
  },
  {
   "cell_type": "code",
   "execution_count": 64,
   "outputs": [
    {
     "data": {
      "text/plain": "['Australia',\n 'Canada',\n 'China',\n 'Iceland',\n 'Israel',\n 'Japan',\n 'Norway',\n 'South Korea',\n 'Switzerland',\n 'United Kingdom',\n 'United States']"
     },
     "execution_count": 64,
     "metadata": {},
     "output_type": "execute_result"
    }
   ],
   "source": [
    "# Keeping only some relevant countries\n",
    "all_pub_wos = pd.read_excel(\"../data/total_number_pubs_2010_2022.xlsx\", index_col=0)\n",
    "tot_pub_countries = all_pub_wos.loc['TOT', :]\n",
    "index_countries = list(tot_pub_countries.index)[2:]\n",
    "lst_eu = [\"Austria\", \"Belgium\", \"Bulgaria\", \"Croatia\", \"Cyprus\", \"Czech Republic\", \"Denmark\",\n",
    "          \"Estonia\", \"Finland\", \"France\", \"Germany\", \"Greece\", \"Hungary\", \"Ireland\", \"Italy\",\n",
    "          \"Latvia\", \"Lithuania\", \"Luxembourg\", \"Malta\", \"Netherlands\", \"Poland\",\n",
    "          \"Portugal\", \"Romania\" ,\"Slovakia\", \"Slovenia\", \"Spain\", \"Sweden\"]\n",
    "lst_eu.sort()\n",
    "rest = sorted(list(set(index_countries).difference(set(lst_eu))))\n",
    "rest.remove('Liechtenstein')\n",
    "rest"
   ],
   "metadata": {
    "collapsed": false
   }
  },
  {
   "cell_type": "code",
   "execution_count": 58,
   "outputs": [
    {
     "ename": "KeyError",
     "evalue": "\"None of [Index(['Environment', 'Society', 'Economy'], dtype='object')] are in the [columns]\"",
     "output_type": "error",
     "traceback": [
      "\u001B[0;31m---------------------------------------------------------------------------\u001B[0m",
      "\u001B[0;31mKeyError\u001B[0m                                  Traceback (most recent call last)",
      "Cell \u001B[0;32mIn [58], line 1\u001B[0m\n\u001B[0;32m----> 1\u001B[0m df_spec_raw_categories \u001B[38;5;241m=\u001B[39m \u001B[43mdf_spec_raw\u001B[49m\u001B[38;5;241;43m.\u001B[39;49m\u001B[43mloc\u001B[49m\u001B[43m[\u001B[49m\u001B[43m:\u001B[49m\u001B[43m,\u001B[49m\u001B[43m \u001B[49m\u001B[43m[\u001B[49m\u001B[38;5;124;43m'\u001B[39;49m\u001B[38;5;124;43mEnvironment\u001B[39;49m\u001B[38;5;124;43m'\u001B[39;49m\u001B[43m,\u001B[49m\u001B[43m \u001B[49m\u001B[38;5;124;43m'\u001B[39;49m\u001B[38;5;124;43mSociety\u001B[39;49m\u001B[38;5;124;43m'\u001B[39;49m\u001B[43m,\u001B[49m\u001B[43m \u001B[49m\u001B[38;5;124;43m'\u001B[39;49m\u001B[38;5;124;43mEconomy\u001B[39;49m\u001B[38;5;124;43m'\u001B[39;49m\u001B[43m]\u001B[49m\u001B[43m]\u001B[49m\n\u001B[1;32m      2\u001B[0m df_spec_raw_categories\u001B[38;5;241m.\u001B[39mloc[:, \u001B[38;5;124m'\u001B[39m\u001B[38;5;124mtot\u001B[39m\u001B[38;5;124m'\u001B[39m] \u001B[38;5;241m=\u001B[39m df_spec_raw_categories\u001B[38;5;241m.\u001B[39msum(axis\u001B[38;5;241m=\u001B[39m\u001B[38;5;241m1\u001B[39m)\n\u001B[1;32m      3\u001B[0m \u001B[38;5;66;03m# Once we have summed everything, we remove all irrelevant countries\u001B[39;00m\n",
      "File \u001B[0;32m~/anaconda3/envs/DS10/lib/python3.10/site-packages/pandas/core/indexing.py:1067\u001B[0m, in \u001B[0;36m_LocationIndexer.__getitem__\u001B[0;34m(self, key)\u001B[0m\n\u001B[1;32m   1065\u001B[0m     \u001B[38;5;28;01mif\u001B[39;00m \u001B[38;5;28mself\u001B[39m\u001B[38;5;241m.\u001B[39m_is_scalar_access(key):\n\u001B[1;32m   1066\u001B[0m         \u001B[38;5;28;01mreturn\u001B[39;00m \u001B[38;5;28mself\u001B[39m\u001B[38;5;241m.\u001B[39mobj\u001B[38;5;241m.\u001B[39m_get_value(\u001B[38;5;241m*\u001B[39mkey, takeable\u001B[38;5;241m=\u001B[39m\u001B[38;5;28mself\u001B[39m\u001B[38;5;241m.\u001B[39m_takeable)\n\u001B[0;32m-> 1067\u001B[0m     \u001B[38;5;28;01mreturn\u001B[39;00m \u001B[38;5;28;43mself\u001B[39;49m\u001B[38;5;241;43m.\u001B[39;49m\u001B[43m_getitem_tuple\u001B[49m\u001B[43m(\u001B[49m\u001B[43mkey\u001B[49m\u001B[43m)\u001B[49m\n\u001B[1;32m   1068\u001B[0m \u001B[38;5;28;01melse\u001B[39;00m:\n\u001B[1;32m   1069\u001B[0m     \u001B[38;5;66;03m# we by definition only have the 0th axis\u001B[39;00m\n\u001B[1;32m   1070\u001B[0m     axis \u001B[38;5;241m=\u001B[39m \u001B[38;5;28mself\u001B[39m\u001B[38;5;241m.\u001B[39maxis \u001B[38;5;129;01mor\u001B[39;00m \u001B[38;5;241m0\u001B[39m\n",
      "File \u001B[0;32m~/anaconda3/envs/DS10/lib/python3.10/site-packages/pandas/core/indexing.py:1256\u001B[0m, in \u001B[0;36m_LocIndexer._getitem_tuple\u001B[0;34m(self, tup)\u001B[0m\n\u001B[1;32m   1253\u001B[0m \u001B[38;5;28;01mif\u001B[39;00m \u001B[38;5;28mself\u001B[39m\u001B[38;5;241m.\u001B[39m_multi_take_opportunity(tup):\n\u001B[1;32m   1254\u001B[0m     \u001B[38;5;28;01mreturn\u001B[39;00m \u001B[38;5;28mself\u001B[39m\u001B[38;5;241m.\u001B[39m_multi_take(tup)\n\u001B[0;32m-> 1256\u001B[0m \u001B[38;5;28;01mreturn\u001B[39;00m \u001B[38;5;28;43mself\u001B[39;49m\u001B[38;5;241;43m.\u001B[39;49m\u001B[43m_getitem_tuple_same_dim\u001B[49m\u001B[43m(\u001B[49m\u001B[43mtup\u001B[49m\u001B[43m)\u001B[49m\n",
      "File \u001B[0;32m~/anaconda3/envs/DS10/lib/python3.10/site-packages/pandas/core/indexing.py:924\u001B[0m, in \u001B[0;36m_LocationIndexer._getitem_tuple_same_dim\u001B[0;34m(self, tup)\u001B[0m\n\u001B[1;32m    921\u001B[0m \u001B[38;5;28;01mif\u001B[39;00m com\u001B[38;5;241m.\u001B[39mis_null_slice(key):\n\u001B[1;32m    922\u001B[0m     \u001B[38;5;28;01mcontinue\u001B[39;00m\n\u001B[0;32m--> 924\u001B[0m retval \u001B[38;5;241m=\u001B[39m \u001B[38;5;28;43mgetattr\u001B[39;49m\u001B[43m(\u001B[49m\u001B[43mretval\u001B[49m\u001B[43m,\u001B[49m\u001B[43m \u001B[49m\u001B[38;5;28;43mself\u001B[39;49m\u001B[38;5;241;43m.\u001B[39;49m\u001B[43mname\u001B[49m\u001B[43m)\u001B[49m\u001B[38;5;241;43m.\u001B[39;49m\u001B[43m_getitem_axis\u001B[49m\u001B[43m(\u001B[49m\u001B[43mkey\u001B[49m\u001B[43m,\u001B[49m\u001B[43m \u001B[49m\u001B[43maxis\u001B[49m\u001B[38;5;241;43m=\u001B[39;49m\u001B[43mi\u001B[49m\u001B[43m)\u001B[49m\n\u001B[1;32m    925\u001B[0m \u001B[38;5;66;03m# We should never have retval.ndim < self.ndim, as that should\u001B[39;00m\n\u001B[1;32m    926\u001B[0m \u001B[38;5;66;03m#  be handled by the _getitem_lowerdim call above.\u001B[39;00m\n\u001B[1;32m    927\u001B[0m \u001B[38;5;28;01massert\u001B[39;00m retval\u001B[38;5;241m.\u001B[39mndim \u001B[38;5;241m==\u001B[39m \u001B[38;5;28mself\u001B[39m\u001B[38;5;241m.\u001B[39mndim\n",
      "File \u001B[0;32m~/anaconda3/envs/DS10/lib/python3.10/site-packages/pandas/core/indexing.py:1301\u001B[0m, in \u001B[0;36m_LocIndexer._getitem_axis\u001B[0;34m(self, key, axis)\u001B[0m\n\u001B[1;32m   1298\u001B[0m     \u001B[38;5;28;01mif\u001B[39;00m \u001B[38;5;28mhasattr\u001B[39m(key, \u001B[38;5;124m\"\u001B[39m\u001B[38;5;124mndim\u001B[39m\u001B[38;5;124m\"\u001B[39m) \u001B[38;5;129;01mand\u001B[39;00m key\u001B[38;5;241m.\u001B[39mndim \u001B[38;5;241m>\u001B[39m \u001B[38;5;241m1\u001B[39m:\n\u001B[1;32m   1299\u001B[0m         \u001B[38;5;28;01mraise\u001B[39;00m \u001B[38;5;167;01mValueError\u001B[39;00m(\u001B[38;5;124m\"\u001B[39m\u001B[38;5;124mCannot index with multidimensional key\u001B[39m\u001B[38;5;124m\"\u001B[39m)\n\u001B[0;32m-> 1301\u001B[0m     \u001B[38;5;28;01mreturn\u001B[39;00m \u001B[38;5;28;43mself\u001B[39;49m\u001B[38;5;241;43m.\u001B[39;49m\u001B[43m_getitem_iterable\u001B[49m\u001B[43m(\u001B[49m\u001B[43mkey\u001B[49m\u001B[43m,\u001B[49m\u001B[43m \u001B[49m\u001B[43maxis\u001B[49m\u001B[38;5;241;43m=\u001B[39;49m\u001B[43maxis\u001B[49m\u001B[43m)\u001B[49m\n\u001B[1;32m   1303\u001B[0m \u001B[38;5;66;03m# nested tuple slicing\u001B[39;00m\n\u001B[1;32m   1304\u001B[0m \u001B[38;5;28;01mif\u001B[39;00m is_nested_tuple(key, labels):\n",
      "File \u001B[0;32m~/anaconda3/envs/DS10/lib/python3.10/site-packages/pandas/core/indexing.py:1239\u001B[0m, in \u001B[0;36m_LocIndexer._getitem_iterable\u001B[0;34m(self, key, axis)\u001B[0m\n\u001B[1;32m   1236\u001B[0m \u001B[38;5;28mself\u001B[39m\u001B[38;5;241m.\u001B[39m_validate_key(key, axis)\n\u001B[1;32m   1238\u001B[0m \u001B[38;5;66;03m# A collection of keys\u001B[39;00m\n\u001B[0;32m-> 1239\u001B[0m keyarr, indexer \u001B[38;5;241m=\u001B[39m \u001B[38;5;28;43mself\u001B[39;49m\u001B[38;5;241;43m.\u001B[39;49m\u001B[43m_get_listlike_indexer\u001B[49m\u001B[43m(\u001B[49m\u001B[43mkey\u001B[49m\u001B[43m,\u001B[49m\u001B[43m \u001B[49m\u001B[43maxis\u001B[49m\u001B[43m)\u001B[49m\n\u001B[1;32m   1240\u001B[0m \u001B[38;5;28;01mreturn\u001B[39;00m \u001B[38;5;28mself\u001B[39m\u001B[38;5;241m.\u001B[39mobj\u001B[38;5;241m.\u001B[39m_reindex_with_indexers(\n\u001B[1;32m   1241\u001B[0m     {axis: [keyarr, indexer]}, copy\u001B[38;5;241m=\u001B[39m\u001B[38;5;28;01mTrue\u001B[39;00m, allow_dups\u001B[38;5;241m=\u001B[39m\u001B[38;5;28;01mTrue\u001B[39;00m\n\u001B[1;32m   1242\u001B[0m )\n",
      "File \u001B[0;32m~/anaconda3/envs/DS10/lib/python3.10/site-packages/pandas/core/indexing.py:1432\u001B[0m, in \u001B[0;36m_LocIndexer._get_listlike_indexer\u001B[0;34m(self, key, axis)\u001B[0m\n\u001B[1;32m   1429\u001B[0m ax \u001B[38;5;241m=\u001B[39m \u001B[38;5;28mself\u001B[39m\u001B[38;5;241m.\u001B[39mobj\u001B[38;5;241m.\u001B[39m_get_axis(axis)\n\u001B[1;32m   1430\u001B[0m axis_name \u001B[38;5;241m=\u001B[39m \u001B[38;5;28mself\u001B[39m\u001B[38;5;241m.\u001B[39mobj\u001B[38;5;241m.\u001B[39m_get_axis_name(axis)\n\u001B[0;32m-> 1432\u001B[0m keyarr, indexer \u001B[38;5;241m=\u001B[39m \u001B[43max\u001B[49m\u001B[38;5;241;43m.\u001B[39;49m\u001B[43m_get_indexer_strict\u001B[49m\u001B[43m(\u001B[49m\u001B[43mkey\u001B[49m\u001B[43m,\u001B[49m\u001B[43m \u001B[49m\u001B[43maxis_name\u001B[49m\u001B[43m)\u001B[49m\n\u001B[1;32m   1434\u001B[0m \u001B[38;5;28;01mreturn\u001B[39;00m keyarr, indexer\n",
      "File \u001B[0;32m~/anaconda3/envs/DS10/lib/python3.10/site-packages/pandas/core/indexes/base.py:6111\u001B[0m, in \u001B[0;36mIndex._get_indexer_strict\u001B[0;34m(self, key, axis_name)\u001B[0m\n\u001B[1;32m   6108\u001B[0m \u001B[38;5;28;01melse\u001B[39;00m:\n\u001B[1;32m   6109\u001B[0m     keyarr, indexer, new_indexer \u001B[38;5;241m=\u001B[39m \u001B[38;5;28mself\u001B[39m\u001B[38;5;241m.\u001B[39m_reindex_non_unique(keyarr)\n\u001B[0;32m-> 6111\u001B[0m \u001B[38;5;28;43mself\u001B[39;49m\u001B[38;5;241;43m.\u001B[39;49m\u001B[43m_raise_if_missing\u001B[49m\u001B[43m(\u001B[49m\u001B[43mkeyarr\u001B[49m\u001B[43m,\u001B[49m\u001B[43m \u001B[49m\u001B[43mindexer\u001B[49m\u001B[43m,\u001B[49m\u001B[43m \u001B[49m\u001B[43maxis_name\u001B[49m\u001B[43m)\u001B[49m\n\u001B[1;32m   6113\u001B[0m keyarr \u001B[38;5;241m=\u001B[39m \u001B[38;5;28mself\u001B[39m\u001B[38;5;241m.\u001B[39mtake(indexer)\n\u001B[1;32m   6114\u001B[0m \u001B[38;5;28;01mif\u001B[39;00m \u001B[38;5;28misinstance\u001B[39m(key, Index):\n\u001B[1;32m   6115\u001B[0m     \u001B[38;5;66;03m# GH 42790 - Preserve name from an Index\u001B[39;00m\n",
      "File \u001B[0;32m~/anaconda3/envs/DS10/lib/python3.10/site-packages/pandas/core/indexes/base.py:6171\u001B[0m, in \u001B[0;36mIndex._raise_if_missing\u001B[0;34m(self, key, indexer, axis_name)\u001B[0m\n\u001B[1;32m   6169\u001B[0m     \u001B[38;5;28;01mif\u001B[39;00m use_interval_msg:\n\u001B[1;32m   6170\u001B[0m         key \u001B[38;5;241m=\u001B[39m \u001B[38;5;28mlist\u001B[39m(key)\n\u001B[0;32m-> 6171\u001B[0m     \u001B[38;5;28;01mraise\u001B[39;00m \u001B[38;5;167;01mKeyError\u001B[39;00m(\u001B[38;5;124mf\u001B[39m\u001B[38;5;124m\"\u001B[39m\u001B[38;5;124mNone of [\u001B[39m\u001B[38;5;132;01m{\u001B[39;00mkey\u001B[38;5;132;01m}\u001B[39;00m\u001B[38;5;124m] are in the [\u001B[39m\u001B[38;5;132;01m{\u001B[39;00maxis_name\u001B[38;5;132;01m}\u001B[39;00m\u001B[38;5;124m]\u001B[39m\u001B[38;5;124m\"\u001B[39m)\n\u001B[1;32m   6173\u001B[0m not_found \u001B[38;5;241m=\u001B[39m \u001B[38;5;28mlist\u001B[39m(ensure_index(key)[missing_mask\u001B[38;5;241m.\u001B[39mnonzero()[\u001B[38;5;241m0\u001B[39m]]\u001B[38;5;241m.\u001B[39munique())\n\u001B[1;32m   6174\u001B[0m \u001B[38;5;28;01mraise\u001B[39;00m \u001B[38;5;167;01mKeyError\u001B[39;00m(\u001B[38;5;124mf\u001B[39m\u001B[38;5;124m\"\u001B[39m\u001B[38;5;132;01m{\u001B[39;00mnot_found\u001B[38;5;132;01m}\u001B[39;00m\u001B[38;5;124m not in index\u001B[39m\u001B[38;5;124m\"\u001B[39m)\n",
      "\u001B[0;31mKeyError\u001B[0m: \"None of [Index(['Environment', 'Society', 'Economy'], dtype='object')] are in the [columns]\""
     ]
    }
   ],
   "source": [
    "df_spec_raw_categories = df_spec_raw.loc[:, ['Environment', 'Society', 'Economy']]\n",
    "df_spec_raw_categories.loc[:, 'tot'] = df_spec_raw_categories.sum(axis=1)\n"
   ],
   "metadata": {
    "collapsed": false
   }
  },
  {
   "cell_type": "code",
   "execution_count": 41,
   "outputs": [
    {
     "data": {
      "text/plain": "                                   AI      big_data           IOT  \\\nCosta Rica                  42.452743      2.651587      5.570238   \nDjibouti                     0.000000      0.000000      0.000000   \nBritish Virgin Islands       0.000000      0.000000      0.000000   \nPakistan                  3286.726553    259.439355    896.176491   \nPeru                       158.713209      7.177040     11.364881   \n...                               ...           ...           ...   \nChile                      900.570854     74.875789     64.964029   \nSuriname                     2.450000      0.000000      0.000000   \nUnited Kingdom           15597.854576   2133.699738   2702.992236   \nNetherlands               4355.906330    522.020797    638.041692   \nworld                   390231.914285  38654.680952  68559.164286   \n\n                        computing_infrastructure   blockchain       robotics  \\\nCosta Rica                              7.728227     0.000000      15.655597   \nDjibouti                                0.000000     0.000000       0.000000   \nBritish Virgin Islands                  0.000000     0.000000       0.000000   \nPakistan                              681.182289   103.892222     434.254503   \nPeru                                   16.900621     3.375000      22.645160   \n...                                          ...          ...            ...   \nChile                                  68.248133     9.453571     167.676834   \nSuriname                                0.000000     0.000000       0.200000   \nUnited Kingdom                       2245.691577   415.988247    4752.807304   \nNetherlands                           412.758596    91.634319    1418.260439   \nworld                               58050.680952  7052.014286  107626.064286   \n\n                        additive_manufacturing            tot  \nCosta Rica                            4.120177      78.178570  \nDjibouti                              0.000000       0.000000  \nBritish Virgin Islands                0.000000       0.000000  \nPakistan                             76.671853    5738.343267  \nPeru                                  6.734921     226.910831  \n...                                        ...            ...  \nChile                                65.717615    1351.506824  \nSuriname                              0.000000       2.650000  \nUnited Kingdom                     2544.575995   30393.609672  \nNetherlands                         619.051493    8057.673666  \nworld                             45711.480952  715886.000000  \n\n[219 rows x 8 columns]",
      "text/html": "<div>\n<style scoped>\n    .dataframe tbody tr th:only-of-type {\n        vertical-align: middle;\n    }\n\n    .dataframe tbody tr th {\n        vertical-align: top;\n    }\n\n    .dataframe thead th {\n        text-align: right;\n    }\n</style>\n<table border=\"1\" class=\"dataframe\">\n  <thead>\n    <tr style=\"text-align: right;\">\n      <th></th>\n      <th>AI</th>\n      <th>big_data</th>\n      <th>IOT</th>\n      <th>computing_infrastructure</th>\n      <th>blockchain</th>\n      <th>robotics</th>\n      <th>additive_manufacturing</th>\n      <th>tot</th>\n    </tr>\n  </thead>\n  <tbody>\n    <tr>\n      <th>Costa Rica</th>\n      <td>42.452743</td>\n      <td>2.651587</td>\n      <td>5.570238</td>\n      <td>7.728227</td>\n      <td>0.000000</td>\n      <td>15.655597</td>\n      <td>4.120177</td>\n      <td>78.178570</td>\n    </tr>\n    <tr>\n      <th>Djibouti</th>\n      <td>0.000000</td>\n      <td>0.000000</td>\n      <td>0.000000</td>\n      <td>0.000000</td>\n      <td>0.000000</td>\n      <td>0.000000</td>\n      <td>0.000000</td>\n      <td>0.000000</td>\n    </tr>\n    <tr>\n      <th>British Virgin Islands</th>\n      <td>0.000000</td>\n      <td>0.000000</td>\n      <td>0.000000</td>\n      <td>0.000000</td>\n      <td>0.000000</td>\n      <td>0.000000</td>\n      <td>0.000000</td>\n      <td>0.000000</td>\n    </tr>\n    <tr>\n      <th>Pakistan</th>\n      <td>3286.726553</td>\n      <td>259.439355</td>\n      <td>896.176491</td>\n      <td>681.182289</td>\n      <td>103.892222</td>\n      <td>434.254503</td>\n      <td>76.671853</td>\n      <td>5738.343267</td>\n    </tr>\n    <tr>\n      <th>Peru</th>\n      <td>158.713209</td>\n      <td>7.177040</td>\n      <td>11.364881</td>\n      <td>16.900621</td>\n      <td>3.375000</td>\n      <td>22.645160</td>\n      <td>6.734921</td>\n      <td>226.910831</td>\n    </tr>\n    <tr>\n      <th>...</th>\n      <td>...</td>\n      <td>...</td>\n      <td>...</td>\n      <td>...</td>\n      <td>...</td>\n      <td>...</td>\n      <td>...</td>\n      <td>...</td>\n    </tr>\n    <tr>\n      <th>Chile</th>\n      <td>900.570854</td>\n      <td>74.875789</td>\n      <td>64.964029</td>\n      <td>68.248133</td>\n      <td>9.453571</td>\n      <td>167.676834</td>\n      <td>65.717615</td>\n      <td>1351.506824</td>\n    </tr>\n    <tr>\n      <th>Suriname</th>\n      <td>2.450000</td>\n      <td>0.000000</td>\n      <td>0.000000</td>\n      <td>0.000000</td>\n      <td>0.000000</td>\n      <td>0.200000</td>\n      <td>0.000000</td>\n      <td>2.650000</td>\n    </tr>\n    <tr>\n      <th>United Kingdom</th>\n      <td>15597.854576</td>\n      <td>2133.699738</td>\n      <td>2702.992236</td>\n      <td>2245.691577</td>\n      <td>415.988247</td>\n      <td>4752.807304</td>\n      <td>2544.575995</td>\n      <td>30393.609672</td>\n    </tr>\n    <tr>\n      <th>Netherlands</th>\n      <td>4355.906330</td>\n      <td>522.020797</td>\n      <td>638.041692</td>\n      <td>412.758596</td>\n      <td>91.634319</td>\n      <td>1418.260439</td>\n      <td>619.051493</td>\n      <td>8057.673666</td>\n    </tr>\n    <tr>\n      <th>world</th>\n      <td>390231.914285</td>\n      <td>38654.680952</td>\n      <td>68559.164286</td>\n      <td>58050.680952</td>\n      <td>7052.014286</td>\n      <td>107626.064286</td>\n      <td>45711.480952</td>\n      <td>715886.000000</td>\n    </tr>\n  </tbody>\n</table>\n<p>219 rows × 8 columns</p>\n</div>"
     },
     "execution_count": 41,
     "metadata": {},
     "output_type": "execute_result"
    }
   ],
   "source": [
    "df_spec_raw_dt = df_spec_raw.loc[:, lst_dt]\n",
    "df_spec_raw_dt.loc[:, 'tot'] = df_spec_raw_dt.sum(axis=1)\n",
    "df_spec_raw_dt"
   ],
   "metadata": {
    "collapsed": false
   }
  },
  {
   "cell_type": "code",
   "execution_count": 42,
   "outputs": [
    {
     "data": {
      "text/plain": "                                SDG1          SDG2           SDG3  \\\nCosta Rica                 11.620346      4.846962      22.184238   \nDjibouti                    0.000000      0.000000       0.497182   \nBritish Virgin Islands      0.000000      0.000000       0.000000   \nPakistan                  232.625673    272.863896    1278.458961   \nPeru                       40.573444     24.037914     151.416516   \n...                              ...           ...            ...   \nChile                     109.974318     48.649704     272.237137   \nSuriname                    0.583333      1.689286       3.205776   \nUnited Kingdom           2463.008787    718.270979    6569.767232   \nNetherlands               522.432262    306.952476    1447.455326   \nworld                   27851.000000  15794.709524  113784.730159   \n\n                                SDG4          SDG5           SDG6  \\\nCosta Rica                  6.491811     17.698195      40.498821   \nDjibouti                    0.000000      1.750000       1.333333   \nBritish Virgin Islands      0.208333      0.319444       0.000000   \nPakistan                  271.031851    178.267194    1133.430620   \nPeru                       27.188956     46.775481      79.062414   \n...                              ...           ...            ...   \nChile                     136.228628    182.708862     409.047202   \nSuriname                    2.677778      0.200000       0.341982   \nUnited Kingdom           3233.334322   2529.853424    2521.011413   \nNetherlands               956.151140    547.425423    1113.766029   \nworld                   45341.452381  33099.368254  101124.846825   \n\n                                SDG7          SDG8          SDG9  \\\nCosta Rica                  5.932318      6.536299      2.530253   \nDjibouti                    1.133333      0.000000      0.000000   \nBritish Virgin Islands      0.000000      0.000000      0.444444   \nPakistan                  283.967963    167.659723    218.210217   \nPeru                       10.970984     28.194388     23.493587   \n...                              ...           ...           ...   \nChile                     123.273027     71.322740     76.836620   \nSuriname                    0.298413      0.500000      0.000000   \nUnited Kingdom           1612.875329   1637.611038    932.211677   \nNetherlands               524.692707    411.364796    283.222451   \nworld                   39971.106349  20183.583333  16413.189683   \n\n                               SDG10         SDG11         SDG12  \\\nCosta Rica                  5.525912     20.046035     24.704008   \nDjibouti                    0.000000      0.000000      0.000000   \nBritish Virgin Islands      0.000000      0.000000      0.000000   \nPakistan                   89.803850    411.148771    625.825926   \nPeru                       14.024855     36.538973     46.574410   \n...                              ...           ...           ...   \nChile                      56.892057    255.245626    228.418731   \nSuriname                    0.000000      1.100000      0.083333   \nUnited Kingdom           1892.000897   2954.232053   2504.358263   \nNetherlands               474.680714   1132.491660   1087.581950   \nworld                   16117.011905  56068.473810  57912.059524   \n\n                                SDG13          SDG14         SDG15  \\\nCosta Rica                 132.536268     138.149292     65.740721   \nDjibouti                     0.983631       4.213889      0.447917   \nBritish Virgin Islands       0.143478       0.569444      0.208333   \nPakistan                  1258.063896     393.294999    420.742353   \nPeru                       206.667291     162.426031     88.703927   \n...                               ...            ...           ...   \nChile                     1109.285515    1272.279206    280.048366   \nSuriname                     1.840668       2.966847      1.261155   \nUnited Kingdom           16259.382303    6124.986704   2723.655900   \nNetherlands               4432.123599    1566.230074    786.829078   \nworld                   258702.432540  136898.575397  59832.021429   \n\n                               SDG16         SDG17           tot  \nCosta Rica                 15.020039     14.905047  5.349666e+02  \nDjibouti                    0.250000      0.083333  1.069262e+01  \nBritish Virgin Islands      0.000000      0.000000  1.893478e+00  \nPakistan                  266.016252    346.303137  7.847715e+03  \nPeru                       38.998254     56.931063  1.082578e+03  \n...                              ...           ...           ...  \nChile                     118.513986    114.234930  4.865197e+03  \nSuriname                    1.346561      1.755952  1.985108e+01  \nUnited Kingdom           4128.571649   2400.787567  6.120592e+04  \nNetherlands              1084.449138    655.935762  1.733378e+04  \nworld                   42896.044444  30867.394444  1.072858e+06  \n\n[219 rows x 18 columns]",
      "text/html": "<div>\n<style scoped>\n    .dataframe tbody tr th:only-of-type {\n        vertical-align: middle;\n    }\n\n    .dataframe tbody tr th {\n        vertical-align: top;\n    }\n\n    .dataframe thead th {\n        text-align: right;\n    }\n</style>\n<table border=\"1\" class=\"dataframe\">\n  <thead>\n    <tr style=\"text-align: right;\">\n      <th></th>\n      <th>SDG1</th>\n      <th>SDG2</th>\n      <th>SDG3</th>\n      <th>SDG4</th>\n      <th>SDG5</th>\n      <th>SDG6</th>\n      <th>SDG7</th>\n      <th>SDG8</th>\n      <th>SDG9</th>\n      <th>SDG10</th>\n      <th>SDG11</th>\n      <th>SDG12</th>\n      <th>SDG13</th>\n      <th>SDG14</th>\n      <th>SDG15</th>\n      <th>SDG16</th>\n      <th>SDG17</th>\n      <th>tot</th>\n    </tr>\n  </thead>\n  <tbody>\n    <tr>\n      <th>Costa Rica</th>\n      <td>11.620346</td>\n      <td>4.846962</td>\n      <td>22.184238</td>\n      <td>6.491811</td>\n      <td>17.698195</td>\n      <td>40.498821</td>\n      <td>5.932318</td>\n      <td>6.536299</td>\n      <td>2.530253</td>\n      <td>5.525912</td>\n      <td>20.046035</td>\n      <td>24.704008</td>\n      <td>132.536268</td>\n      <td>138.149292</td>\n      <td>65.740721</td>\n      <td>15.020039</td>\n      <td>14.905047</td>\n      <td>5.349666e+02</td>\n    </tr>\n    <tr>\n      <th>Djibouti</th>\n      <td>0.000000</td>\n      <td>0.000000</td>\n      <td>0.497182</td>\n      <td>0.000000</td>\n      <td>1.750000</td>\n      <td>1.333333</td>\n      <td>1.133333</td>\n      <td>0.000000</td>\n      <td>0.000000</td>\n      <td>0.000000</td>\n      <td>0.000000</td>\n      <td>0.000000</td>\n      <td>0.983631</td>\n      <td>4.213889</td>\n      <td>0.447917</td>\n      <td>0.250000</td>\n      <td>0.083333</td>\n      <td>1.069262e+01</td>\n    </tr>\n    <tr>\n      <th>British Virgin Islands</th>\n      <td>0.000000</td>\n      <td>0.000000</td>\n      <td>0.000000</td>\n      <td>0.208333</td>\n      <td>0.319444</td>\n      <td>0.000000</td>\n      <td>0.000000</td>\n      <td>0.000000</td>\n      <td>0.444444</td>\n      <td>0.000000</td>\n      <td>0.000000</td>\n      <td>0.000000</td>\n      <td>0.143478</td>\n      <td>0.569444</td>\n      <td>0.208333</td>\n      <td>0.000000</td>\n      <td>0.000000</td>\n      <td>1.893478e+00</td>\n    </tr>\n    <tr>\n      <th>Pakistan</th>\n      <td>232.625673</td>\n      <td>272.863896</td>\n      <td>1278.458961</td>\n      <td>271.031851</td>\n      <td>178.267194</td>\n      <td>1133.430620</td>\n      <td>283.967963</td>\n      <td>167.659723</td>\n      <td>218.210217</td>\n      <td>89.803850</td>\n      <td>411.148771</td>\n      <td>625.825926</td>\n      <td>1258.063896</td>\n      <td>393.294999</td>\n      <td>420.742353</td>\n      <td>266.016252</td>\n      <td>346.303137</td>\n      <td>7.847715e+03</td>\n    </tr>\n    <tr>\n      <th>Peru</th>\n      <td>40.573444</td>\n      <td>24.037914</td>\n      <td>151.416516</td>\n      <td>27.188956</td>\n      <td>46.775481</td>\n      <td>79.062414</td>\n      <td>10.970984</td>\n      <td>28.194388</td>\n      <td>23.493587</td>\n      <td>14.024855</td>\n      <td>36.538973</td>\n      <td>46.574410</td>\n      <td>206.667291</td>\n      <td>162.426031</td>\n      <td>88.703927</td>\n      <td>38.998254</td>\n      <td>56.931063</td>\n      <td>1.082578e+03</td>\n    </tr>\n    <tr>\n      <th>...</th>\n      <td>...</td>\n      <td>...</td>\n      <td>...</td>\n      <td>...</td>\n      <td>...</td>\n      <td>...</td>\n      <td>...</td>\n      <td>...</td>\n      <td>...</td>\n      <td>...</td>\n      <td>...</td>\n      <td>...</td>\n      <td>...</td>\n      <td>...</td>\n      <td>...</td>\n      <td>...</td>\n      <td>...</td>\n      <td>...</td>\n    </tr>\n    <tr>\n      <th>Chile</th>\n      <td>109.974318</td>\n      <td>48.649704</td>\n      <td>272.237137</td>\n      <td>136.228628</td>\n      <td>182.708862</td>\n      <td>409.047202</td>\n      <td>123.273027</td>\n      <td>71.322740</td>\n      <td>76.836620</td>\n      <td>56.892057</td>\n      <td>255.245626</td>\n      <td>228.418731</td>\n      <td>1109.285515</td>\n      <td>1272.279206</td>\n      <td>280.048366</td>\n      <td>118.513986</td>\n      <td>114.234930</td>\n      <td>4.865197e+03</td>\n    </tr>\n    <tr>\n      <th>Suriname</th>\n      <td>0.583333</td>\n      <td>1.689286</td>\n      <td>3.205776</td>\n      <td>2.677778</td>\n      <td>0.200000</td>\n      <td>0.341982</td>\n      <td>0.298413</td>\n      <td>0.500000</td>\n      <td>0.000000</td>\n      <td>0.000000</td>\n      <td>1.100000</td>\n      <td>0.083333</td>\n      <td>1.840668</td>\n      <td>2.966847</td>\n      <td>1.261155</td>\n      <td>1.346561</td>\n      <td>1.755952</td>\n      <td>1.985108e+01</td>\n    </tr>\n    <tr>\n      <th>United Kingdom</th>\n      <td>2463.008787</td>\n      <td>718.270979</td>\n      <td>6569.767232</td>\n      <td>3233.334322</td>\n      <td>2529.853424</td>\n      <td>2521.011413</td>\n      <td>1612.875329</td>\n      <td>1637.611038</td>\n      <td>932.211677</td>\n      <td>1892.000897</td>\n      <td>2954.232053</td>\n      <td>2504.358263</td>\n      <td>16259.382303</td>\n      <td>6124.986704</td>\n      <td>2723.655900</td>\n      <td>4128.571649</td>\n      <td>2400.787567</td>\n      <td>6.120592e+04</td>\n    </tr>\n    <tr>\n      <th>Netherlands</th>\n      <td>522.432262</td>\n      <td>306.952476</td>\n      <td>1447.455326</td>\n      <td>956.151140</td>\n      <td>547.425423</td>\n      <td>1113.766029</td>\n      <td>524.692707</td>\n      <td>411.364796</td>\n      <td>283.222451</td>\n      <td>474.680714</td>\n      <td>1132.491660</td>\n      <td>1087.581950</td>\n      <td>4432.123599</td>\n      <td>1566.230074</td>\n      <td>786.829078</td>\n      <td>1084.449138</td>\n      <td>655.935762</td>\n      <td>1.733378e+04</td>\n    </tr>\n    <tr>\n      <th>world</th>\n      <td>27851.000000</td>\n      <td>15794.709524</td>\n      <td>113784.730159</td>\n      <td>45341.452381</td>\n      <td>33099.368254</td>\n      <td>101124.846825</td>\n      <td>39971.106349</td>\n      <td>20183.583333</td>\n      <td>16413.189683</td>\n      <td>16117.011905</td>\n      <td>56068.473810</td>\n      <td>57912.059524</td>\n      <td>258702.432540</td>\n      <td>136898.575397</td>\n      <td>59832.021429</td>\n      <td>42896.044444</td>\n      <td>30867.394444</td>\n      <td>1.072858e+06</td>\n    </tr>\n  </tbody>\n</table>\n<p>219 rows × 18 columns</p>\n</div>"
     },
     "execution_count": 42,
     "metadata": {},
     "output_type": "execute_result"
    }
   ],
   "source": [
    "df_spec_raw_sdg = df_spec_raw.loc[:, lst_sdg]\n",
    "df_spec_raw_sdg.loc[:, 'tot'] = df_spec_raw_sdg.sum(axis=1)\n",
    "df_spec_raw_sdg"
   ],
   "metadata": {
    "collapsed": false
   }
  },
  {
   "cell_type": "code",
   "execution_count": 43,
   "outputs": [
    {
     "data": {
      "text/plain": "                        Environment-AI  Environment-robotics  Environment-IOT  \\\nCosta Rica                    1.581685              1.354762         0.000000   \nDjibouti                      0.000000              0.000000         0.000000   \nBritish Virgin Islands        0.000000              0.000000         0.000000   \nPakistan                     35.479886              9.130907         6.552943   \nPeru                          4.709991              2.295112         0.285714   \n...                                ...                   ...              ...   \nChile                        22.455288              2.785915         2.559524   \nSuriname                      0.000000              0.200000         0.000000   \nUnited Kingdom              214.494374            109.164275        38.340099   \nNetherlands                  55.353642             18.160269         2.643754   \nworld                      6175.722222           1686.088889       853.005556   \n\n                         Society-AI  Society-robotics  Society-IOT  \\\nCosta Rica                 0.266917          1.230769     1.000000   \nDjibouti                   0.000000          0.000000     0.000000   \nBritish Virgin Islands     0.000000          0.000000     0.000000   \nPakistan                  83.426089          6.378739    60.752050   \nPeru                       6.846755          1.029412     5.400000   \n...                             ...               ...          ...   \nChile                     20.814520          3.105577     6.952778   \nSuriname                   0.000000          0.000000     0.000000   \nUnited Kingdom           344.949860         70.249021   122.012536   \nNetherlands               85.560965         26.556285    18.998476   \nworld                   8843.188889       1512.597222  3839.655556   \n\n                         Economy-AI  Economy-robotics  Economy-IOT  \\\nCosta Rica                 0.690115          0.000000     0.000000   \nDjibouti                   0.000000          0.000000     0.000000   \nBritish Virgin Islands     0.000000          0.000000     0.000000   \nPakistan                  14.271337          1.155732    10.940575   \nPeru                       1.666667          0.043478     0.000000   \n...                             ...               ...          ...   \nChile                      2.159890          2.029814     1.603175   \nSuriname                   0.000000          0.000000     0.000000   \nUnited Kingdom            78.389966         20.766258    38.675685   \nNetherlands               17.413233          8.926885     6.320833   \nworld                   1648.088889        348.697222   609.838889   \n\n                                 tot  \nCosta Rica                  6.124249  \nDjibouti                    0.000000  \nBritish Virgin Islands      0.000000  \nPakistan                  228.088259  \nPeru                       22.277129  \n...                              ...  \nChile                      64.466481  \nSuriname                    0.200000  \nUnited Kingdom           1037.042075  \nNetherlands               239.934343  \nworld                   25516.883333  \n\n[219 rows x 10 columns]",
      "text/html": "<div>\n<style scoped>\n    .dataframe tbody tr th:only-of-type {\n        vertical-align: middle;\n    }\n\n    .dataframe tbody tr th {\n        vertical-align: top;\n    }\n\n    .dataframe thead th {\n        text-align: right;\n    }\n</style>\n<table border=\"1\" class=\"dataframe\">\n  <thead>\n    <tr style=\"text-align: right;\">\n      <th></th>\n      <th>Environment-AI</th>\n      <th>Environment-robotics</th>\n      <th>Environment-IOT</th>\n      <th>Society-AI</th>\n      <th>Society-robotics</th>\n      <th>Society-IOT</th>\n      <th>Economy-AI</th>\n      <th>Economy-robotics</th>\n      <th>Economy-IOT</th>\n      <th>tot</th>\n    </tr>\n  </thead>\n  <tbody>\n    <tr>\n      <th>Costa Rica</th>\n      <td>1.581685</td>\n      <td>1.354762</td>\n      <td>0.000000</td>\n      <td>0.266917</td>\n      <td>1.230769</td>\n      <td>1.000000</td>\n      <td>0.690115</td>\n      <td>0.000000</td>\n      <td>0.000000</td>\n      <td>6.124249</td>\n    </tr>\n    <tr>\n      <th>Djibouti</th>\n      <td>0.000000</td>\n      <td>0.000000</td>\n      <td>0.000000</td>\n      <td>0.000000</td>\n      <td>0.000000</td>\n      <td>0.000000</td>\n      <td>0.000000</td>\n      <td>0.000000</td>\n      <td>0.000000</td>\n      <td>0.000000</td>\n    </tr>\n    <tr>\n      <th>British Virgin Islands</th>\n      <td>0.000000</td>\n      <td>0.000000</td>\n      <td>0.000000</td>\n      <td>0.000000</td>\n      <td>0.000000</td>\n      <td>0.000000</td>\n      <td>0.000000</td>\n      <td>0.000000</td>\n      <td>0.000000</td>\n      <td>0.000000</td>\n    </tr>\n    <tr>\n      <th>Pakistan</th>\n      <td>35.479886</td>\n      <td>9.130907</td>\n      <td>6.552943</td>\n      <td>83.426089</td>\n      <td>6.378739</td>\n      <td>60.752050</td>\n      <td>14.271337</td>\n      <td>1.155732</td>\n      <td>10.940575</td>\n      <td>228.088259</td>\n    </tr>\n    <tr>\n      <th>Peru</th>\n      <td>4.709991</td>\n      <td>2.295112</td>\n      <td>0.285714</td>\n      <td>6.846755</td>\n      <td>1.029412</td>\n      <td>5.400000</td>\n      <td>1.666667</td>\n      <td>0.043478</td>\n      <td>0.000000</td>\n      <td>22.277129</td>\n    </tr>\n    <tr>\n      <th>...</th>\n      <td>...</td>\n      <td>...</td>\n      <td>...</td>\n      <td>...</td>\n      <td>...</td>\n      <td>...</td>\n      <td>...</td>\n      <td>...</td>\n      <td>...</td>\n      <td>...</td>\n    </tr>\n    <tr>\n      <th>Chile</th>\n      <td>22.455288</td>\n      <td>2.785915</td>\n      <td>2.559524</td>\n      <td>20.814520</td>\n      <td>3.105577</td>\n      <td>6.952778</td>\n      <td>2.159890</td>\n      <td>2.029814</td>\n      <td>1.603175</td>\n      <td>64.466481</td>\n    </tr>\n    <tr>\n      <th>Suriname</th>\n      <td>0.000000</td>\n      <td>0.200000</td>\n      <td>0.000000</td>\n      <td>0.000000</td>\n      <td>0.000000</td>\n      <td>0.000000</td>\n      <td>0.000000</td>\n      <td>0.000000</td>\n      <td>0.000000</td>\n      <td>0.200000</td>\n    </tr>\n    <tr>\n      <th>United Kingdom</th>\n      <td>214.494374</td>\n      <td>109.164275</td>\n      <td>38.340099</td>\n      <td>344.949860</td>\n      <td>70.249021</td>\n      <td>122.012536</td>\n      <td>78.389966</td>\n      <td>20.766258</td>\n      <td>38.675685</td>\n      <td>1037.042075</td>\n    </tr>\n    <tr>\n      <th>Netherlands</th>\n      <td>55.353642</td>\n      <td>18.160269</td>\n      <td>2.643754</td>\n      <td>85.560965</td>\n      <td>26.556285</td>\n      <td>18.998476</td>\n      <td>17.413233</td>\n      <td>8.926885</td>\n      <td>6.320833</td>\n      <td>239.934343</td>\n    </tr>\n    <tr>\n      <th>world</th>\n      <td>6175.722222</td>\n      <td>1686.088889</td>\n      <td>853.005556</td>\n      <td>8843.188889</td>\n      <td>1512.597222</td>\n      <td>3839.655556</td>\n      <td>1648.088889</td>\n      <td>348.697222</td>\n      <td>609.838889</td>\n      <td>25516.883333</td>\n    </tr>\n  </tbody>\n</table>\n<p>219 rows × 10 columns</p>\n</div>"
     },
     "execution_count": 43,
     "metadata": {},
     "output_type": "execute_result"
    }
   ],
   "source": [
    "df_spec_raw_sdg_dt = df_spec_raw.loc[:, lst_cat_dt]\n",
    "df_spec_raw_sdg_dt.loc[:, 'tot'] = df_spec_raw_sdg_dt.sum(axis=1)\n",
    "df_spec_raw_sdg_dt"
   ],
   "metadata": {
    "collapsed": false
   }
  },
  {
   "cell_type": "code",
   "execution_count": 56,
   "outputs": [
    {
     "data": {
      "text/plain": "['Australia',\n 'Canada',\n 'China',\n 'Iceland',\n 'Israel',\n 'Japan',\n 'Liechtenstein',\n 'Norway',\n 'South Korea',\n 'Switzerland',\n 'United Kingdom',\n 'United States']"
     },
     "execution_count": 56,
     "metadata": {},
     "output_type": "execute_result"
    }
   ],
   "source": [],
   "metadata": {
    "collapsed": false
   }
  },
  {
   "cell_type": "code",
   "execution_count": 65,
   "outputs": [
    {
     "name": "stdout",
     "output_type": "stream",
     "text": [
      "                 Environment       Society       Economy\n",
      "Austria          2577.619824   1953.081453    841.934038\n",
      "Belgium          3367.682342   3671.939373   1331.885397\n",
      "Bulgaria          498.386897    381.683896    129.099104\n",
      "Croatia          1211.941616   1000.270243    409.455492\n",
      "Cyprus            284.492136    428.381636    138.865110\n",
      "Czech Republic   2178.121783   1687.507668    753.006572\n",
      "Denmark          3672.461444   3176.451521   1129.049004\n",
      "Estonia           691.806510    401.529104    145.048533\n",
      "Finland          3711.514002   2946.200896   1061.505828\n",
      "France          13282.584572   7437.898539   2570.477427\n",
      "Germany         18017.923878  13044.787452   5020.884601\n",
      "Greece           3303.587274   3049.769150    944.688646\n",
      "Hungary          1179.920775   1196.883137    390.733839\n",
      "Ireland          1686.258362   2070.466163    724.481379\n",
      "Italy           16574.557903  15429.183025   5288.428966\n",
      "Latvia            269.004360    204.459507    108.659105\n",
      "Lithuania         736.049719    659.094029    357.148828\n",
      "Luxembourg        126.727813    221.058638    109.640625\n",
      "Malta             114.826152    103.006400     38.284961\n",
      "Netherlands      6818.996748   7601.589691   2913.198144\n",
      "Poland           5236.390825   5990.419181   1920.167735\n",
      "Portugal         5631.837182   4069.786433   1717.893478\n",
      "Romania          2025.626038   2546.449647   1126.854158\n",
      "Slovakia          611.491629    756.481136    365.578726\n",
      "Slovenia          704.858510    809.688459    348.064105\n",
      "Spain           16492.547299  14189.896585   5193.926313\n",
      "Sweden           6112.452833   5741.339151   2064.368316\n",
      "Australia       20976.643362  19164.972878   6129.227576\n",
      "Canada          17326.905464  15613.618051   4265.597431\n",
      "China           62352.801899  66543.382814  16303.384269\n",
      "Iceland           338.396311    199.834736     69.241110\n",
      "Israel           1733.612468   2736.177881    468.910613\n",
      "Japan            9923.087840   7404.612370   2120.797987\n",
      "Norway           5293.869746   3209.001603   1046.949304\n",
      "South Korea      8295.768615   8252.594224   2862.763508\n",
      "Switzerland      4602.790449   3838.084001   1425.267478\n",
      "United Kingdom  25207.017775  26629.911927   9368.989837\n",
      "United States   78218.344254  94601.057801  20668.520878\n",
      "                       SDG1         SDG2          SDG3          SDG4  \\\n",
      "Austria           99.129706    84.368628    451.704259    172.088163   \n",
      "Belgium          247.556522   144.930789    715.092404    363.988682   \n",
      "Bulgaria           9.252259    23.264531    103.873534     19.957657   \n",
      "Croatia           30.822394    23.209004    250.729421     95.284087   \n",
      "Cyprus            12.360317     9.783766     87.872894     75.990972   \n",
      "Czech Republic    68.315116    46.293256    302.711204    115.137838   \n",
      "Denmark          194.680317   109.581828    644.597864    279.207741   \n",
      "Estonia           11.800166    10.928312     75.260602     50.520273   \n",
      "Finland          153.286325    56.888081    498.126443    436.029545   \n",
      "France           342.560338   378.805215   1855.655850    334.714227   \n",
      "Germany          723.048157   428.035217   2874.832686   1290.392582   \n",
      "Greece            96.294181    94.172748    634.018293    192.309142   \n",
      "Hungary           38.789202    30.030067    261.147252     84.507256   \n",
      "Ireland          120.967417    57.969957    543.647050    283.243112   \n",
      "Italy            530.662707   559.938346   4915.838459    667.931073   \n",
      "Latvia             3.928803     4.814076     36.615475      9.715756   \n",
      "Lithuania         25.319555    32.448031    130.943546     32.742478   \n",
      "Luxembourg        26.311610     6.659173     38.211536     20.869277   \n",
      "Malta              5.417006     0.014925     38.222700     14.769170   \n",
      "Netherlands      522.432262   306.952476   1447.455326    956.151140   \n",
      "Poland           119.182686   191.406218   1455.698653    226.647272   \n",
      "Portugal         101.759538   101.170192    660.880040    383.931888   \n",
      "Romania           84.596325   108.029863    687.834773     92.033276   \n",
      "Slovakia          43.823610    23.505357    183.987991    105.742262   \n",
      "Slovenia          25.678836    16.552372    151.962953     82.485826   \n",
      "Spain            524.967519   377.212790   2579.118113   1150.222566   \n",
      "Sweden           387.895223   131.084558    974.218752    716.851823   \n",
      "Australia       1208.909507   524.859227   3509.063341   3495.790200   \n",
      "Canada          1259.817662   442.093014   3583.579170   2030.113392   \n",
      "China           1490.218530  1350.556821   9729.293549   1709.054170   \n",
      "Iceland           20.157143     2.483333     30.808100     25.993983   \n",
      "Israel           138.435611    57.408484    831.523402    441.629091   \n",
      "Japan            338.647029   226.425951   2099.450639    416.105092   \n",
      "Norway           191.582238    75.092156    621.078255    485.072829   \n",
      "South Korea      417.722060   148.853183   1843.460936    446.897508   \n",
      "Switzerland      206.651358   169.193390   1091.893147    290.877215   \n",
      "United Kingdom  2463.008787   718.270979   6569.767232   3233.334322   \n",
      "United States   8635.115779  2426.225499  28503.430746  15707.862252   \n",
      "\n",
      "                       SDG5          SDG6          SDG7         SDG8  \\\n",
      "Austria          160.620567    328.393892    197.610562   127.756576   \n",
      "Belgium          276.728242    711.361202    278.173008   218.359346   \n",
      "Bulgaria          18.214764     98.538675     32.013670    21.605026   \n",
      "Croatia           58.538581    201.879335    107.920840    91.760113   \n",
      "Cyprus            16.309963     90.635635     38.895215    25.155280   \n",
      "Czech Republic   105.435521    519.773068    105.182731   154.452467   \n",
      "Denmark          274.533490    622.302947    404.634853   160.646572   \n",
      "Estonia           36.872876     88.018596     29.789568    31.500433   \n",
      "Finland          252.174690    570.242405    312.713754   155.762687   \n",
      "France           736.649754   1700.469233    595.147115   362.870013   \n",
      "Germany         1197.052184   2473.762348   1216.071332   886.408812   \n",
      "Greece           156.735146    958.895760    270.851665   118.506118   \n",
      "Hungary           46.054937    278.038199     86.005618    65.396261   \n",
      "Ireland          154.781317    365.236562    138.189327    95.708913   \n",
      "Italy           1083.327033   2975.030165   1358.038078   625.181620   \n",
      "Latvia             9.578634     42.827166     36.011177    24.565399   \n",
      "Lithuania         41.200894    109.349658     80.859803    67.716072   \n",
      "Luxembourg         7.875431     44.635253     14.411615    22.278968   \n",
      "Malta              8.120039      4.385807      6.438933     5.878571   \n",
      "Netherlands      547.425423   1113.766029    524.692707   411.364796   \n",
      "Poland           236.348437   1958.194476    543.774294   266.791963   \n",
      "Portugal         424.344627   1164.008703    380.301477   206.516896   \n",
      "Romania           86.994871    650.014997    183.591676   182.354836   \n",
      "Slovakia          33.921366    134.750192     42.389771    76.709843   \n",
      "Slovenia          42.320097    195.298028     75.053946    58.711516   \n",
      "Spain           1181.712416   4469.463271   1209.557304   684.514974   \n",
      "Sweden           665.493250    903.352116    557.116859   318.400210   \n",
      "Australia       2086.115089   2827.652399   1080.759206   889.991511   \n",
      "Canada          1505.332592   2687.689170    883.368450   601.647674   \n",
      "China           2386.324940  25106.431736  10605.033377  1355.858017   \n",
      "Iceland           43.886396     25.280690     10.064766     6.981087   \n",
      "Israel           175.542310    398.894152     61.035285    77.183093   \n",
      "Japan            447.865850   1733.304630    887.362281   301.989138   \n",
      "Norway           476.964345    353.948512    243.824231   170.115205   \n",
      "South Korea      349.515217   2118.615952   1569.245741   324.659619   \n",
      "Switzerland      334.785021    661.749315    288.543139   198.426349   \n",
      "United Kingdom  2529.853424   2521.011413   1612.875329  1637.611038   \n",
      "United States   7917.271399   8788.646278   4296.452616  4028.165639   \n",
      "\n",
      "                       SDG9        SDG10         SDG11        SDG12  \\\n",
      "Austria           85.478904   125.022896    256.535652   336.217334   \n",
      "Belgium          109.032108   216.295374    511.036704   502.110217   \n",
      "Bulgaria           9.729962    20.971429     43.578091    57.115065   \n",
      "Croatia           38.243264    60.075174    127.645929   144.040054   \n",
      "Cyprus            13.947950    27.525216     52.076638    48.612097   \n",
      "Czech Republic    81.199805    95.554351    249.066917   280.799293   \n",
      "Denmark          109.022863   108.041282    344.741519   551.053636   \n",
      "Estonia           21.141284    16.241512     54.106993    51.380043   \n",
      "Finland          112.973659   151.284088    378.918921   460.826189   \n",
      "France           235.998978   251.754955    908.850656  1190.027545   \n",
      "Germany          462.831536   659.781156   1520.083687  2078.985143   \n",
      "Greece            82.607466    97.809129    432.654312   514.427616   \n",
      "Hungary           36.880541    60.181341    244.985617   166.807079   \n",
      "Ireland           69.836745   144.551752    158.925636   281.626017   \n",
      "Italy            469.134376   618.964716   2228.557368  2795.226062   \n",
      "Latvia            13.509479     9.688889     40.121237    41.110533   \n",
      "Lithuania         46.826927    39.921113    132.789251   117.010404   \n",
      "Luxembourg         9.101589    15.019444     36.489174    42.175479   \n",
      "Malta              4.272488     6.702778     11.372459    12.136001   \n",
      "Netherlands      283.222451   474.680714   1132.491660  1087.581950   \n",
      "Poland           215.986540   209.691667    950.734822   860.857410   \n",
      "Portugal         182.518264   177.298189    603.441324   868.593967   \n",
      "Romania          122.044983   166.517118    366.994960   435.942535   \n",
      "Slovakia          52.408576    57.439440    109.892684   108.043123   \n",
      "Slovenia          40.710103    53.511167    124.137259   137.344367   \n",
      "Spain            509.862934   715.119272   1681.961669  2503.205257   \n",
      "Sweden           190.155105   302.768843    763.837332   869.693639   \n",
      "Australia        675.584473  1147.403821   2314.998355  1976.450202   \n",
      "Canada           427.771181   731.174032   1485.396489  1554.501200   \n",
      "China           2480.066920   977.051233  11698.073586  8802.501708   \n",
      "Iceland            5.279647    15.432168     13.645633    22.870845   \n",
      "Israel            36.193814   108.400736    292.818846   162.060980   \n",
      "Japan            215.148379   178.989596    874.832397   935.467584   \n",
      "Norway            96.174334   195.090035    311.748446   369.638051   \n",
      "South Korea      348.208984   211.620643    887.313259  1387.572296   \n",
      "Switzerland      125.356666   165.536935    378.361599   528.077758   \n",
      "United Kingdom   932.211677  1892.000897   2954.232053  2504.358263   \n",
      "United States   2225.340386  2540.517875   7769.793175  6433.082848   \n",
      "\n",
      "                       SDG13         SDG14        SDG15         SDG16  \\\n",
      "Austria          1902.858702    329.999232   335.487799    212.537356   \n",
      "Belgium          1974.865094    897.138772   479.957556    438.572803   \n",
      "Bulgaria          237.264549    175.596746    84.517163     34.317673   \n",
      "Croatia           501.896041    596.875194   108.403763    107.203617   \n",
      "Cyprus            163.266606     82.764216    36.603832     45.738307   \n",
      "Czech Republic   1444.900611    293.518250   434.002540    181.508167   \n",
      "Denmark          2138.689668   1191.933872   324.105376    322.767424   \n",
      "Estonia           387.508074    212.595322    91.528865     44.907518   \n",
      "Finland          2419.615511    723.574847   546.954183    309.935712   \n",
      "France           7388.987458   4744.915663  1115.985919    618.695055   \n",
      "Germany         11872.807452   4070.297404  2014.901442   1386.542315   \n",
      "Greece           1602.204812   1337.250215   345.636325    231.032725   \n",
      "Hungary           876.210109    113.285668   186.491435    131.284713   \n",
      "Ireland           890.046514    597.641498   189.373435    257.728442   \n",
      "Italy            8298.612242   5828.487599  2331.748074   1240.208806   \n",
      "Latvia            177.089087     56.292647    34.474173     21.979825   \n",
      "Lithuania         425.875012    179.202126   124.583856     78.092550   \n",
      "Luxembourg         95.029446     17.616688    13.083928     27.055688   \n",
      "Malta              41.982807     61.855831    10.767348     14.542380   \n",
      "Netherlands      4432.123599   1566.230074   786.829078   1084.449138   \n",
      "Poland           3139.200834   1418.365232   662.350002    324.799193   \n",
      "Portugal         2370.957888   2615.327970   619.846910    274.072034   \n",
      "Romania          1269.507844    392.238757   351.664641    293.617728   \n",
      "Slovakia          411.097261     56.589899   141.943445     80.831614   \n",
      "Slovenia          352.111097    206.266015   143.749173     99.483900   \n",
      "Spain            8880.925791   5566.327337  1970.123490   1097.645788   \n",
      "Sweden           3908.819886   1467.732988   703.069359    677.048674   \n",
      "Australia       11767.083784   6703.545056  2424.411038   2204.746583   \n",
      "Canada          11060.964756   4308.308346  1913.227445   1784.614481   \n",
      "China           35353.266910  17959.625703  8824.055041   2691.509514   \n",
      "Iceland           160.536063    154.490032    21.737217     29.553047   \n",
      "Israel            954.266688    591.980159   184.204556    343.043096   \n",
      "Japan            5226.940305   3604.555834  1064.990995    414.287966   \n",
      "Norway           2837.012076   2089.443257   353.523150    465.616656   \n",
      "South Korea      4646.027793   2924.733121   710.728059    485.232440   \n",
      "Switzerland      3494.900658    504.572852   586.908537    432.063452   \n",
      "United Kingdom  16259.382303   6124.986704  2723.655900   4128.571649   \n",
      "United States   47965.988604  20545.965065  9502.362183  10773.422395   \n",
      "\n",
      "                      SDG17  \n",
      "Austria          166.825088  \n",
      "Belgium          286.308288  \n",
      "Bulgaria          19.359103  \n",
      "Croatia           77.140540  \n",
      "Cyprus            24.199976  \n",
      "Czech Republic   140.784889  \n",
      "Denmark          197.420719  \n",
      "Estonia           24.283710  \n",
      "Finland          179.913685  \n",
      "France           528.872565  \n",
      "Germany          927.762477  \n",
      "Greece           132.639417  \n",
      "Hungary           61.442456  \n",
      "Ireland          131.732211  \n",
      "Italy            765.283168  \n",
      "Latvia            19.800617  \n",
      "Lithuania         87.411301  \n",
      "Luxembourg        20.602775  \n",
      "Malta              9.238268  \n",
      "Netherlands      655.935762  \n",
      "Poland           366.948041  \n",
      "Portugal         284.547185  \n",
      "Romania          224.950658  \n",
      "Slovakia          70.475056  \n",
      "Slovenia          57.234419  \n",
      "Spain            774.429707  \n",
      "Sweden           380.621682  \n",
      "Australia       1433.480024  \n",
      "Canada           946.521893  \n",
      "China           2680.647228  \n",
      "Iceland           18.272006  \n",
      "Israel            84.080663  \n",
      "Japan            482.134531  \n",
      "Norway           213.896876  \n",
      "South Korea      590.719537  \n",
      "Switzerland      408.244538  \n",
      "United Kingdom  2400.787567  \n",
      "United States   5428.280195  \n",
      "                           AI      big_data           IOT  \\\n",
      "Austria           1609.172127    182.583415    237.809296   \n",
      "Belgium           2355.684142    284.528664    489.148496   \n",
      "Bulgaria           285.928516     30.109035     38.890410   \n",
      "Croatia            725.603997     46.995122     86.719643   \n",
      "Cyprus             299.411069     29.604375     68.187438   \n",
      "Czech Republic    1300.868745    110.235602    189.468452   \n",
      "Denmark           1555.051592    195.406502    231.959838   \n",
      "Estonia            186.032605     30.308435     45.658501   \n",
      "Finland           1689.894663    224.154236    464.237544   \n",
      "France            8022.392143    858.128540   1265.360678   \n",
      "Germany          12459.842399   1295.933316   1501.604351   \n",
      "Greece            2812.105753    305.879356    492.450354   \n",
      "Hungary            864.943412    108.359071    103.440052   \n",
      "Ireland           1165.855543    175.121727    330.831225   \n",
      "Italy            10697.446355   1204.638500   2750.234590   \n",
      "Latvia              95.641986     18.346114     29.389177   \n",
      "Lithuania          408.331838     38.061300     58.372177   \n",
      "Luxembourg         154.207293     23.416757     37.558105   \n",
      "Malta               53.462768      2.200000      5.062847   \n",
      "Netherlands       4355.906330    522.020797    638.041692   \n",
      "Poland            4458.679733    286.909235    408.893572   \n",
      "Portugal          2487.404296    200.669726    547.734836   \n",
      "Romania           1549.631465    129.693360    267.567758   \n",
      "Slovakia           498.353417     65.354997     65.421099   \n",
      "Slovenia           896.279024     48.635520    126.056244   \n",
      "Spain            11938.724019   1095.129540   2151.483761   \n",
      "Sweden            2182.384365    316.199642    572.232536   \n",
      "Australia         9290.448843   1136.014871   1778.165578   \n",
      "Canada           10777.239238    954.342725   1846.056191   \n",
      "China           109271.541845  10051.234719  17448.385601   \n",
      "Iceland             98.752236      9.336633      4.821919   \n",
      "Israel            1856.721571    234.127181    204.172055   \n",
      "Japan             9656.675434    970.704151   1762.871000   \n",
      "Norway            1354.777699    200.206104    221.102727   \n",
      "South Korea      15057.281254   1504.402131   5231.951466   \n",
      "Switzerland       3038.981115    342.267869    465.768321   \n",
      "United Kingdom   15597.854576   2133.699738   2702.992236   \n",
      "United States    58051.386790   7513.060215   9652.497039   \n",
      "\n",
      "                computing_infrastructure   blockchain      robotics  \\\n",
      "Austria                       269.548659    43.308860    515.824732   \n",
      "Belgium                       291.738173    33.245853    773.555335   \n",
      "Bulgaria                       57.909640     5.416667     89.641621   \n",
      "Croatia                        65.170687    25.699603    191.146239   \n",
      "Cyprus                         38.279296     7.932576     67.878959   \n",
      "Czech Republic                187.118689    29.637518    441.954276   \n",
      "Denmark                       244.110175    43.564650    542.333540   \n",
      "Estonia                        28.971821    14.219278     77.034468   \n",
      "Finland                       437.606983    49.513602    427.901755   \n",
      "France                       1341.950247   116.989353   2925.156884   \n",
      "Germany                      1716.371066   219.855547   4322.426538   \n",
      "Greece                        472.441492    94.416008    695.136502   \n",
      "Hungary                       167.803573    12.711243    253.443478   \n",
      "Ireland                       218.349318    63.658568    212.753177   \n",
      "Italy                        1794.768068   266.323625   5449.642528   \n",
      "Latvia                         19.411511     5.916667     29.066835   \n",
      "Lithuania                      53.532350    16.305556    138.407143   \n",
      "Luxembourg                     46.564649    14.032576     44.406104   \n",
      "Malta                           5.649369     7.348413     10.986227   \n",
      "Netherlands                   412.758596    91.634319   1418.260439   \n",
      "Poland                        523.949485    67.722348   1240.379316   \n",
      "Portugal                      392.140916    57.327851    737.094771   \n",
      "Romania                       239.585711    48.008898    613.106062   \n",
      "Slovakia                       56.845443     9.448347    222.405234   \n",
      "Slovenia                       71.916790    16.182201    232.300216   \n",
      "Spain                        1890.473260   205.561996   3052.977683   \n",
      "Sweden                        492.249084    33.778438    862.919450   \n",
      "Australia                    1321.586071   287.433572   2445.474004   \n",
      "Canada                       1627.115147   188.134991   3390.128508   \n",
      "China                       14872.321404  1491.518494  23175.256822   \n",
      "Iceland                        11.768926     0.033333      8.764318   \n",
      "Israel                        209.940732    18.136430    606.847770   \n",
      "Japan                        1642.302810   106.412881   5581.151272   \n",
      "Norway                        169.249191    42.313005    453.666280   \n",
      "South Korea                  2360.811374   315.629696   5886.754445   \n",
      "Switzerland                   421.601340    81.865548   1288.036153   \n",
      "United Kingdom               2245.691577   415.988247   4752.807304   \n",
      "United States                8514.731895   750.437186  20281.456630   \n",
      "\n",
      "                additive_manufacturing  \n",
      "Austria                     337.410255  \n",
      "Belgium                     466.725976  \n",
      "Bulgaria                     36.032027  \n",
      "Croatia                      74.397716  \n",
      "Cyprus                       16.908838  \n",
      "Czech Republic              358.742322  \n",
      "Denmark                     218.945175  \n",
      "Estonia                      51.175397  \n",
      "Finland                     256.082338  \n",
      "France                     1159.497182  \n",
      "Germany                    2795.882711  \n",
      "Greece                      230.774296  \n",
      "Hungary                     141.882299  \n",
      "Ireland                     216.859152  \n",
      "Italy                      2095.691537  \n",
      "Latvia                       14.339724  \n",
      "Lithuania                    66.007108  \n",
      "Luxembourg                   11.500397  \n",
      "Malta                        10.191955  \n",
      "Netherlands                 619.051493  \n",
      "Poland                      858.428000  \n",
      "Portugal                    473.183614  \n",
      "Romania                     367.133079  \n",
      "Slovakia                    157.544789  \n",
      "Slovenia                    147.471879  \n",
      "Spain                      1212.540629  \n",
      "Sweden                      444.711521  \n",
      "Australia                  1344.397037  \n",
      "Canada                     1203.740067  \n",
      "China                      9057.491926  \n",
      "Iceland                       3.159524  \n",
      "Israel                      208.205341  \n",
      "Japan                       944.318641  \n",
      "Norway                      144.749767  \n",
      "South Korea                1754.057571  \n",
      "Switzerland                 576.388564  \n",
      "United Kingdom             2544.575995  \n",
      "United States              8488.880906  \n",
      "                Environment-AI  Environment-robotics  Environment-IOT  \\\n",
      "Austria              26.899087              7.292788         5.996585   \n",
      "Belgium              28.031283             12.492588         7.988992   \n",
      "Bulgaria              2.600593              1.000000         0.000000   \n",
      "Croatia              20.679979              8.838889         2.650000   \n",
      "Cyprus                9.585256              3.745833         1.378268   \n",
      "Czech Republic       12.050482             11.934957         1.613221   \n",
      "Denmark              31.584142             11.539775         5.845216   \n",
      "Estonia              12.135585              1.556250         1.035714   \n",
      "Finland              28.494172             10.561008         7.545615   \n",
      "France              132.807593             45.411888         9.806096   \n",
      "Germany             220.423266             59.865605        24.143558   \n",
      "Greece               69.169902             14.101010        10.474759   \n",
      "Hungary              12.253382              3.350000         2.467361   \n",
      "Ireland              15.945273              3.335907         4.040671   \n",
      "Italy               201.653665             95.172955        52.288748   \n",
      "Latvia                0.095572              0.031250         1.000000   \n",
      "Lithuania             6.100019              6.083333         1.175000   \n",
      "Luxembourg            1.190873              0.194444         0.000000   \n",
      "Malta                 0.018519              0.967391         0.000000   \n",
      "Netherlands          55.353642             18.160269         2.643754   \n",
      "Poland               70.236765             24.232541         3.346025   \n",
      "Portugal             48.485844             22.542947         8.541667   \n",
      "Romania              32.026470              9.084188        11.044643   \n",
      "Slovakia              7.744454              1.000000         0.026316   \n",
      "Slovenia             12.222004              0.656250         1.125000   \n",
      "Spain               214.332101             61.800976        43.114581   \n",
      "Sweden               34.930835              7.770596         8.136152   \n",
      "Australia           211.320844             89.952279        31.401440   \n",
      "Canada              212.258513             52.409092        19.963691   \n",
      "China              1181.882443            235.616588       157.674693   \n",
      "Iceland               1.370671              0.336580         0.169935   \n",
      "Israel               16.144213              4.857143         0.555556   \n",
      "Japan               110.791896             63.482243        17.044977   \n",
      "Norway               49.073819             24.883178         2.509384   \n",
      "South Korea         222.905013             52.185729        46.959325   \n",
      "Switzerland          45.463836             11.873532         7.978617   \n",
      "United Kingdom      214.494374            109.164275        38.340099   \n",
      "United States       932.942742            318.976418       101.459875   \n",
      "\n",
      "                 Society-AI  Society-robotics  Society-IOT  Economy-AI  \\\n",
      "Austria           29.007730          6.115119     9.010434    7.499842   \n",
      "Belgium           46.038322         12.117770    15.204865   12.469180   \n",
      "Bulgaria           6.077709          1.416667     4.583333    1.910256   \n",
      "Croatia           23.166095          2.816667     2.999603    1.825000   \n",
      "Cyprus            12.059933          0.911111     2.321429    0.466667   \n",
      "Czech Republic    20.117262          8.351587     5.089411    5.630556   \n",
      "Denmark           22.969901          8.460139    13.574026    6.011869   \n",
      "Estonia            3.613609          2.154735     3.321429    3.475000   \n",
      "Finland           42.068849         10.078968    16.718303    3.987434   \n",
      "France           107.414098         26.334895    58.669959   21.624260   \n",
      "Germany          209.480893         50.647751    49.536211   53.108553   \n",
      "Greece            83.180112         19.179114    24.007782   18.618651   \n",
      "Hungary           19.629304          5.958631     5.394444    3.176068   \n",
      "Ireland           31.356975          6.623658    16.871143    8.216667   \n",
      "Italy            264.461588         85.952519   111.023870   46.570802   \n",
      "Latvia             2.114583          0.114583     1.500000    0.500000   \n",
      "Lithuania         10.439423          2.333333     1.717857    2.490278   \n",
      "Luxembourg         9.898611          0.861111     0.142857    2.116346   \n",
      "Malta              0.624412          0.000000     0.250000    0.000000   \n",
      "Netherlands       85.560965         26.556285    18.998476   17.413233   \n",
      "Poland            99.514693         16.966912    16.776977   23.416667   \n",
      "Portugal          73.813128         17.939008    25.936038   19.212271   \n",
      "Romania           51.300107         12.616667    20.354600   13.627381   \n",
      "Slovakia           8.010813          3.189683     1.326316    4.166667   \n",
      "Slovenia          18.480846          4.300000     3.904762    2.126984   \n",
      "Spain            304.313198         68.544815   116.002991   67.115346   \n",
      "Sweden            54.409437         16.596418    24.005957   12.336340   \n",
      "Australia        219.709043         47.829123    71.594541   44.978670   \n",
      "Canada           243.258607         36.974015    87.799565   33.409095   \n",
      "China           1912.556893        262.779825   970.077507  305.043532   \n",
      "Iceland            1.375000          0.182540     0.111111    0.500000   \n",
      "Israel            28.214107          7.457143     5.602544    0.317244   \n",
      "Japan            123.629380         46.681349    49.067576   18.556746   \n",
      "Norway            31.774873          7.553481    13.299146    9.581667   \n",
      "South Korea      307.998971         40.491359   235.408939   56.297457   \n",
      "Switzerland       59.244568         17.963860    21.624900   13.993815   \n",
      "United Kingdom   344.949860         70.249021   122.012536   78.389966   \n",
      "United States   1234.033252        256.607347   364.451115  216.029962   \n",
      "\n",
      "                Economy-robotics  Economy-IOT  \n",
      "Austria                 5.250000     3.545238  \n",
      "Belgium                 2.069444     7.940909  \n",
      "Bulgaria                0.000000     1.500000  \n",
      "Croatia                 0.253472     1.652778  \n",
      "Cyprus                  0.500000     0.776190  \n",
      "Czech Republic          1.200000     2.071429  \n",
      "Denmark                 1.366667     3.942857  \n",
      "Estonia                 0.375000     0.353333  \n",
      "Finland                 1.579167     8.163894  \n",
      "France                  2.830711    13.412381  \n",
      "Germany                21.281845    21.360540  \n",
      "Greece                  4.359570     6.472619  \n",
      "Hungary                 1.250000     1.100694  \n",
      "Ireland                 2.356250     3.382260  \n",
      "Italy                  21.019867    34.073075  \n",
      "Latvia                  0.000000     0.000000  \n",
      "Lithuania               0.200000     0.755556  \n",
      "Luxembourg              0.111111     0.836111  \n",
      "Malta                   0.000000     0.000000  \n",
      "Netherlands             8.926885     6.320833  \n",
      "Poland                  3.376923     6.288095  \n",
      "Portugal                5.817857     8.386905  \n",
      "Romania                 6.583333     8.262302  \n",
      "Slovakia                0.500000     1.000000  \n",
      "Slovenia                1.319444     2.117063  \n",
      "Spain                  14.993292    33.138394  \n",
      "Sweden                  4.645833     6.955922  \n",
      "Australia              15.752145    17.422195  \n",
      "Canada                 10.369368    16.627872  \n",
      "China                  43.203866    84.382729  \n",
      "Iceland                 0.000000     0.111111  \n",
      "Israel                  1.207143     0.000000  \n",
      "Japan                   9.770536     9.500000  \n",
      "Norway                  1.864583     1.619048  \n",
      "South Korea             4.615079    27.785877  \n",
      "Switzerland             3.251764     4.861616  \n",
      "United Kingdom         20.766258    38.675685  \n",
      "United States          66.229768    61.343346  \n"
     ]
    }
   ],
   "source": [
    "lst_df_spec = []\n",
    "for df_spec_raw in [df_spec_raw_categories,df_spec_raw_sdg, df_spec_raw_dt, df_spec_raw_sdg_dt]:\n",
    "    df_spec = df_spec_raw.copy().iloc[:-1, :-1].loc[lst_eu+rest, :]\n",
    "    for cat in df_spec.columns:\n",
    "        for country in df_spec.index:\n",
    "            df_spec.loc[country,cat] = (df_spec_raw.loc[country,cat] / df_spec_raw.loc[country, 'tot']) / (df_spec_raw.loc[\"world\", cat] / df_spec_raw.loc['world', 'tot'])\n",
    "    lst_df_spec.append(df_spec)\n"
   ],
   "metadata": {
    "collapsed": false
   }
  },
  {
   "cell_type": "code",
   "execution_count": 66,
   "outputs": [
    {
     "data": {
      "text/plain": "[                Environment   Society   Economy\n Austria            1.125941  0.822581  1.187497\n Belgium            0.944086  0.992516  1.205605\n Bulgaria           1.159008  0.855826  0.969395\n Croatia            1.084896  0.863347  1.183507\n Cyprus             0.783877  1.138073  1.235460\n Czech Republic     1.106757  0.826757  1.235455\n Denmark            1.080312  0.900940  1.072415\n Estonia            1.311032  0.733681  0.887564\n Finland            1.128396  0.863644  1.042055\n France             1.338379  0.722618  0.836312\n Germany            1.171869  0.818037  1.054417\n Greece             1.062339  0.945597  0.980898\n Hungary            1.000560  0.978597  1.069866\n Ireland            0.883107  1.045488  1.225107\n Italy              1.043058  0.936205  1.074610\n Latvia             1.084498  0.794764  1.414468\n Lithuania          0.985790  0.851112  1.544488\n Luxembourg         0.650181  1.093532  1.816316\n Malta              1.052169  0.910061  1.132741\n Netherlands        0.923232  0.992331  1.273557\n Poland             0.934738  1.031044  1.106764\n Portugal           1.157408  0.806435  1.139962\n Romania            0.834161  1.011085  1.498360\n Slovakia           0.827824  0.987432  1.598034\n Slovenia           0.888104  0.983652  1.416051\n Spain              1.078855  0.894986  1.097057\n Sweden             1.030665  0.933420  1.123951\n Australia          1.063929  0.937231  1.003784\n Canada             1.092926  0.949587  0.868775\n China              1.007801  1.037016  0.850853\n Iceland            1.307324  0.744373  0.863733\n Israel             0.823803  1.253653  0.719481\n Japan              1.197415  0.861513  0.826333\n Norway             1.300954  0.760362  0.830754\n South Korea        1.002974  0.962023  1.117575\n Switzerland        1.094858  0.880264  1.094689\n United Kingdom     0.966523  0.984514  1.159955\n United States      0.948722  1.106338  0.809464,\n                     SDG1      SDG2      SDG3      SDG4      SDG5      SDG6  \\\n Austria         0.710752  1.066656  0.792730  0.757897  0.969028  0.648473   \n Belgium         1.139127  1.175947  0.805410  1.028800  1.071451  0.901511   \n Bulgaria        0.353171  1.565888  0.970507  0.467942  0.585035  1.035921   \n Croatia         0.452887  0.601325  0.901750  0.859982  0.723748  0.816956   \n Cyprus          0.559016  0.780244  0.972762  2.111069  0.620682  1.128956   \n Czech Republic  0.569776  0.680824  0.617978  0.589863  0.739939  1.193945   \n Denmark         0.940008  0.932990  0.761825  0.828099  1.115388  0.827550   \n Estonia         0.367058  0.599416  0.573021  0.965288  0.965104  0.754056   \n Finland         0.764947  0.500586  0.608449  1.336563  1.058889  0.783737   \n France          0.566567  1.104738  0.751222  0.340043  1.025171  0.774579   \n Germany         0.771896  0.805750  0.751209  0.846172  1.075291  0.727332   \n Greece          0.508271  0.876495  0.819131  0.623505  0.696117  1.393957   \n Hungary         0.539907  0.737044  0.889713  0.722516  0.539393  1.065848   \n Ireland         1.039860  0.878696  1.143880  1.495586  1.119557  0.864697   \n Italy           0.548154  1.019890  1.242906  0.423800  0.941596  0.846366   \n Latvia          0.259984  0.561731  0.593073  0.394920  0.533349  0.780529   \n Lithuania       0.556610  1.257802  0.704589  0.442132  0.762119  0.662057   \n Luxembourg      2.215782  0.988847  0.787646  1.079524  0.558052  1.035239   \n Malta           0.814745  0.003958  1.407150  1.364469  1.027641  0.181675   \n Netherlands     1.161016  1.202841  0.787354  1.305209  1.023656  0.681687   \n Poland          0.349212  0.988919  1.044008  0.407917  0.582706  1.580208   \n Portugal        0.343264  0.601777  0.545674  0.795524  1.204463  1.081416   \n Romania         0.571820  1.287600  1.138018  0.382119  0.494792  1.210081   \n Slovakia        0.973807  0.921002  1.000716  1.443307  0.634248  0.824664   \n Slovenia        0.531073  0.603627  0.769261  1.047862  0.736456  1.112398   \n Spain           0.563671  0.714181  0.677830  0.758613  1.067642  1.321695   \n Sweden          1.073579  0.639735  0.659983  1.218693  1.549831  0.688588   \n Australia       1.006440  0.770488  0.715059  1.787659  1.461347  0.648340   \n Canada          1.304352  0.807105  0.908157  1.291079  1.311416  0.766389   \n China           0.395354  0.631798  0.631792  0.278508  0.532705  1.834442   \n Iceland         1.278215  0.277677  0.478186  1.012496  2.341672  0.441516   \n Israel          1.079783  0.789576  1.587523  2.115884  1.152104  0.856898   \n Japan           0.670753  0.790807  1.017836  0.506249  0.746422  0.945525   \n Norway          0.772790  0.534109  0.613210  1.201873  1.618875  0.393214   \n South Korea     0.828969  0.520880  0.895450  0.544758  0.583630  1.157939   \n Switzerland     0.806849  1.164841  1.043497  0.697604  1.099870  0.711591   \n United Kingdom  1.550151  0.797123  1.012080  1.249983  1.339752  0.436984   \n United States   1.719158  0.851742  1.388998  1.920923  1.326307  0.481895   \n \n                     SDG7      SDG8      SDG9     SDG10     SDG11     SDG12  \\\n Austria         0.987231  1.263979  1.039970  1.549030  0.913658  1.159327   \n Belgium         0.891882  1.386475  0.851334  1.719892  1.168078  1.111140   \n Bulgaria        0.851466  1.137980  0.630226  1.383316  0.826280  1.048479   \n Croatia         1.104902  1.860460  0.953513  1.525370  0.931650  1.017839   \n Cyprus          1.225705  1.569881  1.070417  2.151206  1.169930  1.057331   \n Czech Republic  0.611261  1.777563  1.149186  1.377192  1.031872  1.126304   \n Denmark         1.361342  1.070344  0.893254  0.901479  0.826847  1.279603   \n Estonia         0.645662  1.352088  1.115900  0.873029  0.836029  0.768621   \n Finland         1.087351  1.072590  0.956650  1.304600  0.939283  1.105954   \n France          0.685856  0.828147  0.662326  0.719529  0.746670  0.946548   \n Germany         0.904577  1.305775  0.838421  1.217160  0.806086  1.067370   \n Greece          0.996142  0.863134  0.739881  0.892135  1.134379  1.305843   \n Hungary         0.834122  1.256040  0.871070  1.447525  1.693833  1.116591   \n Ireland         0.827705  1.135276  1.018681  2.147268  0.678614  1.164263   \n Italy           0.977441  0.891112  0.822297  1.104857  1.143483  1.388585   \n Latvia          1.660423  2.243123  1.516956  1.107942  1.318813  1.308313   \n Lithuania       1.238574  2.054136  1.746780  1.516540  1.450039  1.237061   \n Luxembourg      0.845643  2.588911  1.300603  2.185696  1.526391  1.708093   \n Malta           0.674793  1.220047  1.090412  1.742101  0.849647  0.877828   \n Netherlands     0.812471  1.261472  1.068030  1.822913  1.250159  1.162363   \n Poland          1.110168  1.078675  1.073866  1.061727  1.383748  1.213050   \n Portugal        0.893874  0.961284  1.044739  1.033509  1.011139  1.409102   \n Romania         0.864681  1.700858  1.399832  1.945017  1.232226  1.417128   \n Slovakia        0.656327  2.352114  1.976127  2.205622  1.212985  1.154605   \n Slovenia        1.081552  1.675503  1.428661  1.912405  1.275274  1.366035   \n Spain           0.904928  1.014188  0.928954  1.326868  0.897080  1.292591   \n Sweden          1.074386  1.216005  0.893049  1.448062  1.050129  1.157598   \n Australia       0.626928  1.022404  0.954380  1.650694  0.957341  0.791319   \n Canada          0.637270  0.859551  0.751530  1.308170  0.763926  0.774016   \n China           1.960391  0.496356  1.116471  0.447930  1.541603  1.123089   \n Iceland         0.444706  0.610859  0.568104  1.691057  0.429824  0.697476   \n Israel          0.331714  0.830718  0.479039  1.461091  1.134514  0.607910   \n Japan           1.224647  0.825371  0.723105  0.612632  0.860721  0.891078   \n Norway          0.685295  0.946873  0.658284  1.359871  0.624644  0.717059   \n South Korea     2.169883  0.889040  1.172569  0.725713  0.874681  1.324275   \n Switzerland     0.784982  1.069045  0.830519  1.116877  0.733809  0.991571   \n United Kingdom  0.707300  1.422202  0.995567  2.057717  0.923580  0.758012   \n United States   0.596008  1.106617  0.751782  0.874030  0.768385  0.615940   \n \n                    SDG13     SDG14     SDG15     SDG16     SDG17  \n Austria         1.468794  0.481359  1.119690  0.989402  1.079236  \n Belgium         0.978308  0.839845  1.028035  1.310277  1.188701  \n Bulgaria        0.975013  1.363627  1.501721  0.850508  0.666750  \n Croatia         0.793922  1.784224  0.741439  1.022720  1.022698  \n Cyprus          0.794937  0.761517  0.770599  1.343070  0.987531  \n Czech Republic  1.297376  0.498041  1.684950  0.982896  1.059460  \n Denmark         1.111725  1.170856  0.728455  1.011865  0.860088  \n Estonia         1.297678  1.345370  1.325291  0.906961  0.681557  \n Finland         1.299914  0.734604  1.270533  1.004207  0.810090  \n France          1.315647  1.596557  0.859172  0.664376  0.789234  \n Germany         1.364537  0.884015  1.001273  0.961055  0.893654  \n Greece          0.910444  1.435984  0.849222  0.791757  0.631696  \n Hungary         1.312975  0.320793  1.208298  1.186440  0.771645  \n Ireland         0.823682  1.045175  0.757762  1.438442  1.021738  \n Italy           0.922847  1.224846  1.121173  0.831768  0.713258  \n Latvia          1.261592  0.757845  1.061910  0.944353  1.182242  \n Lithuania       1.007900  0.801456  1.274864  1.114623  1.733817  \n Luxembourg      0.861545  0.301818  0.512891  1.479319  1.565475  \n Malta           0.679789  1.892713  0.753838  1.420108  1.253700  \n Netherlands     1.060377  0.708118  0.813946  1.564735  1.315256  \n Poland          0.990227  0.845484  0.903379  0.617894  0.970110  \n Portugal        0.861029  1.794823  0.973297  0.600264  0.866062  \n Romania         0.923812  0.539387  1.106481  1.288588  1.371944  \n Slovakia        0.983444  0.255826  1.468207  1.166191  1.412996  \n Slovenia        0.783970  0.867858  1.383859  1.335844  1.068015  \n Spain           1.026577  1.215916  0.984676  0.765207  0.750267  \n Sweden          1.164677  0.826435  0.905785  1.216643  0.950504  \n Australia       1.054637  1.135378  0.939523  1.191726  1.076779  \n Canada          1.232879  0.907477  0.922063  1.199651  0.884216  \n China           1.009732  0.969338  1.089711  0.463613  0.641677  \n Iceland         1.095943  1.993046  0.641632  1.216749  1.045447  \n Israel          0.801307  0.939372  0.668800  1.737245  0.591733  \n Japan           1.114559  1.452476  0.981903  0.532772  0.861637  \n Norway          1.231991  1.714663  0.663791  1.219434  0.778487  \n South Korea     0.992597  1.180807  0.656540  0.625207  1.057725  \n Switzerland     1.469025  0.400793  1.066674  1.095280  1.438187  \n United Kingdom  1.101672  0.784251  0.797935  1.687063  1.363335  \n United States   1.028067  0.832178  0.880615  1.392595  0.975103  ,\n                       AI  big_data       IOT  computing_infrastructure  \\\n Austria         0.923769  1.058139  0.777046                  1.040192   \n Belgium         0.920528  1.122449  1.087973                  0.766353   \n Bulgaria        0.964356  1.025173  0.746585                  1.312944   \n Croatia         1.094920  0.715907  0.744831                  0.661075   \n Cyprus          1.039892  1.038000  1.347976                  0.893717   \n Czech Republic  0.911550  0.779812  0.755686                  0.881414   \n Denmark         0.941080  1.193828  0.799010                  0.993078   \n Estonia         0.787446  1.295137  1.100045                  0.824371   \n Finland         0.873427  1.169593  1.365730                  1.520432   \n France          0.938030  1.012945  0.842140                  1.054786   \n Germany         0.940187  0.987200  0.644933                  0.870620   \n Greece          1.010904  1.110067  1.007623                  1.141673   \n Hungary         0.960164  1.214350  0.653588                  1.252202   \n Ireland         0.897354  1.360754  1.449381                  1.129760   \n Italy           0.808971  0.919666  1.183804                  0.912382   \n Latvia          0.827188  1.601845  1.446773                  1.128576   \n Lithuania       0.961584  0.904853  0.782415                  0.847434   \n Luxembourg      0.852902  1.307500  1.182374                  1.731274   \n Malta           1.033473  0.429330  0.557057                  0.734113   \n Netherlands     0.991722  1.199831  0.826833                  0.631718   \n Poland          1.042645  0.677322  0.544249                  0.823636   \n Portugal        0.932106  0.759140  1.168279                  0.987817   \n Romania         0.884312  0.747163  0.869097                  0.919080   \n Slovakia        0.850157  1.125541  0.635239                  0.651888   \n Slovenia        1.068490  0.585331  0.855360                  0.576332   \n Spain           1.016470  0.941288  1.042634                  1.081988   \n Sweden          0.816319  1.194017  1.218312                  1.237739   \n Australia       0.968185  1.195161  1.054754                  0.925833   \n Canada          0.989205  0.884309  0.964453                  1.003951   \n China           1.081419  1.004216  0.982878                  0.989421   \n Iceland         1.325867  1.265506  0.368494                  1.062198   \n Israel          1.020380  1.298936  0.638658                  0.775581   \n Japan           0.857285  0.869972  0.890790                  0.980091   \n Norway          0.961058  1.433771  0.892757                  0.807093   \n South Korea     0.860231  0.867668  1.701335                  0.906662   \n Switzerland     0.897045  1.019937  0.782553                  0.836573   \n United Kingdom  0.941464  1.300148  0.928626                  0.911180   \n United States   0.940343  1.228601  0.889960                  0.927171   \n \n                 blockchain  robotics  additive_manufacturing  \n Austria           1.375774  1.073664                1.653547  \n Belgium           0.718898  1.096016                1.556967  \n Bulgaria          1.010931  1.096213                1.037447  \n Croatia           2.145947  1.045813                0.958385  \n Cyprus            1.524560  0.854793                0.501339  \n Czech Republic    1.149208  1.122871                2.145988  \n Denmark           1.458901  1.190019                1.131136  \n Estonia           3.330572  1.182285                1.849228  \n Finland           1.416124  0.801893                1.129911  \n France            0.756952  1.240130                1.157390  \n Germany           0.918013  1.182592                1.801019  \n Greece            1.878164  0.906053                0.708212  \n Hungary           0.780828  1.020103                1.344570  \n Ireland           2.711349  0.593745                1.424932  \n Italy             1.114479  1.494260                1.352937  \n Latvia            2.831669  0.911505                1.058752  \n Lithuania         2.124805  1.181783                1.326973  \n Luxembourg        4.294782  0.890517                0.543006  \n Malta             7.860511  0.770019                1.681910  \n Netherlands       1.154461  1.170773                1.203194  \n Poland            0.876338  1.051696                1.713687  \n Portugal          1.188760  1.001493                1.513722  \n Romania           1.516032  1.268580                1.788538  \n Slovakia          0.891923  1.375663                2.294369  \n Slovenia          1.067516  1.004112                1.500838  \n Spain             0.968476  0.942465                0.881313  \n Sweden            0.699162  1.170319                1.420053  \n Australia         1.657558  0.924038                1.196042  \n Canada            0.955560  1.128237                0.943211  \n China             0.816818  0.831604                0.765231  \n Iceland           0.024765  0.426655                0.362136  \n Israel            0.551539  1.209206                0.976797  \n Japan             0.522759  1.796498                0.715671  \n Norway            1.660983  1.166873                0.876591  \n South Korea       0.997829  1.219411                0.855480  \n Switzerland       1.337202  1.378541                1.452443  \n United Kingdom    1.389407  1.040146                1.311148  \n United States     0.672663  1.191182                1.173874  ,\n                 Environment-AI  Environment-robotics  Environment-IOT  \\\n Austria               1.104605              1.096908         1.782827   \n Belgium               0.802335              1.309703         1.655545   \n Bulgaria              0.562910              0.792819         0.000000   \n Croatia               1.316929              2.061662         1.221783   \n Cyprus                1.247592              1.785766         1.298788   \n Czech Republic        0.731576              2.653891         0.709063   \n Denmark               1.239375              1.658588         1.660620   \n Estonia               1.789461              0.840520         1.105700   \n Finland               0.911260              1.237083         1.747095   \n France                1.311785              1.642920         0.701248   \n Germany               1.283015              1.276318         1.017446   \n Greece                1.145186              0.855099         1.255564   \n Hungary               0.927605              0.928879         1.352309   \n Ireland               0.715116              0.547981         1.312000   \n Italy                 0.913372              1.578929         1.714691   \n Latvia                0.073728              0.088299         5.585166   \n Lithuania             0.805376              2.941823         1.123160   \n Luxembourg            0.320520              0.191687         0.000000   \n Malta                 0.041130              7.869757         0.000000   \n Netherlands           0.953221              1.145452         0.329613   \n Poland                1.098613              1.388310         0.378918   \n Portugal              0.868466              1.478959         1.107686   \n Romania               0.802471              0.833707         2.003584   \n Slovakia              1.186704              0.561253         0.029195   \n Slovenia              1.091814              0.214725         0.727603   \n Spain                 0.959087              1.012916         1.396789   \n Sweden                0.850047              0.692621         1.433472   \n Australia             1.164244              1.815186         1.252527   \n Canada                1.229909              1.112299         0.837499   \n China                 0.947623              0.691950         0.915291   \n Iceland               1.362381              1.225352         1.222878   \n Israel                1.036511              1.142208         0.258238   \n Japan                 1.020614              2.141968         1.136805   \n Norway                1.426313              2.648976         0.528041   \n South Korea           0.925956              0.794017         1.412304   \n Switzerland           1.008543              0.964752         1.281421   \n United Kingdom        0.854593              1.593057         1.105943   \n United States         1.085208              1.359013         0.854453   \n \n                 Society-AI  Society-robotics  Society-IOT  Economy-AI  \\\n Austria           0.831882          1.025271     0.595128    1.154060   \n Belgium           0.920262          1.416120     0.699989    1.337390   \n Bulgaria          0.918725          1.251984     1.595672    1.549407   \n Croatia           1.030253          0.732339     0.307236    0.435494   \n Cyprus            1.096207          0.484178     0.485981    0.227605   \n Czech Republic    0.852909          2.070086     0.496956    1.280894   \n Denmark           0.629465          1.355426     0.856718    0.883996   \n Estonia           0.372119          1.297239     0.787738    1.920099   \n Finland           0.939562          1.316032     0.859951    0.477845   \n France            0.740934          1.062027     0.932075    0.800365   \n Germany           0.851525          1.203647     0.463759    1.158366   \n Greece            0.961739          1.296438     0.639302    1.155085   \n Hungary           1.037746          1.841697     0.656825    0.900957   \n Ireland           0.982104          1.212849     1.216983    1.380852   \n Italy             0.836533          1.589515     0.808823    0.790428   \n Latvia            1.139210          0.360899     1.861174    1.445364   \n Lithuania         0.962549          1.257792     0.364796    1.232034   \n Luxembourg        1.860558          0.946267     0.061843    2.134440   \n Malta             0.968505          0.000000     0.893074    0.000000   \n Netherlands       1.028968          1.867150     0.526213    1.123658   \n Poland            1.087041          1.083546     0.422075    1.372500   \n Portugal          0.923316          1.311901     0.747201    1.289508   \n Romania           0.897671          1.290711     0.820310    1.279498   \n Slovakia          0.857249          1.995554     0.326884    2.392475   \n Slovenia          1.152940          1.568335     0.561043    0.711996   \n Spain             0.950978          1.252304     0.834902    1.125382   \n Sweden            0.924671          1.648971     0.939612    1.124936   \n Australia         0.845334          1.075867     0.634420    0.928571   \n Canada            0.984362          0.874720     0.818268    0.725404   \n China             1.070914          0.860236     1.251017    0.916495   \n Iceland           0.954436          0.740776     0.177631    1.862269   \n Israel            1.265034          1.954762     0.578546    0.076323   \n Japan             0.795342          1.755745     0.727015    0.640564   \n Norway            0.644952          0.896348     0.621705    1.043550   \n South Korea       0.893508          0.686748     1.572856    0.876328   \n Switzerland       0.917816          1.627019     0.771575    1.163246   \n United Kingdom    0.959795          1.142742     0.781886    1.170337   \n United States     1.002452          1.218685     0.681856    0.941627   \n \n                 Economy-robotics  Economy-IOT  \n Austria                 3.818281     1.474305  \n Belgium                 1.049074     2.301738  \n Bulgaria                0.000000     3.287991  \n Croatia                 0.285879     1.065858  \n Cyprus                  1.152599     1.023080  \n Czech Republic          1.290255     1.273496  \n Denmark                 0.949808     1.566814  \n Estonia                 0.979337     0.527617  \n Finland                 0.894444     2.643967  \n France                  0.495193     1.341585  \n Germany                 2.193931     1.259097  \n Greece                  1.278326     1.085204  \n Hungary                 1.675933     0.843814  \n Ireland                 1.871566     1.536116  \n Italy                   1.686207     1.562880  \n Latvia                  0.000000     0.000000  \n Lithuania               0.467667     1.010199  \n Luxembourg              0.529647     2.278907  \n Malta                   0.000000     0.000000  \n Netherlands             2.722618     1.102286  \n Poland                  0.935493     0.996029  \n Portugal                1.845612     1.521292  \n Romania                 2.921495     2.096494  \n Slovakia                1.356941     1.551759  \n Slovenia                2.087548     1.915193  \n Spain                   1.188248     1.501672  \n Sweden                  2.002337     1.714200  \n Australia               1.537024     0.972024  \n Canada                  1.064142     0.975702  \n China                   0.613512     0.685153  \n Iceland                 0.000000     1.118396  \n Israel                  1.372634     0.000000  \n Japan                   1.594084     0.886237  \n Norway                  0.959812     0.476538  \n South Korea             0.339538     1.168873  \n Switzerland             1.277576     1.092149  \n United Kingdom          1.465349     1.560465  \n United States           1.364427     0.722600  ]"
     },
     "execution_count": 66,
     "metadata": {},
     "output_type": "execute_result"
    }
   ],
   "source": [],
   "metadata": {
    "collapsed": false
   }
  },
  {
   "cell_type": "code",
   "execution_count": 68,
   "outputs": [],
   "source": [
    "with pd.ExcelWriter('output.xlsx') as writer:\n",
    "     for i, df in enumerate(lst_df_spec):\n",
    "        df.to_excel(writer, sheet_name=f'Sheet{i+1}')"
   ],
   "metadata": {
    "collapsed": false
   }
  },
  {
   "cell_type": "markdown",
   "source": [
    "## New Specialization graphs"
   ],
   "metadata": {
    "collapsed": false
   }
  },
  {
   "cell_type": "code",
   "execution_count": 77,
   "outputs": [],
   "source": [
    "def transform_discrete_value(value):\n",
    "    if value < 0.75:\n",
    "        return \"Under-specialized (RTA < 0.75)\"\n",
    "    elif 0.75 <= value <= 1.25:\n",
    "        return \"Not-specialized (0.75 <= RTA <= 1.25)\"\n",
    "    elif value > 1.25:\n",
    "        return \"Specialized (RTA > 1.25)\"\n",
    "    else:\n",
    "        return \"error\""
   ],
   "metadata": {
    "collapsed": false
   }
  },
  {
   "cell_type": "code",
   "execution_count": 141,
   "outputs": [],
   "source": [
    "def reorder_values(dataframe, col):\n",
    "    \"\"\"\n",
    "\n",
    "    Args:\n",
    "        dataframe:\n",
    "        col:\n",
    "\n",
    "    Returns:\n",
    "        The dataframe reordered so that Specialized is on top, Not specialized in the middle, and under specialized is\n",
    "        at the bottom of the legend\n",
    "    \"\"\"\n",
    "    lst_index = list(dataframe.index)\n",
    "\n",
    "    bottom_index = dataframe.loc[dataframe[col] == \"Under-specialized (RTA < 0.75)\"].index\n",
    "    middle_index = dataframe.loc[dataframe[col] == \"Not-specialized (0.75 <= RTA <= 1.25)\"].index\n",
    "    top_index = dataframe.loc[dataframe[col] == \"Specialized (RTA > 1.25)\"].index\n",
    "\n",
    "    new_order = [top_index, middle_index, bottom_index]\n",
    "    new_order_single_elem = []\n",
    "    for elem in new_order:\n",
    "        if len(elem) > 0:\n",
    "            new_order_single_elem.append(elem[0])\n",
    "            lst_index.remove(elem[0])\n",
    "\n",
    "    return new_order_single_elem + lst_index"
   ],
   "metadata": {
    "collapsed": false
   }
  },
  {
   "cell_type": "code",
   "execution_count": 141,
   "outputs": [],
   "source": [],
   "metadata": {
    "collapsed": false
   }
  },
  {
   "cell_type": "markdown",
   "source": [
    "### CATGORIES SPEC GRAPHS"
   ],
   "metadata": {
    "collapsed": false
   }
  },
  {
   "cell_type": "code",
   "execution_count": 150,
   "outputs": [],
   "source": [
    "import plotly.express as px\n",
    "# df_spec_cat = pd.read_excel(\"../img/Commission/spec_fractional.xlsx\", sheet_name=\"cat\", index_col=0)\n",
    "df_spec_cat = pd.read_excel(\"../img/old_commission/specialization copy.xlsx\", sheet_name=\"categories\", index_col=0)\n",
    "df_spec_cat = df_spec_cat.loc[lst_eu, :]\n",
    "df_spec_cat = df_spec_cat.apply(np.vectorize(transform_discrete_value))\n",
    "\n",
    "\n",
    "for cat in lst_cat:\n",
    "    ordered_index = reorder_values(df_spec_cat, cat)\n",
    "    fig = px.choropleth(\n",
    "        # locations=df_spec_cat.loc[lst_eu, :].index,\n",
    "        locations=ordered_index,\n",
    "        color=df_spec_cat.loc[ordered_index, cat],\n",
    "        color_discrete_map={\"Under-specialized (RTA < 0.75)\":\"#2ECBE9\", \"Not-specialized (0.75 <= RTA <= 1.25)\":\"#128FC8\", \"Specialized (RTA > 1.25)\":\"#00468B\"},\n",
    "        locationmode=\"country names\",\n",
    "    )\n",
    "\n",
    "    fig.update_layout(\n",
    "        template='simple_white',\n",
    "        font=dict(size=18),\n",
    "        showlegend=True,\n",
    "        legend=dict\n",
    "            (\n",
    "            title=\"Specialization\",\n",
    "            yanchor=\"top\",\n",
    "            y=1,\n",
    "            xanchor=\"left\",\n",
    "            x=0.048,\n",
    "            bordercolor=\"Black\",\n",
    "            borderwidth=2\n",
    "            ),\n",
    "        geo=go.layout.Geo(\n",
    "            scope=\"world\",\n",
    "            landcolor='lightgray',\n",
    "            projection_scale=float(6.1),\n",
    "            center=dict(lon=15, lat=52),\n",
    "            projection_type=\"azimuthal equal area\",\n",
    "            showland=True,\n",
    "            showcountries=False,\n",
    "        ),\n",
    "        height=1080,\n",
    "        width=1200\n",
    "\n",
    "\n",
    "    )\n",
    "    fig.write_image(f\"../img/Commission/maps/specialization/full_count/{cat}.jpg\")\n",
    "    # pio.write_image(fig, folder, format='png')"
   ],
   "metadata": {
    "collapsed": false
   }
  },
  {
   "cell_type": "markdown",
   "source": [
    "### DT SPEC GRAPSH"
   ],
   "metadata": {
    "collapsed": false
   }
  },
  {
   "cell_type": "code",
   "execution_count": 151,
   "outputs": [],
   "source": [
    "import plotly.express as px\n",
    "# df_spec_dt =pd.read_excel(\"../img/Commission/spec_fractional.xlsx\", sheet_name=\"dt\", index_col=0)\n",
    "df_spec_dt =pd.read_excel(\"../img/old_commission/specialization copy.xlsx\", sheet_name=\"dt\", index_col=0)\n",
    "df_spec_dt = df_spec_dt.loc[lst_eu, :]\n",
    "df_spec_dt = df_spec_dt.apply(np.vectorize(transform_discrete_value))\n",
    "for dt in ['AI', 'IOT', 'robotics']:\n",
    "    ordered_index = reorder_values(df_spec_dt, dt)\n",
    "    fig = px.choropleth(\n",
    "        locations=ordered_index,\n",
    "        color=df_spec_dt.loc[ordered_index, dt],\n",
    "        color_discrete_map={\"Under-specialized (RTA < 0.75)\":\"#2ECBE9\", \"Not-specialized (0.75 <= RTA <= 1.25)\":\"#128FC8\", \"Specialized (RTA > 1.25)\":\"#00468B\"},\n",
    "        locationmode=\"country names\",\n",
    "    )\n",
    "\n",
    "    fig.update_layout(\n",
    "        template='simple_white',\n",
    "        font=dict(size=18),\n",
    "        showlegend=True,\n",
    "\n",
    "        legend=dict\n",
    "            (\n",
    "            title=\"Specialization\",\n",
    "            yanchor=\"top\",\n",
    "            y=1,\n",
    "            xanchor=\"left\",\n",
    "            x=0.048,\n",
    "            bordercolor=\"Black\",\n",
    "            borderwidth=2\n",
    "            ),\n",
    "        geo=go.layout.Geo(\n",
    "            scope=\"world\",\n",
    "            landcolor='lightgray',\n",
    "            projection_scale=float(6.1),\n",
    "            center=dict(lon=15, lat=52),\n",
    "            projection_type=\"azimuthal equal area\",\n",
    "            showland=True,\n",
    "            showcountries=False,\n",
    "        ),\n",
    "        height=1080,\n",
    "        width=1200\n",
    "\n",
    "\n",
    "    )\n",
    "    fig.write_image(f\"../img/Commission/maps/specialization/full_count//{dt}.jpg\")\n",
    "    # pio.write_image(fig, folder, format='png')"
   ],
   "metadata": {
    "collapsed": false
   }
  },
  {
   "cell_type": "markdown",
   "source": [
    "## CAT DT SPEC GRAPHS"
   ],
   "metadata": {
    "collapsed": false
   }
  },
  {
   "cell_type": "code",
   "execution_count": 153,
   "outputs": [],
   "source": [
    "import plotly.express as px\n",
    "# df_spec_cat_dt = pd.read_excel(\"../img/Commission/spec_fractional.xlsx\", sheet_name=\"cat-dt\", index_col=0)\n",
    "df_spec_cat_dt = pd.read_excel(\"../img/old_commission/specialization copy.xlsx\", sheet_name=\"cat-dt\", index_col=0)\n",
    "df_spec_cat_dt = df_spec_cat_dt.fillna(0)\n",
    "df_spec_cat_dt = df_spec_cat_dt.loc[lst_eu, :]\n",
    "df_spec_cat_dt = df_spec_cat_dt.apply(np.vectorize(transform_discrete_value))\n",
    "\n",
    "for dt in df_spec_cat_dt.columns:\n",
    "    ordered_index = reorder_values(df_spec_cat_dt, dt)\n",
    "    fig = px.choropleth(\n",
    "        locations=ordered_index,\n",
    "        color=df_spec_cat_dt.loc[ordered_index, dt],\n",
    "        color_discrete_map={\"Under-specialized (RTA < 0.75)\":\"#2ECBE9\", \"Not-specialized (0.75 <= RTA <= 1.25)\":\"#128FC8\", \"Specialized (RTA > 1.25)\":\"#00468B\"},\n",
    "        locationmode=\"country names\",\n",
    "    )\n",
    "\n",
    "    fig.update_layout(\n",
    "        template='simple_white',\n",
    "        font=dict(size=18),\n",
    "        showlegend=True,\n",
    "\n",
    "        legend=dict\n",
    "            (\n",
    "            title=\"Specialization\",\n",
    "            yanchor=\"top\",\n",
    "            y=1,\n",
    "            xanchor=\"left\",\n",
    "            x=0.048,\n",
    "            bordercolor=\"Black\",\n",
    "            borderwidth=2\n",
    "            ),\n",
    "        geo=go.layout.Geo(\n",
    "            scope=\"world\",\n",
    "            landcolor='lightgray',\n",
    "            projection_scale=float(6.1),\n",
    "            center=dict(lon=15, lat=52),\n",
    "            projection_type=\"azimuthal equal area\",\n",
    "            showland=True,\n",
    "            showcountries=False,\n",
    "        ),\n",
    "        height=1080,\n",
    "        width=1200\n",
    "\n",
    "\n",
    "    )\n",
    "    fig.write_image(f\"../img/Commission/maps/specialization/full_count/{dt}.jpg\")\n",
    "    # pio.write_image(fig, folder, format='png')"
   ],
   "metadata": {
    "collapsed": false
   }
  },
  {
   "cell_type": "markdown",
   "source": [
    "## SDG SPEC GRAPHS"
   ],
   "metadata": {
    "collapsed": false
   }
  },
  {
   "cell_type": "code",
   "execution_count": 155,
   "outputs": [],
   "source": [
    "import plotly.express as px\n",
    "# df_spec_sdg = pd.read_excel(\"../img/Commission/spec_fractional.xlsx\", sheet_name=\"sdg\", index_col=0)\n",
    "df_spec_sdg = pd.read_excel(\"../img/old_commission/specialization copy.xlsx\", sheet_name=\"sdg\", index_col=0)\n",
    "df_spec_sdg = df_spec_sdg.fillna(0)\n",
    "df_spec_sdg = df_spec_sdg.loc[lst_eu, :]\n",
    "df_spec_sdg = df_spec_sdg.apply(np.vectorize(transform_discrete_value))\n",
    "\n",
    "for sdg in lst_sdg:\n",
    "    ordered_index = reorder_values(df_spec_sdg, sdg)\n",
    "    fig = px.choropleth(\n",
    "        locations=ordered_index,\n",
    "        color=df_spec_sdg.loc[ordered_index, sdg],\n",
    "        color_discrete_map={\"Under-specialized (RTA < 0.75)\":\"#2ECBE9\", \"Not-specialized (0.75 <= RTA <= 1.25)\":\"#128FC8\", \"Specialized (RTA > 1.25)\":\"#00468B\"},\n",
    "        locationmode=\"country names\",\n",
    "    )\n",
    "\n",
    "    fig.update_layout(\n",
    "        template='simple_white',\n",
    "        font=dict(size=18),\n",
    "        showlegend=True,\n",
    "\n",
    "        legend=dict\n",
    "            (\n",
    "            title=\"Specialization\",\n",
    "            yanchor=\"top\",\n",
    "            y=1,\n",
    "            xanchor=\"left\",\n",
    "            x=0.048,\n",
    "            bordercolor=\"Black\",\n",
    "            borderwidth=2\n",
    "            ),\n",
    "        geo=go.layout.Geo(\n",
    "            scope=\"world\",\n",
    "            landcolor='lightgray',\n",
    "            projection_scale=float(6.1),\n",
    "            center=dict(lon=15, lat=52),\n",
    "            projection_type=\"azimuthal equal area\",\n",
    "            showland=True,\n",
    "            showcountries=False,\n",
    "        ),\n",
    "        height=1080,\n",
    "        width=1200\n",
    "\n",
    "\n",
    "    )\n",
    "    fig.write_image(f\"../img/Commission/maps/specialization/full_count/SDG/{sdg}.jpg\")\n",
    "    # pio.write_image(fig, folder, format='png')"
   ],
   "metadata": {
    "collapsed": false
   }
  },
  {
   "cell_type": "code",
   "execution_count": null,
   "outputs": [],
   "source": [],
   "metadata": {
    "collapsed": false
   }
  }
 ],
 "metadata": {
  "kernelspec": {
   "display_name": "Python 3",
   "language": "python",
   "name": "python3"
  },
  "language_info": {
   "codemirror_mode": {
    "name": "ipython",
    "version": 2
   },
   "file_extension": ".py",
   "mimetype": "text/x-python",
   "name": "python",
   "nbconvert_exporter": "python",
   "pygments_lexer": "ipython2",
   "version": "2.7.6"
  }
 },
 "nbformat": 4,
 "nbformat_minor": 0
}
