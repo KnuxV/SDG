{
 "cells": [
  {
   "cell_type": "markdown",
   "source": [
    "# raw, strength and specialization"
   ],
   "metadata": {
    "collapsed": false
   }
  },
  {
   "cell_type": "code",
   "execution_count": 1,
   "outputs": [],
   "source": [
    "import pandas as pd\n",
    "import os\n",
    "import numpy as np\n",
    "import matplotlib.pyplot as plt\n",
    "from matplotlib.collections import PatchCollection\n",
    "import plotly.graph_objects as go\n",
    "\n",
    "from plotly.subplots import make_subplots\n",
    "import plotly"
   ],
   "metadata": {
    "collapsed": false
   }
  },
  {
   "cell_type": "code",
   "execution_count": 2,
   "outputs": [],
   "source": [
    "df_sdg = pd.read_pickle(\"../data/dataframes/output/all_sdg_fixed_dst.pkl\")\n",
    "df_digital = pd.read_pickle(\"../data/dataframes/DT/dt_updated.pkl\")\n",
    "eu = pd.read_excel(\"../data/countries_eu.xlsx\", sheet_name='EU')['Country'].to_list()\n",
    "# Filtering for Journal only\n",
    "df_sdg = df_sdg[df_sdg.PT == 'J']\n",
    "df_digital = df_digital[df_digital.PT == 'J']\n",
    "df_sdg_dt = df_sdg[df_sdg['DST']]\n",
    "\n",
    "idx_sdg = {name: i for i, name in enumerate(list(df_sdg), start=0)}\n",
    "idx_dt = {name: i for i, name in enumerate(list(df_digital), start=0)}\n",
    "idx_sdg_dt = {name: i for i, name in enumerate(list(df_sdg_dt), start=0)}"
   ],
   "metadata": {
    "collapsed": false
   }
  },
  {
   "cell_type": "code",
   "execution_count": 3,
   "outputs": [],
   "source": [
    "eu_countries = pd.read_excel(\"../data/countries_eu.xlsx\", sheet_name='EU').Country.to_list()\n",
    "other_countries = pd.read_excel(\"../data/countries_eu.xlsx\", sheet_name='rest').Country.to_list()\n",
    "# gdp = pd.read_csv(\"../data/countriesgdp_pop.csv\", index_col=\"ranking\")\n",
    "# gdp = gdp[gdp.Country.isin(eu_countries + other_countries)].set_index(\"Country\")\n",
    "# gdp.loc[\"EU\", \"gdppc\"] = 44024\n",
    "# gdp.loc[\"EU\", \"pop2022\"] = 446800\n",
    "# gdp.loc[\"EU\", \"gdp\"] = 446800*44024\n",
    "# gdp\n",
    "gdppop = pd.read_excel(\"../data/gdp_avgpop.xlsx\", index_col=0)\n"
   ],
   "metadata": {
    "collapsed": false
   }
  },
  {
   "cell_type": "code",
   "execution_count": 13,
   "metadata": {
    "collapsed": true
   },
   "outputs": [],
   "source": [
    "\"\"\"\n",
    "# Digital\n",
    "\n",
    "dic_countries = {country: [0, 0, 0]  for country in gdppop.index}\n",
    "for row in df_digital.itertuples(index=False, name=None):\n",
    "    lst_actors = row[idx_dt['CN']].split(\", \")\n",
    "    year = row[idx_dt['PY']]\n",
    "    size_actors = len(lst_actors)\n",
    "    for actor in lst_actors:\n",
    "        if actor in dic_countries.keys():\n",
    "            # Increment for digital\n",
    "            dic_countries[actor][0] += 1 / size_actors\n",
    "            if actor in eu_countries:\n",
    "                dic_countries['EU'][0] += 1 / size_actors\n",
    "\n",
    "# SDG & SDG-DT\n",
    "for row in df_sdg.itertuples(index=False, name=None):\n",
    "    lst_actors = row[idx_sdg['CN']].split(\", \")\n",
    "    year = row[idx_sdg['PY']]\n",
    "    size_actors = len(lst_actors)\n",
    "    for actor in lst_actors:\n",
    "        if actor in dic_countries.keys():\n",
    "            # Increment for SDG\n",
    "            dic_countries[actor][1] += 1 / size_actors\n",
    "            if actor in eu_countries:\n",
    "                dic_countries['EU'][1] += 1 / size_actors\n",
    "            if row[-1]:\n",
    "                # Increment for SDG-DT\n",
    "                dic_countries[actor][2] += 1 / size_actors\n",
    "                if actor in eu_countries:\n",
    "                    dic_countries['EU'][2] += 1 / size_actors\n",
    "\"\"\"\n",
    "from collections import Counter\n",
    "dic_countries_frac = {country:Counter() for country in gdppop.index}\n",
    "# Digital\n",
    "for row in df_digital.itertuples(index=False, name=None):\n",
    "    cn = row[idx_dt['CN']]\n",
    "    lst_actors = cn.split(\", \")\n",
    "    size_actors = len(lst_actors)\n",
    "    for actor in lst_actors:\n",
    "        if actor in dic_countries_frac.keys():\n",
    "            # Increment for digital\n",
    "            dic_countries_frac[actor]['DT'] += 1/size_actors\n",
    "\n",
    "            if actor in eu:\n",
    "                dic_countries_frac['EU']['DT'] += 1/size_actors\n",
    "\n",
    "# SDG & SDG-DT\n",
    "for row in df_sdg.itertuples(index=False, name=None):\n",
    "    cn = row[idx_sdg['CN']]\n",
    "    lst_actors = cn.split(\", \")\n",
    "    size_actors = len(lst_actors)\n",
    "    for actor in lst_actors:\n",
    "        if actor in dic_countries_frac.keys():\n",
    "            # Increment for SDG\n",
    "            dic_countries_frac[actor]['SDG'] += 1/size_actors\n",
    "\n",
    "            if actor in eu:\n",
    "                dic_countries_frac['EU']['SDG'] += 1/size_actors\n",
    "\n",
    "            if row[-1]:\n",
    "                # Increment for SDG-DT\n",
    "                dic_countries_frac[actor]['Inter'] += 1/size_actors\n",
    "\n",
    "                if actor in eu:\n",
    "                    dic_countries_frac['EU']['Inter'] += 1/size_actors\n"
   ]
  },
  {
   "cell_type": "code",
   "execution_count": 20,
   "outputs": [
    {
     "data": {
      "text/plain": "                          DT           SDG        Inter       avg_pop  \\\nAustria          3236.053303   5372.635315   138.258313  8.665144e+06   \nBelgium          4779.746296   8371.507113   181.901241  1.128651e+07   \nBulgaria          549.483471   1009.169897    24.554932  7.146214e+06   \nCroatia          1225.321102   2621.667351    78.026927  4.161662e+06   \nCyprus            541.687904    851.738882    41.854211  1.165859e+06   \nCzech Republic   2647.521995   4618.636023   107.792072  1.057757e+07   \nDenmark          3078.092221   7977.961969   143.020285  5.703408e+06   \nEstonia           438.769553   1238.384147    31.906383  1.322525e+06   \nFinland          3615.406532   7719.220726   200.267440  5.471458e+06   \nFrance          15853.700722  23290.960538   551.407769  6.648011e+07   \nGermany         24569.802808  36083.595931   941.987972  8.192392e+07   \nGreece           5160.642990   7298.045071   311.481502  1.085833e+07   \nHungary          1670.516461   2767.537751    85.481166  9.841952e+06   \nIreland          2429.286519   4481.205904   122.954903  4.758464e+06   \nItaly           24648.310547  37292.169893  1219.920814  5.998175e+07   \nLatvia            217.616616    582.122971    10.760751  1.975161e+06   \nLithuania         788.154774   1752.292576    40.237259  2.899221e+06   \nLuxembourg        339.384507    457.427076    23.212576  5.751099e+05   \nMalta              96.151579    256.117513     2.943655  4.583858e+05   \nNetherlands      8149.341042  17333.784583   330.855868  1.703215e+07   \nPoland           7936.649903  13146.977740   349.013199  3.798107e+07   \nPortugal         4985.216536  11419.517093   295.291351  1.038786e+07   \nRomania          3257.436330   5698.929843   211.371191  1.972250e+07   \nSlovakia         1092.612611   1733.551491    41.527329  5.427521e+06   \nSlovenia         1550.891690   1862.611074    60.474226  2.070599e+06   \nSpain           21779.103279  35876.370198  1183.567861  4.677820e+07   \nSweden           4989.671550  13918.160300   243.500257  9.887210e+06   \n\n                     gdp   SDG-pop    DT-pop  Inter-pop   SDG-gdp    DT-gdp  \\\nAustria          92140.6  0.000620  0.000373   0.000016  0.058309  0.035121   \nBelgium           118204  0.000742  0.000423   0.000016  0.070823  0.040436   \nBulgaria         14512.3  0.000141  0.000077   0.000003  0.069539  0.037863   \nCroatia          12658.3  0.000630  0.000294   0.000019  0.207111    0.0968   \nCyprus            5570.4  0.000731  0.000465   0.000036  0.152904  0.097244   \nCzech Republic   53083.1  0.000437  0.000250   0.000010  0.087008  0.049875   \nDenmark          77598.3  0.001399  0.000540   0.000025  0.102811  0.039667   \nEstonia           6751.5  0.000936  0.000332   0.000024  0.183424  0.064988   \nFinland            57830  0.001411  0.000661   0.000037  0.133481  0.062518   \nFrance          604440.4  0.000350  0.000238   0.000008  0.038533  0.026229   \nGermany           862030  0.000440  0.000300   0.000011  0.041859  0.028502   \nGreece           39760.8  0.000672  0.000475   0.000029  0.183549  0.129792   \nHungary          31845.5  0.000281  0.000170   0.000009  0.086905  0.052457   \nIreland         101222.2  0.000942  0.000511   0.000026  0.044271     0.024   \nItaly           412230.4  0.000622  0.000411   0.000020  0.090464  0.059793   \nLatvia            7103.2  0.000295  0.000110   0.000005  0.081952  0.030636   \nLithuania        12064.6  0.000604  0.000272   0.000014  0.145242  0.065328   \nLuxembourg       16685.8  0.000795  0.000590   0.000040  0.027414   0.02034   \nMalta             3510.5  0.000559  0.000210   0.000006  0.072958   0.02739   \nNetherlands       201099  0.001018  0.000478   0.000019  0.086195  0.040524   \nPoland          130755.9  0.000346  0.000209   0.000009  0.100546  0.060698   \nPortugal         49247.8  0.001099  0.000480   0.000028  0.231879  0.101227   \nRomania            46739  0.000289  0.000165   0.000011  0.121931  0.069694   \nSlovakia         22081.1  0.000319  0.000201   0.000008  0.078508  0.049482   \nSlovenia         11605.6  0.000900  0.000749   0.000029  0.160492  0.133633   \nSpain             279044  0.000767  0.000466   0.000025  0.128569  0.078049   \nSweden          125461.7  0.001408  0.000505   0.000025  0.110936   0.03977   \n\n               Inter-gdp  \nAustria         0.001501  \nBelgium         0.001539  \nBulgaria        0.001692  \nCroatia         0.006164  \nCyprus          0.007514  \nCzech Republic  0.002031  \nDenmark         0.001843  \nEstonia         0.004726  \nFinland         0.003463  \nFrance          0.000912  \nGermany         0.001093  \nGreece          0.007834  \nHungary         0.002684  \nIreland         0.001215  \nItaly           0.002959  \nLatvia          0.001515  \nLithuania       0.003335  \nLuxembourg      0.001391  \nMalta           0.000839  \nNetherlands     0.001645  \nPoland          0.002669  \nPortugal        0.005996  \nRomania         0.004522  \nSlovakia        0.001881  \nSlovenia        0.005211  \nSpain           0.004242  \nSweden          0.001941  ",
      "text/html": "<div>\n<style scoped>\n    .dataframe tbody tr th:only-of-type {\n        vertical-align: middle;\n    }\n\n    .dataframe tbody tr th {\n        vertical-align: top;\n    }\n\n    .dataframe thead th {\n        text-align: right;\n    }\n</style>\n<table border=\"1\" class=\"dataframe\">\n  <thead>\n    <tr style=\"text-align: right;\">\n      <th></th>\n      <th>DT</th>\n      <th>SDG</th>\n      <th>Inter</th>\n      <th>avg_pop</th>\n      <th>gdp</th>\n      <th>SDG-pop</th>\n      <th>DT-pop</th>\n      <th>Inter-pop</th>\n      <th>SDG-gdp</th>\n      <th>DT-gdp</th>\n      <th>Inter-gdp</th>\n    </tr>\n  </thead>\n  <tbody>\n    <tr>\n      <th>Austria</th>\n      <td>3236.053303</td>\n      <td>5372.635315</td>\n      <td>138.258313</td>\n      <td>8.665144e+06</td>\n      <td>92140.6</td>\n      <td>0.000620</td>\n      <td>0.000373</td>\n      <td>0.000016</td>\n      <td>0.058309</td>\n      <td>0.035121</td>\n      <td>0.001501</td>\n    </tr>\n    <tr>\n      <th>Belgium</th>\n      <td>4779.746296</td>\n      <td>8371.507113</td>\n      <td>181.901241</td>\n      <td>1.128651e+07</td>\n      <td>118204</td>\n      <td>0.000742</td>\n      <td>0.000423</td>\n      <td>0.000016</td>\n      <td>0.070823</td>\n      <td>0.040436</td>\n      <td>0.001539</td>\n    </tr>\n    <tr>\n      <th>Bulgaria</th>\n      <td>549.483471</td>\n      <td>1009.169897</td>\n      <td>24.554932</td>\n      <td>7.146214e+06</td>\n      <td>14512.3</td>\n      <td>0.000141</td>\n      <td>0.000077</td>\n      <td>0.000003</td>\n      <td>0.069539</td>\n      <td>0.037863</td>\n      <td>0.001692</td>\n    </tr>\n    <tr>\n      <th>Croatia</th>\n      <td>1225.321102</td>\n      <td>2621.667351</td>\n      <td>78.026927</td>\n      <td>4.161662e+06</td>\n      <td>12658.3</td>\n      <td>0.000630</td>\n      <td>0.000294</td>\n      <td>0.000019</td>\n      <td>0.207111</td>\n      <td>0.0968</td>\n      <td>0.006164</td>\n    </tr>\n    <tr>\n      <th>Cyprus</th>\n      <td>541.687904</td>\n      <td>851.738882</td>\n      <td>41.854211</td>\n      <td>1.165859e+06</td>\n      <td>5570.4</td>\n      <td>0.000731</td>\n      <td>0.000465</td>\n      <td>0.000036</td>\n      <td>0.152904</td>\n      <td>0.097244</td>\n      <td>0.007514</td>\n    </tr>\n    <tr>\n      <th>Czech Republic</th>\n      <td>2647.521995</td>\n      <td>4618.636023</td>\n      <td>107.792072</td>\n      <td>1.057757e+07</td>\n      <td>53083.1</td>\n      <td>0.000437</td>\n      <td>0.000250</td>\n      <td>0.000010</td>\n      <td>0.087008</td>\n      <td>0.049875</td>\n      <td>0.002031</td>\n    </tr>\n    <tr>\n      <th>Denmark</th>\n      <td>3078.092221</td>\n      <td>7977.961969</td>\n      <td>143.020285</td>\n      <td>5.703408e+06</td>\n      <td>77598.3</td>\n      <td>0.001399</td>\n      <td>0.000540</td>\n      <td>0.000025</td>\n      <td>0.102811</td>\n      <td>0.039667</td>\n      <td>0.001843</td>\n    </tr>\n    <tr>\n      <th>Estonia</th>\n      <td>438.769553</td>\n      <td>1238.384147</td>\n      <td>31.906383</td>\n      <td>1.322525e+06</td>\n      <td>6751.5</td>\n      <td>0.000936</td>\n      <td>0.000332</td>\n      <td>0.000024</td>\n      <td>0.183424</td>\n      <td>0.064988</td>\n      <td>0.004726</td>\n    </tr>\n    <tr>\n      <th>Finland</th>\n      <td>3615.406532</td>\n      <td>7719.220726</td>\n      <td>200.267440</td>\n      <td>5.471458e+06</td>\n      <td>57830</td>\n      <td>0.001411</td>\n      <td>0.000661</td>\n      <td>0.000037</td>\n      <td>0.133481</td>\n      <td>0.062518</td>\n      <td>0.003463</td>\n    </tr>\n    <tr>\n      <th>France</th>\n      <td>15853.700722</td>\n      <td>23290.960538</td>\n      <td>551.407769</td>\n      <td>6.648011e+07</td>\n      <td>604440.4</td>\n      <td>0.000350</td>\n      <td>0.000238</td>\n      <td>0.000008</td>\n      <td>0.038533</td>\n      <td>0.026229</td>\n      <td>0.000912</td>\n    </tr>\n    <tr>\n      <th>Germany</th>\n      <td>24569.802808</td>\n      <td>36083.595931</td>\n      <td>941.987972</td>\n      <td>8.192392e+07</td>\n      <td>862030</td>\n      <td>0.000440</td>\n      <td>0.000300</td>\n      <td>0.000011</td>\n      <td>0.041859</td>\n      <td>0.028502</td>\n      <td>0.001093</td>\n    </tr>\n    <tr>\n      <th>Greece</th>\n      <td>5160.642990</td>\n      <td>7298.045071</td>\n      <td>311.481502</td>\n      <td>1.085833e+07</td>\n      <td>39760.8</td>\n      <td>0.000672</td>\n      <td>0.000475</td>\n      <td>0.000029</td>\n      <td>0.183549</td>\n      <td>0.129792</td>\n      <td>0.007834</td>\n    </tr>\n    <tr>\n      <th>Hungary</th>\n      <td>1670.516461</td>\n      <td>2767.537751</td>\n      <td>85.481166</td>\n      <td>9.841952e+06</td>\n      <td>31845.5</td>\n      <td>0.000281</td>\n      <td>0.000170</td>\n      <td>0.000009</td>\n      <td>0.086905</td>\n      <td>0.052457</td>\n      <td>0.002684</td>\n    </tr>\n    <tr>\n      <th>Ireland</th>\n      <td>2429.286519</td>\n      <td>4481.205904</td>\n      <td>122.954903</td>\n      <td>4.758464e+06</td>\n      <td>101222.2</td>\n      <td>0.000942</td>\n      <td>0.000511</td>\n      <td>0.000026</td>\n      <td>0.044271</td>\n      <td>0.024</td>\n      <td>0.001215</td>\n    </tr>\n    <tr>\n      <th>Italy</th>\n      <td>24648.310547</td>\n      <td>37292.169893</td>\n      <td>1219.920814</td>\n      <td>5.998175e+07</td>\n      <td>412230.4</td>\n      <td>0.000622</td>\n      <td>0.000411</td>\n      <td>0.000020</td>\n      <td>0.090464</td>\n      <td>0.059793</td>\n      <td>0.002959</td>\n    </tr>\n    <tr>\n      <th>Latvia</th>\n      <td>217.616616</td>\n      <td>582.122971</td>\n      <td>10.760751</td>\n      <td>1.975161e+06</td>\n      <td>7103.2</td>\n      <td>0.000295</td>\n      <td>0.000110</td>\n      <td>0.000005</td>\n      <td>0.081952</td>\n      <td>0.030636</td>\n      <td>0.001515</td>\n    </tr>\n    <tr>\n      <th>Lithuania</th>\n      <td>788.154774</td>\n      <td>1752.292576</td>\n      <td>40.237259</td>\n      <td>2.899221e+06</td>\n      <td>12064.6</td>\n      <td>0.000604</td>\n      <td>0.000272</td>\n      <td>0.000014</td>\n      <td>0.145242</td>\n      <td>0.065328</td>\n      <td>0.003335</td>\n    </tr>\n    <tr>\n      <th>Luxembourg</th>\n      <td>339.384507</td>\n      <td>457.427076</td>\n      <td>23.212576</td>\n      <td>5.751099e+05</td>\n      <td>16685.8</td>\n      <td>0.000795</td>\n      <td>0.000590</td>\n      <td>0.000040</td>\n      <td>0.027414</td>\n      <td>0.02034</td>\n      <td>0.001391</td>\n    </tr>\n    <tr>\n      <th>Malta</th>\n      <td>96.151579</td>\n      <td>256.117513</td>\n      <td>2.943655</td>\n      <td>4.583858e+05</td>\n      <td>3510.5</td>\n      <td>0.000559</td>\n      <td>0.000210</td>\n      <td>0.000006</td>\n      <td>0.072958</td>\n      <td>0.02739</td>\n      <td>0.000839</td>\n    </tr>\n    <tr>\n      <th>Netherlands</th>\n      <td>8149.341042</td>\n      <td>17333.784583</td>\n      <td>330.855868</td>\n      <td>1.703215e+07</td>\n      <td>201099</td>\n      <td>0.001018</td>\n      <td>0.000478</td>\n      <td>0.000019</td>\n      <td>0.086195</td>\n      <td>0.040524</td>\n      <td>0.001645</td>\n    </tr>\n    <tr>\n      <th>Poland</th>\n      <td>7936.649903</td>\n      <td>13146.977740</td>\n      <td>349.013199</td>\n      <td>3.798107e+07</td>\n      <td>130755.9</td>\n      <td>0.000346</td>\n      <td>0.000209</td>\n      <td>0.000009</td>\n      <td>0.100546</td>\n      <td>0.060698</td>\n      <td>0.002669</td>\n    </tr>\n    <tr>\n      <th>Portugal</th>\n      <td>4985.216536</td>\n      <td>11419.517093</td>\n      <td>295.291351</td>\n      <td>1.038786e+07</td>\n      <td>49247.8</td>\n      <td>0.001099</td>\n      <td>0.000480</td>\n      <td>0.000028</td>\n      <td>0.231879</td>\n      <td>0.101227</td>\n      <td>0.005996</td>\n    </tr>\n    <tr>\n      <th>Romania</th>\n      <td>3257.436330</td>\n      <td>5698.929843</td>\n      <td>211.371191</td>\n      <td>1.972250e+07</td>\n      <td>46739</td>\n      <td>0.000289</td>\n      <td>0.000165</td>\n      <td>0.000011</td>\n      <td>0.121931</td>\n      <td>0.069694</td>\n      <td>0.004522</td>\n    </tr>\n    <tr>\n      <th>Slovakia</th>\n      <td>1092.612611</td>\n      <td>1733.551491</td>\n      <td>41.527329</td>\n      <td>5.427521e+06</td>\n      <td>22081.1</td>\n      <td>0.000319</td>\n      <td>0.000201</td>\n      <td>0.000008</td>\n      <td>0.078508</td>\n      <td>0.049482</td>\n      <td>0.001881</td>\n    </tr>\n    <tr>\n      <th>Slovenia</th>\n      <td>1550.891690</td>\n      <td>1862.611074</td>\n      <td>60.474226</td>\n      <td>2.070599e+06</td>\n      <td>11605.6</td>\n      <td>0.000900</td>\n      <td>0.000749</td>\n      <td>0.000029</td>\n      <td>0.160492</td>\n      <td>0.133633</td>\n      <td>0.005211</td>\n    </tr>\n    <tr>\n      <th>Spain</th>\n      <td>21779.103279</td>\n      <td>35876.370198</td>\n      <td>1183.567861</td>\n      <td>4.677820e+07</td>\n      <td>279044</td>\n      <td>0.000767</td>\n      <td>0.000466</td>\n      <td>0.000025</td>\n      <td>0.128569</td>\n      <td>0.078049</td>\n      <td>0.004242</td>\n    </tr>\n    <tr>\n      <th>Sweden</th>\n      <td>4989.671550</td>\n      <td>13918.160300</td>\n      <td>243.500257</td>\n      <td>9.887210e+06</td>\n      <td>125461.7</td>\n      <td>0.001408</td>\n      <td>0.000505</td>\n      <td>0.000025</td>\n      <td>0.110936</td>\n      <td>0.03977</td>\n      <td>0.001941</td>\n    </tr>\n  </tbody>\n</table>\n</div>"
     },
     "execution_count": 20,
     "metadata": {},
     "output_type": "execute_result"
    }
   ],
   "source": [
    "\"\"\"df_country = pd.DataFrame.from_dict(data=dic_countries, orient=\"index\", columns=['SDG', 'DT', 'SDG-DT'])\n",
    "df_country_eu = df_country.loc[eu_countries, :]\n",
    "df_country_eu.index.names = ['Country']\n",
    "\n",
    "df_country_eu = df_country_eu.merge(gdppop, left_index=True, right_index=True)\n",
    "df_country_eu.loc[:, 'SDG-pop'] = df_country_eu.loc[:, 'SDG'] /  df_country_eu.loc[:, 'avg_pop']\n",
    "df_country_eu.loc[:, 'DT-pop'] = df_country_eu.loc[:, 'DT'] /  df_country_eu.loc[:, 'avg_pop']\n",
    "df_country_eu.loc[:, 'SDG-DT-pop'] = df_country_eu.loc[:, 'SDG-DT'] /  df_country_eu.loc[:, 'avg_pop']\n",
    "\n",
    "df_country_eu.loc[:, 'SDG-gdp'] = df_country_eu.loc[:, 'SDG'] /  df_country_eu.loc[:, 'gdp']\n",
    "df_country_eu.loc[:, 'DT-gdp'] = df_country_eu.loc[:, 'DT'] /  df_country_eu.loc[:, 'gdp']\n",
    "df_country_eu.loc[:, 'SDG-DT-gdp'] = df_country_eu.loc[:, 'SDG-DT'] /  df_country_eu.loc[:, 'gdp']\n",
    "\n",
    "df_country_eu\"\"\"\n",
    "\n",
    "df_country = pd.DataFrame.from_dict(data=dic_countries_frac, orient=\"index\")\n",
    "df_country_eu = df_country.loc[eu, :]\n",
    "\n",
    "df_country_eu.index.names = ['Country']\n",
    "\n",
    "df_country_eu = df_country_eu.merge(gdppop, left_index=True, right_index=True)\n",
    "df_country_eu.loc[:, 'SDG-pop'] = df_country_eu.loc[:, 'SDG'] /  df_country_eu.loc[:, 'avg_pop']\n",
    "df_country_eu.loc[:, 'DT-pop'] = df_country_eu.loc[:, 'DT'] /  df_country_eu.loc[:, 'avg_pop']\n",
    "df_country_eu.loc[:, 'Inter-pop'] = df_country_eu.loc[:, 'Inter'] /  df_country_eu.loc[:, 'avg_pop']\n",
    "\n",
    "df_country_eu.loc[:, 'SDG-gdp'] = df_country_eu.loc[:, 'SDG'] /  df_country_eu.loc[:, 'gdp']\n",
    "df_country_eu.loc[:, 'DT-gdp'] = df_country_eu.loc[:, 'DT'] /  df_country_eu.loc[:, 'gdp']\n",
    "df_country_eu.loc[:, 'Inter-gdp'] = df_country_eu.loc[:, 'Inter'] /  df_country_eu.loc[:, 'gdp']\n",
    "#\n",
    "df_country_eu"
   ],
   "metadata": {
    "collapsed": false
   }
  },
  {
   "cell_type": "code",
   "execution_count": 21,
   "outputs": [],
   "source": [
    "# df_country_eu.loc['max']= df_country_eu.max()\n",
    "# df_country_eu"
   ],
   "metadata": {
    "collapsed": false
   }
  },
  {
   "cell_type": "code",
   "execution_count": 22,
   "outputs": [
    {
     "data": {
      "text/plain": "Index(['DT', 'SDG', 'Inter', 'avg_pop', 'gdp', 'SDG-pop', 'DT-pop',\n       'Inter-pop', 'SDG-gdp', 'DT-gdp', 'Inter-gdp'],\n      dtype='object')"
     },
     "execution_count": 22,
     "metadata": {},
     "output_type": "execute_result"
    }
   ],
   "source": [
    "df_country_eu.columns"
   ],
   "metadata": {
    "collapsed": false
   }
  },
  {
   "cell_type": "code",
   "execution_count": 23,
   "outputs": [
    {
     "name": "stdout",
     "output_type": "stream",
     "text": [
      "SDG\n",
      "DT\n",
      "Inter\n",
      "SDG\n",
      "DT\n",
      "Inter\n",
      "SDG\n",
      "DT\n",
      "Inter\n"
     ]
    }
   ],
   "source": [
    "for cat in ['SDG', 'DT', 'Inter', 'SDG-pop', 'DT-pop','Inter-pop', 'SDG-gdp', 'DT-gdp', 'Inter-gdp']:\n",
    "    tit = cat.replace(\"-pop\", \"\").replace(\"-gdp\", \"\")\n",
    "    print(tit)"
   ],
   "metadata": {
    "collapsed": false
   }
  },
  {
   "cell_type": "markdown",
   "source": [
    "## Maps for EU"
   ],
   "metadata": {
    "collapsed": false
   }
  },
  {
   "cell_type": "code",
   "execution_count": 25,
   "outputs": [],
   "source": [
    "for cat in ['SDG', 'DT', 'Inter', 'SDG-pop', 'DT-pop','Inter-pop', 'SDG-gdp', 'DT-gdp', 'Inter-gdp']:\n",
    "    # tit = cat.replace(\"-pop\", \"\").replace(\"-gdp\", \"\")\n",
    "    if 'pop' in cat:\n",
    "        spec = \"/pop*\"\n",
    "        annot= \"*Normalised by population\"\n",
    "    elif \"gdp\" in cat:\n",
    "        spec = \"/gdp*\"\n",
    "        annot = \"*Normalised by GDP (in M€)\"\n",
    "    else:\n",
    "        spec = \"\"\n",
    "        annot = \"\"\n",
    "    tit = f\"Nb pubs{spec}\"\n",
    "    layout = go.Layout(\n",
    "        annotations=[\n",
    "            dict(\n",
    "                x=1.05,\n",
    "                y=1,\n",
    "                align=\"right\",\n",
    "                valign=\"top\",\n",
    "                text=tit,\n",
    "                showarrow=False,\n",
    "                xref=\"paper\",\n",
    "                yref=\"paper\",\n",
    "                xanchor=\"center\",\n",
    "                yanchor=\"top\",\n",
    "                font_size=22,\n",
    "                ),\n",
    "            dict(\n",
    "                x=0.25,\n",
    "                y=-.01,\n",
    "                align=\"right\",\n",
    "                valign=\"top\",\n",
    "                text=annot,\n",
    "                showarrow=False,\n",
    "                xref=\"paper\",\n",
    "                yref=\"paper\",\n",
    "                xanchor=\"center\",\n",
    "                yanchor=\"top\",\n",
    "                font_size=30,\n",
    "                ),\n",
    "            ],\n",
    "        )\n",
    "    fig = go.Figure(\n",
    "            data=go.Choropleth(\n",
    "                locations=df_country_eu.index,\n",
    "                z=df_country_eu[cat],\n",
    "                text=df_country_eu.index,\n",
    "                locationmode=\"country names\",\n",
    "                colorscale='Blues',\n",
    "                autocolorscale=False,\n",
    "                colorbar=dict(\n",
    "                    len=0.9,\n",
    "                    y=0.5\n",
    "                )\n",
    "            ),\n",
    "            layout=layout,\n",
    "        )\n",
    "\n",
    "    fig.update_layout(\n",
    "        template='simple_white',\n",
    "        font=dict(size=30),\n",
    "        showlegend=True,\n",
    "        geo=go.layout.Geo(\n",
    "            scope=\"world\",\n",
    "            landcolor='lightgray',\n",
    "            projection_scale=float(6.1),\n",
    "            center=dict(lon=15, lat=52),\n",
    "            projection_type=\"azimuthal equal area\",\n",
    "            showland=True,\n",
    "            showcountries=False,\n",
    "            showframe=False\n",
    "        ),\n",
    "        height=1080,\n",
    "        width=1200\n",
    "\n",
    "    )\n",
    "    fig.write_image(f\"../img/Commission/maps/EU_{cat}.jpg\")\n",
    "    # pio.write_image(fig, folder, format='png')"
   ],
   "metadata": {
    "collapsed": false
   }
  },
  {
   "cell_type": "markdown",
   "source": [
    "## Same on WORLD"
   ],
   "metadata": {
    "collapsed": false
   }
  },
  {
   "cell_type": "code",
   "execution_count": 66,
   "outputs": [
    {
     "name": "stdout",
     "output_type": "stream",
     "text": [
      "CPU times: user 3.44 s, sys: 0 ns, total: 3.44 s\n",
      "Wall time: 3.44 s\n"
     ]
    }
   ],
   "source": [
    "%%time\n",
    "set_countries = set()\n",
    "for row in df_sdg.itertuples(index=False, name=None):\n",
    "    cn = row[12]\n",
    "    lst_actors = cn.split(\", \")\n",
    "    for actor in lst_actors:\n",
    "        set_countries.add(actor)\n",
    "set_countries.add('EU')"
   ],
   "metadata": {
    "collapsed": false
   }
  },
  {
   "cell_type": "code",
   "execution_count": 68,
   "outputs": [
    {
     "data": {
      "text/plain": "218"
     },
     "execution_count": 68,
     "metadata": {},
     "output_type": "execute_result"
    }
   ],
   "source": [
    "len(set_countries)"
   ],
   "metadata": {
    "collapsed": false
   }
  },
  {
   "cell_type": "code",
   "execution_count": 69,
   "outputs": [],
   "source": [
    "# Digital\n",
    "\n",
    "dic_countries = {country: [0, 0, 0]  for country in set_countries}\n",
    "\n",
    "for row in df_digital.itertuples(index=False, name=None):\n",
    "    lst_actors = row[idx_dt['CN']].split(\", \")\n",
    "    year = row[idx_dt['PY']]\n",
    "    size_actors = len(lst_actors)\n",
    "    for actor in lst_actors:\n",
    "        # Increment for digital\n",
    "        if actor in dic_countries:\n",
    "            dic_countries[actor][0] += 1 / size_actors\n",
    "            if actor in eu_countries:\n",
    "                dic_countries['EU'][0] += 1 / size_actors\n",
    "\n",
    "# SDG & SDG-DT\n",
    "for row in df_sdg.itertuples(index=False, name=None):\n",
    "    lst_actors = row[idx_sdg['CN']].split(\", \")\n",
    "    year = row[idx_sdg['PY']]\n",
    "    size_actors = len(lst_actors)\n",
    "    for actor in lst_actors:\n",
    "        if actor in dic_countries:\n",
    "            # Increment for SDG\n",
    "            dic_countries[actor][1] += 1 / size_actors\n",
    "            if actor in eu_countries:\n",
    "                dic_countries['EU'][1] += 1 / size_actors\n",
    "            if row[-1]:\n",
    "                # Increment for SDG-DT\n",
    "                dic_countries[actor][2] += 1 / size_actors\n",
    "                if actor in eu_countries:\n",
    "                    dic_countries['EU'][2] += 1 / size_actors\n"
   ],
   "metadata": {
    "collapsed": false
   }
  },
  {
   "cell_type": "code",
   "execution_count": 70,
   "outputs": [
    {
     "data": {
      "text/plain": "218"
     },
     "execution_count": 70,
     "metadata": {},
     "output_type": "execute_result"
    }
   ],
   "source": [
    "len(dic_countries)"
   ],
   "metadata": {
    "collapsed": false
   }
  },
  {
   "cell_type": "code",
   "execution_count": 71,
   "outputs": [],
   "source": [
    "dic_countries_to_rename = {\"Palestine\": \"Palestinian Territory\",\n",
    "                                   \"Cote d'Ivoire\": \"Ivory Coast\",\n",
    "                                   \"Congo[DRC]\": \"Democratic Republic of the Congo\",\n",
    "                                   \"Congo, Dem.Rep.\": \"Democratic Republic of the Congo\",\n",
    "                                   \"Eswatini\": \"Swaziland\",\n",
    "                                   \"Guinea Bissau\": \"Guinea-Bissau\",\n",
    "                                   \"Timor-Leste\": \"East Timor\",\n",
    "                                   }\n",
    "for country in dic_countries.copy():\n",
    "    if country in dic_countries_to_rename:\n",
    "        dic_countries[dic_countries_to_rename[country]] = dic_countries[country]"
   ],
   "metadata": {
    "collapsed": false
   }
  },
  {
   "cell_type": "code",
   "execution_count": 10,
   "outputs": [
    {
     "data": {
      "text/plain": "                          ranking   gdppc    pop2022           gdp\nCountry                                                           \nLuxembourg                      1  118001    647.599  7.641733e+07\nSingapore                       2   97057   5975.689  5.799824e+08\nIreland                         3   94392   5023.109  4.741413e+08\nQatar                           4   93508   2695.122  2.520155e+08\nSwitzerland                     5   72874   8740.472  6.369532e+08\n...                           ...     ...        ...           ...\nMalawi                        190     993  20405.317  2.026248e+07\nCentral African Republic      191     979   5579.144  5.461982e+06\nSomalia                       192     925  17597.511  1.627770e+07\nSouth Sudan                   193     791  10913.164  8.632313e+06\nBurundi                       194     760  12889.576  9.796078e+06\n\n[185 rows x 4 columns]",
      "text/html": "<div>\n<style scoped>\n    .dataframe tbody tr th:only-of-type {\n        vertical-align: middle;\n    }\n\n    .dataframe tbody tr th {\n        vertical-align: top;\n    }\n\n    .dataframe thead th {\n        text-align: right;\n    }\n</style>\n<table border=\"1\" class=\"dataframe\">\n  <thead>\n    <tr style=\"text-align: right;\">\n      <th></th>\n      <th>ranking</th>\n      <th>gdppc</th>\n      <th>pop2022</th>\n      <th>gdp</th>\n    </tr>\n    <tr>\n      <th>Country</th>\n      <th></th>\n      <th></th>\n      <th></th>\n      <th></th>\n    </tr>\n  </thead>\n  <tbody>\n    <tr>\n      <th>Luxembourg</th>\n      <td>1</td>\n      <td>118001</td>\n      <td>647.599</td>\n      <td>7.641733e+07</td>\n    </tr>\n    <tr>\n      <th>Singapore</th>\n      <td>2</td>\n      <td>97057</td>\n      <td>5975.689</td>\n      <td>5.799824e+08</td>\n    </tr>\n    <tr>\n      <th>Ireland</th>\n      <td>3</td>\n      <td>94392</td>\n      <td>5023.109</td>\n      <td>4.741413e+08</td>\n    </tr>\n    <tr>\n      <th>Qatar</th>\n      <td>4</td>\n      <td>93508</td>\n      <td>2695.122</td>\n      <td>2.520155e+08</td>\n    </tr>\n    <tr>\n      <th>Switzerland</th>\n      <td>5</td>\n      <td>72874</td>\n      <td>8740.472</td>\n      <td>6.369532e+08</td>\n    </tr>\n    <tr>\n      <th>...</th>\n      <td>...</td>\n      <td>...</td>\n      <td>...</td>\n      <td>...</td>\n    </tr>\n    <tr>\n      <th>Malawi</th>\n      <td>190</td>\n      <td>993</td>\n      <td>20405.317</td>\n      <td>2.026248e+07</td>\n    </tr>\n    <tr>\n      <th>Central African Republic</th>\n      <td>191</td>\n      <td>979</td>\n      <td>5579.144</td>\n      <td>5.461982e+06</td>\n    </tr>\n    <tr>\n      <th>Somalia</th>\n      <td>192</td>\n      <td>925</td>\n      <td>17597.511</td>\n      <td>1.627770e+07</td>\n    </tr>\n    <tr>\n      <th>South Sudan</th>\n      <td>193</td>\n      <td>791</td>\n      <td>10913.164</td>\n      <td>8.632313e+06</td>\n    </tr>\n    <tr>\n      <th>Burundi</th>\n      <td>194</td>\n      <td>760</td>\n      <td>12889.576</td>\n      <td>9.796078e+06</td>\n    </tr>\n  </tbody>\n</table>\n<p>185 rows × 4 columns</p>\n</div>"
     },
     "execution_count": 10,
     "metadata": {},
     "output_type": "execute_result"
    }
   ],
   "source": [],
   "metadata": {
    "collapsed": false
   }
  },
  {
   "cell_type": "code",
   "execution_count": 72,
   "outputs": [
    {
     "data": {
      "text/plain": "                               SDG           DT       Inter\nCountry                                                    \nSierra Leone              6.748179    80.728906    1.000000\nSomalia                   1.985714    20.084786    0.666667\nEl Salvador               2.894444    32.369072    0.000000\nCape Verde                0.533333    24.454112    0.000000\nSão Tomé and Príncipe     0.000000     4.801569    0.000000\n...                            ...          ...         ...\nSaudi Arabia           6310.075840  5816.412652  381.358782\nPalestinian Territory     3.616667   241.647418    5.746429\nIvory Coast              31.382757   242.738054    3.795635\nGuinea-Bissau             0.000000    17.696378    0.142857\nEast Timor                1.000000    17.311742    0.500000\n\n[222 rows x 3 columns]",
      "text/html": "<div>\n<style scoped>\n    .dataframe tbody tr th:only-of-type {\n        vertical-align: middle;\n    }\n\n    .dataframe tbody tr th {\n        vertical-align: top;\n    }\n\n    .dataframe thead th {\n        text-align: right;\n    }\n</style>\n<table border=\"1\" class=\"dataframe\">\n  <thead>\n    <tr style=\"text-align: right;\">\n      <th></th>\n      <th>SDG</th>\n      <th>DT</th>\n      <th>Inter</th>\n    </tr>\n    <tr>\n      <th>Country</th>\n      <th></th>\n      <th></th>\n      <th></th>\n    </tr>\n  </thead>\n  <tbody>\n    <tr>\n      <th>Sierra Leone</th>\n      <td>6.748179</td>\n      <td>80.728906</td>\n      <td>1.000000</td>\n    </tr>\n    <tr>\n      <th>Somalia</th>\n      <td>1.985714</td>\n      <td>20.084786</td>\n      <td>0.666667</td>\n    </tr>\n    <tr>\n      <th>El Salvador</th>\n      <td>2.894444</td>\n      <td>32.369072</td>\n      <td>0.000000</td>\n    </tr>\n    <tr>\n      <th>Cape Verde</th>\n      <td>0.533333</td>\n      <td>24.454112</td>\n      <td>0.000000</td>\n    </tr>\n    <tr>\n      <th>São Tomé and Príncipe</th>\n      <td>0.000000</td>\n      <td>4.801569</td>\n      <td>0.000000</td>\n    </tr>\n    <tr>\n      <th>...</th>\n      <td>...</td>\n      <td>...</td>\n      <td>...</td>\n    </tr>\n    <tr>\n      <th>Saudi Arabia</th>\n      <td>6310.075840</td>\n      <td>5816.412652</td>\n      <td>381.358782</td>\n    </tr>\n    <tr>\n      <th>Palestinian Territory</th>\n      <td>3.616667</td>\n      <td>241.647418</td>\n      <td>5.746429</td>\n    </tr>\n    <tr>\n      <th>Ivory Coast</th>\n      <td>31.382757</td>\n      <td>242.738054</td>\n      <td>3.795635</td>\n    </tr>\n    <tr>\n      <th>Guinea-Bissau</th>\n      <td>0.000000</td>\n      <td>17.696378</td>\n      <td>0.142857</td>\n    </tr>\n    <tr>\n      <th>East Timor</th>\n      <td>1.000000</td>\n      <td>17.311742</td>\n      <td>0.500000</td>\n    </tr>\n  </tbody>\n</table>\n<p>222 rows × 3 columns</p>\n</div>"
     },
     "execution_count": 72,
     "metadata": {},
     "output_type": "execute_result"
    }
   ],
   "source": [
    "df_country = pd.DataFrame.from_dict(data=dic_countries, orient=\"index\", columns=['SDG', 'DT', 'Inter'])\n",
    "\n",
    "df_country.index.names = ['Country']\n",
    "dic_countries_to_rename = {\"Palestine\": \"Palestinian Territory\",\n",
    "                                   \"Cote d'Ivoire\": \"Ivory Coast\",\n",
    "                                   \"Congo [DRC]\": \"Democratic Republic of the Congo\",\n",
    "                                   \"Congo, Dem.Rep.\": \"Democratic Republic of the Congo\",\n",
    "                                   \"Eswatini\": \"Swaziland\",\n",
    "                                   \"Guinea Bissau\": \"Guinea-Bissau\",\n",
    "                                   \"Timor-Leste\": \"East Timor\",\n",
    "                                   }\n",
    "df_country.rename(index=dic_countries_to_rename, inplace=True)\n",
    "df_country"
   ],
   "metadata": {
    "collapsed": false
   }
  },
  {
   "cell_type": "code",
   "execution_count": 62,
   "outputs": [
    {
     "data": {
      "text/plain": "                          SDG             DT        Inter       avg_pop  \\\nAlbania             33.306126     249.054814     2.220635  2.875263e+06   \nAlgeria           2206.074170    1425.219143    94.420238  4.020870e+07   \nArgentina         1119.582110    4854.826979    40.743442  4.333679e+07   \nArmenia             51.328493      96.112800     4.187472  2.924618e+06   \nAustralia        17903.566199   46270.843816   972.265841  2.400823e+07   \n...                       ...            ...          ...           ...   \nTurkey           12098.228238   15803.667151   503.252824  7.901677e+07   \nUkraine           1002.330534    2733.750840    69.576506  4.498976e+07   \nUnited Kingdom   30787.366532   61205.919539  1455.698402  6.524557e+07   \nUnited States   114589.956220  193487.922934  4689.826355  3.213942e+08   \nUruguay            127.558462     577.190327    10.795390  3.419979e+06   \n\n                      gdp  \nAlbania            3348.7  \nAlgeria                 :  \nArgentina               :  \nArmenia                 :  \nAustralia        324962.5  \n...                   ...  \nTurkey           156571.8  \nUkraine                 :  \nUnited Kingdom   609979.5  \nUnited States   4518929.3  \nUruguay                 :  \n\n[92 rows x 5 columns]",
      "text/html": "<div>\n<style scoped>\n    .dataframe tbody tr th:only-of-type {\n        vertical-align: middle;\n    }\n\n    .dataframe tbody tr th {\n        vertical-align: top;\n    }\n\n    .dataframe thead th {\n        text-align: right;\n    }\n</style>\n<table border=\"1\" class=\"dataframe\">\n  <thead>\n    <tr style=\"text-align: right;\">\n      <th></th>\n      <th>SDG</th>\n      <th>DT</th>\n      <th>Inter</th>\n      <th>avg_pop</th>\n      <th>gdp</th>\n    </tr>\n  </thead>\n  <tbody>\n    <tr>\n      <th>Albania</th>\n      <td>33.306126</td>\n      <td>249.054814</td>\n      <td>2.220635</td>\n      <td>2.875263e+06</td>\n      <td>3348.7</td>\n    </tr>\n    <tr>\n      <th>Algeria</th>\n      <td>2206.074170</td>\n      <td>1425.219143</td>\n      <td>94.420238</td>\n      <td>4.020870e+07</td>\n      <td>:</td>\n    </tr>\n    <tr>\n      <th>Argentina</th>\n      <td>1119.582110</td>\n      <td>4854.826979</td>\n      <td>40.743442</td>\n      <td>4.333679e+07</td>\n      <td>:</td>\n    </tr>\n    <tr>\n      <th>Armenia</th>\n      <td>51.328493</td>\n      <td>96.112800</td>\n      <td>4.187472</td>\n      <td>2.924618e+06</td>\n      <td>:</td>\n    </tr>\n    <tr>\n      <th>Australia</th>\n      <td>17903.566199</td>\n      <td>46270.843816</td>\n      <td>972.265841</td>\n      <td>2.400823e+07</td>\n      <td>324962.5</td>\n    </tr>\n    <tr>\n      <th>...</th>\n      <td>...</td>\n      <td>...</td>\n      <td>...</td>\n      <td>...</td>\n      <td>...</td>\n    </tr>\n    <tr>\n      <th>Turkey</th>\n      <td>12098.228238</td>\n      <td>15803.667151</td>\n      <td>503.252824</td>\n      <td>7.901677e+07</td>\n      <td>156571.8</td>\n    </tr>\n    <tr>\n      <th>Ukraine</th>\n      <td>1002.330534</td>\n      <td>2733.750840</td>\n      <td>69.576506</td>\n      <td>4.498976e+07</td>\n      <td>:</td>\n    </tr>\n    <tr>\n      <th>United Kingdom</th>\n      <td>30787.366532</td>\n      <td>61205.919539</td>\n      <td>1455.698402</td>\n      <td>6.524557e+07</td>\n      <td>609979.5</td>\n    </tr>\n    <tr>\n      <th>United States</th>\n      <td>114589.956220</td>\n      <td>193487.922934</td>\n      <td>4689.826355</td>\n      <td>3.213942e+08</td>\n      <td>4518929.3</td>\n    </tr>\n    <tr>\n      <th>Uruguay</th>\n      <td>127.558462</td>\n      <td>577.190327</td>\n      <td>10.795390</td>\n      <td>3.419979e+06</td>\n      <td>:</td>\n    </tr>\n  </tbody>\n</table>\n<p>92 rows × 5 columns</p>\n</div>"
     },
     "execution_count": 62,
     "metadata": {},
     "output_type": "execute_result"
    }
   ],
   "source": [
    "# df_country = df_country.merge(gdppop, left_index=True, right_index=True)\n",
    "# df_country"
   ],
   "metadata": {
    "collapsed": false
   }
  },
  {
   "cell_type": "code",
   "execution_count": 73,
   "outputs": [
    {
     "data": {
      "text/plain": "                               SDG           DT       Inter\nCountry                                                    \nSierra Leone              6.748179    80.728906    1.000000\nSomalia                   1.985714    20.084786    0.666667\nEl Salvador               2.894444    32.369072    0.000000\nCape Verde                0.533333    24.454112    0.000000\nSão Tomé and Príncipe     0.000000     4.801569    0.000000\n...                            ...          ...         ...\nSaudi Arabia           6310.075840  5816.412652  381.358782\nPalestinian Territory     3.616667   241.647418    5.746429\nIvory Coast              31.382757   242.738054    3.795635\nGuinea-Bissau             0.000000    17.696378    0.142857\nEast Timor                1.000000    17.311742    0.500000\n\n[222 rows x 3 columns]",
      "text/html": "<div>\n<style scoped>\n    .dataframe tbody tr th:only-of-type {\n        vertical-align: middle;\n    }\n\n    .dataframe tbody tr th {\n        vertical-align: top;\n    }\n\n    .dataframe thead th {\n        text-align: right;\n    }\n</style>\n<table border=\"1\" class=\"dataframe\">\n  <thead>\n    <tr style=\"text-align: right;\">\n      <th></th>\n      <th>SDG</th>\n      <th>DT</th>\n      <th>Inter</th>\n    </tr>\n    <tr>\n      <th>Country</th>\n      <th></th>\n      <th></th>\n      <th></th>\n    </tr>\n  </thead>\n  <tbody>\n    <tr>\n      <th>Sierra Leone</th>\n      <td>6.748179</td>\n      <td>80.728906</td>\n      <td>1.000000</td>\n    </tr>\n    <tr>\n      <th>Somalia</th>\n      <td>1.985714</td>\n      <td>20.084786</td>\n      <td>0.666667</td>\n    </tr>\n    <tr>\n      <th>El Salvador</th>\n      <td>2.894444</td>\n      <td>32.369072</td>\n      <td>0.000000</td>\n    </tr>\n    <tr>\n      <th>Cape Verde</th>\n      <td>0.533333</td>\n      <td>24.454112</td>\n      <td>0.000000</td>\n    </tr>\n    <tr>\n      <th>São Tomé and Príncipe</th>\n      <td>0.000000</td>\n      <td>4.801569</td>\n      <td>0.000000</td>\n    </tr>\n    <tr>\n      <th>...</th>\n      <td>...</td>\n      <td>...</td>\n      <td>...</td>\n    </tr>\n    <tr>\n      <th>Saudi Arabia</th>\n      <td>6310.075840</td>\n      <td>5816.412652</td>\n      <td>381.358782</td>\n    </tr>\n    <tr>\n      <th>Palestinian Territory</th>\n      <td>3.616667</td>\n      <td>241.647418</td>\n      <td>5.746429</td>\n    </tr>\n    <tr>\n      <th>Ivory Coast</th>\n      <td>31.382757</td>\n      <td>242.738054</td>\n      <td>3.795635</td>\n    </tr>\n    <tr>\n      <th>Guinea-Bissau</th>\n      <td>0.000000</td>\n      <td>17.696378</td>\n      <td>0.142857</td>\n    </tr>\n    <tr>\n      <th>East Timor</th>\n      <td>1.000000</td>\n      <td>17.311742</td>\n      <td>0.500000</td>\n    </tr>\n  </tbody>\n</table>\n<p>222 rows × 3 columns</p>\n</div>"
     },
     "execution_count": 73,
     "metadata": {},
     "output_type": "execute_result"
    }
   ],
   "source": [
    "# df_country = df_country.replace(\":\", np.NAN).dropna(subset=\"gdp\")\n",
    "for country in eu:\n",
    "    df_country.loc[country, :] = df_country.loc['EU', :]\n",
    "df_country"
   ],
   "metadata": {
    "collapsed": false
   }
  },
  {
   "cell_type": "code",
   "execution_count": 38,
   "outputs": [
    {
     "data": {
      "text/plain": "                                  SDG             DT        Inter  \\\nAlbania                    249.054814      33.306126     2.220635   \nAustralia                46270.843816   17903.566199   972.265841   \nAustria                 255032.298970  149626.572842  6973.571454   \nBelgium                 255032.298970  149626.572842  6973.571454   \nBulgaria                255032.298970  149626.572842  6973.571454   \nBosnia and Herzegovina     301.542155     192.921516    11.016941   \nBrazil                   28702.406330   11180.177074   598.996919   \nCanada                   37206.120947   20252.774707   901.841444   \nSwitzerland               9866.141928    6293.906406   260.587459   \nChina                   145199.568982  188528.693224  6755.196249   \nCyprus                  255032.298970  149626.572842  6973.571454   \nCzech Republic          255032.298970  149626.572842  6973.571454   \nGermany                 255032.298970  149626.572842  6973.571454   \nDenmark                 255032.298970  149626.572842  6973.571454   \nSpain                   255032.298970  149626.572842  6973.571454   \nEstonia                 255032.298970  149626.572842  6973.571454   \nEU                      255032.298970  149626.572842  6973.571454   \nFinland                 255032.298970  149626.572842  6973.571454   \nFrance                  255032.298970  149626.572842  6973.571454   \nUnited Kingdom           61205.919539   30787.366532  1455.698402   \nGreece                  255032.298970  149626.572842  6973.571454   \nCroatia                 255032.298970  149626.572842  6973.571454   \nHungary                 255032.298970  149626.572842  6973.571454   \nIndonesia                 5179.400095    1474.703744   103.247625   \nIndia                    42596.348477   40505.248373  2079.156847   \nIreland                 255032.298970  149626.572842  6973.571454   \nIceland                    607.472156     137.479746     5.508138   \nIsrael                    4938.700962    3375.864411    82.655454   \nItaly                   255032.298970  149626.572842  6973.571454   \nJapan                    19448.498197   20909.259142   560.624257   \nSouth Korea              19411.126348   32763.437206  1234.556650   \nLithuania               255032.298970  149626.572842  6973.571454   \nLuxembourg              255032.298970  149626.572842  6973.571454   \nLatvia                  255032.298970  149626.572842  6973.571454   \nMexico                    9240.066889    4598.298042   206.794799   \nMalta                   255032.298970  149626.572842  6973.571454   \nMontenegro                 163.022021      56.759788     4.059259   \nNetherlands             255032.298970  149626.572842  6973.571454   \nNorway                    9549.820653    2617.168439   185.499124   \nNew Zealand               6847.822787    2227.965707   121.829811   \nPhilippines               1897.567943     308.676839    38.005112   \nPoland                  255032.298970  149626.572842  6973.571454   \nPortugal                255032.298970  149626.572842  6973.571454   \nRomania                 255032.298970  149626.572842  6973.571454   \nRussia                    8970.470299    5954.148935   207.745308   \nSingapore                 4567.587687    6731.394222   262.056533   \nSerbia                    2592.544797    1808.553624    95.786523   \nSlovakia                255032.298970  149626.572842  6973.571454   \nSlovenia                255032.298970  149626.572842  6973.571454   \nSweden                  255032.298970  149626.572842  6973.571454   \nThailand                  4712.398682    2131.558783   121.698647   \nTurkey                   15803.667151   12098.228238   503.252824   \nUnited States           193487.922934  114589.956220  4689.826355   \nSouth Africa             14977.791130    2121.499928   216.299485   \n\n                             avg_pop        gdp   SDG-pop    DT-pop  \\\nAlbania                 2.875263e+06     3348.7  0.000087  0.000012   \nAustralia               2.400823e+07   324962.5  0.001927  0.000746   \nAustria                 4.445399e+08  3395193.7  0.000574  0.000337   \nBelgium                 4.445399e+08  3395193.7  0.000574  0.000337   \nBulgaria                4.445399e+08  3395193.7  0.000574  0.000337   \nBosnia and Herzegovina  3.444391e+06     4367.5  0.000088  0.000056   \nBrazil                  2.051546e+08   326204.3  0.000140  0.000054   \nCanada                  3.607384e+07   377048.8  0.001031  0.000561   \nSwitzerland             8.295302e+06   159402.5  0.001189  0.000759   \nChina                   1.380822e+09  3176037.4  0.000105  0.000137   \nCyprus                  4.445399e+08  3395193.7  0.000574  0.000337   \nCzech Republic          4.445399e+08  3395193.7  0.000574  0.000337   \nGermany                 4.445399e+08  3395193.7  0.000574  0.000337   \nDenmark                 4.445399e+08  3395193.7  0.000574  0.000337   \nSpain                   4.445399e+08  3395193.7  0.000574  0.000337   \nEstonia                 4.445399e+08  3395193.7  0.000574  0.000337   \nEU                      4.445399e+08  3395193.7  0.000574  0.000337   \nFinland                 4.445399e+08  3395193.7  0.000574  0.000337   \nFrance                  4.445399e+08  3395193.7  0.000574  0.000337   \nUnited Kingdom          6.524557e+07   609979.5  0.000938  0.000472   \nGreece                  4.445399e+08  3395193.7  0.000574  0.000337   \nCroatia                 4.445399e+08  3395193.7  0.000574  0.000337   \nHungary                 4.445399e+08  3395193.7  0.000574  0.000337   \nIndonesia               2.595923e+08   232425.4  0.000020  0.000006   \nIndia                   1.316051e+09   655346.0  0.000032  0.000031   \nIreland                 4.445399e+08  3395193.7  0.000574  0.000337   \nIceland                 3.392181e+05     4697.1  0.001791  0.000405   \nIsrael                  8.477533e+06    91346.6  0.000583  0.000398   \nItaly                   4.445399e+08  3395193.7  0.000574  0.000337   \nJapan                   1.270690e+08  1054733.6  0.000153  0.000165   \nSouth Korea             5.094932e+07   359938.2  0.000381  0.000643   \nLithuania               4.445399e+08  3395193.7  0.000574  0.000337   \nLuxembourg              4.445399e+08  3395193.7  0.000574  0.000337   \nLatvia                  4.445399e+08  3395193.7  0.000574  0.000337   \nMexico                  1.224313e+08   254421.1  0.000075  0.000038   \nMalta                   4.445399e+08  3395193.7  0.000574  0.000337   \nMontenegro              6.213078e+05      879.9  0.000262  0.000091   \nNetherlands             4.445399e+08  3395193.7  0.000574  0.000337   \nNorway                  5.185456e+06    91290.3  0.001842  0.000505   \nNew Zealand             4.694258e+06    51176.1  0.001459  0.000475   \nPhilippines             1.027067e+08    74969.9  0.000018  0.000003   \nPoland                  4.445399e+08  3395193.7  0.000574  0.000337   \nPortugal                4.445399e+08  3395193.7  0.000574  0.000337   \nRomania                 4.445399e+08  3395193.7  0.000574  0.000337   \nRussia                  1.438065e+08   298558.4  0.000062  0.000041   \nSingapore               5.473158e+06    77537.4  0.000835  0.001230   \nSerbia                  7.072077e+06    11625.1  0.000367  0.000256   \nSlovakia                4.445399e+08  3395193.7  0.000574  0.000337   \nSlovenia                4.445399e+08  3395193.7  0.000574  0.000337   \nSweden                  4.445399e+08  3395193.7  0.000574  0.000337   \nThailand                6.873610e+07   111136.0  0.000069  0.000031   \nTurkey                  7.901677e+07   156571.8  0.000200  0.000153   \nUnited States           3.213942e+08  4518929.3  0.000602  0.000357   \nSouth Africa            5.571583e+07    81269.2  0.000269  0.000038   \n\n                           Inter-pop        SDG-gdp         DT-gdp  \\\nAlbania                 7.723241e-07   74373.581898    9945.986747   \nAustralia               4.049719e-05  142388.256539   55094.253025   \nAustria                 1.568717e-05   75115.684554   44070.113832   \nBelgium                 1.568717e-05   75115.684554   44070.113832   \nBulgaria                1.568717e-05   75115.684554   44070.113832   \nBosnia and Herzegovina  3.198517e-06   69042.279386   44172.069984   \nBrazil                  2.919734e-06   87989.049593   34273.542911   \nCanada                  2.499987e-05   98677.202916   53713.934925   \nSwitzerland             3.141386e-05   61894.524417   39484.364461   \nChina                   4.892157e-06   45717.210063   59359.720771   \nCyprus                  1.568717e-05   75115.684554   44070.113832   \nCzech Republic          1.568717e-05   75115.684554   44070.113832   \nGermany                 1.568717e-05   75115.684554   44070.113832   \nDenmark                 1.568717e-05   75115.684554   44070.113832   \nSpain                   1.568717e-05   75115.684554   44070.113832   \nEstonia                 1.568717e-05   75115.684554   44070.113832   \nEU                      1.568717e-05   75115.684554   44070.113832   \nFinland                 1.568717e-05   75115.684554   44070.113832   \nFrance                  1.568717e-05   75115.684554   44070.113832   \nUnited Kingdom          2.231107e-05  100340.945128   50472.788893   \nGreece                  1.568717e-05   75115.684554   44070.113832   \nCroatia                 1.568717e-05   75115.684554   44070.113832   \nHungary                 1.568717e-05   75115.684554   44070.113832   \nIndonesia               3.977299e-07   22284.139748    6344.847611   \nIndia                   1.579845e-06   64998.258137   61807.424434   \nIreland                 1.568717e-05   75115.684554   44070.113832   \nIceland                 1.623775e-05  129329.193810   29269.069370   \nIsrael                  9.749942e-06   54065.514889   36956.650938   \nItaly                   1.568717e-05   75115.684554   44070.113832   \nJapan                   4.411965e-06   18439.251577   19824.208826   \nSouth Korea             2.423107e-05   53929.053232   91025.173783   \nLithuania               1.568717e-05   75115.684554   44070.113832   \nLuxembourg              1.568717e-05   75115.684554   44070.113832   \nLatvia                  1.568717e-05   75115.684554   44070.113832   \nMexico                  1.689069e-06   36318.005422   18073.571892   \nMalta                   1.568717e-05   75115.684554   44070.113832   \nMontenegro              6.533411e-06  185273.350383   64507.089920   \nNetherlands             1.568717e-05   75115.684554   44070.113832   \nNorway                  3.577296e-05  104609.368716   28668.636630   \nNew Zealand             2.595294e-05  133809.000424   43535.277353   \nPhilippines             3.700355e-07   25311.064084    4117.343619   \nPoland                  1.568717e-05   75115.684554   44070.113832   \nPortugal                1.568717e-05   75115.684554   44070.113832   \nRomania                 1.568717e-05   75115.684554   44070.113832   \nRussia                  1.444617e-06   30045.948463   19942.995859   \nSingapore               4.788031e-05   58908.187360   86814.804494   \nSerbia                  1.354433e-05  223012.687806  155573.167038   \nSlovakia                1.568717e-05   75115.684554   44070.113832   \nSlovenia                1.568717e-05   75115.684554   44070.113832   \nSweden                  1.568717e-05   75115.684554   44070.113832   \nThailand                1.770520e-06   42402.090068   19179.732783   \nTurkey                  6.368937e-06  100935.590896   77269.522599   \nUnited States           1.459213e-05   42817.205158   25357.766987   \nSouth Africa            3.882191e-06  184298.493531   26104.599631   \n\n                          Inter-gdp  \nAlbania                  663.133431  \nAustralia               2991.932427  \nAustria                 2053.953933  \nBelgium                 2053.953933  \nBulgaria                2053.953933  \nBosnia and Herzegovina  2522.482288  \nBrazil                  1836.263099  \nCanada                  2391.842765  \nSwitzerland             1634.776486  \nChina                   2126.925914  \nCyprus                  2053.953933  \nCzech Republic          2053.953933  \nGermany                 2053.953933  \nDenmark                 2053.953933  \nSpain                   2053.953933  \nEstonia                 2053.953933  \nEU                      2053.953933  \nFinland                 2053.953933  \nFrance                  2053.953933  \nUnited Kingdom          2386.471024  \nGreece                  2053.953933  \nCroatia                 2053.953933  \nHungary                 2053.953933  \nIndonesia                444.218337  \nIndia                   3172.609349  \nIreland                 2053.953933  \nIceland                 1172.667838  \nIsrael                   904.855289  \nItaly                   2053.953933  \nJapan                    531.531618  \nSouth Korea             3429.912828  \nLithuania               2053.953933  \nLuxembourg              2053.953933  \nLatvia                  2053.953933  \nMexico                   812.805223  \nMalta                   2053.953933  \nMontenegro              4613.318854  \nNetherlands             2053.953933  \nNorway                  2031.969708  \nNew Zealand             2380.599748  \nPhilippines              506.938274  \nPoland                  2053.953933  \nPortugal                2053.953933  \nRomania                 2053.953933  \nRussia                   695.828046  \nSingapore               3379.743618  \nSerbia                  8239.629995  \nSlovakia                2053.953933  \nSlovenia                2053.953933  \nSweden                  2053.953933  \nThailand                1095.042538  \nTurkey                  3214.198369  \nUnited States           1037.818041  \nSouth Africa            2661.518565  ",
      "text/html": "<div>\n<style scoped>\n    .dataframe tbody tr th:only-of-type {\n        vertical-align: middle;\n    }\n\n    .dataframe tbody tr th {\n        vertical-align: top;\n    }\n\n    .dataframe thead th {\n        text-align: right;\n    }\n</style>\n<table border=\"1\" class=\"dataframe\">\n  <thead>\n    <tr style=\"text-align: right;\">\n      <th></th>\n      <th>SDG</th>\n      <th>DT</th>\n      <th>Inter</th>\n      <th>avg_pop</th>\n      <th>gdp</th>\n      <th>SDG-pop</th>\n      <th>DT-pop</th>\n      <th>Inter-pop</th>\n      <th>SDG-gdp</th>\n      <th>DT-gdp</th>\n      <th>Inter-gdp</th>\n    </tr>\n  </thead>\n  <tbody>\n    <tr>\n      <th>Albania</th>\n      <td>249.054814</td>\n      <td>33.306126</td>\n      <td>2.220635</td>\n      <td>2.875263e+06</td>\n      <td>3348.7</td>\n      <td>0.000087</td>\n      <td>0.000012</td>\n      <td>7.723241e-07</td>\n      <td>74373.581898</td>\n      <td>9945.986747</td>\n      <td>663.133431</td>\n    </tr>\n    <tr>\n      <th>Australia</th>\n      <td>46270.843816</td>\n      <td>17903.566199</td>\n      <td>972.265841</td>\n      <td>2.400823e+07</td>\n      <td>324962.5</td>\n      <td>0.001927</td>\n      <td>0.000746</td>\n      <td>4.049719e-05</td>\n      <td>142388.256539</td>\n      <td>55094.253025</td>\n      <td>2991.932427</td>\n    </tr>\n    <tr>\n      <th>Austria</th>\n      <td>255032.298970</td>\n      <td>149626.572842</td>\n      <td>6973.571454</td>\n      <td>4.445399e+08</td>\n      <td>3395193.7</td>\n      <td>0.000574</td>\n      <td>0.000337</td>\n      <td>1.568717e-05</td>\n      <td>75115.684554</td>\n      <td>44070.113832</td>\n      <td>2053.953933</td>\n    </tr>\n    <tr>\n      <th>Belgium</th>\n      <td>255032.298970</td>\n      <td>149626.572842</td>\n      <td>6973.571454</td>\n      <td>4.445399e+08</td>\n      <td>3395193.7</td>\n      <td>0.000574</td>\n      <td>0.000337</td>\n      <td>1.568717e-05</td>\n      <td>75115.684554</td>\n      <td>44070.113832</td>\n      <td>2053.953933</td>\n    </tr>\n    <tr>\n      <th>Bulgaria</th>\n      <td>255032.298970</td>\n      <td>149626.572842</td>\n      <td>6973.571454</td>\n      <td>4.445399e+08</td>\n      <td>3395193.7</td>\n      <td>0.000574</td>\n      <td>0.000337</td>\n      <td>1.568717e-05</td>\n      <td>75115.684554</td>\n      <td>44070.113832</td>\n      <td>2053.953933</td>\n    </tr>\n    <tr>\n      <th>Bosnia and Herzegovina</th>\n      <td>301.542155</td>\n      <td>192.921516</td>\n      <td>11.016941</td>\n      <td>3.444391e+06</td>\n      <td>4367.5</td>\n      <td>0.000088</td>\n      <td>0.000056</td>\n      <td>3.198517e-06</td>\n      <td>69042.279386</td>\n      <td>44172.069984</td>\n      <td>2522.482288</td>\n    </tr>\n    <tr>\n      <th>Brazil</th>\n      <td>28702.406330</td>\n      <td>11180.177074</td>\n      <td>598.996919</td>\n      <td>2.051546e+08</td>\n      <td>326204.3</td>\n      <td>0.000140</td>\n      <td>0.000054</td>\n      <td>2.919734e-06</td>\n      <td>87989.049593</td>\n      <td>34273.542911</td>\n      <td>1836.263099</td>\n    </tr>\n    <tr>\n      <th>Canada</th>\n      <td>37206.120947</td>\n      <td>20252.774707</td>\n      <td>901.841444</td>\n      <td>3.607384e+07</td>\n      <td>377048.8</td>\n      <td>0.001031</td>\n      <td>0.000561</td>\n      <td>2.499987e-05</td>\n      <td>98677.202916</td>\n      <td>53713.934925</td>\n      <td>2391.842765</td>\n    </tr>\n    <tr>\n      <th>Switzerland</th>\n      <td>9866.141928</td>\n      <td>6293.906406</td>\n      <td>260.587459</td>\n      <td>8.295302e+06</td>\n      <td>159402.5</td>\n      <td>0.001189</td>\n      <td>0.000759</td>\n      <td>3.141386e-05</td>\n      <td>61894.524417</td>\n      <td>39484.364461</td>\n      <td>1634.776486</td>\n    </tr>\n    <tr>\n      <th>China</th>\n      <td>145199.568982</td>\n      <td>188528.693224</td>\n      <td>6755.196249</td>\n      <td>1.380822e+09</td>\n      <td>3176037.4</td>\n      <td>0.000105</td>\n      <td>0.000137</td>\n      <td>4.892157e-06</td>\n      <td>45717.210063</td>\n      <td>59359.720771</td>\n      <td>2126.925914</td>\n    </tr>\n    <tr>\n      <th>Cyprus</th>\n      <td>255032.298970</td>\n      <td>149626.572842</td>\n      <td>6973.571454</td>\n      <td>4.445399e+08</td>\n      <td>3395193.7</td>\n      <td>0.000574</td>\n      <td>0.000337</td>\n      <td>1.568717e-05</td>\n      <td>75115.684554</td>\n      <td>44070.113832</td>\n      <td>2053.953933</td>\n    </tr>\n    <tr>\n      <th>Czech Republic</th>\n      <td>255032.298970</td>\n      <td>149626.572842</td>\n      <td>6973.571454</td>\n      <td>4.445399e+08</td>\n      <td>3395193.7</td>\n      <td>0.000574</td>\n      <td>0.000337</td>\n      <td>1.568717e-05</td>\n      <td>75115.684554</td>\n      <td>44070.113832</td>\n      <td>2053.953933</td>\n    </tr>\n    <tr>\n      <th>Germany</th>\n      <td>255032.298970</td>\n      <td>149626.572842</td>\n      <td>6973.571454</td>\n      <td>4.445399e+08</td>\n      <td>3395193.7</td>\n      <td>0.000574</td>\n      <td>0.000337</td>\n      <td>1.568717e-05</td>\n      <td>75115.684554</td>\n      <td>44070.113832</td>\n      <td>2053.953933</td>\n    </tr>\n    <tr>\n      <th>Denmark</th>\n      <td>255032.298970</td>\n      <td>149626.572842</td>\n      <td>6973.571454</td>\n      <td>4.445399e+08</td>\n      <td>3395193.7</td>\n      <td>0.000574</td>\n      <td>0.000337</td>\n      <td>1.568717e-05</td>\n      <td>75115.684554</td>\n      <td>44070.113832</td>\n      <td>2053.953933</td>\n    </tr>\n    <tr>\n      <th>Spain</th>\n      <td>255032.298970</td>\n      <td>149626.572842</td>\n      <td>6973.571454</td>\n      <td>4.445399e+08</td>\n      <td>3395193.7</td>\n      <td>0.000574</td>\n      <td>0.000337</td>\n      <td>1.568717e-05</td>\n      <td>75115.684554</td>\n      <td>44070.113832</td>\n      <td>2053.953933</td>\n    </tr>\n    <tr>\n      <th>Estonia</th>\n      <td>255032.298970</td>\n      <td>149626.572842</td>\n      <td>6973.571454</td>\n      <td>4.445399e+08</td>\n      <td>3395193.7</td>\n      <td>0.000574</td>\n      <td>0.000337</td>\n      <td>1.568717e-05</td>\n      <td>75115.684554</td>\n      <td>44070.113832</td>\n      <td>2053.953933</td>\n    </tr>\n    <tr>\n      <th>EU</th>\n      <td>255032.298970</td>\n      <td>149626.572842</td>\n      <td>6973.571454</td>\n      <td>4.445399e+08</td>\n      <td>3395193.7</td>\n      <td>0.000574</td>\n      <td>0.000337</td>\n      <td>1.568717e-05</td>\n      <td>75115.684554</td>\n      <td>44070.113832</td>\n      <td>2053.953933</td>\n    </tr>\n    <tr>\n      <th>Finland</th>\n      <td>255032.298970</td>\n      <td>149626.572842</td>\n      <td>6973.571454</td>\n      <td>4.445399e+08</td>\n      <td>3395193.7</td>\n      <td>0.000574</td>\n      <td>0.000337</td>\n      <td>1.568717e-05</td>\n      <td>75115.684554</td>\n      <td>44070.113832</td>\n      <td>2053.953933</td>\n    </tr>\n    <tr>\n      <th>France</th>\n      <td>255032.298970</td>\n      <td>149626.572842</td>\n      <td>6973.571454</td>\n      <td>4.445399e+08</td>\n      <td>3395193.7</td>\n      <td>0.000574</td>\n      <td>0.000337</td>\n      <td>1.568717e-05</td>\n      <td>75115.684554</td>\n      <td>44070.113832</td>\n      <td>2053.953933</td>\n    </tr>\n    <tr>\n      <th>United Kingdom</th>\n      <td>61205.919539</td>\n      <td>30787.366532</td>\n      <td>1455.698402</td>\n      <td>6.524557e+07</td>\n      <td>609979.5</td>\n      <td>0.000938</td>\n      <td>0.000472</td>\n      <td>2.231107e-05</td>\n      <td>100340.945128</td>\n      <td>50472.788893</td>\n      <td>2386.471024</td>\n    </tr>\n    <tr>\n      <th>Greece</th>\n      <td>255032.298970</td>\n      <td>149626.572842</td>\n      <td>6973.571454</td>\n      <td>4.445399e+08</td>\n      <td>3395193.7</td>\n      <td>0.000574</td>\n      <td>0.000337</td>\n      <td>1.568717e-05</td>\n      <td>75115.684554</td>\n      <td>44070.113832</td>\n      <td>2053.953933</td>\n    </tr>\n    <tr>\n      <th>Croatia</th>\n      <td>255032.298970</td>\n      <td>149626.572842</td>\n      <td>6973.571454</td>\n      <td>4.445399e+08</td>\n      <td>3395193.7</td>\n      <td>0.000574</td>\n      <td>0.000337</td>\n      <td>1.568717e-05</td>\n      <td>75115.684554</td>\n      <td>44070.113832</td>\n      <td>2053.953933</td>\n    </tr>\n    <tr>\n      <th>Hungary</th>\n      <td>255032.298970</td>\n      <td>149626.572842</td>\n      <td>6973.571454</td>\n      <td>4.445399e+08</td>\n      <td>3395193.7</td>\n      <td>0.000574</td>\n      <td>0.000337</td>\n      <td>1.568717e-05</td>\n      <td>75115.684554</td>\n      <td>44070.113832</td>\n      <td>2053.953933</td>\n    </tr>\n    <tr>\n      <th>Indonesia</th>\n      <td>5179.400095</td>\n      <td>1474.703744</td>\n      <td>103.247625</td>\n      <td>2.595923e+08</td>\n      <td>232425.4</td>\n      <td>0.000020</td>\n      <td>0.000006</td>\n      <td>3.977299e-07</td>\n      <td>22284.139748</td>\n      <td>6344.847611</td>\n      <td>444.218337</td>\n    </tr>\n    <tr>\n      <th>India</th>\n      <td>42596.348477</td>\n      <td>40505.248373</td>\n      <td>2079.156847</td>\n      <td>1.316051e+09</td>\n      <td>655346.0</td>\n      <td>0.000032</td>\n      <td>0.000031</td>\n      <td>1.579845e-06</td>\n      <td>64998.258137</td>\n      <td>61807.424434</td>\n      <td>3172.609349</td>\n    </tr>\n    <tr>\n      <th>Ireland</th>\n      <td>255032.298970</td>\n      <td>149626.572842</td>\n      <td>6973.571454</td>\n      <td>4.445399e+08</td>\n      <td>3395193.7</td>\n      <td>0.000574</td>\n      <td>0.000337</td>\n      <td>1.568717e-05</td>\n      <td>75115.684554</td>\n      <td>44070.113832</td>\n      <td>2053.953933</td>\n    </tr>\n    <tr>\n      <th>Iceland</th>\n      <td>607.472156</td>\n      <td>137.479746</td>\n      <td>5.508138</td>\n      <td>3.392181e+05</td>\n      <td>4697.1</td>\n      <td>0.001791</td>\n      <td>0.000405</td>\n      <td>1.623775e-05</td>\n      <td>129329.193810</td>\n      <td>29269.069370</td>\n      <td>1172.667838</td>\n    </tr>\n    <tr>\n      <th>Israel</th>\n      <td>4938.700962</td>\n      <td>3375.864411</td>\n      <td>82.655454</td>\n      <td>8.477533e+06</td>\n      <td>91346.6</td>\n      <td>0.000583</td>\n      <td>0.000398</td>\n      <td>9.749942e-06</td>\n      <td>54065.514889</td>\n      <td>36956.650938</td>\n      <td>904.855289</td>\n    </tr>\n    <tr>\n      <th>Italy</th>\n      <td>255032.298970</td>\n      <td>149626.572842</td>\n      <td>6973.571454</td>\n      <td>4.445399e+08</td>\n      <td>3395193.7</td>\n      <td>0.000574</td>\n      <td>0.000337</td>\n      <td>1.568717e-05</td>\n      <td>75115.684554</td>\n      <td>44070.113832</td>\n      <td>2053.953933</td>\n    </tr>\n    <tr>\n      <th>Japan</th>\n      <td>19448.498197</td>\n      <td>20909.259142</td>\n      <td>560.624257</td>\n      <td>1.270690e+08</td>\n      <td>1054733.6</td>\n      <td>0.000153</td>\n      <td>0.000165</td>\n      <td>4.411965e-06</td>\n      <td>18439.251577</td>\n      <td>19824.208826</td>\n      <td>531.531618</td>\n    </tr>\n    <tr>\n      <th>South Korea</th>\n      <td>19411.126348</td>\n      <td>32763.437206</td>\n      <td>1234.556650</td>\n      <td>5.094932e+07</td>\n      <td>359938.2</td>\n      <td>0.000381</td>\n      <td>0.000643</td>\n      <td>2.423107e-05</td>\n      <td>53929.053232</td>\n      <td>91025.173783</td>\n      <td>3429.912828</td>\n    </tr>\n    <tr>\n      <th>Lithuania</th>\n      <td>255032.298970</td>\n      <td>149626.572842</td>\n      <td>6973.571454</td>\n      <td>4.445399e+08</td>\n      <td>3395193.7</td>\n      <td>0.000574</td>\n      <td>0.000337</td>\n      <td>1.568717e-05</td>\n      <td>75115.684554</td>\n      <td>44070.113832</td>\n      <td>2053.953933</td>\n    </tr>\n    <tr>\n      <th>Luxembourg</th>\n      <td>255032.298970</td>\n      <td>149626.572842</td>\n      <td>6973.571454</td>\n      <td>4.445399e+08</td>\n      <td>3395193.7</td>\n      <td>0.000574</td>\n      <td>0.000337</td>\n      <td>1.568717e-05</td>\n      <td>75115.684554</td>\n      <td>44070.113832</td>\n      <td>2053.953933</td>\n    </tr>\n    <tr>\n      <th>Latvia</th>\n      <td>255032.298970</td>\n      <td>149626.572842</td>\n      <td>6973.571454</td>\n      <td>4.445399e+08</td>\n      <td>3395193.7</td>\n      <td>0.000574</td>\n      <td>0.000337</td>\n      <td>1.568717e-05</td>\n      <td>75115.684554</td>\n      <td>44070.113832</td>\n      <td>2053.953933</td>\n    </tr>\n    <tr>\n      <th>Mexico</th>\n      <td>9240.066889</td>\n      <td>4598.298042</td>\n      <td>206.794799</td>\n      <td>1.224313e+08</td>\n      <td>254421.1</td>\n      <td>0.000075</td>\n      <td>0.000038</td>\n      <td>1.689069e-06</td>\n      <td>36318.005422</td>\n      <td>18073.571892</td>\n      <td>812.805223</td>\n    </tr>\n    <tr>\n      <th>Malta</th>\n      <td>255032.298970</td>\n      <td>149626.572842</td>\n      <td>6973.571454</td>\n      <td>4.445399e+08</td>\n      <td>3395193.7</td>\n      <td>0.000574</td>\n      <td>0.000337</td>\n      <td>1.568717e-05</td>\n      <td>75115.684554</td>\n      <td>44070.113832</td>\n      <td>2053.953933</td>\n    </tr>\n    <tr>\n      <th>Montenegro</th>\n      <td>163.022021</td>\n      <td>56.759788</td>\n      <td>4.059259</td>\n      <td>6.213078e+05</td>\n      <td>879.9</td>\n      <td>0.000262</td>\n      <td>0.000091</td>\n      <td>6.533411e-06</td>\n      <td>185273.350383</td>\n      <td>64507.089920</td>\n      <td>4613.318854</td>\n    </tr>\n    <tr>\n      <th>Netherlands</th>\n      <td>255032.298970</td>\n      <td>149626.572842</td>\n      <td>6973.571454</td>\n      <td>4.445399e+08</td>\n      <td>3395193.7</td>\n      <td>0.000574</td>\n      <td>0.000337</td>\n      <td>1.568717e-05</td>\n      <td>75115.684554</td>\n      <td>44070.113832</td>\n      <td>2053.953933</td>\n    </tr>\n    <tr>\n      <th>Norway</th>\n      <td>9549.820653</td>\n      <td>2617.168439</td>\n      <td>185.499124</td>\n      <td>5.185456e+06</td>\n      <td>91290.3</td>\n      <td>0.001842</td>\n      <td>0.000505</td>\n      <td>3.577296e-05</td>\n      <td>104609.368716</td>\n      <td>28668.636630</td>\n      <td>2031.969708</td>\n    </tr>\n    <tr>\n      <th>New Zealand</th>\n      <td>6847.822787</td>\n      <td>2227.965707</td>\n      <td>121.829811</td>\n      <td>4.694258e+06</td>\n      <td>51176.1</td>\n      <td>0.001459</td>\n      <td>0.000475</td>\n      <td>2.595294e-05</td>\n      <td>133809.000424</td>\n      <td>43535.277353</td>\n      <td>2380.599748</td>\n    </tr>\n    <tr>\n      <th>Philippines</th>\n      <td>1897.567943</td>\n      <td>308.676839</td>\n      <td>38.005112</td>\n      <td>1.027067e+08</td>\n      <td>74969.9</td>\n      <td>0.000018</td>\n      <td>0.000003</td>\n      <td>3.700355e-07</td>\n      <td>25311.064084</td>\n      <td>4117.343619</td>\n      <td>506.938274</td>\n    </tr>\n    <tr>\n      <th>Poland</th>\n      <td>255032.298970</td>\n      <td>149626.572842</td>\n      <td>6973.571454</td>\n      <td>4.445399e+08</td>\n      <td>3395193.7</td>\n      <td>0.000574</td>\n      <td>0.000337</td>\n      <td>1.568717e-05</td>\n      <td>75115.684554</td>\n      <td>44070.113832</td>\n      <td>2053.953933</td>\n    </tr>\n    <tr>\n      <th>Portugal</th>\n      <td>255032.298970</td>\n      <td>149626.572842</td>\n      <td>6973.571454</td>\n      <td>4.445399e+08</td>\n      <td>3395193.7</td>\n      <td>0.000574</td>\n      <td>0.000337</td>\n      <td>1.568717e-05</td>\n      <td>75115.684554</td>\n      <td>44070.113832</td>\n      <td>2053.953933</td>\n    </tr>\n    <tr>\n      <th>Romania</th>\n      <td>255032.298970</td>\n      <td>149626.572842</td>\n      <td>6973.571454</td>\n      <td>4.445399e+08</td>\n      <td>3395193.7</td>\n      <td>0.000574</td>\n      <td>0.000337</td>\n      <td>1.568717e-05</td>\n      <td>75115.684554</td>\n      <td>44070.113832</td>\n      <td>2053.953933</td>\n    </tr>\n    <tr>\n      <th>Russia</th>\n      <td>8970.470299</td>\n      <td>5954.148935</td>\n      <td>207.745308</td>\n      <td>1.438065e+08</td>\n      <td>298558.4</td>\n      <td>0.000062</td>\n      <td>0.000041</td>\n      <td>1.444617e-06</td>\n      <td>30045.948463</td>\n      <td>19942.995859</td>\n      <td>695.828046</td>\n    </tr>\n    <tr>\n      <th>Singapore</th>\n      <td>4567.587687</td>\n      <td>6731.394222</td>\n      <td>262.056533</td>\n      <td>5.473158e+06</td>\n      <td>77537.4</td>\n      <td>0.000835</td>\n      <td>0.001230</td>\n      <td>4.788031e-05</td>\n      <td>58908.187360</td>\n      <td>86814.804494</td>\n      <td>3379.743618</td>\n    </tr>\n    <tr>\n      <th>Serbia</th>\n      <td>2592.544797</td>\n      <td>1808.553624</td>\n      <td>95.786523</td>\n      <td>7.072077e+06</td>\n      <td>11625.1</td>\n      <td>0.000367</td>\n      <td>0.000256</td>\n      <td>1.354433e-05</td>\n      <td>223012.687806</td>\n      <td>155573.167038</td>\n      <td>8239.629995</td>\n    </tr>\n    <tr>\n      <th>Slovakia</th>\n      <td>255032.298970</td>\n      <td>149626.572842</td>\n      <td>6973.571454</td>\n      <td>4.445399e+08</td>\n      <td>3395193.7</td>\n      <td>0.000574</td>\n      <td>0.000337</td>\n      <td>1.568717e-05</td>\n      <td>75115.684554</td>\n      <td>44070.113832</td>\n      <td>2053.953933</td>\n    </tr>\n    <tr>\n      <th>Slovenia</th>\n      <td>255032.298970</td>\n      <td>149626.572842</td>\n      <td>6973.571454</td>\n      <td>4.445399e+08</td>\n      <td>3395193.7</td>\n      <td>0.000574</td>\n      <td>0.000337</td>\n      <td>1.568717e-05</td>\n      <td>75115.684554</td>\n      <td>44070.113832</td>\n      <td>2053.953933</td>\n    </tr>\n    <tr>\n      <th>Sweden</th>\n      <td>255032.298970</td>\n      <td>149626.572842</td>\n      <td>6973.571454</td>\n      <td>4.445399e+08</td>\n      <td>3395193.7</td>\n      <td>0.000574</td>\n      <td>0.000337</td>\n      <td>1.568717e-05</td>\n      <td>75115.684554</td>\n      <td>44070.113832</td>\n      <td>2053.953933</td>\n    </tr>\n    <tr>\n      <th>Thailand</th>\n      <td>4712.398682</td>\n      <td>2131.558783</td>\n      <td>121.698647</td>\n      <td>6.873610e+07</td>\n      <td>111136.0</td>\n      <td>0.000069</td>\n      <td>0.000031</td>\n      <td>1.770520e-06</td>\n      <td>42402.090068</td>\n      <td>19179.732783</td>\n      <td>1095.042538</td>\n    </tr>\n    <tr>\n      <th>Turkey</th>\n      <td>15803.667151</td>\n      <td>12098.228238</td>\n      <td>503.252824</td>\n      <td>7.901677e+07</td>\n      <td>156571.8</td>\n      <td>0.000200</td>\n      <td>0.000153</td>\n      <td>6.368937e-06</td>\n      <td>100935.590896</td>\n      <td>77269.522599</td>\n      <td>3214.198369</td>\n    </tr>\n    <tr>\n      <th>United States</th>\n      <td>193487.922934</td>\n      <td>114589.956220</td>\n      <td>4689.826355</td>\n      <td>3.213942e+08</td>\n      <td>4518929.3</td>\n      <td>0.000602</td>\n      <td>0.000357</td>\n      <td>1.459213e-05</td>\n      <td>42817.205158</td>\n      <td>25357.766987</td>\n      <td>1037.818041</td>\n    </tr>\n    <tr>\n      <th>South Africa</th>\n      <td>14977.791130</td>\n      <td>2121.499928</td>\n      <td>216.299485</td>\n      <td>5.571583e+07</td>\n      <td>81269.2</td>\n      <td>0.000269</td>\n      <td>0.000038</td>\n      <td>3.882191e-06</td>\n      <td>184298.493531</td>\n      <td>26104.599631</td>\n      <td>2661.518565</td>\n    </tr>\n  </tbody>\n</table>\n</div>"
     },
     "execution_count": 38,
     "metadata": {},
     "output_type": "execute_result"
    }
   ],
   "source": [
    "df_country.loc[:, 'SDG-pop'] = df_country.loc[:, 'SDG'] /  df_country.loc[:, 'avg_pop']\n",
    "df_country.loc[:, 'DT-pop'] = df_country.loc[:, 'DT'] /  df_country.loc[:, 'avg_pop']\n",
    "df_country.loc[:, 'Inter-pop'] = df_country.loc[:, 'Inter'] /  df_country.loc[:, 'avg_pop']\n",
    "\n",
    "df_country.loc[:, 'SDG-gdp'] = df_country.loc[:, 'SDG']*1000000 /  df_country.loc[:, 'gdp']\n",
    "df_country.loc[:, 'DT-gdp'] = df_country.loc[:, 'DT']*1000000 /  df_country.loc[:, 'gdp']\n",
    "df_country.loc[:, 'Inter-gdp'] = df_country.loc[:, 'Inter']*1000000 /  df_country.loc[:, 'gdp']\n",
    "\n",
    "df_country"
   ],
   "metadata": {
    "collapsed": false
   }
  },
  {
   "cell_type": "code",
   "execution_count": 35,
   "outputs": [],
   "source": [],
   "metadata": {
    "collapsed": false
   }
  },
  {
   "cell_type": "code",
   "execution_count": 74,
   "outputs": [],
   "source": [
    "# for cat in ['SDG', 'DT', 'Inter', 'SDG-pop', 'DT-pop','Inter-pop', 'SDG-gdp', 'DT-gdp', 'Inter-gdp']:\n",
    "for cat in ['SDG', 'DT', 'Inter']:\n",
    "    # tit = cat.replace(\"-pop\", \"\").replace(\"-gdp\", \"\")\n",
    "    if 'pop' in cat:\n",
    "        spec = \"/pop*\"\n",
    "        annot= \"*Normalised by population\"\n",
    "    elif \"gdp\" in cat:\n",
    "        spec = \"/gdp*\"\n",
    "        annot = \"*Normalised by GDP (in M$)\"\n",
    "    else:\n",
    "        spec = \"\"\n",
    "        annot = \"\"\n",
    "    tit = f\"Nb pubs{spec}\"\n",
    "\n",
    "    layout = go.Layout(\n",
    "        annotations=[\n",
    "            dict(\n",
    "                x=1,\n",
    "                y=0.9,\n",
    "                align=\"right\",\n",
    "                valign=\"top\",\n",
    "                text=tit,\n",
    "                showarrow=False,\n",
    "                xref=\"paper\",\n",
    "                yref=\"paper\",\n",
    "                xanchor=\"center\",\n",
    "                yanchor=\"top\",\n",
    "                font_size=22,\n",
    "                ),\n",
    "            dict(\n",
    "                x=0.25,\n",
    "                y=-.01,\n",
    "                align=\"right\",\n",
    "                valign=\"top\",\n",
    "                text=annot,\n",
    "                showarrow=False,\n",
    "                xref=\"paper\",\n",
    "                yref=\"paper\",\n",
    "                xanchor=\"center\",\n",
    "                yanchor=\"top\",\n",
    "                font_size=30,\n",
    "                ),\n",
    "            ],\n",
    "        )\n",
    "    fig = go.Figure(\n",
    "            data=go.Choropleth(\n",
    "                locations=df_country.index,\n",
    "                z=df_country[cat],\n",
    "                text=df_country.index,\n",
    "                locationmode=\"country names\",\n",
    "                colorscale='Blues',\n",
    "                autocolorscale=False,\n",
    "                colorbar=dict(\n",
    "                    len=0.8,\n",
    "                    y=0.45,\n",
    "                    x= 0.95\n",
    "                )\n",
    "            ),\n",
    "            layout=layout,\n",
    "        )\n",
    "\n",
    "    fig.update_layout(\n",
    "        template='simple_white',\n",
    "        font=dict(size=25),\n",
    "        showlegend=True,\n",
    "\n",
    "        geo=go.layout.Geo(\n",
    "            scope=\"world\",\n",
    "            landcolor='lightgray',\n",
    "            projection_scale=1,\n",
    "            center=dict(lon=20, lat=30),\n",
    "            projection_type=\"kavrayskiy7\",\n",
    "\n",
    "            showland=True,\n",
    "            showcountries=False,\n",
    "            showframe=False\n",
    "        ),\n",
    "        height=900,\n",
    "        width=1400\n",
    "    )\n",
    "\n",
    "    fig.write_image(f\"../img/Commission/maps/World/{cat}.jpg\")\n",
    "    # pio.write_image(fig, folder, format='png')"
   ],
   "metadata": {
    "collapsed": false
   }
  },
  {
   "cell_type": "markdown",
   "source": [
    "## Specialization"
   ],
   "metadata": {
    "collapsed": false
   }
  },
  {
   "cell_type": "code",
   "execution_count": 34,
   "outputs": [
    {
     "data": {
      "text/plain": "     Unnamed: 0         Country Country ISO3  Country Code  \\\n0             0     Afghanistan          AFG             4   \n1             1         Albania          ALB             8   \n2             2         Algeria          DZA            12   \n3             3  American Samoa          ASM            16   \n4             4         Andorra          AND            20   \n..          ...             ...          ...           ...   \n222         265       Venezuela          VEN           862   \n223         266         Vietnam          VNM           704   \n224         270           Yemen          YEM           887   \n225         273          Zambia          ZMB           894   \n226         274        Zimbabwe          ZWE           716   \n\n                                   Long Name          Income Group  \\\n0               Islamic State of Afghanistan            Low income   \n1                        Republic of Albania   Upper middle income   \n2    People's Democratic Republic of Algeria   Upper middle income   \n3                             American Samoa   Upper middle income   \n4                                        NaN                Others   \n..                                       ...                   ...   \n222       República Bolivariana de Venezuela  High income: nonOECD   \n223            Socialist Republic of Vietnam   Lower middle income   \n224                        Republic of Yemen   Lower middle income   \n225                       Republic of Zambia   Lower middle income   \n226                     Republic of Zimbabwe            Low income   \n\n    Lending Category                      Region              Currency Unit  \\\n0                IDA                  South Asia             Afghan afghani   \n1               IBRD       Europe & Central Asia               Albanian lek   \n2               IBRD  Middle East & North Africa             Algerian dinar   \n3                NaN         East Asia & Pacific                U.S. dollar   \n4                NaN       Europe & Central Asia                        NaN   \n..               ...                         ...                        ...   \n222             IBRD   Latin America & Caribbean  Venezuelan bolivar fuerte   \n223            Blend         East Asia & Pacific            Vietnamese dong   \n224              IDA  Middle East & North Africa                Yemeni rial   \n225              IDA          Sub-Saharan Africa         New Zambian kwacha   \n226            Blend          Sub-Saharan Africa                U.S. dollar   \n\n    Other Groups WTO Member   latitude   longitude  \n0           HIPC         No  33.939110   67.709953  \n1            NaN        Yes  41.153332   20.168331  \n2            NaN         No  28.033886    1.659626  \n3            NaN         No -14.270972 -170.132217  \n4            NaN         No  42.546245    1.601554  \n..           ...        ...        ...         ...  \n222          NaN        Yes   6.423750  -66.589730  \n223          NaN        Yes  14.058324  108.277199  \n224          NaN         No  15.552727   48.516388  \n225         HIPC        Yes -13.133897   27.849332  \n226          NaN        Yes -19.015438   29.154857  \n\n[227 rows x 13 columns]",
      "text/html": "<div>\n<style scoped>\n    .dataframe tbody tr th:only-of-type {\n        vertical-align: middle;\n    }\n\n    .dataframe tbody tr th {\n        vertical-align: top;\n    }\n\n    .dataframe thead th {\n        text-align: right;\n    }\n</style>\n<table border=\"1\" class=\"dataframe\">\n  <thead>\n    <tr style=\"text-align: right;\">\n      <th></th>\n      <th>Unnamed: 0</th>\n      <th>Country</th>\n      <th>Country ISO3</th>\n      <th>Country Code</th>\n      <th>Long Name</th>\n      <th>Income Group</th>\n      <th>Lending Category</th>\n      <th>Region</th>\n      <th>Currency Unit</th>\n      <th>Other Groups</th>\n      <th>WTO Member</th>\n      <th>latitude</th>\n      <th>longitude</th>\n    </tr>\n  </thead>\n  <tbody>\n    <tr>\n      <th>0</th>\n      <td>0</td>\n      <td>Afghanistan</td>\n      <td>AFG</td>\n      <td>4</td>\n      <td>Islamic State of Afghanistan</td>\n      <td>Low income</td>\n      <td>IDA</td>\n      <td>South Asia</td>\n      <td>Afghan afghani</td>\n      <td>HIPC</td>\n      <td>No</td>\n      <td>33.939110</td>\n      <td>67.709953</td>\n    </tr>\n    <tr>\n      <th>1</th>\n      <td>1</td>\n      <td>Albania</td>\n      <td>ALB</td>\n      <td>8</td>\n      <td>Republic of Albania</td>\n      <td>Upper middle income</td>\n      <td>IBRD</td>\n      <td>Europe &amp; Central Asia</td>\n      <td>Albanian lek</td>\n      <td>NaN</td>\n      <td>Yes</td>\n      <td>41.153332</td>\n      <td>20.168331</td>\n    </tr>\n    <tr>\n      <th>2</th>\n      <td>2</td>\n      <td>Algeria</td>\n      <td>DZA</td>\n      <td>12</td>\n      <td>People's Democratic Republic of Algeria</td>\n      <td>Upper middle income</td>\n      <td>IBRD</td>\n      <td>Middle East &amp; North Africa</td>\n      <td>Algerian dinar</td>\n      <td>NaN</td>\n      <td>No</td>\n      <td>28.033886</td>\n      <td>1.659626</td>\n    </tr>\n    <tr>\n      <th>3</th>\n      <td>3</td>\n      <td>American Samoa</td>\n      <td>ASM</td>\n      <td>16</td>\n      <td>American Samoa</td>\n      <td>Upper middle income</td>\n      <td>NaN</td>\n      <td>East Asia &amp; Pacific</td>\n      <td>U.S. dollar</td>\n      <td>NaN</td>\n      <td>No</td>\n      <td>-14.270972</td>\n      <td>-170.132217</td>\n    </tr>\n    <tr>\n      <th>4</th>\n      <td>4</td>\n      <td>Andorra</td>\n      <td>AND</td>\n      <td>20</td>\n      <td>NaN</td>\n      <td>Others</td>\n      <td>NaN</td>\n      <td>Europe &amp; Central Asia</td>\n      <td>NaN</td>\n      <td>NaN</td>\n      <td>No</td>\n      <td>42.546245</td>\n      <td>1.601554</td>\n    </tr>\n    <tr>\n      <th>...</th>\n      <td>...</td>\n      <td>...</td>\n      <td>...</td>\n      <td>...</td>\n      <td>...</td>\n      <td>...</td>\n      <td>...</td>\n      <td>...</td>\n      <td>...</td>\n      <td>...</td>\n      <td>...</td>\n      <td>...</td>\n      <td>...</td>\n    </tr>\n    <tr>\n      <th>222</th>\n      <td>265</td>\n      <td>Venezuela</td>\n      <td>VEN</td>\n      <td>862</td>\n      <td>República Bolivariana de Venezuela</td>\n      <td>High income: nonOECD</td>\n      <td>IBRD</td>\n      <td>Latin America &amp; Caribbean</td>\n      <td>Venezuelan bolivar fuerte</td>\n      <td>NaN</td>\n      <td>Yes</td>\n      <td>6.423750</td>\n      <td>-66.589730</td>\n    </tr>\n    <tr>\n      <th>223</th>\n      <td>266</td>\n      <td>Vietnam</td>\n      <td>VNM</td>\n      <td>704</td>\n      <td>Socialist Republic of Vietnam</td>\n      <td>Lower middle income</td>\n      <td>Blend</td>\n      <td>East Asia &amp; Pacific</td>\n      <td>Vietnamese dong</td>\n      <td>NaN</td>\n      <td>Yes</td>\n      <td>14.058324</td>\n      <td>108.277199</td>\n    </tr>\n    <tr>\n      <th>224</th>\n      <td>270</td>\n      <td>Yemen</td>\n      <td>YEM</td>\n      <td>887</td>\n      <td>Republic of Yemen</td>\n      <td>Lower middle income</td>\n      <td>IDA</td>\n      <td>Middle East &amp; North Africa</td>\n      <td>Yemeni rial</td>\n      <td>NaN</td>\n      <td>No</td>\n      <td>15.552727</td>\n      <td>48.516388</td>\n    </tr>\n    <tr>\n      <th>225</th>\n      <td>273</td>\n      <td>Zambia</td>\n      <td>ZMB</td>\n      <td>894</td>\n      <td>Republic of Zambia</td>\n      <td>Lower middle income</td>\n      <td>IDA</td>\n      <td>Sub-Saharan Africa</td>\n      <td>New Zambian kwacha</td>\n      <td>HIPC</td>\n      <td>Yes</td>\n      <td>-13.133897</td>\n      <td>27.849332</td>\n    </tr>\n    <tr>\n      <th>226</th>\n      <td>274</td>\n      <td>Zimbabwe</td>\n      <td>ZWE</td>\n      <td>716</td>\n      <td>Republic of Zimbabwe</td>\n      <td>Low income</td>\n      <td>Blend</td>\n      <td>Sub-Saharan Africa</td>\n      <td>U.S. dollar</td>\n      <td>NaN</td>\n      <td>Yes</td>\n      <td>-19.015438</td>\n      <td>29.154857</td>\n    </tr>\n  </tbody>\n</table>\n<p>227 rows × 13 columns</p>\n</div>"
     },
     "execution_count": 34,
     "metadata": {},
     "output_type": "execute_result"
    }
   ],
   "source": [
    "df_country_w_continent = pd.read_excel(\"../data/countries_w_continent.xlsx\", sheet_name=0)\n",
    "df_country_w_continent"
   ],
   "metadata": {
    "collapsed": false
   }
  },
  {
   "cell_type": "code",
   "execution_count": 35,
   "outputs": [],
   "source": [
    "lst_sdg = [\"SDG\" + str(i) for i in range(1, 18)]\n",
    "lst_cat = [\"Environment\", \"Society\", \"Economy\"]\n",
    "lst_dt_shortened = ['AI', 'robotics', 'IOT']\n",
    "lst_dt = ['AI', 'big_data', 'IOT', 'computing_infrastructure', 'blockchain', 'robotics',\n",
    "          'additive_manufacturing']\n",
    "lst_cat_dt = ['Environment-AI', 'Environment-robotics', 'Environment-IOT',\n",
    "              'Society-AI', 'Society-robotics', 'Society-IOT',\n",
    "              'Economy-AI', 'Economy-robotics', 'Economy-IOT']\n",
    "df_sdg = pd.read_pickle(\"../data/dataframes/output/all_sdg_fixed_dst.pkl\")\n",
    "df_dt = pd.read_pickle(\"../data/dataframes/DT/dt_updated.pkl\")\n",
    "\n",
    "# Filtering for Journal only\n",
    "df_sdg = df_sdg[df_sdg.PT == 'J']\n",
    "df_dt = df_dt[df_dt.PT == 'J']\n",
    "df_sdg_dt = df_sdg[df_sdg['DST']]"
   ],
   "metadata": {
    "collapsed": false
   }
  },
  {
   "cell_type": "code",
   "execution_count": 39,
   "outputs": [
    {
     "name": "stderr",
     "output_type": "stream",
     "text": [
      "100%|██████████| 1072858/1072858 [00:06<00:00, 158653.29it/s]\n",
      "100%|██████████| 755468/755468 [00:02<00:00, 288830.90it/s]\n",
      "100%|██████████| 33097/33097 [00:00<00:00, 138540.55it/s]"
     ]
    },
    {
     "name": "stdout",
     "output_type": "stream",
     "text": [
      "CPU times: user 9.67 s, sys: 7.8 ms, total: 9.67 s\n",
      "Wall time: 9.66 s\n"
     ]
    },
    {
     "name": "stderr",
     "output_type": "stream",
     "text": [
      "\n"
     ]
    }
   ],
   "source": [
    "%%time\n",
    "import itertools\n",
    "from tqdm import tqdm\n",
    "dic = {c:{elem:0 for elem in lst_sdg+lst_cat+lst_dt+lst_cat_dt} for c in set_countries}\n",
    "dic_world = {elem:0 for elem in lst_sdg+lst_cat+lst_dt+lst_cat_dt}\n",
    "\n",
    "# SDG dataframe\n",
    "for row in tqdm(df_sdg.itertuples(index=False, name=None), total=df_sdg.shape[0]):\n",
    "    lst_actors = row[idx_sdg['CN']].split(\", \")\n",
    "    size_actors = len(lst_actors)\n",
    "    sdgs_in_pubs = []\n",
    "    # Country count\n",
    "    for sdg in lst_sdg:\n",
    "        if row[idx_sdg[sdg]]:\n",
    "            sdgs_in_pubs += sdg\n",
    "            for actor in lst_actors:\n",
    "                dic_world[sdg] += 1\n",
    "                dic[actor][sdg] += 1\n",
    "    for cat in lst_cat:\n",
    "        if row[idx_sdg[cat]]:\n",
    "            for actor in lst_actors:\n",
    "                dic_world[cat] += 1\n",
    "                dic[actor][cat] += 1\n",
    "\n",
    "\n",
    "# DT dataframe\n",
    "for row in tqdm(df_dt.itertuples(index=False, name=None), total=df_dt.shape[0]):\n",
    "    lst_actors = row[idx_dt['CN']].split(\", \")\n",
    "    # Country count\n",
    "    for dt in lst_dt:\n",
    "        if row[idx_dt[dt]]:\n",
    "            for actor in lst_actors:\n",
    "                if actor in dic:\n",
    "                    dic[actor][dt] += 1\n",
    "                    dic_world[dt] += 1\n",
    "\n",
    "# Intersection\n",
    "for row in tqdm(df_sdg_dt.itertuples(index=False, name=None), total=df_sdg_dt.shape[0]):\n",
    "    # Country count\n",
    "    lst_actors = row[idx_sdg_dt['CN']].split(\", \")\n",
    "    for cat in lst_cat:\n",
    "        if row[idx_sdg_dt[cat]]:\n",
    "            for dt in lst_dt:\n",
    "                if row[idx_sdg_dt[dt]]:\n",
    "                    for actor in lst_actors:\n",
    "                        if str(cat) + \"-\" + str(dt) in lst_cat_dt:\n",
    "                            dic_world[str(cat) + \"-\" + str(dt)] += 1\n",
    "                            dic[actor][str(cat) + \"-\" + str(dt)] += 1\n"
   ],
   "metadata": {
    "collapsed": false
   }
  },
  {
   "cell_type": "code",
   "execution_count": 33,
   "outputs": [
    {
     "name": "stderr",
     "output_type": "stream",
     "text": [
      "100%|██████████| 1072858/1072858 [00:06<00:00, 157505.05it/s]\n",
      "100%|██████████| 755468/755468 [00:02<00:00, 255830.72it/s]\n",
      "100%|██████████| 33097/33097 [00:00<00:00, 163085.32it/s]"
     ]
    },
    {
     "name": "stdout",
     "output_type": "stream",
     "text": [
      "CPU times: user 10 s, sys: 6.83 ms, total: 10 s\n",
      "Wall time: 10 s\n"
     ]
    },
    {
     "name": "stderr",
     "output_type": "stream",
     "text": [
      "\n"
     ]
    }
   ],
   "source": [
    "\"\"\"\n",
    "%%time\n",
    "# Fractional version\n",
    "\n",
    "import itertools\n",
    "from tqdm import tqdm\n",
    "dic = {c:{elem:0 for elem in lst_sdg+lst_cat+lst_dt+lst_cat_dt} for c in set_countries}\n",
    "dic_world = {elem:0 for elem in lst_sdg+lst_cat+lst_dt+lst_cat_dt}\n",
    "\n",
    "# SDG dataframe\n",
    "for row in tqdm(df_sdg.itertuples(index=False, name=None), total=df_sdg.shape[0]):\n",
    "    lst_actors = row[idx_sdg['CN']].split(\", \")\n",
    "    size_actors = len(lst_actors)\n",
    "    sdgs_in_pub = []\n",
    "    cats_in_pub = []\n",
    "    # Country count\n",
    "    for sdg in lst_sdg:\n",
    "        if row[idx_sdg[sdg]]:\n",
    "            sdgs_in_pub.append(sdg)\n",
    "    for cat in lst_cat:\n",
    "        if row[idx_sdg[cat]]:\n",
    "            cats_in_pub.append(cat)\n",
    "    tot_sdg_in_pub = len(sdgs_in_pub)\n",
    "    tot_cat_in_pub = len(cats_in_pub)\n",
    "    for sdg in sdgs_in_pub:\n",
    "        dic_world[sdg] += 1/tot_sdg_in_pub\n",
    "    for cat in cats_in_pub:\n",
    "        dic_world[cat] += 1/tot_cat_in_pub\n",
    "\n",
    "    for actor in lst_actors:\n",
    "        for sdg in sdgs_in_pub:\n",
    "            dic[actor][sdg] += 1/(size_actors*tot_sdg_in_pub)\n",
    "        for cat in cats_in_pub:\n",
    "            dic[actor][cat] += 1/(size_actors*tot_cat_in_pub)\n",
    "\n",
    "\n",
    "# DT dataframe\n",
    "for row in tqdm(df_dt.itertuples(index=False, name=None), total=df_dt.shape[0]):\n",
    "    lst_actors = row[idx_dt['CN']].split(\", \")\n",
    "    tot_actors = len(lst_actors)\n",
    "    dt_in_pub = []\n",
    "    # Country count\n",
    "    for dt in lst_dt:\n",
    "        if row[idx_dt[dt]]:\n",
    "            dt_in_pub.append(dt)\n",
    "    tot_dt = len(dt_in_pub)\n",
    "    for dt in dt_in_pub:\n",
    "        dic_world[dt] += 1/tot_dt\n",
    "    for actor in lst_actors:\n",
    "        if actor in dic:\n",
    "            for dt in dt_in_pub:\n",
    "                dic[actor][dt] += 1/(tot_actors*tot_dt)\n",
    "\n",
    "\n",
    "# Intersection\n",
    "for row in tqdm(df_sdg_dt.itertuples(index=False, name=None), total=df_sdg_dt.shape[0]):\n",
    "    # Country count\n",
    "    lst_actors = row[idx_sdg_dt['CN']].split(\", \")\n",
    "    tot_actors = len(lst_actors)\n",
    "    inter_in_pub = []\n",
    "    for cat in lst_cat:\n",
    "        if row[idx_sdg_dt[cat]]:\n",
    "            for dt in lst_dt:\n",
    "                if row[idx_sdg_dt[dt]]:\n",
    "                    inter_in_pub.append(str(cat) + \"-\" + str(dt))\n",
    "    tot_inter = len(inter_in_pub)\n",
    "    for inter in inter_in_pub:\n",
    "        if inter in dic_world:\n",
    "            dic_world[inter] += 1/tot_inter\n",
    "\n",
    "    for actor in lst_actors:\n",
    "        for inter in inter_in_pub:\n",
    "            if inter in lst_cat_dt:\n",
    "                dic[actor][inter] += (1 / (tot_inter*tot_actors))\n",
    "\"\"\"\n"
   ],
   "metadata": {
    "collapsed": false
   }
  },
  {
   "cell_type": "code",
   "execution_count": 40,
   "outputs": [
    {
     "data": {
      "text/plain": "                       SDG1  SDG2   SDG3  SDG4  SDG5  SDG6  SDG7  SDG8  SDG9  \\\nSierra Leone             27     5    454    12    22    30    15     9     6   \nSomalia                  15     8     43     3     8     6     0     4     1   \nEl Salvador              19     9     19     7    20     6     5     1     5   \nCape Verde                1     0     16    10    12     6     4     2     2   \nSão Tomé and Príncipe     0     2      0     2     7     1     0     0     0   \n...                     ...   ...    ...   ...   ...   ...   ...   ...   ...   \nCroatia                 114   141   1424   355   542  1165   465   250   177   \nCambodia                126   152    228    37    92    92    35    23    37   \nGabon                    40     5     81     6    35     8    10     0     9   \nTurkey                  715   992  11921  2309  1765  7413  2444   817   851   \nSaudi Arabia            383   451   8632   845  1209  3919  1316   216   561   \n\n                       SDG10  ...  additive_manufacturing  Environment-AI  \\\nSierra Leone               5  ...                      12               0   \nSomalia                    1  ...                       0               0   \nEl Salvador                1  ...                       3               0   \nCape Verde                 6  ...                       0               0   \nSão Tomé and Príncipe      0  ...                       0               0   \n...                      ...  ...                     ...             ...   \nCroatia                  308  ...                     355              95   \nCambodia                  35  ...                       4               8   \nGabon                      4  ...                       0               2   \nTurkey                   859  ...                    2381             394   \nSaudi Arabia             219  ...                    1083             260   \n\n                       Environment-robotics  Environment-IOT  Society-AI  \\\nSierra Leone                              6                0           0   \nSomalia                                   0                0           2   \nEl Salvador                               0                0           0   \nCape Verde                                0                0           0   \nSão Tomé and Príncipe                     0                0           0   \n...                                     ...              ...         ...   \nCroatia                                  44               14         120   \nCambodia                                  1                0           2   \nGabon                                     2                0           0   \nTurkey                                   79               28         661   \nSaudi Arabia                             66               80         743   \n\n                       Society-robotics  Society-IOT  Economy-AI  \\\nSierra Leone                          0            0           0   \nSomalia                               0            0           2   \nEl Salvador                           0            0           0   \nCape Verde                            0            0           0   \nSão Tomé and Príncipe                 0            0           0   \n...                                 ...          ...         ...   \nCroatia                              17           21          10   \nCambodia                              0            0           0   \nGabon                                 0            0           0   \nTurkey                               92          152         142   \nSaudi Arabia                         76          341          94   \n\n                       Economy-robotics  Economy-IOT  \nSierra Leone                          0            0  \nSomalia                               0            0  \nEl Salvador                           0            0  \nCape Verde                            0            0  \nSão Tomé and Príncipe                 0            0  \n...                                 ...          ...  \nCroatia                               3           13  \nCambodia                              0            0  \nGabon                                 0            0  \nTurkey                               12           19  \nSaudi Arabia                         14           70  \n\n[218 rows x 36 columns]",
      "text/html": "<div>\n<style scoped>\n    .dataframe tbody tr th:only-of-type {\n        vertical-align: middle;\n    }\n\n    .dataframe tbody tr th {\n        vertical-align: top;\n    }\n\n    .dataframe thead th {\n        text-align: right;\n    }\n</style>\n<table border=\"1\" class=\"dataframe\">\n  <thead>\n    <tr style=\"text-align: right;\">\n      <th></th>\n      <th>SDG1</th>\n      <th>SDG2</th>\n      <th>SDG3</th>\n      <th>SDG4</th>\n      <th>SDG5</th>\n      <th>SDG6</th>\n      <th>SDG7</th>\n      <th>SDG8</th>\n      <th>SDG9</th>\n      <th>SDG10</th>\n      <th>...</th>\n      <th>additive_manufacturing</th>\n      <th>Environment-AI</th>\n      <th>Environment-robotics</th>\n      <th>Environment-IOT</th>\n      <th>Society-AI</th>\n      <th>Society-robotics</th>\n      <th>Society-IOT</th>\n      <th>Economy-AI</th>\n      <th>Economy-robotics</th>\n      <th>Economy-IOT</th>\n    </tr>\n  </thead>\n  <tbody>\n    <tr>\n      <th>Sierra Leone</th>\n      <td>27</td>\n      <td>5</td>\n      <td>454</td>\n      <td>12</td>\n      <td>22</td>\n      <td>30</td>\n      <td>15</td>\n      <td>9</td>\n      <td>6</td>\n      <td>5</td>\n      <td>...</td>\n      <td>12</td>\n      <td>0</td>\n      <td>6</td>\n      <td>0</td>\n      <td>0</td>\n      <td>0</td>\n      <td>0</td>\n      <td>0</td>\n      <td>0</td>\n      <td>0</td>\n    </tr>\n    <tr>\n      <th>Somalia</th>\n      <td>15</td>\n      <td>8</td>\n      <td>43</td>\n      <td>3</td>\n      <td>8</td>\n      <td>6</td>\n      <td>0</td>\n      <td>4</td>\n      <td>1</td>\n      <td>1</td>\n      <td>...</td>\n      <td>0</td>\n      <td>0</td>\n      <td>0</td>\n      <td>0</td>\n      <td>2</td>\n      <td>0</td>\n      <td>0</td>\n      <td>2</td>\n      <td>0</td>\n      <td>0</td>\n    </tr>\n    <tr>\n      <th>El Salvador</th>\n      <td>19</td>\n      <td>9</td>\n      <td>19</td>\n      <td>7</td>\n      <td>20</td>\n      <td>6</td>\n      <td>5</td>\n      <td>1</td>\n      <td>5</td>\n      <td>1</td>\n      <td>...</td>\n      <td>3</td>\n      <td>0</td>\n      <td>0</td>\n      <td>0</td>\n      <td>0</td>\n      <td>0</td>\n      <td>0</td>\n      <td>0</td>\n      <td>0</td>\n      <td>0</td>\n    </tr>\n    <tr>\n      <th>Cape Verde</th>\n      <td>1</td>\n      <td>0</td>\n      <td>16</td>\n      <td>10</td>\n      <td>12</td>\n      <td>6</td>\n      <td>4</td>\n      <td>2</td>\n      <td>2</td>\n      <td>6</td>\n      <td>...</td>\n      <td>0</td>\n      <td>0</td>\n      <td>0</td>\n      <td>0</td>\n      <td>0</td>\n      <td>0</td>\n      <td>0</td>\n      <td>0</td>\n      <td>0</td>\n      <td>0</td>\n    </tr>\n    <tr>\n      <th>São Tomé and Príncipe</th>\n      <td>0</td>\n      <td>2</td>\n      <td>0</td>\n      <td>2</td>\n      <td>7</td>\n      <td>1</td>\n      <td>0</td>\n      <td>0</td>\n      <td>0</td>\n      <td>0</td>\n      <td>...</td>\n      <td>0</td>\n      <td>0</td>\n      <td>0</td>\n      <td>0</td>\n      <td>0</td>\n      <td>0</td>\n      <td>0</td>\n      <td>0</td>\n      <td>0</td>\n      <td>0</td>\n    </tr>\n    <tr>\n      <th>...</th>\n      <td>...</td>\n      <td>...</td>\n      <td>...</td>\n      <td>...</td>\n      <td>...</td>\n      <td>...</td>\n      <td>...</td>\n      <td>...</td>\n      <td>...</td>\n      <td>...</td>\n      <td>...</td>\n      <td>...</td>\n      <td>...</td>\n      <td>...</td>\n      <td>...</td>\n      <td>...</td>\n      <td>...</td>\n      <td>...</td>\n      <td>...</td>\n      <td>...</td>\n      <td>...</td>\n    </tr>\n    <tr>\n      <th>Croatia</th>\n      <td>114</td>\n      <td>141</td>\n      <td>1424</td>\n      <td>355</td>\n      <td>542</td>\n      <td>1165</td>\n      <td>465</td>\n      <td>250</td>\n      <td>177</td>\n      <td>308</td>\n      <td>...</td>\n      <td>355</td>\n      <td>95</td>\n      <td>44</td>\n      <td>14</td>\n      <td>120</td>\n      <td>17</td>\n      <td>21</td>\n      <td>10</td>\n      <td>3</td>\n      <td>13</td>\n    </tr>\n    <tr>\n      <th>Cambodia</th>\n      <td>126</td>\n      <td>152</td>\n      <td>228</td>\n      <td>37</td>\n      <td>92</td>\n      <td>92</td>\n      <td>35</td>\n      <td>23</td>\n      <td>37</td>\n      <td>35</td>\n      <td>...</td>\n      <td>4</td>\n      <td>8</td>\n      <td>1</td>\n      <td>0</td>\n      <td>2</td>\n      <td>0</td>\n      <td>0</td>\n      <td>0</td>\n      <td>0</td>\n      <td>0</td>\n    </tr>\n    <tr>\n      <th>Gabon</th>\n      <td>40</td>\n      <td>5</td>\n      <td>81</td>\n      <td>6</td>\n      <td>35</td>\n      <td>8</td>\n      <td>10</td>\n      <td>0</td>\n      <td>9</td>\n      <td>4</td>\n      <td>...</td>\n      <td>0</td>\n      <td>2</td>\n      <td>2</td>\n      <td>0</td>\n      <td>0</td>\n      <td>0</td>\n      <td>0</td>\n      <td>0</td>\n      <td>0</td>\n      <td>0</td>\n    </tr>\n    <tr>\n      <th>Turkey</th>\n      <td>715</td>\n      <td>992</td>\n      <td>11921</td>\n      <td>2309</td>\n      <td>1765</td>\n      <td>7413</td>\n      <td>2444</td>\n      <td>817</td>\n      <td>851</td>\n      <td>859</td>\n      <td>...</td>\n      <td>2381</td>\n      <td>394</td>\n      <td>79</td>\n      <td>28</td>\n      <td>661</td>\n      <td>92</td>\n      <td>152</td>\n      <td>142</td>\n      <td>12</td>\n      <td>19</td>\n    </tr>\n    <tr>\n      <th>Saudi Arabia</th>\n      <td>383</td>\n      <td>451</td>\n      <td>8632</td>\n      <td>845</td>\n      <td>1209</td>\n      <td>3919</td>\n      <td>1316</td>\n      <td>216</td>\n      <td>561</td>\n      <td>219</td>\n      <td>...</td>\n      <td>1083</td>\n      <td>260</td>\n      <td>66</td>\n      <td>80</td>\n      <td>743</td>\n      <td>76</td>\n      <td>341</td>\n      <td>94</td>\n      <td>14</td>\n      <td>70</td>\n    </tr>\n  </tbody>\n</table>\n<p>218 rows × 36 columns</p>\n</div>"
     },
     "execution_count": 40,
     "metadata": {},
     "output_type": "execute_result"
    }
   ],
   "source": [
    "df_spec_raw = pd.DataFrame.from_dict(data=dic, orient=\"index\", columns=lst_sdg+lst_cat+lst_dt+lst_cat_dt)\n",
    "df_spec_raw\n"
   ],
   "metadata": {
    "collapsed": false
   }
  },
  {
   "cell_type": "code",
   "execution_count": 41,
   "outputs": [
    {
     "data": {
      "text/plain": "                           SDG1     SDG2      SDG3      SDG4      SDG5  \\\nSierra Leone               27.0      5.0     454.0      12.0      22.0   \nSomalia                    15.0      8.0      43.0       3.0       8.0   \nEl Salvador                19.0      9.0      19.0       7.0      20.0   \nCape Verde                  1.0      0.0      16.0      10.0      12.0   \nSão Tomé and Príncipe       0.0      2.0       0.0       2.0       7.0   \n...                         ...      ...       ...       ...       ...   \nCambodia                  126.0    152.0     228.0      37.0      92.0   \nGabon                      40.0      5.0      81.0       6.0      35.0   \nTurkey                    715.0    992.0   11921.0    2309.0    1765.0   \nSaudi Arabia              383.0    451.0    8632.0     845.0    1209.0   \nworld                  120625.0  89733.0  706438.0  190477.0  300975.0   \n\n                           SDG6      SDG7     SDG8     SDG9    SDG10  ...  \\\nSierra Leone               30.0      15.0      9.0      6.0      5.0  ...   \nSomalia                     6.0       0.0      4.0      1.0      1.0  ...   \nEl Salvador                 6.0       5.0      1.0      5.0      1.0  ...   \nCape Verde                  6.0       4.0      2.0      2.0      6.0  ...   \nSão Tomé and Príncipe       1.0       0.0      0.0      0.0      0.0  ...   \n...                         ...       ...      ...      ...      ...  ...   \nCambodia                   92.0      35.0     23.0     37.0     35.0  ...   \nGabon                       8.0      10.0      0.0      9.0      4.0  ...   \nTurkey                   7413.0    2444.0    817.0    851.0    859.0  ...   \nSaudi Arabia             3919.0    1316.0    216.0    561.0    219.0  ...   \nworld                  598317.0  225075.0  72622.0  93317.0  74840.0  ...   \n\n                       additive_manufacturing  Environment-AI  \\\nSierra Leone                             12.0             0.0   \nSomalia                                   0.0             0.0   \nEl Salvador                               3.0             0.0   \nCape Verde                                0.0             0.0   \nSão Tomé and Príncipe                     0.0             0.0   \n...                                       ...             ...   \nCambodia                                  4.0             8.0   \nGabon                                     0.0             2.0   \nTurkey                                 2381.0           394.0   \nSaudi Arabia                           1083.0           260.0   \nworld                                264913.0         37686.0   \n\n                       Environment-robotics  Environment-IOT  Society-AI  \\\nSierra Leone                            6.0              0.0         0.0   \nSomalia                                 0.0              0.0         2.0   \nEl Salvador                             0.0              0.0         0.0   \nCape Verde                              0.0              0.0         0.0   \nSão Tomé and Príncipe                   0.0              0.0         0.0   \n...                                     ...              ...         ...   \nCambodia                                1.0              0.0         2.0   \nGabon                                   2.0              0.0         0.0   \nTurkey                                 79.0             28.0       661.0   \nSaudi Arabia                           66.0             80.0       743.0   \nworld                               11815.0           6307.0     50369.0   \n\n                       Society-robotics  Society-IOT  Economy-AI  \\\nSierra Leone                        0.0          0.0         0.0   \nSomalia                             0.0          0.0         2.0   \nEl Salvador                         0.0          0.0         0.0   \nCape Verde                          0.0          0.0         0.0   \nSão Tomé and Príncipe               0.0          0.0         0.0   \n...                                 ...          ...         ...   \nCambodia                            0.0          0.0         0.0   \nGabon                               0.0          0.0         0.0   \nTurkey                             92.0        152.0       142.0   \nSaudi Arabia                       76.0        341.0        94.0   \nworld                           10432.0      20237.0     10094.0   \n\n                       Economy-robotics  Economy-IOT  \nSierra Leone                        0.0          0.0  \nSomalia                             0.0          0.0  \nEl Salvador                         0.0          0.0  \nCape Verde                          0.0          0.0  \nSão Tomé and Príncipe               0.0          0.0  \n...                                 ...          ...  \nCambodia                            0.0          0.0  \nGabon                               0.0          0.0  \nTurkey                             12.0         19.0  \nSaudi Arabia                       14.0         70.0  \nworld                            2394.0       4320.0  \n\n[219 rows x 36 columns]",
      "text/html": "<div>\n<style scoped>\n    .dataframe tbody tr th:only-of-type {\n        vertical-align: middle;\n    }\n\n    .dataframe tbody tr th {\n        vertical-align: top;\n    }\n\n    .dataframe thead th {\n        text-align: right;\n    }\n</style>\n<table border=\"1\" class=\"dataframe\">\n  <thead>\n    <tr style=\"text-align: right;\">\n      <th></th>\n      <th>SDG1</th>\n      <th>SDG2</th>\n      <th>SDG3</th>\n      <th>SDG4</th>\n      <th>SDG5</th>\n      <th>SDG6</th>\n      <th>SDG7</th>\n      <th>SDG8</th>\n      <th>SDG9</th>\n      <th>SDG10</th>\n      <th>...</th>\n      <th>additive_manufacturing</th>\n      <th>Environment-AI</th>\n      <th>Environment-robotics</th>\n      <th>Environment-IOT</th>\n      <th>Society-AI</th>\n      <th>Society-robotics</th>\n      <th>Society-IOT</th>\n      <th>Economy-AI</th>\n      <th>Economy-robotics</th>\n      <th>Economy-IOT</th>\n    </tr>\n  </thead>\n  <tbody>\n    <tr>\n      <th>Sierra Leone</th>\n      <td>27.0</td>\n      <td>5.0</td>\n      <td>454.0</td>\n      <td>12.0</td>\n      <td>22.0</td>\n      <td>30.0</td>\n      <td>15.0</td>\n      <td>9.0</td>\n      <td>6.0</td>\n      <td>5.0</td>\n      <td>...</td>\n      <td>12.0</td>\n      <td>0.0</td>\n      <td>6.0</td>\n      <td>0.0</td>\n      <td>0.0</td>\n      <td>0.0</td>\n      <td>0.0</td>\n      <td>0.0</td>\n      <td>0.0</td>\n      <td>0.0</td>\n    </tr>\n    <tr>\n      <th>Somalia</th>\n      <td>15.0</td>\n      <td>8.0</td>\n      <td>43.0</td>\n      <td>3.0</td>\n      <td>8.0</td>\n      <td>6.0</td>\n      <td>0.0</td>\n      <td>4.0</td>\n      <td>1.0</td>\n      <td>1.0</td>\n      <td>...</td>\n      <td>0.0</td>\n      <td>0.0</td>\n      <td>0.0</td>\n      <td>0.0</td>\n      <td>2.0</td>\n      <td>0.0</td>\n      <td>0.0</td>\n      <td>2.0</td>\n      <td>0.0</td>\n      <td>0.0</td>\n    </tr>\n    <tr>\n      <th>El Salvador</th>\n      <td>19.0</td>\n      <td>9.0</td>\n      <td>19.0</td>\n      <td>7.0</td>\n      <td>20.0</td>\n      <td>6.0</td>\n      <td>5.0</td>\n      <td>1.0</td>\n      <td>5.0</td>\n      <td>1.0</td>\n      <td>...</td>\n      <td>3.0</td>\n      <td>0.0</td>\n      <td>0.0</td>\n      <td>0.0</td>\n      <td>0.0</td>\n      <td>0.0</td>\n      <td>0.0</td>\n      <td>0.0</td>\n      <td>0.0</td>\n      <td>0.0</td>\n    </tr>\n    <tr>\n      <th>Cape Verde</th>\n      <td>1.0</td>\n      <td>0.0</td>\n      <td>16.0</td>\n      <td>10.0</td>\n      <td>12.0</td>\n      <td>6.0</td>\n      <td>4.0</td>\n      <td>2.0</td>\n      <td>2.0</td>\n      <td>6.0</td>\n      <td>...</td>\n      <td>0.0</td>\n      <td>0.0</td>\n      <td>0.0</td>\n      <td>0.0</td>\n      <td>0.0</td>\n      <td>0.0</td>\n      <td>0.0</td>\n      <td>0.0</td>\n      <td>0.0</td>\n      <td>0.0</td>\n    </tr>\n    <tr>\n      <th>São Tomé and Príncipe</th>\n      <td>0.0</td>\n      <td>2.0</td>\n      <td>0.0</td>\n      <td>2.0</td>\n      <td>7.0</td>\n      <td>1.0</td>\n      <td>0.0</td>\n      <td>0.0</td>\n      <td>0.0</td>\n      <td>0.0</td>\n      <td>...</td>\n      <td>0.0</td>\n      <td>0.0</td>\n      <td>0.0</td>\n      <td>0.0</td>\n      <td>0.0</td>\n      <td>0.0</td>\n      <td>0.0</td>\n      <td>0.0</td>\n      <td>0.0</td>\n      <td>0.0</td>\n    </tr>\n    <tr>\n      <th>...</th>\n      <td>...</td>\n      <td>...</td>\n      <td>...</td>\n      <td>...</td>\n      <td>...</td>\n      <td>...</td>\n      <td>...</td>\n      <td>...</td>\n      <td>...</td>\n      <td>...</td>\n      <td>...</td>\n      <td>...</td>\n      <td>...</td>\n      <td>...</td>\n      <td>...</td>\n      <td>...</td>\n      <td>...</td>\n      <td>...</td>\n      <td>...</td>\n      <td>...</td>\n      <td>...</td>\n    </tr>\n    <tr>\n      <th>Cambodia</th>\n      <td>126.0</td>\n      <td>152.0</td>\n      <td>228.0</td>\n      <td>37.0</td>\n      <td>92.0</td>\n      <td>92.0</td>\n      <td>35.0</td>\n      <td>23.0</td>\n      <td>37.0</td>\n      <td>35.0</td>\n      <td>...</td>\n      <td>4.0</td>\n      <td>8.0</td>\n      <td>1.0</td>\n      <td>0.0</td>\n      <td>2.0</td>\n      <td>0.0</td>\n      <td>0.0</td>\n      <td>0.0</td>\n      <td>0.0</td>\n      <td>0.0</td>\n    </tr>\n    <tr>\n      <th>Gabon</th>\n      <td>40.0</td>\n      <td>5.0</td>\n      <td>81.0</td>\n      <td>6.0</td>\n      <td>35.0</td>\n      <td>8.0</td>\n      <td>10.0</td>\n      <td>0.0</td>\n      <td>9.0</td>\n      <td>4.0</td>\n      <td>...</td>\n      <td>0.0</td>\n      <td>2.0</td>\n      <td>2.0</td>\n      <td>0.0</td>\n      <td>0.0</td>\n      <td>0.0</td>\n      <td>0.0</td>\n      <td>0.0</td>\n      <td>0.0</td>\n      <td>0.0</td>\n    </tr>\n    <tr>\n      <th>Turkey</th>\n      <td>715.0</td>\n      <td>992.0</td>\n      <td>11921.0</td>\n      <td>2309.0</td>\n      <td>1765.0</td>\n      <td>7413.0</td>\n      <td>2444.0</td>\n      <td>817.0</td>\n      <td>851.0</td>\n      <td>859.0</td>\n      <td>...</td>\n      <td>2381.0</td>\n      <td>394.0</td>\n      <td>79.0</td>\n      <td>28.0</td>\n      <td>661.0</td>\n      <td>92.0</td>\n      <td>152.0</td>\n      <td>142.0</td>\n      <td>12.0</td>\n      <td>19.0</td>\n    </tr>\n    <tr>\n      <th>Saudi Arabia</th>\n      <td>383.0</td>\n      <td>451.0</td>\n      <td>8632.0</td>\n      <td>845.0</td>\n      <td>1209.0</td>\n      <td>3919.0</td>\n      <td>1316.0</td>\n      <td>216.0</td>\n      <td>561.0</td>\n      <td>219.0</td>\n      <td>...</td>\n      <td>1083.0</td>\n      <td>260.0</td>\n      <td>66.0</td>\n      <td>80.0</td>\n      <td>743.0</td>\n      <td>76.0</td>\n      <td>341.0</td>\n      <td>94.0</td>\n      <td>14.0</td>\n      <td>70.0</td>\n    </tr>\n    <tr>\n      <th>world</th>\n      <td>120625.0</td>\n      <td>89733.0</td>\n      <td>706438.0</td>\n      <td>190477.0</td>\n      <td>300975.0</td>\n      <td>598317.0</td>\n      <td>225075.0</td>\n      <td>72622.0</td>\n      <td>93317.0</td>\n      <td>74840.0</td>\n      <td>...</td>\n      <td>264913.0</td>\n      <td>37686.0</td>\n      <td>11815.0</td>\n      <td>6307.0</td>\n      <td>50369.0</td>\n      <td>10432.0</td>\n      <td>20237.0</td>\n      <td>10094.0</td>\n      <td>2394.0</td>\n      <td>4320.0</td>\n    </tr>\n  </tbody>\n</table>\n<p>219 rows × 36 columns</p>\n</div>"
     },
     "execution_count": 41,
     "metadata": {},
     "output_type": "execute_result"
    }
   ],
   "source": [
    "df_spec_raw.loc['world', :] = df_spec_raw.sum(axis=0)\n",
    "df_spec_raw"
   ],
   "metadata": {
    "collapsed": false
   }
  },
  {
   "cell_type": "code",
   "execution_count": 42,
   "outputs": [
    {
     "data": {
      "text/plain": "       SDG1   SDG2    SDG3    SDG4    SDG5    SDG6    SDG7   SDG8   SDG9  \\\ntot  120625  89733  706438  190477  300975  598317  225075  72622  93317   \n\n     SDG10  ...  additive_manufacturing  Environment-AI  Environment-robotics  \\\ntot  74840  ...                  264913           37686                 11815   \n\n     Environment-IOT  Society-AI  Society-robotics  Society-IOT  Economy-AI  \\\ntot             6307       50369             10432        20237       10094   \n\n     Economy-robotics  Economy-IOT  \ntot              2394         4320  \n\n[1 rows x 36 columns]",
      "text/html": "<div>\n<style scoped>\n    .dataframe tbody tr th:only-of-type {\n        vertical-align: middle;\n    }\n\n    .dataframe tbody tr th {\n        vertical-align: top;\n    }\n\n    .dataframe thead th {\n        text-align: right;\n    }\n</style>\n<table border=\"1\" class=\"dataframe\">\n  <thead>\n    <tr style=\"text-align: right;\">\n      <th></th>\n      <th>SDG1</th>\n      <th>SDG2</th>\n      <th>SDG3</th>\n      <th>SDG4</th>\n      <th>SDG5</th>\n      <th>SDG6</th>\n      <th>SDG7</th>\n      <th>SDG8</th>\n      <th>SDG9</th>\n      <th>SDG10</th>\n      <th>...</th>\n      <th>additive_manufacturing</th>\n      <th>Environment-AI</th>\n      <th>Environment-robotics</th>\n      <th>Environment-IOT</th>\n      <th>Society-AI</th>\n      <th>Society-robotics</th>\n      <th>Society-IOT</th>\n      <th>Economy-AI</th>\n      <th>Economy-robotics</th>\n      <th>Economy-IOT</th>\n    </tr>\n  </thead>\n  <tbody>\n    <tr>\n      <th>tot</th>\n      <td>120625</td>\n      <td>89733</td>\n      <td>706438</td>\n      <td>190477</td>\n      <td>300975</td>\n      <td>598317</td>\n      <td>225075</td>\n      <td>72622</td>\n      <td>93317</td>\n      <td>74840</td>\n      <td>...</td>\n      <td>264913</td>\n      <td>37686</td>\n      <td>11815</td>\n      <td>6307</td>\n      <td>50369</td>\n      <td>10432</td>\n      <td>20237</td>\n      <td>10094</td>\n      <td>2394</td>\n      <td>4320</td>\n    </tr>\n  </tbody>\n</table>\n<p>1 rows × 36 columns</p>\n</div>"
     },
     "execution_count": 42,
     "metadata": {},
     "output_type": "execute_result"
    }
   ],
   "source": [
    "df_world = pd.DataFrame.from_dict(data=dic_world, orient=\"index\", columns=['tot']).transpose()\n",
    "df_world"
   ],
   "metadata": {
    "collapsed": false
   }
  },
  {
   "cell_type": "code",
   "execution_count": 43,
   "outputs": [
    {
     "data": {
      "text/plain": "['Australia',\n 'Canada',\n 'China',\n 'Iceland',\n 'Israel',\n 'Japan',\n 'Norway',\n 'South Korea',\n 'Switzerland',\n 'United Kingdom',\n 'United States']"
     },
     "execution_count": 43,
     "metadata": {},
     "output_type": "execute_result"
    }
   ],
   "source": [
    "# Keeping only some relevant countries\n",
    "all_pub_wos = pd.read_excel(\"../data/total_number_pubs_2010_2022.xlsx\", index_col=0)\n",
    "tot_pub_countries = all_pub_wos.loc['TOT', :]\n",
    "index_countries = list(tot_pub_countries.index)[2:]\n",
    "lst_eu = [\"Austria\", \"Belgium\", \"Bulgaria\", \"Croatia\", \"Cyprus\", \"Czech Republic\", \"Denmark\",\n",
    "          \"Estonia\", \"Finland\", \"France\", \"Germany\", \"Greece\", \"Hungary\", \"Ireland\", \"Italy\",\n",
    "          \"Latvia\", \"Lithuania\", \"Luxembourg\", \"Malta\", \"Netherlands\", \"Poland\",\n",
    "          \"Portugal\", \"Romania\" ,\"Slovakia\", \"Slovenia\", \"Spain\", \"Sweden\"]\n",
    "lst_eu.sort()\n",
    "rest = sorted(list(set(index_countries).difference(set(lst_eu))))\n",
    "rest.remove('Liechtenstein')\n",
    "rest"
   ],
   "metadata": {
    "collapsed": false
   }
  },
  {
   "cell_type": "code",
   "execution_count": 44,
   "outputs": [],
   "source": [
    "df_spec_raw_categories = df_spec_raw.loc[:, ['Environment', 'Society', 'Economy']]\n",
    "df_spec_raw_categories.loc[:, 'tot'] = df_spec_raw_categories.sum(axis=1)\n"
   ],
   "metadata": {
    "collapsed": false
   }
  },
  {
   "cell_type": "code",
   "execution_count": 45,
   "outputs": [
    {
     "data": {
      "text/plain": "                              AI  big_data       IOT  \\\nSierra Leone                25.0       2.0       0.0   \nSomalia                      5.0       0.0       1.0   \nEl Salvador                  3.0       1.0       1.0   \nCape Verde                   0.0       0.0       1.0   \nSão Tomé and Príncipe        0.0       0.0       0.0   \n...                          ...       ...       ...   \nCambodia                    33.0       5.0      35.0   \nGabon                       24.0       1.0       0.0   \nTurkey                   24961.0    1070.0    3607.0   \nSaudi Arabia             14995.0    1954.0    6382.0   \nworld                  2019381.0  228113.0  501330.0   \n\n                       computing_infrastructure  blockchain  robotics  \\\nSierra Leone                                0.0         0.0      13.0   \nSomalia                                     2.0         0.0       1.0   \nEl Salvador                                 1.0         1.0       2.0   \nCape Verde                                  1.0         0.0       0.0   \nSão Tomé and Príncipe                       0.0         0.0       0.0   \n...                                         ...         ...       ...   \nCambodia                                    1.0         1.0       7.0   \nGabon                                       0.0         0.0       6.0   \nTurkey                                   2428.0       350.0    6959.0   \nSaudi Arabia                             4002.0       744.0    2376.0   \nworld                                  320170.0     34501.0  575782.0   \n\n                       additive_manufacturing        tot  \nSierra Leone                             12.0       52.0  \nSomalia                                   0.0        9.0  \nEl Salvador                               3.0       12.0  \nCape Verde                                0.0        2.0  \nSão Tomé and Príncipe                     0.0        0.0  \n...                                       ...        ...  \nCambodia                                  4.0       86.0  \nGabon                                     0.0       31.0  \nTurkey                                 2381.0    41756.0  \nSaudi Arabia                           1083.0    31536.0  \nworld                                264913.0  3944190.0  \n\n[219 rows x 8 columns]",
      "text/html": "<div>\n<style scoped>\n    .dataframe tbody tr th:only-of-type {\n        vertical-align: middle;\n    }\n\n    .dataframe tbody tr th {\n        vertical-align: top;\n    }\n\n    .dataframe thead th {\n        text-align: right;\n    }\n</style>\n<table border=\"1\" class=\"dataframe\">\n  <thead>\n    <tr style=\"text-align: right;\">\n      <th></th>\n      <th>AI</th>\n      <th>big_data</th>\n      <th>IOT</th>\n      <th>computing_infrastructure</th>\n      <th>blockchain</th>\n      <th>robotics</th>\n      <th>additive_manufacturing</th>\n      <th>tot</th>\n    </tr>\n  </thead>\n  <tbody>\n    <tr>\n      <th>Sierra Leone</th>\n      <td>25.0</td>\n      <td>2.0</td>\n      <td>0.0</td>\n      <td>0.0</td>\n      <td>0.0</td>\n      <td>13.0</td>\n      <td>12.0</td>\n      <td>52.0</td>\n    </tr>\n    <tr>\n      <th>Somalia</th>\n      <td>5.0</td>\n      <td>0.0</td>\n      <td>1.0</td>\n      <td>2.0</td>\n      <td>0.0</td>\n      <td>1.0</td>\n      <td>0.0</td>\n      <td>9.0</td>\n    </tr>\n    <tr>\n      <th>El Salvador</th>\n      <td>3.0</td>\n      <td>1.0</td>\n      <td>1.0</td>\n      <td>1.0</td>\n      <td>1.0</td>\n      <td>2.0</td>\n      <td>3.0</td>\n      <td>12.0</td>\n    </tr>\n    <tr>\n      <th>Cape Verde</th>\n      <td>0.0</td>\n      <td>0.0</td>\n      <td>1.0</td>\n      <td>1.0</td>\n      <td>0.0</td>\n      <td>0.0</td>\n      <td>0.0</td>\n      <td>2.0</td>\n    </tr>\n    <tr>\n      <th>São Tomé and Príncipe</th>\n      <td>0.0</td>\n      <td>0.0</td>\n      <td>0.0</td>\n      <td>0.0</td>\n      <td>0.0</td>\n      <td>0.0</td>\n      <td>0.0</td>\n      <td>0.0</td>\n    </tr>\n    <tr>\n      <th>...</th>\n      <td>...</td>\n      <td>...</td>\n      <td>...</td>\n      <td>...</td>\n      <td>...</td>\n      <td>...</td>\n      <td>...</td>\n      <td>...</td>\n    </tr>\n    <tr>\n      <th>Cambodia</th>\n      <td>33.0</td>\n      <td>5.0</td>\n      <td>35.0</td>\n      <td>1.0</td>\n      <td>1.0</td>\n      <td>7.0</td>\n      <td>4.0</td>\n      <td>86.0</td>\n    </tr>\n    <tr>\n      <th>Gabon</th>\n      <td>24.0</td>\n      <td>1.0</td>\n      <td>0.0</td>\n      <td>0.0</td>\n      <td>0.0</td>\n      <td>6.0</td>\n      <td>0.0</td>\n      <td>31.0</td>\n    </tr>\n    <tr>\n      <th>Turkey</th>\n      <td>24961.0</td>\n      <td>1070.0</td>\n      <td>3607.0</td>\n      <td>2428.0</td>\n      <td>350.0</td>\n      <td>6959.0</td>\n      <td>2381.0</td>\n      <td>41756.0</td>\n    </tr>\n    <tr>\n      <th>Saudi Arabia</th>\n      <td>14995.0</td>\n      <td>1954.0</td>\n      <td>6382.0</td>\n      <td>4002.0</td>\n      <td>744.0</td>\n      <td>2376.0</td>\n      <td>1083.0</td>\n      <td>31536.0</td>\n    </tr>\n    <tr>\n      <th>world</th>\n      <td>2019381.0</td>\n      <td>228113.0</td>\n      <td>501330.0</td>\n      <td>320170.0</td>\n      <td>34501.0</td>\n      <td>575782.0</td>\n      <td>264913.0</td>\n      <td>3944190.0</td>\n    </tr>\n  </tbody>\n</table>\n<p>219 rows × 8 columns</p>\n</div>"
     },
     "execution_count": 45,
     "metadata": {},
     "output_type": "execute_result"
    }
   ],
   "source": [
    "df_spec_raw_dt = df_spec_raw.loc[:, lst_dt]\n",
    "df_spec_raw_dt.loc[:, 'tot'] = df_spec_raw_dt.sum(axis=1)\n",
    "df_spec_raw_dt"
   ],
   "metadata": {
    "collapsed": false
   }
  },
  {
   "cell_type": "code",
   "execution_count": 46,
   "outputs": [
    {
     "data": {
      "text/plain": "                           SDG1     SDG2      SDG3      SDG4      SDG5  \\\nSierra Leone               27.0      5.0     454.0      12.0      22.0   \nSomalia                    15.0      8.0      43.0       3.0       8.0   \nEl Salvador                19.0      9.0      19.0       7.0      20.0   \nCape Verde                  1.0      0.0      16.0      10.0      12.0   \nSão Tomé and Príncipe       0.0      2.0       0.0       2.0       7.0   \n...                         ...      ...       ...       ...       ...   \nCambodia                  126.0    152.0     228.0      37.0      92.0   \nGabon                      40.0      5.0      81.0       6.0      35.0   \nTurkey                    715.0    992.0   11921.0    2309.0    1765.0   \nSaudi Arabia              383.0    451.0    8632.0     845.0    1209.0   \nworld                  120625.0  89733.0  706438.0  190477.0  300975.0   \n\n                           SDG6      SDG7     SDG8     SDG9    SDG10  \\\nSierra Leone               30.0      15.0      9.0      6.0      5.0   \nSomalia                     6.0       0.0      4.0      1.0      1.0   \nEl Salvador                 6.0       5.0      1.0      5.0      1.0   \nCape Verde                  6.0       4.0      2.0      2.0      6.0   \nSão Tomé and Príncipe       1.0       0.0      0.0      0.0      0.0   \n...                         ...       ...      ...      ...      ...   \nCambodia                   92.0      35.0     23.0     37.0     35.0   \nGabon                       8.0      10.0      0.0      9.0      4.0   \nTurkey                   7413.0    2444.0    817.0    851.0    859.0   \nSaudi Arabia             3919.0    1316.0    216.0    561.0    219.0   \nworld                  598317.0  225075.0  72622.0  93317.0  74840.0   \n\n                          SDG11     SDG12      SDG13     SDG14     SDG15  \\\nSierra Leone               30.0      15.0       50.0      15.0      48.0   \nSomalia                     7.0       5.0       17.0       3.0      11.0   \nEl Salvador                 9.0       3.0       41.0      59.0      15.0   \nCape Verde                  4.0      11.0       45.0      83.0      23.0   \nSão Tomé and Príncipe       0.0       0.0        9.0      25.0       6.0   \n...                         ...       ...        ...       ...       ...   \nCambodia                   58.0      74.0      264.0      80.0     175.0   \nGabon                      24.0       9.0      137.0     169.0      66.0   \nTurkey                   3144.0    3680.0     8469.0    8697.0    3013.0   \nSaudi Arabia             1171.0    1956.0     4447.0    4729.0    1445.0   \nworld                  249844.0  361954.0  1407574.0  850851.0  400782.0   \n\n                          SDG16     SDG17        tot  \nSierra Leone               35.0      40.0      818.0  \nSomalia                    11.0       9.0      152.0  \nEl Salvador                16.0      14.0      249.0  \nCape Verde                 15.0      11.0      251.0  \nSão Tomé and Príncipe       0.0       1.0       53.0  \n...                         ...       ...        ...  \nCambodia                   95.0     170.0     1773.0  \nGabon                       1.0      14.0      618.0  \nTurkey                   1632.0    1355.0    60076.0  \nSaudi Arabia              624.0     606.0    32729.0  \nworld                  197571.0  173078.0  6114073.0  \n\n[219 rows x 18 columns]",
      "text/html": "<div>\n<style scoped>\n    .dataframe tbody tr th:only-of-type {\n        vertical-align: middle;\n    }\n\n    .dataframe tbody tr th {\n        vertical-align: top;\n    }\n\n    .dataframe thead th {\n        text-align: right;\n    }\n</style>\n<table border=\"1\" class=\"dataframe\">\n  <thead>\n    <tr style=\"text-align: right;\">\n      <th></th>\n      <th>SDG1</th>\n      <th>SDG2</th>\n      <th>SDG3</th>\n      <th>SDG4</th>\n      <th>SDG5</th>\n      <th>SDG6</th>\n      <th>SDG7</th>\n      <th>SDG8</th>\n      <th>SDG9</th>\n      <th>SDG10</th>\n      <th>SDG11</th>\n      <th>SDG12</th>\n      <th>SDG13</th>\n      <th>SDG14</th>\n      <th>SDG15</th>\n      <th>SDG16</th>\n      <th>SDG17</th>\n      <th>tot</th>\n    </tr>\n  </thead>\n  <tbody>\n    <tr>\n      <th>Sierra Leone</th>\n      <td>27.0</td>\n      <td>5.0</td>\n      <td>454.0</td>\n      <td>12.0</td>\n      <td>22.0</td>\n      <td>30.0</td>\n      <td>15.0</td>\n      <td>9.0</td>\n      <td>6.0</td>\n      <td>5.0</td>\n      <td>30.0</td>\n      <td>15.0</td>\n      <td>50.0</td>\n      <td>15.0</td>\n      <td>48.0</td>\n      <td>35.0</td>\n      <td>40.0</td>\n      <td>818.0</td>\n    </tr>\n    <tr>\n      <th>Somalia</th>\n      <td>15.0</td>\n      <td>8.0</td>\n      <td>43.0</td>\n      <td>3.0</td>\n      <td>8.0</td>\n      <td>6.0</td>\n      <td>0.0</td>\n      <td>4.0</td>\n      <td>1.0</td>\n      <td>1.0</td>\n      <td>7.0</td>\n      <td>5.0</td>\n      <td>17.0</td>\n      <td>3.0</td>\n      <td>11.0</td>\n      <td>11.0</td>\n      <td>9.0</td>\n      <td>152.0</td>\n    </tr>\n    <tr>\n      <th>El Salvador</th>\n      <td>19.0</td>\n      <td>9.0</td>\n      <td>19.0</td>\n      <td>7.0</td>\n      <td>20.0</td>\n      <td>6.0</td>\n      <td>5.0</td>\n      <td>1.0</td>\n      <td>5.0</td>\n      <td>1.0</td>\n      <td>9.0</td>\n      <td>3.0</td>\n      <td>41.0</td>\n      <td>59.0</td>\n      <td>15.0</td>\n      <td>16.0</td>\n      <td>14.0</td>\n      <td>249.0</td>\n    </tr>\n    <tr>\n      <th>Cape Verde</th>\n      <td>1.0</td>\n      <td>0.0</td>\n      <td>16.0</td>\n      <td>10.0</td>\n      <td>12.0</td>\n      <td>6.0</td>\n      <td>4.0</td>\n      <td>2.0</td>\n      <td>2.0</td>\n      <td>6.0</td>\n      <td>4.0</td>\n      <td>11.0</td>\n      <td>45.0</td>\n      <td>83.0</td>\n      <td>23.0</td>\n      <td>15.0</td>\n      <td>11.0</td>\n      <td>251.0</td>\n    </tr>\n    <tr>\n      <th>São Tomé and Príncipe</th>\n      <td>0.0</td>\n      <td>2.0</td>\n      <td>0.0</td>\n      <td>2.0</td>\n      <td>7.0</td>\n      <td>1.0</td>\n      <td>0.0</td>\n      <td>0.0</td>\n      <td>0.0</td>\n      <td>0.0</td>\n      <td>0.0</td>\n      <td>0.0</td>\n      <td>9.0</td>\n      <td>25.0</td>\n      <td>6.0</td>\n      <td>0.0</td>\n      <td>1.0</td>\n      <td>53.0</td>\n    </tr>\n    <tr>\n      <th>...</th>\n      <td>...</td>\n      <td>...</td>\n      <td>...</td>\n      <td>...</td>\n      <td>...</td>\n      <td>...</td>\n      <td>...</td>\n      <td>...</td>\n      <td>...</td>\n      <td>...</td>\n      <td>...</td>\n      <td>...</td>\n      <td>...</td>\n      <td>...</td>\n      <td>...</td>\n      <td>...</td>\n      <td>...</td>\n      <td>...</td>\n    </tr>\n    <tr>\n      <th>Cambodia</th>\n      <td>126.0</td>\n      <td>152.0</td>\n      <td>228.0</td>\n      <td>37.0</td>\n      <td>92.0</td>\n      <td>92.0</td>\n      <td>35.0</td>\n      <td>23.0</td>\n      <td>37.0</td>\n      <td>35.0</td>\n      <td>58.0</td>\n      <td>74.0</td>\n      <td>264.0</td>\n      <td>80.0</td>\n      <td>175.0</td>\n      <td>95.0</td>\n      <td>170.0</td>\n      <td>1773.0</td>\n    </tr>\n    <tr>\n      <th>Gabon</th>\n      <td>40.0</td>\n      <td>5.0</td>\n      <td>81.0</td>\n      <td>6.0</td>\n      <td>35.0</td>\n      <td>8.0</td>\n      <td>10.0</td>\n      <td>0.0</td>\n      <td>9.0</td>\n      <td>4.0</td>\n      <td>24.0</td>\n      <td>9.0</td>\n      <td>137.0</td>\n      <td>169.0</td>\n      <td>66.0</td>\n      <td>1.0</td>\n      <td>14.0</td>\n      <td>618.0</td>\n    </tr>\n    <tr>\n      <th>Turkey</th>\n      <td>715.0</td>\n      <td>992.0</td>\n      <td>11921.0</td>\n      <td>2309.0</td>\n      <td>1765.0</td>\n      <td>7413.0</td>\n      <td>2444.0</td>\n      <td>817.0</td>\n      <td>851.0</td>\n      <td>859.0</td>\n      <td>3144.0</td>\n      <td>3680.0</td>\n      <td>8469.0</td>\n      <td>8697.0</td>\n      <td>3013.0</td>\n      <td>1632.0</td>\n      <td>1355.0</td>\n      <td>60076.0</td>\n    </tr>\n    <tr>\n      <th>Saudi Arabia</th>\n      <td>383.0</td>\n      <td>451.0</td>\n      <td>8632.0</td>\n      <td>845.0</td>\n      <td>1209.0</td>\n      <td>3919.0</td>\n      <td>1316.0</td>\n      <td>216.0</td>\n      <td>561.0</td>\n      <td>219.0</td>\n      <td>1171.0</td>\n      <td>1956.0</td>\n      <td>4447.0</td>\n      <td>4729.0</td>\n      <td>1445.0</td>\n      <td>624.0</td>\n      <td>606.0</td>\n      <td>32729.0</td>\n    </tr>\n    <tr>\n      <th>world</th>\n      <td>120625.0</td>\n      <td>89733.0</td>\n      <td>706438.0</td>\n      <td>190477.0</td>\n      <td>300975.0</td>\n      <td>598317.0</td>\n      <td>225075.0</td>\n      <td>72622.0</td>\n      <td>93317.0</td>\n      <td>74840.0</td>\n      <td>249844.0</td>\n      <td>361954.0</td>\n      <td>1407574.0</td>\n      <td>850851.0</td>\n      <td>400782.0</td>\n      <td>197571.0</td>\n      <td>173078.0</td>\n      <td>6114073.0</td>\n    </tr>\n  </tbody>\n</table>\n<p>219 rows × 18 columns</p>\n</div>"
     },
     "execution_count": 46,
     "metadata": {},
     "output_type": "execute_result"
    }
   ],
   "source": [
    "df_spec_raw_sdg = df_spec_raw.loc[:, lst_sdg]\n",
    "df_spec_raw_sdg.loc[:, 'tot'] = df_spec_raw_sdg.sum(axis=1)\n",
    "df_spec_raw_sdg"
   ],
   "metadata": {
    "collapsed": false
   }
  },
  {
   "cell_type": "code",
   "execution_count": 47,
   "outputs": [
    {
     "data": {
      "text/plain": "                       Environment-AI  Environment-robotics  Environment-IOT  \\\nSierra Leone                      0.0                   6.0              0.0   \nSomalia                           0.0                   0.0              0.0   \nEl Salvador                       0.0                   0.0              0.0   \nCape Verde                        0.0                   0.0              0.0   \nSão Tomé and Príncipe             0.0                   0.0              0.0   \n...                               ...                   ...              ...   \nCambodia                          8.0                   1.0              0.0   \nGabon                             2.0                   2.0              0.0   \nTurkey                          394.0                  79.0             28.0   \nSaudi Arabia                    260.0                  66.0             80.0   \nworld                         37686.0               11815.0           6307.0   \n\n                       Society-AI  Society-robotics  Society-IOT  Economy-AI  \\\nSierra Leone                  0.0               0.0          0.0         0.0   \nSomalia                       2.0               0.0          0.0         2.0   \nEl Salvador                   0.0               0.0          0.0         0.0   \nCape Verde                    0.0               0.0          0.0         0.0   \nSão Tomé and Príncipe         0.0               0.0          0.0         0.0   \n...                           ...               ...          ...         ...   \nCambodia                      2.0               0.0          0.0         0.0   \nGabon                         0.0               0.0          0.0         0.0   \nTurkey                      661.0              92.0        152.0       142.0   \nSaudi Arabia                743.0              76.0        341.0        94.0   \nworld                     50369.0           10432.0      20237.0     10094.0   \n\n                       Economy-robotics  Economy-IOT       tot  \nSierra Leone                        0.0          0.0       6.0  \nSomalia                             0.0          0.0       4.0  \nEl Salvador                         0.0          0.0       0.0  \nCape Verde                          0.0          0.0       0.0  \nSão Tomé and Príncipe               0.0          0.0       0.0  \n...                                 ...          ...       ...  \nCambodia                            0.0          0.0      11.0  \nGabon                               0.0          0.0       4.0  \nTurkey                             12.0         19.0    1579.0  \nSaudi Arabia                       14.0         70.0    1744.0  \nworld                            2394.0       4320.0  153654.0  \n\n[219 rows x 10 columns]",
      "text/html": "<div>\n<style scoped>\n    .dataframe tbody tr th:only-of-type {\n        vertical-align: middle;\n    }\n\n    .dataframe tbody tr th {\n        vertical-align: top;\n    }\n\n    .dataframe thead th {\n        text-align: right;\n    }\n</style>\n<table border=\"1\" class=\"dataframe\">\n  <thead>\n    <tr style=\"text-align: right;\">\n      <th></th>\n      <th>Environment-AI</th>\n      <th>Environment-robotics</th>\n      <th>Environment-IOT</th>\n      <th>Society-AI</th>\n      <th>Society-robotics</th>\n      <th>Society-IOT</th>\n      <th>Economy-AI</th>\n      <th>Economy-robotics</th>\n      <th>Economy-IOT</th>\n      <th>tot</th>\n    </tr>\n  </thead>\n  <tbody>\n    <tr>\n      <th>Sierra Leone</th>\n      <td>0.0</td>\n      <td>6.0</td>\n      <td>0.0</td>\n      <td>0.0</td>\n      <td>0.0</td>\n      <td>0.0</td>\n      <td>0.0</td>\n      <td>0.0</td>\n      <td>0.0</td>\n      <td>6.0</td>\n    </tr>\n    <tr>\n      <th>Somalia</th>\n      <td>0.0</td>\n      <td>0.0</td>\n      <td>0.0</td>\n      <td>2.0</td>\n      <td>0.0</td>\n      <td>0.0</td>\n      <td>2.0</td>\n      <td>0.0</td>\n      <td>0.0</td>\n      <td>4.0</td>\n    </tr>\n    <tr>\n      <th>El Salvador</th>\n      <td>0.0</td>\n      <td>0.0</td>\n      <td>0.0</td>\n      <td>0.0</td>\n      <td>0.0</td>\n      <td>0.0</td>\n      <td>0.0</td>\n      <td>0.0</td>\n      <td>0.0</td>\n      <td>0.0</td>\n    </tr>\n    <tr>\n      <th>Cape Verde</th>\n      <td>0.0</td>\n      <td>0.0</td>\n      <td>0.0</td>\n      <td>0.0</td>\n      <td>0.0</td>\n      <td>0.0</td>\n      <td>0.0</td>\n      <td>0.0</td>\n      <td>0.0</td>\n      <td>0.0</td>\n    </tr>\n    <tr>\n      <th>São Tomé and Príncipe</th>\n      <td>0.0</td>\n      <td>0.0</td>\n      <td>0.0</td>\n      <td>0.0</td>\n      <td>0.0</td>\n      <td>0.0</td>\n      <td>0.0</td>\n      <td>0.0</td>\n      <td>0.0</td>\n      <td>0.0</td>\n    </tr>\n    <tr>\n      <th>...</th>\n      <td>...</td>\n      <td>...</td>\n      <td>...</td>\n      <td>...</td>\n      <td>...</td>\n      <td>...</td>\n      <td>...</td>\n      <td>...</td>\n      <td>...</td>\n      <td>...</td>\n    </tr>\n    <tr>\n      <th>Cambodia</th>\n      <td>8.0</td>\n      <td>1.0</td>\n      <td>0.0</td>\n      <td>2.0</td>\n      <td>0.0</td>\n      <td>0.0</td>\n      <td>0.0</td>\n      <td>0.0</td>\n      <td>0.0</td>\n      <td>11.0</td>\n    </tr>\n    <tr>\n      <th>Gabon</th>\n      <td>2.0</td>\n      <td>2.0</td>\n      <td>0.0</td>\n      <td>0.0</td>\n      <td>0.0</td>\n      <td>0.0</td>\n      <td>0.0</td>\n      <td>0.0</td>\n      <td>0.0</td>\n      <td>4.0</td>\n    </tr>\n    <tr>\n      <th>Turkey</th>\n      <td>394.0</td>\n      <td>79.0</td>\n      <td>28.0</td>\n      <td>661.0</td>\n      <td>92.0</td>\n      <td>152.0</td>\n      <td>142.0</td>\n      <td>12.0</td>\n      <td>19.0</td>\n      <td>1579.0</td>\n    </tr>\n    <tr>\n      <th>Saudi Arabia</th>\n      <td>260.0</td>\n      <td>66.0</td>\n      <td>80.0</td>\n      <td>743.0</td>\n      <td>76.0</td>\n      <td>341.0</td>\n      <td>94.0</td>\n      <td>14.0</td>\n      <td>70.0</td>\n      <td>1744.0</td>\n    </tr>\n    <tr>\n      <th>world</th>\n      <td>37686.0</td>\n      <td>11815.0</td>\n      <td>6307.0</td>\n      <td>50369.0</td>\n      <td>10432.0</td>\n      <td>20237.0</td>\n      <td>10094.0</td>\n      <td>2394.0</td>\n      <td>4320.0</td>\n      <td>153654.0</td>\n    </tr>\n  </tbody>\n</table>\n<p>219 rows × 10 columns</p>\n</div>"
     },
     "execution_count": 47,
     "metadata": {},
     "output_type": "execute_result"
    }
   ],
   "source": [
    "df_spec_raw_sdg_dt = df_spec_raw.loc[:, lst_cat_dt]\n",
    "df_spec_raw_sdg_dt.loc[:, 'tot'] = df_spec_raw_sdg_dt.sum(axis=1)\n",
    "df_spec_raw_sdg_dt"
   ],
   "metadata": {
    "collapsed": false
   }
  },
  {
   "cell_type": "code",
   "execution_count": 47,
   "outputs": [],
   "source": [],
   "metadata": {
    "collapsed": false
   }
  },
  {
   "cell_type": "code",
   "execution_count": 48,
   "outputs": [],
   "source": [
    "lst_df_spec = []\n",
    "for df_spec_raw in [df_spec_raw_categories,df_spec_raw_sdg, df_spec_raw_dt, df_spec_raw_sdg_dt]:\n",
    "    df_spec = df_spec_raw.copy().iloc[:-1, :-1].loc[lst_eu+rest, :]\n",
    "    for cat in df_spec.columns:\n",
    "        for country in df_spec.index:\n",
    "            df_spec.loc[country,cat] = (df_spec_raw.loc[country,cat] / df_spec_raw.loc[country, 'tot']) / (df_spec_raw.loc[\"world\", cat] / df_spec_raw.loc['world', 'tot'])\n",
    "    lst_df_spec.append(df_spec)\n"
   ],
   "metadata": {
    "collapsed": false
   }
  },
  {
   "cell_type": "code",
   "execution_count": 48,
   "outputs": [],
   "source": [],
   "metadata": {
    "collapsed": false
   }
  },
  {
   "cell_type": "code",
   "execution_count": 49,
   "outputs": [],
   "source": [
    "with pd.ExcelWriter('output.xlsx') as writer:\n",
    "     for i, df in enumerate(lst_df_spec):\n",
    "        df.to_excel(writer, sheet_name=f'Sheet{i+1}')"
   ],
   "metadata": {
    "collapsed": false
   }
  },
  {
   "cell_type": "markdown",
   "source": [
    "## New Specialization graphs"
   ],
   "metadata": {
    "collapsed": false
   }
  },
  {
   "cell_type": "code",
   "execution_count": 50,
   "outputs": [],
   "source": [
    "def transform_discrete_value(value):\n",
    "    if value < 0.75:\n",
    "        return \"Under-specialized (RTA < 0.75)\"\n",
    "    elif 0.75 <= value <= 1.25:\n",
    "        return \"Not-specialized (0.75 <= RTA <= 1.25)\"\n",
    "    elif value > 1.25:\n",
    "        return \"Specialized (RTA > 1.25)\"\n",
    "    else:\n",
    "        return \"error\""
   ],
   "metadata": {
    "collapsed": false
   }
  },
  {
   "cell_type": "code",
   "execution_count": 51,
   "outputs": [],
   "source": [
    "def reorder_values(dataframe, col):\n",
    "    \"\"\"\n",
    "\n",
    "    Args:\n",
    "        dataframe:\n",
    "        col:\n",
    "\n",
    "    Returns:\n",
    "        The dataframe reordered so that Specialized is on top, Not specialized in the middle, and under specialized is\n",
    "        at the bottom of the legend\n",
    "    \"\"\"\n",
    "    lst_index = list(dataframe.index)\n",
    "\n",
    "    bottom_index = dataframe.loc[dataframe[col] == \"Under-specialized (RTA < 0.75)\"].index\n",
    "    middle_index = dataframe.loc[dataframe[col] == \"Not-specialized (0.75 <= RTA <= 1.25)\"].index\n",
    "    top_index = dataframe.loc[dataframe[col] == \"Specialized (RTA > 1.25)\"].index\n",
    "\n",
    "    new_order = [top_index, middle_index, bottom_index]\n",
    "    new_order_single_elem = []\n",
    "    for elem in new_order:\n",
    "        if len(elem) > 0:\n",
    "            new_order_single_elem.append(elem[0])\n",
    "            lst_index.remove(elem[0])\n",
    "\n",
    "    return new_order_single_elem + lst_index"
   ],
   "metadata": {
    "collapsed": false
   }
  },
  {
   "cell_type": "code",
   "execution_count": 25,
   "outputs": [],
   "source": [],
   "metadata": {
    "collapsed": false
   }
  },
  {
   "cell_type": "markdown",
   "source": [
    "\n",
    "\n",
    "### CATGORIES SPEC GRAPHS"
   ],
   "metadata": {
    "collapsed": false
   }
  },
  {
   "cell_type": "code",
   "execution_count": 52,
   "outputs": [],
   "source": [
    "import plotly.express as px\n",
    "# df_spec_cat = pd.read_excel(\"../img/Commission/spec_fractional.xlsx\", sheet_name=\"cat\", index_col=0)\n",
    "df_spec_cat = pd.read_excel(\"../img/Commission/spec.xlsx\", sheet_name=\"categories\", index_col=0)\n",
    "df_spec_cat = df_spec_cat.loc[lst_eu, :]\n",
    "df_spec_cat = df_spec_cat.apply(np.vectorize(transform_discrete_value))\n",
    "\n",
    "\n",
    "for cat in lst_cat:\n",
    "    ordered_index = reorder_values(df_spec_cat, cat)\n",
    "    fig = px.choropleth(\n",
    "        # locations=df_spec_cat.loc[lst_eu, :].index,\n",
    "        locations=ordered_index,\n",
    "        color=df_spec_cat.loc[ordered_index, cat],\n",
    "        color_discrete_map={\"Under-specialized (RTA < 0.75)\":\"#2ECBE9\", \"Not-specialized (0.75 <= RTA <= 1.25)\":\"#128FC8\", \"Specialized (RTA > 1.25)\":\"#00468B\"},\n",
    "        locationmode=\"country names\",\n",
    "    )\n",
    "\n",
    "    fig.update_layout(\n",
    "        template='simple_white',\n",
    "        font=dict(size=18),\n",
    "        showlegend=True,\n",
    "        legend=dict\n",
    "            (\n",
    "            title=\"Specialization\",\n",
    "            yanchor=\"top\",\n",
    "            y=1,\n",
    "            xanchor=\"left\",\n",
    "            x=0.048,\n",
    "            bordercolor=\"Black\",\n",
    "            borderwidth=2\n",
    "            ),\n",
    "        geo=go.layout.Geo(\n",
    "            scope=\"world\",\n",
    "            landcolor='lightgray',\n",
    "            projection_scale=float(6.1),\n",
    "            center=dict(lon=15, lat=52),\n",
    "            projection_type=\"azimuthal equal area\",\n",
    "            showland=True,\n",
    "            showcountries=False,\n",
    "        ),\n",
    "        height=1080,\n",
    "        width=1200\n",
    "\n",
    "\n",
    "    )\n",
    "    fig.write_image(f\"../img/Commission/maps/specialization/full_count/{cat}.jpg\")\n",
    "    # pio.write_image(fig, folder, format='png')"
   ],
   "metadata": {
    "collapsed": false
   }
  },
  {
   "cell_type": "markdown",
   "source": [
    "### DT SPEC GRAPSH"
   ],
   "metadata": {
    "collapsed": false
   }
  },
  {
   "cell_type": "code",
   "execution_count": 53,
   "outputs": [],
   "source": [
    "import plotly.express as px\n",
    "# df_spec_dt =pd.read_excel(\"../img/Commission/spec_fractional.xlsx\", sheet_name=\"dt\", index_col=0)\n",
    "df_spec_dt = pd.read_excel(\"../img/Commission/spec.xlsx\", sheet_name=\"DT\", index_col=0)\n",
    "df_spec_dt = df_spec_dt.loc[lst_eu, :]\n",
    "df_spec_dt = df_spec_dt.apply(np.vectorize(transform_discrete_value))\n",
    "for dt in ['AI', 'IOT', 'robotics']:\n",
    "    ordered_index = reorder_values(df_spec_dt, dt)\n",
    "    fig = px.choropleth(\n",
    "        locations=ordered_index,\n",
    "        color=df_spec_dt.loc[ordered_index, dt],\n",
    "        color_discrete_map={\"Under-specialized (RTA < 0.75)\":\"#2ECBE9\", \"Not-specialized (0.75 <= RTA <= 1.25)\":\"#128FC8\", \"Specialized (RTA > 1.25)\":\"#00468B\"},\n",
    "        locationmode=\"country names\",\n",
    "    )\n",
    "\n",
    "    fig.update_layout(\n",
    "        template='simple_white',\n",
    "        font=dict(size=18),\n",
    "        showlegend=True,\n",
    "\n",
    "        legend=dict\n",
    "            (\n",
    "            title=\"Specialization\",\n",
    "            yanchor=\"top\",\n",
    "            y=1,\n",
    "            xanchor=\"left\",\n",
    "            x=0.048,\n",
    "            bordercolor=\"Black\",\n",
    "            borderwidth=2\n",
    "            ),\n",
    "        geo=go.layout.Geo(\n",
    "            scope=\"world\",\n",
    "            landcolor='lightgray',\n",
    "            projection_scale=float(6.1),\n",
    "            center=dict(lon=15, lat=52),\n",
    "            projection_type=\"azimuthal equal area\",\n",
    "            showland=True,\n",
    "            showcountries=False,\n",
    "        ),\n",
    "        height=1080,\n",
    "        width=1200\n",
    "\n",
    "\n",
    "    )\n",
    "    fig.write_image(f\"../img/Commission/maps/specialization/full_count//{dt}.jpg\")\n",
    "    # pio.write_image(fig, folder, format='png')"
   ],
   "metadata": {
    "collapsed": false
   }
  },
  {
   "cell_type": "markdown",
   "source": [
    "## CAT DT SPEC GRAPHS"
   ],
   "metadata": {
    "collapsed": false
   }
  },
  {
   "cell_type": "code",
   "execution_count": 54,
   "outputs": [],
   "source": [
    "import plotly.express as px\n",
    "# df_spec_cat_dt = pd.read_excel(\"../img/Commission/spec_fractional.xlsx\", sheet_name=\"cat-dt\", index_col=0)\n",
    "df_spec_cat_dt = pd.read_excel(\"../img/Commission/spec.xlsx\", sheet_name=\"SDG-DT\", index_col=0)\n",
    "df_spec_cat_dt = df_spec_cat_dt.fillna(0)\n",
    "df_spec_cat_dt = df_spec_cat_dt.loc[lst_eu, :]\n",
    "df_spec_cat_dt = df_spec_cat_dt.apply(np.vectorize(transform_discrete_value))\n",
    "\n",
    "for dt in df_spec_cat_dt.columns:\n",
    "    ordered_index = reorder_values(df_spec_cat_dt, dt)\n",
    "    fig = px.choropleth(\n",
    "        locations=ordered_index,\n",
    "        color=df_spec_cat_dt.loc[ordered_index, dt],\n",
    "        color_discrete_map={\"Under-specialized (RTA < 0.75)\":\"#2ECBE9\", \"Not-specialized (0.75 <= RTA <= 1.25)\":\"#128FC8\", \"Specialized (RTA > 1.25)\":\"#00468B\"},\n",
    "        locationmode=\"country names\",\n",
    "    )\n",
    "\n",
    "    fig.update_layout(\n",
    "        template='simple_white',\n",
    "        font=dict(size=18),\n",
    "        showlegend=True,\n",
    "\n",
    "        legend=dict\n",
    "            (\n",
    "            title=\"Specialization\",\n",
    "            yanchor=\"top\",\n",
    "            y=1,\n",
    "            xanchor=\"left\",\n",
    "            x=0.048,\n",
    "            bordercolor=\"Black\",\n",
    "            borderwidth=2\n",
    "            ),\n",
    "        geo=go.layout.Geo(\n",
    "            scope=\"world\",\n",
    "            landcolor='lightgray',\n",
    "            projection_scale=float(6.1),\n",
    "            center=dict(lon=15, lat=52),\n",
    "            projection_type=\"azimuthal equal area\",\n",
    "            showland=True,\n",
    "            showcountries=False,\n",
    "        ),\n",
    "        height=1080,\n",
    "        width=1200\n",
    "\n",
    "\n",
    "    )\n",
    "    fig.write_image(f\"../img/Commission/maps/specialization/full_count/{dt}.jpg\")\n",
    "    # pio.write_image(fig, folder, format='png')"
   ],
   "metadata": {
    "collapsed": false
   }
  },
  {
   "cell_type": "markdown",
   "source": [
    "## SDG SPEC GRAPHS"
   ],
   "metadata": {
    "collapsed": false
   }
  },
  {
   "cell_type": "code",
   "execution_count": 55,
   "outputs": [],
   "source": [
    "import plotly.express as px\n",
    "# df_spec_sdg = pd.read_excel(\"../img/Commission/spec_fractional.xlsx\", sheet_name=\"sdg\", index_col=0)\n",
    "df_spec_sdg = pd.read_excel(\"../img/Commission/spec.xlsx\", sheet_name=\"SDG\", index_col=0)\n",
    "df_spec_sdg = df_spec_sdg.fillna(0)\n",
    "df_spec_sdg = df_spec_sdg.loc[lst_eu, :]\n",
    "df_spec_sdg = df_spec_sdg.apply(np.vectorize(transform_discrete_value))\n",
    "\n",
    "for sdg in lst_sdg:\n",
    "    ordered_index = reorder_values(df_spec_sdg, sdg)\n",
    "    fig = px.choropleth(\n",
    "        locations=ordered_index,\n",
    "        color=df_spec_sdg.loc[ordered_index, sdg],\n",
    "        color_discrete_map={\"Under-specialized (RTA < 0.75)\":\"#2ECBE9\", \"Not-specialized (0.75 <= RTA <= 1.25)\":\"#128FC8\", \"Specialized (RTA > 1.25)\":\"#00468B\"},\n",
    "        locationmode=\"country names\",\n",
    "    )\n",
    "\n",
    "    fig.update_layout(\n",
    "        template='simple_white',\n",
    "        font=dict(size=18),\n",
    "        showlegend=True,\n",
    "\n",
    "        legend=dict\n",
    "            (\n",
    "            title=\"Specialization\",\n",
    "            yanchor=\"top\",\n",
    "            y=1,\n",
    "            xanchor=\"left\",\n",
    "            x=0.048,\n",
    "            bordercolor=\"Black\",\n",
    "            borderwidth=2\n",
    "            ),\n",
    "        geo=go.layout.Geo(\n",
    "            scope=\"world\",\n",
    "            landcolor='lightgray',\n",
    "            projection_scale=float(6.1),\n",
    "            center=dict(lon=15, lat=52),\n",
    "            projection_type=\"azimuthal equal area\",\n",
    "            showland=True,\n",
    "            showcountries=False,\n",
    "        ),\n",
    "        height=1080,\n",
    "        width=1200\n",
    "\n",
    "\n",
    "    )\n",
    "    fig.write_image(f\"../img/Commission/maps/specialization/full_count/SDG/{sdg}.jpg\")\n",
    "    # pio.write_image(fig, folder, format='png')"
   ],
   "metadata": {
    "collapsed": false
   }
  },
  {
   "cell_type": "code",
   "execution_count": null,
   "outputs": [],
   "source": [],
   "metadata": {
    "collapsed": false
   }
  }
 ],
 "metadata": {
  "kernelspec": {
   "display_name": "Python 3",
   "language": "python",
   "name": "python3"
  },
  "language_info": {
   "codemirror_mode": {
    "name": "ipython",
    "version": 2
   },
   "file_extension": ".py",
   "mimetype": "text/x-python",
   "name": "python",
   "nbconvert_exporter": "python",
   "pygments_lexer": "ipython2",
   "version": "2.7.6"
  }
 },
 "nbformat": 4,
 "nbformat_minor": 0
}
