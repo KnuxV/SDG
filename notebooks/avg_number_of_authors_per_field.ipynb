{
 "cells": [
  {
   "cell_type": "code",
   "execution_count": 1,
   "metadata": {
    "collapsed": true,
    "pycharm": {
     "name": "#%%\n"
    }
   },
   "outputs": [],
   "source": [
    "import pandas as pd"
   ]
  },
  {
   "cell_type": "code",
   "execution_count": 2,
   "outputs": [],
   "source": [
    "df_sdg = pd.read_pickle(\"../data/dataframes/SDG/all_sdg_fixed_dst.pkl\")"
   ],
   "metadata": {
    "collapsed": false,
    "pycharm": {
     "name": "#%%\n"
    }
   }
  },
  {
   "cell_type": "code",
   "execution_count": 8,
   "outputs": [
    {
     "data": {
      "text/plain": "['Russia', 'Russia', 'Russia', 'Russia']"
     },
     "execution_count": 8,
     "metadata": {},
     "output_type": "execute_result"
    }
   ],
   "source": [
    "df_sdg.iloc[1].CN.split(\", \")"
   ],
   "metadata": {
    "collapsed": false,
    "pycharm": {
     "name": "#%%\n"
    }
   }
  },
  {
   "cell_type": "code",
   "execution_count": 9,
   "outputs": [],
   "source": [
    "from collections import Counter\n",
    "\n",
    "dic_sdg = {f'SDG{i}':Counter() for i in range(1,18)}\n"
   ],
   "metadata": {
    "collapsed": false,
    "pycharm": {
     "name": "#%%\n"
    }
   }
  },
  {
   "cell_type": "code",
   "execution_count": 10,
   "outputs": [],
   "source": [
    "for ind, row in df_sdg.iterrows():\n",
    "    nb_authors = len(row.CN.split(\", \"))\n",
    "    for sdg in dic_sdg:\n",
    "        if row[sdg]:\n",
    "            dic_sdg[sdg]['authors'] += nb_authors\n",
    "            dic_sdg[sdg]['publication'] += 1\n"
   ],
   "metadata": {
    "collapsed": false,
    "pycharm": {
     "name": "#%%\n"
    }
   }
  },
  {
   "cell_type": "code",
   "execution_count": 16,
   "outputs": [
    {
     "name": "stdout",
     "output_type": "stream",
     "text": [
      "4.202549006489597\n",
      "5.170956694653115\n",
      "6.025010690120651\n",
      "3.725479939321023\n",
      "4.957572121078145\n",
      "4.853076858769256\n",
      "4.076623395088936\n",
      "2.980121364302155\n",
      "3.8948118784338273\n",
      "3.1378944285818875\n",
      "3.7296525882989022\n",
      "4.608050033192411\n",
      "4.770973825580066\n",
      "5.282053266804408\n",
      "4.801687811126968\n",
      "3.483947890660009\n",
      "3.6604186309636053\n"
     ]
    },
    {
     "data": {
      "text/plain": "       authors  publication  author/pub\nSDG1    125631        29894    4.202549\nSDG2     93615        18104    5.170957\nSDG3    718597       119269    6.025011\nSDG4    213660        57351    3.725480\nSDG5    313968        63331    4.957572\nSDG6    638563       131579    4.853077\nSDG7    286713        70331    4.076623\nSDG8     85452        28674    2.980121\nSDG9    112007        28758    3.894812\nSDG10    85721        27318    3.137894\nSDG11   296623        79531    3.729653\nSDG12   395661        85863    4.608050\nSDG13  1502685       314964    4.770974\nSDG14   887105       167947    5.282053\nSDG15   427307        88991    4.801688\nSDG16   217691        62484    3.483948\nSDG17   194112        53030    3.660419",
      "text/html": "<div>\n<style scoped>\n    .dataframe tbody tr th:only-of-type {\n        vertical-align: middle;\n    }\n\n    .dataframe tbody tr th {\n        vertical-align: top;\n    }\n\n    .dataframe thead th {\n        text-align: right;\n    }\n</style>\n<table border=\"1\" class=\"dataframe\">\n  <thead>\n    <tr style=\"text-align: right;\">\n      <th></th>\n      <th>authors</th>\n      <th>publication</th>\n      <th>author/pub</th>\n    </tr>\n  </thead>\n  <tbody>\n    <tr>\n      <th>SDG1</th>\n      <td>125631</td>\n      <td>29894</td>\n      <td>4.202549</td>\n    </tr>\n    <tr>\n      <th>SDG2</th>\n      <td>93615</td>\n      <td>18104</td>\n      <td>5.170957</td>\n    </tr>\n    <tr>\n      <th>SDG3</th>\n      <td>718597</td>\n      <td>119269</td>\n      <td>6.025011</td>\n    </tr>\n    <tr>\n      <th>SDG4</th>\n      <td>213660</td>\n      <td>57351</td>\n      <td>3.725480</td>\n    </tr>\n    <tr>\n      <th>SDG5</th>\n      <td>313968</td>\n      <td>63331</td>\n      <td>4.957572</td>\n    </tr>\n    <tr>\n      <th>SDG6</th>\n      <td>638563</td>\n      <td>131579</td>\n      <td>4.853077</td>\n    </tr>\n    <tr>\n      <th>SDG7</th>\n      <td>286713</td>\n      <td>70331</td>\n      <td>4.076623</td>\n    </tr>\n    <tr>\n      <th>SDG8</th>\n      <td>85452</td>\n      <td>28674</td>\n      <td>2.980121</td>\n    </tr>\n    <tr>\n      <th>SDG9</th>\n      <td>112007</td>\n      <td>28758</td>\n      <td>3.894812</td>\n    </tr>\n    <tr>\n      <th>SDG10</th>\n      <td>85721</td>\n      <td>27318</td>\n      <td>3.137894</td>\n    </tr>\n    <tr>\n      <th>SDG11</th>\n      <td>296623</td>\n      <td>79531</td>\n      <td>3.729653</td>\n    </tr>\n    <tr>\n      <th>SDG12</th>\n      <td>395661</td>\n      <td>85863</td>\n      <td>4.608050</td>\n    </tr>\n    <tr>\n      <th>SDG13</th>\n      <td>1502685</td>\n      <td>314964</td>\n      <td>4.770974</td>\n    </tr>\n    <tr>\n      <th>SDG14</th>\n      <td>887105</td>\n      <td>167947</td>\n      <td>5.282053</td>\n    </tr>\n    <tr>\n      <th>SDG15</th>\n      <td>427307</td>\n      <td>88991</td>\n      <td>4.801688</td>\n    </tr>\n    <tr>\n      <th>SDG16</th>\n      <td>217691</td>\n      <td>62484</td>\n      <td>3.483948</td>\n    </tr>\n    <tr>\n      <th>SDG17</th>\n      <td>194112</td>\n      <td>53030</td>\n      <td>3.660419</td>\n    </tr>\n  </tbody>\n</table>\n</div>"
     },
     "execution_count": 16,
     "metadata": {},
     "output_type": "execute_result"
    }
   ],
   "source": [
    "df_test = pd.DataFrame.from_dict(dic_sdg, orient=\"index\")\n",
    "df_test.loc[:, 'author/pub'] = df_test['authors'] / df_test['publication']\n",
    "df_test"
   ],
   "metadata": {
    "collapsed": false,
    "pycharm": {
     "name": "#%%\n"
    }
   }
  },
  {
   "cell_type": "code",
   "execution_count": 17,
   "outputs": [],
   "source": [
    "df_dt = pd.read_pickle(\"../data/dataframes/digital/all_digital.pkl\")\n"
   ],
   "metadata": {
    "collapsed": false,
    "pycharm": {
     "name": "#%%\n"
    }
   }
  },
  {
   "cell_type": "code",
   "execution_count": 21,
   "outputs": [
    {
     "data": {
      "text/plain": "{'AI': Counter(),\n 'big_data': Counter(),\n 'IOT': Counter(),\n 'computing_infrastructure': Counter(),\n 'blockchain': Counter(),\n 'robotics': Counter(),\n 'additive_manufacturing': Counter()}"
     },
     "execution_count": 21,
     "metadata": {},
     "output_type": "execute_result"
    }
   ],
   "source": [
    "dic_dt = {dt:Counter() for dt in df_dt.columns[13:20]}\n",
    "dic_dt"
   ],
   "metadata": {
    "collapsed": false,
    "pycharm": {
     "name": "#%%\n"
    }
   }
  },
  {
   "cell_type": "code",
   "execution_count": 22,
   "outputs": [
    {
     "data": {
      "text/plain": "                          authors  publication  author/pub\nAI                        3054816       720577    4.239403\nbig_data                   366812        91081    4.027316\nIOT                        678392       171469    3.956354\ncomputing_infrastructure   574681       141351    4.065631\nblockchain                  59083        15807    3.737774\nrobotics                   884210       208519    4.240429\nadditive_manufacturing     329263        66197    4.973987",
      "text/html": "<div>\n<style scoped>\n    .dataframe tbody tr th:only-of-type {\n        vertical-align: middle;\n    }\n\n    .dataframe tbody tr th {\n        vertical-align: top;\n    }\n\n    .dataframe thead th {\n        text-align: right;\n    }\n</style>\n<table border=\"1\" class=\"dataframe\">\n  <thead>\n    <tr style=\"text-align: right;\">\n      <th></th>\n      <th>authors</th>\n      <th>publication</th>\n      <th>author/pub</th>\n    </tr>\n  </thead>\n  <tbody>\n    <tr>\n      <th>AI</th>\n      <td>3054816</td>\n      <td>720577</td>\n      <td>4.239403</td>\n    </tr>\n    <tr>\n      <th>big_data</th>\n      <td>366812</td>\n      <td>91081</td>\n      <td>4.027316</td>\n    </tr>\n    <tr>\n      <th>IOT</th>\n      <td>678392</td>\n      <td>171469</td>\n      <td>3.956354</td>\n    </tr>\n    <tr>\n      <th>computing_infrastructure</th>\n      <td>574681</td>\n      <td>141351</td>\n      <td>4.065631</td>\n    </tr>\n    <tr>\n      <th>blockchain</th>\n      <td>59083</td>\n      <td>15807</td>\n      <td>3.737774</td>\n    </tr>\n    <tr>\n      <th>robotics</th>\n      <td>884210</td>\n      <td>208519</td>\n      <td>4.240429</td>\n    </tr>\n    <tr>\n      <th>additive_manufacturing</th>\n      <td>329263</td>\n      <td>66197</td>\n      <td>4.973987</td>\n    </tr>\n  </tbody>\n</table>\n</div>"
     },
     "execution_count": 22,
     "metadata": {},
     "output_type": "execute_result"
    }
   ],
   "source": [
    "for ind, row in df_dt.iterrows():\n",
    "    nb_authors = len(row.CN.split(\", \"))\n",
    "    for dt in dic_dt:\n",
    "        if row[dt]:\n",
    "            dic_dt[dt]['authors'] += nb_authors\n",
    "            dic_dt[dt]['publication'] += 1\n",
    "\n",
    "df_test_dt = pd.DataFrame.from_dict(dic_dt, orient=\"index\")\n",
    "df_test_dt.loc[:, 'author/pub'] = df_test_dt['authors'] / df_test_dt['publication']\n",
    "df_test_dt"
   ],
   "metadata": {
    "collapsed": false,
    "pycharm": {
     "name": "#%%\n"
    }
   }
  },
  {
   "cell_type": "code",
   "execution_count": 31,
   "outputs": [
    {
     "data": {
      "text/plain": "                          authors  publication  author/pub\nAI                         109522        23890    4.584429\nbig_data                    26134         6031    4.333278\nIOT                         44325        10981    4.036518\ncomputing_infrastructure    25946         5892    4.403598\nblockchain                   3922         1079    3.634847\nrobotics                    28302         5699    4.966134\nadditive_manufacturing       8991         2024    4.442194\nSDG1                         1182          271    4.361624\nSDG2                         2037          417    4.884892\nSDG3                        24427         4495    5.434260\nSDG4                         6101         1579    3.863838\nSDG5                         6003         1106    5.427667\nSDG6                        13771         3044    4.523982\nSDG7                        43582        10978    3.969940\nSDG8                         4014         1061    3.783223\nSDG9                         6905         1792    3.853237\nSDG10                        3035          784    3.871173\nSDG11                       22046         5344    4.125374\nSDG12                       12642         2825    4.475044\nSDG13                       45270         9488    4.771290\nSDG14                       18821         3514    5.356005\nSDG15                       13593         2793    4.866810\nSDG16                        9825         2494    3.939455\nSDG17                        5532         1318    4.197269",
      "text/html": "<div>\n<style scoped>\n    .dataframe tbody tr th:only-of-type {\n        vertical-align: middle;\n    }\n\n    .dataframe tbody tr th {\n        vertical-align: top;\n    }\n\n    .dataframe thead th {\n        text-align: right;\n    }\n</style>\n<table border=\"1\" class=\"dataframe\">\n  <thead>\n    <tr style=\"text-align: right;\">\n      <th></th>\n      <th>authors</th>\n      <th>publication</th>\n      <th>author/pub</th>\n    </tr>\n  </thead>\n  <tbody>\n    <tr>\n      <th>AI</th>\n      <td>109522</td>\n      <td>23890</td>\n      <td>4.584429</td>\n    </tr>\n    <tr>\n      <th>big_data</th>\n      <td>26134</td>\n      <td>6031</td>\n      <td>4.333278</td>\n    </tr>\n    <tr>\n      <th>IOT</th>\n      <td>44325</td>\n      <td>10981</td>\n      <td>4.036518</td>\n    </tr>\n    <tr>\n      <th>computing_infrastructure</th>\n      <td>25946</td>\n      <td>5892</td>\n      <td>4.403598</td>\n    </tr>\n    <tr>\n      <th>blockchain</th>\n      <td>3922</td>\n      <td>1079</td>\n      <td>3.634847</td>\n    </tr>\n    <tr>\n      <th>robotics</th>\n      <td>28302</td>\n      <td>5699</td>\n      <td>4.966134</td>\n    </tr>\n    <tr>\n      <th>additive_manufacturing</th>\n      <td>8991</td>\n      <td>2024</td>\n      <td>4.442194</td>\n    </tr>\n    <tr>\n      <th>SDG1</th>\n      <td>1182</td>\n      <td>271</td>\n      <td>4.361624</td>\n    </tr>\n    <tr>\n      <th>SDG2</th>\n      <td>2037</td>\n      <td>417</td>\n      <td>4.884892</td>\n    </tr>\n    <tr>\n      <th>SDG3</th>\n      <td>24427</td>\n      <td>4495</td>\n      <td>5.434260</td>\n    </tr>\n    <tr>\n      <th>SDG4</th>\n      <td>6101</td>\n      <td>1579</td>\n      <td>3.863838</td>\n    </tr>\n    <tr>\n      <th>SDG5</th>\n      <td>6003</td>\n      <td>1106</td>\n      <td>5.427667</td>\n    </tr>\n    <tr>\n      <th>SDG6</th>\n      <td>13771</td>\n      <td>3044</td>\n      <td>4.523982</td>\n    </tr>\n    <tr>\n      <th>SDG7</th>\n      <td>43582</td>\n      <td>10978</td>\n      <td>3.969940</td>\n    </tr>\n    <tr>\n      <th>SDG8</th>\n      <td>4014</td>\n      <td>1061</td>\n      <td>3.783223</td>\n    </tr>\n    <tr>\n      <th>SDG9</th>\n      <td>6905</td>\n      <td>1792</td>\n      <td>3.853237</td>\n    </tr>\n    <tr>\n      <th>SDG10</th>\n      <td>3035</td>\n      <td>784</td>\n      <td>3.871173</td>\n    </tr>\n    <tr>\n      <th>SDG11</th>\n      <td>22046</td>\n      <td>5344</td>\n      <td>4.125374</td>\n    </tr>\n    <tr>\n      <th>SDG12</th>\n      <td>12642</td>\n      <td>2825</td>\n      <td>4.475044</td>\n    </tr>\n    <tr>\n      <th>SDG13</th>\n      <td>45270</td>\n      <td>9488</td>\n      <td>4.771290</td>\n    </tr>\n    <tr>\n      <th>SDG14</th>\n      <td>18821</td>\n      <td>3514</td>\n      <td>5.356005</td>\n    </tr>\n    <tr>\n      <th>SDG15</th>\n      <td>13593</td>\n      <td>2793</td>\n      <td>4.866810</td>\n    </tr>\n    <tr>\n      <th>SDG16</th>\n      <td>9825</td>\n      <td>2494</td>\n      <td>3.939455</td>\n    </tr>\n    <tr>\n      <th>SDG17</th>\n      <td>5532</td>\n      <td>1318</td>\n      <td>4.197269</td>\n    </tr>\n  </tbody>\n</table>\n</div>"
     },
     "execution_count": 31,
     "metadata": {},
     "output_type": "execute_result"
    }
   ],
   "source": [
    "dic_inter = {key:Counter() for key in list(dic_dt.keys()) + list(dic_sdg.keys())}\n",
    "df_inter = df_sdg[df_sdg['DST']]\n",
    "for ind, row in df_inter.iterrows():\n",
    "    nb_authors = len(row.CN.split(\", \"))\n",
    "    for key in dic_inter:\n",
    "        if row[key]:\n",
    "            dic_inter[key]['authors'] += nb_authors\n",
    "            dic_inter[key]['publication'] += 1\n",
    "df_test_inter = pd.DataFrame.from_dict(dic_inter, orient=\"index\")\n",
    "df_test_inter.loc[:, 'author/pub'] = df_test_inter['authors'] / df_test_inter['publication']\n",
    "df_test_inter"
   ],
   "metadata": {
    "collapsed": false,
    "pycharm": {
     "name": "#%%\n"
    }
   }
  },
  {
   "cell_type": "code",
   "execution_count": 32,
   "outputs": [],
   "source": [
    "with pd.ExcelWriter('../img/Commission/avg_authors_per_field.xlsx') as writer:\n",
    "    df_test.to_excel(writer, sheet_name='SDG')\n",
    "    df_test_dt.to_excel(writer, sheet_name='Digital')\n",
    "    df_test_inter.to_excel(writer, sheet_name='Intersection')"
   ],
   "metadata": {
    "collapsed": false,
    "pycharm": {
     "name": "#%%\n"
    }
   }
  },
  {
   "cell_type": "code",
   "execution_count": null,
   "outputs": [],
   "source": [],
   "metadata": {
    "collapsed": false,
    "pycharm": {
     "name": "#%%\n"
    }
   }
  }
 ],
 "metadata": {
  "kernelspec": {
   "display_name": "Python 3",
   "language": "python",
   "name": "python3"
  },
  "language_info": {
   "codemirror_mode": {
    "name": "ipython",
    "version": 2
   },
   "file_extension": ".py",
   "mimetype": "text/x-python",
   "name": "python",
   "nbconvert_exporter": "python",
   "pygments_lexer": "ipython2",
   "version": "2.7.6"
  }
 },
 "nbformat": 4,
 "nbformat_minor": 0
}