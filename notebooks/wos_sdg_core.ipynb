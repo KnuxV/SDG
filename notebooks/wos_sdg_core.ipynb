{
 "cells": [
  {
   "cell_type": "code",
   "execution_count": 4,
   "outputs": [],
   "source": [
    "import pandas as pd\n",
    "import csv"
   ],
   "metadata": {
    "collapsed": false
   }
  },
  {
   "cell_type": "code",
   "execution_count": 5,
   "outputs": [],
   "source": [
    "file_path = \"../data/dataframes/SDG/core_sdg_dt.pkl\""
   ],
   "metadata": {
    "collapsed": false
   }
  },
  {
   "cell_type": "code",
   "execution_count": 6,
   "outputs": [],
   "source": [
    "df = pd.read_pickle(file_path)"
   ],
   "metadata": {
    "collapsed": false
   }
  },
  {
   "cell_type": "code",
   "execution_count": 7,
   "outputs": [
    {
     "data": {
      "text/plain": "    PT                                                 AU   BA   BE    GP  \\\n50   C                                Akin, O; Demirel, H  NaN  NaN  IEEE   \n51   J                    Nakidien, T; Singh, M; Sayed, Y  NaN  NaN   NaN   \n52   J                             Brissett, N; Mitter, R  NaN  NaN   NaN   \n53   J                   Xu, XY; Gao, J; Zhang, ZH; Fu, J  NaN  NaN   NaN   \n54   J              Izzo, MF; Dello Strologo, A; Grana, F  NaN  NaN   NaN   \n..  ..                                                ...  ...  ...   ...   \n494  J                                           Bouma, J  NaN  NaN   NaN   \n495  J                                  Lin, TY; Chiu, SH  NaN  NaN   NaN   \n497  J  Wang, J; Maier, SD; Horn, R; Hollander, R; Asc...  NaN  NaN   NaN   \n498  J                            Rauner, S; Budzinski, M  NaN  NaN   NaN   \n499  J                                             Ya, AZ  NaN  NaN   NaN   \n\n                                                    AF   BF   CA  \\\n50                          Akin, Omer; Demirel, Hande  NaN  NaN   \n51       Nakidien, Toyer; Singh, Marcina; Sayed, Yusuf  NaN  NaN   \n52                    Brissett, Nigel; Mitter, Radhika  NaN  NaN   \n53     Xu, Xueyan; Gao, Jun; Zhang, Zhonghao; Fu, Jing  NaN  NaN   \n54   Izzo, Maria Federica; Dello Strologo, Alberto;...  NaN  NaN   \n..                                                 ...  ...  ...   \n494                                       Bouma, Johan  NaN  NaN   \n495                    Lin, Tzu-Yu; Chiu, Sheng-Hsiung  NaN  NaN   \n497  Wang, Jing; Maier, Stephanie D.; Horn, Rafael;...  NaN  NaN   \n498                 Rauner, Sebastian; Budzinski, Maik  NaN  NaN   \n499                                        Ya, Aung Ze  NaN  NaN   \n\n                                                    TI  \\\n50   Measuring Rural Access Index via Spatial Infor...   \n51   Teachers and Teacher Education: Limitations an...   \n52   For function or transformation? A critical dis...   \n53   An Assessment of Chinese Pathways to Implement...   \n54   Learning from the Best: New Challenges and Tre...   \n..                                                 ...   \n494           Soil Security in Sustainable Development   \n495  Sustainable Performance of Low-Carbon Energy I...   \n497  Development of an Ex-Ante Sustainability Asses...   \n498  Holistic energy system modeling combining mult...   \n499  French Green Growth Paradigm In-line with EU T...   \n\n                                                    SO  ...          DA  \\\n50   2019 9TH INTERNATIONAL CONFERENCE ON RECENT AD...  ...  2022-10-12   \n51                                  EDUCATION SCIENCES  ...  2022-10-12   \n52       JOURNAL FOR CRITICAL EDUCATION POLICY STUDIES  ...  2022-10-12   \n53   INTERNATIONAL JOURNAL OF ENVIRONMENTAL RESEARC...  ...  2022-10-12   \n54                                      SUSTAINABILITY  ...  2022-10-12   \n..                                                 ...  ...         ...   \n494                                       SOIL SYSTEMS  ...  2022-10-12   \n495                                     SUSTAINABILITY  ...  2022-10-12   \n497                                     SUSTAINABILITY  ...  2022-10-12   \n498                     ENVIRONMENTAL RESEARCH LETTERS  ...  2022-10-12   \n499        EUROPEAN JOURNAL OF SUSTAINABLE DEVELOPMENT  ...  2022-10-12   \n\n                      UT                                                 CN  \\\n50   WOS:000492052500075                                     Turkey, Turkey   \n51   WOS:000622457600001  South Africa, South Africa, South Africa, Unit...   \n52   WOS:000404658900009                       United States, United States   \n53   WOS:000477037900037                  China, China, China, China, China   \n54   WOS:000554152000001                       Italy, Italy, United Kingdom   \n..                   ...                                                ...   \n494  WOS:000500757400005                                        Netherlands   \n495  WOS:000455338100323                                       China, China   \n497  WOS:000446770200251        Germany, Germany, Germany, Germany, Austria   \n498  WOS:000417530700003                                   Germany, Germany   \n499  WOS:000383913800012                                            Myanmar   \n\n        AI big_data    IOT computing_infrastructure blockchain robotics  \\\n50   False    False  False                    False      False    False   \n51   False    False  False                    False      False    False   \n52   False    False  False                    False      False    False   \n53   False    False  False                    False      False    False   \n54   False    False  False                    False      False    False   \n..     ...      ...    ...                      ...        ...      ...   \n494  False    False  False                    False      False    False   \n495  False    False  False                    False      False    False   \n497  False    False  False                    False      False    False   \n498  False    False  False                    False      False    False   \n499  False    False  False                    False      False    False   \n\n    additive_manufacturing  \n50                   False  \n51                   False  \n52                   False  \n53                   False  \n54                   False  \n..                     ...  \n494                  False  \n495                  False  \n497                  False  \n498                  False  \n499                  False  \n\n[13910 rows x 78 columns]",
      "text/html": "<div>\n<style scoped>\n    .dataframe tbody tr th:only-of-type {\n        vertical-align: middle;\n    }\n\n    .dataframe tbody tr th {\n        vertical-align: top;\n    }\n\n    .dataframe thead th {\n        text-align: right;\n    }\n</style>\n<table border=\"1\" class=\"dataframe\">\n  <thead>\n    <tr style=\"text-align: right;\">\n      <th></th>\n      <th>PT</th>\n      <th>AU</th>\n      <th>BA</th>\n      <th>BE</th>\n      <th>GP</th>\n      <th>AF</th>\n      <th>BF</th>\n      <th>CA</th>\n      <th>TI</th>\n      <th>SO</th>\n      <th>...</th>\n      <th>DA</th>\n      <th>UT</th>\n      <th>CN</th>\n      <th>AI</th>\n      <th>big_data</th>\n      <th>IOT</th>\n      <th>computing_infrastructure</th>\n      <th>blockchain</th>\n      <th>robotics</th>\n      <th>additive_manufacturing</th>\n    </tr>\n  </thead>\n  <tbody>\n    <tr>\n      <th>50</th>\n      <td>C</td>\n      <td>Akin, O; Demirel, H</td>\n      <td>NaN</td>\n      <td>NaN</td>\n      <td>IEEE</td>\n      <td>Akin, Omer; Demirel, Hande</td>\n      <td>NaN</td>\n      <td>NaN</td>\n      <td>Measuring Rural Access Index via Spatial Infor...</td>\n      <td>2019 9TH INTERNATIONAL CONFERENCE ON RECENT AD...</td>\n      <td>...</td>\n      <td>2022-10-12</td>\n      <td>WOS:000492052500075</td>\n      <td>Turkey, Turkey</td>\n      <td>False</td>\n      <td>False</td>\n      <td>False</td>\n      <td>False</td>\n      <td>False</td>\n      <td>False</td>\n      <td>False</td>\n    </tr>\n    <tr>\n      <th>51</th>\n      <td>J</td>\n      <td>Nakidien, T; Singh, M; Sayed, Y</td>\n      <td>NaN</td>\n      <td>NaN</td>\n      <td>NaN</td>\n      <td>Nakidien, Toyer; Singh, Marcina; Sayed, Yusuf</td>\n      <td>NaN</td>\n      <td>NaN</td>\n      <td>Teachers and Teacher Education: Limitations an...</td>\n      <td>EDUCATION SCIENCES</td>\n      <td>...</td>\n      <td>2022-10-12</td>\n      <td>WOS:000622457600001</td>\n      <td>South Africa, South Africa, South Africa, Unit...</td>\n      <td>False</td>\n      <td>False</td>\n      <td>False</td>\n      <td>False</td>\n      <td>False</td>\n      <td>False</td>\n      <td>False</td>\n    </tr>\n    <tr>\n      <th>52</th>\n      <td>J</td>\n      <td>Brissett, N; Mitter, R</td>\n      <td>NaN</td>\n      <td>NaN</td>\n      <td>NaN</td>\n      <td>Brissett, Nigel; Mitter, Radhika</td>\n      <td>NaN</td>\n      <td>NaN</td>\n      <td>For function or transformation? A critical dis...</td>\n      <td>JOURNAL FOR CRITICAL EDUCATION POLICY STUDIES</td>\n      <td>...</td>\n      <td>2022-10-12</td>\n      <td>WOS:000404658900009</td>\n      <td>United States, United States</td>\n      <td>False</td>\n      <td>False</td>\n      <td>False</td>\n      <td>False</td>\n      <td>False</td>\n      <td>False</td>\n      <td>False</td>\n    </tr>\n    <tr>\n      <th>53</th>\n      <td>J</td>\n      <td>Xu, XY; Gao, J; Zhang, ZH; Fu, J</td>\n      <td>NaN</td>\n      <td>NaN</td>\n      <td>NaN</td>\n      <td>Xu, Xueyan; Gao, Jun; Zhang, Zhonghao; Fu, Jing</td>\n      <td>NaN</td>\n      <td>NaN</td>\n      <td>An Assessment of Chinese Pathways to Implement...</td>\n      <td>INTERNATIONAL JOURNAL OF ENVIRONMENTAL RESEARC...</td>\n      <td>...</td>\n      <td>2022-10-12</td>\n      <td>WOS:000477037900037</td>\n      <td>China, China, China, China, China</td>\n      <td>False</td>\n      <td>False</td>\n      <td>False</td>\n      <td>False</td>\n      <td>False</td>\n      <td>False</td>\n      <td>False</td>\n    </tr>\n    <tr>\n      <th>54</th>\n      <td>J</td>\n      <td>Izzo, MF; Dello Strologo, A; Grana, F</td>\n      <td>NaN</td>\n      <td>NaN</td>\n      <td>NaN</td>\n      <td>Izzo, Maria Federica; Dello Strologo, Alberto;...</td>\n      <td>NaN</td>\n      <td>NaN</td>\n      <td>Learning from the Best: New Challenges and Tre...</td>\n      <td>SUSTAINABILITY</td>\n      <td>...</td>\n      <td>2022-10-12</td>\n      <td>WOS:000554152000001</td>\n      <td>Italy, Italy, United Kingdom</td>\n      <td>False</td>\n      <td>False</td>\n      <td>False</td>\n      <td>False</td>\n      <td>False</td>\n      <td>False</td>\n      <td>False</td>\n    </tr>\n    <tr>\n      <th>...</th>\n      <td>...</td>\n      <td>...</td>\n      <td>...</td>\n      <td>...</td>\n      <td>...</td>\n      <td>...</td>\n      <td>...</td>\n      <td>...</td>\n      <td>...</td>\n      <td>...</td>\n      <td>...</td>\n      <td>...</td>\n      <td>...</td>\n      <td>...</td>\n      <td>...</td>\n      <td>...</td>\n      <td>...</td>\n      <td>...</td>\n      <td>...</td>\n      <td>...</td>\n      <td>...</td>\n    </tr>\n    <tr>\n      <th>494</th>\n      <td>J</td>\n      <td>Bouma, J</td>\n      <td>NaN</td>\n      <td>NaN</td>\n      <td>NaN</td>\n      <td>Bouma, Johan</td>\n      <td>NaN</td>\n      <td>NaN</td>\n      <td>Soil Security in Sustainable Development</td>\n      <td>SOIL SYSTEMS</td>\n      <td>...</td>\n      <td>2022-10-12</td>\n      <td>WOS:000500757400005</td>\n      <td>Netherlands</td>\n      <td>False</td>\n      <td>False</td>\n      <td>False</td>\n      <td>False</td>\n      <td>False</td>\n      <td>False</td>\n      <td>False</td>\n    </tr>\n    <tr>\n      <th>495</th>\n      <td>J</td>\n      <td>Lin, TY; Chiu, SH</td>\n      <td>NaN</td>\n      <td>NaN</td>\n      <td>NaN</td>\n      <td>Lin, Tzu-Yu; Chiu, Sheng-Hsiung</td>\n      <td>NaN</td>\n      <td>NaN</td>\n      <td>Sustainable Performance of Low-Carbon Energy I...</td>\n      <td>SUSTAINABILITY</td>\n      <td>...</td>\n      <td>2022-10-12</td>\n      <td>WOS:000455338100323</td>\n      <td>China, China</td>\n      <td>False</td>\n      <td>False</td>\n      <td>False</td>\n      <td>False</td>\n      <td>False</td>\n      <td>False</td>\n      <td>False</td>\n    </tr>\n    <tr>\n      <th>497</th>\n      <td>J</td>\n      <td>Wang, J; Maier, SD; Horn, R; Hollander, R; Asc...</td>\n      <td>NaN</td>\n      <td>NaN</td>\n      <td>NaN</td>\n      <td>Wang, Jing; Maier, Stephanie D.; Horn, Rafael;...</td>\n      <td>NaN</td>\n      <td>NaN</td>\n      <td>Development of an Ex-Ante Sustainability Asses...</td>\n      <td>SUSTAINABILITY</td>\n      <td>...</td>\n      <td>2022-10-12</td>\n      <td>WOS:000446770200251</td>\n      <td>Germany, Germany, Germany, Germany, Austria</td>\n      <td>False</td>\n      <td>False</td>\n      <td>False</td>\n      <td>False</td>\n      <td>False</td>\n      <td>False</td>\n      <td>False</td>\n    </tr>\n    <tr>\n      <th>498</th>\n      <td>J</td>\n      <td>Rauner, S; Budzinski, M</td>\n      <td>NaN</td>\n      <td>NaN</td>\n      <td>NaN</td>\n      <td>Rauner, Sebastian; Budzinski, Maik</td>\n      <td>NaN</td>\n      <td>NaN</td>\n      <td>Holistic energy system modeling combining mult...</td>\n      <td>ENVIRONMENTAL RESEARCH LETTERS</td>\n      <td>...</td>\n      <td>2022-10-12</td>\n      <td>WOS:000417530700003</td>\n      <td>Germany, Germany</td>\n      <td>False</td>\n      <td>False</td>\n      <td>False</td>\n      <td>False</td>\n      <td>False</td>\n      <td>False</td>\n      <td>False</td>\n    </tr>\n    <tr>\n      <th>499</th>\n      <td>J</td>\n      <td>Ya, AZ</td>\n      <td>NaN</td>\n      <td>NaN</td>\n      <td>NaN</td>\n      <td>Ya, Aung Ze</td>\n      <td>NaN</td>\n      <td>NaN</td>\n      <td>French Green Growth Paradigm In-line with EU T...</td>\n      <td>EUROPEAN JOURNAL OF SUSTAINABLE DEVELOPMENT</td>\n      <td>...</td>\n      <td>2022-10-12</td>\n      <td>WOS:000383913800012</td>\n      <td>Myanmar</td>\n      <td>False</td>\n      <td>False</td>\n      <td>False</td>\n      <td>False</td>\n      <td>False</td>\n      <td>False</td>\n      <td>False</td>\n    </tr>\n  </tbody>\n</table>\n<p>13910 rows × 78 columns</p>\n</div>"
     },
     "execution_count": 7,
     "metadata": {},
     "output_type": "execute_result"
    }
   ],
   "source": [
    "df"
   ],
   "metadata": {
    "collapsed": false
   }
  },
  {
   "cell_type": "code",
   "execution_count": 8,
   "outputs": [],
   "source": [
    "df['DT'] = df['AI'] + df['robotics'] + df['big_data'] + df['computing_infrastructure'] + df['blockchain'] + df['additive_manufacturing'] + df['IOT']\n"
   ],
   "metadata": {
    "collapsed": false
   }
  },
  {
   "cell_type": "code",
   "execution_count": 9,
   "outputs": [
    {
     "data": {
      "text/plain": "    PT                                                 AU   BA   BE   GP  \\\n70   J    Misra, A; Okewu, E; Misra, S; Fernandez-Sanz, L  NaN  NaN  NaN   \n140  J                               Williams, C; Hunt, P  NaN  NaN  NaN   \n205  J  Pigola, A; da Costa, PR; Carvalho, LC; Silva, ...  NaN  NaN  NaN   \n211  J             Pitt, S; Lacey, MV; Scaife, E; Pitt, J  NaN  NaN  NaN   \n222  J  Tsolakis, N; Niedenzu, D; Simonetto, M; Dora, ...  NaN  NaN  NaN   \n..  ..                                                ...  ...  ...  ...   \n315  J  Kim, TE; Sharma, A; Bustgaard, M; Gyldensten, ...  NaN  NaN  NaN   \n329  J  Vernier, C; Loeillet, D; Thomopoulos, R; Macom...  NaN  NaN  NaN   \n358  J  Ntiamoah, EB; Li, DM; Ameyaw, B; Sarpong, DB; ...  NaN  NaN  NaN   \n419  J               Pizzi, M; Romanoff, M; Engelhardt, T  NaN  NaN  NaN   \n441  J  Shahsavar, MM; Akrami, M; Gheibi, M; Kavianpou...  NaN  NaN  NaN   \n\n                                                    AF   BF   CA  \\\n70   Misra, Ananya; Okewu, Emmanuel; Misra, Sanjay;...  NaN  NaN   \n140                       Williams, Carmel; Hunt, Paul  NaN  NaN   \n205  Pigola, Angelica; da Costa, Priscila Rezende; ...  NaN  NaN   \n211  Pitt, Steph; Lacey, Marlina van Meelis; Scaife...  NaN  NaN   \n222  Tsolakis, Naoum; Niedenzu, Denis; Simonetto, M...  NaN  NaN   \n..                                                 ...  ...  ...   \n315  Kim, Tae-eun; Sharma, Amit; Bustgaard, Morten;...  NaN  NaN   \n329  Vernier, Cedric; Loeillet, Denis; Thomopoulos,...  NaN  NaN   \n358  Ntiamoah, Evans Brako; Li, Dongmei; Ameyaw, Bi...  NaN  NaN   \n419    Pizzi, Michael; Romanoff, Mila; Engelhardt, Tim  NaN  NaN   \n441  Shahsavar, Mohammad M.; Akrami, Mehran; Gheibi...  NaN  NaN   \n\n                                                    TI  \\\n70   Deep Neural Network Model for Evaluating and A...   \n140  Neglecting human rights: accountability, data ...   \n205  Artificial Intelligence-Driven Digital Technol...   \n211  No App is an Island: Collective Action and Sus...   \n222  Supply network design to address United Nation...   \n..                                                 ...   \n315  The continuum of simulator-based maritime trai...   \n329  Adoption of ICTs in Agri-Food Logistics: Poten...   \n358  A data-driven approach to mitigating food inse...   \n419  AI for humanitarian action: Human rights and e...   \n441  Constructing a smart framework for supplying t...   \n\n                                                    SO  ...          DA  \\\n70                              APPLIED SCIENCES-BASEL  ...  2022-10-12   \n140              INTERNATIONAL JOURNAL OF HUMAN RIGHTS  ...  2022-10-12   \n205                                     SUSTAINABILITY  ...  2022-10-12   \n211  INTERNATIONAL JOURNAL OF INTERACTIVE MULTIMEDI...  ...  2022-10-12   \n222                       JOURNAL OF BUSINESS RESEARCH  ...  2022-10-12   \n..                                                 ...  ...         ...   \n315                    WMU JOURNAL OF MARITIME AFFAIRS  ...  2022-10-12   \n329                                     SUSTAINABILITY  ...  2022-10-12   \n358                            NATURAL RESOURCES FORUM  ...  2022-10-12   \n419              INTERNATIONAL REVIEW OF THE RED CROSS  ...  2022-10-12   \n441                   ENERGY CONVERSION AND MANAGEMENT  ...  2022-10-12   \n\n                      UT                                                 CN  \\\n70   WOS:000858113300001                        Spain, Spain, Spain, Norway   \n140  WOS:000419778200007                     United Kingdom, United Kingdom   \n205  WOS:000738186600001   Brazil, Brazil, Brazil, Brazil, Brazil, Portugal   \n211  WOS:000624339700004  United Kingdom, United Kingdom, United Kingdom...   \n222  WOS:000652020000014  United Kingdom, United Kingdom, United Kingdom...   \n..                   ...                                                ...   \n315  WOS:000658615100001  Norway, Norway, Norway, Norway, Norway, Norway...   \n329  WOS:000666409100001                     France, France, France, France   \n358  WOS:000778874100001    China, China, China, China, Ghana, Ghana, Ghana   \n419  WOS:000629736500009                       United States, United States   \n441  WOS:000703074800002     Iran, Iran, Iran, Iran, Canada, United Kingdom   \n\n        AI big_data    IOT computing_infrastructure blockchain robotics  \\\n70    True    False  False                    False      False    False   \n140  False     True  False                    False      False    False   \n205   True    False  False                    False      False    False   \n211   True    False  False                    False      False    False   \n222  False    False  False                    False       True    False   \n..     ...      ...    ...                      ...        ...      ...   \n315   True    False  False                    False      False    False   \n329   True     True   True                    False      False    False   \n358   True    False  False                    False      False    False   \n419   True    False  False                    False      False    False   \n441   True    False  False                    False      False    False   \n\n    additive_manufacturing  \n70                   False  \n140                  False  \n205                  False  \n211                  False  \n222                  False  \n..                     ...  \n315                  False  \n329                   True  \n358                  False  \n419                  False  \n441                  False  \n\n[714 rows x 78 columns]",
      "text/html": "<div>\n<style scoped>\n    .dataframe tbody tr th:only-of-type {\n        vertical-align: middle;\n    }\n\n    .dataframe tbody tr th {\n        vertical-align: top;\n    }\n\n    .dataframe thead th {\n        text-align: right;\n    }\n</style>\n<table border=\"1\" class=\"dataframe\">\n  <thead>\n    <tr style=\"text-align: right;\">\n      <th></th>\n      <th>PT</th>\n      <th>AU</th>\n      <th>BA</th>\n      <th>BE</th>\n      <th>GP</th>\n      <th>AF</th>\n      <th>BF</th>\n      <th>CA</th>\n      <th>TI</th>\n      <th>SO</th>\n      <th>...</th>\n      <th>DA</th>\n      <th>UT</th>\n      <th>CN</th>\n      <th>AI</th>\n      <th>big_data</th>\n      <th>IOT</th>\n      <th>computing_infrastructure</th>\n      <th>blockchain</th>\n      <th>robotics</th>\n      <th>additive_manufacturing</th>\n    </tr>\n  </thead>\n  <tbody>\n    <tr>\n      <th>70</th>\n      <td>J</td>\n      <td>Misra, A; Okewu, E; Misra, S; Fernandez-Sanz, L</td>\n      <td>NaN</td>\n      <td>NaN</td>\n      <td>NaN</td>\n      <td>Misra, Ananya; Okewu, Emmanuel; Misra, Sanjay;...</td>\n      <td>NaN</td>\n      <td>NaN</td>\n      <td>Deep Neural Network Model for Evaluating and A...</td>\n      <td>APPLIED SCIENCES-BASEL</td>\n      <td>...</td>\n      <td>2022-10-12</td>\n      <td>WOS:000858113300001</td>\n      <td>Spain, Spain, Spain, Norway</td>\n      <td>True</td>\n      <td>False</td>\n      <td>False</td>\n      <td>False</td>\n      <td>False</td>\n      <td>False</td>\n      <td>False</td>\n    </tr>\n    <tr>\n      <th>140</th>\n      <td>J</td>\n      <td>Williams, C; Hunt, P</td>\n      <td>NaN</td>\n      <td>NaN</td>\n      <td>NaN</td>\n      <td>Williams, Carmel; Hunt, Paul</td>\n      <td>NaN</td>\n      <td>NaN</td>\n      <td>Neglecting human rights: accountability, data ...</td>\n      <td>INTERNATIONAL JOURNAL OF HUMAN RIGHTS</td>\n      <td>...</td>\n      <td>2022-10-12</td>\n      <td>WOS:000419778200007</td>\n      <td>United Kingdom, United Kingdom</td>\n      <td>False</td>\n      <td>True</td>\n      <td>False</td>\n      <td>False</td>\n      <td>False</td>\n      <td>False</td>\n      <td>False</td>\n    </tr>\n    <tr>\n      <th>205</th>\n      <td>J</td>\n      <td>Pigola, A; da Costa, PR; Carvalho, LC; Silva, ...</td>\n      <td>NaN</td>\n      <td>NaN</td>\n      <td>NaN</td>\n      <td>Pigola, Angelica; da Costa, Priscila Rezende; ...</td>\n      <td>NaN</td>\n      <td>NaN</td>\n      <td>Artificial Intelligence-Driven Digital Technol...</td>\n      <td>SUSTAINABILITY</td>\n      <td>...</td>\n      <td>2022-10-12</td>\n      <td>WOS:000738186600001</td>\n      <td>Brazil, Brazil, Brazil, Brazil, Brazil, Portugal</td>\n      <td>True</td>\n      <td>False</td>\n      <td>False</td>\n      <td>False</td>\n      <td>False</td>\n      <td>False</td>\n      <td>False</td>\n    </tr>\n    <tr>\n      <th>211</th>\n      <td>J</td>\n      <td>Pitt, S; Lacey, MV; Scaife, E; Pitt, J</td>\n      <td>NaN</td>\n      <td>NaN</td>\n      <td>NaN</td>\n      <td>Pitt, Steph; Lacey, Marlina van Meelis; Scaife...</td>\n      <td>NaN</td>\n      <td>NaN</td>\n      <td>No App is an Island: Collective Action and Sus...</td>\n      <td>INTERNATIONAL JOURNAL OF INTERACTIVE MULTIMEDI...</td>\n      <td>...</td>\n      <td>2022-10-12</td>\n      <td>WOS:000624339700004</td>\n      <td>United Kingdom, United Kingdom, United Kingdom...</td>\n      <td>True</td>\n      <td>False</td>\n      <td>False</td>\n      <td>False</td>\n      <td>False</td>\n      <td>False</td>\n      <td>False</td>\n    </tr>\n    <tr>\n      <th>222</th>\n      <td>J</td>\n      <td>Tsolakis, N; Niedenzu, D; Simonetto, M; Dora, ...</td>\n      <td>NaN</td>\n      <td>NaN</td>\n      <td>NaN</td>\n      <td>Tsolakis, Naoum; Niedenzu, Denis; Simonetto, M...</td>\n      <td>NaN</td>\n      <td>NaN</td>\n      <td>Supply network design to address United Nation...</td>\n      <td>JOURNAL OF BUSINESS RESEARCH</td>\n      <td>...</td>\n      <td>2022-10-12</td>\n      <td>WOS:000652020000014</td>\n      <td>United Kingdom, United Kingdom, United Kingdom...</td>\n      <td>False</td>\n      <td>False</td>\n      <td>False</td>\n      <td>False</td>\n      <td>True</td>\n      <td>False</td>\n      <td>False</td>\n    </tr>\n    <tr>\n      <th>...</th>\n      <td>...</td>\n      <td>...</td>\n      <td>...</td>\n      <td>...</td>\n      <td>...</td>\n      <td>...</td>\n      <td>...</td>\n      <td>...</td>\n      <td>...</td>\n      <td>...</td>\n      <td>...</td>\n      <td>...</td>\n      <td>...</td>\n      <td>...</td>\n      <td>...</td>\n      <td>...</td>\n      <td>...</td>\n      <td>...</td>\n      <td>...</td>\n      <td>...</td>\n      <td>...</td>\n    </tr>\n    <tr>\n      <th>315</th>\n      <td>J</td>\n      <td>Kim, TE; Sharma, A; Bustgaard, M; Gyldensten, ...</td>\n      <td>NaN</td>\n      <td>NaN</td>\n      <td>NaN</td>\n      <td>Kim, Tae-eun; Sharma, Amit; Bustgaard, Morten;...</td>\n      <td>NaN</td>\n      <td>NaN</td>\n      <td>The continuum of simulator-based maritime trai...</td>\n      <td>WMU JOURNAL OF MARITIME AFFAIRS</td>\n      <td>...</td>\n      <td>2022-10-12</td>\n      <td>WOS:000658615100001</td>\n      <td>Norway, Norway, Norway, Norway, Norway, Norway...</td>\n      <td>True</td>\n      <td>False</td>\n      <td>False</td>\n      <td>False</td>\n      <td>False</td>\n      <td>False</td>\n      <td>False</td>\n    </tr>\n    <tr>\n      <th>329</th>\n      <td>J</td>\n      <td>Vernier, C; Loeillet, D; Thomopoulos, R; Macom...</td>\n      <td>NaN</td>\n      <td>NaN</td>\n      <td>NaN</td>\n      <td>Vernier, Cedric; Loeillet, Denis; Thomopoulos,...</td>\n      <td>NaN</td>\n      <td>NaN</td>\n      <td>Adoption of ICTs in Agri-Food Logistics: Poten...</td>\n      <td>SUSTAINABILITY</td>\n      <td>...</td>\n      <td>2022-10-12</td>\n      <td>WOS:000666409100001</td>\n      <td>France, France, France, France</td>\n      <td>True</td>\n      <td>True</td>\n      <td>True</td>\n      <td>False</td>\n      <td>False</td>\n      <td>False</td>\n      <td>True</td>\n    </tr>\n    <tr>\n      <th>358</th>\n      <td>J</td>\n      <td>Ntiamoah, EB; Li, DM; Ameyaw, B; Sarpong, DB; ...</td>\n      <td>NaN</td>\n      <td>NaN</td>\n      <td>NaN</td>\n      <td>Ntiamoah, Evans Brako; Li, Dongmei; Ameyaw, Bi...</td>\n      <td>NaN</td>\n      <td>NaN</td>\n      <td>A data-driven approach to mitigating food inse...</td>\n      <td>NATURAL RESOURCES FORUM</td>\n      <td>...</td>\n      <td>2022-10-12</td>\n      <td>WOS:000778874100001</td>\n      <td>China, China, China, China, Ghana, Ghana, Ghana</td>\n      <td>True</td>\n      <td>False</td>\n      <td>False</td>\n      <td>False</td>\n      <td>False</td>\n      <td>False</td>\n      <td>False</td>\n    </tr>\n    <tr>\n      <th>419</th>\n      <td>J</td>\n      <td>Pizzi, M; Romanoff, M; Engelhardt, T</td>\n      <td>NaN</td>\n      <td>NaN</td>\n      <td>NaN</td>\n      <td>Pizzi, Michael; Romanoff, Mila; Engelhardt, Tim</td>\n      <td>NaN</td>\n      <td>NaN</td>\n      <td>AI for humanitarian action: Human rights and e...</td>\n      <td>INTERNATIONAL REVIEW OF THE RED CROSS</td>\n      <td>...</td>\n      <td>2022-10-12</td>\n      <td>WOS:000629736500009</td>\n      <td>United States, United States</td>\n      <td>True</td>\n      <td>False</td>\n      <td>False</td>\n      <td>False</td>\n      <td>False</td>\n      <td>False</td>\n      <td>False</td>\n    </tr>\n    <tr>\n      <th>441</th>\n      <td>J</td>\n      <td>Shahsavar, MM; Akrami, M; Gheibi, M; Kavianpou...</td>\n      <td>NaN</td>\n      <td>NaN</td>\n      <td>NaN</td>\n      <td>Shahsavar, Mohammad M.; Akrami, Mehran; Gheibi...</td>\n      <td>NaN</td>\n      <td>NaN</td>\n      <td>Constructing a smart framework for supplying t...</td>\n      <td>ENERGY CONVERSION AND MANAGEMENT</td>\n      <td>...</td>\n      <td>2022-10-12</td>\n      <td>WOS:000703074800002</td>\n      <td>Iran, Iran, Iran, Iran, Canada, United Kingdom</td>\n      <td>True</td>\n      <td>False</td>\n      <td>False</td>\n      <td>False</td>\n      <td>False</td>\n      <td>False</td>\n      <td>False</td>\n    </tr>\n  </tbody>\n</table>\n<p>714 rows × 78 columns</p>\n</div>"
     },
     "execution_count": 9,
     "metadata": {},
     "output_type": "execute_result"
    }
   ],
   "source": [
    "df_dt = df[df['DT']]\n",
    "df_dt\n"
   ],
   "metadata": {
    "collapsed": false
   }
  },
  {
   "cell_type": "code",
   "execution_count": 9,
   "outputs": [],
   "source": [],
   "metadata": {
    "collapsed": false
   }
  },
  {
   "cell_type": "code",
   "execution_count": 10,
   "outputs": [],
   "source": [
    "import re\n",
    "df_query = pd.read_pickle(\"../query/query.pkl\")\n",
    "\n",
    "\n",
    "def to_raw(string):\n",
    "    return fr\"{string.strip()}\"\n",
    "\n",
    "\n",
    "def check_for_sdg(txt):\n",
    "    res = []\n",
    "    for ind, row in df_query.iterrows():\n",
    "        if not row['Not']:\n",
    "            try:\n",
    "                m = re.search(to_raw(row['Query']), txt, re.IGNORECASE)\n",
    "                if m:\n",
    "                    # res.append((row['SDG'], row['Query'], m.group()))\n",
    "                    res.append(row['SDG'])\n",
    "            except:\n",
    "                m = None\n",
    "                print(\"error, weird query\")\n",
    "        else:\n",
    "            m = re.search(to_raw(row['Query']), txt, re.IGNORECASE)\n",
    "            m_not = re.search(to_raw(row['Not']), txt, re.IGNORECASE)\n",
    "            if m and not m_not:\n",
    "                res.append((row['SDG'], row['Query'], m.group()))\n",
    "                res.append(row['SDG'])\n",
    "\n",
    "    return set(res)"
   ],
   "metadata": {
    "collapsed": false
   }
  },
  {
   "cell_type": "code",
   "execution_count": 11,
   "outputs": [],
   "source": [
    "import swifter\n",
    "def annotate_sdg(df):\n",
    "    df.loc[:,\"TXT\"] = df[\"TI\"] + \" \" + df[\"DE\"] + \" \" + df[\"AB\"]\n",
    "    df.loc[2,'SDG'] = df[\"TXT\"].swifter.apply(check_for_sdg)\n",
    "    return df"
   ],
   "metadata": {
    "collapsed": false
   }
  },
  {
   "cell_type": "code",
   "execution_count": 12,
   "outputs": [
    {
     "name": "stderr",
     "output_type": "stream",
     "text": [
      "/tmp/ipykernel_49265/1434056305.py:3: SettingWithCopyWarning: \n",
      "A value is trying to be set on a copy of a slice from a DataFrame.\n",
      "Try using .loc[row_indexer,col_indexer] = value instead\n",
      "\n",
      "See the caveats in the documentation: https://pandas.pydata.org/pandas-docs/stable/user_guide/indexing.html#returning-a-view-versus-a-copy\n",
      "  df.loc[:,\"TXT\"] = df[\"TI\"] + \" \" + df[\"DE\"] + \" \" + df[\"AB\"]\n",
      "/home/kevin-work/anaconda3/envs/DS/lib/python3.8/site-packages/swifter/swifter.py:87: UserWarning: This pandas object has duplicate indices, and swifter may not be able to improve performance. Consider resetting the indices with `df.reset_index(drop=True)`.\n",
      "  warnings.warn(\n"
     ]
    },
    {
     "data": {
      "text/plain": "Pandas Apply:   0%|          | 0/714 [00:00<?, ?it/s]",
      "application/vnd.jupyter.widget-view+json": {
       "version_major": 2,
       "version_minor": 0,
       "model_id": "b019483f8aab4ce5a0708284f89a4be3"
      }
     },
     "metadata": {},
     "output_type": "display_data"
    },
    {
     "name": "stderr",
     "output_type": "stream",
     "text": [
      "/tmp/ipykernel_49265/1434056305.py:4: SettingWithCopyWarning: \n",
      "A value is trying to be set on a copy of a slice from a DataFrame.\n",
      "Try using .loc[row_indexer,col_indexer] = value instead\n",
      "\n",
      "See the caveats in the documentation: https://pandas.pydata.org/pandas-docs/stable/user_guide/indexing.html#returning-a-view-versus-a-copy\n",
      "  df.loc[2,'SDG'] = df[\"TXT\"].swifter.apply(check_for_sdg)\n"
     ]
    },
    {
     "ename": "ValueError",
     "evalue": "cannot reindex on an axis with duplicate labels",
     "output_type": "error",
     "traceback": [
      "\u001B[0;31m---------------------------------------------------------------------------\u001B[0m",
      "\u001B[0;31mValueError\u001B[0m                                Traceback (most recent call last)",
      "Cell \u001B[0;32mIn [12], line 1\u001B[0m\n\u001B[0;32m----> 1\u001B[0m df_test \u001B[38;5;241m=\u001B[39m \u001B[43mannotate_sdg\u001B[49m\u001B[43m(\u001B[49m\u001B[43mdf_dt\u001B[49m\u001B[43m)\u001B[49m\n",
      "Cell \u001B[0;32mIn [11], line 4\u001B[0m, in \u001B[0;36mannotate_sdg\u001B[0;34m(df)\u001B[0m\n\u001B[1;32m      2\u001B[0m \u001B[38;5;28;01mdef\u001B[39;00m \u001B[38;5;21mannotate_sdg\u001B[39m(df):\n\u001B[1;32m      3\u001B[0m     df\u001B[38;5;241m.\u001B[39mloc[:,\u001B[38;5;124m\"\u001B[39m\u001B[38;5;124mTXT\u001B[39m\u001B[38;5;124m\"\u001B[39m] \u001B[38;5;241m=\u001B[39m df[\u001B[38;5;124m\"\u001B[39m\u001B[38;5;124mTI\u001B[39m\u001B[38;5;124m\"\u001B[39m] \u001B[38;5;241m+\u001B[39m \u001B[38;5;124m\"\u001B[39m\u001B[38;5;124m \u001B[39m\u001B[38;5;124m\"\u001B[39m \u001B[38;5;241m+\u001B[39m df[\u001B[38;5;124m\"\u001B[39m\u001B[38;5;124mDE\u001B[39m\u001B[38;5;124m\"\u001B[39m] \u001B[38;5;241m+\u001B[39m \u001B[38;5;124m\"\u001B[39m\u001B[38;5;124m \u001B[39m\u001B[38;5;124m\"\u001B[39m \u001B[38;5;241m+\u001B[39m df[\u001B[38;5;124m\"\u001B[39m\u001B[38;5;124mAB\u001B[39m\u001B[38;5;124m\"\u001B[39m]\n\u001B[0;32m----> 4\u001B[0m     \u001B[43mdf\u001B[49m\u001B[38;5;241;43m.\u001B[39;49m\u001B[43mloc\u001B[49m\u001B[43m[\u001B[49m\u001B[38;5;241;43m2\u001B[39;49m\u001B[43m,\u001B[49m\u001B[38;5;124;43m'\u001B[39;49m\u001B[38;5;124;43mSDG\u001B[39;49m\u001B[38;5;124;43m'\u001B[39;49m\u001B[43m]\u001B[49m \u001B[38;5;241m=\u001B[39m df[\u001B[38;5;124m\"\u001B[39m\u001B[38;5;124mTXT\u001B[39m\u001B[38;5;124m\"\u001B[39m]\u001B[38;5;241m.\u001B[39mswifter\u001B[38;5;241m.\u001B[39mapply(check_for_sdg)\n\u001B[1;32m      5\u001B[0m     \u001B[38;5;28;01mreturn\u001B[39;00m df\n",
      "File \u001B[0;32m~/anaconda3/envs/DS/lib/python3.8/site-packages/pandas/core/indexing.py:716\u001B[0m, in \u001B[0;36m_LocationIndexer.__setitem__\u001B[0;34m(self, key, value)\u001B[0m\n\u001B[1;32m    713\u001B[0m \u001B[38;5;28mself\u001B[39m\u001B[38;5;241m.\u001B[39m_has_valid_setitem_indexer(key)\n\u001B[1;32m    715\u001B[0m iloc \u001B[38;5;241m=\u001B[39m \u001B[38;5;28mself\u001B[39m \u001B[38;5;28;01mif\u001B[39;00m \u001B[38;5;28mself\u001B[39m\u001B[38;5;241m.\u001B[39mname \u001B[38;5;241m==\u001B[39m \u001B[38;5;124m\"\u001B[39m\u001B[38;5;124miloc\u001B[39m\u001B[38;5;124m\"\u001B[39m \u001B[38;5;28;01melse\u001B[39;00m \u001B[38;5;28mself\u001B[39m\u001B[38;5;241m.\u001B[39mobj\u001B[38;5;241m.\u001B[39miloc\n\u001B[0;32m--> 716\u001B[0m \u001B[43miloc\u001B[49m\u001B[38;5;241;43m.\u001B[39;49m\u001B[43m_setitem_with_indexer\u001B[49m\u001B[43m(\u001B[49m\u001B[43mindexer\u001B[49m\u001B[43m,\u001B[49m\u001B[43m \u001B[49m\u001B[43mvalue\u001B[49m\u001B[43m,\u001B[49m\u001B[43m \u001B[49m\u001B[38;5;28;43mself\u001B[39;49m\u001B[38;5;241;43m.\u001B[39;49m\u001B[43mname\u001B[49m\u001B[43m)\u001B[49m\n",
      "File \u001B[0;32m~/anaconda3/envs/DS/lib/python3.8/site-packages/pandas/core/indexing.py:1647\u001B[0m, in \u001B[0;36m_iLocIndexer._setitem_with_indexer\u001B[0;34m(self, indexer, value, name)\u001B[0m\n\u001B[1;32m   1642\u001B[0m         \u001B[38;5;28mself\u001B[39m\u001B[38;5;241m.\u001B[39mobj[key] \u001B[38;5;241m=\u001B[39m infer_fill_value(value)\n\u001B[1;32m   1644\u001B[0m     new_indexer \u001B[38;5;241m=\u001B[39m convert_from_missing_indexer_tuple(\n\u001B[1;32m   1645\u001B[0m         indexer, \u001B[38;5;28mself\u001B[39m\u001B[38;5;241m.\u001B[39mobj\u001B[38;5;241m.\u001B[39maxes\n\u001B[1;32m   1646\u001B[0m     )\n\u001B[0;32m-> 1647\u001B[0m     \u001B[38;5;28;43mself\u001B[39;49m\u001B[38;5;241;43m.\u001B[39;49m\u001B[43m_setitem_with_indexer\u001B[49m\u001B[43m(\u001B[49m\u001B[43mnew_indexer\u001B[49m\u001B[43m,\u001B[49m\u001B[43m \u001B[49m\u001B[43mvalue\u001B[49m\u001B[43m,\u001B[49m\u001B[43m \u001B[49m\u001B[43mname\u001B[49m\u001B[43m)\u001B[49m\n\u001B[1;32m   1649\u001B[0m     \u001B[38;5;28;01mreturn\u001B[39;00m\n\u001B[1;32m   1651\u001B[0m \u001B[38;5;66;03m# reindex the axis\u001B[39;00m\n\u001B[1;32m   1652\u001B[0m \u001B[38;5;66;03m# make sure to clear the cache because we are\u001B[39;00m\n\u001B[1;32m   1653\u001B[0m \u001B[38;5;66;03m# just replacing the block manager here\u001B[39;00m\n\u001B[1;32m   1654\u001B[0m \u001B[38;5;66;03m# so the object is the same\u001B[39;00m\n",
      "File \u001B[0;32m~/anaconda3/envs/DS/lib/python3.8/site-packages/pandas/core/indexing.py:1688\u001B[0m, in \u001B[0;36m_iLocIndexer._setitem_with_indexer\u001B[0;34m(self, indexer, value, name)\u001B[0m\n\u001B[1;32m   1685\u001B[0m \u001B[38;5;66;03m# align and set the values\u001B[39;00m\n\u001B[1;32m   1686\u001B[0m \u001B[38;5;28;01mif\u001B[39;00m take_split_path:\n\u001B[1;32m   1687\u001B[0m     \u001B[38;5;66;03m# We have to operate column-wise\u001B[39;00m\n\u001B[0;32m-> 1688\u001B[0m     \u001B[38;5;28;43mself\u001B[39;49m\u001B[38;5;241;43m.\u001B[39;49m\u001B[43m_setitem_with_indexer_split_path\u001B[49m\u001B[43m(\u001B[49m\u001B[43mindexer\u001B[49m\u001B[43m,\u001B[49m\u001B[43m \u001B[49m\u001B[43mvalue\u001B[49m\u001B[43m,\u001B[49m\u001B[43m \u001B[49m\u001B[43mname\u001B[49m\u001B[43m)\u001B[49m\n\u001B[1;32m   1689\u001B[0m \u001B[38;5;28;01melse\u001B[39;00m:\n\u001B[1;32m   1690\u001B[0m     \u001B[38;5;28mself\u001B[39m\u001B[38;5;241m.\u001B[39m_setitem_single_block(indexer, value, name)\n",
      "File \u001B[0;32m~/anaconda3/envs/DS/lib/python3.8/site-packages/pandas/core/indexing.py:1709\u001B[0m, in \u001B[0;36m_iLocIndexer._setitem_with_indexer_split_path\u001B[0;34m(self, indexer, value, name)\u001B[0m\n\u001B[1;32m   1706\u001B[0m \u001B[38;5;28;01mif\u001B[39;00m (\u001B[38;5;28misinstance\u001B[39m(value, ABCSeries) \u001B[38;5;129;01mand\u001B[39;00m name \u001B[38;5;241m!=\u001B[39m \u001B[38;5;124m\"\u001B[39m\u001B[38;5;124miloc\u001B[39m\u001B[38;5;124m\"\u001B[39m) \u001B[38;5;129;01mor\u001B[39;00m \u001B[38;5;28misinstance\u001B[39m(value, \u001B[38;5;28mdict\u001B[39m):\n\u001B[1;32m   1707\u001B[0m     \u001B[38;5;28;01mfrom\u001B[39;00m \u001B[38;5;21;01mpandas\u001B[39;00m \u001B[38;5;28;01mimport\u001B[39;00m Series\n\u001B[0;32m-> 1709\u001B[0m     value \u001B[38;5;241m=\u001B[39m \u001B[38;5;28;43mself\u001B[39;49m\u001B[38;5;241;43m.\u001B[39;49m\u001B[43m_align_series\u001B[49m\u001B[43m(\u001B[49m\u001B[43mindexer\u001B[49m\u001B[43m,\u001B[49m\u001B[43m \u001B[49m\u001B[43mSeries\u001B[49m\u001B[43m(\u001B[49m\u001B[43mvalue\u001B[49m\u001B[43m)\u001B[49m\u001B[43m)\u001B[49m\n\u001B[1;32m   1711\u001B[0m \u001B[38;5;66;03m# Ensure we have something we can iterate over\u001B[39;00m\n\u001B[1;32m   1712\u001B[0m info_axis \u001B[38;5;241m=\u001B[39m indexer[\u001B[38;5;241m1\u001B[39m]\n",
      "File \u001B[0;32m~/anaconda3/envs/DS/lib/python3.8/site-packages/pandas/core/indexing.py:2119\u001B[0m, in \u001B[0;36m_iLocIndexer._align_series\u001B[0;34m(self, indexer, ser, multiindex_indexer)\u001B[0m\n\u001B[1;32m   2116\u001B[0m     \u001B[38;5;28;01mif\u001B[39;00m ser\u001B[38;5;241m.\u001B[39mindex\u001B[38;5;241m.\u001B[39mequals(new_ix) \u001B[38;5;129;01mor\u001B[39;00m \u001B[38;5;129;01mnot\u001B[39;00m \u001B[38;5;28mlen\u001B[39m(new_ix):\n\u001B[1;32m   2117\u001B[0m         \u001B[38;5;28;01mreturn\u001B[39;00m ser\u001B[38;5;241m.\u001B[39m_values\u001B[38;5;241m.\u001B[39mcopy()\n\u001B[0;32m-> 2119\u001B[0m     \u001B[38;5;28;01mreturn\u001B[39;00m \u001B[43mser\u001B[49m\u001B[38;5;241;43m.\u001B[39;49m\u001B[43mreindex\u001B[49m\u001B[43m(\u001B[49m\u001B[43mnew_ix\u001B[49m\u001B[43m)\u001B[49m\u001B[38;5;241m.\u001B[39m_values\n\u001B[1;32m   2121\u001B[0m \u001B[38;5;66;03m# 2 dims\u001B[39;00m\n\u001B[1;32m   2122\u001B[0m \u001B[38;5;28;01melif\u001B[39;00m single_aligner:\n\u001B[1;32m   2123\u001B[0m \n\u001B[1;32m   2124\u001B[0m     \u001B[38;5;66;03m# reindex along index\u001B[39;00m\n",
      "File \u001B[0;32m~/anaconda3/envs/DS/lib/python3.8/site-packages/pandas/core/series.py:4672\u001B[0m, in \u001B[0;36mSeries.reindex\u001B[0;34m(self, *args, **kwargs)\u001B[0m\n\u001B[1;32m   4668\u001B[0m         \u001B[38;5;28;01mraise\u001B[39;00m \u001B[38;5;167;01mTypeError\u001B[39;00m(\n\u001B[1;32m   4669\u001B[0m             \u001B[38;5;124m\"\u001B[39m\u001B[38;5;124m'\u001B[39m\u001B[38;5;124mindex\u001B[39m\u001B[38;5;124m'\u001B[39m\u001B[38;5;124m passed as both positional and keyword argument\u001B[39m\u001B[38;5;124m\"\u001B[39m\n\u001B[1;32m   4670\u001B[0m         )\n\u001B[1;32m   4671\u001B[0m     kwargs\u001B[38;5;241m.\u001B[39mupdate({\u001B[38;5;124m\"\u001B[39m\u001B[38;5;124mindex\u001B[39m\u001B[38;5;124m\"\u001B[39m: index})\n\u001B[0;32m-> 4672\u001B[0m \u001B[38;5;28;01mreturn\u001B[39;00m \u001B[38;5;28;43msuper\u001B[39;49m\u001B[43m(\u001B[49m\u001B[43m)\u001B[49m\u001B[38;5;241;43m.\u001B[39;49m\u001B[43mreindex\u001B[49m\u001B[43m(\u001B[49m\u001B[38;5;241;43m*\u001B[39;49m\u001B[38;5;241;43m*\u001B[39;49m\u001B[43mkwargs\u001B[49m\u001B[43m)\u001B[49m\n",
      "File \u001B[0;32m~/anaconda3/envs/DS/lib/python3.8/site-packages/pandas/core/generic.py:4966\u001B[0m, in \u001B[0;36mNDFrame.reindex\u001B[0;34m(self, *args, **kwargs)\u001B[0m\n\u001B[1;32m   4963\u001B[0m     \u001B[38;5;28;01mreturn\u001B[39;00m \u001B[38;5;28mself\u001B[39m\u001B[38;5;241m.\u001B[39m_reindex_multi(axes, copy, fill_value)\n\u001B[1;32m   4965\u001B[0m \u001B[38;5;66;03m# perform the reindex on the axes\u001B[39;00m\n\u001B[0;32m-> 4966\u001B[0m \u001B[38;5;28;01mreturn\u001B[39;00m \u001B[38;5;28;43mself\u001B[39;49m\u001B[38;5;241;43m.\u001B[39;49m\u001B[43m_reindex_axes\u001B[49m\u001B[43m(\u001B[49m\n\u001B[1;32m   4967\u001B[0m \u001B[43m    \u001B[49m\u001B[43maxes\u001B[49m\u001B[43m,\u001B[49m\u001B[43m \u001B[49m\u001B[43mlevel\u001B[49m\u001B[43m,\u001B[49m\u001B[43m \u001B[49m\u001B[43mlimit\u001B[49m\u001B[43m,\u001B[49m\u001B[43m \u001B[49m\u001B[43mtolerance\u001B[49m\u001B[43m,\u001B[49m\u001B[43m \u001B[49m\u001B[43mmethod\u001B[49m\u001B[43m,\u001B[49m\u001B[43m \u001B[49m\u001B[43mfill_value\u001B[49m\u001B[43m,\u001B[49m\u001B[43m \u001B[49m\u001B[43mcopy\u001B[49m\n\u001B[1;32m   4968\u001B[0m \u001B[43m\u001B[49m\u001B[43m)\u001B[49m\u001B[38;5;241m.\u001B[39m__finalize__(\u001B[38;5;28mself\u001B[39m, method\u001B[38;5;241m=\u001B[39m\u001B[38;5;124m\"\u001B[39m\u001B[38;5;124mreindex\u001B[39m\u001B[38;5;124m\"\u001B[39m)\n",
      "File \u001B[0;32m~/anaconda3/envs/DS/lib/python3.8/site-packages/pandas/core/generic.py:4986\u001B[0m, in \u001B[0;36mNDFrame._reindex_axes\u001B[0;34m(self, axes, level, limit, tolerance, method, fill_value, copy)\u001B[0m\n\u001B[1;32m   4981\u001B[0m new_index, indexer \u001B[38;5;241m=\u001B[39m ax\u001B[38;5;241m.\u001B[39mreindex(\n\u001B[1;32m   4982\u001B[0m     labels, level\u001B[38;5;241m=\u001B[39mlevel, limit\u001B[38;5;241m=\u001B[39mlimit, tolerance\u001B[38;5;241m=\u001B[39mtolerance, method\u001B[38;5;241m=\u001B[39mmethod\n\u001B[1;32m   4983\u001B[0m )\n\u001B[1;32m   4985\u001B[0m axis \u001B[38;5;241m=\u001B[39m \u001B[38;5;28mself\u001B[39m\u001B[38;5;241m.\u001B[39m_get_axis_number(a)\n\u001B[0;32m-> 4986\u001B[0m obj \u001B[38;5;241m=\u001B[39m \u001B[43mobj\u001B[49m\u001B[38;5;241;43m.\u001B[39;49m\u001B[43m_reindex_with_indexers\u001B[49m\u001B[43m(\u001B[49m\n\u001B[1;32m   4987\u001B[0m \u001B[43m    \u001B[49m\u001B[43m{\u001B[49m\u001B[43maxis\u001B[49m\u001B[43m:\u001B[49m\u001B[43m \u001B[49m\u001B[43m[\u001B[49m\u001B[43mnew_index\u001B[49m\u001B[43m,\u001B[49m\u001B[43m \u001B[49m\u001B[43mindexer\u001B[49m\u001B[43m]\u001B[49m\u001B[43m}\u001B[49m\u001B[43m,\u001B[49m\n\u001B[1;32m   4988\u001B[0m \u001B[43m    \u001B[49m\u001B[43mfill_value\u001B[49m\u001B[38;5;241;43m=\u001B[39;49m\u001B[43mfill_value\u001B[49m\u001B[43m,\u001B[49m\n\u001B[1;32m   4989\u001B[0m \u001B[43m    \u001B[49m\u001B[43mcopy\u001B[49m\u001B[38;5;241;43m=\u001B[39;49m\u001B[43mcopy\u001B[49m\u001B[43m,\u001B[49m\n\u001B[1;32m   4990\u001B[0m \u001B[43m    \u001B[49m\u001B[43mallow_dups\u001B[49m\u001B[38;5;241;43m=\u001B[39;49m\u001B[38;5;28;43;01mFalse\u001B[39;49;00m\u001B[43m,\u001B[49m\n\u001B[1;32m   4991\u001B[0m \u001B[43m\u001B[49m\u001B[43m)\u001B[49m\n\u001B[1;32m   4992\u001B[0m \u001B[38;5;66;03m# If we've made a copy once, no need to make another one\u001B[39;00m\n\u001B[1;32m   4993\u001B[0m copy \u001B[38;5;241m=\u001B[39m \u001B[38;5;28;01mFalse\u001B[39;00m\n",
      "File \u001B[0;32m~/anaconda3/envs/DS/lib/python3.8/site-packages/pandas/core/generic.py:5032\u001B[0m, in \u001B[0;36mNDFrame._reindex_with_indexers\u001B[0;34m(self, reindexers, fill_value, copy, allow_dups)\u001B[0m\n\u001B[1;32m   5029\u001B[0m     indexer \u001B[38;5;241m=\u001B[39m ensure_platform_int(indexer)\n\u001B[1;32m   5031\u001B[0m \u001B[38;5;66;03m# TODO: speed up on homogeneous DataFrame objects (see _reindex_multi)\u001B[39;00m\n\u001B[0;32m-> 5032\u001B[0m new_data \u001B[38;5;241m=\u001B[39m \u001B[43mnew_data\u001B[49m\u001B[38;5;241;43m.\u001B[39;49m\u001B[43mreindex_indexer\u001B[49m\u001B[43m(\u001B[49m\n\u001B[1;32m   5033\u001B[0m \u001B[43m    \u001B[49m\u001B[43mindex\u001B[49m\u001B[43m,\u001B[49m\n\u001B[1;32m   5034\u001B[0m \u001B[43m    \u001B[49m\u001B[43mindexer\u001B[49m\u001B[43m,\u001B[49m\n\u001B[1;32m   5035\u001B[0m \u001B[43m    \u001B[49m\u001B[43maxis\u001B[49m\u001B[38;5;241;43m=\u001B[39;49m\u001B[43mbaxis\u001B[49m\u001B[43m,\u001B[49m\n\u001B[1;32m   5036\u001B[0m \u001B[43m    \u001B[49m\u001B[43mfill_value\u001B[49m\u001B[38;5;241;43m=\u001B[39;49m\u001B[43mfill_value\u001B[49m\u001B[43m,\u001B[49m\n\u001B[1;32m   5037\u001B[0m \u001B[43m    \u001B[49m\u001B[43mallow_dups\u001B[49m\u001B[38;5;241;43m=\u001B[39;49m\u001B[43mallow_dups\u001B[49m\u001B[43m,\u001B[49m\n\u001B[1;32m   5038\u001B[0m \u001B[43m    \u001B[49m\u001B[43mcopy\u001B[49m\u001B[38;5;241;43m=\u001B[39;49m\u001B[43mcopy\u001B[49m\u001B[43m,\u001B[49m\n\u001B[1;32m   5039\u001B[0m \u001B[43m\u001B[49m\u001B[43m)\u001B[49m\n\u001B[1;32m   5040\u001B[0m \u001B[38;5;66;03m# If we've made a copy once, no need to make another one\u001B[39;00m\n\u001B[1;32m   5041\u001B[0m copy \u001B[38;5;241m=\u001B[39m \u001B[38;5;28;01mFalse\u001B[39;00m\n",
      "File \u001B[0;32m~/anaconda3/envs/DS/lib/python3.8/site-packages/pandas/core/internals/managers.py:679\u001B[0m, in \u001B[0;36mBaseBlockManager.reindex_indexer\u001B[0;34m(self, new_axis, indexer, axis, fill_value, allow_dups, copy, consolidate, only_slice, use_na_proxy)\u001B[0m\n\u001B[1;32m    677\u001B[0m \u001B[38;5;66;03m# some axes don't allow reindexing with dups\u001B[39;00m\n\u001B[1;32m    678\u001B[0m \u001B[38;5;28;01mif\u001B[39;00m \u001B[38;5;129;01mnot\u001B[39;00m allow_dups:\n\u001B[0;32m--> 679\u001B[0m     \u001B[38;5;28;43mself\u001B[39;49m\u001B[38;5;241;43m.\u001B[39;49m\u001B[43maxes\u001B[49m\u001B[43m[\u001B[49m\u001B[43maxis\u001B[49m\u001B[43m]\u001B[49m\u001B[38;5;241;43m.\u001B[39;49m\u001B[43m_validate_can_reindex\u001B[49m\u001B[43m(\u001B[49m\u001B[43mindexer\u001B[49m\u001B[43m)\u001B[49m\n\u001B[1;32m    681\u001B[0m \u001B[38;5;28;01mif\u001B[39;00m axis \u001B[38;5;241m>\u001B[39m\u001B[38;5;241m=\u001B[39m \u001B[38;5;28mself\u001B[39m\u001B[38;5;241m.\u001B[39mndim:\n\u001B[1;32m    682\u001B[0m     \u001B[38;5;28;01mraise\u001B[39;00m \u001B[38;5;167;01mIndexError\u001B[39;00m(\u001B[38;5;124m\"\u001B[39m\u001B[38;5;124mRequested axis not found in manager\u001B[39m\u001B[38;5;124m\"\u001B[39m)\n",
      "File \u001B[0;32m~/anaconda3/envs/DS/lib/python3.8/site-packages/pandas/core/indexes/base.py:4107\u001B[0m, in \u001B[0;36mIndex._validate_can_reindex\u001B[0;34m(self, indexer)\u001B[0m\n\u001B[1;32m   4105\u001B[0m \u001B[38;5;66;03m# trying to reindex on an axis with duplicates\u001B[39;00m\n\u001B[1;32m   4106\u001B[0m \u001B[38;5;28;01mif\u001B[39;00m \u001B[38;5;129;01mnot\u001B[39;00m \u001B[38;5;28mself\u001B[39m\u001B[38;5;241m.\u001B[39m_index_as_unique \u001B[38;5;129;01mand\u001B[39;00m \u001B[38;5;28mlen\u001B[39m(indexer):\n\u001B[0;32m-> 4107\u001B[0m     \u001B[38;5;28;01mraise\u001B[39;00m \u001B[38;5;167;01mValueError\u001B[39;00m(\u001B[38;5;124m\"\u001B[39m\u001B[38;5;124mcannot reindex on an axis with duplicate labels\u001B[39m\u001B[38;5;124m\"\u001B[39m)\n",
      "\u001B[0;31mValueError\u001B[0m: cannot reindex on an axis with duplicate labels"
     ]
    }
   ],
   "source": [
    "df_test = annotate_sdg(df_dt)"
   ],
   "metadata": {
    "collapsed": false
   }
  },
  {
   "cell_type": "code",
   "execution_count": 21,
   "outputs": [
    {
     "name": "stdout",
     "output_type": "stream",
     "text": [
      "Afforestation, reforestation and new challenges from COVID-19: Thirty-three recommendations to support civil society organizations (CSOs)\n",
      "Deforestation and forest degradation; Real-time forest monitoring and management; Sustainable development goals (SDGs); Planting trees with drones; International non-governmental organizations; (INGOs); Impacts of COVID-19 on forests\n",
      "\n",
      "Afforestation/reforestation (A/R) programs spearheaded by Civil Society Organizations (CSOs) play a significant role in reaching global climate policy targets and helping low-income nations meet the United Nations (UN) Sustainable Development Goals (SDGs). However, these organizations face unprecedented challenges due to the COVID-19 pandemic. Consequently, these challenges affect their ability to address issues associated with deforestation and forest degradation in a timely manner. We discuss the influence COVID-19 can have on previous, present and future A/R initiatives, in particular, the ones led by International Non-governmental Organizations (INGOs). We provide thirty-three recommendations for exploring underlying deforestation patterns and optimizing forest policy reforms to support forest cover expansion during the pandemic. The recommendations are classified into four groups - i) curbing deforestation and improving A/R, ii) protecting the environment and mitigating climate change, iii) enhancing socio-economic conditions, and iv) amending policy and law enforcement practices.\n",
      "----\n",
      "\n",
      "SDG3\n",
      "SDG13\n",
      "SDG13\n",
      "SDG13\n",
      "SDG15\n",
      "SDG15\n",
      "SDG15\n",
      "SDG15\n",
      "SDG17\n",
      "How Prior Knowledge Affects Visual Attention of Japanese Mimicry and Onomatopoeia and Learning Outcomes: Evidence from Virtual Reality Eye Tracking\n",
      "education for sustainable development; eye tracking; virtual reality; mimicry and onomatopoeia; prior knowledge; visual attention\n",
      "\n",
      "According to the United Nations Sustainable Development Goal (SDG) 4, \"achieving inclusive and quality education for all \", foreign language learning has come to be seen as a process of integrating sustainable development into the socio-cultural aspects of education and learning. The aim of this study was to employ virtual reality (VR) eye tracker to examine how students with different levels of prior knowledge process visual behaviors for Japanese Mimicry and Onomatopoeia (MIO) while learning Japanese as a second foreign language. A total of 20 students studying at the Department of Applied Japanese at the university of Southern Taiwan were recruited. Based on the Japanese language proficiency test (JLPT) level, 20 participants were divided into high prior knowledge group (levels N1-N3) with 7 participants, and low prior knowledge group (level N4 or below) with 13 participants. The learning stimuli materials were created by Unreal Engine 4 (UE4) development tool to design a 3D virtual MIO paradise, including 5 theme amusement parks. Through a VR eye tracker, participants' visual behaviors were tracked and recorded based on 24 different regions of interest (ROIs) (i.e., ROI1-ROI24). This was done to discuss the distribution of visual attention in terms of different ROIs of each theme amusement park based on four eye movement indicators, including latency of first fixation (LFF), duration of first fixation (DFF), total fixation durations (TFD), and fixation counts (FC). Each ROI of the two groups were then compared. In addition, a heat zone map was also generated to show the overall visual distribution of each group. After the experiment, based on the eye movement indicators and test scores in the pre-test and post-test phases, statistical analysis was used to examine and evaluate the differences in visual attention and learning outcomes. The results revealed that the gaze sequences of the two prior knowledge groups gazing at the ROIs in theme parks were different, except for the gaze sequence in the circus theme park. Different prior knowledge groups exhibited differences in visual attention in the ROIs fixated on in each amusement park. Additionally, in terms of TFD and FC of different groups in each amusement park, there was no significant difference except in ROI10, ROI16, and ROI18. Moreover, after receiving cognitive comprehension processes introduced in the VR-simulated MIO scenes, students from both groups achieved higher post-test scores compared with pre-test scores, and such differences had statistical significance. In conclusion, the implications of VR eye movement analysis on developing students' competence related to learning Japanese and cross-cultural aspects, compatible with sustainable development, were presented.\n",
      "----\n",
      "\n",
      "SDG4\n",
      "SDG4\n",
      "Visualizing Sustainability Research in Business and Management (1990-2019) and Emerging Topics: A Large-Scale Bibliometric Analysis\n",
      "sustainability; big data; bibliometric analysis; information management; science visualization; CiteSpace\n",
      "\n",
      "While researchers from many disciplines are increasingly interested in studying issues related to sustainability, few studies have presented a holistic view of sustainability from the perspectives of business and management. This bibliometric study quantitatively analyzed a big data set of 30 years of sustainability research (1990-2019), consisting of 37,322 publications and 1,199,398 cited references, visualizing major topics, dynamic evolution, and emerging development. The decade-by-decade in-depth analysis shows a clear shift from a nearly exclusive focus on economic growth and consumption to all three pillars of sustainability, i.e., economic growth, social development, and environmental protection. Highlighting the differences between United Nations' Sustainable Development Goals and the popular research topics from academia, our analysis uncovers research gaps and suggests future research directions for sustainability researchers and practitioners.\n",
      "----\n",
      "\n",
      "Big Data and the United Nations Sustainable Development Goals (UN SDGs) at a Glance\n",
      "Big Data; UN SDGs; sustainable development; trends; applications; challenges\n",
      "\n",
      "The launch of the United Nations (UN) 17 Sustainable Development Goals (SDGs) in 2015 was a historic event, uniting countries around the world around the shared agenda of sustainable development with a more balanced relationship between human beings and the planet. The SDGs affect or impact almost all aspects of life, as indeed does the technological revolution, empowered by Big Data and their related technologies. It is inevitable that these two significant domains and their integration will play central roles in achieving the 2030 Agenda. This research aims to provide a comprehensive overview of how these domains are currently interacting, by illustrating the impact of Big Data on sustainable development in the context of each of the 17 UN SDGs.\n",
      "----\n",
      "\n",
      "Sustainable Development of Enterprises in Conditions of Smart Ecology: Analysis of The Main Problems and Development of Ways to Solve Them, Based on Artificial Intelligence Methods and Innovative Technologies\n",
      "sustainable development; smart ecology; expert systems; sustainable development issues; artificial intelligence\n",
      "\n",
      "Relevance: Currently, the sustainability and profitability of any company is directly related to its interaction with the environment. In the 20th century it was believed that stable development is impossible, if the company focuses its production on the preservation and protection of the environment. Since the second half of the 20th century, ideas have been increasingly heard that sustainable economic development cannot be achieved at the expense of the predatory depletion of natural resources. The environmental agenda plays an important role in the ESG principles, largely formulated by UN Secretary-General Kofi Annan, reflected in Sustainable Development Goals 12-15, reflected in Resolution 70/1 - Transforming our world: the 2030 Agenda for Sustainable Development. Companies such as Tesla Motors, called \"green giants\", have proven by their experience and development dynamics that in today's environment a business that does not have a negative impact on the environment can be profitable and successful. Thus, modern trends in the development of the world economy determine the relevance of the present study, aimed at studying the new conditions of economic activity by enterprises - the conditions of smart ecology and development of recommendations for the effective transformation of enterprises under these conditions. The purpose of this study is to analyze and identify the main problems of sustainable development of enterprises in terms of preservation and protection of the environment - \"smart ecology\", and based on the formulated problems the authors have developed ways to overcome them. The subject of the study are managerial and other relationships arising during the implementation of innovative Smart projects by enterprises.Methods: In the process of analyzing the problems and developing ways to overcome them and the transition of enterprises to the conditions of smart ecology, the authors used methods of system analysis, methods of statistical analysis, methods of artificial intelligence.Results: The conducted analysis shows that in modern conditions of development of innovative technologies in Russia there is no unified approach to the process of effective management of breakthrough development projects. The analysis proposed the concept of SMART ecology and showed its importance for understanding the processes taking place in the modern world. Factors influencing the effectiveness of the implementation of innovative smart ecology projects have been identified. Methods that can be used during the implementation of these projects were proposed.\n",
      "----\n",
      "\n",
      "Augmented Reality and Mobile Devices: A Binominal Methodological Resource for Inclusive Education (SDG 4). An Example in Secondary Education\n",
      "augmented reality; mobile devices; education for sustainable development; sustainable development goals; SDG 4\n",
      "\n",
      "The rise of so-called emerging technologies is broadening the way in which students access information and in turn changing the way in which they can interact and the experiences to which they are exposed. Mobile devices are regarded as flexible tools that facilitate access to information in different formats and in any environment. For its part, Augmented Reality is a technique that, through mobile tools, can enhance the globalization of content and access to contextual information in various ways. Together, the globalization of mobile devices and Augmented Reality contribute to an inclusive, equitable, and quality education, as mentioned by the United Nations Educational, Scientific, and Cultural Organization (UNESCO) in goal four on Sustainable Development (Sustainable Development Goals 4 (SDG 4)). This article analyses the binomial Augmented Reality-mobile devices, and takes a conceptual approach to these technological environments, both the technique and the tool, in the context of quality education. To assess the potential of Augmented Reality-mobile devices as a methodological learning resource, a learning unit of Secondary Education is presented in the field of Technology, enriched with different materials related with Augmented Reality.\n",
      "----\n",
      "\n",
      "SDG4\n",
      "SDG4\n",
      "Next Generation Government - Hyperconnected, Smart and Augmented\n",
      "Hyperconnectivity; Smart government; Augmented government; Collaborative networks; Post-New Public Management; Artificial intelligence\n",
      "\n",
      "Achieving the Sustainable Development Goals (SDG2030) requires that governments and their various institutions be more agile, collaborate across agency boundaries and national borders, and also develop specific capabilities. Some of the required capabilities are related to developing and sustaining governance networks, digitally transforming public service delivery, building resilience structures within government for crisis and disasters, and harnessing disruptive technologies for new solutions to hitherto unsolved problems. This paper highlights how the integration of hyper-connectivity, \"smartness\" and Artificial Intelligence adoption within the context of the recent Post-New Public Management (NPM) paradigms can generate new capabilities to strengthen government institutions towards achieving their relevant SDG goals.\n",
      "----\n",
      "\n",
      "From Sustainable Development Goals to Sustainable Cities: A Social Media Analysis for Policy-Making Decision\n",
      "tweets; engagement analysis; trends analysis; policy-making\n",
      "\n",
      "The United Nations (UN) adopted the seventeen \"Sustainable Development Goals\" (SDGs) in early September 2015. One of these goals is SDG 11, which refers to the sustainable cities and communities. In this context, local governments face the challenge of aligning with this objective. As a result, they are increasing outreach to their organizational boundaries to involve citizens in policy making and strategy development, continually listening to citizens' voices. One of the methods citizens use to express themselves is social media. This paper will emphasize social media platforms and specially Twitter to explore the public discourse about cities in the context of SDG 11. We applied descriptive quantitative and qualitative analysis to analyze the tweets that include terms and hashtags referring to the SDG 11. The data analysis process is composed of three major procedures: 1-Engagement analysis, 2-Trends based analysis and 3-Data Insights. Our results show that: 1-the COVID'19 pandemic negatively impacted users engagement towards SDG 11, 2-new technologies such AI and IoT are gaining more importance to help cities reach SDG 11, and 3-the SDGs are related and one SDG can impact other SDGs.\n",
      "----\n",
      "\n",
      "SDG11\n",
      "SMALL DATA AND SUSTAINABLE DEVELOPMENT-INDIVIDUALS AT THE CENTER OF DATA-DRIVEN SOCIETIES\n",
      "Small Data; Sustainable Development; Data Driven Development\n",
      "\n",
      "At the centre of data-driven societies are individuals and end-users who not only generate data, but also benefit from the outcomes of the data-driven development. Extensive work has been undertaken to understand and explore the challenges and potential impact of data, in particular Big Data, for the private as well as the public sectors. Similarly work has been undertaken within the domains of Personal Wormatics and life-logging, which has investigated the role of data, and specifically personal physical activity and health data towards improving the wellbeing of individuals. In this research we investigate the engagement of individuals in the use of data towards the achievement of the sustainable development imperatives as articulated in the 2030 Agenda for Sustainable Development. The paper presents: the awareness levels of the participants with regards to the Sustainable Development Goals; their attitudes and perceptions around monitoring of social indicators; key considerations associated with data ownership, privacy and confidentiality of data, as well as sharing of data within the data ecosystem. The paper subsequently discusses how these finding could inform the implementation of small data tools to support the active engagement of individuals in data-driven societies.\n",
      "----\n",
      "\n",
      "The value of network data confirmed by the Covid-19 epidemic and its expanded usages\n",
      "Crowd Analytics; Big Data; Social Good; Mobile Positioning Data\n",
      "\n",
      "Data driven analysis is proven to create a competitive advantage to business. Governments and nonprofit organizations also turn to Big Data to harness its benefits and use it for social good. Among different types of data sources, location data collected from mobile networks is especially valuable for its representativeness, real-time observation, and versatility. There is a distinction between mobile positioning data (MPD) generated by the exchanges between mobile devices and the core network; versus over-the-top or system-level location data collecting individual GPS location. MPD is composed of all mobile network events regardless of the mobile phone brand, operating system, app usage, frequency bands or mobile generation; it is uniform and ubiquitous. Getting the best out of MPD relies on the knowledge of how to create an advanced algorithm for homogeneously processing this massive, complex data into insightful indicators. Anonymized and aggregated MPD enables the testing of multiple combinations with other data sources, fully abiding by GDPR, to arrive at innovative solutions. These unique insights can help tackle societal challenges (the state of mobile data for social good June 2017 GSMA, UN Global pulse). It can help to establish accurate statistics about population movements, density, location, social patterns, finances, and ambient environmental conditions. This article demonstrates how MPD has been used to help combat Covid-19 in Europe, the Middle East, and Africa. Furthermore, depending on the future direction, MPD and data analysis can serve powering economic development as well as working toward the Sustainable Development Goals, whilst respecting data privacy.\n",
      "----\n",
      "\n",
      "SDG3\n",
      "SDG3\n"
     ]
    }
   ],
   "source": [
    "for i in range(10):\n",
    "    pub = df_dt.sample().iloc[0]\n",
    "    txt = pub.TI + \" \" + pub.DE + \" \" + pub.AB\n",
    "    print(pub.TI)\n",
    "    print(pub.DE)\n",
    "    print()\n",
    "    print(pub.AB)\n",
    "    print(\"----\\n\")\n",
    "    res = check_for_sdg(txt)\n",
    "    for elem in res:\n",
    "        print(elem[0])"
   ],
   "metadata": {
    "collapsed": false
   }
  },
  {
   "cell_type": "code",
   "execution_count": null,
   "outputs": [],
   "source": [
    "df_test"
   ],
   "metadata": {
    "collapsed": false
   }
  },
  {
   "cell_type": "code",
   "execution_count": null,
   "outputs": [],
   "source": [],
   "metadata": {
    "collapsed": false
   }
  }
 ],
 "metadata": {
  "kernelspec": {
   "display_name": "Python 3 (ipykernel)",
   "language": "python",
   "name": "python3"
  },
  "language_info": {
   "codemirror_mode": {
    "name": "ipython",
    "version": 3
   },
   "file_extension": ".py",
   "mimetype": "text/x-python",
   "name": "python",
   "nbconvert_exporter": "python",
   "pygments_lexer": "ipython3",
   "version": "3.8.13"
  }
 },
 "nbformat": 4,
 "nbformat_minor": 1
}
