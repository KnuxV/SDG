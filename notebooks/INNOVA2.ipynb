{
 "cells": [
  {
   "cell_type": "code",
   "execution_count": 1,
   "outputs": [],
   "source": [
    "import pandas as pd\n",
    "import os\n",
    "import numpy as np\n",
    "import matplotlib.pyplot as plt\n",
    "from matplotlib.collections import PatchCollection\n",
    "import plotly.graph_objects as go\n",
    "\n",
    "from plotly.subplots import make_subplots\n",
    "import plotly\n"
   ],
   "metadata": {
    "collapsed": false
   }
  },
  {
   "cell_type": "code",
   "execution_count": 5,
   "outputs": [],
   "source": [
    "df = pd.read_pickle(\"../data/dataframes/summary.pkl\")\n",
    "import plotly.express as px\n",
    "\n",
    "\n",
    "def plot_bubble_graph(df, size_circle=75, title = \"heatmap\", save=False, saveloc=None, resolution=(1920,1080)):\n",
    "    maxi = df.to_numpy().max()\n",
    "    size_circle = float(size_circle)\n",
    "    lst =[]\n",
    "    for i in range(len(df.index)):\n",
    "           for j in range(len(df.columns)):\n",
    "                  lst.append((i,j))\n",
    "\n",
    "\n",
    "    fig = go.Figure(data=[go.Scatter(\n",
    "           x = [elem[0] for elem in lst],\n",
    "           y = [elem[1] for elem in lst],\n",
    "           mode='markers',\n",
    "           marker=dict(\n",
    "                  color = [float(df.iloc[[elem[0]], elem[1]]) for elem in lst],\n",
    "                  size =  [float(df.iloc[[elem[0]], elem[1]])*size_circle/maxi for elem in lst],\n",
    "                  showscale=True\n",
    "           ),\n",
    "    )])\n",
    "\n",
    "    fig.update_layout(\n",
    "        template=\"simple_white\",\n",
    "        font=dict(size=18),\n",
    "        xaxis = dict(\n",
    "            tickmode = 'array',\n",
    "            tickvals = list(range(len(df.index))),\n",
    "            ticktext = list(df.index)\n",
    "        ),\n",
    "        yaxis = dict(\n",
    "            tickmode = 'array',\n",
    "            tickvals = list(range(len(df.columns))),\n",
    "            ticktext = list(df.columns)\n",
    "        ),\n",
    "        # title=title\n",
    "    )\n",
    "    if save:\n",
    "        if saveloc is None:\n",
    "            fig.write_image('../img/' + title + '.jpeg', width=resolution[0], height=resolution[1], scale=1)\n",
    "        else:\n",
    "            fig.write_image(saveloc + title + '.jpeg', width=resolution[0], height=resolution[1], scale=1)\n",
    "\n",
    "    return fig\n"
   ],
   "metadata": {
    "collapsed": false
   }
  },
  {
   "cell_type": "code",
   "execution_count": 6,
   "outputs": [
    {
     "data": {
      "text/plain": "         AI big_data   IOT computing_infrastructure blockchain robotics  \\\nSDG1    145       64    29                       13         17       28   \nSDG2    233       41    91                       50         21       71   \nSDG3   2997      472   574                      260        224      530   \nSDG4   1004      183   169                       77         19      217   \nSDG5    662      128    98                       73         10      218   \nSDG6   1989      214   434                      247         39      199   \nSDG7   3005     1484  5381                     2383        100      799   \nSDG8    440      167   228                      250         48      117   \nSDG9    565      323   483                      420         59      190   \nSDG10   423      147   118                       99         23       91   \nSDG11  3010     1011  1132                      522         78      542   \nSDG12  1295      480   629                      394         99      247   \nSDG13  5597     1219  1283                      853         96     1344   \nSDG14  1916      255   344                      206         14     1075   \nSDG15  1555      360   484                      233         86      405   \nSDG16  1540      299   300                      252        234      248   \nSDG17   591      249   283                      180         76      137   \n\n      additive_manufacturing  \nSDG1                      11  \nSDG2                       8  \nSDG3                     215  \nSDG4                      70  \nSDG5                      50  \nSDG6                     227  \nSDG7                     146  \nSDG8                     138  \nSDG9                     357  \nSDG10                     61  \nSDG11                    140  \nSDG12                    357  \nSDG13                    330  \nSDG14                    101  \nSDG15                    214  \nSDG16                     26  \nSDG17                     77  ",
      "text/html": "<div>\n<style scoped>\n    .dataframe tbody tr th:only-of-type {\n        vertical-align: middle;\n    }\n\n    .dataframe tbody tr th {\n        vertical-align: top;\n    }\n\n    .dataframe thead th {\n        text-align: right;\n    }\n</style>\n<table border=\"1\" class=\"dataframe\">\n  <thead>\n    <tr style=\"text-align: right;\">\n      <th></th>\n      <th>AI</th>\n      <th>big_data</th>\n      <th>IOT</th>\n      <th>computing_infrastructure</th>\n      <th>blockchain</th>\n      <th>robotics</th>\n      <th>additive_manufacturing</th>\n    </tr>\n  </thead>\n  <tbody>\n    <tr>\n      <th>SDG1</th>\n      <td>145</td>\n      <td>64</td>\n      <td>29</td>\n      <td>13</td>\n      <td>17</td>\n      <td>28</td>\n      <td>11</td>\n    </tr>\n    <tr>\n      <th>SDG2</th>\n      <td>233</td>\n      <td>41</td>\n      <td>91</td>\n      <td>50</td>\n      <td>21</td>\n      <td>71</td>\n      <td>8</td>\n    </tr>\n    <tr>\n      <th>SDG3</th>\n      <td>2997</td>\n      <td>472</td>\n      <td>574</td>\n      <td>260</td>\n      <td>224</td>\n      <td>530</td>\n      <td>215</td>\n    </tr>\n    <tr>\n      <th>SDG4</th>\n      <td>1004</td>\n      <td>183</td>\n      <td>169</td>\n      <td>77</td>\n      <td>19</td>\n      <td>217</td>\n      <td>70</td>\n    </tr>\n    <tr>\n      <th>SDG5</th>\n      <td>662</td>\n      <td>128</td>\n      <td>98</td>\n      <td>73</td>\n      <td>10</td>\n      <td>218</td>\n      <td>50</td>\n    </tr>\n    <tr>\n      <th>SDG6</th>\n      <td>1989</td>\n      <td>214</td>\n      <td>434</td>\n      <td>247</td>\n      <td>39</td>\n      <td>199</td>\n      <td>227</td>\n    </tr>\n    <tr>\n      <th>SDG7</th>\n      <td>3005</td>\n      <td>1484</td>\n      <td>5381</td>\n      <td>2383</td>\n      <td>100</td>\n      <td>799</td>\n      <td>146</td>\n    </tr>\n    <tr>\n      <th>SDG8</th>\n      <td>440</td>\n      <td>167</td>\n      <td>228</td>\n      <td>250</td>\n      <td>48</td>\n      <td>117</td>\n      <td>138</td>\n    </tr>\n    <tr>\n      <th>SDG9</th>\n      <td>565</td>\n      <td>323</td>\n      <td>483</td>\n      <td>420</td>\n      <td>59</td>\n      <td>190</td>\n      <td>357</td>\n    </tr>\n    <tr>\n      <th>SDG10</th>\n      <td>423</td>\n      <td>147</td>\n      <td>118</td>\n      <td>99</td>\n      <td>23</td>\n      <td>91</td>\n      <td>61</td>\n    </tr>\n    <tr>\n      <th>SDG11</th>\n      <td>3010</td>\n      <td>1011</td>\n      <td>1132</td>\n      <td>522</td>\n      <td>78</td>\n      <td>542</td>\n      <td>140</td>\n    </tr>\n    <tr>\n      <th>SDG12</th>\n      <td>1295</td>\n      <td>480</td>\n      <td>629</td>\n      <td>394</td>\n      <td>99</td>\n      <td>247</td>\n      <td>357</td>\n    </tr>\n    <tr>\n      <th>SDG13</th>\n      <td>5597</td>\n      <td>1219</td>\n      <td>1283</td>\n      <td>853</td>\n      <td>96</td>\n      <td>1344</td>\n      <td>330</td>\n    </tr>\n    <tr>\n      <th>SDG14</th>\n      <td>1916</td>\n      <td>255</td>\n      <td>344</td>\n      <td>206</td>\n      <td>14</td>\n      <td>1075</td>\n      <td>101</td>\n    </tr>\n    <tr>\n      <th>SDG15</th>\n      <td>1555</td>\n      <td>360</td>\n      <td>484</td>\n      <td>233</td>\n      <td>86</td>\n      <td>405</td>\n      <td>214</td>\n    </tr>\n    <tr>\n      <th>SDG16</th>\n      <td>1540</td>\n      <td>299</td>\n      <td>300</td>\n      <td>252</td>\n      <td>234</td>\n      <td>248</td>\n      <td>26</td>\n    </tr>\n    <tr>\n      <th>SDG17</th>\n      <td>591</td>\n      <td>249</td>\n      <td>283</td>\n      <td>180</td>\n      <td>76</td>\n      <td>137</td>\n      <td>77</td>\n    </tr>\n  </tbody>\n</table>\n</div>"
     },
     "execution_count": 6,
     "metadata": {},
     "output_type": "execute_result"
    }
   ],
   "source": [
    "df_summary_notot = df.drop(['total_ds', 'total_sdg', 'total_ds/sdg'], axis=1)\n",
    "df_summary_notot = df_summary_notot.drop(['total', 'percentage_ds'])\n",
    "df_summary_notot"
   ],
   "metadata": {
    "collapsed": false
   }
  },
  {
   "cell_type": "code",
   "execution_count": null,
   "outputs": [],
   "source": [
    "df_summary_notot = df_summary_notot.rename(columns={\"big_data\":\"Big Data\", \"computing_infrastructure\":\"Computing Infrastructure\", \"additive_manufacturing\":\"Additive Manufacturing\", \"robotics\":\"Robotics\", \"blockchain\":\"Blockchain\"})\n",
    "col = sorted(list(df_summary_notot.columns))\n",
    "col = [col[1]]+[col[0]]+col[2:]\n",
    "col = col[::-1]\n",
    "col\n"
   ],
   "metadata": {
    "collapsed": false
   }
  },
  {
   "cell_type": "code",
   "execution_count": null,
   "outputs": [],
   "source": [
    "df_summary_notot = df_summary_notot[col]\n"
   ],
   "metadata": {
    "collapsed": false
   }
  },
  {
   "cell_type": "code",
   "execution_count": null,
   "outputs": [],
   "source": [
    "fig = plot_bubble_graph(df_summary_notot, size_circle=75,\n",
    "                        title='',\n",
    "                        save=True,saveloc=\"../img/Commission/figure7\", resolution=(1280, 720))\n",
    "fig.show()"
   ],
   "metadata": {
    "collapsed": false
   }
  },
  {
   "cell_type": "code",
   "execution_count": null,
   "outputs": [],
   "source": [
    "df1 = df_summary_notot.copy()\n",
    "df1 = df1.transpose()\n",
    "df1['Society'] = df1.apply(lambda x:x['SDG1']+x['SDG2']+x['SDG3']+x['SDG4']+x['SDG5']+x['SDG6']+x['SDG7']+x['SDG11']+x['SDG16'], axis=1)\n",
    "df1['Economy'] = df1.apply(lambda x:x['SDG8']+x['SDG9']+x['SDG10']+x['SDG12']+x['SDG17'], axis=1)\n",
    "df1['Environment'] =  df1.apply(lambda x:x['SDG13']+x['SDG14']+x['SDG15'], axis=1)\n",
    "df1 = df1[['Society', 'Economy', 'Environment']].transpose()\n"
   ],
   "metadata": {
    "collapsed": false
   }
  },
  {
   "cell_type": "code",
   "execution_count": null,
   "outputs": [],
   "source": [
    "fig = plot_bubble_graph(df1, size_circle=70,  title='', saveloc=\"../img/Commission/figure8\",save=True, resolution=(1280,720))\n",
    "fig.show()"
   ],
   "metadata": {
    "collapsed": false
   }
  },
  {
   "cell_type": "markdown",
   "source": [
    "## Redoing graphs with fractional count"
   ],
   "metadata": {
    "collapsed": false
   }
  },
  {
   "cell_type": "code",
   "execution_count": 4,
   "outputs": [],
   "source": [
    "df_sdg = pd.read_pickle(\"../data/dataframes/SDG/all_sdg_fixed_dst.pkl\")\n",
    "df_digital = pd.read_pickle(\"../data/dataframes/DT/all_digital.pkl\")\n",
    "\n",
    "# Filtering for Journal only\n",
    "df_sdg = df_sdg[df_sdg.PT == 'J']\n",
    "df_digital = df_digital[df_digital.PT == 'J']"
   ],
   "metadata": {
    "collapsed": false
   }
  },
  {
   "cell_type": "code",
   "execution_count": 5,
   "outputs": [
    {
     "data": {
      "text/plain": "        PT                                            AU  \\\n0        J  Pauw, WP; Castro, P; Pickering, J; Bhasin, S   \n2        J          Hourcade, JC; Dasgupta, D; Ghersi, F   \n3        J                    Larionova, M; Safonkina, E   \n4        J   Kim, DH; Kim, DH; Lee, DH; Park, S; Kim, SI   \n5        J                                  Gnangnon, SK   \n...     ..                                           ...   \n1200657  J                                     Wagle, UR   \n1200661  J                          Yi, O; Kim, H; Ha, E   \n1200662  J                            Zhang, H; Smith, M   \n1200665  J              Zhou, YJ; Dominici, F; Louis, TA   \n1200666  J                                    Zoomers, A   \n\n                                                        TI  \\\n0        Conditional nationally determined contribution...   \n2        Accelerating the speed and scale of climate fi...   \n3        The First Five Decades of Cooperation for Deve...   \n4        Centralization of the Global REDD plus Financi...   \n5        Trade Openness and Diversification of External...   \n...                                                    ...   \n1200657  Income and Wealth Inequality in Nepal, 1996 an...   \n1200661  Does area level socioeconomic status modify th...   \n1200662  EXPOSURE TO GLOBAL MARKETS, INTERNAL LABOUR MA...   \n1200665  Racial disparities in risks of mortality in a ...   \n1200666  Globalisation and the foreignisation of space:...   \n\n                                                        SO  \\\n0                                           CLIMATE POLICY   \n2                                           CLIMATE POLICY   \n3        VESTNIK MEZHDUNARODNYKH ORGANIZATSII-INTERNATI...   \n4                                                  FORESTS   \n5        SOUTH ASIAN JOURNAL OF MACROECONOMICS AND PUBL...   \n...                                                    ...   \n1200657                       JOURNAL OF CONTEMPORARY ASIA   \n1200661                             ENVIRONMENTAL RESEARCH   \n1200662  CANADIAN JOURNAL OF SOCIOLOGY-CAHIERS CANADIEN...   \n1200665  JOURNAL OF THE ROYAL STATISTICAL SOCIETY SERIE...   \n1200666                         JOURNAL OF PEASANT STUDIES   \n\n                                                        DE  \\\n0        Nationally determined contributions; UNFCCC; c...   \n2        Climate finance; public guarantees; de-risking...   \n3        cooperation for development; United Nations; G...   \n4        REDD plus; Global Governance Network; global R...   \n5        Diversification of external financial flows fo...   \n...                                                    ...   \n1200657  Economic inequality; income; wealth; survey da...   \n1200661  Preterm delivery; PM10 concentration; Socioeco...   \n1200662  globalization; exporting; foreign ownership; c...   \n1200665  Hierarchical model; Markov chain Monte Carlo m...   \n1200666  globalisation; land grab; local development; e...   \n\n                                                        AB  \\\n0        The Paris Agreement's success depends on parti...   \n2        In this paper, we examine how to trigger a wav...   \n3        The sustainable development goals (SDGs) adopt...   \n4        With the institutionalization of reducing emis...   \n5        The implementation of sustainable development ...   \n...                                                    ...   \n1200657  Micro-data from national surveys indicate that...   \n1200661  Background: Air pollution has been one of the ...   \n1200662  In this paper we address two bodies of sociolo...   \n1200665  Racial disparities in risks of mortality adjus...   \n1200666  The current global land grab is causing radica...   \n\n                                                        C1  \\\n0        [Pauw, W. P.] Frankfurt Sch Finance & Manageme...   \n2        [Hourcade, Jean-Charles] CNRS, CIRED, EHESS, N...   \n3        [Larionova, M.; Safonkina, E.] Natl Econ & Pub...   \n4        [Kim, Do-hun; Kim, Dong-hwan; Park, Sunjoo; Ki...   \n5        [Gnangnon, Sena Kimm] World Trade Org, Rue Lau...   \n...                                                    ...   \n1200657  Western Michigan Univ, Sch Publ Affairs & Adm,...   \n1200661  [Yi, Okhee; Kim, Ho] Seoul Natl Univ, Dept Epi...   \n1200662  [Smith, Michael] McGill Univ, Montreal, PQ H3A...   \n1200665  [Zhou, Yijie] Merck Res Labs, Rahway, NJ 07065...   \n1200666      Univ Utrecht, NL-3508 TC Utrecht, Netherlands   \n\n                                                        EM   TC    PY  ...  \\\n0                                             p.pauw@fs.de   22  2020  ...   \n2                                   ghersi@centre-cired.fr    1  2021  ...   \n3           larionova-mv@ranepa.ru; safonkina-ea@ranepa.ru    3  2018  ...   \n4                                        seongil@snu.ac.kr    8  2019  ...   \n5                                       kgnangnon@yahoo.fr    2  2020  ...   \n...                                                    ...  ...   ...  ...   \n1200657                              udaya.wagle@wmich.edu    3  2010  ...   \n1200661                                    hokim@snu.ac.kr   33  2010  ...   \n1200662  heather.zhang@mail.mcgill.ca; michael.smith@mc...    0  2010  ...   \n1200665                               yijie_zhou@merck.com    1  2010  ...   \n1200666                                a.zoomers@geo.uu.nl  432  2010  ...   \n\n           IOT computing_infrastructure blockchain robotics  \\\n0        False                    False      False    False   \n2        False                    False      False    False   \n3        False                    False      False    False   \n4        False                    False      False    False   \n5        False                    False      False    False   \n...        ...                      ...        ...      ...   \n1200657  False                    False      False    False   \n1200661  False                    False      False    False   \n1200662  False                    False      False    False   \n1200665  False                    False      False    False   \n1200666  False                    False      False    False   \n\n        additive_manufacturing Society Economy Environment     EU    DST  \n0                        False    True    True       False   True  False  \n2                        False    True    True       False   True  False  \n3                        False    True    True       False  False  False  \n4                        False    True    True       False  False  False  \n5                        False   False    True       False   True  False  \n...                        ...     ...     ...         ...    ...    ...  \n1200657                  False    True   False       False  False  False  \n1200661                  False    True   False       False  False  False  \n1200662                  False    True   False       False  False  False  \n1200665                  False    True   False       False  False  False  \n1200666                  False    True   False       False   True  False  \n\n[1072858 rows x 42 columns]",
      "text/html": "<div>\n<style scoped>\n    .dataframe tbody tr th:only-of-type {\n        vertical-align: middle;\n    }\n\n    .dataframe tbody tr th {\n        vertical-align: top;\n    }\n\n    .dataframe thead th {\n        text-align: right;\n    }\n</style>\n<table border=\"1\" class=\"dataframe\">\n  <thead>\n    <tr style=\"text-align: right;\">\n      <th></th>\n      <th>PT</th>\n      <th>AU</th>\n      <th>TI</th>\n      <th>SO</th>\n      <th>DE</th>\n      <th>AB</th>\n      <th>C1</th>\n      <th>EM</th>\n      <th>TC</th>\n      <th>PY</th>\n      <th>...</th>\n      <th>IOT</th>\n      <th>computing_infrastructure</th>\n      <th>blockchain</th>\n      <th>robotics</th>\n      <th>additive_manufacturing</th>\n      <th>Society</th>\n      <th>Economy</th>\n      <th>Environment</th>\n      <th>EU</th>\n      <th>DST</th>\n    </tr>\n  </thead>\n  <tbody>\n    <tr>\n      <th>0</th>\n      <td>J</td>\n      <td>Pauw, WP; Castro, P; Pickering, J; Bhasin, S</td>\n      <td>Conditional nationally determined contribution...</td>\n      <td>CLIMATE POLICY</td>\n      <td>Nationally determined contributions; UNFCCC; c...</td>\n      <td>The Paris Agreement's success depends on parti...</td>\n      <td>[Pauw, W. P.] Frankfurt Sch Finance &amp; Manageme...</td>\n      <td>p.pauw@fs.de</td>\n      <td>22</td>\n      <td>2020</td>\n      <td>...</td>\n      <td>False</td>\n      <td>False</td>\n      <td>False</td>\n      <td>False</td>\n      <td>False</td>\n      <td>True</td>\n      <td>True</td>\n      <td>False</td>\n      <td>True</td>\n      <td>False</td>\n    </tr>\n    <tr>\n      <th>2</th>\n      <td>J</td>\n      <td>Hourcade, JC; Dasgupta, D; Ghersi, F</td>\n      <td>Accelerating the speed and scale of climate fi...</td>\n      <td>CLIMATE POLICY</td>\n      <td>Climate finance; public guarantees; de-risking...</td>\n      <td>In this paper, we examine how to trigger a wav...</td>\n      <td>[Hourcade, Jean-Charles] CNRS, CIRED, EHESS, N...</td>\n      <td>ghersi@centre-cired.fr</td>\n      <td>1</td>\n      <td>2021</td>\n      <td>...</td>\n      <td>False</td>\n      <td>False</td>\n      <td>False</td>\n      <td>False</td>\n      <td>False</td>\n      <td>True</td>\n      <td>True</td>\n      <td>False</td>\n      <td>True</td>\n      <td>False</td>\n    </tr>\n    <tr>\n      <th>3</th>\n      <td>J</td>\n      <td>Larionova, M; Safonkina, E</td>\n      <td>The First Five Decades of Cooperation for Deve...</td>\n      <td>VESTNIK MEZHDUNARODNYKH ORGANIZATSII-INTERNATI...</td>\n      <td>cooperation for development; United Nations; G...</td>\n      <td>The sustainable development goals (SDGs) adopt...</td>\n      <td>[Larionova, M.; Safonkina, E.] Natl Econ &amp; Pub...</td>\n      <td>larionova-mv@ranepa.ru; safonkina-ea@ranepa.ru</td>\n      <td>3</td>\n      <td>2018</td>\n      <td>...</td>\n      <td>False</td>\n      <td>False</td>\n      <td>False</td>\n      <td>False</td>\n      <td>False</td>\n      <td>True</td>\n      <td>True</td>\n      <td>False</td>\n      <td>False</td>\n      <td>False</td>\n    </tr>\n    <tr>\n      <th>4</th>\n      <td>J</td>\n      <td>Kim, DH; Kim, DH; Lee, DH; Park, S; Kim, SI</td>\n      <td>Centralization of the Global REDD plus Financi...</td>\n      <td>FORESTS</td>\n      <td>REDD plus; Global Governance Network; global R...</td>\n      <td>With the institutionalization of reducing emis...</td>\n      <td>[Kim, Do-hun; Kim, Dong-hwan; Park, Sunjoo; Ki...</td>\n      <td>seongil@snu.ac.kr</td>\n      <td>8</td>\n      <td>2019</td>\n      <td>...</td>\n      <td>False</td>\n      <td>False</td>\n      <td>False</td>\n      <td>False</td>\n      <td>False</td>\n      <td>True</td>\n      <td>True</td>\n      <td>False</td>\n      <td>False</td>\n      <td>False</td>\n    </tr>\n    <tr>\n      <th>5</th>\n      <td>J</td>\n      <td>Gnangnon, SK</td>\n      <td>Trade Openness and Diversification of External...</td>\n      <td>SOUTH ASIAN JOURNAL OF MACROECONOMICS AND PUBL...</td>\n      <td>Diversification of external financial flows fo...</td>\n      <td>The implementation of sustainable development ...</td>\n      <td>[Gnangnon, Sena Kimm] World Trade Org, Rue Lau...</td>\n      <td>kgnangnon@yahoo.fr</td>\n      <td>2</td>\n      <td>2020</td>\n      <td>...</td>\n      <td>False</td>\n      <td>False</td>\n      <td>False</td>\n      <td>False</td>\n      <td>False</td>\n      <td>False</td>\n      <td>True</td>\n      <td>False</td>\n      <td>True</td>\n      <td>False</td>\n    </tr>\n    <tr>\n      <th>...</th>\n      <td>...</td>\n      <td>...</td>\n      <td>...</td>\n      <td>...</td>\n      <td>...</td>\n      <td>...</td>\n      <td>...</td>\n      <td>...</td>\n      <td>...</td>\n      <td>...</td>\n      <td>...</td>\n      <td>...</td>\n      <td>...</td>\n      <td>...</td>\n      <td>...</td>\n      <td>...</td>\n      <td>...</td>\n      <td>...</td>\n      <td>...</td>\n      <td>...</td>\n      <td>...</td>\n    </tr>\n    <tr>\n      <th>1200657</th>\n      <td>J</td>\n      <td>Wagle, UR</td>\n      <td>Income and Wealth Inequality in Nepal, 1996 an...</td>\n      <td>JOURNAL OF CONTEMPORARY ASIA</td>\n      <td>Economic inequality; income; wealth; survey da...</td>\n      <td>Micro-data from national surveys indicate that...</td>\n      <td>Western Michigan Univ, Sch Publ Affairs &amp; Adm,...</td>\n      <td>udaya.wagle@wmich.edu</td>\n      <td>3</td>\n      <td>2010</td>\n      <td>...</td>\n      <td>False</td>\n      <td>False</td>\n      <td>False</td>\n      <td>False</td>\n      <td>False</td>\n      <td>True</td>\n      <td>False</td>\n      <td>False</td>\n      <td>False</td>\n      <td>False</td>\n    </tr>\n    <tr>\n      <th>1200661</th>\n      <td>J</td>\n      <td>Yi, O; Kim, H; Ha, E</td>\n      <td>Does area level socioeconomic status modify th...</td>\n      <td>ENVIRONMENTAL RESEARCH</td>\n      <td>Preterm delivery; PM10 concentration; Socioeco...</td>\n      <td>Background: Air pollution has been one of the ...</td>\n      <td>[Yi, Okhee; Kim, Ho] Seoul Natl Univ, Dept Epi...</td>\n      <td>hokim@snu.ac.kr</td>\n      <td>33</td>\n      <td>2010</td>\n      <td>...</td>\n      <td>False</td>\n      <td>False</td>\n      <td>False</td>\n      <td>False</td>\n      <td>False</td>\n      <td>True</td>\n      <td>False</td>\n      <td>False</td>\n      <td>False</td>\n      <td>False</td>\n    </tr>\n    <tr>\n      <th>1200662</th>\n      <td>J</td>\n      <td>Zhang, H; Smith, M</td>\n      <td>EXPOSURE TO GLOBAL MARKETS, INTERNAL LABOUR MA...</td>\n      <td>CANADIAN JOURNAL OF SOCIOLOGY-CAHIERS CANADIEN...</td>\n      <td>globalization; exporting; foreign ownership; c...</td>\n      <td>In this paper we address two bodies of sociolo...</td>\n      <td>[Smith, Michael] McGill Univ, Montreal, PQ H3A...</td>\n      <td>heather.zhang@mail.mcgill.ca; michael.smith@mc...</td>\n      <td>0</td>\n      <td>2010</td>\n      <td>...</td>\n      <td>False</td>\n      <td>False</td>\n      <td>False</td>\n      <td>False</td>\n      <td>False</td>\n      <td>True</td>\n      <td>False</td>\n      <td>False</td>\n      <td>False</td>\n      <td>False</td>\n    </tr>\n    <tr>\n      <th>1200665</th>\n      <td>J</td>\n      <td>Zhou, YJ; Dominici, F; Louis, TA</td>\n      <td>Racial disparities in risks of mortality in a ...</td>\n      <td>JOURNAL OF THE ROYAL STATISTICAL SOCIETY SERIE...</td>\n      <td>Hierarchical model; Markov chain Monte Carlo m...</td>\n      <td>Racial disparities in risks of mortality adjus...</td>\n      <td>[Zhou, Yijie] Merck Res Labs, Rahway, NJ 07065...</td>\n      <td>yijie_zhou@merck.com</td>\n      <td>1</td>\n      <td>2010</td>\n      <td>...</td>\n      <td>False</td>\n      <td>False</td>\n      <td>False</td>\n      <td>False</td>\n      <td>False</td>\n      <td>True</td>\n      <td>False</td>\n      <td>False</td>\n      <td>False</td>\n      <td>False</td>\n    </tr>\n    <tr>\n      <th>1200666</th>\n      <td>J</td>\n      <td>Zoomers, A</td>\n      <td>Globalisation and the foreignisation of space:...</td>\n      <td>JOURNAL OF PEASANT STUDIES</td>\n      <td>globalisation; land grab; local development; e...</td>\n      <td>The current global land grab is causing radica...</td>\n      <td>Univ Utrecht, NL-3508 TC Utrecht, Netherlands</td>\n      <td>a.zoomers@geo.uu.nl</td>\n      <td>432</td>\n      <td>2010</td>\n      <td>...</td>\n      <td>False</td>\n      <td>False</td>\n      <td>False</td>\n      <td>False</td>\n      <td>False</td>\n      <td>True</td>\n      <td>False</td>\n      <td>False</td>\n      <td>True</td>\n      <td>False</td>\n    </tr>\n  </tbody>\n</table>\n<p>1072858 rows × 42 columns</p>\n</div>"
     },
     "execution_count": 5,
     "metadata": {},
     "output_type": "execute_result"
    }
   ],
   "source": [
    "df_sdg"
   ],
   "metadata": {
    "collapsed": false
   }
  },
  {
   "cell_type": "code",
   "execution_count": 6,
   "outputs": [
    {
     "data": {
      "text/plain": "                   gdppc      pop2022           gdp\nCountry                                            \nLuxembourg      118001.0      647.599  7.641733e+07\nIreland          94392.0     5023.109  4.741413e+08\nSwitzerland      72874.0     8740.472  6.369532e+08\nNorway           65800.0     5434.319  3.575782e+08\nUnited States    63416.0   338289.857  2.145299e+10\nDenmark          58932.0     5882.261  3.466534e+08\nNetherlands      57534.0    17564.014  1.010528e+09\nAustria          55218.0     8939.617  4.936278e+08\nSweden           54146.0    10549.347  5.712049e+08\nGermany          54076.0    83369.843  4.508308e+09\nAustralia        51680.0    26177.413  1.352849e+09\nBelgium          51096.0    11655.930  5.955714e+08\nFinland          49853.0     5540.745  2.762228e+08\nCanada           48720.0    38454.327  1.873495e+09\nFrance           46062.0    64626.628  2.976832e+09\nSouth Korea      44621.0    51815.810  2.312073e+09\nUnited Kingdom   44117.0    67508.936  2.978292e+09\nMalta            42856.0      533.286  2.285450e+07\nJapan            42248.0   123951.692  5.236711e+09\nItaly            40861.0    59037.474  2.412330e+09\nCzech Republic   40618.0    10493.986  4.262447e+08\nIsrael           40547.0     9038.309  3.664763e+08\nCyprus           40107.0     1251.488  5.019343e+07\nSlovenia         40067.0     2119.844  8.493579e+07\nSpain            39121.0    47558.630  1.860541e+09\nEstonia          38834.0     1326.062  5.149629e+07\nLithuania        38824.0     2750.055  1.067681e+08\nPoland           34103.0    39857.145  1.359248e+09\nPortugal         34043.0    10270.865  3.496511e+08\nHungary          33030.0     9967.308  3.292202e+08\nSlovakia         32709.0     5643.453  1.845917e+08\nLatvia           31509.0     1850.651  5.831216e+07\nRomania          30526.0    19659.267  6.001188e+08\nGreece           28748.0    10384.971  2.985471e+08\nCroatia          27717.0     4030.358  1.117094e+08\nBulgaria         23817.0     6781.953  1.615258e+08\nChina            17192.0  1425887.337  2.451386e+10\nEU               44024.0   446800.000           NaN",
      "text/html": "<div>\n<style scoped>\n    .dataframe tbody tr th:only-of-type {\n        vertical-align: middle;\n    }\n\n    .dataframe tbody tr th {\n        vertical-align: top;\n    }\n\n    .dataframe thead th {\n        text-align: right;\n    }\n</style>\n<table border=\"1\" class=\"dataframe\">\n  <thead>\n    <tr style=\"text-align: right;\">\n      <th></th>\n      <th>gdppc</th>\n      <th>pop2022</th>\n      <th>gdp</th>\n    </tr>\n    <tr>\n      <th>Country</th>\n      <th></th>\n      <th></th>\n      <th></th>\n    </tr>\n  </thead>\n  <tbody>\n    <tr>\n      <th>Luxembourg</th>\n      <td>118001.0</td>\n      <td>647.599</td>\n      <td>7.641733e+07</td>\n    </tr>\n    <tr>\n      <th>Ireland</th>\n      <td>94392.0</td>\n      <td>5023.109</td>\n      <td>4.741413e+08</td>\n    </tr>\n    <tr>\n      <th>Switzerland</th>\n      <td>72874.0</td>\n      <td>8740.472</td>\n      <td>6.369532e+08</td>\n    </tr>\n    <tr>\n      <th>Norway</th>\n      <td>65800.0</td>\n      <td>5434.319</td>\n      <td>3.575782e+08</td>\n    </tr>\n    <tr>\n      <th>United States</th>\n      <td>63416.0</td>\n      <td>338289.857</td>\n      <td>2.145299e+10</td>\n    </tr>\n    <tr>\n      <th>Denmark</th>\n      <td>58932.0</td>\n      <td>5882.261</td>\n      <td>3.466534e+08</td>\n    </tr>\n    <tr>\n      <th>Netherlands</th>\n      <td>57534.0</td>\n      <td>17564.014</td>\n      <td>1.010528e+09</td>\n    </tr>\n    <tr>\n      <th>Austria</th>\n      <td>55218.0</td>\n      <td>8939.617</td>\n      <td>4.936278e+08</td>\n    </tr>\n    <tr>\n      <th>Sweden</th>\n      <td>54146.0</td>\n      <td>10549.347</td>\n      <td>5.712049e+08</td>\n    </tr>\n    <tr>\n      <th>Germany</th>\n      <td>54076.0</td>\n      <td>83369.843</td>\n      <td>4.508308e+09</td>\n    </tr>\n    <tr>\n      <th>Australia</th>\n      <td>51680.0</td>\n      <td>26177.413</td>\n      <td>1.352849e+09</td>\n    </tr>\n    <tr>\n      <th>Belgium</th>\n      <td>51096.0</td>\n      <td>11655.930</td>\n      <td>5.955714e+08</td>\n    </tr>\n    <tr>\n      <th>Finland</th>\n      <td>49853.0</td>\n      <td>5540.745</td>\n      <td>2.762228e+08</td>\n    </tr>\n    <tr>\n      <th>Canada</th>\n      <td>48720.0</td>\n      <td>38454.327</td>\n      <td>1.873495e+09</td>\n    </tr>\n    <tr>\n      <th>France</th>\n      <td>46062.0</td>\n      <td>64626.628</td>\n      <td>2.976832e+09</td>\n    </tr>\n    <tr>\n      <th>South Korea</th>\n      <td>44621.0</td>\n      <td>51815.810</td>\n      <td>2.312073e+09</td>\n    </tr>\n    <tr>\n      <th>United Kingdom</th>\n      <td>44117.0</td>\n      <td>67508.936</td>\n      <td>2.978292e+09</td>\n    </tr>\n    <tr>\n      <th>Malta</th>\n      <td>42856.0</td>\n      <td>533.286</td>\n      <td>2.285450e+07</td>\n    </tr>\n    <tr>\n      <th>Japan</th>\n      <td>42248.0</td>\n      <td>123951.692</td>\n      <td>5.236711e+09</td>\n    </tr>\n    <tr>\n      <th>Italy</th>\n      <td>40861.0</td>\n      <td>59037.474</td>\n      <td>2.412330e+09</td>\n    </tr>\n    <tr>\n      <th>Czech Republic</th>\n      <td>40618.0</td>\n      <td>10493.986</td>\n      <td>4.262447e+08</td>\n    </tr>\n    <tr>\n      <th>Israel</th>\n      <td>40547.0</td>\n      <td>9038.309</td>\n      <td>3.664763e+08</td>\n    </tr>\n    <tr>\n      <th>Cyprus</th>\n      <td>40107.0</td>\n      <td>1251.488</td>\n      <td>5.019343e+07</td>\n    </tr>\n    <tr>\n      <th>Slovenia</th>\n      <td>40067.0</td>\n      <td>2119.844</td>\n      <td>8.493579e+07</td>\n    </tr>\n    <tr>\n      <th>Spain</th>\n      <td>39121.0</td>\n      <td>47558.630</td>\n      <td>1.860541e+09</td>\n    </tr>\n    <tr>\n      <th>Estonia</th>\n      <td>38834.0</td>\n      <td>1326.062</td>\n      <td>5.149629e+07</td>\n    </tr>\n    <tr>\n      <th>Lithuania</th>\n      <td>38824.0</td>\n      <td>2750.055</td>\n      <td>1.067681e+08</td>\n    </tr>\n    <tr>\n      <th>Poland</th>\n      <td>34103.0</td>\n      <td>39857.145</td>\n      <td>1.359248e+09</td>\n    </tr>\n    <tr>\n      <th>Portugal</th>\n      <td>34043.0</td>\n      <td>10270.865</td>\n      <td>3.496511e+08</td>\n    </tr>\n    <tr>\n      <th>Hungary</th>\n      <td>33030.0</td>\n      <td>9967.308</td>\n      <td>3.292202e+08</td>\n    </tr>\n    <tr>\n      <th>Slovakia</th>\n      <td>32709.0</td>\n      <td>5643.453</td>\n      <td>1.845917e+08</td>\n    </tr>\n    <tr>\n      <th>Latvia</th>\n      <td>31509.0</td>\n      <td>1850.651</td>\n      <td>5.831216e+07</td>\n    </tr>\n    <tr>\n      <th>Romania</th>\n      <td>30526.0</td>\n      <td>19659.267</td>\n      <td>6.001188e+08</td>\n    </tr>\n    <tr>\n      <th>Greece</th>\n      <td>28748.0</td>\n      <td>10384.971</td>\n      <td>2.985471e+08</td>\n    </tr>\n    <tr>\n      <th>Croatia</th>\n      <td>27717.0</td>\n      <td>4030.358</td>\n      <td>1.117094e+08</td>\n    </tr>\n    <tr>\n      <th>Bulgaria</th>\n      <td>23817.0</td>\n      <td>6781.953</td>\n      <td>1.615258e+08</td>\n    </tr>\n    <tr>\n      <th>China</th>\n      <td>17192.0</td>\n      <td>1425887.337</td>\n      <td>2.451386e+10</td>\n    </tr>\n    <tr>\n      <th>EU</th>\n      <td>44024.0</td>\n      <td>446800.000</td>\n      <td>NaN</td>\n    </tr>\n  </tbody>\n</table>\n</div>"
     },
     "execution_count": 6,
     "metadata": {},
     "output_type": "execute_result"
    }
   ],
   "source": [
    "eu_countries = pd.read_excel(\"../data/countries_eu.xlsx\", sheet_name='EU').Country.to_list()\n",
    "other_countries = pd.read_excel(\"../data/countries_eu.xlsx\", sheet_name='rest').Country.to_list()\n",
    "gdp = pd.read_csv(\"../data/countriesgdp_pop.csv\", index_col=\"ranking\")\n",
    "gdp = gdp[gdp.Country.isin(eu_countries + other_countries)].set_index(\"Country\")\n",
    "gdp.loc[\"EU\", \"gdppc\"] = 44024\n",
    "gdp.loc[\"EU\", \"pop2022\"] = 446800\n",
    "gdp"
   ],
   "metadata": {
    "collapsed": false
   }
  },
  {
   "cell_type": "markdown",
   "source": [
    "## Update with fractional count"
   ],
   "metadata": {
    "collapsed": false
   }
  },
  {
   "cell_type": "code",
   "execution_count": 7,
   "outputs": [],
   "source": [
    "# Digital\n",
    "\n",
    "dic_countries = {country:{year:[0,0,0] for year in range(2010,2022)} for country in gdp.index}\n",
    "for row in df_digital.itertuples(index=False, name=None):\n",
    "    year = int(row[9])\n",
    "    cn = row[12]\n",
    "    lst_actors = cn.split(\", \")\n",
    "    size_actors = len(lst_actors)\n",
    "    for actor in lst_actors:\n",
    "        if actor in dic_countries.keys():\n",
    "            # Increment for digital\n",
    "            dic_countries[actor][year][0] += 1/size_actors\n",
    "            if actor in eu_countries:\n",
    "                dic_countries['EU'][year][0] += 1/size_actors"
   ],
   "metadata": {
    "collapsed": false
   }
  },
  {
   "cell_type": "code",
   "execution_count": 8,
   "outputs": [
    {
     "name": "stdout",
     "output_type": "stream",
     "text": [
      "CPU times: user 4.26 s, sys: 0 ns, total: 4.26 s\n",
      "Wall time: 4.26 s\n"
     ]
    }
   ],
   "source": [
    "%%time\n",
    "# SDG & SDG-DT\n",
    "for row in df_sdg.itertuples(index=False, name=None):\n",
    "    year = int(row[9])\n",
    "    cn = row[12]\n",
    "    lst_actors = cn.split(\", \")\n",
    "    size_actors = len(lst_actors)\n",
    "    for actor in lst_actors:\n",
    "        if actor in dic_countries.keys():\n",
    "            # Increment for SDG\n",
    "            dic_countries[actor][year][1] += 1/size_actors\n",
    "            if actor in eu_countries:\n",
    "                dic_countries['EU'][year][1] += 1/size_actors\n",
    "            if row[-1]:\n",
    "                # Increment for SDG-DT\n",
    "                dic_countries[actor][year][2] += 1/size_actors\n",
    "                if actor in eu_countries:\n",
    "                    dic_countries['EU'][year][2] += 1/size_actors"
   ],
   "metadata": {
    "collapsed": false
   }
  },
  {
   "cell_type": "code",
   "execution_count": 34,
   "outputs": [
    {
     "data": {
      "text/plain": "{'Luxembourg': {2010: [1.783333333333333, 8.58481559290383, 0],\n  2011: [3.2527777777777778, 12.974481074481066, 0],\n  2012: [8.950396825396822, 17.88673504598717, 0],\n  2013: [7.74692170148692, 31.23730158730157, 1.0],\n  2014: [10.740293040293041, 37.04848548760953, 1.6666666666666665],\n  2015: [16.976008251008242, 37.191803871437614, 2.5982905982905984],\n  2016: [25.62106940112364, 35.75362296433726, 2.8000000000000007],\n  2017: [21.939808291124066, 42.76384456123591, 0.8500000000000001],\n  2018: [31.539352073047727, 40.97966727716728, 2.3595238095238096],\n  2019: [48.111863125824364, 54.621663777648614, 3.8452380952380953],\n  2020: [67.15326323253284, 67.33183530716018, 2.352380952380952],\n  2021: [87.87079340078593, 71.05281901402354, 5.740476190476189]},\n 'Ireland': {2010: [67.48583351128202, 153.4907215031938, 0.5],\n  2011: [71.0138010540186, 222.0739335355043, 1.0000000000000002],\n  2012: [100.56225199784524, 225.04042353067985, 2.9666666666666677],\n  2013: [95.97794966471449, 250.60788281718203, 1.8409090909090908],\n  2014: [96.30206194375938, 217.74473328501716, 3.250000000000001],\n  2015: [141.60264338945797, 275.8343051127437, 2.8101449275362325],\n  2016: [172.83671854472823, 353.83218228072013, 7.074384236453204],\n  2017: [160.16920155157922, 348.7478153494262, 5.396387520525453],\n  2018: [251.6210193746665, 461.9018496994619, 11.082954545454536],\n  2019: [299.5315061460481, 457.06097809526443, 12.638365873892186],\n  2020: [439.3788665984099, 646.4414292614465, 28.15545298927651],\n  2021: [486.94685480633626, 868.429650016734, 46.23963681432901]},\n 'Switzerland': {2010: [186.37450651915816,\n   413.4791225193054,\n   5.076190476190477],\n  2011: [207.67817549778044, 437.0441331888621, 5.642857142857143],\n  2012: [243.01208239745029, 526.8330938085022, 7.639393939393942],\n  2013: [310.2347686209476, 618.054072521039, 5.901960784313724],\n  2014: [319.7996266863219, 649.0674550254449, 15.817965367965371],\n  2015: [354.86943144344036, 733.4014636751513, 9.6843776106934],\n  2016: [400.6244700265887, 779.3697174913033, 14.4564425770308],\n  2017: [474.24373825862335, 916.2182914235296, 27.118651120121697],\n  2018: [613.5338239916134, 1055.5859343100287, 29.469834509172742],\n  2019: [777.0884344167093, 1006.787520534663, 22.90283308804779],\n  2020: [1050.1529117939365, 1238.9353130430466, 45.89458755125595],\n  2021: [1277.2969417619995, 1491.3658109013684, 70.98236459211412]},\n 'Norway': {2010: [61.402018079959355, 372.6078102923374, 1.0636363636363637],\n  2011: [66.84971968764127, 475.72529206111557, 2.0095238095238095],\n  2012: [56.08068276476143, 547.7240526415254, 0.8],\n  2013: [77.3837845916615, 548.6666874238086, 2.392857142857143],\n  2014: [82.31375123233312, 641.4187907645606, 3.05776397515528],\n  2015: [112.53037169843232, 682.8154700271864, 6.015476190476193],\n  2016: [117.96208391177565, 793.6427034703312, 5.759044882320741],\n  2017: [174.4093819393875, 839.1796844490551, 14.635097255685489],\n  2018: [269.0204229002467, 967.833582954207, 21.331591787841774],\n  2019: [339.51503084150465, 1055.2723897328829, 25.04024125696321],\n  2020: [529.6024630763261, 1201.649663928019, 45.527188089688146],\n  2021: [698.99506200685, 1423.284525176218, 57.86670344189711]},\n 'United States': {2010: [3827.8277191647476,\n   8138.425843098675,\n   85.05465367965365],\n  2011: [4181.755856299562, 9169.578306936299, 107.5431022408965],\n  2012: [4444.840971820544, 10026.6917908867, 106.58772200022223],\n  2013: [5068.594143606259, 11563.48868185847, 162.162987421076],\n  2014: [5557.598448107148, 12631.9030379603, 190.02493611479707],\n  2015: [6868.27942836697, 14393.549338827108, 214.3324873861201],\n  2016: [7806.805891258787, 15746.62936992477, 240.14276252820818],\n  2017: [8764.225935426293, 17460.509558971924, 327.6719758797512],\n  2018: [11977.64571087447, 19353.746426541926, 442.37105826306964],\n  2019: [14903.060281712616, 20310.085190289352, 601.53682807504],\n  2020: [18862.176959535, 25042.326956292687, 928.3533079837819],\n  2021: [20989.639315678607, 29650.988431400914, 1284.0445330146606]},\n 'Denmark': {2010: [75.34675822543493, 333.05346595952693, 1.9367965367965367],\n  2011: [87.68331678925537, 343.90849990159467, 1.1444444444444444],\n  2012: [100.85790167784701, 436.4311906298157, 1.4666666666666666],\n  2013: [111.8855402095058, 479.50334529519773, 1.5526315789473684],\n  2014: [141.9924725507979, 547.7352235730907, 7.969298245614034],\n  2015: [166.16127811400682, 637.5356906883866, 5.941271409749671],\n  2016: [202.2299450885175, 686.2537804307779, 11.804761904761907],\n  2017: [228.57289090558172, 728.0787848399523, 7.726998556998558],\n  2018: [303.62432978784983, 832.5064776253682, 14.968951418951418],\n  2019: [404.3545453975047, 842.3280240716431, 17.526369332505112],\n  2020: [563.0171549843627, 960.8092206917672, 33.85499317646327],\n  2021: [645.6453372564048, 1149.8182647938015, 37.127101746415654]},\n 'Netherlands': {2010: [251.2807064982079,\n   734.7695595917329,\n   3.533333333333333],\n  2011: [272.2649751020245, 814.569723203872, 7.899999999999999],\n  2012: [313.34708995146315, 928.0251680615545, 6.025992063492062],\n  2013: [379.7000414775918, 1078.2581785003094, 11.785425685425684],\n  2014: [372.62161704415024, 1243.6860453386369, 7.459523809523809],\n  2015: [443.23772221937634, 1379.4096720670118, 10.794668737060036],\n  2016: [567.5635430858599, 1477.714202940455, 19.184328579916812],\n  2017: [567.0630063233708, 1525.1192329351734, 22.310024024046772],\n  2018: [823.8343935122663, 1740.099639657582, 38.92642795006927],\n  2019: [1076.5149701913845, 1815.8562543202656, 46.191184737258524],\n  2020: [1381.3623853846987, 2190.6892293037613, 77.95431455870646],\n  2021: [1608.8832156230299, 2405.5876770956984, 78.79064486242281]},\n 'Austria': {2010: [96.56505865231375, 205.42631891130333, 1.0833333333333333],\n  2011: [108.24898736286833, 214.18572337060124, 1.4761904761904763],\n  2012: [105.15465449519688, 255.2877934537716, 2.0256410256410255],\n  2013: [139.29964725368583, 298.1756911238545, 3.042156862745098],\n  2014: [157.03296048356108, 323.7054035365043, 5.166666666666665],\n  2015: [166.43771364768392, 361.62385619922424, 4.16590909090909],\n  2016: [222.15796520936263, 409.47558711954736, 8.444444444444443],\n  2017: [230.8495724586953, 445.344963854812, 9.487634032634027],\n  2018: [323.17072702345735, 550.7638499315809, 18.713572538572528],\n  2019: [387.7326912350521, 618.7391162010692, 16.767566234606896],\n  2020: [557.3012594387089, 729.9128294818815, 24.695549643968032],\n  2021: [701.706106994096, 959.9941818085123, 43.18964839649393]},\n 'Sweden': {2010: [118.21649321500378, 527.1513514830187, 1.5303030303030303],\n  2011: [162.1396839610256, 608.2228053513958, 2.583333333333333],\n  2012: [141.24873817062738, 756.5710094623795, 6.4642857142857135],\n  2013: [198.33943460138528, 832.5579452527157, 7.126923076923072],\n  2014: [229.3710675518088, 959.5744491325635, 11.32941176470588],\n  2015: [271.7706018616697, 1143.2676786444713, 10.68358308358308],\n  2016: [351.4084083979914, 1209.7946321590844, 17.29543969102791],\n  2017: [371.8102010532115, 1302.2936173970666, 18.78062450621273],\n  2018: [517.8329470723668, 1417.5363929406653, 26.284349510138988],\n  2019: [668.2493831718816, 1501.420932944847, 32.43623960916664],\n  2020: [866.2381970033734, 1712.5222118427093, 42.326187701187706],\n  2021: [1007.8498803606853, 1947.2472734194644, 66.65957585720557]},\n 'Germany': {2010: [748.2200641154415, 1289.1807173580837, 15.111688311688308],\n  2011: [800.0229630975704, 1453.1258646058602, 17.095063025210077],\n  2012: [962.3503336056558, 1661.8080880370767, 21.110381285381266],\n  2013: [1014.9845087810879, 1987.4891111901031, 16.95274397944676],\n  2014: [1174.137576581792, 2214.476653174427, 37.2183176300824],\n  2015: [1443.139131134525, 2651.402800880519, 40.157952465789954],\n  2016: [1648.2423003947958, 2953.8499675934386, 53.058985149401025],\n  2017: [1755.4411318535924, 3275.871550224211, 53.134464191722344],\n  2018: [2434.9939501265876, 3782.1089307509847, 100.76432308188927],\n  2019: [3112.233248692208, 3962.617966424625, 121.5285223982686],\n  2020: [4026.9078112902853, 4756.017654862689, 181.33276776799678],\n  2021: [5191.242909153922, 6095.6466254928055, 284.5227630647114]},\n 'Australia': {2010: [372.2486961567833,\n   1765.9441901752964,\n   8.906493506493508],\n  2011: [467.97909543889745, 2139.063536558864, 17.05],\n  2012: [543.1180050290775, 2322.3732549065535, 24.988095238095216],\n  2013: [652.5770380969535, 2813.070230476202, 17.4766233766234],\n  2014: [793.4368063718989, 3025.145531056471, 28.516442374051092],\n  2015: [1024.0689017001655, 3750.8688076947296, 37.33312674802952],\n  2016: [1208.9364010459165, 3961.7356104961386, 44.562703726294046],\n  2017: [1378.6521408111698, 4369.737384949607, 75.09320741491787],\n  2018: [1872.0186169965957, 4808.936874106866, 92.91676662245521],\n  2019: [2511.3197471025014, 4924.50373946912, 144.17117934369986],\n  2020: [3150.680753069889, 5747.272215583334, 207.52748295272778],\n  2021: [3628.4837744114784, 6642.192440192783, 273.72372007128234]},\n 'Belgium': {2010: [171.7659757173384, 313.61544603829634, 3.99047619047619],\n  2011: [185.44199134199113, 425.02933192066956, 1.6666666666666665],\n  2012: [204.66361300588474, 463.0793302698123, 1.8571428571428568],\n  2013: [234.97300083689365, 516.116510061747, 9.070238095238093],\n  2014: [263.13998149526435, 537.3140470229374, 11.586987522281635],\n  2015: [277.1046943982503, 640.8165014019268, 7.766183574879231],\n  2016: [332.61657384241465, 692.0698592248227, 9.40013932427725],\n  2017: [352.38590585105936, 749.8173162211634, 12.869913419913424],\n  2018: [476.45126133518085, 861.7869351724462, 14.113088300588299],\n  2019: [581.8570003520398, 846.3655397985531, 17.87415873600084],\n  2020: [749.4706191533312, 1055.257339728554, 35.93960718022346],\n  2021: [864.7560218165736, 1270.2389557933318, 55.76663924855893]},\n 'Finland': {2010: [91.49239263290988, 319.98019294275684, 3.25],\n  2011: [107.76334075132048, 378.1861101487369, 2.1999999999999997],\n  2012: [99.44010646526486, 373.6876481425832, 4.766666666666666],\n  2013: [141.2222446412571, 452.0053961903671, 3.3526315789473684],\n  2014: [151.4261729872757, 487.4108317413712, 3.9928571428571438],\n  2015: [201.86981050984352, 610.8108871643295, 9.4359649122807],\n  2016: [208.83799435998583, 673.373287697236, 6.776190476190479],\n  2017: [286.91956225782695, 734.3395672891284, 16.932051282051276],\n  2018: [386.2216302261135, 821.6422451600031, 24.75004399195574],\n  2019: [477.69781292152385, 831.049530988644, 32.137243312243285],\n  2020: [685.7641670995309, 933.4676038596052, 39.90368872710722],\n  2021: [710.7358865740752, 1103.2674248692672, 52.77010223097502]},\n 'Canada': {2010: [748.0452909762344, 1611.2422365471716, 21.329049897470966],\n  2011: [719.9575624290725, 1751.605951636054, 18.66680672268907],\n  2012: [761.6627414700621, 1937.9106814057222, 21.416666666666647],\n  2013: [901.9873618789283, 2185.6140954092007, 18.691468253968246],\n  2014: [948.2223876623939, 2354.2797257683587, 33.79523809523809],\n  2015: [1200.2661273036722, 2815.59405383069, 37.2327401177516],\n  2016: [1417.3667382465467, 2961.804636429254, 51.03009031198697],\n  2017: [1528.785990181558, 3278.263952577596, 59.91375281497647],\n  2018: [2000.3318867119715, 3624.5811532028933, 71.59383753501416],\n  2019: [2510.8039879557814, 3902.387188456081, 93.24141203593467],\n  2020: [3475.7528524917625, 4818.699448127361, 191.35358300641596],\n  2021: [3773.5739401725, 5964.137823338855, 283.5767988525417]},\n 'France': {2010: [524.5844010067209, 1035.9150215695831, 10.183333333333335],\n  2011: [619.8268919973973, 1176.9718937600155, 10.515800865800864],\n  2012: [686.3387361068324, 1267.5838102789623, 14.425432900432906],\n  2013: [811.3368690682355, 1536.1231460174067, 17.078583241663726],\n  2014: [864.9596903686407, 1556.924854524562, 25.30634920634918],\n  2015: [1042.2421152098495, 1785.4304172342202, 27.800976705724956],\n  2016: [1170.5396755456907, 1942.794353625435, 32.13956761910614],\n  2017: [1200.3626603462906, 2067.6547891243004, 44.82721177290147],\n  2018: [1656.1936950559962, 2354.9999613661203, 55.44669065370634],\n  2019: [1909.610859204857, 2338.0157972131547, 72.11815394258817],\n  2020: [2367.603970384234, 2870.513150567663, 102.24262255643038],\n  2021: [2835.875462914365, 3358.033343090392, 139.32304621887207]},\n 'South Korea': {2010: [811.1664264530806,\n   514.2833688490659,\n   19.657142857142848],\n  2011: [924.3607656232739, 658.6420099706531, 25.65238095238094],\n  2012: [1099.78247993503, 779.0179851902101, 35.6904761904762],\n  2013: [1157.280550041624, 925.8380427942574, 27.342857142857127],\n  2014: [1307.3684072351164, 1146.1194598586637, 43.09845938375354],\n  2015: [1595.010576212961, 1267.8196669560634, 45.19285714285723],\n  2016: [1975.000979326818, 1572.4800143855227, 65.09285714285723],\n  2017: [2401.7373751028863, 1796.4008128341427, 83.23008088402828],\n  2018: [3335.1275735415675, 2009.2530961081347, 118.37380952380958],\n  2019: [4429.510387940862, 2229.990876001315, 166.8751160675072],\n  2020: [6160.036606902233, 2962.737993762874, 255.07637362637254],\n  2021: [6914.505808258753, 3548.5430211611256, 349.27423860285654]},\n 'United Kingdom': {2010: [958.6234008600168,\n   2636.9215011807883,\n   13.368460925039862],\n  2011: [1043.6386419779562, 2887.756070702535, 27.7516806722689],\n  2012: [1124.6890393435604, 3267.6833558029025, 25.17829254079252],\n  2013: [1286.710662335275, 3622.700307196548, 33.14281994235547],\n  2014: [1360.4028952709323, 3734.8969543741546, 44.358473389355765],\n  2015: [1756.005593620686, 4602.19740426433, 65.35722095092827],\n  2016: [2141.9278913877724, 4983.77174044762, 92.73324654272947],\n  2017: [2446.3391139158757, 5280.407857946503, 98.02208654374276],\n  2018: [3358.5540774060273, 6115.499068336853, 147.66482119838716],\n  2019: [4110.245935613097, 6436.3981084216975, 211.27578051736134],\n  2020: [5130.082305170157, 7960.513219190939, 261.3600937712416],\n  2021: [5676.3901155914045, 9677.173951134013, 435.4854248934916]},\n 'Malta': {2010: [0.36250000000000004, 6.631168831168831, 0],\n  2011: [0.2857142857142857, 4.675970695970696, 0],\n  2012: [1.1428571428571428, 9.252020202020203, 0],\n  2013: [3.1944444444444446, 7.062900008488243, 0],\n  2014: [0.7777777777777777, 7.107051282051282, 0],\n  2015: [3.567099567099567, 17.442385497850523, 0],\n  2016: [2.621212121212121, 21.92799245000259, 0],\n  2017: [7.605072463768114, 22.267281279910176, 0],\n  2018: [11.605079365079362, 32.16518954456254, 1.0],\n  2019: [12.709315684315689, 26.077149289851555, 0],\n  2020: [23.48964228203359, 37.842355546630785, 0.41384863123993554],\n  2021: [27.540864099262876, 63.666048451107486, 1.5298062703342208]},\n 'Japan': {2010: [778.6377844513785, 861.7551322551375, 10.259523809523806],\n  2011: [824.5458193587904, 935.296896790892, 10.459523809523809],\n  2012: [806.9035170065877, 1019.5104268455916, 13.976190476190476],\n  2013: [892.8187515115134, 1180.2537845505842, 16.44545454545455],\n  2014: [917.3305917369876, 1181.4134751087047, 15.530042016806723],\n  2015: [1223.6246677105748, 1381.706180068795, 25.855072463768096],\n  2016: [1364.912524225221, 1580.7224496259169, 32.33769841269841],\n  2017: [1597.5328689815933, 1669.9901412897912, 44.93988413547245],\n  2018: [2152.687414008599, 1893.6950111173483, 64.9866132315399],\n  2019: [2621.273714970832, 1958.922264557403, 76.46975500345089],\n  2020: [3461.4140982303693, 2481.4279672340526, 88.69060183882192],\n  2021: [4022.7544361951645, 3303.804467765964, 160.67389756626054]},\n 'Italy': {2010: [661.3609758403198, 1069.0903449094883, 14.36666666666666],\n  2011: [738.659644822305, 1260.351260050644, 11.41428571428572],\n  2012: [822.4358313609446, 1351.621634245744, 11.881349206349203],\n  2013: [1010.426893547677, 1625.5312340621208, 24.586694677871137],\n  2014: [1083.2954722918462, 1874.3981651005595, 28.523088023088025],\n  2015: [1416.1825309965864, 2461.798374489062, 46.46776001776005],\n  2016: [1679.6278573091336, 2931.0875786338006, 64.83540267204073],\n  2017: [1941.5628659674176, 3169.1413318708646, 81.71309971637557],\n  2018: [2580.4285023031453, 3734.1399475126495, 114.41736388611427],\n  2019: [3069.219804650775, 4015.132319532454, 110.45692414940082],\n  2020: [4304.92821791499, 6213.765032936683, 313.3829797112576],\n  2021: [4950.616605377393, 7586.112669988954, 397.87520005544235]},\n 'Czech Republic': {2010: [54.34635485472766, 125.98595804216532, 1.0],\n  2011: [81.45194518895741, 146.0664320195005, 0.3333333333333333],\n  2012: [91.79701833122242, 164.5925977499233, 1.0],\n  2013: [113.4622279633896, 194.83375683763254, 1.666666666666667],\n  2014: [101.16582424775179, 229.3875984123407, 0],\n  2015: [152.40939682258997, 321.24158356777144, 2.25],\n  2016: [154.9980885939359, 350.16847431005226, 5.783333333333333],\n  2017: [215.7252051677346, 398.2545807613567, 9.052597402597405],\n  2018: [253.82116593975334, 507.63450258715454, 7.208041958041957],\n  2019: [336.84597948614856, 555.1201757107139, 13.493203775567949],\n  2020: [460.3182378678698, 743.0379468162134, 23.124996413439785],\n  2021: [601.6841591252664, 882.312415746677, 42.879898989898976]},\n 'Israel': {2010: [140.61675791528737, 173.0929713804714, 1.6969696969696968],\n  2011: [140.39652177887476, 202.19452274333847, 1.8333333333333333],\n  2012: [150.0477203611069, 237.49131985651306, 3.0],\n  2013: [159.51590543854903, 273.0237038780264, 2.8666666666666663],\n  2014: [196.00185948348727, 283.4490107398146, 0.5833333333333333],\n  2015: [192.0535124759037, 336.93225943127766, 4.111111111111111],\n  2016: [251.06237746221188, 384.7892148978389, 5.727380952380949],\n  2017: [241.16270459562395, 408.6323963060643, 4.833333333333334],\n  2018: [338.4145072014066, 467.6870861658865, 2.8944444444444444],\n  2019: [383.7088690381427, 508.2684215985314, 12.711904761904766],\n  2020: [521.7740949468981, 696.9914660649305, 13.032473544973538],\n  2021: [623.396249396954, 966.1485893275061, 29.364502947497144]},\n 'Cyprus': {2010: [14.483333333333333, 15.939426217057788, 0],\n  2011: [21.22072829131652, 20.306298276886505, 0.3088235294117647],\n  2012: [20.540079365079357, 25.790125802093872, 0.375],\n  2013: [23.832754081596487, 41.06520505638155, 0.8333333333333333],\n  2014: [26.03748989366298, 37.547526950173996, 0],\n  2015: [25.034924957375978, 53.900014949837804, 1.5238095238095235],\n  2016: [42.24726800976803, 62.547112097747146, 2.0833333333333335],\n  2017: [41.92486120011266, 82.09819751368293, 2.55],\n  2018: [38.545390713123844, 84.16951963837299, 2.2023809523809526],\n  2019: [63.11094032406372, 98.41076424763472, 2.6666666666666665],\n  2020: [94.4783458695706, 129.71633473340728, 13.022222222222215],\n  2021: [116.74643469602192, 200.2483565750248, 16.28864147748619]},\n 'Slovenia': {2010: [70.89005439005439, 73.57905947819755, 0.6666666666666666],\n  2011: [90.95158730158748, 86.04010614988881, 6.000000000000002],\n  2012: [64.64370959018622, 89.7445725260564, 1.25],\n  2013: [104.60100559788305, 90.92402588606038, 3.0588235294117645],\n  2014: [89.56419541542928, 117.86233256312698, 1.9999999999999998],\n  2015: [103.61146908646901, 139.3487339011004, 2.4],\n  2016: [102.54976151027664, 140.70687468328128, 4.2],\n  2017: [107.51831551234527, 160.7136079863486, 3.2500000000000004],\n  2018: [159.65731157870314, 171.02602688230678, 1.0454545454545454],\n  2019: [166.56390036496916, 209.54511275522333, 8.100627240143368],\n  2020: [234.03037592806228, 242.33190265944629, 12.872137558458311],\n  2021: [244.2601868181522, 340.7887182895687, 15.630516218115153]},\n 'Spain': {2010: [720.5647500569365, 1290.2886759226067, 18.483333333333324],\n  2011: [911.2807900548124, 1552.767034030232, 26.52182539682539],\n  2012: [1124.3215785545792, 1782.6855890862744, 43.89099095349093],\n  2013: [1253.8983944421543, 2013.6651452517626, 25.87192982456141],\n  2014: [1157.4394458184986, 2117.289538160908, 34.740616246498604],\n  2015: [1348.1947126673622, 2474.089430222808, 47.787734487734504],\n  2016: [1417.9826609959046, 2706.867012806489, 61.552198089267115],\n  2017: [1523.203049330042, 2921.431036666614, 80.51820512820531],\n  2018: [2084.5604800176516, 3428.2945658505414, 108.79313768747612],\n  2019: [2668.826320935903, 3989.5556880211593, 134.16111096719212],\n  2020: [3479.115108699245, 5245.146496688834, 258.33837586859073],\n  2021: [3857.5035948310788, 6354.289985265866, 342.9084034135694]},\n 'Estonia': {2010: [6.310606060606062, 52.96058574769043, 1.0],\n  2011: [7.541666666666668, 59.779287956625524, 0],\n  2012: [12.076785714285716, 57.714713435871154, 1.0],\n  2013: [9.836240160218436, 82.31679481585705, 2.052631578947368],\n  2014: [12.144782997818272, 81.39882198449823, 1.0],\n  2015: [12.975173155495321, 92.97790943986293, 0.5],\n  2016: [18.77899452769887, 109.951121249945, 0.42500000000000004],\n  2017: [31.30623985096028, 114.49260283541552, 1.6666666666666665],\n  2018: [42.206101198982935, 119.81805213594238, 2.2833333333333337],\n  2019: [65.21698502896047, 124.30283815356032, 3.877662337662338],\n  2020: [94.35951891678972, 158.93690538769286, 7.881175197351672],\n  2021: [120.64741125563047, 183.73451350110707, 10.21991341991342]},\n 'Lithuania': {2010: [33.62857142857142,\n   65.25439190439195,\n   0.7333333333333334],\n  2011: [27.615151515151517, 69.93217257872213, 0.5],\n  2012: [38.43715538847119, 69.73594694519919, 0],\n  2013: [35.6765730615618, 73.48240659011847, 1.0],\n  2014: [38.090153762015944, 80.61221062587255, 1.9999999999999998],\n  2015: [45.10541008897461, 117.50408222305956, 0.5],\n  2016: [44.23799566267171, 121.68814623750396, 1.9090909090909092],\n  2017: [49.196137353710476, 139.15150890409691, 0.14285714285714285],\n  2018: [67.35126105660153, 168.18126325729818, 3.7083333333333326],\n  2019: [105.81976104946736, 209.06383831844258, 7.331500488758554],\n  2020: [127.60619577889672, 253.848591658375, 6.508947289607668],\n  2021: [166.25310609801568, 383.838016459793, 15.903196803196796]},\n 'Poland': {2010: [221.02180672268904, 243.59457074344567, 1.9999999999999998],\n  2011: [242.24764796591398, 293.2538488515454, 3.1666666666666665],\n  2012: [281.1585103477495, 348.8244371274227, 0.09090909090909091],\n  2013: [271.9125596968808, 412.67821607342387, 4.192857142857144],\n  2014: [337.49677576749514, 530.5282943467843, 4.845238095238096],\n  2015: [506.01843860255497, 797.6642590524335, 11.633333333333331],\n  2016: [553.3684017711977, 968.1578085494906, 12.441666666666661],\n  2017: [565.4120998789125, 1042.948317038108, 22.21858974358973],\n  2018: [759.4804493207571, 1378.4133371842192, 31.834956709956685],\n  2019: [994.01595487024, 1538.5540305287097, 42.529089275184425],\n  2020: [1373.321453024321, 2321.29227225781, 67.64654066028933],\n  2021: [1739.5075904348328, 3271.0683485879717, 146.4133513497826]},\n 'Portugal': {2010: [114.2246184371183, 339.30199813200926, 2.833333333333333],\n  2011: [165.10306168086666, 440.2498206291094, 10.390476190476193],\n  2012: [183.8158256884257, 465.13826665203896, 5.744444444444446],\n  2013: [213.75808341389836, 609.1584326356403, 5.383333333333332],\n  2014: [240.28874849551244, 668.5736816801171, 11.799999999999999],\n  2015: [304.0056285573775, 786.1264966596851, 7.661904761904764],\n  2016: [306.6588245099467, 896.6836236047444, 7.69657909140668],\n  2017: [393.6498804876441, 940.3346324321456, 15.582647907647905],\n  2018: [441.26078258413014, 1120.0488471583872, 21.317370129870117],\n  2019: [626.8810043586458, 1279.7100814003663, 31.350326485109086],\n  2020: [808.8744603738694, 1673.1462567014325, 66.23440530058191],\n  2021: [1097.0350911863159, 2201.0449555462424, 109.29653022646684]},\n 'Hungary': {2010: [39.41464352640827, 84.09370648866121, 1.0],\n  2011: [44.57616550116551, 99.54773088701901, 2.333333333333333],\n  2012: [56.89050952270777, 128.40336346647283, 1.875],\n  2013: [62.59263224747703, 113.58783471011377, 0.16666666666666666],\n  2014: [70.2290006913815, 149.69486964919776, 2.7619047619047623],\n  2015: [85.35799145973859, 169.82459289730107, 2.3333333333333335],\n  2016: [115.60414153780543, 201.76751590400718, 6.194444444444444],\n  2017: [105.50950980618197, 222.66422918500302, 1.4102564102564101],\n  2018: [154.49325418860553, 282.71334886394425, 7.027597402597405],\n  2019: [228.9402802731116, 285.15572101648274, 8.040628815628814],\n  2020: [279.6162420439815, 420.6182027665782, 22.151533529363693],\n  2021: [409.35875694146756, 609.4666348337533, 30.186467331783454]},\n 'Slovakia': {2010: [25.449980901451497, 37.703049624953664, 1.0],\n  2011: [27.806715060007726, 35.90963146502622, 1.476190476190476],\n  2012: [30.217898709904453, 35.66865403279745, 0],\n  2013: [32.842052181125844, 53.37860560492155, 0.3333333333333333],\n  2014: [31.350035901955014, 48.52170301920306, 0],\n  2015: [56.23690476190484, 88.89520822969064, 0],\n  2016: [80.0160175711625, 108.30872466669433, 0.25],\n  2017: [73.67388167238978, 170.770530601555, 0.5],\n  2018: [92.99298168920811, 170.168135308135, 0.7692307692307692],\n  2019: [135.09801990092527, 227.07751204390433, 5.56374269005848],\n  2020: [226.00516557509522, 336.0586302284039, 10.38306379155436],\n  2021: [263.683671368079, 421.091105758543, 21.251767676767688]},\n 'Latvia': {2010: [4.308333333333334, 7.708741258741259, 0],\n  2011: [1.475, 14.697076023391814, 0],\n  2012: [5.696428571428571, 13.907336666588785, 0],\n  2013: [9.280952380952378, 15.562647209421396, 0],\n  2014: [3.5, 17.815859332238627, 0],\n  2015: [16.132857142857134, 40.874539824529144, 1.5],\n  2016: [17.516485464542, 36.723739614422854, 1.0],\n  2017: [13.633217115185307, 50.058344154509264, 0.29166666666666663],\n  2018: [22.333205734826286, 45.922144482236675, 0],\n  2019: [28.092354161115164, 64.58835295615728, 0.712121212121212],\n  2020: [40.398897374888776, 112.61192423911103, 3.018867924528302],\n  2021: [49.74428155142143, 161.65226550009714, 4.238095238095238]},\n 'Romania': {2010: [102.3452380952381, 224.41637112887074, 4.833333333333332],\n  2011: [113.45227448703072, 208.49732711732693, 7.166666666666665],\n  2012: [132.9226712862302, 231.9252223939292, 2.6],\n  2013: [143.4464648247568, 275.49264541855365, 2.7254901960784315],\n  2014: [135.32536565891127, 265.30135664986386, 4.111111111111111],\n  2015: [218.49654600718384, 362.677322401475, 4.444444444444445],\n  2016: [209.08886201940953, 417.7254234327249, 9.33333333333333],\n  2017: [254.91587467225, 505.72688279754016, 16.469444444444438],\n  2018: [306.92765908178467, 571.3271385225459, 21.957142857142873],\n  2019: [389.18965638674484, 674.4638055986852, 23.287153169411216],\n  2020: [526.3144257919921, 840.307269096003, 35.67065363881405],\n  2021: [682.30129468316, 1121.0690782143165, 78.77241746707256]},\n 'Greece': {2010: [242.51641414141392, 331.07441265472545, 6.9761904761904745],\n  2011: [211.44329874055464, 353.20928370611523, 4.476190476190477],\n  2012: [239.41812712972808, 430.4888470359399, 9.597222222222221],\n  2013: [234.92309418308142, 406.3939379972716, 14.861904761904764],\n  2014: [218.63857266864756, 422.97625350134325, 10.634570494864613],\n  2015: [322.9957857811716, 481.13746762488665, 9.80238095238095],\n  2016: [328.20884856351506, 584.9374947348175, 13.186904761904762],\n  2017: [366.4038768813616, 630.4870022656656, 20.04113886113886],\n  2018: [488.501779435841, 651.3409391946412, 25.768542568542554],\n  2019: [601.8913087775074, 708.546405163488, 34.50712486438294],\n  2020: [814.83405846641, 990.2021075426661, 64.24337606837626],\n  2021: [1033.4285967056517, 1307.2509198330636, 97.38595557646087]},\n 'Croatia': {2010: [42.512987012987004,\n   104.41344211344212,\n   0.9999999999999999],\n  2011: [42.509523809523834, 112.56364746364754, 3.6000000000000005],\n  2012: [54.40064657564663, 152.09302499786492, 1.6],\n  2013: [52.753852976288016, 121.19256382019546, 0],\n  2014: [57.64242668151718, 85.0776560868515, 2.1746031746031744],\n  2015: [80.51863491034364, 156.13175770483844, 3.266666666666667],\n  2016: [86.22918470418476, 187.45208152752969, 3.750000000000001],\n  2017: [76.55990991964705, 217.2628361978733, 2.983333333333334],\n  2018: [111.69284127580768, 285.9979175712953, 6.120138888888889],\n  2019: [129.51660347529548, 293.8490173106695, 10.1],\n  2020: [215.3962946917014, 375.3143864840614, 16.364322469982845],\n  2021: [266.0001007372244, 530.3190194904699, 27.067862296433706]},\n 'Bulgaria': {2010: [17.576190476190483,\n   39.227777777777796,\n   1.1666666666666667],\n  2011: [17.539393939393932, 39.841157584245835, 0.5],\n  2012: [17.71379345292388, 44.12133144633145, 0.5454545454545455],\n  2013: [18.20973769081741, 36.48582919918061, 0.16408668730650156],\n  2014: [22.697683341723323, 63.329516499582475, 0.5873015873015872],\n  2015: [28.74063490660138, 66.56417405511614, 0.8333333333333333],\n  2016: [38.73685908239961, 63.36526105340918, 2.6666666666666665],\n  2017: [44.514104468894494, 88.93008095136007, 2.773892773892774],\n  2018: [58.91292408960499, 109.0791392923804, 1.0454545454545454],\n  2019: [76.64000399577802, 95.49172232893852, 0.282258064516129],\n  2020: [93.38671305982308, 179.64454116077235, 5.113600628930818],\n  2021: [109.2598765115216, 183.08936568950844, 8.876216843326477]},\n 'China': {2010: [2611.5874062216567, 2638.123239842551, 49.70952380952388],\n  2011: [3093.8469406943655, 3204.0731125834554, 67.42341269841285],\n  2012: [3663.493943969961, 3808.6379239629628, 80.62341269841279],\n  2013: [4555.786842972835, 5087.228047268068, 110.4962773337773],\n  2014: [5774.94067338249, 6058.063355246649, 139.7301587301586],\n  2015: [7901.265853794445, 7901.056835905692, 210.35893249262713],\n  2016: [10516.52242713624, 9864.187286078986, 322.01226053639664],\n  2017: [12889.399853610623, 11899.308308028993, 425.4903409516993],\n  2018: [20096.989509045838, 15839.184252381017, 651.0206855157553],\n  2019: [30398.073342688032, 20566.094155783027, 1065.5123238845233],\n  2020: [39086.84609861004, 25869.452461723416, 1481.0745120064053],\n  2021: [44778.99791880659, 32464.160003258574, 2151.744408559095]},\n 'EU': {2010: [4518.05837551923, 9032.43129192576, 98.17878787878787],\n  2011: [5162.819038546009, 10446.936452359365, 123.76929059502582],\n  2012: [5900.543249034008, 11787.108880727135, 142.55924630924625],\n  2013: [6730.114121129425, 13634.886689216182, 159.69999492251802],\n  2014: [7087.407645458843, 14923.043162665832, 220.12451214935726],\n  2015: [8896.125858206935, 18151.521946009907, 265.05964636050334],\n  2016: [10100.525657825861, 20344.977461599996, 365.28619472706566],\n  2017: [10987.828042642512, 22096.764485245676, 453.47970550467727],\n  2018: [14880.254475164378, 25724.765964572216, 663.9084053686693],\n  2019: [18664.472074166562, 27662.720338216863, 809.5231824735819],\n  2020: [24900.67104823489, 36196.78366180568, 1495.1286121583196],\n  2021: [29877.084091330995, 45030.35863309647, 2176.8538752845957]}}"
     },
     "execution_count": 34,
     "metadata": {},
     "output_type": "execute_result"
    }
   ],
   "source": [
    "dic_countries"
   ],
   "metadata": {
    "collapsed": false
   }
  },
  {
   "cell_type": "code",
   "execution_count": 42,
   "outputs": [],
   "source": [
    "cols = plotly.colors.DEFAULT_PLOTLY_COLORS\n",
    "# cols = plotly.colors.qualitative.T10\n",
    "\n",
    "for country in dic_countries:\n",
    "    df_country = pd.DataFrame.from_dict(dic_countries[country], orient='index' , columns=['Digital', 'SDG', 'Intersection'])\n",
    "    fig = make_subplots(specs=[[{\"secondary_y\": True}]])\n",
    "\n",
    "\n",
    "    fig.add_trace(\n",
    "        go.Scatter(\n",
    "            name=\"DT\",\n",
    "            x=df_country.index,\n",
    "            y=df_country.Digital,\n",
    "            line=dict(width=2, color=cols[0], dash=\"longdash\")\n",
    "        ),\n",
    "        secondary_y=False\n",
    "    )\n",
    "\n",
    "    fig.add_trace(\n",
    "        go.Scatter(\n",
    "            name=\"SDG\",\n",
    "            x=df_country.index,\n",
    "            y=df_country.SDG,\n",
    "            line=dict(width=2, color=cols[2], dash=\"solid\"),\n",
    "\n",
    "        ),\n",
    "    )\n",
    "    fig.add_trace(\n",
    "        go.Scatter(\n",
    "            name=\"SDG-DT\",\n",
    "            x=df_country.index,\n",
    "            y=df_country.Intersection,\n",
    "            line=dict(width=2, color=cols[1], dash=\"dot\")\n",
    "        ),\n",
    "        secondary_y=True\n",
    "    )\n",
    "\n",
    "\n",
    "\n",
    "    fig.update_layout(title=f\"Evolution of DT, SDG and SDG-DT publications for <b>{country}</b>\", template=\"simple_white\")\n",
    "    fig.update_layout(template=\"simple_white\",\n",
    "                  font=dict(size=18),\n",
    "                  legend=dict\n",
    "                      (\n",
    "                        yanchor=\"top\",\n",
    "                        y=1,\n",
    "                        xanchor=\"left\",\n",
    "                        x=0.01,\n",
    "                        bordercolor=\"Black\",\n",
    "                        borderwidth=2\n",
    "                    )\n",
    "                  )\n",
    "    fig.update_xaxes(title_text=\"Year\")\n",
    "    fig.update_yaxes(title_text=\"Total number of publications for SDG-DT\", secondary_y=True)\n",
    "    fig.update_yaxes(title_text=\"Total number of publications \", secondary_y=False)\n",
    "    fig.write_image(\"../img/Commission/appendix/\"+country+\".jpeg\", width=1080, height=800)\n"
   ],
   "metadata": {
    "collapsed": false
   }
  },
  {
   "cell_type": "code",
   "execution_count": 48,
   "outputs": [
    {
     "data": {
      "text/plain": "{2010: [661.3609758403198, 1069.0903449094883, 14.36666666666666],\n 2011: [738.659644822305, 1260.351260050644, 11.41428571428572],\n 2012: [822.4358313609446, 1351.621634245744, 11.881349206349203],\n 2013: [1010.426893547677, 1625.5312340621208, 24.586694677871137],\n 2014: [1083.2954722918462, 1874.3981651005595, 28.523088023088025],\n 2015: [1416.1825309965864, 2461.798374489062, 46.46776001776005],\n 2016: [1679.6278573091336, 2931.0875786338006, 64.83540267204073],\n 2017: [1941.5628659674176, 3169.1413318708646, 81.71309971637557],\n 2018: [2580.4285023031453, 3734.1399475126495, 114.41736388611427],\n 2019: [3069.219804650775, 4015.132319532454, 110.45692414940082],\n 2020: [4304.92821791499, 6213.765032936683, 313.3829797112576],\n 2021: [4950.616605377393, 7586.112669988954, 397.87520005544235]}"
     },
     "execution_count": 48,
     "metadata": {},
     "output_type": "execute_result"
    }
   ],
   "source": [
    "# Germany DT = 24312 pubs"
   ],
   "metadata": {
    "collapsed": false
   }
  },
  {
   "cell_type": "code",
   "execution_count": 49,
   "outputs": [
    {
     "name": "stdout",
     "output_type": "stream",
     "text": [
      "37292.169893333026\n",
      "1219.9208144966522\n"
     ]
    }
   ],
   "source": [
    "italy =  dic_countries['Italy']\n",
    "\n",
    "sdg = 0\n",
    "sdg_dt = 0\n",
    "for year in italy:\n",
    "    sdg += italy[year][1]\n",
    "    sdg_dt +=italy[year][2]\n",
    "print(sdg)\n",
    "print(sdg_dt)"
   ],
   "metadata": {
    "collapsed": false
   }
  },
  {
   "cell_type": "code",
   "execution_count": 50,
   "outputs": [
    {
     "data": {
      "text/plain": "                   gdppc      pop2022           gdp\nCountry                                            \nLuxembourg      118001.0      647.599  7.641733e+07\nIreland          94392.0     5023.109  4.741413e+08\nSwitzerland      72874.0     8740.472  6.369532e+08\nNorway           65800.0     5434.319  3.575782e+08\nUnited States    63416.0   338289.857  2.145299e+10\nDenmark          58932.0     5882.261  3.466534e+08\nNetherlands      57534.0    17564.014  1.010528e+09\nAustria          55218.0     8939.617  4.936278e+08\nSweden           54146.0    10549.347  5.712049e+08\nGermany          54076.0    83369.843  4.508308e+09\nAustralia        51680.0    26177.413  1.352849e+09\nBelgium          51096.0    11655.930  5.955714e+08\nFinland          49853.0     5540.745  2.762228e+08\nCanada           48720.0    38454.327  1.873495e+09\nFrance           46062.0    64626.628  2.976832e+09\nSouth Korea      44621.0    51815.810  2.312073e+09\nUnited Kingdom   44117.0    67508.936  2.978292e+09\nMalta            42856.0      533.286  2.285450e+07\nJapan            42248.0   123951.692  5.236711e+09\nItaly            40861.0    59037.474  2.412330e+09\nCzech Republic   40618.0    10493.986  4.262447e+08\nIsrael           40547.0     9038.309  3.664763e+08\nCyprus           40107.0     1251.488  5.019343e+07\nSlovenia         40067.0     2119.844  8.493579e+07\nSpain            39121.0    47558.630  1.860541e+09\nEstonia          38834.0     1326.062  5.149629e+07\nLithuania        38824.0     2750.055  1.067681e+08\nPoland           34103.0    39857.145  1.359248e+09\nPortugal         34043.0    10270.865  3.496511e+08\nHungary          33030.0     9967.308  3.292202e+08\nSlovakia         32709.0     5643.453  1.845917e+08\nLatvia           31509.0     1850.651  5.831216e+07\nRomania          30526.0    19659.267  6.001188e+08\nGreece           28748.0    10384.971  2.985471e+08\nCroatia          27717.0     4030.358  1.117094e+08\nBulgaria         23817.0     6781.953  1.615258e+08\nChina            17192.0  1425887.337  2.451386e+10\nEU               44024.0   446800.000           NaN",
      "text/html": "<div>\n<style scoped>\n    .dataframe tbody tr th:only-of-type {\n        vertical-align: middle;\n    }\n\n    .dataframe tbody tr th {\n        vertical-align: top;\n    }\n\n    .dataframe thead th {\n        text-align: right;\n    }\n</style>\n<table border=\"1\" class=\"dataframe\">\n  <thead>\n    <tr style=\"text-align: right;\">\n      <th></th>\n      <th>gdppc</th>\n      <th>pop2022</th>\n      <th>gdp</th>\n    </tr>\n    <tr>\n      <th>Country</th>\n      <th></th>\n      <th></th>\n      <th></th>\n    </tr>\n  </thead>\n  <tbody>\n    <tr>\n      <th>Luxembourg</th>\n      <td>118001.0</td>\n      <td>647.599</td>\n      <td>7.641733e+07</td>\n    </tr>\n    <tr>\n      <th>Ireland</th>\n      <td>94392.0</td>\n      <td>5023.109</td>\n      <td>4.741413e+08</td>\n    </tr>\n    <tr>\n      <th>Switzerland</th>\n      <td>72874.0</td>\n      <td>8740.472</td>\n      <td>6.369532e+08</td>\n    </tr>\n    <tr>\n      <th>Norway</th>\n      <td>65800.0</td>\n      <td>5434.319</td>\n      <td>3.575782e+08</td>\n    </tr>\n    <tr>\n      <th>United States</th>\n      <td>63416.0</td>\n      <td>338289.857</td>\n      <td>2.145299e+10</td>\n    </tr>\n    <tr>\n      <th>Denmark</th>\n      <td>58932.0</td>\n      <td>5882.261</td>\n      <td>3.466534e+08</td>\n    </tr>\n    <tr>\n      <th>Netherlands</th>\n      <td>57534.0</td>\n      <td>17564.014</td>\n      <td>1.010528e+09</td>\n    </tr>\n    <tr>\n      <th>Austria</th>\n      <td>55218.0</td>\n      <td>8939.617</td>\n      <td>4.936278e+08</td>\n    </tr>\n    <tr>\n      <th>Sweden</th>\n      <td>54146.0</td>\n      <td>10549.347</td>\n      <td>5.712049e+08</td>\n    </tr>\n    <tr>\n      <th>Germany</th>\n      <td>54076.0</td>\n      <td>83369.843</td>\n      <td>4.508308e+09</td>\n    </tr>\n    <tr>\n      <th>Australia</th>\n      <td>51680.0</td>\n      <td>26177.413</td>\n      <td>1.352849e+09</td>\n    </tr>\n    <tr>\n      <th>Belgium</th>\n      <td>51096.0</td>\n      <td>11655.930</td>\n      <td>5.955714e+08</td>\n    </tr>\n    <tr>\n      <th>Finland</th>\n      <td>49853.0</td>\n      <td>5540.745</td>\n      <td>2.762228e+08</td>\n    </tr>\n    <tr>\n      <th>Canada</th>\n      <td>48720.0</td>\n      <td>38454.327</td>\n      <td>1.873495e+09</td>\n    </tr>\n    <tr>\n      <th>France</th>\n      <td>46062.0</td>\n      <td>64626.628</td>\n      <td>2.976832e+09</td>\n    </tr>\n    <tr>\n      <th>South Korea</th>\n      <td>44621.0</td>\n      <td>51815.810</td>\n      <td>2.312073e+09</td>\n    </tr>\n    <tr>\n      <th>United Kingdom</th>\n      <td>44117.0</td>\n      <td>67508.936</td>\n      <td>2.978292e+09</td>\n    </tr>\n    <tr>\n      <th>Malta</th>\n      <td>42856.0</td>\n      <td>533.286</td>\n      <td>2.285450e+07</td>\n    </tr>\n    <tr>\n      <th>Japan</th>\n      <td>42248.0</td>\n      <td>123951.692</td>\n      <td>5.236711e+09</td>\n    </tr>\n    <tr>\n      <th>Italy</th>\n      <td>40861.0</td>\n      <td>59037.474</td>\n      <td>2.412330e+09</td>\n    </tr>\n    <tr>\n      <th>Czech Republic</th>\n      <td>40618.0</td>\n      <td>10493.986</td>\n      <td>4.262447e+08</td>\n    </tr>\n    <tr>\n      <th>Israel</th>\n      <td>40547.0</td>\n      <td>9038.309</td>\n      <td>3.664763e+08</td>\n    </tr>\n    <tr>\n      <th>Cyprus</th>\n      <td>40107.0</td>\n      <td>1251.488</td>\n      <td>5.019343e+07</td>\n    </tr>\n    <tr>\n      <th>Slovenia</th>\n      <td>40067.0</td>\n      <td>2119.844</td>\n      <td>8.493579e+07</td>\n    </tr>\n    <tr>\n      <th>Spain</th>\n      <td>39121.0</td>\n      <td>47558.630</td>\n      <td>1.860541e+09</td>\n    </tr>\n    <tr>\n      <th>Estonia</th>\n      <td>38834.0</td>\n      <td>1326.062</td>\n      <td>5.149629e+07</td>\n    </tr>\n    <tr>\n      <th>Lithuania</th>\n      <td>38824.0</td>\n      <td>2750.055</td>\n      <td>1.067681e+08</td>\n    </tr>\n    <tr>\n      <th>Poland</th>\n      <td>34103.0</td>\n      <td>39857.145</td>\n      <td>1.359248e+09</td>\n    </tr>\n    <tr>\n      <th>Portugal</th>\n      <td>34043.0</td>\n      <td>10270.865</td>\n      <td>3.496511e+08</td>\n    </tr>\n    <tr>\n      <th>Hungary</th>\n      <td>33030.0</td>\n      <td>9967.308</td>\n      <td>3.292202e+08</td>\n    </tr>\n    <tr>\n      <th>Slovakia</th>\n      <td>32709.0</td>\n      <td>5643.453</td>\n      <td>1.845917e+08</td>\n    </tr>\n    <tr>\n      <th>Latvia</th>\n      <td>31509.0</td>\n      <td>1850.651</td>\n      <td>5.831216e+07</td>\n    </tr>\n    <tr>\n      <th>Romania</th>\n      <td>30526.0</td>\n      <td>19659.267</td>\n      <td>6.001188e+08</td>\n    </tr>\n    <tr>\n      <th>Greece</th>\n      <td>28748.0</td>\n      <td>10384.971</td>\n      <td>2.985471e+08</td>\n    </tr>\n    <tr>\n      <th>Croatia</th>\n      <td>27717.0</td>\n      <td>4030.358</td>\n      <td>1.117094e+08</td>\n    </tr>\n    <tr>\n      <th>Bulgaria</th>\n      <td>23817.0</td>\n      <td>6781.953</td>\n      <td>1.615258e+08</td>\n    </tr>\n    <tr>\n      <th>China</th>\n      <td>17192.0</td>\n      <td>1425887.337</td>\n      <td>2.451386e+10</td>\n    </tr>\n    <tr>\n      <th>EU</th>\n      <td>44024.0</td>\n      <td>446800.000</td>\n      <td>NaN</td>\n    </tr>\n  </tbody>\n</table>\n</div>"
     },
     "execution_count": 50,
     "metadata": {},
     "output_type": "execute_result"
    }
   ],
   "source": [
    "gdp"
   ],
   "metadata": {
    "collapsed": false
   }
  },
  {
   "cell_type": "code",
   "execution_count": 66,
   "outputs": [
    {
     "data": {
      "text/plain": "64626.628"
     },
     "execution_count": 66,
     "metadata": {},
     "output_type": "execute_result"
    }
   ],
   "source": [
    "gdp.loc['France',\"pop2022\"]"
   ],
   "metadata": {
    "collapsed": false
   }
  },
  {
   "cell_type": "markdown",
   "source": [
    "## Figure 11 : Trends US, China, UE, UK, Japan"
   ],
   "metadata": {
    "collapsed": false
   }
  },
  {
   "cell_type": "code",
   "execution_count": 12,
   "outputs": [
    {
     "data": {
      "text/plain": "{'United States': {2010: [3827.8277191647476,\n   8138.425843098675,\n   85.05465367965365],\n  2011: [4181.755856299562, 9169.578306936299, 107.5431022408965],\n  2012: [4444.840971820544, 10026.6917908867, 106.58772200022223],\n  2013: [5068.594143606259, 11563.48868185847, 162.162987421076],\n  2014: [5557.598448107148, 12631.9030379603, 190.02493611479707],\n  2015: [6868.27942836697, 14393.549338827108, 214.3324873861201],\n  2016: [7806.805891258787, 15746.62936992477, 240.14276252820818],\n  2017: [8764.225935426293, 17460.509558971924, 327.6719758797512],\n  2018: [11977.64571087447, 19353.746426541926, 442.37105826306964],\n  2019: [14903.060281712616, 20310.085190289352, 601.53682807504],\n  2020: [18862.176959535, 25042.326956292687, 928.3533079837819],\n  2021: [20989.639315678607, 29650.988431400914, 1284.0445330146606]},\n 'United Kingdom': {2010: [958.6234008600168,\n   2636.9215011807883,\n   13.368460925039862],\n  2011: [1043.6386419779562, 2887.756070702535, 27.7516806722689],\n  2012: [1124.6890393435604, 3267.6833558029025, 25.17829254079252],\n  2013: [1286.710662335275, 3622.700307196548, 33.14281994235547],\n  2014: [1360.4028952709323, 3734.8969543741546, 44.358473389355765],\n  2015: [1756.005593620686, 4602.19740426433, 65.35722095092827],\n  2016: [2141.9278913877724, 4983.77174044762, 92.73324654272947],\n  2017: [2446.3391139158757, 5280.407857946503, 98.02208654374276],\n  2018: [3358.5540774060273, 6115.499068336853, 147.66482119838716],\n  2019: [4110.245935613097, 6436.3981084216975, 211.27578051736134],\n  2020: [5130.082305170157, 7960.513219190939, 261.3600937712416],\n  2021: [5676.3901155914045, 9677.173951134013, 435.4854248934916]},\n 'Japan': {2010: [778.6377844513785, 861.7551322551375, 10.259523809523806],\n  2011: [824.5458193587904, 935.296896790892, 10.459523809523809],\n  2012: [806.9035170065877, 1019.5104268455916, 13.976190476190476],\n  2013: [892.8187515115134, 1180.2537845505842, 16.44545454545455],\n  2014: [917.3305917369876, 1181.4134751087047, 15.530042016806723],\n  2015: [1223.6246677105748, 1381.706180068795, 25.855072463768096],\n  2016: [1364.912524225221, 1580.7224496259169, 32.33769841269841],\n  2017: [1597.5328689815933, 1669.9901412897912, 44.93988413547245],\n  2018: [2152.687414008599, 1893.6950111173483, 64.9866132315399],\n  2019: [2621.273714970832, 1958.922264557403, 76.46975500345089],\n  2020: [3461.4140982303693, 2481.4279672340526, 88.69060183882192],\n  2021: [4022.7544361951645, 3303.804467765964, 160.67389756626054]},\n 'China': {2010: [2611.5874062216567, 2638.123239842551, 49.70952380952388],\n  2011: [3093.8469406943655, 3204.0731125834554, 67.42341269841285],\n  2012: [3663.493943969961, 3808.6379239629628, 80.62341269841279],\n  2013: [4555.786842972835, 5087.228047268068, 110.4962773337773],\n  2014: [5774.94067338249, 6058.063355246649, 139.7301587301586],\n  2015: [7901.265853794445, 7901.056835905692, 210.35893249262713],\n  2016: [10516.52242713624, 9864.187286078986, 322.01226053639664],\n  2017: [12889.399853610623, 11899.308308028993, 425.4903409516993],\n  2018: [20096.989509045838, 15839.184252381017, 651.0206855157553],\n  2019: [30398.073342688032, 20566.094155783027, 1065.5123238845233],\n  2020: [39086.84609861004, 25869.452461723416, 1481.0745120064053],\n  2021: [44778.99791880659, 32464.160003258574, 2151.744408559095]},\n 'EU': {2010: [4518.05837551923, 9032.43129192576, 98.17878787878787],\n  2011: [5162.819038546009, 10446.936452359365, 123.76929059502582],\n  2012: [5900.543249034008, 11787.108880727135, 142.55924630924625],\n  2013: [6730.114121129425, 13634.886689216182, 159.69999492251802],\n  2014: [7087.407645458843, 14923.043162665832, 220.12451214935726],\n  2015: [8896.125858206935, 18151.521946009907, 265.05964636050334],\n  2016: [10100.525657825861, 20344.977461599996, 365.28619472706566],\n  2017: [10987.828042642512, 22096.764485245676, 453.47970550467727],\n  2018: [14880.254475164378, 25724.765964572216, 663.9084053686693],\n  2019: [18664.472074166562, 27662.720338216863, 809.5231824735819],\n  2020: [24900.67104823489, 36196.78366180568, 1495.1286121583196],\n  2021: [29877.084091330995, 45030.35863309647, 2176.8538752845957]}}"
     },
     "execution_count": 12,
     "metadata": {},
     "output_type": "execute_result"
    }
   ],
   "source": [
    "subset_dic_countries = {key:value for key, value in dic_countries.items() if key in ['United States', 'United Kingdom', 'EU', 'China', 'Japan']}\n",
    "subset_dic_countries\n"
   ],
   "metadata": {
    "collapsed": false
   }
  },
  {
   "cell_type": "code",
   "execution_count": 13,
   "outputs": [
    {
     "data": {
      "text/plain": "          Digital          SDG  Intersection\n2010   524.584401  1035.915022     10.183333\n2011   619.826892  1176.971894     10.515801\n2012   686.338736  1267.583810     14.425433\n2013   811.336869  1536.123146     17.078583\n2014   864.959690  1556.924855     25.306349\n2015  1042.242115  1785.430417     27.800977\n2016  1170.539676  1942.794354     32.139568\n2017  1200.362660  2067.654789     44.827212\n2018  1656.193695  2354.999961     55.446691\n2019  1909.610859  2338.015797     72.118154\n2020  2367.603970  2870.513151    102.242623\n2021  2835.875463  3358.033343    139.323046",
      "text/html": "<div>\n<style scoped>\n    .dataframe tbody tr th:only-of-type {\n        vertical-align: middle;\n    }\n\n    .dataframe tbody tr th {\n        vertical-align: top;\n    }\n\n    .dataframe thead th {\n        text-align: right;\n    }\n</style>\n<table border=\"1\" class=\"dataframe\">\n  <thead>\n    <tr style=\"text-align: right;\">\n      <th></th>\n      <th>Digital</th>\n      <th>SDG</th>\n      <th>Intersection</th>\n    </tr>\n  </thead>\n  <tbody>\n    <tr>\n      <th>2010</th>\n      <td>524.584401</td>\n      <td>1035.915022</td>\n      <td>10.183333</td>\n    </tr>\n    <tr>\n      <th>2011</th>\n      <td>619.826892</td>\n      <td>1176.971894</td>\n      <td>10.515801</td>\n    </tr>\n    <tr>\n      <th>2012</th>\n      <td>686.338736</td>\n      <td>1267.583810</td>\n      <td>14.425433</td>\n    </tr>\n    <tr>\n      <th>2013</th>\n      <td>811.336869</td>\n      <td>1536.123146</td>\n      <td>17.078583</td>\n    </tr>\n    <tr>\n      <th>2014</th>\n      <td>864.959690</td>\n      <td>1556.924855</td>\n      <td>25.306349</td>\n    </tr>\n    <tr>\n      <th>2015</th>\n      <td>1042.242115</td>\n      <td>1785.430417</td>\n      <td>27.800977</td>\n    </tr>\n    <tr>\n      <th>2016</th>\n      <td>1170.539676</td>\n      <td>1942.794354</td>\n      <td>32.139568</td>\n    </tr>\n    <tr>\n      <th>2017</th>\n      <td>1200.362660</td>\n      <td>2067.654789</td>\n      <td>44.827212</td>\n    </tr>\n    <tr>\n      <th>2018</th>\n      <td>1656.193695</td>\n      <td>2354.999961</td>\n      <td>55.446691</td>\n    </tr>\n    <tr>\n      <th>2019</th>\n      <td>1909.610859</td>\n      <td>2338.015797</td>\n      <td>72.118154</td>\n    </tr>\n    <tr>\n      <th>2020</th>\n      <td>2367.603970</td>\n      <td>2870.513151</td>\n      <td>102.242623</td>\n    </tr>\n    <tr>\n      <th>2021</th>\n      <td>2835.875463</td>\n      <td>3358.033343</td>\n      <td>139.323046</td>\n    </tr>\n  </tbody>\n</table>\n</div>"
     },
     "execution_count": 13,
     "metadata": {},
     "output_type": "execute_result"
    }
   ],
   "source": [
    "df_country = pd.DataFrame.from_dict(dic_countries['France'], orient='index' , columns=['Digital', 'SDG', 'Intersection'])\n",
    "df_country"
   ],
   "metadata": {
    "collapsed": false
   }
  },
  {
   "cell_type": "code",
   "execution_count": 15,
   "outputs": [
    {
     "data": {
      "application/vnd.plotly.v1+json": {
       "data": [
        {
         "line": {
          "color": "rgb(31, 119, 180)",
          "width": 4
         },
         "marker": {
          "size": 12,
          "symbol": "circle"
         },
         "mode": "lines+markers",
         "name": "United States",
         "x": [
          2010,
          2011,
          2012,
          2013,
          2014,
          2015,
          2016,
          2017,
          2018,
          2019,
          2020,
          2021
         ],
         "y": [
          8138.425843098675,
          9169.578306936299,
          10026.6917908867,
          11563.48868185847,
          12631.9030379603,
          14393.549338827108,
          15746.62936992477,
          17460.509558971924,
          19353.746426541926,
          20310.085190289352,
          25042.326956292687,
          29650.988431400914
         ],
         "type": "scatter",
         "xaxis": "x",
         "yaxis": "y"
        },
        {
         "line": {
          "color": "rgb(31, 119, 180)",
          "width": 4
         },
         "marker": {
          "size": 15,
          "symbol": "circle"
         },
         "showlegend": false,
         "x": [
          2010,
          2011,
          2012,
          2013,
          2014,
          2015,
          2016,
          2017,
          2018,
          2019,
          2020,
          2021
         ],
         "y": [
          0.024057552050987665,
          0.02710568501300439,
          0.029639350939471707,
          0.03418219152180631,
          0.0373404723096983,
          0.04254797783909645,
          0.04654774313828975,
          0.05161404989736929,
          0.05721054304782754,
          0.06003752335468146,
          0.0740262424016239,
          0.08764965256230225
         ],
         "type": "scatter",
         "xaxis": "x2",
         "yaxis": "y2"
        },
        {
         "line": {
          "color": "rgb(31, 119, 180)",
          "width": 4
         },
         "marker": {
          "size": 15,
          "symbol": "circle"
         },
         "showlegend": false,
         "x": [
          2010,
          2011,
          2012,
          2013,
          2014,
          2015,
          2016,
          2017,
          2018,
          2019,
          2020,
          2021
         ],
         "y": [
          3827.8277191647476,
          4181.755856299562,
          4444.840971820544,
          5068.594143606259,
          5557.598448107148,
          6868.27942836697,
          7806.805891258787,
          8764.225935426293,
          11977.64571087447,
          14903.060281712616,
          18862.176959535,
          20989.639315678607
         ],
         "type": "scatter",
         "xaxis": "x3",
         "yaxis": "y3"
        },
        {
         "line": {
          "color": "rgb(31, 119, 180)",
          "width": 4
         },
         "marker": {
          "size": 15,
          "symbol": "circle"
         },
         "showlegend": false,
         "x": [
          2010,
          2011,
          2012,
          2013,
          2014,
          2015,
          2016,
          2017,
          2018,
          2019,
          2020,
          2021
         ],
         "y": [
          0.011315230533692138,
          0.012361457991628645,
          0.013139149400570245,
          0.014982991770889126,
          0.016428510441881643,
          0.020302942243896394,
          0.02307726858999141,
          0.025907445210295775,
          0.035406458287262424,
          0.04405411505350755,
          0.05575744164134073,
          0.06204631584824196
         ],
         "type": "scatter",
         "xaxis": "x4",
         "yaxis": "y4"
        },
        {
         "line": {
          "color": "rgb(31, 119, 180)",
          "width": 4
         },
         "marker": {
          "size": 15,
          "symbol": "circle"
         },
         "showlegend": false,
         "x": [
          2010,
          2011,
          2012,
          2013,
          2014,
          2015,
          2016,
          2017,
          2018,
          2019,
          2020,
          2021
         ],
         "y": [
          85.05465367965365,
          107.5431022408965,
          106.58772200022223,
          162.162987421076,
          190.02493611479707,
          214.3324873861201,
          240.14276252820818,
          327.6719758797512,
          442.37105826306964,
          601.53682807504,
          928.3533079837819,
          1284.0445330146606
         ],
         "type": "scatter",
         "xaxis": "x5",
         "yaxis": "y5"
        },
        {
         "line": {
          "color": "rgb(31, 119, 180)",
          "width": 4
         },
         "marker": {
          "size": 15,
          "symbol": "circle"
         },
         "showlegend": false,
         "x": [
          2010,
          2011,
          2012,
          2013,
          2014,
          2015,
          2016,
          2017,
          2018,
          2019,
          2020,
          2021
         ],
         "y": [
          2.5142537359508727E-4,
          3.1790223684092454E-4,
          3.1507808997129414E-4,
          4.79361068815835E-4,
          5.617222396200813E-4,
          6.335764521196392E-4,
          7.098727838245772E-4,
          9.686130668699037E-4,
          0.0013076687021776998,
          0.0017781698612235957,
          0.002744254043607881,
          0.0037956932684938896
         ],
         "type": "scatter",
         "xaxis": "x6",
         "yaxis": "y6"
        },
        {
         "line": {
          "color": "rgb(255, 127, 14)",
          "width": 4
         },
         "marker": {
          "size": 12,
          "symbol": "square"
         },
         "mode": "lines+markers",
         "name": "United Kingdom",
         "x": [
          2010,
          2011,
          2012,
          2013,
          2014,
          2015,
          2016,
          2017,
          2018,
          2019,
          2020,
          2021
         ],
         "y": [
          2636.9215011807883,
          2887.756070702535,
          3267.6833558029025,
          3622.700307196548,
          3734.8969543741546,
          4602.19740426433,
          4983.77174044762,
          5280.407857946503,
          6115.499068336853,
          6436.3981084216975,
          7960.513219190939,
          9677.173951134013
         ],
         "type": "scatter",
         "xaxis": "x",
         "yaxis": "y"
        },
        {
         "line": {
          "color": "rgb(255, 127, 14)",
          "width": 4
         },
         "marker": {
          "size": 15,
          "symbol": "square"
         },
         "showlegend": false,
         "x": [
          2010,
          2011,
          2012,
          2013,
          2014,
          2015,
          2016,
          2017,
          2018,
          2019,
          2020,
          2021
         ],
         "y": [
          0.039060332711817414,
          0.042775908521244285,
          0.04840371585478554,
          0.05366253005671053,
          0.055324482589596054,
          0.0681716773652651,
          0.07382388222571927,
          0.078217909669714,
          0.0905879936892629,
          0.09534142425858552,
          0.11791791858771021,
          0.14334656305550442
         ],
         "type": "scatter",
         "xaxis": "x2",
         "yaxis": "y2"
        },
        {
         "line": {
          "color": "rgb(255, 127, 14)",
          "width": 4
         },
         "marker": {
          "size": 15,
          "symbol": "square"
         },
         "showlegend": false,
         "x": [
          2010,
          2011,
          2012,
          2013,
          2014,
          2015,
          2016,
          2017,
          2018,
          2019,
          2020,
          2021
         ],
         "y": [
          958.6234008600168,
          1043.6386419779562,
          1124.6890393435604,
          1286.710662335275,
          1360.4028952709323,
          1756.005593620686,
          2141.9278913877724,
          2446.3391139158757,
          3358.5540774060273,
          4110.245935613097,
          5130.082305170157,
          5676.3901155914045
         ],
         "type": "scatter",
         "xaxis": "x3",
         "yaxis": "y3"
        },
        {
         "line": {
          "color": "rgb(255, 127, 14)",
          "width": 4
         },
         "marker": {
          "size": 15,
          "symbol": "square"
         },
         "showlegend": false,
         "x": [
          2010,
          2011,
          2012,
          2013,
          2014,
          2015,
          2016,
          2017,
          2018,
          2019,
          2020,
          2021
         ],
         "y": [
          0.014199948298104073,
          0.015459266636611724,
          0.01665985432422695,
          0.0190598569400542,
          0.020151449213640878,
          0.026011454152094562,
          0.03172806473187153,
          0.0362372636700403,
          0.04974977056972172,
          0.06088447217732918,
          0.07599115923216679,
          0.08408353696451984
         ],
         "type": "scatter",
         "xaxis": "x4",
         "yaxis": "y4"
        },
        {
         "line": {
          "color": "rgb(255, 127, 14)",
          "width": 4
         },
         "marker": {
          "size": 15,
          "symbol": "square"
         },
         "showlegend": false,
         "x": [
          2010,
          2011,
          2012,
          2013,
          2014,
          2015,
          2016,
          2017,
          2018,
          2019,
          2020,
          2021
         ],
         "y": [
          13.368460925039862,
          27.7516806722689,
          25.17829254079252,
          33.14281994235547,
          44.358473389355765,
          65.35722095092827,
          92.73324654272947,
          98.02208654374276,
          147.66482119838716,
          211.27578051736134,
          261.3600937712416,
          435.4854248934916
         ],
         "type": "scatter",
         "xaxis": "x5",
         "yaxis": "y5"
        },
        {
         "line": {
          "color": "rgb(255, 127, 14)",
          "width": 4
         },
         "marker": {
          "size": 15,
          "symbol": "square"
         },
         "showlegend": false,
         "x": [
          2010,
          2011,
          2012,
          2013,
          2014,
          2015,
          2016,
          2017,
          2018,
          2019,
          2020,
          2021
         ],
         "y": [
          1.98025057379661E-4,
          4.110815888472735E-4,
          3.7296236665309787E-4,
          4.909397467374612E-4,
          6.570755816586379E-4,
          9.681269595321168E-4,
          0.0013736440245885296,
          0.0014519868383608173,
          0.002187337409648808,
          0.0031295972509085513,
          0.003871488861433716,
          0.006450781936386786
         ],
         "type": "scatter",
         "xaxis": "x6",
         "yaxis": "y6"
        },
        {
         "line": {
          "color": "rgb(44, 160, 44)",
          "width": 4
         },
         "marker": {
          "size": 12,
          "symbol": "diamond"
         },
         "mode": "lines+markers",
         "name": "Japan",
         "x": [
          2010,
          2011,
          2012,
          2013,
          2014,
          2015,
          2016,
          2017,
          2018,
          2019,
          2020,
          2021
         ],
         "y": [
          861.7551322551375,
          935.296896790892,
          1019.5104268455916,
          1180.2537845505842,
          1181.4134751087047,
          1381.706180068795,
          1580.7224496259169,
          1669.9901412897912,
          1893.6950111173483,
          1958.922264557403,
          2481.4279672340526,
          3303.804467765964
         ],
         "type": "scatter",
         "xaxis": "x",
         "yaxis": "y"
        },
        {
         "line": {
          "color": "rgb(44, 160, 44)",
          "width": 4
         },
         "marker": {
          "size": 15,
          "symbol": "diamond"
         },
         "showlegend": false,
         "x": [
          2010,
          2011,
          2012,
          2013,
          2014,
          2015,
          2016,
          2017,
          2018,
          2019,
          2020,
          2021
         ],
         "y": [
          0.0069523466630462575,
          0.007545656551351409,
          0.008225062606209454,
          0.009521885224048288,
          0.009531241212170825,
          0.011147134482591775,
          0.012752729907276432,
          0.0134729112151998,
          0.015277685851334311,
          0.01580391709826279,
          0.02001931500244509,
          0.026653968287629056
         ],
         "type": "scatter",
         "xaxis": "x2",
         "yaxis": "y2"
        },
        {
         "line": {
          "color": "rgb(44, 160, 44)",
          "width": 4
         },
         "marker": {
          "size": 15,
          "symbol": "diamond"
         },
         "showlegend": false,
         "x": [
          2010,
          2011,
          2012,
          2013,
          2014,
          2015,
          2016,
          2017,
          2018,
          2019,
          2020,
          2021
         ],
         "y": [
          778.6377844513785,
          824.5458193587904,
          806.9035170065877,
          892.8187515115134,
          917.3305917369876,
          1223.6246677105748,
          1364.912524225221,
          1597.5328689815933,
          2152.687414008599,
          2621.273714970832,
          3461.4140982303693,
          4022.7544361951645
         ],
         "type": "scatter",
         "xaxis": "x3",
         "yaxis": "y3"
        },
        {
         "line": {
          "color": "rgb(44, 160, 44)",
          "width": 4
         },
         "marker": {
          "size": 15,
          "symbol": "diamond"
         },
         "showlegend": false,
         "x": [
          2010,
          2011,
          2012,
          2013,
          2014,
          2015,
          2016,
          2017,
          2018,
          2019,
          2020,
          2021
         ],
         "y": [
          0.006281784232936316,
          0.006652154610029772,
          0.006509822528332955,
          0.007202957354640334,
          0.00740071052629913,
          0.009871786725675152,
          0.011011648991650885,
          0.012888350640518836,
          0.017367148275867012,
          0.021147542826368455,
          0.0279255090622754,
          0.03245421156651226
         ],
         "type": "scatter",
         "xaxis": "x4",
         "yaxis": "y4"
        },
        {
         "line": {
          "color": "rgb(44, 160, 44)",
          "width": 4
         },
         "marker": {
          "size": 15,
          "symbol": "diamond"
         },
         "showlegend": false,
         "x": [
          2010,
          2011,
          2012,
          2013,
          2014,
          2015,
          2016,
          2017,
          2018,
          2019,
          2020,
          2021
         ],
         "y": [
          10.259523809523806,
          10.459523809523809,
          13.976190476190476,
          16.44545454545455,
          15.530042016806723,
          25.855072463768096,
          32.33769841269841,
          44.93988413547245,
          64.9866132315399,
          76.46975500345089,
          88.69060183882192,
          160.67389756626054
         ],
         "type": "scatter",
         "xaxis": "x5",
         "yaxis": "y5"
        },
        {
         "line": {
          "color": "rgb(44, 160, 44)",
          "width": 4
         },
         "marker": {
          "size": 15,
          "symbol": "diamond"
         },
         "showlegend": false,
         "x": [
          2010,
          2011,
          2012,
          2013,
          2014,
          2015,
          2016,
          2017,
          2018,
          2019,
          2020,
          2021
         ],
         "y": [
          8.2770340960927E-5,
          8.438387278750345E-5,
          1.1275514073813915E-4,
          1.3267632155803527E-4,
          1.2529108531093486E-4,
          2.0858991149364946E-4,
          2.6088952793559616E-4,
          3.625596666762116E-4,
          5.242898437525154E-4,
          6.16931917342854E-4,
          7.155255439257895E-4,
          0.0012962622371162189
         ],
         "type": "scatter",
         "xaxis": "x6",
         "yaxis": "y6"
        },
        {
         "line": {
          "color": "rgb(214, 39, 40)",
          "width": 4
         },
         "marker": {
          "size": 12,
          "symbol": "cross"
         },
         "mode": "lines+markers",
         "name": "China",
         "x": [
          2010,
          2011,
          2012,
          2013,
          2014,
          2015,
          2016,
          2017,
          2018,
          2019,
          2020,
          2021
         ],
         "y": [
          2638.123239842551,
          3204.0731125834554,
          3808.6379239629628,
          5087.228047268068,
          6058.063355246649,
          7901.056835905692,
          9864.187286078986,
          11899.308308028993,
          15839.184252381017,
          20566.094155783027,
          25869.452461723416,
          32464.160003258574
         ],
         "type": "scatter",
         "xaxis": "x",
         "yaxis": "y"
        },
        {
         "line": {
          "color": "rgb(214, 39, 40)",
          "width": 4
         },
         "marker": {
          "size": 15,
          "symbol": "cross"
         },
         "showlegend": false,
         "x": [
          2010,
          2011,
          2012,
          2013,
          2014,
          2015,
          2016,
          2017,
          2018,
          2019,
          2020,
          2021
         ],
         "y": [
          0.0018501624717370997,
          0.0022470731238308592,
          0.0026710651151276494,
          0.003567762974858418,
          0.004248626941306968,
          0.0055411508545472775,
          0.006917928948603171,
          0.008345195303483498,
          0.01110829996267862,
          0.014423365452598185,
          0.01814270439917892,
          0.02276768939652809
         ],
         "type": "scatter",
         "xaxis": "x2",
         "yaxis": "y2"
        },
        {
         "line": {
          "color": "rgb(214, 39, 40)",
          "width": 4
         },
         "marker": {
          "size": 15,
          "symbol": "cross"
         },
         "showlegend": false,
         "x": [
          2010,
          2011,
          2012,
          2013,
          2014,
          2015,
          2016,
          2017,
          2018,
          2019,
          2020,
          2021
         ],
         "y": [
          2611.5874062216567,
          3093.8469406943655,
          3663.493943969961,
          4555.786842972835,
          5774.94067338249,
          7901.265853794445,
          10516.52242713624,
          12889.399853610623,
          20096.989509045838,
          30398.073342688032,
          39086.84609861004,
          44778.99791880659
         ],
         "type": "scatter",
         "xaxis": "x3",
         "yaxis": "y3"
        },
        {
         "line": {
          "color": "rgb(214, 39, 40)",
          "width": 4
         },
         "marker": {
          "size": 15,
          "symbol": "cross"
         },
         "showlegend": false,
         "x": [
          2010,
          2011,
          2012,
          2013,
          2014,
          2015,
          2016,
          2017,
          2018,
          2019,
          2020,
          2021
         ],
         "y": [
          0.001831552422448967,
          0.002169769560618775,
          0.002569273075724047,
          0.003195053862080013,
          0.0040500679987331215,
          0.005541297442488225,
          0.007375423116711668,
          0.009039564009825148,
          0.014094374069783774,
          0.021318706291791712,
          0.02741229624834661,
          0.031404302960582775
         ],
         "type": "scatter",
         "xaxis": "x4",
         "yaxis": "y4"
        },
        {
         "line": {
          "color": "rgb(214, 39, 40)",
          "width": 4
         },
         "marker": {
          "size": 15,
          "symbol": "cross"
         },
         "showlegend": false,
         "x": [
          2010,
          2011,
          2012,
          2013,
          2014,
          2015,
          2016,
          2017,
          2018,
          2019,
          2020,
          2021
         ],
         "y": [
          49.70952380952388,
          67.42341269841285,
          80.62341269841279,
          110.4962773337773,
          139.7301587301586,
          210.35893249262713,
          322.01226053639664,
          425.4903409516993,
          651.0206855157553,
          1065.5123238845233,
          1481.0745120064053,
          2151.744408559095
         ],
         "type": "scatter",
         "xaxis": "x5",
         "yaxis": "y5"
        },
        {
         "line": {
          "color": "rgb(214, 39, 40)",
          "width": 4
         },
         "marker": {
          "size": 15,
          "symbol": "cross"
         },
         "showlegend": false,
         "x": [
          2010,
          2011,
          2012,
          2013,
          2014,
          2015,
          2016,
          2017,
          2018,
          2019,
          2020,
          2021
         ],
         "y": [
          3.486216794246198E-5,
          4.7285231412650414E-5,
          5.654262479673932E-5,
          7.749299293607324E-5,
          9.799523083229302E-5,
          1.4752843863191355E-4,
          2.258328916882699E-4,
          2.984038990393946E-4,
          4.565723171968637E-4,
          7.47262631651047E-4,
          0.0010387037415750648,
          0.0015090563978822228
         ],
         "type": "scatter",
         "xaxis": "x6",
         "yaxis": "y6"
        },
        {
         "line": {
          "color": "rgb(148, 103, 189)",
          "width": 4
         },
         "marker": {
          "size": 12,
          "symbol": "x"
         },
         "mode": "lines+markers",
         "name": "EU",
         "x": [
          2010,
          2011,
          2012,
          2013,
          2014,
          2015,
          2016,
          2017,
          2018,
          2019,
          2020,
          2021
         ],
         "y": [
          9032.43129192576,
          10446.936452359365,
          11787.108880727135,
          13634.886689216182,
          14923.043162665832,
          18151.521946009907,
          20344.977461599996,
          22096.764485245676,
          25724.765964572216,
          27662.720338216863,
          36196.78366180568,
          45030.35863309647
         ],
         "type": "scatter",
         "xaxis": "x",
         "yaxis": "y"
        },
        {
         "line": {
          "color": "rgb(148, 103, 189)",
          "width": 4
         },
         "marker": {
          "size": 15,
          "symbol": "x"
         },
         "showlegend": false,
         "x": [
          2010,
          2011,
          2012,
          2013,
          2014,
          2015,
          2016,
          2017,
          2018,
          2019,
          2020,
          2021
         ],
         "y": [
          0.02021582652624387,
          0.023381684092120332,
          0.026381174755432262,
          0.030516756242650364,
          0.03339982802745262,
          0.040625608652663174,
          0.04553486450671441,
          0.049455605383271435,
          0.05757557288400227,
          0.06191298195661787,
          0.08101339226008433,
          0.10078415092456684
         ],
         "type": "scatter",
         "xaxis": "x2",
         "yaxis": "y2"
        },
        {
         "line": {
          "color": "rgb(148, 103, 189)",
          "width": 4
         },
         "marker": {
          "size": 15,
          "symbol": "x"
         },
         "showlegend": false,
         "x": [
          2010,
          2011,
          2012,
          2013,
          2014,
          2015,
          2016,
          2017,
          2018,
          2019,
          2020,
          2021
         ],
         "y": [
          4518.05837551923,
          5162.819038546009,
          5900.543249034008,
          6730.114121129425,
          7087.407645458843,
          8896.125858206935,
          10100.525657825861,
          10987.828042642512,
          14880.254475164378,
          18664.472074166562,
          24900.67104823489,
          29877.084091330995
         ],
         "type": "scatter",
         "xaxis": "x3",
         "yaxis": "y3"
        },
        {
         "line": {
          "color": "rgb(148, 103, 189)",
          "width": 4
         },
         "marker": {
          "size": 15,
          "symbol": "x"
         },
         "showlegend": false,
         "x": [
          2010,
          2011,
          2012,
          2013,
          2014,
          2015,
          2016,
          2017,
          2018,
          2019,
          2020,
          2021
         ],
         "y": [
          0.010112037545924867,
          0.0115551008024754,
          0.013206229295062686,
          0.01506292327916165,
          0.01586259544641639,
          0.019910756173247394,
          0.02260636897454311,
          0.024592274043515022,
          0.03330406104557829,
          0.041773661759549156,
          0.05573113484385606,
          0.06686903332885183
         ],
         "type": "scatter",
         "xaxis": "x4",
         "yaxis": "y4"
        },
        {
         "line": {
          "color": "rgb(148, 103, 189)",
          "width": 4
         },
         "marker": {
          "size": 15,
          "symbol": "x"
         },
         "showlegend": false,
         "x": [
          2010,
          2011,
          2012,
          2013,
          2014,
          2015,
          2016,
          2017,
          2018,
          2019,
          2020,
          2021
         ],
         "y": [
          98.17878787878787,
          123.76929059502582,
          142.55924630924625,
          159.69999492251802,
          220.12451214935726,
          265.05964636050334,
          365.28619472706566,
          453.47970550467727,
          663.9084053686693,
          809.5231824735819,
          1495.1286121583196,
          2176.8538752845957
         ],
         "type": "scatter",
         "xaxis": "x5",
         "yaxis": "y5"
        },
        {
         "line": {
          "color": "rgb(148, 103, 189)",
          "width": 4
         },
         "marker": {
          "size": 15,
          "symbol": "x"
         },
         "showlegend": false,
         "x": [
          2010,
          2011,
          2012,
          2013,
          2014,
          2015,
          2016,
          2017,
          2018,
          2019,
          2020,
          2021
         ],
         "y": [
          2.1973766311277502E-4,
          2.770127363362261E-4,
          3.190672477825565E-4,
          3.574306063619472E-4,
          4.926690066010682E-4,
          5.932400321407863E-4,
          8.175608655484908E-4,
          0.0010149501018457414,
          0.0014859185437973797,
          0.0018118244907645072,
          0.0033463039663346452,
          0.0048720990941911275
         ],
         "type": "scatter",
         "xaxis": "x6",
         "yaxis": "y6"
        }
       ],
       "layout": {
        "template": {
         "data": {
          "barpolar": [
           {
            "marker": {
             "line": {
              "color": "white",
              "width": 0.5
             },
             "pattern": {
              "fillmode": "overlay",
              "size": 10,
              "solidity": 0.2
             }
            },
            "type": "barpolar"
           }
          ],
          "bar": [
           {
            "error_x": {
             "color": "rgb(36,36,36)"
            },
            "error_y": {
             "color": "rgb(36,36,36)"
            },
            "marker": {
             "line": {
              "color": "white",
              "width": 0.5
             },
             "pattern": {
              "fillmode": "overlay",
              "size": 10,
              "solidity": 0.2
             }
            },
            "type": "bar"
           }
          ],
          "carpet": [
           {
            "aaxis": {
             "endlinecolor": "rgb(36,36,36)",
             "gridcolor": "white",
             "linecolor": "white",
             "minorgridcolor": "white",
             "startlinecolor": "rgb(36,36,36)"
            },
            "baxis": {
             "endlinecolor": "rgb(36,36,36)",
             "gridcolor": "white",
             "linecolor": "white",
             "minorgridcolor": "white",
             "startlinecolor": "rgb(36,36,36)"
            },
            "type": "carpet"
           }
          ],
          "choropleth": [
           {
            "colorbar": {
             "outlinewidth": 1,
             "tickcolor": "rgb(36,36,36)",
             "ticks": "outside"
            },
            "type": "choropleth"
           }
          ],
          "contourcarpet": [
           {
            "colorbar": {
             "outlinewidth": 1,
             "tickcolor": "rgb(36,36,36)",
             "ticks": "outside"
            },
            "type": "contourcarpet"
           }
          ],
          "contour": [
           {
            "colorbar": {
             "outlinewidth": 1,
             "tickcolor": "rgb(36,36,36)",
             "ticks": "outside"
            },
            "colorscale": [
             [
              0.0,
              "#440154"
             ],
             [
              0.1111111111111111,
              "#482878"
             ],
             [
              0.2222222222222222,
              "#3e4989"
             ],
             [
              0.3333333333333333,
              "#31688e"
             ],
             [
              0.4444444444444444,
              "#26828e"
             ],
             [
              0.5555555555555556,
              "#1f9e89"
             ],
             [
              0.6666666666666666,
              "#35b779"
             ],
             [
              0.7777777777777778,
              "#6ece58"
             ],
             [
              0.8888888888888888,
              "#b5de2b"
             ],
             [
              1.0,
              "#fde725"
             ]
            ],
            "type": "contour"
           }
          ],
          "heatmapgl": [
           {
            "colorbar": {
             "outlinewidth": 1,
             "tickcolor": "rgb(36,36,36)",
             "ticks": "outside"
            },
            "colorscale": [
             [
              0.0,
              "#440154"
             ],
             [
              0.1111111111111111,
              "#482878"
             ],
             [
              0.2222222222222222,
              "#3e4989"
             ],
             [
              0.3333333333333333,
              "#31688e"
             ],
             [
              0.4444444444444444,
              "#26828e"
             ],
             [
              0.5555555555555556,
              "#1f9e89"
             ],
             [
              0.6666666666666666,
              "#35b779"
             ],
             [
              0.7777777777777778,
              "#6ece58"
             ],
             [
              0.8888888888888888,
              "#b5de2b"
             ],
             [
              1.0,
              "#fde725"
             ]
            ],
            "type": "heatmapgl"
           }
          ],
          "heatmap": [
           {
            "colorbar": {
             "outlinewidth": 1,
             "tickcolor": "rgb(36,36,36)",
             "ticks": "outside"
            },
            "colorscale": [
             [
              0.0,
              "#440154"
             ],
             [
              0.1111111111111111,
              "#482878"
             ],
             [
              0.2222222222222222,
              "#3e4989"
             ],
             [
              0.3333333333333333,
              "#31688e"
             ],
             [
              0.4444444444444444,
              "#26828e"
             ],
             [
              0.5555555555555556,
              "#1f9e89"
             ],
             [
              0.6666666666666666,
              "#35b779"
             ],
             [
              0.7777777777777778,
              "#6ece58"
             ],
             [
              0.8888888888888888,
              "#b5de2b"
             ],
             [
              1.0,
              "#fde725"
             ]
            ],
            "type": "heatmap"
           }
          ],
          "histogram2dcontour": [
           {
            "colorbar": {
             "outlinewidth": 1,
             "tickcolor": "rgb(36,36,36)",
             "ticks": "outside"
            },
            "colorscale": [
             [
              0.0,
              "#440154"
             ],
             [
              0.1111111111111111,
              "#482878"
             ],
             [
              0.2222222222222222,
              "#3e4989"
             ],
             [
              0.3333333333333333,
              "#31688e"
             ],
             [
              0.4444444444444444,
              "#26828e"
             ],
             [
              0.5555555555555556,
              "#1f9e89"
             ],
             [
              0.6666666666666666,
              "#35b779"
             ],
             [
              0.7777777777777778,
              "#6ece58"
             ],
             [
              0.8888888888888888,
              "#b5de2b"
             ],
             [
              1.0,
              "#fde725"
             ]
            ],
            "type": "histogram2dcontour"
           }
          ],
          "histogram2d": [
           {
            "colorbar": {
             "outlinewidth": 1,
             "tickcolor": "rgb(36,36,36)",
             "ticks": "outside"
            },
            "colorscale": [
             [
              0.0,
              "#440154"
             ],
             [
              0.1111111111111111,
              "#482878"
             ],
             [
              0.2222222222222222,
              "#3e4989"
             ],
             [
              0.3333333333333333,
              "#31688e"
             ],
             [
              0.4444444444444444,
              "#26828e"
             ],
             [
              0.5555555555555556,
              "#1f9e89"
             ],
             [
              0.6666666666666666,
              "#35b779"
             ],
             [
              0.7777777777777778,
              "#6ece58"
             ],
             [
              0.8888888888888888,
              "#b5de2b"
             ],
             [
              1.0,
              "#fde725"
             ]
            ],
            "type": "histogram2d"
           }
          ],
          "histogram": [
           {
            "marker": {
             "line": {
              "color": "white",
              "width": 0.6
             }
            },
            "type": "histogram"
           }
          ],
          "mesh3d": [
           {
            "colorbar": {
             "outlinewidth": 1,
             "tickcolor": "rgb(36,36,36)",
             "ticks": "outside"
            },
            "type": "mesh3d"
           }
          ],
          "parcoords": [
           {
            "line": {
             "colorbar": {
              "outlinewidth": 1,
              "tickcolor": "rgb(36,36,36)",
              "ticks": "outside"
             }
            },
            "type": "parcoords"
           }
          ],
          "pie": [
           {
            "automargin": true,
            "type": "pie"
           }
          ],
          "scatter3d": [
           {
            "line": {
             "colorbar": {
              "outlinewidth": 1,
              "tickcolor": "rgb(36,36,36)",
              "ticks": "outside"
             }
            },
            "marker": {
             "colorbar": {
              "outlinewidth": 1,
              "tickcolor": "rgb(36,36,36)",
              "ticks": "outside"
             }
            },
            "type": "scatter3d"
           }
          ],
          "scattercarpet": [
           {
            "marker": {
             "colorbar": {
              "outlinewidth": 1,
              "tickcolor": "rgb(36,36,36)",
              "ticks": "outside"
             }
            },
            "type": "scattercarpet"
           }
          ],
          "scattergeo": [
           {
            "marker": {
             "colorbar": {
              "outlinewidth": 1,
              "tickcolor": "rgb(36,36,36)",
              "ticks": "outside"
             }
            },
            "type": "scattergeo"
           }
          ],
          "scattergl": [
           {
            "marker": {
             "colorbar": {
              "outlinewidth": 1,
              "tickcolor": "rgb(36,36,36)",
              "ticks": "outside"
             }
            },
            "type": "scattergl"
           }
          ],
          "scattermapbox": [
           {
            "marker": {
             "colorbar": {
              "outlinewidth": 1,
              "tickcolor": "rgb(36,36,36)",
              "ticks": "outside"
             }
            },
            "type": "scattermapbox"
           }
          ],
          "scatterpolargl": [
           {
            "marker": {
             "colorbar": {
              "outlinewidth": 1,
              "tickcolor": "rgb(36,36,36)",
              "ticks": "outside"
             }
            },
            "type": "scatterpolargl"
           }
          ],
          "scatterpolar": [
           {
            "marker": {
             "colorbar": {
              "outlinewidth": 1,
              "tickcolor": "rgb(36,36,36)",
              "ticks": "outside"
             }
            },
            "type": "scatterpolar"
           }
          ],
          "scatter": [
           {
            "fillpattern": {
             "fillmode": "overlay",
             "size": 10,
             "solidity": 0.2
            },
            "type": "scatter"
           }
          ],
          "scatterternary": [
           {
            "marker": {
             "colorbar": {
              "outlinewidth": 1,
              "tickcolor": "rgb(36,36,36)",
              "ticks": "outside"
             }
            },
            "type": "scatterternary"
           }
          ],
          "surface": [
           {
            "colorbar": {
             "outlinewidth": 1,
             "tickcolor": "rgb(36,36,36)",
             "ticks": "outside"
            },
            "colorscale": [
             [
              0.0,
              "#440154"
             ],
             [
              0.1111111111111111,
              "#482878"
             ],
             [
              0.2222222222222222,
              "#3e4989"
             ],
             [
              0.3333333333333333,
              "#31688e"
             ],
             [
              0.4444444444444444,
              "#26828e"
             ],
             [
              0.5555555555555556,
              "#1f9e89"
             ],
             [
              0.6666666666666666,
              "#35b779"
             ],
             [
              0.7777777777777778,
              "#6ece58"
             ],
             [
              0.8888888888888888,
              "#b5de2b"
             ],
             [
              1.0,
              "#fde725"
             ]
            ],
            "type": "surface"
           }
          ],
          "table": [
           {
            "cells": {
             "fill": {
              "color": "rgb(237,237,237)"
             },
             "line": {
              "color": "white"
             }
            },
            "header": {
             "fill": {
              "color": "rgb(217,217,217)"
             },
             "line": {
              "color": "white"
             }
            },
            "type": "table"
           }
          ]
         },
         "layout": {
          "annotationdefaults": {
           "arrowhead": 0,
           "arrowwidth": 1
          },
          "autotypenumbers": "strict",
          "coloraxis": {
           "colorbar": {
            "outlinewidth": 1,
            "tickcolor": "rgb(36,36,36)",
            "ticks": "outside"
           }
          },
          "colorscale": {
           "diverging": [
            [
             0.0,
             "rgb(103,0,31)"
            ],
            [
             0.1,
             "rgb(178,24,43)"
            ],
            [
             0.2,
             "rgb(214,96,77)"
            ],
            [
             0.3,
             "rgb(244,165,130)"
            ],
            [
             0.4,
             "rgb(253,219,199)"
            ],
            [
             0.5,
             "rgb(247,247,247)"
            ],
            [
             0.6,
             "rgb(209,229,240)"
            ],
            [
             0.7,
             "rgb(146,197,222)"
            ],
            [
             0.8,
             "rgb(67,147,195)"
            ],
            [
             0.9,
             "rgb(33,102,172)"
            ],
            [
             1.0,
             "rgb(5,48,97)"
            ]
           ],
           "sequential": [
            [
             0.0,
             "#440154"
            ],
            [
             0.1111111111111111,
             "#482878"
            ],
            [
             0.2222222222222222,
             "#3e4989"
            ],
            [
             0.3333333333333333,
             "#31688e"
            ],
            [
             0.4444444444444444,
             "#26828e"
            ],
            [
             0.5555555555555556,
             "#1f9e89"
            ],
            [
             0.6666666666666666,
             "#35b779"
            ],
            [
             0.7777777777777778,
             "#6ece58"
            ],
            [
             0.8888888888888888,
             "#b5de2b"
            ],
            [
             1.0,
             "#fde725"
            ]
           ],
           "sequentialminus": [
            [
             0.0,
             "#440154"
            ],
            [
             0.1111111111111111,
             "#482878"
            ],
            [
             0.2222222222222222,
             "#3e4989"
            ],
            [
             0.3333333333333333,
             "#31688e"
            ],
            [
             0.4444444444444444,
             "#26828e"
            ],
            [
             0.5555555555555556,
             "#1f9e89"
            ],
            [
             0.6666666666666666,
             "#35b779"
            ],
            [
             0.7777777777777778,
             "#6ece58"
            ],
            [
             0.8888888888888888,
             "#b5de2b"
            ],
            [
             1.0,
             "#fde725"
            ]
           ]
          },
          "colorway": [
           "#1F77B4",
           "#FF7F0E",
           "#2CA02C",
           "#D62728",
           "#9467BD",
           "#8C564B",
           "#E377C2",
           "#7F7F7F",
           "#BCBD22",
           "#17BECF"
          ],
          "font": {
           "color": "rgb(36,36,36)"
          },
          "geo": {
           "bgcolor": "white",
           "lakecolor": "white",
           "landcolor": "white",
           "showlakes": true,
           "showland": true,
           "subunitcolor": "white"
          },
          "hoverlabel": {
           "align": "left"
          },
          "hovermode": "closest",
          "mapbox": {
           "style": "light"
          },
          "paper_bgcolor": "white",
          "plot_bgcolor": "white",
          "polar": {
           "angularaxis": {
            "gridcolor": "rgb(232,232,232)",
            "linecolor": "rgb(36,36,36)",
            "showgrid": false,
            "showline": true,
            "ticks": "outside"
           },
           "bgcolor": "white",
           "radialaxis": {
            "gridcolor": "rgb(232,232,232)",
            "linecolor": "rgb(36,36,36)",
            "showgrid": false,
            "showline": true,
            "ticks": "outside"
           }
          },
          "scene": {
           "xaxis": {
            "backgroundcolor": "white",
            "gridcolor": "rgb(232,232,232)",
            "gridwidth": 2,
            "linecolor": "rgb(36,36,36)",
            "showbackground": true,
            "showgrid": false,
            "showline": true,
            "ticks": "outside",
            "zeroline": false,
            "zerolinecolor": "rgb(36,36,36)"
           },
           "yaxis": {
            "backgroundcolor": "white",
            "gridcolor": "rgb(232,232,232)",
            "gridwidth": 2,
            "linecolor": "rgb(36,36,36)",
            "showbackground": true,
            "showgrid": false,
            "showline": true,
            "ticks": "outside",
            "zeroline": false,
            "zerolinecolor": "rgb(36,36,36)"
           },
           "zaxis": {
            "backgroundcolor": "white",
            "gridcolor": "rgb(232,232,232)",
            "gridwidth": 2,
            "linecolor": "rgb(36,36,36)",
            "showbackground": true,
            "showgrid": false,
            "showline": true,
            "ticks": "outside",
            "zeroline": false,
            "zerolinecolor": "rgb(36,36,36)"
           }
          },
          "shapedefaults": {
           "fillcolor": "black",
           "line": {
            "width": 0
           },
           "opacity": 0.3
          },
          "ternary": {
           "aaxis": {
            "gridcolor": "rgb(232,232,232)",
            "linecolor": "rgb(36,36,36)",
            "showgrid": false,
            "showline": true,
            "ticks": "outside"
           },
           "baxis": {
            "gridcolor": "rgb(232,232,232)",
            "linecolor": "rgb(36,36,36)",
            "showgrid": false,
            "showline": true,
            "ticks": "outside"
           },
           "bgcolor": "white",
           "caxis": {
            "gridcolor": "rgb(232,232,232)",
            "linecolor": "rgb(36,36,36)",
            "showgrid": false,
            "showline": true,
            "ticks": "outside"
           }
          },
          "title": {
           "x": 0.05
          },
          "xaxis": {
           "automargin": true,
           "gridcolor": "rgb(232,232,232)",
           "linecolor": "rgb(36,36,36)",
           "showgrid": false,
           "showline": true,
           "ticks": "outside",
           "title": {
            "standoff": 15
           },
           "zeroline": false,
           "zerolinecolor": "rgb(36,36,36)"
          },
          "yaxis": {
           "automargin": true,
           "gridcolor": "rgb(232,232,232)",
           "linecolor": "rgb(36,36,36)",
           "showgrid": false,
           "showline": true,
           "ticks": "outside",
           "title": {
            "standoff": 15
           },
           "zeroline": false,
           "zerolinecolor": "rgb(36,36,36)"
          }
         }
        },
        "xaxis": {
         "anchor": "y",
         "domain": [
          0.0,
          0.45
         ],
         "matches": "x5",
         "showticklabels": false
        },
        "yaxis": {
         "anchor": "x",
         "domain": [
          0.7777777777777778,
          1.0
         ]
        },
        "xaxis2": {
         "anchor": "y2",
         "domain": [
          0.55,
          1.0
         ],
         "matches": "x6",
         "showticklabels": false
        },
        "yaxis2": {
         "anchor": "x2",
         "domain": [
          0.7777777777777778,
          1.0
         ]
        },
        "xaxis3": {
         "anchor": "y3",
         "domain": [
          0.0,
          0.45
         ],
         "matches": "x5",
         "showticklabels": false
        },
        "yaxis3": {
         "anchor": "x3",
         "domain": [
          0.3888888888888889,
          0.6111111111111112
         ],
         "title": {
          "text": "Number of publications"
         }
        },
        "xaxis4": {
         "anchor": "y4",
         "domain": [
          0.55,
          1.0
         ],
         "matches": "x6",
         "showticklabels": false
        },
        "yaxis4": {
         "anchor": "x4",
         "domain": [
          0.3888888888888889,
          0.6111111111111112
         ],
         "title": {
          "text": "Number of publications per capita"
         }
        },
        "xaxis5": {
         "anchor": "y5",
         "domain": [
          0.0,
          0.45
         ]
        },
        "yaxis5": {
         "anchor": "x5",
         "domain": [
          0.0,
          0.22222222222222224
         ]
        },
        "xaxis6": {
         "anchor": "y6",
         "domain": [
          0.55,
          1.0
         ]
        },
        "yaxis6": {
         "anchor": "x6",
         "domain": [
          0.0,
          0.22222222222222224
         ]
        },
        "annotations": [
         {
          "font": {
           "size": 36
          },
          "showarrow": false,
          "text": "SDG",
          "x": 0.225,
          "xanchor": "center",
          "xref": "paper",
          "y": 1.0,
          "yanchor": "bottom",
          "yref": "paper"
         },
         {
          "font": {
           "size": 36
          },
          "showarrow": false,
          "text": "SDG/capita",
          "x": 0.775,
          "xanchor": "center",
          "xref": "paper",
          "y": 1.0,
          "yanchor": "bottom",
          "yref": "paper"
         },
         {
          "font": {
           "size": 36
          },
          "showarrow": false,
          "text": "DT",
          "x": 0.225,
          "xanchor": "center",
          "xref": "paper",
          "y": 0.6111111111111112,
          "yanchor": "bottom",
          "yref": "paper"
         },
         {
          "font": {
           "size": 36
          },
          "showarrow": false,
          "text": "DT/capita",
          "x": 0.775,
          "xanchor": "center",
          "xref": "paper",
          "y": 0.6111111111111112,
          "yanchor": "bottom",
          "yref": "paper"
         },
         {
          "font": {
           "size": 36
          },
          "showarrow": false,
          "text": "SDG-DT",
          "x": 0.225,
          "xanchor": "center",
          "xref": "paper",
          "y": 0.22222222222222224,
          "yanchor": "bottom",
          "yref": "paper"
         },
         {
          "font": {
           "size": 36
          },
          "showarrow": false,
          "text": "SDG-DT/capita",
          "x": 0.775,
          "xanchor": "center",
          "xref": "paper",
          "y": 0.22222222222222224,
          "yanchor": "bottom",
          "yref": "paper"
         }
        ],
        "font": {
         "size": 36
        },
        "legend": {
         "orientation": "h",
         "yanchor": "bottom",
         "y": -0.1,
         "xanchor": "right",
         "x": 0.5
        },
        "margin": {
         "l": 50,
         "r": 50,
         "b": 100,
         "t": 100,
         "pad": 4
        },
        "autosize": false
       },
       "config": {
        "plotlyServerURL": "https://plot.ly"
       }
      },
      "text/html": "<div>                            <div id=\"4a4338be-2d6a-4db9-b7d4-e6cc8ad05781\" class=\"plotly-graph-div\" style=\"height:525px; width:100%;\"></div>            <script type=\"text/javascript\">                require([\"plotly\"], function(Plotly) {                    window.PLOTLYENV=window.PLOTLYENV || {};                                    if (document.getElementById(\"4a4338be-2d6a-4db9-b7d4-e6cc8ad05781\")) {                    Plotly.newPlot(                        \"4a4338be-2d6a-4db9-b7d4-e6cc8ad05781\",                        [{\"line\":{\"color\":\"rgb(31, 119, 180)\",\"width\":4},\"marker\":{\"size\":12,\"symbol\":\"circle\"},\"mode\":\"lines+markers\",\"name\":\"United States\",\"x\":[2010,2011,2012,2013,2014,2015,2016,2017,2018,2019,2020,2021],\"y\":[8138.425843098675,9169.578306936299,10026.6917908867,11563.48868185847,12631.9030379603,14393.549338827108,15746.62936992477,17460.509558971924,19353.746426541926,20310.085190289352,25042.326956292687,29650.988431400914],\"type\":\"scatter\",\"xaxis\":\"x\",\"yaxis\":\"y\"},{\"line\":{\"color\":\"rgb(31, 119, 180)\",\"width\":4},\"marker\":{\"size\":15,\"symbol\":\"circle\"},\"showlegend\":false,\"x\":[2010,2011,2012,2013,2014,2015,2016,2017,2018,2019,2020,2021],\"y\":[0.024057552050987665,0.02710568501300439,0.029639350939471707,0.03418219152180631,0.0373404723096983,0.04254797783909645,0.04654774313828975,0.05161404989736929,0.05721054304782754,0.06003752335468146,0.0740262424016239,0.08764965256230225],\"type\":\"scatter\",\"xaxis\":\"x2\",\"yaxis\":\"y2\"},{\"line\":{\"color\":\"rgb(31, 119, 180)\",\"width\":4},\"marker\":{\"size\":15,\"symbol\":\"circle\"},\"showlegend\":false,\"x\":[2010,2011,2012,2013,2014,2015,2016,2017,2018,2019,2020,2021],\"y\":[3827.8277191647476,4181.755856299562,4444.840971820544,5068.594143606259,5557.598448107148,6868.27942836697,7806.805891258787,8764.225935426293,11977.64571087447,14903.060281712616,18862.176959535,20989.639315678607],\"type\":\"scatter\",\"xaxis\":\"x3\",\"yaxis\":\"y3\"},{\"line\":{\"color\":\"rgb(31, 119, 180)\",\"width\":4},\"marker\":{\"size\":15,\"symbol\":\"circle\"},\"showlegend\":false,\"x\":[2010,2011,2012,2013,2014,2015,2016,2017,2018,2019,2020,2021],\"y\":[0.011315230533692138,0.012361457991628645,0.013139149400570245,0.014982991770889126,0.016428510441881643,0.020302942243896394,0.02307726858999141,0.025907445210295775,0.035406458287262424,0.04405411505350755,0.05575744164134073,0.06204631584824196],\"type\":\"scatter\",\"xaxis\":\"x4\",\"yaxis\":\"y4\"},{\"line\":{\"color\":\"rgb(31, 119, 180)\",\"width\":4},\"marker\":{\"size\":15,\"symbol\":\"circle\"},\"showlegend\":false,\"x\":[2010,2011,2012,2013,2014,2015,2016,2017,2018,2019,2020,2021],\"y\":[85.05465367965365,107.5431022408965,106.58772200022223,162.162987421076,190.02493611479707,214.3324873861201,240.14276252820818,327.6719758797512,442.37105826306964,601.53682807504,928.3533079837819,1284.0445330146606],\"type\":\"scatter\",\"xaxis\":\"x5\",\"yaxis\":\"y5\"},{\"line\":{\"color\":\"rgb(31, 119, 180)\",\"width\":4},\"marker\":{\"size\":15,\"symbol\":\"circle\"},\"showlegend\":false,\"x\":[2010,2011,2012,2013,2014,2015,2016,2017,2018,2019,2020,2021],\"y\":[0.00025142537359508727,0.00031790223684092454,0.00031507808997129414,0.000479361068815835,0.0005617222396200813,0.0006335764521196392,0.0007098727838245772,0.0009686130668699037,0.0013076687021776998,0.0017781698612235957,0.002744254043607881,0.0037956932684938896],\"type\":\"scatter\",\"xaxis\":\"x6\",\"yaxis\":\"y6\"},{\"line\":{\"color\":\"rgb(255, 127, 14)\",\"width\":4},\"marker\":{\"size\":12,\"symbol\":\"square\"},\"mode\":\"lines+markers\",\"name\":\"United Kingdom\",\"x\":[2010,2011,2012,2013,2014,2015,2016,2017,2018,2019,2020,2021],\"y\":[2636.9215011807883,2887.756070702535,3267.6833558029025,3622.700307196548,3734.8969543741546,4602.19740426433,4983.77174044762,5280.407857946503,6115.499068336853,6436.3981084216975,7960.513219190939,9677.173951134013],\"type\":\"scatter\",\"xaxis\":\"x\",\"yaxis\":\"y\"},{\"line\":{\"color\":\"rgb(255, 127, 14)\",\"width\":4},\"marker\":{\"size\":15,\"symbol\":\"square\"},\"showlegend\":false,\"x\":[2010,2011,2012,2013,2014,2015,2016,2017,2018,2019,2020,2021],\"y\":[0.039060332711817414,0.042775908521244285,0.04840371585478554,0.05366253005671053,0.055324482589596054,0.0681716773652651,0.07382388222571927,0.078217909669714,0.0905879936892629,0.09534142425858552,0.11791791858771021,0.14334656305550442],\"type\":\"scatter\",\"xaxis\":\"x2\",\"yaxis\":\"y2\"},{\"line\":{\"color\":\"rgb(255, 127, 14)\",\"width\":4},\"marker\":{\"size\":15,\"symbol\":\"square\"},\"showlegend\":false,\"x\":[2010,2011,2012,2013,2014,2015,2016,2017,2018,2019,2020,2021],\"y\":[958.6234008600168,1043.6386419779562,1124.6890393435604,1286.710662335275,1360.4028952709323,1756.005593620686,2141.9278913877724,2446.3391139158757,3358.5540774060273,4110.245935613097,5130.082305170157,5676.3901155914045],\"type\":\"scatter\",\"xaxis\":\"x3\",\"yaxis\":\"y3\"},{\"line\":{\"color\":\"rgb(255, 127, 14)\",\"width\":4},\"marker\":{\"size\":15,\"symbol\":\"square\"},\"showlegend\":false,\"x\":[2010,2011,2012,2013,2014,2015,2016,2017,2018,2019,2020,2021],\"y\":[0.014199948298104073,0.015459266636611724,0.01665985432422695,0.0190598569400542,0.020151449213640878,0.026011454152094562,0.03172806473187153,0.0362372636700403,0.04974977056972172,0.06088447217732918,0.07599115923216679,0.08408353696451984],\"type\":\"scatter\",\"xaxis\":\"x4\",\"yaxis\":\"y4\"},{\"line\":{\"color\":\"rgb(255, 127, 14)\",\"width\":4},\"marker\":{\"size\":15,\"symbol\":\"square\"},\"showlegend\":false,\"x\":[2010,2011,2012,2013,2014,2015,2016,2017,2018,2019,2020,2021],\"y\":[13.368460925039862,27.7516806722689,25.17829254079252,33.14281994235547,44.358473389355765,65.35722095092827,92.73324654272947,98.02208654374276,147.66482119838716,211.27578051736134,261.3600937712416,435.4854248934916],\"type\":\"scatter\",\"xaxis\":\"x5\",\"yaxis\":\"y5\"},{\"line\":{\"color\":\"rgb(255, 127, 14)\",\"width\":4},\"marker\":{\"size\":15,\"symbol\":\"square\"},\"showlegend\":false,\"x\":[2010,2011,2012,2013,2014,2015,2016,2017,2018,2019,2020,2021],\"y\":[0.000198025057379661,0.0004110815888472735,0.00037296236665309787,0.0004909397467374612,0.0006570755816586379,0.0009681269595321168,0.0013736440245885296,0.0014519868383608173,0.002187337409648808,0.0031295972509085513,0.003871488861433716,0.006450781936386786],\"type\":\"scatter\",\"xaxis\":\"x6\",\"yaxis\":\"y6\"},{\"line\":{\"color\":\"rgb(44, 160, 44)\",\"width\":4},\"marker\":{\"size\":12,\"symbol\":\"diamond\"},\"mode\":\"lines+markers\",\"name\":\"Japan\",\"x\":[2010,2011,2012,2013,2014,2015,2016,2017,2018,2019,2020,2021],\"y\":[861.7551322551375,935.296896790892,1019.5104268455916,1180.2537845505842,1181.4134751087047,1381.706180068795,1580.7224496259169,1669.9901412897912,1893.6950111173483,1958.922264557403,2481.4279672340526,3303.804467765964],\"type\":\"scatter\",\"xaxis\":\"x\",\"yaxis\":\"y\"},{\"line\":{\"color\":\"rgb(44, 160, 44)\",\"width\":4},\"marker\":{\"size\":15,\"symbol\":\"diamond\"},\"showlegend\":false,\"x\":[2010,2011,2012,2013,2014,2015,2016,2017,2018,2019,2020,2021],\"y\":[0.0069523466630462575,0.007545656551351409,0.008225062606209454,0.009521885224048288,0.009531241212170825,0.011147134482591775,0.012752729907276432,0.0134729112151998,0.015277685851334311,0.01580391709826279,0.02001931500244509,0.026653968287629056],\"type\":\"scatter\",\"xaxis\":\"x2\",\"yaxis\":\"y2\"},{\"line\":{\"color\":\"rgb(44, 160, 44)\",\"width\":4},\"marker\":{\"size\":15,\"symbol\":\"diamond\"},\"showlegend\":false,\"x\":[2010,2011,2012,2013,2014,2015,2016,2017,2018,2019,2020,2021],\"y\":[778.6377844513785,824.5458193587904,806.9035170065877,892.8187515115134,917.3305917369876,1223.6246677105748,1364.912524225221,1597.5328689815933,2152.687414008599,2621.273714970832,3461.4140982303693,4022.7544361951645],\"type\":\"scatter\",\"xaxis\":\"x3\",\"yaxis\":\"y3\"},{\"line\":{\"color\":\"rgb(44, 160, 44)\",\"width\":4},\"marker\":{\"size\":15,\"symbol\":\"diamond\"},\"showlegend\":false,\"x\":[2010,2011,2012,2013,2014,2015,2016,2017,2018,2019,2020,2021],\"y\":[0.006281784232936316,0.006652154610029772,0.006509822528332955,0.007202957354640334,0.00740071052629913,0.009871786725675152,0.011011648991650885,0.012888350640518836,0.017367148275867012,0.021147542826368455,0.0279255090622754,0.03245421156651226],\"type\":\"scatter\",\"xaxis\":\"x4\",\"yaxis\":\"y4\"},{\"line\":{\"color\":\"rgb(44, 160, 44)\",\"width\":4},\"marker\":{\"size\":15,\"symbol\":\"diamond\"},\"showlegend\":false,\"x\":[2010,2011,2012,2013,2014,2015,2016,2017,2018,2019,2020,2021],\"y\":[10.259523809523806,10.459523809523809,13.976190476190476,16.44545454545455,15.530042016806723,25.855072463768096,32.33769841269841,44.93988413547245,64.9866132315399,76.46975500345089,88.69060183882192,160.67389756626054],\"type\":\"scatter\",\"xaxis\":\"x5\",\"yaxis\":\"y5\"},{\"line\":{\"color\":\"rgb(44, 160, 44)\",\"width\":4},\"marker\":{\"size\":15,\"symbol\":\"diamond\"},\"showlegend\":false,\"x\":[2010,2011,2012,2013,2014,2015,2016,2017,2018,2019,2020,2021],\"y\":[8.2770340960927e-05,8.438387278750345e-05,0.00011275514073813915,0.00013267632155803527,0.00012529108531093486,0.00020858991149364946,0.00026088952793559616,0.0003625596666762116,0.0005242898437525154,0.000616931917342854,0.0007155255439257895,0.0012962622371162189],\"type\":\"scatter\",\"xaxis\":\"x6\",\"yaxis\":\"y6\"},{\"line\":{\"color\":\"rgb(214, 39, 40)\",\"width\":4},\"marker\":{\"size\":12,\"symbol\":\"cross\"},\"mode\":\"lines+markers\",\"name\":\"China\",\"x\":[2010,2011,2012,2013,2014,2015,2016,2017,2018,2019,2020,2021],\"y\":[2638.123239842551,3204.0731125834554,3808.6379239629628,5087.228047268068,6058.063355246649,7901.056835905692,9864.187286078986,11899.308308028993,15839.184252381017,20566.094155783027,25869.452461723416,32464.160003258574],\"type\":\"scatter\",\"xaxis\":\"x\",\"yaxis\":\"y\"},{\"line\":{\"color\":\"rgb(214, 39, 40)\",\"width\":4},\"marker\":{\"size\":15,\"symbol\":\"cross\"},\"showlegend\":false,\"x\":[2010,2011,2012,2013,2014,2015,2016,2017,2018,2019,2020,2021],\"y\":[0.0018501624717370997,0.0022470731238308592,0.0026710651151276494,0.003567762974858418,0.004248626941306968,0.0055411508545472775,0.006917928948603171,0.008345195303483498,0.01110829996267862,0.014423365452598185,0.01814270439917892,0.02276768939652809],\"type\":\"scatter\",\"xaxis\":\"x2\",\"yaxis\":\"y2\"},{\"line\":{\"color\":\"rgb(214, 39, 40)\",\"width\":4},\"marker\":{\"size\":15,\"symbol\":\"cross\"},\"showlegend\":false,\"x\":[2010,2011,2012,2013,2014,2015,2016,2017,2018,2019,2020,2021],\"y\":[2611.5874062216567,3093.8469406943655,3663.493943969961,4555.786842972835,5774.94067338249,7901.265853794445,10516.52242713624,12889.399853610623,20096.989509045838,30398.073342688032,39086.84609861004,44778.99791880659],\"type\":\"scatter\",\"xaxis\":\"x3\",\"yaxis\":\"y3\"},{\"line\":{\"color\":\"rgb(214, 39, 40)\",\"width\":4},\"marker\":{\"size\":15,\"symbol\":\"cross\"},\"showlegend\":false,\"x\":[2010,2011,2012,2013,2014,2015,2016,2017,2018,2019,2020,2021],\"y\":[0.001831552422448967,0.002169769560618775,0.002569273075724047,0.003195053862080013,0.0040500679987331215,0.005541297442488225,0.007375423116711668,0.009039564009825148,0.014094374069783774,0.021318706291791712,0.02741229624834661,0.031404302960582775],\"type\":\"scatter\",\"xaxis\":\"x4\",\"yaxis\":\"y4\"},{\"line\":{\"color\":\"rgb(214, 39, 40)\",\"width\":4},\"marker\":{\"size\":15,\"symbol\":\"cross\"},\"showlegend\":false,\"x\":[2010,2011,2012,2013,2014,2015,2016,2017,2018,2019,2020,2021],\"y\":[49.70952380952388,67.42341269841285,80.62341269841279,110.4962773337773,139.7301587301586,210.35893249262713,322.01226053639664,425.4903409516993,651.0206855157553,1065.5123238845233,1481.0745120064053,2151.744408559095],\"type\":\"scatter\",\"xaxis\":\"x5\",\"yaxis\":\"y5\"},{\"line\":{\"color\":\"rgb(214, 39, 40)\",\"width\":4},\"marker\":{\"size\":15,\"symbol\":\"cross\"},\"showlegend\":false,\"x\":[2010,2011,2012,2013,2014,2015,2016,2017,2018,2019,2020,2021],\"y\":[3.486216794246198e-05,4.7285231412650414e-05,5.654262479673932e-05,7.749299293607324e-05,9.799523083229302e-05,0.00014752843863191355,0.0002258328916882699,0.0002984038990393946,0.0004565723171968637,0.000747262631651047,0.0010387037415750648,0.0015090563978822228],\"type\":\"scatter\",\"xaxis\":\"x6\",\"yaxis\":\"y6\"},{\"line\":{\"color\":\"rgb(148, 103, 189)\",\"width\":4},\"marker\":{\"size\":12,\"symbol\":\"x\"},\"mode\":\"lines+markers\",\"name\":\"EU\",\"x\":[2010,2011,2012,2013,2014,2015,2016,2017,2018,2019,2020,2021],\"y\":[9032.43129192576,10446.936452359365,11787.108880727135,13634.886689216182,14923.043162665832,18151.521946009907,20344.977461599996,22096.764485245676,25724.765964572216,27662.720338216863,36196.78366180568,45030.35863309647],\"type\":\"scatter\",\"xaxis\":\"x\",\"yaxis\":\"y\"},{\"line\":{\"color\":\"rgb(148, 103, 189)\",\"width\":4},\"marker\":{\"size\":15,\"symbol\":\"x\"},\"showlegend\":false,\"x\":[2010,2011,2012,2013,2014,2015,2016,2017,2018,2019,2020,2021],\"y\":[0.02021582652624387,0.023381684092120332,0.026381174755432262,0.030516756242650364,0.03339982802745262,0.040625608652663174,0.04553486450671441,0.049455605383271435,0.05757557288400227,0.06191298195661787,0.08101339226008433,0.10078415092456684],\"type\":\"scatter\",\"xaxis\":\"x2\",\"yaxis\":\"y2\"},{\"line\":{\"color\":\"rgb(148, 103, 189)\",\"width\":4},\"marker\":{\"size\":15,\"symbol\":\"x\"},\"showlegend\":false,\"x\":[2010,2011,2012,2013,2014,2015,2016,2017,2018,2019,2020,2021],\"y\":[4518.05837551923,5162.819038546009,5900.543249034008,6730.114121129425,7087.407645458843,8896.125858206935,10100.525657825861,10987.828042642512,14880.254475164378,18664.472074166562,24900.67104823489,29877.084091330995],\"type\":\"scatter\",\"xaxis\":\"x3\",\"yaxis\":\"y3\"},{\"line\":{\"color\":\"rgb(148, 103, 189)\",\"width\":4},\"marker\":{\"size\":15,\"symbol\":\"x\"},\"showlegend\":false,\"x\":[2010,2011,2012,2013,2014,2015,2016,2017,2018,2019,2020,2021],\"y\":[0.010112037545924867,0.0115551008024754,0.013206229295062686,0.01506292327916165,0.01586259544641639,0.019910756173247394,0.02260636897454311,0.024592274043515022,0.03330406104557829,0.041773661759549156,0.05573113484385606,0.06686903332885183],\"type\":\"scatter\",\"xaxis\":\"x4\",\"yaxis\":\"y4\"},{\"line\":{\"color\":\"rgb(148, 103, 189)\",\"width\":4},\"marker\":{\"size\":15,\"symbol\":\"x\"},\"showlegend\":false,\"x\":[2010,2011,2012,2013,2014,2015,2016,2017,2018,2019,2020,2021],\"y\":[98.17878787878787,123.76929059502582,142.55924630924625,159.69999492251802,220.12451214935726,265.05964636050334,365.28619472706566,453.47970550467727,663.9084053686693,809.5231824735819,1495.1286121583196,2176.8538752845957],\"type\":\"scatter\",\"xaxis\":\"x5\",\"yaxis\":\"y5\"},{\"line\":{\"color\":\"rgb(148, 103, 189)\",\"width\":4},\"marker\":{\"size\":15,\"symbol\":\"x\"},\"showlegend\":false,\"x\":[2010,2011,2012,2013,2014,2015,2016,2017,2018,2019,2020,2021],\"y\":[0.00021973766311277502,0.0002770127363362261,0.0003190672477825565,0.0003574306063619472,0.0004926690066010682,0.0005932400321407863,0.0008175608655484908,0.0010149501018457414,0.0014859185437973797,0.0018118244907645072,0.0033463039663346452,0.0048720990941911275],\"type\":\"scatter\",\"xaxis\":\"x6\",\"yaxis\":\"y6\"}],                        {\"template\":{\"data\":{\"barpolar\":[{\"marker\":{\"line\":{\"color\":\"white\",\"width\":0.5},\"pattern\":{\"fillmode\":\"overlay\",\"size\":10,\"solidity\":0.2}},\"type\":\"barpolar\"}],\"bar\":[{\"error_x\":{\"color\":\"rgb(36,36,36)\"},\"error_y\":{\"color\":\"rgb(36,36,36)\"},\"marker\":{\"line\":{\"color\":\"white\",\"width\":0.5},\"pattern\":{\"fillmode\":\"overlay\",\"size\":10,\"solidity\":0.2}},\"type\":\"bar\"}],\"carpet\":[{\"aaxis\":{\"endlinecolor\":\"rgb(36,36,36)\",\"gridcolor\":\"white\",\"linecolor\":\"white\",\"minorgridcolor\":\"white\",\"startlinecolor\":\"rgb(36,36,36)\"},\"baxis\":{\"endlinecolor\":\"rgb(36,36,36)\",\"gridcolor\":\"white\",\"linecolor\":\"white\",\"minorgridcolor\":\"white\",\"startlinecolor\":\"rgb(36,36,36)\"},\"type\":\"carpet\"}],\"choropleth\":[{\"colorbar\":{\"outlinewidth\":1,\"tickcolor\":\"rgb(36,36,36)\",\"ticks\":\"outside\"},\"type\":\"choropleth\"}],\"contourcarpet\":[{\"colorbar\":{\"outlinewidth\":1,\"tickcolor\":\"rgb(36,36,36)\",\"ticks\":\"outside\"},\"type\":\"contourcarpet\"}],\"contour\":[{\"colorbar\":{\"outlinewidth\":1,\"tickcolor\":\"rgb(36,36,36)\",\"ticks\":\"outside\"},\"colorscale\":[[0.0,\"#440154\"],[0.1111111111111111,\"#482878\"],[0.2222222222222222,\"#3e4989\"],[0.3333333333333333,\"#31688e\"],[0.4444444444444444,\"#26828e\"],[0.5555555555555556,\"#1f9e89\"],[0.6666666666666666,\"#35b779\"],[0.7777777777777778,\"#6ece58\"],[0.8888888888888888,\"#b5de2b\"],[1.0,\"#fde725\"]],\"type\":\"contour\"}],\"heatmapgl\":[{\"colorbar\":{\"outlinewidth\":1,\"tickcolor\":\"rgb(36,36,36)\",\"ticks\":\"outside\"},\"colorscale\":[[0.0,\"#440154\"],[0.1111111111111111,\"#482878\"],[0.2222222222222222,\"#3e4989\"],[0.3333333333333333,\"#31688e\"],[0.4444444444444444,\"#26828e\"],[0.5555555555555556,\"#1f9e89\"],[0.6666666666666666,\"#35b779\"],[0.7777777777777778,\"#6ece58\"],[0.8888888888888888,\"#b5de2b\"],[1.0,\"#fde725\"]],\"type\":\"heatmapgl\"}],\"heatmap\":[{\"colorbar\":{\"outlinewidth\":1,\"tickcolor\":\"rgb(36,36,36)\",\"ticks\":\"outside\"},\"colorscale\":[[0.0,\"#440154\"],[0.1111111111111111,\"#482878\"],[0.2222222222222222,\"#3e4989\"],[0.3333333333333333,\"#31688e\"],[0.4444444444444444,\"#26828e\"],[0.5555555555555556,\"#1f9e89\"],[0.6666666666666666,\"#35b779\"],[0.7777777777777778,\"#6ece58\"],[0.8888888888888888,\"#b5de2b\"],[1.0,\"#fde725\"]],\"type\":\"heatmap\"}],\"histogram2dcontour\":[{\"colorbar\":{\"outlinewidth\":1,\"tickcolor\":\"rgb(36,36,36)\",\"ticks\":\"outside\"},\"colorscale\":[[0.0,\"#440154\"],[0.1111111111111111,\"#482878\"],[0.2222222222222222,\"#3e4989\"],[0.3333333333333333,\"#31688e\"],[0.4444444444444444,\"#26828e\"],[0.5555555555555556,\"#1f9e89\"],[0.6666666666666666,\"#35b779\"],[0.7777777777777778,\"#6ece58\"],[0.8888888888888888,\"#b5de2b\"],[1.0,\"#fde725\"]],\"type\":\"histogram2dcontour\"}],\"histogram2d\":[{\"colorbar\":{\"outlinewidth\":1,\"tickcolor\":\"rgb(36,36,36)\",\"ticks\":\"outside\"},\"colorscale\":[[0.0,\"#440154\"],[0.1111111111111111,\"#482878\"],[0.2222222222222222,\"#3e4989\"],[0.3333333333333333,\"#31688e\"],[0.4444444444444444,\"#26828e\"],[0.5555555555555556,\"#1f9e89\"],[0.6666666666666666,\"#35b779\"],[0.7777777777777778,\"#6ece58\"],[0.8888888888888888,\"#b5de2b\"],[1.0,\"#fde725\"]],\"type\":\"histogram2d\"}],\"histogram\":[{\"marker\":{\"line\":{\"color\":\"white\",\"width\":0.6}},\"type\":\"histogram\"}],\"mesh3d\":[{\"colorbar\":{\"outlinewidth\":1,\"tickcolor\":\"rgb(36,36,36)\",\"ticks\":\"outside\"},\"type\":\"mesh3d\"}],\"parcoords\":[{\"line\":{\"colorbar\":{\"outlinewidth\":1,\"tickcolor\":\"rgb(36,36,36)\",\"ticks\":\"outside\"}},\"type\":\"parcoords\"}],\"pie\":[{\"automargin\":true,\"type\":\"pie\"}],\"scatter3d\":[{\"line\":{\"colorbar\":{\"outlinewidth\":1,\"tickcolor\":\"rgb(36,36,36)\",\"ticks\":\"outside\"}},\"marker\":{\"colorbar\":{\"outlinewidth\":1,\"tickcolor\":\"rgb(36,36,36)\",\"ticks\":\"outside\"}},\"type\":\"scatter3d\"}],\"scattercarpet\":[{\"marker\":{\"colorbar\":{\"outlinewidth\":1,\"tickcolor\":\"rgb(36,36,36)\",\"ticks\":\"outside\"}},\"type\":\"scattercarpet\"}],\"scattergeo\":[{\"marker\":{\"colorbar\":{\"outlinewidth\":1,\"tickcolor\":\"rgb(36,36,36)\",\"ticks\":\"outside\"}},\"type\":\"scattergeo\"}],\"scattergl\":[{\"marker\":{\"colorbar\":{\"outlinewidth\":1,\"tickcolor\":\"rgb(36,36,36)\",\"ticks\":\"outside\"}},\"type\":\"scattergl\"}],\"scattermapbox\":[{\"marker\":{\"colorbar\":{\"outlinewidth\":1,\"tickcolor\":\"rgb(36,36,36)\",\"ticks\":\"outside\"}},\"type\":\"scattermapbox\"}],\"scatterpolargl\":[{\"marker\":{\"colorbar\":{\"outlinewidth\":1,\"tickcolor\":\"rgb(36,36,36)\",\"ticks\":\"outside\"}},\"type\":\"scatterpolargl\"}],\"scatterpolar\":[{\"marker\":{\"colorbar\":{\"outlinewidth\":1,\"tickcolor\":\"rgb(36,36,36)\",\"ticks\":\"outside\"}},\"type\":\"scatterpolar\"}],\"scatter\":[{\"fillpattern\":{\"fillmode\":\"overlay\",\"size\":10,\"solidity\":0.2},\"type\":\"scatter\"}],\"scatterternary\":[{\"marker\":{\"colorbar\":{\"outlinewidth\":1,\"tickcolor\":\"rgb(36,36,36)\",\"ticks\":\"outside\"}},\"type\":\"scatterternary\"}],\"surface\":[{\"colorbar\":{\"outlinewidth\":1,\"tickcolor\":\"rgb(36,36,36)\",\"ticks\":\"outside\"},\"colorscale\":[[0.0,\"#440154\"],[0.1111111111111111,\"#482878\"],[0.2222222222222222,\"#3e4989\"],[0.3333333333333333,\"#31688e\"],[0.4444444444444444,\"#26828e\"],[0.5555555555555556,\"#1f9e89\"],[0.6666666666666666,\"#35b779\"],[0.7777777777777778,\"#6ece58\"],[0.8888888888888888,\"#b5de2b\"],[1.0,\"#fde725\"]],\"type\":\"surface\"}],\"table\":[{\"cells\":{\"fill\":{\"color\":\"rgb(237,237,237)\"},\"line\":{\"color\":\"white\"}},\"header\":{\"fill\":{\"color\":\"rgb(217,217,217)\"},\"line\":{\"color\":\"white\"}},\"type\":\"table\"}]},\"layout\":{\"annotationdefaults\":{\"arrowhead\":0,\"arrowwidth\":1},\"autotypenumbers\":\"strict\",\"coloraxis\":{\"colorbar\":{\"outlinewidth\":1,\"tickcolor\":\"rgb(36,36,36)\",\"ticks\":\"outside\"}},\"colorscale\":{\"diverging\":[[0.0,\"rgb(103,0,31)\"],[0.1,\"rgb(178,24,43)\"],[0.2,\"rgb(214,96,77)\"],[0.3,\"rgb(244,165,130)\"],[0.4,\"rgb(253,219,199)\"],[0.5,\"rgb(247,247,247)\"],[0.6,\"rgb(209,229,240)\"],[0.7,\"rgb(146,197,222)\"],[0.8,\"rgb(67,147,195)\"],[0.9,\"rgb(33,102,172)\"],[1.0,\"rgb(5,48,97)\"]],\"sequential\":[[0.0,\"#440154\"],[0.1111111111111111,\"#482878\"],[0.2222222222222222,\"#3e4989\"],[0.3333333333333333,\"#31688e\"],[0.4444444444444444,\"#26828e\"],[0.5555555555555556,\"#1f9e89\"],[0.6666666666666666,\"#35b779\"],[0.7777777777777778,\"#6ece58\"],[0.8888888888888888,\"#b5de2b\"],[1.0,\"#fde725\"]],\"sequentialminus\":[[0.0,\"#440154\"],[0.1111111111111111,\"#482878\"],[0.2222222222222222,\"#3e4989\"],[0.3333333333333333,\"#31688e\"],[0.4444444444444444,\"#26828e\"],[0.5555555555555556,\"#1f9e89\"],[0.6666666666666666,\"#35b779\"],[0.7777777777777778,\"#6ece58\"],[0.8888888888888888,\"#b5de2b\"],[1.0,\"#fde725\"]]},\"colorway\":[\"#1F77B4\",\"#FF7F0E\",\"#2CA02C\",\"#D62728\",\"#9467BD\",\"#8C564B\",\"#E377C2\",\"#7F7F7F\",\"#BCBD22\",\"#17BECF\"],\"font\":{\"color\":\"rgb(36,36,36)\"},\"geo\":{\"bgcolor\":\"white\",\"lakecolor\":\"white\",\"landcolor\":\"white\",\"showlakes\":true,\"showland\":true,\"subunitcolor\":\"white\"},\"hoverlabel\":{\"align\":\"left\"},\"hovermode\":\"closest\",\"mapbox\":{\"style\":\"light\"},\"paper_bgcolor\":\"white\",\"plot_bgcolor\":\"white\",\"polar\":{\"angularaxis\":{\"gridcolor\":\"rgb(232,232,232)\",\"linecolor\":\"rgb(36,36,36)\",\"showgrid\":false,\"showline\":true,\"ticks\":\"outside\"},\"bgcolor\":\"white\",\"radialaxis\":{\"gridcolor\":\"rgb(232,232,232)\",\"linecolor\":\"rgb(36,36,36)\",\"showgrid\":false,\"showline\":true,\"ticks\":\"outside\"}},\"scene\":{\"xaxis\":{\"backgroundcolor\":\"white\",\"gridcolor\":\"rgb(232,232,232)\",\"gridwidth\":2,\"linecolor\":\"rgb(36,36,36)\",\"showbackground\":true,\"showgrid\":false,\"showline\":true,\"ticks\":\"outside\",\"zeroline\":false,\"zerolinecolor\":\"rgb(36,36,36)\"},\"yaxis\":{\"backgroundcolor\":\"white\",\"gridcolor\":\"rgb(232,232,232)\",\"gridwidth\":2,\"linecolor\":\"rgb(36,36,36)\",\"showbackground\":true,\"showgrid\":false,\"showline\":true,\"ticks\":\"outside\",\"zeroline\":false,\"zerolinecolor\":\"rgb(36,36,36)\"},\"zaxis\":{\"backgroundcolor\":\"white\",\"gridcolor\":\"rgb(232,232,232)\",\"gridwidth\":2,\"linecolor\":\"rgb(36,36,36)\",\"showbackground\":true,\"showgrid\":false,\"showline\":true,\"ticks\":\"outside\",\"zeroline\":false,\"zerolinecolor\":\"rgb(36,36,36)\"}},\"shapedefaults\":{\"fillcolor\":\"black\",\"line\":{\"width\":0},\"opacity\":0.3},\"ternary\":{\"aaxis\":{\"gridcolor\":\"rgb(232,232,232)\",\"linecolor\":\"rgb(36,36,36)\",\"showgrid\":false,\"showline\":true,\"ticks\":\"outside\"},\"baxis\":{\"gridcolor\":\"rgb(232,232,232)\",\"linecolor\":\"rgb(36,36,36)\",\"showgrid\":false,\"showline\":true,\"ticks\":\"outside\"},\"bgcolor\":\"white\",\"caxis\":{\"gridcolor\":\"rgb(232,232,232)\",\"linecolor\":\"rgb(36,36,36)\",\"showgrid\":false,\"showline\":true,\"ticks\":\"outside\"}},\"title\":{\"x\":0.05},\"xaxis\":{\"automargin\":true,\"gridcolor\":\"rgb(232,232,232)\",\"linecolor\":\"rgb(36,36,36)\",\"showgrid\":false,\"showline\":true,\"ticks\":\"outside\",\"title\":{\"standoff\":15},\"zeroline\":false,\"zerolinecolor\":\"rgb(36,36,36)\"},\"yaxis\":{\"automargin\":true,\"gridcolor\":\"rgb(232,232,232)\",\"linecolor\":\"rgb(36,36,36)\",\"showgrid\":false,\"showline\":true,\"ticks\":\"outside\",\"title\":{\"standoff\":15},\"zeroline\":false,\"zerolinecolor\":\"rgb(36,36,36)\"}}},\"xaxis\":{\"anchor\":\"y\",\"domain\":[0.0,0.45],\"matches\":\"x5\",\"showticklabels\":false},\"yaxis\":{\"anchor\":\"x\",\"domain\":[0.7777777777777778,1.0]},\"xaxis2\":{\"anchor\":\"y2\",\"domain\":[0.55,1.0],\"matches\":\"x6\",\"showticklabels\":false},\"yaxis2\":{\"anchor\":\"x2\",\"domain\":[0.7777777777777778,1.0]},\"xaxis3\":{\"anchor\":\"y3\",\"domain\":[0.0,0.45],\"matches\":\"x5\",\"showticklabels\":false},\"yaxis3\":{\"anchor\":\"x3\",\"domain\":[0.3888888888888889,0.6111111111111112],\"title\":{\"text\":\"Number of publications\"}},\"xaxis4\":{\"anchor\":\"y4\",\"domain\":[0.55,1.0],\"matches\":\"x6\",\"showticklabels\":false},\"yaxis4\":{\"anchor\":\"x4\",\"domain\":[0.3888888888888889,0.6111111111111112],\"title\":{\"text\":\"Number of publications per capita\"}},\"xaxis5\":{\"anchor\":\"y5\",\"domain\":[0.0,0.45]},\"yaxis5\":{\"anchor\":\"x5\",\"domain\":[0.0,0.22222222222222224]},\"xaxis6\":{\"anchor\":\"y6\",\"domain\":[0.55,1.0]},\"yaxis6\":{\"anchor\":\"x6\",\"domain\":[0.0,0.22222222222222224]},\"annotations\":[{\"font\":{\"size\":36},\"showarrow\":false,\"text\":\"SDG\",\"x\":0.225,\"xanchor\":\"center\",\"xref\":\"paper\",\"y\":1.0,\"yanchor\":\"bottom\",\"yref\":\"paper\"},{\"font\":{\"size\":36},\"showarrow\":false,\"text\":\"SDG/capita\",\"x\":0.775,\"xanchor\":\"center\",\"xref\":\"paper\",\"y\":1.0,\"yanchor\":\"bottom\",\"yref\":\"paper\"},{\"font\":{\"size\":36},\"showarrow\":false,\"text\":\"DT\",\"x\":0.225,\"xanchor\":\"center\",\"xref\":\"paper\",\"y\":0.6111111111111112,\"yanchor\":\"bottom\",\"yref\":\"paper\"},{\"font\":{\"size\":36},\"showarrow\":false,\"text\":\"DT/capita\",\"x\":0.775,\"xanchor\":\"center\",\"xref\":\"paper\",\"y\":0.6111111111111112,\"yanchor\":\"bottom\",\"yref\":\"paper\"},{\"font\":{\"size\":36},\"showarrow\":false,\"text\":\"SDG-DT\",\"x\":0.225,\"xanchor\":\"center\",\"xref\":\"paper\",\"y\":0.22222222222222224,\"yanchor\":\"bottom\",\"yref\":\"paper\"},{\"font\":{\"size\":36},\"showarrow\":false,\"text\":\"SDG-DT/capita\",\"x\":0.775,\"xanchor\":\"center\",\"xref\":\"paper\",\"y\":0.22222222222222224,\"yanchor\":\"bottom\",\"yref\":\"paper\"}],\"font\":{\"size\":36},\"legend\":{\"orientation\":\"h\",\"yanchor\":\"bottom\",\"y\":-0.1,\"xanchor\":\"right\",\"x\":0.5},\"margin\":{\"l\":50,\"r\":50,\"b\":100,\"t\":100,\"pad\":4},\"autosize\":false},                        {\"responsive\": true}                    ).then(function(){\n                            \nvar gd = document.getElementById('4a4338be-2d6a-4db9-b7d4-e6cc8ad05781');\nvar x = new MutationObserver(function (mutations, observer) {{\n        var display = window.getComputedStyle(gd).display;\n        if (!display || display === 'none') {{\n            console.log([gd, 'removed!']);\n            Plotly.purge(gd);\n            observer.disconnect();\n        }}\n}});\n\n// Listen for the removal of the full notebook cells\nvar notebookContainer = gd.closest('#notebook-container');\nif (notebookContainer) {{\n    x.observe(notebookContainer, {childList: true});\n}}\n\n// Listen for the clearing of the current output cell\nvar outputEl = gd.closest('.output');\nif (outputEl) {{\n    x.observe(outputEl, {childList: true});\n}}\n\n                        })                };                });            </script>        </div>"
     },
     "metadata": {},
     "output_type": "display_data"
    }
   ],
   "source": [
    "cols = plotly.colors.DEFAULT_PLOTLY_COLORS\n",
    "markers = [\"circle\", \"square\", \"diamond\", \"cross\", \"x\"]\n",
    "fig = make_subplots(rows=3, cols=2,\n",
    "                    shared_xaxes=True,\n",
    "                    subplot_titles=(\"SDG\",\"SDG/capita\",\"DT\",\"DT/capita\", \"SDG-DT\", \"SDG-DT/capita\"))\n",
    "\n",
    "for num, country in enumerate(subset_dic_countries):\n",
    "    df_country = pd.DataFrame.from_dict(dic_countries[country], orient='index' , columns=['Digital', 'SDG', 'Intersection'])\n",
    "\n",
    "    # SDG\n",
    "    fig.add_trace(\n",
    "        go.Scatter(\n",
    "            mode='lines+markers',\n",
    "            name = country,\n",
    "            x = df_country.index,\n",
    "            y = df_country.SDG,\n",
    "            line=dict(width=4, color=cols[num]),\n",
    "            marker= dict(size=12, symbol=markers[num]),\n",
    "        ),\n",
    "        row=1 , col=1 ,\n",
    "    )\n",
    "    # SDG/capita\n",
    "    fig.add_trace(\n",
    "        go.Scatter(\n",
    "            #  name ?\n",
    "            x = df_country.index,\n",
    "            y = df_country.SDG / gdp.loc[country, \"pop2022\"],\n",
    "            line=dict(width=4, color=cols[num]),\n",
    "            marker= dict(size=15, symbol=markers[num]),\n",
    "            showlegend=False\n",
    "        ),\n",
    "        row=1 , col=2 ,\n",
    "    )\n",
    "    # DT\n",
    "    fig.add_trace(\n",
    "        go.Scatter(\n",
    "            #  name ?\n",
    "            x = df_country.index,\n",
    "            y = df_country.Digital,\n",
    "            line=dict(width=4, color=cols[num]),\n",
    "            marker= dict(size=15, symbol=markers[num]),\n",
    "            showlegend=False\n",
    "        ),\n",
    "        row=2 , col=1 ,\n",
    "    )\n",
    "    # DT/capita\n",
    "    fig.add_trace(\n",
    "        go.Scatter(\n",
    "            #  name ?\n",
    "            x = df_country.index,\n",
    "            y = df_country.Digital / gdp.loc[country, \"pop2022\"],\n",
    "            line=dict(width=4, color=cols[num]),\n",
    "            marker= dict(size=15, symbol=markers[num]),\n",
    "            showlegend=False\n",
    "        ),\n",
    "        row=2 , col=2 ,\n",
    "    )\n",
    "    # SDG-DT\n",
    "    fig.add_trace(\n",
    "        go.Scatter(\n",
    "            #  name ?\n",
    "            x = df_country.index,\n",
    "            y = df_country.Intersection,\n",
    "            line=dict(width=4, color=cols[num]),\n",
    "            marker= dict(size=15, symbol=markers[num]),\n",
    "            showlegend=False\n",
    "        ),\n",
    "        row=3 , col=1 ,\n",
    "    )\n",
    "    # SDG-DT/capita\n",
    "    fig.add_trace(\n",
    "        go.Scatter(\n",
    "            #  name ?\n",
    "            x = df_country.index,\n",
    "            y = df_country.Intersection / gdp.loc[country, \"pop2022\"],\n",
    "            line=dict(width=4, color=cols[num]),\n",
    "            marker= dict(size=15, symbol=markers[num]),\n",
    "            showlegend=False\n",
    "        ),\n",
    "        row=3 , col=2,\n",
    "\n",
    "    )\n",
    "fig.update_layout(template=\"simple_white\",\n",
    "                  font=dict(size=36),\n",
    "                  legend=dict(\n",
    "                    orientation=\"h\",\n",
    "                    yanchor=\"bottom\",\n",
    "                    y=-0.1,\n",
    "                    xanchor=\"right\",\n",
    "                    x=0.5\n",
    "                    ),\n",
    "                  autosize=False,\n",
    "                  margin=dict(\n",
    "                    l=50,\n",
    "                    r=50,\n",
    "                    b=100,\n",
    "                    t=100,\n",
    "                    pad=4\n",
    "                    ),\n",
    "                )\n",
    "for i in fig['layout']['annotations']:\n",
    "    i['font'] = dict(size=36)\n",
    "fig.update_layout(yaxis3=dict(title_text=\"Number of publications\"))\n",
    "fig.update_layout(yaxis4=dict(title_text=\"Number of publications per capita\"))\n",
    "fig.show()\n",
    "fig.write_image(\"../img/Commission/figure_11.jpeg\", width=2000, height=2000)\n"
   ],
   "metadata": {
    "collapsed": false
   }
  },
  {
   "cell_type": "code",
   "execution_count": null,
   "outputs": [],
   "source": [],
   "metadata": {
    "collapsed": false
   }
  }
 ],
 "metadata": {
  "kernelspec": {
   "display_name": "Python 3",
   "language": "python",
   "name": "python3"
  },
  "language_info": {
   "codemirror_mode": {
    "name": "ipython",
    "version": 2
   },
   "file_extension": ".py",
   "mimetype": "text/x-python",
   "name": "python",
   "nbconvert_exporter": "python",
   "pygments_lexer": "ipython2",
   "version": "2.7.6"
  }
 },
 "nbformat": 4,
 "nbformat_minor": 0
}
