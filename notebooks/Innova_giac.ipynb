{
 "cells": [
  {
   "cell_type": "code",
   "execution_count": 29,
   "metadata": {
    "collapsed": true
   },
   "outputs": [],
   "source": [
    "import os\n",
    "\n",
    "import pandas as pd\n",
    "import tqdm"
   ]
  },
  {
   "cell_type": "code",
   "execution_count": null,
   "outputs": [],
   "source": [
    "df_sdg = pd.read_pickle(\"../data/dataframes/output/all_sdg_fixed_dst.pkl\")\n",
    "df_dt = pd.read_pickle(\"../data/dataframes/DT/dt_updated.pkl\")\n",
    "df_sdg = df_sdg[df_sdg.PT == 'J']\n",
    "df_dt = df_dt[df_dt.PT == 'J']\n",
    "df_inter = df_sdg[df_sdg['DST']]\n"
   ],
   "metadata": {
    "collapsed": false
   }
  },
  {
   "cell_type": "code",
   "execution_count": 13,
   "outputs": [
    {
     "data": {
      "text/plain": "['Austria',\n 'Belgium',\n 'Bulgaria',\n 'Croatia',\n 'Cyprus',\n 'Czech Republic',\n 'Denmark',\n 'Estonia',\n 'Finland',\n 'France',\n 'Germany',\n 'Greece',\n 'Hungary',\n 'Ireland',\n 'Italy',\n 'Latvia',\n 'Lithuania',\n 'Luxembourg',\n 'Malta',\n 'Netherlands',\n 'Poland',\n 'Portugal',\n 'Romania',\n 'Slovakia',\n 'Slovenia',\n 'Spain',\n 'Sweden']"
     },
     "execution_count": 13,
     "metadata": {},
     "output_type": "execute_result"
    }
   ],
   "source": [
    "eu = pd.read_excel(\"../data/countries_eu.xlsx\", sheet_name='EU')['Country'].to_list()\n",
    "eu"
   ],
   "metadata": {
    "collapsed": false
   }
  },
  {
   "cell_type": "code",
   "execution_count": 14,
   "outputs": [],
   "source": [
    "df_gpp_pop = pd.read_csv(\"../data/countriesgdp_pop.csv\", index_col=\"Country\").drop(['ranking', 'gdppc'], axis=1)\n"
   ],
   "metadata": {
    "collapsed": false
   }
  },
  {
   "cell_type": "code",
   "execution_count": 5,
   "outputs": [
    {
     "data": {
      "text/plain": "     ISO2                   names\nISO3                             \nBGD    BD              Bangladesh\nBEL    BE                 Belgium\nBFA    BF            Burkina Faso\nBGR    BG                Bulgaria\nBIH    BA  Bosnia and Herzegovina\n...   ...                     ...\nIDN    ID               Indonesia\nUKR    UA                 Ukraine\nQAT    QA                   Qatar\nMOZ    MZ              Mozambique\nEUU    EU                      EU\n\n[251 rows x 2 columns]",
      "text/html": "<div>\n<style scoped>\n    .dataframe tbody tr th:only-of-type {\n        vertical-align: middle;\n    }\n\n    .dataframe tbody tr th {\n        vertical-align: top;\n    }\n\n    .dataframe thead th {\n        text-align: right;\n    }\n</style>\n<table border=\"1\" class=\"dataframe\">\n  <thead>\n    <tr style=\"text-align: right;\">\n      <th></th>\n      <th>ISO2</th>\n      <th>names</th>\n    </tr>\n    <tr>\n      <th>ISO3</th>\n      <th></th>\n      <th></th>\n    </tr>\n  </thead>\n  <tbody>\n    <tr>\n      <th>BGD</th>\n      <td>BD</td>\n      <td>Bangladesh</td>\n    </tr>\n    <tr>\n      <th>BEL</th>\n      <td>BE</td>\n      <td>Belgium</td>\n    </tr>\n    <tr>\n      <th>BFA</th>\n      <td>BF</td>\n      <td>Burkina Faso</td>\n    </tr>\n    <tr>\n      <th>BGR</th>\n      <td>BG</td>\n      <td>Bulgaria</td>\n    </tr>\n    <tr>\n      <th>BIH</th>\n      <td>BA</td>\n      <td>Bosnia and Herzegovina</td>\n    </tr>\n    <tr>\n      <th>...</th>\n      <td>...</td>\n      <td>...</td>\n    </tr>\n    <tr>\n      <th>IDN</th>\n      <td>ID</td>\n      <td>Indonesia</td>\n    </tr>\n    <tr>\n      <th>UKR</th>\n      <td>UA</td>\n      <td>Ukraine</td>\n    </tr>\n    <tr>\n      <th>QAT</th>\n      <td>QA</td>\n      <td>Qatar</td>\n    </tr>\n    <tr>\n      <th>MOZ</th>\n      <td>MZ</td>\n      <td>Mozambique</td>\n    </tr>\n    <tr>\n      <th>EUU</th>\n      <td>EU</td>\n      <td>EU</td>\n    </tr>\n  </tbody>\n</table>\n<p>251 rows × 2 columns</p>\n</div>"
     },
     "execution_count": 5,
     "metadata": {},
     "output_type": "execute_result"
    }
   ],
   "source": [
    "import json\n",
    "with open('../data/iso3.json', 'r') as f:\n",
    "    iso3 = json.load(f)\n",
    "with open('../data/names.json', 'r') as f:\n",
    "    names = json.load(f)\n",
    "\n",
    "df_iso = pd.DataFrame.from_dict(data=iso3, orient=\"index\", columns=['ISO3'])\n",
    "df_name = pd.DataFrame.from_dict(data=names, orient=\"index\", columns=['names'])\n",
    "df_iso = pd.concat([df_iso, df_name], axis=1).reset_index().rename(columns={\"index\":\"ISO2\"}).set_index('ISO3')\n",
    "df_iso.loc['EUU'] = ['EU', 'EU']\n",
    "df_iso"
   ],
   "metadata": {
    "collapsed": false
   }
  },
  {
   "cell_type": "code",
   "execution_count": 6,
   "outputs": [],
   "source": [
    "pop = pd.read_excel(\"../data/pop.xlsx\", index_col=\"Country Code\")\n",
    "pop = pop.loc[:, [i for i in range(2010,2022)]]\n",
    "pop['avg_pop'] = pop.mean(axis=1)\n",
    "pop = pop.merge(df_iso, left_index=True, right_index=True)\n",
    "pop = pop.set_index('names').loc[:, \"avg_pop\"]"
   ],
   "metadata": {
    "collapsed": false
   }
  },
  {
   "cell_type": "code",
   "execution_count": 7,
   "outputs": [
    {
     "data": {
      "text/plain": "names\nAruba           1.044919e+05\nAfghanistan     3.468124e+07\nAngola          2.846842e+07\nAlbania         2.875263e+06\nAndorra         7.930583e+04\n                    ...     \nKosovo          1.795317e+06\nYemen           2.682369e+07\nSouth Africa    5.571583e+07\nZambia          1.616954e+07\nZimbabwe        1.389710e+07\nName: avg_pop, Length: 217, dtype: float64"
     },
     "execution_count": 7,
     "metadata": {},
     "output_type": "execute_result"
    }
   ],
   "source": [
    "pop\n",
    "\n"
   ],
   "metadata": {
    "collapsed": false
   }
  },
  {
   "cell_type": "code",
   "execution_count": 8,
   "outputs": [
    {
     "data": {
      "text/plain": "                                             2020-Q2 Unnamed: 2    2020-Q3  \\\nTIME                                                                         \nNaN                                              NaN        NaN        NaN   \nEU                                         3092983.9        NaN  3418271.6   \nEuropean Union - 28 countries (2013-2020)          :        NaN          :   \nEuro area - 19 countries  (from 2015)      2631060.9        NaN  2909608.3   \nBelgium                                       105644          p     113945   \n...                                              ...        ...        ...   \nPalestine                                          :        NaN          :   \nSaudi Arabia                                       :        NaN          :   \nAustralia                                   280349.7        NaN   296909.3   \nNew Zealand                                    40983        NaN    45962.6   \nSamoa                                              :        NaN          :   \n\n                                          Unnamed: 4    2020-Q4 Unnamed: 6  \\\nTIME                                                                         \nNaN                                              NaN        NaN        NaN   \nEU                                               NaN  3588456.7        NaN   \nEuropean Union - 28 countries (2013-2020)        NaN          :        NaN   \nEuro area - 19 countries  (from 2015)            NaN  3035281.1        NaN   \nBelgium                                            p     124206          p   \n...                                              ...        ...        ...   \nPalestine                                        NaN          :        NaN   \nSaudi Arabia                                     NaN          :        NaN   \nAustralia                                        NaN     323249        NaN   \nNew Zealand                                      NaN    50313.6        NaN   \nSamoa                                            NaN          :        NaN   \n\n                                             2021-Q1  \nTIME                                                  \nNaN                                              NaN  \nEU                                         3395193.7  \nEuropean Union - 28 countries (2013-2020)          :  \nEuro area - 19 countries  (from 2015)      2902475.8  \nBelgium                                       118204  \n...                                              ...  \nPalestine                                          :  \nSaudi Arabia                                       :  \nAustralia                                   324962.5  \nNew Zealand                                  51176.1  \nSamoa                                              :  \n\n[102 rows x 7 columns]",
      "text/html": "<div>\n<style scoped>\n    .dataframe tbody tr th:only-of-type {\n        vertical-align: middle;\n    }\n\n    .dataframe tbody tr th {\n        vertical-align: top;\n    }\n\n    .dataframe thead th {\n        text-align: right;\n    }\n</style>\n<table border=\"1\" class=\"dataframe\">\n  <thead>\n    <tr style=\"text-align: right;\">\n      <th></th>\n      <th>2020-Q2</th>\n      <th>Unnamed: 2</th>\n      <th>2020-Q3</th>\n      <th>Unnamed: 4</th>\n      <th>2020-Q4</th>\n      <th>Unnamed: 6</th>\n      <th>2021-Q1</th>\n    </tr>\n    <tr>\n      <th>TIME</th>\n      <th></th>\n      <th></th>\n      <th></th>\n      <th></th>\n      <th></th>\n      <th></th>\n      <th></th>\n    </tr>\n  </thead>\n  <tbody>\n    <tr>\n      <th>NaN</th>\n      <td>NaN</td>\n      <td>NaN</td>\n      <td>NaN</td>\n      <td>NaN</td>\n      <td>NaN</td>\n      <td>NaN</td>\n      <td>NaN</td>\n    </tr>\n    <tr>\n      <th>EU</th>\n      <td>3092983.9</td>\n      <td>NaN</td>\n      <td>3418271.6</td>\n      <td>NaN</td>\n      <td>3588456.7</td>\n      <td>NaN</td>\n      <td>3395193.7</td>\n    </tr>\n    <tr>\n      <th>European Union - 28 countries (2013-2020)</th>\n      <td>:</td>\n      <td>NaN</td>\n      <td>:</td>\n      <td>NaN</td>\n      <td>:</td>\n      <td>NaN</td>\n      <td>:</td>\n    </tr>\n    <tr>\n      <th>Euro area - 19 countries  (from 2015)</th>\n      <td>2631060.9</td>\n      <td>NaN</td>\n      <td>2909608.3</td>\n      <td>NaN</td>\n      <td>3035281.1</td>\n      <td>NaN</td>\n      <td>2902475.8</td>\n    </tr>\n    <tr>\n      <th>Belgium</th>\n      <td>105644</td>\n      <td>p</td>\n      <td>113945</td>\n      <td>p</td>\n      <td>124206</td>\n      <td>p</td>\n      <td>118204</td>\n    </tr>\n    <tr>\n      <th>...</th>\n      <td>...</td>\n      <td>...</td>\n      <td>...</td>\n      <td>...</td>\n      <td>...</td>\n      <td>...</td>\n      <td>...</td>\n    </tr>\n    <tr>\n      <th>Palestine</th>\n      <td>:</td>\n      <td>NaN</td>\n      <td>:</td>\n      <td>NaN</td>\n      <td>:</td>\n      <td>NaN</td>\n      <td>:</td>\n    </tr>\n    <tr>\n      <th>Saudi Arabia</th>\n      <td>:</td>\n      <td>NaN</td>\n      <td>:</td>\n      <td>NaN</td>\n      <td>:</td>\n      <td>NaN</td>\n      <td>:</td>\n    </tr>\n    <tr>\n      <th>Australia</th>\n      <td>280349.7</td>\n      <td>NaN</td>\n      <td>296909.3</td>\n      <td>NaN</td>\n      <td>323249</td>\n      <td>NaN</td>\n      <td>324962.5</td>\n    </tr>\n    <tr>\n      <th>New Zealand</th>\n      <td>40983</td>\n      <td>NaN</td>\n      <td>45962.6</td>\n      <td>NaN</td>\n      <td>50313.6</td>\n      <td>NaN</td>\n      <td>51176.1</td>\n    </tr>\n    <tr>\n      <th>Samoa</th>\n      <td>:</td>\n      <td>NaN</td>\n      <td>:</td>\n      <td>NaN</td>\n      <td>:</td>\n      <td>NaN</td>\n      <td>:</td>\n    </tr>\n  </tbody>\n</table>\n<p>102 rows × 7 columns</p>\n</div>"
     },
     "execution_count": 8,
     "metadata": {},
     "output_type": "execute_result"
    }
   ],
   "source": [
    "gdp= pd.read_excel(\"../data/pop-gdp.xlsx\", sheet_name=\"GDP\", index_col=\"TIME\")\n",
    "gdp"
   ],
   "metadata": {
    "collapsed": false
   }
  },
  {
   "cell_type": "code",
   "execution_count": 9,
   "outputs": [],
   "source": [
    "gdppop = pd.merge(left=pop, right=gdp.loc[:, \"2021-Q1\"], left_index=True, right_index=True)\n",
    "gdppop = gdppop.rename(columns={\"2021-Q1\":\"gdp\"})\n",
    "gdppop.to_excel(\"../data/gdp_avgpop.xlsx\")"
   ],
   "metadata": {
    "collapsed": false
   }
  },
  {
   "cell_type": "code",
   "execution_count": 15,
   "outputs": [],
   "source": [
    "gdppop = pd.read_excel(\"../data/gdp_avgpop.xlsx\", index_col=0)\n",
    "df_c_wos = pd.read_excel(\"/home/kevin-desktop/PycharmProjects/SDG/data/total_number_pubs.xlsx\", index_col=0)\n"
   ],
   "metadata": {
    "collapsed": false
   }
  },
  {
   "cell_type": "code",
   "execution_count": 16,
   "outputs": [
    {
     "data": {
      "text/plain": "World             49621592\nEU                13486423\nChina              6297302\nUnited States     14435821\nAustria             405283\nBelgium           590783.0\nBulgaria             97530\nCroatia            94711.0\nHungary           221415.0\nCyprus               30929\nCzech Republic      343569\nDenmark             481528\nEstonia              46169\nFinland             404535\nFrance             2136752\nGermany            2821820\nGreece              322888\nIreland             297273\nItaly              1877833\nLatvia               30904\nLithuania            58961\nLuxembourg           22711\nMalta                 8394\nNetherlands        1106335\nPoland              734001\nPortugal            327991\nRomania             253363\nSlovakia            114908\nSlovenia             93129\nSpain              1354702\nSweden              824499\nIceland              25244\nLiechtenstein         1891\nNorway              366460\nSwitzerland         784015\nUnited Kingdom     3878133\nJapan              3052441\nSouth Korea        1198977\nIsrael              490892\nCanada             2126411\nAustralia          1571709\nName: tot, dtype: object"
     },
     "execution_count": 16,
     "metadata": {},
     "output_type": "execute_result"
    }
   ],
   "source": [
    "tot = df_c_wos.transpose().rename(columns={'Total from Wos':'tot'}).loc[:, \"tot\"]\n",
    "tot"
   ],
   "metadata": {
    "collapsed": false
   }
  },
  {
   "cell_type": "code",
   "execution_count": 17,
   "outputs": [
    {
     "data": {
      "text/plain": "                     tot       avg_pop        gdp\nEU              13486423  4.445399e+08  3395193.7\nChina            6297302  1.380822e+09  3176037.4\nUnited States   14435821  3.213942e+08  4518929.3\nAustria           405283  8.665144e+06    92140.6\nBelgium         590783.0  1.128651e+07     118204\nBulgaria           97530  7.146214e+06    14512.3\nCroatia          94711.0  4.161662e+06    12658.3\nHungary         221415.0  9.841952e+06    31845.5\nCyprus             30929  1.165859e+06     5570.4\nCzech Republic    343569  1.057757e+07    53083.1\nDenmark           481528  5.703408e+06    77598.3\nEstonia            46169  1.322525e+06     6751.5\nFinland           404535  5.471458e+06      57830\nFrance           2136752  6.648011e+07   604440.4\nGermany          2821820  8.192392e+07     862030\nGreece            322888  1.085833e+07    39760.8\nIreland           297273  4.758464e+06   101222.2\nItaly            1877833  5.998175e+07   412230.4\nLatvia             30904  1.975161e+06     7103.2\nLithuania          58961  2.899221e+06    12064.6\nLuxembourg         22711  5.751099e+05    16685.8\nMalta               8394  4.583858e+05     3510.5\nNetherlands      1106335  1.703215e+07     201099\nPoland            734001  3.798107e+07   130755.9\nPortugal          327991  1.038786e+07    49247.8\nRomania           253363  1.972250e+07      46739\nSlovakia          114908  5.427521e+06    22081.1\nSlovenia           93129  2.070599e+06    11605.6\nSpain            1354702  4.677820e+07     279044\nSweden            824499  9.887210e+06   125461.7\nIceland            25244  3.392181e+05     4697.1\nNorway            366460  5.185456e+06    91290.3\nSwitzerland       784015  8.295302e+06   159402.5\nUnited Kingdom   3878133  6.524557e+07   609979.5\nJapan            3052441  1.270690e+08  1054733.6\nSouth Korea      1198977  5.094932e+07   359938.2\nIsrael            490892  8.477533e+06    91346.6\nCanada           2126411  3.607384e+07   377048.8\nAustralia        1571709  2.400823e+07   324962.5",
      "text/html": "<div>\n<style scoped>\n    .dataframe tbody tr th:only-of-type {\n        vertical-align: middle;\n    }\n\n    .dataframe tbody tr th {\n        vertical-align: top;\n    }\n\n    .dataframe thead th {\n        text-align: right;\n    }\n</style>\n<table border=\"1\" class=\"dataframe\">\n  <thead>\n    <tr style=\"text-align: right;\">\n      <th></th>\n      <th>tot</th>\n      <th>avg_pop</th>\n      <th>gdp</th>\n    </tr>\n  </thead>\n  <tbody>\n    <tr>\n      <th>EU</th>\n      <td>13486423</td>\n      <td>4.445399e+08</td>\n      <td>3395193.7</td>\n    </tr>\n    <tr>\n      <th>China</th>\n      <td>6297302</td>\n      <td>1.380822e+09</td>\n      <td>3176037.4</td>\n    </tr>\n    <tr>\n      <th>United States</th>\n      <td>14435821</td>\n      <td>3.213942e+08</td>\n      <td>4518929.3</td>\n    </tr>\n    <tr>\n      <th>Austria</th>\n      <td>405283</td>\n      <td>8.665144e+06</td>\n      <td>92140.6</td>\n    </tr>\n    <tr>\n      <th>Belgium</th>\n      <td>590783.0</td>\n      <td>1.128651e+07</td>\n      <td>118204</td>\n    </tr>\n    <tr>\n      <th>Bulgaria</th>\n      <td>97530</td>\n      <td>7.146214e+06</td>\n      <td>14512.3</td>\n    </tr>\n    <tr>\n      <th>Croatia</th>\n      <td>94711.0</td>\n      <td>4.161662e+06</td>\n      <td>12658.3</td>\n    </tr>\n    <tr>\n      <th>Hungary</th>\n      <td>221415.0</td>\n      <td>9.841952e+06</td>\n      <td>31845.5</td>\n    </tr>\n    <tr>\n      <th>Cyprus</th>\n      <td>30929</td>\n      <td>1.165859e+06</td>\n      <td>5570.4</td>\n    </tr>\n    <tr>\n      <th>Czech Republic</th>\n      <td>343569</td>\n      <td>1.057757e+07</td>\n      <td>53083.1</td>\n    </tr>\n    <tr>\n      <th>Denmark</th>\n      <td>481528</td>\n      <td>5.703408e+06</td>\n      <td>77598.3</td>\n    </tr>\n    <tr>\n      <th>Estonia</th>\n      <td>46169</td>\n      <td>1.322525e+06</td>\n      <td>6751.5</td>\n    </tr>\n    <tr>\n      <th>Finland</th>\n      <td>404535</td>\n      <td>5.471458e+06</td>\n      <td>57830</td>\n    </tr>\n    <tr>\n      <th>France</th>\n      <td>2136752</td>\n      <td>6.648011e+07</td>\n      <td>604440.4</td>\n    </tr>\n    <tr>\n      <th>Germany</th>\n      <td>2821820</td>\n      <td>8.192392e+07</td>\n      <td>862030</td>\n    </tr>\n    <tr>\n      <th>Greece</th>\n      <td>322888</td>\n      <td>1.085833e+07</td>\n      <td>39760.8</td>\n    </tr>\n    <tr>\n      <th>Ireland</th>\n      <td>297273</td>\n      <td>4.758464e+06</td>\n      <td>101222.2</td>\n    </tr>\n    <tr>\n      <th>Italy</th>\n      <td>1877833</td>\n      <td>5.998175e+07</td>\n      <td>412230.4</td>\n    </tr>\n    <tr>\n      <th>Latvia</th>\n      <td>30904</td>\n      <td>1.975161e+06</td>\n      <td>7103.2</td>\n    </tr>\n    <tr>\n      <th>Lithuania</th>\n      <td>58961</td>\n      <td>2.899221e+06</td>\n      <td>12064.6</td>\n    </tr>\n    <tr>\n      <th>Luxembourg</th>\n      <td>22711</td>\n      <td>5.751099e+05</td>\n      <td>16685.8</td>\n    </tr>\n    <tr>\n      <th>Malta</th>\n      <td>8394</td>\n      <td>4.583858e+05</td>\n      <td>3510.5</td>\n    </tr>\n    <tr>\n      <th>Netherlands</th>\n      <td>1106335</td>\n      <td>1.703215e+07</td>\n      <td>201099</td>\n    </tr>\n    <tr>\n      <th>Poland</th>\n      <td>734001</td>\n      <td>3.798107e+07</td>\n      <td>130755.9</td>\n    </tr>\n    <tr>\n      <th>Portugal</th>\n      <td>327991</td>\n      <td>1.038786e+07</td>\n      <td>49247.8</td>\n    </tr>\n    <tr>\n      <th>Romania</th>\n      <td>253363</td>\n      <td>1.972250e+07</td>\n      <td>46739</td>\n    </tr>\n    <tr>\n      <th>Slovakia</th>\n      <td>114908</td>\n      <td>5.427521e+06</td>\n      <td>22081.1</td>\n    </tr>\n    <tr>\n      <th>Slovenia</th>\n      <td>93129</td>\n      <td>2.070599e+06</td>\n      <td>11605.6</td>\n    </tr>\n    <tr>\n      <th>Spain</th>\n      <td>1354702</td>\n      <td>4.677820e+07</td>\n      <td>279044</td>\n    </tr>\n    <tr>\n      <th>Sweden</th>\n      <td>824499</td>\n      <td>9.887210e+06</td>\n      <td>125461.7</td>\n    </tr>\n    <tr>\n      <th>Iceland</th>\n      <td>25244</td>\n      <td>3.392181e+05</td>\n      <td>4697.1</td>\n    </tr>\n    <tr>\n      <th>Norway</th>\n      <td>366460</td>\n      <td>5.185456e+06</td>\n      <td>91290.3</td>\n    </tr>\n    <tr>\n      <th>Switzerland</th>\n      <td>784015</td>\n      <td>8.295302e+06</td>\n      <td>159402.5</td>\n    </tr>\n    <tr>\n      <th>United Kingdom</th>\n      <td>3878133</td>\n      <td>6.524557e+07</td>\n      <td>609979.5</td>\n    </tr>\n    <tr>\n      <th>Japan</th>\n      <td>3052441</td>\n      <td>1.270690e+08</td>\n      <td>1054733.6</td>\n    </tr>\n    <tr>\n      <th>South Korea</th>\n      <td>1198977</td>\n      <td>5.094932e+07</td>\n      <td>359938.2</td>\n    </tr>\n    <tr>\n      <th>Israel</th>\n      <td>490892</td>\n      <td>8.477533e+06</td>\n      <td>91346.6</td>\n    </tr>\n    <tr>\n      <th>Canada</th>\n      <td>2126411</td>\n      <td>3.607384e+07</td>\n      <td>377048.8</td>\n    </tr>\n    <tr>\n      <th>Australia</th>\n      <td>1571709</td>\n      <td>2.400823e+07</td>\n      <td>324962.5</td>\n    </tr>\n  </tbody>\n</table>\n</div>"
     },
     "execution_count": 17,
     "metadata": {},
     "output_type": "execute_result"
    }
   ],
   "source": [
    "calc = pd.merge(tot, gdppop, left_index=True, right_index=True)\n",
    "calc"
   ],
   "metadata": {
    "collapsed": false
   }
  },
  {
   "cell_type": "code",
   "execution_count": 18,
   "outputs": [],
   "source": [
    "from collections import Counter\n",
    "dic_countries = {country:Counter() for country in calc.index}\n",
    "dic_countries_frac = {country:Counter() for country in calc.index}"
   ],
   "metadata": {
    "collapsed": false
   }
  },
  {
   "cell_type": "code",
   "execution_count": 19,
   "outputs": [
    {
     "data": {
      "text/plain": "{'PT': 0,\n 'AU': 1,\n 'TI': 2,\n 'SO': 3,\n 'DE': 4,\n 'AB': 5,\n 'C1': 6,\n 'EM': 7,\n 'TC': 8,\n 'PY': 9,\n 'WC': 10,\n 'UT': 11,\n 'CN': 12,\n 'SDG1': 13,\n 'SDG2': 14,\n 'SDG3': 15,\n 'SDG4': 16,\n 'SDG5': 17,\n 'SDG6': 18,\n 'SDG7': 19,\n 'SDG8': 20,\n 'SDG9': 21,\n 'SDG10': 22,\n 'SDG11': 23,\n 'SDG12': 24,\n 'SDG13': 25,\n 'SDG14': 26,\n 'SDG15': 27,\n 'SDG16': 28,\n 'SDG17': 29,\n 'AI': 30,\n 'big_data': 31,\n 'IOT': 32,\n 'computing_infrastructure': 33,\n 'blockchain': 34,\n 'robotics': 35,\n 'additive_manufacturing': 36,\n 'Society': 37,\n 'Economy': 38,\n 'Environment': 39,\n 'EU': 40,\n 'DST': 41}"
     },
     "execution_count": 19,
     "metadata": {},
     "output_type": "execute_result"
    }
   ],
   "source": [
    "idx_sdg = {name: i for i, name in enumerate(list(df_sdg), start=0)}\n",
    "idx_dt = {name: i for i, name in enumerate(list(df_dt), start=0)}\n",
    "idx_sdg_dt = {name: i for i, name in enumerate(list(df_inter), start=0)}\n",
    "idx_sdg_dt"
   ],
   "metadata": {
    "collapsed": false
   }
  },
  {
   "cell_type": "code",
   "execution_count": 20,
   "outputs": [],
   "source": [
    "# Digital\n",
    "for row in df_dt.itertuples(index=False, name=None):\n",
    "    cn = row[idx_dt['CN']]\n",
    "    lst_actors = cn.split(\", \")\n",
    "    size_actors = len(lst_actors)\n",
    "    for actor in lst_actors:\n",
    "        if actor in dic_countries.keys():\n",
    "            # Increment for digital\n",
    "            dic_countries_frac[actor]['dt'] += 1/size_actors\n",
    "            dic_countries[actor]['dt'] += 1\n",
    "            if actor in eu:\n",
    "                dic_countries_frac['EU']['dt'] += 1/size_actors\n",
    "                dic_countries['EU']['dt'] += 1\n",
    "# SDG & SDG-DT\n",
    "for row in df_sdg.itertuples(index=False, name=None):\n",
    "    cn = row[idx_sdg['CN']]\n",
    "    lst_actors = cn.split(\", \")\n",
    "    size_actors = len(lst_actors)\n",
    "    for actor in lst_actors:\n",
    "        if actor in dic_countries.keys():\n",
    "            # Increment for SDG\n",
    "            dic_countries_frac[actor]['sdg'] += 1/size_actors\n",
    "            dic_countries[actor]['sdg'] += 1\n",
    "            if actor in eu:\n",
    "                dic_countries_frac['EU']['sdg'] += 1/size_actors\n",
    "                dic_countries['EU']['sdg'] += 1\n",
    "            if row[-1]:\n",
    "                # Increment for SDG-DT\n",
    "                dic_countries_frac[actor]['inter'] += 1/size_actors\n",
    "                dic_countries[actor]['inter'] += 1\n",
    "                if actor in eu:\n",
    "                    dic_countries_frac['EU']['inter'] += 1/size_actors\n",
    "                    dic_countries['EU']['inter'] += 1"
   ],
   "metadata": {
    "collapsed": false
   }
  },
  {
   "cell_type": "code",
   "execution_count": 21,
   "outputs": [
    {
     "data": {
      "text/plain": "                dt_full  sdg_full  inter_full\nEU               780275   1287481       35322\nChina            928484    827602       34202\nUnited States    575142    871274       24155\nAustria           16390     27193         753\nBelgium           27993     45638        1045\nBulgaria           2246      4050          96\nCroatia            4879     11505         318\nHungary            7671     13404         396\nCyprus             2237      3641         181\nCzech Republic    13016     23147         597\nDenmark           15053     39364         740\nEstonia            2196      6097         156\nFinland           19194     36432        1063\nFrance            88640    142989        3149\nGermany          139830    181268        5082\nGreece            23356     34732        1488\nIreland           11443     20431         613\nItaly            143869    208540        6704\nLatvia             1007      2630          46\nLithuania          3285      7508         189\nLuxembourg         1641      1997         102\nMalta               369      1028          22\nNetherlands       44707     84066        1661\nPoland            29887     49997        1303\nPortugal          24879     60501        1438\nRomania           13737     24844         937\nSlovakia           4949      7906         212\nSlovenia           6232      7460         229\nSpain            106887    180389        5622\nSweden            24682     60724        1180\nIceland             678      2980          28\nNorway            12011     43929         875\nSwitzerland       39479     50952        1348\nUnited Kingdom   157321    267324        7035\nJapan            104322    100349        2633\nSouth Korea      140460     87357        4899\nIsrael            14704     20270         359\nCanada            87648    163355        3915\nAustralia         82113    208694        4817",
      "text/html": "<div>\n<style scoped>\n    .dataframe tbody tr th:only-of-type {\n        vertical-align: middle;\n    }\n\n    .dataframe tbody tr th {\n        vertical-align: top;\n    }\n\n    .dataframe thead th {\n        text-align: right;\n    }\n</style>\n<table border=\"1\" class=\"dataframe\">\n  <thead>\n    <tr style=\"text-align: right;\">\n      <th></th>\n      <th>dt_full</th>\n      <th>sdg_full</th>\n      <th>inter_full</th>\n    </tr>\n  </thead>\n  <tbody>\n    <tr>\n      <th>EU</th>\n      <td>780275</td>\n      <td>1287481</td>\n      <td>35322</td>\n    </tr>\n    <tr>\n      <th>China</th>\n      <td>928484</td>\n      <td>827602</td>\n      <td>34202</td>\n    </tr>\n    <tr>\n      <th>United States</th>\n      <td>575142</td>\n      <td>871274</td>\n      <td>24155</td>\n    </tr>\n    <tr>\n      <th>Austria</th>\n      <td>16390</td>\n      <td>27193</td>\n      <td>753</td>\n    </tr>\n    <tr>\n      <th>Belgium</th>\n      <td>27993</td>\n      <td>45638</td>\n      <td>1045</td>\n    </tr>\n    <tr>\n      <th>Bulgaria</th>\n      <td>2246</td>\n      <td>4050</td>\n      <td>96</td>\n    </tr>\n    <tr>\n      <th>Croatia</th>\n      <td>4879</td>\n      <td>11505</td>\n      <td>318</td>\n    </tr>\n    <tr>\n      <th>Hungary</th>\n      <td>7671</td>\n      <td>13404</td>\n      <td>396</td>\n    </tr>\n    <tr>\n      <th>Cyprus</th>\n      <td>2237</td>\n      <td>3641</td>\n      <td>181</td>\n    </tr>\n    <tr>\n      <th>Czech Republic</th>\n      <td>13016</td>\n      <td>23147</td>\n      <td>597</td>\n    </tr>\n    <tr>\n      <th>Denmark</th>\n      <td>15053</td>\n      <td>39364</td>\n      <td>740</td>\n    </tr>\n    <tr>\n      <th>Estonia</th>\n      <td>2196</td>\n      <td>6097</td>\n      <td>156</td>\n    </tr>\n    <tr>\n      <th>Finland</th>\n      <td>19194</td>\n      <td>36432</td>\n      <td>1063</td>\n    </tr>\n    <tr>\n      <th>France</th>\n      <td>88640</td>\n      <td>142989</td>\n      <td>3149</td>\n    </tr>\n    <tr>\n      <th>Germany</th>\n      <td>139830</td>\n      <td>181268</td>\n      <td>5082</td>\n    </tr>\n    <tr>\n      <th>Greece</th>\n      <td>23356</td>\n      <td>34732</td>\n      <td>1488</td>\n    </tr>\n    <tr>\n      <th>Ireland</th>\n      <td>11443</td>\n      <td>20431</td>\n      <td>613</td>\n    </tr>\n    <tr>\n      <th>Italy</th>\n      <td>143869</td>\n      <td>208540</td>\n      <td>6704</td>\n    </tr>\n    <tr>\n      <th>Latvia</th>\n      <td>1007</td>\n      <td>2630</td>\n      <td>46</td>\n    </tr>\n    <tr>\n      <th>Lithuania</th>\n      <td>3285</td>\n      <td>7508</td>\n      <td>189</td>\n    </tr>\n    <tr>\n      <th>Luxembourg</th>\n      <td>1641</td>\n      <td>1997</td>\n      <td>102</td>\n    </tr>\n    <tr>\n      <th>Malta</th>\n      <td>369</td>\n      <td>1028</td>\n      <td>22</td>\n    </tr>\n    <tr>\n      <th>Netherlands</th>\n      <td>44707</td>\n      <td>84066</td>\n      <td>1661</td>\n    </tr>\n    <tr>\n      <th>Poland</th>\n      <td>29887</td>\n      <td>49997</td>\n      <td>1303</td>\n    </tr>\n    <tr>\n      <th>Portugal</th>\n      <td>24879</td>\n      <td>60501</td>\n      <td>1438</td>\n    </tr>\n    <tr>\n      <th>Romania</th>\n      <td>13737</td>\n      <td>24844</td>\n      <td>937</td>\n    </tr>\n    <tr>\n      <th>Slovakia</th>\n      <td>4949</td>\n      <td>7906</td>\n      <td>212</td>\n    </tr>\n    <tr>\n      <th>Slovenia</th>\n      <td>6232</td>\n      <td>7460</td>\n      <td>229</td>\n    </tr>\n    <tr>\n      <th>Spain</th>\n      <td>106887</td>\n      <td>180389</td>\n      <td>5622</td>\n    </tr>\n    <tr>\n      <th>Sweden</th>\n      <td>24682</td>\n      <td>60724</td>\n      <td>1180</td>\n    </tr>\n    <tr>\n      <th>Iceland</th>\n      <td>678</td>\n      <td>2980</td>\n      <td>28</td>\n    </tr>\n    <tr>\n      <th>Norway</th>\n      <td>12011</td>\n      <td>43929</td>\n      <td>875</td>\n    </tr>\n    <tr>\n      <th>Switzerland</th>\n      <td>39479</td>\n      <td>50952</td>\n      <td>1348</td>\n    </tr>\n    <tr>\n      <th>United Kingdom</th>\n      <td>157321</td>\n      <td>267324</td>\n      <td>7035</td>\n    </tr>\n    <tr>\n      <th>Japan</th>\n      <td>104322</td>\n      <td>100349</td>\n      <td>2633</td>\n    </tr>\n    <tr>\n      <th>South Korea</th>\n      <td>140460</td>\n      <td>87357</td>\n      <td>4899</td>\n    </tr>\n    <tr>\n      <th>Israel</th>\n      <td>14704</td>\n      <td>20270</td>\n      <td>359</td>\n    </tr>\n    <tr>\n      <th>Canada</th>\n      <td>87648</td>\n      <td>163355</td>\n      <td>3915</td>\n    </tr>\n    <tr>\n      <th>Australia</th>\n      <td>82113</td>\n      <td>208694</td>\n      <td>4817</td>\n    </tr>\n  </tbody>\n</table>\n</div>"
     },
     "execution_count": 21,
     "metadata": {},
     "output_type": "execute_result"
    }
   ],
   "source": [
    "df_full = pd.DataFrame.from_dict(dic_countries, orient='index')\n",
    "df_full.rename(columns={'dt':'dt_full', 'sdg':'sdg_full', 'inter':'inter_full'}, inplace=True)\n",
    "df_full"
   ],
   "metadata": {
    "collapsed": false
   }
  },
  {
   "cell_type": "code",
   "execution_count": 22,
   "outputs": [
    {
     "data": {
      "text/plain": "                      dt_frac       sdg_frac   inter_frac\nEU              149626.572842  255032.298970  6973.571454\nChina           188528.693224  145199.568982  6755.196249\nUnited States   114589.956220  193487.922934  4689.826355\nAustria           3236.053303    5372.635315   138.258313\nBelgium           4779.746296    8371.507113   181.901241\nBulgaria           549.483471    1009.169897    24.554932\nCroatia           1225.321102    2621.667351    78.026927\nHungary           1670.516461    2767.537751    85.481166\nCyprus             541.687904     851.738882    41.854211\nCzech Republic    2647.521995    4618.636023   107.792072\nDenmark           3078.092221    7977.961969   143.020285\nEstonia            438.769553    1238.384147    31.906383\nFinland           3615.406532    7719.220726   200.267440\nFrance           15853.700722   23290.960538   551.407769\nGermany          24569.802808   36083.595931   941.987972\nGreece            5160.642990    7298.045071   311.481502\nIreland           2429.286519    4481.205904   122.954903\nItaly            24648.310547   37292.169893  1219.920814\nLatvia             217.616616     582.122971    10.760751\nLithuania          788.154774    1752.292576    40.237259\nLuxembourg         339.384507     457.427076    23.212576\nMalta               96.151579     256.117513     2.943655\nNetherlands       8149.341042   17333.784583   330.855868\nPoland            7936.649903   13146.977740   349.013199\nPortugal          4985.216536   11419.517093   295.291351\nRomania           3257.436330    5698.929843   211.371191\nSlovakia          1092.612611    1733.551491    41.527329\nSlovenia          1550.891690    1862.611074    60.474226\nSpain            21779.103279   35876.370198  1183.567861\nSweden            4989.671550   13918.160300   243.500257\nIceland            137.479746     607.472156     5.508138\nNorway            2617.168439    9549.820653   185.499124\nSwitzerland       6293.906406    9866.141928   260.587459\nUnited Kingdom   30787.366532   61205.919539  1455.698402\nJapan            20909.259142   19448.498197   560.624257\nSouth Korea      32763.437206   19411.126348  1234.556650\nIsrael            3375.864411    4938.700962    82.655454\nCanada           20252.774707   37206.120947   901.841444\nAustralia        17903.566199   46270.843816   972.265841",
      "text/html": "<div>\n<style scoped>\n    .dataframe tbody tr th:only-of-type {\n        vertical-align: middle;\n    }\n\n    .dataframe tbody tr th {\n        vertical-align: top;\n    }\n\n    .dataframe thead th {\n        text-align: right;\n    }\n</style>\n<table border=\"1\" class=\"dataframe\">\n  <thead>\n    <tr style=\"text-align: right;\">\n      <th></th>\n      <th>dt_frac</th>\n      <th>sdg_frac</th>\n      <th>inter_frac</th>\n    </tr>\n  </thead>\n  <tbody>\n    <tr>\n      <th>EU</th>\n      <td>149626.572842</td>\n      <td>255032.298970</td>\n      <td>6973.571454</td>\n    </tr>\n    <tr>\n      <th>China</th>\n      <td>188528.693224</td>\n      <td>145199.568982</td>\n      <td>6755.196249</td>\n    </tr>\n    <tr>\n      <th>United States</th>\n      <td>114589.956220</td>\n      <td>193487.922934</td>\n      <td>4689.826355</td>\n    </tr>\n    <tr>\n      <th>Austria</th>\n      <td>3236.053303</td>\n      <td>5372.635315</td>\n      <td>138.258313</td>\n    </tr>\n    <tr>\n      <th>Belgium</th>\n      <td>4779.746296</td>\n      <td>8371.507113</td>\n      <td>181.901241</td>\n    </tr>\n    <tr>\n      <th>Bulgaria</th>\n      <td>549.483471</td>\n      <td>1009.169897</td>\n      <td>24.554932</td>\n    </tr>\n    <tr>\n      <th>Croatia</th>\n      <td>1225.321102</td>\n      <td>2621.667351</td>\n      <td>78.026927</td>\n    </tr>\n    <tr>\n      <th>Hungary</th>\n      <td>1670.516461</td>\n      <td>2767.537751</td>\n      <td>85.481166</td>\n    </tr>\n    <tr>\n      <th>Cyprus</th>\n      <td>541.687904</td>\n      <td>851.738882</td>\n      <td>41.854211</td>\n    </tr>\n    <tr>\n      <th>Czech Republic</th>\n      <td>2647.521995</td>\n      <td>4618.636023</td>\n      <td>107.792072</td>\n    </tr>\n    <tr>\n      <th>Denmark</th>\n      <td>3078.092221</td>\n      <td>7977.961969</td>\n      <td>143.020285</td>\n    </tr>\n    <tr>\n      <th>Estonia</th>\n      <td>438.769553</td>\n      <td>1238.384147</td>\n      <td>31.906383</td>\n    </tr>\n    <tr>\n      <th>Finland</th>\n      <td>3615.406532</td>\n      <td>7719.220726</td>\n      <td>200.267440</td>\n    </tr>\n    <tr>\n      <th>France</th>\n      <td>15853.700722</td>\n      <td>23290.960538</td>\n      <td>551.407769</td>\n    </tr>\n    <tr>\n      <th>Germany</th>\n      <td>24569.802808</td>\n      <td>36083.595931</td>\n      <td>941.987972</td>\n    </tr>\n    <tr>\n      <th>Greece</th>\n      <td>5160.642990</td>\n      <td>7298.045071</td>\n      <td>311.481502</td>\n    </tr>\n    <tr>\n      <th>Ireland</th>\n      <td>2429.286519</td>\n      <td>4481.205904</td>\n      <td>122.954903</td>\n    </tr>\n    <tr>\n      <th>Italy</th>\n      <td>24648.310547</td>\n      <td>37292.169893</td>\n      <td>1219.920814</td>\n    </tr>\n    <tr>\n      <th>Latvia</th>\n      <td>217.616616</td>\n      <td>582.122971</td>\n      <td>10.760751</td>\n    </tr>\n    <tr>\n      <th>Lithuania</th>\n      <td>788.154774</td>\n      <td>1752.292576</td>\n      <td>40.237259</td>\n    </tr>\n    <tr>\n      <th>Luxembourg</th>\n      <td>339.384507</td>\n      <td>457.427076</td>\n      <td>23.212576</td>\n    </tr>\n    <tr>\n      <th>Malta</th>\n      <td>96.151579</td>\n      <td>256.117513</td>\n      <td>2.943655</td>\n    </tr>\n    <tr>\n      <th>Netherlands</th>\n      <td>8149.341042</td>\n      <td>17333.784583</td>\n      <td>330.855868</td>\n    </tr>\n    <tr>\n      <th>Poland</th>\n      <td>7936.649903</td>\n      <td>13146.977740</td>\n      <td>349.013199</td>\n    </tr>\n    <tr>\n      <th>Portugal</th>\n      <td>4985.216536</td>\n      <td>11419.517093</td>\n      <td>295.291351</td>\n    </tr>\n    <tr>\n      <th>Romania</th>\n      <td>3257.436330</td>\n      <td>5698.929843</td>\n      <td>211.371191</td>\n    </tr>\n    <tr>\n      <th>Slovakia</th>\n      <td>1092.612611</td>\n      <td>1733.551491</td>\n      <td>41.527329</td>\n    </tr>\n    <tr>\n      <th>Slovenia</th>\n      <td>1550.891690</td>\n      <td>1862.611074</td>\n      <td>60.474226</td>\n    </tr>\n    <tr>\n      <th>Spain</th>\n      <td>21779.103279</td>\n      <td>35876.370198</td>\n      <td>1183.567861</td>\n    </tr>\n    <tr>\n      <th>Sweden</th>\n      <td>4989.671550</td>\n      <td>13918.160300</td>\n      <td>243.500257</td>\n    </tr>\n    <tr>\n      <th>Iceland</th>\n      <td>137.479746</td>\n      <td>607.472156</td>\n      <td>5.508138</td>\n    </tr>\n    <tr>\n      <th>Norway</th>\n      <td>2617.168439</td>\n      <td>9549.820653</td>\n      <td>185.499124</td>\n    </tr>\n    <tr>\n      <th>Switzerland</th>\n      <td>6293.906406</td>\n      <td>9866.141928</td>\n      <td>260.587459</td>\n    </tr>\n    <tr>\n      <th>United Kingdom</th>\n      <td>30787.366532</td>\n      <td>61205.919539</td>\n      <td>1455.698402</td>\n    </tr>\n    <tr>\n      <th>Japan</th>\n      <td>20909.259142</td>\n      <td>19448.498197</td>\n      <td>560.624257</td>\n    </tr>\n    <tr>\n      <th>South Korea</th>\n      <td>32763.437206</td>\n      <td>19411.126348</td>\n      <td>1234.556650</td>\n    </tr>\n    <tr>\n      <th>Israel</th>\n      <td>3375.864411</td>\n      <td>4938.700962</td>\n      <td>82.655454</td>\n    </tr>\n    <tr>\n      <th>Canada</th>\n      <td>20252.774707</td>\n      <td>37206.120947</td>\n      <td>901.841444</td>\n    </tr>\n    <tr>\n      <th>Australia</th>\n      <td>17903.566199</td>\n      <td>46270.843816</td>\n      <td>972.265841</td>\n    </tr>\n  </tbody>\n</table>\n</div>"
     },
     "execution_count": 22,
     "metadata": {},
     "output_type": "execute_result"
    }
   ],
   "source": [
    "df_frac = pd.DataFrame.from_dict(data=dic_countries_frac, orient='index')\n",
    "df_frac.rename(columns={'dt':'dt_frac', 'sdg':'sdg_frac', 'inter':'inter_frac'}, inplace=True)\n",
    "df_frac"
   ],
   "metadata": {
    "collapsed": false
   }
  },
  {
   "cell_type": "code",
   "execution_count": 23,
   "outputs": [],
   "source": [
    "# final = calc.merge(df_full, left_index=True, right_index=True).merge(df_frac, left_index=True, right_index=True)\n",
    "final = calc.merge(df_frac, left_index=True, right_index=True)"
   ],
   "metadata": {
    "collapsed": false
   }
  },
  {
   "cell_type": "code",
   "execution_count": 24,
   "outputs": [
    {
     "data": {
      "text/plain": "                     tot       avg_pop        gdp    dt_frac   sdg_frac  \\\nEU              13486423  4.445399e+08  3395193.7  149626.57  255032.30   \nChina            6297302  1.380822e+09  3176037.4  188528.69  145199.57   \nUnited States   14435821  3.213942e+08  4518929.3  114589.96  193487.92   \nAustria           405283  8.665144e+06    92140.6    3236.05    5372.64   \nBelgium         590783.0  1.128651e+07     118204    4779.75    8371.51   \nBulgaria           97530  7.146214e+06    14512.3     549.48    1009.17   \nCroatia          94711.0  4.161662e+06    12658.3    1225.32    2621.67   \nHungary         221415.0  9.841952e+06    31845.5    1670.52    2767.54   \nCyprus             30929  1.165859e+06     5570.4     541.69     851.74   \nCzech Republic    343569  1.057757e+07    53083.1    2647.52    4618.64   \nDenmark           481528  5.703408e+06    77598.3    3078.09    7977.96   \nEstonia            46169  1.322525e+06     6751.5     438.77    1238.38   \nFinland           404535  5.471458e+06      57830    3615.41    7719.22   \nFrance           2136752  6.648011e+07   604440.4   15853.70   23290.96   \nGermany          2821820  8.192392e+07     862030   24569.80   36083.60   \nGreece            322888  1.085833e+07    39760.8    5160.64    7298.05   \nIreland           297273  4.758464e+06   101222.2    2429.29    4481.21   \nItaly            1877833  5.998175e+07   412230.4   24648.31   37292.17   \nLatvia             30904  1.975161e+06     7103.2     217.62     582.12   \nLithuania          58961  2.899221e+06    12064.6     788.15    1752.29   \nLuxembourg         22711  5.751099e+05    16685.8     339.38     457.43   \nMalta               8394  4.583858e+05     3510.5      96.15     256.12   \nNetherlands      1106335  1.703215e+07     201099    8149.34   17333.78   \nPoland            734001  3.798107e+07   130755.9    7936.65   13146.98   \nPortugal          327991  1.038786e+07    49247.8    4985.22   11419.52   \nRomania           253363  1.972250e+07      46739    3257.44    5698.93   \nSlovakia          114908  5.427521e+06    22081.1    1092.61    1733.55   \nSlovenia           93129  2.070599e+06    11605.6    1550.89    1862.61   \nSpain            1354702  4.677820e+07     279044   21779.10   35876.37   \nSweden            824499  9.887210e+06   125461.7    4989.67   13918.16   \nIceland            25244  3.392181e+05     4697.1     137.48     607.47   \nNorway            366460  5.185456e+06    91290.3    2617.17    9549.82   \nSwitzerland       784015  8.295302e+06   159402.5    6293.91    9866.14   \nUnited Kingdom   3878133  6.524557e+07   609979.5   30787.37   61205.92   \nJapan            3052441  1.270690e+08  1054733.6   20909.26   19448.50   \nSouth Korea      1198977  5.094932e+07   359938.2   32763.44   19411.13   \nIsrael            490892  8.477533e+06    91346.6    3375.86    4938.70   \nCanada           2126411  3.607384e+07   377048.8   20252.77   37206.12   \nAustralia        1571709  2.400823e+07   324962.5   17903.57   46270.84   \n\n                inter_frac  \nEU                 6973.57  \nChina              6755.20  \nUnited States      4689.83  \nAustria             138.26  \nBelgium             181.90  \nBulgaria             24.55  \nCroatia              78.03  \nHungary              85.48  \nCyprus               41.85  \nCzech Republic      107.79  \nDenmark             143.02  \nEstonia              31.91  \nFinland             200.27  \nFrance              551.41  \nGermany             941.99  \nGreece              311.48  \nIreland             122.95  \nItaly              1219.92  \nLatvia               10.76  \nLithuania            40.24  \nLuxembourg           23.21  \nMalta                 2.94  \nNetherlands         330.86  \nPoland              349.01  \nPortugal            295.29  \nRomania             211.37  \nSlovakia             41.53  \nSlovenia             60.47  \nSpain              1183.57  \nSweden              243.50  \nIceland               5.51  \nNorway              185.50  \nSwitzerland         260.59  \nUnited Kingdom     1455.70  \nJapan               560.62  \nSouth Korea        1234.56  \nIsrael               82.66  \nCanada              901.84  \nAustralia           972.27  ",
      "text/html": "<div>\n<style scoped>\n    .dataframe tbody tr th:only-of-type {\n        vertical-align: middle;\n    }\n\n    .dataframe tbody tr th {\n        vertical-align: top;\n    }\n\n    .dataframe thead th {\n        text-align: right;\n    }\n</style>\n<table border=\"1\" class=\"dataframe\">\n  <thead>\n    <tr style=\"text-align: right;\">\n      <th></th>\n      <th>tot</th>\n      <th>avg_pop</th>\n      <th>gdp</th>\n      <th>dt_frac</th>\n      <th>sdg_frac</th>\n      <th>inter_frac</th>\n    </tr>\n  </thead>\n  <tbody>\n    <tr>\n      <th>EU</th>\n      <td>13486423</td>\n      <td>4.445399e+08</td>\n      <td>3395193.7</td>\n      <td>149626.57</td>\n      <td>255032.30</td>\n      <td>6973.57</td>\n    </tr>\n    <tr>\n      <th>China</th>\n      <td>6297302</td>\n      <td>1.380822e+09</td>\n      <td>3176037.4</td>\n      <td>188528.69</td>\n      <td>145199.57</td>\n      <td>6755.20</td>\n    </tr>\n    <tr>\n      <th>United States</th>\n      <td>14435821</td>\n      <td>3.213942e+08</td>\n      <td>4518929.3</td>\n      <td>114589.96</td>\n      <td>193487.92</td>\n      <td>4689.83</td>\n    </tr>\n    <tr>\n      <th>Austria</th>\n      <td>405283</td>\n      <td>8.665144e+06</td>\n      <td>92140.6</td>\n      <td>3236.05</td>\n      <td>5372.64</td>\n      <td>138.26</td>\n    </tr>\n    <tr>\n      <th>Belgium</th>\n      <td>590783.0</td>\n      <td>1.128651e+07</td>\n      <td>118204</td>\n      <td>4779.75</td>\n      <td>8371.51</td>\n      <td>181.90</td>\n    </tr>\n    <tr>\n      <th>Bulgaria</th>\n      <td>97530</td>\n      <td>7.146214e+06</td>\n      <td>14512.3</td>\n      <td>549.48</td>\n      <td>1009.17</td>\n      <td>24.55</td>\n    </tr>\n    <tr>\n      <th>Croatia</th>\n      <td>94711.0</td>\n      <td>4.161662e+06</td>\n      <td>12658.3</td>\n      <td>1225.32</td>\n      <td>2621.67</td>\n      <td>78.03</td>\n    </tr>\n    <tr>\n      <th>Hungary</th>\n      <td>221415.0</td>\n      <td>9.841952e+06</td>\n      <td>31845.5</td>\n      <td>1670.52</td>\n      <td>2767.54</td>\n      <td>85.48</td>\n    </tr>\n    <tr>\n      <th>Cyprus</th>\n      <td>30929</td>\n      <td>1.165859e+06</td>\n      <td>5570.4</td>\n      <td>541.69</td>\n      <td>851.74</td>\n      <td>41.85</td>\n    </tr>\n    <tr>\n      <th>Czech Republic</th>\n      <td>343569</td>\n      <td>1.057757e+07</td>\n      <td>53083.1</td>\n      <td>2647.52</td>\n      <td>4618.64</td>\n      <td>107.79</td>\n    </tr>\n    <tr>\n      <th>Denmark</th>\n      <td>481528</td>\n      <td>5.703408e+06</td>\n      <td>77598.3</td>\n      <td>3078.09</td>\n      <td>7977.96</td>\n      <td>143.02</td>\n    </tr>\n    <tr>\n      <th>Estonia</th>\n      <td>46169</td>\n      <td>1.322525e+06</td>\n      <td>6751.5</td>\n      <td>438.77</td>\n      <td>1238.38</td>\n      <td>31.91</td>\n    </tr>\n    <tr>\n      <th>Finland</th>\n      <td>404535</td>\n      <td>5.471458e+06</td>\n      <td>57830</td>\n      <td>3615.41</td>\n      <td>7719.22</td>\n      <td>200.27</td>\n    </tr>\n    <tr>\n      <th>France</th>\n      <td>2136752</td>\n      <td>6.648011e+07</td>\n      <td>604440.4</td>\n      <td>15853.70</td>\n      <td>23290.96</td>\n      <td>551.41</td>\n    </tr>\n    <tr>\n      <th>Germany</th>\n      <td>2821820</td>\n      <td>8.192392e+07</td>\n      <td>862030</td>\n      <td>24569.80</td>\n      <td>36083.60</td>\n      <td>941.99</td>\n    </tr>\n    <tr>\n      <th>Greece</th>\n      <td>322888</td>\n      <td>1.085833e+07</td>\n      <td>39760.8</td>\n      <td>5160.64</td>\n      <td>7298.05</td>\n      <td>311.48</td>\n    </tr>\n    <tr>\n      <th>Ireland</th>\n      <td>297273</td>\n      <td>4.758464e+06</td>\n      <td>101222.2</td>\n      <td>2429.29</td>\n      <td>4481.21</td>\n      <td>122.95</td>\n    </tr>\n    <tr>\n      <th>Italy</th>\n      <td>1877833</td>\n      <td>5.998175e+07</td>\n      <td>412230.4</td>\n      <td>24648.31</td>\n      <td>37292.17</td>\n      <td>1219.92</td>\n    </tr>\n    <tr>\n      <th>Latvia</th>\n      <td>30904</td>\n      <td>1.975161e+06</td>\n      <td>7103.2</td>\n      <td>217.62</td>\n      <td>582.12</td>\n      <td>10.76</td>\n    </tr>\n    <tr>\n      <th>Lithuania</th>\n      <td>58961</td>\n      <td>2.899221e+06</td>\n      <td>12064.6</td>\n      <td>788.15</td>\n      <td>1752.29</td>\n      <td>40.24</td>\n    </tr>\n    <tr>\n      <th>Luxembourg</th>\n      <td>22711</td>\n      <td>5.751099e+05</td>\n      <td>16685.8</td>\n      <td>339.38</td>\n      <td>457.43</td>\n      <td>23.21</td>\n    </tr>\n    <tr>\n      <th>Malta</th>\n      <td>8394</td>\n      <td>4.583858e+05</td>\n      <td>3510.5</td>\n      <td>96.15</td>\n      <td>256.12</td>\n      <td>2.94</td>\n    </tr>\n    <tr>\n      <th>Netherlands</th>\n      <td>1106335</td>\n      <td>1.703215e+07</td>\n      <td>201099</td>\n      <td>8149.34</td>\n      <td>17333.78</td>\n      <td>330.86</td>\n    </tr>\n    <tr>\n      <th>Poland</th>\n      <td>734001</td>\n      <td>3.798107e+07</td>\n      <td>130755.9</td>\n      <td>7936.65</td>\n      <td>13146.98</td>\n      <td>349.01</td>\n    </tr>\n    <tr>\n      <th>Portugal</th>\n      <td>327991</td>\n      <td>1.038786e+07</td>\n      <td>49247.8</td>\n      <td>4985.22</td>\n      <td>11419.52</td>\n      <td>295.29</td>\n    </tr>\n    <tr>\n      <th>Romania</th>\n      <td>253363</td>\n      <td>1.972250e+07</td>\n      <td>46739</td>\n      <td>3257.44</td>\n      <td>5698.93</td>\n      <td>211.37</td>\n    </tr>\n    <tr>\n      <th>Slovakia</th>\n      <td>114908</td>\n      <td>5.427521e+06</td>\n      <td>22081.1</td>\n      <td>1092.61</td>\n      <td>1733.55</td>\n      <td>41.53</td>\n    </tr>\n    <tr>\n      <th>Slovenia</th>\n      <td>93129</td>\n      <td>2.070599e+06</td>\n      <td>11605.6</td>\n      <td>1550.89</td>\n      <td>1862.61</td>\n      <td>60.47</td>\n    </tr>\n    <tr>\n      <th>Spain</th>\n      <td>1354702</td>\n      <td>4.677820e+07</td>\n      <td>279044</td>\n      <td>21779.10</td>\n      <td>35876.37</td>\n      <td>1183.57</td>\n    </tr>\n    <tr>\n      <th>Sweden</th>\n      <td>824499</td>\n      <td>9.887210e+06</td>\n      <td>125461.7</td>\n      <td>4989.67</td>\n      <td>13918.16</td>\n      <td>243.50</td>\n    </tr>\n    <tr>\n      <th>Iceland</th>\n      <td>25244</td>\n      <td>3.392181e+05</td>\n      <td>4697.1</td>\n      <td>137.48</td>\n      <td>607.47</td>\n      <td>5.51</td>\n    </tr>\n    <tr>\n      <th>Norway</th>\n      <td>366460</td>\n      <td>5.185456e+06</td>\n      <td>91290.3</td>\n      <td>2617.17</td>\n      <td>9549.82</td>\n      <td>185.50</td>\n    </tr>\n    <tr>\n      <th>Switzerland</th>\n      <td>784015</td>\n      <td>8.295302e+06</td>\n      <td>159402.5</td>\n      <td>6293.91</td>\n      <td>9866.14</td>\n      <td>260.59</td>\n    </tr>\n    <tr>\n      <th>United Kingdom</th>\n      <td>3878133</td>\n      <td>6.524557e+07</td>\n      <td>609979.5</td>\n      <td>30787.37</td>\n      <td>61205.92</td>\n      <td>1455.70</td>\n    </tr>\n    <tr>\n      <th>Japan</th>\n      <td>3052441</td>\n      <td>1.270690e+08</td>\n      <td>1054733.6</td>\n      <td>20909.26</td>\n      <td>19448.50</td>\n      <td>560.62</td>\n    </tr>\n    <tr>\n      <th>South Korea</th>\n      <td>1198977</td>\n      <td>5.094932e+07</td>\n      <td>359938.2</td>\n      <td>32763.44</td>\n      <td>19411.13</td>\n      <td>1234.56</td>\n    </tr>\n    <tr>\n      <th>Israel</th>\n      <td>490892</td>\n      <td>8.477533e+06</td>\n      <td>91346.6</td>\n      <td>3375.86</td>\n      <td>4938.70</td>\n      <td>82.66</td>\n    </tr>\n    <tr>\n      <th>Canada</th>\n      <td>2126411</td>\n      <td>3.607384e+07</td>\n      <td>377048.8</td>\n      <td>20252.77</td>\n      <td>37206.12</td>\n      <td>901.84</td>\n    </tr>\n    <tr>\n      <th>Australia</th>\n      <td>1571709</td>\n      <td>2.400823e+07</td>\n      <td>324962.5</td>\n      <td>17903.57</td>\n      <td>46270.84</td>\n      <td>972.27</td>\n    </tr>\n  </tbody>\n</table>\n</div>"
     },
     "execution_count": 24,
     "metadata": {},
     "output_type": "execute_result"
    }
   ],
   "source": [
    "final = final.round(2)\n",
    "final"
   ],
   "metadata": {
    "collapsed": false
   }
  },
  {
   "cell_type": "code",
   "execution_count": 25,
   "outputs": [
    {
     "data": {
      "text/plain": "                     tot        gdp    dt_frac   sdg_frac  inter_frac  \\\nEU              13486423  3395193.7  149626.57  255032.30     6973.57   \nChina            6297302  3176037.4  188528.69  145199.57     6755.20   \nUnited States   14435821  4518929.3  114589.96  193487.92     4689.83   \nAustria           405283    92140.6    3236.05    5372.64      138.26   \nBelgium         590783.0     118204    4779.75    8371.51      181.90   \nBulgaria           97530    14512.3     549.48    1009.17       24.55   \nCroatia          94711.0    12658.3    1225.32    2621.67       78.03   \nHungary         221415.0    31845.5    1670.52    2767.54       85.48   \nCyprus             30929     5570.4     541.69     851.74       41.85   \nCzech Republic    343569    53083.1    2647.52    4618.64      107.79   \nDenmark           481528    77598.3    3078.09    7977.96      143.02   \nEstonia            46169     6751.5     438.77    1238.38       31.91   \nFinland           404535      57830    3615.41    7719.22      200.27   \nFrance           2136752   604440.4   15853.70   23290.96      551.41   \nGermany          2821820     862030   24569.80   36083.60      941.99   \nGreece            322888    39760.8    5160.64    7298.05      311.48   \nIreland           297273   101222.2    2429.29    4481.21      122.95   \nItaly            1877833   412230.4   24648.31   37292.17     1219.92   \nLatvia             30904     7103.2     217.62     582.12       10.76   \nLithuania          58961    12064.6     788.15    1752.29       40.24   \nLuxembourg         22711    16685.8     339.38     457.43       23.21   \nMalta               8394     3510.5      96.15     256.12        2.94   \nNetherlands      1106335     201099    8149.34   17333.78      330.86   \nPoland            734001   130755.9    7936.65   13146.98      349.01   \nPortugal          327991    49247.8    4985.22   11419.52      295.29   \nRomania           253363      46739    3257.44    5698.93      211.37   \nSlovakia          114908    22081.1    1092.61    1733.55       41.53   \nSlovenia           93129    11605.6    1550.89    1862.61       60.47   \nSpain            1354702     279044   21779.10   35876.37     1183.57   \nSweden            824499   125461.7    4989.67   13918.16      243.50   \nIceland            25244     4697.1     137.48     607.47        5.51   \nNorway            366460    91290.3    2617.17    9549.82      185.50   \nSwitzerland       784015   159402.5    6293.91    9866.14      260.59   \nUnited Kingdom   3878133   609979.5   30787.37   61205.92     1455.70   \nJapan            3052441  1054733.6   20909.26   19448.50      560.62   \nSouth Korea      1198977   359938.2   32763.44   19411.13     1234.56   \nIsrael            490892    91346.6    3375.86    4938.70       82.66   \nCanada           2126411   377048.8   20252.77   37206.12      901.84   \nAustralia        1571709   324962.5   17903.57   46270.84      972.27   \n\n                  dt_gdp   sdg_gdp inter_gdp  \nEU               0.04407  0.075116  0.002054  \nChina            0.05936  0.045717  0.002127  \nUnited States   0.025358  0.042817  0.001038  \nAustria         0.035121  0.058309  0.001501  \nBelgium         0.040436  0.070823  0.001539  \nBulgaria        0.037863  0.069539  0.001692  \nCroatia           0.0968  0.207111  0.006164  \nHungary         0.052457  0.086905  0.002684  \nCyprus          0.097244  0.152905  0.007513  \nCzech Republic  0.049875  0.087008  0.002031  \nDenmark         0.039667  0.102811  0.001843  \nEstonia         0.064989  0.183423  0.004726  \nFinland         0.062518  0.133481  0.003463  \nFrance          0.026229  0.038533  0.000912  \nGermany         0.028502  0.041859  0.001093  \nGreece          0.129792  0.183549  0.007834  \nIreland            0.024  0.044271  0.001215  \nItaly           0.059793  0.090464  0.002959  \nLatvia          0.030637  0.081952  0.001515  \nLithuania       0.065327  0.145242  0.003335  \nLuxembourg      0.020339  0.027414  0.001391  \nMalta           0.027389  0.072958  0.000837  \nNetherlands     0.040524  0.086195  0.001645  \nPoland          0.060698  0.100546  0.002669  \nPortugal        0.101227  0.231879  0.005996  \nRomania         0.069694  0.121931  0.004522  \nSlovakia        0.049482  0.078508  0.001881  \nSlovenia        0.133633  0.160492   0.00521  \nSpain           0.078049  0.128569  0.004242  \nSweden           0.03977  0.110936  0.001941  \nIceland         0.029269  0.129329  0.001173  \nNorway          0.028669  0.104609  0.002032  \nSwitzerland     0.039484  0.061895  0.001635  \nUnited Kingdom  0.050473  0.100341  0.002386  \nJapan           0.019824  0.018439  0.000532  \nSouth Korea     0.091025  0.053929   0.00343  \nIsrael          0.036957  0.054066  0.000905  \nCanada          0.053714  0.098677  0.002392  \nAustralia       0.055094  0.142388  0.002992  ",
      "text/html": "<div>\n<style scoped>\n    .dataframe tbody tr th:only-of-type {\n        vertical-align: middle;\n    }\n\n    .dataframe tbody tr th {\n        vertical-align: top;\n    }\n\n    .dataframe thead th {\n        text-align: right;\n    }\n</style>\n<table border=\"1\" class=\"dataframe\">\n  <thead>\n    <tr style=\"text-align: right;\">\n      <th></th>\n      <th>tot</th>\n      <th>gdp</th>\n      <th>dt_frac</th>\n      <th>sdg_frac</th>\n      <th>inter_frac</th>\n      <th>dt_gdp</th>\n      <th>sdg_gdp</th>\n      <th>inter_gdp</th>\n    </tr>\n  </thead>\n  <tbody>\n    <tr>\n      <th>EU</th>\n      <td>13486423</td>\n      <td>3395193.7</td>\n      <td>149626.57</td>\n      <td>255032.30</td>\n      <td>6973.57</td>\n      <td>0.04407</td>\n      <td>0.075116</td>\n      <td>0.002054</td>\n    </tr>\n    <tr>\n      <th>China</th>\n      <td>6297302</td>\n      <td>3176037.4</td>\n      <td>188528.69</td>\n      <td>145199.57</td>\n      <td>6755.20</td>\n      <td>0.05936</td>\n      <td>0.045717</td>\n      <td>0.002127</td>\n    </tr>\n    <tr>\n      <th>United States</th>\n      <td>14435821</td>\n      <td>4518929.3</td>\n      <td>114589.96</td>\n      <td>193487.92</td>\n      <td>4689.83</td>\n      <td>0.025358</td>\n      <td>0.042817</td>\n      <td>0.001038</td>\n    </tr>\n    <tr>\n      <th>Austria</th>\n      <td>405283</td>\n      <td>92140.6</td>\n      <td>3236.05</td>\n      <td>5372.64</td>\n      <td>138.26</td>\n      <td>0.035121</td>\n      <td>0.058309</td>\n      <td>0.001501</td>\n    </tr>\n    <tr>\n      <th>Belgium</th>\n      <td>590783.0</td>\n      <td>118204</td>\n      <td>4779.75</td>\n      <td>8371.51</td>\n      <td>181.90</td>\n      <td>0.040436</td>\n      <td>0.070823</td>\n      <td>0.001539</td>\n    </tr>\n    <tr>\n      <th>Bulgaria</th>\n      <td>97530</td>\n      <td>14512.3</td>\n      <td>549.48</td>\n      <td>1009.17</td>\n      <td>24.55</td>\n      <td>0.037863</td>\n      <td>0.069539</td>\n      <td>0.001692</td>\n    </tr>\n    <tr>\n      <th>Croatia</th>\n      <td>94711.0</td>\n      <td>12658.3</td>\n      <td>1225.32</td>\n      <td>2621.67</td>\n      <td>78.03</td>\n      <td>0.0968</td>\n      <td>0.207111</td>\n      <td>0.006164</td>\n    </tr>\n    <tr>\n      <th>Hungary</th>\n      <td>221415.0</td>\n      <td>31845.5</td>\n      <td>1670.52</td>\n      <td>2767.54</td>\n      <td>85.48</td>\n      <td>0.052457</td>\n      <td>0.086905</td>\n      <td>0.002684</td>\n    </tr>\n    <tr>\n      <th>Cyprus</th>\n      <td>30929</td>\n      <td>5570.4</td>\n      <td>541.69</td>\n      <td>851.74</td>\n      <td>41.85</td>\n      <td>0.097244</td>\n      <td>0.152905</td>\n      <td>0.007513</td>\n    </tr>\n    <tr>\n      <th>Czech Republic</th>\n      <td>343569</td>\n      <td>53083.1</td>\n      <td>2647.52</td>\n      <td>4618.64</td>\n      <td>107.79</td>\n      <td>0.049875</td>\n      <td>0.087008</td>\n      <td>0.002031</td>\n    </tr>\n    <tr>\n      <th>Denmark</th>\n      <td>481528</td>\n      <td>77598.3</td>\n      <td>3078.09</td>\n      <td>7977.96</td>\n      <td>143.02</td>\n      <td>0.039667</td>\n      <td>0.102811</td>\n      <td>0.001843</td>\n    </tr>\n    <tr>\n      <th>Estonia</th>\n      <td>46169</td>\n      <td>6751.5</td>\n      <td>438.77</td>\n      <td>1238.38</td>\n      <td>31.91</td>\n      <td>0.064989</td>\n      <td>0.183423</td>\n      <td>0.004726</td>\n    </tr>\n    <tr>\n      <th>Finland</th>\n      <td>404535</td>\n      <td>57830</td>\n      <td>3615.41</td>\n      <td>7719.22</td>\n      <td>200.27</td>\n      <td>0.062518</td>\n      <td>0.133481</td>\n      <td>0.003463</td>\n    </tr>\n    <tr>\n      <th>France</th>\n      <td>2136752</td>\n      <td>604440.4</td>\n      <td>15853.70</td>\n      <td>23290.96</td>\n      <td>551.41</td>\n      <td>0.026229</td>\n      <td>0.038533</td>\n      <td>0.000912</td>\n    </tr>\n    <tr>\n      <th>Germany</th>\n      <td>2821820</td>\n      <td>862030</td>\n      <td>24569.80</td>\n      <td>36083.60</td>\n      <td>941.99</td>\n      <td>0.028502</td>\n      <td>0.041859</td>\n      <td>0.001093</td>\n    </tr>\n    <tr>\n      <th>Greece</th>\n      <td>322888</td>\n      <td>39760.8</td>\n      <td>5160.64</td>\n      <td>7298.05</td>\n      <td>311.48</td>\n      <td>0.129792</td>\n      <td>0.183549</td>\n      <td>0.007834</td>\n    </tr>\n    <tr>\n      <th>Ireland</th>\n      <td>297273</td>\n      <td>101222.2</td>\n      <td>2429.29</td>\n      <td>4481.21</td>\n      <td>122.95</td>\n      <td>0.024</td>\n      <td>0.044271</td>\n      <td>0.001215</td>\n    </tr>\n    <tr>\n      <th>Italy</th>\n      <td>1877833</td>\n      <td>412230.4</td>\n      <td>24648.31</td>\n      <td>37292.17</td>\n      <td>1219.92</td>\n      <td>0.059793</td>\n      <td>0.090464</td>\n      <td>0.002959</td>\n    </tr>\n    <tr>\n      <th>Latvia</th>\n      <td>30904</td>\n      <td>7103.2</td>\n      <td>217.62</td>\n      <td>582.12</td>\n      <td>10.76</td>\n      <td>0.030637</td>\n      <td>0.081952</td>\n      <td>0.001515</td>\n    </tr>\n    <tr>\n      <th>Lithuania</th>\n      <td>58961</td>\n      <td>12064.6</td>\n      <td>788.15</td>\n      <td>1752.29</td>\n      <td>40.24</td>\n      <td>0.065327</td>\n      <td>0.145242</td>\n      <td>0.003335</td>\n    </tr>\n    <tr>\n      <th>Luxembourg</th>\n      <td>22711</td>\n      <td>16685.8</td>\n      <td>339.38</td>\n      <td>457.43</td>\n      <td>23.21</td>\n      <td>0.020339</td>\n      <td>0.027414</td>\n      <td>0.001391</td>\n    </tr>\n    <tr>\n      <th>Malta</th>\n      <td>8394</td>\n      <td>3510.5</td>\n      <td>96.15</td>\n      <td>256.12</td>\n      <td>2.94</td>\n      <td>0.027389</td>\n      <td>0.072958</td>\n      <td>0.000837</td>\n    </tr>\n    <tr>\n      <th>Netherlands</th>\n      <td>1106335</td>\n      <td>201099</td>\n      <td>8149.34</td>\n      <td>17333.78</td>\n      <td>330.86</td>\n      <td>0.040524</td>\n      <td>0.086195</td>\n      <td>0.001645</td>\n    </tr>\n    <tr>\n      <th>Poland</th>\n      <td>734001</td>\n      <td>130755.9</td>\n      <td>7936.65</td>\n      <td>13146.98</td>\n      <td>349.01</td>\n      <td>0.060698</td>\n      <td>0.100546</td>\n      <td>0.002669</td>\n    </tr>\n    <tr>\n      <th>Portugal</th>\n      <td>327991</td>\n      <td>49247.8</td>\n      <td>4985.22</td>\n      <td>11419.52</td>\n      <td>295.29</td>\n      <td>0.101227</td>\n      <td>0.231879</td>\n      <td>0.005996</td>\n    </tr>\n    <tr>\n      <th>Romania</th>\n      <td>253363</td>\n      <td>46739</td>\n      <td>3257.44</td>\n      <td>5698.93</td>\n      <td>211.37</td>\n      <td>0.069694</td>\n      <td>0.121931</td>\n      <td>0.004522</td>\n    </tr>\n    <tr>\n      <th>Slovakia</th>\n      <td>114908</td>\n      <td>22081.1</td>\n      <td>1092.61</td>\n      <td>1733.55</td>\n      <td>41.53</td>\n      <td>0.049482</td>\n      <td>0.078508</td>\n      <td>0.001881</td>\n    </tr>\n    <tr>\n      <th>Slovenia</th>\n      <td>93129</td>\n      <td>11605.6</td>\n      <td>1550.89</td>\n      <td>1862.61</td>\n      <td>60.47</td>\n      <td>0.133633</td>\n      <td>0.160492</td>\n      <td>0.00521</td>\n    </tr>\n    <tr>\n      <th>Spain</th>\n      <td>1354702</td>\n      <td>279044</td>\n      <td>21779.10</td>\n      <td>35876.37</td>\n      <td>1183.57</td>\n      <td>0.078049</td>\n      <td>0.128569</td>\n      <td>0.004242</td>\n    </tr>\n    <tr>\n      <th>Sweden</th>\n      <td>824499</td>\n      <td>125461.7</td>\n      <td>4989.67</td>\n      <td>13918.16</td>\n      <td>243.50</td>\n      <td>0.03977</td>\n      <td>0.110936</td>\n      <td>0.001941</td>\n    </tr>\n    <tr>\n      <th>Iceland</th>\n      <td>25244</td>\n      <td>4697.1</td>\n      <td>137.48</td>\n      <td>607.47</td>\n      <td>5.51</td>\n      <td>0.029269</td>\n      <td>0.129329</td>\n      <td>0.001173</td>\n    </tr>\n    <tr>\n      <th>Norway</th>\n      <td>366460</td>\n      <td>91290.3</td>\n      <td>2617.17</td>\n      <td>9549.82</td>\n      <td>185.50</td>\n      <td>0.028669</td>\n      <td>0.104609</td>\n      <td>0.002032</td>\n    </tr>\n    <tr>\n      <th>Switzerland</th>\n      <td>784015</td>\n      <td>159402.5</td>\n      <td>6293.91</td>\n      <td>9866.14</td>\n      <td>260.59</td>\n      <td>0.039484</td>\n      <td>0.061895</td>\n      <td>0.001635</td>\n    </tr>\n    <tr>\n      <th>United Kingdom</th>\n      <td>3878133</td>\n      <td>609979.5</td>\n      <td>30787.37</td>\n      <td>61205.92</td>\n      <td>1455.70</td>\n      <td>0.050473</td>\n      <td>0.100341</td>\n      <td>0.002386</td>\n    </tr>\n    <tr>\n      <th>Japan</th>\n      <td>3052441</td>\n      <td>1054733.6</td>\n      <td>20909.26</td>\n      <td>19448.50</td>\n      <td>560.62</td>\n      <td>0.019824</td>\n      <td>0.018439</td>\n      <td>0.000532</td>\n    </tr>\n    <tr>\n      <th>South Korea</th>\n      <td>1198977</td>\n      <td>359938.2</td>\n      <td>32763.44</td>\n      <td>19411.13</td>\n      <td>1234.56</td>\n      <td>0.091025</td>\n      <td>0.053929</td>\n      <td>0.00343</td>\n    </tr>\n    <tr>\n      <th>Israel</th>\n      <td>490892</td>\n      <td>91346.6</td>\n      <td>3375.86</td>\n      <td>4938.70</td>\n      <td>82.66</td>\n      <td>0.036957</td>\n      <td>0.054066</td>\n      <td>0.000905</td>\n    </tr>\n    <tr>\n      <th>Canada</th>\n      <td>2126411</td>\n      <td>377048.8</td>\n      <td>20252.77</td>\n      <td>37206.12</td>\n      <td>901.84</td>\n      <td>0.053714</td>\n      <td>0.098677</td>\n      <td>0.002392</td>\n    </tr>\n    <tr>\n      <th>Australia</th>\n      <td>1571709</td>\n      <td>324962.5</td>\n      <td>17903.57</td>\n      <td>46270.84</td>\n      <td>972.27</td>\n      <td>0.055094</td>\n      <td>0.142388</td>\n      <td>0.002992</td>\n    </tr>\n  </tbody>\n</table>\n</div>"
     },
     "execution_count": 25,
     "metadata": {},
     "output_type": "execute_result"
    }
   ],
   "source": [
    "final_gdp = final.loc[:, ['tot', 'gdp', 'dt_frac', 'sdg_frac', 'inter_frac']]\n",
    "final_gdp.loc[:, 'dt_gdp'] = final_gdp.loc[:, 'dt_frac'] / final_gdp.loc[:, 'gdp']\n",
    "final_gdp.loc[:, 'sdg_gdp'] = final_gdp.loc[:, 'sdg_frac'] / final_gdp.loc[:, 'gdp']\n",
    "final_gdp.loc[:, 'inter_gdp'] = final_gdp.loc[:, 'inter_frac'] / final_gdp.loc[:, 'gdp']\n",
    "final_gdp = final_gdp.round(2)\n",
    "final_gdp"
   ],
   "metadata": {
    "collapsed": false
   }
  },
  {
   "cell_type": "code",
   "execution_count": 26,
   "outputs": [
    {
     "data": {
      "text/plain": "                     tot       avg_pop    dt_frac   sdg_frac  inter_frac  \\\nEU              13486423  4.445399e+08  149626.57  255032.30     6973.57   \nChina            6297302  1.380822e+09  188528.69  145199.57     6755.20   \nUnited States   14435821  3.213942e+08  114589.96  193487.92     4689.83   \nAustria           405283  8.665144e+06    3236.05    5372.64      138.26   \nBelgium         590783.0  1.128651e+07    4779.75    8371.51      181.90   \nBulgaria           97530  7.146214e+06     549.48    1009.17       24.55   \nCroatia          94711.0  4.161662e+06    1225.32    2621.67       78.03   \nHungary         221415.0  9.841952e+06    1670.52    2767.54       85.48   \nCyprus             30929  1.165859e+06     541.69     851.74       41.85   \nCzech Republic    343569  1.057757e+07    2647.52    4618.64      107.79   \nDenmark           481528  5.703408e+06    3078.09    7977.96      143.02   \nEstonia            46169  1.322525e+06     438.77    1238.38       31.91   \nFinland           404535  5.471458e+06    3615.41    7719.22      200.27   \nFrance           2136752  6.648011e+07   15853.70   23290.96      551.41   \nGermany          2821820  8.192392e+07   24569.80   36083.60      941.99   \nGreece            322888  1.085833e+07    5160.64    7298.05      311.48   \nIreland           297273  4.758464e+06    2429.29    4481.21      122.95   \nItaly            1877833  5.998175e+07   24648.31   37292.17     1219.92   \nLatvia             30904  1.975161e+06     217.62     582.12       10.76   \nLithuania          58961  2.899221e+06     788.15    1752.29       40.24   \nLuxembourg         22711  5.751099e+05     339.38     457.43       23.21   \nMalta               8394  4.583858e+05      96.15     256.12        2.94   \nNetherlands      1106335  1.703215e+07    8149.34   17333.78      330.86   \nPoland            734001  3.798107e+07    7936.65   13146.98      349.01   \nPortugal          327991  1.038786e+07    4985.22   11419.52      295.29   \nRomania           253363  1.972250e+07    3257.44    5698.93      211.37   \nSlovakia          114908  5.427521e+06    1092.61    1733.55       41.53   \nSlovenia           93129  2.070599e+06    1550.89    1862.61       60.47   \nSpain            1354702  4.677820e+07   21779.10   35876.37     1183.57   \nSweden            824499  9.887210e+06    4989.67   13918.16      243.50   \nIceland            25244  3.392181e+05     137.48     607.47        5.51   \nNorway            366460  5.185456e+06    2617.17    9549.82      185.50   \nSwitzerland       784015  8.295302e+06    6293.91    9866.14      260.59   \nUnited Kingdom   3878133  6.524557e+07   30787.37   61205.92     1455.70   \nJapan            3052441  1.270690e+08   20909.26   19448.50      560.62   \nSouth Korea      1198977  5.094932e+07   32763.44   19411.13     1234.56   \nIsrael            490892  8.477533e+06    3375.86    4938.70       82.66   \nCanada           2126411  3.607384e+07   20252.77   37206.12      901.84   \nAustralia        1571709  2.400823e+07   17903.57   46270.84      972.27   \n\n                dt_pop  sdg_pop  inter_pop  \nEU                0.00     0.01        0.0  \nChina             0.00     0.00        0.0  \nUnited States     0.00     0.01        0.0  \nAustria           0.00     0.01        0.0  \nBelgium           0.00     0.01        0.0  \nBulgaria          0.00     0.00        0.0  \nCroatia           0.00     0.01        0.0  \nHungary           0.00     0.00        0.0  \nCyprus            0.00     0.01        0.0  \nCzech Republic    0.00     0.00        0.0  \nDenmark           0.01     0.01        0.0  \nEstonia           0.00     0.01        0.0  \nFinland           0.01     0.01        0.0  \nFrance            0.00     0.00        0.0  \nGermany           0.00     0.00        0.0  \nGreece            0.00     0.01        0.0  \nIreland           0.01     0.01        0.0  \nItaly             0.00     0.01        0.0  \nLatvia            0.00     0.00        0.0  \nLithuania         0.00     0.01        0.0  \nLuxembourg        0.01     0.01        0.0  \nMalta             0.00     0.01        0.0  \nNetherlands       0.00     0.01        0.0  \nPoland            0.00     0.00        0.0  \nPortugal          0.00     0.01        0.0  \nRomania           0.00     0.00        0.0  \nSlovakia          0.00     0.00        0.0  \nSlovenia          0.01     0.01        0.0  \nSpain             0.00     0.01        0.0  \nSweden            0.01     0.01        0.0  \nIceland           0.00     0.02        0.0  \nNorway            0.01     0.02        0.0  \nSwitzerland       0.01     0.01        0.0  \nUnited Kingdom    0.00     0.01        0.0  \nJapan             0.00     0.00        0.0  \nSouth Korea       0.01     0.00        0.0  \nIsrael            0.00     0.01        0.0  \nCanada            0.01     0.01        0.0  \nAustralia         0.01     0.02        0.0  ",
      "text/html": "<div>\n<style scoped>\n    .dataframe tbody tr th:only-of-type {\n        vertical-align: middle;\n    }\n\n    .dataframe tbody tr th {\n        vertical-align: top;\n    }\n\n    .dataframe thead th {\n        text-align: right;\n    }\n</style>\n<table border=\"1\" class=\"dataframe\">\n  <thead>\n    <tr style=\"text-align: right;\">\n      <th></th>\n      <th>tot</th>\n      <th>avg_pop</th>\n      <th>dt_frac</th>\n      <th>sdg_frac</th>\n      <th>inter_frac</th>\n      <th>dt_pop</th>\n      <th>sdg_pop</th>\n      <th>inter_pop</th>\n    </tr>\n  </thead>\n  <tbody>\n    <tr>\n      <th>EU</th>\n      <td>13486423</td>\n      <td>4.445399e+08</td>\n      <td>149626.57</td>\n      <td>255032.30</td>\n      <td>6973.57</td>\n      <td>0.00</td>\n      <td>0.01</td>\n      <td>0.0</td>\n    </tr>\n    <tr>\n      <th>China</th>\n      <td>6297302</td>\n      <td>1.380822e+09</td>\n      <td>188528.69</td>\n      <td>145199.57</td>\n      <td>6755.20</td>\n      <td>0.00</td>\n      <td>0.00</td>\n      <td>0.0</td>\n    </tr>\n    <tr>\n      <th>United States</th>\n      <td>14435821</td>\n      <td>3.213942e+08</td>\n      <td>114589.96</td>\n      <td>193487.92</td>\n      <td>4689.83</td>\n      <td>0.00</td>\n      <td>0.01</td>\n      <td>0.0</td>\n    </tr>\n    <tr>\n      <th>Austria</th>\n      <td>405283</td>\n      <td>8.665144e+06</td>\n      <td>3236.05</td>\n      <td>5372.64</td>\n      <td>138.26</td>\n      <td>0.00</td>\n      <td>0.01</td>\n      <td>0.0</td>\n    </tr>\n    <tr>\n      <th>Belgium</th>\n      <td>590783.0</td>\n      <td>1.128651e+07</td>\n      <td>4779.75</td>\n      <td>8371.51</td>\n      <td>181.90</td>\n      <td>0.00</td>\n      <td>0.01</td>\n      <td>0.0</td>\n    </tr>\n    <tr>\n      <th>Bulgaria</th>\n      <td>97530</td>\n      <td>7.146214e+06</td>\n      <td>549.48</td>\n      <td>1009.17</td>\n      <td>24.55</td>\n      <td>0.00</td>\n      <td>0.00</td>\n      <td>0.0</td>\n    </tr>\n    <tr>\n      <th>Croatia</th>\n      <td>94711.0</td>\n      <td>4.161662e+06</td>\n      <td>1225.32</td>\n      <td>2621.67</td>\n      <td>78.03</td>\n      <td>0.00</td>\n      <td>0.01</td>\n      <td>0.0</td>\n    </tr>\n    <tr>\n      <th>Hungary</th>\n      <td>221415.0</td>\n      <td>9.841952e+06</td>\n      <td>1670.52</td>\n      <td>2767.54</td>\n      <td>85.48</td>\n      <td>0.00</td>\n      <td>0.00</td>\n      <td>0.0</td>\n    </tr>\n    <tr>\n      <th>Cyprus</th>\n      <td>30929</td>\n      <td>1.165859e+06</td>\n      <td>541.69</td>\n      <td>851.74</td>\n      <td>41.85</td>\n      <td>0.00</td>\n      <td>0.01</td>\n      <td>0.0</td>\n    </tr>\n    <tr>\n      <th>Czech Republic</th>\n      <td>343569</td>\n      <td>1.057757e+07</td>\n      <td>2647.52</td>\n      <td>4618.64</td>\n      <td>107.79</td>\n      <td>0.00</td>\n      <td>0.00</td>\n      <td>0.0</td>\n    </tr>\n    <tr>\n      <th>Denmark</th>\n      <td>481528</td>\n      <td>5.703408e+06</td>\n      <td>3078.09</td>\n      <td>7977.96</td>\n      <td>143.02</td>\n      <td>0.01</td>\n      <td>0.01</td>\n      <td>0.0</td>\n    </tr>\n    <tr>\n      <th>Estonia</th>\n      <td>46169</td>\n      <td>1.322525e+06</td>\n      <td>438.77</td>\n      <td>1238.38</td>\n      <td>31.91</td>\n      <td>0.00</td>\n      <td>0.01</td>\n      <td>0.0</td>\n    </tr>\n    <tr>\n      <th>Finland</th>\n      <td>404535</td>\n      <td>5.471458e+06</td>\n      <td>3615.41</td>\n      <td>7719.22</td>\n      <td>200.27</td>\n      <td>0.01</td>\n      <td>0.01</td>\n      <td>0.0</td>\n    </tr>\n    <tr>\n      <th>France</th>\n      <td>2136752</td>\n      <td>6.648011e+07</td>\n      <td>15853.70</td>\n      <td>23290.96</td>\n      <td>551.41</td>\n      <td>0.00</td>\n      <td>0.00</td>\n      <td>0.0</td>\n    </tr>\n    <tr>\n      <th>Germany</th>\n      <td>2821820</td>\n      <td>8.192392e+07</td>\n      <td>24569.80</td>\n      <td>36083.60</td>\n      <td>941.99</td>\n      <td>0.00</td>\n      <td>0.00</td>\n      <td>0.0</td>\n    </tr>\n    <tr>\n      <th>Greece</th>\n      <td>322888</td>\n      <td>1.085833e+07</td>\n      <td>5160.64</td>\n      <td>7298.05</td>\n      <td>311.48</td>\n      <td>0.00</td>\n      <td>0.01</td>\n      <td>0.0</td>\n    </tr>\n    <tr>\n      <th>Ireland</th>\n      <td>297273</td>\n      <td>4.758464e+06</td>\n      <td>2429.29</td>\n      <td>4481.21</td>\n      <td>122.95</td>\n      <td>0.01</td>\n      <td>0.01</td>\n      <td>0.0</td>\n    </tr>\n    <tr>\n      <th>Italy</th>\n      <td>1877833</td>\n      <td>5.998175e+07</td>\n      <td>24648.31</td>\n      <td>37292.17</td>\n      <td>1219.92</td>\n      <td>0.00</td>\n      <td>0.01</td>\n      <td>0.0</td>\n    </tr>\n    <tr>\n      <th>Latvia</th>\n      <td>30904</td>\n      <td>1.975161e+06</td>\n      <td>217.62</td>\n      <td>582.12</td>\n      <td>10.76</td>\n      <td>0.00</td>\n      <td>0.00</td>\n      <td>0.0</td>\n    </tr>\n    <tr>\n      <th>Lithuania</th>\n      <td>58961</td>\n      <td>2.899221e+06</td>\n      <td>788.15</td>\n      <td>1752.29</td>\n      <td>40.24</td>\n      <td>0.00</td>\n      <td>0.01</td>\n      <td>0.0</td>\n    </tr>\n    <tr>\n      <th>Luxembourg</th>\n      <td>22711</td>\n      <td>5.751099e+05</td>\n      <td>339.38</td>\n      <td>457.43</td>\n      <td>23.21</td>\n      <td>0.01</td>\n      <td>0.01</td>\n      <td>0.0</td>\n    </tr>\n    <tr>\n      <th>Malta</th>\n      <td>8394</td>\n      <td>4.583858e+05</td>\n      <td>96.15</td>\n      <td>256.12</td>\n      <td>2.94</td>\n      <td>0.00</td>\n      <td>0.01</td>\n      <td>0.0</td>\n    </tr>\n    <tr>\n      <th>Netherlands</th>\n      <td>1106335</td>\n      <td>1.703215e+07</td>\n      <td>8149.34</td>\n      <td>17333.78</td>\n      <td>330.86</td>\n      <td>0.00</td>\n      <td>0.01</td>\n      <td>0.0</td>\n    </tr>\n    <tr>\n      <th>Poland</th>\n      <td>734001</td>\n      <td>3.798107e+07</td>\n      <td>7936.65</td>\n      <td>13146.98</td>\n      <td>349.01</td>\n      <td>0.00</td>\n      <td>0.00</td>\n      <td>0.0</td>\n    </tr>\n    <tr>\n      <th>Portugal</th>\n      <td>327991</td>\n      <td>1.038786e+07</td>\n      <td>4985.22</td>\n      <td>11419.52</td>\n      <td>295.29</td>\n      <td>0.00</td>\n      <td>0.01</td>\n      <td>0.0</td>\n    </tr>\n    <tr>\n      <th>Romania</th>\n      <td>253363</td>\n      <td>1.972250e+07</td>\n      <td>3257.44</td>\n      <td>5698.93</td>\n      <td>211.37</td>\n      <td>0.00</td>\n      <td>0.00</td>\n      <td>0.0</td>\n    </tr>\n    <tr>\n      <th>Slovakia</th>\n      <td>114908</td>\n      <td>5.427521e+06</td>\n      <td>1092.61</td>\n      <td>1733.55</td>\n      <td>41.53</td>\n      <td>0.00</td>\n      <td>0.00</td>\n      <td>0.0</td>\n    </tr>\n    <tr>\n      <th>Slovenia</th>\n      <td>93129</td>\n      <td>2.070599e+06</td>\n      <td>1550.89</td>\n      <td>1862.61</td>\n      <td>60.47</td>\n      <td>0.01</td>\n      <td>0.01</td>\n      <td>0.0</td>\n    </tr>\n    <tr>\n      <th>Spain</th>\n      <td>1354702</td>\n      <td>4.677820e+07</td>\n      <td>21779.10</td>\n      <td>35876.37</td>\n      <td>1183.57</td>\n      <td>0.00</td>\n      <td>0.01</td>\n      <td>0.0</td>\n    </tr>\n    <tr>\n      <th>Sweden</th>\n      <td>824499</td>\n      <td>9.887210e+06</td>\n      <td>4989.67</td>\n      <td>13918.16</td>\n      <td>243.50</td>\n      <td>0.01</td>\n      <td>0.01</td>\n      <td>0.0</td>\n    </tr>\n    <tr>\n      <th>Iceland</th>\n      <td>25244</td>\n      <td>3.392181e+05</td>\n      <td>137.48</td>\n      <td>607.47</td>\n      <td>5.51</td>\n      <td>0.00</td>\n      <td>0.02</td>\n      <td>0.0</td>\n    </tr>\n    <tr>\n      <th>Norway</th>\n      <td>366460</td>\n      <td>5.185456e+06</td>\n      <td>2617.17</td>\n      <td>9549.82</td>\n      <td>185.50</td>\n      <td>0.01</td>\n      <td>0.02</td>\n      <td>0.0</td>\n    </tr>\n    <tr>\n      <th>Switzerland</th>\n      <td>784015</td>\n      <td>8.295302e+06</td>\n      <td>6293.91</td>\n      <td>9866.14</td>\n      <td>260.59</td>\n      <td>0.01</td>\n      <td>0.01</td>\n      <td>0.0</td>\n    </tr>\n    <tr>\n      <th>United Kingdom</th>\n      <td>3878133</td>\n      <td>6.524557e+07</td>\n      <td>30787.37</td>\n      <td>61205.92</td>\n      <td>1455.70</td>\n      <td>0.00</td>\n      <td>0.01</td>\n      <td>0.0</td>\n    </tr>\n    <tr>\n      <th>Japan</th>\n      <td>3052441</td>\n      <td>1.270690e+08</td>\n      <td>20909.26</td>\n      <td>19448.50</td>\n      <td>560.62</td>\n      <td>0.00</td>\n      <td>0.00</td>\n      <td>0.0</td>\n    </tr>\n    <tr>\n      <th>South Korea</th>\n      <td>1198977</td>\n      <td>5.094932e+07</td>\n      <td>32763.44</td>\n      <td>19411.13</td>\n      <td>1234.56</td>\n      <td>0.01</td>\n      <td>0.00</td>\n      <td>0.0</td>\n    </tr>\n    <tr>\n      <th>Israel</th>\n      <td>490892</td>\n      <td>8.477533e+06</td>\n      <td>3375.86</td>\n      <td>4938.70</td>\n      <td>82.66</td>\n      <td>0.00</td>\n      <td>0.01</td>\n      <td>0.0</td>\n    </tr>\n    <tr>\n      <th>Canada</th>\n      <td>2126411</td>\n      <td>3.607384e+07</td>\n      <td>20252.77</td>\n      <td>37206.12</td>\n      <td>901.84</td>\n      <td>0.01</td>\n      <td>0.01</td>\n      <td>0.0</td>\n    </tr>\n    <tr>\n      <th>Australia</th>\n      <td>1571709</td>\n      <td>2.400823e+07</td>\n      <td>17903.57</td>\n      <td>46270.84</td>\n      <td>972.27</td>\n      <td>0.01</td>\n      <td>0.02</td>\n      <td>0.0</td>\n    </tr>\n  </tbody>\n</table>\n</div>"
     },
     "execution_count": 26,
     "metadata": {},
     "output_type": "execute_result"
    }
   ],
   "source": [
    "final_pop = final.loc[:, ['tot', 'avg_pop', 'dt_frac', 'sdg_frac', 'inter_frac']]\n",
    "final_pop.loc[:, 'dt_pop'] = 10*final_pop.loc[:, 'dt_frac'] / final_pop.loc[:, 'avg_pop']\n",
    "final_pop.loc[:, 'sdg_pop'] = 10*final_pop.loc[:, 'sdg_frac'] / final_pop.loc[:, 'avg_pop']\n",
    "final_pop.loc[:, 'inter_pop'] = 100 * final_pop.loc[:, 'inter_frac'] / final_pop.loc[:, 'avg_pop']\n",
    "final_pop = final_pop.round(2)\n",
    "final_pop"
   ],
   "metadata": {
    "collapsed": false
   }
  },
  {
   "cell_type": "code",
   "execution_count": 27,
   "outputs": [],
   "source": [
    "\n",
    "with pd.ExcelWriter('recap_giacomo.xlsx') as writer:\n",
    "    final.to_excel(writer, sheet_name='raw')\n",
    "    final_gdp.to_excel(writer, sheet_name='gdp')\n",
    "    final_pop.to_excel(writer, sheet_name='pop')"
   ],
   "metadata": {
    "collapsed": false
   }
  },
  {
   "cell_type": "code",
   "execution_count": 90,
   "outputs": [
    {
     "data": {
      "text/plain": "        PT                                                 AU  \\\n0        J             Ondra, V; Sever, IA; Schwingshackl, CW   \n1        J                                    Liu, K; Kang, G   \n2        J               Ali, MS; Balasubramaniam, P; Zhu, QX   \n3        J  Benvidi, A; Abbasi, S; Gharaghani, S; Tezerjan...   \n4        J      Rajagopal, K; Balakrishnan, SN; Busemeyer, JR   \n...     ..                                                ...   \n1253123  J                                  Wei, FF; Feng, JQ   \n1253124  C  Hu, Y; Huang, XM; Baker, AH; Tseng, YH; Bryan,...   \n1253125  J                          Kim, TJ; Sun, X; Yoon, SE   \n1253126  J                       Kavouklis, C; Kallinderis, Y   \n1253127  J                  Zhao, B; Liu, Y; Goh, SH; Lee, FH   \n\n                                                        TI  \\\n0        A method for detection and characterisation of...   \n1        Multiview convolutional neural networks for lu...   \n2        Stability of stochastic fuzzy BAM neural netwo...   \n3        Spectrophotometric determination of synthetic ...   \n4        Neural Network-Based Solutions for Stochastic ...   \n...                                                    ...   \n1253123  Real-time ray casting of algebraic B-spline su...   \n1253124  Improving the Scalability of the Ocean Barotro...   \n1253125  T-ReX: Interactive Global Illumination of Mass...   \n1253126  Parallel adaptation of general three-dimension...   \n1253127  Parallel finite element analysis of seismic so...   \n\n                                                        SO  \\\n0                 MECHANICAL SYSTEMS AND SIGNAL PROCESSING   \n1        INTERNATIONAL JOURNAL OF IMAGING SYSTEMS AND T...   \n2        INTERNATIONAL JOURNAL OF MACHINE LEARNING AND ...   \n3                                           FOOD CHEMISTRY   \n4        IEEE TRANSACTIONS ON NEURAL NETWORKS AND LEARN...   \n...                                                    ...   \n1253123                            COMPUTERS & GRAPHICS-UK   \n1253124  PROCEEDINGS OF SC15: THE INTERNATIONAL CONFERE...   \n1253125  IEEE TRANSACTIONS ON VISUALIZATION AND COMPUTE...   \n1253126                   JOURNAL OF COMPUTATIONAL PHYSICS   \n1253127                          COMPUTERS AND GEOTECHNICS   \n\n                                                        DE  \\\n0        Non-linear system characterisation; Hilbert tr...   \n1        lung nodule classification; multiview convolut...   \n2        Discrete and distributed time-varying delay; G...   \n3        Multicomponent analysis; Artificial neural net...   \n4        Adaptive dynamic programming; neural network-b...   \n...                                                    ...   \n1253123  Piecewise algebraic surface; B-spline; Newton-...   \n1253124  parallel computing; linear solver; ocean modeling   \n1253125  Massive models; ray tracing; photon mapping; g...   \n1253126  Parallel computing; Hybrid meshes; Mesh adapta...   \n1253127  Parallel finite element analysis; Pre-conditio...   \n\n                                                        AB  \\\n0        This paper presents a method for detection and...   \n1        To find a better way to screen early lung canc...   \n2        Among the various fuzzy models, the well-known...   \n3        Four common food colorants, containing tartraz...   \n4        In this paper, an offline approximate dynamic ...   \n...                                                    ...   \n1253123  Piecewise algebraic B-spline surfaces (ABS sur...   \n1253124  High-resolution climate simulations are increa...   \n1253125  We propose several interactive global illumina...   \n1253126  A new parallel dynamic mesh adaptation and loa...   \n1253127  This paper describes an implementation of a hi...   \n\n                                                        C1  \\\n0        [Ondra, V.; Schwingshackl, C. W.] Imperial Col...   \n1        [Liu, Kui; Kang, Guixia] Beijing Univ Posts & ...   \n2        [Ali, M. Syed] Thiruvalluvar Univ, Dept Math, ...   \n3        [Benvidi, Ali; Abbasi, Saleheh; Tezerjani, Mar...   \n4        [Rajagopal, Karthikeyan] Gen Motors Co, Global...   \n...                                                    ...   \n1253123  [Wei, Feifei; Feng, Jieqing] Zhejiang Univ, St...   \n1253124  [Hu, Yong; Huang, Xiaomeng; Yang, Guangwen] Ts...   \n1253125  [Kim, Tae-Joon; Yoon, Sung-Eui] Korea Adv Inst...   \n1253126  [Kavouklis, Christos; Kallinderis, Yannis] Uni...   \n1253127  [Zhao, B.] Keppel Offshore & Marine Technol Ct...   \n\n                                                        EM  TC    PY  ...  \\\n0        v.ondra14@imperial.ac.uk; Ibrahim.Sever@Rolls-...  26  2017  ...   \n1                                       liukui_006@126.com  55  2017  ...   \n2                         syedgru@gmail.com; zqx22@126.com  39  2017  ...   \n3                                      abenvidi@yazd.ac.ir  48  2017  ...   \n4        krg2d@mst.edu; bala@mst.edu; jbusemey@indiana.edu  12  2017  ...   \n...                                                    ...  ..   ...  ...   \n1253123      weifeifeicad@gmail.com; jqfeng@cad.zju.edu.cn   2  2011  ...   \n1253124  huyong11@tsinghua.edu.cn; hxm@tsinghua.edu.cn;...  10  2015  ...   \n1253125  tjkim.kaist@gmail.com; sunxin@microsoft.com; s...   6  2014  ...   \n1253126  christos.kavouklis@gmail.com; kallind@veltisto...   8  2010  ...   \n1253127  ben.zhao@KOMtech.com.sg; ceeliuy@gmail.com; ce...   4  2016  ...   \n\n                          UT  \\\n0        WOS:000385209000012   \n1        WOS:000397734700002   \n2        WOS:000393309600022   \n3        WOS:000388112500048   \n4        WOS:000395980500005   \n...                      ...   \n1253123  WOS:000294034600008   \n1253124  WOS:000382162500043   \n1253125  WOS:000338118700013   \n1253126  WOS:000276124400020   \n1253127  WOS:000387523300015   \n\n                                                        CN     AI big_data  \\\n0           United Kingdom, United Kingdom, United Kingdom   True    False   \n1                                      China, China, China   True    False   \n2                                      India, India, China   True    False   \n3                                                            True    False   \n4        United States, United States, United States, I...   True    False   \n...                                                    ...    ...      ...   \n1253123                                       China, China  False    False   \n1253124  China, China, China, United States, United Sta...  False    False   \n1253125                    South Korea, South Korea, China  False    False   \n1253126                       United States, United States  False    False   \n1253127         Singapore, Singapore, Singapore, Singapore  False    False   \n\n           IOT computing_infrastructure blockchain robotics  \\\n0        False                    False      False    False   \n1        False                    False      False    False   \n2        False                    False      False    False   \n3        False                    False      False    False   \n4        False                    False      False    False   \n...        ...                      ...        ...      ...   \n1253123  False                     True      False    False   \n1253124  False                     True      False    False   \n1253125  False                     True      False    False   \n1253126  False                     True      False    False   \n1253127  False                     True      False    False   \n\n        additive_manufacturing     EU  \n0                        False   True  \n1                        False  False  \n2                        False  False  \n3                        False  False  \n4                        False  False  \n...                        ...    ...  \n1253123                  False  False  \n1253124                  False  False  \n1253125                  False  False  \n1253126                  False  False  \n1253127                  False  False  \n\n[1253128 rows x 21 columns]",
      "text/html": "<div>\n<style scoped>\n    .dataframe tbody tr th:only-of-type {\n        vertical-align: middle;\n    }\n\n    .dataframe tbody tr th {\n        vertical-align: top;\n    }\n\n    .dataframe thead th {\n        text-align: right;\n    }\n</style>\n<table border=\"1\" class=\"dataframe\">\n  <thead>\n    <tr style=\"text-align: right;\">\n      <th></th>\n      <th>PT</th>\n      <th>AU</th>\n      <th>TI</th>\n      <th>SO</th>\n      <th>DE</th>\n      <th>AB</th>\n      <th>C1</th>\n      <th>EM</th>\n      <th>TC</th>\n      <th>PY</th>\n      <th>...</th>\n      <th>UT</th>\n      <th>CN</th>\n      <th>AI</th>\n      <th>big_data</th>\n      <th>IOT</th>\n      <th>computing_infrastructure</th>\n      <th>blockchain</th>\n      <th>robotics</th>\n      <th>additive_manufacturing</th>\n      <th>EU</th>\n    </tr>\n  </thead>\n  <tbody>\n    <tr>\n      <th>0</th>\n      <td>J</td>\n      <td>Ondra, V; Sever, IA; Schwingshackl, CW</td>\n      <td>A method for detection and characterisation of...</td>\n      <td>MECHANICAL SYSTEMS AND SIGNAL PROCESSING</td>\n      <td>Non-linear system characterisation; Hilbert tr...</td>\n      <td>This paper presents a method for detection and...</td>\n      <td>[Ondra, V.; Schwingshackl, C. W.] Imperial Col...</td>\n      <td>v.ondra14@imperial.ac.uk; Ibrahim.Sever@Rolls-...</td>\n      <td>26</td>\n      <td>2017</td>\n      <td>...</td>\n      <td>WOS:000385209000012</td>\n      <td>United Kingdom, United Kingdom, United Kingdom</td>\n      <td>True</td>\n      <td>False</td>\n      <td>False</td>\n      <td>False</td>\n      <td>False</td>\n      <td>False</td>\n      <td>False</td>\n      <td>True</td>\n    </tr>\n    <tr>\n      <th>1</th>\n      <td>J</td>\n      <td>Liu, K; Kang, G</td>\n      <td>Multiview convolutional neural networks for lu...</td>\n      <td>INTERNATIONAL JOURNAL OF IMAGING SYSTEMS AND T...</td>\n      <td>lung nodule classification; multiview convolut...</td>\n      <td>To find a better way to screen early lung canc...</td>\n      <td>[Liu, Kui; Kang, Guixia] Beijing Univ Posts &amp; ...</td>\n      <td>liukui_006@126.com</td>\n      <td>55</td>\n      <td>2017</td>\n      <td>...</td>\n      <td>WOS:000397734700002</td>\n      <td>China, China, China</td>\n      <td>True</td>\n      <td>False</td>\n      <td>False</td>\n      <td>False</td>\n      <td>False</td>\n      <td>False</td>\n      <td>False</td>\n      <td>False</td>\n    </tr>\n    <tr>\n      <th>2</th>\n      <td>J</td>\n      <td>Ali, MS; Balasubramaniam, P; Zhu, QX</td>\n      <td>Stability of stochastic fuzzy BAM neural netwo...</td>\n      <td>INTERNATIONAL JOURNAL OF MACHINE LEARNING AND ...</td>\n      <td>Discrete and distributed time-varying delay; G...</td>\n      <td>Among the various fuzzy models, the well-known...</td>\n      <td>[Ali, M. Syed] Thiruvalluvar Univ, Dept Math, ...</td>\n      <td>syedgru@gmail.com; zqx22@126.com</td>\n      <td>39</td>\n      <td>2017</td>\n      <td>...</td>\n      <td>WOS:000393309600022</td>\n      <td>India, India, China</td>\n      <td>True</td>\n      <td>False</td>\n      <td>False</td>\n      <td>False</td>\n      <td>False</td>\n      <td>False</td>\n      <td>False</td>\n      <td>False</td>\n    </tr>\n    <tr>\n      <th>3</th>\n      <td>J</td>\n      <td>Benvidi, A; Abbasi, S; Gharaghani, S; Tezerjan...</td>\n      <td>Spectrophotometric determination of synthetic ...</td>\n      <td>FOOD CHEMISTRY</td>\n      <td>Multicomponent analysis; Artificial neural net...</td>\n      <td>Four common food colorants, containing tartraz...</td>\n      <td>[Benvidi, Ali; Abbasi, Saleheh; Tezerjani, Mar...</td>\n      <td>abenvidi@yazd.ac.ir</td>\n      <td>48</td>\n      <td>2017</td>\n      <td>...</td>\n      <td>WOS:000388112500048</td>\n      <td></td>\n      <td>True</td>\n      <td>False</td>\n      <td>False</td>\n      <td>False</td>\n      <td>False</td>\n      <td>False</td>\n      <td>False</td>\n      <td>False</td>\n    </tr>\n    <tr>\n      <th>4</th>\n      <td>J</td>\n      <td>Rajagopal, K; Balakrishnan, SN; Busemeyer, JR</td>\n      <td>Neural Network-Based Solutions for Stochastic ...</td>\n      <td>IEEE TRANSACTIONS ON NEURAL NETWORKS AND LEARN...</td>\n      <td>Adaptive dynamic programming; neural network-b...</td>\n      <td>In this paper, an offline approximate dynamic ...</td>\n      <td>[Rajagopal, Karthikeyan] Gen Motors Co, Global...</td>\n      <td>krg2d@mst.edu; bala@mst.edu; jbusemey@indiana.edu</td>\n      <td>12</td>\n      <td>2017</td>\n      <td>...</td>\n      <td>WOS:000395980500005</td>\n      <td>United States, United States, United States, I...</td>\n      <td>True</td>\n      <td>False</td>\n      <td>False</td>\n      <td>False</td>\n      <td>False</td>\n      <td>False</td>\n      <td>False</td>\n      <td>False</td>\n    </tr>\n    <tr>\n      <th>...</th>\n      <td>...</td>\n      <td>...</td>\n      <td>...</td>\n      <td>...</td>\n      <td>...</td>\n      <td>...</td>\n      <td>...</td>\n      <td>...</td>\n      <td>...</td>\n      <td>...</td>\n      <td>...</td>\n      <td>...</td>\n      <td>...</td>\n      <td>...</td>\n      <td>...</td>\n      <td>...</td>\n      <td>...</td>\n      <td>...</td>\n      <td>...</td>\n      <td>...</td>\n      <td>...</td>\n    </tr>\n    <tr>\n      <th>1253123</th>\n      <td>J</td>\n      <td>Wei, FF; Feng, JQ</td>\n      <td>Real-time ray casting of algebraic B-spline su...</td>\n      <td>COMPUTERS &amp; GRAPHICS-UK</td>\n      <td>Piecewise algebraic surface; B-spline; Newton-...</td>\n      <td>Piecewise algebraic B-spline surfaces (ABS sur...</td>\n      <td>[Wei, Feifei; Feng, Jieqing] Zhejiang Univ, St...</td>\n      <td>weifeifeicad@gmail.com; jqfeng@cad.zju.edu.cn</td>\n      <td>2</td>\n      <td>2011</td>\n      <td>...</td>\n      <td>WOS:000294034600008</td>\n      <td>China, China</td>\n      <td>False</td>\n      <td>False</td>\n      <td>False</td>\n      <td>True</td>\n      <td>False</td>\n      <td>False</td>\n      <td>False</td>\n      <td>False</td>\n    </tr>\n    <tr>\n      <th>1253124</th>\n      <td>C</td>\n      <td>Hu, Y; Huang, XM; Baker, AH; Tseng, YH; Bryan,...</td>\n      <td>Improving the Scalability of the Ocean Barotro...</td>\n      <td>PROCEEDINGS OF SC15: THE INTERNATIONAL CONFERE...</td>\n      <td>parallel computing; linear solver; ocean modeling</td>\n      <td>High-resolution climate simulations are increa...</td>\n      <td>[Hu, Yong; Huang, Xiaomeng; Yang, Guangwen] Ts...</td>\n      <td>huyong11@tsinghua.edu.cn; hxm@tsinghua.edu.cn;...</td>\n      <td>10</td>\n      <td>2015</td>\n      <td>...</td>\n      <td>WOS:000382162500043</td>\n      <td>China, China, China, United States, United Sta...</td>\n      <td>False</td>\n      <td>False</td>\n      <td>False</td>\n      <td>True</td>\n      <td>False</td>\n      <td>False</td>\n      <td>False</td>\n      <td>False</td>\n    </tr>\n    <tr>\n      <th>1253125</th>\n      <td>J</td>\n      <td>Kim, TJ; Sun, X; Yoon, SE</td>\n      <td>T-ReX: Interactive Global Illumination of Mass...</td>\n      <td>IEEE TRANSACTIONS ON VISUALIZATION AND COMPUTE...</td>\n      <td>Massive models; ray tracing; photon mapping; g...</td>\n      <td>We propose several interactive global illumina...</td>\n      <td>[Kim, Tae-Joon; Yoon, Sung-Eui] Korea Adv Inst...</td>\n      <td>tjkim.kaist@gmail.com; sunxin@microsoft.com; s...</td>\n      <td>6</td>\n      <td>2014</td>\n      <td>...</td>\n      <td>WOS:000338118700013</td>\n      <td>South Korea, South Korea, China</td>\n      <td>False</td>\n      <td>False</td>\n      <td>False</td>\n      <td>True</td>\n      <td>False</td>\n      <td>False</td>\n      <td>False</td>\n      <td>False</td>\n    </tr>\n    <tr>\n      <th>1253126</th>\n      <td>J</td>\n      <td>Kavouklis, C; Kallinderis, Y</td>\n      <td>Parallel adaptation of general three-dimension...</td>\n      <td>JOURNAL OF COMPUTATIONAL PHYSICS</td>\n      <td>Parallel computing; Hybrid meshes; Mesh adapta...</td>\n      <td>A new parallel dynamic mesh adaptation and loa...</td>\n      <td>[Kavouklis, Christos; Kallinderis, Yannis] Uni...</td>\n      <td>christos.kavouklis@gmail.com; kallind@veltisto...</td>\n      <td>8</td>\n      <td>2010</td>\n      <td>...</td>\n      <td>WOS:000276124400020</td>\n      <td>United States, United States</td>\n      <td>False</td>\n      <td>False</td>\n      <td>False</td>\n      <td>True</td>\n      <td>False</td>\n      <td>False</td>\n      <td>False</td>\n      <td>False</td>\n    </tr>\n    <tr>\n      <th>1253127</th>\n      <td>J</td>\n      <td>Zhao, B; Liu, Y; Goh, SH; Lee, FH</td>\n      <td>Parallel finite element analysis of seismic so...</td>\n      <td>COMPUTERS AND GEOTECHNICS</td>\n      <td>Parallel finite element analysis; Pre-conditio...</td>\n      <td>This paper describes an implementation of a hi...</td>\n      <td>[Zhao, B.] Keppel Offshore &amp; Marine Technol Ct...</td>\n      <td>ben.zhao@KOMtech.com.sg; ceeliuy@gmail.com; ce...</td>\n      <td>4</td>\n      <td>2016</td>\n      <td>...</td>\n      <td>WOS:000387523300015</td>\n      <td>Singapore, Singapore, Singapore, Singapore</td>\n      <td>False</td>\n      <td>False</td>\n      <td>False</td>\n      <td>True</td>\n      <td>False</td>\n      <td>False</td>\n      <td>False</td>\n      <td>False</td>\n    </tr>\n  </tbody>\n</table>\n<p>1253128 rows × 21 columns</p>\n</div>"
     },
     "execution_count": 90,
     "metadata": {},
     "output_type": "execute_result"
    }
   ],
   "source": [
    "df_dt"
   ],
   "metadata": {
    "collapsed": false
   }
  },
  {
   "cell_type": "code",
   "execution_count": 91,
   "outputs": [
    {
     "data": {
      "text/plain": "           PT      AU      TI      SO      DE      AB      C1      EM      TC  \\\nAI                                                                              \nFalse  532551  532551  532551  532551  532551  532551  532551  499246  532551   \nTrue   720577  720577  720577  720577  720577  720577  720577  670621  720577   \n\n           PY      WC      UT      CN  big_data     IOT  \\\nAI                                                        \nFalse  532551  532320  532551  532551    532551  532551   \nTrue   720577  720404  720577  720577    720577  720577   \n\n       computing_infrastructure  blockchain  robotics  additive_manufacturing  \\\nAI                                                                              \nFalse                    532551      532551    532551                  532551   \nTrue                     720577      720577    720577                  720577   \n\n           EU  \nAI             \nFalse  532551  \nTrue   720577  ",
      "text/html": "<div>\n<style scoped>\n    .dataframe tbody tr th:only-of-type {\n        vertical-align: middle;\n    }\n\n    .dataframe tbody tr th {\n        vertical-align: top;\n    }\n\n    .dataframe thead th {\n        text-align: right;\n    }\n</style>\n<table border=\"1\" class=\"dataframe\">\n  <thead>\n    <tr style=\"text-align: right;\">\n      <th></th>\n      <th>PT</th>\n      <th>AU</th>\n      <th>TI</th>\n      <th>SO</th>\n      <th>DE</th>\n      <th>AB</th>\n      <th>C1</th>\n      <th>EM</th>\n      <th>TC</th>\n      <th>PY</th>\n      <th>WC</th>\n      <th>UT</th>\n      <th>CN</th>\n      <th>big_data</th>\n      <th>IOT</th>\n      <th>computing_infrastructure</th>\n      <th>blockchain</th>\n      <th>robotics</th>\n      <th>additive_manufacturing</th>\n      <th>EU</th>\n    </tr>\n    <tr>\n      <th>AI</th>\n      <th></th>\n      <th></th>\n      <th></th>\n      <th></th>\n      <th></th>\n      <th></th>\n      <th></th>\n      <th></th>\n      <th></th>\n      <th></th>\n      <th></th>\n      <th></th>\n      <th></th>\n      <th></th>\n      <th></th>\n      <th></th>\n      <th></th>\n      <th></th>\n      <th></th>\n      <th></th>\n    </tr>\n  </thead>\n  <tbody>\n    <tr>\n      <th>False</th>\n      <td>532551</td>\n      <td>532551</td>\n      <td>532551</td>\n      <td>532551</td>\n      <td>532551</td>\n      <td>532551</td>\n      <td>532551</td>\n      <td>499246</td>\n      <td>532551</td>\n      <td>532551</td>\n      <td>532320</td>\n      <td>532551</td>\n      <td>532551</td>\n      <td>532551</td>\n      <td>532551</td>\n      <td>532551</td>\n      <td>532551</td>\n      <td>532551</td>\n      <td>532551</td>\n      <td>532551</td>\n    </tr>\n    <tr>\n      <th>True</th>\n      <td>720577</td>\n      <td>720577</td>\n      <td>720577</td>\n      <td>720577</td>\n      <td>720577</td>\n      <td>720577</td>\n      <td>720577</td>\n      <td>670621</td>\n      <td>720577</td>\n      <td>720577</td>\n      <td>720404</td>\n      <td>720577</td>\n      <td>720577</td>\n      <td>720577</td>\n      <td>720577</td>\n      <td>720577</td>\n      <td>720577</td>\n      <td>720577</td>\n      <td>720577</td>\n      <td>720577</td>\n    </tr>\n  </tbody>\n</table>\n</div>"
     },
     "execution_count": 91,
     "metadata": {},
     "output_type": "execute_result"
    }
   ],
   "source": [
    "df_dt.groupby('AI').count()"
   ],
   "metadata": {
    "collapsed": false
   }
  },
  {
   "cell_type": "code",
   "execution_count": 105,
   "outputs": [
    {
     "data": {
      "text/plain": "0.575"
     },
     "execution_count": 105,
     "metadata": {},
     "output_type": "execute_result"
    }
   ],
   "source": [
    "round(720577 / (720577+532551),3)"
   ],
   "metadata": {
    "collapsed": false
   }
  },
  {
   "cell_type": "code",
   "execution_count": 97,
   "outputs": [
    {
     "data": {
      "text/plain": "1253128"
     },
     "execution_count": 97,
     "metadata": {},
     "output_type": "execute_result"
    }
   ],
   "source": [
    "(720577+532551)"
   ],
   "metadata": {
    "collapsed": false
   }
  },
  {
   "cell_type": "code",
   "execution_count": 92,
   "outputs": [
    {
     "data": {
      "text/plain": "               PT       AU       TI       SO       DE       AB       C1  \\\nrobotics                                                                  \nFalse     1044609  1044609  1044609  1044609  1044609  1044609  1044609   \nTrue       208519   208519   208519   208519   208519   208519   208519   \n\n              EM       TC       PY       WC       UT       CN       AI  \\\nrobotics                                                                 \nFalse     972496  1044609  1044609  1044277  1044609  1044609  1044609   \nTrue      197371   208519   208519   208447   208519   208519   208519   \n\n          big_data      IOT  computing_infrastructure  blockchain  \\\nrobotics                                                            \nFalse      1044609  1044609                   1044609     1044609   \nTrue        208519   208519                    208519      208519   \n\n          additive_manufacturing       EU  \nrobotics                                   \nFalse                    1044609  1044609  \nTrue                      208519   208519  ",
      "text/html": "<div>\n<style scoped>\n    .dataframe tbody tr th:only-of-type {\n        vertical-align: middle;\n    }\n\n    .dataframe tbody tr th {\n        vertical-align: top;\n    }\n\n    .dataframe thead th {\n        text-align: right;\n    }\n</style>\n<table border=\"1\" class=\"dataframe\">\n  <thead>\n    <tr style=\"text-align: right;\">\n      <th></th>\n      <th>PT</th>\n      <th>AU</th>\n      <th>TI</th>\n      <th>SO</th>\n      <th>DE</th>\n      <th>AB</th>\n      <th>C1</th>\n      <th>EM</th>\n      <th>TC</th>\n      <th>PY</th>\n      <th>WC</th>\n      <th>UT</th>\n      <th>CN</th>\n      <th>AI</th>\n      <th>big_data</th>\n      <th>IOT</th>\n      <th>computing_infrastructure</th>\n      <th>blockchain</th>\n      <th>additive_manufacturing</th>\n      <th>EU</th>\n    </tr>\n    <tr>\n      <th>robotics</th>\n      <th></th>\n      <th></th>\n      <th></th>\n      <th></th>\n      <th></th>\n      <th></th>\n      <th></th>\n      <th></th>\n      <th></th>\n      <th></th>\n      <th></th>\n      <th></th>\n      <th></th>\n      <th></th>\n      <th></th>\n      <th></th>\n      <th></th>\n      <th></th>\n      <th></th>\n      <th></th>\n    </tr>\n  </thead>\n  <tbody>\n    <tr>\n      <th>False</th>\n      <td>1044609</td>\n      <td>1044609</td>\n      <td>1044609</td>\n      <td>1044609</td>\n      <td>1044609</td>\n      <td>1044609</td>\n      <td>1044609</td>\n      <td>972496</td>\n      <td>1044609</td>\n      <td>1044609</td>\n      <td>1044277</td>\n      <td>1044609</td>\n      <td>1044609</td>\n      <td>1044609</td>\n      <td>1044609</td>\n      <td>1044609</td>\n      <td>1044609</td>\n      <td>1044609</td>\n      <td>1044609</td>\n      <td>1044609</td>\n    </tr>\n    <tr>\n      <th>True</th>\n      <td>208519</td>\n      <td>208519</td>\n      <td>208519</td>\n      <td>208519</td>\n      <td>208519</td>\n      <td>208519</td>\n      <td>208519</td>\n      <td>197371</td>\n      <td>208519</td>\n      <td>208519</td>\n      <td>208447</td>\n      <td>208519</td>\n      <td>208519</td>\n      <td>208519</td>\n      <td>208519</td>\n      <td>208519</td>\n      <td>208519</td>\n      <td>208519</td>\n      <td>208519</td>\n      <td>208519</td>\n    </tr>\n  </tbody>\n</table>\n</div>"
     },
     "execution_count": 92,
     "metadata": {},
     "output_type": "execute_result"
    }
   ],
   "source": [
    "df_dt.groupby('robotics').count()"
   ],
   "metadata": {
    "collapsed": false
   }
  },
  {
   "cell_type": "code",
   "execution_count": 104,
   "outputs": [
    {
     "data": {
      "text/plain": "0.166"
     },
     "execution_count": 104,
     "metadata": {},
     "output_type": "execute_result"
    }
   ],
   "source": [
    "round(208519/1253128, 3)"
   ],
   "metadata": {
    "collapsed": false
   }
  },
  {
   "cell_type": "code",
   "execution_count": 93,
   "outputs": [
    {
     "data": {
      "text/plain": "            PT       AU       TI       SO       DE       AB       C1       EM  \\\nIOT                                                                             \nFalse  1081659  1081659  1081659  1081659  1081659  1081659  1081659  1009802   \nTrue    171469   171469   171469   171469   171469   171469   171469   160065   \n\n            TC       PY       WC       UT       CN       AI  big_data  \\\nIOT                                                                     \nFalse  1081659  1081659  1081321  1081659  1081659  1081659   1081659   \nTrue    171469   171469   171403   171469   171469   171469    171469   \n\n       computing_infrastructure  blockchain  robotics  additive_manufacturing  \\\nIOT                                                                             \nFalse                   1081659     1081659   1081659                 1081659   \nTrue                     171469      171469    171469                  171469   \n\n            EU  \nIOT             \nFalse  1081659  \nTrue    171469  ",
      "text/html": "<div>\n<style scoped>\n    .dataframe tbody tr th:only-of-type {\n        vertical-align: middle;\n    }\n\n    .dataframe tbody tr th {\n        vertical-align: top;\n    }\n\n    .dataframe thead th {\n        text-align: right;\n    }\n</style>\n<table border=\"1\" class=\"dataframe\">\n  <thead>\n    <tr style=\"text-align: right;\">\n      <th></th>\n      <th>PT</th>\n      <th>AU</th>\n      <th>TI</th>\n      <th>SO</th>\n      <th>DE</th>\n      <th>AB</th>\n      <th>C1</th>\n      <th>EM</th>\n      <th>TC</th>\n      <th>PY</th>\n      <th>WC</th>\n      <th>UT</th>\n      <th>CN</th>\n      <th>AI</th>\n      <th>big_data</th>\n      <th>computing_infrastructure</th>\n      <th>blockchain</th>\n      <th>robotics</th>\n      <th>additive_manufacturing</th>\n      <th>EU</th>\n    </tr>\n    <tr>\n      <th>IOT</th>\n      <th></th>\n      <th></th>\n      <th></th>\n      <th></th>\n      <th></th>\n      <th></th>\n      <th></th>\n      <th></th>\n      <th></th>\n      <th></th>\n      <th></th>\n      <th></th>\n      <th></th>\n      <th></th>\n      <th></th>\n      <th></th>\n      <th></th>\n      <th></th>\n      <th></th>\n      <th></th>\n    </tr>\n  </thead>\n  <tbody>\n    <tr>\n      <th>False</th>\n      <td>1081659</td>\n      <td>1081659</td>\n      <td>1081659</td>\n      <td>1081659</td>\n      <td>1081659</td>\n      <td>1081659</td>\n      <td>1081659</td>\n      <td>1009802</td>\n      <td>1081659</td>\n      <td>1081659</td>\n      <td>1081321</td>\n      <td>1081659</td>\n      <td>1081659</td>\n      <td>1081659</td>\n      <td>1081659</td>\n      <td>1081659</td>\n      <td>1081659</td>\n      <td>1081659</td>\n      <td>1081659</td>\n      <td>1081659</td>\n    </tr>\n    <tr>\n      <th>True</th>\n      <td>171469</td>\n      <td>171469</td>\n      <td>171469</td>\n      <td>171469</td>\n      <td>171469</td>\n      <td>171469</td>\n      <td>171469</td>\n      <td>160065</td>\n      <td>171469</td>\n      <td>171469</td>\n      <td>171403</td>\n      <td>171469</td>\n      <td>171469</td>\n      <td>171469</td>\n      <td>171469</td>\n      <td>171469</td>\n      <td>171469</td>\n      <td>171469</td>\n      <td>171469</td>\n      <td>171469</td>\n    </tr>\n  </tbody>\n</table>\n</div>"
     },
     "execution_count": 93,
     "metadata": {},
     "output_type": "execute_result"
    }
   ],
   "source": [
    "df_dt.groupby('IOT').count()"
   ],
   "metadata": {
    "collapsed": false
   }
  },
  {
   "cell_type": "code",
   "execution_count": 103,
   "outputs": [
    {
     "data": {
      "text/plain": "0.137"
     },
     "execution_count": 103,
     "metadata": {},
     "output_type": "execute_result"
    }
   ],
   "source": [
    "round(171469/1253128,3\n",
    "      )"
   ],
   "metadata": {
    "collapsed": false
   }
  },
  {
   "cell_type": "code",
   "execution_count": 94,
   "outputs": [
    {
     "data": {
      "text/plain": "                 PT       AU       TI       SO       DE       AB       C1  \\\nblockchain                                                                  \nFalse       1237321  1237321  1237321  1237321  1237321  1237321  1237321   \nTrue          15807    15807    15807    15807    15807    15807    15807   \n\n                 EM       TC       PY       WC       UT       CN       AI  \\\nblockchain                                                                  \nFalse       1155047  1237321  1237321  1236994  1237321  1237321  1237321   \nTrue          14820    15807    15807    15730    15807    15807    15807   \n\n            big_data      IOT  computing_infrastructure  robotics  \\\nblockchain                                                          \nFalse        1237321  1237321                   1237321   1237321   \nTrue           15807    15807                     15807     15807   \n\n            additive_manufacturing       EU  \nblockchain                                   \nFalse                      1237321  1237321  \nTrue                         15807    15807  ",
      "text/html": "<div>\n<style scoped>\n    .dataframe tbody tr th:only-of-type {\n        vertical-align: middle;\n    }\n\n    .dataframe tbody tr th {\n        vertical-align: top;\n    }\n\n    .dataframe thead th {\n        text-align: right;\n    }\n</style>\n<table border=\"1\" class=\"dataframe\">\n  <thead>\n    <tr style=\"text-align: right;\">\n      <th></th>\n      <th>PT</th>\n      <th>AU</th>\n      <th>TI</th>\n      <th>SO</th>\n      <th>DE</th>\n      <th>AB</th>\n      <th>C1</th>\n      <th>EM</th>\n      <th>TC</th>\n      <th>PY</th>\n      <th>WC</th>\n      <th>UT</th>\n      <th>CN</th>\n      <th>AI</th>\n      <th>big_data</th>\n      <th>IOT</th>\n      <th>computing_infrastructure</th>\n      <th>robotics</th>\n      <th>additive_manufacturing</th>\n      <th>EU</th>\n    </tr>\n    <tr>\n      <th>blockchain</th>\n      <th></th>\n      <th></th>\n      <th></th>\n      <th></th>\n      <th></th>\n      <th></th>\n      <th></th>\n      <th></th>\n      <th></th>\n      <th></th>\n      <th></th>\n      <th></th>\n      <th></th>\n      <th></th>\n      <th></th>\n      <th></th>\n      <th></th>\n      <th></th>\n      <th></th>\n      <th></th>\n    </tr>\n  </thead>\n  <tbody>\n    <tr>\n      <th>False</th>\n      <td>1237321</td>\n      <td>1237321</td>\n      <td>1237321</td>\n      <td>1237321</td>\n      <td>1237321</td>\n      <td>1237321</td>\n      <td>1237321</td>\n      <td>1155047</td>\n      <td>1237321</td>\n      <td>1237321</td>\n      <td>1236994</td>\n      <td>1237321</td>\n      <td>1237321</td>\n      <td>1237321</td>\n      <td>1237321</td>\n      <td>1237321</td>\n      <td>1237321</td>\n      <td>1237321</td>\n      <td>1237321</td>\n      <td>1237321</td>\n    </tr>\n    <tr>\n      <th>True</th>\n      <td>15807</td>\n      <td>15807</td>\n      <td>15807</td>\n      <td>15807</td>\n      <td>15807</td>\n      <td>15807</td>\n      <td>15807</td>\n      <td>14820</td>\n      <td>15807</td>\n      <td>15807</td>\n      <td>15730</td>\n      <td>15807</td>\n      <td>15807</td>\n      <td>15807</td>\n      <td>15807</td>\n      <td>15807</td>\n      <td>15807</td>\n      <td>15807</td>\n      <td>15807</td>\n      <td>15807</td>\n    </tr>\n  </tbody>\n</table>\n</div>"
     },
     "execution_count": 94,
     "metadata": {},
     "output_type": "execute_result"
    }
   ],
   "source": [
    "df_dt.groupby('blockchain').count()"
   ],
   "metadata": {
    "collapsed": false
   }
  },
  {
   "cell_type": "code",
   "execution_count": 102,
   "outputs": [
    {
     "data": {
      "text/plain": "0.013"
     },
     "execution_count": 102,
     "metadata": {},
     "output_type": "execute_result"
    }
   ],
   "source": [
    "round(15807/1253128, 3)"
   ],
   "metadata": {
    "collapsed": false
   }
  },
  {
   "cell_type": "code",
   "execution_count": 110,
   "outputs": [],
   "source": [
    "df_dt = pd.read_pickle(\"../data/dataframes/DT/digital_1975-2022.pkl\")\n",
    "df_iot = df_dt[df_dt['IOT']]"
   ],
   "metadata": {
    "collapsed": false
   }
  },
  {
   "cell_type": "code",
   "execution_count": 111,
   "outputs": [
    {
     "data": {
      "text/plain": "PY\n1991        6\n1992        9\n1993       13\n1994        9\n1995       10\n1996       14\n1997       25\n1998      124\n1999      124\n2000      160\n2001      187\n2002      305\n2003      431\n2004      750\n2005     1224\n2006     1827\n2007     2961\n2008     3545\n2009     4868\n2010     4196\n2011     5066\n2012     6017\n2013     7688\n2014     9352\n2015    12999\n2016    16410\n2017    20093\n2018    24112\n2019    27783\n2020    27688\n2021    10027\nName: PT, dtype: int64"
     },
     "execution_count": 111,
     "metadata": {},
     "output_type": "execute_result"
    }
   ],
   "source": [
    "df_iot.groupby('PY')['PT'].count()"
   ],
   "metadata": {
    "collapsed": false
   }
  },
  {
   "cell_type": "code",
   "execution_count": 125,
   "outputs": [],
   "source": [
    "## Check IOT\n",
    "import os\n",
    "import csv\n",
    "import tqdm"
   ],
   "metadata": {
    "collapsed": false
   }
  },
  {
   "cell_type": "code",
   "execution_count": 129,
   "outputs": [
    {
     "name": "stderr",
     "output_type": "stream",
     "text": [
      "100%|██████████| 506/506 [00:08<00:00, 60.48it/s]\n"
     ]
    }
   ],
   "source": [
    "root = \"../data/raw_data/IOT/\"\n",
    "lst_df = []\n",
    "for file in tqdm.tqdm(os.listdir(root)):\n",
    "    path = os.path.join(root, file)\n",
    "    df = pd.read_csv(path, sep='\\t', encoding='utf-8',\n",
    "                                 index_col=False, on_bad_lines=\"skip\",\n",
    "                                 quoting=csv.QUOTE_NONE)\n",
    "    df = df[['UT','AB', 'TI', 'PY', 'LA']]\n",
    "    df.dropna(subset='UT')\n",
    "    lst_df.append(df)"
   ],
   "metadata": {
    "collapsed": false
   }
  },
  {
   "cell_type": "code",
   "execution_count": 147,
   "outputs": [
    {
     "data": {
      "text/plain": "                      UT                                                 AB  \\\n0    WOS:000556596600252  Blockchain has been hailed as an emerging tech...   \n1    WOS:000533346400271  Cyber-physical systems (CPSs) have sophisticat...   \n2    WOS:000483812900001  Cybersecurity for the production of safe and e...   \n3    WOS:000539640300011  The congestion of urban car traffic creates ma...   \n4    WOS:000600287000004  Computer memory occupation is an important iss...   \n..                   ...                                                ...   \n492  WOS:000594337700076  This article presents a mixed signal-based nov...   \n493  WOS:000491295800135  Due to the depletion of energy resources and i...   \n495  WOS:000587291400061  Human safety is an important issue due to the ...   \n496  WOS:000529962800012  E-health systems can be used to monitor people...   \n498  WOS:000703983200085  The proliferation of IoT devices in society de...   \n\n                                                    TI      PY  \n0    Avoiding Risky Designs When Using Blockchain T...  2019.0  \n1    Implementation of System Operation Modes for H...  2020.0  \n2    Cyberbiosecurity in Advanced Manufacturing Models  2019.0  \n3    Urban Intersection Management with Connected I...  2019.0  \n4    Adaptive Secure State Estimation for Cyber-Phy...  2020.0  \n..                                                 ...     ...  \n492  Design Principles for a Novel Lightweight Conf...  2020.0  \n493  Design and Development of an IoT Gateway for S...  2019.0  \n495  Human Tracking System Based on GPS and IOT (In...  2020.0  \n496  The internet of things for healthcare: optimis...  2020.0  \n498  Smart Contract based Distributed IoT Security:...  2021.0  \n\n[209037 rows x 4 columns]",
      "text/html": "<div>\n<style scoped>\n    .dataframe tbody tr th:only-of-type {\n        vertical-align: middle;\n    }\n\n    .dataframe tbody tr th {\n        vertical-align: top;\n    }\n\n    .dataframe thead th {\n        text-align: right;\n    }\n</style>\n<table border=\"1\" class=\"dataframe\">\n  <thead>\n    <tr style=\"text-align: right;\">\n      <th></th>\n      <th>UT</th>\n      <th>AB</th>\n      <th>TI</th>\n      <th>PY</th>\n    </tr>\n  </thead>\n  <tbody>\n    <tr>\n      <th>0</th>\n      <td>WOS:000556596600252</td>\n      <td>Blockchain has been hailed as an emerging tech...</td>\n      <td>Avoiding Risky Designs When Using Blockchain T...</td>\n      <td>2019.0</td>\n    </tr>\n    <tr>\n      <th>1</th>\n      <td>WOS:000533346400271</td>\n      <td>Cyber-physical systems (CPSs) have sophisticat...</td>\n      <td>Implementation of System Operation Modes for H...</td>\n      <td>2020.0</td>\n    </tr>\n    <tr>\n      <th>2</th>\n      <td>WOS:000483812900001</td>\n      <td>Cybersecurity for the production of safe and e...</td>\n      <td>Cyberbiosecurity in Advanced Manufacturing Models</td>\n      <td>2019.0</td>\n    </tr>\n    <tr>\n      <th>3</th>\n      <td>WOS:000539640300011</td>\n      <td>The congestion of urban car traffic creates ma...</td>\n      <td>Urban Intersection Management with Connected I...</td>\n      <td>2019.0</td>\n    </tr>\n    <tr>\n      <th>4</th>\n      <td>WOS:000600287000004</td>\n      <td>Computer memory occupation is an important iss...</td>\n      <td>Adaptive Secure State Estimation for Cyber-Phy...</td>\n      <td>2020.0</td>\n    </tr>\n    <tr>\n      <th>...</th>\n      <td>...</td>\n      <td>...</td>\n      <td>...</td>\n      <td>...</td>\n    </tr>\n    <tr>\n      <th>492</th>\n      <td>WOS:000594337700076</td>\n      <td>This article presents a mixed signal-based nov...</td>\n      <td>Design Principles for a Novel Lightweight Conf...</td>\n      <td>2020.0</td>\n    </tr>\n    <tr>\n      <th>493</th>\n      <td>WOS:000491295800135</td>\n      <td>Due to the depletion of energy resources and i...</td>\n      <td>Design and Development of an IoT Gateway for S...</td>\n      <td>2019.0</td>\n    </tr>\n    <tr>\n      <th>495</th>\n      <td>WOS:000587291400061</td>\n      <td>Human safety is an important issue due to the ...</td>\n      <td>Human Tracking System Based on GPS and IOT (In...</td>\n      <td>2020.0</td>\n    </tr>\n    <tr>\n      <th>496</th>\n      <td>WOS:000529962800012</td>\n      <td>E-health systems can be used to monitor people...</td>\n      <td>The internet of things for healthcare: optimis...</td>\n      <td>2020.0</td>\n    </tr>\n    <tr>\n      <th>498</th>\n      <td>WOS:000703983200085</td>\n      <td>The proliferation of IoT devices in society de...</td>\n      <td>Smart Contract based Distributed IoT Security:...</td>\n      <td>2021.0</td>\n    </tr>\n  </tbody>\n</table>\n<p>209037 rows × 4 columns</p>\n</div>"
     },
     "execution_count": 147,
     "metadata": {},
     "output_type": "execute_result"
    }
   ],
   "source": [
    "df_iot = pd.concat(lst_df)\n",
    "df_iot.drop_duplicates(subset=\"UT\", keep=\"first\", inplace=True)\n",
    "df_iot.drop_duplicates(subset=\"AB\", keep=\"first\", inplace=True)\n",
    "df_iot.drop_duplicates(subset=\"TI\", keep=\"first\", inplace=True)\n",
    "\n",
    "df_iot.dropna(inplace=True)\n",
    "df_iot = df_iot[df_iot['LA'] == \"English\"].drop(columns=['LA'])\n",
    "df_iot"
   ],
   "metadata": {
    "collapsed": false
   }
  },
  {
   "cell_type": "code",
   "execution_count": 149,
   "outputs": [
    {
     "data": {
      "text/plain": "                      UT                                                 AB  \\\n0    WOS:000556596600252  Blockchain has been hailed as an emerging tech...   \n1    WOS:000533346400271  Cyber-physical systems (CPSs) have sophisticat...   \n2    WOS:000483812900001  Cybersecurity for the production of safe and e...   \n3    WOS:000539640300011  The congestion of urban car traffic creates ma...   \n4    WOS:000600287000004  Computer memory occupation is an important iss...   \n..                   ...                                                ...   \n492  WOS:000594337700076  This article presents a mixed signal-based nov...   \n493  WOS:000491295800135  Due to the depletion of energy resources and i...   \n495  WOS:000587291400061  Human safety is an important issue due to the ...   \n496  WOS:000529962800012  E-health systems can be used to monitor people...   \n498  WOS:000703983200085  The proliferation of IoT devices in society de...   \n\n                                                    TI    PY  \n0    Avoiding Risky Designs When Using Blockchain T...  2019  \n1    Implementation of System Operation Modes for H...  2020  \n2    Cyberbiosecurity in Advanced Manufacturing Models  2019  \n3    Urban Intersection Management with Connected I...  2019  \n4    Adaptive Secure State Estimation for Cyber-Phy...  2020  \n..                                                 ...   ...  \n492  Design Principles for a Novel Lightweight Conf...  2020  \n493  Design and Development of an IoT Gateway for S...  2019  \n495  Human Tracking System Based on GPS and IOT (In...  2020  \n496  The internet of things for healthcare: optimis...  2020  \n498  Smart Contract based Distributed IoT Security:...  2021  \n\n[209037 rows x 4 columns]",
      "text/html": "<div>\n<style scoped>\n    .dataframe tbody tr th:only-of-type {\n        vertical-align: middle;\n    }\n\n    .dataframe tbody tr th {\n        vertical-align: top;\n    }\n\n    .dataframe thead th {\n        text-align: right;\n    }\n</style>\n<table border=\"1\" class=\"dataframe\">\n  <thead>\n    <tr style=\"text-align: right;\">\n      <th></th>\n      <th>UT</th>\n      <th>AB</th>\n      <th>TI</th>\n      <th>PY</th>\n    </tr>\n  </thead>\n  <tbody>\n    <tr>\n      <th>0</th>\n      <td>WOS:000556596600252</td>\n      <td>Blockchain has been hailed as an emerging tech...</td>\n      <td>Avoiding Risky Designs When Using Blockchain T...</td>\n      <td>2019</td>\n    </tr>\n    <tr>\n      <th>1</th>\n      <td>WOS:000533346400271</td>\n      <td>Cyber-physical systems (CPSs) have sophisticat...</td>\n      <td>Implementation of System Operation Modes for H...</td>\n      <td>2020</td>\n    </tr>\n    <tr>\n      <th>2</th>\n      <td>WOS:000483812900001</td>\n      <td>Cybersecurity for the production of safe and e...</td>\n      <td>Cyberbiosecurity in Advanced Manufacturing Models</td>\n      <td>2019</td>\n    </tr>\n    <tr>\n      <th>3</th>\n      <td>WOS:000539640300011</td>\n      <td>The congestion of urban car traffic creates ma...</td>\n      <td>Urban Intersection Management with Connected I...</td>\n      <td>2019</td>\n    </tr>\n    <tr>\n      <th>4</th>\n      <td>WOS:000600287000004</td>\n      <td>Computer memory occupation is an important iss...</td>\n      <td>Adaptive Secure State Estimation for Cyber-Phy...</td>\n      <td>2020</td>\n    </tr>\n    <tr>\n      <th>...</th>\n      <td>...</td>\n      <td>...</td>\n      <td>...</td>\n      <td>...</td>\n    </tr>\n    <tr>\n      <th>492</th>\n      <td>WOS:000594337700076</td>\n      <td>This article presents a mixed signal-based nov...</td>\n      <td>Design Principles for a Novel Lightweight Conf...</td>\n      <td>2020</td>\n    </tr>\n    <tr>\n      <th>493</th>\n      <td>WOS:000491295800135</td>\n      <td>Due to the depletion of energy resources and i...</td>\n      <td>Design and Development of an IoT Gateway for S...</td>\n      <td>2019</td>\n    </tr>\n    <tr>\n      <th>495</th>\n      <td>WOS:000587291400061</td>\n      <td>Human safety is an important issue due to the ...</td>\n      <td>Human Tracking System Based on GPS and IOT (In...</td>\n      <td>2020</td>\n    </tr>\n    <tr>\n      <th>496</th>\n      <td>WOS:000529962800012</td>\n      <td>E-health systems can be used to monitor people...</td>\n      <td>The internet of things for healthcare: optimis...</td>\n      <td>2020</td>\n    </tr>\n    <tr>\n      <th>498</th>\n      <td>WOS:000703983200085</td>\n      <td>The proliferation of IoT devices in society de...</td>\n      <td>Smart Contract based Distributed IoT Security:...</td>\n      <td>2021</td>\n    </tr>\n  </tbody>\n</table>\n<p>209037 rows × 4 columns</p>\n</div>"
     },
     "execution_count": 149,
     "metadata": {},
     "output_type": "execute_result"
    }
   ],
   "source": [
    "df_iot['PY'] = df_iot['PY'].astype(\"int\")\n",
    "df_iot['PY'] = df_iot['PY'].astype(\"category\")\n",
    "df_iot"
   ],
   "metadata": {
    "collapsed": false
   }
  },
  {
   "cell_type": "code",
   "execution_count": 150,
   "outputs": [
    {
     "data": {
      "text/plain": "PY\n2010     5817\n2011     6635\n2012     7974\n2013    10211\n2014    12216\n2015    16732\n2016    20534\n2017    24935\n2018    28983\n2019    32135\n2020    31445\n2021    11255\n2022      165\nName: UT, dtype: int64"
     },
     "execution_count": 150,
     "metadata": {},
     "output_type": "execute_result"
    }
   ],
   "source": [
    "df_iot.groupby('PY')['UT'].count()"
   ],
   "metadata": {
    "collapsed": false
   }
  },
  {
   "cell_type": "code",
   "execution_count": 152,
   "outputs": [
    {
     "data": {
      "text/plain": "['Connected device\\\\w*',\n 'Connected home\\\\w*',\n 'Cyber-physical system\\\\w*',\n 'Human-machine interface\\\\w*',\n 'Hyper connectivity',\n 'Industrial internet of things',\n 'Intelligent factor\\\\w*',\n 'Internet of everything',\n 'Internet of things',\n 'IoT',\n 'Machine-to-enterprise',\n 'Machine-to-human',\n 'Machine-to-machine',\n 'Pervasive sensing',\n 'Sensor network\\\\w*',\n 'Smart device\\\\w*',\n 'Smart factor\\\\w*',\n 'Smart home\\\\w*',\n 'Smart sensor\\\\w*',\n 'Wearable\\\\w*',\n 'Wireless body area network\\\\w*',\n 'Wireless sensor network\\\\w*']"
     },
     "execution_count": 152,
     "metadata": {},
     "output_type": "execute_result"
    }
   ],
   "source": [
    "lst_iot = pd.read_csv(\"../data/keyword_digital_simplified.csv\", sep='\\t').loc[:, \"IOT\"].dropna().to_list()\n",
    "lst_iot = [term.replace(\"*\", r\"\\w*\") for term in lst_iot]\n",
    "lst_iot"
   ],
   "metadata": {
    "collapsed": false
   }
  },
  {
   "cell_type": "code",
   "execution_count": 153,
   "outputs": [],
   "source": [
    "import re\n",
    "dic_reg = {term: re.compile(term, flags=re.IGNORECASE) for term in lst_iot}"
   ],
   "metadata": {
    "collapsed": false
   }
  },
  {
   "cell_type": "code",
   "execution_count": 156,
   "outputs": [
    {
     "name": "stderr",
     "output_type": "stream",
     "text": [
      "\n",
      "  0%|          | 0/209037 [00:00<?, ?it/s]\u001B[A\n",
      "  0%|          | 387/209037 [00:00<00:54, 3862.80it/s]\u001B[A\n",
      "  0%|          | 774/209037 [00:00<00:54, 3810.97it/s]\u001B[A\n",
      "  1%|          | 1156/209037 [00:00<00:56, 3674.12it/s]\u001B[A\n",
      "  1%|          | 1626/209037 [00:00<00:51, 4064.45it/s]\u001B[A\n",
      "  1%|          | 2163/209037 [00:00<00:45, 4523.39it/s]\u001B[A\n",
      "  1%|▏         | 2618/209037 [00:00<00:46, 4426.15it/s]\u001B[A\n",
      "  1%|▏         | 3092/209037 [00:00<00:45, 4525.29it/s]\u001B[A\n",
      "  2%|▏         | 3580/209037 [00:00<00:44, 4634.76it/s]\u001B[A\n",
      "  2%|▏         | 4056/209037 [00:00<00:43, 4672.62it/s]\u001B[A\n",
      "  2%|▏         | 4577/209037 [00:01<00:42, 4833.40it/s]\u001B[A\n",
      "  2%|▏         | 5082/209037 [00:01<00:41, 4896.83it/s]\u001B[A\n",
      "  3%|▎         | 5573/209037 [00:01<00:43, 4721.54it/s]\u001B[A\n",
      "  3%|▎         | 6047/209037 [00:01<00:44, 4534.41it/s]\u001B[A\n",
      "  3%|▎         | 6503/209037 [00:01<00:46, 4378.31it/s]\u001B[A\n",
      "  3%|▎         | 6943/209037 [00:01<00:46, 4323.93it/s]\u001B[A\n",
      "  4%|▎         | 7428/209037 [00:01<00:45, 4472.66it/s]\u001B[A\n",
      "  4%|▍         | 7999/209037 [00:01<00:41, 4829.87it/s]\u001B[A\n",
      "  4%|▍         | 8524/209037 [00:01<00:40, 4951.02it/s]\u001B[A\n",
      "  4%|▍         | 9065/209037 [00:01<00:39, 5083.14it/s]\u001B[A\n",
      "  5%|▍         | 9612/209037 [00:02<00:38, 5195.63it/s]\u001B[A\n",
      "  5%|▍         | 10133/209037 [00:02<00:39, 5093.14it/s]\u001B[A\n",
      "  5%|▌         | 10644/209037 [00:02<00:39, 5054.32it/s]\u001B[A\n",
      "  5%|▌         | 11203/209037 [00:02<00:37, 5209.58it/s]\u001B[A\n",
      "  6%|▌         | 11728/209037 [00:02<00:37, 5220.56it/s]\u001B[A\n",
      "  6%|▌         | 12251/209037 [00:02<00:39, 5029.24it/s]\u001B[A\n",
      "  6%|▌         | 12756/209037 [00:02<00:41, 4719.57it/s]\u001B[A\n",
      "  6%|▋         | 13244/209037 [00:02<00:41, 4762.20it/s]\u001B[A\n",
      "  7%|▋         | 13724/209037 [00:02<00:43, 4523.19it/s]\u001B[A\n",
      "  7%|▋         | 14232/209037 [00:03<00:41, 4677.15it/s]\u001B[A\n",
      "  7%|▋         | 14751/209037 [00:03<00:40, 4821.24it/s]\u001B[A\n",
      "  7%|▋         | 15276/209037 [00:03<00:39, 4942.69it/s]\u001B[A\n",
      "  8%|▊         | 15793/209037 [00:03<00:38, 5007.08it/s]\u001B[A\n",
      "  8%|▊         | 16329/209037 [00:03<00:37, 5109.85it/s]\u001B[A\n",
      "  8%|▊         | 16842/209037 [00:03<00:38, 4956.76it/s]\u001B[A\n",
      "  8%|▊         | 17340/209037 [00:03<00:39, 4821.55it/s]\u001B[A\n",
      "  9%|▊         | 17825/209037 [00:03<00:41, 4567.44it/s]\u001B[A\n",
      "  9%|▊         | 18286/209037 [00:03<00:42, 4488.18it/s]\u001B[A\n",
      "  9%|▉         | 18781/209037 [00:03<00:41, 4616.77it/s]\u001B[A\n",
      "  9%|▉         | 19299/209037 [00:04<00:39, 4775.96it/s]\u001B[A\n",
      "  9%|▉         | 19780/209037 [00:04<00:39, 4783.65it/s]\u001B[A\n",
      " 10%|▉         | 20297/209037 [00:04<00:38, 4895.58it/s]\u001B[A\n",
      " 10%|▉         | 20793/209037 [00:04<00:38, 4914.31it/s]\u001B[A\n",
      " 10%|█         | 21286/209037 [00:04<00:39, 4701.79it/s]\u001B[A\n",
      " 10%|█         | 21769/209037 [00:04<00:39, 4736.33it/s]\u001B[A\n",
      " 11%|█         | 22299/209037 [00:04<00:38, 4900.42it/s]\u001B[A\n",
      " 11%|█         | 22850/209037 [00:04<00:36, 5075.93it/s]\u001B[A\n",
      " 11%|█         | 23360/209037 [00:04<00:39, 4732.78it/s]\u001B[A\n",
      " 11%|█▏        | 23848/209037 [00:05<00:38, 4772.53it/s]\u001B[A\n",
      " 12%|█▏        | 24330/209037 [00:05<00:39, 4694.51it/s]\u001B[A\n",
      " 12%|█▏        | 24803/209037 [00:05<00:40, 4601.58it/s]\u001B[A\n",
      " 12%|█▏        | 25423/209037 [00:05<00:36, 5058.34it/s]\u001B[A\n",
      " 12%|█▏        | 25933/209037 [00:05<00:37, 4940.82it/s]\u001B[A\n",
      " 13%|█▎        | 26451/209037 [00:05<00:36, 5009.54it/s]\u001B[A\n",
      " 13%|█▎        | 26955/209037 [00:05<00:38, 4735.44it/s]\u001B[A\n",
      " 13%|█▎        | 27433/209037 [00:05<00:41, 4350.03it/s]\u001B[A\n",
      " 13%|█▎        | 27900/209037 [00:05<00:40, 4435.46it/s]\u001B[A\n",
      " 14%|█▎        | 28449/209037 [00:05<00:38, 4727.84it/s]\u001B[A\n",
      " 14%|█▍        | 28996/209037 [00:06<00:36, 4937.89it/s]\u001B[A\n",
      " 14%|█▍        | 29496/209037 [00:06<00:38, 4685.85it/s]\u001B[A\n",
      " 14%|█▍        | 29994/209037 [00:06<00:37, 4767.74it/s]\u001B[A\n",
      " 15%|█▍        | 30476/209037 [00:06<00:37, 4736.89it/s]\u001B[A\n",
      " 15%|█▍        | 30962/209037 [00:06<00:37, 4769.86it/s]\u001B[A\n",
      " 15%|█▌        | 31442/209037 [00:06<00:37, 4770.99it/s]\u001B[A\n",
      " 15%|█▌        | 31968/209037 [00:06<00:36, 4911.49it/s]\u001B[A\n",
      " 16%|█▌        | 32471/209037 [00:06<00:35, 4943.80it/s]\u001B[A\n",
      " 16%|█▌        | 32967/209037 [00:06<00:35, 4939.82it/s]\u001B[A\n",
      " 16%|█▌        | 33462/209037 [00:07<00:35, 4909.63it/s]\u001B[A\n",
      " 16%|█▌        | 33954/209037 [00:07<00:36, 4801.81it/s]\u001B[A\n",
      " 16%|█▋        | 34464/209037 [00:07<00:35, 4888.03it/s]\u001B[A\n",
      " 17%|█▋        | 34954/209037 [00:07<00:37, 4689.02it/s]\u001B[A\n",
      " 17%|█▋        | 35425/209037 [00:07<00:39, 4400.06it/s]\u001B[A\n",
      " 17%|█▋        | 35922/209037 [00:07<00:37, 4556.60it/s]\u001B[A\n",
      " 17%|█▋        | 36426/209037 [00:07<00:36, 4693.63it/s]\u001B[A\n",
      " 18%|█▊        | 36961/209037 [00:07<00:35, 4880.17it/s]\u001B[A\n",
      " 18%|█▊        | 37453/209037 [00:07<00:35, 4799.29it/s]\u001B[A\n",
      " 18%|█▊        | 37936/209037 [00:08<00:38, 4475.56it/s]\u001B[A\n",
      " 18%|█▊        | 38441/209037 [00:08<00:36, 4629.71it/s]\u001B[A\n",
      " 19%|█▊        | 38909/209037 [00:08<00:39, 4342.87it/s]\u001B[A\n",
      " 19%|█▉        | 39350/209037 [00:08<00:39, 4286.59it/s]\u001B[A\n",
      " 19%|█▉        | 39834/209037 [00:08<00:38, 4439.35it/s]\u001B[A\n",
      " 19%|█▉        | 40282/209037 [00:08<00:38, 4419.86it/s]\u001B[A\n",
      " 20%|█▉        | 40771/209037 [00:08<00:36, 4551.98it/s]\u001B[A\n",
      " 20%|█▉        | 41229/209037 [00:08<00:37, 4448.37it/s]\u001B[A\n",
      " 20%|█▉        | 41745/209037 [00:08<00:35, 4653.25it/s]\u001B[A\n",
      " 20%|██        | 42213/209037 [00:08<00:35, 4638.56it/s]\u001B[A\n",
      " 20%|██        | 42723/209037 [00:09<00:34, 4772.69it/s]\u001B[A\n",
      " 21%|██        | 43202/209037 [00:09<00:35, 4693.93it/s]\u001B[A\n",
      " 21%|██        | 43673/209037 [00:09<00:35, 4675.17it/s]\u001B[A\n",
      " 21%|██        | 44175/209037 [00:09<00:34, 4776.03it/s]\u001B[A\n",
      " 21%|██▏       | 44663/209037 [00:09<00:34, 4805.29it/s]\u001B[A\n",
      " 22%|██▏       | 45187/209037 [00:09<00:33, 4931.44it/s]\u001B[A\n",
      " 22%|██▏       | 45681/209037 [00:09<00:34, 4752.21it/s]\u001B[A\n",
      " 22%|██▏       | 46158/209037 [00:09<00:36, 4511.71it/s]\u001B[A\n",
      " 22%|██▏       | 46613/209037 [00:09<00:35, 4515.25it/s]\u001B[A\n",
      " 23%|██▎       | 47126/209037 [00:09<00:34, 4690.58it/s]\u001B[A\n",
      " 23%|██▎       | 47598/209037 [00:10<00:34, 4665.07it/s]\u001B[A\n",
      " 23%|██▎       | 48067/209037 [00:10<00:35, 4561.24it/s]\u001B[A\n",
      " 23%|██▎       | 48525/209037 [00:10<00:36, 4379.20it/s]\u001B[A\n",
      " 23%|██▎       | 48985/209037 [00:10<00:36, 4441.10it/s]\u001B[A\n",
      " 24%|██▎       | 49431/209037 [00:10<00:35, 4445.36it/s]\u001B[A\n",
      " 24%|██▍       | 49877/209037 [00:10<00:38, 4175.28it/s]\u001B[A\n",
      " 24%|██▍       | 50325/209037 [00:10<00:37, 4258.66it/s]\u001B[A\n",
      " 24%|██▍       | 50801/209037 [00:10<00:35, 4399.41it/s]\u001B[A\n",
      " 25%|██▍       | 51244/209037 [00:10<00:35, 4400.67it/s]\u001B[A\n",
      " 25%|██▍       | 51687/209037 [00:11<00:39, 4016.81it/s]\u001B[A\n",
      " 25%|██▍       | 52097/209037 [00:11<00:40, 3913.54it/s]\u001B[A\n",
      " 25%|██▌       | 52494/209037 [00:11<00:40, 3894.59it/s]\u001B[A\n",
      " 25%|██▌       | 52887/209037 [00:11<00:40, 3846.75it/s]\u001B[A\n",
      " 25%|██▌       | 53296/209037 [00:11<00:39, 3914.85it/s]\u001B[A\n",
      " 26%|██▌       | 53690/209037 [00:11<00:42, 3683.91it/s]\u001B[A\n",
      " 26%|██▌       | 54062/209037 [00:11<00:44, 3466.54it/s]\u001B[A\n",
      " 26%|██▌       | 54446/209037 [00:11<00:43, 3567.38it/s]\u001B[A\n",
      " 26%|██▌       | 54821/209037 [00:11<00:42, 3618.44it/s]\u001B[A\n",
      " 26%|██▋       | 55224/209037 [00:12<00:41, 3735.43it/s]\u001B[A\n",
      " 27%|██▋       | 55620/209037 [00:12<00:40, 3799.74it/s]\u001B[A\n",
      " 27%|██▋       | 56052/209037 [00:12<00:38, 3951.43it/s]\u001B[A\n",
      " 27%|██▋       | 56525/209037 [00:12<00:36, 4179.32it/s]\u001B[A\n",
      " 27%|██▋       | 56945/209037 [00:12<00:36, 4167.38it/s]\u001B[A\n",
      " 27%|██▋       | 57363/209037 [00:12<00:36, 4141.74it/s]\u001B[A\n",
      " 28%|██▊       | 57857/209037 [00:12<00:34, 4377.68it/s]\u001B[A\n",
      " 28%|██▊       | 58348/209037 [00:12<00:33, 4535.34it/s]\u001B[A\n",
      " 28%|██▊       | 58881/209037 [00:12<00:31, 4771.10it/s]\u001B[A\n",
      " 28%|██▊       | 59360/209037 [00:12<00:31, 4776.51it/s]\u001B[A\n",
      " 29%|██▊       | 59839/209037 [00:13<00:31, 4707.02it/s]\u001B[A\n",
      " 29%|██▉       | 60311/209037 [00:13<00:31, 4676.31it/s]\u001B[A\n",
      " 29%|██▉       | 60780/209037 [00:13<00:32, 4624.51it/s]\u001B[A\n",
      " 29%|██▉       | 61243/209037 [00:13<00:33, 4466.87it/s]\u001B[A\n",
      " 30%|██▉       | 61714/209037 [00:13<00:32, 4535.24it/s]\u001B[A\n",
      " 30%|██▉       | 62207/209037 [00:13<00:31, 4648.86it/s]\u001B[A\n",
      " 30%|███       | 62757/209037 [00:13<00:29, 4897.62it/s]\u001B[A\n",
      " 30%|███       | 63294/209037 [00:13<00:28, 5034.93it/s]\u001B[A\n",
      " 31%|███       | 63799/209037 [00:13<00:29, 4860.79it/s]\u001B[A\n",
      " 31%|███       | 64287/209037 [00:13<00:30, 4744.26it/s]\u001B[A\n",
      " 31%|███       | 64823/209037 [00:14<00:29, 4920.43it/s]\u001B[A\n",
      " 31%|███▏      | 65395/209037 [00:14<00:27, 5150.47it/s]\u001B[A\n",
      " 32%|███▏      | 65916/209037 [00:14<00:27, 5166.97it/s]\u001B[A\n",
      " 32%|███▏      | 66435/209037 [00:14<00:28, 5061.83it/s]\u001B[A\n",
      " 32%|███▏      | 66970/209037 [00:14<00:27, 5144.18it/s]\u001B[A\n",
      " 32%|███▏      | 67493/209037 [00:14<00:27, 5166.18it/s]\u001B[A\n",
      " 33%|███▎      | 68011/209037 [00:14<00:29, 4821.96it/s]\u001B[A\n",
      " 33%|███▎      | 68499/209037 [00:14<00:29, 4789.87it/s]\u001B[A\n",
      " 33%|███▎      | 69079/209037 [00:14<00:27, 5076.74it/s]\u001B[A\n",
      " 33%|███▎      | 69653/209037 [00:15<00:26, 5266.09it/s]\u001B[A\n",
      " 34%|███▎      | 70183/209037 [00:15<00:27, 5118.68it/s]\u001B[A\n",
      " 34%|███▍      | 70698/209037 [00:15<00:27, 5072.14it/s]\u001B[A\n",
      " 34%|███▍      | 71208/209037 [00:15<00:27, 4992.06it/s]\u001B[A\n",
      " 34%|███▍      | 71709/209037 [00:15<00:27, 4971.01it/s]\u001B[A\n",
      " 35%|███▍      | 72218/209037 [00:15<00:27, 5003.52it/s]\u001B[A\n",
      " 35%|███▍      | 72742/209037 [00:15<00:26, 5071.89it/s]\u001B[A\n",
      " 35%|███▌      | 73250/209037 [00:15<00:27, 4999.96it/s]\u001B[A\n",
      " 35%|███▌      | 73751/209037 [00:15<00:27, 4939.77it/s]\u001B[A\n",
      " 36%|███▌      | 74246/209037 [00:15<00:28, 4720.51it/s]\u001B[A\n",
      " 36%|███▌      | 74721/209037 [00:16<00:29, 4610.82it/s]\u001B[A\n",
      " 36%|███▌      | 75184/209037 [00:16<00:29, 4576.77it/s]\u001B[A\n",
      " 36%|███▌      | 75685/209037 [00:16<00:28, 4699.33it/s]\u001B[A\n",
      " 36%|███▋      | 76176/209037 [00:16<00:27, 4755.75it/s]\u001B[A\n",
      " 37%|███▋      | 76678/209037 [00:16<00:27, 4830.91it/s]\u001B[A\n",
      " 37%|███▋      | 77213/209037 [00:16<00:26, 4983.95it/s]\u001B[A\n",
      " 37%|███▋      | 77713/209037 [00:16<00:29, 4526.76it/s]\u001B[A\n",
      " 37%|███▋      | 78272/209037 [00:16<00:27, 4819.30it/s]\u001B[A\n",
      " 38%|███▊      | 78763/209037 [00:16<00:27, 4666.85it/s]\u001B[A\n",
      " 38%|███▊      | 79241/209037 [00:17<00:27, 4697.32it/s]\u001B[A\n",
      " 38%|███▊      | 79727/209037 [00:17<00:27, 4743.43it/s]\u001B[A\n",
      " 38%|███▊      | 80220/209037 [00:17<00:26, 4795.20it/s]\u001B[A\n",
      " 39%|███▊      | 80703/209037 [00:17<00:27, 4644.19it/s]\u001B[A\n",
      " 39%|███▉      | 81171/209037 [00:17<00:28, 4547.51it/s]\u001B[A\n",
      " 39%|███▉      | 81628/209037 [00:17<00:28, 4500.97it/s]\u001B[A\n",
      " 39%|███▉      | 82124/209037 [00:17<00:27, 4632.81it/s]\u001B[A\n",
      " 40%|███▉      | 82589/209037 [00:17<00:27, 4578.44it/s]\u001B[A\n",
      " 40%|███▉      | 83081/209037 [00:17<00:26, 4674.91it/s]\u001B[A\n",
      " 40%|███▉      | 83556/209037 [00:17<00:26, 4694.74it/s]\u001B[A\n",
      " 40%|████      | 84038/209037 [00:18<00:26, 4729.82it/s]\u001B[A\n",
      " 40%|████      | 84561/209037 [00:18<00:25, 4878.06it/s]\u001B[A\n",
      " 41%|████      | 85115/209037 [00:18<00:24, 5073.26it/s]\u001B[A\n",
      " 41%|████      | 85645/209037 [00:18<00:24, 5138.17it/s]\u001B[A\n",
      " 41%|████      | 86211/209037 [00:18<00:23, 5290.35it/s]\u001B[A\n",
      " 41%|████▏     | 86741/209037 [00:18<00:25, 4754.98it/s]\u001B[A\n",
      " 42%|████▏     | 87227/209037 [00:18<00:26, 4641.59it/s]\u001B[A\n",
      " 42%|████▏     | 87809/209037 [00:18<00:24, 4968.30it/s]\u001B[A\n",
      " 42%|████▏     | 88316/209037 [00:18<00:24, 4995.25it/s]\u001B[A\n",
      " 43%|████▎     | 88859/209037 [00:19<00:23, 5118.84it/s]\u001B[A\n",
      " 43%|████▎     | 89376/209037 [00:19<00:23, 5002.42it/s]\u001B[A\n",
      " 43%|████▎     | 89884/209037 [00:19<00:23, 5024.45it/s]\u001B[A\n",
      " 43%|████▎     | 90389/209037 [00:19<00:24, 4840.44it/s]\u001B[A\n",
      " 43%|████▎     | 90876/209037 [00:19<00:24, 4846.02it/s]\u001B[A\n",
      " 44%|████▎     | 91395/209037 [00:19<00:23, 4943.74it/s]\u001B[A\n",
      " 44%|████▍     | 91975/209037 [00:19<00:22, 5193.75it/s]\u001B[A\n",
      " 44%|████▍     | 92497/209037 [00:19<00:22, 5197.06it/s]\u001B[A\n",
      " 44%|████▍     | 93018/209037 [00:19<00:22, 5131.52it/s]\u001B[A\n",
      " 45%|████▍     | 93537/209037 [00:19<00:22, 5145.74it/s]\u001B[A\n",
      " 45%|████▍     | 94053/209037 [00:20<00:22, 5096.85it/s]\u001B[A\n",
      " 45%|████▌     | 94567/209037 [00:20<00:22, 5108.77it/s]\u001B[A\n",
      " 45%|████▌     | 95079/209037 [00:20<00:23, 4841.06it/s]\u001B[A\n",
      " 46%|████▌     | 95610/209037 [00:20<00:22, 4974.88it/s]\u001B[A\n",
      " 46%|████▌     | 96126/209037 [00:20<00:22, 5027.93it/s]\u001B[A\n",
      " 46%|████▌     | 96631/209037 [00:20<00:23, 4725.27it/s]\u001B[A\n",
      " 46%|████▋     | 97109/209037 [00:20<00:23, 4675.64it/s]\u001B[A\n",
      " 47%|████▋     | 97580/209037 [00:20<00:24, 4514.95it/s]\u001B[A\n",
      " 47%|████▋     | 98035/209037 [00:20<00:25, 4383.18it/s]\u001B[A\n",
      " 47%|████▋     | 98617/209037 [00:21<00:23, 4784.17it/s]\u001B[A\n",
      " 47%|████▋     | 99111/209037 [00:21<00:22, 4827.58it/s]\u001B[A\n",
      " 48%|████▊     | 99597/209037 [00:21<00:23, 4678.03it/s]\u001B[A\n",
      " 48%|████▊     | 100068/209037 [00:21<00:24, 4501.51it/s]\u001B[A\n",
      " 48%|████▊     | 100526/209037 [00:21<00:23, 4523.23it/s]\u001B[A\n",
      " 48%|████▊     | 101035/209037 [00:21<00:23, 4683.94it/s]\u001B[A\n",
      " 49%|████▊     | 101506/209037 [00:21<00:23, 4585.08it/s]\u001B[A\n",
      " 49%|████▉     | 102013/209037 [00:21<00:22, 4724.95it/s]\u001B[A\n",
      " 49%|████▉     | 102532/209037 [00:21<00:21, 4858.93it/s]\u001B[A\n",
      " 49%|████▉     | 103090/209037 [00:21<00:20, 5070.33it/s]\u001B[A\n",
      " 50%|████▉     | 103599/209037 [00:22<00:20, 5072.39it/s]\u001B[A\n",
      " 50%|████▉     | 104129/209037 [00:22<00:20, 5138.64it/s]\u001B[A\n",
      " 50%|█████     | 104704/209037 [00:22<00:19, 5318.80it/s]\u001B[A\n",
      " 50%|█████     | 105255/209037 [00:22<00:19, 5375.36it/s]\u001B[A\n",
      " 51%|█████     | 105794/209037 [00:22<00:19, 5258.82it/s]\u001B[A\n",
      " 51%|█████     | 106322/209037 [00:22<00:19, 5263.18it/s]\u001B[A\n",
      " 51%|█████     | 106849/209037 [00:22<00:19, 5124.82it/s]\u001B[A\n",
      " 51%|█████▏    | 107363/209037 [00:22<00:20, 5033.75it/s]\u001B[A\n",
      " 52%|█████▏    | 107925/209037 [00:22<00:19, 5201.99it/s]\u001B[A\n",
      " 52%|█████▏    | 108447/209037 [00:22<00:19, 5171.29it/s]\u001B[A\n",
      " 52%|█████▏    | 108965/209037 [00:23<00:19, 5096.48it/s]\u001B[A\n",
      " 52%|█████▏    | 109482/209037 [00:23<00:19, 5117.67it/s]\u001B[A\n",
      " 53%|█████▎    | 109995/209037 [00:23<00:19, 5118.97it/s]\u001B[A\n",
      " 53%|█████▎    | 110508/209037 [00:23<00:20, 4817.83it/s]\u001B[A\n",
      " 53%|█████▎    | 111050/209037 [00:23<00:19, 4989.10it/s]\u001B[A\n",
      " 53%|█████▎    | 111553/209037 [00:23<00:20, 4829.72it/s]\u001B[A\n",
      " 54%|█████▎    | 112054/209037 [00:23<00:19, 4880.02it/s]\u001B[A\n",
      " 54%|█████▍    | 112545/209037 [00:23<00:19, 4871.19it/s]\u001B[A\n",
      " 54%|█████▍    | 113034/209037 [00:23<00:19, 4873.65it/s]\u001B[A\n",
      " 54%|█████▍    | 113576/209037 [00:24<00:18, 5034.00it/s]\u001B[A\n",
      " 55%|█████▍    | 114124/209037 [00:24<00:18, 5164.56it/s]\u001B[A\n",
      " 55%|█████▍    | 114688/209037 [00:24<00:17, 5304.03it/s]\u001B[A\n",
      " 55%|█████▌    | 115220/209037 [00:24<00:18, 4957.72it/s]\u001B[A\n",
      " 55%|█████▌    | 115721/209037 [00:24<00:19, 4855.27it/s]\u001B[A\n",
      " 56%|█████▌    | 116269/209037 [00:24<00:18, 5029.04it/s]\u001B[A\n",
      " 56%|█████▌    | 116776/209037 [00:24<00:18, 4899.50it/s]\u001B[A\n",
      " 56%|█████▌    | 117276/209037 [00:24<00:18, 4925.39it/s]\u001B[A\n",
      " 56%|█████▋    | 117771/209037 [00:24<00:18, 4875.36it/s]\u001B[A\n",
      " 57%|█████▋    | 118285/209037 [00:24<00:18, 4949.40it/s]\u001B[A\n",
      " 57%|█████▋    | 118782/209037 [00:25<00:19, 4632.02it/s]\u001B[A\n",
      " 57%|█████▋    | 119260/209037 [00:25<00:19, 4672.06it/s]\u001B[A\n",
      " 57%|█████▋    | 119740/209037 [00:25<00:18, 4707.11it/s]\u001B[A\n",
      " 58%|█████▊    | 120246/209037 [00:25<00:18, 4808.42it/s]\u001B[A\n",
      " 58%|█████▊    | 120752/209037 [00:25<00:18, 4881.32it/s]\u001B[A\n",
      " 58%|█████▊    | 121242/209037 [00:25<00:18, 4706.02it/s]\u001B[A\n",
      " 58%|█████▊    | 121715/209037 [00:25<00:19, 4481.13it/s]\u001B[A\n",
      " 58%|█████▊    | 122199/209037 [00:25<00:18, 4580.83it/s]\u001B[A\n",
      " 59%|█████▊    | 122718/209037 [00:25<00:18, 4754.28it/s]\u001B[A\n",
      " 59%|█████▉    | 123197/209037 [00:26<00:19, 4358.41it/s]\u001B[A\n",
      " 59%|█████▉    | 123641/209037 [00:26<00:19, 4314.65it/s]\u001B[A\n",
      " 59%|█████▉    | 124078/209037 [00:26<00:19, 4318.05it/s]\u001B[A\n",
      " 60%|█████▉    | 124606/209037 [00:26<00:18, 4590.98it/s]\u001B[A\n",
      " 60%|█████▉    | 125070/209037 [00:26<00:18, 4594.33it/s]\u001B[A\n",
      " 60%|██████    | 125533/209037 [00:26<00:18, 4499.44it/s]\u001B[A\n",
      " 60%|██████    | 125986/209037 [00:26<00:19, 4357.90it/s]\u001B[A\n",
      " 60%|██████    | 126424/209037 [00:26<00:19, 4273.59it/s]\u001B[A\n",
      " 61%|██████    | 126853/209037 [00:26<00:19, 4115.63it/s]\u001B[A\n",
      " 61%|██████    | 127267/209037 [00:27<00:19, 4093.41it/s]\u001B[A\n",
      " 61%|██████    | 127678/209037 [00:27<00:20, 3995.18it/s]\u001B[A\n",
      " 61%|██████▏   | 128091/209037 [00:27<00:20, 4032.20it/s]\u001B[A\n",
      " 62%|██████▏   | 128566/209037 [00:27<00:18, 4237.85it/s]\u001B[A\n",
      " 62%|██████▏   | 129082/209037 [00:27<00:17, 4505.50it/s]\u001B[A\n",
      " 62%|██████▏   | 129535/209037 [00:27<00:17, 4478.78it/s]\u001B[A\n",
      " 62%|██████▏   | 130001/209037 [00:27<00:17, 4530.30it/s]\u001B[A\n",
      " 62%|██████▏   | 130502/209037 [00:27<00:16, 4670.96it/s]\u001B[A\n",
      " 63%|██████▎   | 130970/209037 [00:27<00:16, 4623.25it/s]\u001B[A\n",
      " 63%|██████▎   | 131462/209037 [00:27<00:16, 4710.35it/s]\u001B[A\n",
      " 63%|██████▎   | 131974/209037 [00:28<00:15, 4830.60it/s]\u001B[A\n",
      " 63%|██████▎   | 132474/209037 [00:28<00:15, 4878.04it/s]\u001B[A\n",
      " 64%|██████▎   | 132963/209037 [00:28<00:15, 4846.19it/s]\u001B[A\n",
      " 64%|██████▍   | 133448/209037 [00:28<00:15, 4844.25it/s]\u001B[A\n",
      " 64%|██████▍   | 134038/209037 [00:28<00:14, 5158.46it/s]\u001B[A\n",
      " 64%|██████▍   | 134607/209037 [00:28<00:13, 5316.98it/s]\u001B[A\n",
      " 65%|██████▍   | 135140/209037 [00:28<00:15, 4824.76it/s]\u001B[A\n",
      " 65%|██████▍   | 135693/209037 [00:28<00:14, 5019.63it/s]\u001B[A\n",
      " 65%|██████▌   | 136203/209037 [00:28<00:14, 4966.96it/s]\u001B[A\n",
      " 65%|██████▌   | 136739/209037 [00:28<00:14, 5079.34it/s]\u001B[A\n",
      " 66%|██████▌   | 137252/209037 [00:29<00:14, 4959.23it/s]\u001B[A\n",
      " 66%|██████▌   | 137752/209037 [00:29<00:14, 4963.91it/s]\u001B[A\n",
      " 66%|██████▌   | 138251/209037 [00:29<00:15, 4654.02it/s]\u001B[A\n",
      " 66%|██████▋   | 138728/209037 [00:29<00:15, 4684.05it/s]\u001B[A\n",
      " 67%|██████▋   | 139201/209037 [00:29<00:14, 4659.22it/s]\u001B[A\n",
      " 67%|██████▋   | 139737/209037 [00:29<00:14, 4860.81it/s]\u001B[A\n",
      " 67%|██████▋   | 140226/209037 [00:29<00:14, 4753.46it/s]\u001B[A\n",
      " 67%|██████▋   | 140792/209037 [00:29<00:13, 5014.01it/s]\u001B[A\n",
      " 68%|██████▊   | 141321/209037 [00:29<00:13, 5091.94it/s]\u001B[A\n",
      " 68%|██████▊   | 141833/209037 [00:30<00:14, 4669.06it/s]\u001B[A\n",
      " 68%|██████▊   | 142316/209037 [00:30<00:14, 4712.42it/s]\u001B[A\n",
      " 68%|██████▊   | 142878/209037 [00:30<00:13, 4969.77it/s]\u001B[A\n",
      " 69%|██████▊   | 143419/209037 [00:30<00:12, 5093.87it/s]\u001B[A\n",
      " 69%|██████▉   | 143933/209037 [00:30<00:13, 4899.05it/s]\u001B[A\n",
      " 69%|██████▉   | 144428/209037 [00:30<00:13, 4739.64it/s]\u001B[A\n",
      " 69%|██████▉   | 144906/209037 [00:30<00:13, 4681.06it/s]\u001B[A\n",
      " 70%|██████▉   | 145391/209037 [00:30<00:13, 4727.75it/s]\u001B[A\n",
      " 70%|██████▉   | 145869/209037 [00:30<00:13, 4742.03it/s]\u001B[A\n",
      " 70%|███████   | 146364/209037 [00:30<00:13, 4798.20it/s]\u001B[A\n",
      " 70%|███████   | 146890/209037 [00:31<00:12, 4932.52it/s]\u001B[A\n",
      " 71%|███████   | 147385/209037 [00:31<00:12, 4934.77it/s]\u001B[A\n",
      " 71%|███████   | 147880/209037 [00:31<00:12, 4770.67it/s]\u001B[A\n",
      " 71%|███████   | 148359/209037 [00:31<00:12, 4763.98it/s]\u001B[A\n",
      " 71%|███████   | 148837/209037 [00:31<00:12, 4767.13it/s]\u001B[A\n",
      " 71%|███████▏  | 149343/209037 [00:31<00:12, 4851.34it/s]\u001B[A\n",
      " 72%|███████▏  | 149848/209037 [00:31<00:12, 4907.32it/s]\u001B[A\n",
      " 72%|███████▏  | 150340/209037 [00:31<00:11, 4907.14it/s]\u001B[A\n",
      " 72%|███████▏  | 150832/209037 [00:31<00:12, 4841.91it/s]\u001B[A\n",
      " 72%|███████▏  | 151319/209037 [00:31<00:11, 4850.17it/s]\u001B[A\n",
      " 73%|███████▎  | 151805/209037 [00:32<00:11, 4771.35it/s]\u001B[A\n",
      " 73%|███████▎  | 152283/209037 [00:32<00:11, 4752.92it/s]\u001B[A\n",
      " 73%|███████▎  | 152820/209037 [00:32<00:11, 4934.33it/s]\u001B[A\n",
      " 73%|███████▎  | 153314/209037 [00:32<00:12, 4624.19it/s]\u001B[A\n",
      " 74%|███████▎  | 153831/209037 [00:32<00:11, 4777.19it/s]\u001B[A\n",
      " 74%|███████▍  | 154324/209037 [00:32<00:11, 4820.86it/s]\u001B[A\n",
      " 74%|███████▍  | 154809/209037 [00:32<00:11, 4574.57it/s]\u001B[A\n",
      " 74%|███████▍  | 155271/209037 [00:32<00:11, 4540.28it/s]\u001B[A\n",
      " 74%|███████▍  | 155728/209037 [00:32<00:11, 4459.06it/s]\u001B[A\n",
      " 75%|███████▍  | 156253/209037 [00:33<00:11, 4684.17it/s]\u001B[A\n",
      " 75%|███████▌  | 156790/209037 [00:33<00:10, 4881.26it/s]\u001B[A\n",
      " 75%|███████▌  | 157327/209037 [00:33<00:10, 5022.66it/s]\u001B[A\n",
      " 76%|███████▌  | 157832/209037 [00:33<00:10, 4692.75it/s]\u001B[A\n",
      " 76%|███████▌  | 158326/209037 [00:33<00:10, 4762.40it/s]\u001B[A\n",
      " 76%|███████▌  | 158836/209037 [00:33<00:10, 4856.44it/s]\u001B[A\n",
      " 76%|███████▌  | 159350/209037 [00:33<00:10, 4938.41it/s]\u001B[A\n",
      " 76%|███████▋  | 159873/209037 [00:33<00:09, 5023.02it/s]\u001B[A\n",
      " 77%|███████▋  | 160406/209037 [00:33<00:09, 5112.16it/s]\u001B[A\n",
      " 77%|███████▋  | 160919/209037 [00:33<00:09, 5027.91it/s]\u001B[A\n",
      " 77%|███████▋  | 161424/209037 [00:34<00:10, 4668.78it/s]\u001B[A\n",
      " 77%|███████▋  | 161942/209037 [00:34<00:09, 4811.23it/s]\u001B[A\n",
      " 78%|███████▊  | 162429/209037 [00:34<00:09, 4821.83it/s]\u001B[A\n",
      " 78%|███████▊  | 162942/209037 [00:34<00:09, 4910.12it/s]\u001B[A\n",
      " 78%|███████▊  | 163436/209037 [00:34<00:09, 4776.02it/s]\u001B[A\n",
      " 78%|███████▊  | 163917/209037 [00:34<00:09, 4641.75it/s]\u001B[A\n",
      " 79%|███████▊  | 164384/209037 [00:34<00:09, 4493.62it/s]\u001B[A\n",
      " 79%|███████▉  | 164879/209037 [00:34<00:09, 4620.17it/s]\u001B[A\n",
      " 79%|███████▉  | 165372/209037 [00:34<00:09, 4706.78it/s]\u001B[A\n",
      " 79%|███████▉  | 165845/209037 [00:35<00:09, 4652.76it/s]\u001B[A\n",
      " 80%|███████▉  | 166312/209037 [00:35<00:09, 4367.82it/s]\u001B[A\n",
      " 80%|███████▉  | 166813/209037 [00:35<00:09, 4545.77it/s]\u001B[A\n",
      " 80%|████████  | 167272/209037 [00:35<00:09, 4521.26it/s]\u001B[A\n",
      " 80%|████████  | 167789/209037 [00:35<00:08, 4707.92it/s]\u001B[A\n",
      " 80%|████████  | 168263/209037 [00:35<00:08, 4619.77it/s]\u001B[A\n",
      " 81%|████████  | 168793/209037 [00:35<00:08, 4815.73it/s]\u001B[A\n",
      " 81%|████████  | 169321/209037 [00:35<00:08, 4949.94it/s]\u001B[A\n",
      " 81%|████████  | 169818/209037 [00:35<00:08, 4895.65it/s]\u001B[A\n",
      " 81%|████████▏ | 170360/209037 [00:35<00:07, 5046.50it/s]\u001B[A\n",
      " 82%|████████▏ | 170866/209037 [00:36<00:07, 4940.20it/s]\u001B[A\n",
      " 82%|████████▏ | 171393/209037 [00:36<00:07, 5034.91it/s]\u001B[A\n",
      " 82%|████████▏ | 171898/209037 [00:36<00:07, 4942.25it/s]\u001B[A\n",
      " 82%|████████▏ | 172394/209037 [00:36<00:07, 4932.55it/s]\u001B[A\n",
      " 83%|████████▎ | 172888/209037 [00:36<00:07, 4857.59it/s]\u001B[A\n",
      " 83%|████████▎ | 173380/209037 [00:36<00:07, 4873.22it/s]\u001B[A\n",
      " 83%|████████▎ | 173868/209037 [00:36<00:07, 4747.86it/s]\u001B[A\n",
      " 83%|████████▎ | 174344/209037 [00:36<00:07, 4636.94it/s]\u001B[A\n",
      " 84%|████████▎ | 174867/209037 [00:36<00:07, 4805.18it/s]\u001B[A\n",
      " 84%|████████▍ | 175349/209037 [00:37<00:07, 4669.95it/s]\u001B[A\n",
      " 84%|████████▍ | 175831/209037 [00:37<00:07, 4711.72it/s]\u001B[A\n",
      " 84%|████████▍ | 176345/209037 [00:37<00:06, 4834.80it/s]\u001B[A\n",
      " 85%|████████▍ | 176854/209037 [00:37<00:06, 4909.78it/s]\u001B[A\n",
      " 85%|████████▍ | 177346/209037 [00:37<00:06, 4886.43it/s]\u001B[A\n",
      " 85%|████████▌ | 177836/209037 [00:37<00:06, 4829.23it/s]\u001B[A\n",
      " 85%|████████▌ | 178320/209037 [00:37<00:06, 4767.17it/s]\u001B[A\n",
      " 86%|████████▌ | 178838/209037 [00:37<00:06, 4886.96it/s]\u001B[A\n",
      " 86%|████████▌ | 179328/209037 [00:37<00:06, 4653.50it/s]\u001B[A\n",
      " 86%|████████▌ | 179803/209037 [00:37<00:06, 4679.20it/s]\u001B[A\n",
      " 86%|████████▋ | 180295/209037 [00:38<00:06, 4748.67it/s]\u001B[A\n",
      " 86%|████████▋ | 180772/209037 [00:38<00:06, 4608.09it/s]\u001B[A\n",
      " 87%|████████▋ | 181281/209037 [00:38<00:05, 4746.39it/s]\u001B[A\n",
      " 87%|████████▋ | 181758/209037 [00:38<00:06, 4494.16it/s]\u001B[A\n",
      " 87%|████████▋ | 182211/209037 [00:38<00:05, 4494.82it/s]\u001B[A\n",
      " 87%|████████▋ | 182663/209037 [00:38<00:05, 4494.93it/s]\u001B[A\n",
      " 88%|████████▊ | 183155/209037 [00:38<00:05, 4616.34it/s]\u001B[A\n",
      " 88%|████████▊ | 183656/209037 [00:38<00:05, 4729.70it/s]\u001B[A\n",
      " 88%|████████▊ | 184145/209037 [00:38<00:05, 4774.43it/s]\u001B[A\n",
      " 88%|████████▊ | 184624/209037 [00:38<00:05, 4770.27it/s]\u001B[A\n",
      " 89%|████████▊ | 185160/209037 [00:39<00:04, 4945.05it/s]\u001B[A\n",
      " 89%|████████▉ | 185656/209037 [00:39<00:04, 4680.06it/s]\u001B[A\n",
      " 89%|████████▉ | 186128/209037 [00:39<00:04, 4658.01it/s]\u001B[A\n",
      " 89%|████████▉ | 186597/209037 [00:39<00:04, 4506.43it/s]\u001B[A\n",
      " 90%|████████▉ | 187098/209037 [00:39<00:04, 4649.31it/s]\u001B[A\n",
      " 90%|████████▉ | 187566/209037 [00:39<00:04, 4534.05it/s]\u001B[A\n",
      " 90%|████████▉ | 188022/209037 [00:39<00:04, 4426.17it/s]\u001B[A\n",
      " 90%|█████████ | 188504/209037 [00:39<00:04, 4537.80it/s]\u001B[A\n",
      " 90%|█████████ | 188991/209037 [00:39<00:04, 4630.88it/s]\u001B[A\n",
      " 91%|█████████ | 189479/209037 [00:40<00:04, 4702.95it/s]\u001B[A\n",
      " 91%|█████████ | 189996/209037 [00:40<00:03, 4838.66it/s]\u001B[A\n",
      " 91%|█████████ | 190506/209037 [00:40<00:03, 4915.27it/s]\u001B[A\n",
      " 91%|█████████▏| 190999/209037 [00:40<00:03, 4855.89it/s]\u001B[A\n",
      " 92%|█████████▏| 191506/209037 [00:40<00:03, 4918.17it/s]\u001B[A\n",
      " 92%|█████████▏| 192008/209037 [00:40<00:03, 4945.24it/s]\u001B[A\n",
      " 92%|█████████▏| 192503/209037 [00:40<00:03, 4863.95it/s]\u001B[A\n",
      " 92%|█████████▏| 192990/209037 [00:40<00:03, 4806.98it/s]\u001B[A\n",
      " 93%|█████████▎| 193510/209037 [00:40<00:03, 4920.70it/s]\u001B[A\n",
      " 93%|█████████▎| 194003/209037 [00:40<00:03, 4857.42it/s]\u001B[A\n",
      " 93%|█████████▎| 194490/209037 [00:41<00:03, 4667.87it/s]\u001B[A\n",
      " 93%|█████████▎| 194959/209037 [00:41<00:03, 4526.57it/s]\u001B[A\n",
      " 93%|█████████▎| 195442/209037 [00:41<00:02, 4612.53it/s]\u001B[A\n",
      " 94%|█████████▎| 195936/209037 [00:41<00:02, 4702.80it/s]\u001B[A\n",
      " 94%|█████████▍| 196408/209037 [00:41<00:02, 4490.90it/s]\u001B[A\n",
      " 94%|█████████▍| 196860/209037 [00:41<00:02, 4474.06it/s]\u001B[A\n",
      " 94%|█████████▍| 197310/209037 [00:41<00:02, 4451.80it/s]\u001B[A\n",
      " 95%|█████████▍| 197757/209037 [00:41<00:02, 4343.71it/s]\u001B[A\n",
      " 95%|█████████▍| 198196/209037 [00:41<00:02, 4356.33it/s]\u001B[A\n",
      " 95%|█████████▌| 198648/209037 [00:42<00:02, 4400.30it/s]\u001B[A\n",
      " 95%|█████████▌| 199089/209037 [00:42<00:02, 4377.07it/s]\u001B[A\n",
      " 96%|█████████▌| 199656/209037 [00:42<00:01, 4756.27it/s]\u001B[A\n",
      " 96%|█████████▌| 200133/209037 [00:42<00:01, 4713.73it/s]\u001B[A\n",
      " 96%|█████████▌| 200606/209037 [00:42<00:01, 4594.61it/s]\u001B[A\n",
      " 96%|█████████▌| 201067/209037 [00:42<00:01, 4510.54it/s]\u001B[A\n",
      " 96%|█████████▋| 201519/209037 [00:42<00:01, 4205.38it/s]\u001B[A\n",
      " 97%|█████████▋| 202001/209037 [00:42<00:01, 4375.12it/s]\u001B[A\n",
      " 97%|█████████▋| 202443/209037 [00:42<00:01, 4219.94it/s]\u001B[A\n",
      " 97%|█████████▋| 202906/209037 [00:42<00:01, 4334.39it/s]\u001B[A\n",
      " 97%|█████████▋| 203467/209037 [00:43<00:01, 4698.70it/s]\u001B[A\n",
      " 98%|█████████▊| 203941/209037 [00:43<00:01, 4688.92it/s]\u001B[A\n",
      " 98%|█████████▊| 204470/209037 [00:43<00:00, 4864.42it/s]\u001B[A\n",
      " 98%|█████████▊| 204959/209037 [00:43<00:00, 4758.75it/s]\u001B[A\n",
      " 98%|█████████▊| 205437/209037 [00:43<00:00, 4416.87it/s]\u001B[A\n",
      " 99%|█████████▊| 205967/209037 [00:43<00:00, 4660.12it/s]\u001B[A\n",
      " 99%|█████████▉| 206451/209037 [00:43<00:00, 4710.03it/s]\u001B[A\n",
      " 99%|█████████▉| 206940/209037 [00:43<00:00, 4761.05it/s]\u001B[A\n",
      " 99%|█████████▉| 207446/209037 [00:43<00:00, 4847.54it/s]\u001B[A\n",
      " 99%|█████████▉| 207934/209037 [00:44<00:00, 4705.11it/s]\u001B[A\n",
      "100%|█████████▉| 208408/209037 [00:44<00:00, 4524.40it/s]\u001B[A\n",
      "100%|██████████| 209037/209037 [00:44<00:00, 4720.26it/s]\u001B[A\n"
     ]
    }
   ],
   "source": [
    "dic_iot_terms = {term:Counter() for term in lst_iot}\n",
    "for row in tqdm.tqdm(df_iot.itertuples(index=False, name=None), total=df_iot.shape[0]):\n",
    "    ab = row[1]\n",
    "    py = row[3]\n",
    "    for term in lst_iot:\n",
    "        m = re.search(dic_reg[term], string=ab)\n",
    "        if m:\n",
    "            dic_iot_terms[term][int(py)] += 1\n",
    "\n",
    "\n"
   ],
   "metadata": {
    "collapsed": false
   }
  },
  {
   "cell_type": "code",
   "execution_count": 193,
   "outputs": [],
   "source": [
    "df_terms = pd.DataFrame.from_dict(dic_iot_terms, orient='index')"
   ],
   "metadata": {
    "collapsed": false
   }
  },
  {
   "cell_type": "code",
   "execution_count": 194,
   "outputs": [],
   "source": [
    "df_terms = df_terms.loc[:, [i for i in range(2010,2023)]]"
   ],
   "metadata": {
    "collapsed": false
   }
  },
  {
   "cell_type": "code",
   "execution_count": 209,
   "outputs": [
    {
     "data": {
      "text/plain": "      Internet of things      IoT  Sensor network\\w*  Wearable\\w*  \\\n2010                85.0     74.0             3924.0        502.0   \n2011               290.0    180.0             4017.0        581.0   \n2012               472.0    320.0             4574.0        669.0   \n2013               761.0    512.0             5533.0       1023.0   \n2014              1259.0    972.0             5760.0       1525.0   \n2015              2394.0   2135.0             6673.0       2669.0   \n2016              3946.0   3883.0             6338.0       3788.0   \n2017              5859.0   6187.0             6117.0       4870.0   \n2018              7793.0   8986.0             5548.0       5670.0   \n2019              9310.0  10921.0             5045.0       6753.0   \n2020              8921.0  10738.0             4305.0       7357.0   \n2021              3537.0   4475.0             1335.0       1973.0   \n\n      Wireless sensor network\\w*  \n2010                      2540.0  \n2011                      2801.0  \n2012                      3229.0  \n2013                      3916.0  \n2014                      4200.0  \n2015                      4886.0  \n2016                      4651.0  \n2017                      4428.0  \n2018                      3953.0  \n2019                      3522.0  \n2020                      2944.0  \n2021                       919.0  ",
      "text/html": "<div>\n<style scoped>\n    .dataframe tbody tr th:only-of-type {\n        vertical-align: middle;\n    }\n\n    .dataframe tbody tr th {\n        vertical-align: top;\n    }\n\n    .dataframe thead th {\n        text-align: right;\n    }\n</style>\n<table border=\"1\" class=\"dataframe\">\n  <thead>\n    <tr style=\"text-align: right;\">\n      <th></th>\n      <th>Internet of things</th>\n      <th>IoT</th>\n      <th>Sensor network\\w*</th>\n      <th>Wearable\\w*</th>\n      <th>Wireless sensor network\\w*</th>\n    </tr>\n  </thead>\n  <tbody>\n    <tr>\n      <th>2010</th>\n      <td>85.0</td>\n      <td>74.0</td>\n      <td>3924.0</td>\n      <td>502.0</td>\n      <td>2540.0</td>\n    </tr>\n    <tr>\n      <th>2011</th>\n      <td>290.0</td>\n      <td>180.0</td>\n      <td>4017.0</td>\n      <td>581.0</td>\n      <td>2801.0</td>\n    </tr>\n    <tr>\n      <th>2012</th>\n      <td>472.0</td>\n      <td>320.0</td>\n      <td>4574.0</td>\n      <td>669.0</td>\n      <td>3229.0</td>\n    </tr>\n    <tr>\n      <th>2013</th>\n      <td>761.0</td>\n      <td>512.0</td>\n      <td>5533.0</td>\n      <td>1023.0</td>\n      <td>3916.0</td>\n    </tr>\n    <tr>\n      <th>2014</th>\n      <td>1259.0</td>\n      <td>972.0</td>\n      <td>5760.0</td>\n      <td>1525.0</td>\n      <td>4200.0</td>\n    </tr>\n    <tr>\n      <th>2015</th>\n      <td>2394.0</td>\n      <td>2135.0</td>\n      <td>6673.0</td>\n      <td>2669.0</td>\n      <td>4886.0</td>\n    </tr>\n    <tr>\n      <th>2016</th>\n      <td>3946.0</td>\n      <td>3883.0</td>\n      <td>6338.0</td>\n      <td>3788.0</td>\n      <td>4651.0</td>\n    </tr>\n    <tr>\n      <th>2017</th>\n      <td>5859.0</td>\n      <td>6187.0</td>\n      <td>6117.0</td>\n      <td>4870.0</td>\n      <td>4428.0</td>\n    </tr>\n    <tr>\n      <th>2018</th>\n      <td>7793.0</td>\n      <td>8986.0</td>\n      <td>5548.0</td>\n      <td>5670.0</td>\n      <td>3953.0</td>\n    </tr>\n    <tr>\n      <th>2019</th>\n      <td>9310.0</td>\n      <td>10921.0</td>\n      <td>5045.0</td>\n      <td>6753.0</td>\n      <td>3522.0</td>\n    </tr>\n    <tr>\n      <th>2020</th>\n      <td>8921.0</td>\n      <td>10738.0</td>\n      <td>4305.0</td>\n      <td>7357.0</td>\n      <td>2944.0</td>\n    </tr>\n    <tr>\n      <th>2021</th>\n      <td>3537.0</td>\n      <td>4475.0</td>\n      <td>1335.0</td>\n      <td>1973.0</td>\n      <td>919.0</td>\n    </tr>\n  </tbody>\n</table>\n</div>"
     },
     "execution_count": 209,
     "metadata": {},
     "output_type": "execute_result"
    }
   ],
   "source": [
    "df_t = df_terms.transpose().loc[2010:2021, :].fillna(0)\n",
    "df_t.loc['tot', :] = df_t.sum()\n",
    "mask = df_t.loc['tot', :] > 10000\n",
    "\n",
    "df_plot = df_t.loc[2010:2021, mask]\n",
    "df_plot"
   ],
   "metadata": {
    "collapsed": false
   }
  },
  {
   "cell_type": "code",
   "execution_count": 210,
   "outputs": [
    {
     "data": {
      "application/vnd.plotly.v1+json": {
       "data": [
        {
         "hovertemplate": "variable=Internet of things<br>index=%{x}<br>value=%{y}<extra></extra>",
         "legendgroup": "Internet of things",
         "line": {
          "color": "#636efa",
          "dash": "solid"
         },
         "marker": {
          "symbol": "circle"
         },
         "mode": "lines",
         "name": "Internet of things",
         "orientation": "v",
         "showlegend": true,
         "x": [
          2010,
          2011,
          2012,
          2013,
          2014,
          2015,
          2016,
          2017,
          2018,
          2019,
          2020,
          2021
         ],
         "xaxis": "x",
         "y": [
          85.0,
          290.0,
          472.0,
          761.0,
          1259.0,
          2394.0,
          3946.0,
          5859.0,
          7793.0,
          9310.0,
          8921.0,
          3537.0
         ],
         "yaxis": "y",
         "type": "scatter"
        },
        {
         "hovertemplate": "variable=IoT<br>index=%{x}<br>value=%{y}<extra></extra>",
         "legendgroup": "IoT",
         "line": {
          "color": "#EF553B",
          "dash": "solid"
         },
         "marker": {
          "symbol": "circle"
         },
         "mode": "lines",
         "name": "IoT",
         "orientation": "v",
         "showlegend": true,
         "x": [
          2010,
          2011,
          2012,
          2013,
          2014,
          2015,
          2016,
          2017,
          2018,
          2019,
          2020,
          2021
         ],
         "xaxis": "x",
         "y": [
          74.0,
          180.0,
          320.0,
          512.0,
          972.0,
          2135.0,
          3883.0,
          6187.0,
          8986.0,
          10921.0,
          10738.0,
          4475.0
         ],
         "yaxis": "y",
         "type": "scatter"
        },
        {
         "hovertemplate": "variable=Sensor network\\w*<br>index=%{x}<br>value=%{y}<extra></extra>",
         "legendgroup": "Sensor network\\w*",
         "line": {
          "color": "#00cc96",
          "dash": "solid"
         },
         "marker": {
          "symbol": "circle"
         },
         "mode": "lines",
         "name": "Sensor network\\w*",
         "orientation": "v",
         "showlegend": true,
         "x": [
          2010,
          2011,
          2012,
          2013,
          2014,
          2015,
          2016,
          2017,
          2018,
          2019,
          2020,
          2021
         ],
         "xaxis": "x",
         "y": [
          3924.0,
          4017.0,
          4574.0,
          5533.0,
          5760.0,
          6673.0,
          6338.0,
          6117.0,
          5548.0,
          5045.0,
          4305.0,
          1335.0
         ],
         "yaxis": "y",
         "type": "scatter"
        },
        {
         "hovertemplate": "variable=Wearable\\w*<br>index=%{x}<br>value=%{y}<extra></extra>",
         "legendgroup": "Wearable\\w*",
         "line": {
          "color": "#ab63fa",
          "dash": "solid"
         },
         "marker": {
          "symbol": "circle"
         },
         "mode": "lines",
         "name": "Wearable\\w*",
         "orientation": "v",
         "showlegend": true,
         "x": [
          2010,
          2011,
          2012,
          2013,
          2014,
          2015,
          2016,
          2017,
          2018,
          2019,
          2020,
          2021
         ],
         "xaxis": "x",
         "y": [
          502.0,
          581.0,
          669.0,
          1023.0,
          1525.0,
          2669.0,
          3788.0,
          4870.0,
          5670.0,
          6753.0,
          7357.0,
          1973.0
         ],
         "yaxis": "y",
         "type": "scatter"
        },
        {
         "hovertemplate": "variable=Wireless sensor network\\w*<br>index=%{x}<br>value=%{y}<extra></extra>",
         "legendgroup": "Wireless sensor network\\w*",
         "line": {
          "color": "#FFA15A",
          "dash": "solid"
         },
         "marker": {
          "symbol": "circle"
         },
         "mode": "lines",
         "name": "Wireless sensor network\\w*",
         "orientation": "v",
         "showlegend": true,
         "x": [
          2010,
          2011,
          2012,
          2013,
          2014,
          2015,
          2016,
          2017,
          2018,
          2019,
          2020,
          2021
         ],
         "xaxis": "x",
         "y": [
          2540.0,
          2801.0,
          3229.0,
          3916.0,
          4200.0,
          4886.0,
          4651.0,
          4428.0,
          3953.0,
          3522.0,
          2944.0,
          919.0
         ],
         "yaxis": "y",
         "type": "scatter"
        }
       ],
       "layout": {
        "template": {
         "data": {
          "barpolar": [
           {
            "marker": {
             "line": {
              "color": "white",
              "width": 0.5
             },
             "pattern": {
              "fillmode": "overlay",
              "size": 10,
              "solidity": 0.2
             }
            },
            "type": "barpolar"
           }
          ],
          "bar": [
           {
            "error_x": {
             "color": "rgb(36,36,36)"
            },
            "error_y": {
             "color": "rgb(36,36,36)"
            },
            "marker": {
             "line": {
              "color": "white",
              "width": 0.5
             },
             "pattern": {
              "fillmode": "overlay",
              "size": 10,
              "solidity": 0.2
             }
            },
            "type": "bar"
           }
          ],
          "carpet": [
           {
            "aaxis": {
             "endlinecolor": "rgb(36,36,36)",
             "gridcolor": "white",
             "linecolor": "white",
             "minorgridcolor": "white",
             "startlinecolor": "rgb(36,36,36)"
            },
            "baxis": {
             "endlinecolor": "rgb(36,36,36)",
             "gridcolor": "white",
             "linecolor": "white",
             "minorgridcolor": "white",
             "startlinecolor": "rgb(36,36,36)"
            },
            "type": "carpet"
           }
          ],
          "choropleth": [
           {
            "colorbar": {
             "outlinewidth": 1,
             "tickcolor": "rgb(36,36,36)",
             "ticks": "outside"
            },
            "type": "choropleth"
           }
          ],
          "contourcarpet": [
           {
            "colorbar": {
             "outlinewidth": 1,
             "tickcolor": "rgb(36,36,36)",
             "ticks": "outside"
            },
            "type": "contourcarpet"
           }
          ],
          "contour": [
           {
            "colorbar": {
             "outlinewidth": 1,
             "tickcolor": "rgb(36,36,36)",
             "ticks": "outside"
            },
            "colorscale": [
             [
              0.0,
              "#440154"
             ],
             [
              0.1111111111111111,
              "#482878"
             ],
             [
              0.2222222222222222,
              "#3e4989"
             ],
             [
              0.3333333333333333,
              "#31688e"
             ],
             [
              0.4444444444444444,
              "#26828e"
             ],
             [
              0.5555555555555556,
              "#1f9e89"
             ],
             [
              0.6666666666666666,
              "#35b779"
             ],
             [
              0.7777777777777778,
              "#6ece58"
             ],
             [
              0.8888888888888888,
              "#b5de2b"
             ],
             [
              1.0,
              "#fde725"
             ]
            ],
            "type": "contour"
           }
          ],
          "heatmapgl": [
           {
            "colorbar": {
             "outlinewidth": 1,
             "tickcolor": "rgb(36,36,36)",
             "ticks": "outside"
            },
            "colorscale": [
             [
              0.0,
              "#440154"
             ],
             [
              0.1111111111111111,
              "#482878"
             ],
             [
              0.2222222222222222,
              "#3e4989"
             ],
             [
              0.3333333333333333,
              "#31688e"
             ],
             [
              0.4444444444444444,
              "#26828e"
             ],
             [
              0.5555555555555556,
              "#1f9e89"
             ],
             [
              0.6666666666666666,
              "#35b779"
             ],
             [
              0.7777777777777778,
              "#6ece58"
             ],
             [
              0.8888888888888888,
              "#b5de2b"
             ],
             [
              1.0,
              "#fde725"
             ]
            ],
            "type": "heatmapgl"
           }
          ],
          "heatmap": [
           {
            "colorbar": {
             "outlinewidth": 1,
             "tickcolor": "rgb(36,36,36)",
             "ticks": "outside"
            },
            "colorscale": [
             [
              0.0,
              "#440154"
             ],
             [
              0.1111111111111111,
              "#482878"
             ],
             [
              0.2222222222222222,
              "#3e4989"
             ],
             [
              0.3333333333333333,
              "#31688e"
             ],
             [
              0.4444444444444444,
              "#26828e"
             ],
             [
              0.5555555555555556,
              "#1f9e89"
             ],
             [
              0.6666666666666666,
              "#35b779"
             ],
             [
              0.7777777777777778,
              "#6ece58"
             ],
             [
              0.8888888888888888,
              "#b5de2b"
             ],
             [
              1.0,
              "#fde725"
             ]
            ],
            "type": "heatmap"
           }
          ],
          "histogram2dcontour": [
           {
            "colorbar": {
             "outlinewidth": 1,
             "tickcolor": "rgb(36,36,36)",
             "ticks": "outside"
            },
            "colorscale": [
             [
              0.0,
              "#440154"
             ],
             [
              0.1111111111111111,
              "#482878"
             ],
             [
              0.2222222222222222,
              "#3e4989"
             ],
             [
              0.3333333333333333,
              "#31688e"
             ],
             [
              0.4444444444444444,
              "#26828e"
             ],
             [
              0.5555555555555556,
              "#1f9e89"
             ],
             [
              0.6666666666666666,
              "#35b779"
             ],
             [
              0.7777777777777778,
              "#6ece58"
             ],
             [
              0.8888888888888888,
              "#b5de2b"
             ],
             [
              1.0,
              "#fde725"
             ]
            ],
            "type": "histogram2dcontour"
           }
          ],
          "histogram2d": [
           {
            "colorbar": {
             "outlinewidth": 1,
             "tickcolor": "rgb(36,36,36)",
             "ticks": "outside"
            },
            "colorscale": [
             [
              0.0,
              "#440154"
             ],
             [
              0.1111111111111111,
              "#482878"
             ],
             [
              0.2222222222222222,
              "#3e4989"
             ],
             [
              0.3333333333333333,
              "#31688e"
             ],
             [
              0.4444444444444444,
              "#26828e"
             ],
             [
              0.5555555555555556,
              "#1f9e89"
             ],
             [
              0.6666666666666666,
              "#35b779"
             ],
             [
              0.7777777777777778,
              "#6ece58"
             ],
             [
              0.8888888888888888,
              "#b5de2b"
             ],
             [
              1.0,
              "#fde725"
             ]
            ],
            "type": "histogram2d"
           }
          ],
          "histogram": [
           {
            "marker": {
             "line": {
              "color": "white",
              "width": 0.6
             }
            },
            "type": "histogram"
           }
          ],
          "mesh3d": [
           {
            "colorbar": {
             "outlinewidth": 1,
             "tickcolor": "rgb(36,36,36)",
             "ticks": "outside"
            },
            "type": "mesh3d"
           }
          ],
          "parcoords": [
           {
            "line": {
             "colorbar": {
              "outlinewidth": 1,
              "tickcolor": "rgb(36,36,36)",
              "ticks": "outside"
             }
            },
            "type": "parcoords"
           }
          ],
          "pie": [
           {
            "automargin": true,
            "type": "pie"
           }
          ],
          "scatter3d": [
           {
            "line": {
             "colorbar": {
              "outlinewidth": 1,
              "tickcolor": "rgb(36,36,36)",
              "ticks": "outside"
             }
            },
            "marker": {
             "colorbar": {
              "outlinewidth": 1,
              "tickcolor": "rgb(36,36,36)",
              "ticks": "outside"
             }
            },
            "type": "scatter3d"
           }
          ],
          "scattercarpet": [
           {
            "marker": {
             "colorbar": {
              "outlinewidth": 1,
              "tickcolor": "rgb(36,36,36)",
              "ticks": "outside"
             }
            },
            "type": "scattercarpet"
           }
          ],
          "scattergeo": [
           {
            "marker": {
             "colorbar": {
              "outlinewidth": 1,
              "tickcolor": "rgb(36,36,36)",
              "ticks": "outside"
             }
            },
            "type": "scattergeo"
           }
          ],
          "scattergl": [
           {
            "marker": {
             "colorbar": {
              "outlinewidth": 1,
              "tickcolor": "rgb(36,36,36)",
              "ticks": "outside"
             }
            },
            "type": "scattergl"
           }
          ],
          "scattermapbox": [
           {
            "marker": {
             "colorbar": {
              "outlinewidth": 1,
              "tickcolor": "rgb(36,36,36)",
              "ticks": "outside"
             }
            },
            "type": "scattermapbox"
           }
          ],
          "scatterpolargl": [
           {
            "marker": {
             "colorbar": {
              "outlinewidth": 1,
              "tickcolor": "rgb(36,36,36)",
              "ticks": "outside"
             }
            },
            "type": "scatterpolargl"
           }
          ],
          "scatterpolar": [
           {
            "marker": {
             "colorbar": {
              "outlinewidth": 1,
              "tickcolor": "rgb(36,36,36)",
              "ticks": "outside"
             }
            },
            "type": "scatterpolar"
           }
          ],
          "scatter": [
           {
            "fillpattern": {
             "fillmode": "overlay",
             "size": 10,
             "solidity": 0.2
            },
            "type": "scatter"
           }
          ],
          "scatterternary": [
           {
            "marker": {
             "colorbar": {
              "outlinewidth": 1,
              "tickcolor": "rgb(36,36,36)",
              "ticks": "outside"
             }
            },
            "type": "scatterternary"
           }
          ],
          "surface": [
           {
            "colorbar": {
             "outlinewidth": 1,
             "tickcolor": "rgb(36,36,36)",
             "ticks": "outside"
            },
            "colorscale": [
             [
              0.0,
              "#440154"
             ],
             [
              0.1111111111111111,
              "#482878"
             ],
             [
              0.2222222222222222,
              "#3e4989"
             ],
             [
              0.3333333333333333,
              "#31688e"
             ],
             [
              0.4444444444444444,
              "#26828e"
             ],
             [
              0.5555555555555556,
              "#1f9e89"
             ],
             [
              0.6666666666666666,
              "#35b779"
             ],
             [
              0.7777777777777778,
              "#6ece58"
             ],
             [
              0.8888888888888888,
              "#b5de2b"
             ],
             [
              1.0,
              "#fde725"
             ]
            ],
            "type": "surface"
           }
          ],
          "table": [
           {
            "cells": {
             "fill": {
              "color": "rgb(237,237,237)"
             },
             "line": {
              "color": "white"
             }
            },
            "header": {
             "fill": {
              "color": "rgb(217,217,217)"
             },
             "line": {
              "color": "white"
             }
            },
            "type": "table"
           }
          ]
         },
         "layout": {
          "annotationdefaults": {
           "arrowhead": 0,
           "arrowwidth": 1
          },
          "autotypenumbers": "strict",
          "coloraxis": {
           "colorbar": {
            "outlinewidth": 1,
            "tickcolor": "rgb(36,36,36)",
            "ticks": "outside"
           }
          },
          "colorscale": {
           "diverging": [
            [
             0.0,
             "rgb(103,0,31)"
            ],
            [
             0.1,
             "rgb(178,24,43)"
            ],
            [
             0.2,
             "rgb(214,96,77)"
            ],
            [
             0.3,
             "rgb(244,165,130)"
            ],
            [
             0.4,
             "rgb(253,219,199)"
            ],
            [
             0.5,
             "rgb(247,247,247)"
            ],
            [
             0.6,
             "rgb(209,229,240)"
            ],
            [
             0.7,
             "rgb(146,197,222)"
            ],
            [
             0.8,
             "rgb(67,147,195)"
            ],
            [
             0.9,
             "rgb(33,102,172)"
            ],
            [
             1.0,
             "rgb(5,48,97)"
            ]
           ],
           "sequential": [
            [
             0.0,
             "#440154"
            ],
            [
             0.1111111111111111,
             "#482878"
            ],
            [
             0.2222222222222222,
             "#3e4989"
            ],
            [
             0.3333333333333333,
             "#31688e"
            ],
            [
             0.4444444444444444,
             "#26828e"
            ],
            [
             0.5555555555555556,
             "#1f9e89"
            ],
            [
             0.6666666666666666,
             "#35b779"
            ],
            [
             0.7777777777777778,
             "#6ece58"
            ],
            [
             0.8888888888888888,
             "#b5de2b"
            ],
            [
             1.0,
             "#fde725"
            ]
           ],
           "sequentialminus": [
            [
             0.0,
             "#440154"
            ],
            [
             0.1111111111111111,
             "#482878"
            ],
            [
             0.2222222222222222,
             "#3e4989"
            ],
            [
             0.3333333333333333,
             "#31688e"
            ],
            [
             0.4444444444444444,
             "#26828e"
            ],
            [
             0.5555555555555556,
             "#1f9e89"
            ],
            [
             0.6666666666666666,
             "#35b779"
            ],
            [
             0.7777777777777778,
             "#6ece58"
            ],
            [
             0.8888888888888888,
             "#b5de2b"
            ],
            [
             1.0,
             "#fde725"
            ]
           ]
          },
          "colorway": [
           "#1F77B4",
           "#FF7F0E",
           "#2CA02C",
           "#D62728",
           "#9467BD",
           "#8C564B",
           "#E377C2",
           "#7F7F7F",
           "#BCBD22",
           "#17BECF"
          ],
          "font": {
           "color": "rgb(36,36,36)"
          },
          "geo": {
           "bgcolor": "white",
           "lakecolor": "white",
           "landcolor": "white",
           "showlakes": true,
           "showland": true,
           "subunitcolor": "white"
          },
          "hoverlabel": {
           "align": "left"
          },
          "hovermode": "closest",
          "mapbox": {
           "style": "light"
          },
          "paper_bgcolor": "white",
          "plot_bgcolor": "white",
          "polar": {
           "angularaxis": {
            "gridcolor": "rgb(232,232,232)",
            "linecolor": "rgb(36,36,36)",
            "showgrid": false,
            "showline": true,
            "ticks": "outside"
           },
           "bgcolor": "white",
           "radialaxis": {
            "gridcolor": "rgb(232,232,232)",
            "linecolor": "rgb(36,36,36)",
            "showgrid": false,
            "showline": true,
            "ticks": "outside"
           }
          },
          "scene": {
           "xaxis": {
            "backgroundcolor": "white",
            "gridcolor": "rgb(232,232,232)",
            "gridwidth": 2,
            "linecolor": "rgb(36,36,36)",
            "showbackground": true,
            "showgrid": false,
            "showline": true,
            "ticks": "outside",
            "zeroline": false,
            "zerolinecolor": "rgb(36,36,36)"
           },
           "yaxis": {
            "backgroundcolor": "white",
            "gridcolor": "rgb(232,232,232)",
            "gridwidth": 2,
            "linecolor": "rgb(36,36,36)",
            "showbackground": true,
            "showgrid": false,
            "showline": true,
            "ticks": "outside",
            "zeroline": false,
            "zerolinecolor": "rgb(36,36,36)"
           },
           "zaxis": {
            "backgroundcolor": "white",
            "gridcolor": "rgb(232,232,232)",
            "gridwidth": 2,
            "linecolor": "rgb(36,36,36)",
            "showbackground": true,
            "showgrid": false,
            "showline": true,
            "ticks": "outside",
            "zeroline": false,
            "zerolinecolor": "rgb(36,36,36)"
           }
          },
          "shapedefaults": {
           "fillcolor": "black",
           "line": {
            "width": 0
           },
           "opacity": 0.3
          },
          "ternary": {
           "aaxis": {
            "gridcolor": "rgb(232,232,232)",
            "linecolor": "rgb(36,36,36)",
            "showgrid": false,
            "showline": true,
            "ticks": "outside"
           },
           "baxis": {
            "gridcolor": "rgb(232,232,232)",
            "linecolor": "rgb(36,36,36)",
            "showgrid": false,
            "showline": true,
            "ticks": "outside"
           },
           "bgcolor": "white",
           "caxis": {
            "gridcolor": "rgb(232,232,232)",
            "linecolor": "rgb(36,36,36)",
            "showgrid": false,
            "showline": true,
            "ticks": "outside"
           }
          },
          "title": {
           "x": 0.05
          },
          "xaxis": {
           "automargin": true,
           "gridcolor": "rgb(232,232,232)",
           "linecolor": "rgb(36,36,36)",
           "showgrid": false,
           "showline": true,
           "ticks": "outside",
           "title": {
            "standoff": 15
           },
           "zeroline": false,
           "zerolinecolor": "rgb(36,36,36)"
          },
          "yaxis": {
           "automargin": true,
           "gridcolor": "rgb(232,232,232)",
           "linecolor": "rgb(36,36,36)",
           "showgrid": false,
           "showline": true,
           "ticks": "outside",
           "title": {
            "standoff": 15
           },
           "zeroline": false,
           "zerolinecolor": "rgb(36,36,36)"
          }
         }
        },
        "xaxis": {
         "anchor": "y",
         "domain": [
          0.0,
          1.0
         ],
         "title": {
          "text": "index"
         }
        },
        "yaxis": {
         "anchor": "x",
         "domain": [
          0.0,
          1.0
         ],
         "title": {
          "text": "value"
         }
        },
        "legend": {
         "title": {
          "text": "variable"
         },
         "tracegroupgap": 0
        },
        "margin": {
         "t": 60
        }
       },
       "config": {
        "plotlyServerURL": "https://plot.ly"
       }
      },
      "text/html": "<div>                            <div id=\"c49ee9aa-03b5-4151-bf4a-5a3fc852e615\" class=\"plotly-graph-div\" style=\"height:525px; width:100%;\"></div>            <script type=\"text/javascript\">                require([\"plotly\"], function(Plotly) {                    window.PLOTLYENV=window.PLOTLYENV || {};                                    if (document.getElementById(\"c49ee9aa-03b5-4151-bf4a-5a3fc852e615\")) {                    Plotly.newPlot(                        \"c49ee9aa-03b5-4151-bf4a-5a3fc852e615\",                        [{\"hovertemplate\":\"variable=Internet of things<br>index=%{x}<br>value=%{y}<extra></extra>\",\"legendgroup\":\"Internet of things\",\"line\":{\"color\":\"#636efa\",\"dash\":\"solid\"},\"marker\":{\"symbol\":\"circle\"},\"mode\":\"lines\",\"name\":\"Internet of things\",\"orientation\":\"v\",\"showlegend\":true,\"x\":[2010,2011,2012,2013,2014,2015,2016,2017,2018,2019,2020,2021],\"xaxis\":\"x\",\"y\":[85.0,290.0,472.0,761.0,1259.0,2394.0,3946.0,5859.0,7793.0,9310.0,8921.0,3537.0],\"yaxis\":\"y\",\"type\":\"scatter\"},{\"hovertemplate\":\"variable=IoT<br>index=%{x}<br>value=%{y}<extra></extra>\",\"legendgroup\":\"IoT\",\"line\":{\"color\":\"#EF553B\",\"dash\":\"solid\"},\"marker\":{\"symbol\":\"circle\"},\"mode\":\"lines\",\"name\":\"IoT\",\"orientation\":\"v\",\"showlegend\":true,\"x\":[2010,2011,2012,2013,2014,2015,2016,2017,2018,2019,2020,2021],\"xaxis\":\"x\",\"y\":[74.0,180.0,320.0,512.0,972.0,2135.0,3883.0,6187.0,8986.0,10921.0,10738.0,4475.0],\"yaxis\":\"y\",\"type\":\"scatter\"},{\"hovertemplate\":\"variable=Sensor network\\\\w*<br>index=%{x}<br>value=%{y}<extra></extra>\",\"legendgroup\":\"Sensor network\\\\w*\",\"line\":{\"color\":\"#00cc96\",\"dash\":\"solid\"},\"marker\":{\"symbol\":\"circle\"},\"mode\":\"lines\",\"name\":\"Sensor network\\\\w*\",\"orientation\":\"v\",\"showlegend\":true,\"x\":[2010,2011,2012,2013,2014,2015,2016,2017,2018,2019,2020,2021],\"xaxis\":\"x\",\"y\":[3924.0,4017.0,4574.0,5533.0,5760.0,6673.0,6338.0,6117.0,5548.0,5045.0,4305.0,1335.0],\"yaxis\":\"y\",\"type\":\"scatter\"},{\"hovertemplate\":\"variable=Wearable\\\\w*<br>index=%{x}<br>value=%{y}<extra></extra>\",\"legendgroup\":\"Wearable\\\\w*\",\"line\":{\"color\":\"#ab63fa\",\"dash\":\"solid\"},\"marker\":{\"symbol\":\"circle\"},\"mode\":\"lines\",\"name\":\"Wearable\\\\w*\",\"orientation\":\"v\",\"showlegend\":true,\"x\":[2010,2011,2012,2013,2014,2015,2016,2017,2018,2019,2020,2021],\"xaxis\":\"x\",\"y\":[502.0,581.0,669.0,1023.0,1525.0,2669.0,3788.0,4870.0,5670.0,6753.0,7357.0,1973.0],\"yaxis\":\"y\",\"type\":\"scatter\"},{\"hovertemplate\":\"variable=Wireless sensor network\\\\w*<br>index=%{x}<br>value=%{y}<extra></extra>\",\"legendgroup\":\"Wireless sensor network\\\\w*\",\"line\":{\"color\":\"#FFA15A\",\"dash\":\"solid\"},\"marker\":{\"symbol\":\"circle\"},\"mode\":\"lines\",\"name\":\"Wireless sensor network\\\\w*\",\"orientation\":\"v\",\"showlegend\":true,\"x\":[2010,2011,2012,2013,2014,2015,2016,2017,2018,2019,2020,2021],\"xaxis\":\"x\",\"y\":[2540.0,2801.0,3229.0,3916.0,4200.0,4886.0,4651.0,4428.0,3953.0,3522.0,2944.0,919.0],\"yaxis\":\"y\",\"type\":\"scatter\"}],                        {\"template\":{\"data\":{\"barpolar\":[{\"marker\":{\"line\":{\"color\":\"white\",\"width\":0.5},\"pattern\":{\"fillmode\":\"overlay\",\"size\":10,\"solidity\":0.2}},\"type\":\"barpolar\"}],\"bar\":[{\"error_x\":{\"color\":\"rgb(36,36,36)\"},\"error_y\":{\"color\":\"rgb(36,36,36)\"},\"marker\":{\"line\":{\"color\":\"white\",\"width\":0.5},\"pattern\":{\"fillmode\":\"overlay\",\"size\":10,\"solidity\":0.2}},\"type\":\"bar\"}],\"carpet\":[{\"aaxis\":{\"endlinecolor\":\"rgb(36,36,36)\",\"gridcolor\":\"white\",\"linecolor\":\"white\",\"minorgridcolor\":\"white\",\"startlinecolor\":\"rgb(36,36,36)\"},\"baxis\":{\"endlinecolor\":\"rgb(36,36,36)\",\"gridcolor\":\"white\",\"linecolor\":\"white\",\"minorgridcolor\":\"white\",\"startlinecolor\":\"rgb(36,36,36)\"},\"type\":\"carpet\"}],\"choropleth\":[{\"colorbar\":{\"outlinewidth\":1,\"tickcolor\":\"rgb(36,36,36)\",\"ticks\":\"outside\"},\"type\":\"choropleth\"}],\"contourcarpet\":[{\"colorbar\":{\"outlinewidth\":1,\"tickcolor\":\"rgb(36,36,36)\",\"ticks\":\"outside\"},\"type\":\"contourcarpet\"}],\"contour\":[{\"colorbar\":{\"outlinewidth\":1,\"tickcolor\":\"rgb(36,36,36)\",\"ticks\":\"outside\"},\"colorscale\":[[0.0,\"#440154\"],[0.1111111111111111,\"#482878\"],[0.2222222222222222,\"#3e4989\"],[0.3333333333333333,\"#31688e\"],[0.4444444444444444,\"#26828e\"],[0.5555555555555556,\"#1f9e89\"],[0.6666666666666666,\"#35b779\"],[0.7777777777777778,\"#6ece58\"],[0.8888888888888888,\"#b5de2b\"],[1.0,\"#fde725\"]],\"type\":\"contour\"}],\"heatmapgl\":[{\"colorbar\":{\"outlinewidth\":1,\"tickcolor\":\"rgb(36,36,36)\",\"ticks\":\"outside\"},\"colorscale\":[[0.0,\"#440154\"],[0.1111111111111111,\"#482878\"],[0.2222222222222222,\"#3e4989\"],[0.3333333333333333,\"#31688e\"],[0.4444444444444444,\"#26828e\"],[0.5555555555555556,\"#1f9e89\"],[0.6666666666666666,\"#35b779\"],[0.7777777777777778,\"#6ece58\"],[0.8888888888888888,\"#b5de2b\"],[1.0,\"#fde725\"]],\"type\":\"heatmapgl\"}],\"heatmap\":[{\"colorbar\":{\"outlinewidth\":1,\"tickcolor\":\"rgb(36,36,36)\",\"ticks\":\"outside\"},\"colorscale\":[[0.0,\"#440154\"],[0.1111111111111111,\"#482878\"],[0.2222222222222222,\"#3e4989\"],[0.3333333333333333,\"#31688e\"],[0.4444444444444444,\"#26828e\"],[0.5555555555555556,\"#1f9e89\"],[0.6666666666666666,\"#35b779\"],[0.7777777777777778,\"#6ece58\"],[0.8888888888888888,\"#b5de2b\"],[1.0,\"#fde725\"]],\"type\":\"heatmap\"}],\"histogram2dcontour\":[{\"colorbar\":{\"outlinewidth\":1,\"tickcolor\":\"rgb(36,36,36)\",\"ticks\":\"outside\"},\"colorscale\":[[0.0,\"#440154\"],[0.1111111111111111,\"#482878\"],[0.2222222222222222,\"#3e4989\"],[0.3333333333333333,\"#31688e\"],[0.4444444444444444,\"#26828e\"],[0.5555555555555556,\"#1f9e89\"],[0.6666666666666666,\"#35b779\"],[0.7777777777777778,\"#6ece58\"],[0.8888888888888888,\"#b5de2b\"],[1.0,\"#fde725\"]],\"type\":\"histogram2dcontour\"}],\"histogram2d\":[{\"colorbar\":{\"outlinewidth\":1,\"tickcolor\":\"rgb(36,36,36)\",\"ticks\":\"outside\"},\"colorscale\":[[0.0,\"#440154\"],[0.1111111111111111,\"#482878\"],[0.2222222222222222,\"#3e4989\"],[0.3333333333333333,\"#31688e\"],[0.4444444444444444,\"#26828e\"],[0.5555555555555556,\"#1f9e89\"],[0.6666666666666666,\"#35b779\"],[0.7777777777777778,\"#6ece58\"],[0.8888888888888888,\"#b5de2b\"],[1.0,\"#fde725\"]],\"type\":\"histogram2d\"}],\"histogram\":[{\"marker\":{\"line\":{\"color\":\"white\",\"width\":0.6}},\"type\":\"histogram\"}],\"mesh3d\":[{\"colorbar\":{\"outlinewidth\":1,\"tickcolor\":\"rgb(36,36,36)\",\"ticks\":\"outside\"},\"type\":\"mesh3d\"}],\"parcoords\":[{\"line\":{\"colorbar\":{\"outlinewidth\":1,\"tickcolor\":\"rgb(36,36,36)\",\"ticks\":\"outside\"}},\"type\":\"parcoords\"}],\"pie\":[{\"automargin\":true,\"type\":\"pie\"}],\"scatter3d\":[{\"line\":{\"colorbar\":{\"outlinewidth\":1,\"tickcolor\":\"rgb(36,36,36)\",\"ticks\":\"outside\"}},\"marker\":{\"colorbar\":{\"outlinewidth\":1,\"tickcolor\":\"rgb(36,36,36)\",\"ticks\":\"outside\"}},\"type\":\"scatter3d\"}],\"scattercarpet\":[{\"marker\":{\"colorbar\":{\"outlinewidth\":1,\"tickcolor\":\"rgb(36,36,36)\",\"ticks\":\"outside\"}},\"type\":\"scattercarpet\"}],\"scattergeo\":[{\"marker\":{\"colorbar\":{\"outlinewidth\":1,\"tickcolor\":\"rgb(36,36,36)\",\"ticks\":\"outside\"}},\"type\":\"scattergeo\"}],\"scattergl\":[{\"marker\":{\"colorbar\":{\"outlinewidth\":1,\"tickcolor\":\"rgb(36,36,36)\",\"ticks\":\"outside\"}},\"type\":\"scattergl\"}],\"scattermapbox\":[{\"marker\":{\"colorbar\":{\"outlinewidth\":1,\"tickcolor\":\"rgb(36,36,36)\",\"ticks\":\"outside\"}},\"type\":\"scattermapbox\"}],\"scatterpolargl\":[{\"marker\":{\"colorbar\":{\"outlinewidth\":1,\"tickcolor\":\"rgb(36,36,36)\",\"ticks\":\"outside\"}},\"type\":\"scatterpolargl\"}],\"scatterpolar\":[{\"marker\":{\"colorbar\":{\"outlinewidth\":1,\"tickcolor\":\"rgb(36,36,36)\",\"ticks\":\"outside\"}},\"type\":\"scatterpolar\"}],\"scatter\":[{\"fillpattern\":{\"fillmode\":\"overlay\",\"size\":10,\"solidity\":0.2},\"type\":\"scatter\"}],\"scatterternary\":[{\"marker\":{\"colorbar\":{\"outlinewidth\":1,\"tickcolor\":\"rgb(36,36,36)\",\"ticks\":\"outside\"}},\"type\":\"scatterternary\"}],\"surface\":[{\"colorbar\":{\"outlinewidth\":1,\"tickcolor\":\"rgb(36,36,36)\",\"ticks\":\"outside\"},\"colorscale\":[[0.0,\"#440154\"],[0.1111111111111111,\"#482878\"],[0.2222222222222222,\"#3e4989\"],[0.3333333333333333,\"#31688e\"],[0.4444444444444444,\"#26828e\"],[0.5555555555555556,\"#1f9e89\"],[0.6666666666666666,\"#35b779\"],[0.7777777777777778,\"#6ece58\"],[0.8888888888888888,\"#b5de2b\"],[1.0,\"#fde725\"]],\"type\":\"surface\"}],\"table\":[{\"cells\":{\"fill\":{\"color\":\"rgb(237,237,237)\"},\"line\":{\"color\":\"white\"}},\"header\":{\"fill\":{\"color\":\"rgb(217,217,217)\"},\"line\":{\"color\":\"white\"}},\"type\":\"table\"}]},\"layout\":{\"annotationdefaults\":{\"arrowhead\":0,\"arrowwidth\":1},\"autotypenumbers\":\"strict\",\"coloraxis\":{\"colorbar\":{\"outlinewidth\":1,\"tickcolor\":\"rgb(36,36,36)\",\"ticks\":\"outside\"}},\"colorscale\":{\"diverging\":[[0.0,\"rgb(103,0,31)\"],[0.1,\"rgb(178,24,43)\"],[0.2,\"rgb(214,96,77)\"],[0.3,\"rgb(244,165,130)\"],[0.4,\"rgb(253,219,199)\"],[0.5,\"rgb(247,247,247)\"],[0.6,\"rgb(209,229,240)\"],[0.7,\"rgb(146,197,222)\"],[0.8,\"rgb(67,147,195)\"],[0.9,\"rgb(33,102,172)\"],[1.0,\"rgb(5,48,97)\"]],\"sequential\":[[0.0,\"#440154\"],[0.1111111111111111,\"#482878\"],[0.2222222222222222,\"#3e4989\"],[0.3333333333333333,\"#31688e\"],[0.4444444444444444,\"#26828e\"],[0.5555555555555556,\"#1f9e89\"],[0.6666666666666666,\"#35b779\"],[0.7777777777777778,\"#6ece58\"],[0.8888888888888888,\"#b5de2b\"],[1.0,\"#fde725\"]],\"sequentialminus\":[[0.0,\"#440154\"],[0.1111111111111111,\"#482878\"],[0.2222222222222222,\"#3e4989\"],[0.3333333333333333,\"#31688e\"],[0.4444444444444444,\"#26828e\"],[0.5555555555555556,\"#1f9e89\"],[0.6666666666666666,\"#35b779\"],[0.7777777777777778,\"#6ece58\"],[0.8888888888888888,\"#b5de2b\"],[1.0,\"#fde725\"]]},\"colorway\":[\"#1F77B4\",\"#FF7F0E\",\"#2CA02C\",\"#D62728\",\"#9467BD\",\"#8C564B\",\"#E377C2\",\"#7F7F7F\",\"#BCBD22\",\"#17BECF\"],\"font\":{\"color\":\"rgb(36,36,36)\"},\"geo\":{\"bgcolor\":\"white\",\"lakecolor\":\"white\",\"landcolor\":\"white\",\"showlakes\":true,\"showland\":true,\"subunitcolor\":\"white\"},\"hoverlabel\":{\"align\":\"left\"},\"hovermode\":\"closest\",\"mapbox\":{\"style\":\"light\"},\"paper_bgcolor\":\"white\",\"plot_bgcolor\":\"white\",\"polar\":{\"angularaxis\":{\"gridcolor\":\"rgb(232,232,232)\",\"linecolor\":\"rgb(36,36,36)\",\"showgrid\":false,\"showline\":true,\"ticks\":\"outside\"},\"bgcolor\":\"white\",\"radialaxis\":{\"gridcolor\":\"rgb(232,232,232)\",\"linecolor\":\"rgb(36,36,36)\",\"showgrid\":false,\"showline\":true,\"ticks\":\"outside\"}},\"scene\":{\"xaxis\":{\"backgroundcolor\":\"white\",\"gridcolor\":\"rgb(232,232,232)\",\"gridwidth\":2,\"linecolor\":\"rgb(36,36,36)\",\"showbackground\":true,\"showgrid\":false,\"showline\":true,\"ticks\":\"outside\",\"zeroline\":false,\"zerolinecolor\":\"rgb(36,36,36)\"},\"yaxis\":{\"backgroundcolor\":\"white\",\"gridcolor\":\"rgb(232,232,232)\",\"gridwidth\":2,\"linecolor\":\"rgb(36,36,36)\",\"showbackground\":true,\"showgrid\":false,\"showline\":true,\"ticks\":\"outside\",\"zeroline\":false,\"zerolinecolor\":\"rgb(36,36,36)\"},\"zaxis\":{\"backgroundcolor\":\"white\",\"gridcolor\":\"rgb(232,232,232)\",\"gridwidth\":2,\"linecolor\":\"rgb(36,36,36)\",\"showbackground\":true,\"showgrid\":false,\"showline\":true,\"ticks\":\"outside\",\"zeroline\":false,\"zerolinecolor\":\"rgb(36,36,36)\"}},\"shapedefaults\":{\"fillcolor\":\"black\",\"line\":{\"width\":0},\"opacity\":0.3},\"ternary\":{\"aaxis\":{\"gridcolor\":\"rgb(232,232,232)\",\"linecolor\":\"rgb(36,36,36)\",\"showgrid\":false,\"showline\":true,\"ticks\":\"outside\"},\"baxis\":{\"gridcolor\":\"rgb(232,232,232)\",\"linecolor\":\"rgb(36,36,36)\",\"showgrid\":false,\"showline\":true,\"ticks\":\"outside\"},\"bgcolor\":\"white\",\"caxis\":{\"gridcolor\":\"rgb(232,232,232)\",\"linecolor\":\"rgb(36,36,36)\",\"showgrid\":false,\"showline\":true,\"ticks\":\"outside\"}},\"title\":{\"x\":0.05},\"xaxis\":{\"automargin\":true,\"gridcolor\":\"rgb(232,232,232)\",\"linecolor\":\"rgb(36,36,36)\",\"showgrid\":false,\"showline\":true,\"ticks\":\"outside\",\"title\":{\"standoff\":15},\"zeroline\":false,\"zerolinecolor\":\"rgb(36,36,36)\"},\"yaxis\":{\"automargin\":true,\"gridcolor\":\"rgb(232,232,232)\",\"linecolor\":\"rgb(36,36,36)\",\"showgrid\":false,\"showline\":true,\"ticks\":\"outside\",\"title\":{\"standoff\":15},\"zeroline\":false,\"zerolinecolor\":\"rgb(36,36,36)\"}}},\"xaxis\":{\"anchor\":\"y\",\"domain\":[0.0,1.0],\"title\":{\"text\":\"index\"}},\"yaxis\":{\"anchor\":\"x\",\"domain\":[0.0,1.0],\"title\":{\"text\":\"value\"}},\"legend\":{\"title\":{\"text\":\"variable\"},\"tracegroupgap\":0},\"margin\":{\"t\":60}},                        {\"responsive\": true}                    ).then(function(){\n                            \nvar gd = document.getElementById('c49ee9aa-03b5-4151-bf4a-5a3fc852e615');\nvar x = new MutationObserver(function (mutations, observer) {{\n        var display = window.getComputedStyle(gd).display;\n        if (!display || display === 'none') {{\n            console.log([gd, 'removed!']);\n            Plotly.purge(gd);\n            observer.disconnect();\n        }}\n}});\n\n// Listen for the removal of the full notebook cells\nvar notebookContainer = gd.closest('#notebook-container');\nif (notebookContainer) {{\n    x.observe(notebookContainer, {childList: true});\n}}\n\n// Listen for the clearing of the current output cell\nvar outputEl = gd.closest('.output');\nif (outputEl) {{\n    x.observe(outputEl, {childList: true});\n}}\n\n                        })                };                });            </script>        </div>"
     },
     "metadata": {},
     "output_type": "display_data"
    }
   ],
   "source": [
    "import plotly.express as px\n",
    "fig = px.line(data_frame=df_plot)\n",
    "fig.update_layout(template=\"simple_white\")"
   ],
   "metadata": {
    "collapsed": false
   }
  },
  {
   "cell_type": "code",
   "execution_count": 181,
   "outputs": [],
   "source": [
    "dic_countries_frac = {country:{year:0 for year in range(2010,2022)} for country in final_pop.index}"
   ],
   "metadata": {
    "collapsed": false
   }
  },
  {
   "cell_type": "code",
   "execution_count": 182,
   "outputs": [
    {
     "data": {
      "text/plain": "{'EU': {2010: 0,\n  2011: 0,\n  2012: 0,\n  2013: 0,\n  2014: 0,\n  2015: 0,\n  2016: 0,\n  2017: 0,\n  2018: 0,\n  2019: 0,\n  2020: 0,\n  2021: 0},\n 'China': {2010: 0,\n  2011: 0,\n  2012: 0,\n  2013: 0,\n  2014: 0,\n  2015: 0,\n  2016: 0,\n  2017: 0,\n  2018: 0,\n  2019: 0,\n  2020: 0,\n  2021: 0},\n 'United States': {2010: 0,\n  2011: 0,\n  2012: 0,\n  2013: 0,\n  2014: 0,\n  2015: 0,\n  2016: 0,\n  2017: 0,\n  2018: 0,\n  2019: 0,\n  2020: 0,\n  2021: 0},\n 'Austria': {2010: 0,\n  2011: 0,\n  2012: 0,\n  2013: 0,\n  2014: 0,\n  2015: 0,\n  2016: 0,\n  2017: 0,\n  2018: 0,\n  2019: 0,\n  2020: 0,\n  2021: 0},\n 'Belgium': {2010: 0,\n  2011: 0,\n  2012: 0,\n  2013: 0,\n  2014: 0,\n  2015: 0,\n  2016: 0,\n  2017: 0,\n  2018: 0,\n  2019: 0,\n  2020: 0,\n  2021: 0},\n 'Bulgaria': {2010: 0,\n  2011: 0,\n  2012: 0,\n  2013: 0,\n  2014: 0,\n  2015: 0,\n  2016: 0,\n  2017: 0,\n  2018: 0,\n  2019: 0,\n  2020: 0,\n  2021: 0},\n 'Croatia': {2010: 0,\n  2011: 0,\n  2012: 0,\n  2013: 0,\n  2014: 0,\n  2015: 0,\n  2016: 0,\n  2017: 0,\n  2018: 0,\n  2019: 0,\n  2020: 0,\n  2021: 0},\n 'Hungary': {2010: 0,\n  2011: 0,\n  2012: 0,\n  2013: 0,\n  2014: 0,\n  2015: 0,\n  2016: 0,\n  2017: 0,\n  2018: 0,\n  2019: 0,\n  2020: 0,\n  2021: 0},\n 'Cyprus': {2010: 0,\n  2011: 0,\n  2012: 0,\n  2013: 0,\n  2014: 0,\n  2015: 0,\n  2016: 0,\n  2017: 0,\n  2018: 0,\n  2019: 0,\n  2020: 0,\n  2021: 0},\n 'Czech Republic': {2010: 0,\n  2011: 0,\n  2012: 0,\n  2013: 0,\n  2014: 0,\n  2015: 0,\n  2016: 0,\n  2017: 0,\n  2018: 0,\n  2019: 0,\n  2020: 0,\n  2021: 0},\n 'Denmark': {2010: 0,\n  2011: 0,\n  2012: 0,\n  2013: 0,\n  2014: 0,\n  2015: 0,\n  2016: 0,\n  2017: 0,\n  2018: 0,\n  2019: 0,\n  2020: 0,\n  2021: 0},\n 'Estonia': {2010: 0,\n  2011: 0,\n  2012: 0,\n  2013: 0,\n  2014: 0,\n  2015: 0,\n  2016: 0,\n  2017: 0,\n  2018: 0,\n  2019: 0,\n  2020: 0,\n  2021: 0},\n 'Finland': {2010: 0,\n  2011: 0,\n  2012: 0,\n  2013: 0,\n  2014: 0,\n  2015: 0,\n  2016: 0,\n  2017: 0,\n  2018: 0,\n  2019: 0,\n  2020: 0,\n  2021: 0},\n 'France': {2010: 0,\n  2011: 0,\n  2012: 0,\n  2013: 0,\n  2014: 0,\n  2015: 0,\n  2016: 0,\n  2017: 0,\n  2018: 0,\n  2019: 0,\n  2020: 0,\n  2021: 0},\n 'Germany': {2010: 0,\n  2011: 0,\n  2012: 0,\n  2013: 0,\n  2014: 0,\n  2015: 0,\n  2016: 0,\n  2017: 0,\n  2018: 0,\n  2019: 0,\n  2020: 0,\n  2021: 0},\n 'Greece': {2010: 0,\n  2011: 0,\n  2012: 0,\n  2013: 0,\n  2014: 0,\n  2015: 0,\n  2016: 0,\n  2017: 0,\n  2018: 0,\n  2019: 0,\n  2020: 0,\n  2021: 0},\n 'Ireland': {2010: 0,\n  2011: 0,\n  2012: 0,\n  2013: 0,\n  2014: 0,\n  2015: 0,\n  2016: 0,\n  2017: 0,\n  2018: 0,\n  2019: 0,\n  2020: 0,\n  2021: 0},\n 'Italy': {2010: 0,\n  2011: 0,\n  2012: 0,\n  2013: 0,\n  2014: 0,\n  2015: 0,\n  2016: 0,\n  2017: 0,\n  2018: 0,\n  2019: 0,\n  2020: 0,\n  2021: 0},\n 'Latvia': {2010: 0,\n  2011: 0,\n  2012: 0,\n  2013: 0,\n  2014: 0,\n  2015: 0,\n  2016: 0,\n  2017: 0,\n  2018: 0,\n  2019: 0,\n  2020: 0,\n  2021: 0},\n 'Lithuania': {2010: 0,\n  2011: 0,\n  2012: 0,\n  2013: 0,\n  2014: 0,\n  2015: 0,\n  2016: 0,\n  2017: 0,\n  2018: 0,\n  2019: 0,\n  2020: 0,\n  2021: 0},\n 'Luxembourg': {2010: 0,\n  2011: 0,\n  2012: 0,\n  2013: 0,\n  2014: 0,\n  2015: 0,\n  2016: 0,\n  2017: 0,\n  2018: 0,\n  2019: 0,\n  2020: 0,\n  2021: 0},\n 'Malta': {2010: 0,\n  2011: 0,\n  2012: 0,\n  2013: 0,\n  2014: 0,\n  2015: 0,\n  2016: 0,\n  2017: 0,\n  2018: 0,\n  2019: 0,\n  2020: 0,\n  2021: 0},\n 'Netherlands': {2010: 0,\n  2011: 0,\n  2012: 0,\n  2013: 0,\n  2014: 0,\n  2015: 0,\n  2016: 0,\n  2017: 0,\n  2018: 0,\n  2019: 0,\n  2020: 0,\n  2021: 0},\n 'Poland': {2010: 0,\n  2011: 0,\n  2012: 0,\n  2013: 0,\n  2014: 0,\n  2015: 0,\n  2016: 0,\n  2017: 0,\n  2018: 0,\n  2019: 0,\n  2020: 0,\n  2021: 0},\n 'Portugal': {2010: 0,\n  2011: 0,\n  2012: 0,\n  2013: 0,\n  2014: 0,\n  2015: 0,\n  2016: 0,\n  2017: 0,\n  2018: 0,\n  2019: 0,\n  2020: 0,\n  2021: 0},\n 'Romania': {2010: 0,\n  2011: 0,\n  2012: 0,\n  2013: 0,\n  2014: 0,\n  2015: 0,\n  2016: 0,\n  2017: 0,\n  2018: 0,\n  2019: 0,\n  2020: 0,\n  2021: 0},\n 'Slovakia': {2010: 0,\n  2011: 0,\n  2012: 0,\n  2013: 0,\n  2014: 0,\n  2015: 0,\n  2016: 0,\n  2017: 0,\n  2018: 0,\n  2019: 0,\n  2020: 0,\n  2021: 0},\n 'Slovenia': {2010: 0,\n  2011: 0,\n  2012: 0,\n  2013: 0,\n  2014: 0,\n  2015: 0,\n  2016: 0,\n  2017: 0,\n  2018: 0,\n  2019: 0,\n  2020: 0,\n  2021: 0},\n 'Spain': {2010: 0,\n  2011: 0,\n  2012: 0,\n  2013: 0,\n  2014: 0,\n  2015: 0,\n  2016: 0,\n  2017: 0,\n  2018: 0,\n  2019: 0,\n  2020: 0,\n  2021: 0},\n 'Sweden': {2010: 0,\n  2011: 0,\n  2012: 0,\n  2013: 0,\n  2014: 0,\n  2015: 0,\n  2016: 0,\n  2017: 0,\n  2018: 0,\n  2019: 0,\n  2020: 0,\n  2021: 0},\n 'Iceland': {2010: 0,\n  2011: 0,\n  2012: 0,\n  2013: 0,\n  2014: 0,\n  2015: 0,\n  2016: 0,\n  2017: 0,\n  2018: 0,\n  2019: 0,\n  2020: 0,\n  2021: 0},\n 'Norway': {2010: 0,\n  2011: 0,\n  2012: 0,\n  2013: 0,\n  2014: 0,\n  2015: 0,\n  2016: 0,\n  2017: 0,\n  2018: 0,\n  2019: 0,\n  2020: 0,\n  2021: 0},\n 'Switzerland': {2010: 0,\n  2011: 0,\n  2012: 0,\n  2013: 0,\n  2014: 0,\n  2015: 0,\n  2016: 0,\n  2017: 0,\n  2018: 0,\n  2019: 0,\n  2020: 0,\n  2021: 0},\n 'United Kingdom': {2010: 0,\n  2011: 0,\n  2012: 0,\n  2013: 0,\n  2014: 0,\n  2015: 0,\n  2016: 0,\n  2017: 0,\n  2018: 0,\n  2019: 0,\n  2020: 0,\n  2021: 0},\n 'Japan': {2010: 0,\n  2011: 0,\n  2012: 0,\n  2013: 0,\n  2014: 0,\n  2015: 0,\n  2016: 0,\n  2017: 0,\n  2018: 0,\n  2019: 0,\n  2020: 0,\n  2021: 0},\n 'South Korea': {2010: 0,\n  2011: 0,\n  2012: 0,\n  2013: 0,\n  2014: 0,\n  2015: 0,\n  2016: 0,\n  2017: 0,\n  2018: 0,\n  2019: 0,\n  2020: 0,\n  2021: 0},\n 'Israel': {2010: 0,\n  2011: 0,\n  2012: 0,\n  2013: 0,\n  2014: 0,\n  2015: 0,\n  2016: 0,\n  2017: 0,\n  2018: 0,\n  2019: 0,\n  2020: 0,\n  2021: 0},\n 'Canada': {2010: 0,\n  2011: 0,\n  2012: 0,\n  2013: 0,\n  2014: 0,\n  2015: 0,\n  2016: 0,\n  2017: 0,\n  2018: 0,\n  2019: 0,\n  2020: 0,\n  2021: 0},\n 'Australia': {2010: 0,\n  2011: 0,\n  2012: 0,\n  2013: 0,\n  2014: 0,\n  2015: 0,\n  2016: 0,\n  2017: 0,\n  2018: 0,\n  2019: 0,\n  2020: 0,\n  2021: 0}}"
     },
     "execution_count": 182,
     "metadata": {},
     "output_type": "execute_result"
    }
   ],
   "source": [
    "dic_countries_frac"
   ],
   "metadata": {
    "collapsed": false
   }
  },
  {
   "cell_type": "code",
   "execution_count": 183,
   "outputs": [],
   "source": [
    "for row in df_sdg.itertuples(index=False, name=None):\n",
    "    cn = row[idx_sdg['CN']]\n",
    "    year = row[idx_sdg['PY']]\n",
    "    lst_actors = cn.split(\", \")\n",
    "    size_actors = len(lst_actors)\n",
    "    for actor in lst_actors:\n",
    "        if actor in dic_countries.keys():\n",
    "            if row[-1]:\n",
    "                # Increment for SDG-DT\n",
    "                dic_countries_frac[actor][year] += 1/size_actors\n",
    "                if actor in eu:\n",
    "                    dic_countries_frac['EU'][year] += 1/size_actors"
   ],
   "metadata": {
    "collapsed": false
   }
  },
  {
   "cell_type": "code",
   "execution_count": 190,
   "outputs": [],
   "source": [
    "df = pd.DataFrame.from_dict(dic_countries_frac, orient=\"index\")\n",
    "df['Total'] = df.sum(axis=1)"
   ],
   "metadata": {
    "collapsed": false
   }
  },
  {
   "cell_type": "code",
   "execution_count": 191,
   "outputs": [
    {
     "data": {
      "text/plain": "                     2010        2011        2012        2013        2014  \\\nChina          160.785281  178.994841  234.190079  288.192309  337.451587   \nUnited States  135.587987  163.519653  200.031770  259.282901  297.032873   \nEU             174.462121  205.380402  247.216389  328.314121  406.139159   \n\n                     2015        2016        2017         2018         2019  \\\nChina          431.823218  592.340832  779.611348   992.391906  1386.553594   \nUnited States  351.514630  402.445601  560.277000   678.863487   893.894368   \nEU             565.115220  697.924820  841.431715  1143.185875  1359.312472   \n\n                      2020         2021         Total  \nChina          1741.816514  2265.974979   9390.126490  \nUnited States  1162.200222  1406.312465   6510.962957  \nEU             1882.816677  2367.075302  10218.374272  ",
      "text/html": "<div>\n<style scoped>\n    .dataframe tbody tr th:only-of-type {\n        vertical-align: middle;\n    }\n\n    .dataframe tbody tr th {\n        vertical-align: top;\n    }\n\n    .dataframe thead th {\n        text-align: right;\n    }\n</style>\n<table border=\"1\" class=\"dataframe\">\n  <thead>\n    <tr style=\"text-align: right;\">\n      <th></th>\n      <th>2010</th>\n      <th>2011</th>\n      <th>2012</th>\n      <th>2013</th>\n      <th>2014</th>\n      <th>2015</th>\n      <th>2016</th>\n      <th>2017</th>\n      <th>2018</th>\n      <th>2019</th>\n      <th>2020</th>\n      <th>2021</th>\n      <th>Total</th>\n    </tr>\n  </thead>\n  <tbody>\n    <tr>\n      <th>China</th>\n      <td>160.785281</td>\n      <td>178.994841</td>\n      <td>234.190079</td>\n      <td>288.192309</td>\n      <td>337.451587</td>\n      <td>431.823218</td>\n      <td>592.340832</td>\n      <td>779.611348</td>\n      <td>992.391906</td>\n      <td>1386.553594</td>\n      <td>1741.816514</td>\n      <td>2265.974979</td>\n      <td>9390.126490</td>\n    </tr>\n    <tr>\n      <th>United States</th>\n      <td>135.587987</td>\n      <td>163.519653</td>\n      <td>200.031770</td>\n      <td>259.282901</td>\n      <td>297.032873</td>\n      <td>351.514630</td>\n      <td>402.445601</td>\n      <td>560.277000</td>\n      <td>678.863487</td>\n      <td>893.894368</td>\n      <td>1162.200222</td>\n      <td>1406.312465</td>\n      <td>6510.962957</td>\n    </tr>\n    <tr>\n      <th>EU</th>\n      <td>174.462121</td>\n      <td>205.380402</td>\n      <td>247.216389</td>\n      <td>328.314121</td>\n      <td>406.139159</td>\n      <td>565.115220</td>\n      <td>697.924820</td>\n      <td>841.431715</td>\n      <td>1143.185875</td>\n      <td>1359.312472</td>\n      <td>1882.816677</td>\n      <td>2367.075302</td>\n      <td>10218.374272</td>\n    </tr>\n  </tbody>\n</table>\n</div>"
     },
     "execution_count": 191,
     "metadata": {},
     "output_type": "execute_result"
    }
   ],
   "source": [
    "df.loc[['China', 'United States', 'EU']]"
   ],
   "metadata": {
    "collapsed": false
   }
  },
  {
   "cell_type": "code",
   "execution_count": null,
   "outputs": [],
   "source": [],
   "metadata": {
    "collapsed": false
   }
  }
 ],
 "metadata": {
  "kernelspec": {
   "display_name": "Python 3",
   "language": "python",
   "name": "python3"
  },
  "language_info": {
   "codemirror_mode": {
    "name": "ipython",
    "version": 2
   },
   "file_extension": ".py",
   "mimetype": "text/x-python",
   "name": "python",
   "nbconvert_exporter": "python",
   "pygments_lexer": "ipython2",
   "version": "2.7.6"
  }
 },
 "nbformat": 4,
 "nbformat_minor": 0
}
