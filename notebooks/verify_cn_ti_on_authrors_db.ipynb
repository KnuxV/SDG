{
 "cells": [
  {
   "cell_type": "markdown",
   "source": [
    "# Verify CN, TI COLUMN\n",
    "\n",
    "### Perform random check on the columns CN and TI from the authors database to make sure they were correctly implemented"
   ],
   "metadata": {
    "collapsed": false
   }
  },
  {
   "cell_type": "code",
   "execution_count": 1,
   "outputs": [],
   "source": [
    "import pandas as pd"
   ],
   "metadata": {
    "collapsed": false
   }
  },
  {
   "cell_type": "code",
   "execution_count": 3,
   "outputs": [],
   "source": [
    "df_auth = pd.read_pickle(\"../data/dataframes/authors_w_cn_ti.pkl\")\n",
    "df_full = pd.read_pickle(\"../data/dataframes/full_pubs.pkl\")\n"
   ],
   "metadata": {
    "collapsed": false
   }
  },
  {
   "cell_type": "code",
   "execution_count": 13,
   "outputs": [
    {
     "data": {
      "text/plain": "                    PT                                                 AU  \\\nUT                                                                          \nWOS:000570328900001  J               Gusiatin, ZM; Kulikowska, D; Klik, B   \nWOS:000635505300001  J                              Vitko, TG; Suffet, IH   \nWOS:000410925400094  C                             Ntasiou, M; Andreou, E   \nWOS:000744257400019  J      Wu, LP; Zhang, SR; Chen, MM; Liu, J; Ding, XD   \nWOS:000501603000009  C                                          Staicu, D   \n...                 ..                                                ...   \nWOS:000399395700065  C  Dieffenderfer, J; Wilkins, M; Hood, C; Beppler...   \nWOS:000402630000005  C  Dinesh, K; Xiong, ML; Adams, J; Dorsey, R; Sha...   \nWOS:000390094700044  C    Ding, CW; Heidari, S; Wang, YZ; Liu, YP; Hu, JT   \nWOS:000391829200039  C        Ding, CW; Li, HJ; Hu, JT; Liu, YP; Wang, YZ   \nWOS:000391251700018  C                                  Ding, Y; Zilic, Z   \n\n                                                                    AF  \\\nUT                                                                       \nWOS:000570328900001  Gusiatin, Zygmunt M.; Kulikowska, Dorota; Klik...   \nWOS:000635505300001            Vitko, Tadeo G.; Suffet, Irwin H. (Mel)   \nWOS:000410925400094                           Ntasiou, M.; Andreou, E.   \nWOS:000744257400019  Wu, Lipeng; Zhang, Shirong; Chen, Mengmeng; Li...   \nWOS:000501603000009                                    Staicu, Daniela   \n...                                                                ...   \nWOS:000399395700065  Dieffenderfer, James; Wilkins, Michael; Hood, ...   \nWOS:000402630000005  Dinesh, Karthik; Xiong, Mulin; Adams, Jamie; D...   \nWOS:000390094700044  Ding, Caiwen; Heidari, Soroush; Wang, Yanzhi; ...   \nWOS:000391829200039  Ding, Caiwen; Li, Hongjia; Hu, Jingtong; Liu, ...   \nWOS:000391251700018                   Ding, Yi (Steven); Zilic, Zeljko   \n\n                                                                    TI  \\\nUT                                                                       \nWOS:000570328900001  New-Generation Washing Agents in Remediation o...   \nWOS:000635505300001  Corrective factors applied to reduced sulfur c...   \nWOS:000410925400094  The Standard of Industrial Symbiosis. Environm...   \nWOS:000744257400019  A sustainable option: Biochar addition can imp...   \nWOS:000501603000009  Contributions of social entrepreneurship to te...   \n...                                                                ...   \nWOS:000399395700065  Towards a Sweat-based Wireless and Wearable El...   \nWOS:000402630000005  SIGNAL ANALYSIS FOR DETECTING MOTOR SYMPTOMS I...   \nWOS:000390094700044  Multi-Source In-Door Energy Harvesting for Non...   \nWOS:000391829200039  Dynamic Converter Reconfiguration for Near-Thr...   \nWOS:000391251700018        ECG Compression for Mobile Sensor Platforms   \n\n                                                                    SO  \\\nUT                                                                       \nWOS:000570328900001  INTERNATIONAL JOURNAL OF ENVIRONMENTAL RESEARC...   \nWOS:000635505300001                         WATER ENVIRONMENT RESEARCH   \nWOS:000410925400094  SUSTAINABLE SYNERGIES FROM BUILDINGS TO THE UR...   \nWOS:000744257400019              ENVIRONMENTAL TECHNOLOGY & INNOVATION   \nWOS:000501603000009  PROCEEDINGS OF THE INTERNATIONAL CONFERENCE ON...   \n...                                                                ...   \nWOS:000399395700065                                  2016 IEEE SENSORS   \nWOS:000402630000005  2016 IEEE WESTERN NEW YORK IMAGE AND SIGNAL PR...   \nWOS:000390094700044  2016 IEEE INTERNATIONAL SYMPOSIUM ON CIRCUITS ...   \nWOS:000391829200039  PROCEEDINGS OF THE 34TH IEEE INTERNATIONAL CON...   \nWOS:000391251700018  2016 IEEE 13TH INTERNATIONAL CONFERENCE ON WEA...   \n\n                                    DT  \\\nUT                                       \nWOS:000570328900001             Review   \nWOS:000635505300001            Article   \nWOS:000410925400094  Proceedings Paper   \nWOS:000744257400019            Article   \nWOS:000501603000009  Proceedings Paper   \n...                                ...   \nWOS:000399395700065  Proceedings Paper   \nWOS:000402630000005  Proceedings Paper   \nWOS:000390094700044  Proceedings Paper   \nWOS:000391829200039  Proceedings Paper   \nWOS:000391251700018  Proceedings Paper   \n\n                                                                    DE  \\\nUT                                                                       \nWOS:000570328900001  soil washing; soil flushing; heavy metals; soi...   \nWOS:000635505300001  odor treatment design; odors; reduced sulfur o...   \nWOS:000410925400094   Industrial; Business; Parks; Symbiosis; Standard   \nWOS:000744257400019  Biochar; Phosphorus retention; Microbial bioma...   \nWOS:000501603000009  textile waste prevention; clothing reuse; soci...   \n...                                                                ...   \nWOS:000399395700065  potentiostat; electrochemical; wearable sensin...   \nWOS:000402630000005  Wearable sensors; Parkinson's; Huntington's; a...   \nWOS:000390094700044                                                NaN   \nWOS:000391829200039  Non-volatile processor (NVP); Near-Threshold C...   \nWOS:000391251700018                                                NaN   \n\n                                                                    ID  \\\nUT                                                                       \nWOS:000570328900001  DISSOLVED ORGANIC-MATTER; REMOVE HEAVY-METALS;...   \nWOS:000635505300001                                                NaN   \nWOS:000410925400094                                                NaN   \nWOS:000744257400019  AGRICULTURAL SOILS; EXTRACTION METHOD; AVAILAB...   \nWOS:000501603000009               ENVIRONMENTAL-IMPACT; FASHION; REUSE   \n...                                                                ...   \nWOS:000399395700065          LACTATE CONCENTRATIONS; BIOSENSORS; BLOOD   \nWOS:000402630000005                                                NaN   \nWOS:000390094700044                                          CONVERTER   \nWOS:000391829200039                                                NaN   \nWOS:000391251700018                                                NaN   \n\n                                                                    AB  \\\nUT                                                                       \nWOS:000570328900001  Soil quality is seriously reduced due to chemi...   \nWOS:000635505300001  To determine accurately odorant concentrations...   \nWOS:000410925400094  The siting of an Industrial park with environm...   \nWOS:000744257400019  Application of straw and its derived biochar h...   \nWOS:000501603000009  The current system for producing, distributing...   \n...                                                                ...   \nWOS:000399395700065  The analysis of biomarkers within sweat is adv...   \nWOS:000402630000005  We report on a pilot study for signal processi...   \nWOS:000390094700044  Due to size, longevity, safety, and recharging...   \nWOS:000391829200039  Energy harvesting is becoming a preferred choi...   \nWOS:000391251700018  This paper presents a low-complexity compressi...   \n\n                                                                    C1  ...  \\\nUT                                                                      ...   \nWOS:000570328900001  [Gusiatin, Zygmunt M.; Kulikowska, Dorota; Kli...  ...   \nWOS:000635505300001  [Vitko, Tadeo G.] 26362 Via Conchita, Mission ...  ...   \nWOS:000410925400094  [Ntasiou, M.; Andreou, E.] Hellen Open Univ, S...  ...   \nWOS:000744257400019  [Wu, Lipeng; Zhang, Shirong; Chen, Mengmeng; D...  ...   \nWOS:000501603000009  [Staicu, Daniela] Bucharest Univ Econ Studies,...  ...   \n...                                                                ...  ...   \nWOS:000399395700065  [Dieffenderfer, James; Wilkins, Michael; Hood,...  ...   \nWOS:000402630000005  [Dinesh, Karthik; Sharma, Gaurav] Univ Rochest...  ...   \nWOS:000390094700044  [Ding, Caiwen; Wang, Yanzhi] Syracuse Univ, De...  ...   \nWOS:000391829200039  [Ding, Caiwen; Li, Hongjia; Wang, Yanzhi] Syra...  ...   \nWOS:000391251700018  [Ding, Yi (Steven); Zilic, Zeljko] McGill Univ...  ...   \n\n                     SDG15  SDG16  SDG17  additive_manufacturing     AI  \\\nUT                                                                        \nWOS:000570328900001  False  False  False                   False  False   \nWOS:000635505300001  False  False  False                   False  False   \nWOS:000410925400094  False  False  False                   False  False   \nWOS:000744257400019  False  False  False                   False  False   \nWOS:000501603000009  False  False  False                   False  False   \n...                    ...    ...    ...                     ...    ...   \nWOS:000399395700065  False  False  False                   False  False   \nWOS:000402630000005  False  False  False                   False  False   \nWOS:000390094700044  False  False  False                   False  False   \nWOS:000391829200039  False  False  False                   False  False   \nWOS:000391251700018  False  False  False                   False  False   \n\n                     big_data blockchain computing_infrastructure    IOT  \\\nUT                                                                         \nWOS:000570328900001     False      False                    False  False   \nWOS:000635505300001     False      False                    False  False   \nWOS:000410925400094     False      False                    False  False   \nWOS:000744257400019     False      False                    False  False   \nWOS:000501603000009     False      False                    False  False   \n...                       ...        ...                      ...    ...   \nWOS:000399395700065     False      False                    False   True   \nWOS:000402630000005     False      False                    False   True   \nWOS:000390094700044     False      False                    False   True   \nWOS:000391829200039     False      False                    False   True   \nWOS:000391251700018     False      False                    False   True   \n\n                    robotics  \nUT                            \nWOS:000570328900001    False  \nWOS:000635505300001    False  \nWOS:000410925400094    False  \nWOS:000744257400019    False  \nWOS:000501603000009    False  \n...                      ...  \nWOS:000399395700065    False  \nWOS:000402630000005    False  \nWOS:000390094700044    False  \nWOS:000391829200039    False  \nWOS:000391251700018    False  \n\n[2798088 rows x 51 columns]",
      "text/html": "<div>\n<style scoped>\n    .dataframe tbody tr th:only-of-type {\n        vertical-align: middle;\n    }\n\n    .dataframe tbody tr th {\n        vertical-align: top;\n    }\n\n    .dataframe thead th {\n        text-align: right;\n    }\n</style>\n<table border=\"1\" class=\"dataframe\">\n  <thead>\n    <tr style=\"text-align: right;\">\n      <th></th>\n      <th>PT</th>\n      <th>AU</th>\n      <th>AF</th>\n      <th>TI</th>\n      <th>SO</th>\n      <th>DT</th>\n      <th>DE</th>\n      <th>ID</th>\n      <th>AB</th>\n      <th>C1</th>\n      <th>...</th>\n      <th>SDG15</th>\n      <th>SDG16</th>\n      <th>SDG17</th>\n      <th>additive_manufacturing</th>\n      <th>AI</th>\n      <th>big_data</th>\n      <th>blockchain</th>\n      <th>computing_infrastructure</th>\n      <th>IOT</th>\n      <th>robotics</th>\n    </tr>\n    <tr>\n      <th>UT</th>\n      <th></th>\n      <th></th>\n      <th></th>\n      <th></th>\n      <th></th>\n      <th></th>\n      <th></th>\n      <th></th>\n      <th></th>\n      <th></th>\n      <th></th>\n      <th></th>\n      <th></th>\n      <th></th>\n      <th></th>\n      <th></th>\n      <th></th>\n      <th></th>\n      <th></th>\n      <th></th>\n      <th></th>\n    </tr>\n  </thead>\n  <tbody>\n    <tr>\n      <th>WOS:000570328900001</th>\n      <td>J</td>\n      <td>Gusiatin, ZM; Kulikowska, D; Klik, B</td>\n      <td>Gusiatin, Zygmunt M.; Kulikowska, Dorota; Klik...</td>\n      <td>New-Generation Washing Agents in Remediation o...</td>\n      <td>INTERNATIONAL JOURNAL OF ENVIRONMENTAL RESEARC...</td>\n      <td>Review</td>\n      <td>soil washing; soil flushing; heavy metals; soi...</td>\n      <td>DISSOLVED ORGANIC-MATTER; REMOVE HEAVY-METALS;...</td>\n      <td>Soil quality is seriously reduced due to chemi...</td>\n      <td>[Gusiatin, Zygmunt M.; Kulikowska, Dorota; Kli...</td>\n      <td>...</td>\n      <td>False</td>\n      <td>False</td>\n      <td>False</td>\n      <td>False</td>\n      <td>False</td>\n      <td>False</td>\n      <td>False</td>\n      <td>False</td>\n      <td>False</td>\n      <td>False</td>\n    </tr>\n    <tr>\n      <th>WOS:000635505300001</th>\n      <td>J</td>\n      <td>Vitko, TG; Suffet, IH</td>\n      <td>Vitko, Tadeo G.; Suffet, Irwin H. (Mel)</td>\n      <td>Corrective factors applied to reduced sulfur c...</td>\n      <td>WATER ENVIRONMENT RESEARCH</td>\n      <td>Article</td>\n      <td>odor treatment design; odors; reduced sulfur o...</td>\n      <td>NaN</td>\n      <td>To determine accurately odorant concentrations...</td>\n      <td>[Vitko, Tadeo G.] 26362 Via Conchita, Mission ...</td>\n      <td>...</td>\n      <td>False</td>\n      <td>False</td>\n      <td>False</td>\n      <td>False</td>\n      <td>False</td>\n      <td>False</td>\n      <td>False</td>\n      <td>False</td>\n      <td>False</td>\n      <td>False</td>\n    </tr>\n    <tr>\n      <th>WOS:000410925400094</th>\n      <td>C</td>\n      <td>Ntasiou, M; Andreou, E</td>\n      <td>Ntasiou, M.; Andreou, E.</td>\n      <td>The Standard of Industrial Symbiosis. Environm...</td>\n      <td>SUSTAINABLE SYNERGIES FROM BUILDINGS TO THE UR...</td>\n      <td>Proceedings Paper</td>\n      <td>Industrial; Business; Parks; Symbiosis; Standard</td>\n      <td>NaN</td>\n      <td>The siting of an Industrial park with environm...</td>\n      <td>[Ntasiou, M.; Andreou, E.] Hellen Open Univ, S...</td>\n      <td>...</td>\n      <td>False</td>\n      <td>False</td>\n      <td>False</td>\n      <td>False</td>\n      <td>False</td>\n      <td>False</td>\n      <td>False</td>\n      <td>False</td>\n      <td>False</td>\n      <td>False</td>\n    </tr>\n    <tr>\n      <th>WOS:000744257400019</th>\n      <td>J</td>\n      <td>Wu, LP; Zhang, SR; Chen, MM; Liu, J; Ding, XD</td>\n      <td>Wu, Lipeng; Zhang, Shirong; Chen, Mengmeng; Li...</td>\n      <td>A sustainable option: Biochar addition can imp...</td>\n      <td>ENVIRONMENTAL TECHNOLOGY &amp; INNOVATION</td>\n      <td>Article</td>\n      <td>Biochar; Phosphorus retention; Microbial bioma...</td>\n      <td>AGRICULTURAL SOILS; EXTRACTION METHOD; AVAILAB...</td>\n      <td>Application of straw and its derived biochar h...</td>\n      <td>[Wu, Lipeng; Zhang, Shirong; Chen, Mengmeng; D...</td>\n      <td>...</td>\n      <td>False</td>\n      <td>False</td>\n      <td>False</td>\n      <td>False</td>\n      <td>False</td>\n      <td>False</td>\n      <td>False</td>\n      <td>False</td>\n      <td>False</td>\n      <td>False</td>\n    </tr>\n    <tr>\n      <th>WOS:000501603000009</th>\n      <td>C</td>\n      <td>Staicu, D</td>\n      <td>Staicu, Daniela</td>\n      <td>Contributions of social entrepreneurship to te...</td>\n      <td>PROCEEDINGS OF THE INTERNATIONAL CONFERENCE ON...</td>\n      <td>Proceedings Paper</td>\n      <td>textile waste prevention; clothing reuse; soci...</td>\n      <td>ENVIRONMENTAL-IMPACT; FASHION; REUSE</td>\n      <td>The current system for producing, distributing...</td>\n      <td>[Staicu, Daniela] Bucharest Univ Econ Studies,...</td>\n      <td>...</td>\n      <td>False</td>\n      <td>False</td>\n      <td>False</td>\n      <td>False</td>\n      <td>False</td>\n      <td>False</td>\n      <td>False</td>\n      <td>False</td>\n      <td>False</td>\n      <td>False</td>\n    </tr>\n    <tr>\n      <th>...</th>\n      <td>...</td>\n      <td>...</td>\n      <td>...</td>\n      <td>...</td>\n      <td>...</td>\n      <td>...</td>\n      <td>...</td>\n      <td>...</td>\n      <td>...</td>\n      <td>...</td>\n      <td>...</td>\n      <td>...</td>\n      <td>...</td>\n      <td>...</td>\n      <td>...</td>\n      <td>...</td>\n      <td>...</td>\n      <td>...</td>\n      <td>...</td>\n      <td>...</td>\n      <td>...</td>\n    </tr>\n    <tr>\n      <th>WOS:000399395700065</th>\n      <td>C</td>\n      <td>Dieffenderfer, J; Wilkins, M; Hood, C; Beppler...</td>\n      <td>Dieffenderfer, James; Wilkins, Michael; Hood, ...</td>\n      <td>Towards a Sweat-based Wireless and Wearable El...</td>\n      <td>2016 IEEE SENSORS</td>\n      <td>Proceedings Paper</td>\n      <td>potentiostat; electrochemical; wearable sensin...</td>\n      <td>LACTATE CONCENTRATIONS; BIOSENSORS; BLOOD</td>\n      <td>The analysis of biomarkers within sweat is adv...</td>\n      <td>[Dieffenderfer, James; Wilkins, Michael; Hood,...</td>\n      <td>...</td>\n      <td>False</td>\n      <td>False</td>\n      <td>False</td>\n      <td>False</td>\n      <td>False</td>\n      <td>False</td>\n      <td>False</td>\n      <td>False</td>\n      <td>True</td>\n      <td>False</td>\n    </tr>\n    <tr>\n      <th>WOS:000402630000005</th>\n      <td>C</td>\n      <td>Dinesh, K; Xiong, ML; Adams, J; Dorsey, R; Sha...</td>\n      <td>Dinesh, Karthik; Xiong, Mulin; Adams, Jamie; D...</td>\n      <td>SIGNAL ANALYSIS FOR DETECTING MOTOR SYMPTOMS I...</td>\n      <td>2016 IEEE WESTERN NEW YORK IMAGE AND SIGNAL PR...</td>\n      <td>Proceedings Paper</td>\n      <td>Wearable sensors; Parkinson's; Huntington's; a...</td>\n      <td>NaN</td>\n      <td>We report on a pilot study for signal processi...</td>\n      <td>[Dinesh, Karthik; Sharma, Gaurav] Univ Rochest...</td>\n      <td>...</td>\n      <td>False</td>\n      <td>False</td>\n      <td>False</td>\n      <td>False</td>\n      <td>False</td>\n      <td>False</td>\n      <td>False</td>\n      <td>False</td>\n      <td>True</td>\n      <td>False</td>\n    </tr>\n    <tr>\n      <th>WOS:000390094700044</th>\n      <td>C</td>\n      <td>Ding, CW; Heidari, S; Wang, YZ; Liu, YP; Hu, JT</td>\n      <td>Ding, Caiwen; Heidari, Soroush; Wang, Yanzhi; ...</td>\n      <td>Multi-Source In-Door Energy Harvesting for Non...</td>\n      <td>2016 IEEE INTERNATIONAL SYMPOSIUM ON CIRCUITS ...</td>\n      <td>Proceedings Paper</td>\n      <td>NaN</td>\n      <td>CONVERTER</td>\n      <td>Due to size, longevity, safety, and recharging...</td>\n      <td>[Ding, Caiwen; Wang, Yanzhi] Syracuse Univ, De...</td>\n      <td>...</td>\n      <td>False</td>\n      <td>False</td>\n      <td>False</td>\n      <td>False</td>\n      <td>False</td>\n      <td>False</td>\n      <td>False</td>\n      <td>False</td>\n      <td>True</td>\n      <td>False</td>\n    </tr>\n    <tr>\n      <th>WOS:000391829200039</th>\n      <td>C</td>\n      <td>Ding, CW; Li, HJ; Hu, JT; Liu, YP; Wang, YZ</td>\n      <td>Ding, Caiwen; Li, Hongjia; Hu, Jingtong; Liu, ...</td>\n      <td>Dynamic Converter Reconfiguration for Near-Thr...</td>\n      <td>PROCEEDINGS OF THE 34TH IEEE INTERNATIONAL CON...</td>\n      <td>Proceedings Paper</td>\n      <td>Non-volatile processor (NVP); Near-Threshold C...</td>\n      <td>NaN</td>\n      <td>Energy harvesting is becoming a preferred choi...</td>\n      <td>[Ding, Caiwen; Li, Hongjia; Wang, Yanzhi] Syra...</td>\n      <td>...</td>\n      <td>False</td>\n      <td>False</td>\n      <td>False</td>\n      <td>False</td>\n      <td>False</td>\n      <td>False</td>\n      <td>False</td>\n      <td>False</td>\n      <td>True</td>\n      <td>False</td>\n    </tr>\n    <tr>\n      <th>WOS:000391251700018</th>\n      <td>C</td>\n      <td>Ding, Y; Zilic, Z</td>\n      <td>Ding, Yi (Steven); Zilic, Zeljko</td>\n      <td>ECG Compression for Mobile Sensor Platforms</td>\n      <td>2016 IEEE 13TH INTERNATIONAL CONFERENCE ON WEA...</td>\n      <td>Proceedings Paper</td>\n      <td>NaN</td>\n      <td>NaN</td>\n      <td>This paper presents a low-complexity compressi...</td>\n      <td>[Ding, Yi (Steven); Zilic, Zeljko] McGill Univ...</td>\n      <td>...</td>\n      <td>False</td>\n      <td>False</td>\n      <td>False</td>\n      <td>False</td>\n      <td>False</td>\n      <td>False</td>\n      <td>False</td>\n      <td>False</td>\n      <td>True</td>\n      <td>False</td>\n    </tr>\n  </tbody>\n</table>\n<p>2798088 rows × 51 columns</p>\n</div>"
     },
     "execution_count": 13,
     "metadata": {},
     "output_type": "execute_result"
    }
   ],
   "source": [
    "df_full.set_index('UT', inplace=True)\n",
    "df_full"
   ],
   "metadata": {
    "collapsed": false
   }
  },
  {
   "cell_type": "code",
   "execution_count": 29,
   "outputs": [
    {
     "name": "stdout",
     "output_type": "stream",
     "text": [
      "                              CN    PY  TC\n",
      "hotjy1010@naver.com  South Korea  2015   0\n",
      "['Saliency Detection by Tensor Voting Based Gaussian Modeling']\n",
      "\n",
      "Verif\n",
      "Publications 1 from authors\n",
      "\n",
      "C1\n",
      "[Huynh Trung Manh; Yeo, Jungyeon; Lee, Gueesang] Chonnam Natl Univ, 300 Yongbong Dong St, Kwangju 500757, South Korea\n",
      "\n",
      "TC & PY\n",
      "0 2015\n",
      "\n",
      "TI\n",
      "Saliency Detection by Tensor Voting Based Gaussian Modeling\n",
      "\n",
      "\n"
     ]
    }
   ],
   "source": [
    "# Pick a random author\n",
    "auth = df_auth.sample(1)\n",
    "\n",
    "print(auth[['CN', 'PY' ,'TC']])\n",
    "print(auth[['TI']].values[0])\n",
    "print(\"\\nVerif\")\n",
    "for ind, pub_id in enumerate(auth.lst_publications.values[0]):\n",
    "    print(f\"Publications {ind+1} from authors\")\n",
    "    pub = df_full.loc[pub_id, ['C1', 'TI','TC', 'PY']].values\n",
    "    print(\"\\nC1\")\n",
    "    print(pub[0])\n",
    "    print('\\nTC & PY')\n",
    "    print(pub[2], pub[3])\n",
    "    print(\"\\nTI\")\n",
    "    print(pub[1])\n",
    "    print('\\n')\n"
   ],
   "metadata": {
    "collapsed": false
   }
  },
  {
   "cell_type": "code",
   "execution_count": 45,
   "outputs": [],
   "source": [
    "c = 0\n",
    "tot = 0\n",
    "wrong = []\n",
    "for ind, auth in df_auth.sample(2000).iterrows():\n",
    "    lst_pubs = auth.lst_publications\n",
    "\n",
    "    # LF most cited pub\n",
    "    title = \"\"\n",
    "    citations= -1\n",
    "    year = 0\n",
    "\n",
    "    for pub_id in lst_pubs:\n",
    "        pub = df_full.loc[pub_id, ['TI','TC', 'PY']].values\n",
    "        ti, tc, py = pub\n",
    "        if tc > citations:\n",
    "            citations = tc\n",
    "            year = py\n",
    "            title = ti\n",
    "    # Comparing\n",
    "    if auth.TI == title and auth.PY == year and auth.TC == citations:\n",
    "        c += 1\n",
    "    else:\n",
    "        wrong.append(auth)\n",
    "    tot += 1\n",
    "\n",
    "\n"
   ],
   "metadata": {
    "collapsed": false
   }
  },
  {
   "cell_type": "code",
   "execution_count": 46,
   "outputs": [
    {
     "name": "stdout",
     "output_type": "stream",
     "text": [
      "1970 2000\n"
     ]
    }
   ],
   "source": [
    "print(c, tot)"
   ],
   "metadata": {
    "collapsed": false
   }
  },
  {
   "cell_type": "code",
   "execution_count": 59,
   "outputs": [],
   "source": [
    "iter_w = iter(wrong)\n"
   ],
   "metadata": {
    "collapsed": false
   }
  },
  {
   "cell_type": "code",
   "execution_count": 60,
   "outputs": [
    {
     "data": {
      "text/plain": "name                                                           {Sun, Shipeng}\ntotal_publications                                                          2\nlst_publications                   {WOS:000543654300001, WOS:000734741600001}\nPY<2019                                                                     0\nPY>=2019                                                                    2\ntotal_citations                                                             0\nkeywords                    {'Environmental Sciences': 1, 'Public, Environ...\nIOT                                                                         0\nAI                                                                          0\ncomputing_infrastructure                                                    0\nadditive_manufacturing                                                      0\nbig_data                                                                    0\nrobotics                                                                    0\nblockchain                                                                  0\nSDG1                                                                        1\nSDG2                                                                        0\nSDG3                                                                        0\nSDG4                                                                        0\nSDG5                                                                        0\nSDG6                                                                        0\nSDG7                                                                        0\nSDG8                                                                        0\nSDG9                                                                        0\nSDG10                                                                       0\nSDG11                                                                       1\nSDG12                                                                       0\nSDG13                                                                       0\nSDG14                                                                       0\nSDG15                                                                       0\nSDG16                                                                       0\nSDG17                                                                       0\nSociety                                                                     2\nEconomy                                                                     0\nEnvironment                                                                 0\nSDG                                                                         1\nDT                                                                          0\nIntersection                                                                0\nCN                                                              United States\nTI                          How Phantom Networks, Provider Qualities, and ...\nPY                                                                       2021\nTC                                                                          0\nName: shipeng.sun@hunter.cuny.edu, dtype: object"
     },
     "execution_count": 60,
     "metadata": {},
     "output_type": "execute_result"
    }
   ],
   "source": [
    "auth = next(iter_w)\n",
    "auth"
   ],
   "metadata": {
    "collapsed": false
   }
  },
  {
   "cell_type": "code",
   "execution_count": 74,
   "outputs": [
    {
     "name": "stdout",
     "output_type": "stream",
     "text": [
      "CN    China\n",
      "PY     2020\n",
      "TC        8\n",
      "Name: yuweiwang1126@gmail.com, dtype: object\n",
      "CTBRNN: A Novel Deep-Learning Based Signal Sequence Detector for Communications Systems\n",
      "\n",
      "Verif\n",
      "Publications 1 from authors\n",
      "\n",
      "C1\n",
      "[Sun, Li; Wang, Yuwei] Xi An Jiao Tong Univ, Sch Informat & Commun Engn, Xian 710049, Peoples R China; [Sun, Li] Zhejiang Lab, Hangzhou 311121, Peoples R China; [Swindlehurst, A. Lee] Univ Calif Irvine, Ctr Pervas Commun & Comp, Irvine, CA 92697 USA; [Tang, Xiao] Northwestern Polytech Univ, Sch Elect & Informat, Xian 710072, Peoples R China\n",
      "\n",
      "TC & PY\n",
      "8 2021\n",
      "\n",
      "TI\n",
      "Generative-Adversarial-Network Enabled Signal Detection for Communication Systems With Unknown Channel Models\n",
      "\n",
      "\n",
      "Publications 2 from authors\n",
      "\n",
      "C1\n",
      "[Sun, Li; Wang, Yuwei] Xi An Jiao Tong Univ, Dept Informat & Commun Engn, Xian 710049, Peoples R China\n",
      "\n",
      "TC & PY\n",
      "8 2020\n",
      "\n",
      "TI\n",
      "CTBRNN: A Novel Deep-Learning Based Signal Sequence Detector for Communications Systems\n",
      "\n",
      "\n"
     ]
    }
   ],
   "source": [
    "auth = next(iter_w)\n",
    "print(auth[['CN', 'PY', 'TC']])\n",
    "print(auth[['TI']].values[0])\n",
    "print(\"\\nVerif\")\n",
    "for ind, pub_id in enumerate(auth.lst_publications):\n",
    "    print(f\"Publications {ind + 1} from authors\")\n",
    "    pub = df_full.loc[pub_id, ['C1', 'TI', 'TC', 'PY']].values\n",
    "    print(\"\\nC1\")\n",
    "    print(pub[0])\n",
    "    print('\\nTC & PY')\n",
    "    print(pub[2], pub[3])\n",
    "    print(\"\\nTI\")\n",
    "    print(pub[1])\n",
    "    print('\\n')"
   ],
   "metadata": {
    "collapsed": false
   }
  },
  {
   "cell_type": "code",
   "execution_count": null,
   "outputs": [],
   "source": [],
   "metadata": {
    "collapsed": false
   }
  }
 ],
 "metadata": {
  "kernelspec": {
   "display_name": "Python 3",
   "language": "python",
   "name": "python3"
  },
  "language_info": {
   "codemirror_mode": {
    "name": "ipython",
    "version": 2
   },
   "file_extension": ".py",
   "mimetype": "text/x-python",
   "name": "python",
   "nbconvert_exporter": "python",
   "pygments_lexer": "ipython2",
   "version": "2.7.6"
  }
 },
 "nbformat": 4,
 "nbformat_minor": 0
}
