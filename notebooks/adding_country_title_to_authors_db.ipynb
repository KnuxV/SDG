{
 "cells": [
  {
   "cell_type": "markdown",
   "source": [
    "# Adding columns to authors.pkl\n",
    "Some columns need to be added to the authors database. Namely, CN the last mentioned country of the author (university of the last publication), and Title of the most recent publication and the most cited publication.\n"
   ],
   "metadata": {
    "collapsed": false
   }
  },
  {
   "cell_type": "code",
   "execution_count": 1,
   "outputs": [],
   "source": [
    "import pandas as pd\n",
    "import tqdm\n",
    "from tqdm.notebook import trange, tqdm\n",
    "from tqdm import tqdm\n",
    "import re"
   ],
   "metadata": {
    "collapsed": false
   }
  },
  {
   "cell_type": "code",
   "execution_count": 2,
   "outputs": [],
   "source": [
    "df_auth = pd.read_pickle(\"../data/dataframes/authors_full.pkl\")\n"
   ],
   "metadata": {
    "collapsed": false
   }
  },
  {
   "cell_type": "code",
   "execution_count": null,
   "outputs": [],
   "source": [
    "df_full = pd.read_pickle(\"../data/dataframes/full_pubs.pkl\")\n"
   ],
   "metadata": {
    "collapsed": false,
    "pycharm": {
     "is_executing": true
    }
   }
  },
  {
   "cell_type": "code",
   "execution_count": null,
   "outputs": [],
   "source": [
    "df_full"
   ],
   "metadata": {
    "collapsed": false,
    "pycharm": {
     "is_executing": true
    }
   }
  },
  {
   "cell_type": "code",
   "execution_count": 12,
   "outputs": [],
   "source": [
    "\n",
    "reg = re.compile(r\"(\\[([^\\[\\]]+)])? (?P<adress>[^\\[\\];]+);?\")\n",
    "dic_country = {'Peoples R China': \"China\",\n",
    "               'England': 'United Kingdom',\n",
    "               'Scotland': 'United Kingdom',\n",
    "               'Wales': 'United Kingdom',\n",
    "               'Northen Ireland': 'United Kingdom',\n",
    "               'Northern Ireland': 'United Kingdom',\n",
    "               'North Ireland': 'United Kingdom',\n",
    "               'U Arab Emirates': 'United Arab Emirates',\n",
    "               'Bosnia & Herceg': 'Bosnia and Herzegovina',\n",
    "               'Trinidad Tobago': 'Trinidad and Tobago',\n",
    "               'North Macedonia': 'Macedonia',\n",
    "               'Papua N Guinea': 'Papua New Guinea',\n",
    "               'DEM REP CONGO': 'Congo [DRC]',\n",
    "               'Rep Congo': 'Congo [DRC]',\n",
    "               'BELARUS': 'Belarus',\n",
    "               'Cote Ivoire': 'Cote d\\'Ivoire',\n",
    "               'Marshall Island': 'Marshall Islands',\n",
    "               'Dominican Rep': 'Dominican Republic',\n",
    "               'Turks & Caicos': 'Turks and Caicos Islands',\n",
    "               'St Helena': 'Saint Helena',\n",
    "               'St Kitts & Nevi': 'Saint Kitts and Nevis',\n",
    "               'St Vincent': 'Saint Vincent and the Grenadines',\n",
    "               'Antigua & Barbu': 'Antigua and Barbuda',\n",
    "               'Cent Afr Republ': 'Central African Republic',\n",
    "               'Neth Antilles': 'Netherlands Antilles',\n",
    "                   }"
   ],
   "metadata": {
    "collapsed": false
   }
  },
  {
   "cell_type": "code",
   "execution_count": 13,
   "outputs": [],
   "source": [
    "# Iterating over auth rows, then linking to relevant publication to find country, most cited and most recent title of pub\n",
    "# dic = {}\n",
    "# for row in tqdm(df_auth.itertuples(name=None), total=df_auth.shape[0]):\n",
    "def create_dic_additional_info(name, lst_pubs):\n",
    "    # email = row[0]\n",
    "    # set_names = row[1]\n",
    "    # set_pubs = row[3]\n",
    "    set_names = name\n",
    "    set_pubs= lst_pubs\n",
    "    most_recent_pub_title, most_cited_pub_title = \"\", \"\"\n",
    "    most_recent_pub_year, most_cited_pub_tot_citation, most_cited_pub_year = 0, -1, 0\n",
    "    # Dic {country:year}\n",
    "    dic_country_year = {}\n",
    "    # Iterating over publications\n",
    "    for pub_id in set_pubs:\n",
    "        pub = df_full.query('UT == @pub_id')\n",
    "\n",
    "        # Variables of publication year, title, and total citation\n",
    "        py, ti, tc = pub.PY.values[0],pub.TI.values[0], pub.TC.values[0]\n",
    "\n",
    "\n",
    "        # Updating variable when iterating over pubs\n",
    "        if py >= most_recent_pub_year:\n",
    "            most_recent_pub_title = ti\n",
    "            most_recent_pub_year = py\n",
    "        if tc > most_cited_pub_tot_citation:\n",
    "            most_cited_pub_tot_citation = tc\n",
    "            most_cited_pub_title = ti\n",
    "            most_cited_pub_year = py\n",
    "\n",
    "        # About countries\n",
    "        c1_col = pub.C1.values[0]\n",
    "        # Iterating over addresses in c1_col\n",
    "        for addr in re.finditer(reg, c1_col):\n",
    "            for name in set_names:\n",
    "                if name in addr.group(0):\n",
    "                    c = addr.group().split(', ')[-1].replace(\";\", \"\")\n",
    "                    if \"USA\" in c:\n",
    "                        c = \"United States\"\n",
    "                    elif c in dic_country:\n",
    "                        c= dic_country[c]\n",
    "                    dic_country_year[c] = py\n",
    "    if len(dic_country_year) > 0:\n",
    "        country = max(dic_country_year, key=dic_country_year.get)\n",
    "    else:\n",
    "        country = \"unknown\"\n",
    "    # dic = dict()\n",
    "    # dic[email] = {'CN':country, 'MCTI':most_cited_pub_title, 'MCPY':most_cited_pub_year, 'MRTI': most_recent_pub_title, 'MRPY': most_recent_pub_year}\n",
    "\n",
    "    return country, most_cited_pub_title, most_cited_pub_year, most_recent_pub_title, most_recent_pub_year\n",
    "\n",
    "\n",
    "\n"
   ],
   "metadata": {
    "collapsed": false
   }
  },
  {
   "cell_type": "code",
   "execution_count": 14,
   "outputs": [],
   "source": [
    "def add_country(set_names, set_pubs):\n",
    "    dic_country_year = {}\n",
    "\n",
    "    # Iterating over publications\n",
    "    for pub_id in set_pubs:\n",
    "        pub = df_full.query('UT == @pub_id')\n",
    "        py = pub.PY.values[0]\n",
    "        # About countries\n",
    "        c1_col = pub.C1.values[0]\n",
    "        # Iterating over addresses in c1_col\n",
    "        for addr in re.finditer(reg, c1_col):\n",
    "            for name in set_names:\n",
    "                if name in addr.group(0):\n",
    "                    c = addr.group().split(', ')[-1].replace(\";\", \"\")\n",
    "                    if \"USA\" in c:\n",
    "                        c = \"United States\"\n",
    "                    elif c in dic_country:\n",
    "                        c = dic_country[c]\n",
    "                    dic_country_year[c] = py\n",
    "    if len(dic_country_year) > 0:\n",
    "        country = max(dic_country_year, key=dic_country_year.get)\n",
    "    else:\n",
    "        country = \"unknown\"\n",
    "    return country"
   ],
   "metadata": {
    "collapsed": false
   }
  },
  {
   "cell_type": "markdown",
   "source": [],
   "metadata": {
    "collapsed": false
   }
  },
  {
   "cell_type": "code",
   "execution_count": 13,
   "outputs": [
    {
     "name": "stderr",
     "output_type": "stream",
     "text": [
      "100%|██████████| 1000/1000 [01:17<00:00, 12.84it/s]"
     ]
    },
    {
     "name": "stdout",
     "output_type": "stream",
     "text": [
      "CPU times: user 1min 17s, sys: 91.5 ms, total: 1min 17s\n",
      "Wall time: 1min 17s\n"
     ]
    },
    {
     "name": "stderr",
     "output_type": "stream",
     "text": [
      "\n"
     ]
    }
   ],
   "source": [
    "%%time\n",
    "tqdm.pandas()\n",
    "df_auth['CN'],df_auth['MCTI'],df_auth['MCPY'],df_auth['MRTI'], df_auth['MRPY'] = zip(*df_auth.progress_apply(lambda x: create_dic_additional_info(x['name'], x['lst_publications']), axis=1))"
   ],
   "metadata": {
    "collapsed": false
   }
  },
  {
   "cell_type": "code",
   "execution_count": 7,
   "outputs": [],
   "source": [
    "import numpy as np\n",
    "\n",
    "lst = np.array_split(df_auth, 30)"
   ],
   "metadata": {
    "collapsed": false
   }
  },
  {
   "cell_type": "code",
   "execution_count": 8,
   "outputs": [
    {
     "data": {
      "text/plain": "                                                                        name  \\\nbarbara.klik@uwm.edu.pl                    {Klik, Barbara K., Klik, Barbara}   \ndorotak@uwm.edu.pl                      {Kulikowska, D., Kulikowska, Dorota}   \nmariusz.gusiatin@uwm.edu.pl                           {Gusiatin, Zygmunt M.}   \ntvitko@cox.net                                             {Vitko, Tadeo G.}   \neandreou3@gmail.com                                            {Andreou, E.}   \n...                                                                      ...   \njoao.gomes.ferreira@tecnico.ulisboa.pt                {Ferreira, Joao Gomes}   \nmario.matos@tecnico.ulisboa.pt                             {de Matos, Mario}   \nunaiob@gmail.com                                              {Ortega, Unai}   \nisabel.salcedo@ehu.eus                                     {Salcedo, Isabel}   \nenithximena.huerfano@ehu.eus                {Huerfano, Ximena, Huerfano, X.}   \n\n                                        total_publications  \\\nbarbara.klik@uwm.edu.pl                                  2   \ndorotak@uwm.edu.pl                                       7   \nmariusz.gusiatin@uwm.edu.pl                              5   \ntvitko@cox.net                                           1   \neandreou3@gmail.com                                      1   \n...                                                    ...   \njoao.gomes.ferreira@tecnico.ulisboa.pt                   1   \nmario.matos@tecnico.ulisboa.pt                           2   \nunaiob@gmail.com                                         1   \nisabel.salcedo@ehu.eus                                   1   \nenithximena.huerfano@ehu.eus                             4   \n\n                                                                         lst_publications  \\\nbarbara.klik@uwm.edu.pl                        {WOS:000458909900006, WOS:000570328900001}   \ndorotak@uwm.edu.pl                      {WOS:000458909900006, WOS:000689384300001, WOS...   \nmariusz.gusiatin@uwm.edu.pl             {WOS:000458909900006, WOS:000459141600006, WOS...   \ntvitko@cox.net                                                      {WOS:000635505300001}   \neandreou3@gmail.com                                                 {WOS:000410925400094}   \n...                                                                                   ...   \njoao.gomes.ferreira@tecnico.ulisboa.pt                              {WOS:000676900300001}   \nmario.matos@tecnico.ulisboa.pt                 {WOS:000412935300016, WOS:000676900300001}   \nunaiob@gmail.com                                                    {WOS:000676359600001}   \nisabel.salcedo@ehu.eus                                              {WOS:000676359600001}   \nenithximena.huerfano@ehu.eus            {WOS:000460694200061, WOS:000388411000001, WOS...   \n\n                                        PY<2019  PY>=2019  total_citations  \\\nbarbara.klik@uwm.edu.pl                       0         2               20   \ndorotak@uwm.edu.pl                            3         4               47   \nmariusz.gusiatin@uwm.edu.pl                   1         4               41   \ntvitko@cox.net                                0         1                2   \neandreou3@gmail.com                           1         0                6   \n...                                         ...       ...              ...   \njoao.gomes.ferreira@tecnico.ulisboa.pt        0         1                0   \nmario.matos@tecnico.ulisboa.pt                1         1                5   \nunaiob@gmail.com                              0         1                0   \nisabel.salcedo@ehu.eus                        0         1                0   \nenithximena.huerfano@ehu.eus                  2         2               34   \n\n                                                                                 keywords  \\\nbarbara.klik@uwm.edu.pl                 {'Environmental Sciences': 1, 'Public, Environ...   \ndorotak@uwm.edu.pl                      {'Environmental Sciences': 4, 'Public, Environ...   \nmariusz.gusiatin@uwm.edu.pl             {'Environmental Sciences': 3, 'Public, Environ...   \ntvitko@cox.net                          {'Engineering, Environmental': 1, 'Environment...   \neandreou3@gmail.com                     {'Construction & Building Technology': 1, 'Eng...   \n...                                                                                   ...   \njoao.gomes.ferreira@tecnico.ulisboa.pt  {'Green & Sustainable Science & Technology': 1...   \nmario.matos@tecnico.ulisboa.pt          {'Green & Sustainable Science & Technology': 2...   \nunaiob@gmail.com                                                          {'Forestry': 1}   \nisabel.salcedo@ehu.eus                                                    {'Forestry': 1}   \nenithximena.huerfano@ehu.eus            {'Forestry': 1, 'Agronomy': 2, 'Environmental ...   \n\n                                        IOT  AI  computing_infrastructure  \\\nbarbara.klik@uwm.edu.pl                   0   0                         0   \ndorotak@uwm.edu.pl                        0   0                         0   \nmariusz.gusiatin@uwm.edu.pl               0   0                         0   \ntvitko@cox.net                            0   0                         0   \neandreou3@gmail.com                       0   0                         0   \n...                                     ...  ..                       ...   \njoao.gomes.ferreira@tecnico.ulisboa.pt    0   0                         0   \nmario.matos@tecnico.ulisboa.pt            0   0                         0   \nunaiob@gmail.com                          0   0                         0   \nisabel.salcedo@ehu.eus                    0   0                         0   \nenithximena.huerfano@ehu.eus              0   0                         0   \n\n                                        ...  SDG14  SDG15  SDG16  SDG17  \\\nbarbara.klik@uwm.edu.pl                 ...      0      0      0      0   \ndorotak@uwm.edu.pl                      ...      0      0      0      0   \nmariusz.gusiatin@uwm.edu.pl             ...      0      0      0      0   \ntvitko@cox.net                          ...      0      0      0      0   \neandreou3@gmail.com                     ...      0      0      0      0   \n...                                     ...    ...    ...    ...    ...   \njoao.gomes.ferreira@tecnico.ulisboa.pt  ...      0      0      0      0   \nmario.matos@tecnico.ulisboa.pt          ...      0      0      0      0   \nunaiob@gmail.com                        ...      0      1      0      0   \nisabel.salcedo@ehu.eus                  ...      0      1      0      0   \nenithximena.huerfano@ehu.eus            ...      0      1      0      0   \n\n                                        Society  Economy  Environment  SDG  \\\nbarbara.klik@uwm.edu.pl                       1        1            0    1   \ndorotak@uwm.edu.pl                            5        3            0    1   \nmariusz.gusiatin@uwm.edu.pl                   3        1            1    1   \ntvitko@cox.net                                0        1            0    1   \neandreou3@gmail.com                           0        1            0    1   \n...                                         ...      ...          ...  ...   \njoao.gomes.ferreira@tecnico.ulisboa.pt        0        1            0    1   \nmario.matos@tecnico.ulisboa.pt                1        1            0    1   \nunaiob@gmail.com                              0        1            1    1   \nisabel.salcedo@ehu.eus                        0        1            1    1   \nenithximena.huerfano@ehu.eus                  0        1            4    1   \n\n                                        DT  Intersection  \nbarbara.klik@uwm.edu.pl                  0             0  \ndorotak@uwm.edu.pl                       0             0  \nmariusz.gusiatin@uwm.edu.pl              0             0  \ntvitko@cox.net                           0             0  \neandreou3@gmail.com                      0             0  \n...                                     ..           ...  \njoao.gomes.ferreira@tecnico.ulisboa.pt   0             0  \nmario.matos@tecnico.ulisboa.pt           0             0  \nunaiob@gmail.com                         0             0  \nisabel.salcedo@ehu.eus                   0             0  \nenithximena.huerfano@ehu.eus             0             0  \n\n[89597 rows x 37 columns]",
      "text/html": "<div>\n<style scoped>\n    .dataframe tbody tr th:only-of-type {\n        vertical-align: middle;\n    }\n\n    .dataframe tbody tr th {\n        vertical-align: top;\n    }\n\n    .dataframe thead th {\n        text-align: right;\n    }\n</style>\n<table border=\"1\" class=\"dataframe\">\n  <thead>\n    <tr style=\"text-align: right;\">\n      <th></th>\n      <th>name</th>\n      <th>total_publications</th>\n      <th>lst_publications</th>\n      <th>PY&lt;2019</th>\n      <th>PY&gt;=2019</th>\n      <th>total_citations</th>\n      <th>keywords</th>\n      <th>IOT</th>\n      <th>AI</th>\n      <th>computing_infrastructure</th>\n      <th>...</th>\n      <th>SDG14</th>\n      <th>SDG15</th>\n      <th>SDG16</th>\n      <th>SDG17</th>\n      <th>Society</th>\n      <th>Economy</th>\n      <th>Environment</th>\n      <th>SDG</th>\n      <th>DT</th>\n      <th>Intersection</th>\n    </tr>\n  </thead>\n  <tbody>\n    <tr>\n      <th>barbara.klik@uwm.edu.pl</th>\n      <td>{Klik, Barbara K., Klik, Barbara}</td>\n      <td>2</td>\n      <td>{WOS:000458909900006, WOS:000570328900001}</td>\n      <td>0</td>\n      <td>2</td>\n      <td>20</td>\n      <td>{'Environmental Sciences': 1, 'Public, Environ...</td>\n      <td>0</td>\n      <td>0</td>\n      <td>0</td>\n      <td>...</td>\n      <td>0</td>\n      <td>0</td>\n      <td>0</td>\n      <td>0</td>\n      <td>1</td>\n      <td>1</td>\n      <td>0</td>\n      <td>1</td>\n      <td>0</td>\n      <td>0</td>\n    </tr>\n    <tr>\n      <th>dorotak@uwm.edu.pl</th>\n      <td>{Kulikowska, D., Kulikowska, Dorota}</td>\n      <td>7</td>\n      <td>{WOS:000458909900006, WOS:000689384300001, WOS...</td>\n      <td>3</td>\n      <td>4</td>\n      <td>47</td>\n      <td>{'Environmental Sciences': 4, 'Public, Environ...</td>\n      <td>0</td>\n      <td>0</td>\n      <td>0</td>\n      <td>...</td>\n      <td>0</td>\n      <td>0</td>\n      <td>0</td>\n      <td>0</td>\n      <td>5</td>\n      <td>3</td>\n      <td>0</td>\n      <td>1</td>\n      <td>0</td>\n      <td>0</td>\n    </tr>\n    <tr>\n      <th>mariusz.gusiatin@uwm.edu.pl</th>\n      <td>{Gusiatin, Zygmunt M.}</td>\n      <td>5</td>\n      <td>{WOS:000458909900006, WOS:000459141600006, WOS...</td>\n      <td>1</td>\n      <td>4</td>\n      <td>41</td>\n      <td>{'Environmental Sciences': 3, 'Public, Environ...</td>\n      <td>0</td>\n      <td>0</td>\n      <td>0</td>\n      <td>...</td>\n      <td>0</td>\n      <td>0</td>\n      <td>0</td>\n      <td>0</td>\n      <td>3</td>\n      <td>1</td>\n      <td>1</td>\n      <td>1</td>\n      <td>0</td>\n      <td>0</td>\n    </tr>\n    <tr>\n      <th>tvitko@cox.net</th>\n      <td>{Vitko, Tadeo G.}</td>\n      <td>1</td>\n      <td>{WOS:000635505300001}</td>\n      <td>0</td>\n      <td>1</td>\n      <td>2</td>\n      <td>{'Engineering, Environmental': 1, 'Environment...</td>\n      <td>0</td>\n      <td>0</td>\n      <td>0</td>\n      <td>...</td>\n      <td>0</td>\n      <td>0</td>\n      <td>0</td>\n      <td>0</td>\n      <td>0</td>\n      <td>1</td>\n      <td>0</td>\n      <td>1</td>\n      <td>0</td>\n      <td>0</td>\n    </tr>\n    <tr>\n      <th>eandreou3@gmail.com</th>\n      <td>{Andreou, E.}</td>\n      <td>1</td>\n      <td>{WOS:000410925400094}</td>\n      <td>1</td>\n      <td>0</td>\n      <td>6</td>\n      <td>{'Construction &amp; Building Technology': 1, 'Eng...</td>\n      <td>0</td>\n      <td>0</td>\n      <td>0</td>\n      <td>...</td>\n      <td>0</td>\n      <td>0</td>\n      <td>0</td>\n      <td>0</td>\n      <td>0</td>\n      <td>1</td>\n      <td>0</td>\n      <td>1</td>\n      <td>0</td>\n      <td>0</td>\n    </tr>\n    <tr>\n      <th>...</th>\n      <td>...</td>\n      <td>...</td>\n      <td>...</td>\n      <td>...</td>\n      <td>...</td>\n      <td>...</td>\n      <td>...</td>\n      <td>...</td>\n      <td>...</td>\n      <td>...</td>\n      <td>...</td>\n      <td>...</td>\n      <td>...</td>\n      <td>...</td>\n      <td>...</td>\n      <td>...</td>\n      <td>...</td>\n      <td>...</td>\n      <td>...</td>\n      <td>...</td>\n      <td>...</td>\n    </tr>\n    <tr>\n      <th>joao.gomes.ferreira@tecnico.ulisboa.pt</th>\n      <td>{Ferreira, Joao Gomes}</td>\n      <td>1</td>\n      <td>{WOS:000676900300001}</td>\n      <td>0</td>\n      <td>1</td>\n      <td>0</td>\n      <td>{'Green &amp; Sustainable Science &amp; Technology': 1...</td>\n      <td>0</td>\n      <td>0</td>\n      <td>0</td>\n      <td>...</td>\n      <td>0</td>\n      <td>0</td>\n      <td>0</td>\n      <td>0</td>\n      <td>0</td>\n      <td>1</td>\n      <td>0</td>\n      <td>1</td>\n      <td>0</td>\n      <td>0</td>\n    </tr>\n    <tr>\n      <th>mario.matos@tecnico.ulisboa.pt</th>\n      <td>{de Matos, Mario}</td>\n      <td>2</td>\n      <td>{WOS:000412935300016, WOS:000676900300001}</td>\n      <td>1</td>\n      <td>1</td>\n      <td>5</td>\n      <td>{'Green &amp; Sustainable Science &amp; Technology': 2...</td>\n      <td>0</td>\n      <td>0</td>\n      <td>0</td>\n      <td>...</td>\n      <td>0</td>\n      <td>0</td>\n      <td>0</td>\n      <td>0</td>\n      <td>1</td>\n      <td>1</td>\n      <td>0</td>\n      <td>1</td>\n      <td>0</td>\n      <td>0</td>\n    </tr>\n    <tr>\n      <th>unaiob@gmail.com</th>\n      <td>{Ortega, Unai}</td>\n      <td>1</td>\n      <td>{WOS:000676359600001}</td>\n      <td>0</td>\n      <td>1</td>\n      <td>0</td>\n      <td>{'Forestry': 1}</td>\n      <td>0</td>\n      <td>0</td>\n      <td>0</td>\n      <td>...</td>\n      <td>0</td>\n      <td>1</td>\n      <td>0</td>\n      <td>0</td>\n      <td>0</td>\n      <td>1</td>\n      <td>1</td>\n      <td>1</td>\n      <td>0</td>\n      <td>0</td>\n    </tr>\n    <tr>\n      <th>isabel.salcedo@ehu.eus</th>\n      <td>{Salcedo, Isabel}</td>\n      <td>1</td>\n      <td>{WOS:000676359600001}</td>\n      <td>0</td>\n      <td>1</td>\n      <td>0</td>\n      <td>{'Forestry': 1}</td>\n      <td>0</td>\n      <td>0</td>\n      <td>0</td>\n      <td>...</td>\n      <td>0</td>\n      <td>1</td>\n      <td>0</td>\n      <td>0</td>\n      <td>0</td>\n      <td>1</td>\n      <td>1</td>\n      <td>1</td>\n      <td>0</td>\n      <td>0</td>\n    </tr>\n    <tr>\n      <th>enithximena.huerfano@ehu.eus</th>\n      <td>{Huerfano, Ximena, Huerfano, X.}</td>\n      <td>4</td>\n      <td>{WOS:000460694200061, WOS:000388411000001, WOS...</td>\n      <td>2</td>\n      <td>2</td>\n      <td>34</td>\n      <td>{'Forestry': 1, 'Agronomy': 2, 'Environmental ...</td>\n      <td>0</td>\n      <td>0</td>\n      <td>0</td>\n      <td>...</td>\n      <td>0</td>\n      <td>1</td>\n      <td>0</td>\n      <td>0</td>\n      <td>0</td>\n      <td>1</td>\n      <td>4</td>\n      <td>1</td>\n      <td>0</td>\n      <td>0</td>\n    </tr>\n  </tbody>\n</table>\n<p>89597 rows × 37 columns</p>\n</div>"
     },
     "execution_count": 8,
     "metadata": {},
     "output_type": "execute_result"
    }
   ],
   "source": [
    "lst[0]"
   ],
   "metadata": {
    "collapsed": false
   }
  },
  {
   "cell_type": "code",
   "execution_count": 5,
   "outputs": [
    {
     "name": "stdout",
     "output_type": "stream",
     "text": [
      "{'Klik, Barbara K.', 'Klik, Barbara'}\n",
      "{'WOS:000570328900001', 'WOS:000458909900006'}\n"
     ]
    }
   ],
   "source": [
    "test = df_auth[['name', 'lst_publications']].to_dict(orient='split')\n",
    "\n",
    "# test['data'] list (list (set(names), set(pubs) ) )\n",
    "for names, pubs in test['data']:\n",
    "    print(names)\n",
    "    print(pubs)\n",
    "    break"
   ],
   "metadata": {
    "collapsed": false
   }
  },
  {
   "cell_type": "code",
   "execution_count": 13,
   "outputs": [],
   "source": [
    "import multiprocessing\n",
    "from multiprocessing import Pool"
   ],
   "metadata": {
    "collapsed": false
   }
  },
  {
   "cell_type": "code",
   "execution_count": 14,
   "outputs": [
    {
     "data": {
      "text/plain": "16"
     },
     "execution_count": 14,
     "metadata": {},
     "output_type": "execute_result"
    }
   ],
   "source": [
    "n_cores = multiprocessing.cpu_count()\n",
    "n_cores"
   ],
   "metadata": {
    "collapsed": false
   }
  },
  {
   "cell_type": "code",
   "execution_count": null,
   "outputs": [],
   "source": [
    "%%time\n",
    "\n",
    "def multi_run_wrapper(args):\n",
    "   return add_country(*args)\n",
    "\n",
    "pool = Pool(16)\n",
    "results = pool.map(multi_run_wrapper, test['data'])"
   ],
   "metadata": {
    "collapsed": false
   }
  },
  {
   "cell_type": "code",
   "execution_count": 5,
   "outputs": [
    {
     "ename": "NameError",
     "evalue": "name 'add_country' is not defined",
     "output_type": "error",
     "traceback": [
      "\u001B[0;31m---------------------------------------------------------------------------\u001B[0m",
      "\u001B[0;31mNameError\u001B[0m                                 Traceback (most recent call last)",
      "File \u001B[0;32m<timed exec>:2\u001B[0m\n",
      "\u001B[0;31mNameError\u001B[0m: name 'add_country' is not defined"
     ]
    }
   ],
   "source": [
    "%%time\n",
    "with multiprocessing.Pool(processes=8) as pool:\n",
    "        results = pool.starmap(add_country, test['data'])\n"
   ],
   "metadata": {
    "collapsed": false
   }
  },
  {
   "cell_type": "code",
   "execution_count": 19,
   "outputs": [],
   "source": [
    "def add_country(set_names, set_pubs):\n",
    "    dic_country_year = {}\n",
    "\n",
    "    # Iterating over publications\n",
    "    for pub_id in set_pubs:\n",
    "        py, c1 = dic_full[pub_id].values()\n",
    "        # Iterating over addresses in c1_col\n",
    "        for addr in re.finditer(reg, c1):\n",
    "            for name in set_names:\n",
    "                if name in addr.group(0):\n",
    "                    c = addr.group().split(', ')[-1].replace(\";\", \"\")\n",
    "                    if \"USA\" in c:\n",
    "                        c = \"United States\"\n",
    "                    elif c in dic_country:\n",
    "                        c = dic_country[c]\n",
    "                    dic_country_year[c] = py\n",
    "    if len(dic_country_year) > 0:\n",
    "        country = max(dic_country_year, key=dic_country_year.get)\n",
    "    else:\n",
    "        country = \"unknown\"\n",
    "    return country"
   ],
   "metadata": {
    "collapsed": false
   }
  },
  {
   "cell_type": "code",
   "execution_count": null,
   "outputs": [],
   "source": [
    "# df_full to dict\n",
    "dic_full = df_full.set_index('UT')[['PY', 'C1']].to_dict(orient='index')"
   ],
   "metadata": {
    "collapsed": false
   }
  },
  {
   "cell_type": "code",
   "execution_count": 8,
   "outputs": [],
   "source": [
    "# df_auth to dict\n",
    "auth = df_auth.sample(5)\n",
    "tuple_auths = auth[['name', 'lst_publications']].to_dict(orient='split')"
   ],
   "metadata": {
    "collapsed": false
   }
  },
  {
   "cell_type": "code",
   "execution_count": 7,
   "outputs": [
    {
     "data": {
      "text/plain": "{'index': ['mayanfang@hebut.edu.cn',\n  'chirstelle.bloch@femto-st.fr',\n  'aaksu@istanbul.edu.tr',\n  'vasja.rant@ef.uni-lj.si',\n  'dbrohlin@sfedu.ru'],\n 'columns': ['name', 'lst_publications'],\n 'data': [[{'Ma, Yanfang'}, {'WOS:000469901200088', 'WOS:000543421400108'}],\n  [{'Bloch, Christelle'}, {'WOS:000398618300043'}],\n  [{'Aksu, Abdullah'}, {'WOS:000412880600017'}],\n  [{'Rant, Vasja'}, {'WOS:000535273800009'}],\n  [{'Rokhlin, Dmitry B.'}, {'WOS:000614019800001'}]]}"
     },
     "execution_count": 7,
     "metadata": {},
     "output_type": "execute_result"
    }
   ],
   "source": [
    "tuple_auths"
   ],
   "metadata": {
    "collapsed": false
   }
  },
  {
   "cell_type": "code",
   "execution_count": 10,
   "outputs": [
    {
     "data": {
      "text/plain": "                                                  name  total_publications  \\\nm.stenzel@unsw.edu.au            {Stenzel, Martina H.}                   3   \nvnshukla@eci.gov.in                    {Shukla, Seema}                   1   \nghjahng@gmail.com                     {Jahng, Geon-Ho}                   1   \njgriffin5@luc.edu               {Griffin, Jennifer J.}                   2   \nheloise.legoff@mffp.gouv.qc.ca      {Le Goff, Heloise}                   1   \n\n                                                                 lst_publications  \\\nm.stenzel@unsw.edu.au           {WOS:000592313600012, WOS:000674974800001, WOS...   \nvnshukla@eci.gov.in                                         {WOS:000380430600021}   \nghjahng@gmail.com                                           {WOS:000561623900002}   \njgriffin5@luc.edu                      {WOS:000484407900001, WOS:000495452500001}   \nheloise.legoff@mffp.gouv.qc.ca                              {WOS:000365035900019}   \n\n                                PY<2019  PY>=2019  total_citations  \\\nm.stenzel@unsw.edu.au                 0         3               30   \nvnshukla@eci.gov.in                   1         0                0   \nghjahng@gmail.com                     0         1                2   \njgriffin5@luc.edu                     0         2               17   \nheloise.legoff@mffp.gouv.qc.ca        1         0               10   \n\n                                                                         keywords  \\\nm.stenzel@unsw.edu.au           {'Materials Science, Biomaterials': 1, 'Materi...   \nvnshukla@eci.gov.in             {'Computer Science, Artificial Intelligence': ...   \nghjahng@gmail.com                   {'Clinical Neurology': 1, 'Neurosciences': 1}   \njgriffin5@luc.edu               {'Business': 2, 'Environmental Studies': 1, 'M...   \nheloise.legoff@mffp.gouv.qc.ca                                    {'Forestry': 1}   \n\n                                IOT  AI  computing_infrastructure  ...  SDG15  \\\nm.stenzel@unsw.edu.au             0   0                         0  ...      0   \nvnshukla@eci.gov.in               1   1                         0  ...      0   \nghjahng@gmail.com                 0   1                         0  ...      0   \njgriffin5@luc.edu                 0   0                         0  ...      0   \nheloise.legoff@mffp.gouv.qc.ca    0   0                         0  ...      0   \n\n                                SDG16  SDG17  Society  Economy  Environment  \\\nm.stenzel@unsw.edu.au               0      0        0        0            0   \nvnshukla@eci.gov.in                 0      0        0        0            0   \nghjahng@gmail.com                   0      0        0        0            0   \njgriffin5@luc.edu                   0      0        1        0            1   \nheloise.legoff@mffp.gouv.qc.ca      0      0        0        0            1   \n\n                                SDG  DT  Intersection              CN  \nm.stenzel@unsw.edu.au             0   1             0          France  \nvnshukla@eci.gov.in               0   1             0         Germany  \nghjahng@gmail.com                 0   1             0  United Kingdom  \njgriffin5@luc.edu                 1   0             0   United States  \nheloise.legoff@mffp.gouv.qc.ca    1   0             0          Poland  \n\n[5 rows x 38 columns]",
      "text/html": "<div>\n<style scoped>\n    .dataframe tbody tr th:only-of-type {\n        vertical-align: middle;\n    }\n\n    .dataframe tbody tr th {\n        vertical-align: top;\n    }\n\n    .dataframe thead th {\n        text-align: right;\n    }\n</style>\n<table border=\"1\" class=\"dataframe\">\n  <thead>\n    <tr style=\"text-align: right;\">\n      <th></th>\n      <th>name</th>\n      <th>total_publications</th>\n      <th>lst_publications</th>\n      <th>PY&lt;2019</th>\n      <th>PY&gt;=2019</th>\n      <th>total_citations</th>\n      <th>keywords</th>\n      <th>IOT</th>\n      <th>AI</th>\n      <th>computing_infrastructure</th>\n      <th>...</th>\n      <th>SDG15</th>\n      <th>SDG16</th>\n      <th>SDG17</th>\n      <th>Society</th>\n      <th>Economy</th>\n      <th>Environment</th>\n      <th>SDG</th>\n      <th>DT</th>\n      <th>Intersection</th>\n      <th>CN</th>\n    </tr>\n  </thead>\n  <tbody>\n    <tr>\n      <th>m.stenzel@unsw.edu.au</th>\n      <td>{Stenzel, Martina H.}</td>\n      <td>3</td>\n      <td>{WOS:000592313600012, WOS:000674974800001, WOS...</td>\n      <td>0</td>\n      <td>3</td>\n      <td>30</td>\n      <td>{'Materials Science, Biomaterials': 1, 'Materi...</td>\n      <td>0</td>\n      <td>0</td>\n      <td>0</td>\n      <td>...</td>\n      <td>0</td>\n      <td>0</td>\n      <td>0</td>\n      <td>0</td>\n      <td>0</td>\n      <td>0</td>\n      <td>0</td>\n      <td>1</td>\n      <td>0</td>\n      <td>France</td>\n    </tr>\n    <tr>\n      <th>vnshukla@eci.gov.in</th>\n      <td>{Shukla, Seema}</td>\n      <td>1</td>\n      <td>{WOS:000380430600021}</td>\n      <td>1</td>\n      <td>0</td>\n      <td>0</td>\n      <td>{'Computer Science, Artificial Intelligence': ...</td>\n      <td>1</td>\n      <td>1</td>\n      <td>0</td>\n      <td>...</td>\n      <td>0</td>\n      <td>0</td>\n      <td>0</td>\n      <td>0</td>\n      <td>0</td>\n      <td>0</td>\n      <td>0</td>\n      <td>1</td>\n      <td>0</td>\n      <td>Germany</td>\n    </tr>\n    <tr>\n      <th>ghjahng@gmail.com</th>\n      <td>{Jahng, Geon-Ho}</td>\n      <td>1</td>\n      <td>{WOS:000561623900002}</td>\n      <td>0</td>\n      <td>1</td>\n      <td>2</td>\n      <td>{'Clinical Neurology': 1, 'Neurosciences': 1}</td>\n      <td>0</td>\n      <td>1</td>\n      <td>0</td>\n      <td>...</td>\n      <td>0</td>\n      <td>0</td>\n      <td>0</td>\n      <td>0</td>\n      <td>0</td>\n      <td>0</td>\n      <td>0</td>\n      <td>1</td>\n      <td>0</td>\n      <td>United Kingdom</td>\n    </tr>\n    <tr>\n      <th>jgriffin5@luc.edu</th>\n      <td>{Griffin, Jennifer J.}</td>\n      <td>2</td>\n      <td>{WOS:000484407900001, WOS:000495452500001}</td>\n      <td>0</td>\n      <td>2</td>\n      <td>17</td>\n      <td>{'Business': 2, 'Environmental Studies': 1, 'M...</td>\n      <td>0</td>\n      <td>0</td>\n      <td>0</td>\n      <td>...</td>\n      <td>0</td>\n      <td>0</td>\n      <td>0</td>\n      <td>1</td>\n      <td>0</td>\n      <td>1</td>\n      <td>1</td>\n      <td>0</td>\n      <td>0</td>\n      <td>United States</td>\n    </tr>\n    <tr>\n      <th>heloise.legoff@mffp.gouv.qc.ca</th>\n      <td>{Le Goff, Heloise}</td>\n      <td>1</td>\n      <td>{WOS:000365035900019}</td>\n      <td>1</td>\n      <td>0</td>\n      <td>10</td>\n      <td>{'Forestry': 1}</td>\n      <td>0</td>\n      <td>0</td>\n      <td>0</td>\n      <td>...</td>\n      <td>0</td>\n      <td>0</td>\n      <td>0</td>\n      <td>0</td>\n      <td>0</td>\n      <td>1</td>\n      <td>1</td>\n      <td>0</td>\n      <td>0</td>\n      <td>Poland</td>\n    </tr>\n  </tbody>\n</table>\n<p>5 rows × 38 columns</p>\n</div>"
     },
     "execution_count": 10,
     "metadata": {},
     "output_type": "execute_result"
    }
   ],
   "source": [
    "import numpy as np\n",
    "lst = ['France', 'Germany', 'United Kingdom', 'United States', 'Poland']\n",
    "auth['CN'] = np.array(lst)\n",
    "auth"
   ],
   "metadata": {
    "collapsed": false
   }
  },
  {
   "cell_type": "code",
   "execution_count": 17,
   "outputs": [],
   "source": [
    "def multi_run_wrapper(args):\n",
    "    return add_country(*args)"
   ],
   "metadata": {
    "collapsed": false
   }
  },
  {
   "cell_type": "code",
   "execution_count": 18,
   "outputs": [
    {
     "name": "stdout",
     "output_type": "stream",
     "text": [
      "ItalyItalyAustraliaSouth KoreaJapanChinaUnited StatesIndiaIndiaIndia\n",
      "\n",
      "\n",
      "\n",
      "1.3306992053985596\n",
      "['Japan', 'Italy', 'Australia', 'Italy', 'South Korea', 'United States', 'India', 'China', 'India', 'India']\n",
      "\n",
      "\n",
      "\n",
      "\n",
      "\n",
      "\n"
     ]
    }
   ],
   "source": [
    "import time\n",
    "import re\n",
    "\n",
    "start = time.time()\n",
    "pool = Pool(16)\n",
    "results = pool.map(multi_run_wrapper, tuple_auths)\n",
    "end = time.time()\n",
    "print(end - start)\n",
    "print(results)"
   ],
   "metadata": {
    "collapsed": false
   }
  },
  {
   "cell_type": "code",
   "execution_count": 1,
   "outputs": [],
   "source": [
    "import pandas as pd\n",
    "input_path = \"../data/dataframes/authors/authors_w_cn/0.pkl\"\n",
    "df = pd.read_pickle(input_path).sample(10)"
   ],
   "metadata": {
    "collapsed": false
   }
  },
  {
   "cell_type": "code",
   "execution_count": 10,
   "outputs": [],
   "source": [
    "df_full = pd.read_pickle(\"../data/dataframes/full_pubs.pkl\")\n",
    "# df_full to dict\n",
    "\n",
    "dic_full = df_full.set_index('UT')[['PY', 'TC', 'TI']].to_dict(orient='index')"
   ],
   "metadata": {
    "collapsed": false
   }
  },
  {
   "cell_type": "code",
   "execution_count": 12,
   "outputs": [],
   "source": [
    "auth = df[['lst_publications']].to_dict(orient='split')\n",
    "tuple_auths = auth['data']"
   ],
   "metadata": {
    "collapsed": false
   }
  },
  {
   "cell_type": "code",
   "execution_count": 18,
   "outputs": [],
   "source": [
    "def add_most_cited_pub(set_pubs):\n",
    "\n",
    "    most_cited_pub_title = \"\"\n",
    "    most_cited_pub_tot_citation, most_cited_pub_year = -1, -1\n",
    "    for pub_id in set_pubs:\n",
    "        py, tc, ti = dic_full[pub_id].values()\n",
    "        if tc > most_cited_pub_tot_citation:\n",
    "            most_cited_pub_tot_citation = tc\n",
    "            most_cited_pub_title = ti\n",
    "            most_cited_pub_year = py\n",
    "    return most_cited_pub_title, most_cited_pub_year, most_cited_pub_tot_citation"
   ],
   "metadata": {
    "collapsed": false
   }
  },
  {
   "cell_type": "code",
   "execution_count": 20,
   "outputs": [
    {
     "data": {
      "text/plain": "('Impact of bioethanol impurities on steam reforming for hydrogen production: A review',\n 'Sustainable operations of industrial symbiosis: an enterprise input-output model integrated by agent-based simulation',\n 'Optimization of two-phased anaerobic sludge digestion using the pressurized ultra filtration membrane with a mesh screen (MS-PUFM)',\n 'On the friction drag reduction mechanism of streamwise wall fluctuations',\n 'Sustainable Brand Management of Alimentary Goods',\n 'Comparison of environmental benchmarks of masonry and concrete structure based on a building model',\n 'Microclimate tourism and microclimate tourism security and safety in China',\n 'Heterogeneous effects of energy efficiency and renewable energy on carbon emissions: Evidence from developing countries',\n 'Structural Behavior of Reinforced Concrete Beams Incorporating Foamed Glass as Aggregates',\n 'Essential new PLS-SEM analysis methods for your entrepreneurship analytical toolbox')"
     },
     "execution_count": 20,
     "metadata": {},
     "output_type": "execute_result"
    }
   ],
   "source": [
    "ti, py, tc = zip(*[add_most_cited_pub(lst) for lst in tuple_auths])\n",
    "ti"
   ],
   "metadata": {
    "collapsed": false
   }
  },
  {
   "cell_type": "code",
   "execution_count": 21,
   "outputs": [],
   "source": [
    "from multiprocessing import Pool\n",
    "with Pool(8) as pool:\n",
    "    results = pool.map(add_most_cited_pub, tuple_auths)\n"
   ],
   "metadata": {
    "collapsed": false
   }
  },
  {
   "cell_type": "code",
   "execution_count": 30,
   "outputs": [
    {
     "data": {
      "text/plain": "                                                                          name  \\\nmartha.cobo@unisabana.edu.co                                    {Cobo, Martha}   \nd.m.yazan@utwente.nl                                     {Yazan, Devrim Murat}   \ngeebhan@catholic.ac.kr                                         {Han, Gee-Bong}   \ntamas.jozsa@eng.ox.ac.uk                                 {Jozsa, Tamas Istvan}   \njana.majerova@fpedas.uniza.sk                                 {Majerova, Jana}   \nsazedj@fa.ulisboa.pt                                          {Sazedj, Soheyl}   \n1601108007@hqu.edu.cn                                               {no_match}   \nfahad.rabiyaphd@yahoo.com                                       {Akram, Rabia}   \ndawood.sulaiman@uod.ac                                    {Atrushi, Dawood S.}   \nwmcdowell@bradley.edu          {McDowell, William C., Williams, Ralph I., Jr.}   \n\n                               total_publications  \\\nmartha.cobo@unisabana.edu.co                    7   \nd.m.yazan@utwente.nl                           10   \ngeebhan@catholic.ac.kr                          7   \ntamas.jozsa@eng.ox.ac.uk                        1   \njana.majerova@fpedas.uniza.sk                   3   \nsazedj@fa.ulisboa.pt                            1   \n1601108007@hqu.edu.cn                           1   \nfahad.rabiyaphd@yahoo.com                       4   \ndawood.sulaiman@uod.ac                          1   \nwmcdowell@bradley.edu                           4   \n\n                                                                lst_publications  \\\nmartha.cobo@unisabana.edu.co   {WOS:000405369800027, WOS:000524161700005, WOS...   \nd.m.yazan@utwente.nl           {WOS:000434299000006, WOS:000390628300008, WOS...   \ngeebhan@catholic.ac.kr         {WOS:000284097000002, WOS:000401991400008, WOS...   \ntamas.jozsa@eng.ox.ac.uk                                   {WOS:000629999200013}   \njana.majerova@fpedas.uniza.sk  {WOS:000763773400071, WOS:000516824600114, WOS...   \nsazedj@fa.ulisboa.pt                                       {WOS:000400033700004}   \n1601108007@hqu.edu.cn                                      {WOS:000469890300009}   \nfahad.rabiyaphd@yahoo.com      {WOS:000505696700042, WOS:000657366000004, WOS...   \ndawood.sulaiman@uod.ac                                     {WOS:000625327600006}   \nwmcdowell@bradley.edu          {WOS:000546201700001, WOS:000590683000041, WOS...   \n\n                               PY<2019  PY>=2019  total_citations  \\\nmartha.cobo@unisabana.edu.co         3         4               86   \nd.m.yazan@utwente.nl                 6         4              267   \ngeebhan@catholic.ac.kr               7         0               24   \ntamas.jozsa@eng.ox.ac.uk             0         1                1   \njana.majerova@fpedas.uniza.sk        1         2               10   \nsazedj@fa.ulisboa.pt                 1         0               10   \n1601108007@hqu.edu.cn                0         1                9   \nfahad.rabiyaphd@yahoo.com            0         4              416   \ndawood.sulaiman@uod.ac               0         1                0   \nwmcdowell@bradley.edu                0         4               63   \n\n                                                                        keywords  \\\nmartha.cobo@unisabana.edu.co   {'Chemistry, Physical': 2, 'Electrochemistry':...   \nd.m.yazan@utwente.nl           {'Environmental Sciences': 4, 'Engineering, En...   \ngeebhan@catholic.ac.kr         {'Engineering, Chemical': 2, 'Engineering, Env...   \ntamas.jozsa@eng.ox.ac.uk       {'Thermodynamics': 1, 'Engineering, Mechanical...   \njana.majerova@fpedas.uniza.sk  {'Green & Sustainable Science & Technology': 1...   \nsazedj@fa.ulisboa.pt           {'Construction & Building Technology': 1, 'Eng...   \n1601108007@hqu.edu.cn          {'Environmental Studies': 1, 'Hospitality, Lei...   \nfahad.rabiyaphd@yahoo.com      {'Construction & Building Technology': 1, 'Gre...   \ndawood.sulaiman@uod.ac                         {'Multidisciplinary Sciences': 1}   \nwmcdowell@bradley.edu          {'Green & Sustainable Science & Technology': 1...   \n\n                               IOT  AI  computing_infrastructure  ...  \\\nmartha.cobo@unisabana.edu.co     0   0                         0  ...   \nd.m.yazan@utwente.nl             0   0                         0  ...   \ngeebhan@catholic.ac.kr           0   0                         0  ...   \ntamas.jozsa@eng.ox.ac.uk         0   0                         0  ...   \njana.majerova@fpedas.uniza.sk    1   0                         0  ...   \nsazedj@fa.ulisboa.pt             0   0                         0  ...   \n1601108007@hqu.edu.cn            0   0                         0  ...   \nfahad.rabiyaphd@yahoo.com        0   0                         0  ...   \ndawood.sulaiman@uod.ac           0   0                         0  ...   \nwmcdowell@bradley.edu            0   0                         0  ...   \n\n                               Society  Economy  Environment  SDG  DT  \\\nmartha.cobo@unisabana.edu.co         0        7            2    1   0   \nd.m.yazan@utwente.nl                 0       10            5    1   0   \ngeebhan@catholic.ac.kr               7        1            0    1   0   \ntamas.jozsa@eng.ox.ac.uk             0        1            0    1   0   \njana.majerova@fpedas.uniza.sk        1        1            1    1   1   \nsazedj@fa.ulisboa.pt                 1        2            0    1   0   \n1601108007@hqu.edu.cn                0        2            0    1   0   \nfahad.rabiyaphd@yahoo.com            2        3            5    1   0   \ndawood.sulaiman@uod.ac               0        1            0    1   0   \nwmcdowell@bradley.edu                0        4            0    1   0   \n\n                               Intersection              CN  \\\nmartha.cobo@unisabana.edu.co              0        Colombia   \nd.m.yazan@utwente.nl                      0     Netherlands   \ngeebhan@catholic.ac.kr                    0     South Korea   \ntamas.jozsa@eng.ox.ac.uk                  0  United Kingdom   \njana.majerova@fpedas.uniza.sk             1        Slovakia   \nsazedj@fa.ulisboa.pt                      0        Portugal   \n1601108007@hqu.edu.cn                     0         unknown   \nfahad.rabiyaphd@yahoo.com                 0           China   \ndawood.sulaiman@uod.ac                    0            Iraq   \nwmcdowell@bradley.edu                     0   United States   \n\n                                                                              TI  \\\nmartha.cobo@unisabana.edu.co   Impact of bioethanol impurities on steam refor...   \nd.m.yazan@utwente.nl           Sustainable operations of industrial symbiosis...   \ngeebhan@catholic.ac.kr         Optimization of two-phased anaerobic sludge di...   \ntamas.jozsa@eng.ox.ac.uk       On the friction drag reduction mechanism of st...   \njana.majerova@fpedas.uniza.sk   Sustainable Brand Management of Alimentary Goods   \nsazedj@fa.ulisboa.pt           Comparison of environmental benchmarks of maso...   \n1601108007@hqu.edu.cn          Microclimate tourism and microclimate tourism ...   \nfahad.rabiyaphd@yahoo.com      Heterogeneous effects of energy efficiency and...   \ndawood.sulaiman@uod.ac         Structural Behavior of Reinforced Concrete Bea...   \nwmcdowell@bradley.edu          Essential new PLS-SEM analysis methods for you...   \n\n                                 PY   TC  \nmartha.cobo@unisabana.edu.co   2020   34  \nd.m.yazan@utwente.nl           2020   42  \ngeebhan@catholic.ac.kr         2016   10  \ntamas.jozsa@eng.ox.ac.uk       2020    1  \njana.majerova@fpedas.uniza.sk  2020    9  \nsazedj@fa.ulisboa.pt           2017   10  \n1601108007@hqu.edu.cn          2019    9  \nfahad.rabiyaphd@yahoo.com      2020  124  \ndawood.sulaiman@uod.ac         2021    0  \nwmcdowell@bradley.edu          2021   46  \n\n[10 rows x 41 columns]",
      "text/html": "<div>\n<style scoped>\n    .dataframe tbody tr th:only-of-type {\n        vertical-align: middle;\n    }\n\n    .dataframe tbody tr th {\n        vertical-align: top;\n    }\n\n    .dataframe thead th {\n        text-align: right;\n    }\n</style>\n<table border=\"1\" class=\"dataframe\">\n  <thead>\n    <tr style=\"text-align: right;\">\n      <th></th>\n      <th>name</th>\n      <th>total_publications</th>\n      <th>lst_publications</th>\n      <th>PY&lt;2019</th>\n      <th>PY&gt;=2019</th>\n      <th>total_citations</th>\n      <th>keywords</th>\n      <th>IOT</th>\n      <th>AI</th>\n      <th>computing_infrastructure</th>\n      <th>...</th>\n      <th>Society</th>\n      <th>Economy</th>\n      <th>Environment</th>\n      <th>SDG</th>\n      <th>DT</th>\n      <th>Intersection</th>\n      <th>CN</th>\n      <th>TI</th>\n      <th>PY</th>\n      <th>TC</th>\n    </tr>\n  </thead>\n  <tbody>\n    <tr>\n      <th>martha.cobo@unisabana.edu.co</th>\n      <td>{Cobo, Martha}</td>\n      <td>7</td>\n      <td>{WOS:000405369800027, WOS:000524161700005, WOS...</td>\n      <td>3</td>\n      <td>4</td>\n      <td>86</td>\n      <td>{'Chemistry, Physical': 2, 'Electrochemistry':...</td>\n      <td>0</td>\n      <td>0</td>\n      <td>0</td>\n      <td>...</td>\n      <td>0</td>\n      <td>7</td>\n      <td>2</td>\n      <td>1</td>\n      <td>0</td>\n      <td>0</td>\n      <td>Colombia</td>\n      <td>Impact of bioethanol impurities on steam refor...</td>\n      <td>2020</td>\n      <td>34</td>\n    </tr>\n    <tr>\n      <th>d.m.yazan@utwente.nl</th>\n      <td>{Yazan, Devrim Murat}</td>\n      <td>10</td>\n      <td>{WOS:000434299000006, WOS:000390628300008, WOS...</td>\n      <td>6</td>\n      <td>4</td>\n      <td>267</td>\n      <td>{'Environmental Sciences': 4, 'Engineering, En...</td>\n      <td>0</td>\n      <td>0</td>\n      <td>0</td>\n      <td>...</td>\n      <td>0</td>\n      <td>10</td>\n      <td>5</td>\n      <td>1</td>\n      <td>0</td>\n      <td>0</td>\n      <td>Netherlands</td>\n      <td>Sustainable operations of industrial symbiosis...</td>\n      <td>2020</td>\n      <td>42</td>\n    </tr>\n    <tr>\n      <th>geebhan@catholic.ac.kr</th>\n      <td>{Han, Gee-Bong}</td>\n      <td>7</td>\n      <td>{WOS:000284097000002, WOS:000401991400008, WOS...</td>\n      <td>7</td>\n      <td>0</td>\n      <td>24</td>\n      <td>{'Engineering, Chemical': 2, 'Engineering, Env...</td>\n      <td>0</td>\n      <td>0</td>\n      <td>0</td>\n      <td>...</td>\n      <td>7</td>\n      <td>1</td>\n      <td>0</td>\n      <td>1</td>\n      <td>0</td>\n      <td>0</td>\n      <td>South Korea</td>\n      <td>Optimization of two-phased anaerobic sludge di...</td>\n      <td>2016</td>\n      <td>10</td>\n    </tr>\n    <tr>\n      <th>tamas.jozsa@eng.ox.ac.uk</th>\n      <td>{Jozsa, Tamas Istvan}</td>\n      <td>1</td>\n      <td>{WOS:000629999200013}</td>\n      <td>0</td>\n      <td>1</td>\n      <td>1</td>\n      <td>{'Thermodynamics': 1, 'Engineering, Mechanical...</td>\n      <td>0</td>\n      <td>0</td>\n      <td>0</td>\n      <td>...</td>\n      <td>0</td>\n      <td>1</td>\n      <td>0</td>\n      <td>1</td>\n      <td>0</td>\n      <td>0</td>\n      <td>United Kingdom</td>\n      <td>On the friction drag reduction mechanism of st...</td>\n      <td>2020</td>\n      <td>1</td>\n    </tr>\n    <tr>\n      <th>jana.majerova@fpedas.uniza.sk</th>\n      <td>{Majerova, Jana}</td>\n      <td>3</td>\n      <td>{WOS:000763773400071, WOS:000516824600114, WOS...</td>\n      <td>1</td>\n      <td>2</td>\n      <td>10</td>\n      <td>{'Green &amp; Sustainable Science &amp; Technology': 1...</td>\n      <td>1</td>\n      <td>0</td>\n      <td>0</td>\n      <td>...</td>\n      <td>1</td>\n      <td>1</td>\n      <td>1</td>\n      <td>1</td>\n      <td>1</td>\n      <td>1</td>\n      <td>Slovakia</td>\n      <td>Sustainable Brand Management of Alimentary Goods</td>\n      <td>2020</td>\n      <td>9</td>\n    </tr>\n    <tr>\n      <th>sazedj@fa.ulisboa.pt</th>\n      <td>{Sazedj, Soheyl}</td>\n      <td>1</td>\n      <td>{WOS:000400033700004}</td>\n      <td>1</td>\n      <td>0</td>\n      <td>10</td>\n      <td>{'Construction &amp; Building Technology': 1, 'Eng...</td>\n      <td>0</td>\n      <td>0</td>\n      <td>0</td>\n      <td>...</td>\n      <td>1</td>\n      <td>2</td>\n      <td>0</td>\n      <td>1</td>\n      <td>0</td>\n      <td>0</td>\n      <td>Portugal</td>\n      <td>Comparison of environmental benchmarks of maso...</td>\n      <td>2017</td>\n      <td>10</td>\n    </tr>\n    <tr>\n      <th>1601108007@hqu.edu.cn</th>\n      <td>{no_match}</td>\n      <td>1</td>\n      <td>{WOS:000469890300009}</td>\n      <td>0</td>\n      <td>1</td>\n      <td>9</td>\n      <td>{'Environmental Studies': 1, 'Hospitality, Lei...</td>\n      <td>0</td>\n      <td>0</td>\n      <td>0</td>\n      <td>...</td>\n      <td>0</td>\n      <td>2</td>\n      <td>0</td>\n      <td>1</td>\n      <td>0</td>\n      <td>0</td>\n      <td>unknown</td>\n      <td>Microclimate tourism and microclimate tourism ...</td>\n      <td>2019</td>\n      <td>9</td>\n    </tr>\n    <tr>\n      <th>fahad.rabiyaphd@yahoo.com</th>\n      <td>{Akram, Rabia}</td>\n      <td>4</td>\n      <td>{WOS:000505696700042, WOS:000657366000004, WOS...</td>\n      <td>0</td>\n      <td>4</td>\n      <td>416</td>\n      <td>{'Construction &amp; Building Technology': 1, 'Gre...</td>\n      <td>0</td>\n      <td>0</td>\n      <td>0</td>\n      <td>...</td>\n      <td>2</td>\n      <td>3</td>\n      <td>5</td>\n      <td>1</td>\n      <td>0</td>\n      <td>0</td>\n      <td>China</td>\n      <td>Heterogeneous effects of energy efficiency and...</td>\n      <td>2020</td>\n      <td>124</td>\n    </tr>\n    <tr>\n      <th>dawood.sulaiman@uod.ac</th>\n      <td>{Atrushi, Dawood S.}</td>\n      <td>1</td>\n      <td>{WOS:000625327600006}</td>\n      <td>0</td>\n      <td>1</td>\n      <td>0</td>\n      <td>{'Multidisciplinary Sciences': 1}</td>\n      <td>0</td>\n      <td>0</td>\n      <td>0</td>\n      <td>...</td>\n      <td>0</td>\n      <td>1</td>\n      <td>0</td>\n      <td>1</td>\n      <td>0</td>\n      <td>0</td>\n      <td>Iraq</td>\n      <td>Structural Behavior of Reinforced Concrete Bea...</td>\n      <td>2021</td>\n      <td>0</td>\n    </tr>\n    <tr>\n      <th>wmcdowell@bradley.edu</th>\n      <td>{McDowell, William C., Williams, Ralph I., Jr.}</td>\n      <td>4</td>\n      <td>{WOS:000546201700001, WOS:000590683000041, WOS...</td>\n      <td>0</td>\n      <td>4</td>\n      <td>63</td>\n      <td>{'Green &amp; Sustainable Science &amp; Technology': 1...</td>\n      <td>0</td>\n      <td>0</td>\n      <td>0</td>\n      <td>...</td>\n      <td>0</td>\n      <td>4</td>\n      <td>0</td>\n      <td>1</td>\n      <td>0</td>\n      <td>0</td>\n      <td>United States</td>\n      <td>Essential new PLS-SEM analysis methods for you...</td>\n      <td>2021</td>\n      <td>46</td>\n    </tr>\n  </tbody>\n</table>\n<p>10 rows × 41 columns</p>\n</div>"
     },
     "execution_count": 30,
     "metadata": {},
     "output_type": "execute_result"
    }
   ],
   "source": [
    "import numpy as np\n",
    "ti, py, tc = zip(*results)\n",
    "df['TI'], df['PY'], df['TC'] = np.array(ti), np.array(py), np.array(tc)\n",
    "df"
   ],
   "metadata": {
    "collapsed": false
   }
  },
  {
   "cell_type": "code",
   "execution_count": 26,
   "outputs": [
    {
     "data": {
      "text/plain": "                                                                                   name  \\\nmuflih.adnan@uii.ac.id                                                        Adnan, A.   \noki.muraza@pertamina.com                                                    Muraza, Oki   \nhushaowei@cqu.edu.cn                                                        Hu, Shaowei   \nzhangpeng@zzu.edu.cn                                                        Zhang, Peng   \nguojinjun@zzu.edu.cn                                                        Guo, Jinjun   \n...                                                                                 ...   \nongsoonan@yahoo.com                   Oon, Y. -S.,Ong, Soon-An,Oon, Yoong-Ling,Ong, ...   \ng.feng@hud.ac.uk                                                           Feng, Guojin   \njose.a.oliveira@unesp.br                                      de Oliveira, Jose Augusto   \ndash.prasanjita@mahindraelectric.com                                   Dash, Prasanjita   \nbehera.prasanta@mahindraelectric.com                                   Behera, Prasanta   \n\n                                      total_publications  \\\nmuflih.adnan@uii.ac.id                                 1   \noki.muraza@pertamina.com                               1   \nhushaowei@cqu.edu.cn                                   2   \nzhangpeng@zzu.edu.cn                                   5   \nguojinjun@zzu.edu.cn                                   3   \n...                                                  ...   \nongsoonan@yahoo.com                                   15   \ng.feng@hud.ac.uk                                       1   \njose.a.oliveira@unesp.br                               1   \ndash.prasanjita@mahindraelectric.com                   1   \nbehera.prasanta@mahindraelectric.com                   1   \n\n                                                                       lst_publications  \\\nmuflih.adnan@uii.ac.id                                              WOS:000701992100008   \noki.muraza@pertamina.com                                            WOS:000701992100008   \nhushaowei@cqu.edu.cn                            WOS:000542949400047,WOS:000579071300058   \nzhangpeng@zzu.edu.cn                  WOS:000703965300002,WOS:000515503100028,WOS:00...   \nguojinjun@zzu.edu.cn                  WOS:000555915200128,WOS:000542949400047,WOS:00...   \n...                                                                                 ...   \nongsoonan@yahoo.com                   WOS:000209031000002,WOS:000388591300013,WOS:00...   \ng.feng@hud.ac.uk                                                    WOS:000701700500004   \njose.a.oliveira@unesp.br                                            WOS:000474680100032   \ndash.prasanjita@mahindraelectric.com                                WOS:000724523200057   \nbehera.prasanta@mahindraelectric.com                                WOS:000724523200057   \n\n                                      PY<2019  PY>=2019  total_citations  IOT  \\\nmuflih.adnan@uii.ac.id                      0         1                0    0   \noki.muraza@pertamina.com                    0         1                0    0   \nhushaowei@cqu.edu.cn                        0         2              204    0   \nzhangpeng@zzu.edu.cn                        0         5              247    0   \nguojinjun@zzu.edu.cn                        0         3              206    0   \n...                                       ...       ...              ...  ...   \nongsoonan@yahoo.com                        14         1              426    0   \ng.feng@hud.ac.uk                            0         1               29    0   \njose.a.oliveira@unesp.br                    0         1               22    0   \ndash.prasanjita@mahindraelectric.com        0         1                0    0   \nbehera.prasanta@mahindraelectric.com        0         1                0    0   \n\n                                      AI  computing_infrastructure  \\\nmuflih.adnan@uii.ac.id                 0                         0   \noki.muraza@pertamina.com               0                         0   \nhushaowei@cqu.edu.cn                   1                         0   \nzhangpeng@zzu.edu.cn                   4                         0   \nguojinjun@zzu.edu.cn                   1                         0   \n...                                   ..                       ...   \nongsoonan@yahoo.com                    0                         0   \ng.feng@hud.ac.uk                       0                         0   \njose.a.oliveira@unesp.br               0                         0   \ndash.prasanjita@mahindraelectric.com   0                         0   \nbehera.prasanta@mahindraelectric.com   0                         0   \n\n                                      additive_manufacturing  ...  Society  \\\nmuflih.adnan@uii.ac.id                                     0  ...        0   \noki.muraza@pertamina.com                                   0  ...        0   \nhushaowei@cqu.edu.cn                                       0  ...        0   \nzhangpeng@zzu.edu.cn                                       0  ...        0   \nguojinjun@zzu.edu.cn                                       0  ...        1   \n...                                                      ...  ...      ...   \nongsoonan@yahoo.com                                        0  ...       15   \ng.feng@hud.ac.uk                                           0  ...        0   \njose.a.oliveira@unesp.br                                   0  ...        0   \ndash.prasanjita@mahindraelectric.com                       0  ...        0   \nbehera.prasanta@mahindraelectric.com                       0  ...        0   \n\n                                      Economy  Environment  SDG  DT  \\\nmuflih.adnan@uii.ac.id                      1            0    1   0   \noki.muraza@pertamina.com                    1            0    1   0   \nhushaowei@cqu.edu.cn                        1            0    1   1   \nzhangpeng@zzu.edu.cn                        1            0    1   1   \nguojinjun@zzu.edu.cn                        1            0    1   1   \n...                                       ...          ...  ...  ..   \nongsoonan@yahoo.com                         1            0    1   0   \ng.feng@hud.ac.uk                            1            0    1   0   \njose.a.oliveira@unesp.br                    1            0    1   0   \ndash.prasanjita@mahindraelectric.com        1            0    1   0   \nbehera.prasanta@mahindraelectric.com        1            0    1   0   \n\n                                      Intersection              CN  \\\nmuflih.adnan@uii.ac.id                           0       Indonesia   \noki.muraza@pertamina.com                         0       Indonesia   \nhushaowei@cqu.edu.cn                             1           China   \nzhangpeng@zzu.edu.cn                             1           China   \nguojinjun@zzu.edu.cn                             1           China   \n...                                            ...             ...   \nongsoonan@yahoo.com                              0        Malaysia   \ng.feng@hud.ac.uk                                 0  United Kingdom   \njose.a.oliveira@unesp.br                         0          Brazil   \ndash.prasanjita@mahindraelectric.com             0           India   \nbehera.prasanta@mahindraelectric.com             0           India   \n\n                                                                                     TI  \\\nmuflih.adnan@uii.ac.id                Transformation of low-rank coal to clean synga...   \noki.muraza@pertamina.com              Transformation of low-rank coal to clean synga...   \nhushaowei@cqu.edu.cn                  Properties of fresh and hardened fly ash/slag ...   \nzhangpeng@zzu.edu.cn                  Properties of fresh and hardened fly ash/slag ...   \nguojinjun@zzu.edu.cn                  Properties of fresh and hardened fly ash/slag ...   \n...                                                                                 ...   \nongsoonan@yahoo.com                   Hybrid system up-flow constructed wetland inte...   \ng.feng@hud.ac.uk                      A review on online state of charge and state o...   \njose.a.oliveira@unesp.br              Cleaner Production practices, motivators and p...   \ndash.prasanjita@mahindraelectric.com            The way forward for e-mobility in India   \nbehera.prasanta@mahindraelectric.com            The way forward for e-mobility in India   \n\n                                        PY   TC  \nmuflih.adnan@uii.ac.id                2021    0  \noki.muraza@pertamina.com              2021    0  \nhushaowei@cqu.edu.cn                  2020  122  \nzhangpeng@zzu.edu.cn                  2020  122  \nguojinjun@zzu.edu.cn                  2020  122  \n...                                    ...  ...  \nongsoonan@yahoo.com                   2015  122  \ng.feng@hud.ac.uk                      2021   29  \njose.a.oliveira@unesp.br              2019   22  \ndash.prasanjita@mahindraelectric.com  2019    0  \nbehera.prasanta@mahindraelectric.com  2019    0  \n\n[2687881 rows x 40 columns]",
      "text/html": "<div>\n<style scoped>\n    .dataframe tbody tr th:only-of-type {\n        vertical-align: middle;\n    }\n\n    .dataframe tbody tr th {\n        vertical-align: top;\n    }\n\n    .dataframe thead th {\n        text-align: right;\n    }\n</style>\n<table border=\"1\" class=\"dataframe\">\n  <thead>\n    <tr style=\"text-align: right;\">\n      <th></th>\n      <th>name</th>\n      <th>total_publications</th>\n      <th>lst_publications</th>\n      <th>PY&lt;2019</th>\n      <th>PY&gt;=2019</th>\n      <th>total_citations</th>\n      <th>IOT</th>\n      <th>AI</th>\n      <th>computing_infrastructure</th>\n      <th>additive_manufacturing</th>\n      <th>...</th>\n      <th>Society</th>\n      <th>Economy</th>\n      <th>Environment</th>\n      <th>SDG</th>\n      <th>DT</th>\n      <th>Intersection</th>\n      <th>CN</th>\n      <th>TI</th>\n      <th>PY</th>\n      <th>TC</th>\n    </tr>\n  </thead>\n  <tbody>\n    <tr>\n      <th>muflih.adnan@uii.ac.id</th>\n      <td>Adnan, A.</td>\n      <td>1</td>\n      <td>WOS:000701992100008</td>\n      <td>0</td>\n      <td>1</td>\n      <td>0</td>\n      <td>0</td>\n      <td>0</td>\n      <td>0</td>\n      <td>0</td>\n      <td>...</td>\n      <td>0</td>\n      <td>1</td>\n      <td>0</td>\n      <td>1</td>\n      <td>0</td>\n      <td>0</td>\n      <td>Indonesia</td>\n      <td>Transformation of low-rank coal to clean synga...</td>\n      <td>2021</td>\n      <td>0</td>\n    </tr>\n    <tr>\n      <th>oki.muraza@pertamina.com</th>\n      <td>Muraza, Oki</td>\n      <td>1</td>\n      <td>WOS:000701992100008</td>\n      <td>0</td>\n      <td>1</td>\n      <td>0</td>\n      <td>0</td>\n      <td>0</td>\n      <td>0</td>\n      <td>0</td>\n      <td>...</td>\n      <td>0</td>\n      <td>1</td>\n      <td>0</td>\n      <td>1</td>\n      <td>0</td>\n      <td>0</td>\n      <td>Indonesia</td>\n      <td>Transformation of low-rank coal to clean synga...</td>\n      <td>2021</td>\n      <td>0</td>\n    </tr>\n    <tr>\n      <th>hushaowei@cqu.edu.cn</th>\n      <td>Hu, Shaowei</td>\n      <td>2</td>\n      <td>WOS:000542949400047,WOS:000579071300058</td>\n      <td>0</td>\n      <td>2</td>\n      <td>204</td>\n      <td>0</td>\n      <td>1</td>\n      <td>0</td>\n      <td>0</td>\n      <td>...</td>\n      <td>0</td>\n      <td>1</td>\n      <td>0</td>\n      <td>1</td>\n      <td>1</td>\n      <td>1</td>\n      <td>China</td>\n      <td>Properties of fresh and hardened fly ash/slag ...</td>\n      <td>2020</td>\n      <td>122</td>\n    </tr>\n    <tr>\n      <th>zhangpeng@zzu.edu.cn</th>\n      <td>Zhang, Peng</td>\n      <td>5</td>\n      <td>WOS:000703965300002,WOS:000515503100028,WOS:00...</td>\n      <td>0</td>\n      <td>5</td>\n      <td>247</td>\n      <td>0</td>\n      <td>4</td>\n      <td>0</td>\n      <td>0</td>\n      <td>...</td>\n      <td>0</td>\n      <td>1</td>\n      <td>0</td>\n      <td>1</td>\n      <td>1</td>\n      <td>1</td>\n      <td>China</td>\n      <td>Properties of fresh and hardened fly ash/slag ...</td>\n      <td>2020</td>\n      <td>122</td>\n    </tr>\n    <tr>\n      <th>guojinjun@zzu.edu.cn</th>\n      <td>Guo, Jinjun</td>\n      <td>3</td>\n      <td>WOS:000555915200128,WOS:000542949400047,WOS:00...</td>\n      <td>0</td>\n      <td>3</td>\n      <td>206</td>\n      <td>0</td>\n      <td>1</td>\n      <td>0</td>\n      <td>0</td>\n      <td>...</td>\n      <td>1</td>\n      <td>1</td>\n      <td>0</td>\n      <td>1</td>\n      <td>1</td>\n      <td>1</td>\n      <td>China</td>\n      <td>Properties of fresh and hardened fly ash/slag ...</td>\n      <td>2020</td>\n      <td>122</td>\n    </tr>\n    <tr>\n      <th>...</th>\n      <td>...</td>\n      <td>...</td>\n      <td>...</td>\n      <td>...</td>\n      <td>...</td>\n      <td>...</td>\n      <td>...</td>\n      <td>...</td>\n      <td>...</td>\n      <td>...</td>\n      <td>...</td>\n      <td>...</td>\n      <td>...</td>\n      <td>...</td>\n      <td>...</td>\n      <td>...</td>\n      <td>...</td>\n      <td>...</td>\n      <td>...</td>\n      <td>...</td>\n      <td>...</td>\n    </tr>\n    <tr>\n      <th>ongsoonan@yahoo.com</th>\n      <td>Oon, Y. -S.,Ong, Soon-An,Oon, Yoong-Ling,Ong, ...</td>\n      <td>15</td>\n      <td>WOS:000209031000002,WOS:000388591300013,WOS:00...</td>\n      <td>14</td>\n      <td>1</td>\n      <td>426</td>\n      <td>0</td>\n      <td>0</td>\n      <td>0</td>\n      <td>0</td>\n      <td>...</td>\n      <td>15</td>\n      <td>1</td>\n      <td>0</td>\n      <td>1</td>\n      <td>0</td>\n      <td>0</td>\n      <td>Malaysia</td>\n      <td>Hybrid system up-flow constructed wetland inte...</td>\n      <td>2015</td>\n      <td>122</td>\n    </tr>\n    <tr>\n      <th>g.feng@hud.ac.uk</th>\n      <td>Feng, Guojin</td>\n      <td>1</td>\n      <td>WOS:000701700500004</td>\n      <td>0</td>\n      <td>1</td>\n      <td>29</td>\n      <td>0</td>\n      <td>0</td>\n      <td>0</td>\n      <td>0</td>\n      <td>...</td>\n      <td>0</td>\n      <td>1</td>\n      <td>0</td>\n      <td>1</td>\n      <td>0</td>\n      <td>0</td>\n      <td>United Kingdom</td>\n      <td>A review on online state of charge and state o...</td>\n      <td>2021</td>\n      <td>29</td>\n    </tr>\n    <tr>\n      <th>jose.a.oliveira@unesp.br</th>\n      <td>de Oliveira, Jose Augusto</td>\n      <td>1</td>\n      <td>WOS:000474680100032</td>\n      <td>0</td>\n      <td>1</td>\n      <td>22</td>\n      <td>0</td>\n      <td>0</td>\n      <td>0</td>\n      <td>0</td>\n      <td>...</td>\n      <td>0</td>\n      <td>1</td>\n      <td>0</td>\n      <td>1</td>\n      <td>0</td>\n      <td>0</td>\n      <td>Brazil</td>\n      <td>Cleaner Production practices, motivators and p...</td>\n      <td>2019</td>\n      <td>22</td>\n    </tr>\n    <tr>\n      <th>dash.prasanjita@mahindraelectric.com</th>\n      <td>Dash, Prasanjita</td>\n      <td>1</td>\n      <td>WOS:000724523200057</td>\n      <td>0</td>\n      <td>1</td>\n      <td>0</td>\n      <td>0</td>\n      <td>0</td>\n      <td>0</td>\n      <td>0</td>\n      <td>...</td>\n      <td>0</td>\n      <td>1</td>\n      <td>0</td>\n      <td>1</td>\n      <td>0</td>\n      <td>0</td>\n      <td>India</td>\n      <td>The way forward for e-mobility in India</td>\n      <td>2019</td>\n      <td>0</td>\n    </tr>\n    <tr>\n      <th>behera.prasanta@mahindraelectric.com</th>\n      <td>Behera, Prasanta</td>\n      <td>1</td>\n      <td>WOS:000724523200057</td>\n      <td>0</td>\n      <td>1</td>\n      <td>0</td>\n      <td>0</td>\n      <td>0</td>\n      <td>0</td>\n      <td>0</td>\n      <td>...</td>\n      <td>0</td>\n      <td>1</td>\n      <td>0</td>\n      <td>1</td>\n      <td>0</td>\n      <td>0</td>\n      <td>India</td>\n      <td>The way forward for e-mobility in India</td>\n      <td>2019</td>\n      <td>0</td>\n    </tr>\n  </tbody>\n</table>\n<p>2687881 rows × 40 columns</p>\n</div>"
     },
     "execution_count": 26,
     "metadata": {},
     "output_type": "execute_result"
    }
   ],
   "source": [
    "path = \"../data/dataframes/authors_w_cn_ti.csv\"\n",
    "df = pd.read_csv(path, sep='\\t', index_col=0)\n",
    "df"
   ],
   "metadata": {
    "collapsed": false
   }
  },
  {
   "cell_type": "code",
   "execution_count": 22,
   "outputs": [],
   "source": [],
   "metadata": {
    "collapsed": false
   }
  },
  {
   "cell_type": "code",
   "execution_count": 23,
   "outputs": [
    {
     "data": {
      "text/plain": "2687881"
     },
     "execution_count": 23,
     "metadata": {},
     "output_type": "execute_result"
    }
   ],
   "source": [],
   "metadata": {
    "collapsed": false
   }
  },
  {
   "cell_type": "code",
   "execution_count": null,
   "outputs": [],
   "source": [],
   "metadata": {
    "collapsed": false
   }
  }
 ],
 "metadata": {
  "kernelspec": {
   "display_name": "Python 3",
   "language": "python",
   "name": "python3"
  },
  "language_info": {
   "codemirror_mode": {
    "name": "ipython",
    "version": 2
   },
   "file_extension": ".py",
   "mimetype": "text/x-python",
   "name": "python",
   "nbconvert_exporter": "python",
   "pygments_lexer": "ipython2",
   "version": "2.7.6"
  }
 },
 "nbformat": 4,
 "nbformat_minor": 0
}
