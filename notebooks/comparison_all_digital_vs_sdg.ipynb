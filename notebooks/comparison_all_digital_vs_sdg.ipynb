{
 "cells": [
  {
   "cell_type": "markdown",
   "source": [
    "### All digital vs All sdg\n",
    "all_digital.pkl contains all publications related to digital technologies between 2010 and 2021 from Web of Science\n",
    "all_sdg.pkl contains all publications related to Science Development Goals between 2010 and 2021 from Web of Science"
   ],
   "metadata": {
    "collapsed": false,
    "pycharm": {
     "name": "#%% md\n"
    }
   }
  },
  {
   "cell_type": "markdown",
   "source": [
    "### First, quick comparison between all_digital and all_digital_europe"
   ],
   "metadata": {
    "collapsed": false,
    "pycharm": {
     "name": "#%% md\n"
    }
   }
  },
  {
   "cell_type": "code",
   "execution_count": 1,
   "outputs": [],
   "source": [
    "import pandas as pd"
   ],
   "metadata": {
    "collapsed": false,
    "pycharm": {
     "name": "#%%\n"
    }
   }
  },
  {
   "cell_type": "code",
   "execution_count": 3,
   "outputs": [],
   "source": [
    "# Digital DF\n",
    "all_digi = pd.read_pickle(\"../data/dataframes/digital/all_digital.pkl\")\n",
    "# SDG DF\n",
    "all_sdg = pd.read_pickle(\"../data/dataframes/SDG/all_sdg_fixed_dst.pkl\")"
   ],
   "metadata": {
    "collapsed": false,
    "pycharm": {
     "name": "#%%\n"
    }
   }
  },
  {
   "cell_type": "code",
   "execution_count": 4,
   "outputs": [],
   "source": [
    "# Intersection from SDG\n",
    "all_sdg_digi = all_sdg[all_sdg['DST']]"
   ],
   "metadata": {
    "collapsed": false,
    "pycharm": {
     "name": "#%%\n"
    }
   }
  },
  {
   "cell_type": "code",
   "execution_count": 38,
   "outputs": [],
   "source": [
    "# Merging on identification number\n",
    "df_merge = pd.merge(all_sdg_digi, all_digi.AB, on=\"AB\")"
   ],
   "metadata": {
    "collapsed": false,
    "pycharm": {
     "name": "#%%\n"
    }
   }
  },
  {
   "cell_type": "code",
   "execution_count": 39,
   "outputs": [
    {
     "name": "stdout",
     "output_type": "stream",
     "text": [
      "all_SDG filtered on DST =                47343\n",
      "SDG_DST merged with all digital =        46400\n",
      "Difference =                               943\n"
     ]
    }
   ],
   "source": [
    "print(f'all_SDG filtered on DST = {len(all_sdg_digi): >20}\\n'\n",
    "      f'SDG_DST merged with all digital = {len(df_merge): >12}\\n'\n",
    "      f'Difference = {len(all_sdg_digi)-len(df_merge): >33}')"
   ],
   "metadata": {
    "collapsed": false,
    "pycharm": {
     "name": "#%%\n"
    }
   }
  },
  {
   "cell_type": "code",
   "execution_count": 25,
   "outputs": [
    {
     "data": {
      "text/plain": "      PT                                                 AU  \\\n0      C               Khan, F; Zhang, B; Khan, S; Chen, SQ   \n1      J  Nasseri, A; Jamshidi, S; Yazdifar, H; Percy, D...   \n2      J         Khalifa, N; Abd Elghany, M; Abd Elghany, M   \n3      J       Emmanuel, O; Ananya, M; Misra, S; Koyuncu, M   \n4      J    Kharal, AY; Khalid, HA; Gastli, A; Guerrero, JM   \n...   ..                                                ...   \n47338  C                Yang, WM; Li, DD; Sun, DR; Liao, QM   \n47339  C                Shaheen, M; Shahbaz, M; Jadoon, KAK   \n47340  J  Wolfson, M; Wallace, SE; Masca, N; Rowe, G; Sh...   \n47341  J                                      Palsdottir, A   \n47342  C               Singh, SR; Murthy, HA; Gonsalves, TA   \n\n                                                      TI  \\\n0      TECHNOLOGICAL LEAP FROGGING E-GOVERNMENT THROU...   \n1      Evaluating the performances of over-the-counte...   \n2      Exploratory research on digitalization transfo...   \n3      A Deep Neural Network-Based Advisory Framework...   \n4      A Novel Features-Based Multivariate Gaussian D...   \n...                                                  ...   \n47338  Hydraulic Excavators Recognition Based on Inve...   \n47339         Data Mining For Wind Energy Site Selection   \n47340  DataSHIELD: resolving a conflict in contempora...   \n47341  The connection between purposive information s...   \n47342  Feature Selection for Text Classification Base...   \n\n                                                      SO  \\\n0      2011 4TH IEEE INTERNATIONAL CONFERENCE ON BROA...   \n1                 JOURNAL OF APPLIED ACCOUNTING RESEARCH   \n2                           COGENT BUSINESS & MANAGEMENT   \n3                                         SUSTAINABILITY   \n4                                            IEEE ACCESS   \n...                                                  ...   \n47338             PATTERN RECOGNITION (CCPR 2014), PT II   \n47339  WORLD CONGRESS ON ENGINEERING AND COMPUTER SCI...   \n47340              INTERNATIONAL JOURNAL OF EPIDEMIOLOGY   \n47341                           JOURNAL OF DOCUMENTATION   \n47342  PROCEEDINGS OF THE FOURTH INTERNATIONAL WORKSH...   \n\n                                                      DE  \\\n0      eGovernment; Public-Private Partnership; Cloud...   \n1      Developing countries; Portfolio optimization; ...   \n2      Artificial intelligence; supply chain; supply ...   \n3      sustainability development goals; predictive a...   \n4      Developing countries; Meters; Companies; Tarif...   \n...                                                  ...   \n47338  Computer vision; Object recognition; Hydraulic...   \n47339  Site Selection; Data Mining; Wind Turbine; Pri...   \n47340  Pooling; analysis; meta-analysis; individual-l...   \n47341  Personal health; Lifestyles; Iceland; Informat...   \n47342  Text categorization; feature selection; gini c...   \n\n                                                      AB  \\\n0      Building, operating, maintaining, and updating...   \n1      Purpose With suitable optimization criteria, h...   \n2      With no doubt, the adoption of Artificial Inte...   \n3      Research in sustainable development, program d...   \n4      According to statistics, developing countries ...   \n...                                                  ...   \n47338  Detecting hydraulic excavators in videos can i...   \n47339  The objective of this paper is to analyze suit...   \n47340  Methods Data aggregation through anonymous sum...   \n47341  Purpose - This paper aims to explore health an...   \n47342  A number of feature selection mechanisms have ...   \n\n                                                      C1  \\\n0      [Khan, Faizullah; Zhang, Bin; Khan, Surat; Che...   \n1      [Nasseri, Ahmad; Jamshidi, Sajad] Univ Sistan ...   \n2      [Khalifa, Nermin; Abd Elghany, Marwa] Arab Aca...   \n3      [Emmanuel, Okewu] Univ Lagos, Ctr Informat & T...   \n4      [Kharal, Ammar Yousaf; Khalid, Hassan Abdullah...   \n...                                                  ...   \n47338  [Yang, Wenming; Li, Dedi; Sun, Daren; Liao, Qi...   \n47339  [Shaheen, Muhammad] Univ Arid Agr, Univ Inst I...   \n47340  [Masca, Nicholas; Sheehan, Nuala A.; Tobin, Ma...   \n47341  Univ Iceland, Dept Lib & Informat Sci, Reykjav...   \n47342  [Singh, Sanasam Ranbir] Indian Inst Technol Gu...   \n\n                                                      EM  TC    PY  ...  \\\n0      khan_kakar@yahoo.com; binzhang@bupt.edu.cn; su...  11  2011  ...   \n1      nasseri@acc.usb.ac.ir; usb.sajad@gmail.com; hy...   0  2020  ...   \n2      nermine_khalifa@aast.edu; monam@aast.edu; marw...   0  2021  ...   \n3      eokewu@unilag.edu.ng; ge25daj@mytum.de; Sanjay...   1  2020  ...   \n4                                  adel.gastli@qu.edu.qa   0  2021  ...   \n...                                                  ...  ..   ...  ...   \n47338                                                NaN   4  2014  ...   \n47339  dr.shaheen@uaar.edu.pk; m.shahbaz@uet.edu.pk; ...   1  2012  ...   \n47340                                      pb51@le.ac.uk  86  2010  ...   \n47341                                      agustap@hi.is  31  2010  ...   \n47342  RANBIR@IITG.ERNET.IN; HEMA@LANTANA.TENET.RES.I...  42  2010  ...   \n\n         IOT computing_infrastructure blockchain robotics  \\\n0      False                     True      False    False   \n1      False                    False      False    False   \n2      False                    False      False    False   \n3      False                    False      False    False   \n4      False                    False      False    False   \n...      ...                      ...        ...      ...   \n47338  False                    False      False    False   \n47339  False                    False      False    False   \n47340  False                     True      False    False   \n47341  False                    False      False    False   \n47342  False                    False      False    False   \n\n      additive_manufacturing Society Economy Environment     EU   DST  \n0                      False    True    True       False  False  True  \n1                      False   False    True       False   True  True  \n2                       True   False    True       False  False  True  \n3                      False    True    True       False   True  True  \n4                      False   False    True       False   True  True  \n...                      ...     ...     ...         ...    ...   ...  \n47338                  False    True   False       False  False  True  \n47339                  False    True   False       False  False  True  \n47340                  False    True   False       False   True  True  \n47341                  False    True   False       False   True  True  \n47342                  False    True   False       False  False  True  \n\n[93746 rows x 42 columns]",
      "text/html": "<div>\n<style scoped>\n    .dataframe tbody tr th:only-of-type {\n        vertical-align: middle;\n    }\n\n    .dataframe tbody tr th {\n        vertical-align: top;\n    }\n\n    .dataframe thead th {\n        text-align: right;\n    }\n</style>\n<table border=\"1\" class=\"dataframe\">\n  <thead>\n    <tr style=\"text-align: right;\">\n      <th></th>\n      <th>PT</th>\n      <th>AU</th>\n      <th>TI</th>\n      <th>SO</th>\n      <th>DE</th>\n      <th>AB</th>\n      <th>C1</th>\n      <th>EM</th>\n      <th>TC</th>\n      <th>PY</th>\n      <th>...</th>\n      <th>IOT</th>\n      <th>computing_infrastructure</th>\n      <th>blockchain</th>\n      <th>robotics</th>\n      <th>additive_manufacturing</th>\n      <th>Society</th>\n      <th>Economy</th>\n      <th>Environment</th>\n      <th>EU</th>\n      <th>DST</th>\n    </tr>\n  </thead>\n  <tbody>\n    <tr>\n      <th>0</th>\n      <td>C</td>\n      <td>Khan, F; Zhang, B; Khan, S; Chen, SQ</td>\n      <td>TECHNOLOGICAL LEAP FROGGING E-GOVERNMENT THROU...</td>\n      <td>2011 4TH IEEE INTERNATIONAL CONFERENCE ON BROA...</td>\n      <td>eGovernment; Public-Private Partnership; Cloud...</td>\n      <td>Building, operating, maintaining, and updating...</td>\n      <td>[Khan, Faizullah; Zhang, Bin; Khan, Surat; Che...</td>\n      <td>khan_kakar@yahoo.com; binzhang@bupt.edu.cn; su...</td>\n      <td>11</td>\n      <td>2011</td>\n      <td>...</td>\n      <td>False</td>\n      <td>True</td>\n      <td>False</td>\n      <td>False</td>\n      <td>False</td>\n      <td>True</td>\n      <td>True</td>\n      <td>False</td>\n      <td>False</td>\n      <td>True</td>\n    </tr>\n    <tr>\n      <th>1</th>\n      <td>J</td>\n      <td>Nasseri, A; Jamshidi, S; Yazdifar, H; Percy, D...</td>\n      <td>Evaluating the performances of over-the-counte...</td>\n      <td>JOURNAL OF APPLIED ACCOUNTING RESEARCH</td>\n      <td>Developing countries; Portfolio optimization; ...</td>\n      <td>Purpose With suitable optimization criteria, h...</td>\n      <td>[Nasseri, Ahmad; Jamshidi, Sajad] Univ Sistan ...</td>\n      <td>nasseri@acc.usb.ac.ir; usb.sajad@gmail.com; hy...</td>\n      <td>0</td>\n      <td>2020</td>\n      <td>...</td>\n      <td>False</td>\n      <td>False</td>\n      <td>False</td>\n      <td>False</td>\n      <td>False</td>\n      <td>False</td>\n      <td>True</td>\n      <td>False</td>\n      <td>True</td>\n      <td>True</td>\n    </tr>\n    <tr>\n      <th>2</th>\n      <td>J</td>\n      <td>Khalifa, N; Abd Elghany, M; Abd Elghany, M</td>\n      <td>Exploratory research on digitalization transfo...</td>\n      <td>COGENT BUSINESS &amp; MANAGEMENT</td>\n      <td>Artificial intelligence; supply chain; supply ...</td>\n      <td>With no doubt, the adoption of Artificial Inte...</td>\n      <td>[Khalifa, Nermin; Abd Elghany, Marwa] Arab Aca...</td>\n      <td>nermine_khalifa@aast.edu; monam@aast.edu; marw...</td>\n      <td>0</td>\n      <td>2021</td>\n      <td>...</td>\n      <td>False</td>\n      <td>False</td>\n      <td>False</td>\n      <td>False</td>\n      <td>True</td>\n      <td>False</td>\n      <td>True</td>\n      <td>False</td>\n      <td>False</td>\n      <td>True</td>\n    </tr>\n    <tr>\n      <th>3</th>\n      <td>J</td>\n      <td>Emmanuel, O; Ananya, M; Misra, S; Koyuncu, M</td>\n      <td>A Deep Neural Network-Based Advisory Framework...</td>\n      <td>SUSTAINABILITY</td>\n      <td>sustainability development goals; predictive a...</td>\n      <td>Research in sustainable development, program d...</td>\n      <td>[Emmanuel, Okewu] Univ Lagos, Ctr Informat &amp; T...</td>\n      <td>eokewu@unilag.edu.ng; ge25daj@mytum.de; Sanjay...</td>\n      <td>1</td>\n      <td>2020</td>\n      <td>...</td>\n      <td>False</td>\n      <td>False</td>\n      <td>False</td>\n      <td>False</td>\n      <td>False</td>\n      <td>True</td>\n      <td>True</td>\n      <td>False</td>\n      <td>True</td>\n      <td>True</td>\n    </tr>\n    <tr>\n      <th>4</th>\n      <td>J</td>\n      <td>Kharal, AY; Khalid, HA; Gastli, A; Guerrero, JM</td>\n      <td>A Novel Features-Based Multivariate Gaussian D...</td>\n      <td>IEEE ACCESS</td>\n      <td>Developing countries; Meters; Companies; Tarif...</td>\n      <td>According to statistics, developing countries ...</td>\n      <td>[Kharal, Ammar Yousaf; Khalid, Hassan Abdullah...</td>\n      <td>adel.gastli@qu.edu.qa</td>\n      <td>0</td>\n      <td>2021</td>\n      <td>...</td>\n      <td>False</td>\n      <td>False</td>\n      <td>False</td>\n      <td>False</td>\n      <td>False</td>\n      <td>False</td>\n      <td>True</td>\n      <td>False</td>\n      <td>True</td>\n      <td>True</td>\n    </tr>\n    <tr>\n      <th>...</th>\n      <td>...</td>\n      <td>...</td>\n      <td>...</td>\n      <td>...</td>\n      <td>...</td>\n      <td>...</td>\n      <td>...</td>\n      <td>...</td>\n      <td>...</td>\n      <td>...</td>\n      <td>...</td>\n      <td>...</td>\n      <td>...</td>\n      <td>...</td>\n      <td>...</td>\n      <td>...</td>\n      <td>...</td>\n      <td>...</td>\n      <td>...</td>\n      <td>...</td>\n      <td>...</td>\n    </tr>\n    <tr>\n      <th>47338</th>\n      <td>C</td>\n      <td>Yang, WM; Li, DD; Sun, DR; Liao, QM</td>\n      <td>Hydraulic Excavators Recognition Based on Inve...</td>\n      <td>PATTERN RECOGNITION (CCPR 2014), PT II</td>\n      <td>Computer vision; Object recognition; Hydraulic...</td>\n      <td>Detecting hydraulic excavators in videos can i...</td>\n      <td>[Yang, Wenming; Li, Dedi; Sun, Daren; Liao, Qi...</td>\n      <td>NaN</td>\n      <td>4</td>\n      <td>2014</td>\n      <td>...</td>\n      <td>False</td>\n      <td>False</td>\n      <td>False</td>\n      <td>False</td>\n      <td>False</td>\n      <td>True</td>\n      <td>False</td>\n      <td>False</td>\n      <td>False</td>\n      <td>True</td>\n    </tr>\n    <tr>\n      <th>47339</th>\n      <td>C</td>\n      <td>Shaheen, M; Shahbaz, M; Jadoon, KAK</td>\n      <td>Data Mining For Wind Energy Site Selection</td>\n      <td>WORLD CONGRESS ON ENGINEERING AND COMPUTER SCI...</td>\n      <td>Site Selection; Data Mining; Wind Turbine; Pri...</td>\n      <td>The objective of this paper is to analyze suit...</td>\n      <td>[Shaheen, Muhammad] Univ Arid Agr, Univ Inst I...</td>\n      <td>dr.shaheen@uaar.edu.pk; m.shahbaz@uet.edu.pk; ...</td>\n      <td>1</td>\n      <td>2012</td>\n      <td>...</td>\n      <td>False</td>\n      <td>False</td>\n      <td>False</td>\n      <td>False</td>\n      <td>False</td>\n      <td>True</td>\n      <td>False</td>\n      <td>False</td>\n      <td>False</td>\n      <td>True</td>\n    </tr>\n    <tr>\n      <th>47340</th>\n      <td>J</td>\n      <td>Wolfson, M; Wallace, SE; Masca, N; Rowe, G; Sh...</td>\n      <td>DataSHIELD: resolving a conflict in contempora...</td>\n      <td>INTERNATIONAL JOURNAL OF EPIDEMIOLOGY</td>\n      <td>Pooling; analysis; meta-analysis; individual-l...</td>\n      <td>Methods Data aggregation through anonymous sum...</td>\n      <td>[Masca, Nicholas; Sheehan, Nuala A.; Tobin, Ma...</td>\n      <td>pb51@le.ac.uk</td>\n      <td>86</td>\n      <td>2010</td>\n      <td>...</td>\n      <td>False</td>\n      <td>True</td>\n      <td>False</td>\n      <td>False</td>\n      <td>False</td>\n      <td>True</td>\n      <td>False</td>\n      <td>False</td>\n      <td>True</td>\n      <td>True</td>\n    </tr>\n    <tr>\n      <th>47341</th>\n      <td>J</td>\n      <td>Palsdottir, A</td>\n      <td>The connection between purposive information s...</td>\n      <td>JOURNAL OF DOCUMENTATION</td>\n      <td>Personal health; Lifestyles; Iceland; Informat...</td>\n      <td>Purpose - This paper aims to explore health an...</td>\n      <td>Univ Iceland, Dept Lib &amp; Informat Sci, Reykjav...</td>\n      <td>agustap@hi.is</td>\n      <td>31</td>\n      <td>2010</td>\n      <td>...</td>\n      <td>False</td>\n      <td>False</td>\n      <td>False</td>\n      <td>False</td>\n      <td>False</td>\n      <td>True</td>\n      <td>False</td>\n      <td>False</td>\n      <td>True</td>\n      <td>True</td>\n    </tr>\n    <tr>\n      <th>47342</th>\n      <td>C</td>\n      <td>Singh, SR; Murthy, HA; Gonsalves, TA</td>\n      <td>Feature Selection for Text Classification Base...</td>\n      <td>PROCEEDINGS OF THE FOURTH INTERNATIONAL WORKSH...</td>\n      <td>Text categorization; feature selection; gini c...</td>\n      <td>A number of feature selection mechanisms have ...</td>\n      <td>[Singh, Sanasam Ranbir] Indian Inst Technol Gu...</td>\n      <td>RANBIR@IITG.ERNET.IN; HEMA@LANTANA.TENET.RES.I...</td>\n      <td>42</td>\n      <td>2010</td>\n      <td>...</td>\n      <td>False</td>\n      <td>False</td>\n      <td>False</td>\n      <td>False</td>\n      <td>False</td>\n      <td>True</td>\n      <td>False</td>\n      <td>False</td>\n      <td>False</td>\n      <td>True</td>\n    </tr>\n  </tbody>\n</table>\n<p>93746 rows × 42 columns</p>\n</div>"
     },
     "execution_count": 25,
     "metadata": {},
     "output_type": "execute_result"
    }
   ],
   "source": [
    "conc = pd.concat([df_merge.reset_index(drop=True), all_sdg_digi.reset_index(drop=True)])\n",
    "conc"
   ],
   "metadata": {
    "collapsed": false,
    "pycharm": {
     "name": "#%%\n"
    }
   }
  },
  {
   "cell_type": "code",
   "execution_count": 27,
   "outputs": [],
   "source": [
    "donc = ~conc.duplicated(subset=[\"UT\"], keep=False)"
   ],
   "metadata": {
    "collapsed": false,
    "pycharm": {
     "name": "#%%\n"
    }
   }
  },
  {
   "cell_type": "code",
   "execution_count": 54,
   "outputs": [],
   "source": [
    "diff = conc[donc].reset_index(drop=True)"
   ],
   "metadata": {
    "collapsed": false,
    "pycharm": {
     "name": "#%%\n"
    }
   }
  },
  {
   "cell_type": "code",
   "execution_count": 55,
   "outputs": [
    {
     "data": {
      "text/plain": "Index(['AI', 'big_data', 'IOT', 'computing_infrastructure', 'blockchain',\n       'robotics', 'additive_manufacturing'],\n      dtype='object')"
     },
     "execution_count": 55,
     "metadata": {},
     "output_type": "execute_result"
    }
   ],
   "source": [
    "diff.columns[30:37]"
   ],
   "metadata": {
    "collapsed": false,
    "pycharm": {
     "name": "#%%\n"
    }
   }
  },
  {
   "cell_type": "code",
   "execution_count": 62,
   "outputs": [
    {
     "data": {
      "text/plain": "                                 AI                  big_data  \\\n0              Artificial intellig*              Apache Spark   \n1               Automated reasoning          Apache Cassandra   \n2                  Backpropagation                   Big data   \n3                   Computer vision              Data center*   \n4                      Data mining               Data centre*   \n5                      Data science                    Hadoop   \n6                     Deep learning         Large-scale data*   \n7                    Expert system*                 MapReduce   \n8                    Face detection             Massive data*   \n9                Feature extraction              Apache Kafka   \n10  Generative adversarial network*                     HBase   \n11              Gesture recognition                  BigTable   \n12             Image classification                    Docker   \n13                Image recognition               Apache Hive   \n14               Image segmentation  Distributed file system*   \n15            Information retrieval                       NaN   \n16             Intelligent machine*                       NaN   \n17                   Kernel machine                       NaN   \n18         Knowledge representation                       NaN   \n19             Machine intelligence                       NaN   \n20                 Machine learning                       NaN   \n21              Machine translation                       NaN   \n22                    Meta-learning                       NaN   \n23           Multilayer perceptron*                       NaN   \n24      Natural language processing                       NaN   \n25                      Neural net*                       NaN   \n26                 Object detection                       NaN   \n27            Object identification                       NaN   \n28               Object recognition                       NaN   \n29              Pattern recognition                       NaN   \n30                  Pose estimation                       NaN   \n31           Reinforcement learning                       NaN   \n32                  Semantic search                       NaN   \n33         Semi-supervised learning                       NaN   \n34               Sentiment analysis                       NaN   \n35               Speech recognition                       NaN   \n36             Statistical learning                       NaN   \n37              Supervised learning                       NaN   \n38              Text classification                       NaN   \n39                Transfer learning                       NaN   \n40             Transformer network*                       NaN   \n41            Unsupervised learning                       NaN   \n42                Voice recognition                       NaN   \n43                       TensorFlow                       NaN   \n44                            Keras                       NaN   \n45                          PyTorch                       NaN   \n46                             amrv                       NaN   \n47               Artificial realit*                       NaN   \n48                Augmented realit*                       NaN   \n49        Computer-mediated realit*                       NaN   \n50                    Mixed realit*                       NaN   \n51                  Virtual realit*                       NaN   \n\n                              IOT       computing_infrastructure  \\\n0               Connected device*             Cloud application*   \n1                 Connected home*            Cloud architecture*   \n2          Cyber-physical system*                   Cloud broker   \n3        Human-machine interface*                   Cloud client   \n4              Hyper connectivity                Cloud computing   \n5   Industrial internet of things          Cloud infrastructure*   \n6             Intelligent factor*                Cloud migration   \n7          Internet of everything                Cloud optimizer   \n8              Internet of things                Cloud portfolio   \n9                             IoT                 Cloud provider   \n10          Machine-to-enterprise                  Cloud server*   \n11               Machine-to-human                 Cloud service*   \n12             Machine-to-machine                 Cloud sourcing   \n13              Pervasive sensing                  Cloud storage   \n14                Sensor network*                Cloud platform*   \n15                  Smart device*               Community cloud*   \n16                  Smart factor*                 Dynamic cloud*   \n17                    Smart home*               Federated cloud*   \n18                  Smart sensor*                  Hybrid cloud*   \n19                      Wearable*    Infrastructure as a service   \n20    Wireless body area network*          Inter-cloud computing   \n21       Wireless sensor network*                   Multi-cloud*   \n22                            NaN            On-demand computing   \n23                            NaN          Platform as a service   \n24                            NaN                 Private cloud*   \n25                            NaN                  Public cloud*   \n26                            NaN          Software as a service   \n27                            NaN          Distributed computing   \n28                            NaN             Parallel computing   \n29                            NaN        Decentralized computing   \n30                            NaN                 Edge computing   \n31                            NaN                  Fog computing   \n32                            NaN                 Grid computing   \n33                            NaN              Cluster computing   \n34                            NaN  Massively parallel processing   \n35                            NaN                  Dew Computing   \n36                            NaN              Cognitive comput*   \n37                            NaN           Cyberinfrastructure*   \n38                            NaN         Data-intensive comput*   \n39                            NaN          Hardware accelerator*   \n40                            NaN       High performance comput*   \n41                            NaN           Neuromorphic comput*   \n42                            NaN                Optical comput*   \n43                            NaN               Photonic comput*   \n44                            NaN                Quantum comput*   \n45                            NaN              Real-time comput*   \n46                            NaN                   Supercomput*   \n47                            NaN                             5G   \n48                            NaN          5th generation mobile   \n49                            NaN        Fifth generation mobile   \n50                            NaN                    5G networks   \n51                            NaN                            NaN   \n\n             blockchain                        robotics  \\\n0               Altcoin                 Autonomous car*   \n1               Bitcoin  Autonomous underwater vehicle*   \n2           Blockchain*             Autonomous vehicle*   \n3        Cryptocurrenc*                             AUV   \n4   Private blockchain*                        Chatbot*   \n5    Public blockchain*                     Cybernetics   \n6                   NaN                          Drone*   \n7                   NaN                 Humanoid robot*   \n8                   NaN                    Manipulator*   \n9                   NaN             Mobile manipulator*   \n10                  NaN                   Mobile robot*   \n11                  NaN                          Robot*   \n12                  NaN                        Robotic*   \n13                  NaN               Self-driving car*   \n14                  NaN           Self-driving vehicle*   \n15                  NaN                             UAV   \n16                  NaN                             UGV   \n17                  NaN               Uncrewed vehicle*   \n18                  NaN        Unmanned aerial vehicle*   \n19                  NaN           Unmanned air vehicle*   \n20                  NaN       Unmanned aircraft system*   \n21                  NaN        Unmanned ground vehicle*   \n22                  NaN             Unmanned spacecraft   \n23                  NaN   Unmanned underwater vehicles*   \n24                  NaN               Unmanned vehicle*   \n25                  NaN                             NaN   \n26                  NaN                             NaN   \n27                  NaN                             NaN   \n28                  NaN                             NaN   \n29                  NaN                             NaN   \n30                  NaN                             NaN   \n31                  NaN                             NaN   \n32                  NaN                             NaN   \n33                  NaN                             NaN   \n34                  NaN                             NaN   \n35                  NaN                             NaN   \n36                  NaN                             NaN   \n37                  NaN                             NaN   \n38                  NaN                             NaN   \n39                  NaN                             NaN   \n40                  NaN                             NaN   \n41                  NaN                             NaN   \n42                  NaN                             NaN   \n43                  NaN                             NaN   \n44                  NaN                             NaN   \n45                  NaN                             NaN   \n46                  NaN                             NaN   \n47                  NaN                             NaN   \n48                  NaN                             NaN   \n49                  NaN                             NaN   \n50                  NaN                             NaN   \n51                  NaN                             NaN   \n\n                    additive_manufacturing  \n0                                3D print*  \n1                           3D prototyping  \n2                     Additive fabrication  \n3             Additive layer manufacturing  \n4                   Additive manufacturing  \n5            Direct digital manufacturing   \n6                             Industry 4.0  \n7                    Layered manufacturing  \n8                        Rapid prototyping  \n9                  Vat photopolymerization  \n10                        Material jetting  \n11                          Binder jetting  \n12                       Powder bed fusion  \n13                      Material extrusion  \n14              Directed energy deposition  \n15                        Sheet lamination  \n16          Composite filament fabrication  \n17  Continuous liquid interface production  \n18                      Direct ink writing  \n19            Direct metal laser sintering  \n20              Directed energy deposition  \n21      Electron-beam freeform fabrication  \n22                   Electron-beam melting  \n23               Fused deposition modeling  \n24              Fused filament fabrication  \n25          Laminated object manufacturing  \n26                             Robocasting  \n27                 Selective laser melting  \n28               Selective laser sintering  \n29                       Stereolithography  \n30                                     NaN  \n31                                     NaN  \n32                                     NaN  \n33                                     NaN  \n34                                     NaN  \n35                                     NaN  \n36                                     NaN  \n37                                     NaN  \n38                                     NaN  \n39                                     NaN  \n40                                     NaN  \n41                                     NaN  \n42                                     NaN  \n43                                     NaN  \n44                                     NaN  \n45                                     NaN  \n46                                     NaN  \n47                                     NaN  \n48                                     NaN  \n49                                     NaN  \n50                                     NaN  \n51                                     NaN  ",
      "text/html": "<div>\n<style scoped>\n    .dataframe tbody tr th:only-of-type {\n        vertical-align: middle;\n    }\n\n    .dataframe tbody tr th {\n        vertical-align: top;\n    }\n\n    .dataframe thead th {\n        text-align: right;\n    }\n</style>\n<table border=\"1\" class=\"dataframe\">\n  <thead>\n    <tr style=\"text-align: right;\">\n      <th></th>\n      <th>AI</th>\n      <th>big_data</th>\n      <th>IOT</th>\n      <th>computing_infrastructure</th>\n      <th>blockchain</th>\n      <th>robotics</th>\n      <th>additive_manufacturing</th>\n    </tr>\n  </thead>\n  <tbody>\n    <tr>\n      <th>0</th>\n      <td>Artificial intellig*</td>\n      <td>Apache Spark</td>\n      <td>Connected device*</td>\n      <td>Cloud application*</td>\n      <td>Altcoin</td>\n      <td>Autonomous car*</td>\n      <td>3D print*</td>\n    </tr>\n    <tr>\n      <th>1</th>\n      <td>Automated reasoning</td>\n      <td>Apache Cassandra</td>\n      <td>Connected home*</td>\n      <td>Cloud architecture*</td>\n      <td>Bitcoin</td>\n      <td>Autonomous underwater vehicle*</td>\n      <td>3D prototyping</td>\n    </tr>\n    <tr>\n      <th>2</th>\n      <td>Backpropagation</td>\n      <td>Big data</td>\n      <td>Cyber-physical system*</td>\n      <td>Cloud broker</td>\n      <td>Blockchain*</td>\n      <td>Autonomous vehicle*</td>\n      <td>Additive fabrication</td>\n    </tr>\n    <tr>\n      <th>3</th>\n      <td>Computer vision</td>\n      <td>Data center*</td>\n      <td>Human-machine interface*</td>\n      <td>Cloud client</td>\n      <td>Cryptocurrenc*</td>\n      <td>AUV</td>\n      <td>Additive layer manufacturing</td>\n    </tr>\n    <tr>\n      <th>4</th>\n      <td>Data mining</td>\n      <td>Data centre*</td>\n      <td>Hyper connectivity</td>\n      <td>Cloud computing</td>\n      <td>Private blockchain*</td>\n      <td>Chatbot*</td>\n      <td>Additive manufacturing</td>\n    </tr>\n    <tr>\n      <th>5</th>\n      <td>Data science</td>\n      <td>Hadoop</td>\n      <td>Industrial internet of things</td>\n      <td>Cloud infrastructure*</td>\n      <td>Public blockchain*</td>\n      <td>Cybernetics</td>\n      <td>Direct digital manufacturing</td>\n    </tr>\n    <tr>\n      <th>6</th>\n      <td>Deep learning</td>\n      <td>Large-scale data*</td>\n      <td>Intelligent factor*</td>\n      <td>Cloud migration</td>\n      <td>NaN</td>\n      <td>Drone*</td>\n      <td>Industry 4.0</td>\n    </tr>\n    <tr>\n      <th>7</th>\n      <td>Expert system*</td>\n      <td>MapReduce</td>\n      <td>Internet of everything</td>\n      <td>Cloud optimizer</td>\n      <td>NaN</td>\n      <td>Humanoid robot*</td>\n      <td>Layered manufacturing</td>\n    </tr>\n    <tr>\n      <th>8</th>\n      <td>Face detection</td>\n      <td>Massive data*</td>\n      <td>Internet of things</td>\n      <td>Cloud portfolio</td>\n      <td>NaN</td>\n      <td>Manipulator*</td>\n      <td>Rapid prototyping</td>\n    </tr>\n    <tr>\n      <th>9</th>\n      <td>Feature extraction</td>\n      <td>Apache Kafka</td>\n      <td>IoT</td>\n      <td>Cloud provider</td>\n      <td>NaN</td>\n      <td>Mobile manipulator*</td>\n      <td>Vat photopolymerization</td>\n    </tr>\n    <tr>\n      <th>10</th>\n      <td>Generative adversarial network*</td>\n      <td>HBase</td>\n      <td>Machine-to-enterprise</td>\n      <td>Cloud server*</td>\n      <td>NaN</td>\n      <td>Mobile robot*</td>\n      <td>Material jetting</td>\n    </tr>\n    <tr>\n      <th>11</th>\n      <td>Gesture recognition</td>\n      <td>BigTable</td>\n      <td>Machine-to-human</td>\n      <td>Cloud service*</td>\n      <td>NaN</td>\n      <td>Robot*</td>\n      <td>Binder jetting</td>\n    </tr>\n    <tr>\n      <th>12</th>\n      <td>Image classification</td>\n      <td>Docker</td>\n      <td>Machine-to-machine</td>\n      <td>Cloud sourcing</td>\n      <td>NaN</td>\n      <td>Robotic*</td>\n      <td>Powder bed fusion</td>\n    </tr>\n    <tr>\n      <th>13</th>\n      <td>Image recognition</td>\n      <td>Apache Hive</td>\n      <td>Pervasive sensing</td>\n      <td>Cloud storage</td>\n      <td>NaN</td>\n      <td>Self-driving car*</td>\n      <td>Material extrusion</td>\n    </tr>\n    <tr>\n      <th>14</th>\n      <td>Image segmentation</td>\n      <td>Distributed file system*</td>\n      <td>Sensor network*</td>\n      <td>Cloud platform*</td>\n      <td>NaN</td>\n      <td>Self-driving vehicle*</td>\n      <td>Directed energy deposition</td>\n    </tr>\n    <tr>\n      <th>15</th>\n      <td>Information retrieval</td>\n      <td>NaN</td>\n      <td>Smart device*</td>\n      <td>Community cloud*</td>\n      <td>NaN</td>\n      <td>UAV</td>\n      <td>Sheet lamination</td>\n    </tr>\n    <tr>\n      <th>16</th>\n      <td>Intelligent machine*</td>\n      <td>NaN</td>\n      <td>Smart factor*</td>\n      <td>Dynamic cloud*</td>\n      <td>NaN</td>\n      <td>UGV</td>\n      <td>Composite filament fabrication</td>\n    </tr>\n    <tr>\n      <th>17</th>\n      <td>Kernel machine</td>\n      <td>NaN</td>\n      <td>Smart home*</td>\n      <td>Federated cloud*</td>\n      <td>NaN</td>\n      <td>Uncrewed vehicle*</td>\n      <td>Continuous liquid interface production</td>\n    </tr>\n    <tr>\n      <th>18</th>\n      <td>Knowledge representation</td>\n      <td>NaN</td>\n      <td>Smart sensor*</td>\n      <td>Hybrid cloud*</td>\n      <td>NaN</td>\n      <td>Unmanned aerial vehicle*</td>\n      <td>Direct ink writing</td>\n    </tr>\n    <tr>\n      <th>19</th>\n      <td>Machine intelligence</td>\n      <td>NaN</td>\n      <td>Wearable*</td>\n      <td>Infrastructure as a service</td>\n      <td>NaN</td>\n      <td>Unmanned air vehicle*</td>\n      <td>Direct metal laser sintering</td>\n    </tr>\n    <tr>\n      <th>20</th>\n      <td>Machine learning</td>\n      <td>NaN</td>\n      <td>Wireless body area network*</td>\n      <td>Inter-cloud computing</td>\n      <td>NaN</td>\n      <td>Unmanned aircraft system*</td>\n      <td>Directed energy deposition</td>\n    </tr>\n    <tr>\n      <th>21</th>\n      <td>Machine translation</td>\n      <td>NaN</td>\n      <td>Wireless sensor network*</td>\n      <td>Multi-cloud*</td>\n      <td>NaN</td>\n      <td>Unmanned ground vehicle*</td>\n      <td>Electron-beam freeform fabrication</td>\n    </tr>\n    <tr>\n      <th>22</th>\n      <td>Meta-learning</td>\n      <td>NaN</td>\n      <td>NaN</td>\n      <td>On-demand computing</td>\n      <td>NaN</td>\n      <td>Unmanned spacecraft</td>\n      <td>Electron-beam melting</td>\n    </tr>\n    <tr>\n      <th>23</th>\n      <td>Multilayer perceptron*</td>\n      <td>NaN</td>\n      <td>NaN</td>\n      <td>Platform as a service</td>\n      <td>NaN</td>\n      <td>Unmanned underwater vehicles*</td>\n      <td>Fused deposition modeling</td>\n    </tr>\n    <tr>\n      <th>24</th>\n      <td>Natural language processing</td>\n      <td>NaN</td>\n      <td>NaN</td>\n      <td>Private cloud*</td>\n      <td>NaN</td>\n      <td>Unmanned vehicle*</td>\n      <td>Fused filament fabrication</td>\n    </tr>\n    <tr>\n      <th>25</th>\n      <td>Neural net*</td>\n      <td>NaN</td>\n      <td>NaN</td>\n      <td>Public cloud*</td>\n      <td>NaN</td>\n      <td>NaN</td>\n      <td>Laminated object manufacturing</td>\n    </tr>\n    <tr>\n      <th>26</th>\n      <td>Object detection</td>\n      <td>NaN</td>\n      <td>NaN</td>\n      <td>Software as a service</td>\n      <td>NaN</td>\n      <td>NaN</td>\n      <td>Robocasting</td>\n    </tr>\n    <tr>\n      <th>27</th>\n      <td>Object identification</td>\n      <td>NaN</td>\n      <td>NaN</td>\n      <td>Distributed computing</td>\n      <td>NaN</td>\n      <td>NaN</td>\n      <td>Selective laser melting</td>\n    </tr>\n    <tr>\n      <th>28</th>\n      <td>Object recognition</td>\n      <td>NaN</td>\n      <td>NaN</td>\n      <td>Parallel computing</td>\n      <td>NaN</td>\n      <td>NaN</td>\n      <td>Selective laser sintering</td>\n    </tr>\n    <tr>\n      <th>29</th>\n      <td>Pattern recognition</td>\n      <td>NaN</td>\n      <td>NaN</td>\n      <td>Decentralized computing</td>\n      <td>NaN</td>\n      <td>NaN</td>\n      <td>Stereolithography</td>\n    </tr>\n    <tr>\n      <th>30</th>\n      <td>Pose estimation</td>\n      <td>NaN</td>\n      <td>NaN</td>\n      <td>Edge computing</td>\n      <td>NaN</td>\n      <td>NaN</td>\n      <td>NaN</td>\n    </tr>\n    <tr>\n      <th>31</th>\n      <td>Reinforcement learning</td>\n      <td>NaN</td>\n      <td>NaN</td>\n      <td>Fog computing</td>\n      <td>NaN</td>\n      <td>NaN</td>\n      <td>NaN</td>\n    </tr>\n    <tr>\n      <th>32</th>\n      <td>Semantic search</td>\n      <td>NaN</td>\n      <td>NaN</td>\n      <td>Grid computing</td>\n      <td>NaN</td>\n      <td>NaN</td>\n      <td>NaN</td>\n    </tr>\n    <tr>\n      <th>33</th>\n      <td>Semi-supervised learning</td>\n      <td>NaN</td>\n      <td>NaN</td>\n      <td>Cluster computing</td>\n      <td>NaN</td>\n      <td>NaN</td>\n      <td>NaN</td>\n    </tr>\n    <tr>\n      <th>34</th>\n      <td>Sentiment analysis</td>\n      <td>NaN</td>\n      <td>NaN</td>\n      <td>Massively parallel processing</td>\n      <td>NaN</td>\n      <td>NaN</td>\n      <td>NaN</td>\n    </tr>\n    <tr>\n      <th>35</th>\n      <td>Speech recognition</td>\n      <td>NaN</td>\n      <td>NaN</td>\n      <td>Dew Computing</td>\n      <td>NaN</td>\n      <td>NaN</td>\n      <td>NaN</td>\n    </tr>\n    <tr>\n      <th>36</th>\n      <td>Statistical learning</td>\n      <td>NaN</td>\n      <td>NaN</td>\n      <td>Cognitive comput*</td>\n      <td>NaN</td>\n      <td>NaN</td>\n      <td>NaN</td>\n    </tr>\n    <tr>\n      <th>37</th>\n      <td>Supervised learning</td>\n      <td>NaN</td>\n      <td>NaN</td>\n      <td>Cyberinfrastructure*</td>\n      <td>NaN</td>\n      <td>NaN</td>\n      <td>NaN</td>\n    </tr>\n    <tr>\n      <th>38</th>\n      <td>Text classification</td>\n      <td>NaN</td>\n      <td>NaN</td>\n      <td>Data-intensive comput*</td>\n      <td>NaN</td>\n      <td>NaN</td>\n      <td>NaN</td>\n    </tr>\n    <tr>\n      <th>39</th>\n      <td>Transfer learning</td>\n      <td>NaN</td>\n      <td>NaN</td>\n      <td>Hardware accelerator*</td>\n      <td>NaN</td>\n      <td>NaN</td>\n      <td>NaN</td>\n    </tr>\n    <tr>\n      <th>40</th>\n      <td>Transformer network*</td>\n      <td>NaN</td>\n      <td>NaN</td>\n      <td>High performance comput*</td>\n      <td>NaN</td>\n      <td>NaN</td>\n      <td>NaN</td>\n    </tr>\n    <tr>\n      <th>41</th>\n      <td>Unsupervised learning</td>\n      <td>NaN</td>\n      <td>NaN</td>\n      <td>Neuromorphic comput*</td>\n      <td>NaN</td>\n      <td>NaN</td>\n      <td>NaN</td>\n    </tr>\n    <tr>\n      <th>42</th>\n      <td>Voice recognition</td>\n      <td>NaN</td>\n      <td>NaN</td>\n      <td>Optical comput*</td>\n      <td>NaN</td>\n      <td>NaN</td>\n      <td>NaN</td>\n    </tr>\n    <tr>\n      <th>43</th>\n      <td>TensorFlow</td>\n      <td>NaN</td>\n      <td>NaN</td>\n      <td>Photonic comput*</td>\n      <td>NaN</td>\n      <td>NaN</td>\n      <td>NaN</td>\n    </tr>\n    <tr>\n      <th>44</th>\n      <td>Keras</td>\n      <td>NaN</td>\n      <td>NaN</td>\n      <td>Quantum comput*</td>\n      <td>NaN</td>\n      <td>NaN</td>\n      <td>NaN</td>\n    </tr>\n    <tr>\n      <th>45</th>\n      <td>PyTorch</td>\n      <td>NaN</td>\n      <td>NaN</td>\n      <td>Real-time comput*</td>\n      <td>NaN</td>\n      <td>NaN</td>\n      <td>NaN</td>\n    </tr>\n    <tr>\n      <th>46</th>\n      <td>amrv</td>\n      <td>NaN</td>\n      <td>NaN</td>\n      <td>Supercomput*</td>\n      <td>NaN</td>\n      <td>NaN</td>\n      <td>NaN</td>\n    </tr>\n    <tr>\n      <th>47</th>\n      <td>Artificial realit*</td>\n      <td>NaN</td>\n      <td>NaN</td>\n      <td>5G</td>\n      <td>NaN</td>\n      <td>NaN</td>\n      <td>NaN</td>\n    </tr>\n    <tr>\n      <th>48</th>\n      <td>Augmented realit*</td>\n      <td>NaN</td>\n      <td>NaN</td>\n      <td>5th generation mobile</td>\n      <td>NaN</td>\n      <td>NaN</td>\n      <td>NaN</td>\n    </tr>\n    <tr>\n      <th>49</th>\n      <td>Computer-mediated realit*</td>\n      <td>NaN</td>\n      <td>NaN</td>\n      <td>Fifth generation mobile</td>\n      <td>NaN</td>\n      <td>NaN</td>\n      <td>NaN</td>\n    </tr>\n    <tr>\n      <th>50</th>\n      <td>Mixed realit*</td>\n      <td>NaN</td>\n      <td>NaN</td>\n      <td>5G networks</td>\n      <td>NaN</td>\n      <td>NaN</td>\n      <td>NaN</td>\n    </tr>\n    <tr>\n      <th>51</th>\n      <td>Virtual realit*</td>\n      <td>NaN</td>\n      <td>NaN</td>\n      <td>NaN</td>\n      <td>NaN</td>\n      <td>NaN</td>\n      <td>NaN</td>\n    </tr>\n  </tbody>\n</table>\n</div>"
     },
     "execution_count": 62,
     "metadata": {},
     "output_type": "execute_result"
    }
   ],
   "source": [
    "keyword_path = \"../data/keyword_digital_simplified.csv\"\n",
    "keywords_csv = pd.read_csv(keyword_path, sep='\\t', encoding=\"utf-8\")\n",
    "keywords_csv"
   ],
   "metadata": {
    "collapsed": false,
    "pycharm": {
     "name": "#%%\n"
    }
   }
  },
  {
   "cell_type": "code",
   "execution_count": 64,
   "outputs": [
    {
     "data": {
      "text/plain": "{'AI': ['Artificial intellig*',\n  'Automated reasoning',\n  'Backpropagation ',\n  'Computer vision',\n  'Data mining ',\n  'Data science',\n  'Deep learning',\n  'Expert system*',\n  'Face detection',\n  'Feature extraction',\n  'Generative adversarial network*',\n  'Gesture recognition',\n  'Image classification',\n  'Image recognition',\n  'Image segmentation',\n  'Information retrieval',\n  'Intelligent machine*',\n  'Kernel machine',\n  'Knowledge representation',\n  'Machine intelligence',\n  'Machine learning',\n  'Machine translation',\n  'Meta-learning',\n  'Multilayer perceptron*',\n  'Natural language processing',\n  'Neural net*',\n  'Object detection',\n  'Object identification',\n  'Object recognition',\n  'Pattern recognition',\n  'Pose estimation',\n  'Reinforcement learning',\n  'Semantic search',\n  'Semi-supervised learning',\n  'Sentiment analysis',\n  'Speech recognition',\n  'Statistical learning',\n  'Supervised learning',\n  'Text classification',\n  'Transfer learning',\n  'Transformer network*',\n  'Unsupervised learning',\n  'Voice recognition',\n  'TensorFlow',\n  'Keras',\n  'PyTorch',\n  'amrv',\n  'Artificial realit*',\n  'Augmented realit*',\n  'Computer-mediated realit*',\n  'Mixed realit*',\n  'Virtual realit*'],\n 'big_data': ['Apache Spark',\n  'Apache Cassandra',\n  'Big data',\n  'Data center*',\n  'Data centre*',\n  'Hadoop',\n  'Large-scale data*',\n  'MapReduce',\n  'Massive data*',\n  'Apache Kafka',\n  'HBase',\n  'BigTable',\n  'Docker',\n  'Apache Hive',\n  'Distributed file system*'],\n 'IOT': ['Connected device*',\n  'Connected home*',\n  'Cyber-physical system*',\n  'Human-machine interface*',\n  'Hyper connectivity',\n  'Industrial internet of things',\n  'Intelligent factor*',\n  'Internet of everything',\n  'Internet of things',\n  'IoT',\n  'Machine-to-enterprise',\n  'Machine-to-human',\n  'Machine-to-machine',\n  'Pervasive sensing',\n  'Sensor network*',\n  'Smart device*',\n  'Smart factor*',\n  'Smart home*',\n  'Smart sensor*',\n  'Wearable*',\n  'Wireless body area network*',\n  'Wireless sensor network*'],\n 'computing_infrastructure': ['Cloud application*',\n  'Cloud architecture*',\n  'Cloud broker',\n  'Cloud client',\n  'Cloud computing',\n  'Cloud infrastructure*',\n  'Cloud migration',\n  'Cloud optimizer',\n  'Cloud portfolio',\n  'Cloud provider',\n  'Cloud server*',\n  'Cloud service*',\n  'Cloud sourcing',\n  'Cloud storage',\n  'Cloud platform*',\n  'Community cloud*',\n  'Dynamic cloud*',\n  'Federated cloud*',\n  'Hybrid cloud*',\n  'Infrastructure as a service',\n  'Inter-cloud computing',\n  'Multi-cloud*',\n  'On-demand computing',\n  'Platform as a service',\n  'Private cloud*',\n  'Public cloud*',\n  'Software as a service',\n  'Distributed computing',\n  'Parallel computing',\n  'Decentralized computing',\n  'Edge computing',\n  'Fog computing',\n  'Grid computing',\n  'Cluster computing',\n  'Massively parallel processing',\n  'Dew Computing',\n  'Cognitive comput*',\n  'Cyberinfrastructure*',\n  'Data-intensive comput*',\n  'Hardware accelerator*',\n  'High performance comput*',\n  'Neuromorphic comput*',\n  'Optical comput*',\n  'Photonic comput*',\n  'Quantum comput*',\n  'Real-time comput*',\n  'Supercomput*',\n  '5G',\n  '5th generation mobile',\n  'Fifth generation mobile',\n  '5G networks'],\n 'blockchain': ['Altcoin',\n  'Bitcoin',\n  'Blockchain*',\n  'Cryptocurrenc*',\n  'Private blockchain*',\n  'Public blockchain*'],\n 'robotics': ['Autonomous car*',\n  'Autonomous underwater vehicle*',\n  'Autonomous vehicle*',\n  'AUV',\n  'Chatbot*',\n  'Cybernetics',\n  'Drone*',\n  'Humanoid robot*',\n  'Manipulator*',\n  'Mobile manipulator*',\n  'Mobile robot*',\n  'Robot*',\n  'Robotic*',\n  'Self-driving car*',\n  'Self-driving vehicle*',\n  'UAV',\n  'UGV',\n  'Uncrewed vehicle*',\n  'Unmanned aerial vehicle*',\n  'Unmanned air vehicle*',\n  'Unmanned aircraft system*',\n  'Unmanned ground vehicle*',\n  'Unmanned spacecraft',\n  'Unmanned underwater vehicles*',\n  'Unmanned vehicle*'],\n 'additive_manufacturing': ['3D print*',\n  '3D prototyping',\n  'Additive fabrication',\n  'Additive layer manufacturing',\n  'Additive manufacturing',\n  'Direct digital manufacturing\\xa0',\n  'Industry 4.0',\n  'Layered manufacturing',\n  'Rapid prototyping',\n  'Vat photopolymerization',\n  'Material jetting',\n  'Binder jetting',\n  'Powder bed fusion',\n  'Material extrusion',\n  'Directed energy deposition',\n  'Sheet lamination',\n  'Composite filament fabrication',\n  'Continuous liquid interface production',\n  'Direct ink writing',\n  'Direct metal laser sintering',\n  'Directed energy deposition',\n  'Electron-beam freeform fabrication',\n  'Electron-beam melting',\n  'Fused deposition modeling',\n  'Fused filament fabrication',\n  'Laminated object manufacturing',\n  'Robocasting',\n  'Selective laser melting',\n  'Selective laser sintering',\n  'Stereolithography']}"
     },
     "execution_count": 64,
     "metadata": {},
     "output_type": "execute_result"
    }
   ],
   "source": [
    "dic_keywords = {}\n",
    "for col in keywords_csv.columns:\n",
    "      dic_keywords[col] = keywords_csv[col].dropna(how=\"all\").to_list()\n",
    "dic_keywords"
   ],
   "metadata": {
    "collapsed": false,
    "pycharm": {
     "name": "#%%\n"
    }
   }
  },
  {
   "cell_type": "code",
   "execution_count": 80,
   "outputs": [],
   "source": [
    "import re"
   ],
   "metadata": {
    "collapsed": false,
    "pycharm": {
     "name": "#%%\n"
    }
   }
  },
  {
   "cell_type": "code",
   "execution_count": 79,
   "outputs": [
    {
     "name": "stdout",
     "output_type": "stream",
     "text": [
      "Premature Brain Aging in Baboons Resulting from Moderate Fetal Undernutrition\n",
      "BrainAGE; developmental programming; in vivo; maternal nutrient restriction (MNR); machine learning; non-human primates; magnetic resonance imaging (MRI)\n",
      "\n",
      "\n",
      "Contrary to the known benefits fromamoderate dietary reduction during adulthood on life span and health, maternal nutrient reduction during pregnancy is supposed to affect the developing brain, probably resulting in impaired brain structure and function throughout life. Decreased fetal nutrition delivery is widespread in both developing and developed countries, caused by poverty and natural disasters, but also due to maternal dieting, teenage pregnancy, pregnancy in women over 35 years of age, placental insufficiency, or multiples. Compromised development of fetal cerebral structures was already shown in our baboon model of moderate maternal nutrient reduction. The present study was designed to follow-up and evaluate the effects of moderate maternal nutrient reduction on individual brain aging in the baboon during young adulthood (4-7 years; human equivalent 14-24 years), applying a novel, non-invasive neuroimaging aging biomarker. The study reveals premature brain aging of + 2.7 years (p < 0.01) in the female baboon exposed to fetal undernutrition. The effects of moderate maternal nutrient reduction on individual brain aging occurred in the absence of fetal growth restriction or marked maternal weight reduction at birth, which stresses the significance of early nutritional conditions in life-long developmental programming. This non-invasive MRI biomarker allows further longitudinal in vivo tracking of individual brain aging trajectories to assess the life-long effects of developmental and environmental influences in programming paradigms, aiding preventive and curative treatments on cerebral atrophy in experimental animal models and humans.\n",
      "\n",
      "\n",
      "AI = True\n",
      "Machine learning\n",
      "\n",
      "\n",
      "Use of low bandwidth network technologies and sensors for operation and performance monitoring of rural development projects: A case study in South Africa\n",
      "ICT; IoT; maintenance; operation and performance monitoring; preventive; reactive; sensors\n",
      "\n",
      "\n",
      "Poor infrastructure maintenance of basic services in developing countries undermine economic development and sustainability. The process of reactive maintenance on equipment are practiced in many rural projects, resulting in a range of challenges, including high cost, shorter life expectancy of equipment and inefficient use of project engagement time by project teams. This paper proposes the use of low data rate sensors for the monitoring of rural infrastructure to assist in the practice of preventive maintenance in rural projects. The paper argues and demonstrates the importance of on-going operation and performance monitoring of infrastructure to implement preventive maintenance throughout the life cycle of rural infrastructure projects with the use of a case study-a remote village in rural South Africa. The implementation of preventive maintenance practices in rural projects show that project maintenance budgets can be utilized more efficiently when compared to traditional reactive maintenance. In addition to the reduction of maintenance cost, the implementation of preventive maintenance can lead to better life expectancy of equipment as well as safer operating and maintenance conditions for operators and maintenance teams. Findings reveal that the utilization of low data rate sensors for equipment operation and performance monitoring can support rural development as it assists preventive maintenance solutions, replacing reactive maintenance strategies. The paper further aims to assist project teams working in rural projects to improve support and maintenance of deployed infrastructure and equipment to improve the sustainability of these rural projects. The contribution of this paper is the demonstration of how the implementation of low bandwidth network technologies and sensors can be utilized for operation and performance monitoring in deep rural projects without incurring major costs to support the sustainability of these projects.\n",
      "\n",
      "\n",
      "IOT = True\n",
      "IoT\n",
      "\n",
      "\n",
      "Internet of Things (IoT) as Sustainable Development Goals (SDG) Enabling Technology towards Smart Readiness Indicators (SRI) for University Buildings\n",
      "Internet of Things (IoT) for Sustainable Development Goals (SDG); university campus as living lab; energy efficiency building; Nearly Zero Energy Building (NZEB); digital twins; smart building technologies; Smart Readiness Indicator (SRI); service design thinking; educational spaces\n",
      "\n",
      "\n",
      "Non-residential buildings contribute to around 20% of the total energy consumed in Europe. This consumption continues to increase globally. Smart building proposals (focused on Nearly Zero Energy Building (NZEB), air quality monitoring, energy saving with thermal comfort, etc.) were already necessary before 2020, and the pandemic has made this research and development area more essential. Furthermore, the need to meet the Sustainable Development Goals (SDG) and obtain technological solutions based on the Internet of Things (IoT) requires holistic contributions through real installations that serve as spaces for measuring, testing, study and research. This article proposes a \"measure-analyse-decide and act\" methodology to quantify the Smart Readiness Indicator (SRI) for university buildings as a reference environment for energy efficiency and COVID-19 prevention models. Two conceptual spaces (physical and digital) within two dimensions (users and infrastructures) are designated over an IoT three-level model (information acquisition, interoperable communication, and data-driven decision). An IoT ecosystem (sensoriZAR) was implemented as a proof-of-concept of a smart campus at the University of Zaragoza, Spain. Focused on CO2 and energy consumption monitoring, the results showed effectiveness through real installations, demonstrating the IoT potential as SDG-enabling technologies. These contributions allow not only experimental lab tests (from the authors' expertise in several specialties of Industrial, Mechanical, Design, Thermal, Electrical, Electronic, Computer and Telecommunication Engineering) but also a reference model for direct application in academic works, research projects and institutional initiatives, extendable to professional environments, buildings and cities.\n",
      "\n",
      "\n",
      "IOT = True\n",
      "Internet of things\n",
      "IoT\n",
      "\n",
      "\n",
      "The Pandemic, Infodemic, and People's Resilience in India: Viewpoint\n",
      "pandemic; COVID-19; India; digital health; infodemics; Sustainable Development Goals; SDGs\n",
      "\n",
      "\n",
      "The COVID-19 pandemic, caused by severe acute respiratory syndrome coronavirus 2 (SARS-CoV-2), has caused widespread fear and stress. The pandemic has affected everyone, everywhere, and created systemic inequities, leaving no one behind. In India alone, more than 34,094,373 confirmed COVID-19 cases and 452,454 related deaths have been reported as of October 19, 2021. Around May 2021, the daily number of new COVID-19 cases crossed the 400,000 mark, seriously hampering the health care system. Despite the devastating situation, the public response was seen through their efforts to come forward with innovative ideas for potential ways to combat the pandemic, for instance, dealing with the shortage of oxygen cylinders and hospital bed availability. With increasing COVID-19 vaccination rates since September 2021, along with the diminishing number of daily new cases, the country is conducting preventive and preparatory measures for the third wave. In this article, we propose the pivotal role of public participation and digital solutions to re-establish our society and describe how Sustainable Development Goals (SDGs) can support eHealth initiatives and mitigate infodemics to tackle a postpandemic situation. This viewpoint reflects that the COVID-19 pandemic has featured a need to bring together research findings across disciplines, build greater coherence within the field, and be a driving force for multi-sectoral, cross-disciplinary collaboration. The article also highlights the various needs to develop digital solutions that can be applied to pandemic situations and be reprocessed to focus on other SDGs. Promoting the use of digital health care solutions to implement preventive measures can be enhanced by public empowerment and engagement. Wearable technologies can be efficiently used for remote monitoring or home-based care for patients with chronic conditions. Furthermore, the development and implementation of informational tools can aid the improvement of well-being and dissolve panic-ridden behaviors contributing toward infodemics. Thus, a call to action for an observatory of digital health initiatives on COVID-19 is required to share the main conclusions and lessons learned in terms of resilience, crisis mitigation, and preparedness.\n",
      "\n",
      "\n",
      "IOT = True\n",
      "Wearable*\n",
      "\n",
      "\n",
      "Application of Copernicus Data for Climate-Relevant Urban Planning Using the Example of Water, Heat, and Vegetation\n",
      "climate change; city resilience; sustainable development; urban planning; remote sensing; internet of things; water management; heat islands; digital transformation; data analytics\n",
      "\n",
      "\n",
      "Specific climate adaptation and resilience measures can be efficiently designed and implemented at regional and local levels. Climate and environmental databases are critical for achieving the sustainable development goals (SDGs) and for efficiently planning and implementing appropriate adaptation measures. Available federated and distributed databases can serve as necessary starting points for municipalities to identify needs, prioritize resources, and allocate investments, taking into account often tight budget constraints. High-quality geospatial, climate, and environmental data are now broadly available and remote sensing data, e.g., Copernicus services, will be critical. There are forward-looking approaches to use these datasets to derive forecasts for optimizing urban planning processes for local governments. On the municipal level, however, the existing data have only been used to a limited extent. There are no adequate tools for urban planning with which remote sensing data can be merged and meaningfully combined with local data and further processed and applied in municipal planning and decision-making. Therefore, our project CoKLIMAx aims at the development of new digital products, advanced urban services, and procedures, such as the development of practical technical tools that capture different remote sensing and in-situ data sets for validation and further processing. CoKLIMAx will be used to develop a scalable toolbox for urban planning to increase climate resilience. Focus areas of the project will be water (e.g., soil sealing, stormwater drainage, retention, and flood protection), urban (micro)climate (e.g., heat islands and air flows), and vegetation (e.g., greening strategy, vegetation monitoring/vitality). To this end, new digital process structures will be embedded in local government to enable better policy decisions for the future.\n",
      "\n",
      "\n",
      "IOT = True\n",
      "Internet of things\n",
      "\n",
      "\n",
      "RETRACTED: Green highway evaluation based on Big Data GIS and BIM technology (Retracted article. See vol. 14, 2021)\n",
      "Big data GIS; BIM technology; Green highway; Evaluation research\n",
      "\n",
      "\n",
      "The construction of a green road that has no negative impacts and can develop in harmony with the natural environment and ecological construction has become the inevitable development direction of our national road construction. For some construction projects with relatively high difficulty, relatively high technical requirements, and relatively complex engineering framework, the use of BIM technology can improve the management ability and management level of the construction of the project, thereby improving the development of quality engineering construction. GIS technology can accurately locate the natural environment and geographic information surrounding the construction project. So as to make the BIM model more complete. Therefore, in the process of highway project construction, GIS data and BIM model are used to combine, so that the two can cooperate with each other to achieve the degree of complementary advantages. The two can effectively communicate and exchange data, so that the model data can be combined more accurately when modeling. Under the guidance of the concept of sustainable development, the design, construction and maintenance of green highways are carried out, so as to provide a theoretical basis and scientific basis for the evaluation of green highways.\n",
      "\n",
      "\n",
      "big_data = True\n",
      "Big data\n",
      "\n",
      "\n",
      "An energy-efficient cooperative multicast routing in multi-hop wireless networks for smart medical applications\n",
      "Energy-efficient networks; Topology control; Multi-hop wireless networks; Multicast routing; Energy-efficient communications\n",
      "\n",
      "\n",
      "With the advance of multimedia and pattern recognition based medical technologies, smart medical applications in smart hospital and smart medical for individual, such as disease diagnosis and health monitoring, play an important role in our life. However, the communication infrastructure of supporting these applications is a challenge. This paper studies the energy-efficient multicast routing problem in multi-hop wireless networks for these medical applications. Energy consumption has become the main problem of sustainable development of communication networks, particularly for these applications. How to carry out high energy-efficient communication is an important research topic for wired and wireless networks to implement green communications. This paper proposes an energy-efficient multicast routing approach to multi-hop wireless networks for smart medical applications. Different from previous methods, we aim at maximizing energy efficiency of networks. To this end, we make use of topology control and sleeping mechanism to obtain the optimal routing strategy with maximum network energy efficiency to construct the network multicast route. Simulation results show that the proposed approach is effective and feasible. (C) 2016 Elsevier B.V. All rights reserved.\n",
      "\n",
      "\n",
      "AI = True\n",
      "Pattern recognition\n",
      "\n",
      "\n"
     ]
    }
   ],
   "source": [
    "for ind, row in diff.iterrows():\n",
    "      print(row.TI) #titre\n",
    "      print(row.DE) # mots-clefs\n",
    "      print(\"\\n\")\n",
    "      print(row.AB) # résumé\n",
    "      print(\"\\n\")\n",
    "      txt = row[\"TI\"] + \" \" + row[\"DE\"] + \" \" + row[\"AB\"]\n",
    "      for col in diff.columns[30:37]:\n",
    "            if row[col]:\n",
    "                  print(f\"{col} = True\") # DT\n",
    "                  for keyword in dic_keywords[col]:\n",
    "                        if re.search(pattern=\"\\\\b\" +keyword.replace(\"*\", \"\\\\w*\")+\"\\\\b\" , string=txt, flags=re.IGNORECASE):\n",
    "                              print(keyword) # mot-clef relatif à la technologie digitale\n",
    "\n",
    "\n",
    "\n",
    "      print(\"\\n\")\n",
    "      if ind > 5 :\n",
    "            break"
   ],
   "metadata": {
    "collapsed": false,
    "pycharm": {
     "name": "#%%\n"
    }
   }
  },
  {
   "cell_type": "code",
   "execution_count": 76,
   "outputs": [],
   "source": [
    "cond = all_sdg.AB.str.contains(\"Objectives: Contextual factors can influence\")"
   ],
   "metadata": {
    "collapsed": false,
    "pycharm": {
     "name": "#%%\n"
    }
   }
  },
  {
   "cell_type": "code",
   "execution_count": 50,
   "outputs": [
    {
     "data": {
      "text/plain": "        PT                                                 AU  \\\n1193613  J  Nguyen, QC; Meng, H; Li, D; Kath, S; McCulloug...   \n\n                                                        TI             SO  \\\n1193613  Social media indicators of the food environmen...  PUBLIC HEALTH   \n\n                                                        DE  \\\n1193613  Social determinants; Social media; Geography; ...   \n\n                                                        AB  \\\n1193613  Objectives: Contextual factors can influence h...   \n\n                                                        C1  \\\n1193613  [Nguyen, Q. C.; Meng, H.; Kanokuimankul, P.] U...   \n\n                                   EM  TC    PY  ...    IOT  \\\n1193613  quynh.nguyen@health.utah.edu  21  2017  ...  False   \n\n        computing_infrastructure blockchain robotics additive_manufacturing  \\\n1193613                    False      False    False                  False   \n\n        Society Economy Environment     EU   DST  \n1193613    True   False       False  False  True  \n\n[1 rows x 42 columns]",
      "text/html": "<div>\n<style scoped>\n    .dataframe tbody tr th:only-of-type {\n        vertical-align: middle;\n    }\n\n    .dataframe tbody tr th {\n        vertical-align: top;\n    }\n\n    .dataframe thead th {\n        text-align: right;\n    }\n</style>\n<table border=\"1\" class=\"dataframe\">\n  <thead>\n    <tr style=\"text-align: right;\">\n      <th></th>\n      <th>PT</th>\n      <th>AU</th>\n      <th>TI</th>\n      <th>SO</th>\n      <th>DE</th>\n      <th>AB</th>\n      <th>C1</th>\n      <th>EM</th>\n      <th>TC</th>\n      <th>PY</th>\n      <th>...</th>\n      <th>IOT</th>\n      <th>computing_infrastructure</th>\n      <th>blockchain</th>\n      <th>robotics</th>\n      <th>additive_manufacturing</th>\n      <th>Society</th>\n      <th>Economy</th>\n      <th>Environment</th>\n      <th>EU</th>\n      <th>DST</th>\n    </tr>\n  </thead>\n  <tbody>\n    <tr>\n      <th>1193613</th>\n      <td>J</td>\n      <td>Nguyen, QC; Meng, H; Li, D; Kath, S; McCulloug...</td>\n      <td>Social media indicators of the food environmen...</td>\n      <td>PUBLIC HEALTH</td>\n      <td>Social determinants; Social media; Geography; ...</td>\n      <td>Objectives: Contextual factors can influence h...</td>\n      <td>[Nguyen, Q. C.; Meng, H.; Kanokuimankul, P.] U...</td>\n      <td>quynh.nguyen@health.utah.edu</td>\n      <td>21</td>\n      <td>2017</td>\n      <td>...</td>\n      <td>False</td>\n      <td>False</td>\n      <td>False</td>\n      <td>False</td>\n      <td>False</td>\n      <td>True</td>\n      <td>False</td>\n      <td>False</td>\n      <td>False</td>\n      <td>True</td>\n    </tr>\n  </tbody>\n</table>\n<p>1 rows × 42 columns</p>\n</div>"
     },
     "execution_count": 50,
     "metadata": {},
     "output_type": "execute_result"
    }
   ],
   "source": [
    "all_sdg[cond]"
   ],
   "metadata": {
    "collapsed": false,
    "pycharm": {
     "name": "#%%\n"
    }
   }
  },
  {
   "cell_type": "code",
   "execution_count": null,
   "outputs": [],
   "source": [],
   "metadata": {
    "collapsed": false,
    "pycharm": {
     "name": "#%%\n"
    }
   }
  }
 ],
 "metadata": {
  "kernelspec": {
   "display_name": "Python 3",
   "language": "python",
   "name": "python3"
  },
  "language_info": {
   "codemirror_mode": {
    "name": "ipython",
    "version": 2
   },
   "file_extension": ".py",
   "mimetype": "text/x-python",
   "name": "python",
   "nbconvert_exporter": "python",
   "pygments_lexer": "ipython2",
   "version": "2.7.6"
  }
 },
 "nbformat": 4,
 "nbformat_minor": 0
}