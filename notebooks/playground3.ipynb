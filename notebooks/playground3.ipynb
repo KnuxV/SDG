{
 "cells": [
  {
   "cell_type": "code",
   "execution_count": 2,
   "outputs": [],
   "source": [
    "import numpy as np\n",
    "import pandas as pd\n",
    "import tqdm\n",
    "from sklearn.preprocessing import MultiLabelBinarizer"
   ],
   "metadata": {
    "collapsed": false
   }
  },
  {
   "cell_type": "code",
   "execution_count": null,
   "outputs": [],
   "source": [],
   "metadata": {
    "collapsed": false
   }
  },
  {
   "cell_type": "code",
   "execution_count": 3,
   "outputs": [
    {
     "data": {
      "text/plain": "        PT                                                 AU  \\\n967427   J       Cho, WJ; Kim, HJ; Jung, DH; Han, HJ; Cho, YY   \n739958   J     Bahbouh, K; Wagner, JR; Morency, C; Berdier, C   \n1073691  J                                 Yilmaz, A; Ayan, K   \n862859   J  Wei, LX; Zhou, BS; Ma, XC; Chen, DX; Zhang, JY...   \n61611    C                                         Gondara, L   \n...     ..                                                ...   \n844349   C                         Capozzoli, A; Primiceri, G   \n419668   J                            Ouallouche, F; Ameur, S   \n411808   C                               Kato, H; Yamauchi, K   \n863893   C                                     Lv, C; Qiao, L   \n845529   J                        Shang, BD; Liu, LJ; Tian, Z   \n\n                                                        TI  \\\n967427   Hybrid Signal-Processing Method Based on Neura...   \n739958   Travel demand corridors: Modelling approach an...   \n1073691  Cancer risk analysis by fuzzy logic approach a...   \n862859   Lightning: A High-Efficient Neighbor Discovery...   \n61611    Medical image denoising using convolutional de...   \n...                                                    ...   \n844349   Cooling systems in data centers: state of art ...   \n419668   Rainfall detection over northern Algeria by co...   \n411808   Quick MPPT microconverter using a limited gene...   \n863893   Evenly-Distributed Clustering for Wireless Sen...   \n845529   Deep Learning-Assisted Energy-Efficient Task O...   \n\n                                                        SO  \\\n967427                                             SENSORS   \n739958                      JOURNAL OF TRANSPORT GEOGRAPHY   \n1073691  TURKISH JOURNAL OF ELECTRICAL ENGINEERING AND ...   \n862859                         IEEE COMMUNICATIONS LETTERS   \n61611    2016 IEEE 16TH INTERNATIONAL CONFERENCE ON DAT...   \n...                                                    ...   \n844349   SUSTAINABILITY IN ENERGY AND BUILDINGS: PROCEE...   \n419668                               APPLIED WATER SCIENCE   \n411808   2015 INTERNATIONAL CONFERENCE ON SUSTAINABLE E...   \n863893   2016 IEEE INTERNATIONAL CONFERENCE OF ONLINE A...   \n845529           IEEE TRANSACTIONS ON VEHICULAR TECHNOLOGY   \n\n                                                        DE  \\\n967427   ion-selective electrode; sensor array; two-poi...   \n739958   Demand corridor; Origin and Destination (OD); ...   \n1073691  Fuzzy logic; artificial intelligence; cancer; ...   \n862859   Low Duty Cycle WSNs; Neighbor Discovery; Deter...   \n61611    Image denoising; denoising autoencoder; convol...   \n...                                                    ...   \n844349                   Data center; Cooling technologies   \n419668                  Rainfall detection; MSG; TRMM; ANN   \n411808   limited general regression neural network (LGR...   \n863893            WSN; Routing Protocols; Energy-Efficient   \n845529   Servers; Task analysis; Fading channels; Energ...   \n\n                                                        AB  \\\n967427   In closed hydroponics, fast and continuous mea...   \n739958   In an ideal world, transportation networks and...   \n1073691  Cancer is the leading life-threatening disease...   \n862859   In wireless sensor networks (WSNs), due to the...   \n61611    Image denoising is an important pre-processing...   \n...                                                    ...   \n844349   The growing number, size, complexity and energ...   \n419668   In this paper, a new method to delineate rain ...   \n411808   The recent development of photovoltaic electri...   \n863893   Users can accurately monitor a remote field co...   \n845529   In this paper, we study an energy-efficient co...   \n\n                                                        C1  \\\n967427   [Cho, Woo-Jae; Kim, Hak-Jin; Jung, Dae-Hyun; H...   \n739958   [Bahbouh, Kinan; Morency, Catherine] Ecole Pol...   \n1073691  [Yilmaz, Atinc] Halic Univ, Dept Comp Engn, Is...   \n862859   [Wei, Liangxiong; Zhou, Beisi; Ma, Xichu; Chen...   \n61611    [Gondara, Lovedeep] Simon Fraser Univ, Dept Co...   \n...                                                    ...   \n844349   [Capozzoli, Alfonso; Primiceri, Giulio] Polite...   \n419668   [Ouallouche, Fethi; Ameur, Soltane] Mouloud Ma...   \n411808   [Kato, Hidekazu; Yamauchi, Koichiro] Chubu Uni...   \n863893   [Lv, Can; Qiao, Lin] Tsinghua Univ, Dept Comp ...   \n845529   [Shang, Bodong; Liu, Lingjia] Virginia Polytec...   \n\n                                                        EM   TC    PY  ...  \\\n967427   er8er@snu.ac.kr; kimhj69@snu.ac.kr; jeoguss@gm...    8  2019  ...   \n739958                            Kinan.bahbouh@polymtl.ca    5  2017  ...   \n1073691                           atincyilmaz@halic.edu.tr   11  2013  ...   \n862859        jianpeng@scu.edu.cn; chenliangyin@scu.edu.cn   24  2016  ...   \n61611                                      lgondara@sfu.ca  162  2016  ...   \n...                                                    ...  ...   ...  ...   \n844349                         alfonso.capozzoli@polito.it   83  2015  ...   \n419668        ouafethi_04@yahoo.fr; ameursoltane@yahoo.com    6  2016  ...   \n411808   tp14008-2929@sti.chubu.ac.jp; yamauchi@cs.chub...    5  2015  ...   \n863893          lcpk0411@sina.com; qiaolin@tsinghua.edu.cn    0  2016  ...   \n845529        bdshang@vt.edu; ljliu@vt.edu; ztian1@gmu.edu    0  2021  ...   \n\n        Society Economy Environment     EU   DST     ANN ANN_DT ANN_SDG  \\\n967427     True   False       False  False  True  DTTSDG    NaN       1   \n739958     True   False       False   True  True  DTTSDG    NaN       1   \n1073691    True   False       False  False  True  ASDGDT    NaN       1   \n862859     True   False       False  False  True     ODT    NaN       0   \n61611      True   False       False  False  True  DTTSDG    NaN       1   \n...         ...     ...         ...    ...   ...     ...    ...     ...   \n844349     True   False       False   True  True     DTA    NaN       0   \n419668    False   False        True  False  True      IR    NaN       0   \n411808    False   False        True  False  True  DTTSDG    NaN       0   \n863893     True   False       False  False  True     DTA    NaN       0   \n845529     True   False       False  False  True    OMDT    NaN       1   \n\n        Relevance ANN_DF  \n967427          3      1  \n739958          3      1  \n1073691         3      1  \n862859          1      1  \n61611           3      1  \n...           ...    ...  \n844349          2      1  \n419668          1      1  \n411808          3      1  \n863893          2      1  \n845529          3      1  \n\n[115 rows x 47 columns]",
      "text/html": "<div>\n<style scoped>\n    .dataframe tbody tr th:only-of-type {\n        vertical-align: middle;\n    }\n\n    .dataframe tbody tr th {\n        vertical-align: top;\n    }\n\n    .dataframe thead th {\n        text-align: right;\n    }\n</style>\n<table border=\"1\" class=\"dataframe\">\n  <thead>\n    <tr style=\"text-align: right;\">\n      <th></th>\n      <th>PT</th>\n      <th>AU</th>\n      <th>TI</th>\n      <th>SO</th>\n      <th>DE</th>\n      <th>AB</th>\n      <th>C1</th>\n      <th>EM</th>\n      <th>TC</th>\n      <th>PY</th>\n      <th>...</th>\n      <th>Society</th>\n      <th>Economy</th>\n      <th>Environment</th>\n      <th>EU</th>\n      <th>DST</th>\n      <th>ANN</th>\n      <th>ANN_DT</th>\n      <th>ANN_SDG</th>\n      <th>Relevance</th>\n      <th>ANN_DF</th>\n    </tr>\n  </thead>\n  <tbody>\n    <tr>\n      <th>967427</th>\n      <td>J</td>\n      <td>Cho, WJ; Kim, HJ; Jung, DH; Han, HJ; Cho, YY</td>\n      <td>Hybrid Signal-Processing Method Based on Neura...</td>\n      <td>SENSORS</td>\n      <td>ion-selective electrode; sensor array; two-poi...</td>\n      <td>In closed hydroponics, fast and continuous mea...</td>\n      <td>[Cho, Woo-Jae; Kim, Hak-Jin; Jung, Dae-Hyun; H...</td>\n      <td>er8er@snu.ac.kr; kimhj69@snu.ac.kr; jeoguss@gm...</td>\n      <td>8</td>\n      <td>2019</td>\n      <td>...</td>\n      <td>True</td>\n      <td>False</td>\n      <td>False</td>\n      <td>False</td>\n      <td>True</td>\n      <td>DTTSDG</td>\n      <td>NaN</td>\n      <td>1</td>\n      <td>3</td>\n      <td>1</td>\n    </tr>\n    <tr>\n      <th>739958</th>\n      <td>J</td>\n      <td>Bahbouh, K; Wagner, JR; Morency, C; Berdier, C</td>\n      <td>Travel demand corridors: Modelling approach an...</td>\n      <td>JOURNAL OF TRANSPORT GEOGRAPHY</td>\n      <td>Demand corridor; Origin and Destination (OD); ...</td>\n      <td>In an ideal world, transportation networks and...</td>\n      <td>[Bahbouh, Kinan; Morency, Catherine] Ecole Pol...</td>\n      <td>Kinan.bahbouh@polymtl.ca</td>\n      <td>5</td>\n      <td>2017</td>\n      <td>...</td>\n      <td>True</td>\n      <td>False</td>\n      <td>False</td>\n      <td>True</td>\n      <td>True</td>\n      <td>DTTSDG</td>\n      <td>NaN</td>\n      <td>1</td>\n      <td>3</td>\n      <td>1</td>\n    </tr>\n    <tr>\n      <th>1073691</th>\n      <td>J</td>\n      <td>Yilmaz, A; Ayan, K</td>\n      <td>Cancer risk analysis by fuzzy logic approach a...</td>\n      <td>TURKISH JOURNAL OF ELECTRICAL ENGINEERING AND ...</td>\n      <td>Fuzzy logic; artificial intelligence; cancer; ...</td>\n      <td>Cancer is the leading life-threatening disease...</td>\n      <td>[Yilmaz, Atinc] Halic Univ, Dept Comp Engn, Is...</td>\n      <td>atincyilmaz@halic.edu.tr</td>\n      <td>11</td>\n      <td>2013</td>\n      <td>...</td>\n      <td>True</td>\n      <td>False</td>\n      <td>False</td>\n      <td>False</td>\n      <td>True</td>\n      <td>ASDGDT</td>\n      <td>NaN</td>\n      <td>1</td>\n      <td>3</td>\n      <td>1</td>\n    </tr>\n    <tr>\n      <th>862859</th>\n      <td>J</td>\n      <td>Wei, LX; Zhou, BS; Ma, XC; Chen, DX; Zhang, JY...</td>\n      <td>Lightning: A High-Efficient Neighbor Discovery...</td>\n      <td>IEEE COMMUNICATIONS LETTERS</td>\n      <td>Low Duty Cycle WSNs; Neighbor Discovery; Deter...</td>\n      <td>In wireless sensor networks (WSNs), due to the...</td>\n      <td>[Wei, Liangxiong; Zhou, Beisi; Ma, Xichu; Chen...</td>\n      <td>jianpeng@scu.edu.cn; chenliangyin@scu.edu.cn</td>\n      <td>24</td>\n      <td>2016</td>\n      <td>...</td>\n      <td>True</td>\n      <td>False</td>\n      <td>False</td>\n      <td>False</td>\n      <td>True</td>\n      <td>ODT</td>\n      <td>NaN</td>\n      <td>0</td>\n      <td>1</td>\n      <td>1</td>\n    </tr>\n    <tr>\n      <th>61611</th>\n      <td>C</td>\n      <td>Gondara, L</td>\n      <td>Medical image denoising using convolutional de...</td>\n      <td>2016 IEEE 16TH INTERNATIONAL CONFERENCE ON DAT...</td>\n      <td>Image denoising; denoising autoencoder; convol...</td>\n      <td>Image denoising is an important pre-processing...</td>\n      <td>[Gondara, Lovedeep] Simon Fraser Univ, Dept Co...</td>\n      <td>lgondara@sfu.ca</td>\n      <td>162</td>\n      <td>2016</td>\n      <td>...</td>\n      <td>True</td>\n      <td>False</td>\n      <td>False</td>\n      <td>False</td>\n      <td>True</td>\n      <td>DTTSDG</td>\n      <td>NaN</td>\n      <td>1</td>\n      <td>3</td>\n      <td>1</td>\n    </tr>\n    <tr>\n      <th>...</th>\n      <td>...</td>\n      <td>...</td>\n      <td>...</td>\n      <td>...</td>\n      <td>...</td>\n      <td>...</td>\n      <td>...</td>\n      <td>...</td>\n      <td>...</td>\n      <td>...</td>\n      <td>...</td>\n      <td>...</td>\n      <td>...</td>\n      <td>...</td>\n      <td>...</td>\n      <td>...</td>\n      <td>...</td>\n      <td>...</td>\n      <td>...</td>\n      <td>...</td>\n      <td>...</td>\n    </tr>\n    <tr>\n      <th>844349</th>\n      <td>C</td>\n      <td>Capozzoli, A; Primiceri, G</td>\n      <td>Cooling systems in data centers: state of art ...</td>\n      <td>SUSTAINABILITY IN ENERGY AND BUILDINGS: PROCEE...</td>\n      <td>Data center; Cooling technologies</td>\n      <td>The growing number, size, complexity and energ...</td>\n      <td>[Capozzoli, Alfonso; Primiceri, Giulio] Polite...</td>\n      <td>alfonso.capozzoli@polito.it</td>\n      <td>83</td>\n      <td>2015</td>\n      <td>...</td>\n      <td>True</td>\n      <td>False</td>\n      <td>False</td>\n      <td>True</td>\n      <td>True</td>\n      <td>DTA</td>\n      <td>NaN</td>\n      <td>0</td>\n      <td>2</td>\n      <td>1</td>\n    </tr>\n    <tr>\n      <th>419668</th>\n      <td>J</td>\n      <td>Ouallouche, F; Ameur, S</td>\n      <td>Rainfall detection over northern Algeria by co...</td>\n      <td>APPLIED WATER SCIENCE</td>\n      <td>Rainfall detection; MSG; TRMM; ANN</td>\n      <td>In this paper, a new method to delineate rain ...</td>\n      <td>[Ouallouche, Fethi; Ameur, Soltane] Mouloud Ma...</td>\n      <td>ouafethi_04@yahoo.fr; ameursoltane@yahoo.com</td>\n      <td>6</td>\n      <td>2016</td>\n      <td>...</td>\n      <td>False</td>\n      <td>False</td>\n      <td>True</td>\n      <td>False</td>\n      <td>True</td>\n      <td>IR</td>\n      <td>NaN</td>\n      <td>0</td>\n      <td>1</td>\n      <td>1</td>\n    </tr>\n    <tr>\n      <th>411808</th>\n      <td>C</td>\n      <td>Kato, H; Yamauchi, K</td>\n      <td>Quick MPPT microconverter using a limited gene...</td>\n      <td>2015 INTERNATIONAL CONFERENCE ON SUSTAINABLE E...</td>\n      <td>limited general regression neural network (LGR...</td>\n      <td>The recent development of photovoltaic electri...</td>\n      <td>[Kato, Hidekazu; Yamauchi, Koichiro] Chubu Uni...</td>\n      <td>tp14008-2929@sti.chubu.ac.jp; yamauchi@cs.chub...</td>\n      <td>5</td>\n      <td>2015</td>\n      <td>...</td>\n      <td>False</td>\n      <td>False</td>\n      <td>True</td>\n      <td>False</td>\n      <td>True</td>\n      <td>DTTSDG</td>\n      <td>NaN</td>\n      <td>0</td>\n      <td>3</td>\n      <td>1</td>\n    </tr>\n    <tr>\n      <th>863893</th>\n      <td>C</td>\n      <td>Lv, C; Qiao, L</td>\n      <td>Evenly-Distributed Clustering for Wireless Sen...</td>\n      <td>2016 IEEE INTERNATIONAL CONFERENCE OF ONLINE A...</td>\n      <td>WSN; Routing Protocols; Energy-Efficient</td>\n      <td>Users can accurately monitor a remote field co...</td>\n      <td>[Lv, Can; Qiao, Lin] Tsinghua Univ, Dept Comp ...</td>\n      <td>lcpk0411@sina.com; qiaolin@tsinghua.edu.cn</td>\n      <td>0</td>\n      <td>2016</td>\n      <td>...</td>\n      <td>True</td>\n      <td>False</td>\n      <td>False</td>\n      <td>False</td>\n      <td>True</td>\n      <td>DTA</td>\n      <td>NaN</td>\n      <td>0</td>\n      <td>2</td>\n      <td>1</td>\n    </tr>\n    <tr>\n      <th>845529</th>\n      <td>J</td>\n      <td>Shang, BD; Liu, LJ; Tian, Z</td>\n      <td>Deep Learning-Assisted Energy-Efficient Task O...</td>\n      <td>IEEE TRANSACTIONS ON VEHICULAR TECHNOLOGY</td>\n      <td>Servers; Task analysis; Fading channels; Energ...</td>\n      <td>In this paper, we study an energy-efficient co...</td>\n      <td>[Shang, Bodong; Liu, Lingjia] Virginia Polytec...</td>\n      <td>bdshang@vt.edu; ljliu@vt.edu; ztian1@gmu.edu</td>\n      <td>0</td>\n      <td>2021</td>\n      <td>...</td>\n      <td>True</td>\n      <td>False</td>\n      <td>False</td>\n      <td>False</td>\n      <td>True</td>\n      <td>OMDT</td>\n      <td>NaN</td>\n      <td>1</td>\n      <td>3</td>\n      <td>1</td>\n    </tr>\n  </tbody>\n</table>\n<p>115 rows × 47 columns</p>\n</div>"
     },
     "execution_count": 3,
     "metadata": {},
     "output_type": "execute_result"
    }
   ],
   "source": [
    "res = pd.read_pickle(\"../data/dataframes/output/manual_annotation_df.pkl\")\n",
    "res"
   ],
   "metadata": {
    "collapsed": false
   }
  },
  {
   "cell_type": "code",
   "execution_count": 14,
   "outputs": [],
   "source": [
    "res = res[res['Relevance'] == \"5\"]\n",
    "test = res.AB.to_list()\n",
    "a = iter(test)"
   ],
   "metadata": {
    "collapsed": false
   }
  },
  {
   "cell_type": "code",
   "execution_count": 24,
   "outputs": [
    {
     "ename": "StopIteration",
     "evalue": "",
     "output_type": "error",
     "traceback": [
      "\u001B[0;31m---------------------------------------------------------------------------\u001B[0m",
      "\u001B[0;31mStopIteration\u001B[0m                             Traceback (most recent call last)",
      "Cell \u001B[0;32mIn[24], line 1\u001B[0m\n\u001B[0;32m----> 1\u001B[0m \u001B[38;5;28;43mnext\u001B[39;49m\u001B[43m(\u001B[49m\u001B[43ma\u001B[49m\u001B[43m)\u001B[49m\n",
      "\u001B[0;31mStopIteration\u001B[0m: "
     ]
    }
   ],
   "source": [
    "next(a)"
   ],
   "metadata": {
    "collapsed": false
   }
  },
  {
   "cell_type": "code",
   "execution_count": 22,
   "outputs": [],
   "source": [
    "f = \"filtered\"\n",
    "# f = \"unfiltered\""
   ],
   "metadata": {
    "collapsed": false
   }
  },
  {
   "cell_type": "code",
   "execution_count": null,
   "outputs": [],
   "source": [],
   "metadata": {
    "collapsed": false
   }
  },
  {
   "cell_type": "code",
   "execution_count": 4,
   "outputs": [],
   "source": [
    "if f == \"filtered\":\n",
    "    res2 = res[res['PY>=2019'] > 0]\n",
    "    res2 = res2[res2['total_publications'] > 1]\n",
    "    # condition_citations = res2['total_citations'] > 1\n",
    "    # res2 = res2[condition_citations]\n",
    "elif f == \"unfiltered\":\n",
    "    res2 = res"
   ],
   "metadata": {
    "collapsed": false
   }
  },
  {
   "cell_type": "code",
   "execution_count": 5,
   "outputs": [],
   "source": [
    "c_sdg = {f'SDG{i}':0 for i in range(1,18)}\n",
    "c_dt = {'IOT': 0, 'AI': 0, 'computing_infrastructure': 0, 'additive_manufacturing': 0, 'big_data': 0,'robotics': 0, 'blockchain': 0}\n",
    "c_sdg_dt = {f'SDG{i}':c_dt.copy() for i in range(1,18)}\n",
    "emails = set()\n",
    "\n",
    "idx = {name: ind for ind, name in enumerate(res2.columns, start=1)}\n",
    "c = 0\n",
    "for row in res2.itertuples(name=None, index=True):\n",
    "    lsdg = []\n",
    "    ldt = []\n",
    "    lsdg_dt = []\n",
    "    for sdg in c_sdg:\n",
    "        if row[idx[sdg]] > 1:\n",
    "            emails.add(row[0])\n",
    "            # c_sdg[sdg] += 1\n",
    "            lsdg.append(sdg)\n",
    "            # Inter\n",
    "            for dt in c_dt:\n",
    "                if row[idx[dt]] > 1:\n",
    "                    lsdg_dt.append((sdg, dt))\n",
    "    for dt in c_dt:\n",
    "        if row[idx[dt]] > 1:\n",
    "            emails.add(row[0])\n",
    "            ldt.append(dt)\n",
    "\n",
    "    size_sdg, size_dt, size_sdg_dt = len(lsdg), len(ldt), len(lsdg_dt)\n",
    "    for s in lsdg:\n",
    "        c_sdg[s] += 1 / (size_sdg+size_dt)\n",
    "    for s, d in lsdg_dt:\n",
    "        c_sdg_dt[s][d] += 1 / size_sdg_dt\n",
    "    for d in ldt:\n",
    "        c_dt[d] += 1/(size_sdg+size_dt)\n",
    "\n"
   ],
   "metadata": {
    "collapsed": false
   }
  },
  {
   "cell_type": "code",
   "execution_count": 6,
   "outputs": [
    {
     "data": {
      "text/plain": "481354"
     },
     "execution_count": 6,
     "metadata": {},
     "output_type": "execute_result"
    }
   ],
   "source": [
    "len(emails)"
   ],
   "metadata": {
    "collapsed": false
   }
  },
  {
   "cell_type": "code",
   "execution_count": 7,
   "outputs": [
    {
     "data": {
      "text/plain": "SDG1      4170.9\nSDG2      2567.9\nSDG3     17510.5\nSDG4      5990.4\nSDG5      1289.5\nSDG6     16088.9\nSDG7      5552.7\nSDG8      2644.2\nSDG9      1323.5\nSDG10      894.1\nSDG11    11292.0\nSDG12    10309.5\nSDG13    50380.2\nSDG14    20807.9\nSDG15     9859.7\nSDG16     3284.7\nSDG17     2494.8\nName: total_sdg, dtype: float64"
     },
     "execution_count": 7,
     "metadata": {},
     "output_type": "execute_result"
    }
   ],
   "source": [
    "df_sdg = pd.Series(c_sdg, name=\"total_sdg\").round(1)\n",
    "df_sdg"
   ],
   "metadata": {
    "collapsed": false
   }
  },
  {
   "cell_type": "code",
   "execution_count": 8,
   "outputs": [
    {
     "data": {
      "text/plain": "IOT                          39557.1\nAI                          176222.3\ncomputing_infrastructure     24405.6\nadditive_manufacturing       14714.3\nbig_data                     12757.0\nrobotics                     43512.1\nblockchain                    3724.2\nName: total_dt, dtype: float64"
     },
     "execution_count": 8,
     "metadata": {},
     "output_type": "execute_result"
    }
   ],
   "source": [
    "df_dt = pd.Series(c_dt, name='total_dt').round(1)\n",
    "df_dt"
   ],
   "metadata": {
    "collapsed": false
   }
  },
  {
   "cell_type": "code",
   "execution_count": 9,
   "outputs": [
    {
     "data": {
      "text/plain": "          IOT      AI  computing_infrastructure  additive_manufacturing  \\\nSDG1      8.1    97.8                       3.5                     2.6   \nSDG2     20.3   129.4                       7.2                     2.6   \nSDG3    219.2  1306.0                      71.7                    88.1   \nSDG4     70.7   414.9                      25.4                    19.1   \nSDG5      1.3    20.4                       1.9                     0.6   \nSDG6    191.2  1044.3                      67.0                    77.6   \nSDG7   1446.7  1857.7                     887.1                    78.3   \nSDG8     48.3   149.1                      41.5                    48.9   \nSDG9     62.6   158.7                      35.2                    55.0   \nSDG10    18.9    81.7                      12.1                     4.9   \nSDG11   279.0  1461.4                     119.3                    35.7   \nSDG12   182.2   677.2                      74.3                   201.4   \nSDG13   460.5  3537.4                     265.3                   178.8   \nSDG14    89.0   862.1                      48.7                    78.5   \nSDG15   110.5   648.4                      37.7                    69.0   \nSDG16    67.1   324.2                      64.9                     6.8   \nSDG17    34.2   157.6                      15.5                    21.3   \n\n       big_data  robotics  blockchain  \nSDG1       19.2      15.1        10.7  \nSDG2       12.7      39.4         3.9  \nSDG3      174.7     220.0        62.6  \nSDG4       48.4      75.7         5.9  \nSDG5        3.2       1.2         0.0  \nSDG6       31.2     123.3         3.7  \nSDG7      501.7     411.8        81.6  \nSDG8       37.4      29.7        21.2  \nSDG9       50.1      25.6         9.7  \nSDG10      14.6      18.3         2.7  \nSDG11     300.9     274.0        29.5  \nSDG12     140.1     120.1        26.9  \nSDG13     353.7     777.5        50.5  \nSDG14      55.5     329.7         2.4  \nSDG15      76.2     174.6        20.0  \nSDG16      64.2      35.7        36.7  \nSDG17      41.4      21.2        16.6  ",
      "text/html": "<div>\n<style scoped>\n    .dataframe tbody tr th:only-of-type {\n        vertical-align: middle;\n    }\n\n    .dataframe tbody tr th {\n        vertical-align: top;\n    }\n\n    .dataframe thead th {\n        text-align: right;\n    }\n</style>\n<table border=\"1\" class=\"dataframe\">\n  <thead>\n    <tr style=\"text-align: right;\">\n      <th></th>\n      <th>IOT</th>\n      <th>AI</th>\n      <th>computing_infrastructure</th>\n      <th>additive_manufacturing</th>\n      <th>big_data</th>\n      <th>robotics</th>\n      <th>blockchain</th>\n    </tr>\n  </thead>\n  <tbody>\n    <tr>\n      <th>SDG1</th>\n      <td>8.1</td>\n      <td>97.8</td>\n      <td>3.5</td>\n      <td>2.6</td>\n      <td>19.2</td>\n      <td>15.1</td>\n      <td>10.7</td>\n    </tr>\n    <tr>\n      <th>SDG2</th>\n      <td>20.3</td>\n      <td>129.4</td>\n      <td>7.2</td>\n      <td>2.6</td>\n      <td>12.7</td>\n      <td>39.4</td>\n      <td>3.9</td>\n    </tr>\n    <tr>\n      <th>SDG3</th>\n      <td>219.2</td>\n      <td>1306.0</td>\n      <td>71.7</td>\n      <td>88.1</td>\n      <td>174.7</td>\n      <td>220.0</td>\n      <td>62.6</td>\n    </tr>\n    <tr>\n      <th>SDG4</th>\n      <td>70.7</td>\n      <td>414.9</td>\n      <td>25.4</td>\n      <td>19.1</td>\n      <td>48.4</td>\n      <td>75.7</td>\n      <td>5.9</td>\n    </tr>\n    <tr>\n      <th>SDG5</th>\n      <td>1.3</td>\n      <td>20.4</td>\n      <td>1.9</td>\n      <td>0.6</td>\n      <td>3.2</td>\n      <td>1.2</td>\n      <td>0.0</td>\n    </tr>\n    <tr>\n      <th>SDG6</th>\n      <td>191.2</td>\n      <td>1044.3</td>\n      <td>67.0</td>\n      <td>77.6</td>\n      <td>31.2</td>\n      <td>123.3</td>\n      <td>3.7</td>\n    </tr>\n    <tr>\n      <th>SDG7</th>\n      <td>1446.7</td>\n      <td>1857.7</td>\n      <td>887.1</td>\n      <td>78.3</td>\n      <td>501.7</td>\n      <td>411.8</td>\n      <td>81.6</td>\n    </tr>\n    <tr>\n      <th>SDG8</th>\n      <td>48.3</td>\n      <td>149.1</td>\n      <td>41.5</td>\n      <td>48.9</td>\n      <td>37.4</td>\n      <td>29.7</td>\n      <td>21.2</td>\n    </tr>\n    <tr>\n      <th>SDG9</th>\n      <td>62.6</td>\n      <td>158.7</td>\n      <td>35.2</td>\n      <td>55.0</td>\n      <td>50.1</td>\n      <td>25.6</td>\n      <td>9.7</td>\n    </tr>\n    <tr>\n      <th>SDG10</th>\n      <td>18.9</td>\n      <td>81.7</td>\n      <td>12.1</td>\n      <td>4.9</td>\n      <td>14.6</td>\n      <td>18.3</td>\n      <td>2.7</td>\n    </tr>\n    <tr>\n      <th>SDG11</th>\n      <td>279.0</td>\n      <td>1461.4</td>\n      <td>119.3</td>\n      <td>35.7</td>\n      <td>300.9</td>\n      <td>274.0</td>\n      <td>29.5</td>\n    </tr>\n    <tr>\n      <th>SDG12</th>\n      <td>182.2</td>\n      <td>677.2</td>\n      <td>74.3</td>\n      <td>201.4</td>\n      <td>140.1</td>\n      <td>120.1</td>\n      <td>26.9</td>\n    </tr>\n    <tr>\n      <th>SDG13</th>\n      <td>460.5</td>\n      <td>3537.4</td>\n      <td>265.3</td>\n      <td>178.8</td>\n      <td>353.7</td>\n      <td>777.5</td>\n      <td>50.5</td>\n    </tr>\n    <tr>\n      <th>SDG14</th>\n      <td>89.0</td>\n      <td>862.1</td>\n      <td>48.7</td>\n      <td>78.5</td>\n      <td>55.5</td>\n      <td>329.7</td>\n      <td>2.4</td>\n    </tr>\n    <tr>\n      <th>SDG15</th>\n      <td>110.5</td>\n      <td>648.4</td>\n      <td>37.7</td>\n      <td>69.0</td>\n      <td>76.2</td>\n      <td>174.6</td>\n      <td>20.0</td>\n    </tr>\n    <tr>\n      <th>SDG16</th>\n      <td>67.1</td>\n      <td>324.2</td>\n      <td>64.9</td>\n      <td>6.8</td>\n      <td>64.2</td>\n      <td>35.7</td>\n      <td>36.7</td>\n    </tr>\n    <tr>\n      <th>SDG17</th>\n      <td>34.2</td>\n      <td>157.6</td>\n      <td>15.5</td>\n      <td>21.3</td>\n      <td>41.4</td>\n      <td>21.2</td>\n      <td>16.6</td>\n    </tr>\n  </tbody>\n</table>\n</div>"
     },
     "execution_count": 9,
     "metadata": {},
     "output_type": "execute_result"
    }
   ],
   "source": [
    "df_sdg_dt = pd.DataFrame.from_dict(c_sdg_dt, orient='index').round(1)\n",
    "df_sdg_dt"
   ],
   "metadata": {
    "collapsed": false
   }
  },
  {
   "cell_type": "code",
   "execution_count": 10,
   "outputs": [],
   "source": [
    "a = pd.concat([df_sdg_dt, df_sdg.to_frame()], axis=1)\n",
    "b = pd.concat([a, df_dt.to_frame().T])\n",
    "with pd.ExcelWriter('../data/email_count.xlsx', mode='a') as writer:\n",
    "    b.to_excel(writer, sheet_name=\"filtered_no_citations\")"
   ],
   "metadata": {
    "collapsed": false
   }
  },
  {
   "cell_type": "code",
   "execution_count": 2,
   "outputs": [
    {
     "data": {
      "text/plain": "                                                        AF  \\\n0        Gusiatin, Zygmunt M.; Kulikowska, Dorota; Klik...   \n1                  Vitko, Tadeo G.; Suffet, Irwin H. (Mel)   \n2                                 Ntasiou, M.; Andreou, E.   \n3        Wu, Lipeng; Zhang, Shirong; Chen, Mengmeng; Li...   \n4                                          Staicu, Daniela   \n...                                                    ...   \n2798083  Dieffenderfer, James; Wilkins, Michael; Hood, ...   \n2798084  Dinesh, Karthik; Xiong, Mulin; Adams, Jamie; D...   \n2798085  Ding, Caiwen; Heidari, Soroush; Wang, Yanzhi; ...   \n2798086  Ding, Caiwen; Li, Hongjia; Hu, Jingtong; Liu, ...   \n2798087                   Ding, Yi (Steven); Zilic, Zeljko   \n\n                                                        EM    PY  \\\n0        mariusz.gusiatin@uwm.edu.pl; dorotak@uwm.edu.p...  2020   \n1                                           tvitko@cox.net  2021   \n2                                      eandreou3@gmail.com  2017   \n3                                 xiaodongding2004@163.com  2021   \n4                                  Danielastaicu@gmail.com  2019   \n...                                                    ...   ...   \n2798083               mdaniel6@ncsu.edu; aybozkur@ncsu.edu  2016   \n2798084                                                NaN  2016   \n2798085  cading@syr.edu; soroush.heidari@okstate.edu; y...  2016   \n2798086  cading@syr.edu; hli42@syr.edu; jthu@okstate.ed...  2016   \n2798087     yi.ding@mail.mcgill.ca; zeljko.zilic@mcgill.ca  2016   \n\n                          UT  \\\n0        WOS:000570328900001   \n1        WOS:000635505300001   \n2        WOS:000410925400094   \n3        WOS:000744257400019   \n4        WOS:000501603000009   \n...                      ...   \n2798083  WOS:000399395700065   \n2798084  WOS:000402630000005   \n2798085  WOS:000390094700044   \n2798086  WOS:000391829200039   \n2798087  WOS:000391251700018   \n\n                                                        WC  TC  \\\n0        Environmental Sciences; Public, Environmental ...  14   \n1        Engineering, Environmental; Environmental Scie...   2   \n2        Construction & Building Technology; Engineerin...   6   \n3        Biotechnology & Applied Microbiology; Engineer...   1   \n4                                                 Business   1   \n...                                                    ...  ..   \n2798083  Engineering, Electrical & Electronic; Remote S...   9   \n2798084               Engineering, Electrical & Electronic   1   \n2798085               Engineering, Electrical & Electronic   9   \n2798086  Computer Science, Hardware & Architecture; Eng...   1   \n2798087       Engineering, Electrical & Electronic; Optics   3   \n\n                lst_SDG lst_DT  \n0               {SDG12}     {}  \n1               {SDG12}     {}  \n2               {SDG12}     {}  \n3               {SDG12}     {}  \n4        {SDG12, SDG13}     {}  \n...                 ...    ...  \n2798083              {}  {IOT}  \n2798084              {}  {IOT}  \n2798085              {}  {IOT}  \n2798086              {}  {IOT}  \n2798087              {}  {IOT}  \n\n[2798088 rows x 8 columns]",
      "text/html": "<div>\n<style scoped>\n    .dataframe tbody tr th:only-of-type {\n        vertical-align: middle;\n    }\n\n    .dataframe tbody tr th {\n        vertical-align: top;\n    }\n\n    .dataframe thead th {\n        text-align: right;\n    }\n</style>\n<table border=\"1\" class=\"dataframe\">\n  <thead>\n    <tr style=\"text-align: right;\">\n      <th></th>\n      <th>AF</th>\n      <th>EM</th>\n      <th>PY</th>\n      <th>UT</th>\n      <th>WC</th>\n      <th>TC</th>\n      <th>lst_SDG</th>\n      <th>lst_DT</th>\n    </tr>\n  </thead>\n  <tbody>\n    <tr>\n      <th>0</th>\n      <td>Gusiatin, Zygmunt M.; Kulikowska, Dorota; Klik...</td>\n      <td>mariusz.gusiatin@uwm.edu.pl; dorotak@uwm.edu.p...</td>\n      <td>2020</td>\n      <td>WOS:000570328900001</td>\n      <td>Environmental Sciences; Public, Environmental ...</td>\n      <td>14</td>\n      <td>{SDG12}</td>\n      <td>{}</td>\n    </tr>\n    <tr>\n      <th>1</th>\n      <td>Vitko, Tadeo G.; Suffet, Irwin H. (Mel)</td>\n      <td>tvitko@cox.net</td>\n      <td>2021</td>\n      <td>WOS:000635505300001</td>\n      <td>Engineering, Environmental; Environmental Scie...</td>\n      <td>2</td>\n      <td>{SDG12}</td>\n      <td>{}</td>\n    </tr>\n    <tr>\n      <th>2</th>\n      <td>Ntasiou, M.; Andreou, E.</td>\n      <td>eandreou3@gmail.com</td>\n      <td>2017</td>\n      <td>WOS:000410925400094</td>\n      <td>Construction &amp; Building Technology; Engineerin...</td>\n      <td>6</td>\n      <td>{SDG12}</td>\n      <td>{}</td>\n    </tr>\n    <tr>\n      <th>3</th>\n      <td>Wu, Lipeng; Zhang, Shirong; Chen, Mengmeng; Li...</td>\n      <td>xiaodongding2004@163.com</td>\n      <td>2021</td>\n      <td>WOS:000744257400019</td>\n      <td>Biotechnology &amp; Applied Microbiology; Engineer...</td>\n      <td>1</td>\n      <td>{SDG12}</td>\n      <td>{}</td>\n    </tr>\n    <tr>\n      <th>4</th>\n      <td>Staicu, Daniela</td>\n      <td>Danielastaicu@gmail.com</td>\n      <td>2019</td>\n      <td>WOS:000501603000009</td>\n      <td>Business</td>\n      <td>1</td>\n      <td>{SDG12, SDG13}</td>\n      <td>{}</td>\n    </tr>\n    <tr>\n      <th>...</th>\n      <td>...</td>\n      <td>...</td>\n      <td>...</td>\n      <td>...</td>\n      <td>...</td>\n      <td>...</td>\n      <td>...</td>\n      <td>...</td>\n    </tr>\n    <tr>\n      <th>2798083</th>\n      <td>Dieffenderfer, James; Wilkins, Michael; Hood, ...</td>\n      <td>mdaniel6@ncsu.edu; aybozkur@ncsu.edu</td>\n      <td>2016</td>\n      <td>WOS:000399395700065</td>\n      <td>Engineering, Electrical &amp; Electronic; Remote S...</td>\n      <td>9</td>\n      <td>{}</td>\n      <td>{IOT}</td>\n    </tr>\n    <tr>\n      <th>2798084</th>\n      <td>Dinesh, Karthik; Xiong, Mulin; Adams, Jamie; D...</td>\n      <td>NaN</td>\n      <td>2016</td>\n      <td>WOS:000402630000005</td>\n      <td>Engineering, Electrical &amp; Electronic</td>\n      <td>1</td>\n      <td>{}</td>\n      <td>{IOT}</td>\n    </tr>\n    <tr>\n      <th>2798085</th>\n      <td>Ding, Caiwen; Heidari, Soroush; Wang, Yanzhi; ...</td>\n      <td>cading@syr.edu; soroush.heidari@okstate.edu; y...</td>\n      <td>2016</td>\n      <td>WOS:000390094700044</td>\n      <td>Engineering, Electrical &amp; Electronic</td>\n      <td>9</td>\n      <td>{}</td>\n      <td>{IOT}</td>\n    </tr>\n    <tr>\n      <th>2798086</th>\n      <td>Ding, Caiwen; Li, Hongjia; Hu, Jingtong; Liu, ...</td>\n      <td>cading@syr.edu; hli42@syr.edu; jthu@okstate.ed...</td>\n      <td>2016</td>\n      <td>WOS:000391829200039</td>\n      <td>Computer Science, Hardware &amp; Architecture; Eng...</td>\n      <td>1</td>\n      <td>{}</td>\n      <td>{IOT}</td>\n    </tr>\n    <tr>\n      <th>2798087</th>\n      <td>Ding, Yi (Steven); Zilic, Zeljko</td>\n      <td>yi.ding@mail.mcgill.ca; zeljko.zilic@mcgill.ca</td>\n      <td>2016</td>\n      <td>WOS:000391251700018</td>\n      <td>Engineering, Electrical &amp; Electronic; Optics</td>\n      <td>3</td>\n      <td>{}</td>\n      <td>{IOT}</td>\n    </tr>\n  </tbody>\n</table>\n<p>2798088 rows × 8 columns</p>\n</div>"
     },
     "execution_count": 2,
     "metadata": {},
     "output_type": "execute_result"
    }
   ],
   "source": [
    "df = pd.read_pickle('../data/dataframes/all_nodups_shorten.pkl')\n",
    "df"
   ],
   "metadata": {
    "collapsed": false
   }
  },
  {
   "cell_type": "code",
   "execution_count": 105,
   "outputs": [
    {
     "data": {
      "text/plain": "                                                        AF  \\\n2788046  Nguyen, Hoang D.; Jiang, Xinyi; Poo, Danny Chi...   \n308273   Ma'mun, S.; Svendsen, Hallvard F.; Bendiyasa, ...   \n1241448  Watson, Laurel B.; Flores, Mirella J.; Grotewi...   \n1728017              Resalat, Seyed Navid; Saba, Valiallah   \n1370847  Wang, Shui-Hua; Govindaraj, Vishnu Varthanan; ...   \n...                                                    ...   \n1415134  Chinchilla, Monica; Santos-Martin, David; Carp...   \n523781   Gaubert, Julie; Rodolfo-Metalpa, Riccardo; Gre...   \n1282181  Lawley, Christopher J. M.; Tschirhart, Victori...   \n2047306  Wang, Chien-Chih; Chang, Cheng-Ding; Jiang, Be...   \n1326675  Kang, Gaobi; Wang, Jian; Yue, Xuejun; Zeng, Gu...   \n\n                                                        EM    PY  \\\n2788046  hoangnguyen@comp.nus.edu.sg; xinyi@comp.nus.ed...  2015   \n308273                              sholeh.mamun@uii.ac.id  2018   \n1241448                                  watsonlb@umkc.edu  2018   \n1728017                                    vsaba@aut.ac.ir  2015   \n1370847  shuihuawang@ieee.org; g.vishunuvarathanan@klu....  2021   \n...                                                    ...   ...   \n1415134                               micarpin@ing.uc3m.es  2021   \n523781                                julieg1907@gmail.com  2020   \n1282181                       christopher.lawley@canada.ca  2021   \n2047306                          ieccwang@mail.mcut.edu.tw  2012   \n1326675  kanggb@foxmail.com; WANGJ14@my.erau.edu; tsvan...  2021   \n\n                          UT  \\\n2788046  WOS:000364813200008   \n308273   WOS:000457694200008   \n1241448  WOS:000442400200003   \n1728017  WOS:000361628300002   \n1370847  WOS:000598377700003   \n...                      ...   \n1415134  WOS:000591382100005   \n523781   WOS:000512364900026   \n1282181  WOS:000686005900002   \n2047306  WOS:000312421800106   \n1326675  WOS:000779177500028   \n\n                                                        WC   TC  \\\n2788046  Computer Science, Information Systems; Compute...    6   \n308273                             Engineering, Mechanical    3   \n1241448     Psychology, Multidisciplinary; Women's Studies    4   \n1728017  Engineering, Electrical & Electronic; Imaging ...   16   \n1370847  Computer Science, Artificial Intelligence; Com...  142   \n...                                                    ...  ...   \n1415134              Energy & Fuels; Engineering, Chemical   21   \n523781                Biotechnology & Applied Microbiology    7   \n1282181   Geology; Mineralogy; Mining & Mineral Processing    3   \n2047306  Computer Science, Artificial Intelligence; Eng...    1   \n1326675  Computer Science, Hardware & Architecture; Eng...    0   \n\n                lst_SDG lst_DT  \n2788046              {}  {IOT}  \n308273          {SDG13}     {}  \n1241448          {SDG5}     {}  \n1728017              {}   {AI}  \n1370847              {}   {AI}  \n...                 ...    ...  \n1415134              {}   {AI}  \n523781   {SDG13, SDG14}     {}  \n1282181              {}   {AI}  \n2047306              {}   {AI}  \n1326675              {}   {AI}  \n\n[100000 rows x 8 columns]",
      "text/html": "<div>\n<style scoped>\n    .dataframe tbody tr th:only-of-type {\n        vertical-align: middle;\n    }\n\n    .dataframe tbody tr th {\n        vertical-align: top;\n    }\n\n    .dataframe thead th {\n        text-align: right;\n    }\n</style>\n<table border=\"1\" class=\"dataframe\">\n  <thead>\n    <tr style=\"text-align: right;\">\n      <th></th>\n      <th>AF</th>\n      <th>EM</th>\n      <th>PY</th>\n      <th>UT</th>\n      <th>WC</th>\n      <th>TC</th>\n      <th>lst_SDG</th>\n      <th>lst_DT</th>\n    </tr>\n  </thead>\n  <tbody>\n    <tr>\n      <th>2788046</th>\n      <td>Nguyen, Hoang D.; Jiang, Xinyi; Poo, Danny Chi...</td>\n      <td>hoangnguyen@comp.nus.edu.sg; xinyi@comp.nus.ed...</td>\n      <td>2015</td>\n      <td>WOS:000364813200008</td>\n      <td>Computer Science, Information Systems; Compute...</td>\n      <td>6</td>\n      <td>{}</td>\n      <td>{IOT}</td>\n    </tr>\n    <tr>\n      <th>308273</th>\n      <td>Ma'mun, S.; Svendsen, Hallvard F.; Bendiyasa, ...</td>\n      <td>sholeh.mamun@uii.ac.id</td>\n      <td>2018</td>\n      <td>WOS:000457694200008</td>\n      <td>Engineering, Mechanical</td>\n      <td>3</td>\n      <td>{SDG13}</td>\n      <td>{}</td>\n    </tr>\n    <tr>\n      <th>1241448</th>\n      <td>Watson, Laurel B.; Flores, Mirella J.; Grotewi...</td>\n      <td>watsonlb@umkc.edu</td>\n      <td>2018</td>\n      <td>WOS:000442400200003</td>\n      <td>Psychology, Multidisciplinary; Women's Studies</td>\n      <td>4</td>\n      <td>{SDG5}</td>\n      <td>{}</td>\n    </tr>\n    <tr>\n      <th>1728017</th>\n      <td>Resalat, Seyed Navid; Saba, Valiallah</td>\n      <td>vsaba@aut.ac.ir</td>\n      <td>2015</td>\n      <td>WOS:000361628300002</td>\n      <td>Engineering, Electrical &amp; Electronic; Imaging ...</td>\n      <td>16</td>\n      <td>{}</td>\n      <td>{AI}</td>\n    </tr>\n    <tr>\n      <th>1370847</th>\n      <td>Wang, Shui-Hua; Govindaraj, Vishnu Varthanan; ...</td>\n      <td>shuihuawang@ieee.org; g.vishunuvarathanan@klu....</td>\n      <td>2021</td>\n      <td>WOS:000598377700003</td>\n      <td>Computer Science, Artificial Intelligence; Com...</td>\n      <td>142</td>\n      <td>{}</td>\n      <td>{AI}</td>\n    </tr>\n    <tr>\n      <th>...</th>\n      <td>...</td>\n      <td>...</td>\n      <td>...</td>\n      <td>...</td>\n      <td>...</td>\n      <td>...</td>\n      <td>...</td>\n      <td>...</td>\n    </tr>\n    <tr>\n      <th>1415134</th>\n      <td>Chinchilla, Monica; Santos-Martin, David; Carp...</td>\n      <td>micarpin@ing.uc3m.es</td>\n      <td>2021</td>\n      <td>WOS:000591382100005</td>\n      <td>Energy &amp; Fuels; Engineering, Chemical</td>\n      <td>21</td>\n      <td>{}</td>\n      <td>{AI}</td>\n    </tr>\n    <tr>\n      <th>523781</th>\n      <td>Gaubert, Julie; Rodolfo-Metalpa, Riccardo; Gre...</td>\n      <td>julieg1907@gmail.com</td>\n      <td>2020</td>\n      <td>WOS:000512364900026</td>\n      <td>Biotechnology &amp; Applied Microbiology</td>\n      <td>7</td>\n      <td>{SDG13, SDG14}</td>\n      <td>{}</td>\n    </tr>\n    <tr>\n      <th>1282181</th>\n      <td>Lawley, Christopher J. M.; Tschirhart, Victori...</td>\n      <td>christopher.lawley@canada.ca</td>\n      <td>2021</td>\n      <td>WOS:000686005900002</td>\n      <td>Geology; Mineralogy; Mining &amp; Mineral Processing</td>\n      <td>3</td>\n      <td>{}</td>\n      <td>{AI}</td>\n    </tr>\n    <tr>\n      <th>2047306</th>\n      <td>Wang, Chien-Chih; Chang, Cheng-Ding; Jiang, Be...</td>\n      <td>ieccwang@mail.mcut.edu.tw</td>\n      <td>2012</td>\n      <td>WOS:000312421800106</td>\n      <td>Computer Science, Artificial Intelligence; Eng...</td>\n      <td>1</td>\n      <td>{}</td>\n      <td>{AI}</td>\n    </tr>\n    <tr>\n      <th>1326675</th>\n      <td>Kang, Gaobi; Wang, Jian; Yue, Xuejun; Zeng, Gu...</td>\n      <td>kanggb@foxmail.com; WANGJ14@my.erau.edu; tsvan...</td>\n      <td>2021</td>\n      <td>WOS:000779177500028</td>\n      <td>Computer Science, Hardware &amp; Architecture; Eng...</td>\n      <td>0</td>\n      <td>{}</td>\n      <td>{AI}</td>\n    </tr>\n  </tbody>\n</table>\n<p>100000 rows × 8 columns</p>\n</div>"
     },
     "execution_count": 105,
     "metadata": {},
     "output_type": "execute_result"
    }
   ],
   "source": [
    "df_test = df.sample(100000)\n",
    "df_test"
   ],
   "metadata": {
    "collapsed": false
   }
  },
  {
   "cell_type": "code",
   "execution_count": 126,
   "outputs": [],
   "source": [
    "def formalize(dataframe) -> pd.DataFrame:\n",
    "\n",
    "    # Lists of columns for SDG and DT\n",
    "    lst_dt = ['AI',\t'big_data',\t'IOT',\t'computing_infrastructure',\t'blockchain',\t'robotics',\t'additive_manufacturing']\n",
    "    lst_dt.sort(key=lambda v: v.lower())\n",
    "    lst_sdg = list(f'SDG{i}' for i in range(1,18))\n",
    "\n",
    "    # scikit learn module for transforming list values into Dummies columns\n",
    "    # new DF with index and lst_SDG exploded into dummy columns\n",
    "    mlb = MultiLabelBinarizer()\n",
    "    df_sdg = pd.DataFrame(mlb.fit_transform(dataframe['lst_SDG']),columns=mlb.classes_, index=dataframe.index).astype(bool)\n",
    "    # new DF with index and lst_DT exploded into dummy columns\n",
    "    mlb = MultiLabelBinarizer()\n",
    "    df_dt = pd.DataFrame(mlb.fit_transform(dataframe['lst_DT']),columns=mlb.classes_, index=dataframe.index).astype(bool)\n",
    "\n",
    "    # Merging\n",
    "    res = dataframe.merge(df_sdg, left_index=True, right_index=True).merge(df_dt, left_index=True, right_index=True)\n",
    "\n",
    "    # SDG, DT, Intersection,  Env, Eco, Soc columns\n",
    "    cond_soc = res['SDG1'] | res['SDG2'] | res['SDG3'] | res['SDG4'] | res['SDG5'] | res['SDG6'] | res['SDG7'] | res['SDG11'] | res['SDG16']\n",
    "    res.loc[:, 'Society'] = cond_soc\n",
    "\n",
    "    cond_eco = res['SDG8'] | res['SDG9'] | res['SDG10'] | res['SDG12'] | res['SDG17']\n",
    "    res.loc[:, 'Economy'] = cond_eco\n",
    "\n",
    "    cond_env = res['SDG13'] | res['SDG14'] | res['SDG15']\n",
    "    res.loc[:, 'Environment'] = cond_env\n",
    "\n",
    "    cond_sdg = cond_env | cond_eco | cond_soc\n",
    "    res.loc[:, 'SDG'] = cond_sdg\n",
    "\n",
    "    cond_dt = res['AI'] | res['big_data'] | res['computing_infrastructure'] | res['IOT'] | res['robotics'] | res['blockchain'] | res['additive_manufacturing']\n",
    "    res.loc[:, 'DT'] = cond_dt\n",
    "\n",
    "    cond_inter = res['SDG'] & res['DT']\n",
    "    res['Intersection'] = cond_inter\n",
    "\n",
    "    dataframe_columns = [col for col in list(dataframe.columns) if col not in ['lst_DT', 'lst_SDG']]\n",
    "    res_columns = dataframe_columns + ['SDG', 'DT', 'Intersection', 'Economy', 'Society', 'Environment']+ lst_sdg + lst_dt\n",
    "\n",
    "    return res.loc[:, res_columns]"
   ],
   "metadata": {
    "collapsed": false
   }
  },
  {
   "cell_type": "code",
   "execution_count": 2,
   "outputs": [],
   "source": [
    "df = pd.read_pickle(\"../data/dataframes/full_pubs.pkl\")"
   ],
   "metadata": {
    "collapsed": false
   }
  },
  {
   "cell_type": "code",
   "execution_count": 3,
   "outputs": [
    {
     "data": {
      "text/plain": "        PT                                                 AU  \\\n0        J               Gusiatin, ZM; Kulikowska, D; Klik, B   \n1        J                              Vitko, TG; Suffet, IH   \n2        C                             Ntasiou, M; Andreou, E   \n3        J      Wu, LP; Zhang, SR; Chen, MM; Liu, J; Ding, XD   \n4        C                                          Staicu, D   \n...     ..                                                ...   \n2798083  C  Dieffenderfer, J; Wilkins, M; Hood, C; Beppler...   \n2798084  C  Dinesh, K; Xiong, ML; Adams, J; Dorsey, R; Sha...   \n2798085  C    Ding, CW; Heidari, S; Wang, YZ; Liu, YP; Hu, JT   \n2798086  C        Ding, CW; Li, HJ; Hu, JT; Liu, YP; Wang, YZ   \n2798087  C                                  Ding, Y; Zilic, Z   \n\n                                                        AF  \\\n0        Gusiatin, Zygmunt M.; Kulikowska, Dorota; Klik...   \n1                  Vitko, Tadeo G.; Suffet, Irwin H. (Mel)   \n2                                 Ntasiou, M.; Andreou, E.   \n3        Wu, Lipeng; Zhang, Shirong; Chen, Mengmeng; Li...   \n4                                          Staicu, Daniela   \n...                                                    ...   \n2798083  Dieffenderfer, James; Wilkins, Michael; Hood, ...   \n2798084  Dinesh, Karthik; Xiong, Mulin; Adams, Jamie; D...   \n2798085  Ding, Caiwen; Heidari, Soroush; Wang, Yanzhi; ...   \n2798086  Ding, Caiwen; Li, Hongjia; Hu, Jingtong; Liu, ...   \n2798087                   Ding, Yi (Steven); Zilic, Zeljko   \n\n                                                        TI  \\\n0        New-Generation Washing Agents in Remediation o...   \n1        Corrective factors applied to reduced sulfur c...   \n2        The Standard of Industrial Symbiosis. Environm...   \n3        A sustainable option: Biochar addition can imp...   \n4        Contributions of social entrepreneurship to te...   \n...                                                    ...   \n2798083  Towards a Sweat-based Wireless and Wearable El...   \n2798084  SIGNAL ANALYSIS FOR DETECTING MOTOR SYMPTOMS I...   \n2798085  Multi-Source In-Door Energy Harvesting for Non...   \n2798086  Dynamic Converter Reconfiguration for Near-Thr...   \n2798087        ECG Compression for Mobile Sensor Platforms   \n\n                                                        SO     DT  \\\n0        INTERNATIONAL JOURNAL OF ENVIRONMENTAL RESEARC...  False   \n1                               WATER ENVIRONMENT RESEARCH  False   \n2        SUSTAINABLE SYNERGIES FROM BUILDINGS TO THE UR...  False   \n3                    ENVIRONMENTAL TECHNOLOGY & INNOVATION  False   \n4        PROCEEDINGS OF THE INTERNATIONAL CONFERENCE ON...  False   \n...                                                    ...    ...   \n2798083                                  2016 IEEE SENSORS   True   \n2798084  2016 IEEE WESTERN NEW YORK IMAGE AND SIGNAL PR...   True   \n2798085  2016 IEEE INTERNATIONAL SYMPOSIUM ON CIRCUITS ...   True   \n2798086  PROCEEDINGS OF THE 34TH IEEE INTERNATIONAL CON...   True   \n2798087  2016 IEEE 13TH INTERNATIONAL CONFERENCE ON WEA...   True   \n\n                                                        DE  \\\n0        soil washing; soil flushing; heavy metals; soi...   \n1        odor treatment design; odors; reduced sulfur o...   \n2         Industrial; Business; Parks; Symbiosis; Standard   \n3        Biochar; Phosphorus retention; Microbial bioma...   \n4        textile waste prevention; clothing reuse; soci...   \n...                                                    ...   \n2798083  potentiostat; electrochemical; wearable sensin...   \n2798084  Wearable sensors; Parkinson's; Huntington's; a...   \n2798085                                                NaN   \n2798086  Non-volatile processor (NVP); Near-Threshold C...   \n2798087                                                NaN   \n\n                                                        ID  \\\n0        DISSOLVED ORGANIC-MATTER; REMOVE HEAVY-METALS;...   \n1                                                      NaN   \n2                                                      NaN   \n3        AGRICULTURAL SOILS; EXTRACTION METHOD; AVAILAB...   \n4                     ENVIRONMENTAL-IMPACT; FASHION; REUSE   \n...                                                    ...   \n2798083          LACTATE CONCENTRATIONS; BIOSENSORS; BLOOD   \n2798084                                                NaN   \n2798085                                          CONVERTER   \n2798086                                                NaN   \n2798087                                                NaN   \n\n                                                        AB  \\\n0        Soil quality is seriously reduced due to chemi...   \n1        To determine accurately odorant concentrations...   \n2        The siting of an Industrial park with environm...   \n3        Application of straw and its derived biochar h...   \n4        The current system for producing, distributing...   \n...                                                    ...   \n2798083  The analysis of biomarkers within sweat is adv...   \n2798084  We report on a pilot study for signal processi...   \n2798085  Due to size, longevity, safety, and recharging...   \n2798086  Energy harvesting is becoming a preferred choi...   \n2798087  This paper presents a low-complexity compressi...   \n\n                                                        C1  ...  SDG15  SDG16  \\\n0        [Gusiatin, Zygmunt M.; Kulikowska, Dorota; Kli...  ...  False  False   \n1        [Vitko, Tadeo G.] 26362 Via Conchita, Mission ...  ...  False  False   \n2        [Ntasiou, M.; Andreou, E.] Hellen Open Univ, S...  ...  False  False   \n3        [Wu, Lipeng; Zhang, Shirong; Chen, Mengmeng; D...  ...  False  False   \n4        [Staicu, Daniela] Bucharest Univ Econ Studies,...  ...  False  False   \n...                                                    ...  ...    ...    ...   \n2798083  [Dieffenderfer, James; Wilkins, Michael; Hood,...  ...  False  False   \n2798084  [Dinesh, Karthik; Sharma, Gaurav] Univ Rochest...  ...  False  False   \n2798085  [Ding, Caiwen; Wang, Yanzhi] Syracuse Univ, De...  ...  False  False   \n2798086  [Ding, Caiwen; Li, Hongjia; Wang, Yanzhi] Syra...  ...  False  False   \n2798087  [Ding, Yi (Steven); Zilic, Zeljko] McGill Univ...  ...  False  False   \n\n         SDG17  additive_manufacturing     AI  big_data blockchain  \\\n0        False                   False  False     False      False   \n1        False                   False  False     False      False   \n2        False                   False  False     False      False   \n3        False                   False  False     False      False   \n4        False                   False  False     False      False   \n...        ...                     ...    ...       ...        ...   \n2798083  False                   False  False     False      False   \n2798084  False                   False  False     False      False   \n2798085  False                   False  False     False      False   \n2798086  False                   False  False     False      False   \n2798087  False                   False  False     False      False   \n\n        computing_infrastructure    IOT robotics  \n0                          False  False    False  \n1                          False  False    False  \n2                          False  False    False  \n3                          False  False    False  \n4                          False  False    False  \n...                          ...    ...      ...  \n2798083                    False   True    False  \n2798084                    False   True    False  \n2798085                    False   True    False  \n2798086                    False   True    False  \n2798087                    False   True    False  \n\n[2798088 rows x 52 columns]",
      "text/html": "<div>\n<style scoped>\n    .dataframe tbody tr th:only-of-type {\n        vertical-align: middle;\n    }\n\n    .dataframe tbody tr th {\n        vertical-align: top;\n    }\n\n    .dataframe thead th {\n        text-align: right;\n    }\n</style>\n<table border=\"1\" class=\"dataframe\">\n  <thead>\n    <tr style=\"text-align: right;\">\n      <th></th>\n      <th>PT</th>\n      <th>AU</th>\n      <th>AF</th>\n      <th>TI</th>\n      <th>SO</th>\n      <th>DT</th>\n      <th>DE</th>\n      <th>ID</th>\n      <th>AB</th>\n      <th>C1</th>\n      <th>...</th>\n      <th>SDG15</th>\n      <th>SDG16</th>\n      <th>SDG17</th>\n      <th>additive_manufacturing</th>\n      <th>AI</th>\n      <th>big_data</th>\n      <th>blockchain</th>\n      <th>computing_infrastructure</th>\n      <th>IOT</th>\n      <th>robotics</th>\n    </tr>\n  </thead>\n  <tbody>\n    <tr>\n      <th>0</th>\n      <td>J</td>\n      <td>Gusiatin, ZM; Kulikowska, D; Klik, B</td>\n      <td>Gusiatin, Zygmunt M.; Kulikowska, Dorota; Klik...</td>\n      <td>New-Generation Washing Agents in Remediation o...</td>\n      <td>INTERNATIONAL JOURNAL OF ENVIRONMENTAL RESEARC...</td>\n      <td>False</td>\n      <td>soil washing; soil flushing; heavy metals; soi...</td>\n      <td>DISSOLVED ORGANIC-MATTER; REMOVE HEAVY-METALS;...</td>\n      <td>Soil quality is seriously reduced due to chemi...</td>\n      <td>[Gusiatin, Zygmunt M.; Kulikowska, Dorota; Kli...</td>\n      <td>...</td>\n      <td>False</td>\n      <td>False</td>\n      <td>False</td>\n      <td>False</td>\n      <td>False</td>\n      <td>False</td>\n      <td>False</td>\n      <td>False</td>\n      <td>False</td>\n      <td>False</td>\n    </tr>\n    <tr>\n      <th>1</th>\n      <td>J</td>\n      <td>Vitko, TG; Suffet, IH</td>\n      <td>Vitko, Tadeo G.; Suffet, Irwin H. (Mel)</td>\n      <td>Corrective factors applied to reduced sulfur c...</td>\n      <td>WATER ENVIRONMENT RESEARCH</td>\n      <td>False</td>\n      <td>odor treatment design; odors; reduced sulfur o...</td>\n      <td>NaN</td>\n      <td>To determine accurately odorant concentrations...</td>\n      <td>[Vitko, Tadeo G.] 26362 Via Conchita, Mission ...</td>\n      <td>...</td>\n      <td>False</td>\n      <td>False</td>\n      <td>False</td>\n      <td>False</td>\n      <td>False</td>\n      <td>False</td>\n      <td>False</td>\n      <td>False</td>\n      <td>False</td>\n      <td>False</td>\n    </tr>\n    <tr>\n      <th>2</th>\n      <td>C</td>\n      <td>Ntasiou, M; Andreou, E</td>\n      <td>Ntasiou, M.; Andreou, E.</td>\n      <td>The Standard of Industrial Symbiosis. Environm...</td>\n      <td>SUSTAINABLE SYNERGIES FROM BUILDINGS TO THE UR...</td>\n      <td>False</td>\n      <td>Industrial; Business; Parks; Symbiosis; Standard</td>\n      <td>NaN</td>\n      <td>The siting of an Industrial park with environm...</td>\n      <td>[Ntasiou, M.; Andreou, E.] Hellen Open Univ, S...</td>\n      <td>...</td>\n      <td>False</td>\n      <td>False</td>\n      <td>False</td>\n      <td>False</td>\n      <td>False</td>\n      <td>False</td>\n      <td>False</td>\n      <td>False</td>\n      <td>False</td>\n      <td>False</td>\n    </tr>\n    <tr>\n      <th>3</th>\n      <td>J</td>\n      <td>Wu, LP; Zhang, SR; Chen, MM; Liu, J; Ding, XD</td>\n      <td>Wu, Lipeng; Zhang, Shirong; Chen, Mengmeng; Li...</td>\n      <td>A sustainable option: Biochar addition can imp...</td>\n      <td>ENVIRONMENTAL TECHNOLOGY &amp; INNOVATION</td>\n      <td>False</td>\n      <td>Biochar; Phosphorus retention; Microbial bioma...</td>\n      <td>AGRICULTURAL SOILS; EXTRACTION METHOD; AVAILAB...</td>\n      <td>Application of straw and its derived biochar h...</td>\n      <td>[Wu, Lipeng; Zhang, Shirong; Chen, Mengmeng; D...</td>\n      <td>...</td>\n      <td>False</td>\n      <td>False</td>\n      <td>False</td>\n      <td>False</td>\n      <td>False</td>\n      <td>False</td>\n      <td>False</td>\n      <td>False</td>\n      <td>False</td>\n      <td>False</td>\n    </tr>\n    <tr>\n      <th>4</th>\n      <td>C</td>\n      <td>Staicu, D</td>\n      <td>Staicu, Daniela</td>\n      <td>Contributions of social entrepreneurship to te...</td>\n      <td>PROCEEDINGS OF THE INTERNATIONAL CONFERENCE ON...</td>\n      <td>False</td>\n      <td>textile waste prevention; clothing reuse; soci...</td>\n      <td>ENVIRONMENTAL-IMPACT; FASHION; REUSE</td>\n      <td>The current system for producing, distributing...</td>\n      <td>[Staicu, Daniela] Bucharest Univ Econ Studies,...</td>\n      <td>...</td>\n      <td>False</td>\n      <td>False</td>\n      <td>False</td>\n      <td>False</td>\n      <td>False</td>\n      <td>False</td>\n      <td>False</td>\n      <td>False</td>\n      <td>False</td>\n      <td>False</td>\n    </tr>\n    <tr>\n      <th>...</th>\n      <td>...</td>\n      <td>...</td>\n      <td>...</td>\n      <td>...</td>\n      <td>...</td>\n      <td>...</td>\n      <td>...</td>\n      <td>...</td>\n      <td>...</td>\n      <td>...</td>\n      <td>...</td>\n      <td>...</td>\n      <td>...</td>\n      <td>...</td>\n      <td>...</td>\n      <td>...</td>\n      <td>...</td>\n      <td>...</td>\n      <td>...</td>\n      <td>...</td>\n      <td>...</td>\n    </tr>\n    <tr>\n      <th>2798083</th>\n      <td>C</td>\n      <td>Dieffenderfer, J; Wilkins, M; Hood, C; Beppler...</td>\n      <td>Dieffenderfer, James; Wilkins, Michael; Hood, ...</td>\n      <td>Towards a Sweat-based Wireless and Wearable El...</td>\n      <td>2016 IEEE SENSORS</td>\n      <td>True</td>\n      <td>potentiostat; electrochemical; wearable sensin...</td>\n      <td>LACTATE CONCENTRATIONS; BIOSENSORS; BLOOD</td>\n      <td>The analysis of biomarkers within sweat is adv...</td>\n      <td>[Dieffenderfer, James; Wilkins, Michael; Hood,...</td>\n      <td>...</td>\n      <td>False</td>\n      <td>False</td>\n      <td>False</td>\n      <td>False</td>\n      <td>False</td>\n      <td>False</td>\n      <td>False</td>\n      <td>False</td>\n      <td>True</td>\n      <td>False</td>\n    </tr>\n    <tr>\n      <th>2798084</th>\n      <td>C</td>\n      <td>Dinesh, K; Xiong, ML; Adams, J; Dorsey, R; Sha...</td>\n      <td>Dinesh, Karthik; Xiong, Mulin; Adams, Jamie; D...</td>\n      <td>SIGNAL ANALYSIS FOR DETECTING MOTOR SYMPTOMS I...</td>\n      <td>2016 IEEE WESTERN NEW YORK IMAGE AND SIGNAL PR...</td>\n      <td>True</td>\n      <td>Wearable sensors; Parkinson's; Huntington's; a...</td>\n      <td>NaN</td>\n      <td>We report on a pilot study for signal processi...</td>\n      <td>[Dinesh, Karthik; Sharma, Gaurav] Univ Rochest...</td>\n      <td>...</td>\n      <td>False</td>\n      <td>False</td>\n      <td>False</td>\n      <td>False</td>\n      <td>False</td>\n      <td>False</td>\n      <td>False</td>\n      <td>False</td>\n      <td>True</td>\n      <td>False</td>\n    </tr>\n    <tr>\n      <th>2798085</th>\n      <td>C</td>\n      <td>Ding, CW; Heidari, S; Wang, YZ; Liu, YP; Hu, JT</td>\n      <td>Ding, Caiwen; Heidari, Soroush; Wang, Yanzhi; ...</td>\n      <td>Multi-Source In-Door Energy Harvesting for Non...</td>\n      <td>2016 IEEE INTERNATIONAL SYMPOSIUM ON CIRCUITS ...</td>\n      <td>True</td>\n      <td>NaN</td>\n      <td>CONVERTER</td>\n      <td>Due to size, longevity, safety, and recharging...</td>\n      <td>[Ding, Caiwen; Wang, Yanzhi] Syracuse Univ, De...</td>\n      <td>...</td>\n      <td>False</td>\n      <td>False</td>\n      <td>False</td>\n      <td>False</td>\n      <td>False</td>\n      <td>False</td>\n      <td>False</td>\n      <td>False</td>\n      <td>True</td>\n      <td>False</td>\n    </tr>\n    <tr>\n      <th>2798086</th>\n      <td>C</td>\n      <td>Ding, CW; Li, HJ; Hu, JT; Liu, YP; Wang, YZ</td>\n      <td>Ding, Caiwen; Li, Hongjia; Hu, Jingtong; Liu, ...</td>\n      <td>Dynamic Converter Reconfiguration for Near-Thr...</td>\n      <td>PROCEEDINGS OF THE 34TH IEEE INTERNATIONAL CON...</td>\n      <td>True</td>\n      <td>Non-volatile processor (NVP); Near-Threshold C...</td>\n      <td>NaN</td>\n      <td>Energy harvesting is becoming a preferred choi...</td>\n      <td>[Ding, Caiwen; Li, Hongjia; Wang, Yanzhi] Syra...</td>\n      <td>...</td>\n      <td>False</td>\n      <td>False</td>\n      <td>False</td>\n      <td>False</td>\n      <td>False</td>\n      <td>False</td>\n      <td>False</td>\n      <td>False</td>\n      <td>True</td>\n      <td>False</td>\n    </tr>\n    <tr>\n      <th>2798087</th>\n      <td>C</td>\n      <td>Ding, Y; Zilic, Z</td>\n      <td>Ding, Yi (Steven); Zilic, Zeljko</td>\n      <td>ECG Compression for Mobile Sensor Platforms</td>\n      <td>2016 IEEE 13TH INTERNATIONAL CONFERENCE ON WEA...</td>\n      <td>True</td>\n      <td>NaN</td>\n      <td>NaN</td>\n      <td>This paper presents a low-complexity compressi...</td>\n      <td>[Ding, Yi (Steven); Zilic, Zeljko] McGill Univ...</td>\n      <td>...</td>\n      <td>False</td>\n      <td>False</td>\n      <td>False</td>\n      <td>False</td>\n      <td>False</td>\n      <td>False</td>\n      <td>False</td>\n      <td>False</td>\n      <td>True</td>\n      <td>False</td>\n    </tr>\n  </tbody>\n</table>\n<p>2798088 rows × 52 columns</p>\n</div>"
     },
     "execution_count": 3,
     "metadata": {},
     "output_type": "execute_result"
    }
   ],
   "source": [
    "df"
   ],
   "metadata": {
    "collapsed": false
   }
  },
  {
   "cell_type": "code",
   "execution_count": 11,
   "outputs": [],
   "source": [
    "a = df[(df['SDG13']) & df['blockchain']]"
   ],
   "metadata": {
    "collapsed": false
   }
  },
  {
   "cell_type": "code",
   "execution_count": 12,
   "outputs": [],
   "source": [
    "b = iter(a['AB'])\n"
   ],
   "metadata": {
    "collapsed": false
   }
  },
  {
   "cell_type": "code",
   "execution_count": 26,
   "outputs": [
    {
     "data": {
      "text/plain": "\"Carbon emission is a prominent issue, and smart urban solutions have the technological capabilities to implement change. The technologies for creating smart energy systems already exist, some of which are currently under wide deployment globally. By investing in energy efficiency solutions (such as the smart meter), research shows that the end-user is able to not only save money, but also reduce their household's carbon footprint. Therefore, in this paper, the focus is on the end-user, and adopting a quantitative analysis of the perception of 1365 homes concerning the smart gas meter installation. The focus is on linking end-user attributes (age, education, social class and employment status) with their opinion on reducing energy, saving money, changing home behaviour and lowering carbon emissions. The results show that there is a statistical significance between certain attributes of end-users and their consideration of smart meters for making beneficial changes. In particular, the investigation demonstrates that the employment status, age and social class of the homeowner have statistical significance on the end-users' variance; particularly when interested in reducing their bill and changing their behaviour around the home.\""
     },
     "execution_count": 26,
     "metadata": {},
     "output_type": "execute_result"
    }
   ],
   "source": [
    "c = next(b)\n",
    "c"
   ],
   "metadata": {
    "collapsed": false
   }
  },
  {
   "cell_type": "code",
   "execution_count": 28,
   "outputs": [],
   "source": [
    "elem = a[a['AB'] == c]"
   ],
   "metadata": {
    "collapsed": false
   }
  },
  {
   "cell_type": "code",
   "execution_count": 29,
   "outputs": [
    {
     "data": {
      "text/plain": "13360    smart cities; smart meter; gas; climate change...\nName: DE, dtype: object"
     },
     "execution_count": 29,
     "metadata": {},
     "output_type": "execute_result"
    }
   ],
   "source": [
    "elem.DE"
   ],
   "metadata": {
    "collapsed": false
   }
  },
  {
   "cell_type": "code",
   "execution_count": 13,
   "outputs": [
    {
     "name": "stdout",
     "output_type": "stream",
     "text": [
      "1 1\n",
      "2 2\n",
      "3 3\n",
      "4 4\n",
      "5 5\n",
      "6 6\n",
      "7 7\n",
      "8 8\n",
      "9 9\n",
      "10 10\n",
      "11 11\n",
      "12 12\n",
      "13 13\n",
      "14 14\n",
      "15 15\n",
      "16 16\n",
      "17 17\n",
      "18 18\n",
      "19 19\n",
      "20 20\n",
      "21 21\n",
      "22 22\n",
      "23 23\n",
      "24 24\n",
      "25 25\n",
      "26 26\n",
      "27 27\n",
      "28 28\n",
      "29 29\n",
      "30 30\n",
      "31 31\n",
      "32 32\n",
      "33 33\n",
      "34 34\n",
      "35 35\n",
      "36 36\n",
      "37 37\n",
      "38 38\n",
      "39 39\n",
      "40 40\n",
      "41 41\n",
      "42 42\n",
      "43 43\n",
      "44 44\n",
      "45 45\n",
      "46 46\n",
      "47 47\n",
      "48 48\n",
      "49 49\n",
      "50 50\n",
      "51 51\n",
      "52 52\n",
      "53 53\n",
      "54 54\n",
      "55 55\n",
      "56 56\n",
      "57 57\n",
      "58 58\n",
      "59 59\n",
      "60 60\n",
      "61 61\n",
      "62 62\n",
      "63 63\n",
      "64 64\n",
      "65 65\n",
      "66 66\n",
      "67 67\n",
      "68 68\n",
      "69 69\n",
      "70 70\n",
      "71 71\n",
      "72 72\n",
      "73 73\n",
      "74 74\n",
      "75 75\n",
      "76 76\n",
      "77 77\n",
      "78 78\n",
      "79 79\n",
      "80 80\n",
      "81 81\n",
      "82 82\n",
      "83 83\n",
      "84 84\n",
      "85 85\n",
      "86 86\n",
      "87 87\n",
      "88 88\n",
      "89 89\n",
      "90 90\n",
      "91 91\n",
      "92 92\n",
      "93 93\n",
      "94 94\n",
      "95 95\n",
      "96 96\n",
      "97 97\n",
      "98 98\n",
      "99 99\n",
      "100 100\n",
      "101 101\n",
      "102 102\n",
      "103 103\n",
      "104 104\n",
      "105 105\n",
      "106 106\n",
      "107 107\n",
      "108 108\n",
      "109 109\n",
      "110 110\n",
      "111 111\n",
      "112 112\n",
      "113 113\n",
      "114 114\n",
      "115 115\n",
      "116 116\n",
      "117 117\n",
      "118 118\n",
      "119 119\n",
      "120 120\n",
      "121 121\n",
      "122 122\n",
      "123 123\n",
      "124 124\n",
      "125 125\n",
      "126 126\n",
      "127 127\n",
      "128 128\n",
      "129 129\n",
      "130 130\n",
      "131 131\n",
      "132 132\n",
      "133 133\n",
      "134 134\n",
      "135 135\n",
      "136 136\n",
      "137 137\n",
      "138 138\n",
      "139 139\n",
      "140 140\n",
      "141 141\n",
      "142 142\n",
      "143 143\n",
      "144 144\n",
      "145 145\n",
      "146 146\n",
      "147 147\n",
      "148 148\n",
      "149 149\n",
      "150 150\n",
      "151 151\n",
      "152 152\n",
      "153 153\n",
      "154 154\n",
      "155 155\n",
      "156 156\n",
      "157 157\n",
      "158 158\n",
      "159 159\n",
      "160 160\n",
      "161 161\n",
      "162 162\n",
      "163 163\n",
      "164 164\n",
      "165 165\n",
      "166 166\n",
      "167 167\n",
      "168 168\n",
      "169 169\n",
      "170 170\n",
      "171 171\n",
      "172 172\n",
      "173 173\n",
      "174 174\n",
      "175 175\n",
      "176 176\n",
      "177 177\n",
      "178 178\n",
      "179 179\n",
      "180 180\n",
      "181 181\n",
      "182 182\n",
      "183 183\n",
      "184 184\n",
      "185 185\n",
      "186 186\n",
      "187 187\n",
      "188 188\n",
      "189 189\n",
      "190 190\n",
      "191 191\n",
      "192 192\n",
      "193 193\n",
      "194 194\n",
      "195 195\n",
      "196 196\n",
      "197 197\n",
      "198 198\n",
      "199 199\n",
      "200 200\n",
      "201 201\n",
      "202 202\n",
      "203 203\n",
      "204 204\n",
      "205 205\n",
      "206 206\n",
      "207 207\n",
      "208 208\n",
      "209 209\n",
      "210 210\n",
      "211 211\n",
      "212 212\n",
      "213 213\n",
      "214 214\n",
      "215 215\n",
      "216 216\n",
      "217 217\n",
      "218 218\n",
      "219 219\n",
      "220 220\n",
      "221 221\n",
      "222 222\n",
      "223 223\n",
      "224 224\n",
      "225 225\n",
      "226 226\n",
      "227 227\n",
      "228 228\n",
      "229 229\n",
      "230 230\n",
      "231 231\n",
      "232 232\n",
      "233 233\n",
      "234 234\n",
      "235 235\n",
      "236 236\n",
      "237 237\n",
      "238 238\n",
      "239 239\n",
      "240 240\n",
      "241 241\n",
      "242 242\n",
      "243 243\n",
      "244 244\n",
      "245 245\n",
      "246 246\n",
      "247 247\n",
      "248 248\n",
      "249 249\n",
      "250 250\n",
      "251 251\n",
      "252 252\n",
      "253 253\n",
      "254 254\n",
      "255 255\n",
      "256 256\n",
      "257 257\n",
      "258 258\n",
      "259 259\n",
      "260 260\n",
      "261 261\n",
      "262 262\n",
      "263 263\n",
      "264 264\n",
      "265 265\n",
      "266 266\n",
      "267 267\n",
      "268 268\n",
      "269 269\n",
      "270 270\n",
      "271 271\n",
      "272 272\n",
      "273 273\n",
      "274 274\n",
      "275 275\n",
      "276 276\n",
      "277 277\n",
      "278 278\n",
      "279 279\n",
      "280 280\n",
      "281 281\n",
      "282 282\n",
      "283 283\n",
      "284 284\n",
      "285 285\n",
      "286 286\n",
      "287 287\n",
      "288 288\n",
      "289 289\n",
      "290 290\n",
      "291 291\n",
      "292 292\n",
      "293 293\n",
      "294 294\n",
      "295 295\n",
      "296 296\n",
      "297 297\n",
      "298 298\n",
      "299 299\n",
      "300 300\n",
      "301 301\n",
      "302 302\n",
      "303 303\n",
      "304 304\n",
      "305 305\n",
      "306 306\n",
      "307 307\n",
      "308 308\n",
      "309 309\n",
      "310 310\n",
      "311 311\n",
      "312 312\n",
      "313 313\n",
      "314 314\n",
      "315 315\n",
      "316 316\n",
      "317 317\n",
      "318 318\n",
      "319 319\n",
      "320 320\n",
      "321 321\n",
      "322 322\n",
      "323 323\n",
      "324 324\n",
      "325 325\n",
      "326 326\n",
      "327 327\n",
      "328 328\n",
      "329 329\n",
      "330 330\n",
      "331 331\n",
      "332 332\n",
      "333 333\n",
      "334 334\n",
      "335 335\n",
      "336 336\n",
      "337 337\n",
      "338 338\n",
      "339 339\n",
      "340 340\n",
      "341 341\n",
      "342 342\n",
      "343 343\n",
      "344 344\n",
      "345 345\n",
      "346 346\n",
      "347 347\n",
      "348 348\n",
      "349 349\n",
      "350 350\n",
      "351 351\n",
      "352 352\n",
      "353 353\n",
      "354 354\n",
      "355 355\n",
      "356 356\n",
      "357 357\n",
      "358 358\n",
      "359 359\n",
      "360 360\n",
      "361 361\n",
      "362 362\n",
      "363 363\n",
      "364 364\n",
      "365 365\n",
      "366 366\n",
      "367 367\n",
      "368 368\n",
      "369 369\n",
      "370 370\n",
      "371 371\n",
      "372 372\n",
      "373 373\n",
      "374 374\n",
      "375 375\n",
      "376 376\n",
      "377 377\n",
      "378 378\n",
      "379 379\n",
      "380 380\n",
      "381 381\n",
      "382 382\n",
      "383 383\n",
      "384 384\n",
      "385 385\n",
      "386 386\n",
      "387 387\n",
      "388 388\n",
      "389 389\n",
      "390 390\n",
      "391 391\n",
      "392 392\n"
     ]
    }
   ],
   "source": [
    "folder = \"/media/kevin-desktop/My Passport/SDG/data/raw_data/raw_dt/AI/2022/\"\n",
    "import os\n",
    "lst = [int(elem.split(\".\")[0])  for elem in os.listdir(folder) if \"-\" not in elem]\n",
    "lst.sort()\n",
    "for ind, elem in enumerate(lst, start=1):\n",
    "\n",
    "    print(ind, elem)"
   ],
   "metadata": {
    "collapsed": false
   }
  },
  {
   "cell_type": "code",
   "execution_count": 1,
   "outputs": [],
   "source": [
    "import pandas as pd\n"
   ],
   "metadata": {
    "collapsed": false
   }
  },
  {
   "cell_type": "code",
   "execution_count": 14,
   "outputs": [],
   "source": [
    "df2022 = pd.read_parquet(\"../data/AI_2022.parquet\")\n"
   ],
   "metadata": {
    "collapsed": false
   }
  },
  {
   "cell_type": "code",
   "execution_count": 24,
   "outputs": [],
   "source": [
    "path = \"../data/dataframes/new_dt.pkl\"\n",
    "df = pd.read_pickle(path)"
   ],
   "metadata": {
    "collapsed": false
   }
  },
  {
   "cell_type": "code",
   "execution_count": 25,
   "outputs": [
    {
     "data": {
      "text/plain": "        PT                                                 AU  \\\n0        J                                       Gillispie, C   \n1        J   Paes, B; Li, A; Kim, D; Lanctot, KL; Mitchell, I   \n2        J                              Chyzmar, I; Hoblyk, V   \n3        J                    Klein, I; Oppelt, N; Kuenzer, C   \n4        J                                 Gong, XX; Zhang, B   \n...     ..                                                ...   \n2085373  C  Dinesh, K; Xiong, ML; Adams, J; Dorsey, R; Sha...   \n2085374  C    Ding, CW; Heidari, S; Wang, YZ; Liu, YP; Hu, JT   \n2085375  C        Ding, CW; Li, HJ; Hu, JT; Liu, YP; Wang, YZ   \n2085376  C                 Ding, Y; Fan, BW; Kong, XM; Ma, QQ   \n2085377  C                                  Ding, Y; Zilic, Z   \n\n                                                        AF  \\\n0                                         Gillispie, Clara   \n1        Paes, Bosco; Li, Abby; Kim, Doyoung; Lanctot, ...   \n2                         Chyzmar, Ivan; Hoblyk, Volodymyr   \n3          Klein, Igor; Oppelt, Natascha; Kuenzer, Claudia   \n4                                 Gong, Xinxin; Zhang, Bin   \n...                                                    ...   \n2085373  Dinesh, Karthik; Xiong, Mulin; Adams, Jamie; D...   \n2085374  Ding, Caiwen; Heidari, Soroush; Wang, Yanzhi; ...   \n2085375  Ding, Caiwen; Li, Hongjia; Hu, Jingtong; Liu, ...   \n2085376    Ding Yi; Fan Binwen; Kong Xiaoming; Ma Qianqian   \n2085377                   Ding, Yi (Steven); Zilic, Zeljko   \n\n                                                        TI  \\\n0        How Can South Korea Teach, Lead, and Better En...   \n1        A Comparison of Respiratory Syncytial Viral Pr...   \n2        E-sports organizations with franchised network...   \n3        Application of Remote Sensing Data for Locust ...   \n4        Resistance of SNOW-V against Fast Correlation ...   \n...                                                    ...   \n2085373  SIGNAL ANALYSIS FOR DETECTING MOTOR SYMPTOMS I...   \n2085374  Multi-Source In-Door Energy Harvesting for Non...   \n2085375  Dynamic Converter Reconfiguration for Near-Thr...   \n2085376  Design and Implementation of Mobile Health Mon...   \n2085377        ECG Compression for Mobile Sensor Platforms   \n\n                                                        SO                 DT  \\\n0                                              ASIA POLICY            Article   \n1                         AMERICAN JOURNAL OF PERINATOLOGY            Article   \n2                                      ECONOMIC ANNALS-XXI            Article   \n3                                                  INSECTS             Review   \n4                IACR TRANSACTIONS ON SYMMETRIC CRYPTOLOGY            Article   \n...                                                    ...                ...   \n2085373  2016 IEEE WESTERN NEW YORK IMAGE AND SIGNAL PR...  Proceedings Paper   \n2085374  2016 IEEE INTERNATIONAL SYMPOSIUM ON CIRCUITS ...  Proceedings Paper   \n2085375  PROCEEDINGS OF THE 34TH IEEE INTERNATIONAL CON...  Proceedings Paper   \n2085376  PROCEEDINGS OF 2016 IEEE ADVANCED INFORMATION ...  Proceedings Paper   \n2085377  2016 IEEE 13TH INTERNATIONAL CONFERENCE ON WEA...  Proceedings Paper   \n\n                                                        DE  \\\n0        SOUTH KOREA; DATA GOVERNANCE; DATA PRIVACY; CO...   \n1        multiple births; singletons; respiratory syncy...   \n2        E-sport; Franchise; Blizzard Arena; Overwatch ...   \n3        locust monitoring; locust outbreak; remote sen...   \n4        Stream ciphers; SNOW-V; FSM; Bitwise Fast corr...   \n...                                                    ...   \n2085373  Wearable sensors; Parkinson's; Huntington's; a...   \n2085374                                                NaN   \n2085375  Non-volatile processor (NVP); Near-Threshold C...   \n2085376  Mobile health; STM32; MQTT protocol; message p...   \n2085377                                                NaN   \n\n                                                        ID  \\\n0                                                      NaN   \n1        VIRUS MONOCLONAL-ANTIBODY; PRETERM INFANTS; IN...   \n2                                                      NaN   \n3        ASIAN MIGRATORY LOCUST; HABITAT SUITABILITY IN...   \n4                 STREAM CIPHERS; CRYPTANALYSIS; SOSEMANUK   \n...                                                    ...   \n2085373                                                NaN   \n2085374                                          CONVERTER   \n2085375                                                NaN   \n2085376                                                NaN   \n2085377                                                NaN   \n\n                                                        AB  \\\n0        This essay explores how South Korea might cont...   \n1        Objective The aim of this study is to compare ...   \n2        The paper focuses on the priority given to the...   \n3        Simple Summary Locust outbreaks around the wor...   \n4        SNOW-V is a new member in the SNOW family of s...   \n...                                                    ...   \n2085373  We report on a pilot study for signal processi...   \n2085374  Due to size, longevity, safety, and recharging...   \n2085375  Energy harvesting is becoming a preferred choi...   \n2085376  Mobile and smart health care exists some quest...   \n2085377  This paper presents a low-complexity compressi...   \n\n                                                        C1  ...    Z9    PY  \\\n0        [Gillispie, Clara] Natl Bur Asian Res, Washing...  ...   0.0  2021   \n1        [Paes, Bosco] McMaster Univ, Dept Pediat, HSC-...  ...   1.0  2021   \n2        [Chyzmar, Ivan] Mukachevo State Univ, Dept Eco...  ...   0.0  2021   \n3        [Klein, Igor; Kuenzer, Claudia] German Aerosp ...  ...   6.0  2021   \n4        [Gong, Xinxin; Zhang, Bin] State Key Lab Crypt...  ...   7.0  2021   \n...                                                    ...  ...   ...   ...   \n2085373  [Dinesh, Karthik; Sharma, Gaurav] Univ Rochest...  ...   1.0  2016   \n2085374  [Ding, Caiwen; Wang, Yanzhi] Syracuse Univ, De...  ...   9.0  2016   \n2085375  [Ding, Caiwen; Li, Hongjia; Wang, Yanzhi] Syra...  ...   1.0  2016   \n2085376  [Ding Yi; Fan Binwen; Kong Xiaoming; Ma Qianqi...  ...  11.0  2016   \n2085377  [Ding, Yi (Steven); Zilic, Zeljko] McGill Univ...  ...   3.0  2016   \n\n                                                        WC  \\\n0                    Area Studies; International Relations   \n1                      Obstetrics & Gynecology; Pediatrics   \n2                                                Economics   \n3                                               Entomology   \n4        Computer Science, Software Engineering; Comput...   \n...                                                    ...   \n2085373               Engineering, Electrical & Electronic   \n2085374               Engineering, Electrical & Electronic   \n2085375  Computer Science, Hardware & Architecture; Eng...   \n2085376  Automation & Control Systems; Engineering, Ele...   \n2085377       Engineering, Electrical & Electronic; Optics   \n\n                                     DI  \\\n0                                   NaN   \n1                10.1055/s-0040-1708804   \n2                   10.21003/ea.V187-15   \n3               10.3390/insects12030233   \n4        10.46586/tosc.v2021.i1.378-410   \n...                                 ...   \n2085373                             NaN   \n2085374                             NaN   \n2085375                             NaN   \n2085376                             NaN   \n2085377                             NaN   \n\n                                                        SC  \\\n0                    Area Studies; International Relations   \n1                      Obstetrics & Gynecology; Pediatrics   \n2                                     Business & Economics   \n3                                               Entomology   \n4                                         Computer Science   \n...                                                    ...   \n2085373                                        Engineering   \n2085374                                        Engineering   \n2085375                      Computer Science; Engineering   \n2085376  Automation & Control Systems; Engineering; Tel...   \n2085377                                Engineering; Optics   \n\n                          UT  \\\n0        WOS:000800262900014   \n1        WOS:000690384400018   \n2        WOS:000716523300014   \n3        WOS:000633803300001   \n4        WOS:000631653800012   \n...                      ...   \n2085373  WOS:000402630000005   \n2085374  WOS:000390094700044   \n2085375  WOS:000391829200039   \n2085376  WOS:000405512400343   \n2085377  WOS:000391251700018   \n\n                                                        CN lst_SDG  \\\n0                                            United States           \n1                   Canada, Canada, Canada, Canada, Canada           \n2                                         Ukraine, Ukraine           \n3                       Germany, Germany, Germany, Germany           \n4                                      China, China, China           \n...                                                    ...     ...   \n2085373  United States, United States, United States, U...           \n2085374  United States, United States, United States, U...           \n2085375  United States, United States, United States, U...           \n2085376                         China, China, China, China           \n2085377                                     Canada, Canada           \n\n                           lst_DT lst_Target  \n0        computing_infrastructure             \n1        computing_infrastructure             \n2        computing_infrastructure             \n3        computing_infrastructure             \n4        computing_infrastructure             \n...                           ...        ...  \n2085373                       IOT             \n2085374                       IOT             \n2085375                       IOT             \n2085376                       IOT             \n2085377                       IOT             \n\n[2085378 rows x 24 columns]",
      "text/html": "<div>\n<style scoped>\n    .dataframe tbody tr th:only-of-type {\n        vertical-align: middle;\n    }\n\n    .dataframe tbody tr th {\n        vertical-align: top;\n    }\n\n    .dataframe thead th {\n        text-align: right;\n    }\n</style>\n<table border=\"1\" class=\"dataframe\">\n  <thead>\n    <tr style=\"text-align: right;\">\n      <th></th>\n      <th>PT</th>\n      <th>AU</th>\n      <th>AF</th>\n      <th>TI</th>\n      <th>SO</th>\n      <th>DT</th>\n      <th>DE</th>\n      <th>ID</th>\n      <th>AB</th>\n      <th>C1</th>\n      <th>...</th>\n      <th>Z9</th>\n      <th>PY</th>\n      <th>WC</th>\n      <th>DI</th>\n      <th>SC</th>\n      <th>UT</th>\n      <th>CN</th>\n      <th>lst_SDG</th>\n      <th>lst_DT</th>\n      <th>lst_Target</th>\n    </tr>\n  </thead>\n  <tbody>\n    <tr>\n      <th>0</th>\n      <td>J</td>\n      <td>Gillispie, C</td>\n      <td>Gillispie, Clara</td>\n      <td>How Can South Korea Teach, Lead, and Better En...</td>\n      <td>ASIA POLICY</td>\n      <td>Article</td>\n      <td>SOUTH KOREA; DATA GOVERNANCE; DATA PRIVACY; CO...</td>\n      <td>NaN</td>\n      <td>This essay explores how South Korea might cont...</td>\n      <td>[Gillispie, Clara] Natl Bur Asian Res, Washing...</td>\n      <td>...</td>\n      <td>0.0</td>\n      <td>2021</td>\n      <td>Area Studies; International Relations</td>\n      <td>NaN</td>\n      <td>Area Studies; International Relations</td>\n      <td>WOS:000800262900014</td>\n      <td>United States</td>\n      <td></td>\n      <td>computing_infrastructure</td>\n      <td></td>\n    </tr>\n    <tr>\n      <th>1</th>\n      <td>J</td>\n      <td>Paes, B; Li, A; Kim, D; Lanctot, KL; Mitchell, I</td>\n      <td>Paes, Bosco; Li, Abby; Kim, Doyoung; Lanctot, ...</td>\n      <td>A Comparison of Respiratory Syncytial Viral Pr...</td>\n      <td>AMERICAN JOURNAL OF PERINATOLOGY</td>\n      <td>Article</td>\n      <td>multiple births; singletons; respiratory syncy...</td>\n      <td>VIRUS MONOCLONAL-ANTIBODY; PRETERM INFANTS; IN...</td>\n      <td>Objective The aim of this study is to compare ...</td>\n      <td>[Paes, Bosco] McMaster Univ, Dept Pediat, HSC-...</td>\n      <td>...</td>\n      <td>1.0</td>\n      <td>2021</td>\n      <td>Obstetrics &amp; Gynecology; Pediatrics</td>\n      <td>10.1055/s-0040-1708804</td>\n      <td>Obstetrics &amp; Gynecology; Pediatrics</td>\n      <td>WOS:000690384400018</td>\n      <td>Canada, Canada, Canada, Canada, Canada</td>\n      <td></td>\n      <td>computing_infrastructure</td>\n      <td></td>\n    </tr>\n    <tr>\n      <th>2</th>\n      <td>J</td>\n      <td>Chyzmar, I; Hoblyk, V</td>\n      <td>Chyzmar, Ivan; Hoblyk, Volodymyr</td>\n      <td>E-sports organizations with franchised network...</td>\n      <td>ECONOMIC ANNALS-XXI</td>\n      <td>Article</td>\n      <td>E-sport; Franchise; Blizzard Arena; Overwatch ...</td>\n      <td>NaN</td>\n      <td>The paper focuses on the priority given to the...</td>\n      <td>[Chyzmar, Ivan] Mukachevo State Univ, Dept Eco...</td>\n      <td>...</td>\n      <td>0.0</td>\n      <td>2021</td>\n      <td>Economics</td>\n      <td>10.21003/ea.V187-15</td>\n      <td>Business &amp; Economics</td>\n      <td>WOS:000716523300014</td>\n      <td>Ukraine, Ukraine</td>\n      <td></td>\n      <td>computing_infrastructure</td>\n      <td></td>\n    </tr>\n    <tr>\n      <th>3</th>\n      <td>J</td>\n      <td>Klein, I; Oppelt, N; Kuenzer, C</td>\n      <td>Klein, Igor; Oppelt, Natascha; Kuenzer, Claudia</td>\n      <td>Application of Remote Sensing Data for Locust ...</td>\n      <td>INSECTS</td>\n      <td>Review</td>\n      <td>locust monitoring; locust outbreak; remote sen...</td>\n      <td>ASIAN MIGRATORY LOCUST; HABITAT SUITABILITY IN...</td>\n      <td>Simple Summary Locust outbreaks around the wor...</td>\n      <td>[Klein, Igor; Kuenzer, Claudia] German Aerosp ...</td>\n      <td>...</td>\n      <td>6.0</td>\n      <td>2021</td>\n      <td>Entomology</td>\n      <td>10.3390/insects12030233</td>\n      <td>Entomology</td>\n      <td>WOS:000633803300001</td>\n      <td>Germany, Germany, Germany, Germany</td>\n      <td></td>\n      <td>computing_infrastructure</td>\n      <td></td>\n    </tr>\n    <tr>\n      <th>4</th>\n      <td>J</td>\n      <td>Gong, XX; Zhang, B</td>\n      <td>Gong, Xinxin; Zhang, Bin</td>\n      <td>Resistance of SNOW-V against Fast Correlation ...</td>\n      <td>IACR TRANSACTIONS ON SYMMETRIC CRYPTOLOGY</td>\n      <td>Article</td>\n      <td>Stream ciphers; SNOW-V; FSM; Bitwise Fast corr...</td>\n      <td>STREAM CIPHERS; CRYPTANALYSIS; SOSEMANUK</td>\n      <td>SNOW-V is a new member in the SNOW family of s...</td>\n      <td>[Gong, Xinxin; Zhang, Bin] State Key Lab Crypt...</td>\n      <td>...</td>\n      <td>7.0</td>\n      <td>2021</td>\n      <td>Computer Science, Software Engineering; Comput...</td>\n      <td>10.46586/tosc.v2021.i1.378-410</td>\n      <td>Computer Science</td>\n      <td>WOS:000631653800012</td>\n      <td>China, China, China</td>\n      <td></td>\n      <td>computing_infrastructure</td>\n      <td></td>\n    </tr>\n    <tr>\n      <th>...</th>\n      <td>...</td>\n      <td>...</td>\n      <td>...</td>\n      <td>...</td>\n      <td>...</td>\n      <td>...</td>\n      <td>...</td>\n      <td>...</td>\n      <td>...</td>\n      <td>...</td>\n      <td>...</td>\n      <td>...</td>\n      <td>...</td>\n      <td>...</td>\n      <td>...</td>\n      <td>...</td>\n      <td>...</td>\n      <td>...</td>\n      <td>...</td>\n      <td>...</td>\n      <td>...</td>\n    </tr>\n    <tr>\n      <th>2085373</th>\n      <td>C</td>\n      <td>Dinesh, K; Xiong, ML; Adams, J; Dorsey, R; Sha...</td>\n      <td>Dinesh, Karthik; Xiong, Mulin; Adams, Jamie; D...</td>\n      <td>SIGNAL ANALYSIS FOR DETECTING MOTOR SYMPTOMS I...</td>\n      <td>2016 IEEE WESTERN NEW YORK IMAGE AND SIGNAL PR...</td>\n      <td>Proceedings Paper</td>\n      <td>Wearable sensors; Parkinson's; Huntington's; a...</td>\n      <td>NaN</td>\n      <td>We report on a pilot study for signal processi...</td>\n      <td>[Dinesh, Karthik; Sharma, Gaurav] Univ Rochest...</td>\n      <td>...</td>\n      <td>1.0</td>\n      <td>2016</td>\n      <td>Engineering, Electrical &amp; Electronic</td>\n      <td>NaN</td>\n      <td>Engineering</td>\n      <td>WOS:000402630000005</td>\n      <td>United States, United States, United States, U...</td>\n      <td></td>\n      <td>IOT</td>\n      <td></td>\n    </tr>\n    <tr>\n      <th>2085374</th>\n      <td>C</td>\n      <td>Ding, CW; Heidari, S; Wang, YZ; Liu, YP; Hu, JT</td>\n      <td>Ding, Caiwen; Heidari, Soroush; Wang, Yanzhi; ...</td>\n      <td>Multi-Source In-Door Energy Harvesting for Non...</td>\n      <td>2016 IEEE INTERNATIONAL SYMPOSIUM ON CIRCUITS ...</td>\n      <td>Proceedings Paper</td>\n      <td>NaN</td>\n      <td>CONVERTER</td>\n      <td>Due to size, longevity, safety, and recharging...</td>\n      <td>[Ding, Caiwen; Wang, Yanzhi] Syracuse Univ, De...</td>\n      <td>...</td>\n      <td>9.0</td>\n      <td>2016</td>\n      <td>Engineering, Electrical &amp; Electronic</td>\n      <td>NaN</td>\n      <td>Engineering</td>\n      <td>WOS:000390094700044</td>\n      <td>United States, United States, United States, U...</td>\n      <td></td>\n      <td>IOT</td>\n      <td></td>\n    </tr>\n    <tr>\n      <th>2085375</th>\n      <td>C</td>\n      <td>Ding, CW; Li, HJ; Hu, JT; Liu, YP; Wang, YZ</td>\n      <td>Ding, Caiwen; Li, Hongjia; Hu, Jingtong; Liu, ...</td>\n      <td>Dynamic Converter Reconfiguration for Near-Thr...</td>\n      <td>PROCEEDINGS OF THE 34TH IEEE INTERNATIONAL CON...</td>\n      <td>Proceedings Paper</td>\n      <td>Non-volatile processor (NVP); Near-Threshold C...</td>\n      <td>NaN</td>\n      <td>Energy harvesting is becoming a preferred choi...</td>\n      <td>[Ding, Caiwen; Li, Hongjia; Wang, Yanzhi] Syra...</td>\n      <td>...</td>\n      <td>1.0</td>\n      <td>2016</td>\n      <td>Computer Science, Hardware &amp; Architecture; Eng...</td>\n      <td>NaN</td>\n      <td>Computer Science; Engineering</td>\n      <td>WOS:000391829200039</td>\n      <td>United States, United States, United States, U...</td>\n      <td></td>\n      <td>IOT</td>\n      <td></td>\n    </tr>\n    <tr>\n      <th>2085376</th>\n      <td>C</td>\n      <td>Ding, Y; Fan, BW; Kong, XM; Ma, QQ</td>\n      <td>Ding Yi; Fan Binwen; Kong Xiaoming; Ma Qianqian</td>\n      <td>Design and Implementation of Mobile Health Mon...</td>\n      <td>PROCEEDINGS OF 2016 IEEE ADVANCED INFORMATION ...</td>\n      <td>Proceedings Paper</td>\n      <td>Mobile health; STM32; MQTT protocol; message p...</td>\n      <td>NaN</td>\n      <td>Mobile and smart health care exists some quest...</td>\n      <td>[Ding Yi; Fan Binwen; Kong Xiaoming; Ma Qianqi...</td>\n      <td>...</td>\n      <td>11.0</td>\n      <td>2016</td>\n      <td>Automation &amp; Control Systems; Engineering, Ele...</td>\n      <td>NaN</td>\n      <td>Automation &amp; Control Systems; Engineering; Tel...</td>\n      <td>WOS:000405512400343</td>\n      <td>China, China, China, China</td>\n      <td></td>\n      <td>IOT</td>\n      <td></td>\n    </tr>\n    <tr>\n      <th>2085377</th>\n      <td>C</td>\n      <td>Ding, Y; Zilic, Z</td>\n      <td>Ding, Yi (Steven); Zilic, Zeljko</td>\n      <td>ECG Compression for Mobile Sensor Platforms</td>\n      <td>2016 IEEE 13TH INTERNATIONAL CONFERENCE ON WEA...</td>\n      <td>Proceedings Paper</td>\n      <td>NaN</td>\n      <td>NaN</td>\n      <td>This paper presents a low-complexity compressi...</td>\n      <td>[Ding, Yi (Steven); Zilic, Zeljko] McGill Univ...</td>\n      <td>...</td>\n      <td>3.0</td>\n      <td>2016</td>\n      <td>Engineering, Electrical &amp; Electronic; Optics</td>\n      <td>NaN</td>\n      <td>Engineering; Optics</td>\n      <td>WOS:000391251700018</td>\n      <td>Canada, Canada</td>\n      <td></td>\n      <td>IOT</td>\n      <td></td>\n    </tr>\n  </tbody>\n</table>\n<p>2085378 rows × 24 columns</p>\n</div>"
     },
     "execution_count": 25,
     "metadata": {},
     "output_type": "execute_result"
    }
   ],
   "source": [
    "df"
   ],
   "metadata": {
    "collapsed": false
   }
  },
  {
   "cell_type": "code",
   "execution_count": 26,
   "outputs": [
    {
     "data": {
      "text/plain": "        PT                                                 AU  \\\n0        C                        Kiseleva, EI; Astachova, IF   \n1        J                       Abhishek, A; Anithaashri, TP   \n2        C                  Rojek, I; Dostatni, E; Kotlarz, P   \n3        C                 Srun, N; Leang, S; Thu, YK; Sam, S   \n4        C             Zhang, DF; Hou, TY; Yang, JK; Xiao, JJ   \n...     ..                                                ...   \n2085373  C  Dinesh, K; Xiong, ML; Adams, J; Dorsey, R; Sha...   \n2085374  C    Ding, CW; Heidari, S; Wang, YZ; Liu, YP; Hu, JT   \n2085375  C        Ding, CW; Li, HJ; Hu, JT; Liu, YP; Wang, YZ   \n2085376  C                 Ding, Y; Fan, BW; Kong, XM; Ma, QQ   \n2085377  C                                  Ding, Y; Zilic, Z   \n\n                                                        AF  \\\n0                        Kiseleva, E., I; Astachova, I. F.   \n1                         Abhishek, A.; Anithaashri, T. P.   \n2            Rojek, Izabela; Dostatni, Ewa; Kotlarz, Piotr   \n3        Srun, Nalin; Leang, Sotheara; Thu, Ye Kyaw; Sa...   \n4        Zhang, Defu; Hou, Tongyu; Yang, Jiankun; Xiao,...   \n...                                                    ...   \n2085373  Dinesh, Karthik; Xiong, Mulin; Adams, Jamie; D...   \n2085374  Ding, Caiwen; Heidari, Soroush; Wang, Yanzhi; ...   \n2085375  Ding, Caiwen; Li, Hongjia; Hu, Jingtong; Liu, ...   \n2085376    Ding Yi; Fan Binwen; Kong Xiaoming; Ma Qianqian   \n2085377                   Ding, Yi (Steven); Zilic, Zeljko   \n\n                                                        TI  \\\n0          Intelligent Support for Medical Decision Making   \n1        YNOVEL WEB SEARCH FOR DATA ACCESSIBILITY USING...   \n2        Comparison of Neural Networks Aiding Material ...   \n3        Convolutional Time Delay Neural Network for Kh...   \n4        Study on Marine Diesel Engine Fault Identifica...   \n...                                                    ...   \n2085373  SIGNAL ANALYSIS FOR DETECTING MOTOR SYMPTOMS I...   \n2085374  Multi-Source In-Door Energy Harvesting for Non...   \n2085375  Dynamic Converter Reconfiguration for Near-Thr...   \n2085376  Design and Implementation of Mobile Health Mon...   \n2085377        ECG Compression for Mobile Sensor Platforms   \n\n                                                        SO                 DT  \\\n0                               ADVANCES IN AUTOMATION III  Proceedings Paper   \n1        INTERNATIONAL JOURNAL OF EARLY CHILDHOOD SPECI...            Article   \n2                  INNOVATIONS IN MECHATRONICS ENGINEERING  Proceedings Paper   \n3        2022 17TH INTERNATIONAL JOINT SYMPOSIUM ON ART...  Proceedings Paper   \n4        PROCEEDINGS OF 2022 IEEE INTERNATIONAL CONFERE...  Proceedings Paper   \n...                                                    ...                ...   \n2085373  2016 IEEE WESTERN NEW YORK IMAGE AND SIGNAL PR...  Proceedings Paper   \n2085374  2016 IEEE INTERNATIONAL SYMPOSIUM ON CIRCUITS ...  Proceedings Paper   \n2085375  PROCEEDINGS OF THE 34TH IEEE INTERNATIONAL CON...  Proceedings Paper   \n2085376  PROCEEDINGS OF 2016 IEEE ADVANCED INFORMATION ...  Proceedings Paper   \n2085377  2016 IEEE 13TH INTERNATIONAL CONFERENCE ON WEA...  Proceedings Paper   \n\n                                                        DE  \\\n0        Diabetes mellitus; Artificial neural network; ...   \n1        Artificial Intelligence; Convolutional Neural ...   \n2        Compatibility; Neural networks; Classification...   \n3        Khmer ASR; Time Delay Neural Network; Convolut...   \n4        Marine diesel engine; Failure to identify; Rad...   \n...                                                    ...   \n2085373  Wearable sensors; Parkinson's; Huntington's; a...   \n2085374                                                NaN   \n2085375  Non-volatile processor (NVP); Near-Threshold C...   \n2085376  Mobile health; STM32; MQTT protocol; message p...   \n2085377                                                NaN   \n\n                                                        ID  \\\n0        NEURAL-NETWORK; EXPERT-SYSTEM; DIAGNOSIS; ALGO...   \n1                                                     None   \n2                  PREDICTION; ECODESIGN; ENSEMBLE; DESIGN   \n3                                                     None   \n4                                 EXPERT-SYSTEM; ALGORITHM   \n...                                                    ...   \n2085373                                                NaN   \n2085374                                          CONVERTER   \n2085375                                                NaN   \n2085376                                                NaN   \n2085377                                                NaN   \n\n                                                        AB  \\\n0        This paper presents the development and study ...   \n1        Aim: To improvise a web search for data access...   \n2        A new method of selection of materials at the ...   \n3        Convolutional Neural Networks have been proven...   \n4        In order to further improve the accuracy and r...   \n...                                                    ...   \n2085373  We report on a pilot study for signal processi...   \n2085374  Due to size, longevity, safety, and recharging...   \n2085375  Energy harvesting is becoming a preferred choi...   \n2085376  Mobile and smart health care exists some quest...   \n2085377  This paper presents a low-complexity compressi...   \n\n                                                        C1  ...    Z9    PY  \\\n0        [Kiseleva, E., I] Voronezh State Pedag Univ, 8...  ...   1.0  2022   \n1        [Abhishek, A.; Anithaashri, T. P.] Saveetha Un...  ...   0.0  2022   \n2        [Rojek, Izabela; Kotlarz, Piotr] Kazimierz Wie...  ...   0.0  2022   \n3        [Srun, Nalin; Thu, Ye Kyaw; Sam, Sethserey] Ca...  ...   0.0  2022   \n4        [Zhang, Defu; Hou, Tongyu] Tianjin Univ Techno...  ...   0.0  2022   \n...                                                    ...  ...   ...   ...   \n2085373  [Dinesh, Karthik; Sharma, Gaurav] Univ Rochest...  ...   1.0  2016   \n2085374  [Ding, Caiwen; Wang, Yanzhi] Syracuse Univ, De...  ...   9.0  2016   \n2085375  [Ding, Caiwen; Li, Hongjia; Wang, Yanzhi] Syra...  ...   1.0  2016   \n2085376  [Ding Yi; Fan Binwen; Kong Xiaoming; Ma Qianqi...  ...  11.0  2016   \n2085377  [Ding, Yi (Steven); Zilic, Zeljko] McGill Univ...  ...   3.0  2016   \n\n                                                        WC  \\\n0        Computer Science, Software Engineering; Comput...   \n1                                       Education, Special   \n2                                  Engineering, Mechanical   \n3                                                     None   \n4                  Automation & Control Systems; Mechanics   \n...                                                    ...   \n2085373               Engineering, Electrical & Electronic   \n2085374               Engineering, Electrical & Electronic   \n2085375  Computer Science, Hardware & Architecture; Eng...   \n2085376  Automation & Control Systems; Engineering, Ele...   \n2085377       Engineering, Electrical & Electronic; Optics   \n\n                                         DI  \\\n0              10.1007/978-3-030-94202-1_11   \n1               10.9756/INT-JECSE/V14I3.722   \n2               10.1007/978-3-030-79168-1_2   \n3        10.1109/ISAI-NLP56921.2022.9960286   \n4            10.1109/ICMA54519.2022.9856137   \n...                                     ...   \n2085373                                 NaN   \n2085374                                 NaN   \n2085375                                 NaN   \n2085376                                 NaN   \n2085377                                 NaN   \n\n                                                        SC  \\\n0                                         Computer Science   \n1                         Education & Educational Research   \n2                                              Engineering   \n3                                                     None   \n4                  Automation & Control Systems; Mechanics   \n...                                                    ...   \n2085373                                        Engineering   \n2085374                                        Engineering   \n2085375                      Computer Science; Engineering   \n2085376  Automation & Control Systems; Engineering; Tel...   \n2085377                                Engineering; Optics   \n\n                          UT  \\\n0        WOS:000771714900011   \n1        WOS:000813443800047   \n2        WOS:000773488800002   \n3        WOS:000900145700039   \n4        WOS:000865966500249   \n...                      ...   \n2085373  WOS:000402630000005   \n2085374  WOS:000390094700044   \n2085375  WOS:000391829200039   \n2085376  WOS:000405512400343   \n2085377  WOS:000391251700018   \n\n                                                        CN lst_DT lst_SDG  \\\n0                                           Russia, Russia     AI     NaN   \n1                                             India, India     AI     NaN   \n2                                   Poland, Poland, Poland     AI     NaN   \n3                     Cambodia, Cambodia, Cambodia, France     AI     NaN   \n4                               China, China, China, China     AI     NaN   \n...                                                    ...    ...     ...   \n2085373  United States, United States, United States, U...    IOT           \n2085374  United States, United States, United States, U...    IOT           \n2085375  United States, United States, United States, U...    IOT           \n2085376                         China, China, China, China    IOT           \n2085377                                     Canada, Canada    IOT           \n\n        lst_Target  \n0              NaN  \n1              NaN  \n2              NaN  \n3              NaN  \n4              NaN  \n...            ...  \n2085373             \n2085374             \n2085375             \n2085376             \n2085377             \n\n[2246104 rows x 24 columns]",
      "text/html": "<div>\n<style scoped>\n    .dataframe tbody tr th:only-of-type {\n        vertical-align: middle;\n    }\n\n    .dataframe tbody tr th {\n        vertical-align: top;\n    }\n\n    .dataframe thead th {\n        text-align: right;\n    }\n</style>\n<table border=\"1\" class=\"dataframe\">\n  <thead>\n    <tr style=\"text-align: right;\">\n      <th></th>\n      <th>PT</th>\n      <th>AU</th>\n      <th>AF</th>\n      <th>TI</th>\n      <th>SO</th>\n      <th>DT</th>\n      <th>DE</th>\n      <th>ID</th>\n      <th>AB</th>\n      <th>C1</th>\n      <th>...</th>\n      <th>Z9</th>\n      <th>PY</th>\n      <th>WC</th>\n      <th>DI</th>\n      <th>SC</th>\n      <th>UT</th>\n      <th>CN</th>\n      <th>lst_DT</th>\n      <th>lst_SDG</th>\n      <th>lst_Target</th>\n    </tr>\n  </thead>\n  <tbody>\n    <tr>\n      <th>0</th>\n      <td>C</td>\n      <td>Kiseleva, EI; Astachova, IF</td>\n      <td>Kiseleva, E., I; Astachova, I. F.</td>\n      <td>Intelligent Support for Medical Decision Making</td>\n      <td>ADVANCES IN AUTOMATION III</td>\n      <td>Proceedings Paper</td>\n      <td>Diabetes mellitus; Artificial neural network; ...</td>\n      <td>NEURAL-NETWORK; EXPERT-SYSTEM; DIAGNOSIS; ALGO...</td>\n      <td>This paper presents the development and study ...</td>\n      <td>[Kiseleva, E., I] Voronezh State Pedag Univ, 8...</td>\n      <td>...</td>\n      <td>1.0</td>\n      <td>2022</td>\n      <td>Computer Science, Software Engineering; Comput...</td>\n      <td>10.1007/978-3-030-94202-1_11</td>\n      <td>Computer Science</td>\n      <td>WOS:000771714900011</td>\n      <td>Russia, Russia</td>\n      <td>AI</td>\n      <td>NaN</td>\n      <td>NaN</td>\n    </tr>\n    <tr>\n      <th>1</th>\n      <td>J</td>\n      <td>Abhishek, A; Anithaashri, TP</td>\n      <td>Abhishek, A.; Anithaashri, T. P.</td>\n      <td>YNOVEL WEB SEARCH FOR DATA ACCESSIBILITY USING...</td>\n      <td>INTERNATIONAL JOURNAL OF EARLY CHILDHOOD SPECI...</td>\n      <td>Article</td>\n      <td>Artificial Intelligence; Convolutional Neural ...</td>\n      <td>None</td>\n      <td>Aim: To improvise a web search for data access...</td>\n      <td>[Abhishek, A.; Anithaashri, T. P.] Saveetha Un...</td>\n      <td>...</td>\n      <td>0.0</td>\n      <td>2022</td>\n      <td>Education, Special</td>\n      <td>10.9756/INT-JECSE/V14I3.722</td>\n      <td>Education &amp; Educational Research</td>\n      <td>WOS:000813443800047</td>\n      <td>India, India</td>\n      <td>AI</td>\n      <td>NaN</td>\n      <td>NaN</td>\n    </tr>\n    <tr>\n      <th>2</th>\n      <td>C</td>\n      <td>Rojek, I; Dostatni, E; Kotlarz, P</td>\n      <td>Rojek, Izabela; Dostatni, Ewa; Kotlarz, Piotr</td>\n      <td>Comparison of Neural Networks Aiding Material ...</td>\n      <td>INNOVATIONS IN MECHATRONICS ENGINEERING</td>\n      <td>Proceedings Paper</td>\n      <td>Compatibility; Neural networks; Classification...</td>\n      <td>PREDICTION; ECODESIGN; ENSEMBLE; DESIGN</td>\n      <td>A new method of selection of materials at the ...</td>\n      <td>[Rojek, Izabela; Kotlarz, Piotr] Kazimierz Wie...</td>\n      <td>...</td>\n      <td>0.0</td>\n      <td>2022</td>\n      <td>Engineering, Mechanical</td>\n      <td>10.1007/978-3-030-79168-1_2</td>\n      <td>Engineering</td>\n      <td>WOS:000773488800002</td>\n      <td>Poland, Poland, Poland</td>\n      <td>AI</td>\n      <td>NaN</td>\n      <td>NaN</td>\n    </tr>\n    <tr>\n      <th>3</th>\n      <td>C</td>\n      <td>Srun, N; Leang, S; Thu, YK; Sam, S</td>\n      <td>Srun, Nalin; Leang, Sotheara; Thu, Ye Kyaw; Sa...</td>\n      <td>Convolutional Time Delay Neural Network for Kh...</td>\n      <td>2022 17TH INTERNATIONAL JOINT SYMPOSIUM ON ART...</td>\n      <td>Proceedings Paper</td>\n      <td>Khmer ASR; Time Delay Neural Network; Convolut...</td>\n      <td>None</td>\n      <td>Convolutional Neural Networks have been proven...</td>\n      <td>[Srun, Nalin; Thu, Ye Kyaw; Sam, Sethserey] Ca...</td>\n      <td>...</td>\n      <td>0.0</td>\n      <td>2022</td>\n      <td>None</td>\n      <td>10.1109/ISAI-NLP56921.2022.9960286</td>\n      <td>None</td>\n      <td>WOS:000900145700039</td>\n      <td>Cambodia, Cambodia, Cambodia, France</td>\n      <td>AI</td>\n      <td>NaN</td>\n      <td>NaN</td>\n    </tr>\n    <tr>\n      <th>4</th>\n      <td>C</td>\n      <td>Zhang, DF; Hou, TY; Yang, JK; Xiao, JJ</td>\n      <td>Zhang, Defu; Hou, Tongyu; Yang, Jiankun; Xiao,...</td>\n      <td>Study on Marine Diesel Engine Fault Identifica...</td>\n      <td>PROCEEDINGS OF 2022 IEEE INTERNATIONAL CONFERE...</td>\n      <td>Proceedings Paper</td>\n      <td>Marine diesel engine; Failure to identify; Rad...</td>\n      <td>EXPERT-SYSTEM; ALGORITHM</td>\n      <td>In order to further improve the accuracy and r...</td>\n      <td>[Zhang, Defu; Hou, Tongyu] Tianjin Univ Techno...</td>\n      <td>...</td>\n      <td>0.0</td>\n      <td>2022</td>\n      <td>Automation &amp; Control Systems; Mechanics</td>\n      <td>10.1109/ICMA54519.2022.9856137</td>\n      <td>Automation &amp; Control Systems; Mechanics</td>\n      <td>WOS:000865966500249</td>\n      <td>China, China, China, China</td>\n      <td>AI</td>\n      <td>NaN</td>\n      <td>NaN</td>\n    </tr>\n    <tr>\n      <th>...</th>\n      <td>...</td>\n      <td>...</td>\n      <td>...</td>\n      <td>...</td>\n      <td>...</td>\n      <td>...</td>\n      <td>...</td>\n      <td>...</td>\n      <td>...</td>\n      <td>...</td>\n      <td>...</td>\n      <td>...</td>\n      <td>...</td>\n      <td>...</td>\n      <td>...</td>\n      <td>...</td>\n      <td>...</td>\n      <td>...</td>\n      <td>...</td>\n      <td>...</td>\n      <td>...</td>\n    </tr>\n    <tr>\n      <th>2085373</th>\n      <td>C</td>\n      <td>Dinesh, K; Xiong, ML; Adams, J; Dorsey, R; Sha...</td>\n      <td>Dinesh, Karthik; Xiong, Mulin; Adams, Jamie; D...</td>\n      <td>SIGNAL ANALYSIS FOR DETECTING MOTOR SYMPTOMS I...</td>\n      <td>2016 IEEE WESTERN NEW YORK IMAGE AND SIGNAL PR...</td>\n      <td>Proceedings Paper</td>\n      <td>Wearable sensors; Parkinson's; Huntington's; a...</td>\n      <td>NaN</td>\n      <td>We report on a pilot study for signal processi...</td>\n      <td>[Dinesh, Karthik; Sharma, Gaurav] Univ Rochest...</td>\n      <td>...</td>\n      <td>1.0</td>\n      <td>2016</td>\n      <td>Engineering, Electrical &amp; Electronic</td>\n      <td>NaN</td>\n      <td>Engineering</td>\n      <td>WOS:000402630000005</td>\n      <td>United States, United States, United States, U...</td>\n      <td>IOT</td>\n      <td></td>\n      <td></td>\n    </tr>\n    <tr>\n      <th>2085374</th>\n      <td>C</td>\n      <td>Ding, CW; Heidari, S; Wang, YZ; Liu, YP; Hu, JT</td>\n      <td>Ding, Caiwen; Heidari, Soroush; Wang, Yanzhi; ...</td>\n      <td>Multi-Source In-Door Energy Harvesting for Non...</td>\n      <td>2016 IEEE INTERNATIONAL SYMPOSIUM ON CIRCUITS ...</td>\n      <td>Proceedings Paper</td>\n      <td>NaN</td>\n      <td>CONVERTER</td>\n      <td>Due to size, longevity, safety, and recharging...</td>\n      <td>[Ding, Caiwen; Wang, Yanzhi] Syracuse Univ, De...</td>\n      <td>...</td>\n      <td>9.0</td>\n      <td>2016</td>\n      <td>Engineering, Electrical &amp; Electronic</td>\n      <td>NaN</td>\n      <td>Engineering</td>\n      <td>WOS:000390094700044</td>\n      <td>United States, United States, United States, U...</td>\n      <td>IOT</td>\n      <td></td>\n      <td></td>\n    </tr>\n    <tr>\n      <th>2085375</th>\n      <td>C</td>\n      <td>Ding, CW; Li, HJ; Hu, JT; Liu, YP; Wang, YZ</td>\n      <td>Ding, Caiwen; Li, Hongjia; Hu, Jingtong; Liu, ...</td>\n      <td>Dynamic Converter Reconfiguration for Near-Thr...</td>\n      <td>PROCEEDINGS OF THE 34TH IEEE INTERNATIONAL CON...</td>\n      <td>Proceedings Paper</td>\n      <td>Non-volatile processor (NVP); Near-Threshold C...</td>\n      <td>NaN</td>\n      <td>Energy harvesting is becoming a preferred choi...</td>\n      <td>[Ding, Caiwen; Li, Hongjia; Wang, Yanzhi] Syra...</td>\n      <td>...</td>\n      <td>1.0</td>\n      <td>2016</td>\n      <td>Computer Science, Hardware &amp; Architecture; Eng...</td>\n      <td>NaN</td>\n      <td>Computer Science; Engineering</td>\n      <td>WOS:000391829200039</td>\n      <td>United States, United States, United States, U...</td>\n      <td>IOT</td>\n      <td></td>\n      <td></td>\n    </tr>\n    <tr>\n      <th>2085376</th>\n      <td>C</td>\n      <td>Ding, Y; Fan, BW; Kong, XM; Ma, QQ</td>\n      <td>Ding Yi; Fan Binwen; Kong Xiaoming; Ma Qianqian</td>\n      <td>Design and Implementation of Mobile Health Mon...</td>\n      <td>PROCEEDINGS OF 2016 IEEE ADVANCED INFORMATION ...</td>\n      <td>Proceedings Paper</td>\n      <td>Mobile health; STM32; MQTT protocol; message p...</td>\n      <td>NaN</td>\n      <td>Mobile and smart health care exists some quest...</td>\n      <td>[Ding Yi; Fan Binwen; Kong Xiaoming; Ma Qianqi...</td>\n      <td>...</td>\n      <td>11.0</td>\n      <td>2016</td>\n      <td>Automation &amp; Control Systems; Engineering, Ele...</td>\n      <td>NaN</td>\n      <td>Automation &amp; Control Systems; Engineering; Tel...</td>\n      <td>WOS:000405512400343</td>\n      <td>China, China, China, China</td>\n      <td>IOT</td>\n      <td></td>\n      <td></td>\n    </tr>\n    <tr>\n      <th>2085377</th>\n      <td>C</td>\n      <td>Ding, Y; Zilic, Z</td>\n      <td>Ding, Yi (Steven); Zilic, Zeljko</td>\n      <td>ECG Compression for Mobile Sensor Platforms</td>\n      <td>2016 IEEE 13TH INTERNATIONAL CONFERENCE ON WEA...</td>\n      <td>Proceedings Paper</td>\n      <td>NaN</td>\n      <td>NaN</td>\n      <td>This paper presents a low-complexity compressi...</td>\n      <td>[Ding, Yi (Steven); Zilic, Zeljko] McGill Univ...</td>\n      <td>...</td>\n      <td>3.0</td>\n      <td>2016</td>\n      <td>Engineering, Electrical &amp; Electronic; Optics</td>\n      <td>NaN</td>\n      <td>Engineering; Optics</td>\n      <td>WOS:000391251700018</td>\n      <td>Canada, Canada</td>\n      <td>IOT</td>\n      <td></td>\n      <td></td>\n    </tr>\n  </tbody>\n</table>\n<p>2246104 rows × 24 columns</p>\n</div>"
     },
     "execution_count": 26,
     "metadata": {},
     "output_type": "execute_result"
    }
   ],
   "source": [
    "all = pd.concat([df2022, df])\n",
    "all"
   ],
   "metadata": {
    "collapsed": false
   }
  },
  {
   "cell_type": "code",
   "execution_count": 27,
   "outputs": [
    {
     "data": {
      "text/plain": "        PT                                                 AU  \\\n0        C                        Kiseleva, EI; Astachova, IF   \n1        J                       Abhishek, A; Anithaashri, TP   \n2        C                  Rojek, I; Dostatni, E; Kotlarz, P   \n3        C                 Srun, N; Leang, S; Thu, YK; Sam, S   \n4        C             Zhang, DF; Hou, TY; Yang, JK; Xiao, JJ   \n...     ..                                                ...   \n2085372  C  Dieffenderfer, J; Wilkins, M; Hood, C; Beppler...   \n2085373  C  Dinesh, K; Xiong, ML; Adams, J; Dorsey, R; Sha...   \n2085374  C    Ding, CW; Heidari, S; Wang, YZ; Liu, YP; Hu, JT   \n2085375  C        Ding, CW; Li, HJ; Hu, JT; Liu, YP; Wang, YZ   \n2085377  C                                  Ding, Y; Zilic, Z   \n\n                                                        AF  \\\n0                        Kiseleva, E., I; Astachova, I. F.   \n1                         Abhishek, A.; Anithaashri, T. P.   \n2            Rojek, Izabela; Dostatni, Ewa; Kotlarz, Piotr   \n3        Srun, Nalin; Leang, Sotheara; Thu, Ye Kyaw; Sa...   \n4        Zhang, Defu; Hou, Tongyu; Yang, Jiankun; Xiao,...   \n...                                                    ...   \n2085372  Dieffenderfer, James; Wilkins, Michael; Hood, ...   \n2085373  Dinesh, Karthik; Xiong, Mulin; Adams, Jamie; D...   \n2085374  Ding, Caiwen; Heidari, Soroush; Wang, Yanzhi; ...   \n2085375  Ding, Caiwen; Li, Hongjia; Hu, Jingtong; Liu, ...   \n2085377                   Ding, Yi (Steven); Zilic, Zeljko   \n\n                                                        TI  \\\n0          Intelligent Support for Medical Decision Making   \n1        YNOVEL WEB SEARCH FOR DATA ACCESSIBILITY USING...   \n2        Comparison of Neural Networks Aiding Material ...   \n3        Convolutional Time Delay Neural Network for Kh...   \n4        Study on Marine Diesel Engine Fault Identifica...   \n...                                                    ...   \n2085372  Towards a Sweat-based Wireless and Wearable El...   \n2085373  SIGNAL ANALYSIS FOR DETECTING MOTOR SYMPTOMS I...   \n2085374  Multi-Source In-Door Energy Harvesting for Non...   \n2085375  Dynamic Converter Reconfiguration for Near-Thr...   \n2085377        ECG Compression for Mobile Sensor Platforms   \n\n                                                        SO                 DT  \\\n0                               ADVANCES IN AUTOMATION III  Proceedings Paper   \n1        INTERNATIONAL JOURNAL OF EARLY CHILDHOOD SPECI...            Article   \n2                  INNOVATIONS IN MECHATRONICS ENGINEERING  Proceedings Paper   \n3        2022 17TH INTERNATIONAL JOINT SYMPOSIUM ON ART...  Proceedings Paper   \n4        PROCEEDINGS OF 2022 IEEE INTERNATIONAL CONFERE...  Proceedings Paper   \n...                                                    ...                ...   \n2085372                                  2016 IEEE SENSORS  Proceedings Paper   \n2085373  2016 IEEE WESTERN NEW YORK IMAGE AND SIGNAL PR...  Proceedings Paper   \n2085374  2016 IEEE INTERNATIONAL SYMPOSIUM ON CIRCUITS ...  Proceedings Paper   \n2085375  PROCEEDINGS OF THE 34TH IEEE INTERNATIONAL CON...  Proceedings Paper   \n2085377  2016 IEEE 13TH INTERNATIONAL CONFERENCE ON WEA...  Proceedings Paper   \n\n                                                        DE  \\\n0        Diabetes mellitus; Artificial neural network; ...   \n1        Artificial Intelligence; Convolutional Neural ...   \n2        Compatibility; Neural networks; Classification...   \n3        Khmer ASR; Time Delay Neural Network; Convolut...   \n4        Marine diesel engine; Failure to identify; Rad...   \n...                                                    ...   \n2085372  potentiostat; electrochemical; wearable sensin...   \n2085373  Wearable sensors; Parkinson's; Huntington's; a...   \n2085374                                                NaN   \n2085375  Non-volatile processor (NVP); Near-Threshold C...   \n2085377                                                NaN   \n\n                                                        ID  \\\n0        NEURAL-NETWORK; EXPERT-SYSTEM; DIAGNOSIS; ALGO...   \n1                                                     None   \n2                  PREDICTION; ECODESIGN; ENSEMBLE; DESIGN   \n3                                                     None   \n4                                 EXPERT-SYSTEM; ALGORITHM   \n...                                                    ...   \n2085372          LACTATE CONCENTRATIONS; BIOSENSORS; BLOOD   \n2085373                                                NaN   \n2085374                                          CONVERTER   \n2085375                                                NaN   \n2085377                                                NaN   \n\n                                                        AB  \\\n0        This paper presents the development and study ...   \n1        Aim: To improvise a web search for data access...   \n2        A new method of selection of materials at the ...   \n3        Convolutional Neural Networks have been proven...   \n4        In order to further improve the accuracy and r...   \n...                                                    ...   \n2085372  The analysis of biomarkers within sweat is adv...   \n2085373  We report on a pilot study for signal processi...   \n2085374  Due to size, longevity, safety, and recharging...   \n2085375  Energy harvesting is becoming a preferred choi...   \n2085377  This paper presents a low-complexity compressi...   \n\n                                                        C1  ...   Z9    PY  \\\n0        [Kiseleva, E., I] Voronezh State Pedag Univ, 8...  ...  1.0  2022   \n1        [Abhishek, A.; Anithaashri, T. P.] Saveetha Un...  ...  0.0  2022   \n2        [Rojek, Izabela; Kotlarz, Piotr] Kazimierz Wie...  ...  0.0  2022   \n3        [Srun, Nalin; Thu, Ye Kyaw; Sam, Sethserey] Ca...  ...  0.0  2022   \n4        [Zhang, Defu; Hou, Tongyu] Tianjin Univ Techno...  ...  0.0  2022   \n...                                                    ...  ...  ...   ...   \n2085372  [Dieffenderfer, James; Wilkins, Michael; Hood,...  ...  9.0  2016   \n2085373  [Dinesh, Karthik; Sharma, Gaurav] Univ Rochest...  ...  1.0  2016   \n2085374  [Ding, Caiwen; Wang, Yanzhi] Syracuse Univ, De...  ...  9.0  2016   \n2085375  [Ding, Caiwen; Li, Hongjia; Wang, Yanzhi] Syra...  ...  1.0  2016   \n2085377  [Ding, Yi (Steven); Zilic, Zeljko] McGill Univ...  ...  3.0  2016   \n\n                                                        WC  \\\n0        Computer Science, Software Engineering; Comput...   \n1                                       Education, Special   \n2                                  Engineering, Mechanical   \n3                                                     None   \n4                  Automation & Control Systems; Mechanics   \n...                                                    ...   \n2085372  Engineering, Electrical & Electronic; Remote S...   \n2085373               Engineering, Electrical & Electronic   \n2085374               Engineering, Electrical & Electronic   \n2085375  Computer Science, Hardware & Architecture; Eng...   \n2085377       Engineering, Electrical & Electronic; Optics   \n\n                                         DI  \\\n0              10.1007/978-3-030-94202-1_11   \n1               10.9756/INT-JECSE/V14I3.722   \n2               10.1007/978-3-030-79168-1_2   \n3        10.1109/ISAI-NLP56921.2022.9960286   \n4            10.1109/ICMA54519.2022.9856137   \n...                                     ...   \n2085372                                 NaN   \n2085373                                 NaN   \n2085374                                 NaN   \n2085375                                 NaN   \n2085377                                 NaN   \n\n                                              SC                   UT  \\\n0                               Computer Science  WOS:000771714900011   \n1               Education & Educational Research  WOS:000813443800047   \n2                                    Engineering  WOS:000773488800002   \n3                                           None  WOS:000900145700039   \n4        Automation & Control Systems; Mechanics  WOS:000865966500249   \n...                                          ...                  ...   \n2085372              Engineering; Remote Sensing  WOS:000399395700065   \n2085373                              Engineering  WOS:000402630000005   \n2085374                              Engineering  WOS:000390094700044   \n2085375            Computer Science; Engineering  WOS:000391829200039   \n2085377                      Engineering; Optics  WOS:000391251700018   \n\n                                                        CN lst_DT lst_SDG  \\\n0                                           Russia, Russia     AI     NaN   \n1                                             India, India     AI     NaN   \n2                                   Poland, Poland, Poland     AI     NaN   \n3                     Cambodia, Cambodia, Cambodia, France     AI     NaN   \n4                               China, China, China, China     AI     NaN   \n...                                                    ...    ...     ...   \n2085372  United States, United States, United States, U...    IOT           \n2085373  United States, United States, United States, U...    IOT           \n2085374  United States, United States, United States, U...    IOT           \n2085375  United States, United States, United States, U...    IOT           \n2085377                                     Canada, Canada    IOT           \n\n        lst_Target  \n0              NaN  \n1              NaN  \n2              NaN  \n3              NaN  \n4              NaN  \n...            ...  \n2085372             \n2085373             \n2085374             \n2085375             \n2085377             \n\n[1766601 rows x 24 columns]",
      "text/html": "<div>\n<style scoped>\n    .dataframe tbody tr th:only-of-type {\n        vertical-align: middle;\n    }\n\n    .dataframe tbody tr th {\n        vertical-align: top;\n    }\n\n    .dataframe thead th {\n        text-align: right;\n    }\n</style>\n<table border=\"1\" class=\"dataframe\">\n  <thead>\n    <tr style=\"text-align: right;\">\n      <th></th>\n      <th>PT</th>\n      <th>AU</th>\n      <th>AF</th>\n      <th>TI</th>\n      <th>SO</th>\n      <th>DT</th>\n      <th>DE</th>\n      <th>ID</th>\n      <th>AB</th>\n      <th>C1</th>\n      <th>...</th>\n      <th>Z9</th>\n      <th>PY</th>\n      <th>WC</th>\n      <th>DI</th>\n      <th>SC</th>\n      <th>UT</th>\n      <th>CN</th>\n      <th>lst_DT</th>\n      <th>lst_SDG</th>\n      <th>lst_Target</th>\n    </tr>\n  </thead>\n  <tbody>\n    <tr>\n      <th>0</th>\n      <td>C</td>\n      <td>Kiseleva, EI; Astachova, IF</td>\n      <td>Kiseleva, E., I; Astachova, I. F.</td>\n      <td>Intelligent Support for Medical Decision Making</td>\n      <td>ADVANCES IN AUTOMATION III</td>\n      <td>Proceedings Paper</td>\n      <td>Diabetes mellitus; Artificial neural network; ...</td>\n      <td>NEURAL-NETWORK; EXPERT-SYSTEM; DIAGNOSIS; ALGO...</td>\n      <td>This paper presents the development and study ...</td>\n      <td>[Kiseleva, E., I] Voronezh State Pedag Univ, 8...</td>\n      <td>...</td>\n      <td>1.0</td>\n      <td>2022</td>\n      <td>Computer Science, Software Engineering; Comput...</td>\n      <td>10.1007/978-3-030-94202-1_11</td>\n      <td>Computer Science</td>\n      <td>WOS:000771714900011</td>\n      <td>Russia, Russia</td>\n      <td>AI</td>\n      <td>NaN</td>\n      <td>NaN</td>\n    </tr>\n    <tr>\n      <th>1</th>\n      <td>J</td>\n      <td>Abhishek, A; Anithaashri, TP</td>\n      <td>Abhishek, A.; Anithaashri, T. P.</td>\n      <td>YNOVEL WEB SEARCH FOR DATA ACCESSIBILITY USING...</td>\n      <td>INTERNATIONAL JOURNAL OF EARLY CHILDHOOD SPECI...</td>\n      <td>Article</td>\n      <td>Artificial Intelligence; Convolutional Neural ...</td>\n      <td>None</td>\n      <td>Aim: To improvise a web search for data access...</td>\n      <td>[Abhishek, A.; Anithaashri, T. P.] Saveetha Un...</td>\n      <td>...</td>\n      <td>0.0</td>\n      <td>2022</td>\n      <td>Education, Special</td>\n      <td>10.9756/INT-JECSE/V14I3.722</td>\n      <td>Education &amp; Educational Research</td>\n      <td>WOS:000813443800047</td>\n      <td>India, India</td>\n      <td>AI</td>\n      <td>NaN</td>\n      <td>NaN</td>\n    </tr>\n    <tr>\n      <th>2</th>\n      <td>C</td>\n      <td>Rojek, I; Dostatni, E; Kotlarz, P</td>\n      <td>Rojek, Izabela; Dostatni, Ewa; Kotlarz, Piotr</td>\n      <td>Comparison of Neural Networks Aiding Material ...</td>\n      <td>INNOVATIONS IN MECHATRONICS ENGINEERING</td>\n      <td>Proceedings Paper</td>\n      <td>Compatibility; Neural networks; Classification...</td>\n      <td>PREDICTION; ECODESIGN; ENSEMBLE; DESIGN</td>\n      <td>A new method of selection of materials at the ...</td>\n      <td>[Rojek, Izabela; Kotlarz, Piotr] Kazimierz Wie...</td>\n      <td>...</td>\n      <td>0.0</td>\n      <td>2022</td>\n      <td>Engineering, Mechanical</td>\n      <td>10.1007/978-3-030-79168-1_2</td>\n      <td>Engineering</td>\n      <td>WOS:000773488800002</td>\n      <td>Poland, Poland, Poland</td>\n      <td>AI</td>\n      <td>NaN</td>\n      <td>NaN</td>\n    </tr>\n    <tr>\n      <th>3</th>\n      <td>C</td>\n      <td>Srun, N; Leang, S; Thu, YK; Sam, S</td>\n      <td>Srun, Nalin; Leang, Sotheara; Thu, Ye Kyaw; Sa...</td>\n      <td>Convolutional Time Delay Neural Network for Kh...</td>\n      <td>2022 17TH INTERNATIONAL JOINT SYMPOSIUM ON ART...</td>\n      <td>Proceedings Paper</td>\n      <td>Khmer ASR; Time Delay Neural Network; Convolut...</td>\n      <td>None</td>\n      <td>Convolutional Neural Networks have been proven...</td>\n      <td>[Srun, Nalin; Thu, Ye Kyaw; Sam, Sethserey] Ca...</td>\n      <td>...</td>\n      <td>0.0</td>\n      <td>2022</td>\n      <td>None</td>\n      <td>10.1109/ISAI-NLP56921.2022.9960286</td>\n      <td>None</td>\n      <td>WOS:000900145700039</td>\n      <td>Cambodia, Cambodia, Cambodia, France</td>\n      <td>AI</td>\n      <td>NaN</td>\n      <td>NaN</td>\n    </tr>\n    <tr>\n      <th>4</th>\n      <td>C</td>\n      <td>Zhang, DF; Hou, TY; Yang, JK; Xiao, JJ</td>\n      <td>Zhang, Defu; Hou, Tongyu; Yang, Jiankun; Xiao,...</td>\n      <td>Study on Marine Diesel Engine Fault Identifica...</td>\n      <td>PROCEEDINGS OF 2022 IEEE INTERNATIONAL CONFERE...</td>\n      <td>Proceedings Paper</td>\n      <td>Marine diesel engine; Failure to identify; Rad...</td>\n      <td>EXPERT-SYSTEM; ALGORITHM</td>\n      <td>In order to further improve the accuracy and r...</td>\n      <td>[Zhang, Defu; Hou, Tongyu] Tianjin Univ Techno...</td>\n      <td>...</td>\n      <td>0.0</td>\n      <td>2022</td>\n      <td>Automation &amp; Control Systems; Mechanics</td>\n      <td>10.1109/ICMA54519.2022.9856137</td>\n      <td>Automation &amp; Control Systems; Mechanics</td>\n      <td>WOS:000865966500249</td>\n      <td>China, China, China, China</td>\n      <td>AI</td>\n      <td>NaN</td>\n      <td>NaN</td>\n    </tr>\n    <tr>\n      <th>...</th>\n      <td>...</td>\n      <td>...</td>\n      <td>...</td>\n      <td>...</td>\n      <td>...</td>\n      <td>...</td>\n      <td>...</td>\n      <td>...</td>\n      <td>...</td>\n      <td>...</td>\n      <td>...</td>\n      <td>...</td>\n      <td>...</td>\n      <td>...</td>\n      <td>...</td>\n      <td>...</td>\n      <td>...</td>\n      <td>...</td>\n      <td>...</td>\n      <td>...</td>\n      <td>...</td>\n    </tr>\n    <tr>\n      <th>2085372</th>\n      <td>C</td>\n      <td>Dieffenderfer, J; Wilkins, M; Hood, C; Beppler...</td>\n      <td>Dieffenderfer, James; Wilkins, Michael; Hood, ...</td>\n      <td>Towards a Sweat-based Wireless and Wearable El...</td>\n      <td>2016 IEEE SENSORS</td>\n      <td>Proceedings Paper</td>\n      <td>potentiostat; electrochemical; wearable sensin...</td>\n      <td>LACTATE CONCENTRATIONS; BIOSENSORS; BLOOD</td>\n      <td>The analysis of biomarkers within sweat is adv...</td>\n      <td>[Dieffenderfer, James; Wilkins, Michael; Hood,...</td>\n      <td>...</td>\n      <td>9.0</td>\n      <td>2016</td>\n      <td>Engineering, Electrical &amp; Electronic; Remote S...</td>\n      <td>NaN</td>\n      <td>Engineering; Remote Sensing</td>\n      <td>WOS:000399395700065</td>\n      <td>United States, United States, United States, U...</td>\n      <td>IOT</td>\n      <td></td>\n      <td></td>\n    </tr>\n    <tr>\n      <th>2085373</th>\n      <td>C</td>\n      <td>Dinesh, K; Xiong, ML; Adams, J; Dorsey, R; Sha...</td>\n      <td>Dinesh, Karthik; Xiong, Mulin; Adams, Jamie; D...</td>\n      <td>SIGNAL ANALYSIS FOR DETECTING MOTOR SYMPTOMS I...</td>\n      <td>2016 IEEE WESTERN NEW YORK IMAGE AND SIGNAL PR...</td>\n      <td>Proceedings Paper</td>\n      <td>Wearable sensors; Parkinson's; Huntington's; a...</td>\n      <td>NaN</td>\n      <td>We report on a pilot study for signal processi...</td>\n      <td>[Dinesh, Karthik; Sharma, Gaurav] Univ Rochest...</td>\n      <td>...</td>\n      <td>1.0</td>\n      <td>2016</td>\n      <td>Engineering, Electrical &amp; Electronic</td>\n      <td>NaN</td>\n      <td>Engineering</td>\n      <td>WOS:000402630000005</td>\n      <td>United States, United States, United States, U...</td>\n      <td>IOT</td>\n      <td></td>\n      <td></td>\n    </tr>\n    <tr>\n      <th>2085374</th>\n      <td>C</td>\n      <td>Ding, CW; Heidari, S; Wang, YZ; Liu, YP; Hu, JT</td>\n      <td>Ding, Caiwen; Heidari, Soroush; Wang, Yanzhi; ...</td>\n      <td>Multi-Source In-Door Energy Harvesting for Non...</td>\n      <td>2016 IEEE INTERNATIONAL SYMPOSIUM ON CIRCUITS ...</td>\n      <td>Proceedings Paper</td>\n      <td>NaN</td>\n      <td>CONVERTER</td>\n      <td>Due to size, longevity, safety, and recharging...</td>\n      <td>[Ding, Caiwen; Wang, Yanzhi] Syracuse Univ, De...</td>\n      <td>...</td>\n      <td>9.0</td>\n      <td>2016</td>\n      <td>Engineering, Electrical &amp; Electronic</td>\n      <td>NaN</td>\n      <td>Engineering</td>\n      <td>WOS:000390094700044</td>\n      <td>United States, United States, United States, U...</td>\n      <td>IOT</td>\n      <td></td>\n      <td></td>\n    </tr>\n    <tr>\n      <th>2085375</th>\n      <td>C</td>\n      <td>Ding, CW; Li, HJ; Hu, JT; Liu, YP; Wang, YZ</td>\n      <td>Ding, Caiwen; Li, Hongjia; Hu, Jingtong; Liu, ...</td>\n      <td>Dynamic Converter Reconfiguration for Near-Thr...</td>\n      <td>PROCEEDINGS OF THE 34TH IEEE INTERNATIONAL CON...</td>\n      <td>Proceedings Paper</td>\n      <td>Non-volatile processor (NVP); Near-Threshold C...</td>\n      <td>NaN</td>\n      <td>Energy harvesting is becoming a preferred choi...</td>\n      <td>[Ding, Caiwen; Li, Hongjia; Wang, Yanzhi] Syra...</td>\n      <td>...</td>\n      <td>1.0</td>\n      <td>2016</td>\n      <td>Computer Science, Hardware &amp; Architecture; Eng...</td>\n      <td>NaN</td>\n      <td>Computer Science; Engineering</td>\n      <td>WOS:000391829200039</td>\n      <td>United States, United States, United States, U...</td>\n      <td>IOT</td>\n      <td></td>\n      <td></td>\n    </tr>\n    <tr>\n      <th>2085377</th>\n      <td>C</td>\n      <td>Ding, Y; Zilic, Z</td>\n      <td>Ding, Yi (Steven); Zilic, Zeljko</td>\n      <td>ECG Compression for Mobile Sensor Platforms</td>\n      <td>2016 IEEE 13TH INTERNATIONAL CONFERENCE ON WEA...</td>\n      <td>Proceedings Paper</td>\n      <td>NaN</td>\n      <td>NaN</td>\n      <td>This paper presents a low-complexity compressi...</td>\n      <td>[Ding, Yi (Steven); Zilic, Zeljko] McGill Univ...</td>\n      <td>...</td>\n      <td>3.0</td>\n      <td>2016</td>\n      <td>Engineering, Electrical &amp; Electronic; Optics</td>\n      <td>NaN</td>\n      <td>Engineering; Optics</td>\n      <td>WOS:000391251700018</td>\n      <td>Canada, Canada</td>\n      <td>IOT</td>\n      <td></td>\n      <td></td>\n    </tr>\n  </tbody>\n</table>\n<p>1766601 rows × 24 columns</p>\n</div>"
     },
     "execution_count": 27,
     "metadata": {},
     "output_type": "execute_result"
    }
   ],
   "source": [
    "all.drop_duplicates(subset='UT', inplace=True)\n",
    "all"
   ],
   "metadata": {
    "collapsed": false
   }
  },
  {
   "cell_type": "code",
   "execution_count": 28,
   "outputs": [
    {
     "data": {
      "text/plain": "1766601"
     },
     "execution_count": 28,
     "metadata": {},
     "output_type": "execute_result"
    }
   ],
   "source": [
    "lenall = len(all)\n",
    "lenall"
   ],
   "metadata": {
    "collapsed": false
   }
  },
  {
   "cell_type": "code",
   "execution_count": 29,
   "outputs": [
    {
     "data": {
      "text/plain": "1673779"
     },
     "execution_count": 29,
     "metadata": {},
     "output_type": "execute_result"
    }
   ],
   "source": [
    "lenPPA = len(all[all['DT'].isin(['Proceedings Paper', 'Article'])])\n",
    "lenPPA"
   ],
   "metadata": {
    "collapsed": false
   }
  },
  {
   "cell_type": "code",
   "execution_count": 30,
   "outputs": [
    {
     "data": {
      "text/plain": "5.254270771951335"
     },
     "execution_count": 30,
     "metadata": {},
     "output_type": "execute_result"
    }
   ],
   "source": [
    "100 * (lenall-lenPPA) / lenall"
   ],
   "metadata": {
    "collapsed": false
   }
  },
  {
   "cell_type": "code",
   "execution_count": 31,
   "outputs": [
    {
     "data": {
      "text/plain": "count    1.766601e+06\nmean     2.017711e+03\nstd      3.280376e+00\nmin      2.010000e+03\n25%      2.016000e+03\n50%      2.018000e+03\n75%      2.020000e+03\nmax      2.022000e+03\nName: PY, dtype: float64"
     },
     "execution_count": 31,
     "metadata": {},
     "output_type": "execute_result"
    }
   ],
   "source": [
    "all.PY.describe()"
   ],
   "metadata": {
    "collapsed": false
   }
  },
  {
   "cell_type": "code",
   "execution_count": 1,
   "outputs": [],
   "source": [
    "import pandas as pd"
   ],
   "metadata": {
    "collapsed": false
   }
  },
  {
   "cell_type": "code",
   "execution_count": 2,
   "outputs": [
    {
     "data": {
      "text/plain": "        PT                                                 AU  \\\n0        J               Gusiatin, ZM; Kulikowska, D; Klik, B   \n1        J                              Vitko, TG; Suffet, IH   \n2        C                             Ntasiou, M; Andreou, E   \n3        J      Wu, LP; Zhang, SR; Chen, MM; Liu, J; Ding, XD   \n4        C                                          Staicu, D   \n...     ..                                                ...   \n2798083  C  Dieffenderfer, J; Wilkins, M; Hood, C; Beppler...   \n2798084  C  Dinesh, K; Xiong, ML; Adams, J; Dorsey, R; Sha...   \n2798085  C    Ding, CW; Heidari, S; Wang, YZ; Liu, YP; Hu, JT   \n2798086  C        Ding, CW; Li, HJ; Hu, JT; Liu, YP; Wang, YZ   \n2798087  C                                  Ding, Y; Zilic, Z   \n\n                                                        AF  \\\n0        Gusiatin, Zygmunt M.; Kulikowska, Dorota; Klik...   \n1                  Vitko, Tadeo G.; Suffet, Irwin H. (Mel)   \n2                                 Ntasiou, M.; Andreou, E.   \n3        Wu, Lipeng; Zhang, Shirong; Chen, Mengmeng; Li...   \n4                                          Staicu, Daniela   \n...                                                    ...   \n2798083  Dieffenderfer, James; Wilkins, Michael; Hood, ...   \n2798084  Dinesh, Karthik; Xiong, Mulin; Adams, Jamie; D...   \n2798085  Ding, Caiwen; Heidari, Soroush; Wang, Yanzhi; ...   \n2798086  Ding, Caiwen; Li, Hongjia; Hu, Jingtong; Liu, ...   \n2798087                   Ding, Yi (Steven); Zilic, Zeljko   \n\n                                                        TI  \\\n0        New-Generation Washing Agents in Remediation o...   \n1        Corrective factors applied to reduced sulfur c...   \n2        The Standard of Industrial Symbiosis. Environm...   \n3        A sustainable option: Biochar addition can imp...   \n4        Contributions of social entrepreneurship to te...   \n...                                                    ...   \n2798083  Towards a Sweat-based Wireless and Wearable El...   \n2798084  SIGNAL ANALYSIS FOR DETECTING MOTOR SYMPTOMS I...   \n2798085  Multi-Source In-Door Energy Harvesting for Non...   \n2798086  Dynamic Converter Reconfiguration for Near-Thr...   \n2798087        ECG Compression for Mobile Sensor Platforms   \n\n                                                        SO                 DT  \\\n0        INTERNATIONAL JOURNAL OF ENVIRONMENTAL RESEARC...             Review   \n1                               WATER ENVIRONMENT RESEARCH            Article   \n2        SUSTAINABLE SYNERGIES FROM BUILDINGS TO THE UR...  Proceedings Paper   \n3                    ENVIRONMENTAL TECHNOLOGY & INNOVATION            Article   \n4        PROCEEDINGS OF THE INTERNATIONAL CONFERENCE ON...  Proceedings Paper   \n...                                                    ...                ...   \n2798083                                  2016 IEEE SENSORS  Proceedings Paper   \n2798084  2016 IEEE WESTERN NEW YORK IMAGE AND SIGNAL PR...  Proceedings Paper   \n2798085  2016 IEEE INTERNATIONAL SYMPOSIUM ON CIRCUITS ...  Proceedings Paper   \n2798086  PROCEEDINGS OF THE 34TH IEEE INTERNATIONAL CON...  Proceedings Paper   \n2798087  2016 IEEE 13TH INTERNATIONAL CONFERENCE ON WEA...  Proceedings Paper   \n\n                                                        DE  \\\n0        soil washing; soil flushing; heavy metals; soi...   \n1        odor treatment design; odors; reduced sulfur o...   \n2         Industrial; Business; Parks; Symbiosis; Standard   \n3        Biochar; Phosphorus retention; Microbial bioma...   \n4        textile waste prevention; clothing reuse; soci...   \n...                                                    ...   \n2798083  potentiostat; electrochemical; wearable sensin...   \n2798084  Wearable sensors; Parkinson's; Huntington's; a...   \n2798085                                                NaN   \n2798086  Non-volatile processor (NVP); Near-Threshold C...   \n2798087                                                NaN   \n\n                                                        ID  \\\n0        DISSOLVED ORGANIC-MATTER; REMOVE HEAVY-METALS;...   \n1                                                      NaN   \n2                                                      NaN   \n3        AGRICULTURAL SOILS; EXTRACTION METHOD; AVAILAB...   \n4                     ENVIRONMENTAL-IMPACT; FASHION; REUSE   \n...                                                    ...   \n2798083          LACTATE CONCENTRATIONS; BIOSENSORS; BLOOD   \n2798084                                                NaN   \n2798085                                          CONVERTER   \n2798086                                                NaN   \n2798087                                                NaN   \n\n                                                        AB  \\\n0        Soil quality is seriously reduced due to chemi...   \n1        To determine accurately odorant concentrations...   \n2        The siting of an Industrial park with environm...   \n3        Application of straw and its derived biochar h...   \n4        The current system for producing, distributing...   \n...                                                    ...   \n2798083  The analysis of biomarkers within sweat is adv...   \n2798084  We report on a pilot study for signal processi...   \n2798085  Due to size, longevity, safety, and recharging...   \n2798086  Energy harvesting is becoming a preferred choi...   \n2798087  This paper presents a low-complexity compressi...   \n\n                                                        C1  ...    Z9    PY  \\\n0        [Gusiatin, Zygmunt M.; Kulikowska, Dorota; Kli...  ...  16.0  2020   \n1        [Vitko, Tadeo G.] 26362 Via Conchita, Mission ...  ...   2.0  2021   \n2        [Ntasiou, M.; Andreou, E.] Hellen Open Univ, S...  ...   6.0  2017   \n3        [Wu, Lipeng; Zhang, Shirong; Chen, Mengmeng; D...  ...   1.0  2021   \n4        [Staicu, Daniela] Bucharest Univ Econ Studies,...  ...   1.0  2019   \n...                                                    ...  ...   ...   ...   \n2798083  [Dieffenderfer, James; Wilkins, Michael; Hood,...  ...   9.0  2016   \n2798084  [Dinesh, Karthik; Sharma, Gaurav] Univ Rochest...  ...   1.0  2016   \n2798085  [Ding, Caiwen; Wang, Yanzhi] Syracuse Univ, De...  ...   9.0  2016   \n2798086  [Ding, Caiwen; Li, Hongjia; Wang, Yanzhi] Syra...  ...   1.0  2016   \n2798087  [Ding, Yi (Steven); Zilic, Zeljko] McGill Univ...  ...   3.0  2016   \n\n                                                        WC  \\\n0        Environmental Sciences; Public, Environmental ...   \n1        Engineering, Environmental; Environmental Scie...   \n2        Construction & Building Technology; Engineerin...   \n3        Biotechnology & Applied Microbiology; Engineer...   \n4                                                 Business   \n...                                                    ...   \n2798083  Engineering, Electrical & Electronic; Remote S...   \n2798084               Engineering, Electrical & Electronic   \n2798085               Engineering, Electrical & Electronic   \n2798086  Computer Science, Hardware & Architecture; Eng...   \n2798087       Engineering, Electrical & Electronic; Optics   \n\n                                   DI  \\\n0              10.3390/ijerph17176220   \n1                    10.1002/wer.1558   \n2        10.1016/j.proenv.2017.03.157   \n3           10.1016/j.eti.2021.102070   \n4             10.2478/picbe-2019-0009   \n...                               ...   \n2798083                           NaN   \n2798084                           NaN   \n2798085                           NaN   \n2798086                           NaN   \n2798087                           NaN   \n\n                                                        SC  \\\n0        Environmental Sciences & Ecology; Public, Envi...   \n1        Engineering; Environmental Sciences & Ecology;...   \n2        Construction & Building Technology; Engineerin...   \n3        Biotechnology & Applied Microbiology; Engineer...   \n4                                     Business & Economics   \n...                                                    ...   \n2798083                        Engineering; Remote Sensing   \n2798084                                        Engineering   \n2798085                                        Engineering   \n2798086                      Computer Science; Engineering   \n2798087                                Engineering; Optics   \n\n                          UT  \\\n0        WOS:000570328900001   \n1        WOS:000635505300001   \n2        WOS:000410925400094   \n3        WOS:000744257400019   \n4        WOS:000501603000009   \n...                      ...   \n2798083  WOS:000399395700065   \n2798084  WOS:000402630000005   \n2798085  WOS:000390094700044   \n2798086  WOS:000391829200039   \n2798087  WOS:000391251700018   \n\n                                                        CN lst_DT  \\\n0                                   Poland, Poland, Poland     {}   \n1                             United States, United States     {}   \n2                                           Greece, Greece     {}   \n3                       China, China, China, China, Canada     {}   \n4                                                  Romania     {}   \n...                                                    ...    ...   \n2798083  United States, United States, United States, U...  {IOT}   \n2798084  United States, United States, United States, U...  {IOT}   \n2798085  United States, United States, United States, U...  {IOT}   \n2798086  United States, United States, United States, U...  {IOT}   \n2798087                                     Canada, Canada  {IOT}   \n\n           lst_Target         lst_SDG  \n0              {12.5}         {SDG12}  \n1              {12.5}         {SDG12}  \n2              {12.5}         {SDG12}  \n3              {12.5}         {SDG12}  \n4        {12.5, 13.0}  {SDG13, SDG12}  \n...               ...             ...  \n2798083            {}              {}  \n2798084            {}              {}  \n2798085            {}              {}  \n2798086            {}              {}  \n2798087            {}              {}  \n\n[2798088 rows x 24 columns]",
      "text/html": "<div>\n<style scoped>\n    .dataframe tbody tr th:only-of-type {\n        vertical-align: middle;\n    }\n\n    .dataframe tbody tr th {\n        vertical-align: top;\n    }\n\n    .dataframe thead th {\n        text-align: right;\n    }\n</style>\n<table border=\"1\" class=\"dataframe\">\n  <thead>\n    <tr style=\"text-align: right;\">\n      <th></th>\n      <th>PT</th>\n      <th>AU</th>\n      <th>AF</th>\n      <th>TI</th>\n      <th>SO</th>\n      <th>DT</th>\n      <th>DE</th>\n      <th>ID</th>\n      <th>AB</th>\n      <th>C1</th>\n      <th>...</th>\n      <th>Z9</th>\n      <th>PY</th>\n      <th>WC</th>\n      <th>DI</th>\n      <th>SC</th>\n      <th>UT</th>\n      <th>CN</th>\n      <th>lst_DT</th>\n      <th>lst_Target</th>\n      <th>lst_SDG</th>\n    </tr>\n  </thead>\n  <tbody>\n    <tr>\n      <th>0</th>\n      <td>J</td>\n      <td>Gusiatin, ZM; Kulikowska, D; Klik, B</td>\n      <td>Gusiatin, Zygmunt M.; Kulikowska, Dorota; Klik...</td>\n      <td>New-Generation Washing Agents in Remediation o...</td>\n      <td>INTERNATIONAL JOURNAL OF ENVIRONMENTAL RESEARC...</td>\n      <td>Review</td>\n      <td>soil washing; soil flushing; heavy metals; soi...</td>\n      <td>DISSOLVED ORGANIC-MATTER; REMOVE HEAVY-METALS;...</td>\n      <td>Soil quality is seriously reduced due to chemi...</td>\n      <td>[Gusiatin, Zygmunt M.; Kulikowska, Dorota; Kli...</td>\n      <td>...</td>\n      <td>16.0</td>\n      <td>2020</td>\n      <td>Environmental Sciences; Public, Environmental ...</td>\n      <td>10.3390/ijerph17176220</td>\n      <td>Environmental Sciences &amp; Ecology; Public, Envi...</td>\n      <td>WOS:000570328900001</td>\n      <td>Poland, Poland, Poland</td>\n      <td>{}</td>\n      <td>{12.5}</td>\n      <td>{SDG12}</td>\n    </tr>\n    <tr>\n      <th>1</th>\n      <td>J</td>\n      <td>Vitko, TG; Suffet, IH</td>\n      <td>Vitko, Tadeo G.; Suffet, Irwin H. (Mel)</td>\n      <td>Corrective factors applied to reduced sulfur c...</td>\n      <td>WATER ENVIRONMENT RESEARCH</td>\n      <td>Article</td>\n      <td>odor treatment design; odors; reduced sulfur o...</td>\n      <td>NaN</td>\n      <td>To determine accurately odorant concentrations...</td>\n      <td>[Vitko, Tadeo G.] 26362 Via Conchita, Mission ...</td>\n      <td>...</td>\n      <td>2.0</td>\n      <td>2021</td>\n      <td>Engineering, Environmental; Environmental Scie...</td>\n      <td>10.1002/wer.1558</td>\n      <td>Engineering; Environmental Sciences &amp; Ecology;...</td>\n      <td>WOS:000635505300001</td>\n      <td>United States, United States</td>\n      <td>{}</td>\n      <td>{12.5}</td>\n      <td>{SDG12}</td>\n    </tr>\n    <tr>\n      <th>2</th>\n      <td>C</td>\n      <td>Ntasiou, M; Andreou, E</td>\n      <td>Ntasiou, M.; Andreou, E.</td>\n      <td>The Standard of Industrial Symbiosis. Environm...</td>\n      <td>SUSTAINABLE SYNERGIES FROM BUILDINGS TO THE UR...</td>\n      <td>Proceedings Paper</td>\n      <td>Industrial; Business; Parks; Symbiosis; Standard</td>\n      <td>NaN</td>\n      <td>The siting of an Industrial park with environm...</td>\n      <td>[Ntasiou, M.; Andreou, E.] Hellen Open Univ, S...</td>\n      <td>...</td>\n      <td>6.0</td>\n      <td>2017</td>\n      <td>Construction &amp; Building Technology; Engineerin...</td>\n      <td>10.1016/j.proenv.2017.03.157</td>\n      <td>Construction &amp; Building Technology; Engineerin...</td>\n      <td>WOS:000410925400094</td>\n      <td>Greece, Greece</td>\n      <td>{}</td>\n      <td>{12.5}</td>\n      <td>{SDG12}</td>\n    </tr>\n    <tr>\n      <th>3</th>\n      <td>J</td>\n      <td>Wu, LP; Zhang, SR; Chen, MM; Liu, J; Ding, XD</td>\n      <td>Wu, Lipeng; Zhang, Shirong; Chen, Mengmeng; Li...</td>\n      <td>A sustainable option: Biochar addition can imp...</td>\n      <td>ENVIRONMENTAL TECHNOLOGY &amp; INNOVATION</td>\n      <td>Article</td>\n      <td>Biochar; Phosphorus retention; Microbial bioma...</td>\n      <td>AGRICULTURAL SOILS; EXTRACTION METHOD; AVAILAB...</td>\n      <td>Application of straw and its derived biochar h...</td>\n      <td>[Wu, Lipeng; Zhang, Shirong; Chen, Mengmeng; D...</td>\n      <td>...</td>\n      <td>1.0</td>\n      <td>2021</td>\n      <td>Biotechnology &amp; Applied Microbiology; Engineer...</td>\n      <td>10.1016/j.eti.2021.102070</td>\n      <td>Biotechnology &amp; Applied Microbiology; Engineer...</td>\n      <td>WOS:000744257400019</td>\n      <td>China, China, China, China, Canada</td>\n      <td>{}</td>\n      <td>{12.5}</td>\n      <td>{SDG12}</td>\n    </tr>\n    <tr>\n      <th>4</th>\n      <td>C</td>\n      <td>Staicu, D</td>\n      <td>Staicu, Daniela</td>\n      <td>Contributions of social entrepreneurship to te...</td>\n      <td>PROCEEDINGS OF THE INTERNATIONAL CONFERENCE ON...</td>\n      <td>Proceedings Paper</td>\n      <td>textile waste prevention; clothing reuse; soci...</td>\n      <td>ENVIRONMENTAL-IMPACT; FASHION; REUSE</td>\n      <td>The current system for producing, distributing...</td>\n      <td>[Staicu, Daniela] Bucharest Univ Econ Studies,...</td>\n      <td>...</td>\n      <td>1.0</td>\n      <td>2019</td>\n      <td>Business</td>\n      <td>10.2478/picbe-2019-0009</td>\n      <td>Business &amp; Economics</td>\n      <td>WOS:000501603000009</td>\n      <td>Romania</td>\n      <td>{}</td>\n      <td>{12.5, 13.0}</td>\n      <td>{SDG13, SDG12}</td>\n    </tr>\n    <tr>\n      <th>...</th>\n      <td>...</td>\n      <td>...</td>\n      <td>...</td>\n      <td>...</td>\n      <td>...</td>\n      <td>...</td>\n      <td>...</td>\n      <td>...</td>\n      <td>...</td>\n      <td>...</td>\n      <td>...</td>\n      <td>...</td>\n      <td>...</td>\n      <td>...</td>\n      <td>...</td>\n      <td>...</td>\n      <td>...</td>\n      <td>...</td>\n      <td>...</td>\n      <td>...</td>\n      <td>...</td>\n    </tr>\n    <tr>\n      <th>2798083</th>\n      <td>C</td>\n      <td>Dieffenderfer, J; Wilkins, M; Hood, C; Beppler...</td>\n      <td>Dieffenderfer, James; Wilkins, Michael; Hood, ...</td>\n      <td>Towards a Sweat-based Wireless and Wearable El...</td>\n      <td>2016 IEEE SENSORS</td>\n      <td>Proceedings Paper</td>\n      <td>potentiostat; electrochemical; wearable sensin...</td>\n      <td>LACTATE CONCENTRATIONS; BIOSENSORS; BLOOD</td>\n      <td>The analysis of biomarkers within sweat is adv...</td>\n      <td>[Dieffenderfer, James; Wilkins, Michael; Hood,...</td>\n      <td>...</td>\n      <td>9.0</td>\n      <td>2016</td>\n      <td>Engineering, Electrical &amp; Electronic; Remote S...</td>\n      <td>NaN</td>\n      <td>Engineering; Remote Sensing</td>\n      <td>WOS:000399395700065</td>\n      <td>United States, United States, United States, U...</td>\n      <td>{IOT}</td>\n      <td>{}</td>\n      <td>{}</td>\n    </tr>\n    <tr>\n      <th>2798084</th>\n      <td>C</td>\n      <td>Dinesh, K; Xiong, ML; Adams, J; Dorsey, R; Sha...</td>\n      <td>Dinesh, Karthik; Xiong, Mulin; Adams, Jamie; D...</td>\n      <td>SIGNAL ANALYSIS FOR DETECTING MOTOR SYMPTOMS I...</td>\n      <td>2016 IEEE WESTERN NEW YORK IMAGE AND SIGNAL PR...</td>\n      <td>Proceedings Paper</td>\n      <td>Wearable sensors; Parkinson's; Huntington's; a...</td>\n      <td>NaN</td>\n      <td>We report on a pilot study for signal processi...</td>\n      <td>[Dinesh, Karthik; Sharma, Gaurav] Univ Rochest...</td>\n      <td>...</td>\n      <td>1.0</td>\n      <td>2016</td>\n      <td>Engineering, Electrical &amp; Electronic</td>\n      <td>NaN</td>\n      <td>Engineering</td>\n      <td>WOS:000402630000005</td>\n      <td>United States, United States, United States, U...</td>\n      <td>{IOT}</td>\n      <td>{}</td>\n      <td>{}</td>\n    </tr>\n    <tr>\n      <th>2798085</th>\n      <td>C</td>\n      <td>Ding, CW; Heidari, S; Wang, YZ; Liu, YP; Hu, JT</td>\n      <td>Ding, Caiwen; Heidari, Soroush; Wang, Yanzhi; ...</td>\n      <td>Multi-Source In-Door Energy Harvesting for Non...</td>\n      <td>2016 IEEE INTERNATIONAL SYMPOSIUM ON CIRCUITS ...</td>\n      <td>Proceedings Paper</td>\n      <td>NaN</td>\n      <td>CONVERTER</td>\n      <td>Due to size, longevity, safety, and recharging...</td>\n      <td>[Ding, Caiwen; Wang, Yanzhi] Syracuse Univ, De...</td>\n      <td>...</td>\n      <td>9.0</td>\n      <td>2016</td>\n      <td>Engineering, Electrical &amp; Electronic</td>\n      <td>NaN</td>\n      <td>Engineering</td>\n      <td>WOS:000390094700044</td>\n      <td>United States, United States, United States, U...</td>\n      <td>{IOT}</td>\n      <td>{}</td>\n      <td>{}</td>\n    </tr>\n    <tr>\n      <th>2798086</th>\n      <td>C</td>\n      <td>Ding, CW; Li, HJ; Hu, JT; Liu, YP; Wang, YZ</td>\n      <td>Ding, Caiwen; Li, Hongjia; Hu, Jingtong; Liu, ...</td>\n      <td>Dynamic Converter Reconfiguration for Near-Thr...</td>\n      <td>PROCEEDINGS OF THE 34TH IEEE INTERNATIONAL CON...</td>\n      <td>Proceedings Paper</td>\n      <td>Non-volatile processor (NVP); Near-Threshold C...</td>\n      <td>NaN</td>\n      <td>Energy harvesting is becoming a preferred choi...</td>\n      <td>[Ding, Caiwen; Li, Hongjia; Wang, Yanzhi] Syra...</td>\n      <td>...</td>\n      <td>1.0</td>\n      <td>2016</td>\n      <td>Computer Science, Hardware &amp; Architecture; Eng...</td>\n      <td>NaN</td>\n      <td>Computer Science; Engineering</td>\n      <td>WOS:000391829200039</td>\n      <td>United States, United States, United States, U...</td>\n      <td>{IOT}</td>\n      <td>{}</td>\n      <td>{}</td>\n    </tr>\n    <tr>\n      <th>2798087</th>\n      <td>C</td>\n      <td>Ding, Y; Zilic, Z</td>\n      <td>Ding, Yi (Steven); Zilic, Zeljko</td>\n      <td>ECG Compression for Mobile Sensor Platforms</td>\n      <td>2016 IEEE 13TH INTERNATIONAL CONFERENCE ON WEA...</td>\n      <td>Proceedings Paper</td>\n      <td>NaN</td>\n      <td>NaN</td>\n      <td>This paper presents a low-complexity compressi...</td>\n      <td>[Ding, Yi (Steven); Zilic, Zeljko] McGill Univ...</td>\n      <td>...</td>\n      <td>3.0</td>\n      <td>2016</td>\n      <td>Engineering, Electrical &amp; Electronic; Optics</td>\n      <td>NaN</td>\n      <td>Engineering; Optics</td>\n      <td>WOS:000391251700018</td>\n      <td>Canada, Canada</td>\n      <td>{IOT}</td>\n      <td>{}</td>\n      <td>{}</td>\n    </tr>\n  </tbody>\n</table>\n<p>2798088 rows × 24 columns</p>\n</div>"
     },
     "execution_count": 2,
     "metadata": {},
     "output_type": "execute_result"
    }
   ],
   "source": [
    "path = \"../data/dataframes/all_nodups.pkl\"\n",
    "df = pd.read_pickle(path)\n",
    "df"
   ],
   "metadata": {
    "collapsed": false
   }
  },
  {
   "cell_type": "code",
   "execution_count": 3,
   "outputs": [
    {
     "data": {
      "text/plain": "  PT                                             AU  \\\n0  J           Gusiatin, ZM; Kulikowska, D; Klik, B   \n1  J                          Vitko, TG; Suffet, IH   \n2  C                         Ntasiou, M; Andreou, E   \n3  J  Wu, LP; Zhang, SR; Chen, MM; Liu, J; Ding, XD   \n4  C                                      Staicu, D   \n\n                                                  AF  \\\n0  Gusiatin, Zygmunt M.; Kulikowska, Dorota; Klik...   \n1            Vitko, Tadeo G.; Suffet, Irwin H. (Mel)   \n2                           Ntasiou, M.; Andreou, E.   \n3  Wu, Lipeng; Zhang, Shirong; Chen, Mengmeng; Li...   \n4                                    Staicu, Daniela   \n\n                                                  TI  \\\n0  New-Generation Washing Agents in Remediation o...   \n1  Corrective factors applied to reduced sulfur c...   \n2  The Standard of Industrial Symbiosis. Environm...   \n3  A sustainable option: Biochar addition can imp...   \n4  Contributions of social entrepreneurship to te...   \n\n                                                  SO                 DT  \\\n0  INTERNATIONAL JOURNAL OF ENVIRONMENTAL RESEARC...             Review   \n1                         WATER ENVIRONMENT RESEARCH            Article   \n2  SUSTAINABLE SYNERGIES FROM BUILDINGS TO THE UR...  Proceedings Paper   \n3              ENVIRONMENTAL TECHNOLOGY & INNOVATION            Article   \n4  PROCEEDINGS OF THE INTERNATIONAL CONFERENCE ON...  Proceedings Paper   \n\n                                                  DE  \\\n0  soil washing; soil flushing; heavy metals; soi...   \n1  odor treatment design; odors; reduced sulfur o...   \n2   Industrial; Business; Parks; Symbiosis; Standard   \n3  Biochar; Phosphorus retention; Microbial bioma...   \n4  textile waste prevention; clothing reuse; soci...   \n\n                                                  ID  \\\n0  DISSOLVED ORGANIC-MATTER; REMOVE HEAVY-METALS;...   \n1                                                NaN   \n2                                                NaN   \n3  AGRICULTURAL SOILS; EXTRACTION METHOD; AVAILAB...   \n4               ENVIRONMENTAL-IMPACT; FASHION; REUSE   \n\n                                                  AB  \\\n0  Soil quality is seriously reduced due to chemi...   \n1  To determine accurately odorant concentrations...   \n2  The siting of an Industrial park with environm...   \n3  Application of straw and its derived biochar h...   \n4  The current system for producing, distributing...   \n\n                                                  C1  ...    Z9    PY  \\\n0  [Gusiatin, Zygmunt M.; Kulikowska, Dorota; Kli...  ...  16.0  2020   \n1  [Vitko, Tadeo G.] 26362 Via Conchita, Mission ...  ...   2.0  2021   \n2  [Ntasiou, M.; Andreou, E.] Hellen Open Univ, S...  ...   6.0  2017   \n3  [Wu, Lipeng; Zhang, Shirong; Chen, Mengmeng; D...  ...   1.0  2021   \n4  [Staicu, Daniela] Bucharest Univ Econ Studies,...  ...   1.0  2019   \n\n                                                  WC  \\\n0  Environmental Sciences; Public, Environmental ...   \n1  Engineering, Environmental; Environmental Scie...   \n2  Construction & Building Technology; Engineerin...   \n3  Biotechnology & Applied Microbiology; Engineer...   \n4                                           Business   \n\n                             DI  \\\n0        10.3390/ijerph17176220   \n1              10.1002/wer.1558   \n2  10.1016/j.proenv.2017.03.157   \n3     10.1016/j.eti.2021.102070   \n4       10.2478/picbe-2019-0009   \n\n                                                  SC                   UT  \\\n0  Environmental Sciences & Ecology; Public, Envi...  WOS:000570328900001   \n1  Engineering; Environmental Sciences & Ecology;...  WOS:000635505300001   \n2  Construction & Building Technology; Engineerin...  WOS:000410925400094   \n3  Biotechnology & Applied Microbiology; Engineer...  WOS:000744257400019   \n4                               Business & Economics  WOS:000501603000009   \n\n                                   CN lst_DT    lst_Target         lst_SDG  \n0              Poland, Poland, Poland     {}        {12.5}         {SDG12}  \n1        United States, United States     {}        {12.5}         {SDG12}  \n2                      Greece, Greece     {}        {12.5}         {SDG12}  \n3  China, China, China, China, Canada     {}        {12.5}         {SDG12}  \n4                             Romania     {}  {12.5, 13.0}  {SDG13, SDG12}  \n\n[5 rows x 24 columns]",
      "text/html": "<div>\n<style scoped>\n    .dataframe tbody tr th:only-of-type {\n        vertical-align: middle;\n    }\n\n    .dataframe tbody tr th {\n        vertical-align: top;\n    }\n\n    .dataframe thead th {\n        text-align: right;\n    }\n</style>\n<table border=\"1\" class=\"dataframe\">\n  <thead>\n    <tr style=\"text-align: right;\">\n      <th></th>\n      <th>PT</th>\n      <th>AU</th>\n      <th>AF</th>\n      <th>TI</th>\n      <th>SO</th>\n      <th>DT</th>\n      <th>DE</th>\n      <th>ID</th>\n      <th>AB</th>\n      <th>C1</th>\n      <th>...</th>\n      <th>Z9</th>\n      <th>PY</th>\n      <th>WC</th>\n      <th>DI</th>\n      <th>SC</th>\n      <th>UT</th>\n      <th>CN</th>\n      <th>lst_DT</th>\n      <th>lst_Target</th>\n      <th>lst_SDG</th>\n    </tr>\n  </thead>\n  <tbody>\n    <tr>\n      <th>0</th>\n      <td>J</td>\n      <td>Gusiatin, ZM; Kulikowska, D; Klik, B</td>\n      <td>Gusiatin, Zygmunt M.; Kulikowska, Dorota; Klik...</td>\n      <td>New-Generation Washing Agents in Remediation o...</td>\n      <td>INTERNATIONAL JOURNAL OF ENVIRONMENTAL RESEARC...</td>\n      <td>Review</td>\n      <td>soil washing; soil flushing; heavy metals; soi...</td>\n      <td>DISSOLVED ORGANIC-MATTER; REMOVE HEAVY-METALS;...</td>\n      <td>Soil quality is seriously reduced due to chemi...</td>\n      <td>[Gusiatin, Zygmunt M.; Kulikowska, Dorota; Kli...</td>\n      <td>...</td>\n      <td>16.0</td>\n      <td>2020</td>\n      <td>Environmental Sciences; Public, Environmental ...</td>\n      <td>10.3390/ijerph17176220</td>\n      <td>Environmental Sciences &amp; Ecology; Public, Envi...</td>\n      <td>WOS:000570328900001</td>\n      <td>Poland, Poland, Poland</td>\n      <td>{}</td>\n      <td>{12.5}</td>\n      <td>{SDG12}</td>\n    </tr>\n    <tr>\n      <th>1</th>\n      <td>J</td>\n      <td>Vitko, TG; Suffet, IH</td>\n      <td>Vitko, Tadeo G.; Suffet, Irwin H. (Mel)</td>\n      <td>Corrective factors applied to reduced sulfur c...</td>\n      <td>WATER ENVIRONMENT RESEARCH</td>\n      <td>Article</td>\n      <td>odor treatment design; odors; reduced sulfur o...</td>\n      <td>NaN</td>\n      <td>To determine accurately odorant concentrations...</td>\n      <td>[Vitko, Tadeo G.] 26362 Via Conchita, Mission ...</td>\n      <td>...</td>\n      <td>2.0</td>\n      <td>2021</td>\n      <td>Engineering, Environmental; Environmental Scie...</td>\n      <td>10.1002/wer.1558</td>\n      <td>Engineering; Environmental Sciences &amp; Ecology;...</td>\n      <td>WOS:000635505300001</td>\n      <td>United States, United States</td>\n      <td>{}</td>\n      <td>{12.5}</td>\n      <td>{SDG12}</td>\n    </tr>\n    <tr>\n      <th>2</th>\n      <td>C</td>\n      <td>Ntasiou, M; Andreou, E</td>\n      <td>Ntasiou, M.; Andreou, E.</td>\n      <td>The Standard of Industrial Symbiosis. Environm...</td>\n      <td>SUSTAINABLE SYNERGIES FROM BUILDINGS TO THE UR...</td>\n      <td>Proceedings Paper</td>\n      <td>Industrial; Business; Parks; Symbiosis; Standard</td>\n      <td>NaN</td>\n      <td>The siting of an Industrial park with environm...</td>\n      <td>[Ntasiou, M.; Andreou, E.] Hellen Open Univ, S...</td>\n      <td>...</td>\n      <td>6.0</td>\n      <td>2017</td>\n      <td>Construction &amp; Building Technology; Engineerin...</td>\n      <td>10.1016/j.proenv.2017.03.157</td>\n      <td>Construction &amp; Building Technology; Engineerin...</td>\n      <td>WOS:000410925400094</td>\n      <td>Greece, Greece</td>\n      <td>{}</td>\n      <td>{12.5}</td>\n      <td>{SDG12}</td>\n    </tr>\n    <tr>\n      <th>3</th>\n      <td>J</td>\n      <td>Wu, LP; Zhang, SR; Chen, MM; Liu, J; Ding, XD</td>\n      <td>Wu, Lipeng; Zhang, Shirong; Chen, Mengmeng; Li...</td>\n      <td>A sustainable option: Biochar addition can imp...</td>\n      <td>ENVIRONMENTAL TECHNOLOGY &amp; INNOVATION</td>\n      <td>Article</td>\n      <td>Biochar; Phosphorus retention; Microbial bioma...</td>\n      <td>AGRICULTURAL SOILS; EXTRACTION METHOD; AVAILAB...</td>\n      <td>Application of straw and its derived biochar h...</td>\n      <td>[Wu, Lipeng; Zhang, Shirong; Chen, Mengmeng; D...</td>\n      <td>...</td>\n      <td>1.0</td>\n      <td>2021</td>\n      <td>Biotechnology &amp; Applied Microbiology; Engineer...</td>\n      <td>10.1016/j.eti.2021.102070</td>\n      <td>Biotechnology &amp; Applied Microbiology; Engineer...</td>\n      <td>WOS:000744257400019</td>\n      <td>China, China, China, China, Canada</td>\n      <td>{}</td>\n      <td>{12.5}</td>\n      <td>{SDG12}</td>\n    </tr>\n    <tr>\n      <th>4</th>\n      <td>C</td>\n      <td>Staicu, D</td>\n      <td>Staicu, Daniela</td>\n      <td>Contributions of social entrepreneurship to te...</td>\n      <td>PROCEEDINGS OF THE INTERNATIONAL CONFERENCE ON...</td>\n      <td>Proceedings Paper</td>\n      <td>textile waste prevention; clothing reuse; soci...</td>\n      <td>ENVIRONMENTAL-IMPACT; FASHION; REUSE</td>\n      <td>The current system for producing, distributing...</td>\n      <td>[Staicu, Daniela] Bucharest Univ Econ Studies,...</td>\n      <td>...</td>\n      <td>1.0</td>\n      <td>2019</td>\n      <td>Business</td>\n      <td>10.2478/picbe-2019-0009</td>\n      <td>Business &amp; Economics</td>\n      <td>WOS:000501603000009</td>\n      <td>Romania</td>\n      <td>{}</td>\n      <td>{12.5, 13.0}</td>\n      <td>{SDG13, SDG12}</td>\n    </tr>\n  </tbody>\n</table>\n<p>5 rows × 24 columns</p>\n</div>"
     },
     "execution_count": 3,
     "metadata": {},
     "output_type": "execute_result"
    }
   ],
   "source": [
    "test = df.head(5)\n",
    "test"
   ],
   "metadata": {
    "collapsed": false
   }
  },
  {
   "cell_type": "code",
   "execution_count": 43,
   "outputs": [
    {
     "data": {
      "text/plain": "['PT',\n 'AU',\n 'AF',\n 'TI',\n 'SO',\n 'DT',\n 'DE',\n 'ID',\n 'AB',\n 'C1',\n 'RP',\n 'EM',\n 'NR',\n 'TC',\n 'Z9',\n 'PY',\n 'WC',\n 'DI',\n 'SC',\n 'UT',\n 'CN',\n 'lst_Target',\n 'SDG',\n 'DST',\n 'Intersection',\n 'Economy',\n 'Society',\n 'Environment',\n 'SDG1',\n 'SDG2',\n 'SDG3',\n 'SDG4',\n 'SDG5',\n 'SDG6',\n 'SDG7',\n 'SDG8',\n 'SDG9',\n 'SDG10',\n 'SDG11',\n 'SDG12',\n 'SDG13',\n 'SDG14',\n 'SDG15',\n 'SDG16',\n 'SDG17',\n 'additive_manufacturing',\n 'AI',\n 'big_data',\n 'blockchain',\n 'computing_infrastructure',\n 'IOT',\n 'robotics']"
     },
     "execution_count": 43,
     "metadata": {},
     "output_type": "execute_result"
    }
   ],
   "source": [
    "import copy\n",
    "col = list(df.columns)\n",
    "col[23] = 'DST'\n",
    "col"
   ],
   "metadata": {
    "collapsed": false
   }
  },
  {
   "cell_type": "code",
   "execution_count": 45,
   "outputs": [
    {
     "data": {
      "text/plain": "  PT                                             AU  \\\n0  J           Gusiatin, ZM; Kulikowska, D; Klik, B   \n1  J                          Vitko, TG; Suffet, IH   \n2  C                         Ntasiou, M; Andreou, E   \n3  J  Wu, LP; Zhang, SR; Chen, MM; Liu, J; Ding, XD   \n4  C                                      Staicu, D   \n\n                                                  AF  \\\n0  Gusiatin, Zygmunt M.; Kulikowska, Dorota; Klik...   \n1            Vitko, Tadeo G.; Suffet, Irwin H. (Mel)   \n2                           Ntasiou, M.; Andreou, E.   \n3  Wu, Lipeng; Zhang, Shirong; Chen, Mengmeng; Li...   \n4                                    Staicu, Daniela   \n\n                                                  TI  \\\n0  New-Generation Washing Agents in Remediation o...   \n1  Corrective factors applied to reduced sulfur c...   \n2  The Standard of Industrial Symbiosis. Environm...   \n3  A sustainable option: Biochar addition can imp...   \n4  Contributions of social entrepreneurship to te...   \n\n                                                  SO     DT  \\\n0  INTERNATIONAL JOURNAL OF ENVIRONMENTAL RESEARC...  False   \n1                         WATER ENVIRONMENT RESEARCH  False   \n2  SUSTAINABLE SYNERGIES FROM BUILDINGS TO THE UR...  False   \n3              ENVIRONMENTAL TECHNOLOGY & INNOVATION  False   \n4  PROCEEDINGS OF THE INTERNATIONAL CONFERENCE ON...  False   \n\n                                                  DE  \\\n0  soil washing; soil flushing; heavy metals; soi...   \n1  odor treatment design; odors; reduced sulfur o...   \n2   Industrial; Business; Parks; Symbiosis; Standard   \n3  Biochar; Phosphorus retention; Microbial bioma...   \n4  textile waste prevention; clothing reuse; soci...   \n\n                                                  ID  \\\n0  DISSOLVED ORGANIC-MATTER; REMOVE HEAVY-METALS;...   \n1                                                NaN   \n2                                                NaN   \n3  AGRICULTURAL SOILS; EXTRACTION METHOD; AVAILAB...   \n4               ENVIRONMENTAL-IMPACT; FASHION; REUSE   \n\n                                                  AB  \\\n0  Soil quality is seriously reduced due to chemi...   \n1  To determine accurately odorant concentrations...   \n2  The siting of an Industrial park with environm...   \n3  Application of straw and its derived biochar h...   \n4  The current system for producing, distributing...   \n\n                                                  C1  ...  SDG15  SDG16  \\\n0  [Gusiatin, Zygmunt M.; Kulikowska, Dorota; Kli...  ...  False  False   \n1  [Vitko, Tadeo G.] 26362 Via Conchita, Mission ...  ...  False  False   \n2  [Ntasiou, M.; Andreou, E.] Hellen Open Univ, S...  ...  False  False   \n3  [Wu, Lipeng; Zhang, Shirong; Chen, Mengmeng; D...  ...  False  False   \n4  [Staicu, Daniela] Bucharest Univ Econ Studies,...  ...  False  False   \n\n   SDG17  additive_manufacturing     AI  big_data blockchain  \\\n0  False                   False  False     False      False   \n1  False                   False  False     False      False   \n2  False                   False  False     False      False   \n3  False                   False  False     False      False   \n4  False                   False  False     False      False   \n\n  computing_infrastructure    IOT robotics  \n0                    False  False    False  \n1                    False  False    False  \n2                    False  False    False  \n3                    False  False    False  \n4                    False  False    False  \n\n[5 rows x 52 columns]",
      "text/html": "<div>\n<style scoped>\n    .dataframe tbody tr th:only-of-type {\n        vertical-align: middle;\n    }\n\n    .dataframe tbody tr th {\n        vertical-align: top;\n    }\n\n    .dataframe thead th {\n        text-align: right;\n    }\n</style>\n<table border=\"1\" class=\"dataframe\">\n  <thead>\n    <tr style=\"text-align: right;\">\n      <th></th>\n      <th>PT</th>\n      <th>AU</th>\n      <th>AF</th>\n      <th>TI</th>\n      <th>SO</th>\n      <th>DT</th>\n      <th>DE</th>\n      <th>ID</th>\n      <th>AB</th>\n      <th>C1</th>\n      <th>...</th>\n      <th>SDG15</th>\n      <th>SDG16</th>\n      <th>SDG17</th>\n      <th>additive_manufacturing</th>\n      <th>AI</th>\n      <th>big_data</th>\n      <th>blockchain</th>\n      <th>computing_infrastructure</th>\n      <th>IOT</th>\n      <th>robotics</th>\n    </tr>\n  </thead>\n  <tbody>\n    <tr>\n      <th>0</th>\n      <td>J</td>\n      <td>Gusiatin, ZM; Kulikowska, D; Klik, B</td>\n      <td>Gusiatin, Zygmunt M.; Kulikowska, Dorota; Klik...</td>\n      <td>New-Generation Washing Agents in Remediation o...</td>\n      <td>INTERNATIONAL JOURNAL OF ENVIRONMENTAL RESEARC...</td>\n      <td>False</td>\n      <td>soil washing; soil flushing; heavy metals; soi...</td>\n      <td>DISSOLVED ORGANIC-MATTER; REMOVE HEAVY-METALS;...</td>\n      <td>Soil quality is seriously reduced due to chemi...</td>\n      <td>[Gusiatin, Zygmunt M.; Kulikowska, Dorota; Kli...</td>\n      <td>...</td>\n      <td>False</td>\n      <td>False</td>\n      <td>False</td>\n      <td>False</td>\n      <td>False</td>\n      <td>False</td>\n      <td>False</td>\n      <td>False</td>\n      <td>False</td>\n      <td>False</td>\n    </tr>\n    <tr>\n      <th>1</th>\n      <td>J</td>\n      <td>Vitko, TG; Suffet, IH</td>\n      <td>Vitko, Tadeo G.; Suffet, Irwin H. (Mel)</td>\n      <td>Corrective factors applied to reduced sulfur c...</td>\n      <td>WATER ENVIRONMENT RESEARCH</td>\n      <td>False</td>\n      <td>odor treatment design; odors; reduced sulfur o...</td>\n      <td>NaN</td>\n      <td>To determine accurately odorant concentrations...</td>\n      <td>[Vitko, Tadeo G.] 26362 Via Conchita, Mission ...</td>\n      <td>...</td>\n      <td>False</td>\n      <td>False</td>\n      <td>False</td>\n      <td>False</td>\n      <td>False</td>\n      <td>False</td>\n      <td>False</td>\n      <td>False</td>\n      <td>False</td>\n      <td>False</td>\n    </tr>\n    <tr>\n      <th>2</th>\n      <td>C</td>\n      <td>Ntasiou, M; Andreou, E</td>\n      <td>Ntasiou, M.; Andreou, E.</td>\n      <td>The Standard of Industrial Symbiosis. Environm...</td>\n      <td>SUSTAINABLE SYNERGIES FROM BUILDINGS TO THE UR...</td>\n      <td>False</td>\n      <td>Industrial; Business; Parks; Symbiosis; Standard</td>\n      <td>NaN</td>\n      <td>The siting of an Industrial park with environm...</td>\n      <td>[Ntasiou, M.; Andreou, E.] Hellen Open Univ, S...</td>\n      <td>...</td>\n      <td>False</td>\n      <td>False</td>\n      <td>False</td>\n      <td>False</td>\n      <td>False</td>\n      <td>False</td>\n      <td>False</td>\n      <td>False</td>\n      <td>False</td>\n      <td>False</td>\n    </tr>\n    <tr>\n      <th>3</th>\n      <td>J</td>\n      <td>Wu, LP; Zhang, SR; Chen, MM; Liu, J; Ding, XD</td>\n      <td>Wu, Lipeng; Zhang, Shirong; Chen, Mengmeng; Li...</td>\n      <td>A sustainable option: Biochar addition can imp...</td>\n      <td>ENVIRONMENTAL TECHNOLOGY &amp; INNOVATION</td>\n      <td>False</td>\n      <td>Biochar; Phosphorus retention; Microbial bioma...</td>\n      <td>AGRICULTURAL SOILS; EXTRACTION METHOD; AVAILAB...</td>\n      <td>Application of straw and its derived biochar h...</td>\n      <td>[Wu, Lipeng; Zhang, Shirong; Chen, Mengmeng; D...</td>\n      <td>...</td>\n      <td>False</td>\n      <td>False</td>\n      <td>False</td>\n      <td>False</td>\n      <td>False</td>\n      <td>False</td>\n      <td>False</td>\n      <td>False</td>\n      <td>False</td>\n      <td>False</td>\n    </tr>\n    <tr>\n      <th>4</th>\n      <td>C</td>\n      <td>Staicu, D</td>\n      <td>Staicu, Daniela</td>\n      <td>Contributions of social entrepreneurship to te...</td>\n      <td>PROCEEDINGS OF THE INTERNATIONAL CONFERENCE ON...</td>\n      <td>False</td>\n      <td>textile waste prevention; clothing reuse; soci...</td>\n      <td>ENVIRONMENTAL-IMPACT; FASHION; REUSE</td>\n      <td>The current system for producing, distributing...</td>\n      <td>[Staicu, Daniela] Bucharest Univ Econ Studies,...</td>\n      <td>...</td>\n      <td>False</td>\n      <td>False</td>\n      <td>False</td>\n      <td>False</td>\n      <td>False</td>\n      <td>False</td>\n      <td>False</td>\n      <td>False</td>\n      <td>False</td>\n      <td>False</td>\n    </tr>\n  </tbody>\n</table>\n<p>5 rows × 52 columns</p>\n</div>"
     },
     "execution_count": 45,
     "metadata": {},
     "output_type": "execute_result"
    }
   ],
   "source": [
    "test.columns = col\n",
    "test"
   ],
   "metadata": {
    "collapsed": false
   }
  },
  {
   "cell_type": "code",
   "execution_count": 6,
   "outputs": [
    {
     "ename": "AttributeError",
     "evalue": "'DataFrame' object has no attribute 'dtype'",
     "output_type": "error",
     "traceback": [
      "\u001B[0;31m---------------------------------------------------------------------------\u001B[0m",
      "\u001B[0;31mAttributeError\u001B[0m                            Traceback (most recent call last)",
      "Cell \u001B[0;32mIn[6], line 1\u001B[0m\n\u001B[0;32m----> 1\u001B[0m \u001B[43mdf\u001B[49m\u001B[38;5;241;43m.\u001B[39;49m\u001B[43mto_stata\u001B[49m\u001B[43m(\u001B[49m\u001B[38;5;124;43m\"\u001B[39;49m\u001B[38;5;124;43m../data/dataframes/giac/pubs.stata\u001B[39;49m\u001B[38;5;124;43m\"\u001B[39;49m\u001B[43m)\u001B[49m\n",
      "File \u001B[0;32m~/anaconda3/envs/datascience/lib/python3.10/site-packages/pandas/util/_decorators.py:211\u001B[0m, in \u001B[0;36mdeprecate_kwarg.<locals>._deprecate_kwarg.<locals>.wrapper\u001B[0;34m(*args, **kwargs)\u001B[0m\n\u001B[1;32m    209\u001B[0m     \u001B[38;5;28;01melse\u001B[39;00m:\n\u001B[1;32m    210\u001B[0m         kwargs[new_arg_name] \u001B[38;5;241m=\u001B[39m new_arg_value\n\u001B[0;32m--> 211\u001B[0m \u001B[38;5;28;01mreturn\u001B[39;00m \u001B[43mfunc\u001B[49m\u001B[43m(\u001B[49m\u001B[38;5;241;43m*\u001B[39;49m\u001B[43margs\u001B[49m\u001B[43m,\u001B[49m\u001B[43m \u001B[49m\u001B[38;5;241;43m*\u001B[39;49m\u001B[38;5;241;43m*\u001B[39;49m\u001B[43mkwargs\u001B[49m\u001B[43m)\u001B[49m\n",
      "File \u001B[0;32m~/anaconda3/envs/datascience/lib/python3.10/site-packages/pandas/util/_decorators.py:331\u001B[0m, in \u001B[0;36mdeprecate_nonkeyword_arguments.<locals>.decorate.<locals>.wrapper\u001B[0;34m(*args, **kwargs)\u001B[0m\n\u001B[1;32m    325\u001B[0m \u001B[38;5;28;01mif\u001B[39;00m \u001B[38;5;28mlen\u001B[39m(args) \u001B[38;5;241m>\u001B[39m num_allow_args:\n\u001B[1;32m    326\u001B[0m     warnings\u001B[38;5;241m.\u001B[39mwarn(\n\u001B[1;32m    327\u001B[0m         msg\u001B[38;5;241m.\u001B[39mformat(arguments\u001B[38;5;241m=\u001B[39m_format_argument_list(allow_args)),\n\u001B[1;32m    328\u001B[0m         \u001B[38;5;167;01mFutureWarning\u001B[39;00m,\n\u001B[1;32m    329\u001B[0m         stacklevel\u001B[38;5;241m=\u001B[39mfind_stack_level(),\n\u001B[1;32m    330\u001B[0m     )\n\u001B[0;32m--> 331\u001B[0m \u001B[38;5;28;01mreturn\u001B[39;00m \u001B[43mfunc\u001B[49m\u001B[43m(\u001B[49m\u001B[38;5;241;43m*\u001B[39;49m\u001B[43margs\u001B[49m\u001B[43m,\u001B[49m\u001B[43m \u001B[49m\u001B[38;5;241;43m*\u001B[39;49m\u001B[38;5;241;43m*\u001B[39;49m\u001B[43mkwargs\u001B[49m\u001B[43m)\u001B[49m\n",
      "File \u001B[0;32m~/anaconda3/envs/datascience/lib/python3.10/site-packages/pandas/core/frame.py:2751\u001B[0m, in \u001B[0;36mDataFrame.to_stata\u001B[0;34m(self, path, convert_dates, write_index, byteorder, time_stamp, data_label, variable_labels, version, convert_strl, compression, storage_options, value_labels)\u001B[0m\n\u001B[1;32m   2747\u001B[0m \u001B[38;5;28;01mif\u001B[39;00m version \u001B[38;5;129;01mis\u001B[39;00m \u001B[38;5;28;01mNone\u001B[39;00m \u001B[38;5;129;01mor\u001B[39;00m version \u001B[38;5;241m>\u001B[39m\u001B[38;5;241m=\u001B[39m \u001B[38;5;241m118\u001B[39m:\n\u001B[1;32m   2748\u001B[0m     \u001B[38;5;66;03m# Specifying the version is only supported for UTF8 (118 or 119)\u001B[39;00m\n\u001B[1;32m   2749\u001B[0m     kwargs[\u001B[38;5;124m\"\u001B[39m\u001B[38;5;124mversion\u001B[39m\u001B[38;5;124m\"\u001B[39m] \u001B[38;5;241m=\u001B[39m version\n\u001B[0;32m-> 2751\u001B[0m writer \u001B[38;5;241m=\u001B[39m \u001B[43mstatawriter\u001B[49m\u001B[43m(\u001B[49m\n\u001B[1;32m   2752\u001B[0m \u001B[43m    \u001B[49m\u001B[43mpath\u001B[49m\u001B[43m,\u001B[49m\n\u001B[1;32m   2753\u001B[0m \u001B[43m    \u001B[49m\u001B[38;5;28;43mself\u001B[39;49m\u001B[43m,\u001B[49m\n\u001B[1;32m   2754\u001B[0m \u001B[43m    \u001B[49m\u001B[43mconvert_dates\u001B[49m\u001B[38;5;241;43m=\u001B[39;49m\u001B[43mconvert_dates\u001B[49m\u001B[43m,\u001B[49m\n\u001B[1;32m   2755\u001B[0m \u001B[43m    \u001B[49m\u001B[43mbyteorder\u001B[49m\u001B[38;5;241;43m=\u001B[39;49m\u001B[43mbyteorder\u001B[49m\u001B[43m,\u001B[49m\n\u001B[1;32m   2756\u001B[0m \u001B[43m    \u001B[49m\u001B[43mtime_stamp\u001B[49m\u001B[38;5;241;43m=\u001B[39;49m\u001B[43mtime_stamp\u001B[49m\u001B[43m,\u001B[49m\n\u001B[1;32m   2757\u001B[0m \u001B[43m    \u001B[49m\u001B[43mdata_label\u001B[49m\u001B[38;5;241;43m=\u001B[39;49m\u001B[43mdata_label\u001B[49m\u001B[43m,\u001B[49m\n\u001B[1;32m   2758\u001B[0m \u001B[43m    \u001B[49m\u001B[43mwrite_index\u001B[49m\u001B[38;5;241;43m=\u001B[39;49m\u001B[43mwrite_index\u001B[49m\u001B[43m,\u001B[49m\n\u001B[1;32m   2759\u001B[0m \u001B[43m    \u001B[49m\u001B[43mvariable_labels\u001B[49m\u001B[38;5;241;43m=\u001B[39;49m\u001B[43mvariable_labels\u001B[49m\u001B[43m,\u001B[49m\n\u001B[1;32m   2760\u001B[0m \u001B[43m    \u001B[49m\u001B[43mcompression\u001B[49m\u001B[38;5;241;43m=\u001B[39;49m\u001B[43mcompression\u001B[49m\u001B[43m,\u001B[49m\n\u001B[1;32m   2761\u001B[0m \u001B[43m    \u001B[49m\u001B[43mstorage_options\u001B[49m\u001B[38;5;241;43m=\u001B[39;49m\u001B[43mstorage_options\u001B[49m\u001B[43m,\u001B[49m\n\u001B[1;32m   2762\u001B[0m \u001B[43m    \u001B[49m\u001B[43mvalue_labels\u001B[49m\u001B[38;5;241;43m=\u001B[39;49m\u001B[43mvalue_labels\u001B[49m\u001B[43m,\u001B[49m\n\u001B[1;32m   2763\u001B[0m \u001B[43m    \u001B[49m\u001B[38;5;241;43m*\u001B[39;49m\u001B[38;5;241;43m*\u001B[39;49m\u001B[43mkwargs\u001B[49m\u001B[43m,\u001B[49m\n\u001B[1;32m   2764\u001B[0m \u001B[43m\u001B[49m\u001B[43m)\u001B[49m\n\u001B[1;32m   2765\u001B[0m writer\u001B[38;5;241m.\u001B[39mwrite_file()\n",
      "File \u001B[0;32m~/anaconda3/envs/datascience/lib/python3.10/site-packages/pandas/io/stata.py:2298\u001B[0m, in \u001B[0;36mStataWriter.__init__\u001B[0;34m(self, fname, data, convert_dates, write_index, byteorder, time_stamp, data_label, variable_labels, compression, storage_options, value_labels)\u001B[0m\n\u001B[1;32m   2296\u001B[0m \u001B[38;5;28mself\u001B[39m\u001B[38;5;241m.\u001B[39m_converted_names: \u001B[38;5;28mdict\u001B[39m[Hashable, \u001B[38;5;28mstr\u001B[39m] \u001B[38;5;241m=\u001B[39m {}\n\u001B[1;32m   2297\u001B[0m \u001B[38;5;66;03m# attach nobs, nvars, data, varlist, typlist\u001B[39;00m\n\u001B[0;32m-> 2298\u001B[0m \u001B[38;5;28;43mself\u001B[39;49m\u001B[38;5;241;43m.\u001B[39;49m\u001B[43m_prepare_pandas\u001B[49m\u001B[43m(\u001B[49m\u001B[43mdata\u001B[49m\u001B[43m)\u001B[49m\n\u001B[1;32m   2299\u001B[0m \u001B[38;5;28mself\u001B[39m\u001B[38;5;241m.\u001B[39mstorage_options \u001B[38;5;241m=\u001B[39m storage_options\n\u001B[1;32m   2301\u001B[0m \u001B[38;5;28;01mif\u001B[39;00m byteorder \u001B[38;5;129;01mis\u001B[39;00m \u001B[38;5;28;01mNone\u001B[39;00m:\n",
      "File \u001B[0;32m~/anaconda3/envs/datascience/lib/python3.10/site-packages/pandas/io/stata.py:2541\u001B[0m, in \u001B[0;36mStataWriter._prepare_pandas\u001B[0;34m(self, data)\u001B[0m\n\u001B[1;32m   2537\u001B[0m data \u001B[38;5;241m=\u001B[39m \u001B[38;5;28mself\u001B[39m\u001B[38;5;241m.\u001B[39m_check_column_names(data)\n\u001B[1;32m   2539\u001B[0m \u001B[38;5;66;03m# Check columns for compatibility with stata, upcast if necessary\u001B[39;00m\n\u001B[1;32m   2540\u001B[0m \u001B[38;5;66;03m# Raise if outside the supported range\u001B[39;00m\n\u001B[0;32m-> 2541\u001B[0m data \u001B[38;5;241m=\u001B[39m \u001B[43m_cast_to_stata_types\u001B[49m\u001B[43m(\u001B[49m\u001B[43mdata\u001B[49m\u001B[43m)\u001B[49m\n\u001B[1;32m   2543\u001B[0m \u001B[38;5;66;03m# Replace NaNs with Stata missing values\u001B[39;00m\n\u001B[1;32m   2544\u001B[0m data \u001B[38;5;241m=\u001B[39m \u001B[38;5;28mself\u001B[39m\u001B[38;5;241m.\u001B[39m_replace_nans(data)\n",
      "File \u001B[0;32m~/anaconda3/envs/datascience/lib/python3.10/site-packages/pandas/io/stata.py:595\u001B[0m, in \u001B[0;36m_cast_to_stata_types\u001B[0;34m(data)\u001B[0m\n\u001B[1;32m    591\u001B[0m float64_max \u001B[38;5;241m=\u001B[39m struct\u001B[38;5;241m.\u001B[39munpack(\u001B[38;5;124m\"\u001B[39m\u001B[38;5;124m<d\u001B[39m\u001B[38;5;124m\"\u001B[39m, \u001B[38;5;124mb\u001B[39m\u001B[38;5;124m\"\u001B[39m\u001B[38;5;130;01m\\xff\u001B[39;00m\u001B[38;5;130;01m\\xff\u001B[39;00m\u001B[38;5;130;01m\\xff\u001B[39;00m\u001B[38;5;130;01m\\xff\u001B[39;00m\u001B[38;5;130;01m\\xff\u001B[39;00m\u001B[38;5;130;01m\\xff\u001B[39;00m\u001B[38;5;130;01m\\xdf\u001B[39;00m\u001B[38;5;130;01m\\x7f\u001B[39;00m\u001B[38;5;124m\"\u001B[39m)[\u001B[38;5;241m0\u001B[39m]\n\u001B[1;32m    593\u001B[0m \u001B[38;5;28;01mfor\u001B[39;00m col \u001B[38;5;129;01min\u001B[39;00m data:\n\u001B[1;32m    594\u001B[0m     \u001B[38;5;66;03m# Cast from unsupported types to supported types\u001B[39;00m\n\u001B[0;32m--> 595\u001B[0m     is_nullable_int \u001B[38;5;241m=\u001B[39m \u001B[38;5;28misinstance\u001B[39m(\u001B[43mdata\u001B[49m\u001B[43m[\u001B[49m\u001B[43mcol\u001B[49m\u001B[43m]\u001B[49m\u001B[38;5;241;43m.\u001B[39;49m\u001B[43mdtype\u001B[49m, (IntegerDtype, BooleanDtype))\n\u001B[1;32m    596\u001B[0m     orig \u001B[38;5;241m=\u001B[39m data[col]\n\u001B[1;32m    597\u001B[0m     \u001B[38;5;66;03m# We need to find orig_missing before altering data below\u001B[39;00m\n",
      "File \u001B[0;32m~/anaconda3/envs/datascience/lib/python3.10/site-packages/pandas/core/generic.py:5902\u001B[0m, in \u001B[0;36mNDFrame.__getattr__\u001B[0;34m(self, name)\u001B[0m\n\u001B[1;32m   5895\u001B[0m \u001B[38;5;28;01mif\u001B[39;00m (\n\u001B[1;32m   5896\u001B[0m     name \u001B[38;5;129;01mnot\u001B[39;00m \u001B[38;5;129;01min\u001B[39;00m \u001B[38;5;28mself\u001B[39m\u001B[38;5;241m.\u001B[39m_internal_names_set\n\u001B[1;32m   5897\u001B[0m     \u001B[38;5;129;01mand\u001B[39;00m name \u001B[38;5;129;01mnot\u001B[39;00m \u001B[38;5;129;01min\u001B[39;00m \u001B[38;5;28mself\u001B[39m\u001B[38;5;241m.\u001B[39m_metadata\n\u001B[1;32m   5898\u001B[0m     \u001B[38;5;129;01mand\u001B[39;00m name \u001B[38;5;129;01mnot\u001B[39;00m \u001B[38;5;129;01min\u001B[39;00m \u001B[38;5;28mself\u001B[39m\u001B[38;5;241m.\u001B[39m_accessors\n\u001B[1;32m   5899\u001B[0m     \u001B[38;5;129;01mand\u001B[39;00m \u001B[38;5;28mself\u001B[39m\u001B[38;5;241m.\u001B[39m_info_axis\u001B[38;5;241m.\u001B[39m_can_hold_identifiers_and_holds_name(name)\n\u001B[1;32m   5900\u001B[0m ):\n\u001B[1;32m   5901\u001B[0m     \u001B[38;5;28;01mreturn\u001B[39;00m \u001B[38;5;28mself\u001B[39m[name]\n\u001B[0;32m-> 5902\u001B[0m \u001B[38;5;28;01mreturn\u001B[39;00m \u001B[38;5;28;43mobject\u001B[39;49m\u001B[38;5;241;43m.\u001B[39;49m\u001B[38;5;21;43m__getattribute__\u001B[39;49m\u001B[43m(\u001B[49m\u001B[38;5;28;43mself\u001B[39;49m\u001B[43m,\u001B[49m\u001B[43m \u001B[49m\u001B[43mname\u001B[49m\u001B[43m)\u001B[49m\n",
      "\u001B[0;31mAttributeError\u001B[0m: 'DataFrame' object has no attribute 'dtype'"
     ]
    }
   ],
   "source": [
    "df\n",
    "df.to_stata(\"../data/dataframes/giac/pubs.stata\")"
   ],
   "metadata": {
    "collapsed": false
   }
  },
  {
   "cell_type": "code",
   "execution_count": 4,
   "outputs": [],
   "source": [
    "path = \"../data/dataframes/output/manual_annotation_df.pkl\"\n",
    "df = pd.read_pickle(path)"
   ],
   "metadata": {
    "collapsed": false
   }
  },
  {
   "cell_type": "code",
   "execution_count": 37,
   "outputs": [],
   "source": [
    "a = df.loc[df['Relevance'] == '5', ['TI', 'AB']]\n",
    "a['tot'] = a['TI'] + \"\\n\" + a['AB']"
   ],
   "metadata": {
    "collapsed": false
   }
  },
  {
   "cell_type": "code",
   "execution_count": 38,
   "outputs": [],
   "source": [
    "b = iter(a['tot'].to_list())"
   ],
   "metadata": {
    "collapsed": false
   }
  },
  {
   "cell_type": "code",
   "execution_count": 46,
   "outputs": [
    {
     "data": {
      "text/plain": "'Can Cloud Computing Lead to Increased Sustainability of Mobile Devices?\\nWhen it comes to looking at energy efficiency and the concept of sustainability in computing, the focus has invariably been on data centers and mobile infrastructures like cell towers, as these have been considered the power intensive within the computing sector. However, some recent studies show that energy consumed globally by mobile devices is increasingly a large fraction that must be improved. With increased emphasis on utilizing cloud computing through mobile devices, the study and analysis of the complete end-to-end scenario from mobile devices to end-servers is needed that includes a life cycle assessment of networked data centers that provide cloud services. This paper conducts a preliminary investigation into the energy benefits of offloading tasks from mobile end devices to powerful remote servers.'"
     },
     "execution_count": 46,
     "metadata": {},
     "output_type": "execute_result"
    }
   ],
   "source": [
    "next(b)"
   ],
   "metadata": {
    "collapsed": false
   }
  },
  {
   "cell_type": "code",
   "execution_count": 1,
   "outputs": [],
   "source": [
    "import pandas as pd\n",
    "df = pd.read_pickle(\"../data/dataframes/full_pubs.pkl\")"
   ],
   "metadata": {
    "collapsed": false
   }
  },
  {
   "cell_type": "code",
   "execution_count": 2,
   "outputs": [
    {
     "data": {
      "text/plain": "       PT                                                 AU  \\\n617338  J  Lajoie-O'Malley, A; Bronson, K; van der Burg, ...   \n\n                                                       AF  \\\n617338  Lajoie-O'Malley, Alana; Bronson, Kelly; van de...   \n\n                                                       TI                  SO  \\\n617338  The future(s) of digital agriculture and susta...  ECOSYSTEM SERVICES   \n\n             DT                                                 DE  \\\n617338  Article  Digital transformation; Agriculture 4.0; Direc...   \n\n                                                       ID  \\\n617338  PRECISION AGRICULTURE; BIG DATA; EXPECTATIONS;...   \n\n                                                       AB  \\\n617338  Ecosystem services delivery is influenced by f...   \n\n                                                       C1  ...  SDG15  SDG16  \\\n617338  [Lajoie-O'Malley, Alana; Bronson, Kelly] Univ ...  ...  False  False   \n\n        SDG17  additive_manufacturing     AI  big_data blockchain  \\\n617338  False                   False  False      True      False   \n\n       computing_infrastructure    IOT robotics  \n617338                    False  False    False  \n\n[1 rows x 52 columns]",
      "text/html": "<div>\n<style scoped>\n    .dataframe tbody tr th:only-of-type {\n        vertical-align: middle;\n    }\n\n    .dataframe tbody tr th {\n        vertical-align: top;\n    }\n\n    .dataframe thead th {\n        text-align: right;\n    }\n</style>\n<table border=\"1\" class=\"dataframe\">\n  <thead>\n    <tr style=\"text-align: right;\">\n      <th></th>\n      <th>PT</th>\n      <th>AU</th>\n      <th>AF</th>\n      <th>TI</th>\n      <th>SO</th>\n      <th>DT</th>\n      <th>DE</th>\n      <th>ID</th>\n      <th>AB</th>\n      <th>C1</th>\n      <th>...</th>\n      <th>SDG15</th>\n      <th>SDG16</th>\n      <th>SDG17</th>\n      <th>additive_manufacturing</th>\n      <th>AI</th>\n      <th>big_data</th>\n      <th>blockchain</th>\n      <th>computing_infrastructure</th>\n      <th>IOT</th>\n      <th>robotics</th>\n    </tr>\n  </thead>\n  <tbody>\n    <tr>\n      <th>617338</th>\n      <td>J</td>\n      <td>Lajoie-O'Malley, A; Bronson, K; van der Burg, ...</td>\n      <td>Lajoie-O'Malley, Alana; Bronson, Kelly; van de...</td>\n      <td>The future(s) of digital agriculture and susta...</td>\n      <td>ECOSYSTEM SERVICES</td>\n      <td>Article</td>\n      <td>Digital transformation; Agriculture 4.0; Direc...</td>\n      <td>PRECISION AGRICULTURE; BIG DATA; EXPECTATIONS;...</td>\n      <td>Ecosystem services delivery is influenced by f...</td>\n      <td>[Lajoie-O'Malley, Alana; Bronson, Kelly] Univ ...</td>\n      <td>...</td>\n      <td>False</td>\n      <td>False</td>\n      <td>False</td>\n      <td>False</td>\n      <td>False</td>\n      <td>True</td>\n      <td>False</td>\n      <td>False</td>\n      <td>False</td>\n      <td>False</td>\n    </tr>\n  </tbody>\n</table>\n<p>1 rows × 52 columns</p>\n</div>"
     },
     "execution_count": 2,
     "metadata": {},
     "output_type": "execute_result"
    }
   ],
   "source": [
    "a = df[df['TI'] == 'The future(s) of digital agriculture and sustainable food systems: An analysis of high-level policy documents']\n",
    "a"
   ],
   "metadata": {
    "collapsed": false
   }
  },
  {
   "cell_type": "code",
   "execution_count": null,
   "outputs": [],
   "source": [],
   "metadata": {
    "collapsed": false
   }
  }
 ],
 "metadata": {
  "kernelspec": {
   "display_name": "Python 3",
   "language": "python",
   "name": "python3"
  },
  "language_info": {
   "codemirror_mode": {
    "name": "ipython",
    "version": 2
   },
   "file_extension": ".py",
   "mimetype": "text/x-python",
   "name": "python",
   "nbconvert_exporter": "python",
   "pygments_lexer": "ipython2",
   "version": "2.7.6"
  }
 },
 "nbformat": 4,
 "nbformat_minor": 0
}
