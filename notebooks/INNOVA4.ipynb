{
 "cells": [
  {
   "cell_type": "markdown",
   "source": [
    "# Last revision"
   ],
   "metadata": {
    "collapsed": false
   }
  },
  {
   "cell_type": "code",
   "execution_count": 2,
   "outputs": [],
   "source": [
    "import pandas as pd\n",
    "import os\n",
    "import numpy as np\n",
    "import matplotlib.pyplot as plt\n",
    "from matplotlib.collections import PatchCollection\n",
    "import plotly.graph_objects as go\n",
    "\n",
    "from plotly.subplots import make_subplots\n",
    "import plotly"
   ],
   "metadata": {
    "collapsed": false
   }
  },
  {
   "cell_type": "code",
   "execution_count": 3,
   "outputs": [
    {
     "data": {
      "text/plain": "['Austria',\n 'Belgium',\n 'Bulgaria',\n 'Croatia',\n 'Cyprus',\n 'Czech Republic',\n 'Denmark',\n 'Estonia',\n 'Finland',\n 'France',\n 'Germany',\n 'Greece',\n 'Hungary',\n 'Ireland',\n 'Italy',\n 'Latvia',\n 'Lithuania',\n 'Luxembourg',\n 'Malta',\n 'Netherlands',\n 'Poland',\n 'Portugal',\n 'Romania',\n 'Slovakia',\n 'Slovenia',\n 'Spain',\n 'Sweden']"
     },
     "execution_count": 3,
     "metadata": {},
     "output_type": "execute_result"
    }
   ],
   "source": [
    "eu = pd.read_excel(\"../data/countries_eu.xlsx\", sheet_name='EU')['Country'].to_list()\n",
    "eu"
   ],
   "metadata": {
    "collapsed": false
   }
  },
  {
   "cell_type": "code",
   "execution_count": 3,
   "outputs": [
    {
     "data": {
      "text/plain": "                   gdppc      pop2022           gdp\nCountry                                            \nLuxembourg      118001.0      647.599  7.641733e+07\nIreland          94392.0     5023.109  4.741413e+08\nSwitzerland      72874.0     8740.472  6.369532e+08\nNorway           65800.0     5434.319  3.575782e+08\nUnited States    63416.0   338289.857  2.145299e+10\nDenmark          58932.0     5882.261  3.466534e+08\nNetherlands      57534.0    17564.014  1.010528e+09\nAustria          55218.0     8939.617  4.936278e+08\nSweden           54146.0    10549.347  5.712049e+08\nGermany          54076.0    83369.843  4.508308e+09\nAustralia        51680.0    26177.413  1.352849e+09\nBelgium          51096.0    11655.930  5.955714e+08\nFinland          49853.0     5540.745  2.762228e+08\nCanada           48720.0    38454.327  1.873495e+09\nFrance           46062.0    64626.628  2.976832e+09\nSouth Korea      44621.0    51815.810  2.312073e+09\nUnited Kingdom   44117.0    67508.936  2.978292e+09\nMalta            42856.0      533.286  2.285450e+07\nJapan            42248.0   123951.692  5.236711e+09\nItaly            40861.0    59037.474  2.412330e+09\nCzech Republic   40618.0    10493.986  4.262447e+08\nIsrael           40547.0     9038.309  3.664763e+08\nCyprus           40107.0     1251.488  5.019343e+07\nSlovenia         40067.0     2119.844  8.493579e+07\nSpain            39121.0    47558.630  1.860541e+09\nEstonia          38834.0     1326.062  5.149629e+07\nLithuania        38824.0     2750.055  1.067681e+08\nPoland           34103.0    39857.145  1.359248e+09\nPortugal         34043.0    10270.865  3.496511e+08\nHungary          33030.0     9967.308  3.292202e+08\nSlovakia         32709.0     5643.453  1.845917e+08\nLatvia           31509.0     1850.651  5.831216e+07\nRomania          30526.0    19659.267  6.001188e+08\nGreece           28748.0    10384.971  2.985471e+08\nCroatia          27717.0     4030.358  1.117094e+08\nBulgaria         23817.0     6781.953  1.615258e+08\nChina            17192.0  1425887.337  2.451386e+10\nEU               44024.0   446800.000           NaN",
      "text/html": "<div>\n<style scoped>\n    .dataframe tbody tr th:only-of-type {\n        vertical-align: middle;\n    }\n\n    .dataframe tbody tr th {\n        vertical-align: top;\n    }\n\n    .dataframe thead th {\n        text-align: right;\n    }\n</style>\n<table border=\"1\" class=\"dataframe\">\n  <thead>\n    <tr style=\"text-align: right;\">\n      <th></th>\n      <th>gdppc</th>\n      <th>pop2022</th>\n      <th>gdp</th>\n    </tr>\n    <tr>\n      <th>Country</th>\n      <th></th>\n      <th></th>\n      <th></th>\n    </tr>\n  </thead>\n  <tbody>\n    <tr>\n      <th>Luxembourg</th>\n      <td>118001.0</td>\n      <td>647.599</td>\n      <td>7.641733e+07</td>\n    </tr>\n    <tr>\n      <th>Ireland</th>\n      <td>94392.0</td>\n      <td>5023.109</td>\n      <td>4.741413e+08</td>\n    </tr>\n    <tr>\n      <th>Switzerland</th>\n      <td>72874.0</td>\n      <td>8740.472</td>\n      <td>6.369532e+08</td>\n    </tr>\n    <tr>\n      <th>Norway</th>\n      <td>65800.0</td>\n      <td>5434.319</td>\n      <td>3.575782e+08</td>\n    </tr>\n    <tr>\n      <th>United States</th>\n      <td>63416.0</td>\n      <td>338289.857</td>\n      <td>2.145299e+10</td>\n    </tr>\n    <tr>\n      <th>Denmark</th>\n      <td>58932.0</td>\n      <td>5882.261</td>\n      <td>3.466534e+08</td>\n    </tr>\n    <tr>\n      <th>Netherlands</th>\n      <td>57534.0</td>\n      <td>17564.014</td>\n      <td>1.010528e+09</td>\n    </tr>\n    <tr>\n      <th>Austria</th>\n      <td>55218.0</td>\n      <td>8939.617</td>\n      <td>4.936278e+08</td>\n    </tr>\n    <tr>\n      <th>Sweden</th>\n      <td>54146.0</td>\n      <td>10549.347</td>\n      <td>5.712049e+08</td>\n    </tr>\n    <tr>\n      <th>Germany</th>\n      <td>54076.0</td>\n      <td>83369.843</td>\n      <td>4.508308e+09</td>\n    </tr>\n    <tr>\n      <th>Australia</th>\n      <td>51680.0</td>\n      <td>26177.413</td>\n      <td>1.352849e+09</td>\n    </tr>\n    <tr>\n      <th>Belgium</th>\n      <td>51096.0</td>\n      <td>11655.930</td>\n      <td>5.955714e+08</td>\n    </tr>\n    <tr>\n      <th>Finland</th>\n      <td>49853.0</td>\n      <td>5540.745</td>\n      <td>2.762228e+08</td>\n    </tr>\n    <tr>\n      <th>Canada</th>\n      <td>48720.0</td>\n      <td>38454.327</td>\n      <td>1.873495e+09</td>\n    </tr>\n    <tr>\n      <th>France</th>\n      <td>46062.0</td>\n      <td>64626.628</td>\n      <td>2.976832e+09</td>\n    </tr>\n    <tr>\n      <th>South Korea</th>\n      <td>44621.0</td>\n      <td>51815.810</td>\n      <td>2.312073e+09</td>\n    </tr>\n    <tr>\n      <th>United Kingdom</th>\n      <td>44117.0</td>\n      <td>67508.936</td>\n      <td>2.978292e+09</td>\n    </tr>\n    <tr>\n      <th>Malta</th>\n      <td>42856.0</td>\n      <td>533.286</td>\n      <td>2.285450e+07</td>\n    </tr>\n    <tr>\n      <th>Japan</th>\n      <td>42248.0</td>\n      <td>123951.692</td>\n      <td>5.236711e+09</td>\n    </tr>\n    <tr>\n      <th>Italy</th>\n      <td>40861.0</td>\n      <td>59037.474</td>\n      <td>2.412330e+09</td>\n    </tr>\n    <tr>\n      <th>Czech Republic</th>\n      <td>40618.0</td>\n      <td>10493.986</td>\n      <td>4.262447e+08</td>\n    </tr>\n    <tr>\n      <th>Israel</th>\n      <td>40547.0</td>\n      <td>9038.309</td>\n      <td>3.664763e+08</td>\n    </tr>\n    <tr>\n      <th>Cyprus</th>\n      <td>40107.0</td>\n      <td>1251.488</td>\n      <td>5.019343e+07</td>\n    </tr>\n    <tr>\n      <th>Slovenia</th>\n      <td>40067.0</td>\n      <td>2119.844</td>\n      <td>8.493579e+07</td>\n    </tr>\n    <tr>\n      <th>Spain</th>\n      <td>39121.0</td>\n      <td>47558.630</td>\n      <td>1.860541e+09</td>\n    </tr>\n    <tr>\n      <th>Estonia</th>\n      <td>38834.0</td>\n      <td>1326.062</td>\n      <td>5.149629e+07</td>\n    </tr>\n    <tr>\n      <th>Lithuania</th>\n      <td>38824.0</td>\n      <td>2750.055</td>\n      <td>1.067681e+08</td>\n    </tr>\n    <tr>\n      <th>Poland</th>\n      <td>34103.0</td>\n      <td>39857.145</td>\n      <td>1.359248e+09</td>\n    </tr>\n    <tr>\n      <th>Portugal</th>\n      <td>34043.0</td>\n      <td>10270.865</td>\n      <td>3.496511e+08</td>\n    </tr>\n    <tr>\n      <th>Hungary</th>\n      <td>33030.0</td>\n      <td>9967.308</td>\n      <td>3.292202e+08</td>\n    </tr>\n    <tr>\n      <th>Slovakia</th>\n      <td>32709.0</td>\n      <td>5643.453</td>\n      <td>1.845917e+08</td>\n    </tr>\n    <tr>\n      <th>Latvia</th>\n      <td>31509.0</td>\n      <td>1850.651</td>\n      <td>5.831216e+07</td>\n    </tr>\n    <tr>\n      <th>Romania</th>\n      <td>30526.0</td>\n      <td>19659.267</td>\n      <td>6.001188e+08</td>\n    </tr>\n    <tr>\n      <th>Greece</th>\n      <td>28748.0</td>\n      <td>10384.971</td>\n      <td>2.985471e+08</td>\n    </tr>\n    <tr>\n      <th>Croatia</th>\n      <td>27717.0</td>\n      <td>4030.358</td>\n      <td>1.117094e+08</td>\n    </tr>\n    <tr>\n      <th>Bulgaria</th>\n      <td>23817.0</td>\n      <td>6781.953</td>\n      <td>1.615258e+08</td>\n    </tr>\n    <tr>\n      <th>China</th>\n      <td>17192.0</td>\n      <td>1425887.337</td>\n      <td>2.451386e+10</td>\n    </tr>\n    <tr>\n      <th>EU</th>\n      <td>44024.0</td>\n      <td>446800.000</td>\n      <td>NaN</td>\n    </tr>\n  </tbody>\n</table>\n</div>"
     },
     "execution_count": 3,
     "metadata": {},
     "output_type": "execute_result"
    }
   ],
   "source": [
    "eu_countries = pd.read_excel(\"../data/countries_eu.xlsx\", sheet_name='EU').Country.to_list()\n",
    "other_countries = pd.read_excel(\"../data/countries_eu.xlsx\", sheet_name='rest').Country.to_list()\n",
    "gdp = pd.read_csv(\"../data/countriesgdp_pop.csv\", index_col=\"ranking\")\n",
    "gdp = gdp[gdp.Country.isin(eu_countries + other_countries)].set_index(\"Country\")\n",
    "gdp.loc[\"EU\", \"gdppc\"] = 44024\n",
    "gdp.loc[\"EU\", \"pop2022\"] = 446800\n",
    "gdp"
   ],
   "metadata": {
    "collapsed": false
   }
  },
  {
   "cell_type": "code",
   "execution_count": 4,
   "outputs": [],
   "source": [
    "df_sdg = pd.read_pickle(\"../data/dataframes/output/all_sdg_fixed_dst.pkl\")\n",
    "df_digital = pd.read_pickle(\"../data/dataframes/DT/dt_updated.pkl\")\n",
    "\n",
    "# Filtering for Journal only\n",
    "df_sdg = df_sdg[df_sdg.PT == 'J']\n",
    "df_digital = df_digital[df_digital.PT == 'J']\n",
    "df_sdg_dt = df_sdg[df_sdg['DST']]\n",
    "\n",
    "dic_countries = {country:{year:[0,0,0] for year in range(2010,2022)} for country in gdp.index}\n",
    "idx_sdg = {name: i for i, name in enumerate(list(df_sdg), start=0)}\n",
    "idx_dt = {name: i for i, name in enumerate(list(df_digital), start=0)}\n",
    "idx_sdg_dt = {name: i for i, name in enumerate(list(df_sdg_dt), start=0)}"
   ],
   "metadata": {
    "collapsed": false
   }
  },
  {
   "cell_type": "code",
   "execution_count": 7,
   "outputs": [
    {
     "data": {
      "text/plain": "PY\n2010     18704\n2011     21277\n2012     23706\n2013     27289\n2014     30654\n2015     40014\n2016     48769\n2017     55880\n2018     77977\n2019    104257\n2020    136632\n2021    170309\nName: AB, dtype: int64"
     },
     "execution_count": 7,
     "metadata": {},
     "output_type": "execute_result"
    }
   ],
   "source": [
    "df_digital.groupby('PY')['AB'].count()"
   ],
   "metadata": {
    "collapsed": false
   }
  },
  {
   "cell_type": "code",
   "execution_count": 14,
   "outputs": [
    {
     "data": {
      "text/plain": "810.5485457656116"
     },
     "execution_count": 14,
     "metadata": {},
     "output_type": "execute_result"
    }
   ],
   "source": [
    "# % change 2021 versus 2010\n",
    "((170309/18704)-1)*100"
   ],
   "metadata": {
    "collapsed": false
   }
  },
  {
   "cell_type": "code",
   "execution_count": 17,
   "outputs": [
    {
     "data": {
      "text/plain": "6.514917531164181"
     },
     "execution_count": 17,
     "metadata": {},
     "output_type": "execute_result"
    }
   ],
   "source": [
    "# % out of WOS\n",
    "100*170309/2614139"
   ],
   "metadata": {
    "collapsed": false
   }
  },
  {
   "cell_type": "code",
   "execution_count": 19,
   "outputs": [
    {
     "data": {
      "text/plain": "420.8"
     },
     "execution_count": 19,
     "metadata": {},
     "output_type": "execute_result"
    }
   ],
   "source": [
    "# % change 2021 2021 out of WOS\n",
    "((6.51/1.25)-1)*100"
   ],
   "metadata": {
    "collapsed": false
   }
  },
  {
   "cell_type": "code",
   "execution_count": 23,
   "outputs": [
    {
     "data": {
      "text/plain": "177.37556561085972"
     },
     "execution_count": 23,
     "metadata": {},
     "output_type": "execute_result"
    }
   ],
   "source": [
    "# % of SDG-DT publications out of DT\n",
    "(10433/170309)*100\n",
    "# % change 2021 versus 2010\n",
    "((6.13/2.21)-1)*100"
   ],
   "metadata": {
    "collapsed": false
   }
  },
  {
   "cell_type": "code",
   "execution_count": 29,
   "outputs": [
    {
     "name": "stdout",
     "output_type": "stream",
     "text": [
      "57.893782397136604\n",
      "14.925714921082031\n",
      "16.676417796650554\n",
      "1.2041542461096963\n"
     ]
    }
   ],
   "source": [
    "# Tracking changes for figure 5\n",
    "def value_cat(cat):\n",
    "    f = df_digital.groupby(cat)[\"AB\"].count().loc[False]\n",
    "    t = df_digital.groupby(cat)[\"AB\"].count().loc[True]\n",
    "    tot = t+f\n",
    "    return t/tot\n",
    "# For AI\n",
    "print(value_cat('AI')*100)\n",
    "print(value_cat('IOT')*100)\n",
    "print(value_cat('robotics')*100)\n",
    "print(value_cat(\"blockchain\")*100)"
   ],
   "metadata": {
    "collapsed": false
   }
  },
  {
   "cell_type": "code",
   "execution_count": null,
   "outputs": [],
   "source": [],
   "metadata": {
    "collapsed": false
   }
  }
 ],
 "metadata": {
  "kernelspec": {
   "display_name": "Python 3",
   "language": "python",
   "name": "python3"
  },
  "language_info": {
   "codemirror_mode": {
    "name": "ipython",
    "version": 2
   },
   "file_extension": ".py",
   "mimetype": "text/x-python",
   "name": "python",
   "nbconvert_exporter": "python",
   "pygments_lexer": "ipython2",
   "version": "2.7.6"
  }
 },
 "nbformat": 4,
 "nbformat_minor": 0
}
