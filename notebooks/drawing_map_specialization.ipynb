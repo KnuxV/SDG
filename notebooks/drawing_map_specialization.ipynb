{
 "cells": [
  {
   "cell_type": "code",
   "execution_count": 1,
   "outputs": [],
   "source": [
    "import pandas as pd\n",
    "import plotly.graph_objects as go\n",
    "import plotly.io as pio"
   ],
   "metadata": {
    "collapsed": false
   }
  },
  {
   "cell_type": "code",
   "execution_count": 10,
   "outputs": [],
   "source": [
    "df_spec = pd.read_excel(\"../img/Commission/specialization copy.xlsx\", sheet_name=\"categories\", index_col=0)"
   ],
   "metadata": {
    "collapsed": false
   }
  },
  {
   "cell_type": "code",
   "execution_count": 3,
   "outputs": [
    {
     "data": {
      "text/plain": "                Society  Economy  Environment\nAustria            0.69     0.95         0.85\nBelgium            0.96     1.10         0.92\nBulgaria           0.60     0.76         0.78\nCroatia            1.21     1.92         1.35\nCyprus             1.22     1.38         0.96\nCzech Republic     0.68     1.02         0.80\nDenmark            0.90     1.00         1.04\nEstonia            0.96     1.22         1.65\nFinland            1.05     1.23         1.31\nFrance             0.69     0.69         1.11\nGermany            0.67     0.82         0.88\nGreece             1.37     1.44         1.33\nHungary            0.81     0.89         0.82\nIreland            0.81     0.95         0.70\nItaly              1.49     1.55         1.48\nLatvia             1.32     2.58         1.39\nLithuania          1.23     2.16         1.34\nLuxembourg         0.87     1.25         0.52\nMalta              0.95     1.34         1.16\nNetherlands        0.96     1.22         0.91\nPoland             0.83     0.88         0.70\nPortugal           1.54     2.14         2.07\nRomania            1.28     2.08         0.97\nSlovakia           0.88     1.62         0.69\nSlovenia           0.83     1.15         0.77\nSpain              1.35     1.62         1.52\nSweden             0.95     1.16         1.05\nNorway             1.05     1.07         1.76\nSwitzerland        0.73     0.83         0.81\nUnited Kingdom     0.94     1.06         0.95\nCanada             1.02     0.93         1.07\nChina              1.17     1.09         1.06\nUnited States      1.01     0.79         0.85\nJapan              0.51     0.44         0.60\nSouth Korea        0.65     0.74         0.66\nAustralia          1.43     1.52         1.58\nIsrael             0.72     0.45         0.51",
      "text/html": "<div>\n<style scoped>\n    .dataframe tbody tr th:only-of-type {\n        vertical-align: middle;\n    }\n\n    .dataframe tbody tr th {\n        vertical-align: top;\n    }\n\n    .dataframe thead th {\n        text-align: right;\n    }\n</style>\n<table border=\"1\" class=\"dataframe\">\n  <thead>\n    <tr style=\"text-align: right;\">\n      <th></th>\n      <th>Society</th>\n      <th>Economy</th>\n      <th>Environment</th>\n    </tr>\n  </thead>\n  <tbody>\n    <tr>\n      <th>Austria</th>\n      <td>0.69</td>\n      <td>0.95</td>\n      <td>0.85</td>\n    </tr>\n    <tr>\n      <th>Belgium</th>\n      <td>0.96</td>\n      <td>1.10</td>\n      <td>0.92</td>\n    </tr>\n    <tr>\n      <th>Bulgaria</th>\n      <td>0.60</td>\n      <td>0.76</td>\n      <td>0.78</td>\n    </tr>\n    <tr>\n      <th>Croatia</th>\n      <td>1.21</td>\n      <td>1.92</td>\n      <td>1.35</td>\n    </tr>\n    <tr>\n      <th>Cyprus</th>\n      <td>1.22</td>\n      <td>1.38</td>\n      <td>0.96</td>\n    </tr>\n    <tr>\n      <th>Czech Republic</th>\n      <td>0.68</td>\n      <td>1.02</td>\n      <td>0.80</td>\n    </tr>\n    <tr>\n      <th>Denmark</th>\n      <td>0.90</td>\n      <td>1.00</td>\n      <td>1.04</td>\n    </tr>\n    <tr>\n      <th>Estonia</th>\n      <td>0.96</td>\n      <td>1.22</td>\n      <td>1.65</td>\n    </tr>\n    <tr>\n      <th>Finland</th>\n      <td>1.05</td>\n      <td>1.23</td>\n      <td>1.31</td>\n    </tr>\n    <tr>\n      <th>France</th>\n      <td>0.69</td>\n      <td>0.69</td>\n      <td>1.11</td>\n    </tr>\n    <tr>\n      <th>Germany</th>\n      <td>0.67</td>\n      <td>0.82</td>\n      <td>0.88</td>\n    </tr>\n    <tr>\n      <th>Greece</th>\n      <td>1.37</td>\n      <td>1.44</td>\n      <td>1.33</td>\n    </tr>\n    <tr>\n      <th>Hungary</th>\n      <td>0.81</td>\n      <td>0.89</td>\n      <td>0.82</td>\n    </tr>\n    <tr>\n      <th>Ireland</th>\n      <td>0.81</td>\n      <td>0.95</td>\n      <td>0.70</td>\n    </tr>\n    <tr>\n      <th>Italy</th>\n      <td>1.49</td>\n      <td>1.55</td>\n      <td>1.48</td>\n    </tr>\n    <tr>\n      <th>Latvia</th>\n      <td>1.32</td>\n      <td>2.58</td>\n      <td>1.39</td>\n    </tr>\n    <tr>\n      <th>Lithuania</th>\n      <td>1.23</td>\n      <td>2.16</td>\n      <td>1.34</td>\n    </tr>\n    <tr>\n      <th>Luxembourg</th>\n      <td>0.87</td>\n      <td>1.25</td>\n      <td>0.52</td>\n    </tr>\n    <tr>\n      <th>Malta</th>\n      <td>0.95</td>\n      <td>1.34</td>\n      <td>1.16</td>\n    </tr>\n    <tr>\n      <th>Netherlands</th>\n      <td>0.96</td>\n      <td>1.22</td>\n      <td>0.91</td>\n    </tr>\n    <tr>\n      <th>Poland</th>\n      <td>0.83</td>\n      <td>0.88</td>\n      <td>0.70</td>\n    </tr>\n    <tr>\n      <th>Portugal</th>\n      <td>1.54</td>\n      <td>2.14</td>\n      <td>2.07</td>\n    </tr>\n    <tr>\n      <th>Romania</th>\n      <td>1.28</td>\n      <td>2.08</td>\n      <td>0.97</td>\n    </tr>\n    <tr>\n      <th>Slovakia</th>\n      <td>0.88</td>\n      <td>1.62</td>\n      <td>0.69</td>\n    </tr>\n    <tr>\n      <th>Slovenia</th>\n      <td>0.83</td>\n      <td>1.15</td>\n      <td>0.77</td>\n    </tr>\n    <tr>\n      <th>Spain</th>\n      <td>1.35</td>\n      <td>1.62</td>\n      <td>1.52</td>\n    </tr>\n    <tr>\n      <th>Sweden</th>\n      <td>0.95</td>\n      <td>1.16</td>\n      <td>1.05</td>\n    </tr>\n    <tr>\n      <th>Norway</th>\n      <td>1.05</td>\n      <td>1.07</td>\n      <td>1.76</td>\n    </tr>\n    <tr>\n      <th>Switzerland</th>\n      <td>0.73</td>\n      <td>0.83</td>\n      <td>0.81</td>\n    </tr>\n    <tr>\n      <th>United Kingdom</th>\n      <td>0.94</td>\n      <td>1.06</td>\n      <td>0.95</td>\n    </tr>\n    <tr>\n      <th>Canada</th>\n      <td>1.02</td>\n      <td>0.93</td>\n      <td>1.07</td>\n    </tr>\n    <tr>\n      <th>China</th>\n      <td>1.17</td>\n      <td>1.09</td>\n      <td>1.06</td>\n    </tr>\n    <tr>\n      <th>United States</th>\n      <td>1.01</td>\n      <td>0.79</td>\n      <td>0.85</td>\n    </tr>\n    <tr>\n      <th>Japan</th>\n      <td>0.51</td>\n      <td>0.44</td>\n      <td>0.60</td>\n    </tr>\n    <tr>\n      <th>South Korea</th>\n      <td>0.65</td>\n      <td>0.74</td>\n      <td>0.66</td>\n    </tr>\n    <tr>\n      <th>Australia</th>\n      <td>1.43</td>\n      <td>1.52</td>\n      <td>1.58</td>\n    </tr>\n    <tr>\n      <th>Israel</th>\n      <td>0.72</td>\n      <td>0.45</td>\n      <td>0.51</td>\n    </tr>\n  </tbody>\n</table>\n</div>"
     },
     "execution_count": 3,
     "metadata": {},
     "output_type": "execute_result"
    }
   ],
   "source": [
    "df_spec"
   ],
   "metadata": {
    "collapsed": false
   }
  },
  {
   "cell_type": "code",
   "execution_count": 4,
   "outputs": [
    {
     "data": {
      "text/plain": "                  AI  computing_infrastructure  big_data   IOT  robotics  \\\nAustria         0.64                      0.71      0.59  0.83      0.70   \nBelgium         0.66                      0.58      0.63  0.78      0.71   \nBulgaria        0.63                      0.91      0.74  0.78      0.67   \nCroatia         0.76                      0.50      0.55  0.78      0.82   \nCyprus          0.98                      1.08      0.99  1.53      1.07   \nCzech Republic  0.64                      0.50      0.42  0.61      0.68   \nDenmark         0.47                      0.48      0.46  0.46      0.57   \nEstonia         0.62                      0.65      0.76  0.98      0.81   \nFinland         0.81                      1.66      0.83  1.46      0.68   \nFrance          0.77                      0.85      0.72  0.76      0.80   \nGermany         0.83                      0.80      0.68  0.74      0.90   \nGreece          1.34                      1.98      1.71  1.77      1.11   \nHungary         0.73                      0.76      0.70  0.56      0.75   \nIreland         0.59                      0.86      0.77  1.06      0.35   \nItaly           1.10                      1.25      1.10  1.64      1.73   \nLatvia          0.59                      0.61      0.72  1.21      0.64   \nLithuania       0.64                      0.53      0.51  0.57      0.80   \nLuxembourg      0.92                      2.00      1.30  1.54      0.91   \nMalta           0.81                      0.38      0.29  0.47      0.68   \nNetherlands     0.64                      0.42      0.61  0.53      0.65   \nPoland          0.71                      0.56      0.44  0.42      0.66   \nPortugal        1.12                      1.08      0.89  1.61      1.28   \nRomania         0.92                      1.22      0.90  1.40      1.41   \nSlovakia        0.70                      0.49      0.66  0.67      1.09   \nSlovenia        0.90                      0.49      0.54  0.72      0.78   \nSpain           1.09                      1.25      0.99  1.11      1.01   \nSweden          0.45                      0.79      0.61  0.71      0.59   \nNorway          0.52                      0.43      0.62  0.53      0.56   \nSwitzerland     0.75                      0.60      0.59  0.59      0.80   \nUnited Kingdom  0.72                      0.66      0.73  0.68      0.64   \nCanada          0.76                      0.78      0.70  0.74      0.72   \nChina           1.79                      1.67      1.78  1.58      1.44   \nUnited States   0.83                      0.83      0.94  0.72      0.81   \nJapan           0.80                      0.87      0.70  0.88      1.41   \nSouth Korea     1.21                      1.36      1.21  2.24      1.77   \nAustralia       0.72                      0.71      0.83  0.81      0.64   \nIsrael          0.60                      0.38      0.60  0.35      0.51   \n\n                blockchain  additive_manufacturing  \nAustria               1.22                    1.18  \nBelgium               0.47                    0.98  \nBulgaria              0.69                    0.71  \nCroatia               1.39                    0.70  \nCyprus                2.65                    0.47  \nCzech Republic        0.44                    1.25  \nDenmark               0.66                    0.57  \nEstonia               2.46                    1.22  \nFinland               1.25                    0.99  \nFrance                0.59                    0.77  \nGermany               0.66                    1.45  \nGreece                2.34                    0.94  \nHungary               0.53                    0.86  \nIreland               1.43                    0.87  \nItaly                 1.29                    1.60  \nLatvia                1.16                    0.50  \nLithuania             1.25                    1.25  \nLuxembourg            3.98                    0.56  \nMalta                 5.13                    1.08  \nNetherlands           0.55                    0.70  \nPoland                0.46                    1.11  \nPortugal              1.31                    1.69  \nRomania               1.73                    1.56  \nSlovakia              0.73                    1.69  \nSlovenia              1.21                    1.22  \nSpain                 0.88                    1.03  \nSweden                0.35                    0.71  \nNorway                1.10                    0.51  \nSwitzerland           0.94                    0.87  \nUnited Kingdom        0.86                    0.85  \nCanada                0.86                    0.66  \nChina                 1.79                    1.22  \nUnited States         0.61                    0.88  \nJapan                 0.48                    0.53  \nSouth Korea           1.57                    1.19  \nAustralia             1.39                    0.89  \nIsrael                0.40                    0.53  ",
      "text/html": "<div>\n<style scoped>\n    .dataframe tbody tr th:only-of-type {\n        vertical-align: middle;\n    }\n\n    .dataframe tbody tr th {\n        vertical-align: top;\n    }\n\n    .dataframe thead th {\n        text-align: right;\n    }\n</style>\n<table border=\"1\" class=\"dataframe\">\n  <thead>\n    <tr style=\"text-align: right;\">\n      <th></th>\n      <th>AI</th>\n      <th>computing_infrastructure</th>\n      <th>big_data</th>\n      <th>IOT</th>\n      <th>robotics</th>\n      <th>blockchain</th>\n      <th>additive_manufacturing</th>\n    </tr>\n  </thead>\n  <tbody>\n    <tr>\n      <th>Austria</th>\n      <td>0.64</td>\n      <td>0.71</td>\n      <td>0.59</td>\n      <td>0.83</td>\n      <td>0.70</td>\n      <td>1.22</td>\n      <td>1.18</td>\n    </tr>\n    <tr>\n      <th>Belgium</th>\n      <td>0.66</td>\n      <td>0.58</td>\n      <td>0.63</td>\n      <td>0.78</td>\n      <td>0.71</td>\n      <td>0.47</td>\n      <td>0.98</td>\n    </tr>\n    <tr>\n      <th>Bulgaria</th>\n      <td>0.63</td>\n      <td>0.91</td>\n      <td>0.74</td>\n      <td>0.78</td>\n      <td>0.67</td>\n      <td>0.69</td>\n      <td>0.71</td>\n    </tr>\n    <tr>\n      <th>Croatia</th>\n      <td>0.76</td>\n      <td>0.50</td>\n      <td>0.55</td>\n      <td>0.78</td>\n      <td>0.82</td>\n      <td>1.39</td>\n      <td>0.70</td>\n    </tr>\n    <tr>\n      <th>Cyprus</th>\n      <td>0.98</td>\n      <td>1.08</td>\n      <td>0.99</td>\n      <td>1.53</td>\n      <td>1.07</td>\n      <td>2.65</td>\n      <td>0.47</td>\n    </tr>\n    <tr>\n      <th>Czech Republic</th>\n      <td>0.64</td>\n      <td>0.50</td>\n      <td>0.42</td>\n      <td>0.61</td>\n      <td>0.68</td>\n      <td>0.44</td>\n      <td>1.25</td>\n    </tr>\n    <tr>\n      <th>Denmark</th>\n      <td>0.47</td>\n      <td>0.48</td>\n      <td>0.46</td>\n      <td>0.46</td>\n      <td>0.57</td>\n      <td>0.66</td>\n      <td>0.57</td>\n    </tr>\n    <tr>\n      <th>Estonia</th>\n      <td>0.62</td>\n      <td>0.65</td>\n      <td>0.76</td>\n      <td>0.98</td>\n      <td>0.81</td>\n      <td>2.46</td>\n      <td>1.22</td>\n    </tr>\n    <tr>\n      <th>Finland</th>\n      <td>0.81</td>\n      <td>1.66</td>\n      <td>0.83</td>\n      <td>1.46</td>\n      <td>0.68</td>\n      <td>1.25</td>\n      <td>0.99</td>\n    </tr>\n    <tr>\n      <th>France</th>\n      <td>0.77</td>\n      <td>0.85</td>\n      <td>0.72</td>\n      <td>0.76</td>\n      <td>0.80</td>\n      <td>0.59</td>\n      <td>0.77</td>\n    </tr>\n    <tr>\n      <th>Germany</th>\n      <td>0.83</td>\n      <td>0.80</td>\n      <td>0.68</td>\n      <td>0.74</td>\n      <td>0.90</td>\n      <td>0.66</td>\n      <td>1.45</td>\n    </tr>\n    <tr>\n      <th>Greece</th>\n      <td>1.34</td>\n      <td>1.98</td>\n      <td>1.71</td>\n      <td>1.77</td>\n      <td>1.11</td>\n      <td>2.34</td>\n      <td>0.94</td>\n    </tr>\n    <tr>\n      <th>Hungary</th>\n      <td>0.73</td>\n      <td>0.76</td>\n      <td>0.70</td>\n      <td>0.56</td>\n      <td>0.75</td>\n      <td>0.53</td>\n      <td>0.86</td>\n    </tr>\n    <tr>\n      <th>Ireland</th>\n      <td>0.59</td>\n      <td>0.86</td>\n      <td>0.77</td>\n      <td>1.06</td>\n      <td>0.35</td>\n      <td>1.43</td>\n      <td>0.87</td>\n    </tr>\n    <tr>\n      <th>Italy</th>\n      <td>1.10</td>\n      <td>1.25</td>\n      <td>1.10</td>\n      <td>1.64</td>\n      <td>1.73</td>\n      <td>1.29</td>\n      <td>1.60</td>\n    </tr>\n    <tr>\n      <th>Latvia</th>\n      <td>0.59</td>\n      <td>0.61</td>\n      <td>0.72</td>\n      <td>1.21</td>\n      <td>0.64</td>\n      <td>1.16</td>\n      <td>0.50</td>\n    </tr>\n    <tr>\n      <th>Lithuania</th>\n      <td>0.64</td>\n      <td>0.53</td>\n      <td>0.51</td>\n      <td>0.57</td>\n      <td>0.80</td>\n      <td>1.25</td>\n      <td>1.25</td>\n    </tr>\n    <tr>\n      <th>Luxembourg</th>\n      <td>0.92</td>\n      <td>2.00</td>\n      <td>1.30</td>\n      <td>1.54</td>\n      <td>0.91</td>\n      <td>3.98</td>\n      <td>0.56</td>\n    </tr>\n    <tr>\n      <th>Malta</th>\n      <td>0.81</td>\n      <td>0.38</td>\n      <td>0.29</td>\n      <td>0.47</td>\n      <td>0.68</td>\n      <td>5.13</td>\n      <td>1.08</td>\n    </tr>\n    <tr>\n      <th>Netherlands</th>\n      <td>0.64</td>\n      <td>0.42</td>\n      <td>0.61</td>\n      <td>0.53</td>\n      <td>0.65</td>\n      <td>0.55</td>\n      <td>0.70</td>\n    </tr>\n    <tr>\n      <th>Poland</th>\n      <td>0.71</td>\n      <td>0.56</td>\n      <td>0.44</td>\n      <td>0.42</td>\n      <td>0.66</td>\n      <td>0.46</td>\n      <td>1.11</td>\n    </tr>\n    <tr>\n      <th>Portugal</th>\n      <td>1.12</td>\n      <td>1.08</td>\n      <td>0.89</td>\n      <td>1.61</td>\n      <td>1.28</td>\n      <td>1.31</td>\n      <td>1.69</td>\n    </tr>\n    <tr>\n      <th>Romania</th>\n      <td>0.92</td>\n      <td>1.22</td>\n      <td>0.90</td>\n      <td>1.40</td>\n      <td>1.41</td>\n      <td>1.73</td>\n      <td>1.56</td>\n    </tr>\n    <tr>\n      <th>Slovakia</th>\n      <td>0.70</td>\n      <td>0.49</td>\n      <td>0.66</td>\n      <td>0.67</td>\n      <td>1.09</td>\n      <td>0.73</td>\n      <td>1.69</td>\n    </tr>\n    <tr>\n      <th>Slovenia</th>\n      <td>0.90</td>\n      <td>0.49</td>\n      <td>0.54</td>\n      <td>0.72</td>\n      <td>0.78</td>\n      <td>1.21</td>\n      <td>1.22</td>\n    </tr>\n    <tr>\n      <th>Spain</th>\n      <td>1.09</td>\n      <td>1.25</td>\n      <td>0.99</td>\n      <td>1.11</td>\n      <td>1.01</td>\n      <td>0.88</td>\n      <td>1.03</td>\n    </tr>\n    <tr>\n      <th>Sweden</th>\n      <td>0.45</td>\n      <td>0.79</td>\n      <td>0.61</td>\n      <td>0.71</td>\n      <td>0.59</td>\n      <td>0.35</td>\n      <td>0.71</td>\n    </tr>\n    <tr>\n      <th>Norway</th>\n      <td>0.52</td>\n      <td>0.43</td>\n      <td>0.62</td>\n      <td>0.53</td>\n      <td>0.56</td>\n      <td>1.10</td>\n      <td>0.51</td>\n    </tr>\n    <tr>\n      <th>Switzerland</th>\n      <td>0.75</td>\n      <td>0.60</td>\n      <td>0.59</td>\n      <td>0.59</td>\n      <td>0.80</td>\n      <td>0.94</td>\n      <td>0.87</td>\n    </tr>\n    <tr>\n      <th>United Kingdom</th>\n      <td>0.72</td>\n      <td>0.66</td>\n      <td>0.73</td>\n      <td>0.68</td>\n      <td>0.64</td>\n      <td>0.86</td>\n      <td>0.85</td>\n    </tr>\n    <tr>\n      <th>Canada</th>\n      <td>0.76</td>\n      <td>0.78</td>\n      <td>0.70</td>\n      <td>0.74</td>\n      <td>0.72</td>\n      <td>0.86</td>\n      <td>0.66</td>\n    </tr>\n    <tr>\n      <th>China</th>\n      <td>1.79</td>\n      <td>1.67</td>\n      <td>1.78</td>\n      <td>1.58</td>\n      <td>1.44</td>\n      <td>1.79</td>\n      <td>1.22</td>\n    </tr>\n    <tr>\n      <th>United States</th>\n      <td>0.83</td>\n      <td>0.83</td>\n      <td>0.94</td>\n      <td>0.72</td>\n      <td>0.81</td>\n      <td>0.61</td>\n      <td>0.88</td>\n    </tr>\n    <tr>\n      <th>Japan</th>\n      <td>0.80</td>\n      <td>0.87</td>\n      <td>0.70</td>\n      <td>0.88</td>\n      <td>1.41</td>\n      <td>0.48</td>\n      <td>0.53</td>\n    </tr>\n    <tr>\n      <th>South Korea</th>\n      <td>1.21</td>\n      <td>1.36</td>\n      <td>1.21</td>\n      <td>2.24</td>\n      <td>1.77</td>\n      <td>1.57</td>\n      <td>1.19</td>\n    </tr>\n    <tr>\n      <th>Australia</th>\n      <td>0.72</td>\n      <td>0.71</td>\n      <td>0.83</td>\n      <td>0.81</td>\n      <td>0.64</td>\n      <td>1.39</td>\n      <td>0.89</td>\n    </tr>\n    <tr>\n      <th>Israel</th>\n      <td>0.60</td>\n      <td>0.38</td>\n      <td>0.60</td>\n      <td>0.35</td>\n      <td>0.51</td>\n      <td>0.40</td>\n      <td>0.53</td>\n    </tr>\n  </tbody>\n</table>\n</div>"
     },
     "execution_count": 4,
     "metadata": {},
     "output_type": "execute_result"
    }
   ],
   "source": [
    "df_spec_dt = pd.read_excel(\"../img/Commission/specialization copy.xlsx\", sheet_name=\"dt\", index_col=0)\n",
    "df_spec_dt"
   ],
   "metadata": {
    "collapsed": false
   }
  },
  {
   "cell_type": "code",
   "execution_count": 47,
   "outputs": [],
   "source": [
    "import numpy as np\n",
    "\n",
    "\n",
    "def discrete_mapping(value:int) -> str:\n",
    "    if value < .80:\n",
    "        return \"Underspecialized (SI < 0.8)\"\n",
    "    elif .8 <= value <= 1.2:\n",
    "        return \"Average (0.8 <= SI <= 1.2)\"\n",
    "    else:\n",
    "        return \"Overspecialized (SI > 1.2)\"\n",
    "df_spec_discrete = df_spec.copy(deep=True)\n",
    "df_spec_dt_discrete = df_spec_dt.copy(deep=True)\n",
    "\n",
    "df_spec_discrete[:] = np.vectorize(discrete_mapping)(df_spec_discrete)\n",
    "df_spec_dt_discrete[:] = np.vectorize(discrete_mapping)(df_spec_dt_discrete)\n",
    "\n"
   ],
   "metadata": {
    "collapsed": false
   }
  },
  {
   "cell_type": "code",
   "execution_count": 9,
   "outputs": [
    {
     "data": {
      "text/plain": "               Society Economy Environment           Society  \\\nAustria           0.69    0.95        0.85  underspecialized   \nBelgium           0.96    1.10        0.92           average   \nBulgaria          0.60    0.76        0.78  underspecialized   \nCroatia           1.21    1.92        1.35   overspecialized   \nCyprus            1.22    1.38        0.96   overspecialized   \nCzech Republic    0.68    1.02        0.80  underspecialized   \nDenmark           0.90    1.00        1.04           average   \nEstonia           0.96    1.22        1.65           average   \nFinland           1.05    1.23        1.31           average   \nFrance            0.69    0.69        1.11  underspecialized   \nGermany           0.67    0.82        0.88  underspecialized   \nGreece            1.37    1.44        1.33   overspecialized   \nHungary           0.81    0.89        0.82           average   \nIreland           0.81    0.95        0.70           average   \nItaly             1.49    1.55        1.48   overspecialized   \nLatvia            1.32    2.58        1.39   overspecialized   \nLithuania         1.23    2.16        1.34   overspecialized   \nLuxembourg        0.87    1.25        0.52           average   \nMalta             0.95    1.34        1.16           average   \nNetherlands       0.96    1.22        0.91           average   \nPoland            0.83    0.88        0.70           average   \nPortugal          1.54    2.14        2.07   overspecialized   \nRomania           1.28    2.08        0.97   overspecialized   \nSlovakia          0.88    1.62        0.69           average   \nSlovenia          0.83    1.15        0.77           average   \nSpain             1.35    1.62        1.52   overspecialized   \nSweden            0.95    1.16        1.05           average   \nNorway            1.05    1.07        1.76           average   \nSwitzerland       0.73    0.83        0.81  underspecialized   \nUnited Kingdom    0.94    1.06        0.95           average   \nCanada            1.02    0.93        1.07           average   \nChina             1.17    1.09        1.06           average   \nUnited States     1.01    0.79        0.85           average   \nJapan             0.51    0.44        0.60  underspecialized   \nSouth Korea       0.65    0.74        0.66  underspecialized   \nAustralia         1.43    1.52        1.58   overspecialized   \nIsrael            0.72    0.45        0.51  underspecialized   \n\n                         Economy       Environment    AI  \\\nAustria                  average           average  0.64   \nBelgium                  average           average  0.66   \nBulgaria        underspecialized  underspecialized  0.63   \nCroatia          overspecialized   overspecialized  0.76   \nCyprus           overspecialized           average  0.98   \nCzech Republic           average           average  0.64   \nDenmark                  average           average  0.47   \nEstonia          overspecialized   overspecialized  0.62   \nFinland          overspecialized   overspecialized  0.81   \nFrance          underspecialized           average  0.77   \nGermany                  average           average  0.83   \nGreece           overspecialized   overspecialized  1.34   \nHungary                  average           average  0.73   \nIreland                  average  underspecialized  0.59   \nItaly            overspecialized   overspecialized  1.10   \nLatvia           overspecialized   overspecialized  0.59   \nLithuania        overspecialized   overspecialized  0.64   \nLuxembourg       overspecialized  underspecialized  0.92   \nMalta            overspecialized           average  0.81   \nNetherlands      overspecialized           average  0.64   \nPoland                   average  underspecialized  0.71   \nPortugal         overspecialized   overspecialized  1.12   \nRomania          overspecialized           average  0.92   \nSlovakia         overspecialized  underspecialized  0.70   \nSlovenia                 average  underspecialized  0.90   \nSpain            overspecialized   overspecialized  1.09   \nSweden                   average           average  0.45   \nNorway                   average   overspecialized  0.52   \nSwitzerland              average           average  0.75   \nUnited Kingdom           average           average  0.72   \nCanada                   average           average  0.76   \nChina                    average           average  1.79   \nUnited States   underspecialized           average  0.83   \nJapan           underspecialized  underspecialized  0.80   \nSouth Korea     underspecialized  underspecialized  1.21   \nAustralia        overspecialized   overspecialized  0.72   \nIsrael          underspecialized  underspecialized  0.60   \n\n               computing_infrastructure big_data   IOT robotics blockchain  \\\nAustria                            0.71     0.59  0.83     0.70       1.22   \nBelgium                            0.58     0.63  0.78     0.71       0.47   \nBulgaria                           0.91     0.74  0.78     0.67       0.69   \nCroatia                            0.50     0.55  0.78     0.82       1.39   \nCyprus                             1.08     0.99  1.53     1.07       2.65   \nCzech Republic                     0.50     0.42  0.61     0.68       0.44   \nDenmark                            0.48     0.46  0.46     0.57       0.66   \nEstonia                            0.65     0.76  0.98     0.81       2.46   \nFinland                            1.66     0.83  1.46     0.68       1.25   \nFrance                             0.85     0.72  0.76     0.80       0.59   \nGermany                            0.80     0.68  0.74     0.90       0.66   \nGreece                             1.98     1.71  1.77     1.11       2.34   \nHungary                            0.76     0.70  0.56     0.75       0.53   \nIreland                            0.86     0.77  1.06     0.35       1.43   \nItaly                              1.25     1.10  1.64     1.73       1.29   \nLatvia                             0.61     0.72  1.21     0.64       1.16   \nLithuania                          0.53     0.51  0.57     0.80       1.25   \nLuxembourg                         2.00     1.30  1.54     0.91       3.98   \nMalta                              0.38     0.29  0.47     0.68       5.13   \nNetherlands                        0.42     0.61  0.53     0.65       0.55   \nPoland                             0.56     0.44  0.42     0.66       0.46   \nPortugal                           1.08     0.89  1.61     1.28       1.31   \nRomania                            1.22     0.90  1.40     1.41       1.73   \nSlovakia                           0.49     0.66  0.67     1.09       0.73   \nSlovenia                           0.49     0.54  0.72     0.78       1.21   \nSpain                              1.25     0.99  1.11     1.01       0.88   \nSweden                             0.79     0.61  0.71     0.59       0.35   \nNorway                             0.43     0.62  0.53     0.56       1.10   \nSwitzerland                        0.60     0.59  0.59     0.80       0.94   \nUnited Kingdom                     0.66     0.73  0.68     0.64       0.86   \nCanada                             0.78     0.70  0.74     0.72       0.86   \nChina                              1.67     1.78  1.58     1.44       1.79   \nUnited States                      0.83     0.94  0.72     0.81       0.61   \nJapan                              0.87     0.70  0.88     1.41       0.48   \nSouth Korea                        1.36     1.21  2.24     1.77       1.57   \nAustralia                          0.71     0.83  0.81     0.64       1.39   \nIsrael                             0.38     0.60  0.35     0.51       0.40   \n\n               additive_manufacturing                AI  \\\nAustria                          1.18  underspecialized   \nBelgium                          0.98  underspecialized   \nBulgaria                         0.71  underspecialized   \nCroatia                          0.70  underspecialized   \nCyprus                           0.47           average   \nCzech Republic                   1.25  underspecialized   \nDenmark                          0.57  underspecialized   \nEstonia                          1.22  underspecialized   \nFinland                          0.99           average   \nFrance                           0.77  underspecialized   \nGermany                          1.45           average   \nGreece                           0.94   overspecialized   \nHungary                          0.86  underspecialized   \nIreland                          0.87  underspecialized   \nItaly                            1.60           average   \nLatvia                           0.50  underspecialized   \nLithuania                        1.25  underspecialized   \nLuxembourg                       0.56           average   \nMalta                            1.08           average   \nNetherlands                      0.70  underspecialized   \nPoland                           1.11  underspecialized   \nPortugal                         1.69           average   \nRomania                          1.56           average   \nSlovakia                         1.69  underspecialized   \nSlovenia                         1.22           average   \nSpain                            1.03           average   \nSweden                           0.71  underspecialized   \nNorway                           0.51  underspecialized   \nSwitzerland                      0.87  underspecialized   \nUnited Kingdom                   0.85  underspecialized   \nCanada                           0.66  underspecialized   \nChina                            1.22   overspecialized   \nUnited States                    0.88           average   \nJapan                            0.53           average   \nSouth Korea                      1.19   overspecialized   \nAustralia                        0.89  underspecialized   \nIsrael                           0.53  underspecialized   \n\n               computing_infrastructure          big_data               IOT  \\\nAustria                underspecialized  underspecialized           average   \nBelgium                underspecialized  underspecialized  underspecialized   \nBulgaria                        average  underspecialized  underspecialized   \nCroatia                underspecialized  underspecialized  underspecialized   \nCyprus                          average           average   overspecialized   \nCzech Republic         underspecialized  underspecialized  underspecialized   \nDenmark                underspecialized  underspecialized  underspecialized   \nEstonia                underspecialized  underspecialized           average   \nFinland                 overspecialized           average   overspecialized   \nFrance                          average  underspecialized  underspecialized   \nGermany                         average  underspecialized  underspecialized   \nGreece                  overspecialized   overspecialized   overspecialized   \nHungary                underspecialized  underspecialized  underspecialized   \nIreland                         average  underspecialized           average   \nItaly                   overspecialized           average   overspecialized   \nLatvia                 underspecialized  underspecialized   overspecialized   \nLithuania              underspecialized  underspecialized  underspecialized   \nLuxembourg              overspecialized   overspecialized   overspecialized   \nMalta                  underspecialized  underspecialized  underspecialized   \nNetherlands            underspecialized  underspecialized  underspecialized   \nPoland                 underspecialized  underspecialized  underspecialized   \nPortugal                        average           average   overspecialized   \nRomania                 overspecialized           average   overspecialized   \nSlovakia               underspecialized  underspecialized  underspecialized   \nSlovenia               underspecialized  underspecialized  underspecialized   \nSpain                   overspecialized           average           average   \nSweden                 underspecialized  underspecialized  underspecialized   \nNorway                 underspecialized  underspecialized  underspecialized   \nSwitzerland            underspecialized  underspecialized  underspecialized   \nUnited Kingdom         underspecialized  underspecialized  underspecialized   \nCanada                 underspecialized  underspecialized  underspecialized   \nChina                   overspecialized   overspecialized   overspecialized   \nUnited States                   average           average  underspecialized   \nJapan                           average  underspecialized           average   \nSouth Korea             overspecialized   overspecialized   overspecialized   \nAustralia              underspecialized           average           average   \nIsrael                 underspecialized  underspecialized  underspecialized   \n\n                        robotics        blockchain additive_manufacturing  \nAustria         underspecialized   overspecialized                average  \nBelgium         underspecialized  underspecialized                average  \nBulgaria        underspecialized  underspecialized       underspecialized  \nCroatia                  average   overspecialized       underspecialized  \nCyprus                   average   overspecialized       underspecialized  \nCzech Republic  underspecialized  underspecialized        overspecialized  \nDenmark         underspecialized  underspecialized       underspecialized  \nEstonia                  average   overspecialized        overspecialized  \nFinland         underspecialized   overspecialized                average  \nFrance                   average  underspecialized       underspecialized  \nGermany                  average  underspecialized        overspecialized  \nGreece                   average   overspecialized                average  \nHungary         underspecialized  underspecialized                average  \nIreland         underspecialized   overspecialized                average  \nItaly            overspecialized   overspecialized        overspecialized  \nLatvia          underspecialized           average       underspecialized  \nLithuania                average   overspecialized        overspecialized  \nLuxembourg               average   overspecialized       underspecialized  \nMalta           underspecialized   overspecialized                average  \nNetherlands     underspecialized  underspecialized       underspecialized  \nPoland          underspecialized  underspecialized                average  \nPortugal         overspecialized   overspecialized        overspecialized  \nRomania          overspecialized   overspecialized        overspecialized  \nSlovakia                 average  underspecialized        overspecialized  \nSlovenia        underspecialized   overspecialized        overspecialized  \nSpain                    average           average                average  \nSweden          underspecialized  underspecialized       underspecialized  \nNorway          underspecialized           average       underspecialized  \nSwitzerland              average           average                average  \nUnited Kingdom  underspecialized           average                average  \nCanada          underspecialized           average       underspecialized  \nChina            overspecialized   overspecialized        overspecialized  \nUnited States            average  underspecialized                average  \nJapan            overspecialized  underspecialized       underspecialized  \nSouth Korea      overspecialized   overspecialized                average  \nAustralia       underspecialized   overspecialized                average  \nIsrael          underspecialized  underspecialized       underspecialized  ",
      "text/html": "<div>\n<style scoped>\n    .dataframe tbody tr th:only-of-type {\n        vertical-align: middle;\n    }\n\n    .dataframe tbody tr th {\n        vertical-align: top;\n    }\n\n    .dataframe thead th {\n        text-align: right;\n    }\n</style>\n<table border=\"1\" class=\"dataframe\">\n  <thead>\n    <tr style=\"text-align: right;\">\n      <th></th>\n      <th>Society</th>\n      <th>Economy</th>\n      <th>Environment</th>\n      <th>Society</th>\n      <th>Economy</th>\n      <th>Environment</th>\n      <th>AI</th>\n      <th>computing_infrastructure</th>\n      <th>big_data</th>\n      <th>IOT</th>\n      <th>robotics</th>\n      <th>blockchain</th>\n      <th>additive_manufacturing</th>\n      <th>AI</th>\n      <th>computing_infrastructure</th>\n      <th>big_data</th>\n      <th>IOT</th>\n      <th>robotics</th>\n      <th>blockchain</th>\n      <th>additive_manufacturing</th>\n    </tr>\n  </thead>\n  <tbody>\n    <tr>\n      <th>Austria</th>\n      <td>0.69</td>\n      <td>0.95</td>\n      <td>0.85</td>\n      <td>underspecialized</td>\n      <td>average</td>\n      <td>average</td>\n      <td>0.64</td>\n      <td>0.71</td>\n      <td>0.59</td>\n      <td>0.83</td>\n      <td>0.70</td>\n      <td>1.22</td>\n      <td>1.18</td>\n      <td>underspecialized</td>\n      <td>underspecialized</td>\n      <td>underspecialized</td>\n      <td>average</td>\n      <td>underspecialized</td>\n      <td>overspecialized</td>\n      <td>average</td>\n    </tr>\n    <tr>\n      <th>Belgium</th>\n      <td>0.96</td>\n      <td>1.10</td>\n      <td>0.92</td>\n      <td>average</td>\n      <td>average</td>\n      <td>average</td>\n      <td>0.66</td>\n      <td>0.58</td>\n      <td>0.63</td>\n      <td>0.78</td>\n      <td>0.71</td>\n      <td>0.47</td>\n      <td>0.98</td>\n      <td>underspecialized</td>\n      <td>underspecialized</td>\n      <td>underspecialized</td>\n      <td>underspecialized</td>\n      <td>underspecialized</td>\n      <td>underspecialized</td>\n      <td>average</td>\n    </tr>\n    <tr>\n      <th>Bulgaria</th>\n      <td>0.60</td>\n      <td>0.76</td>\n      <td>0.78</td>\n      <td>underspecialized</td>\n      <td>underspecialized</td>\n      <td>underspecialized</td>\n      <td>0.63</td>\n      <td>0.91</td>\n      <td>0.74</td>\n      <td>0.78</td>\n      <td>0.67</td>\n      <td>0.69</td>\n      <td>0.71</td>\n      <td>underspecialized</td>\n      <td>average</td>\n      <td>underspecialized</td>\n      <td>underspecialized</td>\n      <td>underspecialized</td>\n      <td>underspecialized</td>\n      <td>underspecialized</td>\n    </tr>\n    <tr>\n      <th>Croatia</th>\n      <td>1.21</td>\n      <td>1.92</td>\n      <td>1.35</td>\n      <td>overspecialized</td>\n      <td>overspecialized</td>\n      <td>overspecialized</td>\n      <td>0.76</td>\n      <td>0.50</td>\n      <td>0.55</td>\n      <td>0.78</td>\n      <td>0.82</td>\n      <td>1.39</td>\n      <td>0.70</td>\n      <td>underspecialized</td>\n      <td>underspecialized</td>\n      <td>underspecialized</td>\n      <td>underspecialized</td>\n      <td>average</td>\n      <td>overspecialized</td>\n      <td>underspecialized</td>\n    </tr>\n    <tr>\n      <th>Cyprus</th>\n      <td>1.22</td>\n      <td>1.38</td>\n      <td>0.96</td>\n      <td>overspecialized</td>\n      <td>overspecialized</td>\n      <td>average</td>\n      <td>0.98</td>\n      <td>1.08</td>\n      <td>0.99</td>\n      <td>1.53</td>\n      <td>1.07</td>\n      <td>2.65</td>\n      <td>0.47</td>\n      <td>average</td>\n      <td>average</td>\n      <td>average</td>\n      <td>overspecialized</td>\n      <td>average</td>\n      <td>overspecialized</td>\n      <td>underspecialized</td>\n    </tr>\n    <tr>\n      <th>Czech Republic</th>\n      <td>0.68</td>\n      <td>1.02</td>\n      <td>0.80</td>\n      <td>underspecialized</td>\n      <td>average</td>\n      <td>average</td>\n      <td>0.64</td>\n      <td>0.50</td>\n      <td>0.42</td>\n      <td>0.61</td>\n      <td>0.68</td>\n      <td>0.44</td>\n      <td>1.25</td>\n      <td>underspecialized</td>\n      <td>underspecialized</td>\n      <td>underspecialized</td>\n      <td>underspecialized</td>\n      <td>underspecialized</td>\n      <td>underspecialized</td>\n      <td>overspecialized</td>\n    </tr>\n    <tr>\n      <th>Denmark</th>\n      <td>0.90</td>\n      <td>1.00</td>\n      <td>1.04</td>\n      <td>average</td>\n      <td>average</td>\n      <td>average</td>\n      <td>0.47</td>\n      <td>0.48</td>\n      <td>0.46</td>\n      <td>0.46</td>\n      <td>0.57</td>\n      <td>0.66</td>\n      <td>0.57</td>\n      <td>underspecialized</td>\n      <td>underspecialized</td>\n      <td>underspecialized</td>\n      <td>underspecialized</td>\n      <td>underspecialized</td>\n      <td>underspecialized</td>\n      <td>underspecialized</td>\n    </tr>\n    <tr>\n      <th>Estonia</th>\n      <td>0.96</td>\n      <td>1.22</td>\n      <td>1.65</td>\n      <td>average</td>\n      <td>overspecialized</td>\n      <td>overspecialized</td>\n      <td>0.62</td>\n      <td>0.65</td>\n      <td>0.76</td>\n      <td>0.98</td>\n      <td>0.81</td>\n      <td>2.46</td>\n      <td>1.22</td>\n      <td>underspecialized</td>\n      <td>underspecialized</td>\n      <td>underspecialized</td>\n      <td>average</td>\n      <td>average</td>\n      <td>overspecialized</td>\n      <td>overspecialized</td>\n    </tr>\n    <tr>\n      <th>Finland</th>\n      <td>1.05</td>\n      <td>1.23</td>\n      <td>1.31</td>\n      <td>average</td>\n      <td>overspecialized</td>\n      <td>overspecialized</td>\n      <td>0.81</td>\n      <td>1.66</td>\n      <td>0.83</td>\n      <td>1.46</td>\n      <td>0.68</td>\n      <td>1.25</td>\n      <td>0.99</td>\n      <td>average</td>\n      <td>overspecialized</td>\n      <td>average</td>\n      <td>overspecialized</td>\n      <td>underspecialized</td>\n      <td>overspecialized</td>\n      <td>average</td>\n    </tr>\n    <tr>\n      <th>France</th>\n      <td>0.69</td>\n      <td>0.69</td>\n      <td>1.11</td>\n      <td>underspecialized</td>\n      <td>underspecialized</td>\n      <td>average</td>\n      <td>0.77</td>\n      <td>0.85</td>\n      <td>0.72</td>\n      <td>0.76</td>\n      <td>0.80</td>\n      <td>0.59</td>\n      <td>0.77</td>\n      <td>underspecialized</td>\n      <td>average</td>\n      <td>underspecialized</td>\n      <td>underspecialized</td>\n      <td>average</td>\n      <td>underspecialized</td>\n      <td>underspecialized</td>\n    </tr>\n    <tr>\n      <th>Germany</th>\n      <td>0.67</td>\n      <td>0.82</td>\n      <td>0.88</td>\n      <td>underspecialized</td>\n      <td>average</td>\n      <td>average</td>\n      <td>0.83</td>\n      <td>0.80</td>\n      <td>0.68</td>\n      <td>0.74</td>\n      <td>0.90</td>\n      <td>0.66</td>\n      <td>1.45</td>\n      <td>average</td>\n      <td>average</td>\n      <td>underspecialized</td>\n      <td>underspecialized</td>\n      <td>average</td>\n      <td>underspecialized</td>\n      <td>overspecialized</td>\n    </tr>\n    <tr>\n      <th>Greece</th>\n      <td>1.37</td>\n      <td>1.44</td>\n      <td>1.33</td>\n      <td>overspecialized</td>\n      <td>overspecialized</td>\n      <td>overspecialized</td>\n      <td>1.34</td>\n      <td>1.98</td>\n      <td>1.71</td>\n      <td>1.77</td>\n      <td>1.11</td>\n      <td>2.34</td>\n      <td>0.94</td>\n      <td>overspecialized</td>\n      <td>overspecialized</td>\n      <td>overspecialized</td>\n      <td>overspecialized</td>\n      <td>average</td>\n      <td>overspecialized</td>\n      <td>average</td>\n    </tr>\n    <tr>\n      <th>Hungary</th>\n      <td>0.81</td>\n      <td>0.89</td>\n      <td>0.82</td>\n      <td>average</td>\n      <td>average</td>\n      <td>average</td>\n      <td>0.73</td>\n      <td>0.76</td>\n      <td>0.70</td>\n      <td>0.56</td>\n      <td>0.75</td>\n      <td>0.53</td>\n      <td>0.86</td>\n      <td>underspecialized</td>\n      <td>underspecialized</td>\n      <td>underspecialized</td>\n      <td>underspecialized</td>\n      <td>underspecialized</td>\n      <td>underspecialized</td>\n      <td>average</td>\n    </tr>\n    <tr>\n      <th>Ireland</th>\n      <td>0.81</td>\n      <td>0.95</td>\n      <td>0.70</td>\n      <td>average</td>\n      <td>average</td>\n      <td>underspecialized</td>\n      <td>0.59</td>\n      <td>0.86</td>\n      <td>0.77</td>\n      <td>1.06</td>\n      <td>0.35</td>\n      <td>1.43</td>\n      <td>0.87</td>\n      <td>underspecialized</td>\n      <td>average</td>\n      <td>underspecialized</td>\n      <td>average</td>\n      <td>underspecialized</td>\n      <td>overspecialized</td>\n      <td>average</td>\n    </tr>\n    <tr>\n      <th>Italy</th>\n      <td>1.49</td>\n      <td>1.55</td>\n      <td>1.48</td>\n      <td>overspecialized</td>\n      <td>overspecialized</td>\n      <td>overspecialized</td>\n      <td>1.10</td>\n      <td>1.25</td>\n      <td>1.10</td>\n      <td>1.64</td>\n      <td>1.73</td>\n      <td>1.29</td>\n      <td>1.60</td>\n      <td>average</td>\n      <td>overspecialized</td>\n      <td>average</td>\n      <td>overspecialized</td>\n      <td>overspecialized</td>\n      <td>overspecialized</td>\n      <td>overspecialized</td>\n    </tr>\n    <tr>\n      <th>Latvia</th>\n      <td>1.32</td>\n      <td>2.58</td>\n      <td>1.39</td>\n      <td>overspecialized</td>\n      <td>overspecialized</td>\n      <td>overspecialized</td>\n      <td>0.59</td>\n      <td>0.61</td>\n      <td>0.72</td>\n      <td>1.21</td>\n      <td>0.64</td>\n      <td>1.16</td>\n      <td>0.50</td>\n      <td>underspecialized</td>\n      <td>underspecialized</td>\n      <td>underspecialized</td>\n      <td>overspecialized</td>\n      <td>underspecialized</td>\n      <td>average</td>\n      <td>underspecialized</td>\n    </tr>\n    <tr>\n      <th>Lithuania</th>\n      <td>1.23</td>\n      <td>2.16</td>\n      <td>1.34</td>\n      <td>overspecialized</td>\n      <td>overspecialized</td>\n      <td>overspecialized</td>\n      <td>0.64</td>\n      <td>0.53</td>\n      <td>0.51</td>\n      <td>0.57</td>\n      <td>0.80</td>\n      <td>1.25</td>\n      <td>1.25</td>\n      <td>underspecialized</td>\n      <td>underspecialized</td>\n      <td>underspecialized</td>\n      <td>underspecialized</td>\n      <td>average</td>\n      <td>overspecialized</td>\n      <td>overspecialized</td>\n    </tr>\n    <tr>\n      <th>Luxembourg</th>\n      <td>0.87</td>\n      <td>1.25</td>\n      <td>0.52</td>\n      <td>average</td>\n      <td>overspecialized</td>\n      <td>underspecialized</td>\n      <td>0.92</td>\n      <td>2.00</td>\n      <td>1.30</td>\n      <td>1.54</td>\n      <td>0.91</td>\n      <td>3.98</td>\n      <td>0.56</td>\n      <td>average</td>\n      <td>overspecialized</td>\n      <td>overspecialized</td>\n      <td>overspecialized</td>\n      <td>average</td>\n      <td>overspecialized</td>\n      <td>underspecialized</td>\n    </tr>\n    <tr>\n      <th>Malta</th>\n      <td>0.95</td>\n      <td>1.34</td>\n      <td>1.16</td>\n      <td>average</td>\n      <td>overspecialized</td>\n      <td>average</td>\n      <td>0.81</td>\n      <td>0.38</td>\n      <td>0.29</td>\n      <td>0.47</td>\n      <td>0.68</td>\n      <td>5.13</td>\n      <td>1.08</td>\n      <td>average</td>\n      <td>underspecialized</td>\n      <td>underspecialized</td>\n      <td>underspecialized</td>\n      <td>underspecialized</td>\n      <td>overspecialized</td>\n      <td>average</td>\n    </tr>\n    <tr>\n      <th>Netherlands</th>\n      <td>0.96</td>\n      <td>1.22</td>\n      <td>0.91</td>\n      <td>average</td>\n      <td>overspecialized</td>\n      <td>average</td>\n      <td>0.64</td>\n      <td>0.42</td>\n      <td>0.61</td>\n      <td>0.53</td>\n      <td>0.65</td>\n      <td>0.55</td>\n      <td>0.70</td>\n      <td>underspecialized</td>\n      <td>underspecialized</td>\n      <td>underspecialized</td>\n      <td>underspecialized</td>\n      <td>underspecialized</td>\n      <td>underspecialized</td>\n      <td>underspecialized</td>\n    </tr>\n    <tr>\n      <th>Poland</th>\n      <td>0.83</td>\n      <td>0.88</td>\n      <td>0.70</td>\n      <td>average</td>\n      <td>average</td>\n      <td>underspecialized</td>\n      <td>0.71</td>\n      <td>0.56</td>\n      <td>0.44</td>\n      <td>0.42</td>\n      <td>0.66</td>\n      <td>0.46</td>\n      <td>1.11</td>\n      <td>underspecialized</td>\n      <td>underspecialized</td>\n      <td>underspecialized</td>\n      <td>underspecialized</td>\n      <td>underspecialized</td>\n      <td>underspecialized</td>\n      <td>average</td>\n    </tr>\n    <tr>\n      <th>Portugal</th>\n      <td>1.54</td>\n      <td>2.14</td>\n      <td>2.07</td>\n      <td>overspecialized</td>\n      <td>overspecialized</td>\n      <td>overspecialized</td>\n      <td>1.12</td>\n      <td>1.08</td>\n      <td>0.89</td>\n      <td>1.61</td>\n      <td>1.28</td>\n      <td>1.31</td>\n      <td>1.69</td>\n      <td>average</td>\n      <td>average</td>\n      <td>average</td>\n      <td>overspecialized</td>\n      <td>overspecialized</td>\n      <td>overspecialized</td>\n      <td>overspecialized</td>\n    </tr>\n    <tr>\n      <th>Romania</th>\n      <td>1.28</td>\n      <td>2.08</td>\n      <td>0.97</td>\n      <td>overspecialized</td>\n      <td>overspecialized</td>\n      <td>average</td>\n      <td>0.92</td>\n      <td>1.22</td>\n      <td>0.90</td>\n      <td>1.40</td>\n      <td>1.41</td>\n      <td>1.73</td>\n      <td>1.56</td>\n      <td>average</td>\n      <td>overspecialized</td>\n      <td>average</td>\n      <td>overspecialized</td>\n      <td>overspecialized</td>\n      <td>overspecialized</td>\n      <td>overspecialized</td>\n    </tr>\n    <tr>\n      <th>Slovakia</th>\n      <td>0.88</td>\n      <td>1.62</td>\n      <td>0.69</td>\n      <td>average</td>\n      <td>overspecialized</td>\n      <td>underspecialized</td>\n      <td>0.70</td>\n      <td>0.49</td>\n      <td>0.66</td>\n      <td>0.67</td>\n      <td>1.09</td>\n      <td>0.73</td>\n      <td>1.69</td>\n      <td>underspecialized</td>\n      <td>underspecialized</td>\n      <td>underspecialized</td>\n      <td>underspecialized</td>\n      <td>average</td>\n      <td>underspecialized</td>\n      <td>overspecialized</td>\n    </tr>\n    <tr>\n      <th>Slovenia</th>\n      <td>0.83</td>\n      <td>1.15</td>\n      <td>0.77</td>\n      <td>average</td>\n      <td>average</td>\n      <td>underspecialized</td>\n      <td>0.90</td>\n      <td>0.49</td>\n      <td>0.54</td>\n      <td>0.72</td>\n      <td>0.78</td>\n      <td>1.21</td>\n      <td>1.22</td>\n      <td>average</td>\n      <td>underspecialized</td>\n      <td>underspecialized</td>\n      <td>underspecialized</td>\n      <td>underspecialized</td>\n      <td>overspecialized</td>\n      <td>overspecialized</td>\n    </tr>\n    <tr>\n      <th>Spain</th>\n      <td>1.35</td>\n      <td>1.62</td>\n      <td>1.52</td>\n      <td>overspecialized</td>\n      <td>overspecialized</td>\n      <td>overspecialized</td>\n      <td>1.09</td>\n      <td>1.25</td>\n      <td>0.99</td>\n      <td>1.11</td>\n      <td>1.01</td>\n      <td>0.88</td>\n      <td>1.03</td>\n      <td>average</td>\n      <td>overspecialized</td>\n      <td>average</td>\n      <td>average</td>\n      <td>average</td>\n      <td>average</td>\n      <td>average</td>\n    </tr>\n    <tr>\n      <th>Sweden</th>\n      <td>0.95</td>\n      <td>1.16</td>\n      <td>1.05</td>\n      <td>average</td>\n      <td>average</td>\n      <td>average</td>\n      <td>0.45</td>\n      <td>0.79</td>\n      <td>0.61</td>\n      <td>0.71</td>\n      <td>0.59</td>\n      <td>0.35</td>\n      <td>0.71</td>\n      <td>underspecialized</td>\n      <td>underspecialized</td>\n      <td>underspecialized</td>\n      <td>underspecialized</td>\n      <td>underspecialized</td>\n      <td>underspecialized</td>\n      <td>underspecialized</td>\n    </tr>\n    <tr>\n      <th>Norway</th>\n      <td>1.05</td>\n      <td>1.07</td>\n      <td>1.76</td>\n      <td>average</td>\n      <td>average</td>\n      <td>overspecialized</td>\n      <td>0.52</td>\n      <td>0.43</td>\n      <td>0.62</td>\n      <td>0.53</td>\n      <td>0.56</td>\n      <td>1.10</td>\n      <td>0.51</td>\n      <td>underspecialized</td>\n      <td>underspecialized</td>\n      <td>underspecialized</td>\n      <td>underspecialized</td>\n      <td>underspecialized</td>\n      <td>average</td>\n      <td>underspecialized</td>\n    </tr>\n    <tr>\n      <th>Switzerland</th>\n      <td>0.73</td>\n      <td>0.83</td>\n      <td>0.81</td>\n      <td>underspecialized</td>\n      <td>average</td>\n      <td>average</td>\n      <td>0.75</td>\n      <td>0.60</td>\n      <td>0.59</td>\n      <td>0.59</td>\n      <td>0.80</td>\n      <td>0.94</td>\n      <td>0.87</td>\n      <td>underspecialized</td>\n      <td>underspecialized</td>\n      <td>underspecialized</td>\n      <td>underspecialized</td>\n      <td>average</td>\n      <td>average</td>\n      <td>average</td>\n    </tr>\n    <tr>\n      <th>United Kingdom</th>\n      <td>0.94</td>\n      <td>1.06</td>\n      <td>0.95</td>\n      <td>average</td>\n      <td>average</td>\n      <td>average</td>\n      <td>0.72</td>\n      <td>0.66</td>\n      <td>0.73</td>\n      <td>0.68</td>\n      <td>0.64</td>\n      <td>0.86</td>\n      <td>0.85</td>\n      <td>underspecialized</td>\n      <td>underspecialized</td>\n      <td>underspecialized</td>\n      <td>underspecialized</td>\n      <td>underspecialized</td>\n      <td>average</td>\n      <td>average</td>\n    </tr>\n    <tr>\n      <th>Canada</th>\n      <td>1.02</td>\n      <td>0.93</td>\n      <td>1.07</td>\n      <td>average</td>\n      <td>average</td>\n      <td>average</td>\n      <td>0.76</td>\n      <td>0.78</td>\n      <td>0.70</td>\n      <td>0.74</td>\n      <td>0.72</td>\n      <td>0.86</td>\n      <td>0.66</td>\n      <td>underspecialized</td>\n      <td>underspecialized</td>\n      <td>underspecialized</td>\n      <td>underspecialized</td>\n      <td>underspecialized</td>\n      <td>average</td>\n      <td>underspecialized</td>\n    </tr>\n    <tr>\n      <th>China</th>\n      <td>1.17</td>\n      <td>1.09</td>\n      <td>1.06</td>\n      <td>average</td>\n      <td>average</td>\n      <td>average</td>\n      <td>1.79</td>\n      <td>1.67</td>\n      <td>1.78</td>\n      <td>1.58</td>\n      <td>1.44</td>\n      <td>1.79</td>\n      <td>1.22</td>\n      <td>overspecialized</td>\n      <td>overspecialized</td>\n      <td>overspecialized</td>\n      <td>overspecialized</td>\n      <td>overspecialized</td>\n      <td>overspecialized</td>\n      <td>overspecialized</td>\n    </tr>\n    <tr>\n      <th>United States</th>\n      <td>1.01</td>\n      <td>0.79</td>\n      <td>0.85</td>\n      <td>average</td>\n      <td>underspecialized</td>\n      <td>average</td>\n      <td>0.83</td>\n      <td>0.83</td>\n      <td>0.94</td>\n      <td>0.72</td>\n      <td>0.81</td>\n      <td>0.61</td>\n      <td>0.88</td>\n      <td>average</td>\n      <td>average</td>\n      <td>average</td>\n      <td>underspecialized</td>\n      <td>average</td>\n      <td>underspecialized</td>\n      <td>average</td>\n    </tr>\n    <tr>\n      <th>Japan</th>\n      <td>0.51</td>\n      <td>0.44</td>\n      <td>0.60</td>\n      <td>underspecialized</td>\n      <td>underspecialized</td>\n      <td>underspecialized</td>\n      <td>0.80</td>\n      <td>0.87</td>\n      <td>0.70</td>\n      <td>0.88</td>\n      <td>1.41</td>\n      <td>0.48</td>\n      <td>0.53</td>\n      <td>average</td>\n      <td>average</td>\n      <td>underspecialized</td>\n      <td>average</td>\n      <td>overspecialized</td>\n      <td>underspecialized</td>\n      <td>underspecialized</td>\n    </tr>\n    <tr>\n      <th>South Korea</th>\n      <td>0.65</td>\n      <td>0.74</td>\n      <td>0.66</td>\n      <td>underspecialized</td>\n      <td>underspecialized</td>\n      <td>underspecialized</td>\n      <td>1.21</td>\n      <td>1.36</td>\n      <td>1.21</td>\n      <td>2.24</td>\n      <td>1.77</td>\n      <td>1.57</td>\n      <td>1.19</td>\n      <td>overspecialized</td>\n      <td>overspecialized</td>\n      <td>overspecialized</td>\n      <td>overspecialized</td>\n      <td>overspecialized</td>\n      <td>overspecialized</td>\n      <td>average</td>\n    </tr>\n    <tr>\n      <th>Australia</th>\n      <td>1.43</td>\n      <td>1.52</td>\n      <td>1.58</td>\n      <td>overspecialized</td>\n      <td>overspecialized</td>\n      <td>overspecialized</td>\n      <td>0.72</td>\n      <td>0.71</td>\n      <td>0.83</td>\n      <td>0.81</td>\n      <td>0.64</td>\n      <td>1.39</td>\n      <td>0.89</td>\n      <td>underspecialized</td>\n      <td>underspecialized</td>\n      <td>average</td>\n      <td>average</td>\n      <td>underspecialized</td>\n      <td>overspecialized</td>\n      <td>average</td>\n    </tr>\n    <tr>\n      <th>Israel</th>\n      <td>0.72</td>\n      <td>0.45</td>\n      <td>0.51</td>\n      <td>underspecialized</td>\n      <td>underspecialized</td>\n      <td>underspecialized</td>\n      <td>0.60</td>\n      <td>0.38</td>\n      <td>0.60</td>\n      <td>0.35</td>\n      <td>0.51</td>\n      <td>0.40</td>\n      <td>0.53</td>\n      <td>underspecialized</td>\n      <td>underspecialized</td>\n      <td>underspecialized</td>\n      <td>underspecialized</td>\n      <td>underspecialized</td>\n      <td>underspecialized</td>\n      <td>underspecialized</td>\n    </tr>\n  </tbody>\n</table>\n</div>"
     },
     "execution_count": 9,
     "metadata": {},
     "output_type": "execute_result"
    }
   ],
   "source": [],
   "metadata": {
    "collapsed": false
   }
  },
  {
   "cell_type": "code",
   "execution_count": 25,
   "outputs": [
    {
     "data": {
      "application/vnd.plotly.v1+json": {
       "data": [
        {
         "autocolorscale": false,
         "colorscale": [
          [
           0.0,
           "rgb(247,251,255)"
          ],
          [
           0.125,
           "rgb(222,235,247)"
          ],
          [
           0.25,
           "rgb(198,219,239)"
          ],
          [
           0.375,
           "rgb(158,202,225)"
          ],
          [
           0.5,
           "rgb(107,174,214)"
          ],
          [
           0.625,
           "rgb(66,146,198)"
          ],
          [
           0.75,
           "rgb(33,113,181)"
          ],
          [
           0.875,
           "rgb(8,81,156)"
          ],
          [
           1.0,
           "rgb(8,48,107)"
          ]
         ],
         "locationmode": "country names",
         "locations": [
          "Austria",
          "Belgium",
          "Bulgaria",
          "Croatia",
          "Cyprus",
          "Czech Republic",
          "Denmark",
          "Estonia",
          "Finland",
          "France",
          "Germany",
          "Greece",
          "Hungary",
          "Ireland",
          "Italy",
          "Latvia",
          "Lithuania",
          "Luxembourg",
          "Malta",
          "Netherlands",
          "Poland",
          "Portugal",
          "Romania",
          "Slovakia",
          "Slovenia",
          "Spain",
          "Sweden",
          "Norway",
          "Switzerland",
          "United Kingdom",
          "Canada",
          "China",
          "United States",
          "Japan",
          "South Korea",
          "Australia",
          "Israel"
         ],
         "text": [
          "Austria",
          "Belgium",
          "Bulgaria",
          "Croatia",
          "Cyprus",
          "Czech Republic",
          "Denmark",
          "Estonia",
          "Finland",
          "France",
          "Germany",
          "Greece",
          "Hungary",
          "Ireland",
          "Italy",
          "Latvia",
          "Lithuania",
          "Luxembourg",
          "Malta",
          "Netherlands",
          "Poland",
          "Portugal",
          "Romania",
          "Slovakia",
          "Slovenia",
          "Spain",
          "Sweden",
          "Norway",
          "Switzerland",
          "United Kingdom",
          "Canada",
          "China",
          "United States",
          "Japan",
          "South Korea",
          "Australia",
          "Israel"
         ],
         "z": [
          0.69,
          0.96,
          0.6,
          1.21,
          1.22,
          0.68,
          0.9,
          0.96,
          1.05,
          0.69,
          0.67,
          1.37,
          0.81,
          0.81,
          1.49,
          1.32,
          1.23,
          0.87,
          0.95,
          0.96,
          0.83,
          1.54,
          1.28,
          0.88,
          0.83,
          1.35,
          0.95,
          1.05,
          0.73,
          0.94,
          1.02,
          1.17,
          1.01,
          0.51,
          0.65,
          1.43,
          0.72
         ],
         "type": "choropleth"
        }
       ],
       "layout": {
        "template": {
         "data": {
          "barpolar": [
           {
            "marker": {
             "line": {
              "color": "#E5ECF6",
              "width": 0.5
             },
             "pattern": {
              "fillmode": "overlay",
              "size": 10,
              "solidity": 0.2
             }
            },
            "type": "barpolar"
           }
          ],
          "bar": [
           {
            "error_x": {
             "color": "#2a3f5f"
            },
            "error_y": {
             "color": "#2a3f5f"
            },
            "marker": {
             "line": {
              "color": "#E5ECF6",
              "width": 0.5
             },
             "pattern": {
              "fillmode": "overlay",
              "size": 10,
              "solidity": 0.2
             }
            },
            "type": "bar"
           }
          ],
          "carpet": [
           {
            "aaxis": {
             "endlinecolor": "#2a3f5f",
             "gridcolor": "white",
             "linecolor": "white",
             "minorgridcolor": "white",
             "startlinecolor": "#2a3f5f"
            },
            "baxis": {
             "endlinecolor": "#2a3f5f",
             "gridcolor": "white",
             "linecolor": "white",
             "minorgridcolor": "white",
             "startlinecolor": "#2a3f5f"
            },
            "type": "carpet"
           }
          ],
          "choropleth": [
           {
            "colorbar": {
             "outlinewidth": 0,
             "ticks": ""
            },
            "type": "choropleth"
           }
          ],
          "contourcarpet": [
           {
            "colorbar": {
             "outlinewidth": 0,
             "ticks": ""
            },
            "type": "contourcarpet"
           }
          ],
          "contour": [
           {
            "colorbar": {
             "outlinewidth": 0,
             "ticks": ""
            },
            "colorscale": [
             [
              0.0,
              "#0d0887"
             ],
             [
              0.1111111111111111,
              "#46039f"
             ],
             [
              0.2222222222222222,
              "#7201a8"
             ],
             [
              0.3333333333333333,
              "#9c179e"
             ],
             [
              0.4444444444444444,
              "#bd3786"
             ],
             [
              0.5555555555555556,
              "#d8576b"
             ],
             [
              0.6666666666666666,
              "#ed7953"
             ],
             [
              0.7777777777777778,
              "#fb9f3a"
             ],
             [
              0.8888888888888888,
              "#fdca26"
             ],
             [
              1.0,
              "#f0f921"
             ]
            ],
            "type": "contour"
           }
          ],
          "heatmapgl": [
           {
            "colorbar": {
             "outlinewidth": 0,
             "ticks": ""
            },
            "colorscale": [
             [
              0.0,
              "#0d0887"
             ],
             [
              0.1111111111111111,
              "#46039f"
             ],
             [
              0.2222222222222222,
              "#7201a8"
             ],
             [
              0.3333333333333333,
              "#9c179e"
             ],
             [
              0.4444444444444444,
              "#bd3786"
             ],
             [
              0.5555555555555556,
              "#d8576b"
             ],
             [
              0.6666666666666666,
              "#ed7953"
             ],
             [
              0.7777777777777778,
              "#fb9f3a"
             ],
             [
              0.8888888888888888,
              "#fdca26"
             ],
             [
              1.0,
              "#f0f921"
             ]
            ],
            "type": "heatmapgl"
           }
          ],
          "heatmap": [
           {
            "colorbar": {
             "outlinewidth": 0,
             "ticks": ""
            },
            "colorscale": [
             [
              0.0,
              "#0d0887"
             ],
             [
              0.1111111111111111,
              "#46039f"
             ],
             [
              0.2222222222222222,
              "#7201a8"
             ],
             [
              0.3333333333333333,
              "#9c179e"
             ],
             [
              0.4444444444444444,
              "#bd3786"
             ],
             [
              0.5555555555555556,
              "#d8576b"
             ],
             [
              0.6666666666666666,
              "#ed7953"
             ],
             [
              0.7777777777777778,
              "#fb9f3a"
             ],
             [
              0.8888888888888888,
              "#fdca26"
             ],
             [
              1.0,
              "#f0f921"
             ]
            ],
            "type": "heatmap"
           }
          ],
          "histogram2dcontour": [
           {
            "colorbar": {
             "outlinewidth": 0,
             "ticks": ""
            },
            "colorscale": [
             [
              0.0,
              "#0d0887"
             ],
             [
              0.1111111111111111,
              "#46039f"
             ],
             [
              0.2222222222222222,
              "#7201a8"
             ],
             [
              0.3333333333333333,
              "#9c179e"
             ],
             [
              0.4444444444444444,
              "#bd3786"
             ],
             [
              0.5555555555555556,
              "#d8576b"
             ],
             [
              0.6666666666666666,
              "#ed7953"
             ],
             [
              0.7777777777777778,
              "#fb9f3a"
             ],
             [
              0.8888888888888888,
              "#fdca26"
             ],
             [
              1.0,
              "#f0f921"
             ]
            ],
            "type": "histogram2dcontour"
           }
          ],
          "histogram2d": [
           {
            "colorbar": {
             "outlinewidth": 0,
             "ticks": ""
            },
            "colorscale": [
             [
              0.0,
              "#0d0887"
             ],
             [
              0.1111111111111111,
              "#46039f"
             ],
             [
              0.2222222222222222,
              "#7201a8"
             ],
             [
              0.3333333333333333,
              "#9c179e"
             ],
             [
              0.4444444444444444,
              "#bd3786"
             ],
             [
              0.5555555555555556,
              "#d8576b"
             ],
             [
              0.6666666666666666,
              "#ed7953"
             ],
             [
              0.7777777777777778,
              "#fb9f3a"
             ],
             [
              0.8888888888888888,
              "#fdca26"
             ],
             [
              1.0,
              "#f0f921"
             ]
            ],
            "type": "histogram2d"
           }
          ],
          "histogram": [
           {
            "marker": {
             "pattern": {
              "fillmode": "overlay",
              "size": 10,
              "solidity": 0.2
             }
            },
            "type": "histogram"
           }
          ],
          "mesh3d": [
           {
            "colorbar": {
             "outlinewidth": 0,
             "ticks": ""
            },
            "type": "mesh3d"
           }
          ],
          "parcoords": [
           {
            "line": {
             "colorbar": {
              "outlinewidth": 0,
              "ticks": ""
             }
            },
            "type": "parcoords"
           }
          ],
          "pie": [
           {
            "automargin": true,
            "type": "pie"
           }
          ],
          "scatter3d": [
           {
            "line": {
             "colorbar": {
              "outlinewidth": 0,
              "ticks": ""
             }
            },
            "marker": {
             "colorbar": {
              "outlinewidth": 0,
              "ticks": ""
             }
            },
            "type": "scatter3d"
           }
          ],
          "scattercarpet": [
           {
            "marker": {
             "colorbar": {
              "outlinewidth": 0,
              "ticks": ""
             }
            },
            "type": "scattercarpet"
           }
          ],
          "scattergeo": [
           {
            "marker": {
             "colorbar": {
              "outlinewidth": 0,
              "ticks": ""
             }
            },
            "type": "scattergeo"
           }
          ],
          "scattergl": [
           {
            "marker": {
             "colorbar": {
              "outlinewidth": 0,
              "ticks": ""
             }
            },
            "type": "scattergl"
           }
          ],
          "scattermapbox": [
           {
            "marker": {
             "colorbar": {
              "outlinewidth": 0,
              "ticks": ""
             }
            },
            "type": "scattermapbox"
           }
          ],
          "scatterpolargl": [
           {
            "marker": {
             "colorbar": {
              "outlinewidth": 0,
              "ticks": ""
             }
            },
            "type": "scatterpolargl"
           }
          ],
          "scatterpolar": [
           {
            "marker": {
             "colorbar": {
              "outlinewidth": 0,
              "ticks": ""
             }
            },
            "type": "scatterpolar"
           }
          ],
          "scatter": [
           {
            "marker": {
             "colorbar": {
              "outlinewidth": 0,
              "ticks": ""
             }
            },
            "type": "scatter"
           }
          ],
          "scatterternary": [
           {
            "marker": {
             "colorbar": {
              "outlinewidth": 0,
              "ticks": ""
             }
            },
            "type": "scatterternary"
           }
          ],
          "surface": [
           {
            "colorbar": {
             "outlinewidth": 0,
             "ticks": ""
            },
            "colorscale": [
             [
              0.0,
              "#0d0887"
             ],
             [
              0.1111111111111111,
              "#46039f"
             ],
             [
              0.2222222222222222,
              "#7201a8"
             ],
             [
              0.3333333333333333,
              "#9c179e"
             ],
             [
              0.4444444444444444,
              "#bd3786"
             ],
             [
              0.5555555555555556,
              "#d8576b"
             ],
             [
              0.6666666666666666,
              "#ed7953"
             ],
             [
              0.7777777777777778,
              "#fb9f3a"
             ],
             [
              0.8888888888888888,
              "#fdca26"
             ],
             [
              1.0,
              "#f0f921"
             ]
            ],
            "type": "surface"
           }
          ],
          "table": [
           {
            "cells": {
             "fill": {
              "color": "#EBF0F8"
             },
             "line": {
              "color": "white"
             }
            },
            "header": {
             "fill": {
              "color": "#C8D4E3"
             },
             "line": {
              "color": "white"
             }
            },
            "type": "table"
           }
          ]
         },
         "layout": {
          "annotationdefaults": {
           "arrowcolor": "#2a3f5f",
           "arrowhead": 0,
           "arrowwidth": 1
          },
          "autotypenumbers": "strict",
          "coloraxis": {
           "colorbar": {
            "outlinewidth": 0,
            "ticks": ""
           }
          },
          "colorscale": {
           "diverging": [
            [
             0,
             "#8e0152"
            ],
            [
             0.1,
             "#c51b7d"
            ],
            [
             0.2,
             "#de77ae"
            ],
            [
             0.3,
             "#f1b6da"
            ],
            [
             0.4,
             "#fde0ef"
            ],
            [
             0.5,
             "#f7f7f7"
            ],
            [
             0.6,
             "#e6f5d0"
            ],
            [
             0.7,
             "#b8e186"
            ],
            [
             0.8,
             "#7fbc41"
            ],
            [
             0.9,
             "#4d9221"
            ],
            [
             1,
             "#276419"
            ]
           ],
           "sequential": [
            [
             0.0,
             "#0d0887"
            ],
            [
             0.1111111111111111,
             "#46039f"
            ],
            [
             0.2222222222222222,
             "#7201a8"
            ],
            [
             0.3333333333333333,
             "#9c179e"
            ],
            [
             0.4444444444444444,
             "#bd3786"
            ],
            [
             0.5555555555555556,
             "#d8576b"
            ],
            [
             0.6666666666666666,
             "#ed7953"
            ],
            [
             0.7777777777777778,
             "#fb9f3a"
            ],
            [
             0.8888888888888888,
             "#fdca26"
            ],
            [
             1.0,
             "#f0f921"
            ]
           ],
           "sequentialminus": [
            [
             0.0,
             "#0d0887"
            ],
            [
             0.1111111111111111,
             "#46039f"
            ],
            [
             0.2222222222222222,
             "#7201a8"
            ],
            [
             0.3333333333333333,
             "#9c179e"
            ],
            [
             0.4444444444444444,
             "#bd3786"
            ],
            [
             0.5555555555555556,
             "#d8576b"
            ],
            [
             0.6666666666666666,
             "#ed7953"
            ],
            [
             0.7777777777777778,
             "#fb9f3a"
            ],
            [
             0.8888888888888888,
             "#fdca26"
            ],
            [
             1.0,
             "#f0f921"
            ]
           ]
          },
          "colorway": [
           "#636efa",
           "#EF553B",
           "#00cc96",
           "#ab63fa",
           "#FFA15A",
           "#19d3f3",
           "#FF6692",
           "#B6E880",
           "#FF97FF",
           "#FECB52"
          ],
          "font": {
           "color": "#2a3f5f"
          },
          "geo": {
           "bgcolor": "white",
           "lakecolor": "white",
           "landcolor": "#E5ECF6",
           "showlakes": true,
           "showland": true,
           "subunitcolor": "white"
          },
          "hoverlabel": {
           "align": "left"
          },
          "hovermode": "closest",
          "mapbox": {
           "style": "light"
          },
          "paper_bgcolor": "white",
          "plot_bgcolor": "#E5ECF6",
          "polar": {
           "angularaxis": {
            "gridcolor": "white",
            "linecolor": "white",
            "ticks": ""
           },
           "bgcolor": "#E5ECF6",
           "radialaxis": {
            "gridcolor": "white",
            "linecolor": "white",
            "ticks": ""
           }
          },
          "scene": {
           "xaxis": {
            "backgroundcolor": "#E5ECF6",
            "gridcolor": "white",
            "gridwidth": 2,
            "linecolor": "white",
            "showbackground": true,
            "ticks": "",
            "zerolinecolor": "white"
           },
           "yaxis": {
            "backgroundcolor": "#E5ECF6",
            "gridcolor": "white",
            "gridwidth": 2,
            "linecolor": "white",
            "showbackground": true,
            "ticks": "",
            "zerolinecolor": "white"
           },
           "zaxis": {
            "backgroundcolor": "#E5ECF6",
            "gridcolor": "white",
            "gridwidth": 2,
            "linecolor": "white",
            "showbackground": true,
            "ticks": "",
            "zerolinecolor": "white"
           }
          },
          "shapedefaults": {
           "line": {
            "color": "#2a3f5f"
           }
          },
          "ternary": {
           "aaxis": {
            "gridcolor": "white",
            "linecolor": "white",
            "ticks": ""
           },
           "baxis": {
            "gridcolor": "white",
            "linecolor": "white",
            "ticks": ""
           },
           "bgcolor": "#E5ECF6",
           "caxis": {
            "gridcolor": "white",
            "linecolor": "white",
            "ticks": ""
           }
          },
          "title": {
           "x": 0.05
          },
          "xaxis": {
           "automargin": true,
           "gridcolor": "white",
           "linecolor": "white",
           "ticks": "",
           "title": {
            "standoff": 15
           },
           "zerolinecolor": "white",
           "zerolinewidth": 2
          },
          "yaxis": {
           "automargin": true,
           "gridcolor": "white",
           "linecolor": "white",
           "ticks": "",
           "title": {
            "standoff": 15
           },
           "zerolinecolor": "white",
           "zerolinewidth": 2
          }
         }
        },
        "title": {
         "font": {
          "size": 30
         },
         "text": "<b>Specialization of main countries in Society SDG</b>"
        },
        "showlegend": true,
        "geo": {
         "center": {
          "lat": 10,
          "lon": 10
         },
         "landcolor": "lightgray",
         "projection": {
          "scale": 1.25,
          "type": "kavrayskiy7"
         },
         "scope": "world",
         "showcountries": true,
         "showland": true
        },
        "height": 1080,
        "width": 1980
       },
       "config": {
        "plotlyServerURL": "https://plot.ly"
       }
      },
      "text/html": "<div>                            <div id=\"3890be62-4189-447d-930c-06c0967a436b\" class=\"plotly-graph-div\" style=\"height:1080px; width:1980px;\"></div>            <script type=\"text/javascript\">                require([\"plotly\"], function(Plotly) {                    window.PLOTLYENV=window.PLOTLYENV || {};                                    if (document.getElementById(\"3890be62-4189-447d-930c-06c0967a436b\")) {                    Plotly.newPlot(                        \"3890be62-4189-447d-930c-06c0967a436b\",                        [{\"autocolorscale\":false,\"colorscale\":[[0.0,\"rgb(247,251,255)\"],[0.125,\"rgb(222,235,247)\"],[0.25,\"rgb(198,219,239)\"],[0.375,\"rgb(158,202,225)\"],[0.5,\"rgb(107,174,214)\"],[0.625,\"rgb(66,146,198)\"],[0.75,\"rgb(33,113,181)\"],[0.875,\"rgb(8,81,156)\"],[1.0,\"rgb(8,48,107)\"]],\"locationmode\":\"country names\",\"locations\":[\"Austria\",\"Belgium\",\"Bulgaria\",\"Croatia\",\"Cyprus\",\"Czech Republic\",\"Denmark\",\"Estonia\",\"Finland\",\"France\",\"Germany\",\"Greece\",\"Hungary\",\"Ireland\",\"Italy\",\"Latvia\",\"Lithuania\",\"Luxembourg\",\"Malta\",\"Netherlands\",\"Poland\",\"Portugal\",\"Romania\",\"Slovakia\",\"Slovenia\",\"Spain\",\"Sweden\",\"Norway\",\"Switzerland\",\"United Kingdom\",\"Canada\",\"China\",\"United States\",\"Japan\",\"South Korea\",\"Australia\",\"Israel\"],\"text\":[\"Austria\",\"Belgium\",\"Bulgaria\",\"Croatia\",\"Cyprus\",\"Czech Republic\",\"Denmark\",\"Estonia\",\"Finland\",\"France\",\"Germany\",\"Greece\",\"Hungary\",\"Ireland\",\"Italy\",\"Latvia\",\"Lithuania\",\"Luxembourg\",\"Malta\",\"Netherlands\",\"Poland\",\"Portugal\",\"Romania\",\"Slovakia\",\"Slovenia\",\"Spain\",\"Sweden\",\"Norway\",\"Switzerland\",\"United Kingdom\",\"Canada\",\"China\",\"United States\",\"Japan\",\"South Korea\",\"Australia\",\"Israel\"],\"z\":[0.69,0.96,0.6,1.21,1.22,0.68,0.9,0.96,1.05,0.69,0.67,1.37,0.81,0.81,1.49,1.32,1.23,0.87,0.95,0.96,0.83,1.54,1.28,0.88,0.83,1.35,0.95,1.05,0.73,0.94,1.02,1.17,1.01,0.51,0.65,1.43,0.72],\"type\":\"choropleth\"}],                        {\"template\":{\"data\":{\"barpolar\":[{\"marker\":{\"line\":{\"color\":\"#E5ECF6\",\"width\":0.5},\"pattern\":{\"fillmode\":\"overlay\",\"size\":10,\"solidity\":0.2}},\"type\":\"barpolar\"}],\"bar\":[{\"error_x\":{\"color\":\"#2a3f5f\"},\"error_y\":{\"color\":\"#2a3f5f\"},\"marker\":{\"line\":{\"color\":\"#E5ECF6\",\"width\":0.5},\"pattern\":{\"fillmode\":\"overlay\",\"size\":10,\"solidity\":0.2}},\"type\":\"bar\"}],\"carpet\":[{\"aaxis\":{\"endlinecolor\":\"#2a3f5f\",\"gridcolor\":\"white\",\"linecolor\":\"white\",\"minorgridcolor\":\"white\",\"startlinecolor\":\"#2a3f5f\"},\"baxis\":{\"endlinecolor\":\"#2a3f5f\",\"gridcolor\":\"white\",\"linecolor\":\"white\",\"minorgridcolor\":\"white\",\"startlinecolor\":\"#2a3f5f\"},\"type\":\"carpet\"}],\"choropleth\":[{\"colorbar\":{\"outlinewidth\":0,\"ticks\":\"\"},\"type\":\"choropleth\"}],\"contourcarpet\":[{\"colorbar\":{\"outlinewidth\":0,\"ticks\":\"\"},\"type\":\"contourcarpet\"}],\"contour\":[{\"colorbar\":{\"outlinewidth\":0,\"ticks\":\"\"},\"colorscale\":[[0.0,\"#0d0887\"],[0.1111111111111111,\"#46039f\"],[0.2222222222222222,\"#7201a8\"],[0.3333333333333333,\"#9c179e\"],[0.4444444444444444,\"#bd3786\"],[0.5555555555555556,\"#d8576b\"],[0.6666666666666666,\"#ed7953\"],[0.7777777777777778,\"#fb9f3a\"],[0.8888888888888888,\"#fdca26\"],[1.0,\"#f0f921\"]],\"type\":\"contour\"}],\"heatmapgl\":[{\"colorbar\":{\"outlinewidth\":0,\"ticks\":\"\"},\"colorscale\":[[0.0,\"#0d0887\"],[0.1111111111111111,\"#46039f\"],[0.2222222222222222,\"#7201a8\"],[0.3333333333333333,\"#9c179e\"],[0.4444444444444444,\"#bd3786\"],[0.5555555555555556,\"#d8576b\"],[0.6666666666666666,\"#ed7953\"],[0.7777777777777778,\"#fb9f3a\"],[0.8888888888888888,\"#fdca26\"],[1.0,\"#f0f921\"]],\"type\":\"heatmapgl\"}],\"heatmap\":[{\"colorbar\":{\"outlinewidth\":0,\"ticks\":\"\"},\"colorscale\":[[0.0,\"#0d0887\"],[0.1111111111111111,\"#46039f\"],[0.2222222222222222,\"#7201a8\"],[0.3333333333333333,\"#9c179e\"],[0.4444444444444444,\"#bd3786\"],[0.5555555555555556,\"#d8576b\"],[0.6666666666666666,\"#ed7953\"],[0.7777777777777778,\"#fb9f3a\"],[0.8888888888888888,\"#fdca26\"],[1.0,\"#f0f921\"]],\"type\":\"heatmap\"}],\"histogram2dcontour\":[{\"colorbar\":{\"outlinewidth\":0,\"ticks\":\"\"},\"colorscale\":[[0.0,\"#0d0887\"],[0.1111111111111111,\"#46039f\"],[0.2222222222222222,\"#7201a8\"],[0.3333333333333333,\"#9c179e\"],[0.4444444444444444,\"#bd3786\"],[0.5555555555555556,\"#d8576b\"],[0.6666666666666666,\"#ed7953\"],[0.7777777777777778,\"#fb9f3a\"],[0.8888888888888888,\"#fdca26\"],[1.0,\"#f0f921\"]],\"type\":\"histogram2dcontour\"}],\"histogram2d\":[{\"colorbar\":{\"outlinewidth\":0,\"ticks\":\"\"},\"colorscale\":[[0.0,\"#0d0887\"],[0.1111111111111111,\"#46039f\"],[0.2222222222222222,\"#7201a8\"],[0.3333333333333333,\"#9c179e\"],[0.4444444444444444,\"#bd3786\"],[0.5555555555555556,\"#d8576b\"],[0.6666666666666666,\"#ed7953\"],[0.7777777777777778,\"#fb9f3a\"],[0.8888888888888888,\"#fdca26\"],[1.0,\"#f0f921\"]],\"type\":\"histogram2d\"}],\"histogram\":[{\"marker\":{\"pattern\":{\"fillmode\":\"overlay\",\"size\":10,\"solidity\":0.2}},\"type\":\"histogram\"}],\"mesh3d\":[{\"colorbar\":{\"outlinewidth\":0,\"ticks\":\"\"},\"type\":\"mesh3d\"}],\"parcoords\":[{\"line\":{\"colorbar\":{\"outlinewidth\":0,\"ticks\":\"\"}},\"type\":\"parcoords\"}],\"pie\":[{\"automargin\":true,\"type\":\"pie\"}],\"scatter3d\":[{\"line\":{\"colorbar\":{\"outlinewidth\":0,\"ticks\":\"\"}},\"marker\":{\"colorbar\":{\"outlinewidth\":0,\"ticks\":\"\"}},\"type\":\"scatter3d\"}],\"scattercarpet\":[{\"marker\":{\"colorbar\":{\"outlinewidth\":0,\"ticks\":\"\"}},\"type\":\"scattercarpet\"}],\"scattergeo\":[{\"marker\":{\"colorbar\":{\"outlinewidth\":0,\"ticks\":\"\"}},\"type\":\"scattergeo\"}],\"scattergl\":[{\"marker\":{\"colorbar\":{\"outlinewidth\":0,\"ticks\":\"\"}},\"type\":\"scattergl\"}],\"scattermapbox\":[{\"marker\":{\"colorbar\":{\"outlinewidth\":0,\"ticks\":\"\"}},\"type\":\"scattermapbox\"}],\"scatterpolargl\":[{\"marker\":{\"colorbar\":{\"outlinewidth\":0,\"ticks\":\"\"}},\"type\":\"scatterpolargl\"}],\"scatterpolar\":[{\"marker\":{\"colorbar\":{\"outlinewidth\":0,\"ticks\":\"\"}},\"type\":\"scatterpolar\"}],\"scatter\":[{\"marker\":{\"colorbar\":{\"outlinewidth\":0,\"ticks\":\"\"}},\"type\":\"scatter\"}],\"scatterternary\":[{\"marker\":{\"colorbar\":{\"outlinewidth\":0,\"ticks\":\"\"}},\"type\":\"scatterternary\"}],\"surface\":[{\"colorbar\":{\"outlinewidth\":0,\"ticks\":\"\"},\"colorscale\":[[0.0,\"#0d0887\"],[0.1111111111111111,\"#46039f\"],[0.2222222222222222,\"#7201a8\"],[0.3333333333333333,\"#9c179e\"],[0.4444444444444444,\"#bd3786\"],[0.5555555555555556,\"#d8576b\"],[0.6666666666666666,\"#ed7953\"],[0.7777777777777778,\"#fb9f3a\"],[0.8888888888888888,\"#fdca26\"],[1.0,\"#f0f921\"]],\"type\":\"surface\"}],\"table\":[{\"cells\":{\"fill\":{\"color\":\"#EBF0F8\"},\"line\":{\"color\":\"white\"}},\"header\":{\"fill\":{\"color\":\"#C8D4E3\"},\"line\":{\"color\":\"white\"}},\"type\":\"table\"}]},\"layout\":{\"annotationdefaults\":{\"arrowcolor\":\"#2a3f5f\",\"arrowhead\":0,\"arrowwidth\":1},\"autotypenumbers\":\"strict\",\"coloraxis\":{\"colorbar\":{\"outlinewidth\":0,\"ticks\":\"\"}},\"colorscale\":{\"diverging\":[[0,\"#8e0152\"],[0.1,\"#c51b7d\"],[0.2,\"#de77ae\"],[0.3,\"#f1b6da\"],[0.4,\"#fde0ef\"],[0.5,\"#f7f7f7\"],[0.6,\"#e6f5d0\"],[0.7,\"#b8e186\"],[0.8,\"#7fbc41\"],[0.9,\"#4d9221\"],[1,\"#276419\"]],\"sequential\":[[0.0,\"#0d0887\"],[0.1111111111111111,\"#46039f\"],[0.2222222222222222,\"#7201a8\"],[0.3333333333333333,\"#9c179e\"],[0.4444444444444444,\"#bd3786\"],[0.5555555555555556,\"#d8576b\"],[0.6666666666666666,\"#ed7953\"],[0.7777777777777778,\"#fb9f3a\"],[0.8888888888888888,\"#fdca26\"],[1.0,\"#f0f921\"]],\"sequentialminus\":[[0.0,\"#0d0887\"],[0.1111111111111111,\"#46039f\"],[0.2222222222222222,\"#7201a8\"],[0.3333333333333333,\"#9c179e\"],[0.4444444444444444,\"#bd3786\"],[0.5555555555555556,\"#d8576b\"],[0.6666666666666666,\"#ed7953\"],[0.7777777777777778,\"#fb9f3a\"],[0.8888888888888888,\"#fdca26\"],[1.0,\"#f0f921\"]]},\"colorway\":[\"#636efa\",\"#EF553B\",\"#00cc96\",\"#ab63fa\",\"#FFA15A\",\"#19d3f3\",\"#FF6692\",\"#B6E880\",\"#FF97FF\",\"#FECB52\"],\"font\":{\"color\":\"#2a3f5f\"},\"geo\":{\"bgcolor\":\"white\",\"lakecolor\":\"white\",\"landcolor\":\"#E5ECF6\",\"showlakes\":true,\"showland\":true,\"subunitcolor\":\"white\"},\"hoverlabel\":{\"align\":\"left\"},\"hovermode\":\"closest\",\"mapbox\":{\"style\":\"light\"},\"paper_bgcolor\":\"white\",\"plot_bgcolor\":\"#E5ECF6\",\"polar\":{\"angularaxis\":{\"gridcolor\":\"white\",\"linecolor\":\"white\",\"ticks\":\"\"},\"bgcolor\":\"#E5ECF6\",\"radialaxis\":{\"gridcolor\":\"white\",\"linecolor\":\"white\",\"ticks\":\"\"}},\"scene\":{\"xaxis\":{\"backgroundcolor\":\"#E5ECF6\",\"gridcolor\":\"white\",\"gridwidth\":2,\"linecolor\":\"white\",\"showbackground\":true,\"ticks\":\"\",\"zerolinecolor\":\"white\"},\"yaxis\":{\"backgroundcolor\":\"#E5ECF6\",\"gridcolor\":\"white\",\"gridwidth\":2,\"linecolor\":\"white\",\"showbackground\":true,\"ticks\":\"\",\"zerolinecolor\":\"white\"},\"zaxis\":{\"backgroundcolor\":\"#E5ECF6\",\"gridcolor\":\"white\",\"gridwidth\":2,\"linecolor\":\"white\",\"showbackground\":true,\"ticks\":\"\",\"zerolinecolor\":\"white\"}},\"shapedefaults\":{\"line\":{\"color\":\"#2a3f5f\"}},\"ternary\":{\"aaxis\":{\"gridcolor\":\"white\",\"linecolor\":\"white\",\"ticks\":\"\"},\"baxis\":{\"gridcolor\":\"white\",\"linecolor\":\"white\",\"ticks\":\"\"},\"bgcolor\":\"#E5ECF6\",\"caxis\":{\"gridcolor\":\"white\",\"linecolor\":\"white\",\"ticks\":\"\"}},\"title\":{\"x\":0.05},\"xaxis\":{\"automargin\":true,\"gridcolor\":\"white\",\"linecolor\":\"white\",\"ticks\":\"\",\"title\":{\"standoff\":15},\"zerolinecolor\":\"white\",\"zerolinewidth\":2},\"yaxis\":{\"automargin\":true,\"gridcolor\":\"white\",\"linecolor\":\"white\",\"ticks\":\"\",\"title\":{\"standoff\":15},\"zerolinecolor\":\"white\",\"zerolinewidth\":2}}},\"title\":{\"font\":{\"size\":30},\"text\":\"<b>Specialization of main countries in Society SDG</b>\"},\"showlegend\":true,\"geo\":{\"center\":{\"lat\":10,\"lon\":10},\"landcolor\":\"lightgray\",\"projection\":{\"scale\":1.25,\"type\":\"kavrayskiy7\"},\"scope\":\"world\",\"showcountries\":true,\"showland\":true},\"height\":1080,\"width\":1980},                        {\"responsive\": true}                    ).then(function(){\n                            \nvar gd = document.getElementById('3890be62-4189-447d-930c-06c0967a436b');\nvar x = new MutationObserver(function (mutations, observer) {{\n        var display = window.getComputedStyle(gd).display;\n        if (!display || display === 'none') {{\n            console.log([gd, 'removed!']);\n            Plotly.purge(gd);\n            observer.disconnect();\n        }}\n}});\n\n// Listen for the removal of the full notebook cells\nvar notebookContainer = gd.closest('#notebook-container');\nif (notebookContainer) {{\n    x.observe(notebookContainer, {childList: true});\n}}\n\n// Listen for the clearing of the current output cell\nvar outputEl = gd.closest('.output');\nif (outputEl) {{\n    x.observe(outputEl, {childList: true});\n}}\n\n                        })                };                });            </script>        </div>"
     },
     "metadata": {},
     "output_type": "display_data"
    },
    {
     "data": {
      "application/vnd.plotly.v1+json": {
       "data": [
        {
         "autocolorscale": false,
         "colorscale": [
          [
           0.0,
           "rgb(247,251,255)"
          ],
          [
           0.125,
           "rgb(222,235,247)"
          ],
          [
           0.25,
           "rgb(198,219,239)"
          ],
          [
           0.375,
           "rgb(158,202,225)"
          ],
          [
           0.5,
           "rgb(107,174,214)"
          ],
          [
           0.625,
           "rgb(66,146,198)"
          ],
          [
           0.75,
           "rgb(33,113,181)"
          ],
          [
           0.875,
           "rgb(8,81,156)"
          ],
          [
           1.0,
           "rgb(8,48,107)"
          ]
         ],
         "locationmode": "country names",
         "locations": [
          "Austria",
          "Belgium",
          "Bulgaria",
          "Croatia",
          "Cyprus",
          "Czech Republic",
          "Denmark",
          "Estonia",
          "Finland",
          "France",
          "Germany",
          "Greece",
          "Hungary",
          "Ireland",
          "Italy",
          "Latvia",
          "Lithuania",
          "Luxembourg",
          "Malta",
          "Netherlands",
          "Poland",
          "Portugal",
          "Romania",
          "Slovakia",
          "Slovenia",
          "Spain",
          "Sweden",
          "Norway",
          "Switzerland",
          "United Kingdom",
          "Canada",
          "China",
          "United States",
          "Japan",
          "South Korea",
          "Australia",
          "Israel"
         ],
         "text": [
          "Austria",
          "Belgium",
          "Bulgaria",
          "Croatia",
          "Cyprus",
          "Czech Republic",
          "Denmark",
          "Estonia",
          "Finland",
          "France",
          "Germany",
          "Greece",
          "Hungary",
          "Ireland",
          "Italy",
          "Latvia",
          "Lithuania",
          "Luxembourg",
          "Malta",
          "Netherlands",
          "Poland",
          "Portugal",
          "Romania",
          "Slovakia",
          "Slovenia",
          "Spain",
          "Sweden",
          "Norway",
          "Switzerland",
          "United Kingdom",
          "Canada",
          "China",
          "United States",
          "Japan",
          "South Korea",
          "Australia",
          "Israel"
         ],
         "z": [
          0.95,
          1.1,
          0.76,
          1.92,
          1.38,
          1.02,
          1.0,
          1.22,
          1.23,
          0.69,
          0.82,
          1.44,
          0.89,
          0.95,
          1.55,
          2.58,
          2.16,
          1.25,
          1.34,
          1.22,
          0.88,
          2.14,
          2.08,
          1.62,
          1.15,
          1.62,
          1.16,
          1.07,
          0.83,
          1.06,
          0.93,
          1.09,
          0.79,
          0.44,
          0.74,
          1.52,
          0.45
         ],
         "type": "choropleth"
        }
       ],
       "layout": {
        "template": {
         "data": {
          "barpolar": [
           {
            "marker": {
             "line": {
              "color": "#E5ECF6",
              "width": 0.5
             },
             "pattern": {
              "fillmode": "overlay",
              "size": 10,
              "solidity": 0.2
             }
            },
            "type": "barpolar"
           }
          ],
          "bar": [
           {
            "error_x": {
             "color": "#2a3f5f"
            },
            "error_y": {
             "color": "#2a3f5f"
            },
            "marker": {
             "line": {
              "color": "#E5ECF6",
              "width": 0.5
             },
             "pattern": {
              "fillmode": "overlay",
              "size": 10,
              "solidity": 0.2
             }
            },
            "type": "bar"
           }
          ],
          "carpet": [
           {
            "aaxis": {
             "endlinecolor": "#2a3f5f",
             "gridcolor": "white",
             "linecolor": "white",
             "minorgridcolor": "white",
             "startlinecolor": "#2a3f5f"
            },
            "baxis": {
             "endlinecolor": "#2a3f5f",
             "gridcolor": "white",
             "linecolor": "white",
             "minorgridcolor": "white",
             "startlinecolor": "#2a3f5f"
            },
            "type": "carpet"
           }
          ],
          "choropleth": [
           {
            "colorbar": {
             "outlinewidth": 0,
             "ticks": ""
            },
            "type": "choropleth"
           }
          ],
          "contourcarpet": [
           {
            "colorbar": {
             "outlinewidth": 0,
             "ticks": ""
            },
            "type": "contourcarpet"
           }
          ],
          "contour": [
           {
            "colorbar": {
             "outlinewidth": 0,
             "ticks": ""
            },
            "colorscale": [
             [
              0.0,
              "#0d0887"
             ],
             [
              0.1111111111111111,
              "#46039f"
             ],
             [
              0.2222222222222222,
              "#7201a8"
             ],
             [
              0.3333333333333333,
              "#9c179e"
             ],
             [
              0.4444444444444444,
              "#bd3786"
             ],
             [
              0.5555555555555556,
              "#d8576b"
             ],
             [
              0.6666666666666666,
              "#ed7953"
             ],
             [
              0.7777777777777778,
              "#fb9f3a"
             ],
             [
              0.8888888888888888,
              "#fdca26"
             ],
             [
              1.0,
              "#f0f921"
             ]
            ],
            "type": "contour"
           }
          ],
          "heatmapgl": [
           {
            "colorbar": {
             "outlinewidth": 0,
             "ticks": ""
            },
            "colorscale": [
             [
              0.0,
              "#0d0887"
             ],
             [
              0.1111111111111111,
              "#46039f"
             ],
             [
              0.2222222222222222,
              "#7201a8"
             ],
             [
              0.3333333333333333,
              "#9c179e"
             ],
             [
              0.4444444444444444,
              "#bd3786"
             ],
             [
              0.5555555555555556,
              "#d8576b"
             ],
             [
              0.6666666666666666,
              "#ed7953"
             ],
             [
              0.7777777777777778,
              "#fb9f3a"
             ],
             [
              0.8888888888888888,
              "#fdca26"
             ],
             [
              1.0,
              "#f0f921"
             ]
            ],
            "type": "heatmapgl"
           }
          ],
          "heatmap": [
           {
            "colorbar": {
             "outlinewidth": 0,
             "ticks": ""
            },
            "colorscale": [
             [
              0.0,
              "#0d0887"
             ],
             [
              0.1111111111111111,
              "#46039f"
             ],
             [
              0.2222222222222222,
              "#7201a8"
             ],
             [
              0.3333333333333333,
              "#9c179e"
             ],
             [
              0.4444444444444444,
              "#bd3786"
             ],
             [
              0.5555555555555556,
              "#d8576b"
             ],
             [
              0.6666666666666666,
              "#ed7953"
             ],
             [
              0.7777777777777778,
              "#fb9f3a"
             ],
             [
              0.8888888888888888,
              "#fdca26"
             ],
             [
              1.0,
              "#f0f921"
             ]
            ],
            "type": "heatmap"
           }
          ],
          "histogram2dcontour": [
           {
            "colorbar": {
             "outlinewidth": 0,
             "ticks": ""
            },
            "colorscale": [
             [
              0.0,
              "#0d0887"
             ],
             [
              0.1111111111111111,
              "#46039f"
             ],
             [
              0.2222222222222222,
              "#7201a8"
             ],
             [
              0.3333333333333333,
              "#9c179e"
             ],
             [
              0.4444444444444444,
              "#bd3786"
             ],
             [
              0.5555555555555556,
              "#d8576b"
             ],
             [
              0.6666666666666666,
              "#ed7953"
             ],
             [
              0.7777777777777778,
              "#fb9f3a"
             ],
             [
              0.8888888888888888,
              "#fdca26"
             ],
             [
              1.0,
              "#f0f921"
             ]
            ],
            "type": "histogram2dcontour"
           }
          ],
          "histogram2d": [
           {
            "colorbar": {
             "outlinewidth": 0,
             "ticks": ""
            },
            "colorscale": [
             [
              0.0,
              "#0d0887"
             ],
             [
              0.1111111111111111,
              "#46039f"
             ],
             [
              0.2222222222222222,
              "#7201a8"
             ],
             [
              0.3333333333333333,
              "#9c179e"
             ],
             [
              0.4444444444444444,
              "#bd3786"
             ],
             [
              0.5555555555555556,
              "#d8576b"
             ],
             [
              0.6666666666666666,
              "#ed7953"
             ],
             [
              0.7777777777777778,
              "#fb9f3a"
             ],
             [
              0.8888888888888888,
              "#fdca26"
             ],
             [
              1.0,
              "#f0f921"
             ]
            ],
            "type": "histogram2d"
           }
          ],
          "histogram": [
           {
            "marker": {
             "pattern": {
              "fillmode": "overlay",
              "size": 10,
              "solidity": 0.2
             }
            },
            "type": "histogram"
           }
          ],
          "mesh3d": [
           {
            "colorbar": {
             "outlinewidth": 0,
             "ticks": ""
            },
            "type": "mesh3d"
           }
          ],
          "parcoords": [
           {
            "line": {
             "colorbar": {
              "outlinewidth": 0,
              "ticks": ""
             }
            },
            "type": "parcoords"
           }
          ],
          "pie": [
           {
            "automargin": true,
            "type": "pie"
           }
          ],
          "scatter3d": [
           {
            "line": {
             "colorbar": {
              "outlinewidth": 0,
              "ticks": ""
             }
            },
            "marker": {
             "colorbar": {
              "outlinewidth": 0,
              "ticks": ""
             }
            },
            "type": "scatter3d"
           }
          ],
          "scattercarpet": [
           {
            "marker": {
             "colorbar": {
              "outlinewidth": 0,
              "ticks": ""
             }
            },
            "type": "scattercarpet"
           }
          ],
          "scattergeo": [
           {
            "marker": {
             "colorbar": {
              "outlinewidth": 0,
              "ticks": ""
             }
            },
            "type": "scattergeo"
           }
          ],
          "scattergl": [
           {
            "marker": {
             "colorbar": {
              "outlinewidth": 0,
              "ticks": ""
             }
            },
            "type": "scattergl"
           }
          ],
          "scattermapbox": [
           {
            "marker": {
             "colorbar": {
              "outlinewidth": 0,
              "ticks": ""
             }
            },
            "type": "scattermapbox"
           }
          ],
          "scatterpolargl": [
           {
            "marker": {
             "colorbar": {
              "outlinewidth": 0,
              "ticks": ""
             }
            },
            "type": "scatterpolargl"
           }
          ],
          "scatterpolar": [
           {
            "marker": {
             "colorbar": {
              "outlinewidth": 0,
              "ticks": ""
             }
            },
            "type": "scatterpolar"
           }
          ],
          "scatter": [
           {
            "marker": {
             "colorbar": {
              "outlinewidth": 0,
              "ticks": ""
             }
            },
            "type": "scatter"
           }
          ],
          "scatterternary": [
           {
            "marker": {
             "colorbar": {
              "outlinewidth": 0,
              "ticks": ""
             }
            },
            "type": "scatterternary"
           }
          ],
          "surface": [
           {
            "colorbar": {
             "outlinewidth": 0,
             "ticks": ""
            },
            "colorscale": [
             [
              0.0,
              "#0d0887"
             ],
             [
              0.1111111111111111,
              "#46039f"
             ],
             [
              0.2222222222222222,
              "#7201a8"
             ],
             [
              0.3333333333333333,
              "#9c179e"
             ],
             [
              0.4444444444444444,
              "#bd3786"
             ],
             [
              0.5555555555555556,
              "#d8576b"
             ],
             [
              0.6666666666666666,
              "#ed7953"
             ],
             [
              0.7777777777777778,
              "#fb9f3a"
             ],
             [
              0.8888888888888888,
              "#fdca26"
             ],
             [
              1.0,
              "#f0f921"
             ]
            ],
            "type": "surface"
           }
          ],
          "table": [
           {
            "cells": {
             "fill": {
              "color": "#EBF0F8"
             },
             "line": {
              "color": "white"
             }
            },
            "header": {
             "fill": {
              "color": "#C8D4E3"
             },
             "line": {
              "color": "white"
             }
            },
            "type": "table"
           }
          ]
         },
         "layout": {
          "annotationdefaults": {
           "arrowcolor": "#2a3f5f",
           "arrowhead": 0,
           "arrowwidth": 1
          },
          "autotypenumbers": "strict",
          "coloraxis": {
           "colorbar": {
            "outlinewidth": 0,
            "ticks": ""
           }
          },
          "colorscale": {
           "diverging": [
            [
             0,
             "#8e0152"
            ],
            [
             0.1,
             "#c51b7d"
            ],
            [
             0.2,
             "#de77ae"
            ],
            [
             0.3,
             "#f1b6da"
            ],
            [
             0.4,
             "#fde0ef"
            ],
            [
             0.5,
             "#f7f7f7"
            ],
            [
             0.6,
             "#e6f5d0"
            ],
            [
             0.7,
             "#b8e186"
            ],
            [
             0.8,
             "#7fbc41"
            ],
            [
             0.9,
             "#4d9221"
            ],
            [
             1,
             "#276419"
            ]
           ],
           "sequential": [
            [
             0.0,
             "#0d0887"
            ],
            [
             0.1111111111111111,
             "#46039f"
            ],
            [
             0.2222222222222222,
             "#7201a8"
            ],
            [
             0.3333333333333333,
             "#9c179e"
            ],
            [
             0.4444444444444444,
             "#bd3786"
            ],
            [
             0.5555555555555556,
             "#d8576b"
            ],
            [
             0.6666666666666666,
             "#ed7953"
            ],
            [
             0.7777777777777778,
             "#fb9f3a"
            ],
            [
             0.8888888888888888,
             "#fdca26"
            ],
            [
             1.0,
             "#f0f921"
            ]
           ],
           "sequentialminus": [
            [
             0.0,
             "#0d0887"
            ],
            [
             0.1111111111111111,
             "#46039f"
            ],
            [
             0.2222222222222222,
             "#7201a8"
            ],
            [
             0.3333333333333333,
             "#9c179e"
            ],
            [
             0.4444444444444444,
             "#bd3786"
            ],
            [
             0.5555555555555556,
             "#d8576b"
            ],
            [
             0.6666666666666666,
             "#ed7953"
            ],
            [
             0.7777777777777778,
             "#fb9f3a"
            ],
            [
             0.8888888888888888,
             "#fdca26"
            ],
            [
             1.0,
             "#f0f921"
            ]
           ]
          },
          "colorway": [
           "#636efa",
           "#EF553B",
           "#00cc96",
           "#ab63fa",
           "#FFA15A",
           "#19d3f3",
           "#FF6692",
           "#B6E880",
           "#FF97FF",
           "#FECB52"
          ],
          "font": {
           "color": "#2a3f5f"
          },
          "geo": {
           "bgcolor": "white",
           "lakecolor": "white",
           "landcolor": "#E5ECF6",
           "showlakes": true,
           "showland": true,
           "subunitcolor": "white"
          },
          "hoverlabel": {
           "align": "left"
          },
          "hovermode": "closest",
          "mapbox": {
           "style": "light"
          },
          "paper_bgcolor": "white",
          "plot_bgcolor": "#E5ECF6",
          "polar": {
           "angularaxis": {
            "gridcolor": "white",
            "linecolor": "white",
            "ticks": ""
           },
           "bgcolor": "#E5ECF6",
           "radialaxis": {
            "gridcolor": "white",
            "linecolor": "white",
            "ticks": ""
           }
          },
          "scene": {
           "xaxis": {
            "backgroundcolor": "#E5ECF6",
            "gridcolor": "white",
            "gridwidth": 2,
            "linecolor": "white",
            "showbackground": true,
            "ticks": "",
            "zerolinecolor": "white"
           },
           "yaxis": {
            "backgroundcolor": "#E5ECF6",
            "gridcolor": "white",
            "gridwidth": 2,
            "linecolor": "white",
            "showbackground": true,
            "ticks": "",
            "zerolinecolor": "white"
           },
           "zaxis": {
            "backgroundcolor": "#E5ECF6",
            "gridcolor": "white",
            "gridwidth": 2,
            "linecolor": "white",
            "showbackground": true,
            "ticks": "",
            "zerolinecolor": "white"
           }
          },
          "shapedefaults": {
           "line": {
            "color": "#2a3f5f"
           }
          },
          "ternary": {
           "aaxis": {
            "gridcolor": "white",
            "linecolor": "white",
            "ticks": ""
           },
           "baxis": {
            "gridcolor": "white",
            "linecolor": "white",
            "ticks": ""
           },
           "bgcolor": "#E5ECF6",
           "caxis": {
            "gridcolor": "white",
            "linecolor": "white",
            "ticks": ""
           }
          },
          "title": {
           "x": 0.05
          },
          "xaxis": {
           "automargin": true,
           "gridcolor": "white",
           "linecolor": "white",
           "ticks": "",
           "title": {
            "standoff": 15
           },
           "zerolinecolor": "white",
           "zerolinewidth": 2
          },
          "yaxis": {
           "automargin": true,
           "gridcolor": "white",
           "linecolor": "white",
           "ticks": "",
           "title": {
            "standoff": 15
           },
           "zerolinecolor": "white",
           "zerolinewidth": 2
          }
         }
        },
        "title": {
         "font": {
          "size": 30
         },
         "text": "<b>Specialization of main countries in Economy SDG</b>"
        },
        "showlegend": true,
        "geo": {
         "center": {
          "lat": 10,
          "lon": 10
         },
         "landcolor": "lightgray",
         "projection": {
          "scale": 1.25,
          "type": "kavrayskiy7"
         },
         "scope": "world",
         "showcountries": true,
         "showland": true
        },
        "height": 1080,
        "width": 1980
       },
       "config": {
        "plotlyServerURL": "https://plot.ly"
       }
      },
      "text/html": "<div>                            <div id=\"9d06fe31-1d00-4034-9d59-d773d178aff5\" class=\"plotly-graph-div\" style=\"height:1080px; width:1980px;\"></div>            <script type=\"text/javascript\">                require([\"plotly\"], function(Plotly) {                    window.PLOTLYENV=window.PLOTLYENV || {};                                    if (document.getElementById(\"9d06fe31-1d00-4034-9d59-d773d178aff5\")) {                    Plotly.newPlot(                        \"9d06fe31-1d00-4034-9d59-d773d178aff5\",                        [{\"autocolorscale\":false,\"colorscale\":[[0.0,\"rgb(247,251,255)\"],[0.125,\"rgb(222,235,247)\"],[0.25,\"rgb(198,219,239)\"],[0.375,\"rgb(158,202,225)\"],[0.5,\"rgb(107,174,214)\"],[0.625,\"rgb(66,146,198)\"],[0.75,\"rgb(33,113,181)\"],[0.875,\"rgb(8,81,156)\"],[1.0,\"rgb(8,48,107)\"]],\"locationmode\":\"country names\",\"locations\":[\"Austria\",\"Belgium\",\"Bulgaria\",\"Croatia\",\"Cyprus\",\"Czech Republic\",\"Denmark\",\"Estonia\",\"Finland\",\"France\",\"Germany\",\"Greece\",\"Hungary\",\"Ireland\",\"Italy\",\"Latvia\",\"Lithuania\",\"Luxembourg\",\"Malta\",\"Netherlands\",\"Poland\",\"Portugal\",\"Romania\",\"Slovakia\",\"Slovenia\",\"Spain\",\"Sweden\",\"Norway\",\"Switzerland\",\"United Kingdom\",\"Canada\",\"China\",\"United States\",\"Japan\",\"South Korea\",\"Australia\",\"Israel\"],\"text\":[\"Austria\",\"Belgium\",\"Bulgaria\",\"Croatia\",\"Cyprus\",\"Czech Republic\",\"Denmark\",\"Estonia\",\"Finland\",\"France\",\"Germany\",\"Greece\",\"Hungary\",\"Ireland\",\"Italy\",\"Latvia\",\"Lithuania\",\"Luxembourg\",\"Malta\",\"Netherlands\",\"Poland\",\"Portugal\",\"Romania\",\"Slovakia\",\"Slovenia\",\"Spain\",\"Sweden\",\"Norway\",\"Switzerland\",\"United Kingdom\",\"Canada\",\"China\",\"United States\",\"Japan\",\"South Korea\",\"Australia\",\"Israel\"],\"z\":[0.95,1.1,0.76,1.92,1.38,1.02,1.0,1.22,1.23,0.69,0.82,1.44,0.89,0.95,1.55,2.58,2.16,1.25,1.34,1.22,0.88,2.14,2.08,1.62,1.15,1.62,1.16,1.07,0.83,1.06,0.93,1.09,0.79,0.44,0.74,1.52,0.45],\"type\":\"choropleth\"}],                        {\"template\":{\"data\":{\"barpolar\":[{\"marker\":{\"line\":{\"color\":\"#E5ECF6\",\"width\":0.5},\"pattern\":{\"fillmode\":\"overlay\",\"size\":10,\"solidity\":0.2}},\"type\":\"barpolar\"}],\"bar\":[{\"error_x\":{\"color\":\"#2a3f5f\"},\"error_y\":{\"color\":\"#2a3f5f\"},\"marker\":{\"line\":{\"color\":\"#E5ECF6\",\"width\":0.5},\"pattern\":{\"fillmode\":\"overlay\",\"size\":10,\"solidity\":0.2}},\"type\":\"bar\"}],\"carpet\":[{\"aaxis\":{\"endlinecolor\":\"#2a3f5f\",\"gridcolor\":\"white\",\"linecolor\":\"white\",\"minorgridcolor\":\"white\",\"startlinecolor\":\"#2a3f5f\"},\"baxis\":{\"endlinecolor\":\"#2a3f5f\",\"gridcolor\":\"white\",\"linecolor\":\"white\",\"minorgridcolor\":\"white\",\"startlinecolor\":\"#2a3f5f\"},\"type\":\"carpet\"}],\"choropleth\":[{\"colorbar\":{\"outlinewidth\":0,\"ticks\":\"\"},\"type\":\"choropleth\"}],\"contourcarpet\":[{\"colorbar\":{\"outlinewidth\":0,\"ticks\":\"\"},\"type\":\"contourcarpet\"}],\"contour\":[{\"colorbar\":{\"outlinewidth\":0,\"ticks\":\"\"},\"colorscale\":[[0.0,\"#0d0887\"],[0.1111111111111111,\"#46039f\"],[0.2222222222222222,\"#7201a8\"],[0.3333333333333333,\"#9c179e\"],[0.4444444444444444,\"#bd3786\"],[0.5555555555555556,\"#d8576b\"],[0.6666666666666666,\"#ed7953\"],[0.7777777777777778,\"#fb9f3a\"],[0.8888888888888888,\"#fdca26\"],[1.0,\"#f0f921\"]],\"type\":\"contour\"}],\"heatmapgl\":[{\"colorbar\":{\"outlinewidth\":0,\"ticks\":\"\"},\"colorscale\":[[0.0,\"#0d0887\"],[0.1111111111111111,\"#46039f\"],[0.2222222222222222,\"#7201a8\"],[0.3333333333333333,\"#9c179e\"],[0.4444444444444444,\"#bd3786\"],[0.5555555555555556,\"#d8576b\"],[0.6666666666666666,\"#ed7953\"],[0.7777777777777778,\"#fb9f3a\"],[0.8888888888888888,\"#fdca26\"],[1.0,\"#f0f921\"]],\"type\":\"heatmapgl\"}],\"heatmap\":[{\"colorbar\":{\"outlinewidth\":0,\"ticks\":\"\"},\"colorscale\":[[0.0,\"#0d0887\"],[0.1111111111111111,\"#46039f\"],[0.2222222222222222,\"#7201a8\"],[0.3333333333333333,\"#9c179e\"],[0.4444444444444444,\"#bd3786\"],[0.5555555555555556,\"#d8576b\"],[0.6666666666666666,\"#ed7953\"],[0.7777777777777778,\"#fb9f3a\"],[0.8888888888888888,\"#fdca26\"],[1.0,\"#f0f921\"]],\"type\":\"heatmap\"}],\"histogram2dcontour\":[{\"colorbar\":{\"outlinewidth\":0,\"ticks\":\"\"},\"colorscale\":[[0.0,\"#0d0887\"],[0.1111111111111111,\"#46039f\"],[0.2222222222222222,\"#7201a8\"],[0.3333333333333333,\"#9c179e\"],[0.4444444444444444,\"#bd3786\"],[0.5555555555555556,\"#d8576b\"],[0.6666666666666666,\"#ed7953\"],[0.7777777777777778,\"#fb9f3a\"],[0.8888888888888888,\"#fdca26\"],[1.0,\"#f0f921\"]],\"type\":\"histogram2dcontour\"}],\"histogram2d\":[{\"colorbar\":{\"outlinewidth\":0,\"ticks\":\"\"},\"colorscale\":[[0.0,\"#0d0887\"],[0.1111111111111111,\"#46039f\"],[0.2222222222222222,\"#7201a8\"],[0.3333333333333333,\"#9c179e\"],[0.4444444444444444,\"#bd3786\"],[0.5555555555555556,\"#d8576b\"],[0.6666666666666666,\"#ed7953\"],[0.7777777777777778,\"#fb9f3a\"],[0.8888888888888888,\"#fdca26\"],[1.0,\"#f0f921\"]],\"type\":\"histogram2d\"}],\"histogram\":[{\"marker\":{\"pattern\":{\"fillmode\":\"overlay\",\"size\":10,\"solidity\":0.2}},\"type\":\"histogram\"}],\"mesh3d\":[{\"colorbar\":{\"outlinewidth\":0,\"ticks\":\"\"},\"type\":\"mesh3d\"}],\"parcoords\":[{\"line\":{\"colorbar\":{\"outlinewidth\":0,\"ticks\":\"\"}},\"type\":\"parcoords\"}],\"pie\":[{\"automargin\":true,\"type\":\"pie\"}],\"scatter3d\":[{\"line\":{\"colorbar\":{\"outlinewidth\":0,\"ticks\":\"\"}},\"marker\":{\"colorbar\":{\"outlinewidth\":0,\"ticks\":\"\"}},\"type\":\"scatter3d\"}],\"scattercarpet\":[{\"marker\":{\"colorbar\":{\"outlinewidth\":0,\"ticks\":\"\"}},\"type\":\"scattercarpet\"}],\"scattergeo\":[{\"marker\":{\"colorbar\":{\"outlinewidth\":0,\"ticks\":\"\"}},\"type\":\"scattergeo\"}],\"scattergl\":[{\"marker\":{\"colorbar\":{\"outlinewidth\":0,\"ticks\":\"\"}},\"type\":\"scattergl\"}],\"scattermapbox\":[{\"marker\":{\"colorbar\":{\"outlinewidth\":0,\"ticks\":\"\"}},\"type\":\"scattermapbox\"}],\"scatterpolargl\":[{\"marker\":{\"colorbar\":{\"outlinewidth\":0,\"ticks\":\"\"}},\"type\":\"scatterpolargl\"}],\"scatterpolar\":[{\"marker\":{\"colorbar\":{\"outlinewidth\":0,\"ticks\":\"\"}},\"type\":\"scatterpolar\"}],\"scatter\":[{\"marker\":{\"colorbar\":{\"outlinewidth\":0,\"ticks\":\"\"}},\"type\":\"scatter\"}],\"scatterternary\":[{\"marker\":{\"colorbar\":{\"outlinewidth\":0,\"ticks\":\"\"}},\"type\":\"scatterternary\"}],\"surface\":[{\"colorbar\":{\"outlinewidth\":0,\"ticks\":\"\"},\"colorscale\":[[0.0,\"#0d0887\"],[0.1111111111111111,\"#46039f\"],[0.2222222222222222,\"#7201a8\"],[0.3333333333333333,\"#9c179e\"],[0.4444444444444444,\"#bd3786\"],[0.5555555555555556,\"#d8576b\"],[0.6666666666666666,\"#ed7953\"],[0.7777777777777778,\"#fb9f3a\"],[0.8888888888888888,\"#fdca26\"],[1.0,\"#f0f921\"]],\"type\":\"surface\"}],\"table\":[{\"cells\":{\"fill\":{\"color\":\"#EBF0F8\"},\"line\":{\"color\":\"white\"}},\"header\":{\"fill\":{\"color\":\"#C8D4E3\"},\"line\":{\"color\":\"white\"}},\"type\":\"table\"}]},\"layout\":{\"annotationdefaults\":{\"arrowcolor\":\"#2a3f5f\",\"arrowhead\":0,\"arrowwidth\":1},\"autotypenumbers\":\"strict\",\"coloraxis\":{\"colorbar\":{\"outlinewidth\":0,\"ticks\":\"\"}},\"colorscale\":{\"diverging\":[[0,\"#8e0152\"],[0.1,\"#c51b7d\"],[0.2,\"#de77ae\"],[0.3,\"#f1b6da\"],[0.4,\"#fde0ef\"],[0.5,\"#f7f7f7\"],[0.6,\"#e6f5d0\"],[0.7,\"#b8e186\"],[0.8,\"#7fbc41\"],[0.9,\"#4d9221\"],[1,\"#276419\"]],\"sequential\":[[0.0,\"#0d0887\"],[0.1111111111111111,\"#46039f\"],[0.2222222222222222,\"#7201a8\"],[0.3333333333333333,\"#9c179e\"],[0.4444444444444444,\"#bd3786\"],[0.5555555555555556,\"#d8576b\"],[0.6666666666666666,\"#ed7953\"],[0.7777777777777778,\"#fb9f3a\"],[0.8888888888888888,\"#fdca26\"],[1.0,\"#f0f921\"]],\"sequentialminus\":[[0.0,\"#0d0887\"],[0.1111111111111111,\"#46039f\"],[0.2222222222222222,\"#7201a8\"],[0.3333333333333333,\"#9c179e\"],[0.4444444444444444,\"#bd3786\"],[0.5555555555555556,\"#d8576b\"],[0.6666666666666666,\"#ed7953\"],[0.7777777777777778,\"#fb9f3a\"],[0.8888888888888888,\"#fdca26\"],[1.0,\"#f0f921\"]]},\"colorway\":[\"#636efa\",\"#EF553B\",\"#00cc96\",\"#ab63fa\",\"#FFA15A\",\"#19d3f3\",\"#FF6692\",\"#B6E880\",\"#FF97FF\",\"#FECB52\"],\"font\":{\"color\":\"#2a3f5f\"},\"geo\":{\"bgcolor\":\"white\",\"lakecolor\":\"white\",\"landcolor\":\"#E5ECF6\",\"showlakes\":true,\"showland\":true,\"subunitcolor\":\"white\"},\"hoverlabel\":{\"align\":\"left\"},\"hovermode\":\"closest\",\"mapbox\":{\"style\":\"light\"},\"paper_bgcolor\":\"white\",\"plot_bgcolor\":\"#E5ECF6\",\"polar\":{\"angularaxis\":{\"gridcolor\":\"white\",\"linecolor\":\"white\",\"ticks\":\"\"},\"bgcolor\":\"#E5ECF6\",\"radialaxis\":{\"gridcolor\":\"white\",\"linecolor\":\"white\",\"ticks\":\"\"}},\"scene\":{\"xaxis\":{\"backgroundcolor\":\"#E5ECF6\",\"gridcolor\":\"white\",\"gridwidth\":2,\"linecolor\":\"white\",\"showbackground\":true,\"ticks\":\"\",\"zerolinecolor\":\"white\"},\"yaxis\":{\"backgroundcolor\":\"#E5ECF6\",\"gridcolor\":\"white\",\"gridwidth\":2,\"linecolor\":\"white\",\"showbackground\":true,\"ticks\":\"\",\"zerolinecolor\":\"white\"},\"zaxis\":{\"backgroundcolor\":\"#E5ECF6\",\"gridcolor\":\"white\",\"gridwidth\":2,\"linecolor\":\"white\",\"showbackground\":true,\"ticks\":\"\",\"zerolinecolor\":\"white\"}},\"shapedefaults\":{\"line\":{\"color\":\"#2a3f5f\"}},\"ternary\":{\"aaxis\":{\"gridcolor\":\"white\",\"linecolor\":\"white\",\"ticks\":\"\"},\"baxis\":{\"gridcolor\":\"white\",\"linecolor\":\"white\",\"ticks\":\"\"},\"bgcolor\":\"#E5ECF6\",\"caxis\":{\"gridcolor\":\"white\",\"linecolor\":\"white\",\"ticks\":\"\"}},\"title\":{\"x\":0.05},\"xaxis\":{\"automargin\":true,\"gridcolor\":\"white\",\"linecolor\":\"white\",\"ticks\":\"\",\"title\":{\"standoff\":15},\"zerolinecolor\":\"white\",\"zerolinewidth\":2},\"yaxis\":{\"automargin\":true,\"gridcolor\":\"white\",\"linecolor\":\"white\",\"ticks\":\"\",\"title\":{\"standoff\":15},\"zerolinecolor\":\"white\",\"zerolinewidth\":2}}},\"title\":{\"font\":{\"size\":30},\"text\":\"<b>Specialization of main countries in Economy SDG</b>\"},\"showlegend\":true,\"geo\":{\"center\":{\"lat\":10,\"lon\":10},\"landcolor\":\"lightgray\",\"projection\":{\"scale\":1.25,\"type\":\"kavrayskiy7\"},\"scope\":\"world\",\"showcountries\":true,\"showland\":true},\"height\":1080,\"width\":1980},                        {\"responsive\": true}                    ).then(function(){\n                            \nvar gd = document.getElementById('9d06fe31-1d00-4034-9d59-d773d178aff5');\nvar x = new MutationObserver(function (mutations, observer) {{\n        var display = window.getComputedStyle(gd).display;\n        if (!display || display === 'none') {{\n            console.log([gd, 'removed!']);\n            Plotly.purge(gd);\n            observer.disconnect();\n        }}\n}});\n\n// Listen for the removal of the full notebook cells\nvar notebookContainer = gd.closest('#notebook-container');\nif (notebookContainer) {{\n    x.observe(notebookContainer, {childList: true});\n}}\n\n// Listen for the clearing of the current output cell\nvar outputEl = gd.closest('.output');\nif (outputEl) {{\n    x.observe(outputEl, {childList: true});\n}}\n\n                        })                };                });            </script>        </div>"
     },
     "metadata": {},
     "output_type": "display_data"
    },
    {
     "data": {
      "application/vnd.plotly.v1+json": {
       "data": [
        {
         "autocolorscale": false,
         "colorscale": [
          [
           0.0,
           "rgb(247,251,255)"
          ],
          [
           0.125,
           "rgb(222,235,247)"
          ],
          [
           0.25,
           "rgb(198,219,239)"
          ],
          [
           0.375,
           "rgb(158,202,225)"
          ],
          [
           0.5,
           "rgb(107,174,214)"
          ],
          [
           0.625,
           "rgb(66,146,198)"
          ],
          [
           0.75,
           "rgb(33,113,181)"
          ],
          [
           0.875,
           "rgb(8,81,156)"
          ],
          [
           1.0,
           "rgb(8,48,107)"
          ]
         ],
         "locationmode": "country names",
         "locations": [
          "Austria",
          "Belgium",
          "Bulgaria",
          "Croatia",
          "Cyprus",
          "Czech Republic",
          "Denmark",
          "Estonia",
          "Finland",
          "France",
          "Germany",
          "Greece",
          "Hungary",
          "Ireland",
          "Italy",
          "Latvia",
          "Lithuania",
          "Luxembourg",
          "Malta",
          "Netherlands",
          "Poland",
          "Portugal",
          "Romania",
          "Slovakia",
          "Slovenia",
          "Spain",
          "Sweden",
          "Norway",
          "Switzerland",
          "United Kingdom",
          "Canada",
          "China",
          "United States",
          "Japan",
          "South Korea",
          "Australia",
          "Israel"
         ],
         "text": [
          "Austria",
          "Belgium",
          "Bulgaria",
          "Croatia",
          "Cyprus",
          "Czech Republic",
          "Denmark",
          "Estonia",
          "Finland",
          "France",
          "Germany",
          "Greece",
          "Hungary",
          "Ireland",
          "Italy",
          "Latvia",
          "Lithuania",
          "Luxembourg",
          "Malta",
          "Netherlands",
          "Poland",
          "Portugal",
          "Romania",
          "Slovakia",
          "Slovenia",
          "Spain",
          "Sweden",
          "Norway",
          "Switzerland",
          "United Kingdom",
          "Canada",
          "China",
          "United States",
          "Japan",
          "South Korea",
          "Australia",
          "Israel"
         ],
         "z": [
          0.85,
          0.92,
          0.78,
          1.35,
          0.96,
          0.8,
          1.04,
          1.65,
          1.31,
          1.11,
          0.88,
          1.33,
          0.82,
          0.7,
          1.48,
          1.39,
          1.34,
          0.52,
          1.16,
          0.91,
          0.7,
          2.07,
          0.97,
          0.69,
          0.77,
          1.52,
          1.05,
          1.76,
          0.81,
          0.95,
          1.07,
          1.06,
          0.85,
          0.6,
          0.66,
          1.58,
          0.51
         ],
         "type": "choropleth"
        }
       ],
       "layout": {
        "template": {
         "data": {
          "barpolar": [
           {
            "marker": {
             "line": {
              "color": "#E5ECF6",
              "width": 0.5
             },
             "pattern": {
              "fillmode": "overlay",
              "size": 10,
              "solidity": 0.2
             }
            },
            "type": "barpolar"
           }
          ],
          "bar": [
           {
            "error_x": {
             "color": "#2a3f5f"
            },
            "error_y": {
             "color": "#2a3f5f"
            },
            "marker": {
             "line": {
              "color": "#E5ECF6",
              "width": 0.5
             },
             "pattern": {
              "fillmode": "overlay",
              "size": 10,
              "solidity": 0.2
             }
            },
            "type": "bar"
           }
          ],
          "carpet": [
           {
            "aaxis": {
             "endlinecolor": "#2a3f5f",
             "gridcolor": "white",
             "linecolor": "white",
             "minorgridcolor": "white",
             "startlinecolor": "#2a3f5f"
            },
            "baxis": {
             "endlinecolor": "#2a3f5f",
             "gridcolor": "white",
             "linecolor": "white",
             "minorgridcolor": "white",
             "startlinecolor": "#2a3f5f"
            },
            "type": "carpet"
           }
          ],
          "choropleth": [
           {
            "colorbar": {
             "outlinewidth": 0,
             "ticks": ""
            },
            "type": "choropleth"
           }
          ],
          "contourcarpet": [
           {
            "colorbar": {
             "outlinewidth": 0,
             "ticks": ""
            },
            "type": "contourcarpet"
           }
          ],
          "contour": [
           {
            "colorbar": {
             "outlinewidth": 0,
             "ticks": ""
            },
            "colorscale": [
             [
              0.0,
              "#0d0887"
             ],
             [
              0.1111111111111111,
              "#46039f"
             ],
             [
              0.2222222222222222,
              "#7201a8"
             ],
             [
              0.3333333333333333,
              "#9c179e"
             ],
             [
              0.4444444444444444,
              "#bd3786"
             ],
             [
              0.5555555555555556,
              "#d8576b"
             ],
             [
              0.6666666666666666,
              "#ed7953"
             ],
             [
              0.7777777777777778,
              "#fb9f3a"
             ],
             [
              0.8888888888888888,
              "#fdca26"
             ],
             [
              1.0,
              "#f0f921"
             ]
            ],
            "type": "contour"
           }
          ],
          "heatmapgl": [
           {
            "colorbar": {
             "outlinewidth": 0,
             "ticks": ""
            },
            "colorscale": [
             [
              0.0,
              "#0d0887"
             ],
             [
              0.1111111111111111,
              "#46039f"
             ],
             [
              0.2222222222222222,
              "#7201a8"
             ],
             [
              0.3333333333333333,
              "#9c179e"
             ],
             [
              0.4444444444444444,
              "#bd3786"
             ],
             [
              0.5555555555555556,
              "#d8576b"
             ],
             [
              0.6666666666666666,
              "#ed7953"
             ],
             [
              0.7777777777777778,
              "#fb9f3a"
             ],
             [
              0.8888888888888888,
              "#fdca26"
             ],
             [
              1.0,
              "#f0f921"
             ]
            ],
            "type": "heatmapgl"
           }
          ],
          "heatmap": [
           {
            "colorbar": {
             "outlinewidth": 0,
             "ticks": ""
            },
            "colorscale": [
             [
              0.0,
              "#0d0887"
             ],
             [
              0.1111111111111111,
              "#46039f"
             ],
             [
              0.2222222222222222,
              "#7201a8"
             ],
             [
              0.3333333333333333,
              "#9c179e"
             ],
             [
              0.4444444444444444,
              "#bd3786"
             ],
             [
              0.5555555555555556,
              "#d8576b"
             ],
             [
              0.6666666666666666,
              "#ed7953"
             ],
             [
              0.7777777777777778,
              "#fb9f3a"
             ],
             [
              0.8888888888888888,
              "#fdca26"
             ],
             [
              1.0,
              "#f0f921"
             ]
            ],
            "type": "heatmap"
           }
          ],
          "histogram2dcontour": [
           {
            "colorbar": {
             "outlinewidth": 0,
             "ticks": ""
            },
            "colorscale": [
             [
              0.0,
              "#0d0887"
             ],
             [
              0.1111111111111111,
              "#46039f"
             ],
             [
              0.2222222222222222,
              "#7201a8"
             ],
             [
              0.3333333333333333,
              "#9c179e"
             ],
             [
              0.4444444444444444,
              "#bd3786"
             ],
             [
              0.5555555555555556,
              "#d8576b"
             ],
             [
              0.6666666666666666,
              "#ed7953"
             ],
             [
              0.7777777777777778,
              "#fb9f3a"
             ],
             [
              0.8888888888888888,
              "#fdca26"
             ],
             [
              1.0,
              "#f0f921"
             ]
            ],
            "type": "histogram2dcontour"
           }
          ],
          "histogram2d": [
           {
            "colorbar": {
             "outlinewidth": 0,
             "ticks": ""
            },
            "colorscale": [
             [
              0.0,
              "#0d0887"
             ],
             [
              0.1111111111111111,
              "#46039f"
             ],
             [
              0.2222222222222222,
              "#7201a8"
             ],
             [
              0.3333333333333333,
              "#9c179e"
             ],
             [
              0.4444444444444444,
              "#bd3786"
             ],
             [
              0.5555555555555556,
              "#d8576b"
             ],
             [
              0.6666666666666666,
              "#ed7953"
             ],
             [
              0.7777777777777778,
              "#fb9f3a"
             ],
             [
              0.8888888888888888,
              "#fdca26"
             ],
             [
              1.0,
              "#f0f921"
             ]
            ],
            "type": "histogram2d"
           }
          ],
          "histogram": [
           {
            "marker": {
             "pattern": {
              "fillmode": "overlay",
              "size": 10,
              "solidity": 0.2
             }
            },
            "type": "histogram"
           }
          ],
          "mesh3d": [
           {
            "colorbar": {
             "outlinewidth": 0,
             "ticks": ""
            },
            "type": "mesh3d"
           }
          ],
          "parcoords": [
           {
            "line": {
             "colorbar": {
              "outlinewidth": 0,
              "ticks": ""
             }
            },
            "type": "parcoords"
           }
          ],
          "pie": [
           {
            "automargin": true,
            "type": "pie"
           }
          ],
          "scatter3d": [
           {
            "line": {
             "colorbar": {
              "outlinewidth": 0,
              "ticks": ""
             }
            },
            "marker": {
             "colorbar": {
              "outlinewidth": 0,
              "ticks": ""
             }
            },
            "type": "scatter3d"
           }
          ],
          "scattercarpet": [
           {
            "marker": {
             "colorbar": {
              "outlinewidth": 0,
              "ticks": ""
             }
            },
            "type": "scattercarpet"
           }
          ],
          "scattergeo": [
           {
            "marker": {
             "colorbar": {
              "outlinewidth": 0,
              "ticks": ""
             }
            },
            "type": "scattergeo"
           }
          ],
          "scattergl": [
           {
            "marker": {
             "colorbar": {
              "outlinewidth": 0,
              "ticks": ""
             }
            },
            "type": "scattergl"
           }
          ],
          "scattermapbox": [
           {
            "marker": {
             "colorbar": {
              "outlinewidth": 0,
              "ticks": ""
             }
            },
            "type": "scattermapbox"
           }
          ],
          "scatterpolargl": [
           {
            "marker": {
             "colorbar": {
              "outlinewidth": 0,
              "ticks": ""
             }
            },
            "type": "scatterpolargl"
           }
          ],
          "scatterpolar": [
           {
            "marker": {
             "colorbar": {
              "outlinewidth": 0,
              "ticks": ""
             }
            },
            "type": "scatterpolar"
           }
          ],
          "scatter": [
           {
            "marker": {
             "colorbar": {
              "outlinewidth": 0,
              "ticks": ""
             }
            },
            "type": "scatter"
           }
          ],
          "scatterternary": [
           {
            "marker": {
             "colorbar": {
              "outlinewidth": 0,
              "ticks": ""
             }
            },
            "type": "scatterternary"
           }
          ],
          "surface": [
           {
            "colorbar": {
             "outlinewidth": 0,
             "ticks": ""
            },
            "colorscale": [
             [
              0.0,
              "#0d0887"
             ],
             [
              0.1111111111111111,
              "#46039f"
             ],
             [
              0.2222222222222222,
              "#7201a8"
             ],
             [
              0.3333333333333333,
              "#9c179e"
             ],
             [
              0.4444444444444444,
              "#bd3786"
             ],
             [
              0.5555555555555556,
              "#d8576b"
             ],
             [
              0.6666666666666666,
              "#ed7953"
             ],
             [
              0.7777777777777778,
              "#fb9f3a"
             ],
             [
              0.8888888888888888,
              "#fdca26"
             ],
             [
              1.0,
              "#f0f921"
             ]
            ],
            "type": "surface"
           }
          ],
          "table": [
           {
            "cells": {
             "fill": {
              "color": "#EBF0F8"
             },
             "line": {
              "color": "white"
             }
            },
            "header": {
             "fill": {
              "color": "#C8D4E3"
             },
             "line": {
              "color": "white"
             }
            },
            "type": "table"
           }
          ]
         },
         "layout": {
          "annotationdefaults": {
           "arrowcolor": "#2a3f5f",
           "arrowhead": 0,
           "arrowwidth": 1
          },
          "autotypenumbers": "strict",
          "coloraxis": {
           "colorbar": {
            "outlinewidth": 0,
            "ticks": ""
           }
          },
          "colorscale": {
           "diverging": [
            [
             0,
             "#8e0152"
            ],
            [
             0.1,
             "#c51b7d"
            ],
            [
             0.2,
             "#de77ae"
            ],
            [
             0.3,
             "#f1b6da"
            ],
            [
             0.4,
             "#fde0ef"
            ],
            [
             0.5,
             "#f7f7f7"
            ],
            [
             0.6,
             "#e6f5d0"
            ],
            [
             0.7,
             "#b8e186"
            ],
            [
             0.8,
             "#7fbc41"
            ],
            [
             0.9,
             "#4d9221"
            ],
            [
             1,
             "#276419"
            ]
           ],
           "sequential": [
            [
             0.0,
             "#0d0887"
            ],
            [
             0.1111111111111111,
             "#46039f"
            ],
            [
             0.2222222222222222,
             "#7201a8"
            ],
            [
             0.3333333333333333,
             "#9c179e"
            ],
            [
             0.4444444444444444,
             "#bd3786"
            ],
            [
             0.5555555555555556,
             "#d8576b"
            ],
            [
             0.6666666666666666,
             "#ed7953"
            ],
            [
             0.7777777777777778,
             "#fb9f3a"
            ],
            [
             0.8888888888888888,
             "#fdca26"
            ],
            [
             1.0,
             "#f0f921"
            ]
           ],
           "sequentialminus": [
            [
             0.0,
             "#0d0887"
            ],
            [
             0.1111111111111111,
             "#46039f"
            ],
            [
             0.2222222222222222,
             "#7201a8"
            ],
            [
             0.3333333333333333,
             "#9c179e"
            ],
            [
             0.4444444444444444,
             "#bd3786"
            ],
            [
             0.5555555555555556,
             "#d8576b"
            ],
            [
             0.6666666666666666,
             "#ed7953"
            ],
            [
             0.7777777777777778,
             "#fb9f3a"
            ],
            [
             0.8888888888888888,
             "#fdca26"
            ],
            [
             1.0,
             "#f0f921"
            ]
           ]
          },
          "colorway": [
           "#636efa",
           "#EF553B",
           "#00cc96",
           "#ab63fa",
           "#FFA15A",
           "#19d3f3",
           "#FF6692",
           "#B6E880",
           "#FF97FF",
           "#FECB52"
          ],
          "font": {
           "color": "#2a3f5f"
          },
          "geo": {
           "bgcolor": "white",
           "lakecolor": "white",
           "landcolor": "#E5ECF6",
           "showlakes": true,
           "showland": true,
           "subunitcolor": "white"
          },
          "hoverlabel": {
           "align": "left"
          },
          "hovermode": "closest",
          "mapbox": {
           "style": "light"
          },
          "paper_bgcolor": "white",
          "plot_bgcolor": "#E5ECF6",
          "polar": {
           "angularaxis": {
            "gridcolor": "white",
            "linecolor": "white",
            "ticks": ""
           },
           "bgcolor": "#E5ECF6",
           "radialaxis": {
            "gridcolor": "white",
            "linecolor": "white",
            "ticks": ""
           }
          },
          "scene": {
           "xaxis": {
            "backgroundcolor": "#E5ECF6",
            "gridcolor": "white",
            "gridwidth": 2,
            "linecolor": "white",
            "showbackground": true,
            "ticks": "",
            "zerolinecolor": "white"
           },
           "yaxis": {
            "backgroundcolor": "#E5ECF6",
            "gridcolor": "white",
            "gridwidth": 2,
            "linecolor": "white",
            "showbackground": true,
            "ticks": "",
            "zerolinecolor": "white"
           },
           "zaxis": {
            "backgroundcolor": "#E5ECF6",
            "gridcolor": "white",
            "gridwidth": 2,
            "linecolor": "white",
            "showbackground": true,
            "ticks": "",
            "zerolinecolor": "white"
           }
          },
          "shapedefaults": {
           "line": {
            "color": "#2a3f5f"
           }
          },
          "ternary": {
           "aaxis": {
            "gridcolor": "white",
            "linecolor": "white",
            "ticks": ""
           },
           "baxis": {
            "gridcolor": "white",
            "linecolor": "white",
            "ticks": ""
           },
           "bgcolor": "#E5ECF6",
           "caxis": {
            "gridcolor": "white",
            "linecolor": "white",
            "ticks": ""
           }
          },
          "title": {
           "x": 0.05
          },
          "xaxis": {
           "automargin": true,
           "gridcolor": "white",
           "linecolor": "white",
           "ticks": "",
           "title": {
            "standoff": 15
           },
           "zerolinecolor": "white",
           "zerolinewidth": 2
          },
          "yaxis": {
           "automargin": true,
           "gridcolor": "white",
           "linecolor": "white",
           "ticks": "",
           "title": {
            "standoff": 15
           },
           "zerolinecolor": "white",
           "zerolinewidth": 2
          }
         }
        },
        "title": {
         "font": {
          "size": 30
         },
         "text": "<b>Specialization of main countries in Environment SDG</b>"
        },
        "showlegend": true,
        "geo": {
         "center": {
          "lat": 10,
          "lon": 10
         },
         "landcolor": "lightgray",
         "projection": {
          "scale": 1.25,
          "type": "kavrayskiy7"
         },
         "scope": "world",
         "showcountries": true,
         "showland": true
        },
        "height": 1080,
        "width": 1980
       },
       "config": {
        "plotlyServerURL": "https://plot.ly"
       }
      },
      "text/html": "<div>                            <div id=\"9291293e-f299-47bc-ab7b-4bb0810589bb\" class=\"plotly-graph-div\" style=\"height:1080px; width:1980px;\"></div>            <script type=\"text/javascript\">                require([\"plotly\"], function(Plotly) {                    window.PLOTLYENV=window.PLOTLYENV || {};                                    if (document.getElementById(\"9291293e-f299-47bc-ab7b-4bb0810589bb\")) {                    Plotly.newPlot(                        \"9291293e-f299-47bc-ab7b-4bb0810589bb\",                        [{\"autocolorscale\":false,\"colorscale\":[[0.0,\"rgb(247,251,255)\"],[0.125,\"rgb(222,235,247)\"],[0.25,\"rgb(198,219,239)\"],[0.375,\"rgb(158,202,225)\"],[0.5,\"rgb(107,174,214)\"],[0.625,\"rgb(66,146,198)\"],[0.75,\"rgb(33,113,181)\"],[0.875,\"rgb(8,81,156)\"],[1.0,\"rgb(8,48,107)\"]],\"locationmode\":\"country names\",\"locations\":[\"Austria\",\"Belgium\",\"Bulgaria\",\"Croatia\",\"Cyprus\",\"Czech Republic\",\"Denmark\",\"Estonia\",\"Finland\",\"France\",\"Germany\",\"Greece\",\"Hungary\",\"Ireland\",\"Italy\",\"Latvia\",\"Lithuania\",\"Luxembourg\",\"Malta\",\"Netherlands\",\"Poland\",\"Portugal\",\"Romania\",\"Slovakia\",\"Slovenia\",\"Spain\",\"Sweden\",\"Norway\",\"Switzerland\",\"United Kingdom\",\"Canada\",\"China\",\"United States\",\"Japan\",\"South Korea\",\"Australia\",\"Israel\"],\"text\":[\"Austria\",\"Belgium\",\"Bulgaria\",\"Croatia\",\"Cyprus\",\"Czech Republic\",\"Denmark\",\"Estonia\",\"Finland\",\"France\",\"Germany\",\"Greece\",\"Hungary\",\"Ireland\",\"Italy\",\"Latvia\",\"Lithuania\",\"Luxembourg\",\"Malta\",\"Netherlands\",\"Poland\",\"Portugal\",\"Romania\",\"Slovakia\",\"Slovenia\",\"Spain\",\"Sweden\",\"Norway\",\"Switzerland\",\"United Kingdom\",\"Canada\",\"China\",\"United States\",\"Japan\",\"South Korea\",\"Australia\",\"Israel\"],\"z\":[0.85,0.92,0.78,1.35,0.96,0.8,1.04,1.65,1.31,1.11,0.88,1.33,0.82,0.7,1.48,1.39,1.34,0.52,1.16,0.91,0.7,2.07,0.97,0.69,0.77,1.52,1.05,1.76,0.81,0.95,1.07,1.06,0.85,0.6,0.66,1.58,0.51],\"type\":\"choropleth\"}],                        {\"template\":{\"data\":{\"barpolar\":[{\"marker\":{\"line\":{\"color\":\"#E5ECF6\",\"width\":0.5},\"pattern\":{\"fillmode\":\"overlay\",\"size\":10,\"solidity\":0.2}},\"type\":\"barpolar\"}],\"bar\":[{\"error_x\":{\"color\":\"#2a3f5f\"},\"error_y\":{\"color\":\"#2a3f5f\"},\"marker\":{\"line\":{\"color\":\"#E5ECF6\",\"width\":0.5},\"pattern\":{\"fillmode\":\"overlay\",\"size\":10,\"solidity\":0.2}},\"type\":\"bar\"}],\"carpet\":[{\"aaxis\":{\"endlinecolor\":\"#2a3f5f\",\"gridcolor\":\"white\",\"linecolor\":\"white\",\"minorgridcolor\":\"white\",\"startlinecolor\":\"#2a3f5f\"},\"baxis\":{\"endlinecolor\":\"#2a3f5f\",\"gridcolor\":\"white\",\"linecolor\":\"white\",\"minorgridcolor\":\"white\",\"startlinecolor\":\"#2a3f5f\"},\"type\":\"carpet\"}],\"choropleth\":[{\"colorbar\":{\"outlinewidth\":0,\"ticks\":\"\"},\"type\":\"choropleth\"}],\"contourcarpet\":[{\"colorbar\":{\"outlinewidth\":0,\"ticks\":\"\"},\"type\":\"contourcarpet\"}],\"contour\":[{\"colorbar\":{\"outlinewidth\":0,\"ticks\":\"\"},\"colorscale\":[[0.0,\"#0d0887\"],[0.1111111111111111,\"#46039f\"],[0.2222222222222222,\"#7201a8\"],[0.3333333333333333,\"#9c179e\"],[0.4444444444444444,\"#bd3786\"],[0.5555555555555556,\"#d8576b\"],[0.6666666666666666,\"#ed7953\"],[0.7777777777777778,\"#fb9f3a\"],[0.8888888888888888,\"#fdca26\"],[1.0,\"#f0f921\"]],\"type\":\"contour\"}],\"heatmapgl\":[{\"colorbar\":{\"outlinewidth\":0,\"ticks\":\"\"},\"colorscale\":[[0.0,\"#0d0887\"],[0.1111111111111111,\"#46039f\"],[0.2222222222222222,\"#7201a8\"],[0.3333333333333333,\"#9c179e\"],[0.4444444444444444,\"#bd3786\"],[0.5555555555555556,\"#d8576b\"],[0.6666666666666666,\"#ed7953\"],[0.7777777777777778,\"#fb9f3a\"],[0.8888888888888888,\"#fdca26\"],[1.0,\"#f0f921\"]],\"type\":\"heatmapgl\"}],\"heatmap\":[{\"colorbar\":{\"outlinewidth\":0,\"ticks\":\"\"},\"colorscale\":[[0.0,\"#0d0887\"],[0.1111111111111111,\"#46039f\"],[0.2222222222222222,\"#7201a8\"],[0.3333333333333333,\"#9c179e\"],[0.4444444444444444,\"#bd3786\"],[0.5555555555555556,\"#d8576b\"],[0.6666666666666666,\"#ed7953\"],[0.7777777777777778,\"#fb9f3a\"],[0.8888888888888888,\"#fdca26\"],[1.0,\"#f0f921\"]],\"type\":\"heatmap\"}],\"histogram2dcontour\":[{\"colorbar\":{\"outlinewidth\":0,\"ticks\":\"\"},\"colorscale\":[[0.0,\"#0d0887\"],[0.1111111111111111,\"#46039f\"],[0.2222222222222222,\"#7201a8\"],[0.3333333333333333,\"#9c179e\"],[0.4444444444444444,\"#bd3786\"],[0.5555555555555556,\"#d8576b\"],[0.6666666666666666,\"#ed7953\"],[0.7777777777777778,\"#fb9f3a\"],[0.8888888888888888,\"#fdca26\"],[1.0,\"#f0f921\"]],\"type\":\"histogram2dcontour\"}],\"histogram2d\":[{\"colorbar\":{\"outlinewidth\":0,\"ticks\":\"\"},\"colorscale\":[[0.0,\"#0d0887\"],[0.1111111111111111,\"#46039f\"],[0.2222222222222222,\"#7201a8\"],[0.3333333333333333,\"#9c179e\"],[0.4444444444444444,\"#bd3786\"],[0.5555555555555556,\"#d8576b\"],[0.6666666666666666,\"#ed7953\"],[0.7777777777777778,\"#fb9f3a\"],[0.8888888888888888,\"#fdca26\"],[1.0,\"#f0f921\"]],\"type\":\"histogram2d\"}],\"histogram\":[{\"marker\":{\"pattern\":{\"fillmode\":\"overlay\",\"size\":10,\"solidity\":0.2}},\"type\":\"histogram\"}],\"mesh3d\":[{\"colorbar\":{\"outlinewidth\":0,\"ticks\":\"\"},\"type\":\"mesh3d\"}],\"parcoords\":[{\"line\":{\"colorbar\":{\"outlinewidth\":0,\"ticks\":\"\"}},\"type\":\"parcoords\"}],\"pie\":[{\"automargin\":true,\"type\":\"pie\"}],\"scatter3d\":[{\"line\":{\"colorbar\":{\"outlinewidth\":0,\"ticks\":\"\"}},\"marker\":{\"colorbar\":{\"outlinewidth\":0,\"ticks\":\"\"}},\"type\":\"scatter3d\"}],\"scattercarpet\":[{\"marker\":{\"colorbar\":{\"outlinewidth\":0,\"ticks\":\"\"}},\"type\":\"scattercarpet\"}],\"scattergeo\":[{\"marker\":{\"colorbar\":{\"outlinewidth\":0,\"ticks\":\"\"}},\"type\":\"scattergeo\"}],\"scattergl\":[{\"marker\":{\"colorbar\":{\"outlinewidth\":0,\"ticks\":\"\"}},\"type\":\"scattergl\"}],\"scattermapbox\":[{\"marker\":{\"colorbar\":{\"outlinewidth\":0,\"ticks\":\"\"}},\"type\":\"scattermapbox\"}],\"scatterpolargl\":[{\"marker\":{\"colorbar\":{\"outlinewidth\":0,\"ticks\":\"\"}},\"type\":\"scatterpolargl\"}],\"scatterpolar\":[{\"marker\":{\"colorbar\":{\"outlinewidth\":0,\"ticks\":\"\"}},\"type\":\"scatterpolar\"}],\"scatter\":[{\"marker\":{\"colorbar\":{\"outlinewidth\":0,\"ticks\":\"\"}},\"type\":\"scatter\"}],\"scatterternary\":[{\"marker\":{\"colorbar\":{\"outlinewidth\":0,\"ticks\":\"\"}},\"type\":\"scatterternary\"}],\"surface\":[{\"colorbar\":{\"outlinewidth\":0,\"ticks\":\"\"},\"colorscale\":[[0.0,\"#0d0887\"],[0.1111111111111111,\"#46039f\"],[0.2222222222222222,\"#7201a8\"],[0.3333333333333333,\"#9c179e\"],[0.4444444444444444,\"#bd3786\"],[0.5555555555555556,\"#d8576b\"],[0.6666666666666666,\"#ed7953\"],[0.7777777777777778,\"#fb9f3a\"],[0.8888888888888888,\"#fdca26\"],[1.0,\"#f0f921\"]],\"type\":\"surface\"}],\"table\":[{\"cells\":{\"fill\":{\"color\":\"#EBF0F8\"},\"line\":{\"color\":\"white\"}},\"header\":{\"fill\":{\"color\":\"#C8D4E3\"},\"line\":{\"color\":\"white\"}},\"type\":\"table\"}]},\"layout\":{\"annotationdefaults\":{\"arrowcolor\":\"#2a3f5f\",\"arrowhead\":0,\"arrowwidth\":1},\"autotypenumbers\":\"strict\",\"coloraxis\":{\"colorbar\":{\"outlinewidth\":0,\"ticks\":\"\"}},\"colorscale\":{\"diverging\":[[0,\"#8e0152\"],[0.1,\"#c51b7d\"],[0.2,\"#de77ae\"],[0.3,\"#f1b6da\"],[0.4,\"#fde0ef\"],[0.5,\"#f7f7f7\"],[0.6,\"#e6f5d0\"],[0.7,\"#b8e186\"],[0.8,\"#7fbc41\"],[0.9,\"#4d9221\"],[1,\"#276419\"]],\"sequential\":[[0.0,\"#0d0887\"],[0.1111111111111111,\"#46039f\"],[0.2222222222222222,\"#7201a8\"],[0.3333333333333333,\"#9c179e\"],[0.4444444444444444,\"#bd3786\"],[0.5555555555555556,\"#d8576b\"],[0.6666666666666666,\"#ed7953\"],[0.7777777777777778,\"#fb9f3a\"],[0.8888888888888888,\"#fdca26\"],[1.0,\"#f0f921\"]],\"sequentialminus\":[[0.0,\"#0d0887\"],[0.1111111111111111,\"#46039f\"],[0.2222222222222222,\"#7201a8\"],[0.3333333333333333,\"#9c179e\"],[0.4444444444444444,\"#bd3786\"],[0.5555555555555556,\"#d8576b\"],[0.6666666666666666,\"#ed7953\"],[0.7777777777777778,\"#fb9f3a\"],[0.8888888888888888,\"#fdca26\"],[1.0,\"#f0f921\"]]},\"colorway\":[\"#636efa\",\"#EF553B\",\"#00cc96\",\"#ab63fa\",\"#FFA15A\",\"#19d3f3\",\"#FF6692\",\"#B6E880\",\"#FF97FF\",\"#FECB52\"],\"font\":{\"color\":\"#2a3f5f\"},\"geo\":{\"bgcolor\":\"white\",\"lakecolor\":\"white\",\"landcolor\":\"#E5ECF6\",\"showlakes\":true,\"showland\":true,\"subunitcolor\":\"white\"},\"hoverlabel\":{\"align\":\"left\"},\"hovermode\":\"closest\",\"mapbox\":{\"style\":\"light\"},\"paper_bgcolor\":\"white\",\"plot_bgcolor\":\"#E5ECF6\",\"polar\":{\"angularaxis\":{\"gridcolor\":\"white\",\"linecolor\":\"white\",\"ticks\":\"\"},\"bgcolor\":\"#E5ECF6\",\"radialaxis\":{\"gridcolor\":\"white\",\"linecolor\":\"white\",\"ticks\":\"\"}},\"scene\":{\"xaxis\":{\"backgroundcolor\":\"#E5ECF6\",\"gridcolor\":\"white\",\"gridwidth\":2,\"linecolor\":\"white\",\"showbackground\":true,\"ticks\":\"\",\"zerolinecolor\":\"white\"},\"yaxis\":{\"backgroundcolor\":\"#E5ECF6\",\"gridcolor\":\"white\",\"gridwidth\":2,\"linecolor\":\"white\",\"showbackground\":true,\"ticks\":\"\",\"zerolinecolor\":\"white\"},\"zaxis\":{\"backgroundcolor\":\"#E5ECF6\",\"gridcolor\":\"white\",\"gridwidth\":2,\"linecolor\":\"white\",\"showbackground\":true,\"ticks\":\"\",\"zerolinecolor\":\"white\"}},\"shapedefaults\":{\"line\":{\"color\":\"#2a3f5f\"}},\"ternary\":{\"aaxis\":{\"gridcolor\":\"white\",\"linecolor\":\"white\",\"ticks\":\"\"},\"baxis\":{\"gridcolor\":\"white\",\"linecolor\":\"white\",\"ticks\":\"\"},\"bgcolor\":\"#E5ECF6\",\"caxis\":{\"gridcolor\":\"white\",\"linecolor\":\"white\",\"ticks\":\"\"}},\"title\":{\"x\":0.05},\"xaxis\":{\"automargin\":true,\"gridcolor\":\"white\",\"linecolor\":\"white\",\"ticks\":\"\",\"title\":{\"standoff\":15},\"zerolinecolor\":\"white\",\"zerolinewidth\":2},\"yaxis\":{\"automargin\":true,\"gridcolor\":\"white\",\"linecolor\":\"white\",\"ticks\":\"\",\"title\":{\"standoff\":15},\"zerolinecolor\":\"white\",\"zerolinewidth\":2}}},\"title\":{\"font\":{\"size\":30},\"text\":\"<b>Specialization of main countries in Environment SDG</b>\"},\"showlegend\":true,\"geo\":{\"center\":{\"lat\":10,\"lon\":10},\"landcolor\":\"lightgray\",\"projection\":{\"scale\":1.25,\"type\":\"kavrayskiy7\"},\"scope\":\"world\",\"showcountries\":true,\"showland\":true},\"height\":1080,\"width\":1980},                        {\"responsive\": true}                    ).then(function(){\n                            \nvar gd = document.getElementById('9291293e-f299-47bc-ab7b-4bb0810589bb');\nvar x = new MutationObserver(function (mutations, observer) {{\n        var display = window.getComputedStyle(gd).display;\n        if (!display || display === 'none') {{\n            console.log([gd, 'removed!']);\n            Plotly.purge(gd);\n            observer.disconnect();\n        }}\n}});\n\n// Listen for the removal of the full notebook cells\nvar notebookContainer = gd.closest('#notebook-container');\nif (notebookContainer) {{\n    x.observe(notebookContainer, {childList: true});\n}}\n\n// Listen for the clearing of the current output cell\nvar outputEl = gd.closest('.output');\nif (outputEl) {{\n    x.observe(outputEl, {childList: true});\n}}\n\n                        })                };                });            </script>        </div>"
     },
     "metadata": {},
     "output_type": "display_data"
    }
   ],
   "source": [
    "for cat in ['Society', 'Economy', 'Environment']:\n",
    "    fig = go.Figure(\n",
    "        data=go.Choropleth(\n",
    "            locations=df_spec.index,\n",
    "            z=df_spec[cat],\n",
    "            text=df_spec.index,\n",
    "            locationmode=\"country names\",\n",
    "            # colorscale='Blues',\n",
    "            autocolorscale=False,\n",
    "        )\n",
    "    )\n",
    "\n",
    "    fig.update_layout(\n",
    "        template='plotly',\n",
    "        title_text=f\"<b>Specialization of main countries in {cat} SDG</b>\",\n",
    "        title_font_size=30,\n",
    "        showlegend=True,\n",
    "        geo=go.layout.Geo(\n",
    "            scope=\"world\",\n",
    "            landcolor='lightgray',\n",
    "            projection_scale=1.25,\n",
    "            center=dict(lon=10, lat=10),\n",
    "            projection_type=\"kavrayskiy7\",\n",
    "            showland=True,\n",
    "            showcountries=True,\n",
    "        ),\n",
    "        height=1080,\n",
    "        width=1980\n",
    "\n",
    "    )\n",
    "    fig.show()\n",
    "    pio.write_image(fig, f\"../img/Commission/Specialization/World/{cat}\", format='png')"
   ],
   "metadata": {
    "collapsed": false
   }
  },
  {
   "cell_type": "code",
   "execution_count": 26,
   "outputs": [],
   "source": [
    "for dt in ['AI', 'robotics', 'IOT']:\n",
    "    fig = go.Figure(\n",
    "        data=go.Choropleth(\n",
    "            locations=df_spec_dt.index,\n",
    "            z=df_spec_dt[dt],\n",
    "            text=df_spec_dt.index,\n",
    "            locationmode=\"country names\",\n",
    "            colorscale='Blues',\n",
    "            autocolorscale=False,\n",
    "        )\n",
    "    )\n",
    "\n",
    "    fig.update_layout(\n",
    "        template='plotly',\n",
    "        title_text=f\"<b>Specialization of main countries in {dt}</b>\",\n",
    "        title_font_size=30,\n",
    "        showlegend=True,\n",
    "        geo=go.layout.Geo(\n",
    "            scope=\"world\",\n",
    "            landcolor='lightgray',\n",
    "            projection_scale=1.25,\n",
    "            center=dict(lon=10, lat=10),\n",
    "            projection_type=\"kavrayskiy7\",\n",
    "            showland=True,\n",
    "            showcountries=True,\n",
    "        ),\n",
    "        height=1080,\n",
    "        width=1980\n",
    "\n",
    "    )\n",
    "    # pio.write_image(fig, f\"../img/Commission/Specialization/World/{dt}\", format='png')"
   ],
   "metadata": {
    "collapsed": false
   }
  },
  {
   "cell_type": "code",
   "execution_count": 60,
   "outputs": [],
   "source": [
    "import plotly.express as px\n",
    "for cat in ['Society', 'Economy', 'Environment']:\n",
    "    fig = px.choropleth(locations=df_spec_discrete.index,\n",
    "                        locationmode=\"country names\",\n",
    "                        color=df_spec_discrete[cat],\n",
    "                        # text = df_spec[cat],\n",
    "                        color_discrete_map={'Underspecialized (SI < 0.8)':'rgb(158,202,225)',\n",
    "                                            'Average (0.8 <= SI <= 1.2)':'rgb(66,146,198)',\n",
    "                                            'Overspecialized (SI > 1.2)':'rgb(8,48,107)'},\n",
    "                        scope=\"europe\",\n",
    "                        )\n",
    "    fig.update_layout(\n",
    "        template='simple_white',\n",
    "        title_text=f\"<b>Specialization Index for {cat.lower()}-related SDG in the European Union</b>\",\n",
    "        title_font_size=30,\n",
    "        showlegend=True,\n",
    "        legend=dict(\n",
    "            title= \"Degree of specialization\",\n",
    "            yanchor=\"bottom\",\n",
    "            y=0.83,\n",
    "            xanchor=\"left\",\n",
    "            x=0.0525,\n",
    "            traceorder='reversed',\n",
    "            font={'size' : 25},\n",
    "            bgcolor=\"#d3e4f4\",\n",
    "            borderwidth=2\n",
    "        ),\n",
    "        geo=go.layout.Geo(\n",
    "            scope=\"world\",\n",
    "            landcolor='lightgray',\n",
    "            projection_scale=5.15,\n",
    "            center=dict(lon=12, lat=52),\n",
    "            projection_type=\"kavrayskiy7\",\n",
    "            showland=True,\n",
    "            showcountries=True,\n",
    "        ),\n",
    "        height=1080,\n",
    "        width=1980\n",
    "    )\n",
    "\n",
    "\n",
    "    pio.write_image(fig, f\"../img/Commission/Specialization/discrete/world/{cat}\", format='png')"
   ],
   "metadata": {
    "collapsed": false
   }
  },
  {
   "cell_type": "code",
   "execution_count": 59,
   "outputs": [
    {
     "data": {
      "application/vnd.plotly.v1+json": {
       "data": [
        {
         "colorscale": [
          [
           0.0,
           "rgb(158,202,225)"
          ],
          [
           1.0,
           "rgb(158,202,225)"
          ]
         ],
         "geo": "geo",
         "hovertemplate": "color=Underspecialized (SI < 0.8)<br>locations=%{location}<extra></extra>",
         "locationmode": "country names",
         "locations": [
          "Austria",
          "Belgium",
          "Bulgaria",
          "Croatia",
          "Czech Republic",
          "Denmark",
          "Estonia",
          "France",
          "Hungary",
          "Ireland",
          "Latvia",
          "Lithuania",
          "Netherlands",
          "Poland",
          "Slovakia",
          "Sweden",
          "Norway",
          "Switzerland",
          "United Kingdom",
          "Canada",
          "Australia",
          "Israel"
         ],
         "name": "Underspecialized (SI < 0.8)",
         "showlegend": true,
         "showscale": false,
         "z": [
          1,
          1,
          1,
          1,
          1,
          1,
          1,
          1,
          1,
          1,
          1,
          1,
          1,
          1,
          1,
          1,
          1,
          1,
          1,
          1,
          1,
          1
         ],
         "type": "choropleth"
        },
        {
         "colorscale": [
          [
           0.0,
           "rgb(66,146,198)"
          ],
          [
           1.0,
           "rgb(66,146,198)"
          ]
         ],
         "geo": "geo",
         "hovertemplate": "color=Average (0.8 <= SI <= 1.2)<br>locations=%{location}<extra></extra>",
         "locationmode": "country names",
         "locations": [
          "Cyprus",
          "Finland",
          "Germany",
          "Italy",
          "Luxembourg",
          "Malta",
          "Portugal",
          "Romania",
          "Slovenia",
          "Spain",
          "United States",
          "Japan"
         ],
         "name": "Average (0.8 <= SI <= 1.2)",
         "showlegend": true,
         "showscale": false,
         "z": [
          1,
          1,
          1,
          1,
          1,
          1,
          1,
          1,
          1,
          1,
          1,
          1
         ],
         "type": "choropleth"
        },
        {
         "colorscale": [
          [
           0.0,
           "rgb(8,48,107)"
          ],
          [
           1.0,
           "rgb(8,48,107)"
          ]
         ],
         "geo": "geo",
         "hovertemplate": "color=Overspecialized (SI > 1.2)<br>locations=%{location}<extra></extra>",
         "locationmode": "country names",
         "locations": [
          "Greece",
          "China",
          "South Korea"
         ],
         "name": "Overspecialized (SI > 1.2)",
         "showlegend": true,
         "showscale": false,
         "z": [
          1,
          1,
          1
         ],
         "type": "choropleth"
        }
       ],
       "layout": {
        "template": {
         "data": {
          "barpolar": [
           {
            "marker": {
             "line": {
              "color": "white",
              "width": 0.5
             },
             "pattern": {
              "fillmode": "overlay",
              "size": 10,
              "solidity": 0.2
             }
            },
            "type": "barpolar"
           }
          ],
          "bar": [
           {
            "error_x": {
             "color": "rgb(36,36,36)"
            },
            "error_y": {
             "color": "rgb(36,36,36)"
            },
            "marker": {
             "line": {
              "color": "white",
              "width": 0.5
             },
             "pattern": {
              "fillmode": "overlay",
              "size": 10,
              "solidity": 0.2
             }
            },
            "type": "bar"
           }
          ],
          "carpet": [
           {
            "aaxis": {
             "endlinecolor": "rgb(36,36,36)",
             "gridcolor": "white",
             "linecolor": "white",
             "minorgridcolor": "white",
             "startlinecolor": "rgb(36,36,36)"
            },
            "baxis": {
             "endlinecolor": "rgb(36,36,36)",
             "gridcolor": "white",
             "linecolor": "white",
             "minorgridcolor": "white",
             "startlinecolor": "rgb(36,36,36)"
            },
            "type": "carpet"
           }
          ],
          "choropleth": [
           {
            "colorbar": {
             "outlinewidth": 1,
             "tickcolor": "rgb(36,36,36)",
             "ticks": "outside"
            },
            "type": "choropleth"
           }
          ],
          "contourcarpet": [
           {
            "colorbar": {
             "outlinewidth": 1,
             "tickcolor": "rgb(36,36,36)",
             "ticks": "outside"
            },
            "type": "contourcarpet"
           }
          ],
          "contour": [
           {
            "colorbar": {
             "outlinewidth": 1,
             "tickcolor": "rgb(36,36,36)",
             "ticks": "outside"
            },
            "colorscale": [
             [
              0.0,
              "#440154"
             ],
             [
              0.1111111111111111,
              "#482878"
             ],
             [
              0.2222222222222222,
              "#3e4989"
             ],
             [
              0.3333333333333333,
              "#31688e"
             ],
             [
              0.4444444444444444,
              "#26828e"
             ],
             [
              0.5555555555555556,
              "#1f9e89"
             ],
             [
              0.6666666666666666,
              "#35b779"
             ],
             [
              0.7777777777777778,
              "#6ece58"
             ],
             [
              0.8888888888888888,
              "#b5de2b"
             ],
             [
              1.0,
              "#fde725"
             ]
            ],
            "type": "contour"
           }
          ],
          "heatmapgl": [
           {
            "colorbar": {
             "outlinewidth": 1,
             "tickcolor": "rgb(36,36,36)",
             "ticks": "outside"
            },
            "colorscale": [
             [
              0.0,
              "#440154"
             ],
             [
              0.1111111111111111,
              "#482878"
             ],
             [
              0.2222222222222222,
              "#3e4989"
             ],
             [
              0.3333333333333333,
              "#31688e"
             ],
             [
              0.4444444444444444,
              "#26828e"
             ],
             [
              0.5555555555555556,
              "#1f9e89"
             ],
             [
              0.6666666666666666,
              "#35b779"
             ],
             [
              0.7777777777777778,
              "#6ece58"
             ],
             [
              0.8888888888888888,
              "#b5de2b"
             ],
             [
              1.0,
              "#fde725"
             ]
            ],
            "type": "heatmapgl"
           }
          ],
          "heatmap": [
           {
            "colorbar": {
             "outlinewidth": 1,
             "tickcolor": "rgb(36,36,36)",
             "ticks": "outside"
            },
            "colorscale": [
             [
              0.0,
              "#440154"
             ],
             [
              0.1111111111111111,
              "#482878"
             ],
             [
              0.2222222222222222,
              "#3e4989"
             ],
             [
              0.3333333333333333,
              "#31688e"
             ],
             [
              0.4444444444444444,
              "#26828e"
             ],
             [
              0.5555555555555556,
              "#1f9e89"
             ],
             [
              0.6666666666666666,
              "#35b779"
             ],
             [
              0.7777777777777778,
              "#6ece58"
             ],
             [
              0.8888888888888888,
              "#b5de2b"
             ],
             [
              1.0,
              "#fde725"
             ]
            ],
            "type": "heatmap"
           }
          ],
          "histogram2dcontour": [
           {
            "colorbar": {
             "outlinewidth": 1,
             "tickcolor": "rgb(36,36,36)",
             "ticks": "outside"
            },
            "colorscale": [
             [
              0.0,
              "#440154"
             ],
             [
              0.1111111111111111,
              "#482878"
             ],
             [
              0.2222222222222222,
              "#3e4989"
             ],
             [
              0.3333333333333333,
              "#31688e"
             ],
             [
              0.4444444444444444,
              "#26828e"
             ],
             [
              0.5555555555555556,
              "#1f9e89"
             ],
             [
              0.6666666666666666,
              "#35b779"
             ],
             [
              0.7777777777777778,
              "#6ece58"
             ],
             [
              0.8888888888888888,
              "#b5de2b"
             ],
             [
              1.0,
              "#fde725"
             ]
            ],
            "type": "histogram2dcontour"
           }
          ],
          "histogram2d": [
           {
            "colorbar": {
             "outlinewidth": 1,
             "tickcolor": "rgb(36,36,36)",
             "ticks": "outside"
            },
            "colorscale": [
             [
              0.0,
              "#440154"
             ],
             [
              0.1111111111111111,
              "#482878"
             ],
             [
              0.2222222222222222,
              "#3e4989"
             ],
             [
              0.3333333333333333,
              "#31688e"
             ],
             [
              0.4444444444444444,
              "#26828e"
             ],
             [
              0.5555555555555556,
              "#1f9e89"
             ],
             [
              0.6666666666666666,
              "#35b779"
             ],
             [
              0.7777777777777778,
              "#6ece58"
             ],
             [
              0.8888888888888888,
              "#b5de2b"
             ],
             [
              1.0,
              "#fde725"
             ]
            ],
            "type": "histogram2d"
           }
          ],
          "histogram": [
           {
            "marker": {
             "line": {
              "color": "white",
              "width": 0.6
             }
            },
            "type": "histogram"
           }
          ],
          "mesh3d": [
           {
            "colorbar": {
             "outlinewidth": 1,
             "tickcolor": "rgb(36,36,36)",
             "ticks": "outside"
            },
            "type": "mesh3d"
           }
          ],
          "parcoords": [
           {
            "line": {
             "colorbar": {
              "outlinewidth": 1,
              "tickcolor": "rgb(36,36,36)",
              "ticks": "outside"
             }
            },
            "type": "parcoords"
           }
          ],
          "pie": [
           {
            "automargin": true,
            "type": "pie"
           }
          ],
          "scatter3d": [
           {
            "line": {
             "colorbar": {
              "outlinewidth": 1,
              "tickcolor": "rgb(36,36,36)",
              "ticks": "outside"
             }
            },
            "marker": {
             "colorbar": {
              "outlinewidth": 1,
              "tickcolor": "rgb(36,36,36)",
              "ticks": "outside"
             }
            },
            "type": "scatter3d"
           }
          ],
          "scattercarpet": [
           {
            "marker": {
             "colorbar": {
              "outlinewidth": 1,
              "tickcolor": "rgb(36,36,36)",
              "ticks": "outside"
             }
            },
            "type": "scattercarpet"
           }
          ],
          "scattergeo": [
           {
            "marker": {
             "colorbar": {
              "outlinewidth": 1,
              "tickcolor": "rgb(36,36,36)",
              "ticks": "outside"
             }
            },
            "type": "scattergeo"
           }
          ],
          "scattergl": [
           {
            "marker": {
             "colorbar": {
              "outlinewidth": 1,
              "tickcolor": "rgb(36,36,36)",
              "ticks": "outside"
             }
            },
            "type": "scattergl"
           }
          ],
          "scattermapbox": [
           {
            "marker": {
             "colorbar": {
              "outlinewidth": 1,
              "tickcolor": "rgb(36,36,36)",
              "ticks": "outside"
             }
            },
            "type": "scattermapbox"
           }
          ],
          "scatterpolargl": [
           {
            "marker": {
             "colorbar": {
              "outlinewidth": 1,
              "tickcolor": "rgb(36,36,36)",
              "ticks": "outside"
             }
            },
            "type": "scatterpolargl"
           }
          ],
          "scatterpolar": [
           {
            "marker": {
             "colorbar": {
              "outlinewidth": 1,
              "tickcolor": "rgb(36,36,36)",
              "ticks": "outside"
             }
            },
            "type": "scatterpolar"
           }
          ],
          "scatter": [
           {
            "fillpattern": {
             "fillmode": "overlay",
             "size": 10,
             "solidity": 0.2
            },
            "type": "scatter"
           }
          ],
          "scatterternary": [
           {
            "marker": {
             "colorbar": {
              "outlinewidth": 1,
              "tickcolor": "rgb(36,36,36)",
              "ticks": "outside"
             }
            },
            "type": "scatterternary"
           }
          ],
          "surface": [
           {
            "colorbar": {
             "outlinewidth": 1,
             "tickcolor": "rgb(36,36,36)",
             "ticks": "outside"
            },
            "colorscale": [
             [
              0.0,
              "#440154"
             ],
             [
              0.1111111111111111,
              "#482878"
             ],
             [
              0.2222222222222222,
              "#3e4989"
             ],
             [
              0.3333333333333333,
              "#31688e"
             ],
             [
              0.4444444444444444,
              "#26828e"
             ],
             [
              0.5555555555555556,
              "#1f9e89"
             ],
             [
              0.6666666666666666,
              "#35b779"
             ],
             [
              0.7777777777777778,
              "#6ece58"
             ],
             [
              0.8888888888888888,
              "#b5de2b"
             ],
             [
              1.0,
              "#fde725"
             ]
            ],
            "type": "surface"
           }
          ],
          "table": [
           {
            "cells": {
             "fill": {
              "color": "rgb(237,237,237)"
             },
             "line": {
              "color": "white"
             }
            },
            "header": {
             "fill": {
              "color": "rgb(217,217,217)"
             },
             "line": {
              "color": "white"
             }
            },
            "type": "table"
           }
          ]
         },
         "layout": {
          "annotationdefaults": {
           "arrowhead": 0,
           "arrowwidth": 1
          },
          "autotypenumbers": "strict",
          "coloraxis": {
           "colorbar": {
            "outlinewidth": 1,
            "tickcolor": "rgb(36,36,36)",
            "ticks": "outside"
           }
          },
          "colorscale": {
           "diverging": [
            [
             0.0,
             "rgb(103,0,31)"
            ],
            [
             0.1,
             "rgb(178,24,43)"
            ],
            [
             0.2,
             "rgb(214,96,77)"
            ],
            [
             0.3,
             "rgb(244,165,130)"
            ],
            [
             0.4,
             "rgb(253,219,199)"
            ],
            [
             0.5,
             "rgb(247,247,247)"
            ],
            [
             0.6,
             "rgb(209,229,240)"
            ],
            [
             0.7,
             "rgb(146,197,222)"
            ],
            [
             0.8,
             "rgb(67,147,195)"
            ],
            [
             0.9,
             "rgb(33,102,172)"
            ],
            [
             1.0,
             "rgb(5,48,97)"
            ]
           ],
           "sequential": [
            [
             0.0,
             "#440154"
            ],
            [
             0.1111111111111111,
             "#482878"
            ],
            [
             0.2222222222222222,
             "#3e4989"
            ],
            [
             0.3333333333333333,
             "#31688e"
            ],
            [
             0.4444444444444444,
             "#26828e"
            ],
            [
             0.5555555555555556,
             "#1f9e89"
            ],
            [
             0.6666666666666666,
             "#35b779"
            ],
            [
             0.7777777777777778,
             "#6ece58"
            ],
            [
             0.8888888888888888,
             "#b5de2b"
            ],
            [
             1.0,
             "#fde725"
            ]
           ],
           "sequentialminus": [
            [
             0.0,
             "#440154"
            ],
            [
             0.1111111111111111,
             "#482878"
            ],
            [
             0.2222222222222222,
             "#3e4989"
            ],
            [
             0.3333333333333333,
             "#31688e"
            ],
            [
             0.4444444444444444,
             "#26828e"
            ],
            [
             0.5555555555555556,
             "#1f9e89"
            ],
            [
             0.6666666666666666,
             "#35b779"
            ],
            [
             0.7777777777777778,
             "#6ece58"
            ],
            [
             0.8888888888888888,
             "#b5de2b"
            ],
            [
             1.0,
             "#fde725"
            ]
           ]
          },
          "colorway": [
           "#1F77B4",
           "#FF7F0E",
           "#2CA02C",
           "#D62728",
           "#9467BD",
           "#8C564B",
           "#E377C2",
           "#7F7F7F",
           "#BCBD22",
           "#17BECF"
          ],
          "font": {
           "color": "rgb(36,36,36)"
          },
          "geo": {
           "bgcolor": "white",
           "lakecolor": "white",
           "landcolor": "white",
           "showlakes": true,
           "showland": true,
           "subunitcolor": "white"
          },
          "hoverlabel": {
           "align": "left"
          },
          "hovermode": "closest",
          "mapbox": {
           "style": "light"
          },
          "paper_bgcolor": "white",
          "plot_bgcolor": "white",
          "polar": {
           "angularaxis": {
            "gridcolor": "rgb(232,232,232)",
            "linecolor": "rgb(36,36,36)",
            "showgrid": false,
            "showline": true,
            "ticks": "outside"
           },
           "bgcolor": "white",
           "radialaxis": {
            "gridcolor": "rgb(232,232,232)",
            "linecolor": "rgb(36,36,36)",
            "showgrid": false,
            "showline": true,
            "ticks": "outside"
           }
          },
          "scene": {
           "xaxis": {
            "backgroundcolor": "white",
            "gridcolor": "rgb(232,232,232)",
            "gridwidth": 2,
            "linecolor": "rgb(36,36,36)",
            "showbackground": true,
            "showgrid": false,
            "showline": true,
            "ticks": "outside",
            "zeroline": false,
            "zerolinecolor": "rgb(36,36,36)"
           },
           "yaxis": {
            "backgroundcolor": "white",
            "gridcolor": "rgb(232,232,232)",
            "gridwidth": 2,
            "linecolor": "rgb(36,36,36)",
            "showbackground": true,
            "showgrid": false,
            "showline": true,
            "ticks": "outside",
            "zeroline": false,
            "zerolinecolor": "rgb(36,36,36)"
           },
           "zaxis": {
            "backgroundcolor": "white",
            "gridcolor": "rgb(232,232,232)",
            "gridwidth": 2,
            "linecolor": "rgb(36,36,36)",
            "showbackground": true,
            "showgrid": false,
            "showline": true,
            "ticks": "outside",
            "zeroline": false,
            "zerolinecolor": "rgb(36,36,36)"
           }
          },
          "shapedefaults": {
           "fillcolor": "black",
           "line": {
            "width": 0
           },
           "opacity": 0.3
          },
          "ternary": {
           "aaxis": {
            "gridcolor": "rgb(232,232,232)",
            "linecolor": "rgb(36,36,36)",
            "showgrid": false,
            "showline": true,
            "ticks": "outside"
           },
           "baxis": {
            "gridcolor": "rgb(232,232,232)",
            "linecolor": "rgb(36,36,36)",
            "showgrid": false,
            "showline": true,
            "ticks": "outside"
           },
           "bgcolor": "white",
           "caxis": {
            "gridcolor": "rgb(232,232,232)",
            "linecolor": "rgb(36,36,36)",
            "showgrid": false,
            "showline": true,
            "ticks": "outside"
           }
          },
          "title": {
           "x": 0.05
          },
          "xaxis": {
           "automargin": true,
           "gridcolor": "rgb(232,232,232)",
           "linecolor": "rgb(36,36,36)",
           "showgrid": false,
           "showline": true,
           "ticks": "outside",
           "title": {
            "standoff": 15
           },
           "zeroline": false,
           "zerolinecolor": "rgb(36,36,36)"
          },
          "yaxis": {
           "automargin": true,
           "gridcolor": "rgb(232,232,232)",
           "linecolor": "rgb(36,36,36)",
           "showgrid": false,
           "showline": true,
           "ticks": "outside",
           "title": {
            "standoff": 15
           },
           "zeroline": false,
           "zerolinecolor": "rgb(36,36,36)"
          }
         }
        },
        "geo": {
         "center": {
          "lat": 52,
          "lon": 12
         },
         "landcolor": "lightgray",
         "projection": {
          "scale": 5.15,
          "type": "kavrayskiy7"
         },
         "scope": "world",
         "showcountries": true,
         "showland": true
        },
        "legend": {
         "title": {
          "text": "Degree of specialization"
         },
         "tracegroupgap": 0,
         "font": {
          "size": 25
         },
         "yanchor": "bottom",
         "y": 0.83,
         "xanchor": "left",
         "x": 0.0525,
         "traceorder": "reversed",
         "bgcolor": "#d3e4f4",
         "borderwidth": 2
        },
        "margin": {
         "t": 60
        },
        "title": {
         "font": {
          "size": 30
         },
         "text": "Specialization Index for <b>AI</b> in the European Union"
        },
        "showlegend": true,
        "height": 1080,
        "width": 1980
       },
       "config": {
        "plotlyServerURL": "https://plot.ly"
       }
      },
      "text/html": "<div>                            <div id=\"e15ffd19-f818-4d13-9dc3-022b623f9568\" class=\"plotly-graph-div\" style=\"height:1080px; width:1980px;\"></div>            <script type=\"text/javascript\">                require([\"plotly\"], function(Plotly) {                    window.PLOTLYENV=window.PLOTLYENV || {};                                    if (document.getElementById(\"e15ffd19-f818-4d13-9dc3-022b623f9568\")) {                    Plotly.newPlot(                        \"e15ffd19-f818-4d13-9dc3-022b623f9568\",                        [{\"colorscale\":[[0.0,\"rgb(158,202,225)\"],[1.0,\"rgb(158,202,225)\"]],\"geo\":\"geo\",\"hovertemplate\":\"color=Underspecialized (SI < 0.8)<br>locations=%{location}<extra></extra>\",\"locationmode\":\"country names\",\"locations\":[\"Austria\",\"Belgium\",\"Bulgaria\",\"Croatia\",\"Czech Republic\",\"Denmark\",\"Estonia\",\"France\",\"Hungary\",\"Ireland\",\"Latvia\",\"Lithuania\",\"Netherlands\",\"Poland\",\"Slovakia\",\"Sweden\",\"Norway\",\"Switzerland\",\"United Kingdom\",\"Canada\",\"Australia\",\"Israel\"],\"name\":\"Underspecialized (SI < 0.8)\",\"showlegend\":true,\"showscale\":false,\"z\":[1,1,1,1,1,1,1,1,1,1,1,1,1,1,1,1,1,1,1,1,1,1],\"type\":\"choropleth\"},{\"colorscale\":[[0.0,\"rgb(66,146,198)\"],[1.0,\"rgb(66,146,198)\"]],\"geo\":\"geo\",\"hovertemplate\":\"color=Average (0.8 <= SI <= 1.2)<br>locations=%{location}<extra></extra>\",\"locationmode\":\"country names\",\"locations\":[\"Cyprus\",\"Finland\",\"Germany\",\"Italy\",\"Luxembourg\",\"Malta\",\"Portugal\",\"Romania\",\"Slovenia\",\"Spain\",\"United States\",\"Japan\"],\"name\":\"Average (0.8 <= SI <= 1.2)\",\"showlegend\":true,\"showscale\":false,\"z\":[1,1,1,1,1,1,1,1,1,1,1,1],\"type\":\"choropleth\"},{\"colorscale\":[[0.0,\"rgb(8,48,107)\"],[1.0,\"rgb(8,48,107)\"]],\"geo\":\"geo\",\"hovertemplate\":\"color=Overspecialized (SI > 1.2)<br>locations=%{location}<extra></extra>\",\"locationmode\":\"country names\",\"locations\":[\"Greece\",\"China\",\"South Korea\"],\"name\":\"Overspecialized (SI > 1.2)\",\"showlegend\":true,\"showscale\":false,\"z\":[1,1,1],\"type\":\"choropleth\"}],                        {\"template\":{\"data\":{\"barpolar\":[{\"marker\":{\"line\":{\"color\":\"white\",\"width\":0.5},\"pattern\":{\"fillmode\":\"overlay\",\"size\":10,\"solidity\":0.2}},\"type\":\"barpolar\"}],\"bar\":[{\"error_x\":{\"color\":\"rgb(36,36,36)\"},\"error_y\":{\"color\":\"rgb(36,36,36)\"},\"marker\":{\"line\":{\"color\":\"white\",\"width\":0.5},\"pattern\":{\"fillmode\":\"overlay\",\"size\":10,\"solidity\":0.2}},\"type\":\"bar\"}],\"carpet\":[{\"aaxis\":{\"endlinecolor\":\"rgb(36,36,36)\",\"gridcolor\":\"white\",\"linecolor\":\"white\",\"minorgridcolor\":\"white\",\"startlinecolor\":\"rgb(36,36,36)\"},\"baxis\":{\"endlinecolor\":\"rgb(36,36,36)\",\"gridcolor\":\"white\",\"linecolor\":\"white\",\"minorgridcolor\":\"white\",\"startlinecolor\":\"rgb(36,36,36)\"},\"type\":\"carpet\"}],\"choropleth\":[{\"colorbar\":{\"outlinewidth\":1,\"tickcolor\":\"rgb(36,36,36)\",\"ticks\":\"outside\"},\"type\":\"choropleth\"}],\"contourcarpet\":[{\"colorbar\":{\"outlinewidth\":1,\"tickcolor\":\"rgb(36,36,36)\",\"ticks\":\"outside\"},\"type\":\"contourcarpet\"}],\"contour\":[{\"colorbar\":{\"outlinewidth\":1,\"tickcolor\":\"rgb(36,36,36)\",\"ticks\":\"outside\"},\"colorscale\":[[0.0,\"#440154\"],[0.1111111111111111,\"#482878\"],[0.2222222222222222,\"#3e4989\"],[0.3333333333333333,\"#31688e\"],[0.4444444444444444,\"#26828e\"],[0.5555555555555556,\"#1f9e89\"],[0.6666666666666666,\"#35b779\"],[0.7777777777777778,\"#6ece58\"],[0.8888888888888888,\"#b5de2b\"],[1.0,\"#fde725\"]],\"type\":\"contour\"}],\"heatmapgl\":[{\"colorbar\":{\"outlinewidth\":1,\"tickcolor\":\"rgb(36,36,36)\",\"ticks\":\"outside\"},\"colorscale\":[[0.0,\"#440154\"],[0.1111111111111111,\"#482878\"],[0.2222222222222222,\"#3e4989\"],[0.3333333333333333,\"#31688e\"],[0.4444444444444444,\"#26828e\"],[0.5555555555555556,\"#1f9e89\"],[0.6666666666666666,\"#35b779\"],[0.7777777777777778,\"#6ece58\"],[0.8888888888888888,\"#b5de2b\"],[1.0,\"#fde725\"]],\"type\":\"heatmapgl\"}],\"heatmap\":[{\"colorbar\":{\"outlinewidth\":1,\"tickcolor\":\"rgb(36,36,36)\",\"ticks\":\"outside\"},\"colorscale\":[[0.0,\"#440154\"],[0.1111111111111111,\"#482878\"],[0.2222222222222222,\"#3e4989\"],[0.3333333333333333,\"#31688e\"],[0.4444444444444444,\"#26828e\"],[0.5555555555555556,\"#1f9e89\"],[0.6666666666666666,\"#35b779\"],[0.7777777777777778,\"#6ece58\"],[0.8888888888888888,\"#b5de2b\"],[1.0,\"#fde725\"]],\"type\":\"heatmap\"}],\"histogram2dcontour\":[{\"colorbar\":{\"outlinewidth\":1,\"tickcolor\":\"rgb(36,36,36)\",\"ticks\":\"outside\"},\"colorscale\":[[0.0,\"#440154\"],[0.1111111111111111,\"#482878\"],[0.2222222222222222,\"#3e4989\"],[0.3333333333333333,\"#31688e\"],[0.4444444444444444,\"#26828e\"],[0.5555555555555556,\"#1f9e89\"],[0.6666666666666666,\"#35b779\"],[0.7777777777777778,\"#6ece58\"],[0.8888888888888888,\"#b5de2b\"],[1.0,\"#fde725\"]],\"type\":\"histogram2dcontour\"}],\"histogram2d\":[{\"colorbar\":{\"outlinewidth\":1,\"tickcolor\":\"rgb(36,36,36)\",\"ticks\":\"outside\"},\"colorscale\":[[0.0,\"#440154\"],[0.1111111111111111,\"#482878\"],[0.2222222222222222,\"#3e4989\"],[0.3333333333333333,\"#31688e\"],[0.4444444444444444,\"#26828e\"],[0.5555555555555556,\"#1f9e89\"],[0.6666666666666666,\"#35b779\"],[0.7777777777777778,\"#6ece58\"],[0.8888888888888888,\"#b5de2b\"],[1.0,\"#fde725\"]],\"type\":\"histogram2d\"}],\"histogram\":[{\"marker\":{\"line\":{\"color\":\"white\",\"width\":0.6}},\"type\":\"histogram\"}],\"mesh3d\":[{\"colorbar\":{\"outlinewidth\":1,\"tickcolor\":\"rgb(36,36,36)\",\"ticks\":\"outside\"},\"type\":\"mesh3d\"}],\"parcoords\":[{\"line\":{\"colorbar\":{\"outlinewidth\":1,\"tickcolor\":\"rgb(36,36,36)\",\"ticks\":\"outside\"}},\"type\":\"parcoords\"}],\"pie\":[{\"automargin\":true,\"type\":\"pie\"}],\"scatter3d\":[{\"line\":{\"colorbar\":{\"outlinewidth\":1,\"tickcolor\":\"rgb(36,36,36)\",\"ticks\":\"outside\"}},\"marker\":{\"colorbar\":{\"outlinewidth\":1,\"tickcolor\":\"rgb(36,36,36)\",\"ticks\":\"outside\"}},\"type\":\"scatter3d\"}],\"scattercarpet\":[{\"marker\":{\"colorbar\":{\"outlinewidth\":1,\"tickcolor\":\"rgb(36,36,36)\",\"ticks\":\"outside\"}},\"type\":\"scattercarpet\"}],\"scattergeo\":[{\"marker\":{\"colorbar\":{\"outlinewidth\":1,\"tickcolor\":\"rgb(36,36,36)\",\"ticks\":\"outside\"}},\"type\":\"scattergeo\"}],\"scattergl\":[{\"marker\":{\"colorbar\":{\"outlinewidth\":1,\"tickcolor\":\"rgb(36,36,36)\",\"ticks\":\"outside\"}},\"type\":\"scattergl\"}],\"scattermapbox\":[{\"marker\":{\"colorbar\":{\"outlinewidth\":1,\"tickcolor\":\"rgb(36,36,36)\",\"ticks\":\"outside\"}},\"type\":\"scattermapbox\"}],\"scatterpolargl\":[{\"marker\":{\"colorbar\":{\"outlinewidth\":1,\"tickcolor\":\"rgb(36,36,36)\",\"ticks\":\"outside\"}},\"type\":\"scatterpolargl\"}],\"scatterpolar\":[{\"marker\":{\"colorbar\":{\"outlinewidth\":1,\"tickcolor\":\"rgb(36,36,36)\",\"ticks\":\"outside\"}},\"type\":\"scatterpolar\"}],\"scatter\":[{\"fillpattern\":{\"fillmode\":\"overlay\",\"size\":10,\"solidity\":0.2},\"type\":\"scatter\"}],\"scatterternary\":[{\"marker\":{\"colorbar\":{\"outlinewidth\":1,\"tickcolor\":\"rgb(36,36,36)\",\"ticks\":\"outside\"}},\"type\":\"scatterternary\"}],\"surface\":[{\"colorbar\":{\"outlinewidth\":1,\"tickcolor\":\"rgb(36,36,36)\",\"ticks\":\"outside\"},\"colorscale\":[[0.0,\"#440154\"],[0.1111111111111111,\"#482878\"],[0.2222222222222222,\"#3e4989\"],[0.3333333333333333,\"#31688e\"],[0.4444444444444444,\"#26828e\"],[0.5555555555555556,\"#1f9e89\"],[0.6666666666666666,\"#35b779\"],[0.7777777777777778,\"#6ece58\"],[0.8888888888888888,\"#b5de2b\"],[1.0,\"#fde725\"]],\"type\":\"surface\"}],\"table\":[{\"cells\":{\"fill\":{\"color\":\"rgb(237,237,237)\"},\"line\":{\"color\":\"white\"}},\"header\":{\"fill\":{\"color\":\"rgb(217,217,217)\"},\"line\":{\"color\":\"white\"}},\"type\":\"table\"}]},\"layout\":{\"annotationdefaults\":{\"arrowhead\":0,\"arrowwidth\":1},\"autotypenumbers\":\"strict\",\"coloraxis\":{\"colorbar\":{\"outlinewidth\":1,\"tickcolor\":\"rgb(36,36,36)\",\"ticks\":\"outside\"}},\"colorscale\":{\"diverging\":[[0.0,\"rgb(103,0,31)\"],[0.1,\"rgb(178,24,43)\"],[0.2,\"rgb(214,96,77)\"],[0.3,\"rgb(244,165,130)\"],[0.4,\"rgb(253,219,199)\"],[0.5,\"rgb(247,247,247)\"],[0.6,\"rgb(209,229,240)\"],[0.7,\"rgb(146,197,222)\"],[0.8,\"rgb(67,147,195)\"],[0.9,\"rgb(33,102,172)\"],[1.0,\"rgb(5,48,97)\"]],\"sequential\":[[0.0,\"#440154\"],[0.1111111111111111,\"#482878\"],[0.2222222222222222,\"#3e4989\"],[0.3333333333333333,\"#31688e\"],[0.4444444444444444,\"#26828e\"],[0.5555555555555556,\"#1f9e89\"],[0.6666666666666666,\"#35b779\"],[0.7777777777777778,\"#6ece58\"],[0.8888888888888888,\"#b5de2b\"],[1.0,\"#fde725\"]],\"sequentialminus\":[[0.0,\"#440154\"],[0.1111111111111111,\"#482878\"],[0.2222222222222222,\"#3e4989\"],[0.3333333333333333,\"#31688e\"],[0.4444444444444444,\"#26828e\"],[0.5555555555555556,\"#1f9e89\"],[0.6666666666666666,\"#35b779\"],[0.7777777777777778,\"#6ece58\"],[0.8888888888888888,\"#b5de2b\"],[1.0,\"#fde725\"]]},\"colorway\":[\"#1F77B4\",\"#FF7F0E\",\"#2CA02C\",\"#D62728\",\"#9467BD\",\"#8C564B\",\"#E377C2\",\"#7F7F7F\",\"#BCBD22\",\"#17BECF\"],\"font\":{\"color\":\"rgb(36,36,36)\"},\"geo\":{\"bgcolor\":\"white\",\"lakecolor\":\"white\",\"landcolor\":\"white\",\"showlakes\":true,\"showland\":true,\"subunitcolor\":\"white\"},\"hoverlabel\":{\"align\":\"left\"},\"hovermode\":\"closest\",\"mapbox\":{\"style\":\"light\"},\"paper_bgcolor\":\"white\",\"plot_bgcolor\":\"white\",\"polar\":{\"angularaxis\":{\"gridcolor\":\"rgb(232,232,232)\",\"linecolor\":\"rgb(36,36,36)\",\"showgrid\":false,\"showline\":true,\"ticks\":\"outside\"},\"bgcolor\":\"white\",\"radialaxis\":{\"gridcolor\":\"rgb(232,232,232)\",\"linecolor\":\"rgb(36,36,36)\",\"showgrid\":false,\"showline\":true,\"ticks\":\"outside\"}},\"scene\":{\"xaxis\":{\"backgroundcolor\":\"white\",\"gridcolor\":\"rgb(232,232,232)\",\"gridwidth\":2,\"linecolor\":\"rgb(36,36,36)\",\"showbackground\":true,\"showgrid\":false,\"showline\":true,\"ticks\":\"outside\",\"zeroline\":false,\"zerolinecolor\":\"rgb(36,36,36)\"},\"yaxis\":{\"backgroundcolor\":\"white\",\"gridcolor\":\"rgb(232,232,232)\",\"gridwidth\":2,\"linecolor\":\"rgb(36,36,36)\",\"showbackground\":true,\"showgrid\":false,\"showline\":true,\"ticks\":\"outside\",\"zeroline\":false,\"zerolinecolor\":\"rgb(36,36,36)\"},\"zaxis\":{\"backgroundcolor\":\"white\",\"gridcolor\":\"rgb(232,232,232)\",\"gridwidth\":2,\"linecolor\":\"rgb(36,36,36)\",\"showbackground\":true,\"showgrid\":false,\"showline\":true,\"ticks\":\"outside\",\"zeroline\":false,\"zerolinecolor\":\"rgb(36,36,36)\"}},\"shapedefaults\":{\"fillcolor\":\"black\",\"line\":{\"width\":0},\"opacity\":0.3},\"ternary\":{\"aaxis\":{\"gridcolor\":\"rgb(232,232,232)\",\"linecolor\":\"rgb(36,36,36)\",\"showgrid\":false,\"showline\":true,\"ticks\":\"outside\"},\"baxis\":{\"gridcolor\":\"rgb(232,232,232)\",\"linecolor\":\"rgb(36,36,36)\",\"showgrid\":false,\"showline\":true,\"ticks\":\"outside\"},\"bgcolor\":\"white\",\"caxis\":{\"gridcolor\":\"rgb(232,232,232)\",\"linecolor\":\"rgb(36,36,36)\",\"showgrid\":false,\"showline\":true,\"ticks\":\"outside\"}},\"title\":{\"x\":0.05},\"xaxis\":{\"automargin\":true,\"gridcolor\":\"rgb(232,232,232)\",\"linecolor\":\"rgb(36,36,36)\",\"showgrid\":false,\"showline\":true,\"ticks\":\"outside\",\"title\":{\"standoff\":15},\"zeroline\":false,\"zerolinecolor\":\"rgb(36,36,36)\"},\"yaxis\":{\"automargin\":true,\"gridcolor\":\"rgb(232,232,232)\",\"linecolor\":\"rgb(36,36,36)\",\"showgrid\":false,\"showline\":true,\"ticks\":\"outside\",\"title\":{\"standoff\":15},\"zeroline\":false,\"zerolinecolor\":\"rgb(36,36,36)\"}}},\"geo\":{\"center\":{\"lat\":52,\"lon\":12},\"landcolor\":\"lightgray\",\"projection\":{\"scale\":5.15,\"type\":\"kavrayskiy7\"},\"scope\":\"world\",\"showcountries\":true,\"showland\":true},\"legend\":{\"title\":{\"text\":\"Degree of specialization\"},\"tracegroupgap\":0,\"font\":{\"size\":25},\"yanchor\":\"bottom\",\"y\":0.83,\"xanchor\":\"left\",\"x\":0.0525,\"traceorder\":\"reversed\",\"bgcolor\":\"#d3e4f4\",\"borderwidth\":2},\"margin\":{\"t\":60},\"title\":{\"font\":{\"size\":30},\"text\":\"Specialization Index for <b>AI</b> in the European Union\"},\"showlegend\":true,\"height\":1080,\"width\":1980},                        {\"responsive\": true}                    ).then(function(){\n                            \nvar gd = document.getElementById('e15ffd19-f818-4d13-9dc3-022b623f9568');\nvar x = new MutationObserver(function (mutations, observer) {{\n        var display = window.getComputedStyle(gd).display;\n        if (!display || display === 'none') {{\n            console.log([gd, 'removed!']);\n            Plotly.purge(gd);\n            observer.disconnect();\n        }}\n}});\n\n// Listen for the removal of the full notebook cells\nvar notebookContainer = gd.closest('#notebook-container');\nif (notebookContainer) {{\n    x.observe(notebookContainer, {childList: true});\n}}\n\n// Listen for the clearing of the current output cell\nvar outputEl = gd.closest('.output');\nif (outputEl) {{\n    x.observe(outputEl, {childList: true});\n}}\n\n                        })                };                });            </script>        </div>"
     },
     "metadata": {},
     "output_type": "display_data"
    },
    {
     "data": {
      "application/vnd.plotly.v1+json": {
       "data": [
        {
         "colorscale": [
          [
           0.0,
           "rgb(158,202,225)"
          ],
          [
           1.0,
           "rgb(158,202,225)"
          ]
         ],
         "geo": "geo",
         "hovertemplate": "color=Underspecialized (SI < 0.8)<br>locations=%{location}<extra></extra>",
         "locationmode": "country names",
         "locations": [
          "Austria",
          "Belgium",
          "Bulgaria",
          "Czech Republic",
          "Denmark",
          "Finland",
          "Hungary",
          "Ireland",
          "Latvia",
          "Malta",
          "Netherlands",
          "Poland",
          "Slovenia",
          "Sweden",
          "Norway",
          "United Kingdom",
          "Canada",
          "Australia",
          "Israel"
         ],
         "name": "Underspecialized (SI < 0.8)",
         "showlegend": true,
         "showscale": false,
         "z": [
          1,
          1,
          1,
          1,
          1,
          1,
          1,
          1,
          1,
          1,
          1,
          1,
          1,
          1,
          1,
          1,
          1,
          1,
          1
         ],
         "type": "choropleth"
        },
        {
         "colorscale": [
          [
           0.0,
           "rgb(66,146,198)"
          ],
          [
           1.0,
           "rgb(66,146,198)"
          ]
         ],
         "geo": "geo",
         "hovertemplate": "color=Average (0.8 <= SI <= 1.2)<br>locations=%{location}<extra></extra>",
         "locationmode": "country names",
         "locations": [
          "Croatia",
          "Cyprus",
          "Estonia",
          "France",
          "Germany",
          "Greece",
          "Lithuania",
          "Luxembourg",
          "Slovakia",
          "Spain",
          "Switzerland",
          "United States"
         ],
         "name": "Average (0.8 <= SI <= 1.2)",
         "showlegend": true,
         "showscale": false,
         "z": [
          1,
          1,
          1,
          1,
          1,
          1,
          1,
          1,
          1,
          1,
          1,
          1
         ],
         "type": "choropleth"
        },
        {
         "colorscale": [
          [
           0.0,
           "rgb(8,48,107)"
          ],
          [
           1.0,
           "rgb(8,48,107)"
          ]
         ],
         "geo": "geo",
         "hovertemplate": "color=Overspecialized (SI > 1.2)<br>locations=%{location}<extra></extra>",
         "locationmode": "country names",
         "locations": [
          "Italy",
          "Portugal",
          "Romania",
          "China",
          "Japan",
          "South Korea"
         ],
         "name": "Overspecialized (SI > 1.2)",
         "showlegend": true,
         "showscale": false,
         "z": [
          1,
          1,
          1,
          1,
          1,
          1
         ],
         "type": "choropleth"
        }
       ],
       "layout": {
        "template": {
         "data": {
          "barpolar": [
           {
            "marker": {
             "line": {
              "color": "white",
              "width": 0.5
             },
             "pattern": {
              "fillmode": "overlay",
              "size": 10,
              "solidity": 0.2
             }
            },
            "type": "barpolar"
           }
          ],
          "bar": [
           {
            "error_x": {
             "color": "rgb(36,36,36)"
            },
            "error_y": {
             "color": "rgb(36,36,36)"
            },
            "marker": {
             "line": {
              "color": "white",
              "width": 0.5
             },
             "pattern": {
              "fillmode": "overlay",
              "size": 10,
              "solidity": 0.2
             }
            },
            "type": "bar"
           }
          ],
          "carpet": [
           {
            "aaxis": {
             "endlinecolor": "rgb(36,36,36)",
             "gridcolor": "white",
             "linecolor": "white",
             "minorgridcolor": "white",
             "startlinecolor": "rgb(36,36,36)"
            },
            "baxis": {
             "endlinecolor": "rgb(36,36,36)",
             "gridcolor": "white",
             "linecolor": "white",
             "minorgridcolor": "white",
             "startlinecolor": "rgb(36,36,36)"
            },
            "type": "carpet"
           }
          ],
          "choropleth": [
           {
            "colorbar": {
             "outlinewidth": 1,
             "tickcolor": "rgb(36,36,36)",
             "ticks": "outside"
            },
            "type": "choropleth"
           }
          ],
          "contourcarpet": [
           {
            "colorbar": {
             "outlinewidth": 1,
             "tickcolor": "rgb(36,36,36)",
             "ticks": "outside"
            },
            "type": "contourcarpet"
           }
          ],
          "contour": [
           {
            "colorbar": {
             "outlinewidth": 1,
             "tickcolor": "rgb(36,36,36)",
             "ticks": "outside"
            },
            "colorscale": [
             [
              0.0,
              "#440154"
             ],
             [
              0.1111111111111111,
              "#482878"
             ],
             [
              0.2222222222222222,
              "#3e4989"
             ],
             [
              0.3333333333333333,
              "#31688e"
             ],
             [
              0.4444444444444444,
              "#26828e"
             ],
             [
              0.5555555555555556,
              "#1f9e89"
             ],
             [
              0.6666666666666666,
              "#35b779"
             ],
             [
              0.7777777777777778,
              "#6ece58"
             ],
             [
              0.8888888888888888,
              "#b5de2b"
             ],
             [
              1.0,
              "#fde725"
             ]
            ],
            "type": "contour"
           }
          ],
          "heatmapgl": [
           {
            "colorbar": {
             "outlinewidth": 1,
             "tickcolor": "rgb(36,36,36)",
             "ticks": "outside"
            },
            "colorscale": [
             [
              0.0,
              "#440154"
             ],
             [
              0.1111111111111111,
              "#482878"
             ],
             [
              0.2222222222222222,
              "#3e4989"
             ],
             [
              0.3333333333333333,
              "#31688e"
             ],
             [
              0.4444444444444444,
              "#26828e"
             ],
             [
              0.5555555555555556,
              "#1f9e89"
             ],
             [
              0.6666666666666666,
              "#35b779"
             ],
             [
              0.7777777777777778,
              "#6ece58"
             ],
             [
              0.8888888888888888,
              "#b5de2b"
             ],
             [
              1.0,
              "#fde725"
             ]
            ],
            "type": "heatmapgl"
           }
          ],
          "heatmap": [
           {
            "colorbar": {
             "outlinewidth": 1,
             "tickcolor": "rgb(36,36,36)",
             "ticks": "outside"
            },
            "colorscale": [
             [
              0.0,
              "#440154"
             ],
             [
              0.1111111111111111,
              "#482878"
             ],
             [
              0.2222222222222222,
              "#3e4989"
             ],
             [
              0.3333333333333333,
              "#31688e"
             ],
             [
              0.4444444444444444,
              "#26828e"
             ],
             [
              0.5555555555555556,
              "#1f9e89"
             ],
             [
              0.6666666666666666,
              "#35b779"
             ],
             [
              0.7777777777777778,
              "#6ece58"
             ],
             [
              0.8888888888888888,
              "#b5de2b"
             ],
             [
              1.0,
              "#fde725"
             ]
            ],
            "type": "heatmap"
           }
          ],
          "histogram2dcontour": [
           {
            "colorbar": {
             "outlinewidth": 1,
             "tickcolor": "rgb(36,36,36)",
             "ticks": "outside"
            },
            "colorscale": [
             [
              0.0,
              "#440154"
             ],
             [
              0.1111111111111111,
              "#482878"
             ],
             [
              0.2222222222222222,
              "#3e4989"
             ],
             [
              0.3333333333333333,
              "#31688e"
             ],
             [
              0.4444444444444444,
              "#26828e"
             ],
             [
              0.5555555555555556,
              "#1f9e89"
             ],
             [
              0.6666666666666666,
              "#35b779"
             ],
             [
              0.7777777777777778,
              "#6ece58"
             ],
             [
              0.8888888888888888,
              "#b5de2b"
             ],
             [
              1.0,
              "#fde725"
             ]
            ],
            "type": "histogram2dcontour"
           }
          ],
          "histogram2d": [
           {
            "colorbar": {
             "outlinewidth": 1,
             "tickcolor": "rgb(36,36,36)",
             "ticks": "outside"
            },
            "colorscale": [
             [
              0.0,
              "#440154"
             ],
             [
              0.1111111111111111,
              "#482878"
             ],
             [
              0.2222222222222222,
              "#3e4989"
             ],
             [
              0.3333333333333333,
              "#31688e"
             ],
             [
              0.4444444444444444,
              "#26828e"
             ],
             [
              0.5555555555555556,
              "#1f9e89"
             ],
             [
              0.6666666666666666,
              "#35b779"
             ],
             [
              0.7777777777777778,
              "#6ece58"
             ],
             [
              0.8888888888888888,
              "#b5de2b"
             ],
             [
              1.0,
              "#fde725"
             ]
            ],
            "type": "histogram2d"
           }
          ],
          "histogram": [
           {
            "marker": {
             "line": {
              "color": "white",
              "width": 0.6
             }
            },
            "type": "histogram"
           }
          ],
          "mesh3d": [
           {
            "colorbar": {
             "outlinewidth": 1,
             "tickcolor": "rgb(36,36,36)",
             "ticks": "outside"
            },
            "type": "mesh3d"
           }
          ],
          "parcoords": [
           {
            "line": {
             "colorbar": {
              "outlinewidth": 1,
              "tickcolor": "rgb(36,36,36)",
              "ticks": "outside"
             }
            },
            "type": "parcoords"
           }
          ],
          "pie": [
           {
            "automargin": true,
            "type": "pie"
           }
          ],
          "scatter3d": [
           {
            "line": {
             "colorbar": {
              "outlinewidth": 1,
              "tickcolor": "rgb(36,36,36)",
              "ticks": "outside"
             }
            },
            "marker": {
             "colorbar": {
              "outlinewidth": 1,
              "tickcolor": "rgb(36,36,36)",
              "ticks": "outside"
             }
            },
            "type": "scatter3d"
           }
          ],
          "scattercarpet": [
           {
            "marker": {
             "colorbar": {
              "outlinewidth": 1,
              "tickcolor": "rgb(36,36,36)",
              "ticks": "outside"
             }
            },
            "type": "scattercarpet"
           }
          ],
          "scattergeo": [
           {
            "marker": {
             "colorbar": {
              "outlinewidth": 1,
              "tickcolor": "rgb(36,36,36)",
              "ticks": "outside"
             }
            },
            "type": "scattergeo"
           }
          ],
          "scattergl": [
           {
            "marker": {
             "colorbar": {
              "outlinewidth": 1,
              "tickcolor": "rgb(36,36,36)",
              "ticks": "outside"
             }
            },
            "type": "scattergl"
           }
          ],
          "scattermapbox": [
           {
            "marker": {
             "colorbar": {
              "outlinewidth": 1,
              "tickcolor": "rgb(36,36,36)",
              "ticks": "outside"
             }
            },
            "type": "scattermapbox"
           }
          ],
          "scatterpolargl": [
           {
            "marker": {
             "colorbar": {
              "outlinewidth": 1,
              "tickcolor": "rgb(36,36,36)",
              "ticks": "outside"
             }
            },
            "type": "scatterpolargl"
           }
          ],
          "scatterpolar": [
           {
            "marker": {
             "colorbar": {
              "outlinewidth": 1,
              "tickcolor": "rgb(36,36,36)",
              "ticks": "outside"
             }
            },
            "type": "scatterpolar"
           }
          ],
          "scatter": [
           {
            "fillpattern": {
             "fillmode": "overlay",
             "size": 10,
             "solidity": 0.2
            },
            "type": "scatter"
           }
          ],
          "scatterternary": [
           {
            "marker": {
             "colorbar": {
              "outlinewidth": 1,
              "tickcolor": "rgb(36,36,36)",
              "ticks": "outside"
             }
            },
            "type": "scatterternary"
           }
          ],
          "surface": [
           {
            "colorbar": {
             "outlinewidth": 1,
             "tickcolor": "rgb(36,36,36)",
             "ticks": "outside"
            },
            "colorscale": [
             [
              0.0,
              "#440154"
             ],
             [
              0.1111111111111111,
              "#482878"
             ],
             [
              0.2222222222222222,
              "#3e4989"
             ],
             [
              0.3333333333333333,
              "#31688e"
             ],
             [
              0.4444444444444444,
              "#26828e"
             ],
             [
              0.5555555555555556,
              "#1f9e89"
             ],
             [
              0.6666666666666666,
              "#35b779"
             ],
             [
              0.7777777777777778,
              "#6ece58"
             ],
             [
              0.8888888888888888,
              "#b5de2b"
             ],
             [
              1.0,
              "#fde725"
             ]
            ],
            "type": "surface"
           }
          ],
          "table": [
           {
            "cells": {
             "fill": {
              "color": "rgb(237,237,237)"
             },
             "line": {
              "color": "white"
             }
            },
            "header": {
             "fill": {
              "color": "rgb(217,217,217)"
             },
             "line": {
              "color": "white"
             }
            },
            "type": "table"
           }
          ]
         },
         "layout": {
          "annotationdefaults": {
           "arrowhead": 0,
           "arrowwidth": 1
          },
          "autotypenumbers": "strict",
          "coloraxis": {
           "colorbar": {
            "outlinewidth": 1,
            "tickcolor": "rgb(36,36,36)",
            "ticks": "outside"
           }
          },
          "colorscale": {
           "diverging": [
            [
             0.0,
             "rgb(103,0,31)"
            ],
            [
             0.1,
             "rgb(178,24,43)"
            ],
            [
             0.2,
             "rgb(214,96,77)"
            ],
            [
             0.3,
             "rgb(244,165,130)"
            ],
            [
             0.4,
             "rgb(253,219,199)"
            ],
            [
             0.5,
             "rgb(247,247,247)"
            ],
            [
             0.6,
             "rgb(209,229,240)"
            ],
            [
             0.7,
             "rgb(146,197,222)"
            ],
            [
             0.8,
             "rgb(67,147,195)"
            ],
            [
             0.9,
             "rgb(33,102,172)"
            ],
            [
             1.0,
             "rgb(5,48,97)"
            ]
           ],
           "sequential": [
            [
             0.0,
             "#440154"
            ],
            [
             0.1111111111111111,
             "#482878"
            ],
            [
             0.2222222222222222,
             "#3e4989"
            ],
            [
             0.3333333333333333,
             "#31688e"
            ],
            [
             0.4444444444444444,
             "#26828e"
            ],
            [
             0.5555555555555556,
             "#1f9e89"
            ],
            [
             0.6666666666666666,
             "#35b779"
            ],
            [
             0.7777777777777778,
             "#6ece58"
            ],
            [
             0.8888888888888888,
             "#b5de2b"
            ],
            [
             1.0,
             "#fde725"
            ]
           ],
           "sequentialminus": [
            [
             0.0,
             "#440154"
            ],
            [
             0.1111111111111111,
             "#482878"
            ],
            [
             0.2222222222222222,
             "#3e4989"
            ],
            [
             0.3333333333333333,
             "#31688e"
            ],
            [
             0.4444444444444444,
             "#26828e"
            ],
            [
             0.5555555555555556,
             "#1f9e89"
            ],
            [
             0.6666666666666666,
             "#35b779"
            ],
            [
             0.7777777777777778,
             "#6ece58"
            ],
            [
             0.8888888888888888,
             "#b5de2b"
            ],
            [
             1.0,
             "#fde725"
            ]
           ]
          },
          "colorway": [
           "#1F77B4",
           "#FF7F0E",
           "#2CA02C",
           "#D62728",
           "#9467BD",
           "#8C564B",
           "#E377C2",
           "#7F7F7F",
           "#BCBD22",
           "#17BECF"
          ],
          "font": {
           "color": "rgb(36,36,36)"
          },
          "geo": {
           "bgcolor": "white",
           "lakecolor": "white",
           "landcolor": "white",
           "showlakes": true,
           "showland": true,
           "subunitcolor": "white"
          },
          "hoverlabel": {
           "align": "left"
          },
          "hovermode": "closest",
          "mapbox": {
           "style": "light"
          },
          "paper_bgcolor": "white",
          "plot_bgcolor": "white",
          "polar": {
           "angularaxis": {
            "gridcolor": "rgb(232,232,232)",
            "linecolor": "rgb(36,36,36)",
            "showgrid": false,
            "showline": true,
            "ticks": "outside"
           },
           "bgcolor": "white",
           "radialaxis": {
            "gridcolor": "rgb(232,232,232)",
            "linecolor": "rgb(36,36,36)",
            "showgrid": false,
            "showline": true,
            "ticks": "outside"
           }
          },
          "scene": {
           "xaxis": {
            "backgroundcolor": "white",
            "gridcolor": "rgb(232,232,232)",
            "gridwidth": 2,
            "linecolor": "rgb(36,36,36)",
            "showbackground": true,
            "showgrid": false,
            "showline": true,
            "ticks": "outside",
            "zeroline": false,
            "zerolinecolor": "rgb(36,36,36)"
           },
           "yaxis": {
            "backgroundcolor": "white",
            "gridcolor": "rgb(232,232,232)",
            "gridwidth": 2,
            "linecolor": "rgb(36,36,36)",
            "showbackground": true,
            "showgrid": false,
            "showline": true,
            "ticks": "outside",
            "zeroline": false,
            "zerolinecolor": "rgb(36,36,36)"
           },
           "zaxis": {
            "backgroundcolor": "white",
            "gridcolor": "rgb(232,232,232)",
            "gridwidth": 2,
            "linecolor": "rgb(36,36,36)",
            "showbackground": true,
            "showgrid": false,
            "showline": true,
            "ticks": "outside",
            "zeroline": false,
            "zerolinecolor": "rgb(36,36,36)"
           }
          },
          "shapedefaults": {
           "fillcolor": "black",
           "line": {
            "width": 0
           },
           "opacity": 0.3
          },
          "ternary": {
           "aaxis": {
            "gridcolor": "rgb(232,232,232)",
            "linecolor": "rgb(36,36,36)",
            "showgrid": false,
            "showline": true,
            "ticks": "outside"
           },
           "baxis": {
            "gridcolor": "rgb(232,232,232)",
            "linecolor": "rgb(36,36,36)",
            "showgrid": false,
            "showline": true,
            "ticks": "outside"
           },
           "bgcolor": "white",
           "caxis": {
            "gridcolor": "rgb(232,232,232)",
            "linecolor": "rgb(36,36,36)",
            "showgrid": false,
            "showline": true,
            "ticks": "outside"
           }
          },
          "title": {
           "x": 0.05
          },
          "xaxis": {
           "automargin": true,
           "gridcolor": "rgb(232,232,232)",
           "linecolor": "rgb(36,36,36)",
           "showgrid": false,
           "showline": true,
           "ticks": "outside",
           "title": {
            "standoff": 15
           },
           "zeroline": false,
           "zerolinecolor": "rgb(36,36,36)"
          },
          "yaxis": {
           "automargin": true,
           "gridcolor": "rgb(232,232,232)",
           "linecolor": "rgb(36,36,36)",
           "showgrid": false,
           "showline": true,
           "ticks": "outside",
           "title": {
            "standoff": 15
           },
           "zeroline": false,
           "zerolinecolor": "rgb(36,36,36)"
          }
         }
        },
        "geo": {
         "center": {
          "lat": 52,
          "lon": 12
         },
         "landcolor": "lightgray",
         "projection": {
          "scale": 5.15,
          "type": "kavrayskiy7"
         },
         "scope": "world",
         "showcountries": true,
         "showland": true
        },
        "legend": {
         "title": {
          "text": "Degree of specialization"
         },
         "tracegroupgap": 0,
         "font": {
          "size": 25
         },
         "yanchor": "bottom",
         "y": 0.83,
         "xanchor": "left",
         "x": 0.0525,
         "traceorder": "reversed",
         "bgcolor": "#d3e4f4",
         "borderwidth": 2
        },
        "margin": {
         "t": 60
        },
        "title": {
         "font": {
          "size": 30
         },
         "text": "Specialization Index for <b>robotics</b> in the European Union"
        },
        "showlegend": true,
        "height": 1080,
        "width": 1980
       },
       "config": {
        "plotlyServerURL": "https://plot.ly"
       }
      },
      "text/html": "<div>                            <div id=\"250178c5-8142-4321-b646-750ae3c59464\" class=\"plotly-graph-div\" style=\"height:1080px; width:1980px;\"></div>            <script type=\"text/javascript\">                require([\"plotly\"], function(Plotly) {                    window.PLOTLYENV=window.PLOTLYENV || {};                                    if (document.getElementById(\"250178c5-8142-4321-b646-750ae3c59464\")) {                    Plotly.newPlot(                        \"250178c5-8142-4321-b646-750ae3c59464\",                        [{\"colorscale\":[[0.0,\"rgb(158,202,225)\"],[1.0,\"rgb(158,202,225)\"]],\"geo\":\"geo\",\"hovertemplate\":\"color=Underspecialized (SI < 0.8)<br>locations=%{location}<extra></extra>\",\"locationmode\":\"country names\",\"locations\":[\"Austria\",\"Belgium\",\"Bulgaria\",\"Czech Republic\",\"Denmark\",\"Finland\",\"Hungary\",\"Ireland\",\"Latvia\",\"Malta\",\"Netherlands\",\"Poland\",\"Slovenia\",\"Sweden\",\"Norway\",\"United Kingdom\",\"Canada\",\"Australia\",\"Israel\"],\"name\":\"Underspecialized (SI < 0.8)\",\"showlegend\":true,\"showscale\":false,\"z\":[1,1,1,1,1,1,1,1,1,1,1,1,1,1,1,1,1,1,1],\"type\":\"choropleth\"},{\"colorscale\":[[0.0,\"rgb(66,146,198)\"],[1.0,\"rgb(66,146,198)\"]],\"geo\":\"geo\",\"hovertemplate\":\"color=Average (0.8 <= SI <= 1.2)<br>locations=%{location}<extra></extra>\",\"locationmode\":\"country names\",\"locations\":[\"Croatia\",\"Cyprus\",\"Estonia\",\"France\",\"Germany\",\"Greece\",\"Lithuania\",\"Luxembourg\",\"Slovakia\",\"Spain\",\"Switzerland\",\"United States\"],\"name\":\"Average (0.8 <= SI <= 1.2)\",\"showlegend\":true,\"showscale\":false,\"z\":[1,1,1,1,1,1,1,1,1,1,1,1],\"type\":\"choropleth\"},{\"colorscale\":[[0.0,\"rgb(8,48,107)\"],[1.0,\"rgb(8,48,107)\"]],\"geo\":\"geo\",\"hovertemplate\":\"color=Overspecialized (SI > 1.2)<br>locations=%{location}<extra></extra>\",\"locationmode\":\"country names\",\"locations\":[\"Italy\",\"Portugal\",\"Romania\",\"China\",\"Japan\",\"South Korea\"],\"name\":\"Overspecialized (SI > 1.2)\",\"showlegend\":true,\"showscale\":false,\"z\":[1,1,1,1,1,1],\"type\":\"choropleth\"}],                        {\"template\":{\"data\":{\"barpolar\":[{\"marker\":{\"line\":{\"color\":\"white\",\"width\":0.5},\"pattern\":{\"fillmode\":\"overlay\",\"size\":10,\"solidity\":0.2}},\"type\":\"barpolar\"}],\"bar\":[{\"error_x\":{\"color\":\"rgb(36,36,36)\"},\"error_y\":{\"color\":\"rgb(36,36,36)\"},\"marker\":{\"line\":{\"color\":\"white\",\"width\":0.5},\"pattern\":{\"fillmode\":\"overlay\",\"size\":10,\"solidity\":0.2}},\"type\":\"bar\"}],\"carpet\":[{\"aaxis\":{\"endlinecolor\":\"rgb(36,36,36)\",\"gridcolor\":\"white\",\"linecolor\":\"white\",\"minorgridcolor\":\"white\",\"startlinecolor\":\"rgb(36,36,36)\"},\"baxis\":{\"endlinecolor\":\"rgb(36,36,36)\",\"gridcolor\":\"white\",\"linecolor\":\"white\",\"minorgridcolor\":\"white\",\"startlinecolor\":\"rgb(36,36,36)\"},\"type\":\"carpet\"}],\"choropleth\":[{\"colorbar\":{\"outlinewidth\":1,\"tickcolor\":\"rgb(36,36,36)\",\"ticks\":\"outside\"},\"type\":\"choropleth\"}],\"contourcarpet\":[{\"colorbar\":{\"outlinewidth\":1,\"tickcolor\":\"rgb(36,36,36)\",\"ticks\":\"outside\"},\"type\":\"contourcarpet\"}],\"contour\":[{\"colorbar\":{\"outlinewidth\":1,\"tickcolor\":\"rgb(36,36,36)\",\"ticks\":\"outside\"},\"colorscale\":[[0.0,\"#440154\"],[0.1111111111111111,\"#482878\"],[0.2222222222222222,\"#3e4989\"],[0.3333333333333333,\"#31688e\"],[0.4444444444444444,\"#26828e\"],[0.5555555555555556,\"#1f9e89\"],[0.6666666666666666,\"#35b779\"],[0.7777777777777778,\"#6ece58\"],[0.8888888888888888,\"#b5de2b\"],[1.0,\"#fde725\"]],\"type\":\"contour\"}],\"heatmapgl\":[{\"colorbar\":{\"outlinewidth\":1,\"tickcolor\":\"rgb(36,36,36)\",\"ticks\":\"outside\"},\"colorscale\":[[0.0,\"#440154\"],[0.1111111111111111,\"#482878\"],[0.2222222222222222,\"#3e4989\"],[0.3333333333333333,\"#31688e\"],[0.4444444444444444,\"#26828e\"],[0.5555555555555556,\"#1f9e89\"],[0.6666666666666666,\"#35b779\"],[0.7777777777777778,\"#6ece58\"],[0.8888888888888888,\"#b5de2b\"],[1.0,\"#fde725\"]],\"type\":\"heatmapgl\"}],\"heatmap\":[{\"colorbar\":{\"outlinewidth\":1,\"tickcolor\":\"rgb(36,36,36)\",\"ticks\":\"outside\"},\"colorscale\":[[0.0,\"#440154\"],[0.1111111111111111,\"#482878\"],[0.2222222222222222,\"#3e4989\"],[0.3333333333333333,\"#31688e\"],[0.4444444444444444,\"#26828e\"],[0.5555555555555556,\"#1f9e89\"],[0.6666666666666666,\"#35b779\"],[0.7777777777777778,\"#6ece58\"],[0.8888888888888888,\"#b5de2b\"],[1.0,\"#fde725\"]],\"type\":\"heatmap\"}],\"histogram2dcontour\":[{\"colorbar\":{\"outlinewidth\":1,\"tickcolor\":\"rgb(36,36,36)\",\"ticks\":\"outside\"},\"colorscale\":[[0.0,\"#440154\"],[0.1111111111111111,\"#482878\"],[0.2222222222222222,\"#3e4989\"],[0.3333333333333333,\"#31688e\"],[0.4444444444444444,\"#26828e\"],[0.5555555555555556,\"#1f9e89\"],[0.6666666666666666,\"#35b779\"],[0.7777777777777778,\"#6ece58\"],[0.8888888888888888,\"#b5de2b\"],[1.0,\"#fde725\"]],\"type\":\"histogram2dcontour\"}],\"histogram2d\":[{\"colorbar\":{\"outlinewidth\":1,\"tickcolor\":\"rgb(36,36,36)\",\"ticks\":\"outside\"},\"colorscale\":[[0.0,\"#440154\"],[0.1111111111111111,\"#482878\"],[0.2222222222222222,\"#3e4989\"],[0.3333333333333333,\"#31688e\"],[0.4444444444444444,\"#26828e\"],[0.5555555555555556,\"#1f9e89\"],[0.6666666666666666,\"#35b779\"],[0.7777777777777778,\"#6ece58\"],[0.8888888888888888,\"#b5de2b\"],[1.0,\"#fde725\"]],\"type\":\"histogram2d\"}],\"histogram\":[{\"marker\":{\"line\":{\"color\":\"white\",\"width\":0.6}},\"type\":\"histogram\"}],\"mesh3d\":[{\"colorbar\":{\"outlinewidth\":1,\"tickcolor\":\"rgb(36,36,36)\",\"ticks\":\"outside\"},\"type\":\"mesh3d\"}],\"parcoords\":[{\"line\":{\"colorbar\":{\"outlinewidth\":1,\"tickcolor\":\"rgb(36,36,36)\",\"ticks\":\"outside\"}},\"type\":\"parcoords\"}],\"pie\":[{\"automargin\":true,\"type\":\"pie\"}],\"scatter3d\":[{\"line\":{\"colorbar\":{\"outlinewidth\":1,\"tickcolor\":\"rgb(36,36,36)\",\"ticks\":\"outside\"}},\"marker\":{\"colorbar\":{\"outlinewidth\":1,\"tickcolor\":\"rgb(36,36,36)\",\"ticks\":\"outside\"}},\"type\":\"scatter3d\"}],\"scattercarpet\":[{\"marker\":{\"colorbar\":{\"outlinewidth\":1,\"tickcolor\":\"rgb(36,36,36)\",\"ticks\":\"outside\"}},\"type\":\"scattercarpet\"}],\"scattergeo\":[{\"marker\":{\"colorbar\":{\"outlinewidth\":1,\"tickcolor\":\"rgb(36,36,36)\",\"ticks\":\"outside\"}},\"type\":\"scattergeo\"}],\"scattergl\":[{\"marker\":{\"colorbar\":{\"outlinewidth\":1,\"tickcolor\":\"rgb(36,36,36)\",\"ticks\":\"outside\"}},\"type\":\"scattergl\"}],\"scattermapbox\":[{\"marker\":{\"colorbar\":{\"outlinewidth\":1,\"tickcolor\":\"rgb(36,36,36)\",\"ticks\":\"outside\"}},\"type\":\"scattermapbox\"}],\"scatterpolargl\":[{\"marker\":{\"colorbar\":{\"outlinewidth\":1,\"tickcolor\":\"rgb(36,36,36)\",\"ticks\":\"outside\"}},\"type\":\"scatterpolargl\"}],\"scatterpolar\":[{\"marker\":{\"colorbar\":{\"outlinewidth\":1,\"tickcolor\":\"rgb(36,36,36)\",\"ticks\":\"outside\"}},\"type\":\"scatterpolar\"}],\"scatter\":[{\"fillpattern\":{\"fillmode\":\"overlay\",\"size\":10,\"solidity\":0.2},\"type\":\"scatter\"}],\"scatterternary\":[{\"marker\":{\"colorbar\":{\"outlinewidth\":1,\"tickcolor\":\"rgb(36,36,36)\",\"ticks\":\"outside\"}},\"type\":\"scatterternary\"}],\"surface\":[{\"colorbar\":{\"outlinewidth\":1,\"tickcolor\":\"rgb(36,36,36)\",\"ticks\":\"outside\"},\"colorscale\":[[0.0,\"#440154\"],[0.1111111111111111,\"#482878\"],[0.2222222222222222,\"#3e4989\"],[0.3333333333333333,\"#31688e\"],[0.4444444444444444,\"#26828e\"],[0.5555555555555556,\"#1f9e89\"],[0.6666666666666666,\"#35b779\"],[0.7777777777777778,\"#6ece58\"],[0.8888888888888888,\"#b5de2b\"],[1.0,\"#fde725\"]],\"type\":\"surface\"}],\"table\":[{\"cells\":{\"fill\":{\"color\":\"rgb(237,237,237)\"},\"line\":{\"color\":\"white\"}},\"header\":{\"fill\":{\"color\":\"rgb(217,217,217)\"},\"line\":{\"color\":\"white\"}},\"type\":\"table\"}]},\"layout\":{\"annotationdefaults\":{\"arrowhead\":0,\"arrowwidth\":1},\"autotypenumbers\":\"strict\",\"coloraxis\":{\"colorbar\":{\"outlinewidth\":1,\"tickcolor\":\"rgb(36,36,36)\",\"ticks\":\"outside\"}},\"colorscale\":{\"diverging\":[[0.0,\"rgb(103,0,31)\"],[0.1,\"rgb(178,24,43)\"],[0.2,\"rgb(214,96,77)\"],[0.3,\"rgb(244,165,130)\"],[0.4,\"rgb(253,219,199)\"],[0.5,\"rgb(247,247,247)\"],[0.6,\"rgb(209,229,240)\"],[0.7,\"rgb(146,197,222)\"],[0.8,\"rgb(67,147,195)\"],[0.9,\"rgb(33,102,172)\"],[1.0,\"rgb(5,48,97)\"]],\"sequential\":[[0.0,\"#440154\"],[0.1111111111111111,\"#482878\"],[0.2222222222222222,\"#3e4989\"],[0.3333333333333333,\"#31688e\"],[0.4444444444444444,\"#26828e\"],[0.5555555555555556,\"#1f9e89\"],[0.6666666666666666,\"#35b779\"],[0.7777777777777778,\"#6ece58\"],[0.8888888888888888,\"#b5de2b\"],[1.0,\"#fde725\"]],\"sequentialminus\":[[0.0,\"#440154\"],[0.1111111111111111,\"#482878\"],[0.2222222222222222,\"#3e4989\"],[0.3333333333333333,\"#31688e\"],[0.4444444444444444,\"#26828e\"],[0.5555555555555556,\"#1f9e89\"],[0.6666666666666666,\"#35b779\"],[0.7777777777777778,\"#6ece58\"],[0.8888888888888888,\"#b5de2b\"],[1.0,\"#fde725\"]]},\"colorway\":[\"#1F77B4\",\"#FF7F0E\",\"#2CA02C\",\"#D62728\",\"#9467BD\",\"#8C564B\",\"#E377C2\",\"#7F7F7F\",\"#BCBD22\",\"#17BECF\"],\"font\":{\"color\":\"rgb(36,36,36)\"},\"geo\":{\"bgcolor\":\"white\",\"lakecolor\":\"white\",\"landcolor\":\"white\",\"showlakes\":true,\"showland\":true,\"subunitcolor\":\"white\"},\"hoverlabel\":{\"align\":\"left\"},\"hovermode\":\"closest\",\"mapbox\":{\"style\":\"light\"},\"paper_bgcolor\":\"white\",\"plot_bgcolor\":\"white\",\"polar\":{\"angularaxis\":{\"gridcolor\":\"rgb(232,232,232)\",\"linecolor\":\"rgb(36,36,36)\",\"showgrid\":false,\"showline\":true,\"ticks\":\"outside\"},\"bgcolor\":\"white\",\"radialaxis\":{\"gridcolor\":\"rgb(232,232,232)\",\"linecolor\":\"rgb(36,36,36)\",\"showgrid\":false,\"showline\":true,\"ticks\":\"outside\"}},\"scene\":{\"xaxis\":{\"backgroundcolor\":\"white\",\"gridcolor\":\"rgb(232,232,232)\",\"gridwidth\":2,\"linecolor\":\"rgb(36,36,36)\",\"showbackground\":true,\"showgrid\":false,\"showline\":true,\"ticks\":\"outside\",\"zeroline\":false,\"zerolinecolor\":\"rgb(36,36,36)\"},\"yaxis\":{\"backgroundcolor\":\"white\",\"gridcolor\":\"rgb(232,232,232)\",\"gridwidth\":2,\"linecolor\":\"rgb(36,36,36)\",\"showbackground\":true,\"showgrid\":false,\"showline\":true,\"ticks\":\"outside\",\"zeroline\":false,\"zerolinecolor\":\"rgb(36,36,36)\"},\"zaxis\":{\"backgroundcolor\":\"white\",\"gridcolor\":\"rgb(232,232,232)\",\"gridwidth\":2,\"linecolor\":\"rgb(36,36,36)\",\"showbackground\":true,\"showgrid\":false,\"showline\":true,\"ticks\":\"outside\",\"zeroline\":false,\"zerolinecolor\":\"rgb(36,36,36)\"}},\"shapedefaults\":{\"fillcolor\":\"black\",\"line\":{\"width\":0},\"opacity\":0.3},\"ternary\":{\"aaxis\":{\"gridcolor\":\"rgb(232,232,232)\",\"linecolor\":\"rgb(36,36,36)\",\"showgrid\":false,\"showline\":true,\"ticks\":\"outside\"},\"baxis\":{\"gridcolor\":\"rgb(232,232,232)\",\"linecolor\":\"rgb(36,36,36)\",\"showgrid\":false,\"showline\":true,\"ticks\":\"outside\"},\"bgcolor\":\"white\",\"caxis\":{\"gridcolor\":\"rgb(232,232,232)\",\"linecolor\":\"rgb(36,36,36)\",\"showgrid\":false,\"showline\":true,\"ticks\":\"outside\"}},\"title\":{\"x\":0.05},\"xaxis\":{\"automargin\":true,\"gridcolor\":\"rgb(232,232,232)\",\"linecolor\":\"rgb(36,36,36)\",\"showgrid\":false,\"showline\":true,\"ticks\":\"outside\",\"title\":{\"standoff\":15},\"zeroline\":false,\"zerolinecolor\":\"rgb(36,36,36)\"},\"yaxis\":{\"automargin\":true,\"gridcolor\":\"rgb(232,232,232)\",\"linecolor\":\"rgb(36,36,36)\",\"showgrid\":false,\"showline\":true,\"ticks\":\"outside\",\"title\":{\"standoff\":15},\"zeroline\":false,\"zerolinecolor\":\"rgb(36,36,36)\"}}},\"geo\":{\"center\":{\"lat\":52,\"lon\":12},\"landcolor\":\"lightgray\",\"projection\":{\"scale\":5.15,\"type\":\"kavrayskiy7\"},\"scope\":\"world\",\"showcountries\":true,\"showland\":true},\"legend\":{\"title\":{\"text\":\"Degree of specialization\"},\"tracegroupgap\":0,\"font\":{\"size\":25},\"yanchor\":\"bottom\",\"y\":0.83,\"xanchor\":\"left\",\"x\":0.0525,\"traceorder\":\"reversed\",\"bgcolor\":\"#d3e4f4\",\"borderwidth\":2},\"margin\":{\"t\":60},\"title\":{\"font\":{\"size\":30},\"text\":\"Specialization Index for <b>robotics</b> in the European Union\"},\"showlegend\":true,\"height\":1080,\"width\":1980},                        {\"responsive\": true}                    ).then(function(){\n                            \nvar gd = document.getElementById('250178c5-8142-4321-b646-750ae3c59464');\nvar x = new MutationObserver(function (mutations, observer) {{\n        var display = window.getComputedStyle(gd).display;\n        if (!display || display === 'none') {{\n            console.log([gd, 'removed!']);\n            Plotly.purge(gd);\n            observer.disconnect();\n        }}\n}});\n\n// Listen for the removal of the full notebook cells\nvar notebookContainer = gd.closest('#notebook-container');\nif (notebookContainer) {{\n    x.observe(notebookContainer, {childList: true});\n}}\n\n// Listen for the clearing of the current output cell\nvar outputEl = gd.closest('.output');\nif (outputEl) {{\n    x.observe(outputEl, {childList: true});\n}}\n\n                        })                };                });            </script>        </div>"
     },
     "metadata": {},
     "output_type": "display_data"
    },
    {
     "data": {
      "application/vnd.plotly.v1+json": {
       "data": [
        {
         "colorscale": [
          [
           0.0,
           "rgb(66,146,198)"
          ],
          [
           1.0,
           "rgb(66,146,198)"
          ]
         ],
         "geo": "geo",
         "hovertemplate": "color=Average (0.8 <= SI <= 1.2)<br>locations=%{location}<extra></extra>",
         "locationmode": "country names",
         "locations": [
          "Austria",
          "Estonia",
          "Ireland",
          "Spain",
          "Japan",
          "Australia"
         ],
         "name": "Average (0.8 <= SI <= 1.2)",
         "showlegend": true,
         "showscale": false,
         "z": [
          1,
          1,
          1,
          1,
          1,
          1
         ],
         "type": "choropleth"
        },
        {
         "colorscale": [
          [
           0.0,
           "rgb(158,202,225)"
          ],
          [
           1.0,
           "rgb(158,202,225)"
          ]
         ],
         "geo": "geo",
         "hovertemplate": "color=Underspecialized (SI < 0.8)<br>locations=%{location}<extra></extra>",
         "locationmode": "country names",
         "locations": [
          "Belgium",
          "Bulgaria",
          "Croatia",
          "Czech Republic",
          "Denmark",
          "France",
          "Germany",
          "Hungary",
          "Lithuania",
          "Malta",
          "Netherlands",
          "Poland",
          "Slovakia",
          "Slovenia",
          "Sweden",
          "Norway",
          "Switzerland",
          "United Kingdom",
          "Canada",
          "United States",
          "Israel"
         ],
         "name": "Underspecialized (SI < 0.8)",
         "showlegend": true,
         "showscale": false,
         "z": [
          1,
          1,
          1,
          1,
          1,
          1,
          1,
          1,
          1,
          1,
          1,
          1,
          1,
          1,
          1,
          1,
          1,
          1,
          1,
          1,
          1
         ],
         "type": "choropleth"
        },
        {
         "colorscale": [
          [
           0.0,
           "rgb(8,48,107)"
          ],
          [
           1.0,
           "rgb(8,48,107)"
          ]
         ],
         "geo": "geo",
         "hovertemplate": "color=Overspecialized (SI > 1.2)<br>locations=%{location}<extra></extra>",
         "locationmode": "country names",
         "locations": [
          "Cyprus",
          "Finland",
          "Greece",
          "Italy",
          "Latvia",
          "Luxembourg",
          "Portugal",
          "Romania",
          "China",
          "South Korea"
         ],
         "name": "Overspecialized (SI > 1.2)",
         "showlegend": true,
         "showscale": false,
         "z": [
          1,
          1,
          1,
          1,
          1,
          1,
          1,
          1,
          1,
          1
         ],
         "type": "choropleth"
        }
       ],
       "layout": {
        "template": {
         "data": {
          "barpolar": [
           {
            "marker": {
             "line": {
              "color": "white",
              "width": 0.5
             },
             "pattern": {
              "fillmode": "overlay",
              "size": 10,
              "solidity": 0.2
             }
            },
            "type": "barpolar"
           }
          ],
          "bar": [
           {
            "error_x": {
             "color": "rgb(36,36,36)"
            },
            "error_y": {
             "color": "rgb(36,36,36)"
            },
            "marker": {
             "line": {
              "color": "white",
              "width": 0.5
             },
             "pattern": {
              "fillmode": "overlay",
              "size": 10,
              "solidity": 0.2
             }
            },
            "type": "bar"
           }
          ],
          "carpet": [
           {
            "aaxis": {
             "endlinecolor": "rgb(36,36,36)",
             "gridcolor": "white",
             "linecolor": "white",
             "minorgridcolor": "white",
             "startlinecolor": "rgb(36,36,36)"
            },
            "baxis": {
             "endlinecolor": "rgb(36,36,36)",
             "gridcolor": "white",
             "linecolor": "white",
             "minorgridcolor": "white",
             "startlinecolor": "rgb(36,36,36)"
            },
            "type": "carpet"
           }
          ],
          "choropleth": [
           {
            "colorbar": {
             "outlinewidth": 1,
             "tickcolor": "rgb(36,36,36)",
             "ticks": "outside"
            },
            "type": "choropleth"
           }
          ],
          "contourcarpet": [
           {
            "colorbar": {
             "outlinewidth": 1,
             "tickcolor": "rgb(36,36,36)",
             "ticks": "outside"
            },
            "type": "contourcarpet"
           }
          ],
          "contour": [
           {
            "colorbar": {
             "outlinewidth": 1,
             "tickcolor": "rgb(36,36,36)",
             "ticks": "outside"
            },
            "colorscale": [
             [
              0.0,
              "#440154"
             ],
             [
              0.1111111111111111,
              "#482878"
             ],
             [
              0.2222222222222222,
              "#3e4989"
             ],
             [
              0.3333333333333333,
              "#31688e"
             ],
             [
              0.4444444444444444,
              "#26828e"
             ],
             [
              0.5555555555555556,
              "#1f9e89"
             ],
             [
              0.6666666666666666,
              "#35b779"
             ],
             [
              0.7777777777777778,
              "#6ece58"
             ],
             [
              0.8888888888888888,
              "#b5de2b"
             ],
             [
              1.0,
              "#fde725"
             ]
            ],
            "type": "contour"
           }
          ],
          "heatmapgl": [
           {
            "colorbar": {
             "outlinewidth": 1,
             "tickcolor": "rgb(36,36,36)",
             "ticks": "outside"
            },
            "colorscale": [
             [
              0.0,
              "#440154"
             ],
             [
              0.1111111111111111,
              "#482878"
             ],
             [
              0.2222222222222222,
              "#3e4989"
             ],
             [
              0.3333333333333333,
              "#31688e"
             ],
             [
              0.4444444444444444,
              "#26828e"
             ],
             [
              0.5555555555555556,
              "#1f9e89"
             ],
             [
              0.6666666666666666,
              "#35b779"
             ],
             [
              0.7777777777777778,
              "#6ece58"
             ],
             [
              0.8888888888888888,
              "#b5de2b"
             ],
             [
              1.0,
              "#fde725"
             ]
            ],
            "type": "heatmapgl"
           }
          ],
          "heatmap": [
           {
            "colorbar": {
             "outlinewidth": 1,
             "tickcolor": "rgb(36,36,36)",
             "ticks": "outside"
            },
            "colorscale": [
             [
              0.0,
              "#440154"
             ],
             [
              0.1111111111111111,
              "#482878"
             ],
             [
              0.2222222222222222,
              "#3e4989"
             ],
             [
              0.3333333333333333,
              "#31688e"
             ],
             [
              0.4444444444444444,
              "#26828e"
             ],
             [
              0.5555555555555556,
              "#1f9e89"
             ],
             [
              0.6666666666666666,
              "#35b779"
             ],
             [
              0.7777777777777778,
              "#6ece58"
             ],
             [
              0.8888888888888888,
              "#b5de2b"
             ],
             [
              1.0,
              "#fde725"
             ]
            ],
            "type": "heatmap"
           }
          ],
          "histogram2dcontour": [
           {
            "colorbar": {
             "outlinewidth": 1,
             "tickcolor": "rgb(36,36,36)",
             "ticks": "outside"
            },
            "colorscale": [
             [
              0.0,
              "#440154"
             ],
             [
              0.1111111111111111,
              "#482878"
             ],
             [
              0.2222222222222222,
              "#3e4989"
             ],
             [
              0.3333333333333333,
              "#31688e"
             ],
             [
              0.4444444444444444,
              "#26828e"
             ],
             [
              0.5555555555555556,
              "#1f9e89"
             ],
             [
              0.6666666666666666,
              "#35b779"
             ],
             [
              0.7777777777777778,
              "#6ece58"
             ],
             [
              0.8888888888888888,
              "#b5de2b"
             ],
             [
              1.0,
              "#fde725"
             ]
            ],
            "type": "histogram2dcontour"
           }
          ],
          "histogram2d": [
           {
            "colorbar": {
             "outlinewidth": 1,
             "tickcolor": "rgb(36,36,36)",
             "ticks": "outside"
            },
            "colorscale": [
             [
              0.0,
              "#440154"
             ],
             [
              0.1111111111111111,
              "#482878"
             ],
             [
              0.2222222222222222,
              "#3e4989"
             ],
             [
              0.3333333333333333,
              "#31688e"
             ],
             [
              0.4444444444444444,
              "#26828e"
             ],
             [
              0.5555555555555556,
              "#1f9e89"
             ],
             [
              0.6666666666666666,
              "#35b779"
             ],
             [
              0.7777777777777778,
              "#6ece58"
             ],
             [
              0.8888888888888888,
              "#b5de2b"
             ],
             [
              1.0,
              "#fde725"
             ]
            ],
            "type": "histogram2d"
           }
          ],
          "histogram": [
           {
            "marker": {
             "line": {
              "color": "white",
              "width": 0.6
             }
            },
            "type": "histogram"
           }
          ],
          "mesh3d": [
           {
            "colorbar": {
             "outlinewidth": 1,
             "tickcolor": "rgb(36,36,36)",
             "ticks": "outside"
            },
            "type": "mesh3d"
           }
          ],
          "parcoords": [
           {
            "line": {
             "colorbar": {
              "outlinewidth": 1,
              "tickcolor": "rgb(36,36,36)",
              "ticks": "outside"
             }
            },
            "type": "parcoords"
           }
          ],
          "pie": [
           {
            "automargin": true,
            "type": "pie"
           }
          ],
          "scatter3d": [
           {
            "line": {
             "colorbar": {
              "outlinewidth": 1,
              "tickcolor": "rgb(36,36,36)",
              "ticks": "outside"
             }
            },
            "marker": {
             "colorbar": {
              "outlinewidth": 1,
              "tickcolor": "rgb(36,36,36)",
              "ticks": "outside"
             }
            },
            "type": "scatter3d"
           }
          ],
          "scattercarpet": [
           {
            "marker": {
             "colorbar": {
              "outlinewidth": 1,
              "tickcolor": "rgb(36,36,36)",
              "ticks": "outside"
             }
            },
            "type": "scattercarpet"
           }
          ],
          "scattergeo": [
           {
            "marker": {
             "colorbar": {
              "outlinewidth": 1,
              "tickcolor": "rgb(36,36,36)",
              "ticks": "outside"
             }
            },
            "type": "scattergeo"
           }
          ],
          "scattergl": [
           {
            "marker": {
             "colorbar": {
              "outlinewidth": 1,
              "tickcolor": "rgb(36,36,36)",
              "ticks": "outside"
             }
            },
            "type": "scattergl"
           }
          ],
          "scattermapbox": [
           {
            "marker": {
             "colorbar": {
              "outlinewidth": 1,
              "tickcolor": "rgb(36,36,36)",
              "ticks": "outside"
             }
            },
            "type": "scattermapbox"
           }
          ],
          "scatterpolargl": [
           {
            "marker": {
             "colorbar": {
              "outlinewidth": 1,
              "tickcolor": "rgb(36,36,36)",
              "ticks": "outside"
             }
            },
            "type": "scatterpolargl"
           }
          ],
          "scatterpolar": [
           {
            "marker": {
             "colorbar": {
              "outlinewidth": 1,
              "tickcolor": "rgb(36,36,36)",
              "ticks": "outside"
             }
            },
            "type": "scatterpolar"
           }
          ],
          "scatter": [
           {
            "fillpattern": {
             "fillmode": "overlay",
             "size": 10,
             "solidity": 0.2
            },
            "type": "scatter"
           }
          ],
          "scatterternary": [
           {
            "marker": {
             "colorbar": {
              "outlinewidth": 1,
              "tickcolor": "rgb(36,36,36)",
              "ticks": "outside"
             }
            },
            "type": "scatterternary"
           }
          ],
          "surface": [
           {
            "colorbar": {
             "outlinewidth": 1,
             "tickcolor": "rgb(36,36,36)",
             "ticks": "outside"
            },
            "colorscale": [
             [
              0.0,
              "#440154"
             ],
             [
              0.1111111111111111,
              "#482878"
             ],
             [
              0.2222222222222222,
              "#3e4989"
             ],
             [
              0.3333333333333333,
              "#31688e"
             ],
             [
              0.4444444444444444,
              "#26828e"
             ],
             [
              0.5555555555555556,
              "#1f9e89"
             ],
             [
              0.6666666666666666,
              "#35b779"
             ],
             [
              0.7777777777777778,
              "#6ece58"
             ],
             [
              0.8888888888888888,
              "#b5de2b"
             ],
             [
              1.0,
              "#fde725"
             ]
            ],
            "type": "surface"
           }
          ],
          "table": [
           {
            "cells": {
             "fill": {
              "color": "rgb(237,237,237)"
             },
             "line": {
              "color": "white"
             }
            },
            "header": {
             "fill": {
              "color": "rgb(217,217,217)"
             },
             "line": {
              "color": "white"
             }
            },
            "type": "table"
           }
          ]
         },
         "layout": {
          "annotationdefaults": {
           "arrowhead": 0,
           "arrowwidth": 1
          },
          "autotypenumbers": "strict",
          "coloraxis": {
           "colorbar": {
            "outlinewidth": 1,
            "tickcolor": "rgb(36,36,36)",
            "ticks": "outside"
           }
          },
          "colorscale": {
           "diverging": [
            [
             0.0,
             "rgb(103,0,31)"
            ],
            [
             0.1,
             "rgb(178,24,43)"
            ],
            [
             0.2,
             "rgb(214,96,77)"
            ],
            [
             0.3,
             "rgb(244,165,130)"
            ],
            [
             0.4,
             "rgb(253,219,199)"
            ],
            [
             0.5,
             "rgb(247,247,247)"
            ],
            [
             0.6,
             "rgb(209,229,240)"
            ],
            [
             0.7,
             "rgb(146,197,222)"
            ],
            [
             0.8,
             "rgb(67,147,195)"
            ],
            [
             0.9,
             "rgb(33,102,172)"
            ],
            [
             1.0,
             "rgb(5,48,97)"
            ]
           ],
           "sequential": [
            [
             0.0,
             "#440154"
            ],
            [
             0.1111111111111111,
             "#482878"
            ],
            [
             0.2222222222222222,
             "#3e4989"
            ],
            [
             0.3333333333333333,
             "#31688e"
            ],
            [
             0.4444444444444444,
             "#26828e"
            ],
            [
             0.5555555555555556,
             "#1f9e89"
            ],
            [
             0.6666666666666666,
             "#35b779"
            ],
            [
             0.7777777777777778,
             "#6ece58"
            ],
            [
             0.8888888888888888,
             "#b5de2b"
            ],
            [
             1.0,
             "#fde725"
            ]
           ],
           "sequentialminus": [
            [
             0.0,
             "#440154"
            ],
            [
             0.1111111111111111,
             "#482878"
            ],
            [
             0.2222222222222222,
             "#3e4989"
            ],
            [
             0.3333333333333333,
             "#31688e"
            ],
            [
             0.4444444444444444,
             "#26828e"
            ],
            [
             0.5555555555555556,
             "#1f9e89"
            ],
            [
             0.6666666666666666,
             "#35b779"
            ],
            [
             0.7777777777777778,
             "#6ece58"
            ],
            [
             0.8888888888888888,
             "#b5de2b"
            ],
            [
             1.0,
             "#fde725"
            ]
           ]
          },
          "colorway": [
           "#1F77B4",
           "#FF7F0E",
           "#2CA02C",
           "#D62728",
           "#9467BD",
           "#8C564B",
           "#E377C2",
           "#7F7F7F",
           "#BCBD22",
           "#17BECF"
          ],
          "font": {
           "color": "rgb(36,36,36)"
          },
          "geo": {
           "bgcolor": "white",
           "lakecolor": "white",
           "landcolor": "white",
           "showlakes": true,
           "showland": true,
           "subunitcolor": "white"
          },
          "hoverlabel": {
           "align": "left"
          },
          "hovermode": "closest",
          "mapbox": {
           "style": "light"
          },
          "paper_bgcolor": "white",
          "plot_bgcolor": "white",
          "polar": {
           "angularaxis": {
            "gridcolor": "rgb(232,232,232)",
            "linecolor": "rgb(36,36,36)",
            "showgrid": false,
            "showline": true,
            "ticks": "outside"
           },
           "bgcolor": "white",
           "radialaxis": {
            "gridcolor": "rgb(232,232,232)",
            "linecolor": "rgb(36,36,36)",
            "showgrid": false,
            "showline": true,
            "ticks": "outside"
           }
          },
          "scene": {
           "xaxis": {
            "backgroundcolor": "white",
            "gridcolor": "rgb(232,232,232)",
            "gridwidth": 2,
            "linecolor": "rgb(36,36,36)",
            "showbackground": true,
            "showgrid": false,
            "showline": true,
            "ticks": "outside",
            "zeroline": false,
            "zerolinecolor": "rgb(36,36,36)"
           },
           "yaxis": {
            "backgroundcolor": "white",
            "gridcolor": "rgb(232,232,232)",
            "gridwidth": 2,
            "linecolor": "rgb(36,36,36)",
            "showbackground": true,
            "showgrid": false,
            "showline": true,
            "ticks": "outside",
            "zeroline": false,
            "zerolinecolor": "rgb(36,36,36)"
           },
           "zaxis": {
            "backgroundcolor": "white",
            "gridcolor": "rgb(232,232,232)",
            "gridwidth": 2,
            "linecolor": "rgb(36,36,36)",
            "showbackground": true,
            "showgrid": false,
            "showline": true,
            "ticks": "outside",
            "zeroline": false,
            "zerolinecolor": "rgb(36,36,36)"
           }
          },
          "shapedefaults": {
           "fillcolor": "black",
           "line": {
            "width": 0
           },
           "opacity": 0.3
          },
          "ternary": {
           "aaxis": {
            "gridcolor": "rgb(232,232,232)",
            "linecolor": "rgb(36,36,36)",
            "showgrid": false,
            "showline": true,
            "ticks": "outside"
           },
           "baxis": {
            "gridcolor": "rgb(232,232,232)",
            "linecolor": "rgb(36,36,36)",
            "showgrid": false,
            "showline": true,
            "ticks": "outside"
           },
           "bgcolor": "white",
           "caxis": {
            "gridcolor": "rgb(232,232,232)",
            "linecolor": "rgb(36,36,36)",
            "showgrid": false,
            "showline": true,
            "ticks": "outside"
           }
          },
          "title": {
           "x": 0.05
          },
          "xaxis": {
           "automargin": true,
           "gridcolor": "rgb(232,232,232)",
           "linecolor": "rgb(36,36,36)",
           "showgrid": false,
           "showline": true,
           "ticks": "outside",
           "title": {
            "standoff": 15
           },
           "zeroline": false,
           "zerolinecolor": "rgb(36,36,36)"
          },
          "yaxis": {
           "automargin": true,
           "gridcolor": "rgb(232,232,232)",
           "linecolor": "rgb(36,36,36)",
           "showgrid": false,
           "showline": true,
           "ticks": "outside",
           "title": {
            "standoff": 15
           },
           "zeroline": false,
           "zerolinecolor": "rgb(36,36,36)"
          }
         }
        },
        "geo": {
         "center": {
          "lat": 52,
          "lon": 12
         },
         "landcolor": "lightgray",
         "projection": {
          "scale": 5.15,
          "type": "kavrayskiy7"
         },
         "scope": "world",
         "showcountries": true,
         "showland": true
        },
        "legend": {
         "title": {
          "text": "Degree of specialization"
         },
         "tracegroupgap": 0,
         "font": {
          "size": 25
         },
         "yanchor": "bottom",
         "y": 0.83,
         "xanchor": "left",
         "x": 0.0525,
         "traceorder": "reversed",
         "bgcolor": "#d3e4f4",
         "borderwidth": 2
        },
        "margin": {
         "t": 60
        },
        "title": {
         "font": {
          "size": 30
         },
         "text": "Specialization Index for <b>IOT</b> in the European Union"
        },
        "showlegend": true,
        "height": 1080,
        "width": 1980
       },
       "config": {
        "plotlyServerURL": "https://plot.ly"
       }
      },
      "text/html": "<div>                            <div id=\"77028bf4-f3f1-406a-b4e9-a9348b8cde11\" class=\"plotly-graph-div\" style=\"height:1080px; width:1980px;\"></div>            <script type=\"text/javascript\">                require([\"plotly\"], function(Plotly) {                    window.PLOTLYENV=window.PLOTLYENV || {};                                    if (document.getElementById(\"77028bf4-f3f1-406a-b4e9-a9348b8cde11\")) {                    Plotly.newPlot(                        \"77028bf4-f3f1-406a-b4e9-a9348b8cde11\",                        [{\"colorscale\":[[0.0,\"rgb(66,146,198)\"],[1.0,\"rgb(66,146,198)\"]],\"geo\":\"geo\",\"hovertemplate\":\"color=Average (0.8 <= SI <= 1.2)<br>locations=%{location}<extra></extra>\",\"locationmode\":\"country names\",\"locations\":[\"Austria\",\"Estonia\",\"Ireland\",\"Spain\",\"Japan\",\"Australia\"],\"name\":\"Average (0.8 <= SI <= 1.2)\",\"showlegend\":true,\"showscale\":false,\"z\":[1,1,1,1,1,1],\"type\":\"choropleth\"},{\"colorscale\":[[0.0,\"rgb(158,202,225)\"],[1.0,\"rgb(158,202,225)\"]],\"geo\":\"geo\",\"hovertemplate\":\"color=Underspecialized (SI < 0.8)<br>locations=%{location}<extra></extra>\",\"locationmode\":\"country names\",\"locations\":[\"Belgium\",\"Bulgaria\",\"Croatia\",\"Czech Republic\",\"Denmark\",\"France\",\"Germany\",\"Hungary\",\"Lithuania\",\"Malta\",\"Netherlands\",\"Poland\",\"Slovakia\",\"Slovenia\",\"Sweden\",\"Norway\",\"Switzerland\",\"United Kingdom\",\"Canada\",\"United States\",\"Israel\"],\"name\":\"Underspecialized (SI < 0.8)\",\"showlegend\":true,\"showscale\":false,\"z\":[1,1,1,1,1,1,1,1,1,1,1,1,1,1,1,1,1,1,1,1,1],\"type\":\"choropleth\"},{\"colorscale\":[[0.0,\"rgb(8,48,107)\"],[1.0,\"rgb(8,48,107)\"]],\"geo\":\"geo\",\"hovertemplate\":\"color=Overspecialized (SI > 1.2)<br>locations=%{location}<extra></extra>\",\"locationmode\":\"country names\",\"locations\":[\"Cyprus\",\"Finland\",\"Greece\",\"Italy\",\"Latvia\",\"Luxembourg\",\"Portugal\",\"Romania\",\"China\",\"South Korea\"],\"name\":\"Overspecialized (SI > 1.2)\",\"showlegend\":true,\"showscale\":false,\"z\":[1,1,1,1,1,1,1,1,1,1],\"type\":\"choropleth\"}],                        {\"template\":{\"data\":{\"barpolar\":[{\"marker\":{\"line\":{\"color\":\"white\",\"width\":0.5},\"pattern\":{\"fillmode\":\"overlay\",\"size\":10,\"solidity\":0.2}},\"type\":\"barpolar\"}],\"bar\":[{\"error_x\":{\"color\":\"rgb(36,36,36)\"},\"error_y\":{\"color\":\"rgb(36,36,36)\"},\"marker\":{\"line\":{\"color\":\"white\",\"width\":0.5},\"pattern\":{\"fillmode\":\"overlay\",\"size\":10,\"solidity\":0.2}},\"type\":\"bar\"}],\"carpet\":[{\"aaxis\":{\"endlinecolor\":\"rgb(36,36,36)\",\"gridcolor\":\"white\",\"linecolor\":\"white\",\"minorgridcolor\":\"white\",\"startlinecolor\":\"rgb(36,36,36)\"},\"baxis\":{\"endlinecolor\":\"rgb(36,36,36)\",\"gridcolor\":\"white\",\"linecolor\":\"white\",\"minorgridcolor\":\"white\",\"startlinecolor\":\"rgb(36,36,36)\"},\"type\":\"carpet\"}],\"choropleth\":[{\"colorbar\":{\"outlinewidth\":1,\"tickcolor\":\"rgb(36,36,36)\",\"ticks\":\"outside\"},\"type\":\"choropleth\"}],\"contourcarpet\":[{\"colorbar\":{\"outlinewidth\":1,\"tickcolor\":\"rgb(36,36,36)\",\"ticks\":\"outside\"},\"type\":\"contourcarpet\"}],\"contour\":[{\"colorbar\":{\"outlinewidth\":1,\"tickcolor\":\"rgb(36,36,36)\",\"ticks\":\"outside\"},\"colorscale\":[[0.0,\"#440154\"],[0.1111111111111111,\"#482878\"],[0.2222222222222222,\"#3e4989\"],[0.3333333333333333,\"#31688e\"],[0.4444444444444444,\"#26828e\"],[0.5555555555555556,\"#1f9e89\"],[0.6666666666666666,\"#35b779\"],[0.7777777777777778,\"#6ece58\"],[0.8888888888888888,\"#b5de2b\"],[1.0,\"#fde725\"]],\"type\":\"contour\"}],\"heatmapgl\":[{\"colorbar\":{\"outlinewidth\":1,\"tickcolor\":\"rgb(36,36,36)\",\"ticks\":\"outside\"},\"colorscale\":[[0.0,\"#440154\"],[0.1111111111111111,\"#482878\"],[0.2222222222222222,\"#3e4989\"],[0.3333333333333333,\"#31688e\"],[0.4444444444444444,\"#26828e\"],[0.5555555555555556,\"#1f9e89\"],[0.6666666666666666,\"#35b779\"],[0.7777777777777778,\"#6ece58\"],[0.8888888888888888,\"#b5de2b\"],[1.0,\"#fde725\"]],\"type\":\"heatmapgl\"}],\"heatmap\":[{\"colorbar\":{\"outlinewidth\":1,\"tickcolor\":\"rgb(36,36,36)\",\"ticks\":\"outside\"},\"colorscale\":[[0.0,\"#440154\"],[0.1111111111111111,\"#482878\"],[0.2222222222222222,\"#3e4989\"],[0.3333333333333333,\"#31688e\"],[0.4444444444444444,\"#26828e\"],[0.5555555555555556,\"#1f9e89\"],[0.6666666666666666,\"#35b779\"],[0.7777777777777778,\"#6ece58\"],[0.8888888888888888,\"#b5de2b\"],[1.0,\"#fde725\"]],\"type\":\"heatmap\"}],\"histogram2dcontour\":[{\"colorbar\":{\"outlinewidth\":1,\"tickcolor\":\"rgb(36,36,36)\",\"ticks\":\"outside\"},\"colorscale\":[[0.0,\"#440154\"],[0.1111111111111111,\"#482878\"],[0.2222222222222222,\"#3e4989\"],[0.3333333333333333,\"#31688e\"],[0.4444444444444444,\"#26828e\"],[0.5555555555555556,\"#1f9e89\"],[0.6666666666666666,\"#35b779\"],[0.7777777777777778,\"#6ece58\"],[0.8888888888888888,\"#b5de2b\"],[1.0,\"#fde725\"]],\"type\":\"histogram2dcontour\"}],\"histogram2d\":[{\"colorbar\":{\"outlinewidth\":1,\"tickcolor\":\"rgb(36,36,36)\",\"ticks\":\"outside\"},\"colorscale\":[[0.0,\"#440154\"],[0.1111111111111111,\"#482878\"],[0.2222222222222222,\"#3e4989\"],[0.3333333333333333,\"#31688e\"],[0.4444444444444444,\"#26828e\"],[0.5555555555555556,\"#1f9e89\"],[0.6666666666666666,\"#35b779\"],[0.7777777777777778,\"#6ece58\"],[0.8888888888888888,\"#b5de2b\"],[1.0,\"#fde725\"]],\"type\":\"histogram2d\"}],\"histogram\":[{\"marker\":{\"line\":{\"color\":\"white\",\"width\":0.6}},\"type\":\"histogram\"}],\"mesh3d\":[{\"colorbar\":{\"outlinewidth\":1,\"tickcolor\":\"rgb(36,36,36)\",\"ticks\":\"outside\"},\"type\":\"mesh3d\"}],\"parcoords\":[{\"line\":{\"colorbar\":{\"outlinewidth\":1,\"tickcolor\":\"rgb(36,36,36)\",\"ticks\":\"outside\"}},\"type\":\"parcoords\"}],\"pie\":[{\"automargin\":true,\"type\":\"pie\"}],\"scatter3d\":[{\"line\":{\"colorbar\":{\"outlinewidth\":1,\"tickcolor\":\"rgb(36,36,36)\",\"ticks\":\"outside\"}},\"marker\":{\"colorbar\":{\"outlinewidth\":1,\"tickcolor\":\"rgb(36,36,36)\",\"ticks\":\"outside\"}},\"type\":\"scatter3d\"}],\"scattercarpet\":[{\"marker\":{\"colorbar\":{\"outlinewidth\":1,\"tickcolor\":\"rgb(36,36,36)\",\"ticks\":\"outside\"}},\"type\":\"scattercarpet\"}],\"scattergeo\":[{\"marker\":{\"colorbar\":{\"outlinewidth\":1,\"tickcolor\":\"rgb(36,36,36)\",\"ticks\":\"outside\"}},\"type\":\"scattergeo\"}],\"scattergl\":[{\"marker\":{\"colorbar\":{\"outlinewidth\":1,\"tickcolor\":\"rgb(36,36,36)\",\"ticks\":\"outside\"}},\"type\":\"scattergl\"}],\"scattermapbox\":[{\"marker\":{\"colorbar\":{\"outlinewidth\":1,\"tickcolor\":\"rgb(36,36,36)\",\"ticks\":\"outside\"}},\"type\":\"scattermapbox\"}],\"scatterpolargl\":[{\"marker\":{\"colorbar\":{\"outlinewidth\":1,\"tickcolor\":\"rgb(36,36,36)\",\"ticks\":\"outside\"}},\"type\":\"scatterpolargl\"}],\"scatterpolar\":[{\"marker\":{\"colorbar\":{\"outlinewidth\":1,\"tickcolor\":\"rgb(36,36,36)\",\"ticks\":\"outside\"}},\"type\":\"scatterpolar\"}],\"scatter\":[{\"fillpattern\":{\"fillmode\":\"overlay\",\"size\":10,\"solidity\":0.2},\"type\":\"scatter\"}],\"scatterternary\":[{\"marker\":{\"colorbar\":{\"outlinewidth\":1,\"tickcolor\":\"rgb(36,36,36)\",\"ticks\":\"outside\"}},\"type\":\"scatterternary\"}],\"surface\":[{\"colorbar\":{\"outlinewidth\":1,\"tickcolor\":\"rgb(36,36,36)\",\"ticks\":\"outside\"},\"colorscale\":[[0.0,\"#440154\"],[0.1111111111111111,\"#482878\"],[0.2222222222222222,\"#3e4989\"],[0.3333333333333333,\"#31688e\"],[0.4444444444444444,\"#26828e\"],[0.5555555555555556,\"#1f9e89\"],[0.6666666666666666,\"#35b779\"],[0.7777777777777778,\"#6ece58\"],[0.8888888888888888,\"#b5de2b\"],[1.0,\"#fde725\"]],\"type\":\"surface\"}],\"table\":[{\"cells\":{\"fill\":{\"color\":\"rgb(237,237,237)\"},\"line\":{\"color\":\"white\"}},\"header\":{\"fill\":{\"color\":\"rgb(217,217,217)\"},\"line\":{\"color\":\"white\"}},\"type\":\"table\"}]},\"layout\":{\"annotationdefaults\":{\"arrowhead\":0,\"arrowwidth\":1},\"autotypenumbers\":\"strict\",\"coloraxis\":{\"colorbar\":{\"outlinewidth\":1,\"tickcolor\":\"rgb(36,36,36)\",\"ticks\":\"outside\"}},\"colorscale\":{\"diverging\":[[0.0,\"rgb(103,0,31)\"],[0.1,\"rgb(178,24,43)\"],[0.2,\"rgb(214,96,77)\"],[0.3,\"rgb(244,165,130)\"],[0.4,\"rgb(253,219,199)\"],[0.5,\"rgb(247,247,247)\"],[0.6,\"rgb(209,229,240)\"],[0.7,\"rgb(146,197,222)\"],[0.8,\"rgb(67,147,195)\"],[0.9,\"rgb(33,102,172)\"],[1.0,\"rgb(5,48,97)\"]],\"sequential\":[[0.0,\"#440154\"],[0.1111111111111111,\"#482878\"],[0.2222222222222222,\"#3e4989\"],[0.3333333333333333,\"#31688e\"],[0.4444444444444444,\"#26828e\"],[0.5555555555555556,\"#1f9e89\"],[0.6666666666666666,\"#35b779\"],[0.7777777777777778,\"#6ece58\"],[0.8888888888888888,\"#b5de2b\"],[1.0,\"#fde725\"]],\"sequentialminus\":[[0.0,\"#440154\"],[0.1111111111111111,\"#482878\"],[0.2222222222222222,\"#3e4989\"],[0.3333333333333333,\"#31688e\"],[0.4444444444444444,\"#26828e\"],[0.5555555555555556,\"#1f9e89\"],[0.6666666666666666,\"#35b779\"],[0.7777777777777778,\"#6ece58\"],[0.8888888888888888,\"#b5de2b\"],[1.0,\"#fde725\"]]},\"colorway\":[\"#1F77B4\",\"#FF7F0E\",\"#2CA02C\",\"#D62728\",\"#9467BD\",\"#8C564B\",\"#E377C2\",\"#7F7F7F\",\"#BCBD22\",\"#17BECF\"],\"font\":{\"color\":\"rgb(36,36,36)\"},\"geo\":{\"bgcolor\":\"white\",\"lakecolor\":\"white\",\"landcolor\":\"white\",\"showlakes\":true,\"showland\":true,\"subunitcolor\":\"white\"},\"hoverlabel\":{\"align\":\"left\"},\"hovermode\":\"closest\",\"mapbox\":{\"style\":\"light\"},\"paper_bgcolor\":\"white\",\"plot_bgcolor\":\"white\",\"polar\":{\"angularaxis\":{\"gridcolor\":\"rgb(232,232,232)\",\"linecolor\":\"rgb(36,36,36)\",\"showgrid\":false,\"showline\":true,\"ticks\":\"outside\"},\"bgcolor\":\"white\",\"radialaxis\":{\"gridcolor\":\"rgb(232,232,232)\",\"linecolor\":\"rgb(36,36,36)\",\"showgrid\":false,\"showline\":true,\"ticks\":\"outside\"}},\"scene\":{\"xaxis\":{\"backgroundcolor\":\"white\",\"gridcolor\":\"rgb(232,232,232)\",\"gridwidth\":2,\"linecolor\":\"rgb(36,36,36)\",\"showbackground\":true,\"showgrid\":false,\"showline\":true,\"ticks\":\"outside\",\"zeroline\":false,\"zerolinecolor\":\"rgb(36,36,36)\"},\"yaxis\":{\"backgroundcolor\":\"white\",\"gridcolor\":\"rgb(232,232,232)\",\"gridwidth\":2,\"linecolor\":\"rgb(36,36,36)\",\"showbackground\":true,\"showgrid\":false,\"showline\":true,\"ticks\":\"outside\",\"zeroline\":false,\"zerolinecolor\":\"rgb(36,36,36)\"},\"zaxis\":{\"backgroundcolor\":\"white\",\"gridcolor\":\"rgb(232,232,232)\",\"gridwidth\":2,\"linecolor\":\"rgb(36,36,36)\",\"showbackground\":true,\"showgrid\":false,\"showline\":true,\"ticks\":\"outside\",\"zeroline\":false,\"zerolinecolor\":\"rgb(36,36,36)\"}},\"shapedefaults\":{\"fillcolor\":\"black\",\"line\":{\"width\":0},\"opacity\":0.3},\"ternary\":{\"aaxis\":{\"gridcolor\":\"rgb(232,232,232)\",\"linecolor\":\"rgb(36,36,36)\",\"showgrid\":false,\"showline\":true,\"ticks\":\"outside\"},\"baxis\":{\"gridcolor\":\"rgb(232,232,232)\",\"linecolor\":\"rgb(36,36,36)\",\"showgrid\":false,\"showline\":true,\"ticks\":\"outside\"},\"bgcolor\":\"white\",\"caxis\":{\"gridcolor\":\"rgb(232,232,232)\",\"linecolor\":\"rgb(36,36,36)\",\"showgrid\":false,\"showline\":true,\"ticks\":\"outside\"}},\"title\":{\"x\":0.05},\"xaxis\":{\"automargin\":true,\"gridcolor\":\"rgb(232,232,232)\",\"linecolor\":\"rgb(36,36,36)\",\"showgrid\":false,\"showline\":true,\"ticks\":\"outside\",\"title\":{\"standoff\":15},\"zeroline\":false,\"zerolinecolor\":\"rgb(36,36,36)\"},\"yaxis\":{\"automargin\":true,\"gridcolor\":\"rgb(232,232,232)\",\"linecolor\":\"rgb(36,36,36)\",\"showgrid\":false,\"showline\":true,\"ticks\":\"outside\",\"title\":{\"standoff\":15},\"zeroline\":false,\"zerolinecolor\":\"rgb(36,36,36)\"}}},\"geo\":{\"center\":{\"lat\":52,\"lon\":12},\"landcolor\":\"lightgray\",\"projection\":{\"scale\":5.15,\"type\":\"kavrayskiy7\"},\"scope\":\"world\",\"showcountries\":true,\"showland\":true},\"legend\":{\"title\":{\"text\":\"Degree of specialization\"},\"tracegroupgap\":0,\"font\":{\"size\":25},\"yanchor\":\"bottom\",\"y\":0.83,\"xanchor\":\"left\",\"x\":0.0525,\"traceorder\":\"reversed\",\"bgcolor\":\"#d3e4f4\",\"borderwidth\":2},\"margin\":{\"t\":60},\"title\":{\"font\":{\"size\":30},\"text\":\"Specialization Index for <b>IOT</b> in the European Union\"},\"showlegend\":true,\"height\":1080,\"width\":1980},                        {\"responsive\": true}                    ).then(function(){\n                            \nvar gd = document.getElementById('77028bf4-f3f1-406a-b4e9-a9348b8cde11');\nvar x = new MutationObserver(function (mutations, observer) {{\n        var display = window.getComputedStyle(gd).display;\n        if (!display || display === 'none') {{\n            console.log([gd, 'removed!']);\n            Plotly.purge(gd);\n            observer.disconnect();\n        }}\n}});\n\n// Listen for the removal of the full notebook cells\nvar notebookContainer = gd.closest('#notebook-container');\nif (notebookContainer) {{\n    x.observe(notebookContainer, {childList: true});\n}}\n\n// Listen for the clearing of the current output cell\nvar outputEl = gd.closest('.output');\nif (outputEl) {{\n    x.observe(outputEl, {childList: true});\n}}\n\n                        })                };                });            </script>        </div>"
     },
     "metadata": {},
     "output_type": "display_data"
    }
   ],
   "source": [
    "import plotly.express as px\n",
    "for dt in ['AI', 'robotics', 'IOT']:\n",
    "    fig = px.choropleth(locations=df_spec_dt_discrete.index,\n",
    "                        locationmode=\"country names\",\n",
    "                        color=df_spec_dt_discrete[dt],\n",
    "                        color_discrete_map={'Underspecialized (SI < 0.8)':'rgb(158,202,225)',\n",
    "                                            'Average (0.8 <= SI <= 1.2)':'rgb(66,146,198)',\n",
    "                                            'Overspecialized (SI > 1.2)':'rgb(8,48,107)'},\n",
    "                        # 'rgb(247,251,255)', 'rgb(222,235,247)', 'rgb(198,219,239)', 'rgb(158,202,225)', 'rgb(107,174,214)', 'rgb(66,146,198)', 'rgb(33,113,181)', 'rgb(8,81,156)', 'rgb(8,48,107)'\n",
    "                        scope=\"europe\",\n",
    "\n",
    "                        )\n",
    "    fig.update_layout(\n",
    "        template='simple_white',\n",
    "        title_text=f\"Specialization Index for <b>{dt}</b> in the European Union\",\n",
    "        title_font_size=30,\n",
    "        showlegend=True,\n",
    "        legend=dict(\n",
    "            title= \"Degree of specialization\",\n",
    "            yanchor=\"bottom\",\n",
    "            y=0.83,\n",
    "            xanchor=\"left\",\n",
    "            x=0.0525,\n",
    "            traceorder='reversed',\n",
    "            font={'size' : 25},\n",
    "            bgcolor=\"#d3e4f4\",\n",
    "            borderwidth=2\n",
    "        ),\n",
    "        geo=go.layout.Geo(\n",
    "            scope=\"world\",\n",
    "            landcolor='lightgray',\n",
    "            projection_scale=5.15,\n",
    "            center=dict(lon=12, lat=52),\n",
    "            projection_type=\"kavrayskiy7\",\n",
    "            showland=True,\n",
    "            showcountries=True,\n",
    "        ),\n",
    "        height=1080,\n",
    "        width=1980\n",
    "    )\n",
    "    fig.show()\n",
    "    pio.write_image(fig, f\"../img/Commission/Specialization/discrete/world/{dt}\", format='png')"
   ],
   "metadata": {
    "collapsed": false
   }
  },
  {
   "cell_type": "code",
   "execution_count": null,
   "outputs": [],
   "source": [],
   "metadata": {
    "collapsed": false
   }
  }
 ],
 "metadata": {
  "kernelspec": {
   "display_name": "Python 3",
   "language": "python",
   "name": "python3"
  },
  "language_info": {
   "codemirror_mode": {
    "name": "ipython",
    "version": 2
   },
   "file_extension": ".py",
   "mimetype": "text/x-python",
   "name": "python",
   "nbconvert_exporter": "python",
   "pygments_lexer": "ipython2",
   "version": "2.7.6"
  }
 },
 "nbformat": 4,
 "nbformat_minor": 0
}
