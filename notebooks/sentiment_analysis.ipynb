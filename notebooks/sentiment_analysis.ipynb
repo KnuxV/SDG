{
 "cells": [
  {
   "cell_type": "markdown",
   "source": [
    "## Explore potential sentiment analysis on publications"
   ],
   "metadata": {
    "collapsed": false
   }
  },
  {
   "cell_type": "code",
   "execution_count": 1,
   "outputs": [],
   "source": [
    "import pandas as pd"
   ],
   "metadata": {
    "collapsed": false
   }
  },
  {
   "cell_type": "code",
   "execution_count": 2,
   "outputs": [],
   "source": [
    "path = \"../data/dataframes/output/manual_annotation_df.pkl\"\n",
    "df = pd.read_pickle(path)"
   ],
   "metadata": {
    "collapsed": false
   }
  },
  {
   "cell_type": "code",
   "execution_count": 3,
   "outputs": [],
   "source": [
    "path = \"../data/dataframes/output/intersection_sdg_dt.pkl\"\n",
    "df = pd.read_pickle(path)"
   ],
   "metadata": {
    "collapsed": false
   }
  },
  {
   "cell_type": "code",
   "execution_count": 5,
   "outputs": [
    {
     "data": {
      "text/plain": "        PT                                                 AU  \\\n91       C               Khan, F; Zhang, B; Khan, S; Chen, SQ   \n131      J  Nasseri, A; Jamshidi, S; Yazdifar, H; Percy, D...   \n347      J         Khalifa, N; Abd Elghany, M; Abd Elghany, M   \n356      J       Emmanuel, O; Ananya, M; Misra, S; Koyuncu, M   \n437      J    Kharal, AY; Khalid, HA; Gastli, A; Guerrero, JM   \n...     ..                                                ...   \n1199513  C                Yang, WM; Li, DD; Sun, DR; Liao, QM   \n1200138  C                Shaheen, M; Shahbaz, M; Jadoon, KAK   \n1200469  J  Wolfson, M; Wallace, SE; Masca, N; Rowe, G; Sh...   \n1200644  J                                      Palsdottir, A   \n1200651  C               Singh, SR; Murthy, HA; Gonsalves, TA   \n\n                                                        TI  \\\n91       TECHNOLOGICAL LEAP FROGGING E-GOVERNMENT THROU...   \n131      Evaluating the performances of over-the-counte...   \n347      Exploratory research on digitalization transfo...   \n356      A Deep Neural Network-Based Advisory Framework...   \n437      A Novel Features-Based Multivariate Gaussian D...   \n...                                                    ...   \n1199513  Hydraulic Excavators Recognition Based on Inve...   \n1200138         Data Mining For Wind Energy Site Selection   \n1200469  DataSHIELD: resolving a conflict in contempora...   \n1200644  The connection between purposive information s...   \n1200651  Feature Selection for Text Classification Base...   \n\n                                                        SO  \\\n91       2011 4TH IEEE INTERNATIONAL CONFERENCE ON BROA...   \n131                 JOURNAL OF APPLIED ACCOUNTING RESEARCH   \n347                           COGENT BUSINESS & MANAGEMENT   \n356                                         SUSTAINABILITY   \n437                                            IEEE ACCESS   \n...                                                    ...   \n1199513             PATTERN RECOGNITION (CCPR 2014), PT II   \n1200138  WORLD CONGRESS ON ENGINEERING AND COMPUTER SCI...   \n1200469              INTERNATIONAL JOURNAL OF EPIDEMIOLOGY   \n1200644                           JOURNAL OF DOCUMENTATION   \n1200651  PROCEEDINGS OF THE FOURTH INTERNATIONAL WORKSH...   \n\n                                                        DE  \\\n91       eGovernment; Public-Private Partnership; Cloud...   \n131      Developing countries; Portfolio optimization; ...   \n347      Artificial intelligence; supply chain; supply ...   \n356      sustainability development goals; predictive a...   \n437      Developing countries; Meters; Companies; Tarif...   \n...                                                    ...   \n1199513  Computer vision; Object recognition; Hydraulic...   \n1200138  Site Selection; Data Mining; Wind Turbine; Pri...   \n1200469  Pooling; analysis; meta-analysis; individual-l...   \n1200644  Personal health; Lifestyles; Iceland; Informat...   \n1200651  Text categorization; feature selection; gini c...   \n\n                                                        AB  \\\n91       Building, operating, maintaining, and updating...   \n131      Purpose With suitable optimization criteria, h...   \n347      With no doubt, the adoption of Artificial Inte...   \n356      Research in sustainable development, program d...   \n437      According to statistics, developing countries ...   \n...                                                    ...   \n1199513  Detecting hydraulic excavators in videos can i...   \n1200138  The objective of this paper is to analyze suit...   \n1200469  Methods Data aggregation through anonymous sum...   \n1200644  Purpose - This paper aims to explore health an...   \n1200651  A number of feature selection mechanisms have ...   \n\n                                                        C1  \\\n91       [Khan, Faizullah; Zhang, Bin; Khan, Surat; Che...   \n131      [Nasseri, Ahmad; Jamshidi, Sajad] Univ Sistan ...   \n347      [Khalifa, Nermin; Abd Elghany, Marwa] Arab Aca...   \n356      [Emmanuel, Okewu] Univ Lagos, Ctr Informat & T...   \n437      [Kharal, Ammar Yousaf; Khalid, Hassan Abdullah...   \n...                                                    ...   \n1199513  [Yang, Wenming; Li, Dedi; Sun, Daren; Liao, Qi...   \n1200138  [Shaheen, Muhammad] Univ Arid Agr, Univ Inst I...   \n1200469  [Masca, Nicholas; Sheehan, Nuala A.; Tobin, Ma...   \n1200644  Univ Iceland, Dept Lib & Informat Sci, Reykjav...   \n1200651  [Singh, Sanasam Ranbir] Indian Inst Technol Gu...   \n\n                                                        EM  TC    PY  ...  \\\n91       khan_kakar@yahoo.com; binzhang@bupt.edu.cn; su...  11  2011  ...   \n131      nasseri@acc.usb.ac.ir; usb.sajad@gmail.com; hy...   0  2020  ...   \n347      nermine_khalifa@aast.edu; monam@aast.edu; marw...   0  2021  ...   \n356      eokewu@unilag.edu.ng; ge25daj@mytum.de; Sanjay...   1  2020  ...   \n437                                  adel.gastli@qu.edu.qa   0  2021  ...   \n...                                                    ...  ..   ...  ...   \n1199513                                                NaN   4  2014  ...   \n1200138  dr.shaheen@uaar.edu.pk; m.shahbaz@uet.edu.pk; ...   1  2012  ...   \n1200469                                      pb51@le.ac.uk  86  2010  ...   \n1200644                                      agustap@hi.is  31  2010  ...   \n1200651  RANBIR@IITG.ERNET.IN; HEMA@LANTANA.TENET.RES.I...  42  2010  ...   \n\n           IOT computing_infrastructure blockchain robotics  \\\n91       False                     True      False    False   \n131      False                    False      False    False   \n347      False                    False      False    False   \n356      False                    False      False    False   \n437      False                    False      False    False   \n...        ...                      ...        ...      ...   \n1199513  False                    False      False    False   \n1200138  False                    False      False    False   \n1200469  False                     True      False    False   \n1200644  False                    False      False    False   \n1200651  False                    False      False    False   \n\n        additive_manufacturing Society Economy Environment     EU   DST  \n91                       False    True    True       False  False  True  \n131                      False   False    True       False   True  True  \n347                       True   False    True       False  False  True  \n356                      False    True    True       False   True  True  \n437                      False   False    True       False   True  True  \n...                        ...     ...     ...         ...    ...   ...  \n1199513                  False    True   False       False  False  True  \n1200138                  False    True   False       False  False  True  \n1200469                  False    True   False       False   True  True  \n1200644                  False    True   False       False   True  True  \n1200651                  False    True   False       False  False  True  \n\n[47343 rows x 42 columns]",
      "text/html": "<div>\n<style scoped>\n    .dataframe tbody tr th:only-of-type {\n        vertical-align: middle;\n    }\n\n    .dataframe tbody tr th {\n        vertical-align: top;\n    }\n\n    .dataframe thead th {\n        text-align: right;\n    }\n</style>\n<table border=\"1\" class=\"dataframe\">\n  <thead>\n    <tr style=\"text-align: right;\">\n      <th></th>\n      <th>PT</th>\n      <th>AU</th>\n      <th>TI</th>\n      <th>SO</th>\n      <th>DE</th>\n      <th>AB</th>\n      <th>C1</th>\n      <th>EM</th>\n      <th>TC</th>\n      <th>PY</th>\n      <th>...</th>\n      <th>IOT</th>\n      <th>computing_infrastructure</th>\n      <th>blockchain</th>\n      <th>robotics</th>\n      <th>additive_manufacturing</th>\n      <th>Society</th>\n      <th>Economy</th>\n      <th>Environment</th>\n      <th>EU</th>\n      <th>DST</th>\n    </tr>\n  </thead>\n  <tbody>\n    <tr>\n      <th>91</th>\n      <td>C</td>\n      <td>Khan, F; Zhang, B; Khan, S; Chen, SQ</td>\n      <td>TECHNOLOGICAL LEAP FROGGING E-GOVERNMENT THROU...</td>\n      <td>2011 4TH IEEE INTERNATIONAL CONFERENCE ON BROA...</td>\n      <td>eGovernment; Public-Private Partnership; Cloud...</td>\n      <td>Building, operating, maintaining, and updating...</td>\n      <td>[Khan, Faizullah; Zhang, Bin; Khan, Surat; Che...</td>\n      <td>khan_kakar@yahoo.com; binzhang@bupt.edu.cn; su...</td>\n      <td>11</td>\n      <td>2011</td>\n      <td>...</td>\n      <td>False</td>\n      <td>True</td>\n      <td>False</td>\n      <td>False</td>\n      <td>False</td>\n      <td>True</td>\n      <td>True</td>\n      <td>False</td>\n      <td>False</td>\n      <td>True</td>\n    </tr>\n    <tr>\n      <th>131</th>\n      <td>J</td>\n      <td>Nasseri, A; Jamshidi, S; Yazdifar, H; Percy, D...</td>\n      <td>Evaluating the performances of over-the-counte...</td>\n      <td>JOURNAL OF APPLIED ACCOUNTING RESEARCH</td>\n      <td>Developing countries; Portfolio optimization; ...</td>\n      <td>Purpose With suitable optimization criteria, h...</td>\n      <td>[Nasseri, Ahmad; Jamshidi, Sajad] Univ Sistan ...</td>\n      <td>nasseri@acc.usb.ac.ir; usb.sajad@gmail.com; hy...</td>\n      <td>0</td>\n      <td>2020</td>\n      <td>...</td>\n      <td>False</td>\n      <td>False</td>\n      <td>False</td>\n      <td>False</td>\n      <td>False</td>\n      <td>False</td>\n      <td>True</td>\n      <td>False</td>\n      <td>True</td>\n      <td>True</td>\n    </tr>\n    <tr>\n      <th>347</th>\n      <td>J</td>\n      <td>Khalifa, N; Abd Elghany, M; Abd Elghany, M</td>\n      <td>Exploratory research on digitalization transfo...</td>\n      <td>COGENT BUSINESS &amp; MANAGEMENT</td>\n      <td>Artificial intelligence; supply chain; supply ...</td>\n      <td>With no doubt, the adoption of Artificial Inte...</td>\n      <td>[Khalifa, Nermin; Abd Elghany, Marwa] Arab Aca...</td>\n      <td>nermine_khalifa@aast.edu; monam@aast.edu; marw...</td>\n      <td>0</td>\n      <td>2021</td>\n      <td>...</td>\n      <td>False</td>\n      <td>False</td>\n      <td>False</td>\n      <td>False</td>\n      <td>True</td>\n      <td>False</td>\n      <td>True</td>\n      <td>False</td>\n      <td>False</td>\n      <td>True</td>\n    </tr>\n    <tr>\n      <th>356</th>\n      <td>J</td>\n      <td>Emmanuel, O; Ananya, M; Misra, S; Koyuncu, M</td>\n      <td>A Deep Neural Network-Based Advisory Framework...</td>\n      <td>SUSTAINABILITY</td>\n      <td>sustainability development goals; predictive a...</td>\n      <td>Research in sustainable development, program d...</td>\n      <td>[Emmanuel, Okewu] Univ Lagos, Ctr Informat &amp; T...</td>\n      <td>eokewu@unilag.edu.ng; ge25daj@mytum.de; Sanjay...</td>\n      <td>1</td>\n      <td>2020</td>\n      <td>...</td>\n      <td>False</td>\n      <td>False</td>\n      <td>False</td>\n      <td>False</td>\n      <td>False</td>\n      <td>True</td>\n      <td>True</td>\n      <td>False</td>\n      <td>True</td>\n      <td>True</td>\n    </tr>\n    <tr>\n      <th>437</th>\n      <td>J</td>\n      <td>Kharal, AY; Khalid, HA; Gastli, A; Guerrero, JM</td>\n      <td>A Novel Features-Based Multivariate Gaussian D...</td>\n      <td>IEEE ACCESS</td>\n      <td>Developing countries; Meters; Companies; Tarif...</td>\n      <td>According to statistics, developing countries ...</td>\n      <td>[Kharal, Ammar Yousaf; Khalid, Hassan Abdullah...</td>\n      <td>adel.gastli@qu.edu.qa</td>\n      <td>0</td>\n      <td>2021</td>\n      <td>...</td>\n      <td>False</td>\n      <td>False</td>\n      <td>False</td>\n      <td>False</td>\n      <td>False</td>\n      <td>False</td>\n      <td>True</td>\n      <td>False</td>\n      <td>True</td>\n      <td>True</td>\n    </tr>\n    <tr>\n      <th>...</th>\n      <td>...</td>\n      <td>...</td>\n      <td>...</td>\n      <td>...</td>\n      <td>...</td>\n      <td>...</td>\n      <td>...</td>\n      <td>...</td>\n      <td>...</td>\n      <td>...</td>\n      <td>...</td>\n      <td>...</td>\n      <td>...</td>\n      <td>...</td>\n      <td>...</td>\n      <td>...</td>\n      <td>...</td>\n      <td>...</td>\n      <td>...</td>\n      <td>...</td>\n      <td>...</td>\n    </tr>\n    <tr>\n      <th>1199513</th>\n      <td>C</td>\n      <td>Yang, WM; Li, DD; Sun, DR; Liao, QM</td>\n      <td>Hydraulic Excavators Recognition Based on Inve...</td>\n      <td>PATTERN RECOGNITION (CCPR 2014), PT II</td>\n      <td>Computer vision; Object recognition; Hydraulic...</td>\n      <td>Detecting hydraulic excavators in videos can i...</td>\n      <td>[Yang, Wenming; Li, Dedi; Sun, Daren; Liao, Qi...</td>\n      <td>NaN</td>\n      <td>4</td>\n      <td>2014</td>\n      <td>...</td>\n      <td>False</td>\n      <td>False</td>\n      <td>False</td>\n      <td>False</td>\n      <td>False</td>\n      <td>True</td>\n      <td>False</td>\n      <td>False</td>\n      <td>False</td>\n      <td>True</td>\n    </tr>\n    <tr>\n      <th>1200138</th>\n      <td>C</td>\n      <td>Shaheen, M; Shahbaz, M; Jadoon, KAK</td>\n      <td>Data Mining For Wind Energy Site Selection</td>\n      <td>WORLD CONGRESS ON ENGINEERING AND COMPUTER SCI...</td>\n      <td>Site Selection; Data Mining; Wind Turbine; Pri...</td>\n      <td>The objective of this paper is to analyze suit...</td>\n      <td>[Shaheen, Muhammad] Univ Arid Agr, Univ Inst I...</td>\n      <td>dr.shaheen@uaar.edu.pk; m.shahbaz@uet.edu.pk; ...</td>\n      <td>1</td>\n      <td>2012</td>\n      <td>...</td>\n      <td>False</td>\n      <td>False</td>\n      <td>False</td>\n      <td>False</td>\n      <td>False</td>\n      <td>True</td>\n      <td>False</td>\n      <td>False</td>\n      <td>False</td>\n      <td>True</td>\n    </tr>\n    <tr>\n      <th>1200469</th>\n      <td>J</td>\n      <td>Wolfson, M; Wallace, SE; Masca, N; Rowe, G; Sh...</td>\n      <td>DataSHIELD: resolving a conflict in contempora...</td>\n      <td>INTERNATIONAL JOURNAL OF EPIDEMIOLOGY</td>\n      <td>Pooling; analysis; meta-analysis; individual-l...</td>\n      <td>Methods Data aggregation through anonymous sum...</td>\n      <td>[Masca, Nicholas; Sheehan, Nuala A.; Tobin, Ma...</td>\n      <td>pb51@le.ac.uk</td>\n      <td>86</td>\n      <td>2010</td>\n      <td>...</td>\n      <td>False</td>\n      <td>True</td>\n      <td>False</td>\n      <td>False</td>\n      <td>False</td>\n      <td>True</td>\n      <td>False</td>\n      <td>False</td>\n      <td>True</td>\n      <td>True</td>\n    </tr>\n    <tr>\n      <th>1200644</th>\n      <td>J</td>\n      <td>Palsdottir, A</td>\n      <td>The connection between purposive information s...</td>\n      <td>JOURNAL OF DOCUMENTATION</td>\n      <td>Personal health; Lifestyles; Iceland; Informat...</td>\n      <td>Purpose - This paper aims to explore health an...</td>\n      <td>Univ Iceland, Dept Lib &amp; Informat Sci, Reykjav...</td>\n      <td>agustap@hi.is</td>\n      <td>31</td>\n      <td>2010</td>\n      <td>...</td>\n      <td>False</td>\n      <td>False</td>\n      <td>False</td>\n      <td>False</td>\n      <td>False</td>\n      <td>True</td>\n      <td>False</td>\n      <td>False</td>\n      <td>True</td>\n      <td>True</td>\n    </tr>\n    <tr>\n      <th>1200651</th>\n      <td>C</td>\n      <td>Singh, SR; Murthy, HA; Gonsalves, TA</td>\n      <td>Feature Selection for Text Classification Base...</td>\n      <td>PROCEEDINGS OF THE FOURTH INTERNATIONAL WORKSH...</td>\n      <td>Text categorization; feature selection; gini c...</td>\n      <td>A number of feature selection mechanisms have ...</td>\n      <td>[Singh, Sanasam Ranbir] Indian Inst Technol Gu...</td>\n      <td>RANBIR@IITG.ERNET.IN; HEMA@LANTANA.TENET.RES.I...</td>\n      <td>42</td>\n      <td>2010</td>\n      <td>...</td>\n      <td>False</td>\n      <td>False</td>\n      <td>False</td>\n      <td>False</td>\n      <td>False</td>\n      <td>True</td>\n      <td>False</td>\n      <td>False</td>\n      <td>False</td>\n      <td>True</td>\n    </tr>\n  </tbody>\n</table>\n<p>47343 rows × 42 columns</p>\n</div>"
     },
     "execution_count": 5,
     "metadata": {},
     "output_type": "execute_result"
    }
   ],
   "source": [
    "df"
   ],
   "metadata": {
    "collapsed": false
   }
  },
  {
   "cell_type": "code",
   "execution_count": 11,
   "outputs": [],
   "source": [
    "a = df[df['ANN'] == \"DTTSDG\"]['TI'].to_list()"
   ],
   "metadata": {
    "collapsed": false
   }
  },
  {
   "cell_type": "code",
   "execution_count": 12,
   "outputs": [],
   "source": [
    "b = iter(a)"
   ],
   "metadata": {
    "collapsed": false
   }
  },
  {
   "cell_type": "code",
   "execution_count": 15,
   "outputs": [
    {
     "data": {
      "text/plain": "'Medical image denoising using convolutional denoising autoencoders'"
     },
     "execution_count": 15,
     "metadata": {},
     "output_type": "execute_result"
    }
   ],
   "source": [
    "next(b)"
   ],
   "metadata": {
    "collapsed": false
   }
  },
  {
   "cell_type": "code",
   "execution_count": null,
   "outputs": [],
   "source": [],
   "metadata": {
    "collapsed": false
   }
  }
 ],
 "metadata": {
  "kernelspec": {
   "display_name": "Python 3",
   "language": "python",
   "name": "python3"
  },
  "language_info": {
   "codemirror_mode": {
    "name": "ipython",
    "version": 2
   },
   "file_extension": ".py",
   "mimetype": "text/x-python",
   "name": "python",
   "nbconvert_exporter": "python",
   "pygments_lexer": "ipython2",
   "version": "2.7.6"
  }
 },
 "nbformat": 4,
 "nbformat_minor": 0
}
