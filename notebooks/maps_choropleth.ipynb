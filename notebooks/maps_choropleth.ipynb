{
 "cells": [
  {
   "cell_type": "code",
   "execution_count": 16,
   "outputs": [],
   "source": [
    "import json\n",
    "\n",
    "import pandas as pd\n",
    "import plotly.graph_objects as go\n"
   ],
   "metadata": {
    "collapsed": false,
    "pycharm": {
     "name": "#%%\n"
    }
   }
  },
  {
   "cell_type": "code",
   "execution_count": 69,
   "outputs": [],
   "source": [
    "df_gdp = pd.read_csv('../data/GDP_by_country.csv', sep=\",\")\n",
    "df_pop = pd.read_csv(\"../data/countriesgdp_pop.csv\")[['country', 'pop2022']]\n",
    "\n",
    "df_gdp.rename(columns={'Country':'country'}, inplace=True)\n",
    "df_gdp['yup'] = True"
   ],
   "metadata": {
    "collapsed": false,
    "pycharm": {
     "name": "#%%\n"
    }
   }
  },
  {
   "cell_type": "code",
   "execution_count": 70,
   "outputs": [
    {
     "data": {
      "text/plain": "    ISO 3166                 country Country ISO-3\n0         BD              Bangladesh           BGD\n1         BE                 Belgium           BEL\n2         BF            Burkina Faso           BFA\n3         BG                Bulgaria           BGR\n4         BA  Bosnia and Herzegovina           BIH\n..       ...                     ...           ...\n245       IE                 Ireland           IRL\n246       ID               Indonesia           IDN\n247       UA                 Ukraine           UKR\n248       QA                   Qatar           QAT\n249       MZ              Mozambique           MOZ\n\n[250 rows x 3 columns]",
      "text/html": "<div>\n<style scoped>\n    .dataframe tbody tr th:only-of-type {\n        vertical-align: middle;\n    }\n\n    .dataframe tbody tr th {\n        vertical-align: top;\n    }\n\n    .dataframe thead th {\n        text-align: right;\n    }\n</style>\n<table border=\"1\" class=\"dataframe\">\n  <thead>\n    <tr style=\"text-align: right;\">\n      <th></th>\n      <th>ISO 3166</th>\n      <th>country</th>\n      <th>Country ISO-3</th>\n    </tr>\n  </thead>\n  <tbody>\n    <tr>\n      <th>0</th>\n      <td>BD</td>\n      <td>Bangladesh</td>\n      <td>BGD</td>\n    </tr>\n    <tr>\n      <th>1</th>\n      <td>BE</td>\n      <td>Belgium</td>\n      <td>BEL</td>\n    </tr>\n    <tr>\n      <th>2</th>\n      <td>BF</td>\n      <td>Burkina Faso</td>\n      <td>BFA</td>\n    </tr>\n    <tr>\n      <th>3</th>\n      <td>BG</td>\n      <td>Bulgaria</td>\n      <td>BGR</td>\n    </tr>\n    <tr>\n      <th>4</th>\n      <td>BA</td>\n      <td>Bosnia and Herzegovina</td>\n      <td>BIH</td>\n    </tr>\n    <tr>\n      <th>...</th>\n      <td>...</td>\n      <td>...</td>\n      <td>...</td>\n    </tr>\n    <tr>\n      <th>245</th>\n      <td>IE</td>\n      <td>Ireland</td>\n      <td>IRL</td>\n    </tr>\n    <tr>\n      <th>246</th>\n      <td>ID</td>\n      <td>Indonesia</td>\n      <td>IDN</td>\n    </tr>\n    <tr>\n      <th>247</th>\n      <td>UA</td>\n      <td>Ukraine</td>\n      <td>UKR</td>\n    </tr>\n    <tr>\n      <th>248</th>\n      <td>QA</td>\n      <td>Qatar</td>\n      <td>QAT</td>\n    </tr>\n    <tr>\n      <th>249</th>\n      <td>MZ</td>\n      <td>Mozambique</td>\n      <td>MOZ</td>\n    </tr>\n  </tbody>\n</table>\n<p>250 rows × 3 columns</p>\n</div>"
     },
     "execution_count": 70,
     "metadata": {},
     "output_type": "execute_result"
    }
   ],
   "source": [
    "df_plot = pd.read_csv('../data/plotly_country_names.csv', sep='\\t')\n",
    "df_plot"
   ],
   "metadata": {
    "collapsed": false,
    "pycharm": {
     "name": "#%%\n"
    }
   }
  },
  {
   "cell_type": "code",
   "execution_count": 71,
   "outputs": [
    {
     "data": {
      "text/plain": "    ISO 3166                         country Country ISO-3 Country ISO3  \\\n1        NaN     Africa Eastern and Southern           NaN          AFE   \n3        NaN      Africa Western and Central           NaN          AFW   \n7        NaN                      Arab World           NaN          ARB   \n36       NaN  Central Europe and the Baltics           NaN          CEB   \n38       NaN                 Channel Islands           NaN          CHI   \n..       ...                             ...           ...          ...   \n249      NaN             Upper middle income           NaN          UMC   \n253      NaN  St. Vincent and the Grenadines           NaN          VCT   \n256      NaN           Virgin Islands (U.S.)           NaN          VIR   \n259      NaN                           World           NaN          WLD   \n262      NaN                          Yemene           NaN          YEM   \n\n        Indicator Name  Indicator Code          1960          1961  \\\n1    GDP (current US$)  NY.GDP.MKTP.CD  2.129059e+10  2.180847e+10   \n3    GDP (current US$)  NY.GDP.MKTP.CD  1.040414e+10  1.112789e+10   \n7    GDP (current US$)  NY.GDP.MKTP.CD           NaN           NaN   \n36   GDP (current US$)  NY.GDP.MKTP.CD           NaN           NaN   \n38   GDP (current US$)  NY.GDP.MKTP.CD           NaN           NaN   \n..                 ...             ...           ...           ...   \n249  GDP (current US$)  NY.GDP.MKTP.CD  2.419484e+11  2.183627e+11   \n253  GDP (current US$)  NY.GDP.MKTP.CD  1.306656e+07  1.399988e+07   \n256  GDP (current US$)  NY.GDP.MKTP.CD           NaN           NaN   \n259  GDP (current US$)  NY.GDP.MKTP.CD  1.392053e+12  1.448393e+12   \n262  GDP (current US$)  NY.GDP.MKTP.CD           NaN           NaN   \n\n             1962          1963  ...          2013          2014  \\\n1    2.370702e+10  2.821004e+10  ...  9.839370e+11  1.003679e+12   \n3    1.194319e+10  1.267633e+10  ...  8.207927e+11  8.649905e+11   \n7             NaN           NaN  ...  2.834607e+12  2.876010e+12   \n36            NaN           NaN  ...  1.422764e+12  1.465928e+12   \n38            NaN           NaN  ...           NaN           NaN   \n..            ...           ...  ...           ...           ...   \n249  2.239612e+11  2.349683e+11  ...  2.030681e+13  2.093911e+13   \n253  1.452488e+07  1.370822e+07  ...  7.647812e+08  7.709014e+08   \n256           NaN           NaN  ...  3.738000e+09  3.565000e+09   \n259  1.550299e+12  1.671347e+12  ...  7.760720e+13  7.970881e+13   \n262           NaN           NaN  ...  4.041524e+10  4.322859e+10   \n\n             2015          2016          2017          2018          2019  \\\n1    9.242525e+11  8.823551e+11  1.020647e+12  9.910223e+11  9.975340e+11   \n3    7.607345e+11  6.905464e+11  6.837487e+11  7.416899e+11  7.945430e+11   \n7    2.518701e+12  2.495865e+12  2.584097e+12  2.785878e+12  2.808100e+12   \n36   1.293064e+12  1.321562e+12  1.464533e+12  1.645463e+12  1.673863e+12   \n38            NaN           NaN           NaN           NaN           NaN   \n..            ...           ...           ...           ...           ...   \n249  1.966280e+13  1.954900e+13  2.164374e+13  2.330352e+13  2.368629e+13   \n253  7.865546e+08  8.143023e+08  8.476202e+08  8.843282e+08  9.101497e+08   \n256  3.663000e+09  3.798000e+09  3.794000e+09  3.922000e+09  4.117000e+09   \n259  7.517927e+13  7.646559e+13  8.140398e+13  8.641303e+13  8.765286e+13   \n262  4.244450e+10  3.131783e+10  2.684223e+10  2.160616e+10  2.188761e+10   \n\n             2020          2021   yup  \n1    9.216459e+11  1.082096e+12  True  \n3    7.844457e+11  8.358084e+11  True  \n7    2.496251e+12  2.850421e+12  True  \n36   1.654916e+12  1.887902e+12  True  \n38            NaN           NaN  True  \n..            ...           ...   ...  \n249  2.284829e+13  2.710428e+13  True  \n253  8.721345e+08  8.897752e+08  True  \n256  4.204000e+09           NaN  True  \n259  8.490681e+13  9.610009e+13  True  \n262  1.884051e+10  2.106169e+10  True  \n\n[62 rows x 69 columns]",
      "text/html": "<div>\n<style scoped>\n    .dataframe tbody tr th:only-of-type {\n        vertical-align: middle;\n    }\n\n    .dataframe tbody tr th {\n        vertical-align: top;\n    }\n\n    .dataframe thead th {\n        text-align: right;\n    }\n</style>\n<table border=\"1\" class=\"dataframe\">\n  <thead>\n    <tr style=\"text-align: right;\">\n      <th></th>\n      <th>ISO 3166</th>\n      <th>country</th>\n      <th>Country ISO-3</th>\n      <th>Country ISO3</th>\n      <th>Indicator Name</th>\n      <th>Indicator Code</th>\n      <th>1960</th>\n      <th>1961</th>\n      <th>1962</th>\n      <th>1963</th>\n      <th>...</th>\n      <th>2013</th>\n      <th>2014</th>\n      <th>2015</th>\n      <th>2016</th>\n      <th>2017</th>\n      <th>2018</th>\n      <th>2019</th>\n      <th>2020</th>\n      <th>2021</th>\n      <th>yup</th>\n    </tr>\n  </thead>\n  <tbody>\n    <tr>\n      <th>1</th>\n      <td>NaN</td>\n      <td>Africa Eastern and Southern</td>\n      <td>NaN</td>\n      <td>AFE</td>\n      <td>GDP (current US$)</td>\n      <td>NY.GDP.MKTP.CD</td>\n      <td>2.129059e+10</td>\n      <td>2.180847e+10</td>\n      <td>2.370702e+10</td>\n      <td>2.821004e+10</td>\n      <td>...</td>\n      <td>9.839370e+11</td>\n      <td>1.003679e+12</td>\n      <td>9.242525e+11</td>\n      <td>8.823551e+11</td>\n      <td>1.020647e+12</td>\n      <td>9.910223e+11</td>\n      <td>9.975340e+11</td>\n      <td>9.216459e+11</td>\n      <td>1.082096e+12</td>\n      <td>True</td>\n    </tr>\n    <tr>\n      <th>3</th>\n      <td>NaN</td>\n      <td>Africa Western and Central</td>\n      <td>NaN</td>\n      <td>AFW</td>\n      <td>GDP (current US$)</td>\n      <td>NY.GDP.MKTP.CD</td>\n      <td>1.040414e+10</td>\n      <td>1.112789e+10</td>\n      <td>1.194319e+10</td>\n      <td>1.267633e+10</td>\n      <td>...</td>\n      <td>8.207927e+11</td>\n      <td>8.649905e+11</td>\n      <td>7.607345e+11</td>\n      <td>6.905464e+11</td>\n      <td>6.837487e+11</td>\n      <td>7.416899e+11</td>\n      <td>7.945430e+11</td>\n      <td>7.844457e+11</td>\n      <td>8.358084e+11</td>\n      <td>True</td>\n    </tr>\n    <tr>\n      <th>7</th>\n      <td>NaN</td>\n      <td>Arab World</td>\n      <td>NaN</td>\n      <td>ARB</td>\n      <td>GDP (current US$)</td>\n      <td>NY.GDP.MKTP.CD</td>\n      <td>NaN</td>\n      <td>NaN</td>\n      <td>NaN</td>\n      <td>NaN</td>\n      <td>...</td>\n      <td>2.834607e+12</td>\n      <td>2.876010e+12</td>\n      <td>2.518701e+12</td>\n      <td>2.495865e+12</td>\n      <td>2.584097e+12</td>\n      <td>2.785878e+12</td>\n      <td>2.808100e+12</td>\n      <td>2.496251e+12</td>\n      <td>2.850421e+12</td>\n      <td>True</td>\n    </tr>\n    <tr>\n      <th>36</th>\n      <td>NaN</td>\n      <td>Central Europe and the Baltics</td>\n      <td>NaN</td>\n      <td>CEB</td>\n      <td>GDP (current US$)</td>\n      <td>NY.GDP.MKTP.CD</td>\n      <td>NaN</td>\n      <td>NaN</td>\n      <td>NaN</td>\n      <td>NaN</td>\n      <td>...</td>\n      <td>1.422764e+12</td>\n      <td>1.465928e+12</td>\n      <td>1.293064e+12</td>\n      <td>1.321562e+12</td>\n      <td>1.464533e+12</td>\n      <td>1.645463e+12</td>\n      <td>1.673863e+12</td>\n      <td>1.654916e+12</td>\n      <td>1.887902e+12</td>\n      <td>True</td>\n    </tr>\n    <tr>\n      <th>38</th>\n      <td>NaN</td>\n      <td>Channel Islands</td>\n      <td>NaN</td>\n      <td>CHI</td>\n      <td>GDP (current US$)</td>\n      <td>NY.GDP.MKTP.CD</td>\n      <td>NaN</td>\n      <td>NaN</td>\n      <td>NaN</td>\n      <td>NaN</td>\n      <td>...</td>\n      <td>NaN</td>\n      <td>NaN</td>\n      <td>NaN</td>\n      <td>NaN</td>\n      <td>NaN</td>\n      <td>NaN</td>\n      <td>NaN</td>\n      <td>NaN</td>\n      <td>NaN</td>\n      <td>True</td>\n    </tr>\n    <tr>\n      <th>...</th>\n      <td>...</td>\n      <td>...</td>\n      <td>...</td>\n      <td>...</td>\n      <td>...</td>\n      <td>...</td>\n      <td>...</td>\n      <td>...</td>\n      <td>...</td>\n      <td>...</td>\n      <td>...</td>\n      <td>...</td>\n      <td>...</td>\n      <td>...</td>\n      <td>...</td>\n      <td>...</td>\n      <td>...</td>\n      <td>...</td>\n      <td>...</td>\n      <td>...</td>\n      <td>...</td>\n    </tr>\n    <tr>\n      <th>249</th>\n      <td>NaN</td>\n      <td>Upper middle income</td>\n      <td>NaN</td>\n      <td>UMC</td>\n      <td>GDP (current US$)</td>\n      <td>NY.GDP.MKTP.CD</td>\n      <td>2.419484e+11</td>\n      <td>2.183627e+11</td>\n      <td>2.239612e+11</td>\n      <td>2.349683e+11</td>\n      <td>...</td>\n      <td>2.030681e+13</td>\n      <td>2.093911e+13</td>\n      <td>1.966280e+13</td>\n      <td>1.954900e+13</td>\n      <td>2.164374e+13</td>\n      <td>2.330352e+13</td>\n      <td>2.368629e+13</td>\n      <td>2.284829e+13</td>\n      <td>2.710428e+13</td>\n      <td>True</td>\n    </tr>\n    <tr>\n      <th>253</th>\n      <td>NaN</td>\n      <td>St. Vincent and the Grenadines</td>\n      <td>NaN</td>\n      <td>VCT</td>\n      <td>GDP (current US$)</td>\n      <td>NY.GDP.MKTP.CD</td>\n      <td>1.306656e+07</td>\n      <td>1.399988e+07</td>\n      <td>1.452488e+07</td>\n      <td>1.370822e+07</td>\n      <td>...</td>\n      <td>7.647812e+08</td>\n      <td>7.709014e+08</td>\n      <td>7.865546e+08</td>\n      <td>8.143023e+08</td>\n      <td>8.476202e+08</td>\n      <td>8.843282e+08</td>\n      <td>9.101497e+08</td>\n      <td>8.721345e+08</td>\n      <td>8.897752e+08</td>\n      <td>True</td>\n    </tr>\n    <tr>\n      <th>256</th>\n      <td>NaN</td>\n      <td>Virgin Islands (U.S.)</td>\n      <td>NaN</td>\n      <td>VIR</td>\n      <td>GDP (current US$)</td>\n      <td>NY.GDP.MKTP.CD</td>\n      <td>NaN</td>\n      <td>NaN</td>\n      <td>NaN</td>\n      <td>NaN</td>\n      <td>...</td>\n      <td>3.738000e+09</td>\n      <td>3.565000e+09</td>\n      <td>3.663000e+09</td>\n      <td>3.798000e+09</td>\n      <td>3.794000e+09</td>\n      <td>3.922000e+09</td>\n      <td>4.117000e+09</td>\n      <td>4.204000e+09</td>\n      <td>NaN</td>\n      <td>True</td>\n    </tr>\n    <tr>\n      <th>259</th>\n      <td>NaN</td>\n      <td>World</td>\n      <td>NaN</td>\n      <td>WLD</td>\n      <td>GDP (current US$)</td>\n      <td>NY.GDP.MKTP.CD</td>\n      <td>1.392053e+12</td>\n      <td>1.448393e+12</td>\n      <td>1.550299e+12</td>\n      <td>1.671347e+12</td>\n      <td>...</td>\n      <td>7.760720e+13</td>\n      <td>7.970881e+13</td>\n      <td>7.517927e+13</td>\n      <td>7.646559e+13</td>\n      <td>8.140398e+13</td>\n      <td>8.641303e+13</td>\n      <td>8.765286e+13</td>\n      <td>8.490681e+13</td>\n      <td>9.610009e+13</td>\n      <td>True</td>\n    </tr>\n    <tr>\n      <th>262</th>\n      <td>NaN</td>\n      <td>Yemene</td>\n      <td>NaN</td>\n      <td>YEM</td>\n      <td>GDP (current US$)</td>\n      <td>NY.GDP.MKTP.CD</td>\n      <td>NaN</td>\n      <td>NaN</td>\n      <td>NaN</td>\n      <td>NaN</td>\n      <td>...</td>\n      <td>4.041524e+10</td>\n      <td>4.322859e+10</td>\n      <td>4.244450e+10</td>\n      <td>3.131783e+10</td>\n      <td>2.684223e+10</td>\n      <td>2.160616e+10</td>\n      <td>2.188761e+10</td>\n      <td>1.884051e+10</td>\n      <td>2.106169e+10</td>\n      <td>True</td>\n    </tr>\n  </tbody>\n</table>\n<p>62 rows × 69 columns</p>\n</div>"
     },
     "execution_count": 71,
     "metadata": {},
     "output_type": "execute_result"
    }
   ],
   "source": [
    "a = pd.concat([df_plot, df_gdp]).drop_duplicates(subset='country', keep=False)\n",
    "a[a['yup'] == True]"
   ],
   "metadata": {
    "collapsed": false,
    "pycharm": {
     "name": "#%%\n"
    }
   }
  },
  {
   "cell_type": "code",
   "execution_count": null,
   "outputs": [],
   "source": [],
   "metadata": {
    "collapsed": false,
    "pycharm": {
     "name": "#%%\n"
    }
   }
  },
  {
   "cell_type": "code",
   "execution_count": 72,
   "outputs": [
    {
     "data": {
      "text/plain": "                         Country Country ISO3     Indicator Name  \\\n0                          Aruba          ABW  GDP (current US$)   \n1    Africa Eastern and Southern          AFE  GDP (current US$)   \n2                    Afghanistan          AFG  GDP (current US$)   \n3     Africa Western and Central          AFW  GDP (current US$)   \n4                         Angola          AGO  GDP (current US$)   \n..                           ...          ...                ...   \n261                       Kosovo          XKX  GDP (current US$)   \n262                        Yemen          YEM  GDP (current US$)   \n263                 South Africa          ZAF  GDP (current US$)   \n264                       Zambia          ZMB  GDP (current US$)   \n265                     Zimbabwe          ZWE  GDP (current US$)   \n\n     Indicator Code          1960          1961          1962          1963  \\\n0    NY.GDP.MKTP.CD           NaN           NaN           NaN           NaN   \n1    NY.GDP.MKTP.CD  2.129059e+10  2.180847e+10  2.370702e+10  2.821004e+10   \n2    NY.GDP.MKTP.CD  5.377778e+08  5.488889e+08  5.466667e+08  7.511112e+08   \n3    NY.GDP.MKTP.CD  1.040414e+10  1.112789e+10  1.194319e+10  1.267633e+10   \n4    NY.GDP.MKTP.CD           NaN           NaN           NaN           NaN   \n..              ...           ...           ...           ...           ...   \n261  NY.GDP.MKTP.CD           NaN           NaN           NaN           NaN   \n262  NY.GDP.MKTP.CD           NaN           NaN           NaN           NaN   \n263  NY.GDP.MKTP.CD  8.748597e+09  9.225996e+09  9.813996e+09  1.085420e+10   \n264  NY.GDP.MKTP.CD  7.130000e+08  6.962857e+08  6.931429e+08  7.187143e+08   \n265  NY.GDP.MKTP.CD  1.052990e+09  1.096647e+09  1.117602e+09  1.159512e+09   \n\n             1964          1965  ...          2012          2013  \\\n0             NaN           NaN  ...  2.615084e+09  2.727933e+09   \n1    2.611879e+10  2.968217e+10  ...  9.730435e+11  9.839370e+11   \n2    8.000000e+08  1.006667e+09  ...  1.990732e+10  2.014640e+10   \n3    1.383837e+10  1.486223e+10  ...  7.275704e+11  8.207927e+11   \n4             NaN           NaN  ...  1.249982e+11  1.334016e+11   \n..            ...           ...  ...           ...           ...   \n261           NaN           NaN  ...  6.163785e+09  6.735731e+09   \n262           NaN           NaN  ...  3.540134e+10  4.041524e+10   \n263  1.195600e+10  1.306899e+10  ...  4.344005e+11  4.008860e+11   \n264  8.394286e+08  1.082857e+09  ...  2.550306e+10  2.803724e+10   \n265  1.217138e+09  1.311436e+09  ...  1.711485e+10  1.909102e+10   \n\n             2014          2015          2016          2017          2018  \\\n0    2.791061e+09  2.963128e+09  2.983799e+09  3.092179e+09  3.202235e+09   \n1    1.003679e+12  9.242525e+11  8.823551e+11  1.020647e+12  9.910223e+11   \n2    2.049713e+10  1.913421e+10  1.811656e+10  1.875347e+10  1.805323e+10   \n3    8.649905e+11  7.607345e+11  6.905464e+11  6.837487e+11  7.416899e+11   \n4    1.372444e+11  8.721929e+10  4.984049e+10  6.897276e+10  7.779294e+10   \n..            ...           ...           ...           ...           ...   \n261  7.074658e+09  6.295820e+09  6.682833e+09  7.180813e+09  7.878509e+09   \n262  4.322859e+10  4.244450e+10  3.131783e+10  2.684223e+10  2.160616e+10   \n263  3.811989e+11  3.467098e+11  3.235855e+11  3.814488e+11  4.048421e+11   \n264  2.714102e+10  2.125122e+10  2.095841e+10  2.587360e+10  2.631159e+10   \n265  1.949552e+10  1.996312e+10  2.054868e+10  1.758489e+10  1.811554e+10   \n\n             2019          2020          2021  \n0    3.310056e+09  2.496648e+09           NaN  \n1    9.975340e+11  9.216459e+11  1.082096e+12  \n2    1.879945e+10  2.011614e+10           NaN  \n3    7.945430e+11  7.844457e+11  8.358084e+11  \n4    6.930910e+10  5.361907e+10  7.254699e+10  \n..            ...           ...           ...  \n261  7.899879e+09  7.716925e+09  9.007159e+09  \n262  2.188761e+10  1.884051e+10  2.106169e+10  \n263  3.879346e+11  3.354421e+11  4.199464e+11  \n264  2.330867e+10  1.811063e+10  2.120306e+10  \n265  1.928429e+10  1.805117e+10  2.621773e+10  \n\n[266 rows x 66 columns]",
      "text/html": "<div>\n<style scoped>\n    .dataframe tbody tr th:only-of-type {\n        vertical-align: middle;\n    }\n\n    .dataframe tbody tr th {\n        vertical-align: top;\n    }\n\n    .dataframe thead th {\n        text-align: right;\n    }\n</style>\n<table border=\"1\" class=\"dataframe\">\n  <thead>\n    <tr style=\"text-align: right;\">\n      <th></th>\n      <th>Country</th>\n      <th>Country ISO3</th>\n      <th>Indicator Name</th>\n      <th>Indicator Code</th>\n      <th>1960</th>\n      <th>1961</th>\n      <th>1962</th>\n      <th>1963</th>\n      <th>1964</th>\n      <th>1965</th>\n      <th>...</th>\n      <th>2012</th>\n      <th>2013</th>\n      <th>2014</th>\n      <th>2015</th>\n      <th>2016</th>\n      <th>2017</th>\n      <th>2018</th>\n      <th>2019</th>\n      <th>2020</th>\n      <th>2021</th>\n    </tr>\n  </thead>\n  <tbody>\n    <tr>\n      <th>0</th>\n      <td>Aruba</td>\n      <td>ABW</td>\n      <td>GDP (current US$)</td>\n      <td>NY.GDP.MKTP.CD</td>\n      <td>NaN</td>\n      <td>NaN</td>\n      <td>NaN</td>\n      <td>NaN</td>\n      <td>NaN</td>\n      <td>NaN</td>\n      <td>...</td>\n      <td>2.615084e+09</td>\n      <td>2.727933e+09</td>\n      <td>2.791061e+09</td>\n      <td>2.963128e+09</td>\n      <td>2.983799e+09</td>\n      <td>3.092179e+09</td>\n      <td>3.202235e+09</td>\n      <td>3.310056e+09</td>\n      <td>2.496648e+09</td>\n      <td>NaN</td>\n    </tr>\n    <tr>\n      <th>1</th>\n      <td>Africa Eastern and Southern</td>\n      <td>AFE</td>\n      <td>GDP (current US$)</td>\n      <td>NY.GDP.MKTP.CD</td>\n      <td>2.129059e+10</td>\n      <td>2.180847e+10</td>\n      <td>2.370702e+10</td>\n      <td>2.821004e+10</td>\n      <td>2.611879e+10</td>\n      <td>2.968217e+10</td>\n      <td>...</td>\n      <td>9.730435e+11</td>\n      <td>9.839370e+11</td>\n      <td>1.003679e+12</td>\n      <td>9.242525e+11</td>\n      <td>8.823551e+11</td>\n      <td>1.020647e+12</td>\n      <td>9.910223e+11</td>\n      <td>9.975340e+11</td>\n      <td>9.216459e+11</td>\n      <td>1.082096e+12</td>\n    </tr>\n    <tr>\n      <th>2</th>\n      <td>Afghanistan</td>\n      <td>AFG</td>\n      <td>GDP (current US$)</td>\n      <td>NY.GDP.MKTP.CD</td>\n      <td>5.377778e+08</td>\n      <td>5.488889e+08</td>\n      <td>5.466667e+08</td>\n      <td>7.511112e+08</td>\n      <td>8.000000e+08</td>\n      <td>1.006667e+09</td>\n      <td>...</td>\n      <td>1.990732e+10</td>\n      <td>2.014640e+10</td>\n      <td>2.049713e+10</td>\n      <td>1.913421e+10</td>\n      <td>1.811656e+10</td>\n      <td>1.875347e+10</td>\n      <td>1.805323e+10</td>\n      <td>1.879945e+10</td>\n      <td>2.011614e+10</td>\n      <td>NaN</td>\n    </tr>\n    <tr>\n      <th>3</th>\n      <td>Africa Western and Central</td>\n      <td>AFW</td>\n      <td>GDP (current US$)</td>\n      <td>NY.GDP.MKTP.CD</td>\n      <td>1.040414e+10</td>\n      <td>1.112789e+10</td>\n      <td>1.194319e+10</td>\n      <td>1.267633e+10</td>\n      <td>1.383837e+10</td>\n      <td>1.486223e+10</td>\n      <td>...</td>\n      <td>7.275704e+11</td>\n      <td>8.207927e+11</td>\n      <td>8.649905e+11</td>\n      <td>7.607345e+11</td>\n      <td>6.905464e+11</td>\n      <td>6.837487e+11</td>\n      <td>7.416899e+11</td>\n      <td>7.945430e+11</td>\n      <td>7.844457e+11</td>\n      <td>8.358084e+11</td>\n    </tr>\n    <tr>\n      <th>4</th>\n      <td>Angola</td>\n      <td>AGO</td>\n      <td>GDP (current US$)</td>\n      <td>NY.GDP.MKTP.CD</td>\n      <td>NaN</td>\n      <td>NaN</td>\n      <td>NaN</td>\n      <td>NaN</td>\n      <td>NaN</td>\n      <td>NaN</td>\n      <td>...</td>\n      <td>1.249982e+11</td>\n      <td>1.334016e+11</td>\n      <td>1.372444e+11</td>\n      <td>8.721929e+10</td>\n      <td>4.984049e+10</td>\n      <td>6.897276e+10</td>\n      <td>7.779294e+10</td>\n      <td>6.930910e+10</td>\n      <td>5.361907e+10</td>\n      <td>7.254699e+10</td>\n    </tr>\n    <tr>\n      <th>...</th>\n      <td>...</td>\n      <td>...</td>\n      <td>...</td>\n      <td>...</td>\n      <td>...</td>\n      <td>...</td>\n      <td>...</td>\n      <td>...</td>\n      <td>...</td>\n      <td>...</td>\n      <td>...</td>\n      <td>...</td>\n      <td>...</td>\n      <td>...</td>\n      <td>...</td>\n      <td>...</td>\n      <td>...</td>\n      <td>...</td>\n      <td>...</td>\n      <td>...</td>\n      <td>...</td>\n    </tr>\n    <tr>\n      <th>261</th>\n      <td>Kosovo</td>\n      <td>XKX</td>\n      <td>GDP (current US$)</td>\n      <td>NY.GDP.MKTP.CD</td>\n      <td>NaN</td>\n      <td>NaN</td>\n      <td>NaN</td>\n      <td>NaN</td>\n      <td>NaN</td>\n      <td>NaN</td>\n      <td>...</td>\n      <td>6.163785e+09</td>\n      <td>6.735731e+09</td>\n      <td>7.074658e+09</td>\n      <td>6.295820e+09</td>\n      <td>6.682833e+09</td>\n      <td>7.180813e+09</td>\n      <td>7.878509e+09</td>\n      <td>7.899879e+09</td>\n      <td>7.716925e+09</td>\n      <td>9.007159e+09</td>\n    </tr>\n    <tr>\n      <th>262</th>\n      <td>Yemen</td>\n      <td>YEM</td>\n      <td>GDP (current US$)</td>\n      <td>NY.GDP.MKTP.CD</td>\n      <td>NaN</td>\n      <td>NaN</td>\n      <td>NaN</td>\n      <td>NaN</td>\n      <td>NaN</td>\n      <td>NaN</td>\n      <td>...</td>\n      <td>3.540134e+10</td>\n      <td>4.041524e+10</td>\n      <td>4.322859e+10</td>\n      <td>4.244450e+10</td>\n      <td>3.131783e+10</td>\n      <td>2.684223e+10</td>\n      <td>2.160616e+10</td>\n      <td>2.188761e+10</td>\n      <td>1.884051e+10</td>\n      <td>2.106169e+10</td>\n    </tr>\n    <tr>\n      <th>263</th>\n      <td>South Africa</td>\n      <td>ZAF</td>\n      <td>GDP (current US$)</td>\n      <td>NY.GDP.MKTP.CD</td>\n      <td>8.748597e+09</td>\n      <td>9.225996e+09</td>\n      <td>9.813996e+09</td>\n      <td>1.085420e+10</td>\n      <td>1.195600e+10</td>\n      <td>1.306899e+10</td>\n      <td>...</td>\n      <td>4.344005e+11</td>\n      <td>4.008860e+11</td>\n      <td>3.811989e+11</td>\n      <td>3.467098e+11</td>\n      <td>3.235855e+11</td>\n      <td>3.814488e+11</td>\n      <td>4.048421e+11</td>\n      <td>3.879346e+11</td>\n      <td>3.354421e+11</td>\n      <td>4.199464e+11</td>\n    </tr>\n    <tr>\n      <th>264</th>\n      <td>Zambia</td>\n      <td>ZMB</td>\n      <td>GDP (current US$)</td>\n      <td>NY.GDP.MKTP.CD</td>\n      <td>7.130000e+08</td>\n      <td>6.962857e+08</td>\n      <td>6.931429e+08</td>\n      <td>7.187143e+08</td>\n      <td>8.394286e+08</td>\n      <td>1.082857e+09</td>\n      <td>...</td>\n      <td>2.550306e+10</td>\n      <td>2.803724e+10</td>\n      <td>2.714102e+10</td>\n      <td>2.125122e+10</td>\n      <td>2.095841e+10</td>\n      <td>2.587360e+10</td>\n      <td>2.631159e+10</td>\n      <td>2.330867e+10</td>\n      <td>1.811063e+10</td>\n      <td>2.120306e+10</td>\n    </tr>\n    <tr>\n      <th>265</th>\n      <td>Zimbabwe</td>\n      <td>ZWE</td>\n      <td>GDP (current US$)</td>\n      <td>NY.GDP.MKTP.CD</td>\n      <td>1.052990e+09</td>\n      <td>1.096647e+09</td>\n      <td>1.117602e+09</td>\n      <td>1.159512e+09</td>\n      <td>1.217138e+09</td>\n      <td>1.311436e+09</td>\n      <td>...</td>\n      <td>1.711485e+10</td>\n      <td>1.909102e+10</td>\n      <td>1.949552e+10</td>\n      <td>1.996312e+10</td>\n      <td>2.054868e+10</td>\n      <td>1.758489e+10</td>\n      <td>1.811554e+10</td>\n      <td>1.928429e+10</td>\n      <td>1.805117e+10</td>\n      <td>2.621773e+10</td>\n    </tr>\n  </tbody>\n</table>\n<p>266 rows × 66 columns</p>\n</div>"
     },
     "execution_count": 72,
     "metadata": {},
     "output_type": "execute_result"
    }
   ],
   "source": [
    "df_gdp = pd.read_csv('../data/GDP_by_country.csv', sep=\",\")\n",
    "df_gdp"
   ],
   "metadata": {
    "collapsed": false,
    "pycharm": {
     "name": "#%%\n"
    }
   }
  },
  {
   "cell_type": "code",
   "execution_count": 36,
   "outputs": [],
   "source": [
    "df_mention = pd.read_pickle(\"../data/dataframes/mentions/df_mention_sdg_world.pkl\")\n",
    "df_mention\n",
    "\n",
    "def rename_countries_to_plot(country):\n",
    "    dic_countries_to_rename = {\"Palestine\": \"Palestinian Territory\",\n",
    "                               \"Cote d'Ivoire\": \"Ivory Coast\",\n",
    "                               \"Congo[DRC]\": \"Democratic Republic of the Congo\",\n",
    "                               \"Congo [DRC]\": \"Democratic Republic of the Congo\",\n",
    "                               \"Congo, Dem.Rep.\": \"Democratic Republic of the Congo\",\n",
    "                               \"Eswatini\": \"Swaziland\",\n",
    "                               \"Guinea Bissau\": \"Guinea-Bissau\",\n",
    "                               \"Timor-Leste\": \"East Timor\",\n",
    "                               \"South Korea\": \"South Korea\"\n",
    "                               }\n",
    "    if country in dic_countries_to_rename:\n",
    "        return dic_countries_to_rename[country]\n",
    "    else:\n",
    "        return country\n",
    "df_mention.loc[:, \"Country\"] = df_mention.loc[:, \"Country\"].apply(lambda x: rename_countries_to_plot(x))"
   ],
   "metadata": {
    "collapsed": false,
    "pycharm": {
     "name": "#%%\n"
    }
   }
  },
  {
   "cell_type": "code",
   "execution_count": 40,
   "outputs": [
    {
     "data": {
      "text/plain": "    ISO 3166                 country Country ISO-3                 Country  \\\n0         BD              Bangladesh           BGD              Bangladesh   \n1         BE                 Belgium           BEL                 Belgium   \n2         BF            Burkina Faso           BFA            Burkina Faso   \n3         BG                Bulgaria           BGR                Bulgaria   \n4         BA  Bosnia and Herzegovina           BIH  Bosnia and Herzegovina   \n..       ...                     ...           ...                     ...   \n209       IE                 Ireland           IRL                 Ireland   \n210       ID               Indonesia           IDN               Indonesia   \n211       UA                 Ukraine           UKR                 Ukraine   \n212       QA                   Qatar           QAT                   Qatar   \n213       MZ              Mozambique           MOZ              Mozambique   \n\n     total_mention  Unnamed: 0 Country ISO3  Country Code  \\\n0            17076          17          BGD            50   \n1            48013          20          BEL            56   \n2             2126          38          BFA           854   \n3             5158          36          BGR           100   \n4             1652          28          BIH            70   \n..             ...         ...          ...           ...   \n209          21673         117          IRL           372   \n210          34638         114          IDN           360   \n211          11907         254          UKR           804   \n212           5355         197          QAT           634   \n213           1537         163          MOZ           508   \n\n                           Long Name          Income Group Lending Category  \\\n0    People's Republic of Bangladesh   Lower middle income              IDA   \n1                 Kingdom of Belgium     High income: OECD              NaN   \n2                       Burkina Faso            Low income              IDA   \n3               Republic of Bulgaria   Upper middle income             IBRD   \n4             Bosnia and Herzegovina   Upper middle income             IBRD   \n..                               ...                   ...              ...   \n209                          Ireland     High income: OECD              NaN   \n210            Republic of Indonesia   Lower middle income             IBRD   \n211                          Ukraine   Lower middle income             IBRD   \n212                   State of Qatar  High income: nonOECD              NaN   \n213           Republic of Mozambique            Low income              IDA   \n\n                         Region                            Currency Unit  \\\n0                    South Asia                         Bangladeshi taka   \n1         Europe & Central Asia                                     Euro   \n2            Sub-Saharan Africa                                CFA franc   \n3         Europe & Central Asia                            Bulgarian lev   \n4         Europe & Central Asia  Bosnia and Herzegovina convertible mark   \n..                          ...                                      ...   \n209       Europe & Central Asia                                     Euro   \n210         East Asia & Pacific                        Indonesian rupiah   \n211       Europe & Central Asia                        Ukrainian hryvnia   \n212  Middle East & North Africa                             Qatari riyal   \n213          Sub-Saharan Africa                   New Mozambican metical   \n\n    Other Groups WTO Member   latitude   longitude  percentage  \n0            NaN        Yes  23.684994   90.356331        0.31  \n1      Euro area        Yes  50.503887    4.469936        0.86  \n2           HIPC        Yes  12.238333   -1.561593        0.04  \n3      Euro area        Yes  42.733883   25.485830        0.09  \n4            NaN         No  43.915886   17.679076        0.03  \n..           ...        ...        ...         ...         ...  \n209    Euro area        Yes  53.412910   -8.243890        0.39  \n210          NaN        Yes  -0.789275  113.921327        0.62  \n211          NaN        Yes  48.379433   31.165580        0.21  \n212          NaN        Yes  25.354826   51.183884        0.10  \n213         HIPC        Yes -18.665695   35.529562        0.03  \n\n[214 rows x 18 columns]",
      "text/html": "<div>\n<style scoped>\n    .dataframe tbody tr th:only-of-type {\n        vertical-align: middle;\n    }\n\n    .dataframe tbody tr th {\n        vertical-align: top;\n    }\n\n    .dataframe thead th {\n        text-align: right;\n    }\n</style>\n<table border=\"1\" class=\"dataframe\">\n  <thead>\n    <tr style=\"text-align: right;\">\n      <th></th>\n      <th>ISO 3166</th>\n      <th>country</th>\n      <th>Country ISO-3</th>\n      <th>Country</th>\n      <th>total_mention</th>\n      <th>Unnamed: 0</th>\n      <th>Country ISO3</th>\n      <th>Country Code</th>\n      <th>Long Name</th>\n      <th>Income Group</th>\n      <th>Lending Category</th>\n      <th>Region</th>\n      <th>Currency Unit</th>\n      <th>Other Groups</th>\n      <th>WTO Member</th>\n      <th>latitude</th>\n      <th>longitude</th>\n      <th>percentage</th>\n    </tr>\n  </thead>\n  <tbody>\n    <tr>\n      <th>0</th>\n      <td>BD</td>\n      <td>Bangladesh</td>\n      <td>BGD</td>\n      <td>Bangladesh</td>\n      <td>17076</td>\n      <td>17</td>\n      <td>BGD</td>\n      <td>50</td>\n      <td>People's Republic of Bangladesh</td>\n      <td>Lower middle income</td>\n      <td>IDA</td>\n      <td>South Asia</td>\n      <td>Bangladeshi taka</td>\n      <td>NaN</td>\n      <td>Yes</td>\n      <td>23.684994</td>\n      <td>90.356331</td>\n      <td>0.31</td>\n    </tr>\n    <tr>\n      <th>1</th>\n      <td>BE</td>\n      <td>Belgium</td>\n      <td>BEL</td>\n      <td>Belgium</td>\n      <td>48013</td>\n      <td>20</td>\n      <td>BEL</td>\n      <td>56</td>\n      <td>Kingdom of Belgium</td>\n      <td>High income: OECD</td>\n      <td>NaN</td>\n      <td>Europe &amp; Central Asia</td>\n      <td>Euro</td>\n      <td>Euro area</td>\n      <td>Yes</td>\n      <td>50.503887</td>\n      <td>4.469936</td>\n      <td>0.86</td>\n    </tr>\n    <tr>\n      <th>2</th>\n      <td>BF</td>\n      <td>Burkina Faso</td>\n      <td>BFA</td>\n      <td>Burkina Faso</td>\n      <td>2126</td>\n      <td>38</td>\n      <td>BFA</td>\n      <td>854</td>\n      <td>Burkina Faso</td>\n      <td>Low income</td>\n      <td>IDA</td>\n      <td>Sub-Saharan Africa</td>\n      <td>CFA franc</td>\n      <td>HIPC</td>\n      <td>Yes</td>\n      <td>12.238333</td>\n      <td>-1.561593</td>\n      <td>0.04</td>\n    </tr>\n    <tr>\n      <th>3</th>\n      <td>BG</td>\n      <td>Bulgaria</td>\n      <td>BGR</td>\n      <td>Bulgaria</td>\n      <td>5158</td>\n      <td>36</td>\n      <td>BGR</td>\n      <td>100</td>\n      <td>Republic of Bulgaria</td>\n      <td>Upper middle income</td>\n      <td>IBRD</td>\n      <td>Europe &amp; Central Asia</td>\n      <td>Bulgarian lev</td>\n      <td>Euro area</td>\n      <td>Yes</td>\n      <td>42.733883</td>\n      <td>25.485830</td>\n      <td>0.09</td>\n    </tr>\n    <tr>\n      <th>4</th>\n      <td>BA</td>\n      <td>Bosnia and Herzegovina</td>\n      <td>BIH</td>\n      <td>Bosnia and Herzegovina</td>\n      <td>1652</td>\n      <td>28</td>\n      <td>BIH</td>\n      <td>70</td>\n      <td>Bosnia and Herzegovina</td>\n      <td>Upper middle income</td>\n      <td>IBRD</td>\n      <td>Europe &amp; Central Asia</td>\n      <td>Bosnia and Herzegovina convertible mark</td>\n      <td>NaN</td>\n      <td>No</td>\n      <td>43.915886</td>\n      <td>17.679076</td>\n      <td>0.03</td>\n    </tr>\n    <tr>\n      <th>...</th>\n      <td>...</td>\n      <td>...</td>\n      <td>...</td>\n      <td>...</td>\n      <td>...</td>\n      <td>...</td>\n      <td>...</td>\n      <td>...</td>\n      <td>...</td>\n      <td>...</td>\n      <td>...</td>\n      <td>...</td>\n      <td>...</td>\n      <td>...</td>\n      <td>...</td>\n      <td>...</td>\n      <td>...</td>\n      <td>...</td>\n    </tr>\n    <tr>\n      <th>209</th>\n      <td>IE</td>\n      <td>Ireland</td>\n      <td>IRL</td>\n      <td>Ireland</td>\n      <td>21673</td>\n      <td>117</td>\n      <td>IRL</td>\n      <td>372</td>\n      <td>Ireland</td>\n      <td>High income: OECD</td>\n      <td>NaN</td>\n      <td>Europe &amp; Central Asia</td>\n      <td>Euro</td>\n      <td>Euro area</td>\n      <td>Yes</td>\n      <td>53.412910</td>\n      <td>-8.243890</td>\n      <td>0.39</td>\n    </tr>\n    <tr>\n      <th>210</th>\n      <td>ID</td>\n      <td>Indonesia</td>\n      <td>IDN</td>\n      <td>Indonesia</td>\n      <td>34638</td>\n      <td>114</td>\n      <td>IDN</td>\n      <td>360</td>\n      <td>Republic of Indonesia</td>\n      <td>Lower middle income</td>\n      <td>IBRD</td>\n      <td>East Asia &amp; Pacific</td>\n      <td>Indonesian rupiah</td>\n      <td>NaN</td>\n      <td>Yes</td>\n      <td>-0.789275</td>\n      <td>113.921327</td>\n      <td>0.62</td>\n    </tr>\n    <tr>\n      <th>211</th>\n      <td>UA</td>\n      <td>Ukraine</td>\n      <td>UKR</td>\n      <td>Ukraine</td>\n      <td>11907</td>\n      <td>254</td>\n      <td>UKR</td>\n      <td>804</td>\n      <td>Ukraine</td>\n      <td>Lower middle income</td>\n      <td>IBRD</td>\n      <td>Europe &amp; Central Asia</td>\n      <td>Ukrainian hryvnia</td>\n      <td>NaN</td>\n      <td>Yes</td>\n      <td>48.379433</td>\n      <td>31.165580</td>\n      <td>0.21</td>\n    </tr>\n    <tr>\n      <th>212</th>\n      <td>QA</td>\n      <td>Qatar</td>\n      <td>QAT</td>\n      <td>Qatar</td>\n      <td>5355</td>\n      <td>197</td>\n      <td>QAT</td>\n      <td>634</td>\n      <td>State of Qatar</td>\n      <td>High income: nonOECD</td>\n      <td>NaN</td>\n      <td>Middle East &amp; North Africa</td>\n      <td>Qatari riyal</td>\n      <td>NaN</td>\n      <td>Yes</td>\n      <td>25.354826</td>\n      <td>51.183884</td>\n      <td>0.10</td>\n    </tr>\n    <tr>\n      <th>213</th>\n      <td>MZ</td>\n      <td>Mozambique</td>\n      <td>MOZ</td>\n      <td>Mozambique</td>\n      <td>1537</td>\n      <td>163</td>\n      <td>MOZ</td>\n      <td>508</td>\n      <td>Republic of Mozambique</td>\n      <td>Low income</td>\n      <td>IDA</td>\n      <td>Sub-Saharan Africa</td>\n      <td>New Mozambican metical</td>\n      <td>HIPC</td>\n      <td>Yes</td>\n      <td>-18.665695</td>\n      <td>35.529562</td>\n      <td>0.03</td>\n    </tr>\n  </tbody>\n</table>\n<p>214 rows × 18 columns</p>\n</div>"
     },
     "execution_count": 40,
     "metadata": {},
     "output_type": "execute_result"
    }
   ],
   "source": [
    "a = df_plot.merge(df_mention, left_on='country', right_on='Country')\n",
    "a"
   ],
   "metadata": {
    "collapsed": false,
    "pycharm": {
     "name": "#%%\n"
    }
   }
  },
  {
   "cell_type": "code",
   "execution_count": 38,
   "outputs": [
    {
     "data": {
      "text/plain": "195    São Tomé and Príncipe\n197             Vatican City\n202     Netherlands Antilles\ndtype: object"
     },
     "execution_count": 38,
     "metadata": {},
     "output_type": "execute_result"
    }
   ],
   "source": [
    "tot = pd.concat([df_mention['Country'], a])\n",
    "tot.drop_duplicates(keep=False)"
   ],
   "metadata": {
    "collapsed": false,
    "pycharm": {
     "name": "#%%\n"
    }
   }
  },
  {
   "cell_type": "code",
   "execution_count": 42,
   "outputs": [
    {
     "data": {
      "application/vnd.plotly.v1+json": {
       "data": [
        {
         "autocolorscale": false,
         "colorscale": [
          [
           0.0,
           "rgb(247,251,255)"
          ],
          [
           0.125,
           "rgb(222,235,247)"
          ],
          [
           0.25,
           "rgb(198,219,239)"
          ],
          [
           0.375,
           "rgb(158,202,225)"
          ],
          [
           0.5,
           "rgb(107,174,214)"
          ],
          [
           0.625,
           "rgb(66,146,198)"
          ],
          [
           0.75,
           "rgb(33,113,181)"
          ],
          [
           0.875,
           "rgb(8,81,156)"
          ],
          [
           1.0,
           "rgb(8,48,107)"
          ]
         ],
         "locationmode": "country names",
         "locations": [
          "Bangladesh",
          "Belgium",
          "Burkina Faso",
          "Bulgaria",
          "Bosnia and Herzegovina",
          "Barbados",
          "Bermuda",
          "Brunei",
          "Bolivia",
          "Bahrain",
          "Burundi",
          "Benin",
          "Bhutan",
          "Jamaica",
          "Botswana",
          "Samoa",
          "Brazil",
          "Bahamas",
          "Belarus",
          "Belize",
          "Russia",
          "Rwanda",
          "Serbia",
          "East Timor",
          "Turkmenistan",
          "Tajikistan",
          "Romania",
          "Guinea-Bissau",
          "Guatemala",
          "Greece",
          "Equatorial Guinea",
          "Japan",
          "Guyana",
          "French Guiana",
          "Georgia",
          "Grenada",
          "United Kingdom",
          "Gabon",
          "El Salvador",
          "Guinea",
          "Gambia",
          "Greenland",
          "Gibraltar",
          "Ghana",
          "Oman",
          "Tunisia",
          "Jordan",
          "Croatia",
          "Haiti",
          "Hungary",
          "Honduras",
          "Venezuela",
          "Palestinian Territory",
          "Palau",
          "Portugal",
          "Paraguay",
          "Iraq",
          "Panama",
          "Papua New Guinea",
          "Peru",
          "Pakistan",
          "Philippines",
          "Poland",
          "Zambia",
          "Estonia",
          "Egypt",
          "South Africa",
          "Ecuador",
          "Italy",
          "Vietnam",
          "Solomon Islands",
          "Ethiopia",
          "Somalia",
          "Zimbabwe",
          "Saudi Arabia",
          "Spain",
          "Eritrea",
          "Montenegro",
          "Moldova",
          "Madagascar",
          "Morocco",
          "Monaco",
          "Uzbekistan",
          "Myanmar",
          "Mali",
          "Mongolia",
          "Marshall Islands",
          "Macedonia",
          "Mauritius",
          "Malta",
          "Malawi",
          "Maldives",
          "Montserrat",
          "Mauritania",
          "Uganda",
          "Tanzania",
          "Malaysia",
          "Mexico",
          "Israel",
          "France",
          "British Indian Ocean Territory",
          "Saint Helena",
          "Finland",
          "Fiji",
          "Falkland Islands",
          "Micronesia",
          "Faroe Islands",
          "Nicaragua",
          "Netherlands",
          "Norway",
          "Namibia",
          "Vanuatu",
          "New Caledonia",
          "Niger",
          "Nigeria",
          "New Zealand",
          "Nepal",
          "Nauru",
          "Niue",
          "Cook Islands",
          "Kosovo",
          "Ivory Coast",
          "Switzerland",
          "Colombia",
          "China",
          "Cameroon",
          "Chile",
          "Canada",
          "Central African Republic",
          "Democratic Republic of the Congo",
          "Czech Republic",
          "Cyprus",
          "Costa Rica",
          "Curacao",
          "Cape Verde",
          "Cuba",
          "Swaziland",
          "Swaziland",
          "Syria",
          "Sint Maarten",
          "Kyrgyzstan",
          "Kenya",
          "South Sudan",
          "Suriname",
          "Kiribati",
          "Cambodia",
          "Saint Kitts and Nevis",
          "Comoros",
          "Slovakia",
          "South Korea",
          "Slovenia",
          "North Korea",
          "Kuwait",
          "Senegal",
          "San Marino",
          "Sierra Leone",
          "Seychelles",
          "Kazakhstan",
          "Cayman Islands",
          "Singapore",
          "Sweden",
          "Sudan",
          "Dominican Republic",
          "Dominica",
          "Djibouti",
          "Denmark",
          "British Virgin Islands",
          "Germany",
          "Yemen",
          "Algeria",
          "United States",
          "Uruguay",
          "Lebanon",
          "Saint Lucia",
          "Laos",
          "Tuvalu",
          "Taiwan",
          "Trinidad and Tobago",
          "Turkey",
          "Sri Lanka",
          "Liechtenstein",
          "Latvia",
          "Tonga",
          "Lithuania",
          "Luxembourg",
          "Liberia",
          "Lesotho",
          "Thailand",
          "Togo",
          "Chad",
          "Turks and Caicos Islands",
          "Libya",
          "Saint Vincent and the Grenadines",
          "United Arab Emirates",
          "Andorra",
          "Antigua and Barbuda",
          "Afghanistan",
          "Anguilla",
          "Iceland",
          "Iran",
          "Armenia",
          "Albania",
          "Angola",
          "Argentina",
          "Australia",
          "Austria",
          "Aruba",
          "India",
          "Azerbaijan",
          "Ireland",
          "Indonesia",
          "Ukraine",
          "Qatar",
          "Mozambique"
         ],
         "z": [
          17076,
          48013,
          2126,
          5158,
          1652,
          489,
          224,
          849,
          1166,
          631,
          206,
          1898,
          362,
          896,
          1713,
          131,
          167254,
          291,
          551,
          155,
          48338,
          1657,
          13559,
          104,
          8,
          202,
          36510,
          144,
          795,
          39405,
          22,
          110726,
          210,
          491,
          1011,
          115,
          279394,
          559,
          225,
          372,
          363,
          609,
          51,
          10872,
          2918,
          12232,
          5247,
          13875,
          370,
          14483,
          331,
          1732,
          1008,
          136,
          67138,
          331,
          3495,
          1825,
          583,
          6935,
          42653,
          10248,
          55534,
          2042,
          6845,
          23031,
          59925,
          6301,
          228257,
          15658,
          266,
          14746,
          120,
          3009,
          29598,
          192200,
          123,
          777,
          522,
          1610,
          10439,
          712,
          611,
          951,
          889,
          973,
          48,
          1163,
          869,
          1133,
          2889,
          235,
          14,
          179,
          7153,
          6618,
          61178,
          49304,
          21032,
          151425,
          1,
          67,
          39043,
          1318,
          165,
          67,
          29,
          409,
          88007,
          46283,
          901,
          171,
          1432,
          569,
          22553,
          30344,
          6413,
          6,
          3,
          51,
          494,
          1584,
          53399,
          15801,
          908048,
          4348,
          26559,
          169566,
          112,
          2126,
          29061,
          4363,
          2882,
          38,
          194,
          1988,
          165,
          123,
          623,
          13,
          399,
          14352,
          49,
          143,
          46,
          1422,
          72,
          44,
          11323,
          91674,
          8191,
          118,
          2491,
          2231,
          21,
          713,
          358,
          3425,
          55,
          22528,
          63831,
          1135,
          314,
          19,
          61,
          41266,
          17,
          195309,
          496,
          7224,
          909183,
          3244,
          4715,
          21,
          836,
          7,
          49655,
          806,
          56611,
          4577,
          50,
          5450,
          72,
          8982,
          2232,
          278,
          168,
          22894,
          437,
          96,
          34,
          705,
          11,
          8339,
          71,
          26,
          432,
          14,
          3091,
          72997,
          531,
          1169,
          202,
          25359,
          217674,
          29674,
          32,
          197658,
          644,
          21673,
          34638,
          11907,
          5355,
          1537
         ],
         "type": "choropleth"
        }
       ],
       "layout": {
        "template": {
         "data": {
          "barpolar": [
           {
            "marker": {
             "line": {
              "color": "#E5ECF6",
              "width": 0.5
             },
             "pattern": {
              "fillmode": "overlay",
              "size": 10,
              "solidity": 0.2
             }
            },
            "type": "barpolar"
           }
          ],
          "bar": [
           {
            "error_x": {
             "color": "#2a3f5f"
            },
            "error_y": {
             "color": "#2a3f5f"
            },
            "marker": {
             "line": {
              "color": "#E5ECF6",
              "width": 0.5
             },
             "pattern": {
              "fillmode": "overlay",
              "size": 10,
              "solidity": 0.2
             }
            },
            "type": "bar"
           }
          ],
          "carpet": [
           {
            "aaxis": {
             "endlinecolor": "#2a3f5f",
             "gridcolor": "white",
             "linecolor": "white",
             "minorgridcolor": "white",
             "startlinecolor": "#2a3f5f"
            },
            "baxis": {
             "endlinecolor": "#2a3f5f",
             "gridcolor": "white",
             "linecolor": "white",
             "minorgridcolor": "white",
             "startlinecolor": "#2a3f5f"
            },
            "type": "carpet"
           }
          ],
          "choropleth": [
           {
            "colorbar": {
             "outlinewidth": 0,
             "ticks": ""
            },
            "type": "choropleth"
           }
          ],
          "contourcarpet": [
           {
            "colorbar": {
             "outlinewidth": 0,
             "ticks": ""
            },
            "type": "contourcarpet"
           }
          ],
          "contour": [
           {
            "colorbar": {
             "outlinewidth": 0,
             "ticks": ""
            },
            "colorscale": [
             [
              0.0,
              "#0d0887"
             ],
             [
              0.1111111111111111,
              "#46039f"
             ],
             [
              0.2222222222222222,
              "#7201a8"
             ],
             [
              0.3333333333333333,
              "#9c179e"
             ],
             [
              0.4444444444444444,
              "#bd3786"
             ],
             [
              0.5555555555555556,
              "#d8576b"
             ],
             [
              0.6666666666666666,
              "#ed7953"
             ],
             [
              0.7777777777777778,
              "#fb9f3a"
             ],
             [
              0.8888888888888888,
              "#fdca26"
             ],
             [
              1.0,
              "#f0f921"
             ]
            ],
            "type": "contour"
           }
          ],
          "heatmapgl": [
           {
            "colorbar": {
             "outlinewidth": 0,
             "ticks": ""
            },
            "colorscale": [
             [
              0.0,
              "#0d0887"
             ],
             [
              0.1111111111111111,
              "#46039f"
             ],
             [
              0.2222222222222222,
              "#7201a8"
             ],
             [
              0.3333333333333333,
              "#9c179e"
             ],
             [
              0.4444444444444444,
              "#bd3786"
             ],
             [
              0.5555555555555556,
              "#d8576b"
             ],
             [
              0.6666666666666666,
              "#ed7953"
             ],
             [
              0.7777777777777778,
              "#fb9f3a"
             ],
             [
              0.8888888888888888,
              "#fdca26"
             ],
             [
              1.0,
              "#f0f921"
             ]
            ],
            "type": "heatmapgl"
           }
          ],
          "heatmap": [
           {
            "colorbar": {
             "outlinewidth": 0,
             "ticks": ""
            },
            "colorscale": [
             [
              0.0,
              "#0d0887"
             ],
             [
              0.1111111111111111,
              "#46039f"
             ],
             [
              0.2222222222222222,
              "#7201a8"
             ],
             [
              0.3333333333333333,
              "#9c179e"
             ],
             [
              0.4444444444444444,
              "#bd3786"
             ],
             [
              0.5555555555555556,
              "#d8576b"
             ],
             [
              0.6666666666666666,
              "#ed7953"
             ],
             [
              0.7777777777777778,
              "#fb9f3a"
             ],
             [
              0.8888888888888888,
              "#fdca26"
             ],
             [
              1.0,
              "#f0f921"
             ]
            ],
            "type": "heatmap"
           }
          ],
          "histogram2dcontour": [
           {
            "colorbar": {
             "outlinewidth": 0,
             "ticks": ""
            },
            "colorscale": [
             [
              0.0,
              "#0d0887"
             ],
             [
              0.1111111111111111,
              "#46039f"
             ],
             [
              0.2222222222222222,
              "#7201a8"
             ],
             [
              0.3333333333333333,
              "#9c179e"
             ],
             [
              0.4444444444444444,
              "#bd3786"
             ],
             [
              0.5555555555555556,
              "#d8576b"
             ],
             [
              0.6666666666666666,
              "#ed7953"
             ],
             [
              0.7777777777777778,
              "#fb9f3a"
             ],
             [
              0.8888888888888888,
              "#fdca26"
             ],
             [
              1.0,
              "#f0f921"
             ]
            ],
            "type": "histogram2dcontour"
           }
          ],
          "histogram2d": [
           {
            "colorbar": {
             "outlinewidth": 0,
             "ticks": ""
            },
            "colorscale": [
             [
              0.0,
              "#0d0887"
             ],
             [
              0.1111111111111111,
              "#46039f"
             ],
             [
              0.2222222222222222,
              "#7201a8"
             ],
             [
              0.3333333333333333,
              "#9c179e"
             ],
             [
              0.4444444444444444,
              "#bd3786"
             ],
             [
              0.5555555555555556,
              "#d8576b"
             ],
             [
              0.6666666666666666,
              "#ed7953"
             ],
             [
              0.7777777777777778,
              "#fb9f3a"
             ],
             [
              0.8888888888888888,
              "#fdca26"
             ],
             [
              1.0,
              "#f0f921"
             ]
            ],
            "type": "histogram2d"
           }
          ],
          "histogram": [
           {
            "marker": {
             "pattern": {
              "fillmode": "overlay",
              "size": 10,
              "solidity": 0.2
             }
            },
            "type": "histogram"
           }
          ],
          "mesh3d": [
           {
            "colorbar": {
             "outlinewidth": 0,
             "ticks": ""
            },
            "type": "mesh3d"
           }
          ],
          "parcoords": [
           {
            "line": {
             "colorbar": {
              "outlinewidth": 0,
              "ticks": ""
             }
            },
            "type": "parcoords"
           }
          ],
          "pie": [
           {
            "automargin": true,
            "type": "pie"
           }
          ],
          "scatter3d": [
           {
            "line": {
             "colorbar": {
              "outlinewidth": 0,
              "ticks": ""
             }
            },
            "marker": {
             "colorbar": {
              "outlinewidth": 0,
              "ticks": ""
             }
            },
            "type": "scatter3d"
           }
          ],
          "scattercarpet": [
           {
            "marker": {
             "colorbar": {
              "outlinewidth": 0,
              "ticks": ""
             }
            },
            "type": "scattercarpet"
           }
          ],
          "scattergeo": [
           {
            "marker": {
             "colorbar": {
              "outlinewidth": 0,
              "ticks": ""
             }
            },
            "type": "scattergeo"
           }
          ],
          "scattergl": [
           {
            "marker": {
             "colorbar": {
              "outlinewidth": 0,
              "ticks": ""
             }
            },
            "type": "scattergl"
           }
          ],
          "scattermapbox": [
           {
            "marker": {
             "colorbar": {
              "outlinewidth": 0,
              "ticks": ""
             }
            },
            "type": "scattermapbox"
           }
          ],
          "scatterpolargl": [
           {
            "marker": {
             "colorbar": {
              "outlinewidth": 0,
              "ticks": ""
             }
            },
            "type": "scatterpolargl"
           }
          ],
          "scatterpolar": [
           {
            "marker": {
             "colorbar": {
              "outlinewidth": 0,
              "ticks": ""
             }
            },
            "type": "scatterpolar"
           }
          ],
          "scatter": [
           {
            "fillpattern": {
             "fillmode": "overlay",
             "size": 10,
             "solidity": 0.2
            },
            "type": "scatter"
           }
          ],
          "scatterternary": [
           {
            "marker": {
             "colorbar": {
              "outlinewidth": 0,
              "ticks": ""
             }
            },
            "type": "scatterternary"
           }
          ],
          "surface": [
           {
            "colorbar": {
             "outlinewidth": 0,
             "ticks": ""
            },
            "colorscale": [
             [
              0.0,
              "#0d0887"
             ],
             [
              0.1111111111111111,
              "#46039f"
             ],
             [
              0.2222222222222222,
              "#7201a8"
             ],
             [
              0.3333333333333333,
              "#9c179e"
             ],
             [
              0.4444444444444444,
              "#bd3786"
             ],
             [
              0.5555555555555556,
              "#d8576b"
             ],
             [
              0.6666666666666666,
              "#ed7953"
             ],
             [
              0.7777777777777778,
              "#fb9f3a"
             ],
             [
              0.8888888888888888,
              "#fdca26"
             ],
             [
              1.0,
              "#f0f921"
             ]
            ],
            "type": "surface"
           }
          ],
          "table": [
           {
            "cells": {
             "fill": {
              "color": "#EBF0F8"
             },
             "line": {
              "color": "white"
             }
            },
            "header": {
             "fill": {
              "color": "#C8D4E3"
             },
             "line": {
              "color": "white"
             }
            },
            "type": "table"
           }
          ]
         },
         "layout": {
          "annotationdefaults": {
           "arrowcolor": "#2a3f5f",
           "arrowhead": 0,
           "arrowwidth": 1
          },
          "autotypenumbers": "strict",
          "coloraxis": {
           "colorbar": {
            "outlinewidth": 0,
            "ticks": ""
           }
          },
          "colorscale": {
           "diverging": [
            [
             0,
             "#8e0152"
            ],
            [
             0.1,
             "#c51b7d"
            ],
            [
             0.2,
             "#de77ae"
            ],
            [
             0.3,
             "#f1b6da"
            ],
            [
             0.4,
             "#fde0ef"
            ],
            [
             0.5,
             "#f7f7f7"
            ],
            [
             0.6,
             "#e6f5d0"
            ],
            [
             0.7,
             "#b8e186"
            ],
            [
             0.8,
             "#7fbc41"
            ],
            [
             0.9,
             "#4d9221"
            ],
            [
             1,
             "#276419"
            ]
           ],
           "sequential": [
            [
             0.0,
             "#0d0887"
            ],
            [
             0.1111111111111111,
             "#46039f"
            ],
            [
             0.2222222222222222,
             "#7201a8"
            ],
            [
             0.3333333333333333,
             "#9c179e"
            ],
            [
             0.4444444444444444,
             "#bd3786"
            ],
            [
             0.5555555555555556,
             "#d8576b"
            ],
            [
             0.6666666666666666,
             "#ed7953"
            ],
            [
             0.7777777777777778,
             "#fb9f3a"
            ],
            [
             0.8888888888888888,
             "#fdca26"
            ],
            [
             1.0,
             "#f0f921"
            ]
           ],
           "sequentialminus": [
            [
             0.0,
             "#0d0887"
            ],
            [
             0.1111111111111111,
             "#46039f"
            ],
            [
             0.2222222222222222,
             "#7201a8"
            ],
            [
             0.3333333333333333,
             "#9c179e"
            ],
            [
             0.4444444444444444,
             "#bd3786"
            ],
            [
             0.5555555555555556,
             "#d8576b"
            ],
            [
             0.6666666666666666,
             "#ed7953"
            ],
            [
             0.7777777777777778,
             "#fb9f3a"
            ],
            [
             0.8888888888888888,
             "#fdca26"
            ],
            [
             1.0,
             "#f0f921"
            ]
           ]
          },
          "colorway": [
           "#636efa",
           "#EF553B",
           "#00cc96",
           "#ab63fa",
           "#FFA15A",
           "#19d3f3",
           "#FF6692",
           "#B6E880",
           "#FF97FF",
           "#FECB52"
          ],
          "font": {
           "color": "#2a3f5f"
          },
          "geo": {
           "bgcolor": "white",
           "lakecolor": "white",
           "landcolor": "#E5ECF6",
           "showlakes": true,
           "showland": true,
           "subunitcolor": "white"
          },
          "hoverlabel": {
           "align": "left"
          },
          "hovermode": "closest",
          "mapbox": {
           "style": "light"
          },
          "paper_bgcolor": "white",
          "plot_bgcolor": "#E5ECF6",
          "polar": {
           "angularaxis": {
            "gridcolor": "white",
            "linecolor": "white",
            "ticks": ""
           },
           "bgcolor": "#E5ECF6",
           "radialaxis": {
            "gridcolor": "white",
            "linecolor": "white",
            "ticks": ""
           }
          },
          "scene": {
           "xaxis": {
            "backgroundcolor": "#E5ECF6",
            "gridcolor": "white",
            "gridwidth": 2,
            "linecolor": "white",
            "showbackground": true,
            "ticks": "",
            "zerolinecolor": "white"
           },
           "yaxis": {
            "backgroundcolor": "#E5ECF6",
            "gridcolor": "white",
            "gridwidth": 2,
            "linecolor": "white",
            "showbackground": true,
            "ticks": "",
            "zerolinecolor": "white"
           },
           "zaxis": {
            "backgroundcolor": "#E5ECF6",
            "gridcolor": "white",
            "gridwidth": 2,
            "linecolor": "white",
            "showbackground": true,
            "ticks": "",
            "zerolinecolor": "white"
           }
          },
          "shapedefaults": {
           "line": {
            "color": "#2a3f5f"
           }
          },
          "ternary": {
           "aaxis": {
            "gridcolor": "white",
            "linecolor": "white",
            "ticks": ""
           },
           "baxis": {
            "gridcolor": "white",
            "linecolor": "white",
            "ticks": ""
           },
           "bgcolor": "#E5ECF6",
           "caxis": {
            "gridcolor": "white",
            "linecolor": "white",
            "ticks": ""
           }
          },
          "title": {
           "x": 0.05
          },
          "xaxis": {
           "automargin": true,
           "gridcolor": "white",
           "linecolor": "white",
           "ticks": "",
           "title": {
            "standoff": 15
           },
           "zerolinecolor": "white",
           "zerolinewidth": 2
          },
          "yaxis": {
           "automargin": true,
           "gridcolor": "white",
           "linecolor": "white",
           "ticks": "",
           "title": {
            "standoff": 15
           },
           "zerolinecolor": "white",
           "zerolinewidth": 2
          }
         }
        },
        "title": {
         "font": {
          "size": 30
         },
         "text": "<b>title</b>"
        },
        "showlegend": true,
        "geo": {
         "center": {
          "lat": 10,
          "lon": 0
         },
         "landcolor": "lightgray",
         "projection": {
          "scale": 1.1,
          "type": "kavrayskiy7"
         },
         "scope": "world",
         "showcountries": true,
         "showland": true
        }
       },
       "config": {
        "plotlyServerURL": "https://plot.ly"
       }
      },
      "text/html": "<div>                            <div id=\"8ee0a86f-f2b7-4875-bcd7-3cb53b5de5d0\" class=\"plotly-graph-div\" style=\"height:525px; width:100%;\"></div>            <script type=\"text/javascript\">                require([\"plotly\"], function(Plotly) {                    window.PLOTLYENV=window.PLOTLYENV || {};                                    if (document.getElementById(\"8ee0a86f-f2b7-4875-bcd7-3cb53b5de5d0\")) {                    Plotly.newPlot(                        \"8ee0a86f-f2b7-4875-bcd7-3cb53b5de5d0\",                        [{\"autocolorscale\":false,\"colorscale\":[[0.0,\"rgb(247,251,255)\"],[0.125,\"rgb(222,235,247)\"],[0.25,\"rgb(198,219,239)\"],[0.375,\"rgb(158,202,225)\"],[0.5,\"rgb(107,174,214)\"],[0.625,\"rgb(66,146,198)\"],[0.75,\"rgb(33,113,181)\"],[0.875,\"rgb(8,81,156)\"],[1.0,\"rgb(8,48,107)\"]],\"locationmode\":\"country names\",\"locations\":[\"Bangladesh\",\"Belgium\",\"Burkina Faso\",\"Bulgaria\",\"Bosnia and Herzegovina\",\"Barbados\",\"Bermuda\",\"Brunei\",\"Bolivia\",\"Bahrain\",\"Burundi\",\"Benin\",\"Bhutan\",\"Jamaica\",\"Botswana\",\"Samoa\",\"Brazil\",\"Bahamas\",\"Belarus\",\"Belize\",\"Russia\",\"Rwanda\",\"Serbia\",\"East Timor\",\"Turkmenistan\",\"Tajikistan\",\"Romania\",\"Guinea-Bissau\",\"Guatemala\",\"Greece\",\"Equatorial Guinea\",\"Japan\",\"Guyana\",\"French Guiana\",\"Georgia\",\"Grenada\",\"United Kingdom\",\"Gabon\",\"El Salvador\",\"Guinea\",\"Gambia\",\"Greenland\",\"Gibraltar\",\"Ghana\",\"Oman\",\"Tunisia\",\"Jordan\",\"Croatia\",\"Haiti\",\"Hungary\",\"Honduras\",\"Venezuela\",\"Palestinian Territory\",\"Palau\",\"Portugal\",\"Paraguay\",\"Iraq\",\"Panama\",\"Papua New Guinea\",\"Peru\",\"Pakistan\",\"Philippines\",\"Poland\",\"Zambia\",\"Estonia\",\"Egypt\",\"South Africa\",\"Ecuador\",\"Italy\",\"Vietnam\",\"Solomon Islands\",\"Ethiopia\",\"Somalia\",\"Zimbabwe\",\"Saudi Arabia\",\"Spain\",\"Eritrea\",\"Montenegro\",\"Moldova\",\"Madagascar\",\"Morocco\",\"Monaco\",\"Uzbekistan\",\"Myanmar\",\"Mali\",\"Mongolia\",\"Marshall Islands\",\"Macedonia\",\"Mauritius\",\"Malta\",\"Malawi\",\"Maldives\",\"Montserrat\",\"Mauritania\",\"Uganda\",\"Tanzania\",\"Malaysia\",\"Mexico\",\"Israel\",\"France\",\"British Indian Ocean Territory\",\"Saint Helena\",\"Finland\",\"Fiji\",\"Falkland Islands\",\"Micronesia\",\"Faroe Islands\",\"Nicaragua\",\"Netherlands\",\"Norway\",\"Namibia\",\"Vanuatu\",\"New Caledonia\",\"Niger\",\"Nigeria\",\"New Zealand\",\"Nepal\",\"Nauru\",\"Niue\",\"Cook Islands\",\"Kosovo\",\"Ivory Coast\",\"Switzerland\",\"Colombia\",\"China\",\"Cameroon\",\"Chile\",\"Canada\",\"Central African Republic\",\"Democratic Republic of the Congo\",\"Czech Republic\",\"Cyprus\",\"Costa Rica\",\"Curacao\",\"Cape Verde\",\"Cuba\",\"Swaziland\",\"Swaziland\",\"Syria\",\"Sint Maarten\",\"Kyrgyzstan\",\"Kenya\",\"South Sudan\",\"Suriname\",\"Kiribati\",\"Cambodia\",\"Saint Kitts and Nevis\",\"Comoros\",\"Slovakia\",\"South Korea\",\"Slovenia\",\"North Korea\",\"Kuwait\",\"Senegal\",\"San Marino\",\"Sierra Leone\",\"Seychelles\",\"Kazakhstan\",\"Cayman Islands\",\"Singapore\",\"Sweden\",\"Sudan\",\"Dominican Republic\",\"Dominica\",\"Djibouti\",\"Denmark\",\"British Virgin Islands\",\"Germany\",\"Yemen\",\"Algeria\",\"United States\",\"Uruguay\",\"Lebanon\",\"Saint Lucia\",\"Laos\",\"Tuvalu\",\"Taiwan\",\"Trinidad and Tobago\",\"Turkey\",\"Sri Lanka\",\"Liechtenstein\",\"Latvia\",\"Tonga\",\"Lithuania\",\"Luxembourg\",\"Liberia\",\"Lesotho\",\"Thailand\",\"Togo\",\"Chad\",\"Turks and Caicos Islands\",\"Libya\",\"Saint Vincent and the Grenadines\",\"United Arab Emirates\",\"Andorra\",\"Antigua and Barbuda\",\"Afghanistan\",\"Anguilla\",\"Iceland\",\"Iran\",\"Armenia\",\"Albania\",\"Angola\",\"Argentina\",\"Australia\",\"Austria\",\"Aruba\",\"India\",\"Azerbaijan\",\"Ireland\",\"Indonesia\",\"Ukraine\",\"Qatar\",\"Mozambique\"],\"z\":[17076,48013,2126,5158,1652,489,224,849,1166,631,206,1898,362,896,1713,131,167254,291,551,155,48338,1657,13559,104,8,202,36510,144,795,39405,22,110726,210,491,1011,115,279394,559,225,372,363,609,51,10872,2918,12232,5247,13875,370,14483,331,1732,1008,136,67138,331,3495,1825,583,6935,42653,10248,55534,2042,6845,23031,59925,6301,228257,15658,266,14746,120,3009,29598,192200,123,777,522,1610,10439,712,611,951,889,973,48,1163,869,1133,2889,235,14,179,7153,6618,61178,49304,21032,151425,1,67,39043,1318,165,67,29,409,88007,46283,901,171,1432,569,22553,30344,6413,6,3,51,494,1584,53399,15801,908048,4348,26559,169566,112,2126,29061,4363,2882,38,194,1988,165,123,623,13,399,14352,49,143,46,1422,72,44,11323,91674,8191,118,2491,2231,21,713,358,3425,55,22528,63831,1135,314,19,61,41266,17,195309,496,7224,909183,3244,4715,21,836,7,49655,806,56611,4577,50,5450,72,8982,2232,278,168,22894,437,96,34,705,11,8339,71,26,432,14,3091,72997,531,1169,202,25359,217674,29674,32,197658,644,21673,34638,11907,5355,1537],\"type\":\"choropleth\"}],                        {\"template\":{\"data\":{\"barpolar\":[{\"marker\":{\"line\":{\"color\":\"#E5ECF6\",\"width\":0.5},\"pattern\":{\"fillmode\":\"overlay\",\"size\":10,\"solidity\":0.2}},\"type\":\"barpolar\"}],\"bar\":[{\"error_x\":{\"color\":\"#2a3f5f\"},\"error_y\":{\"color\":\"#2a3f5f\"},\"marker\":{\"line\":{\"color\":\"#E5ECF6\",\"width\":0.5},\"pattern\":{\"fillmode\":\"overlay\",\"size\":10,\"solidity\":0.2}},\"type\":\"bar\"}],\"carpet\":[{\"aaxis\":{\"endlinecolor\":\"#2a3f5f\",\"gridcolor\":\"white\",\"linecolor\":\"white\",\"minorgridcolor\":\"white\",\"startlinecolor\":\"#2a3f5f\"},\"baxis\":{\"endlinecolor\":\"#2a3f5f\",\"gridcolor\":\"white\",\"linecolor\":\"white\",\"minorgridcolor\":\"white\",\"startlinecolor\":\"#2a3f5f\"},\"type\":\"carpet\"}],\"choropleth\":[{\"colorbar\":{\"outlinewidth\":0,\"ticks\":\"\"},\"type\":\"choropleth\"}],\"contourcarpet\":[{\"colorbar\":{\"outlinewidth\":0,\"ticks\":\"\"},\"type\":\"contourcarpet\"}],\"contour\":[{\"colorbar\":{\"outlinewidth\":0,\"ticks\":\"\"},\"colorscale\":[[0.0,\"#0d0887\"],[0.1111111111111111,\"#46039f\"],[0.2222222222222222,\"#7201a8\"],[0.3333333333333333,\"#9c179e\"],[0.4444444444444444,\"#bd3786\"],[0.5555555555555556,\"#d8576b\"],[0.6666666666666666,\"#ed7953\"],[0.7777777777777778,\"#fb9f3a\"],[0.8888888888888888,\"#fdca26\"],[1.0,\"#f0f921\"]],\"type\":\"contour\"}],\"heatmapgl\":[{\"colorbar\":{\"outlinewidth\":0,\"ticks\":\"\"},\"colorscale\":[[0.0,\"#0d0887\"],[0.1111111111111111,\"#46039f\"],[0.2222222222222222,\"#7201a8\"],[0.3333333333333333,\"#9c179e\"],[0.4444444444444444,\"#bd3786\"],[0.5555555555555556,\"#d8576b\"],[0.6666666666666666,\"#ed7953\"],[0.7777777777777778,\"#fb9f3a\"],[0.8888888888888888,\"#fdca26\"],[1.0,\"#f0f921\"]],\"type\":\"heatmapgl\"}],\"heatmap\":[{\"colorbar\":{\"outlinewidth\":0,\"ticks\":\"\"},\"colorscale\":[[0.0,\"#0d0887\"],[0.1111111111111111,\"#46039f\"],[0.2222222222222222,\"#7201a8\"],[0.3333333333333333,\"#9c179e\"],[0.4444444444444444,\"#bd3786\"],[0.5555555555555556,\"#d8576b\"],[0.6666666666666666,\"#ed7953\"],[0.7777777777777778,\"#fb9f3a\"],[0.8888888888888888,\"#fdca26\"],[1.0,\"#f0f921\"]],\"type\":\"heatmap\"}],\"histogram2dcontour\":[{\"colorbar\":{\"outlinewidth\":0,\"ticks\":\"\"},\"colorscale\":[[0.0,\"#0d0887\"],[0.1111111111111111,\"#46039f\"],[0.2222222222222222,\"#7201a8\"],[0.3333333333333333,\"#9c179e\"],[0.4444444444444444,\"#bd3786\"],[0.5555555555555556,\"#d8576b\"],[0.6666666666666666,\"#ed7953\"],[0.7777777777777778,\"#fb9f3a\"],[0.8888888888888888,\"#fdca26\"],[1.0,\"#f0f921\"]],\"type\":\"histogram2dcontour\"}],\"histogram2d\":[{\"colorbar\":{\"outlinewidth\":0,\"ticks\":\"\"},\"colorscale\":[[0.0,\"#0d0887\"],[0.1111111111111111,\"#46039f\"],[0.2222222222222222,\"#7201a8\"],[0.3333333333333333,\"#9c179e\"],[0.4444444444444444,\"#bd3786\"],[0.5555555555555556,\"#d8576b\"],[0.6666666666666666,\"#ed7953\"],[0.7777777777777778,\"#fb9f3a\"],[0.8888888888888888,\"#fdca26\"],[1.0,\"#f0f921\"]],\"type\":\"histogram2d\"}],\"histogram\":[{\"marker\":{\"pattern\":{\"fillmode\":\"overlay\",\"size\":10,\"solidity\":0.2}},\"type\":\"histogram\"}],\"mesh3d\":[{\"colorbar\":{\"outlinewidth\":0,\"ticks\":\"\"},\"type\":\"mesh3d\"}],\"parcoords\":[{\"line\":{\"colorbar\":{\"outlinewidth\":0,\"ticks\":\"\"}},\"type\":\"parcoords\"}],\"pie\":[{\"automargin\":true,\"type\":\"pie\"}],\"scatter3d\":[{\"line\":{\"colorbar\":{\"outlinewidth\":0,\"ticks\":\"\"}},\"marker\":{\"colorbar\":{\"outlinewidth\":0,\"ticks\":\"\"}},\"type\":\"scatter3d\"}],\"scattercarpet\":[{\"marker\":{\"colorbar\":{\"outlinewidth\":0,\"ticks\":\"\"}},\"type\":\"scattercarpet\"}],\"scattergeo\":[{\"marker\":{\"colorbar\":{\"outlinewidth\":0,\"ticks\":\"\"}},\"type\":\"scattergeo\"}],\"scattergl\":[{\"marker\":{\"colorbar\":{\"outlinewidth\":0,\"ticks\":\"\"}},\"type\":\"scattergl\"}],\"scattermapbox\":[{\"marker\":{\"colorbar\":{\"outlinewidth\":0,\"ticks\":\"\"}},\"type\":\"scattermapbox\"}],\"scatterpolargl\":[{\"marker\":{\"colorbar\":{\"outlinewidth\":0,\"ticks\":\"\"}},\"type\":\"scatterpolargl\"}],\"scatterpolar\":[{\"marker\":{\"colorbar\":{\"outlinewidth\":0,\"ticks\":\"\"}},\"type\":\"scatterpolar\"}],\"scatter\":[{\"fillpattern\":{\"fillmode\":\"overlay\",\"size\":10,\"solidity\":0.2},\"type\":\"scatter\"}],\"scatterternary\":[{\"marker\":{\"colorbar\":{\"outlinewidth\":0,\"ticks\":\"\"}},\"type\":\"scatterternary\"}],\"surface\":[{\"colorbar\":{\"outlinewidth\":0,\"ticks\":\"\"},\"colorscale\":[[0.0,\"#0d0887\"],[0.1111111111111111,\"#46039f\"],[0.2222222222222222,\"#7201a8\"],[0.3333333333333333,\"#9c179e\"],[0.4444444444444444,\"#bd3786\"],[0.5555555555555556,\"#d8576b\"],[0.6666666666666666,\"#ed7953\"],[0.7777777777777778,\"#fb9f3a\"],[0.8888888888888888,\"#fdca26\"],[1.0,\"#f0f921\"]],\"type\":\"surface\"}],\"table\":[{\"cells\":{\"fill\":{\"color\":\"#EBF0F8\"},\"line\":{\"color\":\"white\"}},\"header\":{\"fill\":{\"color\":\"#C8D4E3\"},\"line\":{\"color\":\"white\"}},\"type\":\"table\"}]},\"layout\":{\"annotationdefaults\":{\"arrowcolor\":\"#2a3f5f\",\"arrowhead\":0,\"arrowwidth\":1},\"autotypenumbers\":\"strict\",\"coloraxis\":{\"colorbar\":{\"outlinewidth\":0,\"ticks\":\"\"}},\"colorscale\":{\"diverging\":[[0,\"#8e0152\"],[0.1,\"#c51b7d\"],[0.2,\"#de77ae\"],[0.3,\"#f1b6da\"],[0.4,\"#fde0ef\"],[0.5,\"#f7f7f7\"],[0.6,\"#e6f5d0\"],[0.7,\"#b8e186\"],[0.8,\"#7fbc41\"],[0.9,\"#4d9221\"],[1,\"#276419\"]],\"sequential\":[[0.0,\"#0d0887\"],[0.1111111111111111,\"#46039f\"],[0.2222222222222222,\"#7201a8\"],[0.3333333333333333,\"#9c179e\"],[0.4444444444444444,\"#bd3786\"],[0.5555555555555556,\"#d8576b\"],[0.6666666666666666,\"#ed7953\"],[0.7777777777777778,\"#fb9f3a\"],[0.8888888888888888,\"#fdca26\"],[1.0,\"#f0f921\"]],\"sequentialminus\":[[0.0,\"#0d0887\"],[0.1111111111111111,\"#46039f\"],[0.2222222222222222,\"#7201a8\"],[0.3333333333333333,\"#9c179e\"],[0.4444444444444444,\"#bd3786\"],[0.5555555555555556,\"#d8576b\"],[0.6666666666666666,\"#ed7953\"],[0.7777777777777778,\"#fb9f3a\"],[0.8888888888888888,\"#fdca26\"],[1.0,\"#f0f921\"]]},\"colorway\":[\"#636efa\",\"#EF553B\",\"#00cc96\",\"#ab63fa\",\"#FFA15A\",\"#19d3f3\",\"#FF6692\",\"#B6E880\",\"#FF97FF\",\"#FECB52\"],\"font\":{\"color\":\"#2a3f5f\"},\"geo\":{\"bgcolor\":\"white\",\"lakecolor\":\"white\",\"landcolor\":\"#E5ECF6\",\"showlakes\":true,\"showland\":true,\"subunitcolor\":\"white\"},\"hoverlabel\":{\"align\":\"left\"},\"hovermode\":\"closest\",\"mapbox\":{\"style\":\"light\"},\"paper_bgcolor\":\"white\",\"plot_bgcolor\":\"#E5ECF6\",\"polar\":{\"angularaxis\":{\"gridcolor\":\"white\",\"linecolor\":\"white\",\"ticks\":\"\"},\"bgcolor\":\"#E5ECF6\",\"radialaxis\":{\"gridcolor\":\"white\",\"linecolor\":\"white\",\"ticks\":\"\"}},\"scene\":{\"xaxis\":{\"backgroundcolor\":\"#E5ECF6\",\"gridcolor\":\"white\",\"gridwidth\":2,\"linecolor\":\"white\",\"showbackground\":true,\"ticks\":\"\",\"zerolinecolor\":\"white\"},\"yaxis\":{\"backgroundcolor\":\"#E5ECF6\",\"gridcolor\":\"white\",\"gridwidth\":2,\"linecolor\":\"white\",\"showbackground\":true,\"ticks\":\"\",\"zerolinecolor\":\"white\"},\"zaxis\":{\"backgroundcolor\":\"#E5ECF6\",\"gridcolor\":\"white\",\"gridwidth\":2,\"linecolor\":\"white\",\"showbackground\":true,\"ticks\":\"\",\"zerolinecolor\":\"white\"}},\"shapedefaults\":{\"line\":{\"color\":\"#2a3f5f\"}},\"ternary\":{\"aaxis\":{\"gridcolor\":\"white\",\"linecolor\":\"white\",\"ticks\":\"\"},\"baxis\":{\"gridcolor\":\"white\",\"linecolor\":\"white\",\"ticks\":\"\"},\"bgcolor\":\"#E5ECF6\",\"caxis\":{\"gridcolor\":\"white\",\"linecolor\":\"white\",\"ticks\":\"\"}},\"title\":{\"x\":0.05},\"xaxis\":{\"automargin\":true,\"gridcolor\":\"white\",\"linecolor\":\"white\",\"ticks\":\"\",\"title\":{\"standoff\":15},\"zerolinecolor\":\"white\",\"zerolinewidth\":2},\"yaxis\":{\"automargin\":true,\"gridcolor\":\"white\",\"linecolor\":\"white\",\"ticks\":\"\",\"title\":{\"standoff\":15},\"zerolinecolor\":\"white\",\"zerolinewidth\":2}}},\"title\":{\"font\":{\"size\":30},\"text\":\"<b>title</b>\"},\"showlegend\":true,\"geo\":{\"center\":{\"lat\":10,\"lon\":0},\"landcolor\":\"lightgray\",\"projection\":{\"scale\":1.1,\"type\":\"kavrayskiy7\"},\"scope\":\"world\",\"showcountries\":true,\"showland\":true}},                        {\"responsive\": true}                    ).then(function(){\n                            \nvar gd = document.getElementById('8ee0a86f-f2b7-4875-bcd7-3cb53b5de5d0');\nvar x = new MutationObserver(function (mutations, observer) {{\n        var display = window.getComputedStyle(gd).display;\n        if (!display || display === 'none') {{\n            console.log([gd, 'removed!']);\n            Plotly.purge(gd);\n            observer.disconnect();\n        }}\n}});\n\n// Listen for the removal of the full notebook cells\nvar notebookContainer = gd.closest('#notebook-container');\nif (notebookContainer) {{\n    x.observe(notebookContainer, {childList: true});\n}}\n\n// Listen for the clearing of the current output cell\nvar outputEl = gd.closest('.output');\nif (outputEl) {{\n    x.observe(outputEl, {childList: true});\n}}\n\n                        })                };                });            </script>        </div>"
     },
     "metadata": {},
     "output_type": "display_data"
    }
   ],
   "source": [
    "fig = go.Figure(\n",
    "    data=go.Choropleth(\n",
    "        locations=a['Country'],\n",
    "        z=a['total_mention'],\n",
    "        locationmode=\"country names\",\n",
    "        colorscale='Blues',\n",
    "        autocolorscale=False,\n",
    "    )\n",
    ")\n",
    "\n",
    "fig.update_layout(\n",
    "    template='plotly',\n",
    "    title_text='<b>'+\"title\"+'</b>',\n",
    "    title_font_size=30,\n",
    "    showlegend=True,\n",
    "    geo=go.layout.Geo(\n",
    "        scope=\"world\",\n",
    "        landcolor='lightgray',\n",
    "        projection_scale=1.1,\n",
    "        center=dict(lon=0, lat=10),\n",
    "        projection_type=\"kavrayskiy7\",\n",
    "        showland=True,\n",
    "        showcountries=True,\n",
    "    ),\n",
    ")"
   ],
   "metadata": {
    "collapsed": false,
    "pycharm": {
     "name": "#%%\n"
    }
   }
  },
  {
   "cell_type": "code",
   "execution_count": 14,
   "outputs": [],
   "source": [
    "import json\n",
    "f = open(\"../data/names.json\")\n",
    "f1 = open(\"../data/iso3.json\")\n",
    "dic_countries = json.load(f)\n",
    "dic_iso = json.load(f1)"
   ],
   "metadata": {
    "collapsed": false,
    "pycharm": {
     "name": "#%%\n"
    }
   }
  },
  {
   "cell_type": "code",
   "execution_count": 16,
   "outputs": [
    {
     "data": {
      "text/plain": "{'BD': 'Bangladesh',\n 'BE': 'Belgium',\n 'BF': 'Burkina Faso',\n 'BG': 'Bulgaria',\n 'BA': 'Bosnia and Herzegovina',\n 'BB': 'Barbados',\n 'WF': 'Wallis and Futuna',\n 'BL': 'Saint Barthelemy',\n 'BM': 'Bermuda',\n 'BN': 'Brunei',\n 'BO': 'Bolivia',\n 'BH': 'Bahrain',\n 'BI': 'Burundi',\n 'BJ': 'Benin',\n 'BT': 'Bhutan',\n 'JM': 'Jamaica',\n 'BV': 'Bouvet Island',\n 'BW': 'Botswana',\n 'WS': 'Samoa',\n 'BQ': 'Bonaire, Saint Eustatius and Saba ',\n 'BR': 'Brazil',\n 'BS': 'Bahamas',\n 'JE': 'Jersey',\n 'BY': 'Belarus',\n 'BZ': 'Belize',\n 'RU': 'Russia',\n 'RW': 'Rwanda',\n 'RS': 'Serbia',\n 'TL': 'East Timor',\n 'RE': 'Reunion',\n 'TM': 'Turkmenistan',\n 'TJ': 'Tajikistan',\n 'RO': 'Romania',\n 'TK': 'Tokelau',\n 'GW': 'Guinea-Bissau',\n 'GU': 'Guam',\n 'GT': 'Guatemala',\n 'GS': 'South Georgia and the South Sandwich Islands',\n 'GR': 'Greece',\n 'GQ': 'Equatorial Guinea',\n 'GP': 'Guadeloupe',\n 'JP': 'Japan',\n 'GY': 'Guyana',\n 'GG': 'Guernsey',\n 'GF': 'French Guiana',\n 'GE': 'Georgia',\n 'GD': 'Grenada',\n 'GB': 'United Kingdom',\n 'GA': 'Gabon',\n 'SV': 'El Salvador',\n 'GN': 'Guinea',\n 'GM': 'Gambia',\n 'GL': 'Greenland',\n 'GI': 'Gibraltar',\n 'GH': 'Ghana',\n 'OM': 'Oman',\n 'TN': 'Tunisia',\n 'JO': 'Jordan',\n 'HR': 'Croatia',\n 'HT': 'Haiti',\n 'HU': 'Hungary',\n 'HK': 'Hong Kong',\n 'HN': 'Honduras',\n 'HM': 'Heard Island and McDonald Islands',\n 'VE': 'Venezuela',\n 'PR': 'Puerto Rico',\n 'PS': 'Palestinian Territory',\n 'PW': 'Palau',\n 'PT': 'Portugal',\n 'SJ': 'Svalbard and Jan Mayen',\n 'PY': 'Paraguay',\n 'IQ': 'Iraq',\n 'PA': 'Panama',\n 'PF': 'French Polynesia',\n 'PG': 'Papua New Guinea',\n 'PE': 'Peru',\n 'PK': 'Pakistan',\n 'PH': 'Philippines',\n 'PN': 'Pitcairn',\n 'PL': 'Poland',\n 'PM': 'Saint Pierre and Miquelon',\n 'ZM': 'Zambia',\n 'EH': 'Western Sahara',\n 'EE': 'Estonia',\n 'EG': 'Egypt',\n 'ZA': 'South Africa',\n 'EC': 'Ecuador',\n 'IT': 'Italy',\n 'VN': 'Vietnam',\n 'SB': 'Solomon Islands',\n 'ET': 'Ethiopia',\n 'SO': 'Somalia',\n 'ZW': 'Zimbabwe',\n 'SA': 'Saudi Arabia',\n 'ES': 'Spain',\n 'ER': 'Eritrea',\n 'ME': 'Montenegro',\n 'MD': 'Moldova',\n 'MG': 'Madagascar',\n 'MF': 'Saint Martin',\n 'MA': 'Morocco',\n 'MC': 'Monaco',\n 'UZ': 'Uzbekistan',\n 'MM': 'Myanmar',\n 'ML': 'Mali',\n 'MO': 'Macao',\n 'MN': 'Mongolia',\n 'MH': 'Marshall Islands',\n 'MK': 'Macedonia',\n 'MU': 'Mauritius',\n 'MT': 'Malta',\n 'MW': 'Malawi',\n 'MV': 'Maldives',\n 'MQ': 'Martinique',\n 'MP': 'Northern Mariana Islands',\n 'MS': 'Montserrat',\n 'MR': 'Mauritania',\n 'IM': 'Isle of Man',\n 'UG': 'Uganda',\n 'TZ': 'Tanzania',\n 'MY': 'Malaysia',\n 'MX': 'Mexico',\n 'IL': 'Israel',\n 'FR': 'France',\n 'IO': 'British Indian Ocean Territory',\n 'SH': 'Saint Helena',\n 'FI': 'Finland',\n 'FJ': 'Fiji',\n 'FK': 'Falkland Islands',\n 'FM': 'Micronesia',\n 'FO': 'Faroe Islands',\n 'NI': 'Nicaragua',\n 'NL': 'Netherlands',\n 'NO': 'Norway',\n 'NA': 'Namibia',\n 'VU': 'Vanuatu',\n 'NC': 'New Caledonia',\n 'NE': 'Niger',\n 'NF': 'Norfolk Island',\n 'NG': 'Nigeria',\n 'NZ': 'New Zealand',\n 'NP': 'Nepal',\n 'NR': 'Nauru',\n 'NU': 'Niue',\n 'CK': 'Cook Islands',\n 'XK': 'Kosovo',\n 'CI': 'Ivory Coast',\n 'CH': 'Switzerland',\n 'CO': 'Colombia',\n 'CN': 'China',\n 'CM': 'Cameroon',\n 'CL': 'Chile',\n 'CC': 'Cocos Islands',\n 'CA': 'Canada',\n 'CG': 'Republic of the Congo',\n 'CF': 'Central African Republic',\n 'CD': 'Democratic Republic of the Congo',\n 'CZ': 'Czech Republic',\n 'CY': 'Cyprus',\n 'CX': 'Christmas Island',\n 'CR': 'Costa Rica',\n 'CW': 'Curacao',\n 'CV': 'Cape Verde',\n 'CU': 'Cuba',\n 'SZ': 'Swaziland',\n 'SY': 'Syria',\n 'SX': 'Sint Maarten',\n 'KG': 'Kyrgyzstan',\n 'KE': 'Kenya',\n 'SS': 'South Sudan',\n 'SR': 'Suriname',\n 'KI': 'Kiribati',\n 'KH': 'Cambodia',\n 'KN': 'Saint Kitts and Nevis',\n 'KM': 'Comoros',\n 'ST': 'Sao Tome and Principe',\n 'SK': 'Slovakia',\n 'KR': 'South Korea',\n 'SI': 'Slovenia',\n 'KP': 'North Korea',\n 'KW': 'Kuwait',\n 'SN': 'Senegal',\n 'SM': 'San Marino',\n 'SL': 'Sierra Leone',\n 'SC': 'Seychelles',\n 'KZ': 'Kazakhstan',\n 'KY': 'Cayman Islands',\n 'SG': 'Singapore',\n 'SE': 'Sweden',\n 'SD': 'Sudan',\n 'DO': 'Dominican Republic',\n 'DM': 'Dominica',\n 'DJ': 'Djibouti',\n 'DK': 'Denmark',\n 'VG': 'British Virgin Islands',\n 'DE': 'Germany',\n 'YE': 'Yemen',\n 'DZ': 'Algeria',\n 'US': 'United States',\n 'UY': 'Uruguay',\n 'YT': 'Mayotte',\n 'UM': 'United States Minor Outlying Islands',\n 'LB': 'Lebanon',\n 'LC': 'Saint Lucia',\n 'LA': 'Laos',\n 'TV': 'Tuvalu',\n 'TW': 'Taiwan',\n 'TT': 'Trinidad and Tobago',\n 'TR': 'Turkey',\n 'LK': 'Sri Lanka',\n 'LI': 'Liechtenstein',\n 'LV': 'Latvia',\n 'TO': 'Tonga',\n 'LT': 'Lithuania',\n 'LU': 'Luxembourg',\n 'LR': 'Liberia',\n 'LS': 'Lesotho',\n 'TH': 'Thailand',\n 'TF': 'French Southern Territories',\n 'TG': 'Togo',\n 'TD': 'Chad',\n 'TC': 'Turks and Caicos Islands',\n 'LY': 'Libya',\n 'VA': 'Vatican',\n 'VC': 'Saint Vincent and the Grenadines',\n 'AE': 'United Arab Emirates',\n 'AD': 'Andorra',\n 'AG': 'Antigua and Barbuda',\n 'AF': 'Afghanistan',\n 'AI': 'Anguilla',\n 'VI': 'U.S. Virgin Islands',\n 'IS': 'Iceland',\n 'IR': 'Iran',\n 'AM': 'Armenia',\n 'AL': 'Albania',\n 'AO': 'Angola',\n 'AQ': 'Antarctica',\n 'AS': 'American Samoa',\n 'AR': 'Argentina',\n 'AU': 'Australia',\n 'AT': 'Austria',\n 'AW': 'Aruba',\n 'IN': 'India',\n 'AX': 'Aland Islands',\n 'AZ': 'Azerbaijan',\n 'IE': 'Ireland',\n 'ID': 'Indonesia',\n 'UA': 'Ukraine',\n 'QA': 'Qatar',\n 'MZ': 'Mozambique'}"
     },
     "execution_count": 16,
     "metadata": {},
     "output_type": "execute_result"
    }
   ],
   "source": [
    "dic_countries"
   ],
   "metadata": {
    "collapsed": false,
    "pycharm": {
     "name": "#%%\n"
    }
   }
  },
  {
   "cell_type": "code",
   "execution_count": 55,
   "outputs": [],
   "source": [
    "df1 = pd.DataFrame.from_dict(data=dic_countries, orient=\"index\", columns=[\"country\"])\n",
    "df2 = pd.DataFrame.from_dict(data=dic_iso, orient=\"index\", columns=[\"Country ISO-3\"])\n",
    "df_merge = pd.merge(df1, df2, left_index=True, right_index=True)\n",
    "df_merge = df_merge.reset_index().rename(columns={\"country\":\"Country\"})"
   ],
   "metadata": {
    "collapsed": false,
    "pycharm": {
     "name": "#%%\n"
    }
   }
  },
  {
   "cell_type": "code",
   "execution_count": 7,
   "outputs": [
    {
     "data": {
      "text/plain": "    ISO 3166                 country Country ISO-3\n0         BD              Bangladesh           BGD\n1         BE                 Belgium           BEL\n2         BF            Burkina Faso           BFA\n3         BG                Bulgaria           BGR\n4         BA  Bosnia and Herzegovina           BIH\n..       ...                     ...           ...\n245       IE                 Ireland           IRL\n246       ID               Indonesia           IDN\n247       UA                 Ukraine           UKR\n248       QA                   Qatar           QAT\n249       MZ              Mozambique           MOZ\n\n[250 rows x 3 columns]",
      "text/html": "<div>\n<style scoped>\n    .dataframe tbody tr th:only-of-type {\n        vertical-align: middle;\n    }\n\n    .dataframe tbody tr th {\n        vertical-align: top;\n    }\n\n    .dataframe thead th {\n        text-align: right;\n    }\n</style>\n<table border=\"1\" class=\"dataframe\">\n  <thead>\n    <tr style=\"text-align: right;\">\n      <th></th>\n      <th>ISO 3166</th>\n      <th>country</th>\n      <th>Country ISO-3</th>\n    </tr>\n  </thead>\n  <tbody>\n    <tr>\n      <th>0</th>\n      <td>BD</td>\n      <td>Bangladesh</td>\n      <td>BGD</td>\n    </tr>\n    <tr>\n      <th>1</th>\n      <td>BE</td>\n      <td>Belgium</td>\n      <td>BEL</td>\n    </tr>\n    <tr>\n      <th>2</th>\n      <td>BF</td>\n      <td>Burkina Faso</td>\n      <td>BFA</td>\n    </tr>\n    <tr>\n      <th>3</th>\n      <td>BG</td>\n      <td>Bulgaria</td>\n      <td>BGR</td>\n    </tr>\n    <tr>\n      <th>4</th>\n      <td>BA</td>\n      <td>Bosnia and Herzegovina</td>\n      <td>BIH</td>\n    </tr>\n    <tr>\n      <th>...</th>\n      <td>...</td>\n      <td>...</td>\n      <td>...</td>\n    </tr>\n    <tr>\n      <th>245</th>\n      <td>IE</td>\n      <td>Ireland</td>\n      <td>IRL</td>\n    </tr>\n    <tr>\n      <th>246</th>\n      <td>ID</td>\n      <td>Indonesia</td>\n      <td>IDN</td>\n    </tr>\n    <tr>\n      <th>247</th>\n      <td>UA</td>\n      <td>Ukraine</td>\n      <td>UKR</td>\n    </tr>\n    <tr>\n      <th>248</th>\n      <td>QA</td>\n      <td>Qatar</td>\n      <td>QAT</td>\n    </tr>\n    <tr>\n      <th>249</th>\n      <td>MZ</td>\n      <td>Mozambique</td>\n      <td>MOZ</td>\n    </tr>\n  </tbody>\n</table>\n<p>250 rows × 3 columns</p>\n</div>"
     },
     "execution_count": 7,
     "metadata": {},
     "output_type": "execute_result"
    }
   ],
   "source": [
    "df_plotly = pd.read_csv(\"../data/plotly_country_names.csv\", sep=\"\\t\")\n",
    "df_plotly"
   ],
   "metadata": {
    "collapsed": false,
    "pycharm": {
     "name": "#%%\n"
    }
   }
  },
  {
   "cell_type": "code",
   "execution_count": 66,
   "outputs": [
    {
     "data": {
      "text/plain": "1"
     },
     "execution_count": 66,
     "metadata": {},
     "output_type": "execute_result"
    }
   ],
   "source": [
    "len(df_merge.query(\"Country == 'France'\"))\n"
   ],
   "metadata": {
    "collapsed": false,
    "pycharm": {
     "name": "#%%\n"
    }
   }
  },
  {
   "cell_type": "code",
   "execution_count": 43,
   "outputs": [
    {
     "name": "stdout",
     "output_type": "stream",
     "text": [
      "<class 'pandas.core.frame.DataFrame'>\n",
      "RangeIndex: 275 entries, 0 to 274\n",
      "Data columns (total 2 columns):\n",
      " #   Column        Non-Null Count  Dtype \n",
      "---  ------        --------------  ----- \n",
      " 0   Country       275 non-null    object\n",
      " 1   Country ISO3  273 non-null    object\n",
      "dtypes: object(2)\n",
      "memory usage: 4.4+ KB\n"
     ]
    }
   ],
   "source": [
    "df_country = pd.read_excel(\"../data/countries_full.xls\")\n",
    "df_country = df_country[['Country', 'Country ISO3']]\n",
    "df_country.info()"
   ],
   "metadata": {
    "collapsed": false,
    "pycharm": {
     "name": "#%%\n"
    }
   }
  },
  {
   "cell_type": "code",
   "execution_count": 3,
   "outputs": [],
   "source": [
    "test = pd.read_pickle('../data/dataframes/mentions/df_mention_sdg_dt_world.pkl')"
   ],
   "metadata": {
    "collapsed": false,
    "pycharm": {
     "name": "#%%\n"
    }
   }
  },
  {
   "cell_type": "code",
   "execution_count": 4,
   "outputs": [
    {
     "data": {
      "text/plain": "            Country  total_mention  Unnamed: 0 Country ISO3  Country Code  \\\n0             China          44009          48          CHN           156   \n1     United States          31282         257          USA           840   \n2             India          12415         113          IND           356   \n3             Italy           9049         119          ITA           380   \n4    United Kingdom           8749         256          GBR           826   \n..              ...            ...         ...          ...           ...   \n172          Bhutan              1          25          BTN            64   \n173         Bermuda              1          24          BMU            60   \n174          Belize              1          22          BLZ            84   \n175      Mauritania              1         150          MRT           478   \n176     Timor-Leste              1          70          TMP           626   \n\n                                             Long Name          Income Group  \\\n0                           People's Republic of China   Upper middle income   \n1                             United States of America     High income: OECD   \n2                                    Republic of India   Lower middle income   \n3                                     Italian Republic     High income: OECD   \n4    United Kingdom of Great Britain and Northern I...     High income: OECD   \n..                                                 ...                   ...   \n172                                  Kingdom of Bhutan   Lower middle income   \n173                                       The Bermudas  High income: nonOECD   \n174                                             Belize   Upper middle income   \n175                     Islamic Republic of Mauritania   Lower middle income   \n176                 Democratic Republic of Timor-Leste   Lower middle income   \n\n    Lending Category                     Region        Currency Unit  \\\n0               IBRD        East Asia & Pacific         Chinese yuan   \n1                NaN              North America          U.S. dollar   \n2               IBRD                 South Asia         Indian rupee   \n3                NaN      Europe & Central Asia                 Euro   \n4                NaN      Europe & Central Asia       Pound sterling   \n..               ...                        ...                  ...   \n172              IDA                 South Asia   Bhutanese ngultrum   \n173              NaN              North America       Bermuda dollar   \n174             IBRD  Latin America & Caribbean        Belize dollar   \n175              IDA         Sub-Saharan Africa  Mauritanian ouguiya   \n176            Blend        East Asia & Pacific          U.S. dollar   \n\n    Other Groups WTO Member   latitude   longitude  percentage  \n0            NaN        Yes  35.861660  104.195397       20.84  \n1            NaN        Yes  37.090240  -95.712891       14.82  \n2            NaN        Yes  20.593684   78.962880        5.88  \n3      Euro area        Yes  41.871940   12.567380        4.29  \n4      Euro area        Yes  55.378051   -3.435973        4.14  \n..           ...        ...        ...         ...         ...  \n172          NaN         No  27.514162   90.433601        0.00  \n173          NaN         No  32.321384  -64.757370        0.00  \n174          NaN        Yes  17.189877  -88.497650        0.00  \n175         HIPC        Yes  21.007890  -10.940835        0.00  \n176          NaN         No        NaN         NaN        0.00  \n\n[177 rows x 15 columns]",
      "text/html": "<div>\n<style scoped>\n    .dataframe tbody tr th:only-of-type {\n        vertical-align: middle;\n    }\n\n    .dataframe tbody tr th {\n        vertical-align: top;\n    }\n\n    .dataframe thead th {\n        text-align: right;\n    }\n</style>\n<table border=\"1\" class=\"dataframe\">\n  <thead>\n    <tr style=\"text-align: right;\">\n      <th></th>\n      <th>Country</th>\n      <th>total_mention</th>\n      <th>Unnamed: 0</th>\n      <th>Country ISO3</th>\n      <th>Country Code</th>\n      <th>Long Name</th>\n      <th>Income Group</th>\n      <th>Lending Category</th>\n      <th>Region</th>\n      <th>Currency Unit</th>\n      <th>Other Groups</th>\n      <th>WTO Member</th>\n      <th>latitude</th>\n      <th>longitude</th>\n      <th>percentage</th>\n    </tr>\n  </thead>\n  <tbody>\n    <tr>\n      <th>0</th>\n      <td>China</td>\n      <td>44009</td>\n      <td>48</td>\n      <td>CHN</td>\n      <td>156</td>\n      <td>People's Republic of China</td>\n      <td>Upper middle income</td>\n      <td>IBRD</td>\n      <td>East Asia &amp; Pacific</td>\n      <td>Chinese yuan</td>\n      <td>NaN</td>\n      <td>Yes</td>\n      <td>35.861660</td>\n      <td>104.195397</td>\n      <td>20.84</td>\n    </tr>\n    <tr>\n      <th>1</th>\n      <td>United States</td>\n      <td>31282</td>\n      <td>257</td>\n      <td>USA</td>\n      <td>840</td>\n      <td>United States of America</td>\n      <td>High income: OECD</td>\n      <td>NaN</td>\n      <td>North America</td>\n      <td>U.S. dollar</td>\n      <td>NaN</td>\n      <td>Yes</td>\n      <td>37.090240</td>\n      <td>-95.712891</td>\n      <td>14.82</td>\n    </tr>\n    <tr>\n      <th>2</th>\n      <td>India</td>\n      <td>12415</td>\n      <td>113</td>\n      <td>IND</td>\n      <td>356</td>\n      <td>Republic of India</td>\n      <td>Lower middle income</td>\n      <td>IBRD</td>\n      <td>South Asia</td>\n      <td>Indian rupee</td>\n      <td>NaN</td>\n      <td>Yes</td>\n      <td>20.593684</td>\n      <td>78.962880</td>\n      <td>5.88</td>\n    </tr>\n    <tr>\n      <th>3</th>\n      <td>Italy</td>\n      <td>9049</td>\n      <td>119</td>\n      <td>ITA</td>\n      <td>380</td>\n      <td>Italian Republic</td>\n      <td>High income: OECD</td>\n      <td>NaN</td>\n      <td>Europe &amp; Central Asia</td>\n      <td>Euro</td>\n      <td>Euro area</td>\n      <td>Yes</td>\n      <td>41.871940</td>\n      <td>12.567380</td>\n      <td>4.29</td>\n    </tr>\n    <tr>\n      <th>4</th>\n      <td>United Kingdom</td>\n      <td>8749</td>\n      <td>256</td>\n      <td>GBR</td>\n      <td>826</td>\n      <td>United Kingdom of Great Britain and Northern I...</td>\n      <td>High income: OECD</td>\n      <td>NaN</td>\n      <td>Europe &amp; Central Asia</td>\n      <td>Pound sterling</td>\n      <td>Euro area</td>\n      <td>Yes</td>\n      <td>55.378051</td>\n      <td>-3.435973</td>\n      <td>4.14</td>\n    </tr>\n    <tr>\n      <th>...</th>\n      <td>...</td>\n      <td>...</td>\n      <td>...</td>\n      <td>...</td>\n      <td>...</td>\n      <td>...</td>\n      <td>...</td>\n      <td>...</td>\n      <td>...</td>\n      <td>...</td>\n      <td>...</td>\n      <td>...</td>\n      <td>...</td>\n      <td>...</td>\n      <td>...</td>\n    </tr>\n    <tr>\n      <th>172</th>\n      <td>Bhutan</td>\n      <td>1</td>\n      <td>25</td>\n      <td>BTN</td>\n      <td>64</td>\n      <td>Kingdom of Bhutan</td>\n      <td>Lower middle income</td>\n      <td>IDA</td>\n      <td>South Asia</td>\n      <td>Bhutanese ngultrum</td>\n      <td>NaN</td>\n      <td>No</td>\n      <td>27.514162</td>\n      <td>90.433601</td>\n      <td>0.00</td>\n    </tr>\n    <tr>\n      <th>173</th>\n      <td>Bermuda</td>\n      <td>1</td>\n      <td>24</td>\n      <td>BMU</td>\n      <td>60</td>\n      <td>The Bermudas</td>\n      <td>High income: nonOECD</td>\n      <td>NaN</td>\n      <td>North America</td>\n      <td>Bermuda dollar</td>\n      <td>NaN</td>\n      <td>No</td>\n      <td>32.321384</td>\n      <td>-64.757370</td>\n      <td>0.00</td>\n    </tr>\n    <tr>\n      <th>174</th>\n      <td>Belize</td>\n      <td>1</td>\n      <td>22</td>\n      <td>BLZ</td>\n      <td>84</td>\n      <td>Belize</td>\n      <td>Upper middle income</td>\n      <td>IBRD</td>\n      <td>Latin America &amp; Caribbean</td>\n      <td>Belize dollar</td>\n      <td>NaN</td>\n      <td>Yes</td>\n      <td>17.189877</td>\n      <td>-88.497650</td>\n      <td>0.00</td>\n    </tr>\n    <tr>\n      <th>175</th>\n      <td>Mauritania</td>\n      <td>1</td>\n      <td>150</td>\n      <td>MRT</td>\n      <td>478</td>\n      <td>Islamic Republic of Mauritania</td>\n      <td>Lower middle income</td>\n      <td>IDA</td>\n      <td>Sub-Saharan Africa</td>\n      <td>Mauritanian ouguiya</td>\n      <td>HIPC</td>\n      <td>Yes</td>\n      <td>21.007890</td>\n      <td>-10.940835</td>\n      <td>0.00</td>\n    </tr>\n    <tr>\n      <th>176</th>\n      <td>Timor-Leste</td>\n      <td>1</td>\n      <td>70</td>\n      <td>TMP</td>\n      <td>626</td>\n      <td>Democratic Republic of Timor-Leste</td>\n      <td>Lower middle income</td>\n      <td>Blend</td>\n      <td>East Asia &amp; Pacific</td>\n      <td>U.S. dollar</td>\n      <td>NaN</td>\n      <td>No</td>\n      <td>NaN</td>\n      <td>NaN</td>\n      <td>0.00</td>\n    </tr>\n  </tbody>\n</table>\n<p>177 rows × 15 columns</p>\n</div>"
     },
     "execution_count": 4,
     "metadata": {},
     "output_type": "execute_result"
    }
   ],
   "source": [
    "test"
   ],
   "metadata": {
    "collapsed": false,
    "pycharm": {
     "name": "#%%\n"
    }
   }
  },
  {
   "cell_type": "code",
   "execution_count": null,
   "outputs": [],
   "source": [],
   "metadata": {
    "collapsed": false,
    "pycharm": {
     "name": "#%%\n"
    }
   }
  }
 ],
 "metadata": {
  "kernelspec": {
   "display_name": "Python 3",
   "language": "python",
   "name": "python3"
  },
  "language_info": {
   "codemirror_mode": {
    "name": "ipython",
    "version": 2
   },
   "file_extension": ".py",
   "mimetype": "text/x-python",
   "name": "python",
   "nbconvert_exporter": "python",
   "pygments_lexer": "ipython2",
   "version": "2.7.6"
  }
 },
 "nbformat": 4,
 "nbformat_minor": 0
}