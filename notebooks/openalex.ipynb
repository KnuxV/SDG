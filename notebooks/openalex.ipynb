{
 "cells": [
  {
   "cell_type": "markdown",
   "source": [
    "28 Sep 2022"
   ],
   "metadata": {
    "collapsed": false
   }
  },
  {
   "cell_type": "code",
   "execution_count": 23,
   "outputs": [],
   "source": [
    "from diophila import OpenAlex\n",
    "import pandas as pd\n",
    "openalex = OpenAlex()"
   ],
   "metadata": {
    "collapsed": false
   }
  },
  {
   "cell_type": "code",
   "execution_count": 80,
   "outputs": [],
   "source": [
    "filters = {\"abstract.search\":'(( \"local\" AND ( \"communit*\" OR \"administrat*\" ) )'}\n",
    "random_work = openalex.get_list_of_works(filters=filters)"
   ],
   "metadata": {
    "collapsed": false
   }
  },
  {
   "cell_type": "code",
   "execution_count": 81,
   "outputs": [
    {
     "name": "stdout",
     "output_type": "stream",
     "text": [
      "{'meta': {'count': 1, 'db_response_time_ms': 16, 'page': None, 'per_page': 25, 'next_cursor': 'IlsxMi4xNDk5NzYsIDE0Mjc4NDY0MDAwMDAsICdodHRwczovL29wZW5hbGV4Lm9yZy9XMjk5MjYwMDA2NSddIg=='}, 'results': [{'id': 'https://openalex.org/W2992600065', 'doi': None, 'title': 'Exploring the Opportunities for Trans-Ethnic Cooperation within and across Serbia through the National Minority Councils', 'display_name': 'Exploring the Opportunities for Trans-Ethnic Cooperation within and across Serbia through the National Minority Councils', 'relevance_score': 12.149976, 'publication_year': 2015, 'publication_date': '2015-04-01', 'ids': {'openalex': 'https://openalex.org/W2992600065', 'mag': '2992600065'}, 'host_venue': {'id': 'https://openalex.org/V2764895392', 'issn_l': '1617-5247', 'issn': ['1617-5247'], 'display_name': 'Journal on Ethnopolitics and Minority Issues in Europe : JEMIE', 'publisher': 'European Centre for Minority Issues', 'type': 'publisher', 'url': 'https://www.questia.com/library/journal/1P3-3856040801/exploring-theopportunities-for-trans-ethnic-cooperation', 'is_oa': False, 'version': None, 'license': None}, 'type': 'journal-article', 'open_access': {'is_oa': False, 'oa_status': None, 'oa_url': None}, 'authorships': [{'author_position': 'first', 'author': {'id': 'https://openalex.org/A2992658363', 'display_name': 'Svetlusa Surová', 'orcid': None}, 'institutions': [], 'raw_affiliation_string': None}], 'cited_by_count': 1, 'biblio': {'volume': '14', 'issue': '2', 'first_page': '27', 'last_page': None}, 'is_retracted': False, 'is_paratext': None, 'concepts': [{'id': 'https://openalex.org/C137403100', 'wikidata': 'https://www.wikidata.org/wiki/Q41710', 'display_name': 'Ethnic group', 'level': 2, 'score': '0.7308686'}, {'id': 'https://openalex.org/C2778408831', 'wikidata': 'https://www.wikidata.org/wiki/Q9299', 'display_name': 'Serbian', 'level': 2, 'score': '0.59600794'}, {'id': 'https://openalex.org/C2908647359', 'wikidata': 'https://www.wikidata.org/wiki/Q2625603', 'display_name': 'Population', 'level': 2, 'score': '0.50235033'}, {'id': 'https://openalex.org/C17744445', 'wikidata': 'https://www.wikidata.org/wiki/Q36442', 'display_name': 'Political science', 'level': 0, 'score': '0.501158'}, {'id': 'https://openalex.org/C48103436', 'wikidata': 'https://www.wikidata.org/wiki/Q599031', 'display_name': 'State (computer science)', 'level': 2, 'score': '0.46043032'}], 'mesh': [], 'alternate_host_venues': [], 'referenced_works': ['https://openalex.org/W306059847', 'https://openalex.org/W605674980'], 'related_works': ['https://openalex.org/W332700195', 'https://openalex.org/W1498041552', 'https://openalex.org/W1765024687', 'https://openalex.org/W2119600797', 'https://openalex.org/W2290608419', 'https://openalex.org/W2316737436', 'https://openalex.org/W2362432048', 'https://openalex.org/W2770929013', 'https://openalex.org/W3139718687'], 'ngrams_url': 'https://api.openalex.org/works/W2992600065/ngrams', 'abstract_inverted_index': {'National': [0], 'councils': [1, 18, 436], 'of': [2, 24, 56, 67, 73, 84, 213, 239, 273, 318, 375, 383, 420, 565, 573, 625, 634, 646, 671], 'nat': [3, 9, 25, 416, 421], 'iona': [4, 10, 26, 340, 422], 'l': [5, 11, 27, 142, 170, 194, 210, 241, 423, 441, 668], 'minorities': [6], '(NCNM)': [7], 'or': [8, 16, 100, 584, 619], 'minority': [12, 85, 344], 'counc': [13, 418], 'ils': [14, 419], \"(NMC's)\": [15], 'national': [17, 429], \"(NC's)\": [19], 'are': [20, 43, 64, 390, 410, 611], 'repre': [21, 158], 'sentative': [22], 'organs': [23], 'minorit': [28, 424, 430], 'ie': [29, 60, 203, 431], 's': [30, 32, 36, 55, 105, 137, 155, 204, 324, 349, 432, 581, 621, 654], 'a': [31, 51, 58, 111, 136, 138, 160, 176, 182, 191, 297, 314, 323, 325, 499, 518, 568, 592, 597, 653, 694, 709, 741, 749], 'c': [33, 139, 559], 'ollect': [34], 'ive': [35, 600, 645], 'in': [37, 70, 95, 125, 206, 279, 350, 391, 426, 437, 512, 530, 575, 579, 643, 652, 659, 727, 729], 'Se': [38, 214, 311], 'rbia': [39, 215, 312], 'and': [40, 80, 87, 121, 145, 218, 262, 305, 338, 347, 372, 403, 471, 490, 514, 582, 629, 664, 723, 748], 't': [41, 248, 379, 408, 411, 434, 515, 548, 595, 612, 662, 692], 'hey': [42], 'legally': [44], 'de': [45], 'signed': [46], 'to': [47, 107, 224, 543, 577, 585, 606, 650], 'be': [48, 225, 558], 'part': [49], 'ners': [50], 'nd': [52, 112, 161, 177, 192, 298], 'advisory': [53], 'bodie': [54], 'state': [57, 162], 'uthorit': [59], 's.': [61], 'NM': [62, 495], \"C's\": [63], 'special': [65], 'bodies': [66, 93], 'self-governme': [68], 'nt': [69, 295], 'the': [71, 103, 126, 151, 244, 438, 481, 494, 563, 617, 623, 688, 714, 734], 'fields': [72, 127], 'culture,': [74], 'e': [75, 506, 616, 716], 'duc': [76], 'ation,': [77], 'informat': [78], 'ion': [79, 147, 212, 511, 572, 594], 'offic': [81, 392], 'ial': [82, 92, 393], 'use': [83, 321, 342], 'languages': [86], 'scripts.': [88], 'The': [89, 208, 229, 276, 303, 328, 603, 641], 'se': [90], 'spec': [91], 'participate': [94], 'decision-ma': [96], 'king': [97], 'proce': [98], 'sses': [99], 'decide': [101], 'on': [102, 708], 'issue': [104], 'related': [106, 691], 'these': [108], 'fie': [109], 'lds,': [110], 'they': [113, 157], 'can': [114, 134, 557], 'establish': [115], 'inst': [116], 'itut': [117], 'ions,': [118], 'business': [119], 'companies': [120], 'other': [122], 'organisat': [123], 'ions': [124, 175], 'ment': [128], 'ione': [129], 'd.': [130], 'As': [131], 'such': [132], \"NMC's\": [133], 'serve': [135, 679], 'ha': [140], 'nne': [141], 'for': [143, 485, 589, 713, 733], 'dialogue': [144], 'cooperat': [146, 510], 'bet': [148], 'wee': [149], 'n': [150, 285, 598], 'et': [152], 'hnic': [153, 487, 509], 'itie': [154], 'that': [156, 526], 'sent': [159], 'governments,': [163], 'local': [164], 'aut': [165], 'horit': [166], 'ies,': [167], 'non-gove': [168], 'rnmenta': [169], 'organizations,': [171], 'inte': [172], 'rnational': [173], 'organizat': [174], 'ot': [178], 'her': [179, 334, 587], 'actors.Serbia': [180], 'is': [181, 221, 233, 253, 281, 310, 331, 517, 649, 705], 'multi-ethnic': [183], '(Appe': [184], 'ndix': [185], 'A,': [186], 'pp.22-23),': [187], 'mult': [188], 'i-fa': [189], 'ith': [190], 'multilingua': [193], 'count': [195], 'ry.': [196], 'More': [197], 'than': [198, 271], 'twenty': [199], 'different': [200], 'ethnic': [201, 231, 245], 'communit': [202], 'live': [205], 'Serbia.': [207], 'tota': [209, 240], 'populat': [211], 'without': [216], 'Kosovo': [217], 'Metohija': [219], '1': [220], 'est': [222], 'imated': [223], '7': [226], '186': [227], '8622.': [228], 'largest': [230], 'group': [232, 252], 'Serbian,': [234, 396], 'constitut': [235], 'ing': [236, 637], '83,3': [237], '%': [238, 317], 'population.': [242], 'Of': [243], 'minoritie': [246], 's,': [247], 'he': [249, 380], 'large': [250], 'st': [251, 473, 751], 'Hunga': [254], 'rian': [255], '(3,5': [256], '%),': [257], 'followed': [258, 287], 'by': [259, 288], 'Roma': [260, 401], '(2,1%)': [261], 'Bosniaks': [263], 'communities': [264], '(2%': [265], ').': [266], 'Other': [267], 'ethnicities': [268], 'constitute': [269], 'less': [270], '1%': [272], 'total': [274], 'population.3': [275], 'dominant': [277], 'religion': [278], 'Serbia': [280, 351, 492, 513], 'Orthodox': [282], 'Christ': [283], 'ia': [284, 445], '(84,6%),': [286], 'Cat': [289], 'holic': [290], '(5%),': [291], 'Islam': [292], '(3%),': [293], 'Protesta': [294], '(1%)': [296], 'othe': [299], 'r': [300, 503], 're': [301, 500, 676, 737], 'ligions4.': [302], 'official': [304, 329], 'most': [306], 'widely': [307], 'used': [308], 'language': [309], 'n;': [313], 'bout': [315], '88': [316], 'pe': [319], 'ople': [320], 'it': [322], 'mother': [326], 'tongue.': [327], 'script': [330, 348], 'Cyrillic.': [332], 'Ot': [333], 'rec': [335], 'ognize': [336], 'd': [337, 343, 561, 707], 'tradit': [339], 'lly': [341], 'langua': [345, 388], 'ges': [346, 389], 'are:': [352], 'Albanian,': [353], 'Bosnian,': [354], 'Bulgaria': [355], 'n,': [356, 362, 446, 463], 'Bunjevac,': [357], 'Vlach,': [358, 461], 'Hungarian,': [359, 397, 443], 'Ma': [360], 'cedonia': [361], 'German,': [363], 'Romani,': [364], 'Romanian,': [365, 450], 'Ruthe': [366, 404], 'nian,': [367, 402, 468], 'Slovak,': [368, 398, 449], 'Ukrainian,': [369, 451], 'Croat': [370, 399, 444], 'ian': [371], 'Czech': [373], '(Council': [374], 'Europe': [376], '2015).': [377], 'In': [378], 'Autonomous': [381], 'province': [382], 'Vojvodina': [384], '(AP': [385], 'V)': [386], 'six': [387], 'use,': [394], 'namely': [395], 'ian,': [400], 'nian5.': [405], 'Current': [406], 'ly,': [407], 'here': [409, 516], 'we': [412, 736], 'nty': [413], 'one': [414], 'registered': [415], 'ional': [417], 'ies': [425, 484], 'Serbia6.': [427], 'These': [428], 'established': [433], 'heir': [435], 'following': [439], 'chronologica': [440], 'order:': [442], 'Rut': [447], 'henian,': [448], 'Roma,': [452], 'Bunje': [453], 'vc': [454], 'i,': [455], 'Bosniak,': [456], 'Bulgarian,': [457], 'Greek,': [458], 'Macedonian,': [459], 'Egyptian,': [460], 'Germa': [462], 'Slovenian,': [464], 'Cze': [465], 'ch,': [466], 'Alba': [467], 'Askhali,': [469], 'Jewish,': [470], 'la': [472], 'ly': [474], 'Montene': [475], 'grin.In': [476], 'this': [477, 528], 'paper': [478, 704, 711, 735], 'I': [479, 541], 'explore': [480], 'opport': [482], 'unit': [483], 'trans-et': [486, 508], 'cooperation': [488], 'within': [489], 'across': [491, 724], 'through': [493, 740], \"C's.\": [496], 'Since': [497], 'there': [498], 'no': [501], 'earlie': [502], 'scientific': [504], 'studies': [505], 'xamining': [507], 've': [519], 'ry': [520], 'litt': [521, 660], 'le': [522, 661], 'expert': [523], 'ise': [524], 'literature': [525], 'covers': [527], 'topic': [529, 620], 'some': [531], 'aspect': [532], '(Surova': [533], '2006i,': [534], 'Surova': [535, 537, 539], '2006ii,': [536], '2012,': [538], '2014),7': [540], 'decided': [542], 'do': [544], 'exploratory': [545, 554, 647], 'research.': [546], 'According': [547], 'o': [549, 596, 613, 686, 693], 'Mc': [550], 'Nabb': [551], '(2015:': [552], '96),': [553], 'researc': [555], 'h': [556, 666], 'onducte': [560], 'with': [562, 622], 'objective': [564], 'carrying': [566], 'out': [567], 'preparatory': [569], 'exa': [570], 'minat': [571], 'issues': [574, 618], 'order': [576], 'ga': [578], 'insight': [580], 'ideas,': [583], 'gat': [586], 'information': [588, 656], 'imme': [590], 'diate': [591], 'pplicat': [593], 'administrat': [599], 'proble': [601], 'm.': [602], 'rea': [604], 'sons': [605], 'conduct': [607], 'explorat': [608, 674], 'ory': [609, 675], 'research': [610, 648], 'invest': [614], 'igat': [615], 'purpose': [624], 'deve': [626], 'loping': [627], 'notions': [628], 'ideas': [630], 'about': [631], 'underlying': [632], 'nature': [633], 'inve': [635], 'stigat': [636], 'phe': [638], 'nomena': [639], '.': [640], 'ma': [642], 'object': [644], 'obta': [651], 'much': [655], 'as': [657, 680], 'possible,': [658], 'ime': [663], 'wit': [665, 721], 'minima': [667], 'expendit': [669], 'ure': [670, 743], 'money.': [672], 'Therefore,': [673], 'search': [677], 'cannot': [678], 'an': [681, 745], '': [682], 'in-depth': [683], 'look': [684], 'int': [685], 'all': [687], 'fact': [689], 'ors': [690], 'polit': [695], 'ical': [696], 'phenome': [697], 'non': [698], '(Mc': [699], 'Nabb,': [700], '2015:': [701], '96).': [702], 'This': [703], 'base': [706], 'conference': [710], 'prepared': [712], 'conferenc': [715], \"'Trans-ethnic\": [717], 'Coa': [718], 'lit': [719], 'ion-building': [720], 'hin': [722], \"States'\": [725], 'organised': [726], 'Uppsala': [728], 'January': [730], '2015.': [731], 'Data': [732], 'gathe': [738], 'red': [739], 'literat': [742], 'review,': [744], 'intervie': [746], 'w': [747], 'case': [750], 'udy.': [752], '…': [753]}, 'cited_by_api_url': 'https://api.openalex.org/works?filter=cites:W2992600065', 'counts_by_year': [{'year': 2018, 'cited_by_count': 1}], 'updated_date': '2022-09-08T20:55:21.660078', 'created_date': '2019-12-13'}], 'group_by': []}\n",
      "{'meta': {'count': 1, 'db_response_time_ms': 15, 'page': None, 'per_page': 25, 'next_cursor': None}, 'results': [], 'group_by': []}\n"
     ]
    }
   ],
   "source": [
    "for work in random_work:\n",
    "    print(work)"
   ],
   "metadata": {
    "collapsed": false
   }
  },
  {
   "cell_type": "code",
   "execution_count": 8,
   "outputs": [],
   "source": [
    "inv_abs = random_work['abstract_inverted_index']"
   ],
   "metadata": {
    "collapsed": false
   }
  },
  {
   "cell_type": "code",
   "execution_count": 94,
   "outputs": [],
   "source": [
    "def get_abs(abstract_inverted_index):\n",
    "    \"\"\"\n",
    "\n",
    "    :param abstract_inverted_index:\n",
    "    :return: the abstract as a string\n",
    "    \"\"\"\n",
    "    dic_full_text = {}\n",
    "    full_text = \"\"\n",
    "    max_index = -1\n",
    "    for word, index in abstract_inverted_index.items():\n",
    "        for ind in index:\n",
    "            if ind > max_index:\n",
    "                max_index = ind\n",
    "            dic_full_text[ind] = word\n",
    "\n",
    "    for i in range(max_index+1):\n",
    "        full_text = full_text + \" \" + dic_full_text[i]\n",
    "    return full_text.strip()\n"
   ],
   "metadata": {
    "collapsed": false
   }
  },
  {
   "cell_type": "code",
   "execution_count": 24,
   "outputs": [],
   "source": [
    "df = pd.read_pickle(\"../data/dataframes/SDG/annotated_df.pkl\")"
   ],
   "metadata": {
    "collapsed": false
   }
  },
  {
   "cell_type": "code",
   "execution_count": 25,
   "outputs": [
    {
     "data": {
      "text/plain": "        PT                                                 AU  \\\n264661   J  De Giglio, M; Greggio, N; Goffo, F; Merloni, N...   \n292607   J  Connolly, RM; Fairclough, DV; Jinks, EL; Ditri...   \n155410   J  Rahmati, O; Falah, F; Dayal, KS; Deo, RC; Moha...   \n1012930  J                Ganguly, KK; Nahar, N; Hossain, BMM   \n928733   C  Nicolae, AA; Negru, C; Pop, F; Mocanu, M; Cris...   \n...     ..                                                ...   \n522667   J                   Zhu, Q; Gao, XC; Xu, YP; Tian, Y   \n319852   J  Hernandez, E; Cuevas, E; Pinto-Pacheco, S; Ort...   \n787675   C                          Luo, N; Chen, M; Chen, YR   \n69754    J            Montes, R; Sand-Zantman, W; Valletti, T   \n595537   J  Wang, Y; Ali, MA; Bilal, M; Qiu, ZF; Ke, S; Al...   \n\n                                                        TI  \\\n264661   Comparison of Pixel- and Object-Based Classifi...   \n292607   Improved Accuracy for Automated Counting of a ...   \n155410   Machine learning approaches for spatial modeli...   \n1012930  A machine learning-based prediction and analys...   \n928733   Hybrid Algorithm for Workflow Scheduling in Cl...   \n...                                                    ...   \n522667   Merging multi-source precipitation products or...   \n319852   You Can Bend Me but Can't Break Me: Vegetation...   \n787675    Progress and Prospect of Personal Carbon Trading   \n69754    The Value of Personal Information in Online Ma...   \n595537   Identification of Aerosol Pollution Hotspots i...   \n\n                                                        SO  \\\n264661                                      REMOTE SENSING   \n292607                         FRONTIERS IN MARINE SCIENCE   \n155410                    SCIENCE OF THE TOTAL ENVIRONMENT   \n1012930   INTERNATIONAL JOURNAL OF DISASTER RISK REDUCTION   \n928733   2014 17TH INTERNATIONAL CONFERENCE ON NETWORK-...   \n...                                                    ...   \n522667   HYDROLOGICAL SCIENCES JOURNAL-JOURNAL DES SCIE...   \n319852              FRONTIERS IN FORESTS AND GLOBAL CHANGE   \n787675   2016 INTERNATIONAL CONFERENCE ON ENVIRONMENT, ...   \n69754                                   MANAGEMENT SCIENCE   \n595537                                      REMOTE SENSING   \n\n                                                        DE  \\\n264661   vegetation mapping; dunes; unmanned aerial sys...   \n292607   automated fish identification; automated marin...   \n155410   Drought; Spatial analysis; artificial intellig...   \n1012930        Regression; Flood damage; Parametric method   \n928733   Workflow Scheduling; Cloud Computing; Cyberinf...   \n...                                                    ...   \n522667   satellite precipitation; merging method; hydro...   \n319852   urban wetlands; hurricanes; plant functional t...   \n787675   Personal carbon trading; Research status; Priv...   \n69754    price targeting; privacy; consumer data; big d...   \n595537          aerosol; AERONET; MODIS; MAIAC; AOD; trend   \n\n                                                        AB  \\\n264661   Coastal dunes provide the hinterland with natu...   \n292607   The ongoing need to sustainably manage fishery...   \n155410   A quantitative understanding of the hydro-envi...   \n1012930  Floods are one of the most frequently occurrin...   \n928733   Minimizing the application running cost become...   \n...                                                    ...   \n522667   Satellite and reanalysis precipitation product...   \n319852   Tropical urban coastal wetland regeneration is...   \n787675   With the improvement of living standards, the ...   \n69754    We investigate the effects of price discrimina...   \n595537   Aerosol optical depth (AOD) is an important at...   \n\n                                                        C1  \\\n264661   [De Giglio, Michaela; Goffo, Floriano; Barbare...   \n292607   [Connolly, Rod M.; Jinks, Eric L.; Ditria, Ell...   \n155410   [Rahmati, Omid] Ton Duc Thang Univ, Geog Infor...   \n1012930  [Ganguly, Kishan Kumar; Nahar, Nadia; Hossain,...   \n928733   [Nicolae, Andrei Alexandru; Negru, Catalin; Po...   \n...                                                    ...   \n522667   [Zhu, Qian] Southeast Univ, Sch Civil Engn, Ji...   \n319852   [Hernandez, Elix; Pinto-Pacheco, Solimar; Orti...   \n787675   [Luo, Nan; Chen, Ming] Zhejiang Univ Technol, ...   \n69754    [Montes, Rodrigo] Compass Lexecon, Washington,...   \n595537   [Wang, Yu; Ali, Md Arfan; Bilal, Muhammad; Qiu...   \n\n                                                        EM  TC    PY  ...  \\\n264661   michaela.degiglio@unibo.it; nicolas.greggio2@u...   9  2019  ...   \n292607                          r.connolly@griffith.edu.au   0  2021  ...   \n155410   omid.rahmati@tdtu.edu.vn; ravinesh.deo@usq.edu...  35  2020  ...   \n1012930  kkganguly@iit.du.ac.bd; nadia@iit.du.ac.bd; ma...  14  2019  ...   \n928733   andrei.nicolae@hpc.pub.ro; catalin.negru@cs.pu...   2  2014  ...   \n...                                                    ...  ..   ...  ...   \n522667            zhuqian@seu.edu.cn; yuepingxu@zju.edu.cn  13  2019  ...   \n319852                              elix.hernandez@upr.edu   0  2021  ...   \n787675                                                 NaN   0  2016  ...   \n69754    rmontes@compasslexecon.com; wsandz@tse-fr.eu; ...  31  2019  ...   \n595537   yuwang@nuist.edu.cn; md.arfanali@nuist.edu.cn;...   1  2021  ...   \n\n        computing_infrastructure blockchain robotics additive_manufacturing  \\\n264661                     False      False     True                  False   \n292607                     False      False    False                  False   \n155410                     False      False    False                  False   \n1012930                    False      False    False                  False   \n928733                      True      False    False                  False   \n...                          ...        ...      ...                    ...   \n522667                     False      False    False                  False   \n319852                     False      False     True                  False   \n787675                     False      False    False                  False   \n69754                      False      False    False                  False   \n595537                     False      False     True                  False   \n\n        Society Economy Environment     EU   DST           ANN  \n264661    False   False        True   True  True          tool  \n292607    False   False        True  False  True          tool  \n155410     True   False        True  False  True          tool  \n1012930    True    True       False  False  True          tool  \n928733     True   False       False   True  True  optimization  \n...         ...     ...         ...    ...   ...           ...  \n522667    False   False        True  False  True             T  \n319852     True   False        True  False  True             T  \n787675    False    True       False  False  True             A  \n69754      True   False       False   True  True           AAA  \n595537    False   False        True   True  True             T  \n\n[159 rows x 43 columns]",
      "text/html": "<div>\n<style scoped>\n    .dataframe tbody tr th:only-of-type {\n        vertical-align: middle;\n    }\n\n    .dataframe tbody tr th {\n        vertical-align: top;\n    }\n\n    .dataframe thead th {\n        text-align: right;\n    }\n</style>\n<table border=\"1\" class=\"dataframe\">\n  <thead>\n    <tr style=\"text-align: right;\">\n      <th></th>\n      <th>PT</th>\n      <th>AU</th>\n      <th>TI</th>\n      <th>SO</th>\n      <th>DE</th>\n      <th>AB</th>\n      <th>C1</th>\n      <th>EM</th>\n      <th>TC</th>\n      <th>PY</th>\n      <th>...</th>\n      <th>computing_infrastructure</th>\n      <th>blockchain</th>\n      <th>robotics</th>\n      <th>additive_manufacturing</th>\n      <th>Society</th>\n      <th>Economy</th>\n      <th>Environment</th>\n      <th>EU</th>\n      <th>DST</th>\n      <th>ANN</th>\n    </tr>\n  </thead>\n  <tbody>\n    <tr>\n      <th>264661</th>\n      <td>J</td>\n      <td>De Giglio, M; Greggio, N; Goffo, F; Merloni, N...</td>\n      <td>Comparison of Pixel- and Object-Based Classifi...</td>\n      <td>REMOTE SENSING</td>\n      <td>vegetation mapping; dunes; unmanned aerial sys...</td>\n      <td>Coastal dunes provide the hinterland with natu...</td>\n      <td>[De Giglio, Michaela; Goffo, Floriano; Barbare...</td>\n      <td>michaela.degiglio@unibo.it; nicolas.greggio2@u...</td>\n      <td>9</td>\n      <td>2019</td>\n      <td>...</td>\n      <td>False</td>\n      <td>False</td>\n      <td>True</td>\n      <td>False</td>\n      <td>False</td>\n      <td>False</td>\n      <td>True</td>\n      <td>True</td>\n      <td>True</td>\n      <td>tool</td>\n    </tr>\n    <tr>\n      <th>292607</th>\n      <td>J</td>\n      <td>Connolly, RM; Fairclough, DV; Jinks, EL; Ditri...</td>\n      <td>Improved Accuracy for Automated Counting of a ...</td>\n      <td>FRONTIERS IN MARINE SCIENCE</td>\n      <td>automated fish identification; automated marin...</td>\n      <td>The ongoing need to sustainably manage fishery...</td>\n      <td>[Connolly, Rod M.; Jinks, Eric L.; Ditria, Ell...</td>\n      <td>r.connolly@griffith.edu.au</td>\n      <td>0</td>\n      <td>2021</td>\n      <td>...</td>\n      <td>False</td>\n      <td>False</td>\n      <td>False</td>\n      <td>False</td>\n      <td>False</td>\n      <td>False</td>\n      <td>True</td>\n      <td>False</td>\n      <td>True</td>\n      <td>tool</td>\n    </tr>\n    <tr>\n      <th>155410</th>\n      <td>J</td>\n      <td>Rahmati, O; Falah, F; Dayal, KS; Deo, RC; Moha...</td>\n      <td>Machine learning approaches for spatial modeli...</td>\n      <td>SCIENCE OF THE TOTAL ENVIRONMENT</td>\n      <td>Drought; Spatial analysis; artificial intellig...</td>\n      <td>A quantitative understanding of the hydro-envi...</td>\n      <td>[Rahmati, Omid] Ton Duc Thang Univ, Geog Infor...</td>\n      <td>omid.rahmati@tdtu.edu.vn; ravinesh.deo@usq.edu...</td>\n      <td>35</td>\n      <td>2020</td>\n      <td>...</td>\n      <td>False</td>\n      <td>False</td>\n      <td>False</td>\n      <td>False</td>\n      <td>True</td>\n      <td>False</td>\n      <td>True</td>\n      <td>False</td>\n      <td>True</td>\n      <td>tool</td>\n    </tr>\n    <tr>\n      <th>1012930</th>\n      <td>J</td>\n      <td>Ganguly, KK; Nahar, N; Hossain, BMM</td>\n      <td>A machine learning-based prediction and analys...</td>\n      <td>INTERNATIONAL JOURNAL OF DISASTER RISK REDUCTION</td>\n      <td>Regression; Flood damage; Parametric method</td>\n      <td>Floods are one of the most frequently occurrin...</td>\n      <td>[Ganguly, Kishan Kumar; Nahar, Nadia; Hossain,...</td>\n      <td>kkganguly@iit.du.ac.bd; nadia@iit.du.ac.bd; ma...</td>\n      <td>14</td>\n      <td>2019</td>\n      <td>...</td>\n      <td>False</td>\n      <td>False</td>\n      <td>False</td>\n      <td>False</td>\n      <td>True</td>\n      <td>True</td>\n      <td>False</td>\n      <td>False</td>\n      <td>True</td>\n      <td>tool</td>\n    </tr>\n    <tr>\n      <th>928733</th>\n      <td>C</td>\n      <td>Nicolae, AA; Negru, C; Pop, F; Mocanu, M; Cris...</td>\n      <td>Hybrid Algorithm for Workflow Scheduling in Cl...</td>\n      <td>2014 17TH INTERNATIONAL CONFERENCE ON NETWORK-...</td>\n      <td>Workflow Scheduling; Cloud Computing; Cyberinf...</td>\n      <td>Minimizing the application running cost become...</td>\n      <td>[Nicolae, Andrei Alexandru; Negru, Catalin; Po...</td>\n      <td>andrei.nicolae@hpc.pub.ro; catalin.negru@cs.pu...</td>\n      <td>2</td>\n      <td>2014</td>\n      <td>...</td>\n      <td>True</td>\n      <td>False</td>\n      <td>False</td>\n      <td>False</td>\n      <td>True</td>\n      <td>False</td>\n      <td>False</td>\n      <td>True</td>\n      <td>True</td>\n      <td>optimization</td>\n    </tr>\n    <tr>\n      <th>...</th>\n      <td>...</td>\n      <td>...</td>\n      <td>...</td>\n      <td>...</td>\n      <td>...</td>\n      <td>...</td>\n      <td>...</td>\n      <td>...</td>\n      <td>...</td>\n      <td>...</td>\n      <td>...</td>\n      <td>...</td>\n      <td>...</td>\n      <td>...</td>\n      <td>...</td>\n      <td>...</td>\n      <td>...</td>\n      <td>...</td>\n      <td>...</td>\n      <td>...</td>\n      <td>...</td>\n    </tr>\n    <tr>\n      <th>522667</th>\n      <td>J</td>\n      <td>Zhu, Q; Gao, XC; Xu, YP; Tian, Y</td>\n      <td>Merging multi-source precipitation products or...</td>\n      <td>HYDROLOGICAL SCIENCES JOURNAL-JOURNAL DES SCIE...</td>\n      <td>satellite precipitation; merging method; hydro...</td>\n      <td>Satellite and reanalysis precipitation product...</td>\n      <td>[Zhu, Qian] Southeast Univ, Sch Civil Engn, Ji...</td>\n      <td>zhuqian@seu.edu.cn; yuepingxu@zju.edu.cn</td>\n      <td>13</td>\n      <td>2019</td>\n      <td>...</td>\n      <td>False</td>\n      <td>False</td>\n      <td>False</td>\n      <td>False</td>\n      <td>False</td>\n      <td>False</td>\n      <td>True</td>\n      <td>False</td>\n      <td>True</td>\n      <td>T</td>\n    </tr>\n    <tr>\n      <th>319852</th>\n      <td>J</td>\n      <td>Hernandez, E; Cuevas, E; Pinto-Pacheco, S; Ort...</td>\n      <td>You Can Bend Me but Can't Break Me: Vegetation...</td>\n      <td>FRONTIERS IN FORESTS AND GLOBAL CHANGE</td>\n      <td>urban wetlands; hurricanes; plant functional t...</td>\n      <td>Tropical urban coastal wetland regeneration is...</td>\n      <td>[Hernandez, Elix; Pinto-Pacheco, Solimar; Orti...</td>\n      <td>elix.hernandez@upr.edu</td>\n      <td>0</td>\n      <td>2021</td>\n      <td>...</td>\n      <td>False</td>\n      <td>False</td>\n      <td>True</td>\n      <td>False</td>\n      <td>True</td>\n      <td>False</td>\n      <td>True</td>\n      <td>False</td>\n      <td>True</td>\n      <td>T</td>\n    </tr>\n    <tr>\n      <th>787675</th>\n      <td>C</td>\n      <td>Luo, N; Chen, M; Chen, YR</td>\n      <td>Progress and Prospect of Personal Carbon Trading</td>\n      <td>2016 INTERNATIONAL CONFERENCE ON ENVIRONMENT, ...</td>\n      <td>Personal carbon trading; Research status; Priv...</td>\n      <td>With the improvement of living standards, the ...</td>\n      <td>[Luo, Nan; Chen, Ming] Zhejiang Univ Technol, ...</td>\n      <td>NaN</td>\n      <td>0</td>\n      <td>2016</td>\n      <td>...</td>\n      <td>False</td>\n      <td>False</td>\n      <td>False</td>\n      <td>False</td>\n      <td>False</td>\n      <td>True</td>\n      <td>False</td>\n      <td>False</td>\n      <td>True</td>\n      <td>A</td>\n    </tr>\n    <tr>\n      <th>69754</th>\n      <td>J</td>\n      <td>Montes, R; Sand-Zantman, W; Valletti, T</td>\n      <td>The Value of Personal Information in Online Ma...</td>\n      <td>MANAGEMENT SCIENCE</td>\n      <td>price targeting; privacy; consumer data; big d...</td>\n      <td>We investigate the effects of price discrimina...</td>\n      <td>[Montes, Rodrigo] Compass Lexecon, Washington,...</td>\n      <td>rmontes@compasslexecon.com; wsandz@tse-fr.eu; ...</td>\n      <td>31</td>\n      <td>2019</td>\n      <td>...</td>\n      <td>False</td>\n      <td>False</td>\n      <td>False</td>\n      <td>False</td>\n      <td>True</td>\n      <td>False</td>\n      <td>False</td>\n      <td>True</td>\n      <td>True</td>\n      <td>AAA</td>\n    </tr>\n    <tr>\n      <th>595537</th>\n      <td>J</td>\n      <td>Wang, Y; Ali, MA; Bilal, M; Qiu, ZF; Ke, S; Al...</td>\n      <td>Identification of Aerosol Pollution Hotspots i...</td>\n      <td>REMOTE SENSING</td>\n      <td>aerosol; AERONET; MODIS; MAIAC; AOD; trend</td>\n      <td>Aerosol optical depth (AOD) is an important at...</td>\n      <td>[Wang, Yu; Ali, Md Arfan; Bilal, Muhammad; Qiu...</td>\n      <td>yuwang@nuist.edu.cn; md.arfanali@nuist.edu.cn;...</td>\n      <td>1</td>\n      <td>2021</td>\n      <td>...</td>\n      <td>False</td>\n      <td>False</td>\n      <td>True</td>\n      <td>False</td>\n      <td>False</td>\n      <td>False</td>\n      <td>True</td>\n      <td>True</td>\n      <td>True</td>\n      <td>T</td>\n    </tr>\n  </tbody>\n</table>\n<p>159 rows × 43 columns</p>\n</div>"
     },
     "execution_count": 25,
     "metadata": {},
     "output_type": "execute_result"
    }
   ],
   "source": [
    "df"
   ],
   "metadata": {
    "collapsed": false
   }
  },
  {
   "cell_type": "code",
   "execution_count": 29,
   "outputs": [
    {
     "data": {
      "text/plain": "'The Value of Personal Information in Online Markets with Endogenous Privacy'"
     },
     "execution_count": 29,
     "metadata": {},
     "output_type": "execute_result"
    }
   ],
   "source": [
    "random_work_wos = df.sample()\n",
    "random_work_wos_title = random_work_wos.TI.iloc[0]\n",
    "random_work_wos_title"
   ],
   "metadata": {
    "collapsed": false
   }
  },
  {
   "cell_type": "code",
   "execution_count": 82,
   "outputs": [],
   "source": [
    "import csv\n",
    "\n",
    "test_path = '../data/raw/raw_dst/AI/1.TXT'\n",
    "test_ai = pd.read_csv(test_path, sep='\\t', encoding='utf-8',\n",
    "                 index_col=False, on_bad_lines=\"skip\",\n",
    "                 quoting=csv.QUOTE_NONE)"
   ],
   "metadata": {
    "collapsed": false
   }
  },
  {
   "cell_type": "code",
   "execution_count": 83,
   "outputs": [
    {
     "data": {
      "text/plain": "    PT                                      AU   BA  \\\n0    C               Yang, YM; Sun, NQ; Xu, HK  NaN   \n1    C                        Niu, X; Zhao, XX  NaN   \n2    C                        Gong, YS; Guo, W  NaN   \n3    J                Reddy, DYA; Pratihar, DK  NaN   \n4    C                       Zhang, XY; Liu, H  NaN   \n..  ..                                     ...  ...   \n495  C                 Chickerur, S; Kumar, MA  NaN   \n496  C              Chatterjee, N; Bhardwaj, A  NaN   \n497  J  Kareem, EIA; Alsalihy, WAHA; Jantan, A  NaN   \n498  J     Zhao, WG; Wang, LY; Hu, CJ; Hou, JM  NaN   \n499  C    Luknarova, D; Medveeky, M; Balogh, T  NaN   \n\n                               BE    GP  \\\n0          Wu, JH; Zhao, M; Wu, B   NaN   \n1                          Guo, H   NaN   \n2                             NaN  IEEE   \n3                             NaN   NaN   \n4                Zhang, Y; Tan, H   NaN   \n..                            ...   ...   \n495        Das, VV; Vijaykumar, R   NaN   \n496         Filipe, J; Dietz, JLG   NaN   \n497                           NaN   NaN   \n498                           NaN   NaN   \n499  Vrba, K; Koton, J; Krajsa, O   NaN   \n\n                                                    AF   BF  CA  \\\n0              Yang, Yongmei; Sun, Naiquan; Xu, Hongke  NaN NaN   \n1                              Niu, Xin; Zhao, Xiaoxia  NaN NaN   \n2                                Gong Yi-shan; Guo Wei  NaN NaN   \n3       Reddy, Dhanunjaya Y. A.; Pratihar, Dilip Kumar  NaN NaN   \n4                              Zhang, Xiaoyu; Liu, Hua  NaN NaN   \n..                                                 ...  ...  ..   \n495           Chickerur, Satyadhyan; Kumar, M. Aswatha  NaN NaN   \n496             Chatterjee, Niladri; Bhardwaj, Avikant  NaN NaN   \n497  Kareem, Emad I. Abdul; Alsalihy, Wafaa A. H. A...  NaN NaN   \n498  Zhao, Weiguo; Wang, Liying; Hu, Chengjun; Hou,...  NaN NaN   \n499  Luknarova, Denisa; Medveeky, Martin; Balogh, T...  NaN NaN   \n\n                                                    TI  \\\n0    New Method of Diagnosis and New Knowledge Acqu...   \n1    The Study of Fault Diagnosis the High-Voltage ...   \n2    Information Fusion Based on Neural Network Exp...   \n3    Neural network-based expert systems for predic...   \n4    An Application Study of Fault Diagnosis System...   \n..                                                 ...   \n495  A Neural Network Based Solution to Color Image...   \n496  SINGLE DOCUMENT TEXT SUMMARIZATION USING RANDO...   \n497  MULTI-CONNECT ARCHITECTURE (MCA) ASSOCIATIVE M...   \n498  Cascade-Correlation Neural Network for Sensor ...   \n499  Efficiency of Neural Network based QMM Algorithms   \n\n                                                    SO  ...  \\\n0    INTELLIGENT SYSTEM AND APPLIED MATERIAL, PTS 1...  ...   \n1    2012 INTERNATIONAL WORKSHOP ON INFORMATION AND...  ...   \n2    PROCEEDINGS OF 2012 2ND INTERNATIONAL CONFEREN...  ...   \n3    INTERNATIONAL JOURNAL OF ADVANCED MANUFACTURIN...  ...   \n4    2010 THE 3RD INTERNATIONAL CONFERENCE ON COMPU...  ...   \n..                                                 ...  ...   \n495         INFORMATION AND COMMUNICATION TECHNOLOGIES  ...   \n496  KEOD 2010: Proceedings of the International Co...  ...   \n497          INTELLIGENT AUTOMATION AND SOFT COMPUTING  ...   \n498                                     SENSOR LETTERS  ...   \n499  13TH INTERNATIONAL CONFERENCE ON RESEARCH IN T...  ...   \n\n                                                    WC  \\\n0    Computer Science, Artificial Intelligence; Com...   \n1                              Engineering, Mechanical   \n2    Computer Science, Hardware & Architecture; Com...   \n3    Automation & Control Systems; Engineering, Man...   \n4    Computer Science, Artificial Intelligence; Eng...   \n..                                                 ...   \n495  Computer Science, Hardware & Architecture; Com...   \n496  Computer Science, Theory & Methods; Engineerin...   \n497  Automation & Control Systems; Computer Science...   \n498  Chemistry, Analytical; Electrochemistry; Instr...   \n499  Engineering, Electrical & Electronic; Telecomm...   \n\n                                                    WE  \\\n0    Conference Proceedings Citation Index - Scienc...   \n1    Conference Proceedings Citation Index - Scienc...   \n2    Conference Proceedings Citation Index - Scienc...   \n3       Science Citation Index Expanded (SCI-EXPANDED)   \n4    Conference Proceedings Citation Index - Scienc...   \n..                                                 ...   \n495  Conference Proceedings Citation Index - Scienc...   \n496  Conference Proceedings Citation Index - Scienc...   \n497     Science Citation Index Expanded (SCI-EXPANDED)   \n498     Science Citation Index Expanded (SCI-EXPANDED)   \n499  Conference Proceedings Citation Index - Scienc...   \n\n                                                    SC     GA  PM    OA  HC  \\\n0                  Computer Science; Materials Science  BCH15 NaN   NaN NaN   \n1                                          Engineering  BDP99 NaN  gold NaN   \n2                        Computer Science; Engineering  BGX99 NaN   NaN NaN   \n3            Automation & Control Systems; Engineering  774MF NaN   NaN NaN   \n4                        Computer Science; Engineering  BH2BM NaN   NaN NaN   \n..                                                 ...    ...  ..   ...  ..   \n495               Computer Science; Telecommunications  BVA33 NaN   NaN NaN   \n496                      Computer Science; Engineering  BG8XR NaN   NaN NaN   \n497     Automation & Control Systems; Computer Science  009IS NaN   NaN NaN   \n498  Chemistry; Electrochemistry; Instruments & Ins...  903XD NaN   NaN NaN   \n499                    Engineering; Telecommunications  BG9SH NaN   NaN NaN   \n\n     HP          DA                   UT  \n0   NaN  2022-06-19  WOS:000310188600286  \n1   NaN  2022-06-19  WOS:000314346403060  \n2   NaN  2022-06-19  WOS:000324540000170  \n3   NaN  2022-06-19  WOS:000291390000011  \n4   NaN  2022-06-19  WOS:000398766500031  \n..   ..         ...                  ...  \n495 NaN  2022-06-19  WOS:000290893500117  \n496 NaN  2022-06-19  WOS:000392778800019  \n497 NaN  2022-06-19  WOS:000309020100006  \n498 NaN  2022-06-19  WOS:000301155100077  \n499 NaN  2022-06-19  WOS:000393726100034  \n\n[500 rows x 71 columns]",
      "text/html": "<div>\n<style scoped>\n    .dataframe tbody tr th:only-of-type {\n        vertical-align: middle;\n    }\n\n    .dataframe tbody tr th {\n        vertical-align: top;\n    }\n\n    .dataframe thead th {\n        text-align: right;\n    }\n</style>\n<table border=\"1\" class=\"dataframe\">\n  <thead>\n    <tr style=\"text-align: right;\">\n      <th></th>\n      <th>PT</th>\n      <th>AU</th>\n      <th>BA</th>\n      <th>BE</th>\n      <th>GP</th>\n      <th>AF</th>\n      <th>BF</th>\n      <th>CA</th>\n      <th>TI</th>\n      <th>SO</th>\n      <th>...</th>\n      <th>WC</th>\n      <th>WE</th>\n      <th>SC</th>\n      <th>GA</th>\n      <th>PM</th>\n      <th>OA</th>\n      <th>HC</th>\n      <th>HP</th>\n      <th>DA</th>\n      <th>UT</th>\n    </tr>\n  </thead>\n  <tbody>\n    <tr>\n      <th>0</th>\n      <td>C</td>\n      <td>Yang, YM; Sun, NQ; Xu, HK</td>\n      <td>NaN</td>\n      <td>Wu, JH; Zhao, M; Wu, B</td>\n      <td>NaN</td>\n      <td>Yang, Yongmei; Sun, Naiquan; Xu, Hongke</td>\n      <td>NaN</td>\n      <td>NaN</td>\n      <td>New Method of Diagnosis and New Knowledge Acqu...</td>\n      <td>INTELLIGENT SYSTEM AND APPLIED MATERIAL, PTS 1...</td>\n      <td>...</td>\n      <td>Computer Science, Artificial Intelligence; Com...</td>\n      <td>Conference Proceedings Citation Index - Scienc...</td>\n      <td>Computer Science; Materials Science</td>\n      <td>BCH15</td>\n      <td>NaN</td>\n      <td>NaN</td>\n      <td>NaN</td>\n      <td>NaN</td>\n      <td>2022-06-19</td>\n      <td>WOS:000310188600286</td>\n    </tr>\n    <tr>\n      <th>1</th>\n      <td>C</td>\n      <td>Niu, X; Zhao, XX</td>\n      <td>NaN</td>\n      <td>Guo, H</td>\n      <td>NaN</td>\n      <td>Niu, Xin; Zhao, Xiaoxia</td>\n      <td>NaN</td>\n      <td>NaN</td>\n      <td>The Study of Fault Diagnosis the High-Voltage ...</td>\n      <td>2012 INTERNATIONAL WORKSHOP ON INFORMATION AND...</td>\n      <td>...</td>\n      <td>Engineering, Mechanical</td>\n      <td>Conference Proceedings Citation Index - Scienc...</td>\n      <td>Engineering</td>\n      <td>BDP99</td>\n      <td>NaN</td>\n      <td>gold</td>\n      <td>NaN</td>\n      <td>NaN</td>\n      <td>2022-06-19</td>\n      <td>WOS:000314346403060</td>\n    </tr>\n    <tr>\n      <th>2</th>\n      <td>C</td>\n      <td>Gong, YS; Guo, W</td>\n      <td>NaN</td>\n      <td>NaN</td>\n      <td>IEEE</td>\n      <td>Gong Yi-shan; Guo Wei</td>\n      <td>NaN</td>\n      <td>NaN</td>\n      <td>Information Fusion Based on Neural Network Exp...</td>\n      <td>PROCEEDINGS OF 2012 2ND INTERNATIONAL CONFEREN...</td>\n      <td>...</td>\n      <td>Computer Science, Hardware &amp; Architecture; Com...</td>\n      <td>Conference Proceedings Citation Index - Scienc...</td>\n      <td>Computer Science; Engineering</td>\n      <td>BGX99</td>\n      <td>NaN</td>\n      <td>NaN</td>\n      <td>NaN</td>\n      <td>NaN</td>\n      <td>2022-06-19</td>\n      <td>WOS:000324540000170</td>\n    </tr>\n    <tr>\n      <th>3</th>\n      <td>J</td>\n      <td>Reddy, DYA; Pratihar, DK</td>\n      <td>NaN</td>\n      <td>NaN</td>\n      <td>NaN</td>\n      <td>Reddy, Dhanunjaya Y. A.; Pratihar, Dilip Kumar</td>\n      <td>NaN</td>\n      <td>NaN</td>\n      <td>Neural network-based expert systems for predic...</td>\n      <td>INTERNATIONAL JOURNAL OF ADVANCED MANUFACTURIN...</td>\n      <td>...</td>\n      <td>Automation &amp; Control Systems; Engineering, Man...</td>\n      <td>Science Citation Index Expanded (SCI-EXPANDED)</td>\n      <td>Automation &amp; Control Systems; Engineering</td>\n      <td>774MF</td>\n      <td>NaN</td>\n      <td>NaN</td>\n      <td>NaN</td>\n      <td>NaN</td>\n      <td>2022-06-19</td>\n      <td>WOS:000291390000011</td>\n    </tr>\n    <tr>\n      <th>4</th>\n      <td>C</td>\n      <td>Zhang, XY; Liu, H</td>\n      <td>NaN</td>\n      <td>Zhang, Y; Tan, H</td>\n      <td>NaN</td>\n      <td>Zhang, Xiaoyu; Liu, Hua</td>\n      <td>NaN</td>\n      <td>NaN</td>\n      <td>An Application Study of Fault Diagnosis System...</td>\n      <td>2010 THE 3RD INTERNATIONAL CONFERENCE ON COMPU...</td>\n      <td>...</td>\n      <td>Computer Science, Artificial Intelligence; Eng...</td>\n      <td>Conference Proceedings Citation Index - Scienc...</td>\n      <td>Computer Science; Engineering</td>\n      <td>BH2BM</td>\n      <td>NaN</td>\n      <td>NaN</td>\n      <td>NaN</td>\n      <td>NaN</td>\n      <td>2022-06-19</td>\n      <td>WOS:000398766500031</td>\n    </tr>\n    <tr>\n      <th>...</th>\n      <td>...</td>\n      <td>...</td>\n      <td>...</td>\n      <td>...</td>\n      <td>...</td>\n      <td>...</td>\n      <td>...</td>\n      <td>...</td>\n      <td>...</td>\n      <td>...</td>\n      <td>...</td>\n      <td>...</td>\n      <td>...</td>\n      <td>...</td>\n      <td>...</td>\n      <td>...</td>\n      <td>...</td>\n      <td>...</td>\n      <td>...</td>\n      <td>...</td>\n      <td>...</td>\n    </tr>\n    <tr>\n      <th>495</th>\n      <td>C</td>\n      <td>Chickerur, S; Kumar, MA</td>\n      <td>NaN</td>\n      <td>Das, VV; Vijaykumar, R</td>\n      <td>NaN</td>\n      <td>Chickerur, Satyadhyan; Kumar, M. Aswatha</td>\n      <td>NaN</td>\n      <td>NaN</td>\n      <td>A Neural Network Based Solution to Color Image...</td>\n      <td>INFORMATION AND COMMUNICATION TECHNOLOGIES</td>\n      <td>...</td>\n      <td>Computer Science, Hardware &amp; Architecture; Com...</td>\n      <td>Conference Proceedings Citation Index - Scienc...</td>\n      <td>Computer Science; Telecommunications</td>\n      <td>BVA33</td>\n      <td>NaN</td>\n      <td>NaN</td>\n      <td>NaN</td>\n      <td>NaN</td>\n      <td>2022-06-19</td>\n      <td>WOS:000290893500117</td>\n    </tr>\n    <tr>\n      <th>496</th>\n      <td>C</td>\n      <td>Chatterjee, N; Bhardwaj, A</td>\n      <td>NaN</td>\n      <td>Filipe, J; Dietz, JLG</td>\n      <td>NaN</td>\n      <td>Chatterjee, Niladri; Bhardwaj, Avikant</td>\n      <td>NaN</td>\n      <td>NaN</td>\n      <td>SINGLE DOCUMENT TEXT SUMMARIZATION USING RANDO...</td>\n      <td>KEOD 2010: Proceedings of the International Co...</td>\n      <td>...</td>\n      <td>Computer Science, Theory &amp; Methods; Engineerin...</td>\n      <td>Conference Proceedings Citation Index - Scienc...</td>\n      <td>Computer Science; Engineering</td>\n      <td>BG8XR</td>\n      <td>NaN</td>\n      <td>NaN</td>\n      <td>NaN</td>\n      <td>NaN</td>\n      <td>2022-06-19</td>\n      <td>WOS:000392778800019</td>\n    </tr>\n    <tr>\n      <th>497</th>\n      <td>J</td>\n      <td>Kareem, EIA; Alsalihy, WAHA; Jantan, A</td>\n      <td>NaN</td>\n      <td>NaN</td>\n      <td>NaN</td>\n      <td>Kareem, Emad I. Abdul; Alsalihy, Wafaa A. H. A...</td>\n      <td>NaN</td>\n      <td>NaN</td>\n      <td>MULTI-CONNECT ARCHITECTURE (MCA) ASSOCIATIVE M...</td>\n      <td>INTELLIGENT AUTOMATION AND SOFT COMPUTING</td>\n      <td>...</td>\n      <td>Automation &amp; Control Systems; Computer Science...</td>\n      <td>Science Citation Index Expanded (SCI-EXPANDED)</td>\n      <td>Automation &amp; Control Systems; Computer Science</td>\n      <td>009IS</td>\n      <td>NaN</td>\n      <td>NaN</td>\n      <td>NaN</td>\n      <td>NaN</td>\n      <td>2022-06-19</td>\n      <td>WOS:000309020100006</td>\n    </tr>\n    <tr>\n      <th>498</th>\n      <td>J</td>\n      <td>Zhao, WG; Wang, LY; Hu, CJ; Hou, JM</td>\n      <td>NaN</td>\n      <td>NaN</td>\n      <td>NaN</td>\n      <td>Zhao, Weiguo; Wang, Liying; Hu, Chengjun; Hou,...</td>\n      <td>NaN</td>\n      <td>NaN</td>\n      <td>Cascade-Correlation Neural Network for Sensor ...</td>\n      <td>SENSOR LETTERS</td>\n      <td>...</td>\n      <td>Chemistry, Analytical; Electrochemistry; Instr...</td>\n      <td>Science Citation Index Expanded (SCI-EXPANDED)</td>\n      <td>Chemistry; Electrochemistry; Instruments &amp; Ins...</td>\n      <td>903XD</td>\n      <td>NaN</td>\n      <td>NaN</td>\n      <td>NaN</td>\n      <td>NaN</td>\n      <td>2022-06-19</td>\n      <td>WOS:000301155100077</td>\n    </tr>\n    <tr>\n      <th>499</th>\n      <td>C</td>\n      <td>Luknarova, D; Medveeky, M; Balogh, T</td>\n      <td>NaN</td>\n      <td>Vrba, K; Koton, J; Krajsa, O</td>\n      <td>NaN</td>\n      <td>Luknarova, Denisa; Medveeky, Martin; Balogh, T...</td>\n      <td>NaN</td>\n      <td>NaN</td>\n      <td>Efficiency of Neural Network based QMM Algorithms</td>\n      <td>13TH INTERNATIONAL CONFERENCE ON RESEARCH IN T...</td>\n      <td>...</td>\n      <td>Engineering, Electrical &amp; Electronic; Telecomm...</td>\n      <td>Conference Proceedings Citation Index - Scienc...</td>\n      <td>Engineering; Telecommunications</td>\n      <td>BG9SH</td>\n      <td>NaN</td>\n      <td>NaN</td>\n      <td>NaN</td>\n      <td>NaN</td>\n      <td>2022-06-19</td>\n      <td>WOS:000393726100034</td>\n    </tr>\n  </tbody>\n</table>\n<p>500 rows × 71 columns</p>\n</div>"
     },
     "execution_count": 83,
     "metadata": {},
     "output_type": "execute_result"
    }
   ],
   "source": [
    "test_ai"
   ],
   "metadata": {
    "collapsed": false
   }
  },
  {
   "cell_type": "code",
   "execution_count": 33,
   "outputs": [],
   "source": [
    "test_ai.dropna(subset='DL', inplace=True)"
   ],
   "metadata": {
    "collapsed": false
   }
  },
  {
   "cell_type": "code",
   "execution_count": 34,
   "outputs": [],
   "source": [
    "test_alex  = test_ai.sample()\n"
   ],
   "metadata": {
    "collapsed": false
   }
  },
  {
   "cell_type": "code",
   "execution_count": 46,
   "outputs": [
    {
     "data": {
      "text/plain": "PT                                   C\nAU    Jiang, LL; Ni, Y; Tan, LH; He, Y\nBA                                 NaN\nBE                              Wu, YW\nGP                                 NaN\n                    ...               \nOA                                 NaN\nHC                                 NaN\nHP                                 NaN\nDA                          2022-06-19\nUT                 WOS:000292523800106\nName: 32, Length: 71, dtype: object"
     },
     "execution_count": 46,
     "metadata": {},
     "output_type": "execute_result"
    }
   ],
   "source": [
    "test_alex.iloc[0]"
   ],
   "metadata": {
    "collapsed": false
   }
  },
  {
   "cell_type": "code",
   "execution_count": 37,
   "outputs": [],
   "source": [
    "doi = test_alex.DL.iloc[0]"
   ],
   "metadata": {
    "collapsed": false
   }
  },
  {
   "cell_type": "code",
   "execution_count": 38,
   "outputs": [],
   "source": [
    "specific_work = openalex.get_single_work(doi, \"doi\")"
   ],
   "metadata": {
    "collapsed": false
   }
  },
  {
   "cell_type": "code",
   "execution_count": 39,
   "outputs": [
    {
     "data": {
      "text/plain": "{'id': 'https://openalex.org/W2019572521',\n 'doi': 'https://doi.org/10.4028/www.scientific.net/kem.460-461.605',\n 'title': 'Fault Diagnosis Expert System of Automobile Engine Based on Neural Networks',\n 'display_name': 'Fault Diagnosis Expert System of Automobile Engine Based on Neural Networks',\n 'publication_year': 2011,\n 'publication_date': '2011-01-01',\n 'ids': {'openalex': 'https://openalex.org/W2019572521',\n  'doi': 'https://doi.org/10.4028/www.scientific.net/kem.460-461.605',\n  'mag': '2019572521'},\n 'host_venue': {'id': 'https://openalex.org/V75411654',\n  'issn_l': '1013-9826',\n  'issn': ['1662-9809', '1013-9826', '1662-9795'],\n  'display_name': 'Key Engineering Materials',\n  'publisher': 'Trans Tech Publications Ltd',\n  'type': 'publisher',\n  'url': 'https://doi.org/10.4028/www.scientific.net/kem.460-461.605',\n  'is_oa': False,\n  'version': None,\n  'license': None},\n 'type': 'journal-article',\n 'open_access': {'is_oa': False, 'oa_status': 'closed', 'oa_url': None},\n 'authorships': [{'author_position': 'first',\n   'author': {'id': 'https://openalex.org/A2258171167',\n    'display_name': 'Lu Lu Jiang',\n    'orcid': None},\n   'institutions': [{'id': 'https://openalex.org/I4210131756',\n     'display_name': 'Zhejiang Business Technology Institute',\n     'ror': 'https://ror.org/03yh3e798',\n     'country_code': 'CN',\n     'type': 'education'}],\n   'raw_affiliation_string': 'Zhejiang Technology Institute of Economy'},\n  {'author_position': 'middle',\n   'author': {'id': 'https://openalex.org/A2307840038',\n    'display_name': 'Yong Ni',\n    'orcid': None},\n   'institutions': [{'id': 'https://openalex.org/I4210147759',\n     'display_name': 'Zhejiang Institute of Mechanical and Electrical Engineering',\n     'ror': 'https://ror.org/055gyn525',\n     'country_code': 'CN',\n     'type': 'facility'}],\n   'raw_affiliation_string': 'Zhejiang Institute of Mechanical & Electrical Engineering'},\n  {'author_position': 'middle',\n   'author': {'id': 'https://openalex.org/A2484849712',\n    'display_name': 'Li Hong Tang',\n    'orcid': None},\n   'institutions': [{'id': 'https://openalex.org/I4210131756',\n     'display_name': 'Zhejiang Business Technology Institute',\n     'ror': 'https://ror.org/03yh3e798',\n     'country_code': 'CN',\n     'type': 'education'}],\n   'raw_affiliation_string': 'Zhejiang Technology Institute of Economy'},\n  {'author_position': 'last',\n   'author': {'id': 'https://openalex.org/A2656146205',\n    'display_name': 'Yong He',\n    'orcid': 'https://orcid.org/0000-0001-5691-9663'},\n   'institutions': [{'id': 'https://openalex.org/I76130692',\n     'display_name': 'Zhejiang University',\n     'ror': 'https://ror.org/00a2xv884',\n     'country_code': 'CN',\n     'type': 'education'}],\n   'raw_affiliation_string': '(Zhejiang University)'}],\n 'cited_by_count': 3,\n 'biblio': {'volume': None,\n  'issue': None,\n  'first_page': '605',\n  'last_page': '610'},\n 'is_retracted': False,\n 'is_paratext': False,\n 'concepts': [{'id': 'https://openalex.org/C50644808',\n   'wikidata': 'https://www.wikidata.org/wiki/Q192776',\n   'display_name': 'Artificial neural network',\n   'level': 2,\n   'score': '0.7680181'},\n  {'id': 'https://openalex.org/C175551986',\n   'wikidata': 'https://www.wikidata.org/wiki/Q47089',\n   'display_name': 'Fault (geology)',\n   'level': 2,\n   'score': '0.6023663'},\n  {'id': 'https://openalex.org/C58328972',\n   'wikidata': 'https://www.wikidata.org/wiki/Q184609',\n   'display_name': 'Expert system',\n   'level': 2,\n   'score': '0.5860734'},\n  {'id': 'https://openalex.org/C95623464',\n   'wikidata': 'https://www.wikidata.org/wiki/Q1096149',\n   'display_name': 'Classifier (UML)',\n   'level': 2,\n   'score': '0.5600588'},\n  {'id': 'https://openalex.org/C56238396',\n   'wikidata': 'https://www.wikidata.org/wiki/Q4056355',\n   'display_name': 'Automotive engine',\n   'level': 2,\n   'score': '0.45581785'},\n  {'id': 'https://openalex.org/C127413603',\n   'wikidata': 'https://www.wikidata.org/wiki/Q11023',\n   'display_name': 'Engineering',\n   'level': 0,\n   'score': '0.427847'},\n  {'id': 'https://openalex.org/C41008148',\n   'wikidata': 'https://www.wikidata.org/wiki/Q21198',\n   'display_name': 'Computer science',\n   'level': 0,\n   'score': '0.4193816'},\n  {'id': 'https://openalex.org/C79403827',\n   'wikidata': 'https://www.wikidata.org/wiki/Q3988',\n   'display_name': 'Real-time computing',\n   'level': 1,\n   'score': '0.40938058'},\n  {'id': 'https://openalex.org/C124101348',\n   'wikidata': 'https://www.wikidata.org/wiki/Q172491',\n   'display_name': 'Data mining',\n   'level': 1,\n   'score': '0.39963454'},\n  {'id': 'https://openalex.org/C154945302',\n   'wikidata': 'https://www.wikidata.org/wiki/Q11660',\n   'display_name': 'Artificial intelligence',\n   'level': 1,\n   'score': '0.34206527'}],\n 'mesh': [],\n 'alternate_host_venues': [],\n 'referenced_works': ['https://openalex.org/W2009178945',\n  'https://openalex.org/W2113866836',\n  'https://openalex.org/W2114353803',\n  'https://openalex.org/W2124652207',\n  'https://openalex.org/W2129626601',\n  'https://openalex.org/W2154055451',\n  'https://openalex.org/W2156539888'],\n 'related_works': ['https://openalex.org/W1559700590',\n  'https://openalex.org/W2063276000',\n  'https://openalex.org/W2086574243',\n  'https://openalex.org/W2351529538',\n  'https://openalex.org/W2353964094',\n  'https://openalex.org/W2361171451',\n  'https://openalex.org/W2362102102',\n  'https://openalex.org/W2370829348',\n  'https://openalex.org/W2374031937',\n  'https://openalex.org/W2375474455',\n  'https://openalex.org/W2376914874',\n  'https://openalex.org/W2380782043',\n  'https://openalex.org/W2382272855',\n  'https://openalex.org/W2384076793',\n  'https://openalex.org/W2384208381',\n  'https://openalex.org/W2385868448',\n  'https://openalex.org/W2388795543',\n  'https://openalex.org/W2588728427',\n  'https://openalex.org/W2956133731',\n  'https://openalex.org/W3038962226'],\n 'ngrams_url': 'https://api.openalex.org/works/W2019572521/ngrams',\n 'abstract_inverted_index': {'his': [0],\n  'paper': [1],\n  'reports': [2],\n  'a': [3, 26, 52, 78],\n  'practical': [4],\n  'approach': [5],\n  'for': [6, 41, 47, 56],\n  'detecting': [7, 57],\n  'and': [8, 19, 51, 64, 97],\n  'diagnose': [9],\n  'engine': [10, 22, 45, 71],\n  'faults': [11, 58, 95],\n  'in': [12, 77],\n  'real-time': [13, 21, 42, 63],\n  'based': [14, 59],\n  'on': [15, 60],\n  'both': [16, 61],\n  'the': [17, 20, 62, 65, 87, 93, 98],\n  'historical': [18],\n  'operation': [23],\n  'data': [24, 49],\n  'using': [25],\n  'specially': [27],\n  'design': [28],\n  'neural': [29, 53, 69],\n  'networks-based': [30],\n  'fault': [31, 72],\n  'diagnosis': [32, 73, 99],\n  'expert': [33],\n  'system.': [34],\n  'This': [35, 68],\n  'system': [36, 74, 88],\n  'consisted': [37],\n  'of': [38, 80],\n  'multiple': [39],\n  'sensors': [40],\n  'monitoring,': [43],\n  'an': [44],\n  'database': [46],\n  'historic': [48, 66],\n  'comparison,': [50],\n  'network-bases': [54],\n  'classifier': [55],\n  'data.': [67],\n  'network-based': [70],\n  'was': [75, 89, 101],\n  'evaluated': [76],\n  'series': [79],\n  'validation': [81],\n  'tests.': [82],\n  'The': [83],\n  'results': [84],\n  'indicated': [85],\n  'that': [86],\n  'capable': [90],\n  'to': [91],\n  'detect': [92],\n  'predefined': [94],\n  'reliably,': [96],\n  'error': [100],\n  'less': [102],\n  'than': [103],\n  '5%.': [104]},\n 'cited_by_api_url': 'https://api.openalex.org/works?filter=cites:W2019572521',\n 'counts_by_year': [{'year': 2022, 'cited_by_count': 1},\n  {'year': 2017, 'cited_by_count': 1},\n  {'year': 2016, 'cited_by_count': 1}],\n 'updated_date': '2022-07-30T05:43:10.187299',\n 'created_date': '2016-06-24'}"
     },
     "execution_count": 39,
     "metadata": {},
     "output_type": "execute_result"
    }
   ],
   "source": [
    "specific_work"
   ],
   "metadata": {
    "collapsed": false
   }
  },
  {
   "cell_type": "code",
   "execution_count": 51,
   "outputs": [
    {
     "data": {
      "text/plain": "<generator object APICaller.__do_cursor_paging at 0x7f2a889a0c80>"
     },
     "execution_count": 51,
     "metadata": {},
     "output_type": "execute_result"
    }
   ],
   "source": [
    "works_api_url = \"https://api.openalex.org/works?filter=author.id:A1969205032\"\n",
    "pages_of_works = openalex.get_works_by_api_url(works_api_url)\n",
    "\n",
    "for page in pages_of_works:\n",
    "    for work in page['results']:\n",
    "        print(work['display_name'])\n"
   ],
   "metadata": {
    "collapsed": false
   }
  },
  {
   "cell_type": "code",
   "execution_count": 100,
   "outputs": [],
   "source": [
    "import requests\n",
    "random_pub = test_ai.sample().iloc[0].TI\n",
    "q = requests.get(f\"https://api.openalex.org/works?filter=title.search:{random_pub}\")"
   ],
   "metadata": {
    "collapsed": false
   }
  },
  {
   "cell_type": "code",
   "execution_count": 108,
   "outputs": [
    {
     "data": {
      "text/plain": "'Prediction of Flow Stress of Stainless Steel 0Cr13Mn by RBF Neural Network'"
     },
     "execution_count": 108,
     "metadata": {},
     "output_type": "execute_result"
    }
   ],
   "source": [
    "random_pub"
   ],
   "metadata": {
    "collapsed": false
   }
  },
  {
   "cell_type": "code",
   "execution_count": 104,
   "outputs": [
    {
     "data": {
      "text/plain": "[{'id': 'https://openalex.org/W2038786123',\n  'doi': 'https://doi.org/10.4028/www.scientific.net/amr.139-141.264',\n  'title': 'Prediction of Flow Stress of Stainless Steel 0Cr13Mn by RBF Neural Network',\n  'display_name': 'Prediction of Flow Stress of Stainless Steel 0Cr13Mn by RBF Neural Network',\n  'publication_year': 2010,\n  'publication_date': '2010-10-01',\n  'ids': {'openalex': 'https://openalex.org/W2038786123',\n   'doi': 'https://doi.org/10.4028/www.scientific.net/amr.139-141.264',\n   'mag': '2038786123'},\n  'host_venue': {'id': 'https://openalex.org/V67425620',\n   'issn_l': '1022-6680',\n   'issn': ['1662-8985', '1022-6680'],\n   'display_name': 'Advanced Materials Research',\n   'publisher': 'Trans Tech Publications Ltd',\n   'type': 'publisher',\n   'url': 'https://doi.org/10.4028/www.scientific.net/amr.139-141.264',\n   'is_oa': False,\n   'version': None,\n   'license': None},\n  'type': 'journal-article',\n  'open_access': {'is_oa': False, 'oa_status': 'closed', 'oa_url': None},\n  'authorships': [{'author_position': 'first',\n    'author': {'id': 'https://openalex.org/A2243433417',\n     'display_name': 'Bai Lin Fan',\n     'orcid': None},\n    'institutions': [{'id': 'https://openalex.org/I92403157',\n      'display_name': 'University of Science and Technology Beijing',\n      'ror': 'https://ror.org/02egmk993',\n      'country_code': 'CN',\n      'type': 'education'}],\n    'raw_affiliation_string': 'University of Science and Technology Beijing'},\n   {'author_position': 'middle',\n    'author': {'id': 'https://openalex.org/A2257651376',\n     'display_name': 'Ling Qi Meng',\n     'orcid': None},\n    'institutions': [{'id': 'https://openalex.org/I38877650',\n      'display_name': 'Zhengzhou University',\n      'ror': 'https://ror.org/04ypx8c21',\n      'country_code': 'CN',\n      'type': 'education'}],\n    'raw_affiliation_string': '#N##TAB##TAB##TAB##TAB# Zhengzhou University#N##TAB##TAB##TAB#'},\n   {'author_position': 'last',\n    'author': {'id': 'https://openalex.org/A2263281885',\n     'display_name': 'Zhong Fu Li',\n     'orcid': None},\n    'institutions': [{'id': 'https://openalex.org/I92403157',\n      'display_name': 'University of Science and Technology Beijing',\n      'ror': 'https://ror.org/02egmk993',\n      'country_code': 'CN',\n      'type': 'education'}],\n    'raw_affiliation_string': 'University of Science and Technology Beijing'}],\n  'cited_by_count': 0,\n  'biblio': {'volume': None,\n   'issue': None,\n   'first_page': '264',\n   'last_page': '268'},\n  'is_retracted': False,\n  'is_paratext': False,\n  'concepts': [{'id': 'https://openalex.org/C50644808',\n    'wikidata': 'https://www.wikidata.org/wiki/Q192776',\n    'display_name': 'Artificial neural network',\n    'level': 2,\n    'score': '0.73965937'},\n   {'id': 'https://openalex.org/C162611839',\n    'wikidata': 'https://www.wikidata.org/wiki/Q912214',\n    'display_name': 'Flow stress',\n    'level': 3,\n    'score': '0.63805115'},\n   {'id': 'https://openalex.org/C204366326',\n    'wikidata': 'https://www.wikidata.org/wiki/Q3027650',\n    'display_name': 'Deformation (meteorology)',\n    'level': 2,\n    'score': '0.5773504'},\n   {'id': 'https://openalex.org/C21036866',\n    'wikidata': 'https://www.wikidata.org/wiki/Q181767',\n    'display_name': 'Stress (linguistics)',\n    'level': 2,\n    'score': '0.5553568'},\n   {'id': 'https://openalex.org/C192562407',\n    'wikidata': 'https://www.wikidata.org/wiki/Q228736',\n    'display_name': 'Materials science',\n    'level': 0,\n    'score': '0.5366018'},\n   {'id': 'https://openalex.org/C48921125',\n    'wikidata': 'https://www.wikidata.org/wiki/Q10861030',\n    'display_name': 'Linear regression',\n    'level': 2,\n    'score': '0.5208248'},\n   {'id': 'https://openalex.org/C38349280',\n    'wikidata': 'https://www.wikidata.org/wiki/Q1434290',\n    'display_name': 'Flow (mathematics)',\n    'level': 2,\n    'score': '0.5049346'},\n   {'id': 'https://openalex.org/C152877465',\n    'wikidata': 'https://www.wikidata.org/wiki/Q208042',\n    'display_name': 'Regression analysis',\n    'level': 2,\n    'score': '0.50083184'},\n   {'id': 'https://openalex.org/C149342994',\n    'wikidata': 'https://www.wikidata.org/wiki/Q3181055',\n    'display_name': 'Strain rate',\n    'level': 2,\n    'score': '0.4809167'},\n   {'id': 'https://openalex.org/C66938386',\n    'wikidata': 'https://www.wikidata.org/wiki/Q633538',\n    'display_name': 'Structural engineering',\n    'level': 1,\n    'score': '0.32711917'}],\n  'mesh': [],\n  'alternate_host_venues': [],\n  'referenced_works': ['https://openalex.org/W1985466251',\n   'https://openalex.org/W2081768994'],\n  'related_works': ['https://openalex.org/W1988160227',\n   'https://openalex.org/W1988659356',\n   'https://openalex.org/W2004874118',\n   'https://openalex.org/W2008756505',\n   'https://openalex.org/W2028504497',\n   'https://openalex.org/W2031239765',\n   'https://openalex.org/W2070220073',\n   'https://openalex.org/W2085311274',\n   'https://openalex.org/W2095146069',\n   'https://openalex.org/W2351226023',\n   'https://openalex.org/W2356545474',\n   'https://openalex.org/W2357130214',\n   'https://openalex.org/W2358263434',\n   'https://openalex.org/W2362195464',\n   'https://openalex.org/W2368629177',\n   'https://openalex.org/W2370373588',\n   'https://openalex.org/W2370844161',\n   'https://openalex.org/W2383632036',\n   'https://openalex.org/W2385051581',\n   'https://openalex.org/W3080875297'],\n  'ngrams_url': 'https://api.openalex.org/works/W2038786123/ngrams',\n  'abstract_inverted_index': {'The': [0, 18, 32],\n   'flow': [1, 28, 42, 61, 114, 130],\n   'stress': [2, 29, 43, 62, 131],\n   'of': [3, 20, 34, 59, 79, 102, 113, 119, 129, 138, 142],\n   'hot': [4],\n   'deformation': [5],\n   'about': [6],\n   '0Cr13Mn': [7, 73],\n   'stainless': [8, 74],\n   'steel': [9, 75],\n   'was': [10, 55, 86],\n   'experimentally': [11],\n   'studied': [12],\n   'by': [13, 63, 82, 92, 105],\n   'A': [14],\n   'Gleeble1500': [15],\n   'thermo-mechanical': [16],\n   'simulator.': [17],\n   'effects': [19],\n   'deformed': [21, 48],\n   'temperature,': [22, 49],\n   'strain': [23, 26, 50],\n   'rate': [24, 51],\n   'and': [25, 44, 52, 70, 109],\n   'to': [27],\n   'were': [30, 76],\n   'analyzed.': [31],\n   'prediction': [33, 81, 104],\n   'RBF': [35, 64, 83, 106],\n   'neural': [36, 107, 121],\n   'network': [37, 65, 85, 108, 122],\n   'with': [38, 66],\n   'correlation': [39],\n   'between': [40, 68],\n   'the': [41, 45, 60, 80, 89, 93, 103, 116, 136, 140, 143],\n   'chemical': [46],\n   'composition,': [47],\n   'strain,': [53],\n   'etc': [54],\n   'established.': [56],\n   'Simulation': [57],\n   'data': [58, 128],\n   'relationship': [67],\n   'input': [69],\n   'output': [71],\n   'for': [72],\n   'stable.': [77],\n   'Accuracy': [78],\n   'Neural': [84],\n   'higher': [87],\n   'than': [88],\n   'regression': [90, 96, 111],\n   'precision': [91],\n   'multiple': [94],\n   'non-linear': [95],\n   'numerical': [97, 110],\n   'models.': [98],\n   'Through': [99],\n   'a': [100],\n   'combination': [101],\n   'model': [112],\n   'stress,': [115],\n   'developing': [117],\n   'method': [118],\n   'BPF': [120],\n   'on-line': [123],\n   'calculation': [124],\n   'based': [125],\n   'on': [126],\n   'measured': [127],\n   'will': [132],\n   'be': [133],\n   'feasible': [134],\n   'under': [135],\n   'condition': [137],\n   'ensuring': [139],\n   'accuracy': [141],\n   'premise.': [144]},\n  'cited_by_api_url': 'https://api.openalex.org/works?filter=cites:W2038786123',\n  'counts_by_year': [],\n  'updated_date': '2022-08-30T03:42:53.014487',\n  'created_date': '2016-06-24'}]"
     },
     "execution_count": 104,
     "metadata": {},
     "output_type": "execute_result"
    }
   ],
   "source": [
    "res = q.json()['results']\n",
    "res"
   ],
   "metadata": {
    "collapsed": false
   }
  },
  {
   "cell_type": "code",
   "execution_count": 106,
   "outputs": [],
   "source": [
    "inv_as = res[0]['abstract_inverted_index']\n",
    "abs = get_abs(inv_as)"
   ],
   "metadata": {
    "collapsed": false
   }
  },
  {
   "cell_type": "code",
   "execution_count": 107,
   "outputs": [
    {
     "data": {
      "text/plain": "'The flow stress of hot deformation about 0Cr13Mn stainless steel was experimentally studied by A Gleeble1500 thermo-mechanical simulator. The effects of deformed temperature, strain rate and strain to flow stress were analyzed. The prediction of RBF neural network with correlation between the flow stress and the chemical composition, deformed temperature, strain rate and strain, etc was established. Simulation data of the flow stress by RBF network with relationship between input and output for 0Cr13Mn stainless steel were stable. Accuracy of the prediction by RBF Neural network was higher than the regression precision by the multiple non-linear regression numerical models. Through a combination of the prediction by RBF neural network and numerical regression model of flow stress, the developing method of BPF neural network on-line calculation based on measured data of flow stress will be feasible under the condition of ensuring the accuracy of the premise.'"
     },
     "execution_count": 107,
     "metadata": {},
     "output_type": "execute_result"
    }
   ],
   "source": [
    "abs"
   ],
   "metadata": {
    "collapsed": false
   }
  },
  {
   "cell_type": "code",
   "execution_count": null,
   "outputs": [],
   "source": [],
   "metadata": {
    "collapsed": false
   }
  }
 ],
 "metadata": {
  "kernelspec": {
   "display_name": "Python 3",
   "language": "python",
   "name": "python3"
  },
  "language_info": {
   "codemirror_mode": {
    "name": "ipython",
    "version": 2
   },
   "file_extension": ".py",
   "mimetype": "text/x-python",
   "name": "python",
   "nbconvert_exporter": "python",
   "pygments_lexer": "ipython2",
   "version": "2.7.6"
  }
 },
 "nbformat": 4,
 "nbformat_minor": 0
}
